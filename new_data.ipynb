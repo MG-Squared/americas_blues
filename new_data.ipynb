{
 "cells": [
  {
   "cell_type": "code",
   "metadata": {
    "tags": [],
    "cell_id": "00000-4ad6de05-2f9d-42b7-8a2a-16c93e2a72e6",
    "deepnote_to_be_reexecuted": false,
    "source_hash": "bae5820a",
    "execution_start": 1622132720794,
    "execution_millis": 36,
    "deepnote_cell_type": "code"
   },
   "source": "import pandas as pd\nimport numpy as np\n\nimport wrangle as w",
   "execution_count": 1,
   "outputs": []
  },
  {
   "cell_type": "code",
   "source": "# df = pd.read_excel('new_data.xlsx')",
   "metadata": {
    "tags": [],
    "cell_id": "00001-6575ab34-fb6d-46b9-8276-9195598cda6a",
    "deepnote_to_be_reexecuted": false,
    "source_hash": "2bdfa3b5",
    "execution_start": 1622132720831,
    "execution_millis": 0,
    "deepnote_cell_type": "code"
   },
   "outputs": [],
   "execution_count": 2
  },
  {
   "cell_type": "code",
   "source": "",
   "metadata": {
    "tags": [],
    "cell_id": "00002-516825f9-f2fd-4536-bf3b-68fae1d63eb1",
    "deepnote_to_be_reexecuted": false,
    "source_hash": "b623e53d",
    "execution_start": 1622132720831,
    "execution_millis": 1,
    "deepnote_cell_type": "code"
   },
   "outputs": [],
   "execution_count": 2
  },
  {
   "cell_type": "code",
   "source": "# df = df.drop(columns=list(df.columns)[32:])",
   "metadata": {
    "tags": [],
    "cell_id": "00003-601bcf02-7f46-4ad8-9837-d9c2ba139445",
    "deepnote_to_be_reexecuted": false,
    "source_hash": "34926de1",
    "execution_start": 1622132720832,
    "execution_millis": 1,
    "deepnote_cell_type": "code"
   },
   "outputs": [],
   "execution_count": 3
  },
  {
   "cell_type": "code",
   "source": "# df.columns = df.columns.str.lower().str.replace(' ', '_').str.replace('/',\"_\").str.replace('(','').str.replace(')','')",
   "metadata": {
    "tags": [],
    "cell_id": "00003-84d58ba8-0798-4df0-aab7-5f1e5b59d7ca",
    "deepnote_to_be_reexecuted": false,
    "source_hash": "828d9728",
    "execution_start": 1622132720836,
    "execution_millis": 0,
    "deepnote_cell_type": "code"
   },
   "outputs": [],
   "execution_count": 4
  },
  {
   "cell_type": "code",
   "source": "# df.columns",
   "metadata": {
    "tags": [],
    "cell_id": "00005-d83fa2b1-05dc-49e4-9ebc-fb8e986c5673",
    "deepnote_to_be_reexecuted": false,
    "source_hash": "8a2b312e",
    "execution_start": 1622132720864,
    "execution_millis": 0,
    "deepnote_cell_type": "code"
   },
   "outputs": [],
   "execution_count": 5
  },
  {
   "cell_type": "code",
   "source": "# df.isnull().sum()",
   "metadata": {
    "tags": [],
    "cell_id": "00006-f6caf696-d4fb-4c98-9200-172cdb1e0c54",
    "deepnote_to_be_reexecuted": false,
    "source_hash": "a473ab54",
    "execution_start": 1622132720865,
    "execution_millis": 0,
    "deepnote_cell_type": "code"
   },
   "outputs": [],
   "execution_count": 6
  },
  {
   "cell_type": "code",
   "source": "# dropcols=['url_of_image_pls_no_hotlinks', 'uid_temporary', 'name_temporary', 'description_temp', 'url_temp', 'supporting_document_link', 'dispositions_exclusions_internal_use,_not_for_analysis', 'foreknowledge_of_mental_illness?_internal_use,_not_for_analysis']",
   "metadata": {
    "tags": [],
    "cell_id": "00005-b614326f-fcc0-4954-97be-ddd0dc877f06",
    "deepnote_to_be_reexecuted": false,
    "source_hash": "d6969d0b",
    "execution_start": 1622132720865,
    "execution_millis": 337362,
    "deepnote_cell_type": "code"
   },
   "outputs": [],
   "execution_count": 7
  },
  {
   "cell_type": "code",
   "source": "# df.drop(columns=dropcols, inplace=True)",
   "metadata": {
    "tags": [],
    "cell_id": "00007-c2cde24a-1d86-4d94-9851-ecd655f4bfd8",
    "deepnote_to_be_reexecuted": false,
    "source_hash": "fc92ca0c",
    "execution_start": 1622132720866,
    "execution_millis": 0,
    "deepnote_cell_type": "code"
   },
   "outputs": [],
   "execution_count": 8
  },
  {
   "cell_type": "code",
   "source": "# df.head(1)",
   "metadata": {
    "tags": [],
    "cell_id": "00008-806283c6-2fc1-4541-a382-1254fb7d9eaa",
    "deepnote_to_be_reexecuted": false,
    "source_hash": "a5a9c280",
    "execution_start": 1622132720909,
    "execution_millis": 0,
    "deepnote_cell_type": "code"
   },
   "outputs": [],
   "execution_count": 9
  },
  {
   "cell_type": "code",
   "source": "# df.info()",
   "metadata": {
    "tags": [],
    "cell_id": "00011-505d8d4e-e976-474b-aac8-65823d7d1007",
    "deepnote_to_be_reexecuted": false,
    "source_hash": "78d4ffb5",
    "execution_start": 1622132720909,
    "execution_millis": 1,
    "deepnote_cell_type": "code"
   },
   "outputs": [],
   "execution_count": 10
  },
  {
   "cell_type": "code",
   "source": "# df.intended_use_of_force_developing.value_counts()",
   "metadata": {
    "tags": [],
    "cell_id": "00011-fb6a4d74-3552-45af-a4ec-d36a37c85258",
    "deepnote_to_be_reexecuted": false,
    "source_hash": "c48725b7",
    "execution_start": 1622132720910,
    "execution_millis": 0,
    "deepnote_cell_type": "code"
   },
   "outputs": [],
   "execution_count": 11
  },
  {
   "cell_type": "code",
   "source": "",
   "metadata": {
    "cell_id": "00010-6ca5c803-1143-4358-a7c7-ad878a1ffbf9",
    "deepnote_to_be_reexecuted": false,
    "source_hash": "b623e53d",
    "execution_start": 1622132720911,
    "execution_millis": 318078,
    "deepnote_cell_type": "visualization"
   },
   "outputs": [],
   "execution_count": 11
  },
  {
   "cell_type": "code",
   "source": "# df.set_index('unique_id', inplace=True)",
   "metadata": {
    "tags": [],
    "cell_id": "00009-5715f70b-f184-4ceb-9772-b468980806d5",
    "deepnote_to_be_reexecuted": false,
    "source_hash": "cbf303ac",
    "execution_start": 1622132720916,
    "execution_millis": 317711,
    "deepnote_cell_type": "code"
   },
   "outputs": [],
   "execution_count": 12
  },
  {
   "cell_type": "code",
   "source": "# df.isnull().sum()",
   "metadata": {
    "tags": [],
    "cell_id": "00011-c161e82d-4078-4d40-92f2-40ea799a6070",
    "deepnote_to_be_reexecuted": false,
    "source_hash": "a473ab54",
    "execution_start": 1622132720947,
    "execution_millis": 317359,
    "deepnote_cell_type": "code"
   },
   "outputs": [],
   "execution_count": 13
  },
  {
   "cell_type": "code",
   "source": "# df.dropna(inplace=True)",
   "metadata": {
    "tags": [],
    "cell_id": "00012-e20fe068-e8af-46dd-bc10-ef61837b3133",
    "deepnote_to_be_reexecuted": false,
    "source_hash": "738e0b55",
    "execution_start": 1622132720948,
    "execution_millis": 316856,
    "deepnote_cell_type": "code"
   },
   "outputs": [],
   "execution_count": 14
  },
  {
   "cell_type": "code",
   "source": "# df.shape",
   "metadata": {
    "tags": [],
    "cell_id": "00013-a970aee5-e9d2-45ab-bd91-d05c56c463d2",
    "deepnote_to_be_reexecuted": false,
    "source_hash": "709ba71f",
    "execution_start": 1622132720948,
    "execution_millis": 316283,
    "deepnote_cell_type": "code"
   },
   "outputs": [],
   "execution_count": 15
  },
  {
   "cell_type": "code",
   "source": "# df.aggressive_physical_movement.value_counts()",
   "metadata": {
    "tags": [],
    "cell_id": "00014-379aa716-d398-4c0d-b83b-2bc3a275f93d",
    "deepnote_to_be_reexecuted": false,
    "source_hash": "840d5352",
    "execution_start": 1622132720949,
    "execution_millis": 315822,
    "deepnote_cell_type": "code"
   },
   "outputs": [],
   "execution_count": 16
  },
  {
   "cell_type": "code",
   "source": "df = w.wrangle_new_data(cached=True)",
   "metadata": {
    "tags": [],
    "cell_id": "00019-578915eb-2429-4a22-8f35-0f86f21d73d3",
    "deepnote_to_be_reexecuted": false,
    "source_hash": "a2a595ad",
    "execution_start": 1622132720954,
    "execution_millis": 53727,
    "deepnote_cell_type": "code"
   },
   "outputs": [
    {
     "name": "stderr",
     "text": "/work/police_violence/wrangle.py:246: FutureWarning: The default value of regex will change from True to False in a future version. In addition, single character regular expressions will*not* be treated as literal strings when regex=True.\n  df.columns = df.columns.str.lower().str.replace(' ', '_').str.replace('/',\"_\").str.replace('(','').str.replace(')','')\n",
     "output_type": "stream"
    }
   ],
   "execution_count": 17
  },
  {
   "cell_type": "code",
   "source": "df.shape",
   "metadata": {
    "tags": [],
    "cell_id": "00020-5d20018f-df26-42c3-be84-8aba9b774191",
    "deepnote_to_be_reexecuted": false,
    "source_hash": "14f60b8f",
    "execution_start": 1622132774699,
    "execution_millis": 8,
    "deepnote_cell_type": "code"
   },
   "outputs": [
    {
     "output_type": "execute_result",
     "execution_count": 18,
     "data": {
      "text/plain": "(13125, 24)"
     },
     "metadata": {}
    }
   ],
   "execution_count": 18
  },
  {
   "cell_type": "code",
   "source": "df.head(1)",
   "metadata": {
    "tags": [],
    "cell_id": "00021-d737e049-9f4e-4a7d-9f41-308fc5d57c5a",
    "deepnote_to_be_reexecuted": false,
    "source_hash": "460f028f",
    "execution_start": 1622133697631,
    "execution_millis": 7,
    "deepnote_cell_type": "code"
   },
   "outputs": [
    {
     "output_type": "execute_result",
     "execution_count": 53,
     "data": {
      "application/vnd.deepnote.dataframe.v2+json": {
       "row_count": 1,
       "column_count": 24,
       "columns": [
        {
         "name": "unique_id",
         "dtype": "float64",
         "stats": {
          "unique_count": 1,
          "nan_count": 0,
          "min": "14050.0",
          "max": "14050.0",
          "histogram": [
           {
            "bin_start": 14049.5,
            "bin_end": 14049.6,
            "count": 0
           },
           {
            "bin_start": 14049.6,
            "bin_end": 14049.7,
            "count": 0
           },
           {
            "bin_start": 14049.7,
            "bin_end": 14049.8,
            "count": 0
           },
           {
            "bin_start": 14049.8,
            "bin_end": 14049.9,
            "count": 0
           },
           {
            "bin_start": 14049.9,
            "bin_end": 14050,
            "count": 0
           },
           {
            "bin_start": 14050,
            "bin_end": 14050.1,
            "count": 1
           },
           {
            "bin_start": 14050.1,
            "bin_end": 14050.2,
            "count": 0
           },
           {
            "bin_start": 14050.2,
            "bin_end": 14050.3,
            "count": 0
           },
           {
            "bin_start": 14050.3,
            "bin_end": 14050.4,
            "count": 0
           },
           {
            "bin_start": 14050.4,
            "bin_end": 14050.5,
            "count": 0
           }
          ]
         }
        },
        {
         "name": "name",
         "dtype": "object",
         "stats": {
          "unique_count": 1,
          "nan_count": 0,
          "categories": [
           {
            "name": "Robert Ventry",
            "count": 1
           }
          ]
         }
        },
        {
         "name": "age",
         "dtype": "float64",
         "stats": {
          "unique_count": 1,
          "nan_count": 0,
          "min": "20.0",
          "max": "20.0",
          "histogram": [
           {
            "bin_start": 19.5,
            "bin_end": 19.6,
            "count": 0
           },
           {
            "bin_start": 19.6,
            "bin_end": 19.7,
            "count": 0
           },
           {
            "bin_start": 19.7,
            "bin_end": 19.8,
            "count": 0
           },
           {
            "bin_start": 19.8,
            "bin_end": 19.9,
            "count": 0
           },
           {
            "bin_start": 19.9,
            "bin_end": 20,
            "count": 0
           },
           {
            "bin_start": 20,
            "bin_end": 20.1,
            "count": 1
           },
           {
            "bin_start": 20.1,
            "bin_end": 20.2,
            "count": 0
           },
           {
            "bin_start": 20.2,
            "bin_end": 20.3,
            "count": 0
           },
           {
            "bin_start": 20.3,
            "bin_end": 20.4,
            "count": 0
           },
           {
            "bin_start": 20.4,
            "bin_end": 20.5,
            "count": 0
           }
          ]
         }
        },
        {
         "name": "gender",
         "dtype": "object",
         "stats": {
          "unique_count": 1,
          "nan_count": 0,
          "categories": [
           {
            "name": "Male",
            "count": 1
           }
          ]
         }
        },
        {
         "name": "race",
         "dtype": "object",
         "stats": {
          "unique_count": 1,
          "nan_count": 0,
          "categories": [
           {
            "name": "African-American/Black",
            "count": 1
           }
          ]
         }
        },
        {
         "name": "race_with_imputations",
         "dtype": "object",
         "stats": {
          "unique_count": 1,
          "nan_count": 0,
          "categories": [
           {
            "name": "African-American/Black",
            "count": 1
           }
          ]
         }
        },
        {
         "name": "imputation_probability",
         "dtype": "object",
         "stats": {
          "unique_count": 1,
          "nan_count": 0,
          "categories": [
           {
            "name": "Not imputed",
            "count": 1
           }
          ]
         }
        },
        {
         "name": "date_of_injury_resulting_in_death_month_day_year",
         "dtype": "datetime64[ns]",
         "stats": {
          "unique_count": 1,
          "nan_count": 0,
          "min": "2007-02-07 00:00:00",
          "max": "2007-02-07 00:00:00",
          "histogram": null
         }
        },
        {
         "name": "location_of_injury_address",
         "dtype": "object",
         "stats": {
          "unique_count": 1,
          "nan_count": 0,
          "categories": [
           {
            "name": "4131 Camden Ave",
            "count": 1
           }
          ]
         }
        },
        {
         "name": "location_of_death_city",
         "dtype": "object",
         "stats": {
          "unique_count": 1,
          "nan_count": 0,
          "categories": [
           {
            "name": "Omaha",
            "count": 1
           }
          ]
         }
        },
        {
         "name": "state",
         "dtype": "object",
         "stats": {
          "unique_count": 1,
          "nan_count": 0,
          "categories": [
           {
            "name": "NE",
            "count": 1
           }
          ]
         }
        },
        {
         "name": "location_of_death_zip_code",
         "dtype": "float64",
         "stats": {
          "unique_count": 1,
          "nan_count": 0,
          "min": "68111.0",
          "max": "68111.0",
          "histogram": [
           {
            "bin_start": 68110.5,
            "bin_end": 68110.6,
            "count": 0
           },
           {
            "bin_start": 68110.6,
            "bin_end": 68110.7,
            "count": 0
           },
           {
            "bin_start": 68110.7,
            "bin_end": 68110.8,
            "count": 0
           },
           {
            "bin_start": 68110.8,
            "bin_end": 68110.9,
            "count": 0
           },
           {
            "bin_start": 68110.9,
            "bin_end": 68111,
            "count": 0
           },
           {
            "bin_start": 68111,
            "bin_end": 68111.1,
            "count": 1
           },
           {
            "bin_start": 68111.1,
            "bin_end": 68111.2,
            "count": 0
           },
           {
            "bin_start": 68111.2,
            "bin_end": 68111.3,
            "count": 0
           },
           {
            "bin_start": 68111.3,
            "bin_end": 68111.4,
            "count": 0
           },
           {
            "bin_start": 68111.4,
            "bin_end": 68111.5,
            "count": 0
           }
          ]
         }
        },
        {
         "name": "location_of_death_county",
         "dtype": "object",
         "stats": {
          "unique_count": 1,
          "nan_count": 0,
          "categories": [
           {
            "name": "Douglas",
            "count": 1
           }
          ]
         }
        },
        {
         "name": "full_address",
         "dtype": "object",
         "stats": {
          "unique_count": 1,
          "nan_count": 0,
          "categories": [
           {
            "name": "4131 Camden Ave Omaha NE 68111 Douglas",
            "count": 1
           }
          ]
         }
        },
        {
         "name": "latitude",
         "dtype": "float64",
         "stats": {
          "unique_count": 1,
          "nan_count": 0,
          "min": "41.3056314",
          "max": "41.3056314",
          "histogram": [
           {
            "bin_start": 40.8056314,
            "bin_end": 40.905631400000004,
            "count": 0
           },
           {
            "bin_start": 40.905631400000004,
            "bin_end": 41.005631400000006,
            "count": 0
           },
           {
            "bin_start": 41.005631400000006,
            "bin_end": 41.1056314,
            "count": 0
           },
           {
            "bin_start": 41.1056314,
            "bin_end": 41.2056314,
            "count": 0
           },
           {
            "bin_start": 41.2056314,
            "bin_end": 41.3056314,
            "count": 0
           },
           {
            "bin_start": 41.3056314,
            "bin_end": 41.405631400000004,
            "count": 1
           },
           {
            "bin_start": 41.405631400000004,
            "bin_end": 41.505631400000006,
            "count": 0
           },
           {
            "bin_start": 41.505631400000006,
            "bin_end": 41.6056314,
            "count": 0
           },
           {
            "bin_start": 41.6056314,
            "bin_end": 41.7056314,
            "count": 0
           },
           {
            "bin_start": 41.7056314,
            "bin_end": 41.8056314,
            "count": 0
           }
          ]
         }
        },
        {
         "name": "longitude",
         "dtype": "float64",
         "stats": {
          "unique_count": 1,
          "nan_count": 0,
          "min": "-95.9753473",
          "max": "-95.9753473",
          "histogram": [
           {
            "bin_start": -96.4753473,
            "bin_end": -96.3753473,
            "count": 0
           },
           {
            "bin_start": -96.3753473,
            "bin_end": -96.27534729999999,
            "count": 0
           },
           {
            "bin_start": -96.27534729999999,
            "bin_end": -96.1753473,
            "count": 0
           },
           {
            "bin_start": -96.1753473,
            "bin_end": -96.07534729999999,
            "count": 0
           },
           {
            "bin_start": -96.07534729999999,
            "bin_end": -95.9753473,
            "count": 0
           },
           {
            "bin_start": -95.9753473,
            "bin_end": -95.8753473,
            "count": 1
           },
           {
            "bin_start": -95.8753473,
            "bin_end": -95.77534729999999,
            "count": 0
           },
           {
            "bin_start": -95.77534729999999,
            "bin_end": -95.6753473,
            "count": 0
           },
           {
            "bin_start": -95.6753473,
            "bin_end": -95.57534729999999,
            "count": 0
           },
           {
            "bin_start": -95.57534729999999,
            "bin_end": -95.4753473,
            "count": 0
           }
          ]
         }
        },
        {
         "name": "agency_or_agencies_involved",
         "dtype": "object",
         "stats": {
          "unique_count": 1,
          "nan_count": 0,
          "categories": [
           {
            "name": "Omaha Police Department",
            "count": 1
           }
          ]
         }
        },
        {
         "name": "highest_level_of_force",
         "dtype": "object",
         "stats": {
          "unique_count": 1,
          "nan_count": 0,
          "categories": [
           {
            "name": "Gunshot",
            "count": 1
           }
          ]
         }
        },
        {
         "name": "armed_unarmed",
         "dtype": "object",
         "stats": {
          "unique_count": 1,
          "nan_count": 0,
          "categories": [
           {
            "name": "Armed",
            "count": 1
           }
          ]
         }
        },
        {
         "name": "alleged_weapon",
         "dtype": "object",
         "stats": {
          "unique_count": 1,
          "nan_count": 0,
          "categories": [
           {
            "name": "Edged weapon/Knife",
            "count": 1
           }
          ]
         }
        },
        {
         "name": "aggressive_physical_movement",
         "dtype": "object",
         "stats": {
          "unique_count": 1,
          "nan_count": 0,
          "categories": [
           {
            "name": "Brandished weapon",
            "count": 1
           }
          ]
         }
        },
        {
         "name": "fleeing_not_fleeing",
         "dtype": "object",
         "stats": {
          "unique_count": 1,
          "nan_count": 0,
          "categories": [
           {
            "name": "Not fleeing",
            "count": 1
           }
          ]
         }
        },
        {
         "name": "brief_description",
         "dtype": "object",
         "stats": {
          "unique_count": 1,
          "nan_count": 0,
          "categories": [
           {
            "name": "Police called to scene found Ventry lunging with a knife at a woman. Vetnry continued fighting after being shot by Officer Jerry Kassen and tasered by another officer.",
            "count": 1
           }
          ]
         }
        },
        {
         "name": "intended_use_of_force_developing",
         "dtype": "object",
         "stats": {
          "unique_count": 1,
          "nan_count": 0,
          "categories": [
           {
            "name": "Deadly force",
            "count": 1
           }
          ]
         }
        },
        {
         "name": "_deepnote_index_column",
         "dtype": "int64"
        }
       ],
       "rows_top": [
        {
         "unique_id": 14050,
         "name": "Robert Ventry",
         "age": 20,
         "gender": "Male",
         "race": "African-American/Black",
         "race_with_imputations": "African-American/Black",
         "imputation_probability": "Not imputed",
         "date_of_injury_resulting_in_death_month_day_year": "2007-02-07T00:00:00.000000",
         "location_of_injury_address": "4131 Camden Ave",
         "location_of_death_city": "Omaha",
         "state": "NE",
         "location_of_death_zip_code": 68111,
         "location_of_death_county": "Douglas",
         "full_address": "4131 Camden Ave Omaha NE 68111 Douglas",
         "latitude": 41.3056314,
         "longitude": -95.9753473,
         "agency_or_agencies_involved": "Omaha Police Department",
         "highest_level_of_force": "Gunshot",
         "armed_unarmed": "Armed",
         "alleged_weapon": "Edged weapon/Knife",
         "aggressive_physical_movement": "Brandished weapon",
         "fleeing_not_fleeing": "Not fleeing",
         "brief_description": "Police called to scene found Ventry lunging with a knife at a woman. Vetnry continued fighting after being shot by Officer Jerry Kassen and tasered by another officer.",
         "intended_use_of_force_developing": "Deadly force",
         "_deepnote_index_column": 7446
        }
       ],
       "rows_bottom": null
      },
      "text/plain": "      unique_id           name   age gender                    race  \\\n7446    14050.0  Robert Ventry  20.0   Male  African-American/Black   \n\n       race_with_imputations imputation_probability  \\\n7446  African-American/Black            Not imputed   \n\n     date_of_injury_resulting_in_death_month_day_year  \\\n7446                                       2007-02-07   \n\n     location_of_injury_address location_of_death_city  ...   latitude  \\\n7446            4131 Camden Ave                  Omaha  ...  41.305631   \n\n      longitude agency_or_agencies_involved highest_level_of_force  \\\n7446 -95.975347     Omaha Police Department                Gunshot   \n\n      armed_unarmed      alleged_weapon aggressive_physical_movement  \\\n7446          Armed  Edged weapon/Knife            Brandished weapon   \n\n     fleeing_not_fleeing                                  brief_description  \\\n7446         Not fleeing  Police called to scene found Ventry lunging wi...   \n\n     intended_use_of_force_developing  \n7446                     Deadly force  \n\n[1 rows x 24 columns]",
      "text/html": "<div>\n<style scoped>\n    .dataframe tbody tr th:only-of-type {\n        vertical-align: middle;\n    }\n\n    .dataframe tbody tr th {\n        vertical-align: top;\n    }\n\n    .dataframe thead th {\n        text-align: right;\n    }\n</style>\n<table border=\"1\" class=\"dataframe\">\n  <thead>\n    <tr style=\"text-align: right;\">\n      <th></th>\n      <th>unique_id</th>\n      <th>name</th>\n      <th>age</th>\n      <th>gender</th>\n      <th>race</th>\n      <th>race_with_imputations</th>\n      <th>imputation_probability</th>\n      <th>date_of_injury_resulting_in_death_month_day_year</th>\n      <th>location_of_injury_address</th>\n      <th>location_of_death_city</th>\n      <th>...</th>\n      <th>latitude</th>\n      <th>longitude</th>\n      <th>agency_or_agencies_involved</th>\n      <th>highest_level_of_force</th>\n      <th>armed_unarmed</th>\n      <th>alleged_weapon</th>\n      <th>aggressive_physical_movement</th>\n      <th>fleeing_not_fleeing</th>\n      <th>brief_description</th>\n      <th>intended_use_of_force_developing</th>\n    </tr>\n  </thead>\n  <tbody>\n    <tr>\n      <th>7446</th>\n      <td>14050.0</td>\n      <td>Robert Ventry</td>\n      <td>20.0</td>\n      <td>Male</td>\n      <td>African-American/Black</td>\n      <td>African-American/Black</td>\n      <td>Not imputed</td>\n      <td>2007-02-07</td>\n      <td>4131 Camden Ave</td>\n      <td>Omaha</td>\n      <td>...</td>\n      <td>41.305631</td>\n      <td>-95.975347</td>\n      <td>Omaha Police Department</td>\n      <td>Gunshot</td>\n      <td>Armed</td>\n      <td>Edged weapon/Knife</td>\n      <td>Brandished weapon</td>\n      <td>Not fleeing</td>\n      <td>Police called to scene found Ventry lunging wi...</td>\n      <td>Deadly force</td>\n    </tr>\n  </tbody>\n</table>\n<p>1 rows × 24 columns</p>\n</div>"
     },
     "metadata": {}
    }
   ],
   "execution_count": 53
  },
  {
   "cell_type": "code",
   "source": "df.age = df.age.astype('float64')",
   "metadata": {
    "tags": [],
    "cell_id": "00021-3fee5c6c-718f-4fc4-a96a-6e4b6da808a3",
    "deepnote_to_be_reexecuted": false,
    "source_hash": "65ec2f2",
    "execution_start": 1622133645478,
    "execution_millis": 6,
    "deepnote_cell_type": "code"
   },
   "outputs": [],
   "execution_count": 50
  },
  {
   "cell_type": "code",
   "source": "df.loc[28961,'latitude'] = '42.167834'",
   "metadata": {
    "tags": [],
    "cell_id": "00023-9f7e3c05-abdf-46a2-afd3-cd4041396c93",
    "deepnote_to_be_reexecuted": false,
    "source_hash": "100ce5bc",
    "execution_start": 1622133625147,
    "execution_millis": 0,
    "deepnote_cell_type": "code"
   },
   "outputs": [],
   "execution_count": 49
  },
  {
   "cell_type": "code",
   "source": "df.latitude = df.latitude.astype('float64')",
   "metadata": {
    "tags": [],
    "cell_id": "00024-968dd0db-908b-4d72-9083-0d658f981fe1",
    "deepnote_to_be_reexecuted": false,
    "source_hash": "5ba5ab9",
    "execution_start": 1622133765731,
    "execution_millis": 5,
    "deepnote_cell_type": "code"
   },
   "outputs": [],
   "execution_count": 54
  },
  {
   "cell_type": "code",
   "source": "columns = list(df.columns)\nnumcols = []\n\nfor col in columns:\n    numcols = []\n    if df[col].dtype == 'object':\n        numcols.append(col)\nreturn numcols\n",
   "metadata": {
    "tags": [],
    "cell_id": "00024-871fd01b-63c0-45c7-845b-47933f98e13e",
    "deepnote_to_be_reexecuted": false,
    "source_hash": "e799f1d",
    "execution_start": 1622134188072,
    "execution_millis": 18,
    "deepnote_cell_type": "code"
   },
   "outputs": [
    {
     "output_type": "error",
     "ename": "SyntaxError",
     "evalue": "'return' outside function (<ipython-input-60-f1db629b3208>, line 8)",
     "traceback": [
      "\u001b[0;36m  File \u001b[0;32m\"<ipython-input-60-f1db629b3208>\"\u001b[0;36m, line \u001b[0;32m8\u001b[0m\n\u001b[0;31m    return numcols\u001b[0m\n\u001b[0m                  ^\u001b[0m\n\u001b[0;31mSyntaxError\u001b[0m\u001b[0;31m:\u001b[0m 'return' outside function\n"
     ]
    }
   ],
   "execution_count": 60
  },
  {
   "cell_type": "code",
   "source": "type(latitude)",
   "metadata": {
    "tags": [],
    "cell_id": "00025-662d01c7-4dbd-404c-975e-025723dce8f0",
    "deepnote_to_be_reexecuted": false,
    "source_hash": "19bea67b",
    "execution_start": 1622133897442,
    "execution_millis": 12,
    "deepnote_cell_type": "code"
   },
   "outputs": [
    {
     "output_type": "execute_result",
     "execution_count": 57,
     "data": {
      "text/plain": "pandas.core.series.Series"
     },
     "metadata": {}
    }
   ],
   "execution_count": 57
  },
  {
   "cell_type": "code",
   "source": "",
   "metadata": {
    "tags": [],
    "cell_id": "00026-dfba6c7c-db3a-4140-b09f-aa863f1a5a76",
    "deepnote_cell_type": "code"
   },
   "outputs": [],
   "execution_count": null
  },
  {
   "cell_type": "markdown",
   "source": "<a style='text-decoration:none;line-height:16px;display:flex;color:#5B5B62;padding:10px;justify-content:end;' href='https://deepnote.com?utm_source=created-in-deepnote-cell&projectId=258e71fc-cf2b-48c3-8461-70ecd9787aa1' target=\"_blank\">\n<img alt='Created in deepnote.com' style='display:inline;max-height:16px;margin:0px;margin-right:7.5px;' src='data:image/svg+xml;base64,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' > </img>\nCreated in <span style='font-weight:600;margin-left:4px;'>Deepnote</span></a>",
   "metadata": {
    "tags": [],
    "created_in_deepnote_cell": true,
    "deepnote_cell_type": "markdown"
   }
  }
 ],
 "nbformat": 4,
 "nbformat_minor": 2,
 "metadata": {
  "orig_nbformat": 2,
  "deepnote": {
   "is_reactive": false
  },
  "deepnote_notebook_id": "eb117828-9a5a-4bd8-982d-120fe0f488fb",
  "deepnote_execution_queue": []
 }
}