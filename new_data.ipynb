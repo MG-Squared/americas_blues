{
 "cells": [
  {
   "cell_type": "code",
   "metadata": {
    "tags": [],
    "cell_id": "00000-4ad6de05-2f9d-42b7-8a2a-16c93e2a72e6",
    "deepnote_to_be_reexecuted": false,
    "source_hash": "bae5820a",
    "execution_start": 1622143833642,
    "execution_millis": 0,
    "deepnote_cell_type": "code"
   },
   "source": "import pandas as pd\nimport numpy as np\n\nimport wrangle as w",
   "execution_count": 1,
   "outputs": []
  },
  {
   "cell_type": "code",
   "source": "# df = pd.read_excel('new_data.xlsx')",
   "metadata": {
    "tags": [],
    "cell_id": "00001-6575ab34-fb6d-46b9-8276-9195598cda6a",
    "deepnote_to_be_reexecuted": false,
    "source_hash": "2bdfa3b5",
    "execution_start": 1622143833642,
    "execution_millis": 1,
    "deepnote_cell_type": "code"
   },
   "outputs": [],
   "execution_count": 2
  },
  {
   "cell_type": "code",
   "source": "",
   "metadata": {
    "tags": [],
    "cell_id": "00002-516825f9-f2fd-4536-bf3b-68fae1d63eb1",
    "deepnote_to_be_reexecuted": false,
    "source_hash": "b623e53d",
    "execution_start": 1622143833643,
    "execution_millis": 1,
    "deepnote_cell_type": "code"
   },
   "outputs": [],
   "execution_count": 2
  },
  {
   "cell_type": "code",
   "source": "# df = df.drop(columns=list(df.columns)[32:])",
   "metadata": {
    "tags": [],
    "cell_id": "00003-601bcf02-7f46-4ad8-9837-d9c2ba139445",
    "deepnote_to_be_reexecuted": false,
    "source_hash": "34926de1",
    "execution_start": 1622143833644,
    "execution_millis": 0,
    "deepnote_cell_type": "code"
   },
   "outputs": [],
   "execution_count": 3
  },
  {
   "cell_type": "code",
   "source": "# df.columns = df.columns.str.lower().str.replace(' ', '_').str.replace('/',\"_\").str.replace('(','').str.replace(')','')",
   "metadata": {
    "tags": [],
    "cell_id": "00003-84d58ba8-0798-4df0-aab7-5f1e5b59d7ca",
    "deepnote_to_be_reexecuted": false,
    "source_hash": "828d9728",
    "execution_start": 1622143833645,
    "execution_millis": 0,
    "deepnote_cell_type": "code"
   },
   "outputs": [],
   "execution_count": 4
  },
  {
   "cell_type": "code",
   "source": "# df.columns",
   "metadata": {
    "tags": [],
    "cell_id": "00005-d83fa2b1-05dc-49e4-9ebc-fb8e986c5673",
    "deepnote_to_be_reexecuted": false,
    "source_hash": "8a2b312e",
    "execution_start": 1622143833646,
    "execution_millis": 0,
    "deepnote_cell_type": "code"
   },
   "outputs": [],
   "execution_count": 5
  },
  {
   "cell_type": "code",
   "source": "# df.isnull().sum()",
   "metadata": {
    "tags": [],
    "cell_id": "00006-f6caf696-d4fb-4c98-9200-172cdb1e0c54",
    "deepnote_to_be_reexecuted": false,
    "source_hash": "a473ab54",
    "execution_start": 1622143833646,
    "execution_millis": 1,
    "deepnote_cell_type": "code"
   },
   "outputs": [],
   "execution_count": 6
  },
  {
   "cell_type": "code",
   "source": "# dropcols=['url_of_image_pls_no_hotlinks', 'uid_temporary', 'name_temporary', 'description_temp', 'url_temp', 'supporting_document_link', 'dispositions_exclusions_internal_use,_not_for_analysis', 'foreknowledge_of_mental_illness?_internal_use,_not_for_analysis']",
   "metadata": {
    "tags": [],
    "cell_id": "00005-b614326f-fcc0-4954-97be-ddd0dc877f06",
    "deepnote_to_be_reexecuted": false,
    "source_hash": "d6969d0b",
    "execution_start": 1622143833726,
    "execution_millis": 0,
    "deepnote_cell_type": "code"
   },
   "outputs": [],
   "execution_count": 7
  },
  {
   "cell_type": "code",
   "source": "# df.drop(columns=dropcols, inplace=True)",
   "metadata": {
    "tags": [],
    "cell_id": "00007-c2cde24a-1d86-4d94-9851-ecd655f4bfd8",
    "deepnote_to_be_reexecuted": false,
    "source_hash": "fc92ca0c",
    "execution_start": 1622143833727,
    "execution_millis": 1,
    "deepnote_cell_type": "code"
   },
   "outputs": [],
   "execution_count": 8
  },
  {
   "cell_type": "code",
   "source": "# df.head(1)",
   "metadata": {
    "tags": [],
    "cell_id": "00008-806283c6-2fc1-4541-a382-1254fb7d9eaa",
    "deepnote_to_be_reexecuted": false,
    "source_hash": "a5a9c280",
    "execution_start": 1622143833728,
    "execution_millis": 1,
    "deepnote_cell_type": "code"
   },
   "outputs": [],
   "execution_count": 9
  },
  {
   "cell_type": "code",
   "source": "# df.info()",
   "metadata": {
    "tags": [],
    "cell_id": "00011-505d8d4e-e976-474b-aac8-65823d7d1007",
    "deepnote_to_be_reexecuted": false,
    "source_hash": "78d4ffb5",
    "execution_start": 1622143833729,
    "execution_millis": 1,
    "deepnote_cell_type": "code"
   },
   "outputs": [],
   "execution_count": 10
  },
  {
   "cell_type": "code",
   "source": "# df.intended_use_of_force_developing.value_counts()",
   "metadata": {
    "tags": [],
    "cell_id": "00011-fb6a4d74-3552-45af-a4ec-d36a37c85258",
    "deepnote_to_be_reexecuted": false,
    "source_hash": "c48725b7",
    "execution_start": 1622143833730,
    "execution_millis": 1,
    "deepnote_cell_type": "code"
   },
   "outputs": [],
   "execution_count": 11
  },
  {
   "cell_type": "code",
   "source": "",
   "metadata": {
    "cell_id": "00010-6ca5c803-1143-4358-a7c7-ad878a1ffbf9",
    "deepnote_to_be_reexecuted": false,
    "source_hash": "b623e53d",
    "execution_start": 1622143833732,
    "execution_millis": 0,
    "deepnote_cell_type": "visualization"
   },
   "outputs": [],
   "execution_count": 11
  },
  {
   "cell_type": "code",
   "source": "# df.set_index('unique_id', inplace=True)",
   "metadata": {
    "tags": [],
    "cell_id": "00009-5715f70b-f184-4ceb-9772-b468980806d5",
    "deepnote_to_be_reexecuted": false,
    "source_hash": "cbf303ac",
    "execution_start": 1622143833733,
    "execution_millis": 11112816,
    "deepnote_cell_type": "code"
   },
   "outputs": [],
   "execution_count": 12
  },
  {
   "cell_type": "code",
   "source": "# df.isnull().sum()",
   "metadata": {
    "tags": [],
    "cell_id": "00011-c161e82d-4078-4d40-92f2-40ea799a6070",
    "deepnote_to_be_reexecuted": false,
    "source_hash": "a473ab54",
    "execution_start": 1622143833734,
    "execution_millis": 11112786,
    "deepnote_cell_type": "code"
   },
   "outputs": [],
   "execution_count": 13
  },
  {
   "cell_type": "code",
   "source": "# df.dropna(inplace=True)",
   "metadata": {
    "tags": [],
    "cell_id": "00012-e20fe068-e8af-46dd-bc10-ef61837b3133",
    "deepnote_to_be_reexecuted": false,
    "source_hash": "738e0b55",
    "execution_start": 1622143833753,
    "execution_millis": 11112786,
    "deepnote_cell_type": "code"
   },
   "outputs": [],
   "execution_count": 14
  },
  {
   "cell_type": "code",
   "source": "# df.shape",
   "metadata": {
    "tags": [],
    "cell_id": "00013-a970aee5-e9d2-45ab-bd91-d05c56c463d2",
    "deepnote_to_be_reexecuted": false,
    "source_hash": "709ba71f",
    "execution_start": 1622143833754,
    "execution_millis": 11112805,
    "deepnote_cell_type": "code"
   },
   "outputs": [],
   "execution_count": 15
  },
  {
   "cell_type": "code",
   "source": "# df.aggressive_physical_movement.value_counts()",
   "metadata": {
    "tags": [],
    "cell_id": "00014-379aa716-d398-4c0d-b83b-2bc3a275f93d",
    "deepnote_to_be_reexecuted": false,
    "source_hash": "840d5352",
    "execution_start": 1622143833755,
    "execution_millis": 11112805,
    "deepnote_cell_type": "code"
   },
   "outputs": [],
   "execution_count": 16
  },
  {
   "cell_type": "code",
   "source": "# df = w.wrangle_new_data(cached=True)",
   "metadata": {
    "tags": [],
    "cell_id": "00019-578915eb-2429-4a22-8f35-0f86f21d73d3",
    "deepnote_to_be_reexecuted": false,
    "source_hash": "d621b6ba",
    "execution_start": 1622143833757,
    "execution_millis": 0,
    "deepnote_cell_type": "code"
   },
   "outputs": [],
   "execution_count": 17
  },
  {
   "cell_type": "code",
   "source": "# df.shape",
   "metadata": {
    "tags": [],
    "cell_id": "00020-5d20018f-df26-42c3-be84-8aba9b774191",
    "deepnote_to_be_reexecuted": false,
    "source_hash": "709ba71f",
    "execution_start": 1622143833758,
    "execution_millis": 0,
    "deepnote_cell_type": "code"
   },
   "outputs": [],
   "execution_count": 18
  },
  {
   "cell_type": "code",
   "source": "# df.head(1)",
   "metadata": {
    "tags": [],
    "cell_id": "00021-d737e049-9f4e-4a7d-9f41-308fc5d57c5a",
    "deepnote_to_be_reexecuted": false,
    "source_hash": "a5a9c280",
    "execution_start": 1622143833758,
    "execution_millis": 20,
    "deepnote_cell_type": "code"
   },
   "outputs": [],
   "execution_count": 19
  },
  {
   "cell_type": "code",
   "source": "# df.age = df.age.astype('float64')",
   "metadata": {
    "tags": [],
    "cell_id": "00021-3fee5c6c-718f-4fc4-a96a-6e4b6da808a3",
    "deepnote_to_be_reexecuted": false,
    "source_hash": "d0d94041",
    "execution_start": 1622143833778,
    "execution_millis": 1,
    "deepnote_cell_type": "code"
   },
   "outputs": [],
   "execution_count": 20
  },
  {
   "cell_type": "code",
   "source": "# df.loc[28961,'latitude'] = '42.167834'",
   "metadata": {
    "tags": [],
    "cell_id": "00023-9f7e3c05-abdf-46a2-afd3-cd4041396c93",
    "deepnote_to_be_reexecuted": false,
    "source_hash": "b513f02d",
    "execution_start": 1622143833791,
    "execution_millis": 0,
    "deepnote_cell_type": "code"
   },
   "outputs": [],
   "execution_count": 21
  },
  {
   "cell_type": "code",
   "source": "# df.latitude = df.latitude.astype('float64')",
   "metadata": {
    "tags": [],
    "cell_id": "00024-968dd0db-908b-4d72-9083-0d658f981fe1",
    "deepnote_to_be_reexecuted": false,
    "source_hash": "920d2eb8",
    "execution_start": 1622143833805,
    "execution_millis": 0,
    "deepnote_cell_type": "code"
   },
   "outputs": [],
   "execution_count": 22
  },
  {
   "cell_type": "code",
   "source": "# columns = list(df.columns)\n# obj_cols = []\n\n# for col in columns:\n#     if df[col].dtype == 'object':\n#         obj_cols.append(col)\n",
   "metadata": {
    "tags": [],
    "cell_id": "00024-871fd01b-63c0-45c7-845b-47933f98e13e",
    "deepnote_to_be_reexecuted": false,
    "source_hash": "12b34a86",
    "execution_start": 1622143833815,
    "execution_millis": 0,
    "deepnote_cell_type": "code"
   },
   "outputs": [],
   "execution_count": 23
  },
  {
   "cell_type": "code",
   "source": "# obj_cols",
   "metadata": {
    "tags": [],
    "cell_id": "00025-662d01c7-4dbd-404c-975e-025723dce8f0",
    "deepnote_to_be_reexecuted": false,
    "source_hash": "5e9b8d61",
    "execution_start": 1622143833815,
    "execution_millis": 4,
    "deepnote_cell_type": "code"
   },
   "outputs": [],
   "execution_count": 24
  },
  {
   "cell_type": "code",
   "source": "# for col in obj_cols:\n#     df[col] = df[col].str.lower().str.strip()",
   "metadata": {
    "tags": [],
    "cell_id": "00026-dfba6c7c-db3a-4140-b09f-aa863f1a5a76",
    "deepnote_to_be_reexecuted": false,
    "source_hash": "ecd98fa1",
    "execution_start": 1622143833819,
    "execution_millis": 0,
    "deepnote_cell_type": "code"
   },
   "outputs": [],
   "execution_count": 25
  },
  {
   "cell_type": "code",
   "source": "# df.head()",
   "metadata": {
    "tags": [],
    "cell_id": "00027-4d1a4aad-4e0f-4148-aa55-9148243389cb",
    "deepnote_to_be_reexecuted": false,
    "source_hash": "f584530c",
    "execution_start": 1622143833828,
    "execution_millis": 1,
    "deepnote_cell_type": "code"
   },
   "outputs": [],
   "execution_count": 26
  },
  {
   "cell_type": "code",
   "source": "df = w.wrangle_new_data(cached=True).drop(columns='Unnamed: 0')",
   "metadata": {
    "tags": [],
    "cell_id": "00029-aa0d3f00-88ef-451c-802a-1c4265d2c2f7",
    "deepnote_to_be_reexecuted": false,
    "source_hash": "15916966",
    "execution_start": 1622143833839,
    "execution_millis": 87,
    "deepnote_cell_type": "code"
   },
   "outputs": [],
   "execution_count": 27
  },
  {
   "cell_type": "code",
   "source": "df.shape",
   "metadata": {
    "tags": [],
    "cell_id": "00029-844ce07d-f353-4b67-bd8a-b89f5aaa0326",
    "deepnote_to_be_reexecuted": false,
    "source_hash": "14f60b8f",
    "execution_start": 1622143833938,
    "execution_millis": 14,
    "deepnote_cell_type": "code"
   },
   "outputs": [
    {
     "output_type": "execute_result",
     "execution_count": 28,
     "data": {
      "text/plain": "(13265, 15)"
     },
     "metadata": {}
    }
   ],
   "execution_count": 28
  },
  {
   "cell_type": "code",
   "source": "df.head(1)",
   "metadata": {
    "tags": [],
    "cell_id": "00030-d1357337-c155-402c-b31f-5349a2663b48",
    "deepnote_to_be_reexecuted": false,
    "source_hash": "460f028f",
    "execution_start": 1622143833989,
    "execution_millis": 33,
    "deepnote_cell_type": "code"
   },
   "outputs": [
    {
     "output_type": "execute_result",
     "execution_count": 29,
     "data": {
      "application/vnd.deepnote.dataframe.v2+json": {
       "row_count": 1,
       "column_count": 15,
       "columns": [
        {
         "name": "unique_id",
         "dtype": "float64",
         "stats": {
          "unique_count": 1,
          "nan_count": 0,
          "min": "14050.0",
          "max": "14050.0",
          "histogram": [
           {
            "bin_start": 14049.5,
            "bin_end": 14049.6,
            "count": 0
           },
           {
            "bin_start": 14049.6,
            "bin_end": 14049.7,
            "count": 0
           },
           {
            "bin_start": 14049.7,
            "bin_end": 14049.8,
            "count": 0
           },
           {
            "bin_start": 14049.8,
            "bin_end": 14049.9,
            "count": 0
           },
           {
            "bin_start": 14049.9,
            "bin_end": 14050,
            "count": 0
           },
           {
            "bin_start": 14050,
            "bin_end": 14050.1,
            "count": 1
           },
           {
            "bin_start": 14050.1,
            "bin_end": 14050.2,
            "count": 0
           },
           {
            "bin_start": 14050.2,
            "bin_end": 14050.3,
            "count": 0
           },
           {
            "bin_start": 14050.3,
            "bin_end": 14050.4,
            "count": 0
           },
           {
            "bin_start": 14050.4,
            "bin_end": 14050.5,
            "count": 0
           }
          ]
         }
        },
        {
         "name": "age",
         "dtype": "float64",
         "stats": {
          "unique_count": 1,
          "nan_count": 0,
          "min": "20.0",
          "max": "20.0",
          "histogram": [
           {
            "bin_start": 19.5,
            "bin_end": 19.6,
            "count": 0
           },
           {
            "bin_start": 19.6,
            "bin_end": 19.7,
            "count": 0
           },
           {
            "bin_start": 19.7,
            "bin_end": 19.8,
            "count": 0
           },
           {
            "bin_start": 19.8,
            "bin_end": 19.9,
            "count": 0
           },
           {
            "bin_start": 19.9,
            "bin_end": 20,
            "count": 0
           },
           {
            "bin_start": 20,
            "bin_end": 20.1,
            "count": 1
           },
           {
            "bin_start": 20.1,
            "bin_end": 20.2,
            "count": 0
           },
           {
            "bin_start": 20.2,
            "bin_end": 20.3,
            "count": 0
           },
           {
            "bin_start": 20.3,
            "bin_end": 20.4,
            "count": 0
           },
           {
            "bin_start": 20.4,
            "bin_end": 20.5,
            "count": 0
           }
          ]
         }
        },
        {
         "name": "gender",
         "dtype": "object",
         "stats": {
          "unique_count": 1,
          "nan_count": 0,
          "categories": [
           {
            "name": "male",
            "count": 1
           }
          ]
         }
        },
        {
         "name": "race",
         "dtype": "object",
         "stats": {
          "unique_count": 1,
          "nan_count": 0,
          "categories": [
           {
            "name": "black",
            "count": 1
           }
          ]
         }
        },
        {
         "name": "date_of_injury_resulting_in_death_month_day_year",
         "dtype": "object",
         "stats": {
          "unique_count": 1,
          "nan_count": 0,
          "categories": [
           {
            "name": "2007-02-07 00:00:00",
            "count": 1
           }
          ]
         }
        },
        {
         "name": "location_of_death_zip_code",
         "dtype": "float64",
         "stats": {
          "unique_count": 1,
          "nan_count": 0,
          "min": "68111.0",
          "max": "68111.0",
          "histogram": [
           {
            "bin_start": 68110.5,
            "bin_end": 68110.6,
            "count": 0
           },
           {
            "bin_start": 68110.6,
            "bin_end": 68110.7,
            "count": 0
           },
           {
            "bin_start": 68110.7,
            "bin_end": 68110.8,
            "count": 0
           },
           {
            "bin_start": 68110.8,
            "bin_end": 68110.9,
            "count": 0
           },
           {
            "bin_start": 68110.9,
            "bin_end": 68111,
            "count": 0
           },
           {
            "bin_start": 68111,
            "bin_end": 68111.1,
            "count": 1
           },
           {
            "bin_start": 68111.1,
            "bin_end": 68111.2,
            "count": 0
           },
           {
            "bin_start": 68111.2,
            "bin_end": 68111.3,
            "count": 0
           },
           {
            "bin_start": 68111.3,
            "bin_end": 68111.4,
            "count": 0
           },
           {
            "bin_start": 68111.4,
            "bin_end": 68111.5,
            "count": 0
           }
          ]
         }
        },
        {
         "name": "agency_or_agencies_involved",
         "dtype": "object",
         "stats": {
          "unique_count": 1,
          "nan_count": 0,
          "categories": [
           {
            "name": "omaha police department",
            "count": 1
           }
          ]
         }
        },
        {
         "name": "highest_level_of_force",
         "dtype": "object",
         "stats": {
          "unique_count": 1,
          "nan_count": 0,
          "categories": [
           {
            "name": "gunshot",
            "count": 1
           }
          ]
         }
        },
        {
         "name": "armed_unarmed",
         "dtype": "object",
         "stats": {
          "unique_count": 1,
          "nan_count": 0,
          "categories": [
           {
            "name": "armed",
            "count": 1
           }
          ]
         }
        },
        {
         "name": "alleged_weapon",
         "dtype": "object",
         "stats": {
          "unique_count": 1,
          "nan_count": 0,
          "categories": [
           {
            "name": "edged weapon",
            "count": 1
           }
          ]
         }
        },
        {
         "name": "aggressive_physical_movement",
         "dtype": "object",
         "stats": {
          "unique_count": 1,
          "nan_count": 0,
          "categories": [
           {
            "name": "threat",
            "count": 1
           }
          ]
         }
        },
        {
         "name": "fleeing_not_fleeing",
         "dtype": "object",
         "stats": {
          "unique_count": 1,
          "nan_count": 0,
          "categories": [
           {
            "name": "not fleeing",
            "count": 1
           }
          ]
         }
        },
        {
         "name": "brief_description",
         "dtype": "object",
         "stats": {
          "unique_count": 1,
          "nan_count": 0,
          "categories": [
           {
            "name": "police called to scene found ventry lunging with a knife at a woman. vetnry continued fighting after being shot by officer jerry kassen and tasered by another officer.",
            "count": 1
           }
          ]
         }
        },
        {
         "name": "intended_use_of_force_developing",
         "dtype": "object",
         "stats": {
          "unique_count": 1,
          "nan_count": 0,
          "categories": [
           {
            "name": "deadly force",
            "count": 1
           }
          ]
         }
        },
        {
         "name": "latitude",
         "dtype": "float64",
         "stats": {
          "unique_count": 0,
          "nan_count": 1,
          "min": null,
          "max": null,
          "histogram": [
           {
            "bin_start": 0,
            "bin_end": 0.1,
            "count": 0
           },
           {
            "bin_start": 0.1,
            "bin_end": 0.2,
            "count": 0
           },
           {
            "bin_start": 0.2,
            "bin_end": 0.30000000000000004,
            "count": 0
           },
           {
            "bin_start": 0.30000000000000004,
            "bin_end": 0.4,
            "count": 0
           },
           {
            "bin_start": 0.4,
            "bin_end": 0.5,
            "count": 0
           },
           {
            "bin_start": 0.5,
            "bin_end": 0.6000000000000001,
            "count": 0
           },
           {
            "bin_start": 0.6000000000000001,
            "bin_end": 0.7000000000000001,
            "count": 0
           },
           {
            "bin_start": 0.7000000000000001,
            "bin_end": 0.8,
            "count": 0
           },
           {
            "bin_start": 0.8,
            "bin_end": 0.9,
            "count": 0
           },
           {
            "bin_start": 0.9,
            "bin_end": 1,
            "count": 0
           }
          ]
         }
        },
        {
         "name": "_deepnote_index_column",
         "dtype": "int64"
        }
       ],
       "rows_top": [
        {
         "unique_id": 14050,
         "age": 20,
         "gender": "male",
         "race": "black",
         "date_of_injury_resulting_in_death_month_day_year": "2007-02-07 00:00:00",
         "location_of_death_zip_code": 68111,
         "agency_or_agencies_involved": "omaha police department",
         "highest_level_of_force": "gunshot",
         "armed_unarmed": "armed",
         "alleged_weapon": "edged weapon",
         "aggressive_physical_movement": "threat",
         "fleeing_not_fleeing": "not fleeing",
         "brief_description": "police called to scene found ventry lunging with a knife at a woman. vetnry continued fighting after being shot by officer jerry kassen and tasered by another officer.",
         "intended_use_of_force_developing": "deadly force",
         "latitude": "nan",
         "_deepnote_index_column": 0
        }
       ],
       "rows_bottom": null
      },
      "text/plain": "   unique_id   age gender   race  \\\n0    14050.0  20.0   male  black   \n\n  date_of_injury_resulting_in_death_month_day_year  \\\n0                              2007-02-07 00:00:00   \n\n   location_of_death_zip_code agency_or_agencies_involved  \\\n0                     68111.0     omaha police department   \n\n  highest_level_of_force armed_unarmed alleged_weapon  \\\n0                gunshot         armed   edged weapon   \n\n  aggressive_physical_movement fleeing_not_fleeing  \\\n0                       threat         not fleeing   \n\n                                   brief_description  \\\n0  police called to scene found ventry lunging wi...   \n\n  intended_use_of_force_developing  latitude  \n0                     deadly force       NaN  ",
      "text/html": "<div>\n<style scoped>\n    .dataframe tbody tr th:only-of-type {\n        vertical-align: middle;\n    }\n\n    .dataframe tbody tr th {\n        vertical-align: top;\n    }\n\n    .dataframe thead th {\n        text-align: right;\n    }\n</style>\n<table border=\"1\" class=\"dataframe\">\n  <thead>\n    <tr style=\"text-align: right;\">\n      <th></th>\n      <th>unique_id</th>\n      <th>age</th>\n      <th>gender</th>\n      <th>race</th>\n      <th>date_of_injury_resulting_in_death_month_day_year</th>\n      <th>location_of_death_zip_code</th>\n      <th>agency_or_agencies_involved</th>\n      <th>highest_level_of_force</th>\n      <th>armed_unarmed</th>\n      <th>alleged_weapon</th>\n      <th>aggressive_physical_movement</th>\n      <th>fleeing_not_fleeing</th>\n      <th>brief_description</th>\n      <th>intended_use_of_force_developing</th>\n      <th>latitude</th>\n    </tr>\n  </thead>\n  <tbody>\n    <tr>\n      <th>0</th>\n      <td>14050.0</td>\n      <td>20.0</td>\n      <td>male</td>\n      <td>black</td>\n      <td>2007-02-07 00:00:00</td>\n      <td>68111.0</td>\n      <td>omaha police department</td>\n      <td>gunshot</td>\n      <td>armed</td>\n      <td>edged weapon</td>\n      <td>threat</td>\n      <td>not fleeing</td>\n      <td>police called to scene found ventry lunging wi...</td>\n      <td>deadly force</td>\n      <td>NaN</td>\n    </tr>\n  </tbody>\n</table>\n</div>"
     },
     "metadata": {}
    }
   ],
   "execution_count": 29
  },
  {
   "cell_type": "code",
   "source": "df.head(1)",
   "metadata": {
    "tags": [],
    "cell_id": "00031-f7505c1c-9734-4f29-bb97-1d2a6a315f16",
    "deepnote_to_be_reexecuted": false,
    "source_hash": "460f028f",
    "execution_start": 1622143834074,
    "execution_millis": 82,
    "deepnote_cell_type": "code"
   },
   "outputs": [
    {
     "output_type": "execute_result",
     "execution_count": 30,
     "data": {
      "application/vnd.deepnote.dataframe.v2+json": {
       "row_count": 1,
       "column_count": 15,
       "columns": [
        {
         "name": "unique_id",
         "dtype": "float64",
         "stats": {
          "unique_count": 1,
          "nan_count": 0,
          "min": "14050.0",
          "max": "14050.0",
          "histogram": [
           {
            "bin_start": 14049.5,
            "bin_end": 14049.6,
            "count": 0
           },
           {
            "bin_start": 14049.6,
            "bin_end": 14049.7,
            "count": 0
           },
           {
            "bin_start": 14049.7,
            "bin_end": 14049.8,
            "count": 0
           },
           {
            "bin_start": 14049.8,
            "bin_end": 14049.9,
            "count": 0
           },
           {
            "bin_start": 14049.9,
            "bin_end": 14050,
            "count": 0
           },
           {
            "bin_start": 14050,
            "bin_end": 14050.1,
            "count": 1
           },
           {
            "bin_start": 14050.1,
            "bin_end": 14050.2,
            "count": 0
           },
           {
            "bin_start": 14050.2,
            "bin_end": 14050.3,
            "count": 0
           },
           {
            "bin_start": 14050.3,
            "bin_end": 14050.4,
            "count": 0
           },
           {
            "bin_start": 14050.4,
            "bin_end": 14050.5,
            "count": 0
           }
          ]
         }
        },
        {
         "name": "age",
         "dtype": "float64",
         "stats": {
          "unique_count": 1,
          "nan_count": 0,
          "min": "20.0",
          "max": "20.0",
          "histogram": [
           {
            "bin_start": 19.5,
            "bin_end": 19.6,
            "count": 0
           },
           {
            "bin_start": 19.6,
            "bin_end": 19.7,
            "count": 0
           },
           {
            "bin_start": 19.7,
            "bin_end": 19.8,
            "count": 0
           },
           {
            "bin_start": 19.8,
            "bin_end": 19.9,
            "count": 0
           },
           {
            "bin_start": 19.9,
            "bin_end": 20,
            "count": 0
           },
           {
            "bin_start": 20,
            "bin_end": 20.1,
            "count": 1
           },
           {
            "bin_start": 20.1,
            "bin_end": 20.2,
            "count": 0
           },
           {
            "bin_start": 20.2,
            "bin_end": 20.3,
            "count": 0
           },
           {
            "bin_start": 20.3,
            "bin_end": 20.4,
            "count": 0
           },
           {
            "bin_start": 20.4,
            "bin_end": 20.5,
            "count": 0
           }
          ]
         }
        },
        {
         "name": "gender",
         "dtype": "object",
         "stats": {
          "unique_count": 1,
          "nan_count": 0,
          "categories": [
           {
            "name": "male",
            "count": 1
           }
          ]
         }
        },
        {
         "name": "race",
         "dtype": "object",
         "stats": {
          "unique_count": 1,
          "nan_count": 0,
          "categories": [
           {
            "name": "black",
            "count": 1
           }
          ]
         }
        },
        {
         "name": "date_of_injury_resulting_in_death_month_day_year",
         "dtype": "object",
         "stats": {
          "unique_count": 1,
          "nan_count": 0,
          "categories": [
           {
            "name": "2007-02-07 00:00:00",
            "count": 1
           }
          ]
         }
        },
        {
         "name": "location_of_death_zip_code",
         "dtype": "float64",
         "stats": {
          "unique_count": 1,
          "nan_count": 0,
          "min": "68111.0",
          "max": "68111.0",
          "histogram": [
           {
            "bin_start": 68110.5,
            "bin_end": 68110.6,
            "count": 0
           },
           {
            "bin_start": 68110.6,
            "bin_end": 68110.7,
            "count": 0
           },
           {
            "bin_start": 68110.7,
            "bin_end": 68110.8,
            "count": 0
           },
           {
            "bin_start": 68110.8,
            "bin_end": 68110.9,
            "count": 0
           },
           {
            "bin_start": 68110.9,
            "bin_end": 68111,
            "count": 0
           },
           {
            "bin_start": 68111,
            "bin_end": 68111.1,
            "count": 1
           },
           {
            "bin_start": 68111.1,
            "bin_end": 68111.2,
            "count": 0
           },
           {
            "bin_start": 68111.2,
            "bin_end": 68111.3,
            "count": 0
           },
           {
            "bin_start": 68111.3,
            "bin_end": 68111.4,
            "count": 0
           },
           {
            "bin_start": 68111.4,
            "bin_end": 68111.5,
            "count": 0
           }
          ]
         }
        },
        {
         "name": "agency_or_agencies_involved",
         "dtype": "object",
         "stats": {
          "unique_count": 1,
          "nan_count": 0,
          "categories": [
           {
            "name": "omaha police department",
            "count": 1
           }
          ]
         }
        },
        {
         "name": "highest_level_of_force",
         "dtype": "object",
         "stats": {
          "unique_count": 1,
          "nan_count": 0,
          "categories": [
           {
            "name": "gunshot",
            "count": 1
           }
          ]
         }
        },
        {
         "name": "armed_unarmed",
         "dtype": "object",
         "stats": {
          "unique_count": 1,
          "nan_count": 0,
          "categories": [
           {
            "name": "armed",
            "count": 1
           }
          ]
         }
        },
        {
         "name": "alleged_weapon",
         "dtype": "object",
         "stats": {
          "unique_count": 1,
          "nan_count": 0,
          "categories": [
           {
            "name": "edged weapon",
            "count": 1
           }
          ]
         }
        },
        {
         "name": "aggressive_physical_movement",
         "dtype": "object",
         "stats": {
          "unique_count": 1,
          "nan_count": 0,
          "categories": [
           {
            "name": "threat",
            "count": 1
           }
          ]
         }
        },
        {
         "name": "fleeing_not_fleeing",
         "dtype": "object",
         "stats": {
          "unique_count": 1,
          "nan_count": 0,
          "categories": [
           {
            "name": "not fleeing",
            "count": 1
           }
          ]
         }
        },
        {
         "name": "brief_description",
         "dtype": "object",
         "stats": {
          "unique_count": 1,
          "nan_count": 0,
          "categories": [
           {
            "name": "police called to scene found ventry lunging with a knife at a woman. vetnry continued fighting after being shot by officer jerry kassen and tasered by another officer.",
            "count": 1
           }
          ]
         }
        },
        {
         "name": "intended_use_of_force_developing",
         "dtype": "object",
         "stats": {
          "unique_count": 1,
          "nan_count": 0,
          "categories": [
           {
            "name": "deadly force",
            "count": 1
           }
          ]
         }
        },
        {
         "name": "latitude",
         "dtype": "float64",
         "stats": {
          "unique_count": 0,
          "nan_count": 1,
          "min": null,
          "max": null,
          "histogram": [
           {
            "bin_start": 0,
            "bin_end": 0.1,
            "count": 0
           },
           {
            "bin_start": 0.1,
            "bin_end": 0.2,
            "count": 0
           },
           {
            "bin_start": 0.2,
            "bin_end": 0.30000000000000004,
            "count": 0
           },
           {
            "bin_start": 0.30000000000000004,
            "bin_end": 0.4,
            "count": 0
           },
           {
            "bin_start": 0.4,
            "bin_end": 0.5,
            "count": 0
           },
           {
            "bin_start": 0.5,
            "bin_end": 0.6000000000000001,
            "count": 0
           },
           {
            "bin_start": 0.6000000000000001,
            "bin_end": 0.7000000000000001,
            "count": 0
           },
           {
            "bin_start": 0.7000000000000001,
            "bin_end": 0.8,
            "count": 0
           },
           {
            "bin_start": 0.8,
            "bin_end": 0.9,
            "count": 0
           },
           {
            "bin_start": 0.9,
            "bin_end": 1,
            "count": 0
           }
          ]
         }
        },
        {
         "name": "_deepnote_index_column",
         "dtype": "int64"
        }
       ],
       "rows_top": [
        {
         "unique_id": 14050,
         "age": 20,
         "gender": "male",
         "race": "black",
         "date_of_injury_resulting_in_death_month_day_year": "2007-02-07 00:00:00",
         "location_of_death_zip_code": 68111,
         "agency_or_agencies_involved": "omaha police department",
         "highest_level_of_force": "gunshot",
         "armed_unarmed": "armed",
         "alleged_weapon": "edged weapon",
         "aggressive_physical_movement": "threat",
         "fleeing_not_fleeing": "not fleeing",
         "brief_description": "police called to scene found ventry lunging with a knife at a woman. vetnry continued fighting after being shot by officer jerry kassen and tasered by another officer.",
         "intended_use_of_force_developing": "deadly force",
         "latitude": "nan",
         "_deepnote_index_column": 0
        }
       ],
       "rows_bottom": null
      },
      "text/plain": "   unique_id   age gender   race  \\\n0    14050.0  20.0   male  black   \n\n  date_of_injury_resulting_in_death_month_day_year  \\\n0                              2007-02-07 00:00:00   \n\n   location_of_death_zip_code agency_or_agencies_involved  \\\n0                     68111.0     omaha police department   \n\n  highest_level_of_force armed_unarmed alleged_weapon  \\\n0                gunshot         armed   edged weapon   \n\n  aggressive_physical_movement fleeing_not_fleeing  \\\n0                       threat         not fleeing   \n\n                                   brief_description  \\\n0  police called to scene found ventry lunging wi...   \n\n  intended_use_of_force_developing  latitude  \n0                     deadly force       NaN  ",
      "text/html": "<div>\n<style scoped>\n    .dataframe tbody tr th:only-of-type {\n        vertical-align: middle;\n    }\n\n    .dataframe tbody tr th {\n        vertical-align: top;\n    }\n\n    .dataframe thead th {\n        text-align: right;\n    }\n</style>\n<table border=\"1\" class=\"dataframe\">\n  <thead>\n    <tr style=\"text-align: right;\">\n      <th></th>\n      <th>unique_id</th>\n      <th>age</th>\n      <th>gender</th>\n      <th>race</th>\n      <th>date_of_injury_resulting_in_death_month_day_year</th>\n      <th>location_of_death_zip_code</th>\n      <th>agency_or_agencies_involved</th>\n      <th>highest_level_of_force</th>\n      <th>armed_unarmed</th>\n      <th>alleged_weapon</th>\n      <th>aggressive_physical_movement</th>\n      <th>fleeing_not_fleeing</th>\n      <th>brief_description</th>\n      <th>intended_use_of_force_developing</th>\n      <th>latitude</th>\n    </tr>\n  </thead>\n  <tbody>\n    <tr>\n      <th>0</th>\n      <td>14050.0</td>\n      <td>20.0</td>\n      <td>male</td>\n      <td>black</td>\n      <td>2007-02-07 00:00:00</td>\n      <td>68111.0</td>\n      <td>omaha police department</td>\n      <td>gunshot</td>\n      <td>armed</td>\n      <td>edged weapon</td>\n      <td>threat</td>\n      <td>not fleeing</td>\n      <td>police called to scene found ventry lunging wi...</td>\n      <td>deadly force</td>\n      <td>NaN</td>\n    </tr>\n  </tbody>\n</table>\n</div>"
     },
     "metadata": {}
    }
   ],
   "execution_count": 30
  },
  {
   "cell_type": "code",
   "source": "# df.armed_unarmed.value_counts()",
   "metadata": {
    "tags": [],
    "cell_id": "00033-bf98f7e0-fb2e-487e-8fb7-4d9d14fd58d9",
    "deepnote_to_be_reexecuted": false,
    "source_hash": "fa1513bd",
    "execution_start": 1622143834104,
    "execution_millis": 0,
    "deepnote_cell_type": "code"
   },
   "outputs": [],
   "execution_count": 31
  },
  {
   "cell_type": "code",
   "source": "# df = df[(df.armed_unarmed == 'armed') | (df.armed_unarmed == 'unarmed') | (df.armed_unarmed == 'uncertain') | (df.armed_unarmed == 'none')]",
   "metadata": {
    "tags": [],
    "cell_id": "00034-363efb70-75eb-48a8-a222-b34d3263bcc3",
    "deepnote_to_be_reexecuted": false,
    "source_hash": "3ade4b5b",
    "execution_start": 1622143834105,
    "execution_millis": 2,
    "deepnote_cell_type": "code"
   },
   "outputs": [],
   "execution_count": 32
  },
  {
   "cell_type": "code",
   "source": "# df.armed_unarmed = df.armed_unarmed.str.replace('uncertain', 'none').str.replace('none', 'unarmed')",
   "metadata": {
    "tags": [],
    "cell_id": "00035-0c871ff6-4b70-48d2-9cd3-ff0d760fe3df",
    "deepnote_to_be_reexecuted": false,
    "source_hash": "fece4bab",
    "execution_start": 1622143834135,
    "execution_millis": 7261669,
    "deepnote_cell_type": "code"
   },
   "outputs": [],
   "execution_count": 33
  },
  {
   "cell_type": "code",
   "source": "# df.alleged_weapon.value_counts()",
   "metadata": {
    "tags": [],
    "cell_id": "00035-15899bd7-fcf0-426f-bf06-09ce172a1e14",
    "deepnote_to_be_reexecuted": false,
    "source_hash": "68983d46",
    "execution_start": 1622143834135,
    "execution_millis": 1,
    "deepnote_cell_type": "code"
   },
   "outputs": [],
   "execution_count": 34
  },
  {
   "cell_type": "code",
   "source": "# df.alleged_weapon = np.where(df.alleged_weapon.str.contains('firearm'), \"firearm\", df.alleged_weapon)\n# df.alleged_weapon = np.where(df.alleged_weapon.str.contains('blunt object'), \"blunt object\", df.alleged_weapon)\n# df.alleged_weapon = np.where(df.alleged_weapon.str.contains('edged weapon'), \"edged weapon\", df.alleged_weapon)\n# df.alleged_weapon = np.where(df.alleged_weapon.str.contains('other'), \"other_weapon\", df.alleged_weapon)\n# df.alleged_weapon = np.where(df.alleged_weapon.str.contains('rifle'), \"firearm\", df.alleged_weapon)\n# df.alleged_weapon = np.where(df.alleged_weapon.str.contains('taser'), \"other\", df.alleged_weapon)\n# df.alleged_weapon = np.where(df.alleged_weapon.str.contains('vehicle'), \"other_weapon\", df.alleged_weapon)\n# df.alleged_weapon = np.where(df.alleged_weapon.str.contains('uncertain'), \"none\", df.alleged_weapon)\n# df.alleged_weapon = np.where(df.alleged_weapon.str.contains('stun gun'), \"other_weapon\", df.alleged_weapon)\n# df.alleged_weapon = np.where(df.alleged_weapon.str.contains('none'), \"no_weapon\", df.alleged_weapon)",
   "metadata": {
    "tags": [],
    "cell_id": "00035-eb8f4f19-38a7-41b8-a3ce-da211f68364d",
    "deepnote_to_be_reexecuted": false,
    "source_hash": "288bb3fc",
    "execution_start": 1622143834136,
    "execution_millis": 0,
    "deepnote_cell_type": "code"
   },
   "outputs": [],
   "execution_count": 35
  },
  {
   "cell_type": "markdown",
   "source": "### threats:\n- brandished weapon\n- used weapon\n- advance toward officer\n- struggled\n- advanced upon officer\n### non-threats:\n- self-inflicted injury\n- none\n- idk if uncertain should be it’s own b/c we can add in there:\n### ambiguous:\n- police alleged vehicular assault\n- reached to waist\n- uncertain\n- or move all these to non-threats",
   "metadata": {
    "tags": [],
    "cell_id": "00037-ce8f607c-d295-45e3-ba7a-c92e0f7a6b43",
    "deepnote_cell_type": "markdown"
   }
  },
  {
   "cell_type": "code",
   "source": "# df.aggressive_physical_movement = np.where(df.aggressive_physical_movement.str.contains('vehicular assault'), \"ambiguous_threat\", df.aggressive_physical_movement)\n# df.aggressive_physical_movement = np.where(df.aggressive_physical_movement.str.contains('none'), \"no_threat\", df.aggressive_physical_movement)\n# df.aggressive_physical_movement = np.where(df.aggressive_physical_movement.str.contains('weapon'), \"threat\", df.aggressive_physical_movement)\n# df.aggressive_physical_movement = np.where(df.aggressive_physical_movement.str.contains('self-inflicted'), \"no_threat\", df.aggressive_physical_movement)\n# df.aggressive_physical_movement = np.where(df.aggressive_physical_movement.str.contains('advanced toward'), \"threat\", df.aggressive_physical_movement)\n# df.aggressive_physical_movement = np.where(df.aggressive_physical_movement.str.contains('struggled'), \"threat\", df.aggressive_physical_movement)\n# df.aggressive_physical_movement = np.where(df.aggressive_physical_movement.str.contains('advanced upon'), \"threat\", df.aggressive_physical_movement)\n# df.aggressive_physical_movement = np.where(df.aggressive_physical_movement.str.contains('uncertain'), \"ambiguous_threat\", df.aggressive_physical_movement)\n# df.aggressive_physical_movement = np.where(df.aggressive_physical_movement.str.contains('reached to waist'), \"ambiguous_threat\", df.aggressive_physical_movement)\n# df.aggressive_physical_movement = np.where(df.aggressive_physical_movement.str.contains('sudden threatening movement'), \"ambiguous_threat\", df.aggressive_physical_movement)",
   "metadata": {
    "tags": [],
    "cell_id": "00037-a129bce7-9ac2-462f-9671-1763ce191dae",
    "deepnote_to_be_reexecuted": false,
    "source_hash": "4d2f12ee",
    "execution_start": 1622143834138,
    "execution_millis": 2,
    "deepnote_cell_type": "code"
   },
   "outputs": [],
   "execution_count": 36
  },
  {
   "cell_type": "code",
   "source": "# df.aggressive_physical_movement.value_counts()",
   "metadata": {
    "tags": [],
    "cell_id": "00039-e190517c-24cc-4e41-955b-d52304ed9420",
    "deepnote_to_be_reexecuted": false,
    "source_hash": "840d5352",
    "execution_start": 1622143834144,
    "execution_millis": 0,
    "deepnote_cell_type": "code"
   },
   "outputs": [],
   "execution_count": 37
  },
  {
   "cell_type": "code",
   "source": "df.intended_use_of_force_developing.value_counts()",
   "metadata": {
    "tags": [],
    "cell_id": "00036-e9aa9664-3031-4a42-9e4b-2cb5e32dc5a9",
    "deepnote_to_be_reexecuted": false,
    "source_hash": "48f539e2",
    "execution_start": 1622143834190,
    "execution_millis": 8,
    "deepnote_cell_type": "code"
   },
   "outputs": [
    {
     "output_type": "execute_result",
     "execution_count": 38,
     "data": {
      "text/plain": "deadly force              8215\nsuicide                   1312\nvehic/purs                1299\npursuit                   1271\nless-than-lethal force     592\nno                         339\nvehicle                    226\nundetermined                11\nName: intended_use_of_force_developing, dtype: int64"
     },
     "metadata": {}
    }
   ],
   "execution_count": 38
  },
  {
   "cell_type": "code",
   "source": "df.head(1)",
   "metadata": {
    "tags": [],
    "cell_id": "00040-c5c18fac-f86c-4061-b208-1c78e50dc9a3",
    "deepnote_to_be_reexecuted": false,
    "source_hash": "460f028f",
    "execution_start": 1622143834190,
    "execution_millis": 38,
    "deepnote_cell_type": "code"
   },
   "outputs": [
    {
     "output_type": "execute_result",
     "execution_count": 39,
     "data": {
      "application/vnd.deepnote.dataframe.v2+json": {
       "row_count": 1,
       "column_count": 15,
       "columns": [
        {
         "name": "unique_id",
         "dtype": "float64",
         "stats": {
          "unique_count": 1,
          "nan_count": 0,
          "min": "14050.0",
          "max": "14050.0",
          "histogram": [
           {
            "bin_start": 14049.5,
            "bin_end": 14049.6,
            "count": 0
           },
           {
            "bin_start": 14049.6,
            "bin_end": 14049.7,
            "count": 0
           },
           {
            "bin_start": 14049.7,
            "bin_end": 14049.8,
            "count": 0
           },
           {
            "bin_start": 14049.8,
            "bin_end": 14049.9,
            "count": 0
           },
           {
            "bin_start": 14049.9,
            "bin_end": 14050,
            "count": 0
           },
           {
            "bin_start": 14050,
            "bin_end": 14050.1,
            "count": 1
           },
           {
            "bin_start": 14050.1,
            "bin_end": 14050.2,
            "count": 0
           },
           {
            "bin_start": 14050.2,
            "bin_end": 14050.3,
            "count": 0
           },
           {
            "bin_start": 14050.3,
            "bin_end": 14050.4,
            "count": 0
           },
           {
            "bin_start": 14050.4,
            "bin_end": 14050.5,
            "count": 0
           }
          ]
         }
        },
        {
         "name": "age",
         "dtype": "float64",
         "stats": {
          "unique_count": 1,
          "nan_count": 0,
          "min": "20.0",
          "max": "20.0",
          "histogram": [
           {
            "bin_start": 19.5,
            "bin_end": 19.6,
            "count": 0
           },
           {
            "bin_start": 19.6,
            "bin_end": 19.7,
            "count": 0
           },
           {
            "bin_start": 19.7,
            "bin_end": 19.8,
            "count": 0
           },
           {
            "bin_start": 19.8,
            "bin_end": 19.9,
            "count": 0
           },
           {
            "bin_start": 19.9,
            "bin_end": 20,
            "count": 0
           },
           {
            "bin_start": 20,
            "bin_end": 20.1,
            "count": 1
           },
           {
            "bin_start": 20.1,
            "bin_end": 20.2,
            "count": 0
           },
           {
            "bin_start": 20.2,
            "bin_end": 20.3,
            "count": 0
           },
           {
            "bin_start": 20.3,
            "bin_end": 20.4,
            "count": 0
           },
           {
            "bin_start": 20.4,
            "bin_end": 20.5,
            "count": 0
           }
          ]
         }
        },
        {
         "name": "gender",
         "dtype": "object",
         "stats": {
          "unique_count": 1,
          "nan_count": 0,
          "categories": [
           {
            "name": "male",
            "count": 1
           }
          ]
         }
        },
        {
         "name": "race",
         "dtype": "object",
         "stats": {
          "unique_count": 1,
          "nan_count": 0,
          "categories": [
           {
            "name": "black",
            "count": 1
           }
          ]
         }
        },
        {
         "name": "date_of_injury_resulting_in_death_month_day_year",
         "dtype": "object",
         "stats": {
          "unique_count": 1,
          "nan_count": 0,
          "categories": [
           {
            "name": "2007-02-07 00:00:00",
            "count": 1
           }
          ]
         }
        },
        {
         "name": "location_of_death_zip_code",
         "dtype": "float64",
         "stats": {
          "unique_count": 1,
          "nan_count": 0,
          "min": "68111.0",
          "max": "68111.0",
          "histogram": [
           {
            "bin_start": 68110.5,
            "bin_end": 68110.6,
            "count": 0
           },
           {
            "bin_start": 68110.6,
            "bin_end": 68110.7,
            "count": 0
           },
           {
            "bin_start": 68110.7,
            "bin_end": 68110.8,
            "count": 0
           },
           {
            "bin_start": 68110.8,
            "bin_end": 68110.9,
            "count": 0
           },
           {
            "bin_start": 68110.9,
            "bin_end": 68111,
            "count": 0
           },
           {
            "bin_start": 68111,
            "bin_end": 68111.1,
            "count": 1
           },
           {
            "bin_start": 68111.1,
            "bin_end": 68111.2,
            "count": 0
           },
           {
            "bin_start": 68111.2,
            "bin_end": 68111.3,
            "count": 0
           },
           {
            "bin_start": 68111.3,
            "bin_end": 68111.4,
            "count": 0
           },
           {
            "bin_start": 68111.4,
            "bin_end": 68111.5,
            "count": 0
           }
          ]
         }
        },
        {
         "name": "agency_or_agencies_involved",
         "dtype": "object",
         "stats": {
          "unique_count": 1,
          "nan_count": 0,
          "categories": [
           {
            "name": "omaha police department",
            "count": 1
           }
          ]
         }
        },
        {
         "name": "highest_level_of_force",
         "dtype": "object",
         "stats": {
          "unique_count": 1,
          "nan_count": 0,
          "categories": [
           {
            "name": "gunshot",
            "count": 1
           }
          ]
         }
        },
        {
         "name": "armed_unarmed",
         "dtype": "object",
         "stats": {
          "unique_count": 1,
          "nan_count": 0,
          "categories": [
           {
            "name": "armed",
            "count": 1
           }
          ]
         }
        },
        {
         "name": "alleged_weapon",
         "dtype": "object",
         "stats": {
          "unique_count": 1,
          "nan_count": 0,
          "categories": [
           {
            "name": "edged weapon",
            "count": 1
           }
          ]
         }
        },
        {
         "name": "aggressive_physical_movement",
         "dtype": "object",
         "stats": {
          "unique_count": 1,
          "nan_count": 0,
          "categories": [
           {
            "name": "threat",
            "count": 1
           }
          ]
         }
        },
        {
         "name": "fleeing_not_fleeing",
         "dtype": "object",
         "stats": {
          "unique_count": 1,
          "nan_count": 0,
          "categories": [
           {
            "name": "not fleeing",
            "count": 1
           }
          ]
         }
        },
        {
         "name": "brief_description",
         "dtype": "object",
         "stats": {
          "unique_count": 1,
          "nan_count": 0,
          "categories": [
           {
            "name": "police called to scene found ventry lunging with a knife at a woman. vetnry continued fighting after being shot by officer jerry kassen and tasered by another officer.",
            "count": 1
           }
          ]
         }
        },
        {
         "name": "intended_use_of_force_developing",
         "dtype": "object",
         "stats": {
          "unique_count": 1,
          "nan_count": 0,
          "categories": [
           {
            "name": "deadly force",
            "count": 1
           }
          ]
         }
        },
        {
         "name": "latitude",
         "dtype": "float64",
         "stats": {
          "unique_count": 0,
          "nan_count": 1,
          "min": null,
          "max": null,
          "histogram": [
           {
            "bin_start": 0,
            "bin_end": 0.1,
            "count": 0
           },
           {
            "bin_start": 0.1,
            "bin_end": 0.2,
            "count": 0
           },
           {
            "bin_start": 0.2,
            "bin_end": 0.30000000000000004,
            "count": 0
           },
           {
            "bin_start": 0.30000000000000004,
            "bin_end": 0.4,
            "count": 0
           },
           {
            "bin_start": 0.4,
            "bin_end": 0.5,
            "count": 0
           },
           {
            "bin_start": 0.5,
            "bin_end": 0.6000000000000001,
            "count": 0
           },
           {
            "bin_start": 0.6000000000000001,
            "bin_end": 0.7000000000000001,
            "count": 0
           },
           {
            "bin_start": 0.7000000000000001,
            "bin_end": 0.8,
            "count": 0
           },
           {
            "bin_start": 0.8,
            "bin_end": 0.9,
            "count": 0
           },
           {
            "bin_start": 0.9,
            "bin_end": 1,
            "count": 0
           }
          ]
         }
        },
        {
         "name": "_deepnote_index_column",
         "dtype": "int64"
        }
       ],
       "rows_top": [
        {
         "unique_id": 14050,
         "age": 20,
         "gender": "male",
         "race": "black",
         "date_of_injury_resulting_in_death_month_day_year": "2007-02-07 00:00:00",
         "location_of_death_zip_code": 68111,
         "agency_or_agencies_involved": "omaha police department",
         "highest_level_of_force": "gunshot",
         "armed_unarmed": "armed",
         "alleged_weapon": "edged weapon",
         "aggressive_physical_movement": "threat",
         "fleeing_not_fleeing": "not fleeing",
         "brief_description": "police called to scene found ventry lunging with a knife at a woman. vetnry continued fighting after being shot by officer jerry kassen and tasered by another officer.",
         "intended_use_of_force_developing": "deadly force",
         "latitude": "nan",
         "_deepnote_index_column": 0
        }
       ],
       "rows_bottom": null
      },
      "text/plain": "   unique_id   age gender   race  \\\n0    14050.0  20.0   male  black   \n\n  date_of_injury_resulting_in_death_month_day_year  \\\n0                              2007-02-07 00:00:00   \n\n   location_of_death_zip_code agency_or_agencies_involved  \\\n0                     68111.0     omaha police department   \n\n  highest_level_of_force armed_unarmed alleged_weapon  \\\n0                gunshot         armed   edged weapon   \n\n  aggressive_physical_movement fleeing_not_fleeing  \\\n0                       threat         not fleeing   \n\n                                   brief_description  \\\n0  police called to scene found ventry lunging wi...   \n\n  intended_use_of_force_developing  latitude  \n0                     deadly force       NaN  ",
      "text/html": "<div>\n<style scoped>\n    .dataframe tbody tr th:only-of-type {\n        vertical-align: middle;\n    }\n\n    .dataframe tbody tr th {\n        vertical-align: top;\n    }\n\n    .dataframe thead th {\n        text-align: right;\n    }\n</style>\n<table border=\"1\" class=\"dataframe\">\n  <thead>\n    <tr style=\"text-align: right;\">\n      <th></th>\n      <th>unique_id</th>\n      <th>age</th>\n      <th>gender</th>\n      <th>race</th>\n      <th>date_of_injury_resulting_in_death_month_day_year</th>\n      <th>location_of_death_zip_code</th>\n      <th>agency_or_agencies_involved</th>\n      <th>highest_level_of_force</th>\n      <th>armed_unarmed</th>\n      <th>alleged_weapon</th>\n      <th>aggressive_physical_movement</th>\n      <th>fleeing_not_fleeing</th>\n      <th>brief_description</th>\n      <th>intended_use_of_force_developing</th>\n      <th>latitude</th>\n    </tr>\n  </thead>\n  <tbody>\n    <tr>\n      <th>0</th>\n      <td>14050.0</td>\n      <td>20.0</td>\n      <td>male</td>\n      <td>black</td>\n      <td>2007-02-07 00:00:00</td>\n      <td>68111.0</td>\n      <td>omaha police department</td>\n      <td>gunshot</td>\n      <td>armed</td>\n      <td>edged weapon</td>\n      <td>threat</td>\n      <td>not fleeing</td>\n      <td>police called to scene found ventry lunging wi...</td>\n      <td>deadly force</td>\n      <td>NaN</td>\n    </tr>\n  </tbody>\n</table>\n</div>"
     },
     "metadata": {}
    }
   ],
   "execution_count": 39
  },
  {
   "cell_type": "markdown",
   "source": "# DuMmY ColUmnS\n\n![](https://ftw.usatoday.com/wp-content/uploads/sites/90/2017/05/spongebob.jpg)",
   "metadata": {
    "tags": [],
    "cell_id": "00035-cac97695-7822-482f-82fe-88fb8d765157",
    "deepnote_cell_type": "markdown"
   }
  },
  {
   "cell_type": "code",
   "source": "# # clean and encode gender - no concating at this pt\n# gender_dummies = pd.get_dummies(df.gender, prefix='is')\n# gender_dummies.drop(columns='is_male', inplace=True)",
   "metadata": {
    "tags": [],
    "cell_id": "00030-43e0ea9c-841c-41eb-b335-99615994c0bf",
    "deepnote_to_be_reexecuted": false,
    "source_hash": "7a21f5c9",
    "execution_start": 1622143834259,
    "execution_millis": 0,
    "deepnote_cell_type": "code"
   },
   "outputs": [],
   "execution_count": 40
  },
  {
   "cell_type": "code",
   "source": "# cleaned and encoded race - no concating\n# df.race = df.race.str.replace(\"african-american/black\", \"black\").replace(\"european-american/white\", \"white\").replace(\"hispanic/latino\", \"hispanic\").replace(\"native american/alaskan\", \"native_american\").replace(\"race unspecified\", \"unknown_race\")\n# race_dummies = pd.get_dummies(df.race, prefix='is')\n# race_dummies.columns = race_dummies.columns.str.replace('/', '_')",
   "metadata": {
    "tags": [],
    "cell_id": "00036-d0de61a7-fdee-4f9f-b145-1efba711121b",
    "deepnote_to_be_reexecuted": false,
    "source_hash": "35ef1e65",
    "execution_start": 1622143834260,
    "execution_millis": 0,
    "deepnote_cell_type": "code"
   },
   "outputs": [],
   "execution_count": 41
  },
  {
   "cell_type": "code",
   "source": "# unarmed_dummies = pd.get_dummies(df.armed_unarmed, drop_first=True, prefix='is')",
   "metadata": {
    "tags": [],
    "cell_id": "00037-e6ef5266-3be6-42f7-a334-680825b12bca",
    "deepnote_to_be_reexecuted": false,
    "source_hash": "536f845d",
    "execution_start": 1622143834260,
    "execution_millis": 1,
    "deepnote_cell_type": "code"
   },
   "outputs": [],
   "execution_count": 42
  },
  {
   "cell_type": "code",
   "source": "# weapon_dummies = pd.get_dummies(df.alleged_weapon, prefix='had', drop_first=False)",
   "metadata": {
    "tags": [],
    "cell_id": "00038-7959502a-29c2-47db-9df7-79a676c516d6",
    "deepnote_to_be_reexecuted": false,
    "source_hash": "d3ca2fba",
    "execution_start": 1622143834262,
    "execution_millis": 4,
    "deepnote_cell_type": "code"
   },
   "outputs": [],
   "execution_count": 43
  },
  {
   "cell_type": "code",
   "source": "# df.fleeing_not_fleeing.value_counts()",
   "metadata": {
    "tags": [],
    "cell_id": "00043-d4ca66a4-7a87-4914-bb49-2163c78cc726",
    "deepnote_to_be_reexecuted": false,
    "source_hash": "8c9ba209",
    "execution_start": 1622143834267,
    "execution_millis": 3,
    "deepnote_cell_type": "code"
   },
   "outputs": [],
   "execution_count": 44
  },
  {
   "cell_type": "code",
   "source": "# df.info()",
   "metadata": {
    "tags": [],
    "cell_id": "00048-2956c094-8856-498b-94f6-b45f6be79b1e",
    "deepnote_to_be_reexecuted": false,
    "source_hash": "78d4ffb5",
    "execution_start": 1622143834273,
    "execution_millis": 2,
    "deepnote_cell_type": "code"
   },
   "outputs": [],
   "execution_count": 45
  },
  {
   "cell_type": "code",
   "source": "\n# # # cleaning age\n# # df.age = pd.to_numeric(df.age)\n\n# # binning age\n# cut_labels_a = ['under 12','12-17', '18-24', '25-34', '35-44', '45-54', '55-64', '65+']\n# cut_bins = [0, 11, 17, 24, 34, 44, 54, 64, 130]\n# df['age_bins'] = pd.cut(df['age'], bins=cut_bins, labels=cut_labels_a)\n\n# # make dummy columns for age range\n# age_dummies = pd.get_dummies(df.age_bins, drop_first=False)\n\n# # concat age_dummies\n# df = pd.concat([df, age_dummies], axis=1)",
   "metadata": {
    "tags": [],
    "cell_id": "00043-7eb85913-9930-4001-9501-8a3cee9c7c46",
    "deepnote_to_be_reexecuted": false,
    "source_hash": "bef4e3c2",
    "execution_start": 1622143834326,
    "execution_millis": 0,
    "deepnote_cell_type": "code"
   },
   "outputs": [],
   "execution_count": 46
  },
  {
   "cell_type": "code",
   "source": "# df.info()",
   "metadata": {
    "tags": [],
    "cell_id": "00050-0c272d4b-4613-4a89-b166-d10c1884f67c",
    "deepnote_to_be_reexecuted": false,
    "source_hash": "78d4ffb5",
    "execution_start": 1622143834326,
    "execution_millis": 0,
    "deepnote_cell_type": "code"
   },
   "outputs": [],
   "execution_count": 47
  },
  {
   "cell_type": "code",
   "source": "# df.latitude.value_counts()",
   "metadata": {
    "tags": [],
    "cell_id": "00051-94db1762-e0f8-4620-9d88-e01793ed3003",
    "deepnote_to_be_reexecuted": false,
    "source_hash": "d49a8c18",
    "execution_start": 1622143834327,
    "execution_millis": 0,
    "deepnote_cell_type": "code"
   },
   "outputs": [],
   "execution_count": 48
  },
  {
   "cell_type": "code",
   "source": "# df.fleeing_not_fleeing.value_counts()",
   "metadata": {
    "tags": [],
    "cell_id": "00052-a922b2ee-64a1-4972-b6a0-da50fcc583a9",
    "deepnote_to_be_reexecuted": false,
    "source_hash": "8c9ba209",
    "execution_start": 1622143834327,
    "execution_millis": 1,
    "deepnote_cell_type": "code"
   },
   "outputs": [],
   "execution_count": 49
  },
  {
   "cell_type": "code",
   "source": "# # cleaned fleeing column & encode\n# df['fleeing_not_fleeing'] = np.where(df.fleeing_not_fleeing.str.contains(\"fleeing/\"), \"fleeing\", df.fleeing_not_fleeing)\n# df['fleeing_not_fleeing'] = np.where(df.fleeing_not_fleeing.str.contains(\"vehicle\"), \"fleeing\", df.fleeing_not_fleeing)\n# df['fleeing_not_fleeing'] = np.where(df.fleeing_not_fleeing.str.contains(\"foot\"), \"fleeing\", df.fleeing_not_fleeing)\n# df['fleeing_not_fleeing'] = np.where(df.fleeing_not_fleeing.str.contains(\"motorcycle\"), \"fleeing\", df.fleeing_not_fleeing)\n# df['fleeing_not_fleeing'] = np.where(df.fleeing_not_fleeing.str.contains(\"not fleeing\"), \"not_fleeing\", df.fleeing_not_fleeing)\n# df['fleeing_not_fleeing'] = np.where(df.fleeing_not_fleeing.str.contains(\"none\"), \"not_fleeing\", df.fleeing_not_fleeing)\n# df['fleeing_not_fleeing'] = np.where(df.fleeing_not_fleeing.str.contains(\"uncertain/police alleged vehicular assault\"), \"fleeing\", df.fleeing_not_fleeing)\n# df = df[(df.fleeing_not_fleeing == 'not_fleeing') | (df.fleeing_not_fleeing == 'fleeing')]\n# df['fleeing'] = np.where(df.fleeing_not_fleeing == 'fleeing', 1, 0)",
   "metadata": {
    "tags": [],
    "cell_id": "00052-a2904be8-35c5-45d8-9490-bed0b4b58acf",
    "deepnote_to_be_reexecuted": false,
    "source_hash": "c1949d78",
    "execution_start": 1622143834328,
    "execution_millis": 0,
    "is_output_hidden": true,
    "deepnote_cell_type": "code"
   },
   "outputs": [],
   "execution_count": 50
  },
  {
   "cell_type": "code",
   "source": "#df = df[(df.fleeing_not_fleeing == 'not_fleeing') | (df.fleeing_not_fleeing == 'fleeing')]",
   "metadata": {
    "tags": [],
    "cell_id": "00054-8a298c90-61fd-4a41-9bb0-3f2bee66242e",
    "deepnote_to_be_reexecuted": false,
    "source_hash": "2db721e9",
    "execution_start": 1622143834329,
    "execution_millis": 0,
    "deepnote_cell_type": "code"
   },
   "outputs": [],
   "execution_count": 51
  },
  {
   "cell_type": "code",
   "source": "#df.fleeing_not_fleeing.value_counts()",
   "metadata": {
    "tags": [],
    "cell_id": "00055-c7e15d58-37eb-4d8e-b271-80a55bea07bd",
    "deepnote_to_be_reexecuted": false,
    "source_hash": "5562a6c7",
    "execution_start": 1622143834334,
    "execution_millis": 5,
    "deepnote_cell_type": "code"
   },
   "outputs": [],
   "execution_count": 52
  },
  {
   "cell_type": "code",
   "source": "#df['fleeing'] = np.where(df.fleeing_not_fleeing == 'fleeing', 1, 0)",
   "metadata": {
    "tags": [],
    "cell_id": "00054-52ec9811-9214-4bfe-9976-4c08d0c52403",
    "deepnote_to_be_reexecuted": false,
    "source_hash": "b9fb12ef",
    "execution_start": 1622143834340,
    "execution_millis": 0,
    "deepnote_cell_type": "code"
   },
   "outputs": [],
   "execution_count": 53
  },
  {
   "cell_type": "code",
   "source": "df = w.wrangle_new_data(cached=False)",
   "metadata": {
    "tags": [],
    "cell_id": "00055-03d6852f-7682-4308-bd8e-2650c1a7c75e",
    "deepnote_to_be_reexecuted": false,
    "source_hash": "a2a595ad",
    "execution_start": 1622144397894,
    "execution_millis": 52373,
    "deepnote_cell_type": "code"
   },
   "outputs": [
    {
     "name": "stderr",
     "text": "/work/police_violence/wrangle.py:246: FutureWarning: The default value of regex will change from True to False in a future version. In addition, single character regular expressions will*not* be treated as literal strings when regex=True.\n  df.columns = df.columns.str.lower().str.replace(' ', '_').str.replace('/',\"_\").str.replace('(','').str.replace(')','')\n",
     "output_type": "stream"
    }
   ],
   "execution_count": 56
  },
  {
   "cell_type": "code",
   "source": "df.info()",
   "metadata": {
    "tags": [],
    "cell_id": "00058-46bda60f-bf29-415b-9366-1821c289aa48",
    "deepnote_to_be_reexecuted": false,
    "source_hash": "de1e323c",
    "execution_start": 1622143886844,
    "execution_millis": 60,
    "deepnote_cell_type": "code"
   },
   "outputs": [
    {
     "name": "stdout",
     "text": "<class 'pandas.core.frame.DataFrame'>\nInt64Index: 13265 entries, 7446 to 29755\nData columns (total 37 columns):\n #   Column                                            Non-Null Count  Dtype         \n---  ------                                            --------------  -----         \n 0   unique_id                                         13137 non-null  float64       \n 1   age                                               13137 non-null  float64       \n 2   gender                                            13137 non-null  object        \n 3   race                                              13137 non-null  object        \n 4   date_of_injury_resulting_in_death_month_day_year  13137 non-null  datetime64[ns]\n 5   location_of_death_zip_code                        13137 non-null  float64       \n 6   agency_or_agencies_involved                       13137 non-null  object        \n 7   highest_level_of_force                            13137 non-null  object        \n 8   armed_unarmed                                     13137 non-null  object        \n 9   alleged_weapon                                    13137 non-null  object        \n 10  aggressive_physical_movement                      13137 non-null  object        \n 11  fleeing_not_fleeing                               13137 non-null  object        \n 12  brief_description                                 13137 non-null  object        \n 13  intended_use_of_force_developing                  13137 non-null  object        \n 14  fleeing                                           13137 non-null  float64       \n 15  age_bins                                          13137 non-null  category      \n 16  is_asian_pacific islander                         13265 non-null  uint8         \n 17  is_black                                          13265 non-null  uint8         \n 18  is_hispanic                                       13265 non-null  uint8         \n 19  is_middle eastern                                 13265 non-null  uint8         \n 20  is_native_american                                13265 non-null  uint8         \n 21  is_unknown_race                                   13265 non-null  uint8         \n 22  is_white                                          13265 non-null  uint8         \n 23  is_unarmed                                        13265 non-null  uint8         \n 24  had_blunt object                                  13265 non-null  uint8         \n 25  had_edged weapon                                  13265 non-null  uint8         \n 26  had_firearm                                       13265 non-null  uint8         \n 27  had_no_weapon                                     13265 non-null  uint8         \n 28  had_other_weapon                                  13265 non-null  uint8         \n 29  under 12                                          13137 non-null  float64       \n 30  12-17                                             13137 non-null  float64       \n 31  18-24                                             13137 non-null  float64       \n 32  25-34                                             13137 non-null  float64       \n 33  35-44                                             13137 non-null  float64       \n 34  45-54                                             13137 non-null  float64       \n 35  55-64                                             13137 non-null  float64       \n 36  65+                                               13137 non-null  float64       \ndtypes: category(1), datetime64[ns](1), float64(12), object(10), uint8(13)\nmemory usage: 2.6+ MB\n",
     "output_type": "stream"
    }
   ],
   "execution_count": 55
  },
  {
   "cell_type": "code",
   "source": "",
   "metadata": {
    "tags": [],
    "cell_id": "00059-c94d845e-2cc0-4120-9e8a-011a8858e3ef",
    "deepnote_to_be_reexecuted": false,
    "source_hash": "b623e53d",
    "execution_start": 1622143886872,
    "deepnote_cell_type": "code"
   },
   "outputs": [],
   "execution_count": 55
  },
  {
   "cell_type": "markdown",
   "source": "<a style='text-decoration:none;line-height:16px;display:flex;color:#5B5B62;padding:10px;justify-content:end;' href='https://deepnote.com?utm_source=created-in-deepnote-cell&projectId=258e71fc-cf2b-48c3-8461-70ecd9787aa1' target=\"_blank\">\n<img alt='Created in deepnote.com' style='display:inline;max-height:16px;margin:0px;margin-right:7.5px;' src='data:image/svg+xml;base64,PD94bWwgdmVyc2lvbj0iMS4wIiBlbmNvZGluZz0iVVRGLTgiPz4KPHN2ZyB3aWR0aD0iODBweCIgaGVpZ2h0PSI4MHB4IiB2aWV3Qm94PSIwIDAgODAgODAiIHZlcnNpb249IjEuMSIgeG1sbnM9Imh0dHA6Ly93d3cudzMub3JnLzIwMDAvc3ZnIiB4bWxuczp4bGluaz0iaHR0cDovL3d3dy53My5vcmcvMTk5OS94bGluayI+CiAgICA8IS0tIEdlbmVyYXRvcjogU2tldGNoIDU0LjEgKDc2NDkwKSAtIGh0dHBzOi8vc2tldGNoYXBwLmNvbSAtLT4KICAgIDx0aXRsZT5Hcm91cCAzPC90aXRsZT4KICAgIDxkZXNjPkNyZWF0ZWQgd2l0aCBTa2V0Y2guPC9kZXNjPgogICAgPGcgaWQ9IkxhbmRpbmciIHN0cm9rZT0ibm9uZSIgc3Ryb2tlLXdpZHRoPSIxIiBmaWxsPSJub25lIiBmaWxsLXJ1bGU9ImV2ZW5vZGQiPgogICAgICAgIDxnIGlkPSJBcnRib2FyZCIgdHJhbnNmb3JtPSJ0cmFuc2xhdGUoLTEyMzUuMDAwMDAwLCAtNzkuMDAwMDAwKSI+CiAgICAgICAgICAgIDxnIGlkPSJHcm91cC0zIiB0cmFuc2Zvcm09InRyYW5zbGF0ZSgxMjM1LjAwMDAwMCwgNzkuMDAwMDAwKSI+CiAgICAgICAgICAgICAgICA8cG9seWdvbiBpZD0iUGF0aC0yMCIgZmlsbD0iIzAyNjVCNCIgcG9pbnRzPSIyLjM3NjIzNzYyIDgwIDM4LjA0NzY2NjcgODAgNTcuODIxNzgyMiA3My44MDU3NTkyIDU3LjgyMTc4MjIgMzIuNzU5MjczOSAzOS4xNDAyMjc4IDMxLjY4MzE2ODMiPjwvcG9seWdvbj4KICAgICAgICAgICAgICAgIDxwYXRoIGQ9Ik0zNS4wMDc3MTgsODAgQzQyLjkwNjIwMDcsNzYuNDU0OTM1OCA0Ny41NjQ5MTY3LDcxLjU0MjI2NzEgNDguOTgzODY2LDY1LjI2MTk5MzkgQzUxLjExMjI4OTksNTUuODQxNTg0MiA0MS42NzcxNzk1LDQ5LjIxMjIyODQgMjUuNjIzOTg0Niw0OS4yMTIyMjg0IEMyNS40ODQ5Mjg5LDQ5LjEyNjg0NDggMjkuODI2MTI5Niw0My4yODM4MjQ4IDM4LjY0NzU4NjksMzEuNjgzMTY4MyBMNzIuODcxMjg3MSwzMi41NTQ0MjUgTDY1LjI4MDk3Myw2Ny42NzYzNDIxIEw1MS4xMTIyODk5LDc3LjM3NjE0NCBMMzUuMDA3NzE4LDgwIFoiIGlkPSJQYXRoLTIyIiBmaWxsPSIjMDAyODY4Ij48L3BhdGg+CiAgICAgICAgICAgICAgICA8cGF0aCBkPSJNMCwzNy43MzA0NDA1IEwyNy4xMTQ1MzcsMC4yNTcxMTE0MzYgQzYyLjM3MTUxMjMsLTEuOTkwNzE3MDEgODAsMTAuNTAwMzkyNyA4MCwzNy43MzA0NDA1IEM4MCw2NC45NjA0ODgyIDY0Ljc3NjUwMzgsNzkuMDUwMzQxNCAzNC4zMjk1MTEzLDgwIEM0Ny4wNTUzNDg5LDc3LjU2NzA4MDggNTMuNDE4MjY3Nyw3MC4zMTM2MTAzIDUzLjQxODI2NzcsNTguMjM5NTg4NSBDNTMuNDE4MjY3Nyw0MC4xMjg1NTU3IDM2LjMwMzk1NDQsMzcuNzMwNDQwNSAyNS4yMjc0MTcsMzcuNzMwNDQwNSBDMTcuODQzMDU4NiwzNy43MzA0NDA1IDkuNDMzOTE5NjYsMzcuNzMwNDQwNSAwLDM3LjczMDQ0MDUgWiIgaWQ9IlBhdGgtMTkiIGZpbGw9IiMzNzkzRUYiPjwvcGF0aD4KICAgICAgICAgICAgPC9nPgogICAgICAgIDwvZz4KICAgIDwvZz4KPC9zdmc+' > </img>\nCreated in <span style='font-weight:600;margin-left:4px;'>Deepnote</span></a>",
   "metadata": {
    "tags": [],
    "created_in_deepnote_cell": true,
    "deepnote_cell_type": "markdown"
   }
  }
 ],
 "nbformat": 4,
 "nbformat_minor": 2,
 "metadata": {
  "orig_nbformat": 2,
  "deepnote": {
   "is_reactive": false
  },
  "deepnote_notebook_id": "eb117828-9a5a-4bd8-982d-120fe0f488fb",
  "deepnote_execution_queue": []
 }
}