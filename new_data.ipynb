{
 "cells": [
  {
   "cell_type": "code",
   "metadata": {
    "tags": [],
    "cell_id": "00000-4ad6de05-2f9d-42b7-8a2a-16c93e2a72e6",
    "deepnote_to_be_reexecuted": false,
    "source_hash": "bae5820a",
    "execution_start": 1622135680667,
    "execution_millis": 16,
    "deepnote_cell_type": "code"
   },
   "source": "import pandas as pd\nimport numpy as np\n\nimport wrangle as w",
   "execution_count": 1,
   "outputs": []
  },
  {
   "cell_type": "code",
   "source": "# df = pd.read_excel('new_data.xlsx')",
   "metadata": {
    "tags": [],
    "cell_id": "00001-6575ab34-fb6d-46b9-8276-9195598cda6a",
    "deepnote_to_be_reexecuted": false,
    "source_hash": "2bdfa3b5",
    "execution_start": 1622132720831,
    "execution_millis": 0,
    "deepnote_cell_type": "code"
   },
   "outputs": [],
   "execution_count": null
  },
  {
   "cell_type": "code",
   "source": "",
   "metadata": {
    "tags": [],
    "cell_id": "00002-516825f9-f2fd-4536-bf3b-68fae1d63eb1",
    "deepnote_to_be_reexecuted": false,
    "source_hash": "b623e53d",
    "execution_start": 1622132720831,
    "execution_millis": 1,
    "deepnote_cell_type": "code"
   },
   "outputs": [],
   "execution_count": null
  },
  {
   "cell_type": "code",
   "source": "# df = df.drop(columns=list(df.columns)[32:])",
   "metadata": {
    "tags": [],
    "cell_id": "00003-601bcf02-7f46-4ad8-9837-d9c2ba139445",
    "deepnote_to_be_reexecuted": false,
    "source_hash": "34926de1",
    "execution_start": 1622132720832,
    "execution_millis": 1,
    "deepnote_cell_type": "code"
   },
   "outputs": [],
   "execution_count": null
  },
  {
   "cell_type": "code",
   "source": "# df.columns = df.columns.str.lower().str.replace(' ', '_').str.replace('/',\"_\").str.replace('(','').str.replace(')','')",
   "metadata": {
    "tags": [],
    "cell_id": "00003-84d58ba8-0798-4df0-aab7-5f1e5b59d7ca",
    "deepnote_to_be_reexecuted": false,
    "source_hash": "828d9728",
    "execution_start": 1622132720836,
    "execution_millis": 0,
    "deepnote_cell_type": "code"
   },
   "outputs": [],
   "execution_count": null
  },
  {
   "cell_type": "code",
   "source": "# df.columns",
   "metadata": {
    "tags": [],
    "cell_id": "00005-d83fa2b1-05dc-49e4-9ebc-fb8e986c5673",
    "deepnote_to_be_reexecuted": false,
    "source_hash": "8a2b312e",
    "execution_start": 1622132720864,
    "execution_millis": 0,
    "deepnote_cell_type": "code"
   },
   "outputs": [],
   "execution_count": null
  },
  {
   "cell_type": "code",
   "source": "# df.isnull().sum()",
   "metadata": {
    "tags": [],
    "cell_id": "00006-f6caf696-d4fb-4c98-9200-172cdb1e0c54",
    "deepnote_to_be_reexecuted": false,
    "source_hash": "a473ab54",
    "execution_start": 1622132720865,
    "execution_millis": 0,
    "deepnote_cell_type": "code"
   },
   "outputs": [],
   "execution_count": null
  },
  {
   "cell_type": "code",
   "source": "# dropcols=['url_of_image_pls_no_hotlinks', 'uid_temporary', 'name_temporary', 'description_temp', 'url_temp', 'supporting_document_link', 'dispositions_exclusions_internal_use,_not_for_analysis', 'foreknowledge_of_mental_illness?_internal_use,_not_for_analysis']",
   "metadata": {
    "tags": [],
    "cell_id": "00005-b614326f-fcc0-4954-97be-ddd0dc877f06",
    "deepnote_to_be_reexecuted": false,
    "source_hash": "d6969d0b",
    "execution_start": 1622132720865,
    "execution_millis": 337362,
    "deepnote_cell_type": "code"
   },
   "outputs": [],
   "execution_count": null
  },
  {
   "cell_type": "code",
   "source": "# df.drop(columns=dropcols, inplace=True)",
   "metadata": {
    "tags": [],
    "cell_id": "00007-c2cde24a-1d86-4d94-9851-ecd655f4bfd8",
    "deepnote_to_be_reexecuted": false,
    "source_hash": "fc92ca0c",
    "execution_start": 1622132720866,
    "execution_millis": 0,
    "deepnote_cell_type": "code"
   },
   "outputs": [],
   "execution_count": null
  },
  {
   "cell_type": "code",
   "source": "# df.head(1)",
   "metadata": {
    "tags": [],
    "cell_id": "00008-806283c6-2fc1-4541-a382-1254fb7d9eaa",
    "deepnote_to_be_reexecuted": false,
    "source_hash": "a5a9c280",
    "execution_start": 1622132720909,
    "execution_millis": 0,
    "deepnote_cell_type": "code"
   },
   "outputs": [],
   "execution_count": null
  },
  {
   "cell_type": "code",
   "source": "# df.info()",
   "metadata": {
    "tags": [],
    "cell_id": "00011-505d8d4e-e976-474b-aac8-65823d7d1007",
    "deepnote_to_be_reexecuted": false,
    "source_hash": "78d4ffb5",
    "execution_start": 1622132720909,
    "execution_millis": 1,
    "deepnote_cell_type": "code"
   },
   "outputs": [],
   "execution_count": null
  },
  {
   "cell_type": "code",
   "source": "# df.intended_use_of_force_developing.value_counts()",
   "metadata": {
    "tags": [],
    "cell_id": "00011-fb6a4d74-3552-45af-a4ec-d36a37c85258",
    "deepnote_to_be_reexecuted": false,
    "source_hash": "c48725b7",
    "execution_start": 1622132720910,
    "execution_millis": 0,
    "deepnote_cell_type": "code"
   },
   "outputs": [],
   "execution_count": null
  },
  {
   "cell_type": "code",
   "source": "",
   "metadata": {
    "cell_id": "00010-6ca5c803-1143-4358-a7c7-ad878a1ffbf9",
    "deepnote_to_be_reexecuted": false,
    "source_hash": "b623e53d",
    "execution_start": 1622132720911,
    "execution_millis": 318078,
    "deepnote_cell_type": "visualization"
   },
   "outputs": [],
   "execution_count": null
  },
  {
   "cell_type": "code",
   "source": "# df.set_index('unique_id', inplace=True)",
   "metadata": {
    "tags": [],
    "cell_id": "00009-5715f70b-f184-4ceb-9772-b468980806d5",
    "deepnote_to_be_reexecuted": false,
    "source_hash": "cbf303ac",
    "execution_start": 1622132720916,
    "execution_millis": 317711,
    "deepnote_cell_type": "code"
   },
   "outputs": [],
   "execution_count": null
  },
  {
   "cell_type": "code",
   "source": "# df.isnull().sum()",
   "metadata": {
    "tags": [],
    "cell_id": "00011-c161e82d-4078-4d40-92f2-40ea799a6070",
    "deepnote_to_be_reexecuted": false,
    "source_hash": "a473ab54",
    "execution_start": 1622132720947,
    "execution_millis": 317359,
    "deepnote_cell_type": "code"
   },
   "outputs": [],
   "execution_count": null
  },
  {
   "cell_type": "code",
   "source": "# df.dropna(inplace=True)",
   "metadata": {
    "tags": [],
    "cell_id": "00012-e20fe068-e8af-46dd-bc10-ef61837b3133",
    "deepnote_to_be_reexecuted": false,
    "source_hash": "738e0b55",
    "execution_start": 1622132720948,
    "execution_millis": 316856,
    "deepnote_cell_type": "code"
   },
   "outputs": [],
   "execution_count": null
  },
  {
   "cell_type": "code",
   "source": "# df.shape",
   "metadata": {
    "tags": [],
    "cell_id": "00013-a970aee5-e9d2-45ab-bd91-d05c56c463d2",
    "deepnote_to_be_reexecuted": false,
    "source_hash": "709ba71f",
    "execution_start": 1622132720948,
    "execution_millis": 316283,
    "deepnote_cell_type": "code"
   },
   "outputs": [],
   "execution_count": null
  },
  {
   "cell_type": "code",
   "source": "# df.aggressive_physical_movement.value_counts()",
   "metadata": {
    "tags": [],
    "cell_id": "00014-379aa716-d398-4c0d-b83b-2bc3a275f93d",
    "deepnote_to_be_reexecuted": false,
    "source_hash": "840d5352",
    "execution_start": 1622132720949,
    "execution_millis": 315822,
    "deepnote_cell_type": "code"
   },
   "outputs": [],
   "execution_count": null
  },
  {
   "cell_type": "code",
   "source": "# df = w.wrangle_new_data(cached=True)",
   "metadata": {
    "tags": [],
    "cell_id": "00019-578915eb-2429-4a22-8f35-0f86f21d73d3",
    "deepnote_to_be_reexecuted": false,
    "source_hash": "a2a595ad",
    "execution_start": 1622132720954,
    "execution_millis": 53727,
    "deepnote_cell_type": "code"
   },
   "outputs": [
    {
     "name": "stderr",
     "text": "/work/police_violence/wrangle.py:246: FutureWarning: The default value of regex will change from True to False in a future version. In addition, single character regular expressions will*not* be treated as literal strings when regex=True.\n  df.columns = df.columns.str.lower().str.replace(' ', '_').str.replace('/',\"_\").str.replace('(','').str.replace(')','')\n",
     "output_type": "stream"
    }
   ],
   "execution_count": null
  },
  {
   "cell_type": "code",
   "source": "# df.shape",
   "metadata": {
    "tags": [],
    "cell_id": "00020-5d20018f-df26-42c3-be84-8aba9b774191",
    "deepnote_to_be_reexecuted": false,
    "source_hash": "14f60b8f",
    "execution_start": 1622132774699,
    "execution_millis": 8,
    "deepnote_cell_type": "code"
   },
   "outputs": [
    {
     "output_type": "execute_result",
     "execution_count": 18,
     "data": {
      "text/plain": "(13125, 24)"
     },
     "metadata": {}
    }
   ],
   "execution_count": null
  },
  {
   "cell_type": "code",
   "source": "# df.head(1)",
   "metadata": {
    "tags": [],
    "cell_id": "00021-d737e049-9f4e-4a7d-9f41-308fc5d57c5a",
    "deepnote_to_be_reexecuted": false,
    "source_hash": "460f028f",
    "execution_start": 1622133697631,
    "execution_millis": 7,
    "deepnote_cell_type": "code"
   },
   "outputs": [
    {
     "output_type": "execute_result",
     "execution_count": 53,
     "data": {
      "application/vnd.deepnote.dataframe.v2+json": {
       "row_count": 1,
       "column_count": 24,
       "columns": [
        {
         "name": "unique_id",
         "dtype": "float64",
         "stats": {
          "unique_count": 1,
          "nan_count": 0,
          "min": "14050.0",
          "max": "14050.0",
          "histogram": [
           {
            "bin_start": 14049.5,
            "bin_end": 14049.6,
            "count": 0
           },
           {
            "bin_start": 14049.6,
            "bin_end": 14049.7,
            "count": 0
           },
           {
            "bin_start": 14049.7,
            "bin_end": 14049.8,
            "count": 0
           },
           {
            "bin_start": 14049.8,
            "bin_end": 14049.9,
            "count": 0
           },
           {
            "bin_start": 14049.9,
            "bin_end": 14050,
            "count": 0
           },
           {
            "bin_start": 14050,
            "bin_end": 14050.1,
            "count": 1
           },
           {
            "bin_start": 14050.1,
            "bin_end": 14050.2,
            "count": 0
           },
           {
            "bin_start": 14050.2,
            "bin_end": 14050.3,
            "count": 0
           },
           {
            "bin_start": 14050.3,
            "bin_end": 14050.4,
            "count": 0
           },
           {
            "bin_start": 14050.4,
            "bin_end": 14050.5,
            "count": 0
           }
          ]
         }
        },
        {
         "name": "name",
         "dtype": "object",
         "stats": {
          "unique_count": 1,
          "nan_count": 0,
          "categories": [
           {
            "name": "Robert Ventry",
            "count": 1
           }
          ]
         }
        },
        {
         "name": "age",
         "dtype": "float64",
         "stats": {
          "unique_count": 1,
          "nan_count": 0,
          "min": "20.0",
          "max": "20.0",
          "histogram": [
           {
            "bin_start": 19.5,
            "bin_end": 19.6,
            "count": 0
           },
           {
            "bin_start": 19.6,
            "bin_end": 19.7,
            "count": 0
           },
           {
            "bin_start": 19.7,
            "bin_end": 19.8,
            "count": 0
           },
           {
            "bin_start": 19.8,
            "bin_end": 19.9,
            "count": 0
           },
           {
            "bin_start": 19.9,
            "bin_end": 20,
            "count": 0
           },
           {
            "bin_start": 20,
            "bin_end": 20.1,
            "count": 1
           },
           {
            "bin_start": 20.1,
            "bin_end": 20.2,
            "count": 0
           },
           {
            "bin_start": 20.2,
            "bin_end": 20.3,
            "count": 0
           },
           {
            "bin_start": 20.3,
            "bin_end": 20.4,
            "count": 0
           },
           {
            "bin_start": 20.4,
            "bin_end": 20.5,
            "count": 0
           }
          ]
         }
        },
        {
         "name": "gender",
         "dtype": "object",
         "stats": {
          "unique_count": 1,
          "nan_count": 0,
          "categories": [
           {
            "name": "Male",
            "count": 1
           }
          ]
         }
        },
        {
         "name": "race",
         "dtype": "object",
         "stats": {
          "unique_count": 1,
          "nan_count": 0,
          "categories": [
           {
            "name": "African-American/Black",
            "count": 1
           }
          ]
         }
        },
        {
         "name": "race_with_imputations",
         "dtype": "object",
         "stats": {
          "unique_count": 1,
          "nan_count": 0,
          "categories": [
           {
            "name": "African-American/Black",
            "count": 1
           }
          ]
         }
        },
        {
         "name": "imputation_probability",
         "dtype": "object",
         "stats": {
          "unique_count": 1,
          "nan_count": 0,
          "categories": [
           {
            "name": "Not imputed",
            "count": 1
           }
          ]
         }
        },
        {
         "name": "date_of_injury_resulting_in_death_month_day_year",
         "dtype": "datetime64[ns]",
         "stats": {
          "unique_count": 1,
          "nan_count": 0,
          "min": "2007-02-07 00:00:00",
          "max": "2007-02-07 00:00:00",
          "histogram": null
         }
        },
        {
         "name": "location_of_injury_address",
         "dtype": "object",
         "stats": {
          "unique_count": 1,
          "nan_count": 0,
          "categories": [
           {
            "name": "4131 Camden Ave",
            "count": 1
           }
          ]
         }
        },
        {
         "name": "location_of_death_city",
         "dtype": "object",
         "stats": {
          "unique_count": 1,
          "nan_count": 0,
          "categories": [
           {
            "name": "Omaha",
            "count": 1
           }
          ]
         }
        },
        {
         "name": "state",
         "dtype": "object",
         "stats": {
          "unique_count": 1,
          "nan_count": 0,
          "categories": [
           {
            "name": "NE",
            "count": 1
           }
          ]
         }
        },
        {
         "name": "location_of_death_zip_code",
         "dtype": "float64",
         "stats": {
          "unique_count": 1,
          "nan_count": 0,
          "min": "68111.0",
          "max": "68111.0",
          "histogram": [
           {
            "bin_start": 68110.5,
            "bin_end": 68110.6,
            "count": 0
           },
           {
            "bin_start": 68110.6,
            "bin_end": 68110.7,
            "count": 0
           },
           {
            "bin_start": 68110.7,
            "bin_end": 68110.8,
            "count": 0
           },
           {
            "bin_start": 68110.8,
            "bin_end": 68110.9,
            "count": 0
           },
           {
            "bin_start": 68110.9,
            "bin_end": 68111,
            "count": 0
           },
           {
            "bin_start": 68111,
            "bin_end": 68111.1,
            "count": 1
           },
           {
            "bin_start": 68111.1,
            "bin_end": 68111.2,
            "count": 0
           },
           {
            "bin_start": 68111.2,
            "bin_end": 68111.3,
            "count": 0
           },
           {
            "bin_start": 68111.3,
            "bin_end": 68111.4,
            "count": 0
           },
           {
            "bin_start": 68111.4,
            "bin_end": 68111.5,
            "count": 0
           }
          ]
         }
        },
        {
         "name": "location_of_death_county",
         "dtype": "object",
         "stats": {
          "unique_count": 1,
          "nan_count": 0,
          "categories": [
           {
            "name": "Douglas",
            "count": 1
           }
          ]
         }
        },
        {
         "name": "full_address",
         "dtype": "object",
         "stats": {
          "unique_count": 1,
          "nan_count": 0,
          "categories": [
           {
            "name": "4131 Camden Ave Omaha NE 68111 Douglas",
            "count": 1
           }
          ]
         }
        },
        {
         "name": "latitude",
         "dtype": "float64",
         "stats": {
          "unique_count": 1,
          "nan_count": 0,
          "min": "41.3056314",
          "max": "41.3056314",
          "histogram": [
           {
            "bin_start": 40.8056314,
            "bin_end": 40.905631400000004,
            "count": 0
           },
           {
            "bin_start": 40.905631400000004,
            "bin_end": 41.005631400000006,
            "count": 0
           },
           {
            "bin_start": 41.005631400000006,
            "bin_end": 41.1056314,
            "count": 0
           },
           {
            "bin_start": 41.1056314,
            "bin_end": 41.2056314,
            "count": 0
           },
           {
            "bin_start": 41.2056314,
            "bin_end": 41.3056314,
            "count": 0
           },
           {
            "bin_start": 41.3056314,
            "bin_end": 41.405631400000004,
            "count": 1
           },
           {
            "bin_start": 41.405631400000004,
            "bin_end": 41.505631400000006,
            "count": 0
           },
           {
            "bin_start": 41.505631400000006,
            "bin_end": 41.6056314,
            "count": 0
           },
           {
            "bin_start": 41.6056314,
            "bin_end": 41.7056314,
            "count": 0
           },
           {
            "bin_start": 41.7056314,
            "bin_end": 41.8056314,
            "count": 0
           }
          ]
         }
        },
        {
         "name": "longitude",
         "dtype": "float64",
         "stats": {
          "unique_count": 1,
          "nan_count": 0,
          "min": "-95.9753473",
          "max": "-95.9753473",
          "histogram": [
           {
            "bin_start": -96.4753473,
            "bin_end": -96.3753473,
            "count": 0
           },
           {
            "bin_start": -96.3753473,
            "bin_end": -96.27534729999999,
            "count": 0
           },
           {
            "bin_start": -96.27534729999999,
            "bin_end": -96.1753473,
            "count": 0
           },
           {
            "bin_start": -96.1753473,
            "bin_end": -96.07534729999999,
            "count": 0
           },
           {
            "bin_start": -96.07534729999999,
            "bin_end": -95.9753473,
            "count": 0
           },
           {
            "bin_start": -95.9753473,
            "bin_end": -95.8753473,
            "count": 1
           },
           {
            "bin_start": -95.8753473,
            "bin_end": -95.77534729999999,
            "count": 0
           },
           {
            "bin_start": -95.77534729999999,
            "bin_end": -95.6753473,
            "count": 0
           },
           {
            "bin_start": -95.6753473,
            "bin_end": -95.57534729999999,
            "count": 0
           },
           {
            "bin_start": -95.57534729999999,
            "bin_end": -95.4753473,
            "count": 0
           }
          ]
         }
        },
        {
         "name": "agency_or_agencies_involved",
         "dtype": "object",
         "stats": {
          "unique_count": 1,
          "nan_count": 0,
          "categories": [
           {
            "name": "Omaha Police Department",
            "count": 1
           }
          ]
         }
        },
        {
         "name": "highest_level_of_force",
         "dtype": "object",
         "stats": {
          "unique_count": 1,
          "nan_count": 0,
          "categories": [
           {
            "name": "Gunshot",
            "count": 1
           }
          ]
         }
        },
        {
         "name": "armed_unarmed",
         "dtype": "object",
         "stats": {
          "unique_count": 1,
          "nan_count": 0,
          "categories": [
           {
            "name": "Armed",
            "count": 1
           }
          ]
         }
        },
        {
         "name": "alleged_weapon",
         "dtype": "object",
         "stats": {
          "unique_count": 1,
          "nan_count": 0,
          "categories": [
           {
            "name": "Edged weapon/Knife",
            "count": 1
           }
          ]
         }
        },
        {
         "name": "aggressive_physical_movement",
         "dtype": "object",
         "stats": {
          "unique_count": 1,
          "nan_count": 0,
          "categories": [
           {
            "name": "Brandished weapon",
            "count": 1
           }
          ]
         }
        },
        {
         "name": "fleeing_not_fleeing",
         "dtype": "object",
         "stats": {
          "unique_count": 1,
          "nan_count": 0,
          "categories": [
           {
            "name": "Not fleeing",
            "count": 1
           }
          ]
         }
        },
        {
         "name": "brief_description",
         "dtype": "object",
         "stats": {
          "unique_count": 1,
          "nan_count": 0,
          "categories": [
           {
            "name": "Police called to scene found Ventry lunging with a knife at a woman. Vetnry continued fighting after being shot by Officer Jerry Kassen and tasered by another officer.",
            "count": 1
           }
          ]
         }
        },
        {
         "name": "intended_use_of_force_developing",
         "dtype": "object",
         "stats": {
          "unique_count": 1,
          "nan_count": 0,
          "categories": [
           {
            "name": "Deadly force",
            "count": 1
           }
          ]
         }
        },
        {
         "name": "_deepnote_index_column",
         "dtype": "int64"
        }
       ],
       "rows_top": [
        {
         "unique_id": 14050,
         "name": "Robert Ventry",
         "age": 20,
         "gender": "Male",
         "race": "African-American/Black",
         "race_with_imputations": "African-American/Black",
         "imputation_probability": "Not imputed",
         "date_of_injury_resulting_in_death_month_day_year": "2007-02-07T00:00:00.000000",
         "location_of_injury_address": "4131 Camden Ave",
         "location_of_death_city": "Omaha",
         "state": "NE",
         "location_of_death_zip_code": 68111,
         "location_of_death_county": "Douglas",
         "full_address": "4131 Camden Ave Omaha NE 68111 Douglas",
         "latitude": 41.3056314,
         "longitude": -95.9753473,
         "agency_or_agencies_involved": "Omaha Police Department",
         "highest_level_of_force": "Gunshot",
         "armed_unarmed": "Armed",
         "alleged_weapon": "Edged weapon/Knife",
         "aggressive_physical_movement": "Brandished weapon",
         "fleeing_not_fleeing": "Not fleeing",
         "brief_description": "Police called to scene found Ventry lunging with a knife at a woman. Vetnry continued fighting after being shot by Officer Jerry Kassen and tasered by another officer.",
         "intended_use_of_force_developing": "Deadly force",
         "_deepnote_index_column": 7446
        }
       ],
       "rows_bottom": null
      },
      "text/plain": "      unique_id           name   age gender                    race  \\\n7446    14050.0  Robert Ventry  20.0   Male  African-American/Black   \n\n       race_with_imputations imputation_probability  \\\n7446  African-American/Black            Not imputed   \n\n     date_of_injury_resulting_in_death_month_day_year  \\\n7446                                       2007-02-07   \n\n     location_of_injury_address location_of_death_city  ...   latitude  \\\n7446            4131 Camden Ave                  Omaha  ...  41.305631   \n\n      longitude agency_or_agencies_involved highest_level_of_force  \\\n7446 -95.975347     Omaha Police Department                Gunshot   \n\n      armed_unarmed      alleged_weapon aggressive_physical_movement  \\\n7446          Armed  Edged weapon/Knife            Brandished weapon   \n\n     fleeing_not_fleeing                                  brief_description  \\\n7446         Not fleeing  Police called to scene found Ventry lunging wi...   \n\n     intended_use_of_force_developing  \n7446                     Deadly force  \n\n[1 rows x 24 columns]",
      "text/html": "<div>\n<style scoped>\n    .dataframe tbody tr th:only-of-type {\n        vertical-align: middle;\n    }\n\n    .dataframe tbody tr th {\n        vertical-align: top;\n    }\n\n    .dataframe thead th {\n        text-align: right;\n    }\n</style>\n<table border=\"1\" class=\"dataframe\">\n  <thead>\n    <tr style=\"text-align: right;\">\n      <th></th>\n      <th>unique_id</th>\n      <th>name</th>\n      <th>age</th>\n      <th>gender</th>\n      <th>race</th>\n      <th>race_with_imputations</th>\n      <th>imputation_probability</th>\n      <th>date_of_injury_resulting_in_death_month_day_year</th>\n      <th>location_of_injury_address</th>\n      <th>location_of_death_city</th>\n      <th>...</th>\n      <th>latitude</th>\n      <th>longitude</th>\n      <th>agency_or_agencies_involved</th>\n      <th>highest_level_of_force</th>\n      <th>armed_unarmed</th>\n      <th>alleged_weapon</th>\n      <th>aggressive_physical_movement</th>\n      <th>fleeing_not_fleeing</th>\n      <th>brief_description</th>\n      <th>intended_use_of_force_developing</th>\n    </tr>\n  </thead>\n  <tbody>\n    <tr>\n      <th>7446</th>\n      <td>14050.0</td>\n      <td>Robert Ventry</td>\n      <td>20.0</td>\n      <td>Male</td>\n      <td>African-American/Black</td>\n      <td>African-American/Black</td>\n      <td>Not imputed</td>\n      <td>2007-02-07</td>\n      <td>4131 Camden Ave</td>\n      <td>Omaha</td>\n      <td>...</td>\n      <td>41.305631</td>\n      <td>-95.975347</td>\n      <td>Omaha Police Department</td>\n      <td>Gunshot</td>\n      <td>Armed</td>\n      <td>Edged weapon/Knife</td>\n      <td>Brandished weapon</td>\n      <td>Not fleeing</td>\n      <td>Police called to scene found Ventry lunging wi...</td>\n      <td>Deadly force</td>\n    </tr>\n  </tbody>\n</table>\n<p>1 rows × 24 columns</p>\n</div>"
     },
     "metadata": {}
    }
   ],
   "execution_count": null
  },
  {
   "cell_type": "code",
   "source": "# df.age = df.age.astype('float64')",
   "metadata": {
    "tags": [],
    "cell_id": "00021-3fee5c6c-718f-4fc4-a96a-6e4b6da808a3",
    "deepnote_to_be_reexecuted": false,
    "source_hash": "65ec2f2",
    "execution_start": 1622133645478,
    "execution_millis": 6,
    "deepnote_cell_type": "code"
   },
   "outputs": [],
   "execution_count": null
  },
  {
   "cell_type": "code",
   "source": "# df.loc[28961,'latitude'] = '42.167834'",
   "metadata": {
    "tags": [],
    "cell_id": "00023-9f7e3c05-abdf-46a2-afd3-cd4041396c93",
    "deepnote_to_be_reexecuted": false,
    "source_hash": "100ce5bc",
    "execution_start": 1622133625147,
    "execution_millis": 0,
    "deepnote_cell_type": "code"
   },
   "outputs": [],
   "execution_count": null
  },
  {
   "cell_type": "code",
   "source": "# df.latitude = df.latitude.astype('float64')",
   "metadata": {
    "tags": [],
    "cell_id": "00024-968dd0db-908b-4d72-9083-0d658f981fe1",
    "deepnote_to_be_reexecuted": false,
    "source_hash": "5ba5ab9",
    "execution_start": 1622133765731,
    "execution_millis": 5,
    "deepnote_cell_type": "code"
   },
   "outputs": [],
   "execution_count": null
  },
  {
   "cell_type": "code",
   "source": "# columns = list(df.columns)\n# obj_cols = []\n\n# for col in columns:\n#     if df[col].dtype == 'object':\n#         obj_cols.append(col)\n",
   "metadata": {
    "tags": [],
    "cell_id": "00024-871fd01b-63c0-45c7-845b-47933f98e13e",
    "deepnote_to_be_reexecuted": false,
    "source_hash": "c9c3b5b4",
    "execution_start": 1622134220559,
    "execution_millis": 3,
    "deepnote_cell_type": "code"
   },
   "outputs": [],
   "execution_count": null
  },
  {
   "cell_type": "code",
   "source": "# obj_cols",
   "metadata": {
    "tags": [],
    "cell_id": "00025-662d01c7-4dbd-404c-975e-025723dce8f0",
    "deepnote_to_be_reexecuted": false,
    "source_hash": "171c095b",
    "execution_start": 1622134229335,
    "execution_millis": 8,
    "deepnote_cell_type": "code"
   },
   "outputs": [
    {
     "output_type": "execute_result",
     "execution_count": 64,
     "data": {
      "text/plain": "['name',\n 'gender',\n 'race',\n 'race_with_imputations',\n 'imputation_probability',\n 'location_of_injury_address',\n 'location_of_death_city',\n 'state',\n 'location_of_death_county',\n 'full_address',\n 'agency_or_agencies_involved',\n 'highest_level_of_force',\n 'armed_unarmed',\n 'alleged_weapon',\n 'aggressive_physical_movement',\n 'fleeing_not_fleeing',\n 'brief_description',\n 'intended_use_of_force_developing']"
     },
     "metadata": {}
    }
   ],
   "execution_count": null
  },
  {
   "cell_type": "code",
   "source": "# for col in obj_cols:\n#     df[col] = df[col].str.lower().str.strip()",
   "metadata": {
    "tags": [],
    "cell_id": "00026-dfba6c7c-db3a-4140-b09f-aa863f1a5a76",
    "deepnote_to_be_reexecuted": false,
    "source_hash": "5e925c50",
    "execution_start": 1622134441977,
    "execution_millis": 310,
    "deepnote_cell_type": "code"
   },
   "outputs": [],
   "execution_count": null
  },
  {
   "cell_type": "code",
   "source": "# df.head()",
   "metadata": {
    "tags": [],
    "cell_id": "00027-4d1a4aad-4e0f-4148-aa55-9148243389cb",
    "deepnote_to_be_reexecuted": false,
    "source_hash": "c085b6ba",
    "execution_start": 1622134442428,
    "execution_millis": 48,
    "deepnote_cell_type": "code"
   },
   "outputs": [
    {
     "output_type": "execute_result",
     "execution_count": 69,
     "data": {
      "application/vnd.deepnote.dataframe.v2+json": {
       "row_count": 5,
       "column_count": 24,
       "columns": [
        {
         "name": "unique_id",
         "dtype": "float64",
         "stats": {
          "unique_count": 5,
          "nan_count": 0,
          "min": "12167.0",
          "max": "23449.0",
          "histogram": [
           {
            "bin_start": 12167,
            "bin_end": 13295.2,
            "count": 3
           },
           {
            "bin_start": 13295.2,
            "bin_end": 14423.4,
            "count": 1
           },
           {
            "bin_start": 14423.4,
            "bin_end": 15551.6,
            "count": 0
           },
           {
            "bin_start": 15551.6,
            "bin_end": 16679.8,
            "count": 0
           },
           {
            "bin_start": 16679.8,
            "bin_end": 17808,
            "count": 0
           },
           {
            "bin_start": 17808,
            "bin_end": 18936.2,
            "count": 0
           },
           {
            "bin_start": 18936.2,
            "bin_end": 20064.4,
            "count": 0
           },
           {
            "bin_start": 20064.4,
            "bin_end": 21192.6,
            "count": 0
           },
           {
            "bin_start": 21192.6,
            "bin_end": 22320.800000000003,
            "count": 0
           },
           {
            "bin_start": 22320.800000000003,
            "bin_end": 23449,
            "count": 1
           }
          ]
         }
        },
        {
         "name": "name",
         "dtype": "object",
         "stats": {
          "unique_count": 5,
          "nan_count": 0,
          "categories": [
           {
            "name": "robert ventry",
            "count": 1
           },
           {
            "name": "name withheld by police (dupe)",
            "count": 1
           },
           {
            "name": "3 others",
            "count": 3
           }
          ]
         }
        },
        {
         "name": "age",
         "dtype": "float64",
         "stats": {
          "unique_count": 5,
          "nan_count": 0,
          "min": "12.0",
          "max": "32.0",
          "histogram": [
           {
            "bin_start": 12,
            "bin_end": 14,
            "count": 1
           },
           {
            "bin_start": 14,
            "bin_end": 16,
            "count": 0
           },
           {
            "bin_start": 16,
            "bin_end": 18,
            "count": 0
           },
           {
            "bin_start": 18,
            "bin_end": 20,
            "count": 0
           },
           {
            "bin_start": 20,
            "bin_end": 22,
            "count": 2
           },
           {
            "bin_start": 22,
            "bin_end": 24,
            "count": 0
           },
           {
            "bin_start": 24,
            "bin_end": 26,
            "count": 0
           },
           {
            "bin_start": 26,
            "bin_end": 28,
            "count": 1
           },
           {
            "bin_start": 28,
            "bin_end": 30,
            "count": 0
           },
           {
            "bin_start": 30,
            "bin_end": 32,
            "count": 1
           }
          ]
         }
        },
        {
         "name": "gender",
         "dtype": "object",
         "stats": {
          "unique_count": 2,
          "nan_count": 0,
          "categories": [
           {
            "name": "male",
            "count": 4
           },
           {
            "name": "female",
            "count": 1
           }
          ]
         }
        },
        {
         "name": "race",
         "dtype": "object",
         "stats": {
          "unique_count": 3,
          "nan_count": 0,
          "categories": [
           {
            "name": "european-american/white",
            "count": 3
           },
           {
            "name": "african-american/black",
            "count": 1
           },
           {
            "name": "hispanic/latino",
            "count": 1
           }
          ]
         }
        },
        {
         "name": "race_with_imputations",
         "dtype": "object",
         "stats": {
          "unique_count": 3,
          "nan_count": 0,
          "categories": [
           {
            "name": "european-american/white",
            "count": 3
           },
           {
            "name": "african-american/black",
            "count": 1
           },
           {
            "name": "hispanic/latino",
            "count": 1
           }
          ]
         }
        },
        {
         "name": "imputation_probability",
         "dtype": "object",
         "stats": {
          "unique_count": 1,
          "nan_count": 0,
          "categories": [
           {
            "name": "not imputed",
            "count": 5
           }
          ]
         }
        },
        {
         "name": "date_of_injury_resulting_in_death_month_day_year",
         "dtype": "datetime64[ns]",
         "stats": {
          "unique_count": 3,
          "nan_count": 0,
          "min": "2007-02-07 00:00:00",
          "max": "2013-01-01 00:00:00",
          "histogram": [
           {
            "bin_start": 1170806400000000000,
            "bin_end": 1189425600000000000,
            "count": 1
           },
           {
            "bin_start": 1189425600000000000,
            "bin_end": 1208044800000000000,
            "count": 0
           },
           {
            "bin_start": 1208044800000000000,
            "bin_end": 1226664000000000000,
            "count": 0
           },
           {
            "bin_start": 1226664000000000000,
            "bin_end": 1245283200000000000,
            "count": 0
           },
           {
            "bin_start": 1245283200000000000,
            "bin_end": 1263902400000000000,
            "count": 0
           },
           {
            "bin_start": 1263902400000000000,
            "bin_end": 1282521600000000000,
            "count": 0
           },
           {
            "bin_start": 1282521600000000000,
            "bin_end": 1301140800000000000,
            "count": 0
           },
           {
            "bin_start": 1301140800000000000,
            "bin_end": 1319760000000000000,
            "count": 0
           },
           {
            "bin_start": 1319760000000000000,
            "bin_end": 1338379200000000000,
            "count": 1
           },
           {
            "bin_start": 1338379200000000000,
            "bin_end": 1356998400000000000,
            "count": 3
           }
          ]
         }
        },
        {
         "name": "location_of_injury_address",
         "dtype": "object",
         "stats": {
          "unique_count": 5,
          "nan_count": 0,
          "categories": [
           {
            "name": "4131 camden ave",
            "count": 1
           },
           {
            "name": "1719 e glenn st",
            "count": 1
           },
           {
            "name": "3 others",
            "count": 3
           }
          ]
         }
        },
        {
         "name": "location_of_death_city",
         "dtype": "object",
         "stats": {
          "unique_count": 5,
          "nan_count": 0,
          "categories": [
           {
            "name": "omaha",
            "count": 1
           },
           {
            "name": "tucson",
            "count": 1
           },
           {
            "name": "3 others",
            "count": 3
           }
          ]
         }
        },
        {
         "name": "state",
         "dtype": "object",
         "stats": {
          "unique_count": 5,
          "nan_count": 0,
          "categories": [
           {
            "name": "ne",
            "count": 1
           },
           {
            "name": "az",
            "count": 1
           },
           {
            "name": "3 others",
            "count": 3
           }
          ]
         }
        },
        {
         "name": "location_of_death_zip_code",
         "dtype": "float64",
         "stats": {
          "unique_count": 5,
          "nan_count": 0,
          "min": "54838.0",
          "max": "85719.0",
          "histogram": [
           {
            "bin_start": 54838,
            "bin_end": 57926.1,
            "count": 2
           },
           {
            "bin_start": 57926.1,
            "bin_end": 61014.2,
            "count": 0
           },
           {
            "bin_start": 61014.2,
            "bin_end": 64102.3,
            "count": 0
           },
           {
            "bin_start": 64102.3,
            "bin_end": 67190.4,
            "count": 0
           },
           {
            "bin_start": 67190.4,
            "bin_end": 70278.5,
            "count": 1
           },
           {
            "bin_start": 70278.5,
            "bin_end": 73366.6,
            "count": 0
           },
           {
            "bin_start": 73366.6,
            "bin_end": 76454.7,
            "count": 0
           },
           {
            "bin_start": 76454.7,
            "bin_end": 79542.8,
            "count": 1
           },
           {
            "bin_start": 79542.8,
            "bin_end": 82630.9,
            "count": 0
           },
           {
            "bin_start": 82630.9,
            "bin_end": 85719,
            "count": 1
           }
          ]
         }
        },
        {
         "name": "location_of_death_county",
         "dtype": "object",
         "stats": {
          "unique_count": 4,
          "nan_count": 0,
          "categories": [
           {
            "name": "douglas",
            "count": 2
           },
           {
            "name": "pima",
            "count": 1
           },
           {
            "name": "2 others",
            "count": 2
           }
          ]
         }
        },
        {
         "name": "full_address",
         "dtype": "object",
         "stats": {
          "unique_count": 5,
          "nan_count": 0,
          "categories": [
           {
            "name": "4131 camden ave omaha ne 68111 douglas",
            "count": 1
           },
           {
            "name": "1719 e glenn st tucson az 85719 pima",
            "count": 1
           },
           {
            "name": "3 others",
            "count": 3
           }
          ]
         }
        },
        {
         "name": "latitude",
         "dtype": "float64",
         "stats": {
          "unique_count": 5,
          "nan_count": 0,
          "min": "27.3666409",
          "max": "46.2508616",
          "histogram": [
           {
            "bin_start": 27.3666409,
            "bin_end": 29.25506297,
            "count": 1
           },
           {
            "bin_start": 29.25506297,
            "bin_end": 31.14348504,
            "count": 0
           },
           {
            "bin_start": 31.14348504,
            "bin_end": 33.03190711,
            "count": 1
           },
           {
            "bin_start": 33.03190711,
            "bin_end": 34.92032918,
            "count": 0
           },
           {
            "bin_start": 34.92032918,
            "bin_end": 36.80875125,
            "count": 0
           },
           {
            "bin_start": 36.80875125,
            "bin_end": 38.697173320000005,
            "count": 0
           },
           {
            "bin_start": 38.697173320000005,
            "bin_end": 40.58559539,
            "count": 0
           },
           {
            "bin_start": 40.58559539,
            "bin_end": 42.47401746,
            "count": 1
           },
           {
            "bin_start": 42.47401746,
            "bin_end": 44.36243953,
            "count": 1
           },
           {
            "bin_start": 44.36243953,
            "bin_end": 46.2508616,
            "count": 1
           }
          ]
         }
        },
        {
         "name": "longitude",
         "dtype": "float64",
         "stats": {
          "unique_count": 5,
          "nan_count": 0,
          "min": "-110.946129",
          "max": "-91.8000692999999",
          "histogram": [
           {
            "bin_start": -110.946129,
            "bin_end": -109.03152302999999,
            "count": 1
           },
           {
            "bin_start": -109.03152302999999,
            "bin_end": -107.11691705999998,
            "count": 0
           },
           {
            "bin_start": -107.11691705999998,
            "bin_end": -105.20231108999997,
            "count": 0
           },
           {
            "bin_start": -105.20231108999997,
            "bin_end": -103.28770511999996,
            "count": 0
           },
           {
            "bin_start": -103.28770511999996,
            "bin_end": -101.37309914999994,
            "count": 0
           },
           {
            "bin_start": -101.37309914999994,
            "bin_end": -99.45849317999995,
            "count": 0
           },
           {
            "bin_start": -99.45849317999995,
            "bin_end": -97.54388720999994,
            "count": 1
           },
           {
            "bin_start": -97.54388720999994,
            "bin_end": -95.62928123999993,
            "count": 1
           },
           {
            "bin_start": -95.62928123999993,
            "bin_end": -93.71467526999992,
            "count": 1
           },
           {
            "bin_start": -93.71467526999992,
            "bin_end": -91.8000692999999,
            "count": 1
           }
          ]
         }
        },
        {
         "name": "agency_or_agencies_involved",
         "dtype": "object",
         "stats": {
          "unique_count": 5,
          "nan_count": 0,
          "categories": [
           {
            "name": "omaha police department",
            "count": 1
           },
           {
            "name": "tucson police department",
            "count": 1
           },
           {
            "name": "3 others",
            "count": 3
           }
          ]
         }
        },
        {
         "name": "highest_level_of_force",
         "dtype": "object",
         "stats": {
          "unique_count": 3,
          "nan_count": 0,
          "categories": [
           {
            "name": "gunshot",
            "count": 3
           },
           {
            "name": "medical emergency",
            "count": 1
           },
           {
            "name": "tasered",
            "count": 1
           }
          ]
         }
        },
        {
         "name": "armed_unarmed",
         "dtype": "object",
         "stats": {
          "unique_count": 2,
          "nan_count": 0,
          "categories": [
           {
            "name": "armed",
            "count": 3
           },
           {
            "name": "unarmed",
            "count": 2
           }
          ]
         }
        },
        {
         "name": "alleged_weapon",
         "dtype": "object",
         "stats": {
          "unique_count": 3,
          "nan_count": 0,
          "categories": [
           {
            "name": "firearm/rifle",
            "count": 2
           },
           {
            "name": "none",
            "count": 2
           },
           {
            "name": "edged weapon/knife",
            "count": 1
           }
          ]
         }
        },
        {
         "name": "aggressive_physical_movement",
         "dtype": "object",
         "stats": {
          "unique_count": 4,
          "nan_count": 0,
          "categories": [
           {
            "name": "brandished weapon",
            "count": 2
           },
           {
            "name": "uncertain",
            "count": 1
           },
           {
            "name": "2 others",
            "count": 2
           }
          ]
         }
        },
        {
         "name": "fleeing_not_fleeing",
         "dtype": "object",
         "stats": {
          "unique_count": 3,
          "nan_count": 0,
          "categories": [
           {
            "name": "not fleeing",
            "count": 3
           },
           {
            "name": "uncertain",
            "count": 1
           },
           {
            "name": "fleeing/foot",
            "count": 1
           }
          ]
         }
        },
        {
         "name": "brief_description",
         "dtype": "object",
         "stats": {
          "unique_count": 5,
          "nan_count": 0,
          "categories": [
           {
            "name": "police called to scene found ventry lunging with a knife at a woman. vetnry continued fighting after being shot by officer jerry kassen and tasered by another officer.",
            "count": 1
           },
           {
            "name": "an unidentified person was shot and killed by a tucson officer. no news reports are available for this death. the person was allegedly armed with a rifle.",
            "count": 1
           },
           {
            "name": "3 others",
            "count": 3
           }
          ]
         }
        },
        {
         "name": "intended_use_of_force_developing",
         "dtype": "object",
         "stats": {
          "unique_count": 3,
          "nan_count": 0,
          "categories": [
           {
            "name": "deadly force",
            "count": 3
           },
           {
            "name": "no",
            "count": 1
           },
           {
            "name": "less-than-lethal force",
            "count": 1
           }
          ]
         }
        },
        {
         "name": "_deepnote_index_column",
         "dtype": "int64"
        }
       ],
       "rows_top": [
        {
         "unique_id": 14050,
         "name": "robert ventry",
         "age": 20,
         "gender": "male",
         "race": "african-american/black",
         "race_with_imputations": "african-american/black",
         "imputation_probability": "not imputed",
         "date_of_injury_resulting_in_death_month_day_year": "2007-02-07T00:00:00.000000",
         "location_of_injury_address": "4131 camden ave",
         "location_of_death_city": "omaha",
         "state": "ne",
         "location_of_death_zip_code": 68111,
         "location_of_death_county": "douglas",
         "full_address": "4131 camden ave omaha ne 68111 douglas",
         "latitude": 41.3056314,
         "longitude": -95.9753473,
         "agency_or_agencies_involved": "omaha police department",
         "highest_level_of_force": "gunshot",
         "armed_unarmed": "armed",
         "alleged_weapon": "edged weapon/knife",
         "aggressive_physical_movement": "brandished weapon",
         "fleeing_not_fleeing": "not fleeing",
         "brief_description": "police called to scene found ventry lunging with a knife at a woman. vetnry continued fighting after being shot by officer jerry kassen and tasered by another officer.",
         "intended_use_of_force_developing": "deadly force",
         "_deepnote_index_column": 7446
        },
        {
         "unique_id": 23449,
         "name": "name withheld by police (dupe)",
         "age": 32,
         "gender": "male",
         "race": "european-american/white",
         "race_with_imputations": "european-american/white",
         "imputation_probability": "not imputed",
         "date_of_injury_resulting_in_death_month_day_year": "2012-03-23T00:00:00.000000",
         "location_of_injury_address": "1719 e glenn st",
         "location_of_death_city": "tucson",
         "state": "az",
         "location_of_death_zip_code": 85719,
         "location_of_death_county": "pima",
         "full_address": "1719 e glenn st tucson az 85719 pima",
         "latitude": 32.257805,
         "longitude": -110.946129,
         "agency_or_agencies_involved": "tucson police department",
         "highest_level_of_force": "gunshot",
         "armed_unarmed": "armed",
         "alleged_weapon": "firearm/rifle",
         "aggressive_physical_movement": "uncertain",
         "fleeing_not_fleeing": "uncertain",
         "brief_description": "an unidentified person was shot and killed by a tucson officer. no news reports are available for this death. the person was allegedly armed with a rifle.",
         "intended_use_of_force_developing": "deadly force",
         "_deepnote_index_column": 14054
        },
        {
         "unique_id": 12167,
         "name": "leesa rene ramirez",
         "age": 12,
         "gender": "female",
         "race": "hispanic/latino",
         "race_with_imputations": "hispanic/latino",
         "imputation_probability": "not imputed",
         "date_of_injury_resulting_in_death_month_day_year": "2013-01-01T00:00:00.000000",
         "location_of_injury_address": "nw 6th street and n. broadway st",
         "location_of_death_city": "premont",
         "state": "tx",
         "location_of_death_zip_code": 78375,
         "location_of_death_county": "jim wells",
         "full_address": "nw 6th street and n. broadway st premont tx 78375 jim wells",
         "latitude": 27.3666409,
         "longitude": -98.1222828,
         "agency_or_agencies_involved": "texas department of public safety",
         "highest_level_of_force": "medical emergency",
         "armed_unarmed": "unarmed",
         "alleged_weapon": "none",
         "aggressive_physical_movement": "none",
         "fleeing_not_fleeing": "fleeing/foot",
         "brief_description": "a trooper pursued a truck driven by a 14-year-old male with two female passengers, leesa rene ramirez and an unnamed 12-year-old. the truck spun out and stopped. all three stepped out of the vehicle and ran away. ramirez collapsed. the trooper gave her cpr and called paramedics. ramirez died at the scene.",
         "intended_use_of_force_developing": "no",
         "_deepnote_index_column": 15243
        },
        {
         "unique_id": 12171,
         "name": "andrew derek layton",
         "age": 26,
         "gender": "male",
         "race": "european-american/white",
         "race_with_imputations": "european-american/white",
         "imputation_probability": "not imputed",
         "date_of_injury_resulting_in_death_month_day_year": "2013-01-01T00:00:00.000000",
         "location_of_injury_address": "410 s riverfront drive",
         "location_of_death_city": "mankato",
         "state": "mn",
         "location_of_death_zip_code": 56001,
         "location_of_death_county": "blue earth",
         "full_address": "410 s riverfront drive mankato mn 56001 blue earth",
         "latitude": 44.1659029,
         "longitude": -94.0065736999999,
         "agency_or_agencies_involved": "mankato department of public safety",
         "highest_level_of_force": "tasered",
         "armed_unarmed": "unarmed",
         "alleged_weapon": "none",
         "aggressive_physical_movement": "struggled",
         "fleeing_not_fleeing": "not fleeing",
         "brief_description": "former combat medic andrew derek layton was found unconscious at 4:45 a.m. on new year's day in the entryway of a grocery store. combative and resistive to officers rousing him, he was tasered twice, which stopped his heart. layton was revived but lapsed into coma and died five days later. friends held that he'd been injured in a fight; police refused to be open about details.",
         "intended_use_of_force_developing": "less-than-lethal force",
         "_deepnote_index_column": 15244
        },
        {
         "unique_id": 12172,
         "name": "andrew l. closson",
         "age": 21,
         "gender": "male",
         "race": "european-american/white",
         "race_with_imputations": "european-american/white",
         "imputation_probability": "not imputed",
         "date_of_injury_resulting_in_death_month_day_year": "2013-01-01T00:00:00.000000",
         "location_of_injury_address": "u.s. highway 53",
         "location_of_death_city": "gordon",
         "state": "wi",
         "location_of_death_zip_code": 54838,
         "location_of_death_county": "douglas",
         "full_address": "u.s. highway 53 gordon wi 54838 douglas",
         "latitude": 46.2508616,
         "longitude": -91.8000692999999,
         "agency_or_agencies_involved": "douglas county sheriff's office",
         "highest_level_of_force": "gunshot",
         "armed_unarmed": "armed",
         "alleged_weapon": "firearm/rifle",
         "aggressive_physical_movement": "brandished weapon",
         "fleeing_not_fleeing": "not fleeing",
         "brief_description": "deputies responded to a 911 call of shots fired in andrew l. closson's home. they set up a perimeter, however closson was able to escape through the back of the house. lt. christopher hoyt, driving to the scene, saw a man hitchhiking on the northbound shoulder of u.s. highway 53 just north of gordon. hoyt turned on lights, exited the vehicle, drew his weapon, and demanded closson show his hands. andrew closson allegedly raised a rifle by his leg, pointing it at the deputy. hoyt shot three times, killing closson. shooting was deemed justified by douglas county district attorney dan blank.",
         "intended_use_of_force_developing": "deadly force",
         "_deepnote_index_column": 15245
        }
       ],
       "rows_bottom": null
      },
      "text/plain": "       unique_id                            name   age  gender  \\\n7446     14050.0                   robert ventry  20.0    male   \n14054    23449.0  name withheld by police (dupe)  32.0    male   \n15243    12167.0              leesa rene ramirez  12.0  female   \n15244    12171.0             andrew derek layton  26.0    male   \n15245    12172.0               andrew l. closson  21.0    male   \n\n                          race    race_with_imputations  \\\n7446    african-american/black   african-american/black   \n14054  european-american/white  european-american/white   \n15243          hispanic/latino          hispanic/latino   \n15244  european-american/white  european-american/white   \n15245  european-american/white  european-american/white   \n\n      imputation_probability date_of_injury_resulting_in_death_month_day_year  \\\n7446             not imputed                                       2007-02-07   \n14054            not imputed                                       2012-03-23   \n15243            not imputed                                       2013-01-01   \n15244            not imputed                                       2013-01-01   \n15245            not imputed                                       2013-01-01   \n\n             location_of_injury_address location_of_death_city  ...  \\\n7446                    4131 camden ave                  omaha  ...   \n14054                   1719 e glenn st                 tucson  ...   \n15243  nw 6th street and n. broadway st                premont  ...   \n15244            410 s riverfront drive                mankato  ...   \n15245                   u.s. highway 53                 gordon  ...   \n\n        latitude   longitude          agency_or_agencies_involved  \\\n7446   41.305631  -95.975347              omaha police department   \n14054  32.257805 -110.946129             tucson police department   \n15243  27.366641  -98.122283    texas department of public safety   \n15244  44.165903  -94.006574  mankato department of public safety   \n15245  46.250862  -91.800069      douglas county sheriff's office   \n\n      highest_level_of_force  armed_unarmed      alleged_weapon  \\\n7446                 gunshot          armed  edged weapon/knife   \n14054                gunshot          armed       firearm/rifle   \n15243      medical emergency        unarmed                none   \n15244                tasered        unarmed                none   \n15245                gunshot          armed       firearm/rifle   \n\n      aggressive_physical_movement fleeing_not_fleeing  \\\n7446             brandished weapon         not fleeing   \n14054                    uncertain           uncertain   \n15243                         none        fleeing/foot   \n15244                    struggled         not fleeing   \n15245            brandished weapon         not fleeing   \n\n                                       brief_description  \\\n7446   police called to scene found ventry lunging wi...   \n14054  an unidentified person was shot and killed by ...   \n15243  a trooper pursued a truck driven by a 14-year-...   \n15244  former combat medic andrew derek layton was fo...   \n15245  deputies responded to a 911 call of shots fire...   \n\n      intended_use_of_force_developing  \n7446                      deadly force  \n14054                     deadly force  \n15243                               no  \n15244           less-than-lethal force  \n15245                     deadly force  \n\n[5 rows x 24 columns]",
      "text/html": "<div>\n<style scoped>\n    .dataframe tbody tr th:only-of-type {\n        vertical-align: middle;\n    }\n\n    .dataframe tbody tr th {\n        vertical-align: top;\n    }\n\n    .dataframe thead th {\n        text-align: right;\n    }\n</style>\n<table border=\"1\" class=\"dataframe\">\n  <thead>\n    <tr style=\"text-align: right;\">\n      <th></th>\n      <th>unique_id</th>\n      <th>name</th>\n      <th>age</th>\n      <th>gender</th>\n      <th>race</th>\n      <th>race_with_imputations</th>\n      <th>imputation_probability</th>\n      <th>date_of_injury_resulting_in_death_month_day_year</th>\n      <th>location_of_injury_address</th>\n      <th>location_of_death_city</th>\n      <th>...</th>\n      <th>latitude</th>\n      <th>longitude</th>\n      <th>agency_or_agencies_involved</th>\n      <th>highest_level_of_force</th>\n      <th>armed_unarmed</th>\n      <th>alleged_weapon</th>\n      <th>aggressive_physical_movement</th>\n      <th>fleeing_not_fleeing</th>\n      <th>brief_description</th>\n      <th>intended_use_of_force_developing</th>\n    </tr>\n  </thead>\n  <tbody>\n    <tr>\n      <th>7446</th>\n      <td>14050.0</td>\n      <td>robert ventry</td>\n      <td>20.0</td>\n      <td>male</td>\n      <td>african-american/black</td>\n      <td>african-american/black</td>\n      <td>not imputed</td>\n      <td>2007-02-07</td>\n      <td>4131 camden ave</td>\n      <td>omaha</td>\n      <td>...</td>\n      <td>41.305631</td>\n      <td>-95.975347</td>\n      <td>omaha police department</td>\n      <td>gunshot</td>\n      <td>armed</td>\n      <td>edged weapon/knife</td>\n      <td>brandished weapon</td>\n      <td>not fleeing</td>\n      <td>police called to scene found ventry lunging wi...</td>\n      <td>deadly force</td>\n    </tr>\n    <tr>\n      <th>14054</th>\n      <td>23449.0</td>\n      <td>name withheld by police (dupe)</td>\n      <td>32.0</td>\n      <td>male</td>\n      <td>european-american/white</td>\n      <td>european-american/white</td>\n      <td>not imputed</td>\n      <td>2012-03-23</td>\n      <td>1719 e glenn st</td>\n      <td>tucson</td>\n      <td>...</td>\n      <td>32.257805</td>\n      <td>-110.946129</td>\n      <td>tucson police department</td>\n      <td>gunshot</td>\n      <td>armed</td>\n      <td>firearm/rifle</td>\n      <td>uncertain</td>\n      <td>uncertain</td>\n      <td>an unidentified person was shot and killed by ...</td>\n      <td>deadly force</td>\n    </tr>\n    <tr>\n      <th>15243</th>\n      <td>12167.0</td>\n      <td>leesa rene ramirez</td>\n      <td>12.0</td>\n      <td>female</td>\n      <td>hispanic/latino</td>\n      <td>hispanic/latino</td>\n      <td>not imputed</td>\n      <td>2013-01-01</td>\n      <td>nw 6th street and n. broadway st</td>\n      <td>premont</td>\n      <td>...</td>\n      <td>27.366641</td>\n      <td>-98.122283</td>\n      <td>texas department of public safety</td>\n      <td>medical emergency</td>\n      <td>unarmed</td>\n      <td>none</td>\n      <td>none</td>\n      <td>fleeing/foot</td>\n      <td>a trooper pursued a truck driven by a 14-year-...</td>\n      <td>no</td>\n    </tr>\n    <tr>\n      <th>15244</th>\n      <td>12171.0</td>\n      <td>andrew derek layton</td>\n      <td>26.0</td>\n      <td>male</td>\n      <td>european-american/white</td>\n      <td>european-american/white</td>\n      <td>not imputed</td>\n      <td>2013-01-01</td>\n      <td>410 s riverfront drive</td>\n      <td>mankato</td>\n      <td>...</td>\n      <td>44.165903</td>\n      <td>-94.006574</td>\n      <td>mankato department of public safety</td>\n      <td>tasered</td>\n      <td>unarmed</td>\n      <td>none</td>\n      <td>struggled</td>\n      <td>not fleeing</td>\n      <td>former combat medic andrew derek layton was fo...</td>\n      <td>less-than-lethal force</td>\n    </tr>\n    <tr>\n      <th>15245</th>\n      <td>12172.0</td>\n      <td>andrew l. closson</td>\n      <td>21.0</td>\n      <td>male</td>\n      <td>european-american/white</td>\n      <td>european-american/white</td>\n      <td>not imputed</td>\n      <td>2013-01-01</td>\n      <td>u.s. highway 53</td>\n      <td>gordon</td>\n      <td>...</td>\n      <td>46.250862</td>\n      <td>-91.800069</td>\n      <td>douglas county sheriff's office</td>\n      <td>gunshot</td>\n      <td>armed</td>\n      <td>firearm/rifle</td>\n      <td>brandished weapon</td>\n      <td>not fleeing</td>\n      <td>deputies responded to a 911 call of shots fire...</td>\n      <td>deadly force</td>\n    </tr>\n  </tbody>\n</table>\n<p>5 rows × 24 columns</p>\n</div>"
     },
     "metadata": {}
    }
   ],
   "execution_count": null
  },
  {
   "cell_type": "code",
   "source": "df = w.wrangle_new_data(cached=True)",
   "metadata": {
    "tags": [],
    "cell_id": "00029-aa0d3f00-88ef-451c-802a-1c4265d2c2f7",
    "deepnote_to_be_reexecuted": false,
    "source_hash": "fdb7a9e0",
    "execution_start": 1622136554520,
    "execution_millis": 116,
    "deepnote_cell_type": "code"
   },
   "outputs": [],
   "execution_count": 14
  },
  {
   "cell_type": "code",
   "source": "df.shape",
   "metadata": {
    "tags": [],
    "cell_id": "00029-844ce07d-f353-4b67-bd8a-b89f5aaa0326",
    "deepnote_to_be_reexecuted": false,
    "source_hash": "14f60b8f",
    "execution_start": 1622136556819,
    "execution_millis": 13,
    "deepnote_cell_type": "code"
   },
   "outputs": [
    {
     "output_type": "execute_result",
     "execution_count": 15,
     "data": {
      "text/plain": "(13271, 16)"
     },
     "metadata": {}
    }
   ],
   "execution_count": 15
  },
  {
   "cell_type": "code",
   "source": "df.head(1)",
   "metadata": {
    "tags": [],
    "cell_id": "00030-d1357337-c155-402c-b31f-5349a2663b48",
    "deepnote_to_be_reexecuted": false,
    "source_hash": "460f028f",
    "execution_start": 1622136557608,
    "execution_millis": 77,
    "deepnote_cell_type": "code"
   },
   "outputs": [
    {
     "output_type": "execute_result",
     "execution_count": 16,
     "data": {
      "application/vnd.deepnote.dataframe.v2+json": {
       "row_count": 1,
       "column_count": 16,
       "columns": [
        {
         "name": "Unnamed: 0",
         "dtype": "int64",
         "stats": {
          "unique_count": 1,
          "nan_count": 0,
          "min": "7446",
          "max": "7446",
          "histogram": [
           {
            "bin_start": 7445.5,
            "bin_end": 7445.6,
            "count": 0
           },
           {
            "bin_start": 7445.6,
            "bin_end": 7445.7,
            "count": 0
           },
           {
            "bin_start": 7445.7,
            "bin_end": 7445.8,
            "count": 0
           },
           {
            "bin_start": 7445.8,
            "bin_end": 7445.9,
            "count": 0
           },
           {
            "bin_start": 7445.9,
            "bin_end": 7446,
            "count": 0
           },
           {
            "bin_start": 7446,
            "bin_end": 7446.1,
            "count": 1
           },
           {
            "bin_start": 7446.1,
            "bin_end": 7446.2,
            "count": 0
           },
           {
            "bin_start": 7446.2,
            "bin_end": 7446.3,
            "count": 0
           },
           {
            "bin_start": 7446.3,
            "bin_end": 7446.4,
            "count": 0
           },
           {
            "bin_start": 7446.4,
            "bin_end": 7446.5,
            "count": 0
           }
          ]
         }
        },
        {
         "name": "unique_id",
         "dtype": "float64",
         "stats": {
          "unique_count": 1,
          "nan_count": 0,
          "min": "14050.0",
          "max": "14050.0",
          "histogram": [
           {
            "bin_start": 14049.5,
            "bin_end": 14049.6,
            "count": 0
           },
           {
            "bin_start": 14049.6,
            "bin_end": 14049.7,
            "count": 0
           },
           {
            "bin_start": 14049.7,
            "bin_end": 14049.8,
            "count": 0
           },
           {
            "bin_start": 14049.8,
            "bin_end": 14049.9,
            "count": 0
           },
           {
            "bin_start": 14049.9,
            "bin_end": 14050,
            "count": 0
           },
           {
            "bin_start": 14050,
            "bin_end": 14050.1,
            "count": 1
           },
           {
            "bin_start": 14050.1,
            "bin_end": 14050.2,
            "count": 0
           },
           {
            "bin_start": 14050.2,
            "bin_end": 14050.3,
            "count": 0
           },
           {
            "bin_start": 14050.3,
            "bin_end": 14050.4,
            "count": 0
           },
           {
            "bin_start": 14050.4,
            "bin_end": 14050.5,
            "count": 0
           }
          ]
         }
        },
        {
         "name": "age",
         "dtype": "float64",
         "stats": {
          "unique_count": 1,
          "nan_count": 0,
          "min": "20.0",
          "max": "20.0",
          "histogram": [
           {
            "bin_start": 19.5,
            "bin_end": 19.6,
            "count": 0
           },
           {
            "bin_start": 19.6,
            "bin_end": 19.7,
            "count": 0
           },
           {
            "bin_start": 19.7,
            "bin_end": 19.8,
            "count": 0
           },
           {
            "bin_start": 19.8,
            "bin_end": 19.9,
            "count": 0
           },
           {
            "bin_start": 19.9,
            "bin_end": 20,
            "count": 0
           },
           {
            "bin_start": 20,
            "bin_end": 20.1,
            "count": 1
           },
           {
            "bin_start": 20.1,
            "bin_end": 20.2,
            "count": 0
           },
           {
            "bin_start": 20.2,
            "bin_end": 20.3,
            "count": 0
           },
           {
            "bin_start": 20.3,
            "bin_end": 20.4,
            "count": 0
           },
           {
            "bin_start": 20.4,
            "bin_end": 20.5,
            "count": 0
           }
          ]
         }
        },
        {
         "name": "gender",
         "dtype": "object",
         "stats": {
          "unique_count": 1,
          "nan_count": 0,
          "categories": [
           {
            "name": "male",
            "count": 1
           }
          ]
         }
        },
        {
         "name": "race",
         "dtype": "object",
         "stats": {
          "unique_count": 1,
          "nan_count": 0,
          "categories": [
           {
            "name": "african-american/black",
            "count": 1
           }
          ]
         }
        },
        {
         "name": "date_of_injury_resulting_in_death_month_day_year",
         "dtype": "object",
         "stats": {
          "unique_count": 1,
          "nan_count": 0,
          "categories": [
           {
            "name": "2007-02-07 00:00:00",
            "count": 1
           }
          ]
         }
        },
        {
         "name": "location_of_death_zip_code",
         "dtype": "float64",
         "stats": {
          "unique_count": 1,
          "nan_count": 0,
          "min": "68111.0",
          "max": "68111.0",
          "histogram": [
           {
            "bin_start": 68110.5,
            "bin_end": 68110.6,
            "count": 0
           },
           {
            "bin_start": 68110.6,
            "bin_end": 68110.7,
            "count": 0
           },
           {
            "bin_start": 68110.7,
            "bin_end": 68110.8,
            "count": 0
           },
           {
            "bin_start": 68110.8,
            "bin_end": 68110.9,
            "count": 0
           },
           {
            "bin_start": 68110.9,
            "bin_end": 68111,
            "count": 0
           },
           {
            "bin_start": 68111,
            "bin_end": 68111.1,
            "count": 1
           },
           {
            "bin_start": 68111.1,
            "bin_end": 68111.2,
            "count": 0
           },
           {
            "bin_start": 68111.2,
            "bin_end": 68111.3,
            "count": 0
           },
           {
            "bin_start": 68111.3,
            "bin_end": 68111.4,
            "count": 0
           },
           {
            "bin_start": 68111.4,
            "bin_end": 68111.5,
            "count": 0
           }
          ]
         }
        },
        {
         "name": "agency_or_agencies_involved",
         "dtype": "object",
         "stats": {
          "unique_count": 1,
          "nan_count": 0,
          "categories": [
           {
            "name": "omaha police department",
            "count": 1
           }
          ]
         }
        },
        {
         "name": "highest_level_of_force",
         "dtype": "object",
         "stats": {
          "unique_count": 1,
          "nan_count": 0,
          "categories": [
           {
            "name": "gunshot",
            "count": 1
           }
          ]
         }
        },
        {
         "name": "armed_unarmed",
         "dtype": "object",
         "stats": {
          "unique_count": 1,
          "nan_count": 0,
          "categories": [
           {
            "name": "armed",
            "count": 1
           }
          ]
         }
        },
        {
         "name": "alleged_weapon",
         "dtype": "object",
         "stats": {
          "unique_count": 1,
          "nan_count": 0,
          "categories": [
           {
            "name": "edged weapon/knife",
            "count": 1
           }
          ]
         }
        },
        {
         "name": "aggressive_physical_movement",
         "dtype": "object",
         "stats": {
          "unique_count": 1,
          "nan_count": 0,
          "categories": [
           {
            "name": "brandished weapon",
            "count": 1
           }
          ]
         }
        },
        {
         "name": "fleeing_not_fleeing",
         "dtype": "object",
         "stats": {
          "unique_count": 1,
          "nan_count": 0,
          "categories": [
           {
            "name": "not fleeing",
            "count": 1
           }
          ]
         }
        },
        {
         "name": "brief_description",
         "dtype": "object",
         "stats": {
          "unique_count": 1,
          "nan_count": 0,
          "categories": [
           {
            "name": "police called to scene found ventry lunging with a knife at a woman. vetnry continued fighting after being shot by officer jerry kassen and tasered by another officer.",
            "count": 1
           }
          ]
         }
        },
        {
         "name": "intended_use_of_force_developing",
         "dtype": "object",
         "stats": {
          "unique_count": 1,
          "nan_count": 0,
          "categories": [
           {
            "name": "deadly force",
            "count": 1
           }
          ]
         }
        },
        {
         "name": "latitude",
         "dtype": "float64",
         "stats": {
          "unique_count": 0,
          "nan_count": 1,
          "min": null,
          "max": null,
          "histogram": [
           {
            "bin_start": 0,
            "bin_end": 0.1,
            "count": 0
           },
           {
            "bin_start": 0.1,
            "bin_end": 0.2,
            "count": 0
           },
           {
            "bin_start": 0.2,
            "bin_end": 0.30000000000000004,
            "count": 0
           },
           {
            "bin_start": 0.30000000000000004,
            "bin_end": 0.4,
            "count": 0
           },
           {
            "bin_start": 0.4,
            "bin_end": 0.5,
            "count": 0
           },
           {
            "bin_start": 0.5,
            "bin_end": 0.6000000000000001,
            "count": 0
           },
           {
            "bin_start": 0.6000000000000001,
            "bin_end": 0.7000000000000001,
            "count": 0
           },
           {
            "bin_start": 0.7000000000000001,
            "bin_end": 0.8,
            "count": 0
           },
           {
            "bin_start": 0.8,
            "bin_end": 0.9,
            "count": 0
           },
           {
            "bin_start": 0.9,
            "bin_end": 1,
            "count": 0
           }
          ]
         }
        },
        {
         "name": "_deepnote_index_column",
         "dtype": "int64"
        }
       ],
       "rows_top": [
        {
         "Unnamed: 0": 7446,
         "unique_id": 14050,
         "age": 20,
         "gender": "male",
         "race": "african-american/black",
         "date_of_injury_resulting_in_death_month_day_year": "2007-02-07 00:00:00",
         "location_of_death_zip_code": 68111,
         "agency_or_agencies_involved": "omaha police department",
         "highest_level_of_force": "gunshot",
         "armed_unarmed": "armed",
         "alleged_weapon": "edged weapon/knife",
         "aggressive_physical_movement": "brandished weapon",
         "fleeing_not_fleeing": "not fleeing",
         "brief_description": "police called to scene found ventry lunging with a knife at a woman. vetnry continued fighting after being shot by officer jerry kassen and tasered by another officer.",
         "intended_use_of_force_developing": "deadly force",
         "latitude": "nan",
         "_deepnote_index_column": 0
        }
       ],
       "rows_bottom": null
      },
      "text/plain": "   Unnamed: 0  unique_id   age gender                    race  \\\n0        7446    14050.0  20.0   male  african-american/black   \n\n  date_of_injury_resulting_in_death_month_day_year  \\\n0                              2007-02-07 00:00:00   \n\n   location_of_death_zip_code agency_or_agencies_involved  \\\n0                     68111.0     omaha police department   \n\n  highest_level_of_force armed_unarmed      alleged_weapon  \\\n0                gunshot         armed  edged weapon/knife   \n\n  aggressive_physical_movement fleeing_not_fleeing  \\\n0            brandished weapon         not fleeing   \n\n                                   brief_description  \\\n0  police called to scene found ventry lunging wi...   \n\n  intended_use_of_force_developing  latitude  \n0                     deadly force       NaN  ",
      "text/html": "<div>\n<style scoped>\n    .dataframe tbody tr th:only-of-type {\n        vertical-align: middle;\n    }\n\n    .dataframe tbody tr th {\n        vertical-align: top;\n    }\n\n    .dataframe thead th {\n        text-align: right;\n    }\n</style>\n<table border=\"1\" class=\"dataframe\">\n  <thead>\n    <tr style=\"text-align: right;\">\n      <th></th>\n      <th>Unnamed: 0</th>\n      <th>unique_id</th>\n      <th>age</th>\n      <th>gender</th>\n      <th>race</th>\n      <th>date_of_injury_resulting_in_death_month_day_year</th>\n      <th>location_of_death_zip_code</th>\n      <th>agency_or_agencies_involved</th>\n      <th>highest_level_of_force</th>\n      <th>armed_unarmed</th>\n      <th>alleged_weapon</th>\n      <th>aggressive_physical_movement</th>\n      <th>fleeing_not_fleeing</th>\n      <th>brief_description</th>\n      <th>intended_use_of_force_developing</th>\n      <th>latitude</th>\n    </tr>\n  </thead>\n  <tbody>\n    <tr>\n      <th>0</th>\n      <td>7446</td>\n      <td>14050.0</td>\n      <td>20.0</td>\n      <td>male</td>\n      <td>african-american/black</td>\n      <td>2007-02-07 00:00:00</td>\n      <td>68111.0</td>\n      <td>omaha police department</td>\n      <td>gunshot</td>\n      <td>armed</td>\n      <td>edged weapon/knife</td>\n      <td>brandished weapon</td>\n      <td>not fleeing</td>\n      <td>police called to scene found ventry lunging wi...</td>\n      <td>deadly force</td>\n      <td>NaN</td>\n    </tr>\n  </tbody>\n</table>\n</div>"
     },
     "metadata": {}
    }
   ],
   "execution_count": 16
  },
  {
   "cell_type": "code",
   "source": "df.head(1)",
   "metadata": {
    "tags": [],
    "cell_id": "00031-f7505c1c-9734-4f29-bb97-1d2a6a315f16",
    "deepnote_to_be_reexecuted": false,
    "source_hash": "460f028f",
    "execution_start": 1622136559125,
    "execution_millis": 72,
    "deepnote_cell_type": "code"
   },
   "outputs": [
    {
     "output_type": "execute_result",
     "execution_count": 18,
     "data": {
      "application/vnd.deepnote.dataframe.v2+json": {
       "row_count": 1,
       "column_count": 16,
       "columns": [
        {
         "name": "Unnamed: 0",
         "dtype": "int64",
         "stats": {
          "unique_count": 1,
          "nan_count": 0,
          "min": "7446",
          "max": "7446",
          "histogram": [
           {
            "bin_start": 7445.5,
            "bin_end": 7445.6,
            "count": 0
           },
           {
            "bin_start": 7445.6,
            "bin_end": 7445.7,
            "count": 0
           },
           {
            "bin_start": 7445.7,
            "bin_end": 7445.8,
            "count": 0
           },
           {
            "bin_start": 7445.8,
            "bin_end": 7445.9,
            "count": 0
           },
           {
            "bin_start": 7445.9,
            "bin_end": 7446,
            "count": 0
           },
           {
            "bin_start": 7446,
            "bin_end": 7446.1,
            "count": 1
           },
           {
            "bin_start": 7446.1,
            "bin_end": 7446.2,
            "count": 0
           },
           {
            "bin_start": 7446.2,
            "bin_end": 7446.3,
            "count": 0
           },
           {
            "bin_start": 7446.3,
            "bin_end": 7446.4,
            "count": 0
           },
           {
            "bin_start": 7446.4,
            "bin_end": 7446.5,
            "count": 0
           }
          ]
         }
        },
        {
         "name": "unique_id",
         "dtype": "float64",
         "stats": {
          "unique_count": 1,
          "nan_count": 0,
          "min": "14050.0",
          "max": "14050.0",
          "histogram": [
           {
            "bin_start": 14049.5,
            "bin_end": 14049.6,
            "count": 0
           },
           {
            "bin_start": 14049.6,
            "bin_end": 14049.7,
            "count": 0
           },
           {
            "bin_start": 14049.7,
            "bin_end": 14049.8,
            "count": 0
           },
           {
            "bin_start": 14049.8,
            "bin_end": 14049.9,
            "count": 0
           },
           {
            "bin_start": 14049.9,
            "bin_end": 14050,
            "count": 0
           },
           {
            "bin_start": 14050,
            "bin_end": 14050.1,
            "count": 1
           },
           {
            "bin_start": 14050.1,
            "bin_end": 14050.2,
            "count": 0
           },
           {
            "bin_start": 14050.2,
            "bin_end": 14050.3,
            "count": 0
           },
           {
            "bin_start": 14050.3,
            "bin_end": 14050.4,
            "count": 0
           },
           {
            "bin_start": 14050.4,
            "bin_end": 14050.5,
            "count": 0
           }
          ]
         }
        },
        {
         "name": "age",
         "dtype": "float64",
         "stats": {
          "unique_count": 1,
          "nan_count": 0,
          "min": "20.0",
          "max": "20.0",
          "histogram": [
           {
            "bin_start": 19.5,
            "bin_end": 19.6,
            "count": 0
           },
           {
            "bin_start": 19.6,
            "bin_end": 19.7,
            "count": 0
           },
           {
            "bin_start": 19.7,
            "bin_end": 19.8,
            "count": 0
           },
           {
            "bin_start": 19.8,
            "bin_end": 19.9,
            "count": 0
           },
           {
            "bin_start": 19.9,
            "bin_end": 20,
            "count": 0
           },
           {
            "bin_start": 20,
            "bin_end": 20.1,
            "count": 1
           },
           {
            "bin_start": 20.1,
            "bin_end": 20.2,
            "count": 0
           },
           {
            "bin_start": 20.2,
            "bin_end": 20.3,
            "count": 0
           },
           {
            "bin_start": 20.3,
            "bin_end": 20.4,
            "count": 0
           },
           {
            "bin_start": 20.4,
            "bin_end": 20.5,
            "count": 0
           }
          ]
         }
        },
        {
         "name": "gender",
         "dtype": "object",
         "stats": {
          "unique_count": 1,
          "nan_count": 0,
          "categories": [
           {
            "name": "male",
            "count": 1
           }
          ]
         }
        },
        {
         "name": "race",
         "dtype": "object",
         "stats": {
          "unique_count": 1,
          "nan_count": 0,
          "categories": [
           {
            "name": "african-american/black",
            "count": 1
           }
          ]
         }
        },
        {
         "name": "date_of_injury_resulting_in_death_month_day_year",
         "dtype": "object",
         "stats": {
          "unique_count": 1,
          "nan_count": 0,
          "categories": [
           {
            "name": "2007-02-07 00:00:00",
            "count": 1
           }
          ]
         }
        },
        {
         "name": "location_of_death_zip_code",
         "dtype": "float64",
         "stats": {
          "unique_count": 1,
          "nan_count": 0,
          "min": "68111.0",
          "max": "68111.0",
          "histogram": [
           {
            "bin_start": 68110.5,
            "bin_end": 68110.6,
            "count": 0
           },
           {
            "bin_start": 68110.6,
            "bin_end": 68110.7,
            "count": 0
           },
           {
            "bin_start": 68110.7,
            "bin_end": 68110.8,
            "count": 0
           },
           {
            "bin_start": 68110.8,
            "bin_end": 68110.9,
            "count": 0
           },
           {
            "bin_start": 68110.9,
            "bin_end": 68111,
            "count": 0
           },
           {
            "bin_start": 68111,
            "bin_end": 68111.1,
            "count": 1
           },
           {
            "bin_start": 68111.1,
            "bin_end": 68111.2,
            "count": 0
           },
           {
            "bin_start": 68111.2,
            "bin_end": 68111.3,
            "count": 0
           },
           {
            "bin_start": 68111.3,
            "bin_end": 68111.4,
            "count": 0
           },
           {
            "bin_start": 68111.4,
            "bin_end": 68111.5,
            "count": 0
           }
          ]
         }
        },
        {
         "name": "agency_or_agencies_involved",
         "dtype": "object",
         "stats": {
          "unique_count": 1,
          "nan_count": 0,
          "categories": [
           {
            "name": "omaha police department",
            "count": 1
           }
          ]
         }
        },
        {
         "name": "highest_level_of_force",
         "dtype": "object",
         "stats": {
          "unique_count": 1,
          "nan_count": 0,
          "categories": [
           {
            "name": "gunshot",
            "count": 1
           }
          ]
         }
        },
        {
         "name": "armed_unarmed",
         "dtype": "object",
         "stats": {
          "unique_count": 1,
          "nan_count": 0,
          "categories": [
           {
            "name": "armed",
            "count": 1
           }
          ]
         }
        },
        {
         "name": "alleged_weapon",
         "dtype": "object",
         "stats": {
          "unique_count": 1,
          "nan_count": 0,
          "categories": [
           {
            "name": "edged weapon/knife",
            "count": 1
           }
          ]
         }
        },
        {
         "name": "aggressive_physical_movement",
         "dtype": "object",
         "stats": {
          "unique_count": 1,
          "nan_count": 0,
          "categories": [
           {
            "name": "brandished weapon",
            "count": 1
           }
          ]
         }
        },
        {
         "name": "fleeing_not_fleeing",
         "dtype": "object",
         "stats": {
          "unique_count": 1,
          "nan_count": 0,
          "categories": [
           {
            "name": "not fleeing",
            "count": 1
           }
          ]
         }
        },
        {
         "name": "brief_description",
         "dtype": "object",
         "stats": {
          "unique_count": 1,
          "nan_count": 0,
          "categories": [
           {
            "name": "police called to scene found ventry lunging with a knife at a woman. vetnry continued fighting after being shot by officer jerry kassen and tasered by another officer.",
            "count": 1
           }
          ]
         }
        },
        {
         "name": "intended_use_of_force_developing",
         "dtype": "object",
         "stats": {
          "unique_count": 1,
          "nan_count": 0,
          "categories": [
           {
            "name": "deadly force",
            "count": 1
           }
          ]
         }
        },
        {
         "name": "latitude",
         "dtype": "float64",
         "stats": {
          "unique_count": 0,
          "nan_count": 1,
          "min": null,
          "max": null,
          "histogram": [
           {
            "bin_start": 0,
            "bin_end": 0.1,
            "count": 0
           },
           {
            "bin_start": 0.1,
            "bin_end": 0.2,
            "count": 0
           },
           {
            "bin_start": 0.2,
            "bin_end": 0.30000000000000004,
            "count": 0
           },
           {
            "bin_start": 0.30000000000000004,
            "bin_end": 0.4,
            "count": 0
           },
           {
            "bin_start": 0.4,
            "bin_end": 0.5,
            "count": 0
           },
           {
            "bin_start": 0.5,
            "bin_end": 0.6000000000000001,
            "count": 0
           },
           {
            "bin_start": 0.6000000000000001,
            "bin_end": 0.7000000000000001,
            "count": 0
           },
           {
            "bin_start": 0.7000000000000001,
            "bin_end": 0.8,
            "count": 0
           },
           {
            "bin_start": 0.8,
            "bin_end": 0.9,
            "count": 0
           },
           {
            "bin_start": 0.9,
            "bin_end": 1,
            "count": 0
           }
          ]
         }
        },
        {
         "name": "_deepnote_index_column",
         "dtype": "int64"
        }
       ],
       "rows_top": [
        {
         "Unnamed: 0": 7446,
         "unique_id": 14050,
         "age": 20,
         "gender": "male",
         "race": "african-american/black",
         "date_of_injury_resulting_in_death_month_day_year": "2007-02-07 00:00:00",
         "location_of_death_zip_code": 68111,
         "agency_or_agencies_involved": "omaha police department",
         "highest_level_of_force": "gunshot",
         "armed_unarmed": "armed",
         "alleged_weapon": "edged weapon/knife",
         "aggressive_physical_movement": "brandished weapon",
         "fleeing_not_fleeing": "not fleeing",
         "brief_description": "police called to scene found ventry lunging with a knife at a woman. vetnry continued fighting after being shot by officer jerry kassen and tasered by another officer.",
         "intended_use_of_force_developing": "deadly force",
         "latitude": "nan",
         "_deepnote_index_column": 0
        }
       ],
       "rows_bottom": null
      },
      "text/plain": "   Unnamed: 0  unique_id   age gender                    race  \\\n0        7446    14050.0  20.0   male  african-american/black   \n\n  date_of_injury_resulting_in_death_month_day_year  \\\n0                              2007-02-07 00:00:00   \n\n   location_of_death_zip_code agency_or_agencies_involved  \\\n0                     68111.0     omaha police department   \n\n  highest_level_of_force armed_unarmed      alleged_weapon  \\\n0                gunshot         armed  edged weapon/knife   \n\n  aggressive_physical_movement fleeing_not_fleeing  \\\n0            brandished weapon         not fleeing   \n\n                                   brief_description  \\\n0  police called to scene found ventry lunging wi...   \n\n  intended_use_of_force_developing  latitude  \n0                     deadly force       NaN  ",
      "text/html": "<div>\n<style scoped>\n    .dataframe tbody tr th:only-of-type {\n        vertical-align: middle;\n    }\n\n    .dataframe tbody tr th {\n        vertical-align: top;\n    }\n\n    .dataframe thead th {\n        text-align: right;\n    }\n</style>\n<table border=\"1\" class=\"dataframe\">\n  <thead>\n    <tr style=\"text-align: right;\">\n      <th></th>\n      <th>Unnamed: 0</th>\n      <th>unique_id</th>\n      <th>age</th>\n      <th>gender</th>\n      <th>race</th>\n      <th>date_of_injury_resulting_in_death_month_day_year</th>\n      <th>location_of_death_zip_code</th>\n      <th>agency_or_agencies_involved</th>\n      <th>highest_level_of_force</th>\n      <th>armed_unarmed</th>\n      <th>alleged_weapon</th>\n      <th>aggressive_physical_movement</th>\n      <th>fleeing_not_fleeing</th>\n      <th>brief_description</th>\n      <th>intended_use_of_force_developing</th>\n      <th>latitude</th>\n    </tr>\n  </thead>\n  <tbody>\n    <tr>\n      <th>0</th>\n      <td>7446</td>\n      <td>14050.0</td>\n      <td>20.0</td>\n      <td>male</td>\n      <td>african-american/black</td>\n      <td>2007-02-07 00:00:00</td>\n      <td>68111.0</td>\n      <td>omaha police department</td>\n      <td>gunshot</td>\n      <td>armed</td>\n      <td>edged weapon/knife</td>\n      <td>brandished weapon</td>\n      <td>not fleeing</td>\n      <td>police called to scene found ventry lunging wi...</td>\n      <td>deadly force</td>\n      <td>NaN</td>\n    </tr>\n  </tbody>\n</table>\n</div>"
     },
     "metadata": {}
    }
   ],
   "execution_count": 18
  },
  {
   "cell_type": "code",
   "source": "# df.armed_unarmed.value_counts()",
   "metadata": {
    "tags": [],
    "cell_id": "00033-bf98f7e0-fb2e-487e-8fb7-4d9d14fd58d9",
    "deepnote_to_be_reexecuted": false,
    "source_hash": "fa1513bd",
    "execution_start": 1622137003476,
    "execution_millis": 24,
    "deepnote_cell_type": "code"
   },
   "outputs": [],
   "execution_count": 26
  },
  {
   "cell_type": "code",
   "source": "# df = df[(df.armed_unarmed == 'armed') | (df.armed_unarmed == 'unarmed') | (df.armed_unarmed == 'uncertain') | (df.armed_unarmed == 'none')]",
   "metadata": {
    "tags": [],
    "cell_id": "00034-363efb70-75eb-48a8-a222-b34d3263bcc3",
    "deepnote_to_be_reexecuted": false,
    "source_hash": "2538c209",
    "execution_start": 1622136565223,
    "execution_millis": 8,
    "deepnote_cell_type": "code"
   },
   "outputs": [],
   "execution_count": 20
  },
  {
   "cell_type": "code",
   "source": "# df.armed_unarmed = df.armed_unarmed.str.replace('uncertain', 'none').str.replace('none', 'unarmed')",
   "metadata": {
    "tags": [],
    "cell_id": "00035-0c871ff6-4b70-48d2-9cd3-ff0d760fe3df",
    "deepnote_to_be_reexecuted": false,
    "source_hash": "374096f6",
    "execution_start": 1622136572454,
    "execution_millis": 6,
    "deepnote_cell_type": "code"
   },
   "outputs": [],
   "execution_count": 21
  },
  {
   "cell_type": "code",
   "source": "# df.alleged_weapon.value_counts()",
   "metadata": {
    "tags": [],
    "cell_id": "00035-15899bd7-fcf0-426f-bf06-09ce172a1e14",
    "deepnote_to_be_reexecuted": false,
    "source_hash": "68983d46",
    "execution_start": 1622137572940,
    "execution_millis": 2,
    "deepnote_cell_type": "code"
   },
   "outputs": [],
   "execution_count": 48
  },
  {
   "cell_type": "code",
   "source": "# df.alleged_weapon = np.where(df.alleged_weapon.str.contains('firearm'), \"firearm\", df.alleged_weapon)\n# df.alleged_weapon = np.where(df.alleged_weapon.str.contains('blunt object'), \"blunt object\", df.alleged_weapon)\n# df.alleged_weapon = np.where(df.alleged_weapon.str.contains('edged weapon'), \"edged weapon\", df.alleged_weapon)\n# df.alleged_weapon = np.where(df.alleged_weapon.str.contains('other'), \"other_weapon\", df.alleged_weapon)\n# df.alleged_weapon = np.where(df.alleged_weapon.str.contains('rifle'), \"firearm\", df.alleged_weapon)\n# df.alleged_weapon = np.where(df.alleged_weapon.str.contains('taser'), \"other\", df.alleged_weapon)\n# df.alleged_weapon = np.where(df.alleged_weapon.str.contains('vehicle'), \"other_weapon\", df.alleged_weapon)\n# df.alleged_weapon = np.where(df.alleged_weapon.str.contains('uncertain'), \"none\", df.alleged_weapon)\n# df.alleged_weapon = np.where(df.alleged_weapon.str.contains('stun gun'), \"other_weapon\", df.alleged_weapon)\n# df.alleged_weapon = np.where(df.alleged_weapon.str.contains('none'), \"no_weapon\", df.alleged_weapon)",
   "metadata": {
    "tags": [],
    "cell_id": "00035-eb8f4f19-38a7-41b8-a3ce-da211f68364d",
    "deepnote_to_be_reexecuted": false,
    "source_hash": "d8100055",
    "execution_start": 1622137536809,
    "execution_millis": 36,
    "deepnote_cell_type": "code"
   },
   "outputs": [],
   "execution_count": 41
  },
  {
   "cell_type": "markdown",
   "source": "### threats:\n- brandished weapon\n- used weapon\n- advance toward officer\n- struggled\n- advanced upon officer\n### non-threats:\n- self-inflicted injury\n- none\n- idk if uncertain should be it’s own b/c we can add in there:\n### ambiguous:\n- police alleged vehicular assault\n- reached to waist\n- uncertain\n- or move all these to non-threats",
   "metadata": {
    "tags": [],
    "cell_id": "00037-ce8f607c-d295-45e3-ba7a-c92e0f7a6b43",
    "deepnote_cell_type": "markdown"
   }
  },
  {
   "cell_type": "code",
   "source": "# df.aggressive_physical_movement = np.where(df.aggressive_physical_movement.str.contains('vehicular assault'), \"ambiguous_threat\", df.aggressive_physical_movement)\n# df.aggressive_physical_movement = np.where(df.aggressive_physical_movement.str.contains('none'), \"no_threat\", df.aggressive_physical_movement)\n# df.aggressive_physical_movement = np.where(df.aggressive_physical_movement.str.contains('weapon'), \"threat\", df.aggressive_physical_movement)\n# df.aggressive_physical_movement = np.where(df.aggressive_physical_movement.str.contains('self-inflicted'), \"no_threat\", df.aggressive_physical_movement)\n# df.aggressive_physical_movement = np.where(df.aggressive_physical_movement.str.contains('advanced toward'), \"threat\", df.aggressive_physical_movement)\n# df.aggressive_physical_movement = np.where(df.aggressive_physical_movement.str.contains('struggled'), \"threat\", df.aggressive_physical_movement)\n# df.aggressive_physical_movement = np.where(df.aggressive_physical_movement.str.contains('advanced upon'), \"threat\", df.aggressive_physical_movement)\n# df.aggressive_physical_movement = np.where(df.aggressive_physical_movement.str.contains('uncertain'), \"ambiguous_threat\", df.aggressive_physical_movement)\n# df.aggressive_physical_movement = np.where(df.aggressive_physical_movement.str.contains('reached to waist'), \"ambiguous_threat\", df.aggressive_physical_movement)\n# df.aggressive_physical_movement = np.where(df.aggressive_physical_movement.str.contains('sudden threatening movement'), \"ambiguous_threat\", df.aggressive_physical_movement)",
   "metadata": {
    "tags": [],
    "cell_id": "00037-a129bce7-9ac2-462f-9671-1763ce191dae",
    "deepnote_to_be_reexecuted": false,
    "source_hash": "4d2f12ee",
    "execution_start": 1622141584918,
    "execution_millis": 0,
    "deepnote_cell_type": "code"
   },
   "outputs": [],
   "execution_count": 62
  },
  {
   "cell_type": "code",
   "source": "df.aggressive_physical_movement.value_counts()",
   "metadata": {
    "tags": [],
    "cell_id": "00039-e190517c-24cc-4e41-955b-d52304ed9420",
    "deepnote_to_be_reexecuted": false,
    "source_hash": "9db5f5a2",
    "execution_start": 1622141878483,
    "execution_millis": 8,
    "deepnote_cell_type": "code"
   },
   "outputs": [
    {
     "output_type": "execute_result",
     "execution_count": 68,
     "data": {
      "text/plain": "threat              6886\nno_threat           4926\nambiguous_threat    1453\nName: aggressive_physical_movement, dtype: int64"
     },
     "metadata": {}
    }
   ],
   "execution_count": 68
  },
  {
   "cell_type": "code",
   "source": "df.intended_use_of_force_developing.value_counts()",
   "metadata": {
    "tags": [],
    "cell_id": "00036-e9aa9664-3031-4a42-9e4b-2cb5e32dc5a9",
    "deepnote_to_be_reexecuted": false,
    "source_hash": "48f539e2",
    "execution_start": 1622141754086,
    "execution_millis": 12,
    "deepnote_cell_type": "code"
   },
   "outputs": [
    {
     "output_type": "execute_result",
     "execution_count": 66,
     "data": {
      "text/plain": "deadly force              8215\nsuicide                   1312\nvehic/purs                1299\npursuit                   1271\nless-than-lethal force     592\nno                         339\nvehicle                    226\nundetermined                11\nName: intended_use_of_force_developing, dtype: int64"
     },
     "metadata": {}
    }
   ],
   "execution_count": 66
  },
  {
   "cell_type": "code",
   "source": "df.head(1)",
   "metadata": {
    "tags": [],
    "cell_id": "00040-c5c18fac-f86c-4061-b208-1c78e50dc9a3",
    "deepnote_to_be_reexecuted": false,
    "source_hash": "460f028f",
    "execution_start": 1622141632244,
    "execution_millis": 73,
    "deepnote_cell_type": "code"
   },
   "outputs": [
    {
     "output_type": "execute_result",
     "execution_count": 65,
     "data": {
      "application/vnd.deepnote.dataframe.v2+json": {
       "row_count": 1,
       "column_count": 16,
       "columns": [
        {
         "name": "Unnamed: 0",
         "dtype": "int64",
         "stats": {
          "unique_count": 1,
          "nan_count": 0,
          "min": "7446",
          "max": "7446",
          "histogram": [
           {
            "bin_start": 7445.5,
            "bin_end": 7445.6,
            "count": 0
           },
           {
            "bin_start": 7445.6,
            "bin_end": 7445.7,
            "count": 0
           },
           {
            "bin_start": 7445.7,
            "bin_end": 7445.8,
            "count": 0
           },
           {
            "bin_start": 7445.8,
            "bin_end": 7445.9,
            "count": 0
           },
           {
            "bin_start": 7445.9,
            "bin_end": 7446,
            "count": 0
           },
           {
            "bin_start": 7446,
            "bin_end": 7446.1,
            "count": 1
           },
           {
            "bin_start": 7446.1,
            "bin_end": 7446.2,
            "count": 0
           },
           {
            "bin_start": 7446.2,
            "bin_end": 7446.3,
            "count": 0
           },
           {
            "bin_start": 7446.3,
            "bin_end": 7446.4,
            "count": 0
           },
           {
            "bin_start": 7446.4,
            "bin_end": 7446.5,
            "count": 0
           }
          ]
         }
        },
        {
         "name": "unique_id",
         "dtype": "float64",
         "stats": {
          "unique_count": 1,
          "nan_count": 0,
          "min": "14050.0",
          "max": "14050.0",
          "histogram": [
           {
            "bin_start": 14049.5,
            "bin_end": 14049.6,
            "count": 0
           },
           {
            "bin_start": 14049.6,
            "bin_end": 14049.7,
            "count": 0
           },
           {
            "bin_start": 14049.7,
            "bin_end": 14049.8,
            "count": 0
           },
           {
            "bin_start": 14049.8,
            "bin_end": 14049.9,
            "count": 0
           },
           {
            "bin_start": 14049.9,
            "bin_end": 14050,
            "count": 0
           },
           {
            "bin_start": 14050,
            "bin_end": 14050.1,
            "count": 1
           },
           {
            "bin_start": 14050.1,
            "bin_end": 14050.2,
            "count": 0
           },
           {
            "bin_start": 14050.2,
            "bin_end": 14050.3,
            "count": 0
           },
           {
            "bin_start": 14050.3,
            "bin_end": 14050.4,
            "count": 0
           },
           {
            "bin_start": 14050.4,
            "bin_end": 14050.5,
            "count": 0
           }
          ]
         }
        },
        {
         "name": "age",
         "dtype": "float64",
         "stats": {
          "unique_count": 1,
          "nan_count": 0,
          "min": "20.0",
          "max": "20.0",
          "histogram": [
           {
            "bin_start": 19.5,
            "bin_end": 19.6,
            "count": 0
           },
           {
            "bin_start": 19.6,
            "bin_end": 19.7,
            "count": 0
           },
           {
            "bin_start": 19.7,
            "bin_end": 19.8,
            "count": 0
           },
           {
            "bin_start": 19.8,
            "bin_end": 19.9,
            "count": 0
           },
           {
            "bin_start": 19.9,
            "bin_end": 20,
            "count": 0
           },
           {
            "bin_start": 20,
            "bin_end": 20.1,
            "count": 1
           },
           {
            "bin_start": 20.1,
            "bin_end": 20.2,
            "count": 0
           },
           {
            "bin_start": 20.2,
            "bin_end": 20.3,
            "count": 0
           },
           {
            "bin_start": 20.3,
            "bin_end": 20.4,
            "count": 0
           },
           {
            "bin_start": 20.4,
            "bin_end": 20.5,
            "count": 0
           }
          ]
         }
        },
        {
         "name": "gender",
         "dtype": "object",
         "stats": {
          "unique_count": 1,
          "nan_count": 0,
          "categories": [
           {
            "name": "male",
            "count": 1
           }
          ]
         }
        },
        {
         "name": "race",
         "dtype": "object",
         "stats": {
          "unique_count": 1,
          "nan_count": 0,
          "categories": [
           {
            "name": "black",
            "count": 1
           }
          ]
         }
        },
        {
         "name": "date_of_injury_resulting_in_death_month_day_year",
         "dtype": "object",
         "stats": {
          "unique_count": 1,
          "nan_count": 0,
          "categories": [
           {
            "name": "2007-02-07 00:00:00",
            "count": 1
           }
          ]
         }
        },
        {
         "name": "location_of_death_zip_code",
         "dtype": "float64",
         "stats": {
          "unique_count": 1,
          "nan_count": 0,
          "min": "68111.0",
          "max": "68111.0",
          "histogram": [
           {
            "bin_start": 68110.5,
            "bin_end": 68110.6,
            "count": 0
           },
           {
            "bin_start": 68110.6,
            "bin_end": 68110.7,
            "count": 0
           },
           {
            "bin_start": 68110.7,
            "bin_end": 68110.8,
            "count": 0
           },
           {
            "bin_start": 68110.8,
            "bin_end": 68110.9,
            "count": 0
           },
           {
            "bin_start": 68110.9,
            "bin_end": 68111,
            "count": 0
           },
           {
            "bin_start": 68111,
            "bin_end": 68111.1,
            "count": 1
           },
           {
            "bin_start": 68111.1,
            "bin_end": 68111.2,
            "count": 0
           },
           {
            "bin_start": 68111.2,
            "bin_end": 68111.3,
            "count": 0
           },
           {
            "bin_start": 68111.3,
            "bin_end": 68111.4,
            "count": 0
           },
           {
            "bin_start": 68111.4,
            "bin_end": 68111.5,
            "count": 0
           }
          ]
         }
        },
        {
         "name": "agency_or_agencies_involved",
         "dtype": "object",
         "stats": {
          "unique_count": 1,
          "nan_count": 0,
          "categories": [
           {
            "name": "omaha police department",
            "count": 1
           }
          ]
         }
        },
        {
         "name": "highest_level_of_force",
         "dtype": "object",
         "stats": {
          "unique_count": 1,
          "nan_count": 0,
          "categories": [
           {
            "name": "gunshot",
            "count": 1
           }
          ]
         }
        },
        {
         "name": "armed_unarmed",
         "dtype": "object",
         "stats": {
          "unique_count": 1,
          "nan_count": 0,
          "categories": [
           {
            "name": "armed",
            "count": 1
           }
          ]
         }
        },
        {
         "name": "alleged_weapon",
         "dtype": "object",
         "stats": {
          "unique_count": 1,
          "nan_count": 0,
          "categories": [
           {
            "name": "edged weapon",
            "count": 1
           }
          ]
         }
        },
        {
         "name": "aggressive_physical_movement",
         "dtype": "object",
         "stats": {
          "unique_count": 1,
          "nan_count": 0,
          "categories": [
           {
            "name": "threat",
            "count": 1
           }
          ]
         }
        },
        {
         "name": "fleeing_not_fleeing",
         "dtype": "object",
         "stats": {
          "unique_count": 1,
          "nan_count": 0,
          "categories": [
           {
            "name": "not fleeing",
            "count": 1
           }
          ]
         }
        },
        {
         "name": "brief_description",
         "dtype": "object",
         "stats": {
          "unique_count": 1,
          "nan_count": 0,
          "categories": [
           {
            "name": "police called to scene found ventry lunging with a knife at a woman. vetnry continued fighting after being shot by officer jerry kassen and tasered by another officer.",
            "count": 1
           }
          ]
         }
        },
        {
         "name": "intended_use_of_force_developing",
         "dtype": "object",
         "stats": {
          "unique_count": 1,
          "nan_count": 0,
          "categories": [
           {
            "name": "deadly force",
            "count": 1
           }
          ]
         }
        },
        {
         "name": "latitude",
         "dtype": "float64",
         "stats": {
          "unique_count": 0,
          "nan_count": 1,
          "min": null,
          "max": null,
          "histogram": [
           {
            "bin_start": 0,
            "bin_end": 0.1,
            "count": 0
           },
           {
            "bin_start": 0.1,
            "bin_end": 0.2,
            "count": 0
           },
           {
            "bin_start": 0.2,
            "bin_end": 0.30000000000000004,
            "count": 0
           },
           {
            "bin_start": 0.30000000000000004,
            "bin_end": 0.4,
            "count": 0
           },
           {
            "bin_start": 0.4,
            "bin_end": 0.5,
            "count": 0
           },
           {
            "bin_start": 0.5,
            "bin_end": 0.6000000000000001,
            "count": 0
           },
           {
            "bin_start": 0.6000000000000001,
            "bin_end": 0.7000000000000001,
            "count": 0
           },
           {
            "bin_start": 0.7000000000000001,
            "bin_end": 0.8,
            "count": 0
           },
           {
            "bin_start": 0.8,
            "bin_end": 0.9,
            "count": 0
           },
           {
            "bin_start": 0.9,
            "bin_end": 1,
            "count": 0
           }
          ]
         }
        },
        {
         "name": "_deepnote_index_column",
         "dtype": "int64"
        }
       ],
       "rows_top": [
        {
         "Unnamed: 0": 7446,
         "unique_id": 14050,
         "age": 20,
         "gender": "male",
         "race": "black",
         "date_of_injury_resulting_in_death_month_day_year": "2007-02-07 00:00:00",
         "location_of_death_zip_code": 68111,
         "agency_or_agencies_involved": "omaha police department",
         "highest_level_of_force": "gunshot",
         "armed_unarmed": "armed",
         "alleged_weapon": "edged weapon",
         "aggressive_physical_movement": "threat",
         "fleeing_not_fleeing": "not fleeing",
         "brief_description": "police called to scene found ventry lunging with a knife at a woman. vetnry continued fighting after being shot by officer jerry kassen and tasered by another officer.",
         "intended_use_of_force_developing": "deadly force",
         "latitude": "nan",
         "_deepnote_index_column": 0
        }
       ],
       "rows_bottom": null
      },
      "text/plain": "   Unnamed: 0  unique_id   age gender   race  \\\n0        7446    14050.0  20.0   male  black   \n\n  date_of_injury_resulting_in_death_month_day_year  \\\n0                              2007-02-07 00:00:00   \n\n   location_of_death_zip_code agency_or_agencies_involved  \\\n0                     68111.0     omaha police department   \n\n  highest_level_of_force armed_unarmed alleged_weapon  \\\n0                gunshot         armed   edged weapon   \n\n  aggressive_physical_movement fleeing_not_fleeing  \\\n0                       threat         not fleeing   \n\n                                   brief_description  \\\n0  police called to scene found ventry lunging wi...   \n\n  intended_use_of_force_developing  latitude  \n0                     deadly force       NaN  ",
      "text/html": "<div>\n<style scoped>\n    .dataframe tbody tr th:only-of-type {\n        vertical-align: middle;\n    }\n\n    .dataframe tbody tr th {\n        vertical-align: top;\n    }\n\n    .dataframe thead th {\n        text-align: right;\n    }\n</style>\n<table border=\"1\" class=\"dataframe\">\n  <thead>\n    <tr style=\"text-align: right;\">\n      <th></th>\n      <th>Unnamed: 0</th>\n      <th>unique_id</th>\n      <th>age</th>\n      <th>gender</th>\n      <th>race</th>\n      <th>date_of_injury_resulting_in_death_month_day_year</th>\n      <th>location_of_death_zip_code</th>\n      <th>agency_or_agencies_involved</th>\n      <th>highest_level_of_force</th>\n      <th>armed_unarmed</th>\n      <th>alleged_weapon</th>\n      <th>aggressive_physical_movement</th>\n      <th>fleeing_not_fleeing</th>\n      <th>brief_description</th>\n      <th>intended_use_of_force_developing</th>\n      <th>latitude</th>\n    </tr>\n  </thead>\n  <tbody>\n    <tr>\n      <th>0</th>\n      <td>7446</td>\n      <td>14050.0</td>\n      <td>20.0</td>\n      <td>male</td>\n      <td>black</td>\n      <td>2007-02-07 00:00:00</td>\n      <td>68111.0</td>\n      <td>omaha police department</td>\n      <td>gunshot</td>\n      <td>armed</td>\n      <td>edged weapon</td>\n      <td>threat</td>\n      <td>not fleeing</td>\n      <td>police called to scene found ventry lunging wi...</td>\n      <td>deadly force</td>\n      <td>NaN</td>\n    </tr>\n  </tbody>\n</table>\n</div>"
     },
     "metadata": {}
    }
   ],
   "execution_count": 65
  },
  {
   "cell_type": "markdown",
   "source": "# DuMmY ColUmnS\n\n![](https://ftw.usatoday.com/wp-content/uploads/sites/90/2017/05/spongebob.jpg)",
   "metadata": {
    "tags": [],
    "cell_id": "00035-cac97695-7822-482f-82fe-88fb8d765157",
    "deepnote_cell_type": "markdown"
   }
  },
  {
   "cell_type": "code",
   "source": "# clean and encode gender - no concating at this pt\ndf['gender'] = df.gender.str.lower().str.strip()\ngender_dummies = pd.get_dummies(df.gender, prefix='is')\ngender_dummies.drop(columns='is_male', inplace=True)",
   "metadata": {
    "tags": [],
    "cell_id": "00030-43e0ea9c-841c-41eb-b335-99615994c0bf",
    "deepnote_to_be_reexecuted": false,
    "source_hash": "c2b87763",
    "execution_start": 1622137539303,
    "execution_millis": 5,
    "deepnote_cell_type": "code"
   },
   "outputs": [],
   "execution_count": 43
  },
  {
   "cell_type": "code",
   "source": "# cleaned and encoded race - no concating\ndf['race'] = df.race.str.lower().replace(\"african-american/black\", \"black\").replace(\"european-american/white\", \"white\").replace(\"hispanic/latino\", \"hispanic\").replace(\"native american/alaskan\", \"native american\").replace(\"race unspecified\", \"unknown race\")\nrace_dummies = pd.get_dummies(df.race, prefix='is')",
   "metadata": {
    "tags": [],
    "cell_id": "00036-d0de61a7-fdee-4f9f-b145-1efba711121b",
    "deepnote_to_be_reexecuted": false,
    "source_hash": "ffbb070e",
    "execution_start": 1622137540395,
    "execution_millis": 5,
    "deepnote_cell_type": "code"
   },
   "outputs": [],
   "execution_count": 44
  },
  {
   "cell_type": "code",
   "source": "unarmed_dummies = pd.get_dummies(df.armed_unarmed, drop_first=True, prefix='is')",
   "metadata": {
    "tags": [],
    "cell_id": "00037-e6ef5266-3be6-42f7-a334-680825b12bca",
    "deepnote_to_be_reexecuted": false,
    "source_hash": "bf0ef90c",
    "execution_start": 1622137541620,
    "execution_millis": 2,
    "deepnote_cell_type": "code"
   },
   "outputs": [],
   "execution_count": 45
  },
  {
   "cell_type": "code",
   "source": "weapon_dummies = pd.get_dummies(df.alleged_weapon, prefix='had', drop_first=False)",
   "metadata": {
    "tags": [],
    "cell_id": "00038-7959502a-29c2-47db-9df7-79a676c516d6",
    "deepnote_to_be_reexecuted": false,
    "source_hash": "ed6614da",
    "execution_start": 1622137542021,
    "execution_millis": 3,
    "deepnote_cell_type": "code"
   },
   "outputs": [],
   "execution_count": 46
  },
  {
   "cell_type": "code",
   "source": "df['fleeing_not_fleeing'] = np.where(df.fleeing_not_fleeing.str.contains(\"fleeing/\"), \"fleeing\", df.fleeing_not_fleeing)",
   "metadata": {
    "tags": [],
    "cell_id": "00043-d4ca66a4-7a87-4914-bb49-2163c78cc726",
    "deepnote_cell_type": "code"
   },
   "outputs": [],
   "execution_count": null
  },
  {
   "cell_type": "code",
   "source": "",
   "metadata": {
    "tags": [],
    "cell_id": "00043-7eb85913-9930-4001-9501-8a3cee9c7c46",
    "deepnote_cell_type": "code"
   },
   "outputs": [],
   "execution_count": null
  },
  {
   "cell_type": "markdown",
   "source": "<a style='text-decoration:none;line-height:16px;display:flex;color:#5B5B62;padding:10px;justify-content:end;' href='https://deepnote.com?utm_source=created-in-deepnote-cell&projectId=258e71fc-cf2b-48c3-8461-70ecd9787aa1' target=\"_blank\">\n<img alt='Created in deepnote.com' style='display:inline;max-height:16px;margin:0px;margin-right:7.5px;' src='data:image/svg+xml;base64,PD94bWwgdmVyc2lvbj0iMS4wIiBlbmNvZGluZz0iVVRGLTgiPz4KPHN2ZyB3aWR0aD0iODBweCIgaGVpZ2h0PSI4MHB4IiB2aWV3Qm94PSIwIDAgODAgODAiIHZlcnNpb249IjEuMSIgeG1sbnM9Imh0dHA6Ly93d3cudzMub3JnLzIwMDAvc3ZnIiB4bWxuczp4bGluaz0iaHR0cDovL3d3dy53My5vcmcvMTk5OS94bGluayI+CiAgICA8IS0tIEdlbmVyYXRvcjogU2tldGNoIDU0LjEgKDc2NDkwKSAtIGh0dHBzOi8vc2tldGNoYXBwLmNvbSAtLT4KICAgIDx0aXRsZT5Hcm91cCAzPC90aXRsZT4KICAgIDxkZXNjPkNyZWF0ZWQgd2l0aCBTa2V0Y2guPC9kZXNjPgogICAgPGcgaWQ9IkxhbmRpbmciIHN0cm9rZT0ibm9uZSIgc3Ryb2tlLXdpZHRoPSIxIiBmaWxsPSJub25lIiBmaWxsLXJ1bGU9ImV2ZW5vZGQiPgogICAgICAgIDxnIGlkPSJBcnRib2FyZCIgdHJhbnNmb3JtPSJ0cmFuc2xhdGUoLTEyMzUuMDAwMDAwLCAtNzkuMDAwMDAwKSI+CiAgICAgICAgICAgIDxnIGlkPSJHcm91cC0zIiB0cmFuc2Zvcm09InRyYW5zbGF0ZSgxMjM1LjAwMDAwMCwgNzkuMDAwMDAwKSI+CiAgICAgICAgICAgICAgICA8cG9seWdvbiBpZD0iUGF0aC0yMCIgZmlsbD0iIzAyNjVCNCIgcG9pbnRzPSIyLjM3NjIzNzYyIDgwIDM4LjA0NzY2NjcgODAgNTcuODIxNzgyMiA3My44MDU3NTkyIDU3LjgyMTc4MjIgMzIuNzU5MjczOSAzOS4xNDAyMjc4IDMxLjY4MzE2ODMiPjwvcG9seWdvbj4KICAgICAgICAgICAgICAgIDxwYXRoIGQ9Ik0zNS4wMDc3MTgsODAgQzQyLjkwNjIwMDcsNzYuNDU0OTM1OCA0Ny41NjQ5MTY3LDcxLjU0MjI2NzEgNDguOTgzODY2LDY1LjI2MTk5MzkgQzUxLjExMjI4OTksNTUuODQxNTg0MiA0MS42NzcxNzk1LDQ5LjIxMjIyODQgMjUuNjIzOTg0Niw0OS4yMTIyMjg0IEMyNS40ODQ5Mjg5LDQ5LjEyNjg0NDggMjkuODI2MTI5Niw0My4yODM4MjQ4IDM4LjY0NzU4NjksMzEuNjgzMTY4MyBMNzIuODcxMjg3MSwzMi41NTQ0MjUgTDY1LjI4MDk3Myw2Ny42NzYzNDIxIEw1MS4xMTIyODk5LDc3LjM3NjE0NCBMMzUuMDA3NzE4LDgwIFoiIGlkPSJQYXRoLTIyIiBmaWxsPSIjMDAyODY4Ij48L3BhdGg+CiAgICAgICAgICAgICAgICA8cGF0aCBkPSJNMCwzNy43MzA0NDA1IEwyNy4xMTQ1MzcsMC4yNTcxMTE0MzYgQzYyLjM3MTUxMjMsLTEuOTkwNzE3MDEgODAsMTAuNTAwMzkyNyA4MCwzNy43MzA0NDA1IEM4MCw2NC45NjA0ODgyIDY0Ljc3NjUwMzgsNzkuMDUwMzQxNCAzNC4zMjk1MTEzLDgwIEM0Ny4wNTUzNDg5LDc3LjU2NzA4MDggNTMuNDE4MjY3Nyw3MC4zMTM2MTAzIDUzLjQxODI2NzcsNTguMjM5NTg4NSBDNTMuNDE4MjY3Nyw0MC4xMjg1NTU3IDM2LjMwMzk1NDQsMzcuNzMwNDQwNSAyNS4yMjc0MTcsMzcuNzMwNDQwNSBDMTcuODQzMDU4NiwzNy43MzA0NDA1IDkuNDMzOTE5NjYsMzcuNzMwNDQwNSAwLDM3LjczMDQ0MDUgWiIgaWQ9IlBhdGgtMTkiIGZpbGw9IiMzNzkzRUYiPjwvcGF0aD4KICAgICAgICAgICAgPC9nPgogICAgICAgIDwvZz4KICAgIDwvZz4KPC9zdmc+' > </img>\nCreated in <span style='font-weight:600;margin-left:4px;'>Deepnote</span></a>",
   "metadata": {
    "tags": [],
    "created_in_deepnote_cell": true,
    "deepnote_cell_type": "markdown"
   }
  }
 ],
 "nbformat": 4,
 "nbformat_minor": 2,
 "metadata": {
  "orig_nbformat": 2,
  "deepnote": {
   "is_reactive": false
  },
  "deepnote_notebook_id": "eb117828-9a5a-4bd8-982d-120fe0f488fb",
  "deepnote_execution_queue": []
 }
}