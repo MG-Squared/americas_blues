{
 "cells": [
  {
   "cell_type": "markdown",
   "source": "# Project Description and Goals\n\nAcross the United States, there are police altercations that result in deadly outcomes. A great deal of data on the fatal occurrences has been recorded and includes information on fatalities caused by police, whether they were on-duty, off-duty, criminal, line-of-duty, local, federal, intentional, or accidental. For our capstone, we address the issue of police violence that has become a heated topic throughout the country. As a team, we attempt to help law enforcement agencies identify risk factors so they may step in before risk transforms into actual harm. \n\n\nOur project aims to research what attributes surround fatal police-related encounters and to analyze the attributes about these incidents that may be leading to the fatalities. Two open-sourced datasets we acquired:\n- [Mapping Police Violence](https://mappingpoliceviolence.org/aboutthedata) for our first iteration has gathered over 9000 police killings from January 2013 to May 2021. \n    - For the first iteration, we’re taking one of these attributes (the threat level of the victim) and building a model around it to predict if the victim is classified as being an attacker or a non-attacker based on the other top attributes in the MPV dataset. \n    \n\n- [Fatal Encounters](https://fatalencounters.org/) for our second iteration has information on over 30,000 records from January 2000 to May 2021.\n    - For the second iteration, we're doing the same (building a model around the threat level of the victim), but predicting if the victim is classified as threatening, non-threatening, or ambiguous based on the other top attributes in the FE dataset. \n\nOur hope is to shed light on changes to be made within law enforcement, help identify what response teams should be more available, and to improve the way emergency teams are responding to altercations across the United States. Is there a way to modify law enforcement trainings and policies to decrease officer-involved incidents. Are we able to improve the safety and outcomes for all people involved, both officers and civilians? The overall goal is to save lives, provide insights, and find recommendations that will be of assistance. \n\n### Objectives for this project include:\n- Identifying the drivers of civilian fatalities. \n- Documenting the process and analysis throughout the data science pipeline.\n- Constructing a classification model that can predict what the victim's threat level is, given the features of the dataset.\n- Deliverables:\n    - README.md file containing overall project information. \n    - A well-documented Jupyter notebook detailing the data science pipeline process.\n    - Python modules that automate the data acquisition, preparation, and exploration process.\n\n### Initial Thoughts and Hypotheses:\n- Armed/unarmed victims?\n- Fleeing/not fleeing victims? \n- Did the victim put others in danger?\n- Is there a mental illness that contributed to the incident? \n- Is race, gender, age or location influencing alleged threat level?\n- How does mental illness affect each gender?\n- Are officers wearing their body cameras and does it make a difference in alleged threat level?\n- Is there even enough information being documented on the police reports? \n- Is cause of death and alleged threat level independent of one another?\n- What are the fatalities by state: % killings vs pop",
   "metadata": {
    "cell_id": "00000-d77f129a-c43b-4726-afe8-afbd214b5f74",
    "deepnote_cell_type": "markdown"
   }
  },
  {
   "cell_type": "markdown",
   "source": "___\n# Imports \nImport all necessary libraries and functions. ",
   "metadata": {
    "cell_id": "00001-83c91440-e88f-4d9b-8bcd-b7a13f6c7c3c",
    "deepnote_cell_type": "markdown"
   }
  },
  {
   "cell_type": "code",
   "metadata": {
    "deepnote_to_be_reexecuted": false,
    "source_hash": "cfefdd55",
    "execution_start": 1622247682422,
    "execution_millis": 2918,
    "cell_id": "00002-2e354f67-b1e8-4373-91dc-37221dd1e34f",
    "deepnote_cell_type": "code"
   },
   "source": "import pandas as pd\nimport numpy as np\n\n# Helper Functions\nimport wrangle as w \nimport explore as exp\nfrom explore import rfe, split, select_kbest\n\n# Visualizations\nimport seaborn as sns\nimport matplotlib.pyplot as plt\n\n# Ignore warnings\nimport warnings\nwarnings.filterwarnings(\"ignore\")\n\n# Hypothesis tests\nfrom scipy import stats\nfrom scipy.stats import chi2_contingency\nfrom scipy.stats import ttest_1samp\nfrom scipy.stats import ttest_ind\n\n# Split data\nfrom sklearn.model_selection import train_test_split\n\n#Feature Engineering\nfrom sklearn.feature_selection import SelectKBest, f_regression, chi2\nfrom sklearn.feature_selection import RFE\n\n# Evaluate models\nfrom sklearn.metrics import classification_report\nfrom sklearn.metrics import accuracy_score\n\n# Create models for classification ML:\n# Decision Tree  \nfrom sklearn.tree import DecisionTreeClassifier\nfrom sklearn.tree import export_graphviz\n\n# Random Forest\nfrom sklearn.ensemble import RandomForestClassifier\n\n# K-Nearest Neighbor(KNN)  \nfrom sklearn.neighbors import KNeighborsClassifier\n\n# Logistic Regression\nfrom sklearn.linear_model import LogisticRegression\n\n# Evaluate models\nfrom sklearn.metrics import confusion_matrix\nfrom sklearn.metrics import classification_report\nfrom sklearn.metrics import accuracy_score\nfrom sklearn.metrics import precision_score\nfrom sklearn.metrics import recall_score\nfrom sklearn.metrics import f1_score\nfrom sklearn.metrics import precision_recall_fscore_support ",
   "execution_count": 1,
   "outputs": []
  },
  {
   "cell_type": "markdown",
   "source": "\n___\n# Acquire Data",
   "metadata": {
    "cell_id": "00003-2770cbbd-fdcf-4c85-bbdd-ea45f2042301",
    "deepnote_cell_type": "markdown"
   }
  },
  {
   "cell_type": "code",
   "metadata": {
    "deepnote_to_be_reexecuted": false,
    "execution_millis": 49404,
    "execution_start": 1622247685348,
    "source_hash": "eece8c83",
    "tags": [],
    "cell_id": "00004-dd2383f4-2918-4934-9c5e-dd00f0db84dd",
    "deepnote_cell_type": "code"
   },
   "source": "# reads data from MPV website's downloaded dataset\ndf = pd.read_excel('new_data.xlsx')\ndf.head()",
   "execution_count": 2,
   "outputs": [
    {
     "output_type": "execute_result",
     "execution_count": 2,
     "data": {
      "application/vnd.deepnote.dataframe.v2+json": {
       "row_count": 5,
       "column_count": 48,
       "columns": [
        {
         "name": "Unique ID",
         "dtype": "float64",
         "stats": {
          "unique_count": 5,
          "nan_count": 0,
          "min": "1.0",
          "max": "25749.0",
          "histogram": [
           {
            "bin_start": 1,
            "bin_end": 2575.8,
            "count": 1
           },
           {
            "bin_start": 2575.8,
            "bin_end": 5150.6,
            "count": 0
           },
           {
            "bin_start": 5150.6,
            "bin_end": 7725.400000000001,
            "count": 0
           },
           {
            "bin_start": 7725.400000000001,
            "bin_end": 10300.2,
            "count": 0
           },
           {
            "bin_start": 10300.2,
            "bin_end": 12875,
            "count": 0
           },
           {
            "bin_start": 12875,
            "bin_end": 15449.800000000001,
            "count": 0
           },
           {
            "bin_start": 15449.800000000001,
            "bin_end": 18024.600000000002,
            "count": 0
           },
           {
            "bin_start": 18024.600000000002,
            "bin_end": 20599.4,
            "count": 0
           },
           {
            "bin_start": 20599.4,
            "bin_end": 23174.2,
            "count": 0
           },
           {
            "bin_start": 23174.2,
            "bin_end": 25749,
            "count": 4
           }
          ]
         }
        },
        {
         "name": "Name",
         "dtype": "object",
         "stats": {
          "unique_count": 5,
          "nan_count": 0,
          "categories": [
           {
            "name": "Samuel H. Knapp",
            "count": 1
           },
           {
            "name": "Mark A. Horton",
            "count": 1
           },
           {
            "name": "3 others",
            "count": 3
           }
          ]
         }
        },
        {
         "name": "Age",
         "dtype": "object",
         "stats": {
          "unique_count": 5,
          "nan_count": 0,
          "categories": [
           {
            "name": "17",
            "count": 1
           },
           {
            "name": "21",
            "count": 1
           },
           {
            "name": "3 others",
            "count": 3
           }
          ]
         }
        },
        {
         "name": "Gender",
         "dtype": "object",
         "stats": {
          "unique_count": 2,
          "nan_count": 0,
          "categories": [
           {
            "name": "Male",
            "count": 4
           },
           {
            "name": "Female",
            "count": 1
           }
          ]
         }
        },
        {
         "name": "Race",
         "dtype": "object",
         "stats": {
          "unique_count": 3,
          "nan_count": 0,
          "categories": [
           {
            "name": "African-American/Black",
            "count": 3
           },
           {
            "name": "European-American/White",
            "count": 1
           },
           {
            "name": "Hispanic/Latino",
            "count": 1
           }
          ]
         }
        },
        {
         "name": "Race with imputations",
         "dtype": "object",
         "stats": {
          "unique_count": 3,
          "nan_count": 0,
          "categories": [
           {
            "name": "African-American/Black",
            "count": 3
           },
           {
            "name": "European-American/White",
            "count": 1
           },
           {
            "name": "Hispanic/Latino",
            "count": 1
           }
          ]
         }
        },
        {
         "name": "Imputation probability",
         "dtype": "object",
         "stats": {
          "unique_count": 1,
          "nan_count": 0,
          "categories": [
           {
            "name": "Not imputed",
            "count": 5
           }
          ]
         }
        },
        {
         "name": "URL of image (PLS NO HOTLINKS)",
         "dtype": "object",
         "stats": {
          "unique_count": 0,
          "nan_count": 5,
          "categories": [
           {
            "name": "Missing",
            "count": 5
           }
          ]
         }
        },
        {
         "name": "Date of injury resulting in death (month/day/year)",
         "dtype": "datetime64[ns]",
         "stats": {
          "unique_count": 2,
          "nan_count": 0,
          "min": "2000-01-01 00:00:00",
          "max": "2000-01-02 00:00:00",
          "histogram": [
           {
            "bin_start": 946684800000000000,
            "bin_end": 946693440000000000,
            "count": 4
           },
           {
            "bin_start": 946693440000000000,
            "bin_end": 946702080000000000,
            "count": 0
           },
           {
            "bin_start": 946702080000000000,
            "bin_end": 946710720000000000,
            "count": 0
           },
           {
            "bin_start": 946710720000000000,
            "bin_end": 946719360000000000,
            "count": 0
           },
           {
            "bin_start": 946719360000000000,
            "bin_end": 946728000000000000,
            "count": 0
           },
           {
            "bin_start": 946728000000000000,
            "bin_end": 946736640000000000,
            "count": 0
           },
           {
            "bin_start": 946736640000000000,
            "bin_end": 946745280000000000,
            "count": 0
           },
           {
            "bin_start": 946745280000000000,
            "bin_end": 946753920000000000,
            "count": 0
           },
           {
            "bin_start": 946753920000000000,
            "bin_end": 946762560000000000,
            "count": 0
           },
           {
            "bin_start": 946762560000000000,
            "bin_end": 946771200000000000,
            "count": 1
           }
          ]
         }
        },
        {
         "name": "Location of injury (address)",
         "dtype": "object",
         "stats": {
          "unique_count": 4,
          "nan_count": 0,
          "categories": [
           {
            "name": "Davison Freeway",
            "count": 2
           },
           {
            "name": "27898-27804 US-101",
            "count": 1
           },
           {
            "name": "2 others",
            "count": 2
           }
          ]
         }
        },
        {
         "name": "Location of death (city)",
         "dtype": "object",
         "stats": {
          "unique_count": 4,
          "nan_count": 0,
          "categories": [
           {
            "name": "Detroit",
            "count": 2
           },
           {
            "name": "Willits",
            "count": 1
           },
           {
            "name": "2 others",
            "count": 2
           }
          ]
         }
        },
        {
         "name": "State",
         "dtype": "object",
         "stats": {
          "unique_count": 3,
          "nan_count": 0,
          "categories": [
           {
            "name": "CA",
            "count": 2
           },
           {
            "name": "MI",
            "count": 2
           },
           {
            "name": "NM",
            "count": 1
           }
          ]
         }
        },
        {
         "name": "Location of death (zip code)",
         "dtype": "float64",
         "stats": {
          "unique_count": 4,
          "nan_count": 0,
          "min": "48203.0",
          "max": "95823.0",
          "histogram": [
           {
            "bin_start": 48203,
            "bin_end": 52965,
            "count": 2
           },
           {
            "bin_start": 52965,
            "bin_end": 57727,
            "count": 0
           },
           {
            "bin_start": 57727,
            "bin_end": 62489,
            "count": 0
           },
           {
            "bin_start": 62489,
            "bin_end": 67251,
            "count": 0
           },
           {
            "bin_start": 67251,
            "bin_end": 72013,
            "count": 0
           },
           {
            "bin_start": 72013,
            "bin_end": 76775,
            "count": 0
           },
           {
            "bin_start": 76775,
            "bin_end": 81537,
            "count": 0
           },
           {
            "bin_start": 81537,
            "bin_end": 86299,
            "count": 0
           },
           {
            "bin_start": 86299,
            "bin_end": 91061,
            "count": 1
           },
           {
            "bin_start": 91061,
            "bin_end": 95823,
            "count": 2
           }
          ]
         }
        },
        {
         "name": "Location of death (county)",
         "dtype": "object",
         "stats": {
          "unique_count": 4,
          "nan_count": 0,
          "categories": [
           {
            "name": "Wayne",
            "count": 2
           },
           {
            "name": "Mendocino",
            "count": 1
           },
           {
            "name": "2 others",
            "count": 2
           }
          ]
         }
        },
        {
         "name": "Full Address",
         "dtype": "object",
         "stats": {
          "unique_count": 4,
          "nan_count": 0,
          "categories": [
           {
            "name": "Davison Freeway Detroit MI 48203 Wayne",
            "count": 2
           },
           {
            "name": "27898-27804 US-101 Willits CA 95490 Mendocino",
            "count": 1
           },
           {
            "name": "2 others",
            "count": 2
           }
          ]
         }
        },
        {
         "name": "Latitude",
         "dtype": "object",
         "stats": {
          "unique_count": 4,
          "nan_count": 0,
          "categories": [
           {
            "name": "42.4045257999999",
            "count": 2
           },
           {
            "name": "39.4708829",
            "count": 1
           },
           {
            "name": "2 others",
            "count": 2
           }
          ]
         }
        },
        {
         "name": "Longitude",
         "dtype": "float64",
         "stats": {
          "unique_count": 4,
          "nan_count": 0,
          "min": "-123.3617513",
          "max": "-83.0922741",
          "histogram": [
           {
            "bin_start": -123.3617513,
            "bin_end": -119.33480358,
            "count": 2
           },
           {
            "bin_start": -119.33480358,
            "bin_end": -115.30785585999999,
            "count": 0
           },
           {
            "bin_start": -115.30785585999999,
            "bin_end": -111.28090814,
            "count": 0
           },
           {
            "bin_start": -111.28090814,
            "bin_end": -107.25396042,
            "count": 0
           },
           {
            "bin_start": -107.25396042,
            "bin_end": -103.22701269999999,
            "count": 1
           },
           {
            "bin_start": -103.22701269999999,
            "bin_end": -99.20006498,
            "count": 0
           },
           {
            "bin_start": -99.20006498,
            "bin_end": -95.17311726,
            "count": 0
           },
           {
            "bin_start": -95.17311726,
            "bin_end": -91.14616953999999,
            "count": 0
           },
           {
            "bin_start": -91.14616953999999,
            "bin_end": -87.11922181999999,
            "count": 0
           },
           {
            "bin_start": -87.11922181999999,
            "bin_end": -83.0922741,
            "count": 2
           }
          ]
         }
        },
        {
         "name": "Agency or agencies involved",
         "dtype": "object",
         "stats": {
          "unique_count": 3,
          "nan_count": 2,
          "categories": [
           {
            "name": "Mendocino County Sheriff's Office",
            "count": 1
           },
           {
            "name": "2 others",
            "count": 2
           },
           {
            "name": "Missing",
            "count": 2
           }
          ]
         }
        },
        {
         "name": "Highest level of force",
         "dtype": "object",
         "stats": {
          "unique_count": 1,
          "nan_count": 0,
          "categories": [
           {
            "name": "Vehicle",
            "count": 5
           }
          ]
         }
        },
        {
         "name": "UID Temporary",
         "dtype": "float64",
         "stats": {
          "unique_count": 0,
          "nan_count": 5,
          "min": null,
          "max": null,
          "histogram": [
           {
            "bin_start": 0,
            "bin_end": 0.1,
            "count": 0
           },
           {
            "bin_start": 0.1,
            "bin_end": 0.2,
            "count": 0
           },
           {
            "bin_start": 0.2,
            "bin_end": 0.30000000000000004,
            "count": 0
           },
           {
            "bin_start": 0.30000000000000004,
            "bin_end": 0.4,
            "count": 0
           },
           {
            "bin_start": 0.4,
            "bin_end": 0.5,
            "count": 0
           },
           {
            "bin_start": 0.5,
            "bin_end": 0.6000000000000001,
            "count": 0
           },
           {
            "bin_start": 0.6000000000000001,
            "bin_end": 0.7000000000000001,
            "count": 0
           },
           {
            "bin_start": 0.7000000000000001,
            "bin_end": 0.8,
            "count": 0
           },
           {
            "bin_start": 0.8,
            "bin_end": 0.9,
            "count": 0
           },
           {
            "bin_start": 0.9,
            "bin_end": 1,
            "count": 0
           }
          ]
         }
        },
        {
         "name": "Name Temporary",
         "dtype": "object",
         "stats": {
          "unique_count": 0,
          "nan_count": 5,
          "categories": [
           {
            "name": "Missing",
            "count": 5
           }
          ]
         }
        },
        {
         "name": "Armed/Unarmed",
         "dtype": "object",
         "stats": {
          "unique_count": 0,
          "nan_count": 5,
          "categories": [
           {
            "name": "Missing",
            "count": 5
           }
          ]
         }
        },
        {
         "name": "Alleged weapon",
         "dtype": "object",
         "stats": {
          "unique_count": 0,
          "nan_count": 5,
          "categories": [
           {
            "name": "Missing",
            "count": 5
           }
          ]
         }
        },
        {
         "name": "Aggressive physical movement",
         "dtype": "object",
         "stats": {
          "unique_count": 0,
          "nan_count": 5,
          "categories": [
           {
            "name": "Missing",
            "count": 5
           }
          ]
         }
        },
        {
         "name": "Fleeing/Not fleeing",
         "dtype": "object",
         "stats": {
          "unique_count": 0,
          "nan_count": 5,
          "categories": [
           {
            "name": "Missing",
            "count": 5
           }
          ]
         }
        },
        {
         "name": "Description Temp",
         "dtype": "object",
         "stats": {
          "unique_count": 0,
          "nan_count": 5,
          "categories": [
           {
            "name": "Missing",
            "count": 5
           }
          ]
         }
        },
        {
         "name": "URL Temp",
         "dtype": "object",
         "stats": {
          "unique_count": 0,
          "nan_count": 5,
          "categories": [
           {
            "name": "Missing",
            "count": 5
           }
          ]
         }
        },
        {
         "name": "Brief description",
         "dtype": "object",
         "stats": {
          "unique_count": 5,
          "nan_count": 0,
          "categories": [
           {
            "name": "Samuel Knapp was allegedly driving a stolen vehicle when Deputies Scott Nording and Mike Davis started to pursue him. He crashed and was killed during the pursuit about 12:35 a.m.",
            "count": 1
           },
           {
            "name": "Two Detroit men killed when their car crashed were among at least eight people who died in New Year's holiday weekend traffic accidents in Michigan, police said. Mark A Horton, 21, and passenger Phillip A. Bluebridge, 19, were killed when their car crashed in their hometown at 1:54 a.m. They were not wearing seat belts. While these deaths were not reported in news media as police pursuit deaths, National Highway Traffic Safety Administration data shows police reported two people dying in a police pursuit at 1:54 a.m. on January 1, 2000, on Davison Freeway. It was the only double fatality crash in Michigan that night.",
            "count": 1
           },
           {
            "name": "3 others",
            "count": 3
           }
          ]
         }
        },
        {
         "name": "Dispositions/Exclusions INTERNAL USE, NOT FOR ANALYSIS",
         "dtype": "object",
         "stats": {
          "unique_count": 2,
          "nan_count": 0,
          "categories": [
           {
            "name": "Unreported",
            "count": 4
           },
           {
            "name": "Unknown",
            "count": 1
           }
          ]
         }
        },
        {
         "name": "Intended use of force (Developing)",
         "dtype": "object",
         "stats": {
          "unique_count": 1,
          "nan_count": 0,
          "categories": [
           {
            "name": "Pursuit",
            "count": 5
           }
          ]
         }
        },
        {
         "name": "Supporting document link",
         "dtype": "object",
         "stats": {
          "unique_count": 4,
          "nan_count": 0,
          "categories": [
           {
            "name": "https://drive.google.com/file/d/1-nK-RohgiM-tZ5QV0fKOefRUbwJDRD6i/view?usp=sharing",
            "count": 2
           },
           {
            "name": "https://drive.google.com/file/d/10DisrV8K5ReP1lUkqo4y7krqc5Z__rtx/view?usp=sharing",
            "count": 1
           },
           {
            "name": "2 others",
            "count": 2
           }
          ]
         }
        },
        {
         "name": "Foreknowledge of mental illness? INTERNAL USE, NOT FOR ANALYSIS",
         "dtype": "object",
         "stats": {
          "unique_count": 1,
          "nan_count": 0,
          "categories": [
           {
            "name": "No",
            "count": 5
           }
          ]
         }
        },
        {
         "name": "Unnamed: 32",
         "dtype": "float64",
         "stats": {
          "unique_count": 0,
          "nan_count": 5,
          "min": null,
          "max": null,
          "histogram": [
           {
            "bin_start": 0,
            "bin_end": 0.1,
            "count": 0
           },
           {
            "bin_start": 0.1,
            "bin_end": 0.2,
            "count": 0
           },
           {
            "bin_start": 0.2,
            "bin_end": 0.30000000000000004,
            "count": 0
           },
           {
            "bin_start": 0.30000000000000004,
            "bin_end": 0.4,
            "count": 0
           },
           {
            "bin_start": 0.4,
            "bin_end": 0.5,
            "count": 0
           },
           {
            "bin_start": 0.5,
            "bin_end": 0.6000000000000001,
            "count": 0
           },
           {
            "bin_start": 0.6000000000000001,
            "bin_end": 0.7000000000000001,
            "count": 0
           },
           {
            "bin_start": 0.7000000000000001,
            "bin_end": 0.8,
            "count": 0
           },
           {
            "bin_start": 0.8,
            "bin_end": 0.9,
            "count": 0
           },
           {
            "bin_start": 0.9,
            "bin_end": 1,
            "count": 0
           }
          ]
         }
        },
        {
         "name": "Unnamed: 33",
         "dtype": "float64",
         "stats": {
          "unique_count": 0,
          "nan_count": 5,
          "min": null,
          "max": null,
          "histogram": [
           {
            "bin_start": 0,
            "bin_end": 0.1,
            "count": 0
           },
           {
            "bin_start": 0.1,
            "bin_end": 0.2,
            "count": 0
           },
           {
            "bin_start": 0.2,
            "bin_end": 0.30000000000000004,
            "count": 0
           },
           {
            "bin_start": 0.30000000000000004,
            "bin_end": 0.4,
            "count": 0
           },
           {
            "bin_start": 0.4,
            "bin_end": 0.5,
            "count": 0
           },
           {
            "bin_start": 0.5,
            "bin_end": 0.6000000000000001,
            "count": 0
           },
           {
            "bin_start": 0.6000000000000001,
            "bin_end": 0.7000000000000001,
            "count": 0
           },
           {
            "bin_start": 0.7000000000000001,
            "bin_end": 0.8,
            "count": 0
           },
           {
            "bin_start": 0.8,
            "bin_end": 0.9,
            "count": 0
           },
           {
            "bin_start": 0.9,
            "bin_end": 1,
            "count": 0
           }
          ]
         }
        },
        {
         "name": "Unique ID formula",
         "dtype": "float64",
         "stats": {
          "unique_count": 0,
          "nan_count": 5,
          "min": null,
          "max": null,
          "histogram": [
           {
            "bin_start": 0,
            "bin_end": 0.1,
            "count": 0
           },
           {
            "bin_start": 0.1,
            "bin_end": 0.2,
            "count": 0
           },
           {
            "bin_start": 0.2,
            "bin_end": 0.30000000000000004,
            "count": 0
           },
           {
            "bin_start": 0.30000000000000004,
            "bin_end": 0.4,
            "count": 0
           },
           {
            "bin_start": 0.4,
            "bin_end": 0.5,
            "count": 0
           },
           {
            "bin_start": 0.5,
            "bin_end": 0.6000000000000001,
            "count": 0
           },
           {
            "bin_start": 0.6000000000000001,
            "bin_end": 0.7000000000000001,
            "count": 0
           },
           {
            "bin_start": 0.7000000000000001,
            "bin_end": 0.8,
            "count": 0
           },
           {
            "bin_start": 0.8,
            "bin_end": 0.9,
            "count": 0
           },
           {
            "bin_start": 0.9,
            "bin_end": 1,
            "count": 0
           }
          ]
         }
        },
        {
         "name": "Unique identifier (redundant)",
         "dtype": "float64",
         "stats": {
          "unique_count": 5,
          "nan_count": 0,
          "min": "1.0",
          "max": "25749.0",
          "histogram": [
           {
            "bin_start": 1,
            "bin_end": 2575.8,
            "count": 1
           },
           {
            "bin_start": 2575.8,
            "bin_end": 5150.6,
            "count": 0
           },
           {
            "bin_start": 5150.6,
            "bin_end": 7725.400000000001,
            "count": 0
           },
           {
            "bin_start": 7725.400000000001,
            "bin_end": 10300.2,
            "count": 0
           },
           {
            "bin_start": 10300.2,
            "bin_end": 12875,
            "count": 0
           },
           {
            "bin_start": 12875,
            "bin_end": 15449.800000000001,
            "count": 0
           },
           {
            "bin_start": 15449.800000000001,
            "bin_end": 18024.600000000002,
            "count": 0
           },
           {
            "bin_start": 18024.600000000002,
            "bin_end": 20599.4,
            "count": 0
           },
           {
            "bin_start": 20599.4,
            "bin_end": 23174.2,
            "count": 0
           },
           {
            "bin_start": 23174.2,
            "bin_end": 25749,
            "count": 4
           }
          ]
         }
        },
        {
         "name": "Unnamed: 36",
         "dtype": "float64",
         "stats": {
          "unique_count": 0,
          "nan_count": 5,
          "min": null,
          "max": null,
          "histogram": [
           {
            "bin_start": 0,
            "bin_end": 0.1,
            "count": 0
           },
           {
            "bin_start": 0.1,
            "bin_end": 0.2,
            "count": 0
           },
           {
            "bin_start": 0.2,
            "bin_end": 0.30000000000000004,
            "count": 0
           },
           {
            "bin_start": 0.30000000000000004,
            "bin_end": 0.4,
            "count": 0
           },
           {
            "bin_start": 0.4,
            "bin_end": 0.5,
            "count": 0
           },
           {
            "bin_start": 0.5,
            "bin_end": 0.6000000000000001,
            "count": 0
           },
           {
            "bin_start": 0.6000000000000001,
            "bin_end": 0.7000000000000001,
            "count": 0
           },
           {
            "bin_start": 0.7000000000000001,
            "bin_end": 0.8,
            "count": 0
           },
           {
            "bin_start": 0.8,
            "bin_end": 0.9,
            "count": 0
           },
           {
            "bin_start": 0.9,
            "bin_end": 1,
            "count": 0
           }
          ]
         }
        },
        {
         "name": "Unnamed: 37",
         "dtype": "object",
         "stats": {
          "unique_count": 0,
          "nan_count": 5,
          "categories": [
           {
            "name": "Missing",
            "count": 5
           }
          ]
         }
        },
        {
         "name": "Unnamed: 38",
         "dtype": "float64",
         "stats": {
          "unique_count": 0,
          "nan_count": 5,
          "min": null,
          "max": null,
          "histogram": [
           {
            "bin_start": 0,
            "bin_end": 0.1,
            "count": 0
           },
           {
            "bin_start": 0.1,
            "bin_end": 0.2,
            "count": 0
           },
           {
            "bin_start": 0.2,
            "bin_end": 0.30000000000000004,
            "count": 0
           },
           {
            "bin_start": 0.30000000000000004,
            "bin_end": 0.4,
            "count": 0
           },
           {
            "bin_start": 0.4,
            "bin_end": 0.5,
            "count": 0
           },
           {
            "bin_start": 0.5,
            "bin_end": 0.6000000000000001,
            "count": 0
           },
           {
            "bin_start": 0.6000000000000001,
            "bin_end": 0.7000000000000001,
            "count": 0
           },
           {
            "bin_start": 0.7000000000000001,
            "bin_end": 0.8,
            "count": 0
           },
           {
            "bin_start": 0.8,
            "bin_end": 0.9,
            "count": 0
           },
           {
            "bin_start": 0.9,
            "bin_end": 1,
            "count": 0
           }
          ]
         }
        },
        {
         "name": "Unnamed: 39",
         "dtype": "object",
         "stats": {
          "unique_count": 0,
          "nan_count": 5,
          "categories": [
           {
            "name": "Missing",
            "count": 5
           }
          ]
         }
        },
        {
         "name": "Unnamed: 40",
         "dtype": "object",
         "stats": {
          "unique_count": 0,
          "nan_count": 5,
          "categories": [
           {
            "name": "Missing",
            "count": 5
           }
          ]
         }
        },
        {
         "name": "Unnamed: 41",
         "dtype": "object",
         "stats": {
          "unique_count": 0,
          "nan_count": 5,
          "categories": [
           {
            "name": "Missing",
            "count": 5
           }
          ]
         }
        },
        {
         "name": "Unnamed: 42",
         "dtype": "object",
         "stats": {
          "unique_count": 0,
          "nan_count": 5,
          "categories": [
           {
            "name": "Missing",
            "count": 5
           }
          ]
         }
        },
        {
         "name": "Unnamed: 43",
         "dtype": "object",
         "stats": {
          "unique_count": 0,
          "nan_count": 5,
          "categories": [
           {
            "name": "Missing",
            "count": 5
           }
          ]
         }
        },
        {
         "name": "Unnamed: 44",
         "dtype": "object",
         "stats": {
          "unique_count": 0,
          "nan_count": 5,
          "categories": [
           {
            "name": "Missing",
            "count": 5
           }
          ]
         }
        },
        {
         "name": "Unnamed: 45",
         "dtype": "object",
         "stats": {
          "unique_count": 0,
          "nan_count": 5,
          "categories": [
           {
            "name": "Missing",
            "count": 5
           }
          ]
         }
        },
        {
         "name": "Unnamed: 46",
         "dtype": "float64",
         "stats": {
          "unique_count": 0,
          "nan_count": 5,
          "min": null,
          "max": null,
          "histogram": [
           {
            "bin_start": 0,
            "bin_end": 0.1,
            "count": 0
           },
           {
            "bin_start": 0.1,
            "bin_end": 0.2,
            "count": 0
           },
           {
            "bin_start": 0.2,
            "bin_end": 0.30000000000000004,
            "count": 0
           },
           {
            "bin_start": 0.30000000000000004,
            "bin_end": 0.4,
            "count": 0
           },
           {
            "bin_start": 0.4,
            "bin_end": 0.5,
            "count": 0
           },
           {
            "bin_start": 0.5,
            "bin_end": 0.6000000000000001,
            "count": 0
           },
           {
            "bin_start": 0.6000000000000001,
            "bin_end": 0.7000000000000001,
            "count": 0
           },
           {
            "bin_start": 0.7000000000000001,
            "bin_end": 0.8,
            "count": 0
           },
           {
            "bin_start": 0.8,
            "bin_end": 0.9,
            "count": 0
           },
           {
            "bin_start": 0.9,
            "bin_end": 1,
            "count": 0
           }
          ]
         }
        },
        {
         "name": "Unnamed: 47",
         "dtype": "float64",
         "stats": {
          "unique_count": 0,
          "nan_count": 5,
          "min": null,
          "max": null,
          "histogram": [
           {
            "bin_start": 0,
            "bin_end": 0.1,
            "count": 0
           },
           {
            "bin_start": 0.1,
            "bin_end": 0.2,
            "count": 0
           },
           {
            "bin_start": 0.2,
            "bin_end": 0.30000000000000004,
            "count": 0
           },
           {
            "bin_start": 0.30000000000000004,
            "bin_end": 0.4,
            "count": 0
           },
           {
            "bin_start": 0.4,
            "bin_end": 0.5,
            "count": 0
           },
           {
            "bin_start": 0.5,
            "bin_end": 0.6000000000000001,
            "count": 0
           },
           {
            "bin_start": 0.6000000000000001,
            "bin_end": 0.7000000000000001,
            "count": 0
           },
           {
            "bin_start": 0.7000000000000001,
            "bin_end": 0.8,
            "count": 0
           },
           {
            "bin_start": 0.8,
            "bin_end": 0.9,
            "count": 0
           },
           {
            "bin_start": 0.9,
            "bin_end": 1,
            "count": 0
           }
          ]
         }
        },
        {
         "name": "_deepnote_index_column",
         "dtype": "int64"
        }
       ],
       "rows_top": [
        {
         "Unique ID": 25746,
         "Name": "Samuel H. Knapp",
         "Age": "17",
         "Gender": "Male",
         "Race": "European-American/White",
         "Race with imputations": "European-American/White",
         "Imputation probability": "Not imputed",
         "URL of image (PLS NO HOTLINKS)": "nan",
         "Date of injury resulting in death (month/day/year)": "2000-01-01T00:00:00.000000",
         "Location of injury (address)": "27898-27804 US-101",
         "Location of death (city)": "Willits",
         "State": "CA",
         "Location of death (zip code)": 95490,
         "Location of death (county)": "Mendocino",
         "Full Address": "27898-27804 US-101 Willits CA 95490 Mendocino",
         "Latitude": "39.4708829",
         "Longitude": -123.3617513,
         "Agency or agencies involved": "Mendocino County Sheriff's Office",
         "Highest level of force": "Vehicle",
         "UID Temporary": "nan",
         "Name Temporary": "nan",
         "Armed/Unarmed": "nan",
         "Alleged weapon": "nan",
         "Aggressive physical movement": "nan",
         "Fleeing/Not fleeing": "nan",
         "Description Temp": "nan",
         "URL Temp": "nan",
         "Brief description": "Samuel Knapp was allegedly driving a stolen vehicle when Deputies Scott Nording and Mike Davis star…",
         "Dispositions/Exclusions INTERNAL USE, NOT FOR ANALYSIS": "Unreported",
         "Intended use of force (Developing)": "Pursuit",
         "Supporting document link": "https://drive.google.com/file/d/10DisrV8K5ReP1lUkqo4y7krqc5Z__rtx/view?usp=sharing",
         "Foreknowledge of mental illness? INTERNAL USE, NOT FOR ANALYSIS": "No",
         "Unnamed: 32": "nan",
         "Unnamed: 33": "nan",
         "Unique ID formula": "nan",
         "Unique identifier (redundant)": 25746,
         "Unnamed: 36": "nan",
         "Unnamed: 37": "nan",
         "Unnamed: 38": "nan",
         "Unnamed: 39": "nan",
         "Unnamed: 40": "nan",
         "Unnamed: 41": "nan",
         "Unnamed: 42": "nan",
         "Unnamed: 43": "nan",
         "Unnamed: 44": "nan",
         "Unnamed: 45": "nan",
         "Unnamed: 46": "nan",
         "Unnamed: 47": "nan",
         "_deepnote_index_column": 0
        },
        {
         "Unique ID": 25747,
         "Name": "Mark A. Horton",
         "Age": "21",
         "Gender": "Male",
         "Race": "African-American/Black",
         "Race with imputations": "African-American/Black",
         "Imputation probability": "Not imputed",
         "URL of image (PLS NO HOTLINKS)": "nan",
         "Date of injury resulting in death (month/day/year)": "2000-01-01T00:00:00.000000",
         "Location of injury (address)": "Davison Freeway",
         "Location of death (city)": "Detroit",
         "State": "MI",
         "Location of death (zip code)": 48203,
         "Location of death (county)": "Wayne",
         "Full Address": "Davison Freeway Detroit MI 48203 Wayne",
         "Latitude": "42.4045257999999",
         "Longitude": -83.0922741,
         "Agency or agencies involved": "nan",
         "Highest level of force": "Vehicle",
         "UID Temporary": "nan",
         "Name Temporary": "nan",
         "Armed/Unarmed": "nan",
         "Alleged weapon": "nan",
         "Aggressive physical movement": "nan",
         "Fleeing/Not fleeing": "nan",
         "Description Temp": "nan",
         "URL Temp": "nan",
         "Brief description": "Two Detroit men killed when their car crashed were among at least eight people who died in New Year…",
         "Dispositions/Exclusions INTERNAL USE, NOT FOR ANALYSIS": "Unreported",
         "Intended use of force (Developing)": "Pursuit",
         "Supporting document link": "https://drive.google.com/file/d/1-nK-RohgiM-tZ5QV0fKOefRUbwJDRD6i/view?usp=sharing",
         "Foreknowledge of mental illness? INTERNAL USE, NOT FOR ANALYSIS": "No",
         "Unnamed: 32": "nan",
         "Unnamed: 33": "nan",
         "Unique ID formula": "nan",
         "Unique identifier (redundant)": 25747,
         "Unnamed: 36": "nan",
         "Unnamed: 37": "nan",
         "Unnamed: 38": "nan",
         "Unnamed: 39": "nan",
         "Unnamed: 40": "nan",
         "Unnamed: 41": "nan",
         "Unnamed: 42": "nan",
         "Unnamed: 43": "nan",
         "Unnamed: 44": "nan",
         "Unnamed: 45": "nan",
         "Unnamed: 46": "nan",
         "Unnamed: 47": "nan",
         "_deepnote_index_column": 1
        },
        {
         "Unique ID": 25748,
         "Name": "Phillip A. Blurbridge",
         "Age": "19",
         "Gender": "Male",
         "Race": "African-American/Black",
         "Race with imputations": "African-American/Black",
         "Imputation probability": "Not imputed",
         "URL of image (PLS NO HOTLINKS)": "nan",
         "Date of injury resulting in death (month/day/year)": "2000-01-01T00:00:00.000000",
         "Location of injury (address)": "Davison Freeway",
         "Location of death (city)": "Detroit",
         "State": "MI",
         "Location of death (zip code)": 48203,
         "Location of death (county)": "Wayne",
         "Full Address": "Davison Freeway Detroit MI 48203 Wayne",
         "Latitude": "42.4045257999999",
         "Longitude": -83.0922741,
         "Agency or agencies involved": "nan",
         "Highest level of force": "Vehicle",
         "UID Temporary": "nan",
         "Name Temporary": "nan",
         "Armed/Unarmed": "nan",
         "Alleged weapon": "nan",
         "Aggressive physical movement": "nan",
         "Fleeing/Not fleeing": "nan",
         "Description Temp": "nan",
         "URL Temp": "nan",
         "Brief description": "Two Detroit men killed when their car crashed were among at least eight people who died in New Year…",
         "Dispositions/Exclusions INTERNAL USE, NOT FOR ANALYSIS": "Unreported",
         "Intended use of force (Developing)": "Pursuit",
         "Supporting document link": "https://drive.google.com/file/d/1-nK-RohgiM-tZ5QV0fKOefRUbwJDRD6i/view?usp=sharing",
         "Foreknowledge of mental illness? INTERNAL USE, NOT FOR ANALYSIS": "No",
         "Unnamed: 32": "nan",
         "Unnamed: 33": "nan",
         "Unique ID formula": "nan",
         "Unique identifier (redundant)": 25748,
         "Unnamed: 36": "nan",
         "Unnamed: 37": "nan",
         "Unnamed: 38": "nan",
         "Unnamed: 39": "nan",
         "Unnamed: 40": "nan",
         "Unnamed: 41": "nan",
         "Unnamed: 42": "nan",
         "Unnamed: 43": "nan",
         "Unnamed: 44": "nan",
         "Unnamed: 45": "nan",
         "Unnamed: 46": "nan",
         "Unnamed: 47": "nan",
         "_deepnote_index_column": 2
        },
        {
         "Unique ID": 25749,
         "Name": "Mark Ortiz",
         "Age": "23",
         "Gender": "Male",
         "Race": "Hispanic/Latino",
         "Race with imputations": "Hispanic/Latino",
         "Imputation probability": "Not imputed",
         "URL of image (PLS NO HOTLINKS)": "nan",
         "Date of injury resulting in death (month/day/year)": "2000-01-01T00:00:00.000000",
         "Location of injury (address)": "600 W Cherry Ln",
         "Location of death (city)": "Carlsbad",
         "State": "NM",
         "Location of death (zip code)": 88220,
         "Location of death (county)": "Eddy",
         "Full Address": "600 W Cherry Ln Carlsbad NM 88220 Eddy",
         "Latitude": "32.4500798",
         "Longitude": -104.2376427,
         "Agency or agencies involved": "Eddy County Sheriff's Office",
         "Highest level of force": "Vehicle",
         "UID Temporary": "nan",
         "Name Temporary": "nan",
         "Armed/Unarmed": "nan",
         "Alleged weapon": "nan",
         "Aggressive physical movement": "nan",
         "Fleeing/Not fleeing": "nan",
         "Description Temp": "nan",
         "URL Temp": "nan",
         "Brief description": "A motorcycle was allegedly being driven erratically when a deputy began to pursue. The motorcycle c…",
         "Dispositions/Exclusions INTERNAL USE, NOT FOR ANALYSIS": "Unreported",
         "Intended use of force (Developing)": "Pursuit",
         "Supporting document link": "https://drive.google.com/file/d/1qAEefRjX_aTtCIffqMJm18P4kf-BZn52/view?usp=sharing",
         "Foreknowledge of mental illness? INTERNAL USE, NOT FOR ANALYSIS": "No",
         "Unnamed: 32": "nan",
         "Unnamed: 33": "nan",
         "Unique ID formula": "nan",
         "Unique identifier (redundant)": 25749,
         "Unnamed: 36": "nan",
         "Unnamed: 37": "nan",
         "Unnamed: 38": "nan",
         "Unnamed: 39": "nan",
         "Unnamed: 40": "nan",
         "Unnamed: 41": "nan",
         "Unnamed: 42": "nan",
         "Unnamed: 43": "nan",
         "Unnamed: 44": "nan",
         "Unnamed: 45": "nan",
         "Unnamed: 46": "nan",
         "Unnamed: 47": "nan",
         "_deepnote_index_column": 3
        },
        {
         "Unique ID": 1,
         "Name": "LaTanya Janelle McCoy",
         "Age": "24",
         "Gender": "Female",
         "Race": "African-American/Black",
         "Race with imputations": "African-American/Black",
         "Imputation probability": "Not imputed",
         "URL of image (PLS NO HOTLINKS)": "nan",
         "Date of injury resulting in death (month/day/year)": "2000-01-02T00:00:00.000000",
         "Location of injury (address)": "5700 block Mack Road",
         "Location of death (city)": "Sacramento",
         "State": "CA",
         "Location of death (zip code)": 95823,
         "Location of death (county)": "Sacramento",
         "Full Address": "5700 block Mack Road Sacramento CA 95823 Sacramento",
         "Latitude": "38.4739487",
         "Longitude": -121.4337757,
         "Agency or agencies involved": "Sacramento Police Department",
         "Highest level of force": "Vehicle",
         "UID Temporary": "nan",
         "Name Temporary": "nan",
         "Armed/Unarmed": "nan",
         "Alleged weapon": "nan",
         "Aggressive physical movement": "nan",
         "Fleeing/Not fleeing": "nan",
         "Description Temp": "nan",
         "URL Temp": "nan",
         "Brief description": "LaTanya Janelle McCoy's car was struck from behind by a car fleeing police. She died in her car, wh…",
         "Dispositions/Exclusions INTERNAL USE, NOT FOR ANALYSIS": "Unknown",
         "Intended use of force (Developing)": "Pursuit",
         "Supporting document link": "http://www.recordnet.com/article/20000110/A_NEWS/301109998",
         "Foreknowledge of mental illness? INTERNAL USE, NOT FOR ANALYSIS": "No",
         "Unnamed: 32": "nan",
         "Unnamed: 33": "nan",
         "Unique ID formula": "nan",
         "Unique identifier (redundant)": 1,
         "Unnamed: 36": "nan",
         "Unnamed: 37": "nan",
         "Unnamed: 38": "nan",
         "Unnamed: 39": "nan",
         "Unnamed: 40": "nan",
         "Unnamed: 41": "nan",
         "Unnamed: 42": "nan",
         "Unnamed: 43": "nan",
         "Unnamed: 44": "nan",
         "Unnamed: 45": "nan",
         "Unnamed: 46": "nan",
         "Unnamed: 47": "nan",
         "_deepnote_index_column": 4
        }
       ],
       "rows_bottom": null
      },
      "text/plain": "   Unique ID                   Name Age  Gender                     Race  \\\n0    25746.0        Samuel H. Knapp  17    Male  European-American/White   \n1    25747.0         Mark A. Horton  21    Male   African-American/Black   \n2    25748.0  Phillip A. Blurbridge  19    Male   African-American/Black   \n3    25749.0             Mark Ortiz  23    Male          Hispanic/Latino   \n4        1.0  LaTanya Janelle McCoy  24  Female   African-American/Black   \n\n     Race with imputations Imputation probability  \\\n0  European-American/White            Not imputed   \n1   African-American/Black            Not imputed   \n2   African-American/Black            Not imputed   \n3          Hispanic/Latino            Not imputed   \n4   African-American/Black            Not imputed   \n\n  URL of image (PLS NO HOTLINKS)  \\\n0                            NaN   \n1                            NaN   \n2                            NaN   \n3                            NaN   \n4                            NaN   \n\n  Date of injury resulting in death (month/day/year)  \\\n0                                         2000-01-01   \n1                                         2000-01-01   \n2                                         2000-01-01   \n3                                         2000-01-01   \n4                                         2000-01-02   \n\n  Location of injury (address)  ... Unnamed: 38 Unnamed: 39  Unnamed: 40  \\\n0           27898-27804 US-101  ...         NaN         NaN          NaN   \n1              Davison Freeway  ...         NaN         NaN          NaN   \n2              Davison Freeway  ...         NaN         NaN          NaN   \n3              600 W Cherry Ln  ...         NaN         NaN          NaN   \n4         5700 block Mack Road  ...         NaN         NaN          NaN   \n\n  Unnamed: 41 Unnamed: 42 Unnamed: 43  Unnamed: 44 Unnamed: 45 Unnamed: 46  \\\n0         NaN         NaN         NaN          NaN         NaN         NaN   \n1         NaN         NaN         NaN          NaN         NaN         NaN   \n2         NaN         NaN         NaN          NaN         NaN         NaN   \n3         NaN         NaN         NaN          NaN         NaN         NaN   \n4         NaN         NaN         NaN          NaN         NaN         NaN   \n\n   Unnamed: 47  \n0          NaN  \n1          NaN  \n2          NaN  \n3          NaN  \n4          NaN  \n\n[5 rows x 48 columns]",
      "text/html": "<div>\n<style scoped>\n    .dataframe tbody tr th:only-of-type {\n        vertical-align: middle;\n    }\n\n    .dataframe tbody tr th {\n        vertical-align: top;\n    }\n\n    .dataframe thead th {\n        text-align: right;\n    }\n</style>\n<table border=\"1\" class=\"dataframe\">\n  <thead>\n    <tr style=\"text-align: right;\">\n      <th></th>\n      <th>Unique ID</th>\n      <th>Name</th>\n      <th>Age</th>\n      <th>Gender</th>\n      <th>Race</th>\n      <th>Race with imputations</th>\n      <th>Imputation probability</th>\n      <th>URL of image (PLS NO HOTLINKS)</th>\n      <th>Date of injury resulting in death (month/day/year)</th>\n      <th>Location of injury (address)</th>\n      <th>...</th>\n      <th>Unnamed: 38</th>\n      <th>Unnamed: 39</th>\n      <th>Unnamed: 40</th>\n      <th>Unnamed: 41</th>\n      <th>Unnamed: 42</th>\n      <th>Unnamed: 43</th>\n      <th>Unnamed: 44</th>\n      <th>Unnamed: 45</th>\n      <th>Unnamed: 46</th>\n      <th>Unnamed: 47</th>\n    </tr>\n  </thead>\n  <tbody>\n    <tr>\n      <th>0</th>\n      <td>25746.0</td>\n      <td>Samuel H. Knapp</td>\n      <td>17</td>\n      <td>Male</td>\n      <td>European-American/White</td>\n      <td>European-American/White</td>\n      <td>Not imputed</td>\n      <td>NaN</td>\n      <td>2000-01-01</td>\n      <td>27898-27804 US-101</td>\n      <td>...</td>\n      <td>NaN</td>\n      <td>NaN</td>\n      <td>NaN</td>\n      <td>NaN</td>\n      <td>NaN</td>\n      <td>NaN</td>\n      <td>NaN</td>\n      <td>NaN</td>\n      <td>NaN</td>\n      <td>NaN</td>\n    </tr>\n    <tr>\n      <th>1</th>\n      <td>25747.0</td>\n      <td>Mark A. Horton</td>\n      <td>21</td>\n      <td>Male</td>\n      <td>African-American/Black</td>\n      <td>African-American/Black</td>\n      <td>Not imputed</td>\n      <td>NaN</td>\n      <td>2000-01-01</td>\n      <td>Davison Freeway</td>\n      <td>...</td>\n      <td>NaN</td>\n      <td>NaN</td>\n      <td>NaN</td>\n      <td>NaN</td>\n      <td>NaN</td>\n      <td>NaN</td>\n      <td>NaN</td>\n      <td>NaN</td>\n      <td>NaN</td>\n      <td>NaN</td>\n    </tr>\n    <tr>\n      <th>2</th>\n      <td>25748.0</td>\n      <td>Phillip A. Blurbridge</td>\n      <td>19</td>\n      <td>Male</td>\n      <td>African-American/Black</td>\n      <td>African-American/Black</td>\n      <td>Not imputed</td>\n      <td>NaN</td>\n      <td>2000-01-01</td>\n      <td>Davison Freeway</td>\n      <td>...</td>\n      <td>NaN</td>\n      <td>NaN</td>\n      <td>NaN</td>\n      <td>NaN</td>\n      <td>NaN</td>\n      <td>NaN</td>\n      <td>NaN</td>\n      <td>NaN</td>\n      <td>NaN</td>\n      <td>NaN</td>\n    </tr>\n    <tr>\n      <th>3</th>\n      <td>25749.0</td>\n      <td>Mark Ortiz</td>\n      <td>23</td>\n      <td>Male</td>\n      <td>Hispanic/Latino</td>\n      <td>Hispanic/Latino</td>\n      <td>Not imputed</td>\n      <td>NaN</td>\n      <td>2000-01-01</td>\n      <td>600 W Cherry Ln</td>\n      <td>...</td>\n      <td>NaN</td>\n      <td>NaN</td>\n      <td>NaN</td>\n      <td>NaN</td>\n      <td>NaN</td>\n      <td>NaN</td>\n      <td>NaN</td>\n      <td>NaN</td>\n      <td>NaN</td>\n      <td>NaN</td>\n    </tr>\n    <tr>\n      <th>4</th>\n      <td>1.0</td>\n      <td>LaTanya Janelle McCoy</td>\n      <td>24</td>\n      <td>Female</td>\n      <td>African-American/Black</td>\n      <td>African-American/Black</td>\n      <td>Not imputed</td>\n      <td>NaN</td>\n      <td>2000-01-02</td>\n      <td>5700 block Mack Road</td>\n      <td>...</td>\n      <td>NaN</td>\n      <td>NaN</td>\n      <td>NaN</td>\n      <td>NaN</td>\n      <td>NaN</td>\n      <td>NaN</td>\n      <td>NaN</td>\n      <td>NaN</td>\n      <td>NaN</td>\n      <td>NaN</td>\n    </tr>\n  </tbody>\n</table>\n<p>5 rows × 48 columns</p>\n</div>"
     },
     "metadata": {}
    }
   ]
  },
  {
   "cell_type": "markdown",
   "source": "\n### Initial Data Summarization",
   "metadata": {
    "tags": [],
    "cell_id": "00005-ea5eacb0-381e-4567-b8bd-1753560cebb0",
    "deepnote_cell_type": "markdown"
   }
  },
  {
   "cell_type": "code",
   "metadata": {
    "deepnote_to_be_reexecuted": false,
    "execution_millis": 18,
    "execution_start": 1622247734738,
    "source_hash": "cbfec6c2",
    "tags": [],
    "cell_id": "00006-5d2f232c-210a-49b4-bc10-fe5180a4cbbf",
    "deepnote_cell_type": "code"
   },
   "source": "# rows and columns\ndf.shape",
   "execution_count": 3,
   "outputs": [
    {
     "output_type": "execute_result",
     "execution_count": 3,
     "data": {
      "text/plain": "(30244, 48)"
     },
     "metadata": {}
    }
   ]
  },
  {
   "cell_type": "code",
   "metadata": {
    "deepnote_to_be_reexecuted": false,
    "execution_millis": 41,
    "execution_start": 1622247734792,
    "source_hash": "5451bed5",
    "tags": [],
    "cell_id": "00007-018846a9-0d7c-4c47-b9b5-1d66dbbf5cf5",
    "deepnote_cell_type": "code"
   },
   "source": "# list of column names and data types with information\ndf.info()",
   "execution_count": 4,
   "outputs": [
    {
     "name": "stdout",
     "text": "<class 'pandas.core.frame.DataFrame'>\nRangeIndex: 30244 entries, 0 to 30243\nData columns (total 48 columns):\n #   Column                                                           Non-Null Count  Dtype         \n---  ------                                                           --------------  -----         \n 0   Unique ID                                                        30243 non-null  float64       \n 1   Name                                                             30244 non-null  object        \n 2   Age                                                              29121 non-null  object        \n 3   Gender                                                           30118 non-null  object        \n 4   Race                                                             30242 non-null  object        \n 5   Race with imputations                                            29718 non-null  object        \n 6   Imputation probability                                           29701 non-null  object        \n 7   URL of image (PLS NO HOTLINKS)                                   13993 non-null  object        \n 8   Date of injury resulting in death (month/day/year)               30244 non-null  datetime64[ns]\n 9   Location of injury (address)                                     29699 non-null  object        \n 10  Location of death (city)                                         30205 non-null  object        \n 11  State                                                            30243 non-null  object        \n 12  Location of death (zip code)                                     30060 non-null  float64       \n 13  Location of death (county)                                       30228 non-null  object        \n 14  Full Address                                                     30243 non-null  object        \n 15  Latitude                                                         30243 non-null  object        \n 16  Longitude                                                        30243 non-null  float64       \n 17  Agency or agencies involved                                      30168 non-null  object        \n 18  Highest level of force                                           30241 non-null  object        \n 19  UID Temporary                                                    2313 non-null   float64       \n 20  Name Temporary                                                   2313 non-null   object        \n 21  Armed/Unarmed                                                    13871 non-null  object        \n 22  Alleged weapon                                                   13869 non-null  object        \n 23  Aggressive physical movement                                     13872 non-null  object        \n 24  Fleeing/Not fleeing                                              13872 non-null  object        \n 25  Description Temp                                                 848 non-null    object        \n 26  URL Temp                                                         4 non-null      object        \n 27  Brief description                                                30243 non-null  object        \n 28  Dispositions/Exclusions INTERNAL USE, NOT FOR ANALYSIS           30242 non-null  object        \n 29  Intended use of force (Developing)                               30242 non-null  object        \n 30  Supporting document link                                         17515 non-null  object        \n 31  Foreknowledge of mental illness? INTERNAL USE, NOT FOR ANALYSIS  30182 non-null  object        \n 32  Unnamed: 32                                                      0 non-null      float64       \n 33  Unnamed: 33                                                      1 non-null      float64       \n 34  Unique ID formula                                                2 non-null      float64       \n 35  Unique identifier (redundant)                                    30242 non-null  float64       \n 36  Unnamed: 36                                                      0 non-null      float64       \n 37  Unnamed: 37                                                      14 non-null     object        \n 38  Unnamed: 38                                                      14 non-null     float64       \n 39  Unnamed: 39                                                      14 non-null     object        \n 40  Unnamed: 40                                                      14 non-null     object        \n 41  Unnamed: 41                                                      14 non-null     object        \n 42  Unnamed: 42                                                      14 non-null     object        \n 43  Unnamed: 43                                                      14 non-null     object        \n 44  Unnamed: 44                                                      14 non-null     object        \n 45  Unnamed: 45                                                      14 non-null     object        \n 46  Unnamed: 46                                                      0 non-null      float64       \n 47  Unnamed: 47                                                      0 non-null      float64       \ndtypes: datetime64[ns](1), float64(12), object(35)\nmemory usage: 11.1+ MB\n",
     "output_type": "stream"
    }
   ]
  },
  {
   "cell_type": "code",
   "metadata": {
    "deepnote_to_be_reexecuted": false,
    "execution_millis": 70,
    "execution_start": 1622247734881,
    "source_hash": "f099b8f5",
    "tags": [],
    "cell_id": "00008-8f998e8d-ae4a-4ba5-8279-4865c7bfa027",
    "deepnote_cell_type": "code"
   },
   "source": "# check nulls\ndf.isnull().sum()",
   "execution_count": 5,
   "outputs": [
    {
     "output_type": "execute_result",
     "execution_count": 5,
     "data": {
      "text/plain": "Unique ID                                                              1\nName                                                                   0\nAge                                                                 1123\nGender                                                               126\nRace                                                                   2\nRace with imputations                                                526\nImputation probability                                               543\nURL of image (PLS NO HOTLINKS)                                     16251\nDate of injury resulting in death (month/day/year)                     0\nLocation of injury (address)                                         545\nLocation of death (city)                                              39\nState                                                                  1\nLocation of death (zip code)                                         184\nLocation of death (county)                                            16\nFull Address                                                           1\nLatitude                                                               1\nLongitude                                                              1\nAgency or agencies involved                                           76\nHighest level of force                                                 3\nUID Temporary                                                      27931\nName Temporary                                                     27931\nArmed/Unarmed                                                      16373\nAlleged weapon                                                     16375\nAggressive physical movement                                       16372\nFleeing/Not fleeing                                                16372\nDescription Temp                                                   29396\nURL Temp                                                           30240\nBrief description                                                      1\nDispositions/Exclusions INTERNAL USE, NOT FOR ANALYSIS                 2\nIntended use of force (Developing)                                     2\nSupporting document link                                           12729\nForeknowledge of mental illness? INTERNAL USE, NOT FOR ANALYSIS       62\nUnnamed: 32                                                        30244\nUnnamed: 33                                                        30243\nUnique ID formula                                                  30242\nUnique identifier (redundant)                                          2\nUnnamed: 36                                                        30244\nUnnamed: 37                                                        30230\nUnnamed: 38                                                        30230\nUnnamed: 39                                                        30230\nUnnamed: 40                                                        30230\nUnnamed: 41                                                        30230\nUnnamed: 42                                                        30230\nUnnamed: 43                                                        30230\nUnnamed: 44                                                        30230\nUnnamed: 45                                                        30230\nUnnamed: 46                                                        30244\nUnnamed: 47                                                        30244\ndtype: int64"
     },
     "metadata": {}
    }
   ]
  },
  {
   "cell_type": "code",
   "metadata": {
    "deepnote_to_be_reexecuted": false,
    "execution_millis": 224,
    "execution_start": 1622247734938,
    "source_hash": "593fb024",
    "tags": [],
    "cell_id": "00009-257db45d-1ca4-4fad-ba55-676b073d7f96",
    "deepnote_cell_type": "code"
   },
   "source": "# specify useless columns and what to exclude for counts\nuseless_columns = df.columns[32:]\nexclusions = ['url_of_image_pls_no_hotlinks', 'uid_temporary', 'name_temporary', 'description_temp', 'url_temp', \\\n        'supporting_document_link', 'dispositions_exclusions_internal_use,_not_for_analysis', 'foreknowledge_of_mental_illness?_internal_use,_not_for_analysis', \\\n        'race_with_imputations', 'name', 'imputation_probability', 'location_of_injury_address', 'location_of_death_city', 'state', 'location_of_death_county', \\\n        'full_address', 'latitude', 'longitude']\n\n# getting value counts for specific columns\nfor column in df.columns:\n    if column not in exclusions and column not in useless_columns:\n        print(column.upper())\n        print(df[column].value_counts())\n        print(\"-------------------------------------\")",
   "execution_count": 6,
   "outputs": [
    {
     "name": "stdout",
     "text": "UNIQUE ID\n17653.0    1\n25282.0    1\n6416.0     1\n20496.0    1\n22458.0    1\n          ..\n9841.0     1\n23585.0    1\n5000.0     1\n28998.0    1\n2150.0     1\nName: Unique ID, Length: 30243, dtype: int64\n-------------------------------------\nNAME\nName withheld by police     1269\nMichael Johnson                5\nJohn Doe 1                     5\nJohn Doe 2                     5\nMichael Brown                  4\n                            ... \nTareo Lasean Henry             1\nJohn Phillip Grant             1\nLamont Norman                  1\nSylvia Britt Mattox Hill       1\nChristopher Garcia             1\nName: Name, Length: 28733, dtype: int64\n-------------------------------------\nAGE\n22      912\n25      895\n24      862\n21      848\n27      848\n       ... \n.08       1\n91        1\n89        1\n88        1\n0.25      1\nName: Age, Length: 195, dtype: int64\n-------------------------------------\nGENDER\nMale           27200\nFemale          2898\nTransgender       20\nName: Gender, dtype: int64\n-------------------------------------\nRACE\nEuropean-American/White    10148\nRace unspecified            8500\nAfrican-American/Black      6732\nHispanic/Latino             4030\nAsian/Pacific Islander       468\nNative American/Alaskan      313\nMiddle Eastern                50\neuropean-American/White        1\nName: Race, dtype: int64\n-------------------------------------\nRACE WITH IMPUTATIONS\nEuropean-American/White    14258\nAfrican-American/Black      8281\nHispanic/Latino             4960\nRace unspecified            1292\nAsian/Pacific Islander       561\nNative American/Alaskan      313\nMiddle Eastern                50\nHIspanic/Latino                2\neuropean-American/White        1\nName: Race with imputations, dtype: int64\n-------------------------------------\nIMPUTATION PROBABILITY\nNot imputed            21661\nRace not determined     1276\nrace not determined       19\n1                         15\n0.931634986                4\n                       ...  \n0.810762976                1\n0.977359297                1\n0.517642682                1\n0.986468956                1\n0.941660115                1\nName: Imputation probability, Length: 6666, dtype: int64\n-------------------------------------\nURL OF IMAGE (PLS NO HOTLINKS)\nhttp://castle.eiu.edu/media/images/2009/anusha-priya-anitha.jpg                                             3\nhttps://www.fatalencounters.org/wp-content/uploads/2018/12/Kyleigh-Austin-and-Hunter-Radar-9-22-2007.jpg    3\nhttp://photos1.blogger.com/blogger/282/183/1600/CA%20Chase14_Paige10_and_Rayne8_McGowan_killed.jpg          3\nhttp://pursuitsafety.org/images/4_killed_philly.jpg                                                         3\nhttp://cbsdallas.files.wordpress.com/2014/02/vanessa-and-nick-pitofsky.jpg?w=620&h=349&crop=1               2\n                                                                                                           ..\nhttps://www.fatalencounters.org/wp-content/uploads/2018/12/10-11-2013-Sheldon-Norman.jpg                    1\nhttps://www.fatalencounters.org/wp-content/uploads/2018/12/10-20-2013-Ian-Burlakoff.jpg                     1\nhttps://fatalencounters.org/wp-content/uploads/2021/03/Timothy-Daniel-Statham.jpg                           1\nhttps://www.fatalencounters.org/wp-content/uploads/2018/04/Paulquintanar.jpg                                1\nhttps://fatalencounters.org/wp-content/uploads/2020/04/Alisha-Star-Lewis.png                                1\nName: URL of image (PLS NO HOTLINKS), Length: 13935, dtype: int64\n-------------------------------------\nDATE OF INJURY RESULTING IN DEATH (MONTH/DAY/YEAR)\n2003-02-19    23\n2021-03-18    15\n2020-09-18    15\n2020-05-03    15\n2020-05-05    15\n              ..\n2007-01-14     1\n2004-12-07     1\n2001-04-22     1\n2016-10-06     1\n2017-07-22     1\nName: Date of injury resulting in death (month/day/year), Length: 7524, dtype: int64\n-------------------------------------\nLOCATION OF INJURY (ADDRESS)\n2347 S. Michigan Ave.         21\nI-80                          20\nI-70                          17\nI-10                          16\nI-95                          15\n                              ..\n905 E Lane St                  1\nThe Paseo & E Gregory Blvd     1\n8310 14th Avenue.              1\nS 4120 Rd & E 480 Rd           1\n400 W 111th St                 1\nName: Location of injury (address), Length: 27736, dtype: int64\n-------------------------------------\nLOCATION OF DEATH (CITY)\nHouston            472\nChicago            463\nLos Angeles        417\nPhoenix            269\nSan Antonio        250\n                  ... \nRaywick              1\nMorris Township      1\nBlowing Rock         1\nEast Meadow          1\nSac City             1\nName: Location of death (city), Length: 6167, dtype: int64\n-------------------------------------\nSTATE\nCA    4831\nTX    2690\nFL    1834\nGA    1143\nIL    1091\nOH     989\nPA     956\nMO     912\nAZ     884\nMI     874\nOK     699\nNY     686\nAL     672\nWA     661\nCO     659\nTN     656\nNC     641\nLA     632\nVA     624\nSC     593\nIN     580\nMD     534\nNJ     526\nWI     455\nMS     423\nNM     418\nKS     410\nKY     409\nNV     400\nAR     372\nMN     346\nOR     343\nIA     280\nUT     252\nNE     204\nMA     202\nWV     183\nID     151\nCT     142\nAK     124\nHI     111\nMT     109\nME     102\nDC      87\nDE      62\nNH      62\nWY      61\nSD      59\nVT      40\nND      39\nRI      30\nName: State, dtype: int64\n-------------------------------------\nLOCATION OF DEATH (ZIP CODE)\n60620.0    34\n60628.0    33\n60616.0    32\n93307.0    28\n90221.0    25\n           ..\n30517.0     1\n75056.0     1\n67544.0     1\n61607.0     1\n93249.0     1\nName: Location of death (zip code), Length: 10809, dtype: int64\n-------------------------------------\nLOCATION OF DEATH (COUNTY)\nLos Angeles    1286\nCook            628\nHarris          588\nMaricopa        503\nOrange          458\n               ... \nSt Clair          1\nAlger             1\nHodgeman          1\nCottonwood        1\nBenzie            1\nName: Location of death (county), Length: 1511, dtype: int64\n-------------------------------------\nFULL ADDRESS\n2347 S. Michigan Ave. Chicago IL 60616 Cook                       21\n4800 W Expy 83 Palmview TX 78572 Hidalgo                           9\n11980 Avenue 424 Orosi CA 93647 Tulare                             8\nUS Hwy 277 Del Rio TX 78840 Val Verde                              8\n701 W Paisano Dr El Paso TX 79901 El Paso                          7\n                                                                  ..\nCo Rd 219 and FL-44 Wildwood FL 34785 Sumter                       1\n1625 Piedmont Hwy Piedmont SC 29673 Greenville                     1\nGA-91 Newton GA 39870 Baker                                        1\nBay 32nd Street and Beach Channel Drive Queens NY 11691 Queens     1\nNikolaevsk Road Nikolaevsk AK 99556 Kenai Peninsula                1\nName: Full Address, Length: 28509, dtype: int64\n-------------------------------------\nLATITUDE\n41.8496116    21\n26.2351813     9\n31.4992001     9\n36.559671      8\n29.850105      8\n              ..\n35.0568181     1\n29.885389      1\n42.714288      1\n38.1769195     1\n29.8659095     1\nName: Latitude, Length: 28389, dtype: int64\n-------------------------------------\nLONGITUDE\n-87.623715     21\n-98.382482      9\n-119.305304     8\n-100.800098     8\n-97.831488      7\n               ..\n-122.674217     1\n-95.103523      1\n-81.241666      1\n-115.150860     1\n-88.106739      1\nName: Longitude, Length: 28334, dtype: int64\n-------------------------------------\nAGENCY OR AGENCIES INVOLVED\nLos Angeles Police Department                                                                                                                                                                                                                                                 480\nChicago Police Department                                                                                                                                                                                                                                                     436\nLos Angeles County Sheriff's Department                                                                                                                                                                                                                                       369\nCity of New York Police Department                                                                                                                                                                                                                                            336\nHouston Police Department                                                                                                                                                                                                                                                     325\n                                                                                                                                                                                                                                                                             ... \nOhio State Highway Patrol, Warren County Sheriff's Office                                                                                                                                                                                                                       1\nJesup Police Department                                                                                                                                                                                                                                                         1\nLancaster Police Department, New Holland Police Department, Ephrata Police Department, East Cocalico Township Police Department, East Earl Township Police Department, West Earl Township Police Department, Warwick Township Police Department, Pennsylvania State Police      1\nLuce County Sheriff's Office                                                                                                                                                                                                                                                    1\nHudson Falls Police Department, Washington County Sheriff's Office, New York State Police                                                                                                                                                                                       1\nName: Agency or agencies involved, Length: 6596, dtype: int64\n-------------------------------------\nHIGHEST LEVEL OF FORCE\nGunshot                              21359\nVehicle                               6326\nTasered                                920\nMedical emergency                      387\nAsphyxiated/Restrained                 322\nDrowned                                197\nDrug overdose                          183\nBeaten/Bludgeoned with instrument      178\nUndetermined                           101\nFell from a height                      79\nOther                                   61\nStabbed                                 51\nBurned/Smoke inhalation                 41\nChemical agent/Pepper spray             35\nRestrain/Asphyxiation                    1\nName: Highest level of force, dtype: int64\n-------------------------------------\nUID TEMPORARY\n12439.0    1\n12544.0    1\n29057.0    1\n12851.0    1\n12975.0    1\n          ..\n28790.0    1\n12755.0    1\n28996.0    1\n12222.0    1\n28726.0    1\nName: UID Temporary, Length: 2313, dtype: int64\n-------------------------------------\nNAME TEMPORARY\nName withheld by police       123\nJohn Doe 1                      3\nJohn Doe 3                      3\nJohn Doe 4                      3\nJohn Doe 5                      3\n                             ... \nMike Luke White                 1\nNicholas Morales-Bessannia      1\nAndrew Derek Layton             1\nWilliam Wallace                 1\nHoward J. Tungseth              1\nName: Name Temporary, Length: 2180, dtype: int64\n-------------------------------------\nARMED/UNARMED\nArmed                  8596\nUnarmed                4951\nUncertain               310\nNone                      5\nUnarmed                   3\nGunshot                   1\nDuplicate of 13457?       1\nDuplicate of 13419?       1\n                          1\nDuplicate of 12398        1\nDuplicate of 12360        1\nName: Armed/Unarmed, dtype: int64\n-------------------------------------\nALLEGED WEAPON\nNone                          4955\nFirearm/Handgun               2886\nFirearm/Gun                   2410\nEdged weapon/Knife            1178\nFirearm/Rifle                  546\n                              ... \nBlunt object/Metal stake         1\nOther/Wasp spray                 1\nOther/Wallet                     1\nBlunt object/Phone handset       1\nOther/Hand grenade               1\nName: Alleged weapon, Length: 215, dtype: int64\n-------------------------------------\nAGGRESSIVE PHYSICAL MOVEMENT\nNone                                          3672\nBrandished weapon                             2855\nUsed weapon                                   2170\nSelf-inflicted injury                         1684\nAdvanced toward officer(s)                    1086\nStruggled                                      873\nUncertain                                      643\nSudden threatening movement                    326\nNone/Police alleged vehicular assault          309\nReached to waist                               140\nIntentional vehicular assault                   54\nAdvanced upon officer(s)                        15\nNone/Police alleged vehicular assault.          15\nSelf-inflicted Injury                            7\nUncertain/Police alleged vehicular assault       5\nUsed Weapon                                      4\nNone. Police alleged vehicular assault.          2\nDuplicate of 12398                               1\nReached to waist                                 1\nDuplicate of 12360                               1\nPolice allege vehicular assault                  1\nSudden Threatening Movement                      1\nDuplicate of 13457?                              1\nNone/Police allege vehicular assault             1\nNone.                                            1\nEdged weapon/Unspecified                         1\n                                                 1\nDuplicate of 13419?                              1\n Advanced toward officer(s)                      1\nName: Aggressive physical movement, dtype: int64\n-------------------------------------\nFLEEING/NOT FLEEING\nNot fleeing                                   8813\nFleeing/Vehicle                               3071\nFleeing/Foot                                  1543\nFleeing/Motorcycle                             266\nUncertain                                      137\nFleeing/Bicycle                                 16\nVehicle                                          7\nNot Fleeing                                      2\nNone                                             2\nVehicle/Fleeing                                  2\nUncertain/Police alleged vehicular assault       1\nFleeing/Veh                                      1\nDuplicate of 12398                               1\nFleeing/vehicle                                  1\nFleeling/Vehicle                                 1\n                                                 1\nVehicle/Motorcycle                               1\nFleeing/Skateboard                               1\nFoot                                             1\nDuplicate of 13419?                              1\nMotorcycle                                       1\nDuplicate of 13457?                              1\nDuplicate of 12360                               1\nName: Fleeing/Not fleeing, dtype: int64\n-------------------------------------\nDESCRIPTION TEMP\nA man in a stolen truck chased at a very high rate of speed by a Texas Highway Patrol sergeant smashed into a Chevy Suburban and killed six family members. Dead: father Jose Luis Ortiz, mother Olga Lidia Morales-Cardoza, and children Elias Ortiz, Fernanda Ortiz, Ricardo Ortiz and Jose Ortiz, ranging in age from 1 to 6. One 3-year-old survived with injuries.                                                                                   6\nBryan E. Sweatt, 27, shot and killed Chandra Fields, 26, Richard Allan Fields, 51, Melissa Maroney Fields, 49, Tariq Kenyon Robinson, 11, and William Asa Robinson, 9, during a standoff with deputies from the Greenwood County Sheriff's Office. It's possible one of these deaths occurred before deputies arrived.                                                                                                                                    6\nArmando Ivan Palomares-Castro, 36, was allegedly fleeing a police stop for border smuggling, killing five unidentified and undocumented immigrants upon crashing.                                                                                                                                                                                                                                                                                         5\nManuel Rendon-Lucas, 17, was allegedly fleeing a police stop for speeding, killing five unidentified people upon crashing.                                                                                                                                                                                                                                                                                                                                4\nFour people in two vehicles died in the collision of a grey Chevrolet Monte Carlo, driven by Stacy Garcia Gray, and a red sedan being chased by police, containing Shawnice Osborne, Larry Gilmore, and an unidentified third person. For two miles the sedan had fled officers after a shots-fired call and an attempted traffic stop. The crash and resulting fire was so intense that the make and model of the sedan was unclear.                     4\n                                                                                                                                                                                                                                                                                                                                                                                                                                                         ..\nAfter shooting his girlfriend in the mouth, Herring fled the scene and was later found by five plainclothes officers. Dixon was shot multiple times and pronounced dead on the scene. The five officers were cleared of any wrongdoing by a Franklin County grand jury in April 2014.                                                                                                                                                                     1\nSecurity guards were attempted  to  stop Russell Rios outside a Walmart on suspicion of shoplifting when the teen fled into the woods. An armed off-duty police officer attempted to physically apprehend Rios, but during the struggle his gun went off accidentally, shooting Rios in the back of the head and killing him. The off-duty officer was convicted of manslaughter and given five years probation.                                          1\nOfficers initiated an investigation involving a stolen motorcycle parked in the parking lot of an Extended Stay Hotel.During the investigation, officers came into contact with Massey in one of the hotel rooms. A physical altercation began between Massey and officers, and Massey produced a handgun. An officer fired his weapon, killing Massey.                                                                                                   1\nPolice were chasing a car that had been identified as stolen from Union City, police said. The chase entered I-85 and the stolen car eventually went off the road near Bohannon Road. According to Georgia State Patrol, the person driving the 1996 BMW lost control, and the car struck a culvert, rolling the car several times and ejecting both people inside before hitting a tree. Cheyenne Pierce, 17, was thrown from the vehicle and killed.    1\nOfficers responded to calls of a person with a knife, finding the suspect running along Robbins and Castor Avenues. One officer used his vehicle to knock the suspect to the ground, then ordered him to drop the knife. The suspect advanced toward the officers, leading them to fire at the suspect. He was later pronounced dead at a local hospital. A Use of Force board for the shooting was scheduled for July 2014.                              1\nName: Description Temp, Length: 782, dtype: int64\n-------------------------------------\nURL TEMP\nhttp://www.lapdonline.org/newsroom/news_view/54498                                                1\nhttps://drive.google.com/file/d/17NBpDGXWoPW1zURFq9geWwQquVs2U-VK/view?usp=sharing                1\nhttp://www.chron.com/news/article/SWAT-team-fatally-shoots-suspect-during-scene-at-4841867.php    1\nhttps://www.abqjournal.com/808551/da-clears-officers-in-2013-shooting.html                        1\nName: URL Temp, dtype: int64\n-------------------------------------\nBRIEF DESCRIPTION\nOn February 19, 2003, 21 people were killed and more than 50 people were injured during a stampede at the E2 nightclub after off-duty auxiliary officer Samuel Bone, who was working as private security that night. sprayed mace to break up a fight. The doors to the club were locked as people pushed their way to the exits. Berwyn auxiliary police officer reportedly worked security there regularly, but claimed he had just come to sell a flashlight to another guard when he got caught up in the stampede. A lawsuit alleged that Pellot ran an unlicensed company, Team 1 Security, that was on duty at the club. Chicago PD also opened an internal investigation into whether their officer, Donald D. Crayton, was on the club's security staff, which would violating a policy that officers were not allowed to moonlight at establishments that sell alcohol.    21\nMotorcycle club members, mostly Cossacks and Bandidos who were armed with pistols, bludgeons and knives, attacked each other at a biker rally that was being monitored by police. Officers Andy O'Neal, Michael Bucher and Heath Jackson fired 12 rifle rounds into the crowd, striking four of the nine men who died. Two of the dead were struck only by .223-caliber rifle bullets. Waco Police Department and the Texas Ranger Division investigated.                                                                                                                                                                                                                                                                                                                                                                                                                             9\nBorder Patrol agents stopped a minivan on U.S. 83. A man stepped out of the vehicle and ran. Smuggler Junior Benjamin Rodriguez, 15, sped away and crashed in Palmview. Three women and six men died. One woman may have been pregnant. Seven more were injured. Rodriguez was convicted of nine counts of manslaughter. The dead are not named in English-language media.                                                                                                                                                                                                                                                                                                                                                                                                                                                                                                            9\nA car stolen at knifepoint and doing 80 MPH on a rural road, chased by local police, crashed full-speed into a family's pickup. Three teens in the car (Oscar Esparza, Arthur Rivas, Richard Carrasco) and five Salazar children in the truck (Eric, Jochelyn Grace, Monique Janae, Michael Alexander, and Sienna Rose Salazar), all eight died.                                                                                                                                                                                                                                                                                                                                                                                                                                                                                                                                      8\nDPS troopers were pursuing a red Dodge pickup truck, and it crashed head-on into a white Ford F-150. Eight undocumented passengers--seven men and one woman--from the Dodge pickup were killed. The driver and a child passenger from the Ford pickup and one undocumented passenger from the Dodge pickup were transported to a hospital in San Antonio. The alleged driver of the red pickup truck tried to leave but was apprehended. Sebastian Tovar, 24, of Austin, was charged with \"transporting illegal aliens resulting in death.\"                                                                                                                                                                                                                                                                                                                                           8\n                                                                                                                                                                                                                                                                                                                                                                                                                                                                                                                                                                                                                                                                                                                                                                                                                                                                                     ..\nAfter finding a suspicious vehicle, officers discovered the vehicle was reported stolen from Akron, Ohio. Upon contact by officers, the driver, Damon Christopher Gayheart, became uncooperative, so the trooper attempted to remove the person from the vehicle. The man began to flee, and the trooper allegedly was dragged by the vehicle. The deputies and trooper pursued the stolen vehicle for several miles southbound on Greenville Road. While in pursuit, the vehicle caught fire and became fully engulfed. At the end of the pursuit, Gayheart was fatally shot by the trooper for reasons that continue to be withheld by police.                                                                                                                                                                                                                                      1\nAt 12:53 a.m., an officer saw a black 2000 Lexus GS300 commit a traffic infraction. The officer attempted to stop the vehicle, which took off at a high rate of speed. The officer pursued with his emergency lights on in an effort to get the driver to stop, police said. The driver lost control of the vehicle, and left the road, striking a telephone pole and then a concrete porch of an unoccupied house. The driver was killed.                                                                                                                                                                                                                                                                                                                                                                                                                                            1\nAlleged killer Stephen Hill died after a standoff when officers used what they said was a Taser (according to others, and/or perhaps bean-bag projectile) against him and he stumbled back and took a fatal fall off a cliff in West Hills. Hill was holding a Samurai-style sword at the edge of the cliff and threatening to kill himself.                                                                                                                                                                                                                                                                                                                                                                                                                                                                                                                                          1\nA man allegedly was attempting to make a fraudulent transaction at a TD Bank branch. As officers arrived, the man attempted to flee in his dark gray Chevy Blazer and reportedly hit several police vehicles as they attempted to stop his vehicle. Officers shot and killed him.                                                                                                                                                                                                                                                                                                                                                                                                                                                                                                                                                                                                     1\nReid was exiting car with hands raised when he was shot by Officer Braheme Days - caught on dash cam video.                                                                                                                                                                                                                                                                                                                                                                                                                                                                                                                                                                                                                                                                                                                                                                           1\nName: Brief description, Length: 28689, dtype: int64\n-------------------------------------\nDISPOSITIONS/EXCLUSIONS INTERNAL USE, NOT FOR ANALYSIS\nUnreported                                                        10389\nPending investigation                                              6996\nJustified                                                          3988\nSuicide                                                            2768\nCriminal                                                           1409\n                                                                  ...  \nJustified by District Attorney/Civil Suit/Family awarded money        1\nJustified by State's Attorney/Civil suit/Pending                      1\n/Off-duty/Officer indicted/Pending                                    1\nAdministrative discipline/Officer indicted/Pending                    1\nJustified by State’s Attorney                                         1\nName: Dispositions/Exclusions INTERNAL USE, NOT FOR ANALYSIS, Length: 139, dtype: int64\n-------------------------------------\nINTENDED USE OF FORCE (DEVELOPING)\nDeadly force              18173\nVehic/Purs                 3783\nSuicide                    3184\nPursuit                    2135\nLess-than-lethal force     1710\nNo                          857\nVehicle                     352\nUndetermined                 48\nName: Intended use of force (Developing), dtype: int64\n-------------------------------------\nSUPPORTING DOCUMENT LINK\nhttp://www.usatoday.com/pages/interactives/blacks-killed-police-chases-higher-rate/                                                          75\nhttp://www.sltrib.com/news/1938044-155/shootings-by-police-vastly-underreported-in                                                           61\nhttp://www.cleveland.com/court-justice/index.ssf/2014/05/cleveland_police_officers_kill.html                                                 31\nhttps://docs.google.com/document/d/1qabqMPPdvI4_PoDeuJgzTlzg7yKGQfMQSTC3r3bh18Y/edit?usp=sharing                                             21\nhttp://www.mydaytondailynews.com/data/news/police-shootings/                                                                                 20\n                                                                                                                                             ..\nhttp://articles.sun-sentinel.com/2013-03-11/news/fl-pembroke-pines-cop-exonerated-in-20130311_1_jackline-fromin-michael-savino-grand-jury     1\nhttps://www.abqjournal.com/468153/state-police-investigator-casaus-was-accelerating-through-intersection-during-fatal-crash.html              1\nhttp://www.sfgate.com/crime/article/Motorcyclist-dies-fleeing-from-CHP-in-San-Jose-3297058.php                                                1\nhttps://drive.google.com/file/d/1L_W0YVgLaycaIzNAWixB84aPiSxRqd1R/view?usp=sharing                                                            1\nhttps://docs.google.com/document/d/1oJWwaVpPnLA3u7yq6HlQ-Louqs98B5qmzEREVccXv6U/edit?usp=sharing                                              1\nName: Supporting document link, Length: 16135, dtype: int64\n-------------------------------------\nFOREKNOWLEDGE OF MENTAL ILLNESS? INTERNAL USE, NOT FOR ANALYSIS\nNo                     20468\nUnknown                 4833\nYes                     3347\nDrug or alcohol use     1534\nName: Foreknowledge of mental illness? INTERNAL USE, NOT FOR ANALYSIS, dtype: int64\n-------------------------------------\n",
     "output_type": "stream"
    }
   ]
  },
  {
   "cell_type": "code",
   "metadata": {
    "deepnote_to_be_reexecuted": false,
    "execution_millis": 0,
    "execution_start": 1622247735206,
    "source_hash": "10cf5780",
    "tags": [],
    "cell_id": "00010-ea33bcf8-01ec-41a2-9578-c4e0a7aba1b8",
    "deepnote_cell_type": "code"
   },
   "source": "\n# univariate distributions\n#for column in df.columns:\n#    if column not in exclusions and column not in useless_columns:\n#        sns.countplot(x=df[column], data=df, palette = 'ocean_r')\n#        print(\"------------------------------------------------------\")\n#        print(\"------------------------------------------------------\")\n#        plt.xticks(rotation=65)\n#        plt.show()\n",
   "execution_count": 7,
   "outputs": []
  },
  {
   "cell_type": "markdown",
   "source": "### Takeaways\n- There are a couple of unnecessary columns (begin with `Unnamed:`).\n- Messy column names need to be renamed for better readability.\n- A lot of columns are not needed due to nulls/unusable and will need to be dropped. \n- Most values in each column have a wide variety of text variation. These should be lowercased, stripped, and grouped. \n- Many nulls in dataset that need to be filled in or dropped.\n- Dummy variables and encoding needs to be done to pretty much all of the dataset in order to model/evaluate. \n- Possibly a good idea to create age bins.\n- Possible exploration with time series. Set `Date of Incident` as datetime index?\n",
   "metadata": {
    "tags": [],
    "cell_id": "00011-2327c1b1-b2e3-4fd2-944b-3bbbdccd33a3",
    "deepnote_cell_type": "markdown"
   }
  },
  {
   "cell_type": "markdown",
   "source": "\n___\n# Prepare and Split Data",
   "metadata": {
    "cell_id": "00012-2eca56dc-39c8-4190-86db-bf486d4e34d4",
    "deepnote_cell_type": "markdown"
   }
  },
  {
   "cell_type": "code",
   "metadata": {
    "deepnote_to_be_reexecuted": false,
    "execution_millis": 210,
    "execution_start": 1622247735207,
    "source_hash": "2455ae76",
    "tags": [],
    "cell_id": "00013-43b949b3-c6c4-4c17-bb0e-fcde2e6194fb",
    "deepnote_cell_type": "code"
   },
   "source": "#grab cleaned data frame from wrangle.py\ndf = w.wrangle_new_data(cached=True).drop(columns='Unnamed: 0')\ndf.head()",
   "execution_count": 8,
   "outputs": [
    {
     "output_type": "execute_result",
     "execution_count": 8,
     "data": {
      "application/vnd.deepnote.dataframe.v2+json": {
       "row_count": 5,
       "column_count": 37,
       "columns": [
        {
         "name": "unique_id",
         "dtype": "float64",
         "stats": {
          "unique_count": 4,
          "nan_count": 1,
          "min": "12167.0",
          "max": "14050.0",
          "histogram": [
           {
            "bin_start": 12167,
            "bin_end": 12355.3,
            "count": 3
           },
           {
            "bin_start": 12355.3,
            "bin_end": 12543.6,
            "count": 0
           },
           {
            "bin_start": 12543.6,
            "bin_end": 12731.9,
            "count": 0
           },
           {
            "bin_start": 12731.9,
            "bin_end": 12920.2,
            "count": 0
           },
           {
            "bin_start": 12920.2,
            "bin_end": 13108.5,
            "count": 0
           },
           {
            "bin_start": 13108.5,
            "bin_end": 13296.8,
            "count": 0
           },
           {
            "bin_start": 13296.8,
            "bin_end": 13485.1,
            "count": 0
           },
           {
            "bin_start": 13485.1,
            "bin_end": 13673.4,
            "count": 0
           },
           {
            "bin_start": 13673.4,
            "bin_end": 13861.7,
            "count": 0
           },
           {
            "bin_start": 13861.7,
            "bin_end": 14050,
            "count": 1
           }
          ]
         }
        },
        {
         "name": "age",
         "dtype": "float64",
         "stats": {
          "unique_count": 4,
          "nan_count": 1,
          "min": "12.0",
          "max": "26.0",
          "histogram": [
           {
            "bin_start": 12,
            "bin_end": 13.4,
            "count": 1
           },
           {
            "bin_start": 13.4,
            "bin_end": 14.8,
            "count": 0
           },
           {
            "bin_start": 14.8,
            "bin_end": 16.2,
            "count": 0
           },
           {
            "bin_start": 16.2,
            "bin_end": 17.6,
            "count": 0
           },
           {
            "bin_start": 17.6,
            "bin_end": 19,
            "count": 0
           },
           {
            "bin_start": 19,
            "bin_end": 20.4,
            "count": 1
           },
           {
            "bin_start": 20.4,
            "bin_end": 21.799999999999997,
            "count": 1
           },
           {
            "bin_start": 21.799999999999997,
            "bin_end": 23.2,
            "count": 0
           },
           {
            "bin_start": 23.2,
            "bin_end": 24.6,
            "count": 0
           },
           {
            "bin_start": 24.6,
            "bin_end": 26,
            "count": 1
           }
          ]
         }
        },
        {
         "name": "gender",
         "dtype": "object",
         "stats": {
          "unique_count": 2,
          "nan_count": 1,
          "categories": [
           {
            "name": "male",
            "count": 3
           },
           {
            "name": "female",
            "count": 1
           },
           {
            "name": "Missing",
            "count": 1
           }
          ]
         }
        },
        {
         "name": "race",
         "dtype": "object",
         "stats": {
          "unique_count": 3,
          "nan_count": 1,
          "categories": [
           {
            "name": "white",
            "count": 2
           },
           {
            "name": "2 others",
            "count": 2
           },
           {
            "name": "Missing",
            "count": 1
           }
          ]
         }
        },
        {
         "name": "date_of_injury_resulting_in_death_month_day_year",
         "dtype": "object",
         "stats": {
          "unique_count": 2,
          "nan_count": 1,
          "categories": [
           {
            "name": "2013-01-01",
            "count": 3
           },
           {
            "name": "2007-02-07",
            "count": 1
           },
           {
            "name": "Missing",
            "count": 1
           }
          ]
         }
        },
        {
         "name": "location_of_death_zip_code",
         "dtype": "float64",
         "stats": {
          "unique_count": 4,
          "nan_count": 1,
          "min": "54838.0",
          "max": "78375.0",
          "histogram": [
           {
            "bin_start": 54838,
            "bin_end": 57191.7,
            "count": 2
           },
           {
            "bin_start": 57191.7,
            "bin_end": 59545.4,
            "count": 0
           },
           {
            "bin_start": 59545.4,
            "bin_end": 61899.1,
            "count": 0
           },
           {
            "bin_start": 61899.1,
            "bin_end": 64252.8,
            "count": 0
           },
           {
            "bin_start": 64252.8,
            "bin_end": 66606.5,
            "count": 0
           },
           {
            "bin_start": 66606.5,
            "bin_end": 68960.2,
            "count": 1
           },
           {
            "bin_start": 68960.2,
            "bin_end": 71313.9,
            "count": 0
           },
           {
            "bin_start": 71313.9,
            "bin_end": 73667.6,
            "count": 0
           },
           {
            "bin_start": 73667.6,
            "bin_end": 76021.3,
            "count": 0
           },
           {
            "bin_start": 76021.3,
            "bin_end": 78375,
            "count": 1
           }
          ]
         }
        },
        {
         "name": "agency_or_agencies_involved",
         "dtype": "object",
         "stats": {
          "unique_count": 4,
          "nan_count": 1,
          "categories": [
           {
            "name": "omaha police department",
            "count": 1
           },
           {
            "name": "3 others",
            "count": 3
           },
           {
            "name": "Missing",
            "count": 1
           }
          ]
         }
        },
        {
         "name": "highest_level_of_force",
         "dtype": "object",
         "stats": {
          "unique_count": 3,
          "nan_count": 1,
          "categories": [
           {
            "name": "gunshot",
            "count": 2
           },
           {
            "name": "2 others",
            "count": 2
           },
           {
            "name": "Missing",
            "count": 1
           }
          ]
         }
        },
        {
         "name": "armed_unarmed",
         "dtype": "object",
         "stats": {
          "unique_count": 2,
          "nan_count": 1,
          "categories": [
           {
            "name": "armed",
            "count": 2
           },
           {
            "name": "unarmed",
            "count": 2
           },
           {
            "name": "Missing",
            "count": 1
           }
          ]
         }
        },
        {
         "name": "alleged_weapon",
         "dtype": "object",
         "stats": {
          "unique_count": 3,
          "nan_count": 1,
          "categories": [
           {
            "name": "no_weapon",
            "count": 2
           },
           {
            "name": "2 others",
            "count": 2
           },
           {
            "name": "Missing",
            "count": 1
           }
          ]
         }
        },
        {
         "name": "aggressive_physical_movement",
         "dtype": "object",
         "stats": {
          "unique_count": 2,
          "nan_count": 1,
          "categories": [
           {
            "name": "threat",
            "count": 3
           },
           {
            "name": "no_threat",
            "count": 1
           },
           {
            "name": "Missing",
            "count": 1
           }
          ]
         }
        },
        {
         "name": "fleeing_not_fleeing",
         "dtype": "object",
         "stats": {
          "unique_count": 2,
          "nan_count": 1,
          "categories": [
           {
            "name": "not_fleeing",
            "count": 3
           },
           {
            "name": "fleeing",
            "count": 1
           },
           {
            "name": "Missing",
            "count": 1
           }
          ]
         }
        },
        {
         "name": "brief_description",
         "dtype": "object",
         "stats": {
          "unique_count": 4,
          "nan_count": 1,
          "categories": [
           {
            "name": "police called to scene found ventry lunging with a knife at a woman. vetnry continued fighting after being shot by officer jerry kassen and tasered by another officer.",
            "count": 1
           },
           {
            "name": "3 others",
            "count": 3
           },
           {
            "name": "Missing",
            "count": 1
           }
          ]
         }
        },
        {
         "name": "intended_use_of_force_developing",
         "dtype": "object",
         "stats": {
          "unique_count": 3,
          "nan_count": 1,
          "categories": [
           {
            "name": "deadly force",
            "count": 2
           },
           {
            "name": "2 others",
            "count": 2
           },
           {
            "name": "Missing",
            "count": 1
           }
          ]
         }
        },
        {
         "name": "fleeing",
         "dtype": "float64",
         "stats": {
          "unique_count": 2,
          "nan_count": 1,
          "min": "0.0",
          "max": "1.0",
          "histogram": [
           {
            "bin_start": 0,
            "bin_end": 0.1,
            "count": 3
           },
           {
            "bin_start": 0.1,
            "bin_end": 0.2,
            "count": 0
           },
           {
            "bin_start": 0.2,
            "bin_end": 0.30000000000000004,
            "count": 0
           },
           {
            "bin_start": 0.30000000000000004,
            "bin_end": 0.4,
            "count": 0
           },
           {
            "bin_start": 0.4,
            "bin_end": 0.5,
            "count": 0
           },
           {
            "bin_start": 0.5,
            "bin_end": 0.6000000000000001,
            "count": 0
           },
           {
            "bin_start": 0.6000000000000001,
            "bin_end": 0.7000000000000001,
            "count": 0
           },
           {
            "bin_start": 0.7000000000000001,
            "bin_end": 0.8,
            "count": 0
           },
           {
            "bin_start": 0.8,
            "bin_end": 0.9,
            "count": 0
           },
           {
            "bin_start": 0.9,
            "bin_end": 1,
            "count": 1
           }
          ]
         }
        },
        {
         "name": "age_bins",
         "dtype": "object",
         "stats": {
          "unique_count": 3,
          "nan_count": 1,
          "categories": [
           {
            "name": "18-24",
            "count": 2
           },
           {
            "name": "2 others",
            "count": 2
           },
           {
            "name": "Missing",
            "count": 1
           }
          ]
         }
        },
        {
         "name": "is_asian_pacific islander",
         "dtype": "int64",
         "stats": {
          "unique_count": 1,
          "nan_count": 0,
          "min": "0",
          "max": "0",
          "histogram": [
           {
            "bin_start": -0.5,
            "bin_end": -0.4,
            "count": 0
           },
           {
            "bin_start": -0.4,
            "bin_end": -0.3,
            "count": 0
           },
           {
            "bin_start": -0.3,
            "bin_end": -0.19999999999999996,
            "count": 0
           },
           {
            "bin_start": -0.19999999999999996,
            "bin_end": -0.09999999999999998,
            "count": 0
           },
           {
            "bin_start": -0.09999999999999998,
            "bin_end": 0,
            "count": 0
           },
           {
            "bin_start": 0,
            "bin_end": 0.10000000000000009,
            "count": 5
           },
           {
            "bin_start": 0.10000000000000009,
            "bin_end": 0.20000000000000007,
            "count": 0
           },
           {
            "bin_start": 0.20000000000000007,
            "bin_end": 0.30000000000000004,
            "count": 0
           },
           {
            "bin_start": 0.30000000000000004,
            "bin_end": 0.4,
            "count": 0
           },
           {
            "bin_start": 0.4,
            "bin_end": 0.5,
            "count": 0
           }
          ]
         }
        },
        {
         "name": "is_black",
         "dtype": "int64",
         "stats": {
          "unique_count": 2,
          "nan_count": 0,
          "min": "0",
          "max": "1",
          "histogram": [
           {
            "bin_start": 0,
            "bin_end": 0.1,
            "count": 4
           },
           {
            "bin_start": 0.1,
            "bin_end": 0.2,
            "count": 0
           },
           {
            "bin_start": 0.2,
            "bin_end": 0.30000000000000004,
            "count": 0
           },
           {
            "bin_start": 0.30000000000000004,
            "bin_end": 0.4,
            "count": 0
           },
           {
            "bin_start": 0.4,
            "bin_end": 0.5,
            "count": 0
           },
           {
            "bin_start": 0.5,
            "bin_end": 0.6000000000000001,
            "count": 0
           },
           {
            "bin_start": 0.6000000000000001,
            "bin_end": 0.7000000000000001,
            "count": 0
           },
           {
            "bin_start": 0.7000000000000001,
            "bin_end": 0.8,
            "count": 0
           },
           {
            "bin_start": 0.8,
            "bin_end": 0.9,
            "count": 0
           },
           {
            "bin_start": 0.9,
            "bin_end": 1,
            "count": 1
           }
          ]
         }
        },
        {
         "name": "is_hispanic",
         "dtype": "int64",
         "stats": {
          "unique_count": 2,
          "nan_count": 0,
          "min": "0",
          "max": "1",
          "histogram": [
           {
            "bin_start": 0,
            "bin_end": 0.1,
            "count": 4
           },
           {
            "bin_start": 0.1,
            "bin_end": 0.2,
            "count": 0
           },
           {
            "bin_start": 0.2,
            "bin_end": 0.30000000000000004,
            "count": 0
           },
           {
            "bin_start": 0.30000000000000004,
            "bin_end": 0.4,
            "count": 0
           },
           {
            "bin_start": 0.4,
            "bin_end": 0.5,
            "count": 0
           },
           {
            "bin_start": 0.5,
            "bin_end": 0.6000000000000001,
            "count": 0
           },
           {
            "bin_start": 0.6000000000000001,
            "bin_end": 0.7000000000000001,
            "count": 0
           },
           {
            "bin_start": 0.7000000000000001,
            "bin_end": 0.8,
            "count": 0
           },
           {
            "bin_start": 0.8,
            "bin_end": 0.9,
            "count": 0
           },
           {
            "bin_start": 0.9,
            "bin_end": 1,
            "count": 1
           }
          ]
         }
        },
        {
         "name": "is_middle eastern",
         "dtype": "int64",
         "stats": {
          "unique_count": 1,
          "nan_count": 0,
          "min": "0",
          "max": "0",
          "histogram": [
           {
            "bin_start": -0.5,
            "bin_end": -0.4,
            "count": 0
           },
           {
            "bin_start": -0.4,
            "bin_end": -0.3,
            "count": 0
           },
           {
            "bin_start": -0.3,
            "bin_end": -0.19999999999999996,
            "count": 0
           },
           {
            "bin_start": -0.19999999999999996,
            "bin_end": -0.09999999999999998,
            "count": 0
           },
           {
            "bin_start": -0.09999999999999998,
            "bin_end": 0,
            "count": 0
           },
           {
            "bin_start": 0,
            "bin_end": 0.10000000000000009,
            "count": 5
           },
           {
            "bin_start": 0.10000000000000009,
            "bin_end": 0.20000000000000007,
            "count": 0
           },
           {
            "bin_start": 0.20000000000000007,
            "bin_end": 0.30000000000000004,
            "count": 0
           },
           {
            "bin_start": 0.30000000000000004,
            "bin_end": 0.4,
            "count": 0
           },
           {
            "bin_start": 0.4,
            "bin_end": 0.5,
            "count": 0
           }
          ]
         }
        },
        {
         "name": "is_native_american",
         "dtype": "int64",
         "stats": {
          "unique_count": 1,
          "nan_count": 0,
          "min": "0",
          "max": "0",
          "histogram": [
           {
            "bin_start": -0.5,
            "bin_end": -0.4,
            "count": 0
           },
           {
            "bin_start": -0.4,
            "bin_end": -0.3,
            "count": 0
           },
           {
            "bin_start": -0.3,
            "bin_end": -0.19999999999999996,
            "count": 0
           },
           {
            "bin_start": -0.19999999999999996,
            "bin_end": -0.09999999999999998,
            "count": 0
           },
           {
            "bin_start": -0.09999999999999998,
            "bin_end": 0,
            "count": 0
           },
           {
            "bin_start": 0,
            "bin_end": 0.10000000000000009,
            "count": 5
           },
           {
            "bin_start": 0.10000000000000009,
            "bin_end": 0.20000000000000007,
            "count": 0
           },
           {
            "bin_start": 0.20000000000000007,
            "bin_end": 0.30000000000000004,
            "count": 0
           },
           {
            "bin_start": 0.30000000000000004,
            "bin_end": 0.4,
            "count": 0
           },
           {
            "bin_start": 0.4,
            "bin_end": 0.5,
            "count": 0
           }
          ]
         }
        },
        {
         "name": "is_unknown_race",
         "dtype": "int64",
         "stats": {
          "unique_count": 1,
          "nan_count": 0,
          "min": "0",
          "max": "0",
          "histogram": [
           {
            "bin_start": -0.5,
            "bin_end": -0.4,
            "count": 0
           },
           {
            "bin_start": -0.4,
            "bin_end": -0.3,
            "count": 0
           },
           {
            "bin_start": -0.3,
            "bin_end": -0.19999999999999996,
            "count": 0
           },
           {
            "bin_start": -0.19999999999999996,
            "bin_end": -0.09999999999999998,
            "count": 0
           },
           {
            "bin_start": -0.09999999999999998,
            "bin_end": 0,
            "count": 0
           },
           {
            "bin_start": 0,
            "bin_end": 0.10000000000000009,
            "count": 5
           },
           {
            "bin_start": 0.10000000000000009,
            "bin_end": 0.20000000000000007,
            "count": 0
           },
           {
            "bin_start": 0.20000000000000007,
            "bin_end": 0.30000000000000004,
            "count": 0
           },
           {
            "bin_start": 0.30000000000000004,
            "bin_end": 0.4,
            "count": 0
           },
           {
            "bin_start": 0.4,
            "bin_end": 0.5,
            "count": 0
           }
          ]
         }
        },
        {
         "name": "is_white",
         "dtype": "int64",
         "stats": {
          "unique_count": 2,
          "nan_count": 0,
          "min": "0",
          "max": "1",
          "histogram": [
           {
            "bin_start": 0,
            "bin_end": 0.1,
            "count": 2
           },
           {
            "bin_start": 0.1,
            "bin_end": 0.2,
            "count": 0
           },
           {
            "bin_start": 0.2,
            "bin_end": 0.30000000000000004,
            "count": 0
           },
           {
            "bin_start": 0.30000000000000004,
            "bin_end": 0.4,
            "count": 0
           },
           {
            "bin_start": 0.4,
            "bin_end": 0.5,
            "count": 0
           },
           {
            "bin_start": 0.5,
            "bin_end": 0.6000000000000001,
            "count": 0
           },
           {
            "bin_start": 0.6000000000000001,
            "bin_end": 0.7000000000000001,
            "count": 0
           },
           {
            "bin_start": 0.7000000000000001,
            "bin_end": 0.8,
            "count": 0
           },
           {
            "bin_start": 0.8,
            "bin_end": 0.9,
            "count": 0
           },
           {
            "bin_start": 0.9,
            "bin_end": 1,
            "count": 3
           }
          ]
         }
        },
        {
         "name": "is_unarmed",
         "dtype": "int64",
         "stats": {
          "unique_count": 2,
          "nan_count": 0,
          "min": "0",
          "max": "1",
          "histogram": [
           {
            "bin_start": 0,
            "bin_end": 0.1,
            "count": 3
           },
           {
            "bin_start": 0.1,
            "bin_end": 0.2,
            "count": 0
           },
           {
            "bin_start": 0.2,
            "bin_end": 0.30000000000000004,
            "count": 0
           },
           {
            "bin_start": 0.30000000000000004,
            "bin_end": 0.4,
            "count": 0
           },
           {
            "bin_start": 0.4,
            "bin_end": 0.5,
            "count": 0
           },
           {
            "bin_start": 0.5,
            "bin_end": 0.6000000000000001,
            "count": 0
           },
           {
            "bin_start": 0.6000000000000001,
            "bin_end": 0.7000000000000001,
            "count": 0
           },
           {
            "bin_start": 0.7000000000000001,
            "bin_end": 0.8,
            "count": 0
           },
           {
            "bin_start": 0.8,
            "bin_end": 0.9,
            "count": 0
           },
           {
            "bin_start": 0.9,
            "bin_end": 1,
            "count": 2
           }
          ]
         }
        },
        {
         "name": "had_blunt object",
         "dtype": "int64",
         "stats": {
          "unique_count": 1,
          "nan_count": 0,
          "min": "0",
          "max": "0",
          "histogram": [
           {
            "bin_start": -0.5,
            "bin_end": -0.4,
            "count": 0
           },
           {
            "bin_start": -0.4,
            "bin_end": -0.3,
            "count": 0
           },
           {
            "bin_start": -0.3,
            "bin_end": -0.19999999999999996,
            "count": 0
           },
           {
            "bin_start": -0.19999999999999996,
            "bin_end": -0.09999999999999998,
            "count": 0
           },
           {
            "bin_start": -0.09999999999999998,
            "bin_end": 0,
            "count": 0
           },
           {
            "bin_start": 0,
            "bin_end": 0.10000000000000009,
            "count": 5
           },
           {
            "bin_start": 0.10000000000000009,
            "bin_end": 0.20000000000000007,
            "count": 0
           },
           {
            "bin_start": 0.20000000000000007,
            "bin_end": 0.30000000000000004,
            "count": 0
           },
           {
            "bin_start": 0.30000000000000004,
            "bin_end": 0.4,
            "count": 0
           },
           {
            "bin_start": 0.4,
            "bin_end": 0.5,
            "count": 0
           }
          ]
         }
        },
        {
         "name": "had_edged weapon",
         "dtype": "int64",
         "stats": {
          "unique_count": 2,
          "nan_count": 0,
          "min": "0",
          "max": "1",
          "histogram": [
           {
            "bin_start": 0,
            "bin_end": 0.1,
            "count": 4
           },
           {
            "bin_start": 0.1,
            "bin_end": 0.2,
            "count": 0
           },
           {
            "bin_start": 0.2,
            "bin_end": 0.30000000000000004,
            "count": 0
           },
           {
            "bin_start": 0.30000000000000004,
            "bin_end": 0.4,
            "count": 0
           },
           {
            "bin_start": 0.4,
            "bin_end": 0.5,
            "count": 0
           },
           {
            "bin_start": 0.5,
            "bin_end": 0.6000000000000001,
            "count": 0
           },
           {
            "bin_start": 0.6000000000000001,
            "bin_end": 0.7000000000000001,
            "count": 0
           },
           {
            "bin_start": 0.7000000000000001,
            "bin_end": 0.8,
            "count": 0
           },
           {
            "bin_start": 0.8,
            "bin_end": 0.9,
            "count": 0
           },
           {
            "bin_start": 0.9,
            "bin_end": 1,
            "count": 1
           }
          ]
         }
        },
        {
         "name": "had_firearm",
         "dtype": "int64",
         "stats": {
          "unique_count": 2,
          "nan_count": 0,
          "min": "0",
          "max": "1",
          "histogram": [
           {
            "bin_start": 0,
            "bin_end": 0.1,
            "count": 3
           },
           {
            "bin_start": 0.1,
            "bin_end": 0.2,
            "count": 0
           },
           {
            "bin_start": 0.2,
            "bin_end": 0.30000000000000004,
            "count": 0
           },
           {
            "bin_start": 0.30000000000000004,
            "bin_end": 0.4,
            "count": 0
           },
           {
            "bin_start": 0.4,
            "bin_end": 0.5,
            "count": 0
           },
           {
            "bin_start": 0.5,
            "bin_end": 0.6000000000000001,
            "count": 0
           },
           {
            "bin_start": 0.6000000000000001,
            "bin_end": 0.7000000000000001,
            "count": 0
           },
           {
            "bin_start": 0.7000000000000001,
            "bin_end": 0.8,
            "count": 0
           },
           {
            "bin_start": 0.8,
            "bin_end": 0.9,
            "count": 0
           },
           {
            "bin_start": 0.9,
            "bin_end": 1,
            "count": 2
           }
          ]
         }
        },
        {
         "name": "had_no_weapon",
         "dtype": "int64",
         "stats": {
          "unique_count": 2,
          "nan_count": 0,
          "min": "0",
          "max": "1",
          "histogram": [
           {
            "bin_start": 0,
            "bin_end": 0.1,
            "count": 3
           },
           {
            "bin_start": 0.1,
            "bin_end": 0.2,
            "count": 0
           },
           {
            "bin_start": 0.2,
            "bin_end": 0.30000000000000004,
            "count": 0
           },
           {
            "bin_start": 0.30000000000000004,
            "bin_end": 0.4,
            "count": 0
           },
           {
            "bin_start": 0.4,
            "bin_end": 0.5,
            "count": 0
           },
           {
            "bin_start": 0.5,
            "bin_end": 0.6000000000000001,
            "count": 0
           },
           {
            "bin_start": 0.6000000000000001,
            "bin_end": 0.7000000000000001,
            "count": 0
           },
           {
            "bin_start": 0.7000000000000001,
            "bin_end": 0.8,
            "count": 0
           },
           {
            "bin_start": 0.8,
            "bin_end": 0.9,
            "count": 0
           },
           {
            "bin_start": 0.9,
            "bin_end": 1,
            "count": 2
           }
          ]
         }
        },
        {
         "name": "had_other_weapon",
         "dtype": "int64",
         "stats": {
          "unique_count": 1,
          "nan_count": 0,
          "min": "0",
          "max": "0",
          "histogram": [
           {
            "bin_start": -0.5,
            "bin_end": -0.4,
            "count": 0
           },
           {
            "bin_start": -0.4,
            "bin_end": -0.3,
            "count": 0
           },
           {
            "bin_start": -0.3,
            "bin_end": -0.19999999999999996,
            "count": 0
           },
           {
            "bin_start": -0.19999999999999996,
            "bin_end": -0.09999999999999998,
            "count": 0
           },
           {
            "bin_start": -0.09999999999999998,
            "bin_end": 0,
            "count": 0
           },
           {
            "bin_start": 0,
            "bin_end": 0.10000000000000009,
            "count": 5
           },
           {
            "bin_start": 0.10000000000000009,
            "bin_end": 0.20000000000000007,
            "count": 0
           },
           {
            "bin_start": 0.20000000000000007,
            "bin_end": 0.30000000000000004,
            "count": 0
           },
           {
            "bin_start": 0.30000000000000004,
            "bin_end": 0.4,
            "count": 0
           },
           {
            "bin_start": 0.4,
            "bin_end": 0.5,
            "count": 0
           }
          ]
         }
        },
        {
         "name": "under 12",
         "dtype": "float64",
         "stats": {
          "unique_count": 1,
          "nan_count": 1,
          "min": "0.0",
          "max": "0.0",
          "histogram": [
           {
            "bin_start": -0.5,
            "bin_end": -0.4,
            "count": 0
           },
           {
            "bin_start": -0.4,
            "bin_end": -0.3,
            "count": 0
           },
           {
            "bin_start": -0.3,
            "bin_end": -0.19999999999999996,
            "count": 0
           },
           {
            "bin_start": -0.19999999999999996,
            "bin_end": -0.09999999999999998,
            "count": 0
           },
           {
            "bin_start": -0.09999999999999998,
            "bin_end": 0,
            "count": 0
           },
           {
            "bin_start": 0,
            "bin_end": 0.10000000000000009,
            "count": 4
           },
           {
            "bin_start": 0.10000000000000009,
            "bin_end": 0.20000000000000007,
            "count": 0
           },
           {
            "bin_start": 0.20000000000000007,
            "bin_end": 0.30000000000000004,
            "count": 0
           },
           {
            "bin_start": 0.30000000000000004,
            "bin_end": 0.4,
            "count": 0
           },
           {
            "bin_start": 0.4,
            "bin_end": 0.5,
            "count": 0
           }
          ]
         }
        },
        {
         "name": "12-17",
         "dtype": "float64",
         "stats": {
          "unique_count": 2,
          "nan_count": 1,
          "min": "0.0",
          "max": "1.0",
          "histogram": [
           {
            "bin_start": 0,
            "bin_end": 0.1,
            "count": 3
           },
           {
            "bin_start": 0.1,
            "bin_end": 0.2,
            "count": 0
           },
           {
            "bin_start": 0.2,
            "bin_end": 0.30000000000000004,
            "count": 0
           },
           {
            "bin_start": 0.30000000000000004,
            "bin_end": 0.4,
            "count": 0
           },
           {
            "bin_start": 0.4,
            "bin_end": 0.5,
            "count": 0
           },
           {
            "bin_start": 0.5,
            "bin_end": 0.6000000000000001,
            "count": 0
           },
           {
            "bin_start": 0.6000000000000001,
            "bin_end": 0.7000000000000001,
            "count": 0
           },
           {
            "bin_start": 0.7000000000000001,
            "bin_end": 0.8,
            "count": 0
           },
           {
            "bin_start": 0.8,
            "bin_end": 0.9,
            "count": 0
           },
           {
            "bin_start": 0.9,
            "bin_end": 1,
            "count": 1
           }
          ]
         }
        },
        {
         "name": "18-24",
         "dtype": "float64",
         "stats": {
          "unique_count": 2,
          "nan_count": 1,
          "min": "0.0",
          "max": "1.0",
          "histogram": [
           {
            "bin_start": 0,
            "bin_end": 0.1,
            "count": 2
           },
           {
            "bin_start": 0.1,
            "bin_end": 0.2,
            "count": 0
           },
           {
            "bin_start": 0.2,
            "bin_end": 0.30000000000000004,
            "count": 0
           },
           {
            "bin_start": 0.30000000000000004,
            "bin_end": 0.4,
            "count": 0
           },
           {
            "bin_start": 0.4,
            "bin_end": 0.5,
            "count": 0
           },
           {
            "bin_start": 0.5,
            "bin_end": 0.6000000000000001,
            "count": 0
           },
           {
            "bin_start": 0.6000000000000001,
            "bin_end": 0.7000000000000001,
            "count": 0
           },
           {
            "bin_start": 0.7000000000000001,
            "bin_end": 0.8,
            "count": 0
           },
           {
            "bin_start": 0.8,
            "bin_end": 0.9,
            "count": 0
           },
           {
            "bin_start": 0.9,
            "bin_end": 1,
            "count": 2
           }
          ]
         }
        },
        {
         "name": "25-34",
         "dtype": "float64",
         "stats": {
          "unique_count": 2,
          "nan_count": 1,
          "min": "0.0",
          "max": "1.0",
          "histogram": [
           {
            "bin_start": 0,
            "bin_end": 0.1,
            "count": 3
           },
           {
            "bin_start": 0.1,
            "bin_end": 0.2,
            "count": 0
           },
           {
            "bin_start": 0.2,
            "bin_end": 0.30000000000000004,
            "count": 0
           },
           {
            "bin_start": 0.30000000000000004,
            "bin_end": 0.4,
            "count": 0
           },
           {
            "bin_start": 0.4,
            "bin_end": 0.5,
            "count": 0
           },
           {
            "bin_start": 0.5,
            "bin_end": 0.6000000000000001,
            "count": 0
           },
           {
            "bin_start": 0.6000000000000001,
            "bin_end": 0.7000000000000001,
            "count": 0
           },
           {
            "bin_start": 0.7000000000000001,
            "bin_end": 0.8,
            "count": 0
           },
           {
            "bin_start": 0.8,
            "bin_end": 0.9,
            "count": 0
           },
           {
            "bin_start": 0.9,
            "bin_end": 1,
            "count": 1
           }
          ]
         }
        },
        {
         "name": "35-44",
         "dtype": "float64",
         "stats": {
          "unique_count": 1,
          "nan_count": 1,
          "min": "0.0",
          "max": "0.0",
          "histogram": [
           {
            "bin_start": -0.5,
            "bin_end": -0.4,
            "count": 0
           },
           {
            "bin_start": -0.4,
            "bin_end": -0.3,
            "count": 0
           },
           {
            "bin_start": -0.3,
            "bin_end": -0.19999999999999996,
            "count": 0
           },
           {
            "bin_start": -0.19999999999999996,
            "bin_end": -0.09999999999999998,
            "count": 0
           },
           {
            "bin_start": -0.09999999999999998,
            "bin_end": 0,
            "count": 0
           },
           {
            "bin_start": 0,
            "bin_end": 0.10000000000000009,
            "count": 4
           },
           {
            "bin_start": 0.10000000000000009,
            "bin_end": 0.20000000000000007,
            "count": 0
           },
           {
            "bin_start": 0.20000000000000007,
            "bin_end": 0.30000000000000004,
            "count": 0
           },
           {
            "bin_start": 0.30000000000000004,
            "bin_end": 0.4,
            "count": 0
           },
           {
            "bin_start": 0.4,
            "bin_end": 0.5,
            "count": 0
           }
          ]
         }
        },
        {
         "name": "45-54",
         "dtype": "float64",
         "stats": {
          "unique_count": 1,
          "nan_count": 1,
          "min": "0.0",
          "max": "0.0",
          "histogram": [
           {
            "bin_start": -0.5,
            "bin_end": -0.4,
            "count": 0
           },
           {
            "bin_start": -0.4,
            "bin_end": -0.3,
            "count": 0
           },
           {
            "bin_start": -0.3,
            "bin_end": -0.19999999999999996,
            "count": 0
           },
           {
            "bin_start": -0.19999999999999996,
            "bin_end": -0.09999999999999998,
            "count": 0
           },
           {
            "bin_start": -0.09999999999999998,
            "bin_end": 0,
            "count": 0
           },
           {
            "bin_start": 0,
            "bin_end": 0.10000000000000009,
            "count": 4
           },
           {
            "bin_start": 0.10000000000000009,
            "bin_end": 0.20000000000000007,
            "count": 0
           },
           {
            "bin_start": 0.20000000000000007,
            "bin_end": 0.30000000000000004,
            "count": 0
           },
           {
            "bin_start": 0.30000000000000004,
            "bin_end": 0.4,
            "count": 0
           },
           {
            "bin_start": 0.4,
            "bin_end": 0.5,
            "count": 0
           }
          ]
         }
        },
        {
         "name": "55-64",
         "dtype": "float64",
         "stats": {
          "unique_count": 1,
          "nan_count": 1,
          "min": "0.0",
          "max": "0.0",
          "histogram": [
           {
            "bin_start": -0.5,
            "bin_end": -0.4,
            "count": 0
           },
           {
            "bin_start": -0.4,
            "bin_end": -0.3,
            "count": 0
           },
           {
            "bin_start": -0.3,
            "bin_end": -0.19999999999999996,
            "count": 0
           },
           {
            "bin_start": -0.19999999999999996,
            "bin_end": -0.09999999999999998,
            "count": 0
           },
           {
            "bin_start": -0.09999999999999998,
            "bin_end": 0,
            "count": 0
           },
           {
            "bin_start": 0,
            "bin_end": 0.10000000000000009,
            "count": 4
           },
           {
            "bin_start": 0.10000000000000009,
            "bin_end": 0.20000000000000007,
            "count": 0
           },
           {
            "bin_start": 0.20000000000000007,
            "bin_end": 0.30000000000000004,
            "count": 0
           },
           {
            "bin_start": 0.30000000000000004,
            "bin_end": 0.4,
            "count": 0
           },
           {
            "bin_start": 0.4,
            "bin_end": 0.5,
            "count": 0
           }
          ]
         }
        },
        {
         "name": "65+",
         "dtype": "float64",
         "stats": {
          "unique_count": 1,
          "nan_count": 1,
          "min": "0.0",
          "max": "0.0",
          "histogram": [
           {
            "bin_start": -0.5,
            "bin_end": -0.4,
            "count": 0
           },
           {
            "bin_start": -0.4,
            "bin_end": -0.3,
            "count": 0
           },
           {
            "bin_start": -0.3,
            "bin_end": -0.19999999999999996,
            "count": 0
           },
           {
            "bin_start": -0.19999999999999996,
            "bin_end": -0.09999999999999998,
            "count": 0
           },
           {
            "bin_start": -0.09999999999999998,
            "bin_end": 0,
            "count": 0
           },
           {
            "bin_start": 0,
            "bin_end": 0.10000000000000009,
            "count": 4
           },
           {
            "bin_start": 0.10000000000000009,
            "bin_end": 0.20000000000000007,
            "count": 0
           },
           {
            "bin_start": 0.20000000000000007,
            "bin_end": 0.30000000000000004,
            "count": 0
           },
           {
            "bin_start": 0.30000000000000004,
            "bin_end": 0.4,
            "count": 0
           },
           {
            "bin_start": 0.4,
            "bin_end": 0.5,
            "count": 0
           }
          ]
         }
        },
        {
         "name": "_deepnote_index_column",
         "dtype": "int64"
        }
       ],
       "rows_top": [
        {
         "unique_id": 14050,
         "age": 20,
         "gender": "male",
         "race": "black",
         "date_of_injury_resulting_in_death_month_day_year": "2007-02-07",
         "location_of_death_zip_code": 68111,
         "agency_or_agencies_involved": "omaha police department",
         "highest_level_of_force": "gunshot",
         "armed_unarmed": "armed",
         "alleged_weapon": "edged weapon",
         "aggressive_physical_movement": "threat",
         "fleeing_not_fleeing": "not_fleeing",
         "brief_description": "police called to scene found ventry lunging with a knife at a woman. vetnry continued fighting afte…",
         "intended_use_of_force_developing": "deadly force",
         "fleeing": 0,
         "age_bins": "18-24",
         "is_asian_pacific islander": 0,
         "is_black": 1,
         "is_hispanic": 0,
         "is_middle eastern": 0,
         "is_native_american": 0,
         "is_unknown_race": 0,
         "is_white": 0,
         "is_unarmed": 0,
         "had_blunt object": 0,
         "had_edged weapon": 1,
         "had_firearm": 0,
         "had_no_weapon": 0,
         "had_other_weapon": 0,
         "under 12": 0,
         "12-17": 0,
         "18-24": 1,
         "25-34": 0,
         "35-44": 0,
         "45-54": 0,
         "55-64": 0,
         "65+": 0,
         "_deepnote_index_column": 0
        },
        {
         "unique_id": "nan",
         "age": "nan",
         "gender": "nan",
         "race": "nan",
         "date_of_injury_resulting_in_death_month_day_year": "nan",
         "location_of_death_zip_code": "nan",
         "agency_or_agencies_involved": "nan",
         "highest_level_of_force": "nan",
         "armed_unarmed": "nan",
         "alleged_weapon": "nan",
         "aggressive_physical_movement": "nan",
         "fleeing_not_fleeing": "nan",
         "brief_description": "nan",
         "intended_use_of_force_developing": "nan",
         "fleeing": "nan",
         "age_bins": "nan",
         "is_asian_pacific islander": 0,
         "is_black": 0,
         "is_hispanic": 0,
         "is_middle eastern": 0,
         "is_native_american": 0,
         "is_unknown_race": 0,
         "is_white": 1,
         "is_unarmed": 0,
         "had_blunt object": 0,
         "had_edged weapon": 0,
         "had_firearm": 1,
         "had_no_weapon": 0,
         "had_other_weapon": 0,
         "under 12": "nan",
         "12-17": "nan",
         "18-24": "nan",
         "25-34": "nan",
         "35-44": "nan",
         "45-54": "nan",
         "55-64": "nan",
         "65+": "nan",
         "_deepnote_index_column": 1
        },
        {
         "unique_id": 12167,
         "age": 12,
         "gender": "female",
         "race": "hispanic",
         "date_of_injury_resulting_in_death_month_day_year": "2013-01-01",
         "location_of_death_zip_code": 78375,
         "agency_or_agencies_involved": "texas department of public safety",
         "highest_level_of_force": "medical emergency",
         "armed_unarmed": "unarmed",
         "alleged_weapon": "no_weapon",
         "aggressive_physical_movement": "no_threat",
         "fleeing_not_fleeing": "fleeing",
         "brief_description": "a trooper pursued a truck driven by a 14-year-old male with two female passengers, leesa rene ramir…",
         "intended_use_of_force_developing": "no",
         "fleeing": 1,
         "age_bins": "12-17",
         "is_asian_pacific islander": 0,
         "is_black": 0,
         "is_hispanic": 1,
         "is_middle eastern": 0,
         "is_native_american": 0,
         "is_unknown_race": 0,
         "is_white": 0,
         "is_unarmed": 1,
         "had_blunt object": 0,
         "had_edged weapon": 0,
         "had_firearm": 0,
         "had_no_weapon": 1,
         "had_other_weapon": 0,
         "under 12": 0,
         "12-17": 1,
         "18-24": 0,
         "25-34": 0,
         "35-44": 0,
         "45-54": 0,
         "55-64": 0,
         "65+": 0,
         "_deepnote_index_column": 2
        },
        {
         "unique_id": 12171,
         "age": 26,
         "gender": "male",
         "race": "white",
         "date_of_injury_resulting_in_death_month_day_year": "2013-01-01",
         "location_of_death_zip_code": 56001,
         "agency_or_agencies_involved": "mankato department of public safety",
         "highest_level_of_force": "tasered",
         "armed_unarmed": "unarmed",
         "alleged_weapon": "no_weapon",
         "aggressive_physical_movement": "threat",
         "fleeing_not_fleeing": "not_fleeing",
         "brief_description": "former combat medic andrew derek layton was found unconscious at 4:45 a.m. on new year's day in the…",
         "intended_use_of_force_developing": "less-than-lethal force",
         "fleeing": 0,
         "age_bins": "25-34",
         "is_asian_pacific islander": 0,
         "is_black": 0,
         "is_hispanic": 0,
         "is_middle eastern": 0,
         "is_native_american": 0,
         "is_unknown_race": 0,
         "is_white": 1,
         "is_unarmed": 1,
         "had_blunt object": 0,
         "had_edged weapon": 0,
         "had_firearm": 0,
         "had_no_weapon": 1,
         "had_other_weapon": 0,
         "under 12": 0,
         "12-17": 0,
         "18-24": 0,
         "25-34": 1,
         "35-44": 0,
         "45-54": 0,
         "55-64": 0,
         "65+": 0,
         "_deepnote_index_column": 3
        },
        {
         "unique_id": 12172,
         "age": 21,
         "gender": "male",
         "race": "white",
         "date_of_injury_resulting_in_death_month_day_year": "2013-01-01",
         "location_of_death_zip_code": 54838,
         "agency_or_agencies_involved": "douglas county sheriff's office",
         "highest_level_of_force": "gunshot",
         "armed_unarmed": "armed",
         "alleged_weapon": "firearm",
         "aggressive_physical_movement": "threat",
         "fleeing_not_fleeing": "not_fleeing",
         "brief_description": "deputies responded to a 911 call of shots fired in andrew l. closson's home. they set up a perimete…",
         "intended_use_of_force_developing": "deadly force",
         "fleeing": 0,
         "age_bins": "18-24",
         "is_asian_pacific islander": 0,
         "is_black": 0,
         "is_hispanic": 0,
         "is_middle eastern": 0,
         "is_native_american": 0,
         "is_unknown_race": 0,
         "is_white": 1,
         "is_unarmed": 0,
         "had_blunt object": 0,
         "had_edged weapon": 0,
         "had_firearm": 1,
         "had_no_weapon": 0,
         "had_other_weapon": 0,
         "under 12": 0,
         "12-17": 0,
         "18-24": 1,
         "25-34": 0,
         "35-44": 0,
         "45-54": 0,
         "55-64": 0,
         "65+": 0,
         "_deepnote_index_column": 4
        }
       ],
       "rows_bottom": null
      },
      "text/plain": "   unique_id   age  gender      race  \\\n0    14050.0  20.0    male     black   \n1        NaN   NaN     NaN       NaN   \n2    12167.0  12.0  female  hispanic   \n3    12171.0  26.0    male     white   \n4    12172.0  21.0    male     white   \n\n  date_of_injury_resulting_in_death_month_day_year  \\\n0                                       2007-02-07   \n1                                              NaN   \n2                                       2013-01-01   \n3                                       2013-01-01   \n4                                       2013-01-01   \n\n   location_of_death_zip_code          agency_or_agencies_involved  \\\n0                     68111.0              omaha police department   \n1                         NaN                                  NaN   \n2                     78375.0    texas department of public safety   \n3                     56001.0  mankato department of public safety   \n4                     54838.0      douglas county sheriff's office   \n\n  highest_level_of_force armed_unarmed alleged_weapon  ... had_no_weapon  \\\n0                gunshot         armed   edged weapon  ...             0   \n1                    NaN           NaN            NaN  ...             0   \n2      medical emergency       unarmed      no_weapon  ...             1   \n3                tasered       unarmed      no_weapon  ...             1   \n4                gunshot         armed        firearm  ...             0   \n\n  had_other_weapon under 12 12-17  18-24 25-34  35-44  45-54  55-64  65+  \n0                0      0.0   0.0    1.0   0.0    0.0    0.0    0.0  0.0  \n1                0      NaN   NaN    NaN   NaN    NaN    NaN    NaN  NaN  \n2                0      0.0   1.0    0.0   0.0    0.0    0.0    0.0  0.0  \n3                0      0.0   0.0    0.0   1.0    0.0    0.0    0.0  0.0  \n4                0      0.0   0.0    1.0   0.0    0.0    0.0    0.0  0.0  \n\n[5 rows x 37 columns]",
      "text/html": "<div>\n<style scoped>\n    .dataframe tbody tr th:only-of-type {\n        vertical-align: middle;\n    }\n\n    .dataframe tbody tr th {\n        vertical-align: top;\n    }\n\n    .dataframe thead th {\n        text-align: right;\n    }\n</style>\n<table border=\"1\" class=\"dataframe\">\n  <thead>\n    <tr style=\"text-align: right;\">\n      <th></th>\n      <th>unique_id</th>\n      <th>age</th>\n      <th>gender</th>\n      <th>race</th>\n      <th>date_of_injury_resulting_in_death_month_day_year</th>\n      <th>location_of_death_zip_code</th>\n      <th>agency_or_agencies_involved</th>\n      <th>highest_level_of_force</th>\n      <th>armed_unarmed</th>\n      <th>alleged_weapon</th>\n      <th>...</th>\n      <th>had_no_weapon</th>\n      <th>had_other_weapon</th>\n      <th>under 12</th>\n      <th>12-17</th>\n      <th>18-24</th>\n      <th>25-34</th>\n      <th>35-44</th>\n      <th>45-54</th>\n      <th>55-64</th>\n      <th>65+</th>\n    </tr>\n  </thead>\n  <tbody>\n    <tr>\n      <th>0</th>\n      <td>14050.0</td>\n      <td>20.0</td>\n      <td>male</td>\n      <td>black</td>\n      <td>2007-02-07</td>\n      <td>68111.0</td>\n      <td>omaha police department</td>\n      <td>gunshot</td>\n      <td>armed</td>\n      <td>edged weapon</td>\n      <td>...</td>\n      <td>0</td>\n      <td>0</td>\n      <td>0.0</td>\n      <td>0.0</td>\n      <td>1.0</td>\n      <td>0.0</td>\n      <td>0.0</td>\n      <td>0.0</td>\n      <td>0.0</td>\n      <td>0.0</td>\n    </tr>\n    <tr>\n      <th>1</th>\n      <td>NaN</td>\n      <td>NaN</td>\n      <td>NaN</td>\n      <td>NaN</td>\n      <td>NaN</td>\n      <td>NaN</td>\n      <td>NaN</td>\n      <td>NaN</td>\n      <td>NaN</td>\n      <td>NaN</td>\n      <td>...</td>\n      <td>0</td>\n      <td>0</td>\n      <td>NaN</td>\n      <td>NaN</td>\n      <td>NaN</td>\n      <td>NaN</td>\n      <td>NaN</td>\n      <td>NaN</td>\n      <td>NaN</td>\n      <td>NaN</td>\n    </tr>\n    <tr>\n      <th>2</th>\n      <td>12167.0</td>\n      <td>12.0</td>\n      <td>female</td>\n      <td>hispanic</td>\n      <td>2013-01-01</td>\n      <td>78375.0</td>\n      <td>texas department of public safety</td>\n      <td>medical emergency</td>\n      <td>unarmed</td>\n      <td>no_weapon</td>\n      <td>...</td>\n      <td>1</td>\n      <td>0</td>\n      <td>0.0</td>\n      <td>1.0</td>\n      <td>0.0</td>\n      <td>0.0</td>\n      <td>0.0</td>\n      <td>0.0</td>\n      <td>0.0</td>\n      <td>0.0</td>\n    </tr>\n    <tr>\n      <th>3</th>\n      <td>12171.0</td>\n      <td>26.0</td>\n      <td>male</td>\n      <td>white</td>\n      <td>2013-01-01</td>\n      <td>56001.0</td>\n      <td>mankato department of public safety</td>\n      <td>tasered</td>\n      <td>unarmed</td>\n      <td>no_weapon</td>\n      <td>...</td>\n      <td>1</td>\n      <td>0</td>\n      <td>0.0</td>\n      <td>0.0</td>\n      <td>0.0</td>\n      <td>1.0</td>\n      <td>0.0</td>\n      <td>0.0</td>\n      <td>0.0</td>\n      <td>0.0</td>\n    </tr>\n    <tr>\n      <th>4</th>\n      <td>12172.0</td>\n      <td>21.0</td>\n      <td>male</td>\n      <td>white</td>\n      <td>2013-01-01</td>\n      <td>54838.0</td>\n      <td>douglas county sheriff's office</td>\n      <td>gunshot</td>\n      <td>armed</td>\n      <td>firearm</td>\n      <td>...</td>\n      <td>0</td>\n      <td>0</td>\n      <td>0.0</td>\n      <td>0.0</td>\n      <td>1.0</td>\n      <td>0.0</td>\n      <td>0.0</td>\n      <td>0.0</td>\n      <td>0.0</td>\n      <td>0.0</td>\n    </tr>\n  </tbody>\n</table>\n<p>5 rows × 37 columns</p>\n</div>"
     },
     "metadata": {}
    }
   ]
  },
  {
   "cell_type": "code",
   "metadata": {
    "tags": [],
    "deepnote_to_be_reexecuted": false,
    "source_hash": "14f60b8f",
    "execution_start": 1622247735407,
    "execution_millis": 19,
    "cell_id": "00014-48bff273-8601-449c-be2f-4cc825232c88",
    "deepnote_cell_type": "code"
   },
   "source": "df.shape",
   "execution_count": 9,
   "outputs": [
    {
     "output_type": "execute_result",
     "execution_count": 9,
     "data": {
      "text/plain": "(13265, 37)"
     },
     "metadata": {}
    }
   ]
  },
  {
   "cell_type": "code",
   "metadata": {
    "tags": [],
    "cell_id": "00015-2a886b01-fb30-4999-bead-2fce5d76d8dc",
    "deepnote_to_be_reexecuted": false,
    "source_hash": "1bd18b6b",
    "execution_start": 1622247735454,
    "execution_millis": 1,
    "deepnote_cell_type": "code"
   },
   "source": "df.dropna(inplace=True)",
   "execution_count": 10,
   "outputs": []
  },
  {
   "cell_type": "code",
   "metadata": {
    "tags": [],
    "cell_id": "00016-9a776d67-9ef8-4f77-97f6-00c80beae4e1",
    "deepnote_to_be_reexecuted": false,
    "source_hash": "f05bfa07",
    "execution_start": 1622247735455,
    "execution_millis": 0,
    "deepnote_cell_type": "code"
   },
   "source": "df.rename(columns={'aggressive_physical_movement' : 'alleged_threat_lvl'}, inplace=True)",
   "execution_count": 11,
   "outputs": []
  },
  {
   "cell_type": "code",
   "metadata": {
    "deepnote_to_be_reexecuted": false,
    "execution_millis": 33,
    "execution_start": 1622247735456,
    "source_hash": "7dff3e6b",
    "tags": [],
    "cell_id": "00015-86109066-5d1c-4692-8bbc-154748f1be79",
    "deepnote_cell_type": "code"
   },
   "source": "#double check no nulls\ndf.isnull().sum()",
   "execution_count": 12,
   "outputs": [
    {
     "output_type": "execute_result",
     "execution_count": 12,
     "data": {
      "text/plain": "unique_id                                           0\nage                                                 0\ngender                                              0\nrace                                                0\ndate_of_injury_resulting_in_death_month_day_year    0\nlocation_of_death_zip_code                          0\nagency_or_agencies_involved                         0\nhighest_level_of_force                              0\narmed_unarmed                                       0\nalleged_weapon                                      0\nalleged_threat_lvl                                  0\nfleeing_not_fleeing                                 0\nbrief_description                                   0\nintended_use_of_force_developing                    0\nfleeing                                             0\nage_bins                                            0\nis_asian_pacific islander                           0\nis_black                                            0\nis_hispanic                                         0\nis_middle eastern                                   0\nis_native_american                                  0\nis_unknown_race                                     0\nis_white                                            0\nis_unarmed                                          0\nhad_blunt object                                    0\nhad_edged weapon                                    0\nhad_firearm                                         0\nhad_no_weapon                                       0\nhad_other_weapon                                    0\nunder 12                                            0\n12-17                                               0\n18-24                                               0\n25-34                                               0\n35-44                                               0\n45-54                                               0\n55-64                                               0\n65+                                                 0\ndtype: int64"
     },
     "metadata": {}
    }
   ]
  },
  {
   "cell_type": "code",
   "metadata": {
    "deepnote_to_be_reexecuted": false,
    "execution_millis": 8,
    "execution_start": 1622247735481,
    "source_hash": "3edc948f",
    "tags": [],
    "cell_id": "00016-87917369-83f9-4b91-a770-8d858c538d79",
    "deepnote_cell_type": "code"
   },
   "source": "#double check data types\ndf.dtypes",
   "execution_count": 13,
   "outputs": [
    {
     "output_type": "execute_result",
     "execution_count": 13,
     "data": {
      "text/plain": "unique_id                                           float64\nage                                                 float64\ngender                                               object\nrace                                                 object\ndate_of_injury_resulting_in_death_month_day_year     object\nlocation_of_death_zip_code                          float64\nagency_or_agencies_involved                          object\nhighest_level_of_force                               object\narmed_unarmed                                        object\nalleged_weapon                                       object\nalleged_threat_lvl                                   object\nfleeing_not_fleeing                                  object\nbrief_description                                    object\nintended_use_of_force_developing                     object\nfleeing                                             float64\nage_bins                                             object\nis_asian_pacific islander                             int64\nis_black                                              int64\nis_hispanic                                           int64\nis_middle eastern                                     int64\nis_native_american                                    int64\nis_unknown_race                                       int64\nis_white                                              int64\nis_unarmed                                            int64\nhad_blunt object                                      int64\nhad_edged weapon                                      int64\nhad_firearm                                           int64\nhad_no_weapon                                         int64\nhad_other_weapon                                      int64\nunder 12                                            float64\n12-17                                               float64\n18-24                                               float64\n25-34                                               float64\n35-44                                               float64\n45-54                                               float64\n55-64                                               float64\n65+                                                 float64\ndtype: object"
     },
     "metadata": {}
    }
   ]
  },
  {
   "cell_type": "code",
   "metadata": {
    "deepnote_to_be_reexecuted": false,
    "execution_millis": 142,
    "execution_start": 1622247735526,
    "source_hash": "be21ca7a",
    "tags": [],
    "cell_id": "00017-db1c26c9-8fdf-4d95-b1c6-4e875ac760b6",
    "deepnote_cell_type": "code"
   },
   "source": "#split the data using the split function in explore.py\ntrain, validate, test = split(df, stratify_by=\"alleged_threat_lvl\")\n\n#check split datasets\nprint('overall shape of dataframe:', df.shape)\nprint('train:', train.shape)\nprint('validate:', validate.shape)\nprint('test:', test.shape)\n\n#work w/ training data\ntrain.head()",
   "execution_count": 14,
   "outputs": [
    {
     "name": "stdout",
     "text": "overall shape of dataframe: (13137, 37)\ntrain: (7356, 37)\nvalidate: (3153, 37)\ntest: (2628, 37)\n",
     "output_type": "stream"
    },
    {
     "output_type": "execute_result",
     "execution_count": 14,
     "data": {
      "application/vnd.deepnote.dataframe.v2+json": {
       "row_count": 5,
       "column_count": 37,
       "columns": [
        {
         "name": "unique_id",
         "dtype": "float64",
         "stats": {
          "unique_count": 5,
          "nan_count": 0,
          "min": "12221.0",
          "max": "27652.0",
          "histogram": [
           {
            "bin_start": 12221,
            "bin_end": 13764.1,
            "count": 2
           },
           {
            "bin_start": 13764.1,
            "bin_end": 15307.2,
            "count": 0
           },
           {
            "bin_start": 15307.2,
            "bin_end": 16850.3,
            "count": 0
           },
           {
            "bin_start": 16850.3,
            "bin_end": 18393.4,
            "count": 1
           },
           {
            "bin_start": 18393.4,
            "bin_end": 19936.5,
            "count": 0
           },
           {
            "bin_start": 19936.5,
            "bin_end": 21479.6,
            "count": 0
           },
           {
            "bin_start": 21479.6,
            "bin_end": 23022.699999999997,
            "count": 0
           },
           {
            "bin_start": 23022.699999999997,
            "bin_end": 24565.8,
            "count": 0
           },
           {
            "bin_start": 24565.8,
            "bin_end": 26108.9,
            "count": 0
           },
           {
            "bin_start": 26108.9,
            "bin_end": 27652,
            "count": 2
           }
          ]
         }
        },
        {
         "name": "age",
         "dtype": "float64",
         "stats": {
          "unique_count": 5,
          "nan_count": 0,
          "min": "17.0",
          "max": "61.0",
          "histogram": [
           {
            "bin_start": 17,
            "bin_end": 21.4,
            "count": 1
           },
           {
            "bin_start": 21.4,
            "bin_end": 25.8,
            "count": 0
           },
           {
            "bin_start": 25.8,
            "bin_end": 30.200000000000003,
            "count": 1
           },
           {
            "bin_start": 30.200000000000003,
            "bin_end": 34.6,
            "count": 0
           },
           {
            "bin_start": 34.6,
            "bin_end": 39,
            "count": 1
           },
           {
            "bin_start": 39,
            "bin_end": 43.400000000000006,
            "count": 0
           },
           {
            "bin_start": 43.400000000000006,
            "bin_end": 47.800000000000004,
            "count": 0
           },
           {
            "bin_start": 47.800000000000004,
            "bin_end": 52.2,
            "count": 1
           },
           {
            "bin_start": 52.2,
            "bin_end": 56.6,
            "count": 0
           },
           {
            "bin_start": 56.6,
            "bin_end": 61,
            "count": 1
           }
          ]
         }
        },
        {
         "name": "gender",
         "dtype": "object",
         "stats": {
          "unique_count": 1,
          "nan_count": 0,
          "categories": [
           {
            "name": "male",
            "count": 5
           }
          ]
         }
        },
        {
         "name": "race",
         "dtype": "object",
         "stats": {
          "unique_count": 3,
          "nan_count": 0,
          "categories": [
           {
            "name": "black",
            "count": 2
           },
           {
            "name": "white",
            "count": 2
           },
           {
            "name": "unknown_race",
            "count": 1
           }
          ]
         }
        },
        {
         "name": "date_of_injury_resulting_in_death_month_day_year",
         "dtype": "object",
         "stats": {
          "unique_count": 5,
          "nan_count": 0,
          "categories": [
           {
            "name": "2020-03-03",
            "count": 1
           },
           {
            "name": "2016-07-02 00:00:00",
            "count": 1
           },
           {
            "name": "3 others",
            "count": 3
           }
          ]
         }
        },
        {
         "name": "location_of_death_zip_code",
         "dtype": "float64",
         "stats": {
          "unique_count": 5,
          "nan_count": 0,
          "min": "1569.0",
          "max": "85032.0",
          "histogram": [
           {
            "bin_start": 1569,
            "bin_end": 9915.3,
            "count": 1
           },
           {
            "bin_start": 9915.3,
            "bin_end": 18261.6,
            "count": 0
           },
           {
            "bin_start": 18261.6,
            "bin_end": 26607.899999999998,
            "count": 0
           },
           {
            "bin_start": 26607.899999999998,
            "bin_end": 34954.2,
            "count": 3
           },
           {
            "bin_start": 34954.2,
            "bin_end": 43300.5,
            "count": 0
           },
           {
            "bin_start": 43300.5,
            "bin_end": 51646.799999999996,
            "count": 0
           },
           {
            "bin_start": 51646.799999999996,
            "bin_end": 59993.09999999999,
            "count": 0
           },
           {
            "bin_start": 59993.09999999999,
            "bin_end": 68339.4,
            "count": 0
           },
           {
            "bin_start": 68339.4,
            "bin_end": 76685.7,
            "count": 0
           },
           {
            "bin_start": 76685.7,
            "bin_end": 85032,
            "count": 1
           }
          ]
         }
        },
        {
         "name": "agency_or_agencies_involved",
         "dtype": "object",
         "stats": {
          "unique_count": 5,
          "nan_count": 0,
          "categories": [
           {
            "name": "miami-dade police department",
            "count": 1
           },
           {
            "name": "asheville police department",
            "count": 1
           },
           {
            "name": "3 others",
            "count": 3
           }
          ]
         }
        },
        {
         "name": "highest_level_of_force",
         "dtype": "object",
         "stats": {
          "unique_count": 2,
          "nan_count": 0,
          "categories": [
           {
            "name": "gunshot",
            "count": 4
           },
           {
            "name": "vehicle",
            "count": 1
           }
          ]
         }
        },
        {
         "name": "armed_unarmed",
         "dtype": "object",
         "stats": {
          "unique_count": 2,
          "nan_count": 0,
          "categories": [
           {
            "name": "armed",
            "count": 4
           },
           {
            "name": "unarmed",
            "count": 1
           }
          ]
         }
        },
        {
         "name": "alleged_weapon",
         "dtype": "object",
         "stats": {
          "unique_count": 3,
          "nan_count": 0,
          "categories": [
           {
            "name": "firearm",
            "count": 3
           },
           {
            "name": "edged weapon",
            "count": 1
           },
           {
            "name": "no_weapon",
            "count": 1
           }
          ]
         }
        },
        {
         "name": "alleged_threat_lvl",
         "dtype": "object",
         "stats": {
          "unique_count": 2,
          "nan_count": 0,
          "categories": [
           {
            "name": "threat",
            "count": 4
           },
           {
            "name": "no_threat",
            "count": 1
           }
          ]
         }
        },
        {
         "name": "fleeing_not_fleeing",
         "dtype": "object",
         "stats": {
          "unique_count": 2,
          "nan_count": 0,
          "categories": [
           {
            "name": "not_fleeing",
            "count": 3
           },
           {
            "name": "fleeing",
            "count": 2
           }
          ]
         }
        },
        {
         "name": "brief_description",
         "dtype": "object",
         "stats": {
          "unique_count": 5,
          "nan_count": 0,
          "categories": [
           {
            "name": "jose gainza allegedly stabbed and killed his daughter-in-law, ana iris rodriguez reyes, 27, then barricaded himself inside a bedroom as police entered the home. when gainza emerged from the bedroom, he reportedly ran toward officers with the knife, and they shot and killed him.",
            "count": 1
           },
           {
            "name": "police said they were called out to a report of shots fired at the pisgah view apartments. they attempted to stop a man who was driving away and who was later found at the deaverview apartments. police said a female passenger in williams' vehicle appeared to be struggling and she called for help when the vehicle stopped at the apartment complex. williams allegedly made a threat to sgt. tyler radford and displayed a weapon, who then shot and killed him.",
            "count": 1
           },
           {
            "name": "3 others",
            "count": 3
           }
          ]
         }
        },
        {
         "name": "intended_use_of_force_developing",
         "dtype": "object",
         "stats": {
          "unique_count": 2,
          "nan_count": 0,
          "categories": [
           {
            "name": "deadly force",
            "count": 4
           },
           {
            "name": "vehic/purs",
            "count": 1
           }
          ]
         }
        },
        {
         "name": "fleeing",
         "dtype": "float64",
         "stats": {
          "unique_count": 2,
          "nan_count": 0,
          "min": "0.0",
          "max": "1.0",
          "histogram": [
           {
            "bin_start": 0,
            "bin_end": 0.1,
            "count": 3
           },
           {
            "bin_start": 0.1,
            "bin_end": 0.2,
            "count": 0
           },
           {
            "bin_start": 0.2,
            "bin_end": 0.30000000000000004,
            "count": 0
           },
           {
            "bin_start": 0.30000000000000004,
            "bin_end": 0.4,
            "count": 0
           },
           {
            "bin_start": 0.4,
            "bin_end": 0.5,
            "count": 0
           },
           {
            "bin_start": 0.5,
            "bin_end": 0.6000000000000001,
            "count": 0
           },
           {
            "bin_start": 0.6000000000000001,
            "bin_end": 0.7000000000000001,
            "count": 0
           },
           {
            "bin_start": 0.7000000000000001,
            "bin_end": 0.8,
            "count": 0
           },
           {
            "bin_start": 0.8,
            "bin_end": 0.9,
            "count": 0
           },
           {
            "bin_start": 0.9,
            "bin_end": 1,
            "count": 2
           }
          ]
         }
        },
        {
         "name": "age_bins",
         "dtype": "object",
         "stats": {
          "unique_count": 5,
          "nan_count": 0,
          "categories": [
           {
            "name": "45-54",
            "count": 1
           },
           {
            "name": "35-44",
            "count": 1
           },
           {
            "name": "3 others",
            "count": 3
           }
          ]
         }
        },
        {
         "name": "is_asian_pacific islander",
         "dtype": "int64",
         "stats": {
          "unique_count": 1,
          "nan_count": 0,
          "min": "0",
          "max": "0",
          "histogram": [
           {
            "bin_start": -0.5,
            "bin_end": -0.4,
            "count": 0
           },
           {
            "bin_start": -0.4,
            "bin_end": -0.3,
            "count": 0
           },
           {
            "bin_start": -0.3,
            "bin_end": -0.19999999999999996,
            "count": 0
           },
           {
            "bin_start": -0.19999999999999996,
            "bin_end": -0.09999999999999998,
            "count": 0
           },
           {
            "bin_start": -0.09999999999999998,
            "bin_end": 0,
            "count": 0
           },
           {
            "bin_start": 0,
            "bin_end": 0.10000000000000009,
            "count": 5
           },
           {
            "bin_start": 0.10000000000000009,
            "bin_end": 0.20000000000000007,
            "count": 0
           },
           {
            "bin_start": 0.20000000000000007,
            "bin_end": 0.30000000000000004,
            "count": 0
           },
           {
            "bin_start": 0.30000000000000004,
            "bin_end": 0.4,
            "count": 0
           },
           {
            "bin_start": 0.4,
            "bin_end": 0.5,
            "count": 0
           }
          ]
         }
        },
        {
         "name": "is_black",
         "dtype": "int64",
         "stats": {
          "unique_count": 2,
          "nan_count": 0,
          "min": "0",
          "max": "1",
          "histogram": [
           {
            "bin_start": 0,
            "bin_end": 0.1,
            "count": 3
           },
           {
            "bin_start": 0.1,
            "bin_end": 0.2,
            "count": 0
           },
           {
            "bin_start": 0.2,
            "bin_end": 0.30000000000000004,
            "count": 0
           },
           {
            "bin_start": 0.30000000000000004,
            "bin_end": 0.4,
            "count": 0
           },
           {
            "bin_start": 0.4,
            "bin_end": 0.5,
            "count": 0
           },
           {
            "bin_start": 0.5,
            "bin_end": 0.6000000000000001,
            "count": 0
           },
           {
            "bin_start": 0.6000000000000001,
            "bin_end": 0.7000000000000001,
            "count": 0
           },
           {
            "bin_start": 0.7000000000000001,
            "bin_end": 0.8,
            "count": 0
           },
           {
            "bin_start": 0.8,
            "bin_end": 0.9,
            "count": 0
           },
           {
            "bin_start": 0.9,
            "bin_end": 1,
            "count": 2
           }
          ]
         }
        },
        {
         "name": "is_hispanic",
         "dtype": "int64",
         "stats": {
          "unique_count": 1,
          "nan_count": 0,
          "min": "0",
          "max": "0",
          "histogram": [
           {
            "bin_start": -0.5,
            "bin_end": -0.4,
            "count": 0
           },
           {
            "bin_start": -0.4,
            "bin_end": -0.3,
            "count": 0
           },
           {
            "bin_start": -0.3,
            "bin_end": -0.19999999999999996,
            "count": 0
           },
           {
            "bin_start": -0.19999999999999996,
            "bin_end": -0.09999999999999998,
            "count": 0
           },
           {
            "bin_start": -0.09999999999999998,
            "bin_end": 0,
            "count": 0
           },
           {
            "bin_start": 0,
            "bin_end": 0.10000000000000009,
            "count": 5
           },
           {
            "bin_start": 0.10000000000000009,
            "bin_end": 0.20000000000000007,
            "count": 0
           },
           {
            "bin_start": 0.20000000000000007,
            "bin_end": 0.30000000000000004,
            "count": 0
           },
           {
            "bin_start": 0.30000000000000004,
            "bin_end": 0.4,
            "count": 0
           },
           {
            "bin_start": 0.4,
            "bin_end": 0.5,
            "count": 0
           }
          ]
         }
        },
        {
         "name": "is_middle eastern",
         "dtype": "int64",
         "stats": {
          "unique_count": 1,
          "nan_count": 0,
          "min": "0",
          "max": "0",
          "histogram": [
           {
            "bin_start": -0.5,
            "bin_end": -0.4,
            "count": 0
           },
           {
            "bin_start": -0.4,
            "bin_end": -0.3,
            "count": 0
           },
           {
            "bin_start": -0.3,
            "bin_end": -0.19999999999999996,
            "count": 0
           },
           {
            "bin_start": -0.19999999999999996,
            "bin_end": -0.09999999999999998,
            "count": 0
           },
           {
            "bin_start": -0.09999999999999998,
            "bin_end": 0,
            "count": 0
           },
           {
            "bin_start": 0,
            "bin_end": 0.10000000000000009,
            "count": 5
           },
           {
            "bin_start": 0.10000000000000009,
            "bin_end": 0.20000000000000007,
            "count": 0
           },
           {
            "bin_start": 0.20000000000000007,
            "bin_end": 0.30000000000000004,
            "count": 0
           },
           {
            "bin_start": 0.30000000000000004,
            "bin_end": 0.4,
            "count": 0
           },
           {
            "bin_start": 0.4,
            "bin_end": 0.5,
            "count": 0
           }
          ]
         }
        },
        {
         "name": "is_native_american",
         "dtype": "int64",
         "stats": {
          "unique_count": 1,
          "nan_count": 0,
          "min": "0",
          "max": "0",
          "histogram": [
           {
            "bin_start": -0.5,
            "bin_end": -0.4,
            "count": 0
           },
           {
            "bin_start": -0.4,
            "bin_end": -0.3,
            "count": 0
           },
           {
            "bin_start": -0.3,
            "bin_end": -0.19999999999999996,
            "count": 0
           },
           {
            "bin_start": -0.19999999999999996,
            "bin_end": -0.09999999999999998,
            "count": 0
           },
           {
            "bin_start": -0.09999999999999998,
            "bin_end": 0,
            "count": 0
           },
           {
            "bin_start": 0,
            "bin_end": 0.10000000000000009,
            "count": 5
           },
           {
            "bin_start": 0.10000000000000009,
            "bin_end": 0.20000000000000007,
            "count": 0
           },
           {
            "bin_start": 0.20000000000000007,
            "bin_end": 0.30000000000000004,
            "count": 0
           },
           {
            "bin_start": 0.30000000000000004,
            "bin_end": 0.4,
            "count": 0
           },
           {
            "bin_start": 0.4,
            "bin_end": 0.5,
            "count": 0
           }
          ]
         }
        },
        {
         "name": "is_unknown_race",
         "dtype": "int64",
         "stats": {
          "unique_count": 2,
          "nan_count": 0,
          "min": "0",
          "max": "1",
          "histogram": [
           {
            "bin_start": 0,
            "bin_end": 0.1,
            "count": 4
           },
           {
            "bin_start": 0.1,
            "bin_end": 0.2,
            "count": 0
           },
           {
            "bin_start": 0.2,
            "bin_end": 0.30000000000000004,
            "count": 0
           },
           {
            "bin_start": 0.30000000000000004,
            "bin_end": 0.4,
            "count": 0
           },
           {
            "bin_start": 0.4,
            "bin_end": 0.5,
            "count": 0
           },
           {
            "bin_start": 0.5,
            "bin_end": 0.6000000000000001,
            "count": 0
           },
           {
            "bin_start": 0.6000000000000001,
            "bin_end": 0.7000000000000001,
            "count": 0
           },
           {
            "bin_start": 0.7000000000000001,
            "bin_end": 0.8,
            "count": 0
           },
           {
            "bin_start": 0.8,
            "bin_end": 0.9,
            "count": 0
           },
           {
            "bin_start": 0.9,
            "bin_end": 1,
            "count": 1
           }
          ]
         }
        },
        {
         "name": "is_white",
         "dtype": "int64",
         "stats": {
          "unique_count": 2,
          "nan_count": 0,
          "min": "0",
          "max": "1",
          "histogram": [
           {
            "bin_start": 0,
            "bin_end": 0.1,
            "count": 3
           },
           {
            "bin_start": 0.1,
            "bin_end": 0.2,
            "count": 0
           },
           {
            "bin_start": 0.2,
            "bin_end": 0.30000000000000004,
            "count": 0
           },
           {
            "bin_start": 0.30000000000000004,
            "bin_end": 0.4,
            "count": 0
           },
           {
            "bin_start": 0.4,
            "bin_end": 0.5,
            "count": 0
           },
           {
            "bin_start": 0.5,
            "bin_end": 0.6000000000000001,
            "count": 0
           },
           {
            "bin_start": 0.6000000000000001,
            "bin_end": 0.7000000000000001,
            "count": 0
           },
           {
            "bin_start": 0.7000000000000001,
            "bin_end": 0.8,
            "count": 0
           },
           {
            "bin_start": 0.8,
            "bin_end": 0.9,
            "count": 0
           },
           {
            "bin_start": 0.9,
            "bin_end": 1,
            "count": 2
           }
          ]
         }
        },
        {
         "name": "is_unarmed",
         "dtype": "int64",
         "stats": {
          "unique_count": 2,
          "nan_count": 0,
          "min": "0",
          "max": "1",
          "histogram": [
           {
            "bin_start": 0,
            "bin_end": 0.1,
            "count": 4
           },
           {
            "bin_start": 0.1,
            "bin_end": 0.2,
            "count": 0
           },
           {
            "bin_start": 0.2,
            "bin_end": 0.30000000000000004,
            "count": 0
           },
           {
            "bin_start": 0.30000000000000004,
            "bin_end": 0.4,
            "count": 0
           },
           {
            "bin_start": 0.4,
            "bin_end": 0.5,
            "count": 0
           },
           {
            "bin_start": 0.5,
            "bin_end": 0.6000000000000001,
            "count": 0
           },
           {
            "bin_start": 0.6000000000000001,
            "bin_end": 0.7000000000000001,
            "count": 0
           },
           {
            "bin_start": 0.7000000000000001,
            "bin_end": 0.8,
            "count": 0
           },
           {
            "bin_start": 0.8,
            "bin_end": 0.9,
            "count": 0
           },
           {
            "bin_start": 0.9,
            "bin_end": 1,
            "count": 1
           }
          ]
         }
        },
        {
         "name": "had_blunt object",
         "dtype": "int64",
         "stats": {
          "unique_count": 1,
          "nan_count": 0,
          "min": "0",
          "max": "0",
          "histogram": [
           {
            "bin_start": -0.5,
            "bin_end": -0.4,
            "count": 0
           },
           {
            "bin_start": -0.4,
            "bin_end": -0.3,
            "count": 0
           },
           {
            "bin_start": -0.3,
            "bin_end": -0.19999999999999996,
            "count": 0
           },
           {
            "bin_start": -0.19999999999999996,
            "bin_end": -0.09999999999999998,
            "count": 0
           },
           {
            "bin_start": -0.09999999999999998,
            "bin_end": 0,
            "count": 0
           },
           {
            "bin_start": 0,
            "bin_end": 0.10000000000000009,
            "count": 5
           },
           {
            "bin_start": 0.10000000000000009,
            "bin_end": 0.20000000000000007,
            "count": 0
           },
           {
            "bin_start": 0.20000000000000007,
            "bin_end": 0.30000000000000004,
            "count": 0
           },
           {
            "bin_start": 0.30000000000000004,
            "bin_end": 0.4,
            "count": 0
           },
           {
            "bin_start": 0.4,
            "bin_end": 0.5,
            "count": 0
           }
          ]
         }
        },
        {
         "name": "had_edged weapon",
         "dtype": "int64",
         "stats": {
          "unique_count": 2,
          "nan_count": 0,
          "min": "0",
          "max": "1",
          "histogram": [
           {
            "bin_start": 0,
            "bin_end": 0.1,
            "count": 4
           },
           {
            "bin_start": 0.1,
            "bin_end": 0.2,
            "count": 0
           },
           {
            "bin_start": 0.2,
            "bin_end": 0.30000000000000004,
            "count": 0
           },
           {
            "bin_start": 0.30000000000000004,
            "bin_end": 0.4,
            "count": 0
           },
           {
            "bin_start": 0.4,
            "bin_end": 0.5,
            "count": 0
           },
           {
            "bin_start": 0.5,
            "bin_end": 0.6000000000000001,
            "count": 0
           },
           {
            "bin_start": 0.6000000000000001,
            "bin_end": 0.7000000000000001,
            "count": 0
           },
           {
            "bin_start": 0.7000000000000001,
            "bin_end": 0.8,
            "count": 0
           },
           {
            "bin_start": 0.8,
            "bin_end": 0.9,
            "count": 0
           },
           {
            "bin_start": 0.9,
            "bin_end": 1,
            "count": 1
           }
          ]
         }
        },
        {
         "name": "had_firearm",
         "dtype": "int64",
         "stats": {
          "unique_count": 2,
          "nan_count": 0,
          "min": "0",
          "max": "1",
          "histogram": [
           {
            "bin_start": 0,
            "bin_end": 0.1,
            "count": 2
           },
           {
            "bin_start": 0.1,
            "bin_end": 0.2,
            "count": 0
           },
           {
            "bin_start": 0.2,
            "bin_end": 0.30000000000000004,
            "count": 0
           },
           {
            "bin_start": 0.30000000000000004,
            "bin_end": 0.4,
            "count": 0
           },
           {
            "bin_start": 0.4,
            "bin_end": 0.5,
            "count": 0
           },
           {
            "bin_start": 0.5,
            "bin_end": 0.6000000000000001,
            "count": 0
           },
           {
            "bin_start": 0.6000000000000001,
            "bin_end": 0.7000000000000001,
            "count": 0
           },
           {
            "bin_start": 0.7000000000000001,
            "bin_end": 0.8,
            "count": 0
           },
           {
            "bin_start": 0.8,
            "bin_end": 0.9,
            "count": 0
           },
           {
            "bin_start": 0.9,
            "bin_end": 1,
            "count": 3
           }
          ]
         }
        },
        {
         "name": "had_no_weapon",
         "dtype": "int64",
         "stats": {
          "unique_count": 2,
          "nan_count": 0,
          "min": "0",
          "max": "1",
          "histogram": [
           {
            "bin_start": 0,
            "bin_end": 0.1,
            "count": 4
           },
           {
            "bin_start": 0.1,
            "bin_end": 0.2,
            "count": 0
           },
           {
            "bin_start": 0.2,
            "bin_end": 0.30000000000000004,
            "count": 0
           },
           {
            "bin_start": 0.30000000000000004,
            "bin_end": 0.4,
            "count": 0
           },
           {
            "bin_start": 0.4,
            "bin_end": 0.5,
            "count": 0
           },
           {
            "bin_start": 0.5,
            "bin_end": 0.6000000000000001,
            "count": 0
           },
           {
            "bin_start": 0.6000000000000001,
            "bin_end": 0.7000000000000001,
            "count": 0
           },
           {
            "bin_start": 0.7000000000000001,
            "bin_end": 0.8,
            "count": 0
           },
           {
            "bin_start": 0.8,
            "bin_end": 0.9,
            "count": 0
           },
           {
            "bin_start": 0.9,
            "bin_end": 1,
            "count": 1
           }
          ]
         }
        },
        {
         "name": "had_other_weapon",
         "dtype": "int64",
         "stats": {
          "unique_count": 1,
          "nan_count": 0,
          "min": "0",
          "max": "0",
          "histogram": [
           {
            "bin_start": -0.5,
            "bin_end": -0.4,
            "count": 0
           },
           {
            "bin_start": -0.4,
            "bin_end": -0.3,
            "count": 0
           },
           {
            "bin_start": -0.3,
            "bin_end": -0.19999999999999996,
            "count": 0
           },
           {
            "bin_start": -0.19999999999999996,
            "bin_end": -0.09999999999999998,
            "count": 0
           },
           {
            "bin_start": -0.09999999999999998,
            "bin_end": 0,
            "count": 0
           },
           {
            "bin_start": 0,
            "bin_end": 0.10000000000000009,
            "count": 5
           },
           {
            "bin_start": 0.10000000000000009,
            "bin_end": 0.20000000000000007,
            "count": 0
           },
           {
            "bin_start": 0.20000000000000007,
            "bin_end": 0.30000000000000004,
            "count": 0
           },
           {
            "bin_start": 0.30000000000000004,
            "bin_end": 0.4,
            "count": 0
           },
           {
            "bin_start": 0.4,
            "bin_end": 0.5,
            "count": 0
           }
          ]
         }
        },
        {
         "name": "under 12",
         "dtype": "float64",
         "stats": {
          "unique_count": 1,
          "nan_count": 0,
          "min": "0.0",
          "max": "0.0",
          "histogram": [
           {
            "bin_start": -0.5,
            "bin_end": -0.4,
            "count": 0
           },
           {
            "bin_start": -0.4,
            "bin_end": -0.3,
            "count": 0
           },
           {
            "bin_start": -0.3,
            "bin_end": -0.19999999999999996,
            "count": 0
           },
           {
            "bin_start": -0.19999999999999996,
            "bin_end": -0.09999999999999998,
            "count": 0
           },
           {
            "bin_start": -0.09999999999999998,
            "bin_end": 0,
            "count": 0
           },
           {
            "bin_start": 0,
            "bin_end": 0.10000000000000009,
            "count": 5
           },
           {
            "bin_start": 0.10000000000000009,
            "bin_end": 0.20000000000000007,
            "count": 0
           },
           {
            "bin_start": 0.20000000000000007,
            "bin_end": 0.30000000000000004,
            "count": 0
           },
           {
            "bin_start": 0.30000000000000004,
            "bin_end": 0.4,
            "count": 0
           },
           {
            "bin_start": 0.4,
            "bin_end": 0.5,
            "count": 0
           }
          ]
         }
        },
        {
         "name": "12-17",
         "dtype": "float64",
         "stats": {
          "unique_count": 2,
          "nan_count": 0,
          "min": "0.0",
          "max": "1.0",
          "histogram": [
           {
            "bin_start": 0,
            "bin_end": 0.1,
            "count": 4
           },
           {
            "bin_start": 0.1,
            "bin_end": 0.2,
            "count": 0
           },
           {
            "bin_start": 0.2,
            "bin_end": 0.30000000000000004,
            "count": 0
           },
           {
            "bin_start": 0.30000000000000004,
            "bin_end": 0.4,
            "count": 0
           },
           {
            "bin_start": 0.4,
            "bin_end": 0.5,
            "count": 0
           },
           {
            "bin_start": 0.5,
            "bin_end": 0.6000000000000001,
            "count": 0
           },
           {
            "bin_start": 0.6000000000000001,
            "bin_end": 0.7000000000000001,
            "count": 0
           },
           {
            "bin_start": 0.7000000000000001,
            "bin_end": 0.8,
            "count": 0
           },
           {
            "bin_start": 0.8,
            "bin_end": 0.9,
            "count": 0
           },
           {
            "bin_start": 0.9,
            "bin_end": 1,
            "count": 1
           }
          ]
         }
        },
        {
         "name": "18-24",
         "dtype": "float64",
         "stats": {
          "unique_count": 1,
          "nan_count": 0,
          "min": "0.0",
          "max": "0.0",
          "histogram": [
           {
            "bin_start": -0.5,
            "bin_end": -0.4,
            "count": 0
           },
           {
            "bin_start": -0.4,
            "bin_end": -0.3,
            "count": 0
           },
           {
            "bin_start": -0.3,
            "bin_end": -0.19999999999999996,
            "count": 0
           },
           {
            "bin_start": -0.19999999999999996,
            "bin_end": -0.09999999999999998,
            "count": 0
           },
           {
            "bin_start": -0.09999999999999998,
            "bin_end": 0,
            "count": 0
           },
           {
            "bin_start": 0,
            "bin_end": 0.10000000000000009,
            "count": 5
           },
           {
            "bin_start": 0.10000000000000009,
            "bin_end": 0.20000000000000007,
            "count": 0
           },
           {
            "bin_start": 0.20000000000000007,
            "bin_end": 0.30000000000000004,
            "count": 0
           },
           {
            "bin_start": 0.30000000000000004,
            "bin_end": 0.4,
            "count": 0
           },
           {
            "bin_start": 0.4,
            "bin_end": 0.5,
            "count": 0
           }
          ]
         }
        },
        {
         "name": "25-34",
         "dtype": "float64",
         "stats": {
          "unique_count": 2,
          "nan_count": 0,
          "min": "0.0",
          "max": "1.0",
          "histogram": [
           {
            "bin_start": 0,
            "bin_end": 0.1,
            "count": 4
           },
           {
            "bin_start": 0.1,
            "bin_end": 0.2,
            "count": 0
           },
           {
            "bin_start": 0.2,
            "bin_end": 0.30000000000000004,
            "count": 0
           },
           {
            "bin_start": 0.30000000000000004,
            "bin_end": 0.4,
            "count": 0
           },
           {
            "bin_start": 0.4,
            "bin_end": 0.5,
            "count": 0
           },
           {
            "bin_start": 0.5,
            "bin_end": 0.6000000000000001,
            "count": 0
           },
           {
            "bin_start": 0.6000000000000001,
            "bin_end": 0.7000000000000001,
            "count": 0
           },
           {
            "bin_start": 0.7000000000000001,
            "bin_end": 0.8,
            "count": 0
           },
           {
            "bin_start": 0.8,
            "bin_end": 0.9,
            "count": 0
           },
           {
            "bin_start": 0.9,
            "bin_end": 1,
            "count": 1
           }
          ]
         }
        },
        {
         "name": "35-44",
         "dtype": "float64",
         "stats": {
          "unique_count": 2,
          "nan_count": 0,
          "min": "0.0",
          "max": "1.0",
          "histogram": [
           {
            "bin_start": 0,
            "bin_end": 0.1,
            "count": 4
           },
           {
            "bin_start": 0.1,
            "bin_end": 0.2,
            "count": 0
           },
           {
            "bin_start": 0.2,
            "bin_end": 0.30000000000000004,
            "count": 0
           },
           {
            "bin_start": 0.30000000000000004,
            "bin_end": 0.4,
            "count": 0
           },
           {
            "bin_start": 0.4,
            "bin_end": 0.5,
            "count": 0
           },
           {
            "bin_start": 0.5,
            "bin_end": 0.6000000000000001,
            "count": 0
           },
           {
            "bin_start": 0.6000000000000001,
            "bin_end": 0.7000000000000001,
            "count": 0
           },
           {
            "bin_start": 0.7000000000000001,
            "bin_end": 0.8,
            "count": 0
           },
           {
            "bin_start": 0.8,
            "bin_end": 0.9,
            "count": 0
           },
           {
            "bin_start": 0.9,
            "bin_end": 1,
            "count": 1
           }
          ]
         }
        },
        {
         "name": "45-54",
         "dtype": "float64",
         "stats": {
          "unique_count": 2,
          "nan_count": 0,
          "min": "0.0",
          "max": "1.0",
          "histogram": [
           {
            "bin_start": 0,
            "bin_end": 0.1,
            "count": 4
           },
           {
            "bin_start": 0.1,
            "bin_end": 0.2,
            "count": 0
           },
           {
            "bin_start": 0.2,
            "bin_end": 0.30000000000000004,
            "count": 0
           },
           {
            "bin_start": 0.30000000000000004,
            "bin_end": 0.4,
            "count": 0
           },
           {
            "bin_start": 0.4,
            "bin_end": 0.5,
            "count": 0
           },
           {
            "bin_start": 0.5,
            "bin_end": 0.6000000000000001,
            "count": 0
           },
           {
            "bin_start": 0.6000000000000001,
            "bin_end": 0.7000000000000001,
            "count": 0
           },
           {
            "bin_start": 0.7000000000000001,
            "bin_end": 0.8,
            "count": 0
           },
           {
            "bin_start": 0.8,
            "bin_end": 0.9,
            "count": 0
           },
           {
            "bin_start": 0.9,
            "bin_end": 1,
            "count": 1
           }
          ]
         }
        },
        {
         "name": "55-64",
         "dtype": "float64",
         "stats": {
          "unique_count": 2,
          "nan_count": 0,
          "min": "0.0",
          "max": "1.0",
          "histogram": [
           {
            "bin_start": 0,
            "bin_end": 0.1,
            "count": 4
           },
           {
            "bin_start": 0.1,
            "bin_end": 0.2,
            "count": 0
           },
           {
            "bin_start": 0.2,
            "bin_end": 0.30000000000000004,
            "count": 0
           },
           {
            "bin_start": 0.30000000000000004,
            "bin_end": 0.4,
            "count": 0
           },
           {
            "bin_start": 0.4,
            "bin_end": 0.5,
            "count": 0
           },
           {
            "bin_start": 0.5,
            "bin_end": 0.6000000000000001,
            "count": 0
           },
           {
            "bin_start": 0.6000000000000001,
            "bin_end": 0.7000000000000001,
            "count": 0
           },
           {
            "bin_start": 0.7000000000000001,
            "bin_end": 0.8,
            "count": 0
           },
           {
            "bin_start": 0.8,
            "bin_end": 0.9,
            "count": 0
           },
           {
            "bin_start": 0.9,
            "bin_end": 1,
            "count": 1
           }
          ]
         }
        },
        {
         "name": "65+",
         "dtype": "float64",
         "stats": {
          "unique_count": 1,
          "nan_count": 0,
          "min": "0.0",
          "max": "0.0",
          "histogram": [
           {
            "bin_start": -0.5,
            "bin_end": -0.4,
            "count": 0
           },
           {
            "bin_start": -0.4,
            "bin_end": -0.3,
            "count": 0
           },
           {
            "bin_start": -0.3,
            "bin_end": -0.19999999999999996,
            "count": 0
           },
           {
            "bin_start": -0.19999999999999996,
            "bin_end": -0.09999999999999998,
            "count": 0
           },
           {
            "bin_start": -0.09999999999999998,
            "bin_end": 0,
            "count": 0
           },
           {
            "bin_start": 0,
            "bin_end": 0.10000000000000009,
            "count": 5
           },
           {
            "bin_start": 0.10000000000000009,
            "bin_end": 0.20000000000000007,
            "count": 0
           },
           {
            "bin_start": 0.20000000000000007,
            "bin_end": 0.30000000000000004,
            "count": 0
           },
           {
            "bin_start": 0.30000000000000004,
            "bin_end": 0.4,
            "count": 0
           },
           {
            "bin_start": 0.4,
            "bin_end": 0.5,
            "count": 0
           }
          ]
         }
        },
        {
         "name": "_deepnote_index_column",
         "dtype": "int64"
        }
       ],
       "rows_top": [
        {
         "unique_id": 27652,
         "age": 48,
         "gender": "male",
         "race": "unknown_race",
         "date_of_injury_resulting_in_death_month_day_year": "2020-03-03",
         "location_of_death_zip_code": 33187,
         "agency_or_agencies_involved": "miami-dade police department",
         "highest_level_of_force": "gunshot",
         "armed_unarmed": "armed",
         "alleged_weapon": "edged weapon",
         "alleged_threat_lvl": "threat",
         "fleeing_not_fleeing": "not_fleeing",
         "brief_description": "jose gainza allegedly stabbed and killed his daughter-in-law, ana iris rodriguez reyes, 27, then ba…",
         "intended_use_of_force_developing": "deadly force",
         "fleeing": 0,
         "age_bins": "45-54",
         "is_asian_pacific islander": 0,
         "is_black": 0,
         "is_hispanic": 0,
         "is_middle eastern": 0,
         "is_native_american": 0,
         "is_unknown_race": 1,
         "is_white": 0,
         "is_unarmed": 0,
         "had_blunt object": 0,
         "had_edged weapon": 1,
         "had_firearm": 0,
         "had_no_weapon": 0,
         "had_other_weapon": 0,
         "under 12": 0,
         "12-17": 0,
         "18-24": 0,
         "25-34": 0,
         "35-44": 0,
         "45-54": 1,
         "55-64": 0,
         "65+": 0,
         "_deepnote_index_column": 12025
        },
        {
         "unique_id": 17870,
         "age": 35,
         "gender": "male",
         "race": "black",
         "date_of_injury_resulting_in_death_month_day_year": "2016-07-02 00:00:00",
         "location_of_death_zip_code": 28806,
         "agency_or_agencies_involved": "asheville police department",
         "highest_level_of_force": "gunshot",
         "armed_unarmed": "armed",
         "alleged_weapon": "firearm",
         "alleged_threat_lvl": "threat",
         "fleeing_not_fleeing": "fleeing",
         "brief_description": "police said they were called out to a report of shots fired at the pisgah view apartments. they att…",
         "intended_use_of_force_developing": "deadly force",
         "fleeing": 1,
         "age_bins": "35-44",
         "is_asian_pacific islander": 0,
         "is_black": 1,
         "is_hispanic": 0,
         "is_middle eastern": 0,
         "is_native_american": 0,
         "is_unknown_race": 0,
         "is_white": 0,
         "is_unarmed": 0,
         "had_blunt object": 0,
         "had_edged weapon": 0,
         "had_firearm": 1,
         "had_no_weapon": 0,
         "had_other_weapon": 0,
         "under 12": 0,
         "12-17": 0,
         "18-24": 0,
         "25-34": 0,
         "35-44": 1,
         "45-54": 0,
         "55-64": 0,
         "65+": 0,
         "_deepnote_index_column": 5781
        },
        {
         "unique_id": 26220,
         "age": 61,
         "gender": "male",
         "race": "white",
         "date_of_injury_resulting_in_death_month_day_year": "2019-06-24",
         "location_of_death_zip_code": 34224,
         "agency_or_agencies_involved": "charlotte county sheriff's office",
         "highest_level_of_force": "gunshot",
         "armed_unarmed": "armed",
         "alleged_weapon": "firearm",
         "alleged_threat_lvl": "threat",
         "fleeing_not_fleeing": "not_fleeing",
         "brief_description": "around 9 p.m., a call came into 911 that bradley rundle had fired his gun multiple times inside a h…",
         "intended_use_of_force_developing": "deadly force",
         "fleeing": 0,
         "age_bins": "55-64",
         "is_asian_pacific islander": 0,
         "is_black": 0,
         "is_hispanic": 0,
         "is_middle eastern": 0,
         "is_native_american": 0,
         "is_unknown_race": 0,
         "is_white": 1,
         "is_unarmed": 0,
         "had_blunt object": 0,
         "had_edged weapon": 0,
         "had_firearm": 1,
         "had_no_weapon": 0,
         "had_other_weapon": 0,
         "under 12": 0,
         "12-17": 0,
         "18-24": 0,
         "25-34": 0,
         "35-44": 0,
         "45-54": 0,
         "55-64": 1,
         "65+": 0,
         "_deepnote_index_column": 10778
        },
        {
         "unique_id": 12221,
         "age": 17,
         "gender": "male",
         "race": "black",
         "date_of_injury_resulting_in_death_month_day_year": "2013-01-11",
         "location_of_death_zip_code": 1569,
         "agency_or_agencies_involved": "uxbridge police department",
         "highest_level_of_force": "vehicle",
         "armed_unarmed": "unarmed",
         "alleged_weapon": "no_weapon",
         "alleged_threat_lvl": "no_threat",
         "fleeing_not_fleeing": "fleeing",
         "brief_description": "rome alexander ives, the driver of a stolen ford explorer, died after crashing into a pickup truck …",
         "intended_use_of_force_developing": "vehic/purs",
         "fleeing": 1,
         "age_bins": "12-17",
         "is_asian_pacific islander": 0,
         "is_black": 1,
         "is_hispanic": 0,
         "is_middle eastern": 0,
         "is_native_american": 0,
         "is_unknown_race": 0,
         "is_white": 0,
         "is_unarmed": 1,
         "had_blunt object": 0,
         "had_edged weapon": 0,
         "had_firearm": 0,
         "had_no_weapon": 1,
         "had_other_weapon": 0,
         "under 12": 0,
         "12-17": 1,
         "18-24": 0,
         "25-34": 0,
         "35-44": 0,
         "45-54": 0,
         "55-64": 0,
         "65+": 0,
         "_deepnote_index_column": 58
        },
        {
         "unique_id": 13305,
         "age": 29,
         "gender": "male",
         "race": "white",
         "date_of_injury_resulting_in_death_month_day_year": "2013-08-23",
         "location_of_death_zip_code": 85032,
         "agency_or_agencies_involved": "mesa police department",
         "highest_level_of_force": "gunshot",
         "armed_unarmed": "armed",
         "alleged_weapon": "firearm",
         "alleged_threat_lvl": "threat",
         "fleeing_not_fleeing": "not_fleeing",
         "brief_description": "officers attempted to detain jonathan tricarico after the 29-year-old was observed driving a stolen…",
         "intended_use_of_force_developing": "deadly force",
         "fleeing": 0,
         "age_bins": "25-34",
         "is_asian_pacific islander": 0,
         "is_black": 0,
         "is_hispanic": 0,
         "is_middle eastern": 0,
         "is_native_american": 0,
         "is_unknown_race": 0,
         "is_white": 1,
         "is_unarmed": 0,
         "had_blunt object": 0,
         "had_edged weapon": 0,
         "had_firearm": 1,
         "had_no_weapon": 0,
         "had_other_weapon": 0,
         "under 12": 0,
         "12-17": 0,
         "18-24": 0,
         "25-34": 1,
         "35-44": 0,
         "45-54": 0,
         "55-64": 0,
         "65+": 0,
         "_deepnote_index_column": 1127
        }
       ],
       "rows_bottom": null
      },
      "text/plain": "       unique_id   age gender          race  \\\n12025    27652.0  48.0   male  unknown_race   \n5781     17870.0  35.0   male         black   \n10778    26220.0  61.0   male         white   \n58       12221.0  17.0   male         black   \n1127     13305.0  29.0   male         white   \n\n      date_of_injury_resulting_in_death_month_day_year  \\\n12025                                       2020-03-03   \n5781                               2016-07-02 00:00:00   \n10778                                       2019-06-24   \n58                                          2013-01-11   \n1127                                        2013-08-23   \n\n       location_of_death_zip_code        agency_or_agencies_involved  \\\n12025                     33187.0       miami-dade police department   \n5781                      28806.0        asheville police department   \n10778                     34224.0  charlotte county sheriff's office   \n58                         1569.0         uxbridge police department   \n1127                      85032.0             mesa police department   \n\n      highest_level_of_force armed_unarmed alleged_weapon  ... had_no_weapon  \\\n12025                gunshot         armed   edged weapon  ...             0   \n5781                 gunshot         armed        firearm  ...             0   \n10778                gunshot         armed        firearm  ...             0   \n58                   vehicle       unarmed      no_weapon  ...             1   \n1127                 gunshot         armed        firearm  ...             0   \n\n      had_other_weapon under 12 12-17  18-24 25-34  35-44  45-54  55-64  65+  \n12025                0      0.0   0.0    0.0   0.0    0.0    1.0    0.0  0.0  \n5781                 0      0.0   0.0    0.0   0.0    1.0    0.0    0.0  0.0  \n10778                0      0.0   0.0    0.0   0.0    0.0    0.0    1.0  0.0  \n58                   0      0.0   1.0    0.0   0.0    0.0    0.0    0.0  0.0  \n1127                 0      0.0   0.0    0.0   1.0    0.0    0.0    0.0  0.0  \n\n[5 rows x 37 columns]",
      "text/html": "<div>\n<style scoped>\n    .dataframe tbody tr th:only-of-type {\n        vertical-align: middle;\n    }\n\n    .dataframe tbody tr th {\n        vertical-align: top;\n    }\n\n    .dataframe thead th {\n        text-align: right;\n    }\n</style>\n<table border=\"1\" class=\"dataframe\">\n  <thead>\n    <tr style=\"text-align: right;\">\n      <th></th>\n      <th>unique_id</th>\n      <th>age</th>\n      <th>gender</th>\n      <th>race</th>\n      <th>date_of_injury_resulting_in_death_month_day_year</th>\n      <th>location_of_death_zip_code</th>\n      <th>agency_or_agencies_involved</th>\n      <th>highest_level_of_force</th>\n      <th>armed_unarmed</th>\n      <th>alleged_weapon</th>\n      <th>...</th>\n      <th>had_no_weapon</th>\n      <th>had_other_weapon</th>\n      <th>under 12</th>\n      <th>12-17</th>\n      <th>18-24</th>\n      <th>25-34</th>\n      <th>35-44</th>\n      <th>45-54</th>\n      <th>55-64</th>\n      <th>65+</th>\n    </tr>\n  </thead>\n  <tbody>\n    <tr>\n      <th>12025</th>\n      <td>27652.0</td>\n      <td>48.0</td>\n      <td>male</td>\n      <td>unknown_race</td>\n      <td>2020-03-03</td>\n      <td>33187.0</td>\n      <td>miami-dade police department</td>\n      <td>gunshot</td>\n      <td>armed</td>\n      <td>edged weapon</td>\n      <td>...</td>\n      <td>0</td>\n      <td>0</td>\n      <td>0.0</td>\n      <td>0.0</td>\n      <td>0.0</td>\n      <td>0.0</td>\n      <td>0.0</td>\n      <td>1.0</td>\n      <td>0.0</td>\n      <td>0.0</td>\n    </tr>\n    <tr>\n      <th>5781</th>\n      <td>17870.0</td>\n      <td>35.0</td>\n      <td>male</td>\n      <td>black</td>\n      <td>2016-07-02 00:00:00</td>\n      <td>28806.0</td>\n      <td>asheville police department</td>\n      <td>gunshot</td>\n      <td>armed</td>\n      <td>firearm</td>\n      <td>...</td>\n      <td>0</td>\n      <td>0</td>\n      <td>0.0</td>\n      <td>0.0</td>\n      <td>0.0</td>\n      <td>0.0</td>\n      <td>1.0</td>\n      <td>0.0</td>\n      <td>0.0</td>\n      <td>0.0</td>\n    </tr>\n    <tr>\n      <th>10778</th>\n      <td>26220.0</td>\n      <td>61.0</td>\n      <td>male</td>\n      <td>white</td>\n      <td>2019-06-24</td>\n      <td>34224.0</td>\n      <td>charlotte county sheriff's office</td>\n      <td>gunshot</td>\n      <td>armed</td>\n      <td>firearm</td>\n      <td>...</td>\n      <td>0</td>\n      <td>0</td>\n      <td>0.0</td>\n      <td>0.0</td>\n      <td>0.0</td>\n      <td>0.0</td>\n      <td>0.0</td>\n      <td>0.0</td>\n      <td>1.0</td>\n      <td>0.0</td>\n    </tr>\n    <tr>\n      <th>58</th>\n      <td>12221.0</td>\n      <td>17.0</td>\n      <td>male</td>\n      <td>black</td>\n      <td>2013-01-11</td>\n      <td>1569.0</td>\n      <td>uxbridge police department</td>\n      <td>vehicle</td>\n      <td>unarmed</td>\n      <td>no_weapon</td>\n      <td>...</td>\n      <td>1</td>\n      <td>0</td>\n      <td>0.0</td>\n      <td>1.0</td>\n      <td>0.0</td>\n      <td>0.0</td>\n      <td>0.0</td>\n      <td>0.0</td>\n      <td>0.0</td>\n      <td>0.0</td>\n    </tr>\n    <tr>\n      <th>1127</th>\n      <td>13305.0</td>\n      <td>29.0</td>\n      <td>male</td>\n      <td>white</td>\n      <td>2013-08-23</td>\n      <td>85032.0</td>\n      <td>mesa police department</td>\n      <td>gunshot</td>\n      <td>armed</td>\n      <td>firearm</td>\n      <td>...</td>\n      <td>0</td>\n      <td>0</td>\n      <td>0.0</td>\n      <td>0.0</td>\n      <td>0.0</td>\n      <td>1.0</td>\n      <td>0.0</td>\n      <td>0.0</td>\n      <td>0.0</td>\n      <td>0.0</td>\n    </tr>\n  </tbody>\n</table>\n<p>5 rows × 37 columns</p>\n</div>"
     },
     "metadata": {}
    }
   ]
  },
  {
   "cell_type": "markdown",
   "source": "### Takeaway\n- Data is prepped/split and ready to be explored, modeled, and evaluated.",
   "metadata": {
    "tags": [],
    "cell_id": "00018-43d72133-86d8-4753-8e94-9bd08f310871",
    "deepnote_cell_type": "markdown"
   }
  },
  {
   "cell_type": "markdown",
   "source": "\n___\n# Explore Data\n#### Address questions posed in planning\n- Does gender make a difference in alleged threat level?\n- How does mental illness affect each gender?\n- Do symptoms of mental illness play a role in threat level?\n- Is race a factor for alleged threat level?\n- Does bodycam make a difference in alleged threat level?\n- Is cause of death and alleged threat level independent of one another?\n- What areas in geography are resulting in more killings?\n- What are the fatalities by state: % killings vs pop\n\n## • Visualizations",
   "metadata": {
    "cell_id": "00019-3409403e-873f-4654-b1ce-dfdc648e1f86",
    "deepnote_cell_type": "markdown"
   }
  },
  {
   "cell_type": "code",
   "metadata": {
    "deepnote_to_be_reexecuted": false,
    "source_hash": "bebc8bdb",
    "execution_start": 1622247735664,
    "execution_millis": 383,
    "cell_id": "00020-bb2e0279-bbb2-4974-9f92-9775a5d1814f",
    "deepnote_cell_type": "code"
   },
   "source": "#visualize gender vs alleged threat level\nax = pd.crosstab(train.gender, train.alleged_threat_lvl, normalize ='index').plot.barh(figsize=(8, 6), cmap=plt.cm.get_cmap('Blues'), ec=\"black\")\n\n#customize legend\nlegend_labels, _= ax.get_legend_handles_labels()\nax.legend(legend_labels, ['Non-Attack', 'Attack'], \n          bbox_to_anchor=(1,1), \n          title='Threat Level')\n\n#customize chart\nplt.title(\"Does Gender Make a Difference in Alleged Threat Level?\", fontsize = 15)\nplt.ylabel(\"Gender\", fontsize = 12)\nplt.xlabel('Percentage', fontsize = 12)\nax.tick_params(labelsize=10)\nplt.xlim([0.0, 1.0])\nplt.show()\n\n#get percentages df\npercentages = pd.crosstab(train.gender, train.alleged_threat_lvl, normalize = 'index')\npercentages",
   "execution_count": 15,
   "outputs": [
    {
     "data": {
      "text/plain": "<Figure size 576x432 with 1 Axes>",
      "image/png": "[encoded data removed]"
     },
     "metadata": {
      "needs_background": "light",
      "image/png": {
       "width": 642,
       "height": 392
      }
     },
     "output_type": "display_data"
    },
    {
     "output_type": "execute_result",
     "execution_count": 15,
     "data": {
      "application/vnd.deepnote.dataframe.v2+json": {
       "row_count": 3,
       "column_count": 3,
       "columns": [
        {
         "name": "ambiguous_threat",
         "dtype": "float64",
         "stats": {
          "unique_count": 3,
          "nan_count": 0,
          "min": "0.0",
          "max": "0.10873171467350325",
          "histogram": [
           {
            "bin_start": 0,
            "bin_end": 0.010873171467350324,
            "count": 1
           },
           {
            "bin_start": 0.010873171467350324,
            "bin_end": 0.02174634293470065,
            "count": 0
           },
           {
            "bin_start": 0.02174634293470065,
            "bin_end": 0.03261951440205097,
            "count": 0
           },
           {
            "bin_start": 0.03261951440205097,
            "bin_end": 0.0434926858694013,
            "count": 0
           },
           {
            "bin_start": 0.0434926858694013,
            "bin_end": 0.05436585733675162,
            "count": 0
           },
           {
            "bin_start": 0.05436585733675162,
            "bin_end": 0.06523902880410194,
            "count": 1
           },
           {
            "bin_start": 0.06523902880410194,
            "bin_end": 0.07611220027145227,
            "count": 0
           },
           {
            "bin_start": 0.07611220027145227,
            "bin_end": 0.0869853717388026,
            "count": 0
           },
           {
            "bin_start": 0.0869853717388026,
            "bin_end": 0.09785854320615292,
            "count": 0
           },
           {
            "bin_start": 0.09785854320615292,
            "bin_end": 0.10873171467350325,
            "count": 1
           }
          ]
         }
        },
        {
         "name": "no_threat",
         "dtype": "float64",
         "stats": {
          "unique_count": 3,
          "nan_count": 0,
          "min": "0.14285714285714285",
          "max": "0.7395543175487466",
          "histogram": [
           {
            "bin_start": 0.14285714285714285,
            "bin_end": 0.2025268603263032,
            "count": 1
           },
           {
            "bin_start": 0.2025268603263032,
            "bin_end": 0.26219657779546357,
            "count": 0
           },
           {
            "bin_start": 0.26219657779546357,
            "bin_end": 0.32186629526462396,
            "count": 0
           },
           {
            "bin_start": 0.32186629526462396,
            "bin_end": 0.38153601273378435,
            "count": 1
           },
           {
            "bin_start": 0.38153601273378435,
            "bin_end": 0.4412057302029447,
            "count": 0
           },
           {
            "bin_start": 0.4412057302029447,
            "bin_end": 0.5008754476721051,
            "count": 0
           },
           {
            "bin_start": 0.5008754476721051,
            "bin_end": 0.5605451651412654,
            "count": 0
           },
           {
            "bin_start": 0.5605451651412654,
            "bin_end": 0.6202148826104258,
            "count": 0
           },
           {
            "bin_start": 0.6202148826104258,
            "bin_end": 0.6798846000795862,
            "count": 0
           },
           {
            "bin_start": 0.6798846000795862,
            "bin_end": 0.7395543175487466,
            "count": 1
           }
          ]
         }
        },
        {
         "name": "threat",
         "dtype": "float64",
         "stats": {
          "unique_count": 3,
          "nan_count": 0,
          "min": "0.20334261838440112",
          "max": "0.8571428571428571",
          "histogram": [
           {
            "bin_start": 0.20334261838440112,
            "bin_end": 0.2687226422602467,
            "count": 1
           },
           {
            "bin_start": 0.2687226422602467,
            "bin_end": 0.3341026661360923,
            "count": 0
           },
           {
            "bin_start": 0.3341026661360923,
            "bin_end": 0.3994826900119379,
            "count": 0
           },
           {
            "bin_start": 0.3994826900119379,
            "bin_end": 0.46486271388778355,
            "count": 0
           },
           {
            "bin_start": 0.46486271388778355,
            "bin_end": 0.5302427377636292,
            "count": 0
           },
           {
            "bin_start": 0.5302427377636292,
            "bin_end": 0.5956227616394747,
            "count": 1
           },
           {
            "bin_start": 0.5956227616394747,
            "bin_end": 0.6610027855153203,
            "count": 0
           },
           {
            "bin_start": 0.6610027855153203,
            "bin_end": 0.726382809391166,
            "count": 0
           },
           {
            "bin_start": 0.726382809391166,
            "bin_end": 0.7917628332670116,
            "count": 0
           },
           {
            "bin_start": 0.7917628332670116,
            "bin_end": 0.8571428571428571,
            "count": 1
           }
          ]
         }
        },
        {
         "name": "_deepnote_index_column",
         "dtype": "object"
        }
       ],
       "rows_top": [
        {
         "ambiguous_threat": 0.057103064066852366,
         "no_threat": 0.7395543175487466,
         "threat": 0.20334261838440112,
         "_deepnote_index_column": "female"
        },
        {
         "ambiguous_threat": 0.10873171467350325,
         "no_threat": 0.33418790529331927,
         "threat": 0.5570803800331775,
         "_deepnote_index_column": "male"
        },
        {
         "ambiguous_threat": 0,
         "no_threat": 0.14285714285714285,
         "threat": 0.8571428571428571,
         "_deepnote_index_column": "transgender"
        }
       ],
       "rows_bottom": null
      },
      "text/plain": "alleged_threat_lvl  ambiguous_threat  no_threat    threat\ngender                                                   \nfemale                      0.057103   0.739554  0.203343\nmale                        0.108732   0.334188  0.557080\ntransgender                 0.000000   0.142857  0.857143",
      "text/html": "<div>\n<style scoped>\n    .dataframe tbody tr th:only-of-type {\n        vertical-align: middle;\n    }\n\n    .dataframe tbody tr th {\n        vertical-align: top;\n    }\n\n    .dataframe thead th {\n        text-align: right;\n    }\n</style>\n<table border=\"1\" class=\"dataframe\">\n  <thead>\n    <tr style=\"text-align: right;\">\n      <th>alleged_threat_lvl</th>\n      <th>ambiguous_threat</th>\n      <th>no_threat</th>\n      <th>threat</th>\n    </tr>\n    <tr>\n      <th>gender</th>\n      <th></th>\n      <th></th>\n      <th></th>\n    </tr>\n  </thead>\n  <tbody>\n    <tr>\n      <th>female</th>\n      <td>0.057103</td>\n      <td>0.739554</td>\n      <td>0.203343</td>\n    </tr>\n    <tr>\n      <th>male</th>\n      <td>0.108732</td>\n      <td>0.334188</td>\n      <td>0.557080</td>\n    </tr>\n    <tr>\n      <th>transgender</th>\n      <td>0.000000</td>\n      <td>0.142857</td>\n      <td>0.857143</td>\n    </tr>\n  </tbody>\n</table>\n</div>"
     },
     "metadata": {}
    }
   ]
  },
  {
   "cell_type": "markdown",
   "source": "### Takeaways\n- Highest percentage of non-attacks are transgender. Second highest is female.\n- Highest percentage of attacks are male. Second highest is female.\n- Males are almost equally likely to be an attack or non-attack threat level.",
   "metadata": {
    "cell_id": "00021-3b57debc-cf2c-49bf-8b5c-06916c1fb171",
    "deepnote_cell_type": "markdown"
   }
  },
  {
   "cell_type": "code",
   "metadata": {
    "deepnote_to_be_reexecuted": false,
    "execution_millis": 414,
    "execution_start": 1622247736043,
    "source_hash": "55411c56",
    "tags": [],
    "cell_id": "00027-48caa6b0-ef37-45d6-a824-0ca230aaea74",
    "deepnote_cell_type": "code"
   },
   "source": "#visualize race vs alleged threat level\nax = pd.crosstab(train.race, train.alleged_threat_lvl, normalize ='index').plot.barh(figsize=(8, 6), cmap=plt.cm.get_cmap('Blues'), ec=\"black\")\n\n#customize legend\nlegend_labels, _= ax.get_legend_handles_labels()\nax.legend(legend_labels, ['Ambiguous', 'No threat', 'Threat'], \n          bbox_to_anchor=(1,1), \n          title='Threat Level')\n\n#customize chart\nplt.title(\"Is Race a Factor in Threat Level?\", fontsize = 15)\nplt.ylabel(\"Race\", fontsize = 12)\nplt.xlabel('Percentage', fontsize = 12)\nax.tick_params(labelsize=10)\nplt.xlim([0.0, 1.0])\nplt.show()\n\n#get percentages df\npercentages = pd.crosstab(train.race, train.alleged_threat_lvl, normalize = 'index')\npercentages",
   "execution_count": 16,
   "outputs": [
    {
     "data": {
      "text/plain": "<Figure size 576x432 with 1 Axes>",
      "image/png": "[encoded data removed]"
     },
     "metadata": {
      "needs_background": "light",
      "image/png": {
       "width": 598,
       "height": 392
      }
     },
     "output_type": "display_data"
    },
    {
     "output_type": "execute_result",
     "execution_count": 16,
     "data": {
      "application/vnd.deepnote.dataframe.v2+json": {
       "row_count": 7,
       "column_count": 3,
       "columns": [
        {
         "name": "ambiguous_threat",
         "dtype": "float64",
         "stats": {
          "unique_count": 7,
          "nan_count": 0,
          "min": "0.05931321540062435",
          "max": "0.12981199641897942",
          "histogram": [
           {
            "bin_start": 0.05931321540062435,
            "bin_end": 0.06636309350245986,
            "count": 2
           },
           {
            "bin_start": 0.06636309350245986,
            "bin_end": 0.07341297160429536,
            "count": 0
           },
           {
            "bin_start": 0.07341297160429536,
            "bin_end": 0.08046284970613088,
            "count": 1
           },
           {
            "bin_start": 0.08046284970613088,
            "bin_end": 0.08751272780796637,
            "count": 1
           },
           {
            "bin_start": 0.08751272780796637,
            "bin_end": 0.0945626059098019,
            "count": 0
           },
           {
            "bin_start": 0.0945626059098019,
            "bin_end": 0.10161248401163739,
            "count": 1
           },
           {
            "bin_start": 0.10161248401163739,
            "bin_end": 0.10866236211347291,
            "count": 0
           },
           {
            "bin_start": 0.10866236211347291,
            "bin_end": 0.1157122402153084,
            "count": 0
           },
           {
            "bin_start": 0.1157122402153084,
            "bin_end": 0.12276211831714393,
            "count": 0
           },
           {
            "bin_start": 0.12276211831714393,
            "bin_end": 0.12981199641897942,
            "count": 2
           }
          ]
         }
        },
        {
         "name": "no_threat",
         "dtype": "float64",
         "stats": {
          "unique_count": 7,
          "nan_count": 0,
          "min": "0.15384615384615385",
          "max": "0.5379812695109261",
          "histogram": [
           {
            "bin_start": 0.15384615384615385,
            "bin_end": 0.19225966541263106,
            "count": 1
           },
           {
            "bin_start": 0.19225966541263106,
            "bin_end": 0.2306731769791083,
            "count": 0
           },
           {
            "bin_start": 0.2306731769791083,
            "bin_end": 0.26908668854558554,
            "count": 1
           },
           {
            "bin_start": 0.26908668854558554,
            "bin_end": 0.30750020011206275,
            "count": 0
           },
           {
            "bin_start": 0.30750020011206275,
            "bin_end": 0.34591371167853996,
            "count": 2
           },
           {
            "bin_start": 0.34591371167853996,
            "bin_end": 0.3843272232450172,
            "count": 2
           },
           {
            "bin_start": 0.3843272232450172,
            "bin_end": 0.42274073481149443,
            "count": 0
           },
           {
            "bin_start": 0.42274073481149443,
            "bin_end": 0.46115424637797164,
            "count": 0
           },
           {
            "bin_start": 0.46115424637797164,
            "bin_end": 0.49956775794444885,
            "count": 0
           },
           {
            "bin_start": 0.49956775794444885,
            "bin_end": 0.5379812695109261,
            "count": 1
           }
          ]
         }
        },
        {
         "name": "threat",
         "dtype": "float64",
         "stats": {
          "unique_count": 7,
          "nan_count": 0,
          "min": "0.40270551508844954",
          "max": "0.7692307692307693",
          "histogram": [
           {
            "bin_start": 0.40270551508844954,
            "bin_end": 0.4393580405026815,
            "count": 1
           },
           {
            "bin_start": 0.4393580405026815,
            "bin_end": 0.4760105659169135,
            "count": 0
           },
           {
            "bin_start": 0.4760105659169135,
            "bin_end": 0.5126630913311454,
            "count": 1
           },
           {
            "bin_start": 0.5126630913311454,
            "bin_end": 0.5493156167453774,
            "count": 0
           },
           {
            "bin_start": 0.5493156167453774,
            "bin_end": 0.5859681421596095,
            "count": 2
           },
           {
            "bin_start": 0.5859681421596095,
            "bin_end": 0.6226206675738414,
            "count": 1
           },
           {
            "bin_start": 0.6226206675738414,
            "bin_end": 0.6592731929880733,
            "count": 0
           },
           {
            "bin_start": 0.6592731929880733,
            "bin_end": 0.6959257184023053,
            "count": 1
           },
           {
            "bin_start": 0.6959257184023053,
            "bin_end": 0.7325782438165374,
            "count": 0
           },
           {
            "bin_start": 0.7325782438165374,
            "bin_end": 0.7692307692307693,
            "count": 1
           }
          ]
         }
        },
        {
         "name": "_deepnote_index_column",
         "dtype": "object"
        }
       ],
       "rows_top": [
        {
         "ambiguous_threat": 0.0873015873015873,
         "no_threat": 0.3253968253968254,
         "threat": 0.5873015873015873,
         "_deepnote_index_column": "asian/pacific islander"
        },
        {
         "ambiguous_threat": 0.12839637719765584,
         "no_threat": 0.38359083644112946,
         "threat": 0.4880127863612147,
         "_deepnote_index_column": "black"
        },
        {
         "ambiguous_threat": 0.12981199641897942,
         "no_threat": 0.3106535362578335,
         "threat": 0.5595344673231871,
         "_deepnote_index_column": "hispanic"
        },
        {
         "ambiguous_threat": 0.07692307692307693,
         "no_threat": 0.15384615384615385,
         "threat": 0.7692307692307693,
         "_deepnote_index_column": "middle eastern"
        },
        {
         "ambiguous_threat": 0.0594059405940594,
         "no_threat": 0.25742574257425743,
         "threat": 0.6831683168316832,
         "_deepnote_index_column": "native_american"
        },
        {
         "ambiguous_threat": 0.05931321540062435,
         "no_threat": 0.5379812695109261,
         "threat": 0.40270551508844954,
         "_deepnote_index_column": "unknown_race"
        },
        {
         "ambiguous_threat": 0.09522303068649161,
         "no_threat": 0.3464093641252768,
         "threat": 0.5583676051882316,
         "_deepnote_index_column": "white"
        }
       ],
       "rows_bottom": null
      },
      "text/plain": "alleged_threat_lvl      ambiguous_threat  no_threat    threat\nrace                                                         \nasian/pacific islander          0.087302   0.325397  0.587302\nblack                           0.128396   0.383591  0.488013\nhispanic                        0.129812   0.310654  0.559534\nmiddle eastern                  0.076923   0.153846  0.769231\nnative_american                 0.059406   0.257426  0.683168\nunknown_race                    0.059313   0.537981  0.402706\nwhite                           0.095223   0.346409  0.558368",
      "text/html": "<div>\n<style scoped>\n    .dataframe tbody tr th:only-of-type {\n        vertical-align: middle;\n    }\n\n    .dataframe tbody tr th {\n        vertical-align: top;\n    }\n\n    .dataframe thead th {\n        text-align: right;\n    }\n</style>\n<table border=\"1\" class=\"dataframe\">\n  <thead>\n    <tr style=\"text-align: right;\">\n      <th>alleged_threat_lvl</th>\n      <th>ambiguous_threat</th>\n      <th>no_threat</th>\n      <th>threat</th>\n    </tr>\n    <tr>\n      <th>race</th>\n      <th></th>\n      <th></th>\n      <th></th>\n    </tr>\n  </thead>\n  <tbody>\n    <tr>\n      <th>asian/pacific islander</th>\n      <td>0.087302</td>\n      <td>0.325397</td>\n      <td>0.587302</td>\n    </tr>\n    <tr>\n      <th>black</th>\n      <td>0.128396</td>\n      <td>0.383591</td>\n      <td>0.488013</td>\n    </tr>\n    <tr>\n      <th>hispanic</th>\n      <td>0.129812</td>\n      <td>0.310654</td>\n      <td>0.559534</td>\n    </tr>\n    <tr>\n      <th>middle eastern</th>\n      <td>0.076923</td>\n      <td>0.153846</td>\n      <td>0.769231</td>\n    </tr>\n    <tr>\n      <th>native_american</th>\n      <td>0.059406</td>\n      <td>0.257426</td>\n      <td>0.683168</td>\n    </tr>\n    <tr>\n      <th>unknown_race</th>\n      <td>0.059313</td>\n      <td>0.537981</td>\n      <td>0.402706</td>\n    </tr>\n    <tr>\n      <th>white</th>\n      <td>0.095223</td>\n      <td>0.346409</td>\n      <td>0.558368</td>\n    </tr>\n  </tbody>\n</table>\n</div>"
     },
     "metadata": {}
    }
   ]
  },
  {
   "cell_type": "markdown",
   "source": "### Takeaways\n- The highest occurrence of non-attacks are seen in Native Americans. Second highest is Hispanics.\n- The highest occurrence of attacks are seen in White races. Second highest appears to be Asians/Pacific Islanders. \n- Black races are almost equally likely to result in attack/non-attack threat levels.\n- There is a lot of unknown races in the data. Why?",
   "metadata": {
    "tags": [],
    "cell_id": "00028-212ff5e5-35de-43a4-a10c-7ec0e7a43f31",
    "deepnote_cell_type": "markdown"
   }
  },
  {
   "cell_type": "markdown",
   "source": "\n___\n\n## • Hypothesis Testing",
   "metadata": {
    "cell_id": "00035-c770ee0c-d4d0-42a6-b88b-76ab84f70ee4",
    "deepnote_cell_type": "markdown"
   }
  },
  {
   "cell_type": "code",
   "metadata": {
    "tags": [],
    "cell_id": "00027-15daf8a6-c450-4035-b2ac-d902d263f719",
    "deepnote_to_be_reexecuted": false,
    "source_hash": "2c9af269",
    "execution_start": 1622247736441,
    "execution_millis": 2,
    "deepnote_cell_type": "code"
   },
   "source": "threat_dummies = pd.get_dummies(df.alleged_threat_lvl, drop_first=False, prefix='is')",
   "execution_count": 17,
   "outputs": []
  },
  {
   "cell_type": "code",
   "metadata": {
    "tags": [],
    "cell_id": "00028-3951b291-80e0-43b4-a8a1-c0f9800a9c6e",
    "deepnote_to_be_reexecuted": false,
    "source_hash": "f81407ac",
    "execution_start": 1622247736453,
    "execution_millis": 3,
    "deepnote_cell_type": "code"
   },
   "source": "df = pd.concat([df, threat_dummies], axis=1)",
   "execution_count": 18,
   "outputs": []
  },
  {
   "cell_type": "code",
   "metadata": {
    "tags": [],
    "cell_id": "00029-4976fb07-77c7-4459-b4fe-edc02d381bfd",
    "deepnote_to_be_reexecuted": false,
    "source_hash": "85c0491e",
    "execution_start": 1622247736474,
    "execution_millis": 70,
    "deepnote_cell_type": "code"
   },
   "source": "train, validate, test = split(df, stratify_by=\"alleged_threat_lvl\")",
   "execution_count": 19,
   "outputs": []
  },
  {
   "cell_type": "code",
   "metadata": {
    "deepnote_to_be_reexecuted": false,
    "source_hash": "d91b8556",
    "execution_start": 1622247736553,
    "execution_millis": 52,
    "cell_id": "00036-7080d93b-e9a9-4784-a50e-7be00eb4f942",
    "deepnote_cell_type": "code"
   },
   "source": "#t-test for gender vs threat level\nfemale = train[train.gender == 'female']\nmale = train[train.gender == 'male']\ntransg = train[train.gender == 'transgender']\nnot_male = train[train.gender != 'male']\n\nmale_att = male.is_threat\nnon_male_att = not_male.is_threat\n\nnull_hypothesis = \"There is not a difference between male attackers and the remaining population.\"\nalternative_hypothesis = \"Attacker status for males & total population are different.\"\nconfidence_level = .95\na = 1 - confidence_level\n\nt, p = stats.ttest_ind(male_att, non_male_att)\nprint(t, p)\n\nif p < a:\n    print(\"We reject the null hypothesis.\")\n    print(f\"We can move forward with alternative hypothesis: {alternative_hypothesis}\")\nelse:\n    print(\"We fail to reject the null hypothesis\")\n    print(f\"Not enough evidence to support the claim: {null_hypothesis}\")",
   "execution_count": 20,
   "outputs": [
    {
     "name": "stdout",
     "text": "18.17457349129139 3.0751893776102073e-72\nWe reject the null hypothesis.\nWe can move forward with alternative hypothesis: Attacker status for males & total population are different.\n",
     "output_type": "stream"
    }
   ]
  },
  {
   "cell_type": "code",
   "metadata": {
    "deepnote_to_be_reexecuted": false,
    "execution_millis": 50,
    "execution_start": 1622247736599,
    "source_hash": "b256267b",
    "tags": [],
    "cell_id": "00038-349cbdc0-8920-441b-810a-016c8d7647cb",
    "deepnote_cell_type": "code"
   },
   "source": "#chi2 test for race vs alleged threat level\nexp.chi2_matts(train, 'race', 'alleged_threat_lvl', alpha=0.05)",
   "execution_count": 21,
   "outputs": [
    {
     "name": "stdout",
     "text": "Observed\n\n[[  11   41   74]\n [ 241  720  916]\n [ 145  347  625]\n [   1    2   10]\n [   6   26   69]\n [  57  517  387]\n [ 301 1095 1765]]\n---\nExpected\n\n[[1.30522023e+01 4.70701468e+01 6.58776509e+01]\n [1.94436378e+02 7.01195759e+02 9.81367863e+02]\n [1.15708809e+02 4.17280587e+02 5.84010604e+02]\n [1.34665579e+00 4.85644372e+00 6.79690049e+00]\n [1.04624796e+01 3.77308320e+01 5.28066884e+01]\n [9.95489396e+01 3.59003263e+02 5.02447798e+02]\n [3.27444535e+02 1.18086297e+03 1.65269250e+03]]\n---\n\nchi^2 = 184.2978\np     = 0.0000\n\nBecause the p-value: 0.0 is less than alpha: 0.05, we can reject the null hypothesis\n",
     "output_type": "stream"
    }
   ]
  },
  {
   "cell_type": "markdown",
   "source": "# Split up race for further testing",
   "metadata": {
    "tags": [],
    "cell_id": "00032-944289fb-78e3-4860-895d-3b24aee78937",
    "deepnote_cell_type": "markdown"
   }
  },
  {
   "cell_type": "markdown",
   "source": "### Takeaways\n- All four statistical tests rejected the null hypothesis.\n    - T-test demonstrates there is a difference between male attackers and the remaining population.\n    - 1st Chi^2 test demonstrates that mental status is dependent on alleged threat level.\n    - 2nd Chi^2 test demonstrates that race is dependent on alleged threat level.\n    - 3rd Chi^2 test demonstrates that bodycam is dependent on alleged threat level.",
   "metadata": {
    "cell_id": "00040-2fd70a3d-88f3-4782-8f34-2d38aad203cf",
    "deepnote_cell_type": "markdown"
   }
  },
  {
   "cell_type": "markdown",
   "source": "\n___\n# Modeling",
   "metadata": {
    "cell_id": "00041-b1fe0ce8-4b9b-4c7c-8dd7-810aa20c2134",
    "deepnote_cell_type": "markdown"
   }
  },
  {
   "cell_type": "code",
   "metadata": {
    "deepnote_to_be_reexecuted": false,
    "source_hash": "9a2eb543",
    "execution_start": 1622247736643,
    "execution_millis": 40,
    "cell_id": "00042-a42667cc-bac5-4e1e-a555-b1072736a24f",
    "deepnote_cell_type": "code"
   },
   "source": "#set up X inputs and y target variable for each split\nX_train = train.drop(columns=['alleged_threat_lvl'])\ny_train = train.alleged_threat_lvl\n\nX_validate = validate.drop(columns=['alleged_threat_lvl'])\ny_validate = validate.alleged_threat_lvl\n\nX_test = test.drop(columns=['alleged_threat_lvl'])\ny_test = test.alleged_threat_lvl",
   "execution_count": 22,
   "outputs": []
  },
  {
   "cell_type": "code",
   "metadata": {
    "tags": [],
    "cell_id": "00036-8e7c1d36-ff6f-44e1-b8d5-084a648ebfe0",
    "deepnote_to_be_reexecuted": false,
    "source_hash": "25d43fa0",
    "execution_start": 1622247736684,
    "execution_millis": 10,
    "deepnote_cell_type": "code"
   },
   "source": "df.columns",
   "execution_count": 23,
   "outputs": [
    {
     "output_type": "execute_result",
     "execution_count": 23,
     "data": {
      "text/plain": "Index(['unique_id', 'age', 'gender', 'race',\n       'date_of_injury_resulting_in_death_month_day_year',\n       'location_of_death_zip_code', 'agency_or_agencies_involved',\n       'highest_level_of_force', 'armed_unarmed', 'alleged_weapon',\n       'alleged_threat_lvl', 'fleeing_not_fleeing', 'brief_description',\n       'intended_use_of_force_developing', 'fleeing', 'age_bins',\n       'is_asian_pacific islander', 'is_black', 'is_hispanic',\n       'is_middle eastern', 'is_native_american', 'is_unknown_race',\n       'is_white', 'is_unarmed', 'had_blunt object', 'had_edged weapon',\n       'had_firearm', 'had_no_weapon', 'had_other_weapon', 'under 12', '12-17',\n       '18-24', '25-34', '35-44', '45-54', '55-64', '65+',\n       'is_ambiguous_threat', 'is_no_threat', 'is_threat'],\n      dtype='object')"
     },
     "metadata": {}
    }
   ]
  },
  {
   "cell_type": "code",
   "metadata": {
    "deepnote_to_be_reexecuted": false,
    "source_hash": "5c3dd2ec",
    "execution_start": 1622247736684,
    "execution_millis": 1,
    "cell_id": "00043-808d9d55-ba31-48b0-ab95-3a4ab5c4703f",
    "deepnote_cell_type": "code"
   },
   "source": "# dropping columns that are not numeric datatypes\ndropcols = ['unique_id', 'gender', 'race',\\\n       'date_of_injury_resulting_in_death_month_day_year',\\\n       'location_of_death_zip_code', 'agency_or_agencies_involved',\\\n       'highest_level_of_force', 'armed_unarmed', 'alleged_weapon',\\\n       'alleged_threat_lvl', 'fleeing_not_fleeing', 'brief_description',\\\n       'intended_use_of_force_developing', 'age_bins', 'is_ambiguous_threat', 'is_no_threat', 'is_threat']\n\nX_train = train.drop(columns=dropcols)\nX_validate = validate.drop(columns=dropcols)\nX_test = test.drop(columns=dropcols)",
   "execution_count": 24,
   "outputs": []
  },
  {
   "cell_type": "markdown",
   "source": "\n___\n## • Feature Importance",
   "metadata": {
    "cell_id": "00044-adcf75d2-b461-4609-9d1d-87f00edd5363",
    "deepnote_cell_type": "markdown"
   }
  },
  {
   "cell_type": "markdown",
   "source": "#### Select K Best\n- Uses statistical tests to determine each feature's usefulness in predicting the target variable. \n- Ranks the features and then select the K best features.",
   "metadata": {
    "cell_id": "00045-62e15328-1fb3-4200-bad7-4ef8d826f297",
    "deepnote_cell_type": "markdown"
   }
  },
  {
   "cell_type": "code",
   "metadata": {
    "deepnote_to_be_reexecuted": false,
    "source_hash": "dd7ebbdf",
    "execution_start": 1622247736690,
    "execution_millis": 82,
    "cell_id": "00046-27dc45fb-8588-4a6d-90b2-1d7030d16da5",
    "deepnote_cell_type": "code"
   },
   "source": "f_features = select_kbest(X_train, y_train, 15)\nf_features",
   "execution_count": 25,
   "outputs": [
    {
     "output_type": "execute_result",
     "execution_count": 25,
     "data": {
      "text/plain": "['age',\n 'fleeing',\n 'is_hispanic',\n 'is_unknown_race',\n 'is_unarmed',\n 'had_blunt object',\n 'had_edged weapon',\n 'had_firearm',\n 'had_no_weapon',\n 'had_other_weapon',\n 'under 12',\n '12-17',\n '18-24',\n '35-44',\n '45-54']"
     },
     "metadata": {}
    }
   ]
  },
  {
   "cell_type": "markdown",
   "source": "#### Recursive Feature Elimination (RFE)\n- Recursively removes attributes to meet the number of required features and then builds a model on those attributes that remain to see if you can you match or improve performance with a smaller subset.",
   "metadata": {
    "cell_id": "00047-25f9c171-34eb-49fb-be11-a205a0daa849",
    "deepnote_cell_type": "markdown"
   }
  },
  {
   "cell_type": "code",
   "metadata": {
    "deepnote_to_be_reexecuted": false,
    "source_hash": "509f8fd5",
    "execution_start": 1622247736768,
    "execution_millis": 13169,
    "cell_id": "00048-3f015c4c-5584-46e0-a2a2-b9c04e5166e0",
    "deepnote_cell_type": "code"
   },
   "source": "rfe_features = rfe(X_train, y_train, 15)\nrfe_features",
   "execution_count": 26,
   "outputs": [
    {
     "output_type": "execute_result",
     "execution_count": 26,
     "data": {
      "text/plain": "['fleeing',\n 'is_middle eastern',\n 'is_native_american',\n 'is_unknown_race',\n 'is_unarmed',\n 'had_blunt object',\n 'had_edged weapon',\n 'had_firearm',\n 'had_no_weapon',\n 'had_other_weapon',\n 'under 12',\n '18-24',\n '25-34',\n '35-44',\n '45-54']"
     },
     "metadata": {}
    }
   ]
  },
  {
   "cell_type": "code",
   "metadata": {
    "deepnote_to_be_reexecuted": false,
    "source_hash": "31ee34a3",
    "execution_start": 1622247749933,
    "execution_millis": 20,
    "cell_id": "00049-43793709-55e6-4b4f-a8af-a92b98812609",
    "deepnote_cell_type": "code"
   },
   "source": "combo_feats = list(set(f_features + rfe_features))\nprint(len(combo_feats))\ncombo_feats",
   "execution_count": 27,
   "outputs": [
    {
     "name": "stdout",
     "text": "18\n",
     "output_type": "stream"
    },
    {
     "output_type": "execute_result",
     "execution_count": 27,
     "data": {
      "text/plain": "['had_edged weapon',\n 'under 12',\n 'had_no_weapon',\n 'is_middle eastern',\n 'had_firearm',\n '35-44',\n 'is_native_american',\n 'had_other_weapon',\n '25-34',\n 'fleeing',\n '18-24',\n '45-54',\n 'is_hispanic',\n 'is_unknown_race',\n 'had_blunt object',\n '12-17',\n 'age',\n 'is_unarmed']"
     },
     "metadata": {}
    }
   ]
  },
  {
   "cell_type": "code",
   "metadata": {
    "deepnote_to_be_reexecuted": false,
    "source_hash": "17358204",
    "execution_start": 1622247749947,
    "execution_millis": 23,
    "cell_id": "00050-2965fe11-563b-4f88-9377-01dfabe32421",
    "deepnote_cell_type": "code"
   },
   "source": "#specify combined features that reduces multicollinearity\ncombo_feats = ['fleeing',\n               'had_other_weapon',\n               'is_middle eastern',\n               '12-17',\n               'had_no_weapon',\n               'is_native_american',\n               '25-34',\n               '18-24',\n               'under 12',\n               'had_firearm',\n               'is_hispanic']\n \nprint(len(combo_feats))",
   "execution_count": 28,
   "outputs": [
    {
     "name": "stdout",
     "text": "11\n",
     "output_type": "stream"
    }
   ]
  },
  {
   "cell_type": "markdown",
   "source": "\n___\n## • Identify Baseline",
   "metadata": {
    "cell_id": "00051-bfe667b0-20a7-4073-9686-821cf2c3afe3",
    "deepnote_cell_type": "markdown"
   }
  },
  {
   "cell_type": "code",
   "metadata": {
    "deepnote_to_be_reexecuted": false,
    "source_hash": "276ef1c0",
    "execution_start": 1622247749966,
    "execution_millis": 73,
    "cell_id": "00052-5208a76c-9fd4-4e7a-bb01-d65ac3cdaf9c",
    "deepnote_cell_type": "code"
   },
   "source": "#baseline prediction: the most prevalent class in training dataset(the mode)\ntrain.alleged_threat_lvl.value_counts()",
   "execution_count": 29,
   "outputs": [
    {
     "output_type": "execute_result",
     "execution_count": 29,
     "data": {
      "text/plain": "threat              3846\nno_threat           2748\nambiguous_threat     762\nName: alleged_threat_lvl, dtype: int64"
     },
     "metadata": {}
    }
   ]
  },
  {
   "cell_type": "code",
   "metadata": {
    "deepnote_to_be_reexecuted": false,
    "source_hash": "f0069d41",
    "execution_start": 1622247750074,
    "execution_millis": 7,
    "cell_id": "00053-6d1dbeeb-c063-4870-a3d8-3896199aaf72",
    "deepnote_cell_type": "code"
   },
   "source": "#baseline model would be to predict 0 since it is most prevalant\n#baseline accuracy:\nbaseline_accuracy = (train.alleged_threat_lvl == 'threat').mean()\n\nprint(f'baseline accuracy: {baseline_accuracy: .4}')",
   "execution_count": 30,
   "outputs": [
    {
     "name": "stdout",
     "text": "baseline accuracy:  0.5228\n",
     "output_type": "stream"
    }
   ]
  },
  {
   "cell_type": "markdown",
   "source": "\n___\n## • Model on Train",
   "metadata": {
    "cell_id": "00054-93cbaa5c-4496-4c75-b38b-683dcdfd6853",
    "deepnote_cell_type": "markdown"
   }
  },
  {
   "cell_type": "markdown",
   "source": "### Decision Tree",
   "metadata": {
    "cell_id": "00055-5d6d638c-c265-409e-b05e-62ca5a7073fc",
    "deepnote_cell_type": "markdown"
   }
  },
  {
   "cell_type": "code",
   "metadata": {
    "deepnote_to_be_reexecuted": false,
    "execution_millis": 51,
    "execution_start": 1622247750075,
    "source_hash": "7a2ba196",
    "tags": [],
    "cell_id": "00056-1361dbf2-ad78-483b-b21c-091abff792cf",
    "deepnote_cell_type": "code"
   },
   "source": "#create Decision Tree model (specifying max_depth argument and combo_feats)\ndt = DecisionTreeClassifier(max_depth=3, random_state=123)\n\n#fit model on combo_feats\ndt.fit(X_train[combo_feats], y_train)\n\n#get predictions from model\ny_pred = dt.predict(X_train[combo_feats])\n\n#compute accuracy\ndt_train_acc = round(dt.score(X_train[combo_feats], y_train), 4)\n\n#compare to baseline\nprint(\"Baseline is\", round(baseline_accuracy, 4))\nprint(\"----------------\")\nprint('Accuracy of Decision Tree classifier on combo_feats (max_depth = 3): {:.4f}'\n     .format(dt.score(X_train[combo_feats], y_train)))",
   "execution_count": 31,
   "outputs": [
    {
     "name": "stdout",
     "text": "Baseline is 0.5228\n----------------\nAccuracy of Decision Tree classifier on combo_feats (max_depth = 3): 0.7187\n",
     "output_type": "stream"
    }
   ]
  },
  {
   "cell_type": "markdown",
   "source": "### Random Forest",
   "metadata": {
    "tags": [],
    "cell_id": "00057-fe1c5f37-84a0-4707-b70d-0ab8c5eb255e",
    "deepnote_cell_type": "markdown"
   }
  },
  {
   "cell_type": "code",
   "metadata": {
    "deepnote_to_be_reexecuted": false,
    "execution_millis": 538,
    "execution_start": 1622247750119,
    "source_hash": "ea36678",
    "tags": [],
    "cell_id": "00058-20527363-f247-4980-b621-314d72a48eee",
    "deepnote_cell_type": "code"
   },
   "source": "#create Random Forest model (specifying max_depth/min_samples_leaf arguments and combo_feats)\nrf = RandomForestClassifier(max_depth=5, min_samples_leaf=3, random_state=123)\n\n#fit model on combo_feats\nrf.fit(X_train[combo_feats], y_train)\n\n#get predictions from model\ny_pred = rf.predict(X_train[combo_feats])\n\n#compute accuracy\nrf_train_acc = round(rf.score(X_train[combo_feats], y_train), 4)\n\n#compare to baseline\nprint(\"Baseline is\", round(baseline_accuracy, 4))\nprint(\"----------------\")\nprint('Accuracy of Random Forest classifier on combo_feats (max_depth = 5, min_samples_leaf = 3): {:.4f}'\n     .format(rf.score(X_train[combo_feats], y_train)))",
   "execution_count": 32,
   "outputs": [
    {
     "name": "stdout",
     "text": "Baseline is 0.5228\n----------------\nAccuracy of Random Forest classifier on combo_feats (max_depth = 5, min_samples_leaf = 3): 0.7191\n",
     "output_type": "stream"
    }
   ]
  },
  {
   "cell_type": "markdown",
   "source": "### K-Nearest Neighbor (KNN)",
   "metadata": {
    "tags": [],
    "cell_id": "00059-5968a214-24fb-48f0-a472-eed0c1016368",
    "deepnote_cell_type": "markdown"
   }
  },
  {
   "cell_type": "code",
   "metadata": {
    "deepnote_to_be_reexecuted": false,
    "execution_millis": 2721,
    "execution_start": 1622247750671,
    "source_hash": "1a11e850",
    "tags": [],
    "cell_id": "00060-69eadff0-42e6-4412-8618-dbd487849c25",
    "deepnote_cell_type": "code"
   },
   "source": "#create KNN model (specifying n_neighbors argument and combo_feats)\nknn = KNeighborsClassifier(n_neighbors=20)\n\n#fit model on combo_feats\nknn.fit(X_train[combo_feats], y_train)\n\n#get predictions from model\ny_pred = knn.predict(X_train[combo_feats])\n\n#compute accuracy\nknn_train_acc = round(knn.score(X_train[combo_feats], y_train), 4)\n\n#compare to baseline\nprint(\"Baseline is\", round(baseline_accuracy, 2))\nprint(\"----------------\")\nprint('Accuracy of KNN classifier on combo_feats (n_neighbors = 20): {:4f}'\n     .format(knn.score(X_train[combo_feats], y_train)))",
   "execution_count": 33,
   "outputs": [
    {
     "name": "stdout",
     "text": "Baseline is 0.52\n----------------\nAccuracy of KNN classifier on combo_feats (n_neighbors = 20): 0.712887\n",
     "output_type": "stream"
    }
   ]
  },
  {
   "cell_type": "markdown",
   "source": "### Logistic Regression",
   "metadata": {
    "tags": [],
    "cell_id": "00061-7b58bed1-b7e3-44d2-a4ef-53ce1ddeca69",
    "deepnote_cell_type": "markdown"
   }
  },
  {
   "cell_type": "code",
   "metadata": {
    "deepnote_to_be_reexecuted": false,
    "execution_millis": 274,
    "execution_start": 1622247753421,
    "source_hash": "96cd3704",
    "tags": [],
    "cell_id": "00062-265c14a5-3a6c-4864-a1c0-530b7ef4bbb8",
    "deepnote_cell_type": "code"
   },
   "source": "#create Logistic Regression model (default parameters, specifying combo_feats)\nlogit = LogisticRegression(random_state=123)\n\n#fit model on combo_feats\nlogit.fit(X_train[combo_feats], y_train)\n\n#get predictions from model\ny_pred = logit.predict(X_train[combo_feats])\n\n#compute accuracy\nlogit_train_acc = round(logit.score(X_train[combo_feats], y_train), 4)\n\n#compare to baseline\nprint(\"Baseline is\", round(baseline_accuracy, 4))\nprint(\"----------------\")\nprint('Accuracy of Logistic Regression classifier on combo_feats (default parameters): {:.4f}'\n     .format(logit.score(X_train[combo_feats], y_train)))",
   "execution_count": 34,
   "outputs": [
    {
     "name": "stdout",
     "text": "Baseline is 0.5228\n----------------\nAccuracy of Logistic Regression classifier on combo_feats (default parameters): 0.7178\n",
     "output_type": "stream"
    }
   ]
  },
  {
   "cell_type": "markdown",
   "source": "### Takeways:\n- **Decision Tree** model (dt) specifying max_depth argument of 3 and using combo_feats:\n    - Score of 71% accuracy\n    \n    \n    \n- **Random Forest** model (rf) specifying max_depth argument of 5, min_samples_leaf argument of 3 and using combo_feats:\n    - Score of 72% accuracy\n    \n    \n    \n- **K-Nearest Neighbor** model (knn) specifying n_neighbors argument of 20 and using combo_feats:\n    - Score of 70% accuracy\n    \n    \n    \n- **Logistic Regression** model (logit) using default parameters and combo_feats:\n    - Score of 70% accuracy\n\nNext, compare scores to validate (out-of-sample data).",
   "metadata": {
    "tags": [],
    "cell_id": "00063-f95e20df-18da-4bc6-a849-0fff95d48e47",
    "deepnote_cell_type": "markdown"
   }
  },
  {
   "cell_type": "markdown",
   "source": "\n___\n## • Model on Validate",
   "metadata": {
    "cell_id": "00064-4737fbc6-fc39-49f8-badd-adafce801428",
    "deepnote_cell_type": "markdown"
   }
  },
  {
   "cell_type": "code",
   "metadata": {
    "deepnote_to_be_reexecuted": false,
    "execution_millis": 152,
    "execution_start": 1622247753697,
    "source_hash": "37a4cb55",
    "tags": [],
    "cell_id": "00065-6c01fe9b-96fd-4762-9c38-d7df2e8744d5",
    "deepnote_cell_type": "code"
   },
   "source": "#dt's metrics on validate\n\n#evaluate on validate sample\ny_pred = dt.predict(X_validate[combo_feats])\n\n#compute accuracy\ndt_val_acc = round(dt.score(X_validate[combo_feats], y_validate), 4)\n\n#compare train to validate\nprint('Accuracy of Decision Tree classifier on train set: {:.4f}'\n     .format(dt.score(X_train[combo_feats], y_train)))\nprint(\"--------------------------------------------------------------\")\nprint(\"Decision Tree classifier on validate set:\")\nprint(classification_report(y_validate, y_pred))",
   "execution_count": 35,
   "outputs": [
    {
     "name": "stdout",
     "text": "Accuracy of Decision Tree classifier on train set: 0.7187\n--------------------------------------------------------------\nDecision Tree classifier on validate set:\n                  precision    recall  f1-score   support\n\nambiguous_threat       0.00      0.00      0.00       327\n       no_threat       0.68      0.70      0.69      1177\n          threat       0.74      0.88      0.80      1649\n\n        accuracy                           0.72      3153\n       macro avg       0.47      0.52      0.50      3153\n    weighted avg       0.64      0.72      0.68      3153\n\n",
     "output_type": "stream"
    }
   ]
  },
  {
   "cell_type": "code",
   "metadata": {
    "deepnote_to_be_reexecuted": false,
    "execution_millis": 280,
    "execution_start": 1622247753853,
    "source_hash": "88ecc93c",
    "tags": [],
    "cell_id": "00066-feb61768-fa1e-4a9d-944d-e97a62321b0a",
    "deepnote_cell_type": "code"
   },
   "source": "#rf's metrics on validate\n\n#evaluate on validate sample\ny_pred = rf.predict(X_validate[combo_feats])\n\n#compute accuracy\nrf_val_acc = round(rf.score(X_validate[combo_feats], y_validate), 4)\n\n#compare train to validate\nprint('Accuracy of Random Forest classifier on train set: {:.4f}'\n     .format(rf.score(X_train[combo_feats], y_train)))\nprint(\"--------------------------------------------------------------\")\nprint(\"Random Forest classifier on validate set:\")\nprint(classification_report(y_validate, y_pred))",
   "execution_count": 36,
   "outputs": [
    {
     "name": "stdout",
     "text": "Accuracy of Random Forest classifier on train set: 0.7191\n--------------------------------------------------------------\nRandom Forest classifier on validate set:\n                  precision    recall  f1-score   support\n\nambiguous_threat       0.00      0.00      0.00       327\n       no_threat       0.68      0.70      0.69      1177\n          threat       0.74      0.88      0.80      1649\n\n        accuracy                           0.72      3153\n       macro avg       0.47      0.52      0.50      3153\n    weighted avg       0.64      0.72      0.68      3153\n\n",
     "output_type": "stream"
    }
   ]
  },
  {
   "cell_type": "code",
   "metadata": {
    "deepnote_to_be_reexecuted": false,
    "execution_millis": 1763,
    "execution_start": 1622247754140,
    "source_hash": "60fdbfcd",
    "tags": [],
    "cell_id": "00067-5fe2000e-33c7-4347-8ccf-c81baa6e7f59",
    "deepnote_cell_type": "code"
   },
   "source": "#knn's metrics on validate\n\n#evaluate on validate sample\ny_pred = knn.predict(X_validate[combo_feats])\n\n#compute accuracy\nknn_val_acc = round(knn.score(X_validate[combo_feats], y_validate), 4)\n\n#compare train to validate\nprint('Accuracy of KNN classifier on train set: {:.4f}'\n     .format(knn.score(X_train[combo_feats], y_train)))\nprint(\"--------------------------------------------------------------\")\nprint(\"KNN classifier on validate set:\")\nprint(classification_report(y_validate, y_pred))",
   "execution_count": 37,
   "outputs": [
    {
     "name": "stdout",
     "text": "Accuracy of KNN classifier on train set: 0.7129\n--------------------------------------------------------------\nKNN classifier on validate set:\n                  precision    recall  f1-score   support\n\nambiguous_threat       0.44      0.01      0.02       327\n       no_threat       0.69      0.63      0.66      1177\n          threat       0.71      0.89      0.79      1649\n\n        accuracy                           0.70      3153\n       macro avg       0.62      0.51      0.49      3153\n    weighted avg       0.68      0.70      0.66      3153\n\n",
     "output_type": "stream"
    }
   ]
  },
  {
   "cell_type": "code",
   "metadata": {
    "deepnote_to_be_reexecuted": false,
    "source_hash": "ae1971ef",
    "execution_start": 1622247755897,
    "execution_millis": 146,
    "cell_id": "00068-2b84c986-5548-4dfb-a967-7cd3f1c996c6",
    "deepnote_cell_type": "code"
   },
   "source": "#logit's metrics on validate\n\n#evaluate on validate sample\ny_pred = logit.predict(X_validate[combo_feats])\n\n#compute accuracy\nlogit_val_acc = round(logit.score(X_validate[combo_feats], y_validate), 4)\n\n#compare train to validate\nprint('Accuracy of Logistic Regression classifier on train set: {:.4f}'\n     .format(logit.score(X_train[combo_feats], y_train)))\nprint(\"--------------------------------------------------------------\")\nprint(\"Logistic Regression classifier on validate set:\")\nprint(classification_report(y_validate, y_pred))",
   "execution_count": 38,
   "outputs": [
    {
     "name": "stdout",
     "text": "Accuracy of Logistic Regression classifier on train set: 0.7178\n--------------------------------------------------------------\nLogistic Regression classifier on validate set:\n                  precision    recall  f1-score   support\n\nambiguous_threat       0.00      0.00      0.00       327\n       no_threat       0.68      0.70      0.69      1177\n          threat       0.74      0.87      0.80      1649\n\n        accuracy                           0.72      3153\n       macro avg       0.47      0.52      0.50      3153\n    weighted avg       0.64      0.72      0.68      3153\n\n",
     "output_type": "stream"
    }
   ]
  },
  {
   "cell_type": "code",
   "metadata": {
    "deepnote_to_be_reexecuted": false,
    "source_hash": "f5565531",
    "execution_start": 1622247756060,
    "execution_millis": 40,
    "cell_id": "00069-353e1870-ad01-4ff5-831f-80701afd224e",
    "deepnote_cell_type": "code"
   },
   "source": "# Build dataframe to record accuracy (starting with decision tree)\nmetric_df = pd.DataFrame(data=[{\n    'Model': 'Decision Tree', \n    'Baseline': round(baseline_accuracy, 4),\n    'Train Accuracy': round(dt_train_acc, 4),\n    'Validate Accuracy': round(dt_val_acc, 4)}])\n\n# append dataframe to record accuracy on random forest\nmetric_df = metric_df.append({\n    'Model': 'Random Forest', \n    'Baseline': round(baseline_accuracy, 4),\n    'Train Accuracy': round(rf_train_acc, 4),\n    'Validate Accuracy':round(rf_val_acc, 4)}, ignore_index=True)\n\n# append dataframe to record accuracy on knn\nmetric_df = metric_df.append({\n    'Model': 'K-Nearest Neighbor', \n    'Baseline': round(baseline_accuracy, 4),\n    'Train Accuracy': round(knn_train_acc, 4),\n    'Validate Accuracy':round(knn_val_acc, 4)}, ignore_index=True)\n\n# append dataframe to record accuracy on logistic regression\nmetric_df = metric_df.append({\n    'Model': 'Logistic Regression', \n    'Baseline': round(baseline_accuracy, 4),\n    'Train Accuracy': round(logit_train_acc, 4),\n    'Validate Accuracy':round(logit_val_acc, 4)}, ignore_index=True)\n\n\nmetric_df",
   "execution_count": 39,
   "outputs": [
    {
     "output_type": "execute_result",
     "execution_count": 39,
     "data": {
      "application/vnd.deepnote.dataframe.v2+json": {
       "row_count": 4,
       "column_count": 4,
       "columns": [
        {
         "name": "Model",
         "dtype": "object",
         "stats": {
          "unique_count": 4,
          "nan_count": 0,
          "categories": [
           {
            "name": "Decision Tree",
            "count": 1
           },
           {
            "name": "Random Forest",
            "count": 1
           },
           {
            "name": "2 others",
            "count": 2
           }
          ]
         }
        },
        {
         "name": "Baseline",
         "dtype": "float64",
         "stats": {
          "unique_count": 1,
          "nan_count": 0,
          "min": "0.5228",
          "max": "0.5228",
          "histogram": [
           {
            "bin_start": 0.022800000000000042,
            "bin_end": 0.12280000000000005,
            "count": 0
           },
           {
            "bin_start": 0.12280000000000005,
            "bin_end": 0.22280000000000005,
            "count": 0
           },
           {
            "bin_start": 0.22280000000000005,
            "bin_end": 0.3228000000000001,
            "count": 0
           },
           {
            "bin_start": 0.3228000000000001,
            "bin_end": 0.42280000000000006,
            "count": 0
           },
           {
            "bin_start": 0.42280000000000006,
            "bin_end": 0.5228,
            "count": 0
           },
           {
            "bin_start": 0.5228,
            "bin_end": 0.6228000000000001,
            "count": 4
           },
           {
            "bin_start": 0.6228000000000001,
            "bin_end": 0.7228000000000001,
            "count": 0
           },
           {
            "bin_start": 0.7228000000000001,
            "bin_end": 0.8228000000000001,
            "count": 0
           },
           {
            "bin_start": 0.8228000000000001,
            "bin_end": 0.9228000000000001,
            "count": 0
           },
           {
            "bin_start": 0.9228000000000001,
            "bin_end": 1.0228000000000002,
            "count": 0
           }
          ]
         }
        },
        {
         "name": "Train Accuracy",
         "dtype": "float64",
         "stats": {
          "unique_count": 4,
          "nan_count": 0,
          "min": "0.7129",
          "max": "0.7191",
          "histogram": [
           {
            "bin_start": 0.7129,
            "bin_end": 0.7135199999999999,
            "count": 1
           },
           {
            "bin_start": 0.7135199999999999,
            "bin_end": 0.71414,
            "count": 0
           },
           {
            "bin_start": 0.71414,
            "bin_end": 0.71476,
            "count": 0
           },
           {
            "bin_start": 0.71476,
            "bin_end": 0.71538,
            "count": 0
           },
           {
            "bin_start": 0.71538,
            "bin_end": 0.716,
            "count": 0
           },
           {
            "bin_start": 0.716,
            "bin_end": 0.7166199999999999,
            "count": 0
           },
           {
            "bin_start": 0.7166199999999999,
            "bin_end": 0.71724,
            "count": 0
           },
           {
            "bin_start": 0.71724,
            "bin_end": 0.7178599999999999,
            "count": 1
           },
           {
            "bin_start": 0.7178599999999999,
            "bin_end": 0.71848,
            "count": 0
           },
           {
            "bin_start": 0.71848,
            "bin_end": 0.7191,
            "count": 2
           }
          ]
         }
        },
        {
         "name": "Validate Accuracy",
         "dtype": "float64",
         "stats": {
          "unique_count": 4,
          "nan_count": 0,
          "min": "0.7044",
          "max": "0.7187",
          "histogram": [
           {
            "bin_start": 0.7044,
            "bin_end": 0.7058300000000001,
            "count": 1
           },
           {
            "bin_start": 0.7058300000000001,
            "bin_end": 0.70726,
            "count": 0
           },
           {
            "bin_start": 0.70726,
            "bin_end": 0.70869,
            "count": 0
           },
           {
            "bin_start": 0.70869,
            "bin_end": 0.71012,
            "count": 0
           },
           {
            "bin_start": 0.71012,
            "bin_end": 0.71155,
            "count": 0
           },
           {
            "bin_start": 0.71155,
            "bin_end": 0.7129800000000001,
            "count": 0
           },
           {
            "bin_start": 0.7129800000000001,
            "bin_end": 0.71441,
            "count": 0
           },
           {
            "bin_start": 0.71441,
            "bin_end": 0.71584,
            "count": 0
           },
           {
            "bin_start": 0.71584,
            "bin_end": 0.71727,
            "count": 1
           },
           {
            "bin_start": 0.71727,
            "bin_end": 0.7187,
            "count": 2
           }
          ]
         }
        },
        {
         "name": "_deepnote_index_column",
         "dtype": "int64"
        }
       ],
       "rows_top": [
        {
         "Model": "Decision Tree",
         "Baseline": 0.5228,
         "Train Accuracy": 0.7187,
         "Validate Accuracy": 0.7187,
         "_deepnote_index_column": 0
        },
        {
         "Model": "Random Forest",
         "Baseline": 0.5228,
         "Train Accuracy": 0.7191,
         "Validate Accuracy": 0.7184,
         "_deepnote_index_column": 1
        },
        {
         "Model": "K-Nearest Neighbor",
         "Baseline": 0.5228,
         "Train Accuracy": 0.7129,
         "Validate Accuracy": 0.7044,
         "_deepnote_index_column": 2
        },
        {
         "Model": "Logistic Regression",
         "Baseline": 0.5228,
         "Train Accuracy": 0.7178,
         "Validate Accuracy": 0.7165,
         "_deepnote_index_column": 3
        }
       ],
       "rows_bottom": null
      },
      "text/plain": "                 Model  Baseline  Train Accuracy  Validate Accuracy\n0        Decision Tree    0.5228          0.7187             0.7187\n1        Random Forest    0.5228          0.7191             0.7184\n2   K-Nearest Neighbor    0.5228          0.7129             0.7044\n3  Logistic Regression    0.5228          0.7178             0.7165",
      "text/html": "<div>\n<style scoped>\n    .dataframe tbody tr th:only-of-type {\n        vertical-align: middle;\n    }\n\n    .dataframe tbody tr th {\n        vertical-align: top;\n    }\n\n    .dataframe thead th {\n        text-align: right;\n    }\n</style>\n<table border=\"1\" class=\"dataframe\">\n  <thead>\n    <tr style=\"text-align: right;\">\n      <th></th>\n      <th>Model</th>\n      <th>Baseline</th>\n      <th>Train Accuracy</th>\n      <th>Validate Accuracy</th>\n    </tr>\n  </thead>\n  <tbody>\n    <tr>\n      <th>0</th>\n      <td>Decision Tree</td>\n      <td>0.5228</td>\n      <td>0.7187</td>\n      <td>0.7187</td>\n    </tr>\n    <tr>\n      <th>1</th>\n      <td>Random Forest</td>\n      <td>0.5228</td>\n      <td>0.7191</td>\n      <td>0.7184</td>\n    </tr>\n    <tr>\n      <th>2</th>\n      <td>K-Nearest Neighbor</td>\n      <td>0.5228</td>\n      <td>0.7129</td>\n      <td>0.7044</td>\n    </tr>\n    <tr>\n      <th>3</th>\n      <td>Logistic Regression</td>\n      <td>0.5228</td>\n      <td>0.7178</td>\n      <td>0.7165</td>\n    </tr>\n  </tbody>\n</table>\n</div>"
     },
     "metadata": {}
    }
   ]
  },
  {
   "cell_type": "code",
   "metadata": {
    "tags": [],
    "deepnote_to_be_reexecuted": false,
    "source_hash": "1670c0b5",
    "execution_start": 1622247756113,
    "execution_millis": 88,
    "cell_id": "00070-d9b4806c-79f0-4d76-b157-248ba8d9a9a6",
    "deepnote_cell_type": "code"
   },
   "source": "4# Build dataframe to record accuracy (starting with decision tree)\nmetric_df = pd.DataFrame(data=[{\n    'Model': 'Decision Tree', \n    'Baseline': round(baseline_accuracy, 4),\n    'Train Accuracy': round(dt_train_acc, 4),\n    'Validate Accuracy': round(dt_val_acc, 4)}])\n\n# append dataframe to record accuracy on random forest\nmetric_df = metric_df.append({\n    'Model': 'Random Forest', \n    'Baseline': round(baseline_accuracy, 4),\n    'Train Accuracy': round(rf_train_acc, 4),\n    'Validate Accuracy':round(rf_val_acc, 4)}, ignore_index=True)\n\n# append dataframe to record accuracy on knn\nmetric_df = metric_df.append({\n    'Model': 'K-Nearest Neighbor', \n    'Baseline': round(baseline_accuracy, 4),\n    'Train Accuracy': round(knn_train_acc, 4),\n    'Validate Accuracy':round(knn_val_acc, 4)}, ignore_index=True)\n\n# append dataframe to record accuracy on logistic regression\nmetric_df = metric_df.append({\n    'Model': 'Logistic Regression', \n    'Baseline': round(baseline_accuracy, 4),\n    'Train Accuracy': round(logit_train_acc,4),\n    'Validate Accuracy':round(logit_val_acc, 4)}, ignore_index=True)\n\n\nmetric_df",
   "execution_count": 40,
   "outputs": [
    {
     "output_type": "execute_result",
     "execution_count": 40,
     "data": {
      "application/vnd.deepnote.dataframe.v2+json": {
       "row_count": 4,
       "column_count": 4,
       "columns": [
        {
         "name": "Model",
         "dtype": "object",
         "stats": {
          "unique_count": 4,
          "nan_count": 0,
          "categories": [
           {
            "name": "Decision Tree",
            "count": 1
           },
           {
            "name": "Random Forest",
            "count": 1
           },
           {
            "name": "2 others",
            "count": 2
           }
          ]
         }
        },
        {
         "name": "Baseline",
         "dtype": "float64",
         "stats": {
          "unique_count": 1,
          "nan_count": 0,
          "min": "0.5228",
          "max": "0.5228",
          "histogram": [
           {
            "bin_start": 0.022800000000000042,
            "bin_end": 0.12280000000000005,
            "count": 0
           },
           {
            "bin_start": 0.12280000000000005,
            "bin_end": 0.22280000000000005,
            "count": 0
           },
           {
            "bin_start": 0.22280000000000005,
            "bin_end": 0.3228000000000001,
            "count": 0
           },
           {
            "bin_start": 0.3228000000000001,
            "bin_end": 0.42280000000000006,
            "count": 0
           },
           {
            "bin_start": 0.42280000000000006,
            "bin_end": 0.5228,
            "count": 0
           },
           {
            "bin_start": 0.5228,
            "bin_end": 0.6228000000000001,
            "count": 4
           },
           {
            "bin_start": 0.6228000000000001,
            "bin_end": 0.7228000000000001,
            "count": 0
           },
           {
            "bin_start": 0.7228000000000001,
            "bin_end": 0.8228000000000001,
            "count": 0
           },
           {
            "bin_start": 0.8228000000000001,
            "bin_end": 0.9228000000000001,
            "count": 0
           },
           {
            "bin_start": 0.9228000000000001,
            "bin_end": 1.0228000000000002,
            "count": 0
           }
          ]
         }
        },
        {
         "name": "Train Accuracy",
         "dtype": "float64",
         "stats": {
          "unique_count": 4,
          "nan_count": 0,
          "min": "0.7129",
          "max": "0.7191",
          "histogram": [
           {
            "bin_start": 0.7129,
            "bin_end": 0.7135199999999999,
            "count": 1
           },
           {
            "bin_start": 0.7135199999999999,
            "bin_end": 0.71414,
            "count": 0
           },
           {
            "bin_start": 0.71414,
            "bin_end": 0.71476,
            "count": 0
           },
           {
            "bin_start": 0.71476,
            "bin_end": 0.71538,
            "count": 0
           },
           {
            "bin_start": 0.71538,
            "bin_end": 0.716,
            "count": 0
           },
           {
            "bin_start": 0.716,
            "bin_end": 0.7166199999999999,
            "count": 0
           },
           {
            "bin_start": 0.7166199999999999,
            "bin_end": 0.71724,
            "count": 0
           },
           {
            "bin_start": 0.71724,
            "bin_end": 0.7178599999999999,
            "count": 1
           },
           {
            "bin_start": 0.7178599999999999,
            "bin_end": 0.71848,
            "count": 0
           },
           {
            "bin_start": 0.71848,
            "bin_end": 0.7191,
            "count": 2
           }
          ]
         }
        },
        {
         "name": "Validate Accuracy",
         "dtype": "float64",
         "stats": {
          "unique_count": 4,
          "nan_count": 0,
          "min": "0.7044",
          "max": "0.7187",
          "histogram": [
           {
            "bin_start": 0.7044,
            "bin_end": 0.7058300000000001,
            "count": 1
           },
           {
            "bin_start": 0.7058300000000001,
            "bin_end": 0.70726,
            "count": 0
           },
           {
            "bin_start": 0.70726,
            "bin_end": 0.70869,
            "count": 0
           },
           {
            "bin_start": 0.70869,
            "bin_end": 0.71012,
            "count": 0
           },
           {
            "bin_start": 0.71012,
            "bin_end": 0.71155,
            "count": 0
           },
           {
            "bin_start": 0.71155,
            "bin_end": 0.7129800000000001,
            "count": 0
           },
           {
            "bin_start": 0.7129800000000001,
            "bin_end": 0.71441,
            "count": 0
           },
           {
            "bin_start": 0.71441,
            "bin_end": 0.71584,
            "count": 0
           },
           {
            "bin_start": 0.71584,
            "bin_end": 0.71727,
            "count": 1
           },
           {
            "bin_start": 0.71727,
            "bin_end": 0.7187,
            "count": 2
           }
          ]
         }
        },
        {
         "name": "_deepnote_index_column",
         "dtype": "int64"
        }
       ],
       "rows_top": [
        {
         "Model": "Decision Tree",
         "Baseline": 0.5228,
         "Train Accuracy": 0.7187,
         "Validate Accuracy": 0.7187,
         "_deepnote_index_column": 0
        },
        {
         "Model": "Random Forest",
         "Baseline": 0.5228,
         "Train Accuracy": 0.7191,
         "Validate Accuracy": 0.7184,
         "_deepnote_index_column": 1
        },
        {
         "Model": "K-Nearest Neighbor",
         "Baseline": 0.5228,
         "Train Accuracy": 0.7129,
         "Validate Accuracy": 0.7044,
         "_deepnote_index_column": 2
        },
        {
         "Model": "Logistic Regression",
         "Baseline": 0.5228,
         "Train Accuracy": 0.7178,
         "Validate Accuracy": 0.7165,
         "_deepnote_index_column": 3
        }
       ],
       "rows_bottom": null
      },
      "text/plain": "                 Model  Baseline  Train Accuracy  Validate Accuracy\n0        Decision Tree    0.5228          0.7187             0.7187\n1        Random Forest    0.5228          0.7191             0.7184\n2   K-Nearest Neighbor    0.5228          0.7129             0.7044\n3  Logistic Regression    0.5228          0.7178             0.7165",
      "text/html": "<div>\n<style scoped>\n    .dataframe tbody tr th:only-of-type {\n        vertical-align: middle;\n    }\n\n    .dataframe tbody tr th {\n        vertical-align: top;\n    }\n\n    .dataframe thead th {\n        text-align: right;\n    }\n</style>\n<table border=\"1\" class=\"dataframe\">\n  <thead>\n    <tr style=\"text-align: right;\">\n      <th></th>\n      <th>Model</th>\n      <th>Baseline</th>\n      <th>Train Accuracy</th>\n      <th>Validate Accuracy</th>\n    </tr>\n  </thead>\n  <tbody>\n    <tr>\n      <th>0</th>\n      <td>Decision Tree</td>\n      <td>0.5228</td>\n      <td>0.7187</td>\n      <td>0.7187</td>\n    </tr>\n    <tr>\n      <th>1</th>\n      <td>Random Forest</td>\n      <td>0.5228</td>\n      <td>0.7191</td>\n      <td>0.7184</td>\n    </tr>\n    <tr>\n      <th>2</th>\n      <td>K-Nearest Neighbor</td>\n      <td>0.5228</td>\n      <td>0.7129</td>\n      <td>0.7044</td>\n    </tr>\n    <tr>\n      <th>3</th>\n      <td>Logistic Regression</td>\n      <td>0.5228</td>\n      <td>0.7178</td>\n      <td>0.7165</td>\n    </tr>\n  </tbody>\n</table>\n</div>"
     },
     "metadata": {}
    }
   ]
  },
  {
   "cell_type": "markdown",
   "source": "### Takeaways\n\n**Random Forest** is the best-performing model and will be evaluated on test data.\n",
   "metadata": {
    "tags": [],
    "cell_id": "00071-06af83c1-a144-4fc6-8e68-8ff8d8ef5338",
    "deepnote_cell_type": "markdown"
   }
  },
  {
   "cell_type": "markdown",
   "source": "\n___\n## • Model on Test",
   "metadata": {
    "cell_id": "00072-40810f05-de8c-4ba9-af23-4e1fd35f3ba6",
    "deepnote_cell_type": "markdown"
   }
  },
  {
   "cell_type": "code",
   "metadata": {
    "deepnote_to_be_reexecuted": false,
    "source_hash": "815c6057",
    "execution_start": 1622247756195,
    "execution_millis": 88,
    "cell_id": "00073-e0890eaf-365f-4679-b768-5f14e3367c0e",
    "deepnote_cell_type": "code"
   },
   "source": "#evaluate on test sample \ny_pred_test = rf.predict(X_test[combo_feats])\n\n#compute accuracy\n#rf_test_acc = round(rf.score(X_test[combo_feats], y_test), 4)\n\nprint(\"Random Forest Model:\")\nprint(classification_report(y_test, y_pred_test))",
   "execution_count": 41,
   "outputs": [
    {
     "name": "stdout",
     "text": "Random Forest Model:\n                  precision    recall  f1-score   support\n\nambiguous_threat       0.00      0.00      0.00       273\n       no_threat       0.68      0.69      0.68       981\n          threat       0.74      0.87      0.80      1374\n\n        accuracy                           0.72      2628\n       macro avg       0.47      0.52      0.50      2628\n    weighted avg       0.64      0.72      0.67      2628\n\n",
     "output_type": "stream"
    }
   ]
  },
  {
   "cell_type": "code",
   "source": "#evaluate on test sample \ny_pred_test = dt.predict(X_test[combo_feats])\n\n#compute accuracy\ndt_test_acc = round(dt.score(X_test[combo_feats], y_test), 4)\n\nprint(\"Decision Tree Model:\")\nprint(classification_report(y_test, y_pred_test))",
   "metadata": {
    "tags": [],
    "cell_id": "00068-d9600b65-5ac8-4f83-9918-7c8b9f54c3f3",
    "deepnote_to_be_reexecuted": false,
    "source_hash": "c6aeab9c",
    "execution_start": 1622247756330,
    "execution_millis": 89,
    "deepnote_cell_type": "code"
   },
   "outputs": [
    {
     "name": "stdout",
     "text": "Decision Tree Model:\n                  precision    recall  f1-score   support\n\nambiguous_threat       0.00      0.00      0.00       273\n       no_threat       0.68      0.69      0.68       981\n          threat       0.74      0.87      0.80      1374\n\n        accuracy                           0.72      2628\n       macro avg       0.47      0.52      0.50      2628\n    weighted avg       0.64      0.72      0.67      2628\n\n",
     "output_type": "stream"
    }
   ],
   "execution_count": 42
  },
  {
   "cell_type": "code",
   "metadata": {
    "tags": [],
    "deepnote_to_be_reexecuted": false,
    "source_hash": "3cf1bb2c",
    "execution_start": 1622247756419,
    "execution_millis": 0,
    "cell_id": "00074-a02e101b-7a5c-45ce-a5d3-48cbc2027908",
    "is_code_hidden": true,
    "deepnote_cell_type": "code"
   },
   "source": "# FEEL FREE TO DELETE\ndef get_metrics(mod, X, y):\n    \"\"\"\n    get_metrics returns the baseline accuracy score \n    along with the current model's accuracy score for comparison \n    along with a table of precision/recall/f1-score/support percentages of the model\n    \"\"\"\n    baseline_accuracy = (train.alleged_threat_lvl == 1).mean()\n    y_pred = mod.predict(X)\n    accuracy = mod.score(X, y)\n    conf = confusion_matrix(y, y_pred)\n    prfs = pd.DataFrame(precision_recall_fscore_support(y, y_pred), index=['precision', 'recall', 'f1-score', 'support'])\n    \n    print(f'''\n    BASELINE accuracy is: {baseline_accuracy:.2%}\n    The accuracy for our model is: {accuracy:.5%} \n    ''')\n    return conf, prfs",
   "execution_count": 43,
   "outputs": []
  },
  {
   "cell_type": "code",
   "metadata": {
    "tags": [],
    "deepnote_to_be_reexecuted": false,
    "source_hash": "939ea9a5",
    "execution_start": 1622247756420,
    "execution_millis": 51,
    "cell_id": "00076-6f10350c-feb1-4317-be4d-85b9582d0373",
    "is_code_hidden": true,
    "is_output_hidden": true,
    "deepnote_cell_type": "code"
   },
   "source": "# WANTED TO SEE MORE DECIMAL PTS\nget_metrics(dt, X_test[combo_feats], y_test)",
   "execution_count": 44,
   "outputs": [
    {
     "name": "stdout",
     "text": "\n    BASELINE accuracy is: 0.00%\n    The accuracy for our model is: 71.53729% \n    \n",
     "output_type": "stream"
    },
    {
     "output_type": "execute_result",
     "execution_count": 44,
     "data": {
      "text/plain": "(array([[   0,  152,  121],\n        [   0,  679,  302],\n        [   0,  173, 1201]]),\n                0           1            2\n precision    0.0    0.676295     0.739532\n recall       0.0    0.692151     0.874090\n f1-score     0.0    0.684131     0.801201\n support    273.0  981.000000  1374.000000)"
     },
     "metadata": {}
    }
   ]
  },
  {
   "cell_type": "code",
   "metadata": {
    "tags": [],
    "deepnote_to_be_reexecuted": false,
    "source_hash": "6d25118a",
    "execution_start": 1622247756463,
    "execution_millis": 8,
    "cell_id": "00079-ee4a5d2a-5512-486d-847d-4692dc03367a",
    "is_output_hidden": true,
    "is_code_hidden": true,
    "deepnote_cell_type": "code"
   },
   "source": "combo_feats\n",
   "execution_count": 45,
   "outputs": [
    {
     "output_type": "execute_result",
     "execution_count": 45,
     "data": {
      "text/plain": "['fleeing',\n 'had_other_weapon',\n 'is_middle eastern',\n '12-17',\n 'had_no_weapon',\n 'is_native_american',\n '25-34',\n '18-24',\n 'under 12',\n 'had_firearm',\n 'is_hispanic']"
     },
     "metadata": {}
    }
   ]
  },
  {
   "cell_type": "code",
   "metadata": {
    "tags": [],
    "deepnote_to_be_reexecuted": false,
    "source_hash": "291eff78",
    "execution_start": 1622247756493,
    "execution_millis": 16,
    "cell_id": "00080-9dd55403-513c-49e5-915f-1ba2b811b414",
    "is_code_hidden": true,
    "is_output_hidden": true,
    "deepnote_cell_type": "code"
   },
   "source": "rfcn = pd.DataFrame(data = y_test)\nrfcn['alleged_threat_lvl'] = rfcn['alleged_threat_lvl'].astype(str)\nrfcn.info()",
   "execution_count": 46,
   "outputs": [
    {
     "name": "stdout",
     "text": "<class 'pandas.core.frame.DataFrame'>\nInt64Index: 2628 entries, 5639 to 2968\nData columns (total 1 columns):\n #   Column              Non-Null Count  Dtype \n---  ------              --------------  ----- \n 0   alleged_threat_lvl  2628 non-null   object\ndtypes: object(1)\nmemory usage: 41.1+ KB\n",
     "output_type": "stream"
    }
   ]
  },
  {
   "cell_type": "code",
   "metadata": {
    "tags": [],
    "deepnote_to_be_reexecuted": false,
    "source_hash": "beef4ab1",
    "execution_start": 1622247756493,
    "execution_millis": 0,
    "cell_id": "00082-18ea0ab1-0470-4d6c-a4b9-9a3aaec0574a",
    "is_output_hidden": true,
    "is_code_hidden": true,
    "deepnote_cell_type": "code"
   },
   "source": "from sklearn.tree import DecisionTreeClassifier\nfrom sklearn import tree\nfrom sklearn.tree import export_graphviz",
   "execution_count": 47,
   "outputs": []
  },
  {
   "cell_type": "code",
   "metadata": {
    "tags": [],
    "deepnote_to_be_reexecuted": false,
    "source_hash": "643a9f3e",
    "execution_start": 1622247756494,
    "execution_millis": 0,
    "cell_id": "00083-2e50856f-0ab1-43d5-8f25-e1835b2ce19c",
    "is_code_hidden": true,
    "deepnote_cell_type": "code"
   },
   "source": "est = rf.estimators_",
   "execution_count": 48,
   "outputs": []
  },
  {
   "cell_type": "code",
   "metadata": {
    "tags": [],
    "deepnote_to_be_reexecuted": false,
    "source_hash": "ebf9eea0",
    "execution_start": 1622247756500,
    "execution_millis": 13,
    "cell_id": "00084-75728f37-d730-40d2-97c4-9a29ace8ade9",
    "is_code_hidden": true,
    "is_output_hidden": true,
    "deepnote_cell_type": "code"
   },
   "source": "# Our Random Forest consists of 100 trees\nprint(len(rf.estimators_))",
   "execution_count": 49,
   "outputs": [
    {
     "name": "stdout",
     "text": "100\n",
     "output_type": "stream"
    }
   ]
  },
  {
   "cell_type": "code",
   "metadata": {
    "tags": [],
    "deepnote_to_be_reexecuted": false,
    "source_hash": "99e59487",
    "execution_start": 1622247756518,
    "execution_millis": 278,
    "cell_id": "00085-bd359170-c0c5-410f-ba82-ab1c1221cd6f",
    "is_code_hidden": true,
    "is_output_hidden": true,
    "deepnote_cell_type": "code"
   },
   "source": "# Find feature importance\nprint(rf.feature_importances_)\n\nfeatimp = pd.DataFrame(rf.feature_importances_)\nfeatimp['combo_feats'] = combo_feats\n\n\n\nfeature_names = combo_feats\n\nplt.figure(figsize=(5, 5))\nplt.barh(feature_names, rf.feature_importances_)\nplt.title('Which Features are Better Predictors?')\n",
   "execution_count": 50,
   "outputs": [
    {
     "name": "stdout",
     "text": "[1.47377679e-01 1.12588500e-02 2.94021145e-04 2.57800193e-02\n 5.65095424e-01 3.54228684e-03 4.63586846e-03 1.08849595e-02\n 1.93055299e-02 2.03299687e-01 8.52567537e-03]\n",
     "output_type": "stream"
    },
    {
     "output_type": "execute_result",
     "execution_count": 50,
     "data": {
      "text/plain": "Text(0.5, 1.0, 'Which Features are Better Predictors?')"
     },
     "metadata": {}
    },
    {
     "data": {
      "text/plain": "<Figure size 360x360 with 1 Axes>",
      "image/png": "[encoded data removed]"
     },
     "metadata": {
      "needs_background": "light",
      "image/png": {
       "width": 396,
       "height": 319
      }
     },
     "output_type": "display_data"
    }
   ]
  },
  {
   "cell_type": "code",
   "metadata": {
    "deepnote_to_be_reexecuted": false,
    "source_hash": "bbd1b14e",
    "execution_start": 1622247756843,
    "execution_millis": 1,
    "cell_id": "00086-131d0175-8a20-4142-aad2-bae164579ee0",
    "deepnote_cell_type": "code"
   },
   "source": "# append dataframe to record accuracy on final random forest\nmetric_df = metric_df.append({\n    'Model': 'Decision Tree', \n    'Baseline': round(baseline_accuracy, 4),\n    'Train Accuracy': round(rf_train_acc, 4),\n    'Validate Accuracy':round(rf_val_acc, 4),\n    'Test Accuracy': round(dt_test_acc, 4)}, ignore_index=True)",
   "execution_count": 51,
   "outputs": []
  },
  {
   "cell_type": "code",
   "metadata": {
    "deepnote_to_be_reexecuted": false,
    "source_hash": "400c35cf",
    "execution_start": 1622247756844,
    "execution_millis": 25,
    "cell_id": "00087-6a279b0d-fb38-4053-a0ab-4366486b8bbc",
    "deepnote_cell_type": "code"
   },
   "source": "metric_df",
   "execution_count": 52,
   "outputs": [
    {
     "output_type": "execute_result",
     "execution_count": 52,
     "data": {
      "application/vnd.deepnote.dataframe.v2+json": {
       "row_count": 5,
       "column_count": 5,
       "columns": [
        {
         "name": "Model",
         "dtype": "object",
         "stats": {
          "unique_count": 4,
          "nan_count": 0,
          "categories": [
           {
            "name": "Decision Tree",
            "count": 2
           },
           {
            "name": "Random Forest",
            "count": 1
           },
           {
            "name": "2 others",
            "count": 2
           }
          ]
         }
        },
        {
         "name": "Baseline",
         "dtype": "float64",
         "stats": {
          "unique_count": 1,
          "nan_count": 0,
          "min": "0.5228",
          "max": "0.5228",
          "histogram": [
           {
            "bin_start": 0.022800000000000042,
            "bin_end": 0.12280000000000005,
            "count": 0
           },
           {
            "bin_start": 0.12280000000000005,
            "bin_end": 0.22280000000000005,
            "count": 0
           },
           {
            "bin_start": 0.22280000000000005,
            "bin_end": 0.3228000000000001,
            "count": 0
           },
           {
            "bin_start": 0.3228000000000001,
            "bin_end": 0.42280000000000006,
            "count": 0
           },
           {
            "bin_start": 0.42280000000000006,
            "bin_end": 0.5228,
            "count": 0
           },
           {
            "bin_start": 0.5228,
            "bin_end": 0.6228000000000001,
            "count": 5
           },
           {
            "bin_start": 0.6228000000000001,
            "bin_end": 0.7228000000000001,
            "count": 0
           },
           {
            "bin_start": 0.7228000000000001,
            "bin_end": 0.8228000000000001,
            "count": 0
           },
           {
            "bin_start": 0.8228000000000001,
            "bin_end": 0.9228000000000001,
            "count": 0
           },
           {
            "bin_start": 0.9228000000000001,
            "bin_end": 1.0228000000000002,
            "count": 0
           }
          ]
         }
        },
        {
         "name": "Train Accuracy",
         "dtype": "float64",
         "stats": {
          "unique_count": 4,
          "nan_count": 0,
          "min": "0.7129",
          "max": "0.7191",
          "histogram": [
           {
            "bin_start": 0.7129,
            "bin_end": 0.7135199999999999,
            "count": 1
           },
           {
            "bin_start": 0.7135199999999999,
            "bin_end": 0.71414,
            "count": 0
           },
           {
            "bin_start": 0.71414,
            "bin_end": 0.71476,
            "count": 0
           },
           {
            "bin_start": 0.71476,
            "bin_end": 0.71538,
            "count": 0
           },
           {
            "bin_start": 0.71538,
            "bin_end": 0.716,
            "count": 0
           },
           {
            "bin_start": 0.716,
            "bin_end": 0.7166199999999999,
            "count": 0
           },
           {
            "bin_start": 0.7166199999999999,
            "bin_end": 0.71724,
            "count": 0
           },
           {
            "bin_start": 0.71724,
            "bin_end": 0.7178599999999999,
            "count": 1
           },
           {
            "bin_start": 0.7178599999999999,
            "bin_end": 0.71848,
            "count": 0
           },
           {
            "bin_start": 0.71848,
            "bin_end": 0.7191,
            "count": 3
           }
          ]
         }
        },
        {
         "name": "Validate Accuracy",
         "dtype": "float64",
         "stats": {
          "unique_count": 4,
          "nan_count": 0,
          "min": "0.7044",
          "max": "0.7187",
          "histogram": [
           {
            "bin_start": 0.7044,
            "bin_end": 0.7058300000000001,
            "count": 1
           },
           {
            "bin_start": 0.7058300000000001,
            "bin_end": 0.70726,
            "count": 0
           },
           {
            "bin_start": 0.70726,
            "bin_end": 0.70869,
            "count": 0
           },
           {
            "bin_start": 0.70869,
            "bin_end": 0.71012,
            "count": 0
           },
           {
            "bin_start": 0.71012,
            "bin_end": 0.71155,
            "count": 0
           },
           {
            "bin_start": 0.71155,
            "bin_end": 0.7129800000000001,
            "count": 0
           },
           {
            "bin_start": 0.7129800000000001,
            "bin_end": 0.71441,
            "count": 0
           },
           {
            "bin_start": 0.71441,
            "bin_end": 0.71584,
            "count": 0
           },
           {
            "bin_start": 0.71584,
            "bin_end": 0.71727,
            "count": 1
           },
           {
            "bin_start": 0.71727,
            "bin_end": 0.7187,
            "count": 3
           }
          ]
         }
        },
        {
         "name": "Test Accuracy",
         "dtype": "float64",
         "stats": {
          "unique_count": 1,
          "nan_count": 4,
          "min": "0.7154",
          "max": "0.7154",
          "histogram": [
           {
            "bin_start": 0.21540000000000004,
            "bin_end": 0.3154,
            "count": 0
           },
           {
            "bin_start": 0.3154,
            "bin_end": 0.41540000000000005,
            "count": 0
           },
           {
            "bin_start": 0.41540000000000005,
            "bin_end": 0.5154000000000001,
            "count": 0
           },
           {
            "bin_start": 0.5154000000000001,
            "bin_end": 0.6154000000000001,
            "count": 0
           },
           {
            "bin_start": 0.6154000000000001,
            "bin_end": 0.7154,
            "count": 0
           },
           {
            "bin_start": 0.7154,
            "bin_end": 0.8154000000000001,
            "count": 1
           },
           {
            "bin_start": 0.8154000000000001,
            "bin_end": 0.9154000000000001,
            "count": 0
           },
           {
            "bin_start": 0.9154000000000001,
            "bin_end": 1.0154,
            "count": 0
           },
           {
            "bin_start": 1.0154,
            "bin_end": 1.1154000000000002,
            "count": 0
           },
           {
            "bin_start": 1.1154000000000002,
            "bin_end": 1.2154,
            "count": 0
           }
          ]
         }
        },
        {
         "name": "_deepnote_index_column",
         "dtype": "int64"
        }
       ],
       "rows_top": [
        {
         "Model": "Decision Tree",
         "Baseline": 0.5228,
         "Train Accuracy": 0.7187,
         "Validate Accuracy": 0.7187,
         "Test Accuracy": "nan",
         "_deepnote_index_column": 0
        },
        {
         "Model": "Random Forest",
         "Baseline": 0.5228,
         "Train Accuracy": 0.7191,
         "Validate Accuracy": 0.7184,
         "Test Accuracy": "nan",
         "_deepnote_index_column": 1
        },
        {
         "Model": "K-Nearest Neighbor",
         "Baseline": 0.5228,
         "Train Accuracy": 0.7129,
         "Validate Accuracy": 0.7044,
         "Test Accuracy": "nan",
         "_deepnote_index_column": 2
        },
        {
         "Model": "Logistic Regression",
         "Baseline": 0.5228,
         "Train Accuracy": 0.7178,
         "Validate Accuracy": 0.7165,
         "Test Accuracy": "nan",
         "_deepnote_index_column": 3
        },
        {
         "Model": "Decision Tree",
         "Baseline": 0.5228,
         "Train Accuracy": 0.7191,
         "Validate Accuracy": 0.7184,
         "Test Accuracy": 0.7154,
         "_deepnote_index_column": 4
        }
       ],
       "rows_bottom": null
      },
      "text/plain": "                 Model  Baseline  Train Accuracy  Validate Accuracy  \\\n0        Decision Tree    0.5228          0.7187             0.7187   \n1        Random Forest    0.5228          0.7191             0.7184   \n2   K-Nearest Neighbor    0.5228          0.7129             0.7044   \n3  Logistic Regression    0.5228          0.7178             0.7165   \n4        Decision Tree    0.5228          0.7191             0.7184   \n\n   Test Accuracy  \n0            NaN  \n1            NaN  \n2            NaN  \n3            NaN  \n4         0.7154  ",
      "text/html": "<div>\n<style scoped>\n    .dataframe tbody tr th:only-of-type {\n        vertical-align: middle;\n    }\n\n    .dataframe tbody tr th {\n        vertical-align: top;\n    }\n\n    .dataframe thead th {\n        text-align: right;\n    }\n</style>\n<table border=\"1\" class=\"dataframe\">\n  <thead>\n    <tr style=\"text-align: right;\">\n      <th></th>\n      <th>Model</th>\n      <th>Baseline</th>\n      <th>Train Accuracy</th>\n      <th>Validate Accuracy</th>\n      <th>Test Accuracy</th>\n    </tr>\n  </thead>\n  <tbody>\n    <tr>\n      <th>0</th>\n      <td>Decision Tree</td>\n      <td>0.5228</td>\n      <td>0.7187</td>\n      <td>0.7187</td>\n      <td>NaN</td>\n    </tr>\n    <tr>\n      <th>1</th>\n      <td>Random Forest</td>\n      <td>0.5228</td>\n      <td>0.7191</td>\n      <td>0.7184</td>\n      <td>NaN</td>\n    </tr>\n    <tr>\n      <th>2</th>\n      <td>K-Nearest Neighbor</td>\n      <td>0.5228</td>\n      <td>0.7129</td>\n      <td>0.7044</td>\n      <td>NaN</td>\n    </tr>\n    <tr>\n      <th>3</th>\n      <td>Logistic Regression</td>\n      <td>0.5228</td>\n      <td>0.7178</td>\n      <td>0.7165</td>\n      <td>NaN</td>\n    </tr>\n    <tr>\n      <th>4</th>\n      <td>Decision Tree</td>\n      <td>0.5228</td>\n      <td>0.7191</td>\n      <td>0.7184</td>\n      <td>0.7154</td>\n    </tr>\n  </tbody>\n</table>\n</div>"
     },
     "metadata": {}
    }
   ]
  },
  {
   "cell_type": "code",
   "source": "dt.feature_importances_",
   "metadata": {
    "tags": [],
    "cell_id": "00088-ba4ee27d-b04e-43a2-bf3c-300382a28079",
    "deepnote_to_be_reexecuted": false,
    "source_hash": "514a04bf",
    "execution_start": 1622247756852,
    "execution_millis": 17,
    "is_code_hidden": true,
    "is_output_hidden": true,
    "deepnote_cell_type": "code"
   },
   "outputs": [
    {
     "output_type": "execute_result",
     "execution_count": 53,
     "data": {
      "text/plain": "array([0.0438291 , 0.01523259, 0.        , 0.00703148, 0.85229204,\n       0.        , 0.        , 0.        , 0.01325378, 0.06120492,\n       0.0071561 ])"
     },
     "metadata": {}
    }
   ],
   "execution_count": 53
  },
  {
   "cell_type": "code",
   "source": "dt_fe_df = pd.DataFrame(dt.feature_importances_, index = X_train[combo_feats].columns,\n                          columns = ['coeffs']).sort_values(by = 'coeffs', ascending = False)",
   "metadata": {
    "tags": [],
    "cell_id": "00090-ef3351b1-f4e0-463a-a272-c82fe479e720",
    "deepnote_to_be_reexecuted": false,
    "source_hash": "d4d4436d",
    "execution_start": 1622247756860,
    "execution_millis": 2,
    "deepnote_cell_type": "code"
   },
   "outputs": [],
   "execution_count": 54
  },
  {
   "cell_type": "code",
   "source": "dt_fe_df['coeffs']= round(dt_fe_df.coeffs*100, 2)",
   "metadata": {
    "tags": [],
    "cell_id": "00091-ac8a9e25-f582-4d6c-9ab9-da124947a1f8",
    "deepnote_to_be_reexecuted": false,
    "source_hash": "5a7652b2",
    "execution_start": 1622247756897,
    "execution_millis": 0,
    "deepnote_cell_type": "code"
   },
   "outputs": [],
   "execution_count": 55
  },
  {
   "cell_type": "code",
   "source": "dt_fe_df",
   "metadata": {
    "tags": [],
    "cell_id": "00090-8a32746d-b2ce-4a04-b4ae-562bed25ea2f",
    "deepnote_to_be_reexecuted": false,
    "source_hash": "b2eaea76",
    "execution_start": 1622247756897,
    "execution_millis": 8,
    "deepnote_cell_type": "code"
   },
   "outputs": [
    {
     "output_type": "execute_result",
     "execution_count": 56,
     "data": {
      "application/vnd.deepnote.dataframe.v2+json": {
       "row_count": 11,
       "column_count": 1,
       "columns": [
        {
         "name": "coeffs",
         "dtype": "float64",
         "stats": {
          "unique_count": 8,
          "nan_count": 0,
          "min": "0.0",
          "max": "85.23",
          "histogram": [
           {
            "bin_start": 0,
            "bin_end": 8.523,
            "count": 10
           },
           {
            "bin_start": 8.523,
            "bin_end": 17.046,
            "count": 0
           },
           {
            "bin_start": 17.046,
            "bin_end": 25.569,
            "count": 0
           },
           {
            "bin_start": 25.569,
            "bin_end": 34.092,
            "count": 0
           },
           {
            "bin_start": 34.092,
            "bin_end": 42.614999999999995,
            "count": 0
           },
           {
            "bin_start": 42.614999999999995,
            "bin_end": 51.138,
            "count": 0
           },
           {
            "bin_start": 51.138,
            "bin_end": 59.661,
            "count": 0
           },
           {
            "bin_start": 59.661,
            "bin_end": 68.184,
            "count": 0
           },
           {
            "bin_start": 68.184,
            "bin_end": 76.707,
            "count": 0
           },
           {
            "bin_start": 76.707,
            "bin_end": 85.23,
            "count": 1
           }
          ]
         }
        },
        {
         "name": "_deepnote_index_column",
         "dtype": "object"
        }
       ],
       "rows_top": [
        {
         "coeffs": 85.23,
         "_deepnote_index_column": "had_no_weapon"
        },
        {
         "coeffs": 6.12,
         "_deepnote_index_column": "had_firearm"
        },
        {
         "coeffs": 4.38,
         "_deepnote_index_column": "fleeing"
        },
        {
         "coeffs": 1.52,
         "_deepnote_index_column": "had_other_weapon"
        },
        {
         "coeffs": 1.33,
         "_deepnote_index_column": "under 12"
        },
        {
         "coeffs": 0.72,
         "_deepnote_index_column": "is_hispanic"
        },
        {
         "coeffs": 0.7,
         "_deepnote_index_column": "12-17"
        },
        {
         "coeffs": 0,
         "_deepnote_index_column": "is_middle eastern"
        },
        {
         "coeffs": 0,
         "_deepnote_index_column": "is_native_american"
        },
        {
         "coeffs": 0,
         "_deepnote_index_column": "25-34"
        },
        {
         "coeffs": 0,
         "_deepnote_index_column": "18-24"
        }
       ],
       "rows_bottom": null
      },
      "text/plain": "                    coeffs\nhad_no_weapon        85.23\nhad_firearm           6.12\nfleeing               4.38\nhad_other_weapon      1.52\nunder 12              1.33\nis_hispanic           0.72\n12-17                 0.70\nis_middle eastern     0.00\nis_native_american    0.00\n25-34                 0.00\n18-24                 0.00",
      "text/html": "<div>\n<style scoped>\n    .dataframe tbody tr th:only-of-type {\n        vertical-align: middle;\n    }\n\n    .dataframe tbody tr th {\n        vertical-align: top;\n    }\n\n    .dataframe thead th {\n        text-align: right;\n    }\n</style>\n<table border=\"1\" class=\"dataframe\">\n  <thead>\n    <tr style=\"text-align: right;\">\n      <th></th>\n      <th>coeffs</th>\n    </tr>\n  </thead>\n  <tbody>\n    <tr>\n      <th>had_no_weapon</th>\n      <td>85.23</td>\n    </tr>\n    <tr>\n      <th>had_firearm</th>\n      <td>6.12</td>\n    </tr>\n    <tr>\n      <th>fleeing</th>\n      <td>4.38</td>\n    </tr>\n    <tr>\n      <th>had_other_weapon</th>\n      <td>1.52</td>\n    </tr>\n    <tr>\n      <th>under 12</th>\n      <td>1.33</td>\n    </tr>\n    <tr>\n      <th>is_hispanic</th>\n      <td>0.72</td>\n    </tr>\n    <tr>\n      <th>12-17</th>\n      <td>0.70</td>\n    </tr>\n    <tr>\n      <th>is_middle eastern</th>\n      <td>0.00</td>\n    </tr>\n    <tr>\n      <th>is_native_american</th>\n      <td>0.00</td>\n    </tr>\n    <tr>\n      <th>25-34</th>\n      <td>0.00</td>\n    </tr>\n    <tr>\n      <th>18-24</th>\n      <td>0.00</td>\n    </tr>\n  </tbody>\n</table>\n</div>"
     },
     "metadata": {}
    }
   ],
   "execution_count": 56
  },
  {
   "cell_type": "code",
   "source": "plt.figure(figsize=(16, 8))\nsns.barplot(data=dt_fe_df, x='coeffs', y=dt_fe_df.index, palette='PuBu_r')\nplt.title('Which Attributes Affect Likelihood of Threat Status?', fontsize=30)\nplt.xlim([0, 100])\nplt.xlabel('Percent of Importance', fontsize=20)\nplt.ylabel('Attribute', fontsize=20)\nplt.show()",
   "metadata": {
    "tags": [],
    "cell_id": "00092-e488af69-3ec8-42b9-8f6f-b6b686fd36e9",
    "deepnote_to_be_reexecuted": false,
    "source_hash": "c21578a9",
    "execution_start": 1622247756899,
    "execution_millis": 338,
    "deepnote_cell_type": "code"
   },
   "outputs": [
    {
     "data": {
      "text/plain": "<Figure size 1152x576 with 1 Axes>",
      "image/png": "[encoded data removed]"
     },
     "metadata": {
      "needs_background": "light",
      "image/png": {
       "width": 1042,
       "height": 518
      }
     },
     "output_type": "display_data"
    }
   ],
   "execution_count": 57
  },
  {
   "cell_type": "code",
   "source": "iter2_dt_acc = pd.DataFrame({\n\n    'titles':['Actual Threat', 'Baseline Threat Accuracy', 'Decision Tree Model Threat Accuracy'],\n    'pct':[round(((df.alleged_threat_lvl == \"threat\").mean())*100, 2), round(((train.alleged_threat_lvl == \"threat\").mean())*100, 2), round((dt.score(X_test[combo_feats], y_test))*100, 2)]\n})",
   "metadata": {
    "tags": [],
    "cell_id": "00092-7205eedd-4fa3-4e27-813f-6a47fab0bd2a",
    "deepnote_to_be_reexecuted": false,
    "source_hash": "e0c63ebc",
    "execution_start": 1622247757242,
    "execution_millis": 6,
    "deepnote_cell_type": "code"
   },
   "outputs": [],
   "execution_count": 58
  },
  {
   "cell_type": "code",
   "source": "iter2_rf_acc = pd.DataFrame({\n\n    'titles':['Actual Threat', 'Baseline Threat Accuracy', 'Random Forest Model Threat Accuracy'],\n    'pct':[round(((df.alleged_threat_lvl == \"threat\").mean())*100, 2), round(((train.alleged_threat_lvl == \"threat\").mean())*100, 2), round(rf_test_acc, 4)*100]\n})",
   "metadata": {
    "tags": [],
    "cell_id": "00094-e1951e98-922b-4743-90bb-4ae5f242cd1d",
    "deepnote_to_be_reexecuted": false,
    "source_hash": "64567f0d",
    "execution_start": 1622247757257,
    "execution_millis": 1196,
    "is_code_hidden": true,
    "is_output_hidden": true,
    "deepnote_cell_type": "code"
   },
   "outputs": [
    {
     "output_type": "error",
     "ename": "NameError",
     "evalue": "name 'rf_test_acc' is not defined",
     "traceback": [
      "\u001b[0;31m---------------------------------------------------------------------------\u001b[0m",
      "\u001b[0;31mNameError\u001b[0m                                 Traceback (most recent call last)",
      "\u001b[0;32m<ipython-input-59-8a7c9e549555>\u001b[0m in \u001b[0;36m<module>\u001b[0;34m\u001b[0m\n\u001b[1;32m      2\u001b[0m \u001b[0;34m\u001b[0m\u001b[0m\n\u001b[1;32m      3\u001b[0m     \u001b[0;34m'titles'\u001b[0m\u001b[0;34m:\u001b[0m\u001b[0;34m[\u001b[0m\u001b[0;34m'Actual Threat'\u001b[0m\u001b[0;34m,\u001b[0m \u001b[0;34m'Baseline Threat Accuracy'\u001b[0m\u001b[0;34m,\u001b[0m \u001b[0;34m'Random Forest Model Threat Accuracy'\u001b[0m\u001b[0;34m]\u001b[0m\u001b[0;34m,\u001b[0m\u001b[0;34m\u001b[0m\u001b[0;34m\u001b[0m\u001b[0m\n\u001b[0;32m----> 4\u001b[0;31m     \u001b[0;34m'pct'\u001b[0m\u001b[0;34m:\u001b[0m\u001b[0;34m[\u001b[0m\u001b[0mround\u001b[0m\u001b[0;34m(\u001b[0m\u001b[0;34m(\u001b[0m\u001b[0;34m(\u001b[0m\u001b[0mdf\u001b[0m\u001b[0;34m.\u001b[0m\u001b[0malleged_threat_lvl\u001b[0m \u001b[0;34m==\u001b[0m \u001b[0;34m\"threat\"\u001b[0m\u001b[0;34m)\u001b[0m\u001b[0;34m.\u001b[0m\u001b[0mmean\u001b[0m\u001b[0;34m(\u001b[0m\u001b[0;34m)\u001b[0m\u001b[0;34m)\u001b[0m\u001b[0;34m*\u001b[0m\u001b[0;36m100\u001b[0m\u001b[0;34m,\u001b[0m \u001b[0;36m2\u001b[0m\u001b[0;34m)\u001b[0m\u001b[0;34m,\u001b[0m \u001b[0mround\u001b[0m\u001b[0;34m(\u001b[0m\u001b[0;34m(\u001b[0m\u001b[0;34m(\u001b[0m\u001b[0mtrain\u001b[0m\u001b[0;34m.\u001b[0m\u001b[0malleged_threat_lvl\u001b[0m \u001b[0;34m==\u001b[0m \u001b[0;34m\"threat\"\u001b[0m\u001b[0;34m)\u001b[0m\u001b[0;34m.\u001b[0m\u001b[0mmean\u001b[0m\u001b[0;34m(\u001b[0m\u001b[0;34m)\u001b[0m\u001b[0;34m)\u001b[0m\u001b[0;34m*\u001b[0m\u001b[0;36m100\u001b[0m\u001b[0;34m,\u001b[0m \u001b[0;36m2\u001b[0m\u001b[0;34m)\u001b[0m\u001b[0;34m,\u001b[0m \u001b[0mround\u001b[0m\u001b[0;34m(\u001b[0m\u001b[0mrf_test_acc\u001b[0m\u001b[0;34m,\u001b[0m \u001b[0;36m4\u001b[0m\u001b[0;34m)\u001b[0m\u001b[0;34m*\u001b[0m\u001b[0;36m100\u001b[0m\u001b[0;34m]\u001b[0m\u001b[0;34m\u001b[0m\u001b[0;34m\u001b[0m\u001b[0m\n\u001b[0m\u001b[1;32m      5\u001b[0m })\n",
      "\u001b[0;31mNameError\u001b[0m: name 'rf_test_acc' is not defined"
     ]
    }
   ],
   "execution_count": 59
  },
  {
   "cell_type": "code",
   "source": "f, ax = plt.subplots(figsize=(9, 7)) \n\nsns.barplot(data=iter2_dt_acc, x='titles', y='pct', palette='ocean_r')\n\nax.text(1.92, 64, '72%', style='italic', size='xx-large', color='white')\nax.text(0.88, 48, '52.28%', style='italic', size='large', color='white')\nax.text(-0.13, 48, '52.29%', style='italic', size='large', color='white')\n\nplt.title('Second Iteration Accuracy Levels', fontsize=20)\nplt.ylim([0, 100])\nplt.xlabel('', fontsize=10)\nplt.ylabel('Accuracy Percentage (%)', fontsize=10)\nplt.show()\n",
   "metadata": {
    "tags": [],
    "cell_id": "00095-8108f73d-7dd2-47bb-993e-cfa3f9a15264",
    "deepnote_to_be_reexecuted": false,
    "source_hash": "35804cf2",
    "execution_start": 1622247775153,
    "execution_millis": 259,
    "deepnote_cell_type": "code"
   },
   "outputs": [
    {
     "data": {
      "text/plain": "<Figure size 648x504 with 1 Axes>",
      "image/png": "[encoded data removed]"
     },
     "metadata": {
      "needs_background": "light",
      "image/png": {
       "width": 564,
       "height": 432
      }
     },
     "output_type": "display_data"
    }
   ],
   "execution_count": 60
  },
  {
   "cell_type": "code",
   "source": "f, ax = plt.subplots(figsize=(9.2, 7)) \n\nsns.barplot(data=iter2_rf_acc, x='titles', y='pct', palette='ocean_r')\n\nax.text(1.92, 64, '72%', style='italic', size='xx-large', color='white')\nax.text(0.88, 48, '52.28%', style='italic', size='large', color='white')\nax.text(-0.13, 48, '52.29%', style='italic', size='large', color='white')\n\nplt.title('Second Iteration Accuracy Levels', fontsize=20)\nplt.ylim([0, 100])\nplt.xlabel('', fontsize=10)\nplt.ylabel('Accuracy Percentage (%)', fontsize=10)\nplt.show()",
   "metadata": {
    "tags": [],
    "cell_id": "00097-1cc7ffe3-5bad-4e8f-ad98-1b8583591d61",
    "deepnote_to_be_reexecuted": true,
    "source_hash": "ab9337c6",
    "execution_start": 1622241597888,
    "execution_millis": 173,
    "is_code_hidden": true,
    "is_output_hidden": true,
    "deepnote_cell_type": "code"
   },
   "outputs": [
    {
     "output_type": "error",
     "ename": "NameError",
     "evalue": "name 'iter2_rf_acc' is not defined",
     "traceback": [
      "\u001b[0;31m---------------------------------------------------------------------------\u001b[0m",
      "\u001b[0;31mNameError\u001b[0m                                 Traceback (most recent call last)",
      "\u001b[0;32m<ipython-input-61-93ff71990168>\u001b[0m in \u001b[0;36m<module>\u001b[0;34m\u001b[0m\n\u001b[1;32m      1\u001b[0m \u001b[0mf\u001b[0m\u001b[0;34m,\u001b[0m \u001b[0max\u001b[0m \u001b[0;34m=\u001b[0m \u001b[0mplt\u001b[0m\u001b[0;34m.\u001b[0m\u001b[0msubplots\u001b[0m\u001b[0;34m(\u001b[0m\u001b[0mfigsize\u001b[0m\u001b[0;34m=\u001b[0m\u001b[0;34m(\u001b[0m\u001b[0;36m9.2\u001b[0m\u001b[0;34m,\u001b[0m \u001b[0;36m7\u001b[0m\u001b[0;34m)\u001b[0m\u001b[0;34m)\u001b[0m\u001b[0;34m\u001b[0m\u001b[0;34m\u001b[0m\u001b[0m\n\u001b[1;32m      2\u001b[0m \u001b[0;34m\u001b[0m\u001b[0m\n\u001b[0;32m----> 3\u001b[0;31m \u001b[0msns\u001b[0m\u001b[0;34m.\u001b[0m\u001b[0mbarplot\u001b[0m\u001b[0;34m(\u001b[0m\u001b[0mdata\u001b[0m\u001b[0;34m=\u001b[0m\u001b[0miter2_rf_acc\u001b[0m\u001b[0;34m,\u001b[0m \u001b[0mx\u001b[0m\u001b[0;34m=\u001b[0m\u001b[0;34m'titles'\u001b[0m\u001b[0;34m,\u001b[0m \u001b[0my\u001b[0m\u001b[0;34m=\u001b[0m\u001b[0;34m'pct'\u001b[0m\u001b[0;34m,\u001b[0m \u001b[0mpalette\u001b[0m\u001b[0;34m=\u001b[0m\u001b[0;34m'ocean_r'\u001b[0m\u001b[0;34m)\u001b[0m\u001b[0;34m\u001b[0m\u001b[0;34m\u001b[0m\u001b[0m\n\u001b[0m\u001b[1;32m      4\u001b[0m \u001b[0;34m\u001b[0m\u001b[0m\n\u001b[1;32m      5\u001b[0m \u001b[0max\u001b[0m\u001b[0;34m.\u001b[0m\u001b[0mtext\u001b[0m\u001b[0;34m(\u001b[0m\u001b[0;36m1.92\u001b[0m\u001b[0;34m,\u001b[0m \u001b[0;36m64\u001b[0m\u001b[0;34m,\u001b[0m \u001b[0;34m'72%'\u001b[0m\u001b[0;34m,\u001b[0m \u001b[0mstyle\u001b[0m\u001b[0;34m=\u001b[0m\u001b[0;34m'italic'\u001b[0m\u001b[0;34m,\u001b[0m \u001b[0msize\u001b[0m\u001b[0;34m=\u001b[0m\u001b[0;34m'xx-large'\u001b[0m\u001b[0;34m,\u001b[0m \u001b[0mcolor\u001b[0m\u001b[0;34m=\u001b[0m\u001b[0;34m'white'\u001b[0m\u001b[0;34m)\u001b[0m\u001b[0;34m\u001b[0m\u001b[0;34m\u001b[0m\u001b[0m\n",
      "\u001b[0;31mNameError\u001b[0m: name 'iter2_rf_acc' is not defined"
     ]
    },
    {
     "data": {
      "text/plain": "<Figure size 662.4x504 with 1 Axes>",
      "image/png": "[encoded data removed]"
     },
     "metadata": {
      "needs_background": "light",
      "image/png": {
       "width": 558,
       "height": 415
      }
     },
     "output_type": "display_data"
    }
   ],
   "execution_count": null
  },
  {
   "cell_type": "markdown",
   "source": "### What is ROC?\n\nROC curves describe the **trade-off between the true positive rate (TPR) and false positive (FPR) rate along different probability thresholds** for a classifier. True positive rate is also known as recall and sometimes Sensitivity — it’s a measure of how well you can find the needle in a haystack.\n\n**The receiver operating characteristic (ROC) curve has become the p-value of machine learning classification** — it’s very frequently used, misused, misinterpreted, and mis-maligned.\n\nHowever, ROC curves (like p-values) are useful when used right. By that, I mean they are **useful when not used as a rote score**, but when they form part of a nuanced description of a model’s ability to help solve the problem at hand (e.g. in the case of minority class identification, do they perform better than a random guess or assuming all instances are in the majority class).\n\n### What is AUC?\n\nArea Under the Curve gives the rate of successful classification by the model. The AUC makes it easy to compare the ROC curve of one model to another.\n\n\n",
   "metadata": {
    "tags": [],
    "cell_id": "00077-37279561-1aa7-41e9-ae3e-b3017c474155",
    "is_code_hidden": true,
    "deepnote_cell_type": "markdown"
   }
  },
  {
   "cell_type": "code",
   "source": "y_train",
   "metadata": {
    "tags": [],
    "cell_id": "00089-1ba505bc-f166-46ba-a5d0-1818d40c1e2b",
    "deepnote_to_be_reexecuted": true,
    "source_hash": "ed857f47",
    "execution_start": 1622241749682,
    "execution_millis": 14,
    "deepnote_cell_type": "code"
   },
   "outputs": [
    {
     "output_type": "execute_result",
     "execution_count": 67,
     "data": {
      "text/plain": "12025              threat\n5781               threat\n10778              threat\n58              no_threat\n1127               threat\n               ...       \n852      ambiguous_threat\n165             no_threat\n6329            no_threat\n1967            no_threat\n6896               threat\nName: alleged_threat_lvl, Length: 7356, dtype: object"
     },
     "metadata": {}
    }
   ],
   "execution_count": null
  },
  {
   "cell_type": "code",
   "source": "from sklearn.metrics import auc, roc_curve, roc_auc_score, precision_recall_curve\n\nplt.figure(figsize=(10,10))\n\ny_pred = dt.predict_proba(X_test[combo_feats])[:,1]\n\nfpr_t, tpr_t, threshold_t = roc_curve(pd.Series(np.where(y_test == 'threat', 1, 0)), y_pred)\nplt.plot(fpr_t, tpr_t, lw=2, label=f'Decision Regression-threat (area = %0.3f)' % auc(fpr_t, tpr_t))\n\nfpr_nt, tpr_nt, threshold_nt = roc_curve(pd.Series(np.where(y_test == 'no_threat', 1, 0)), y_pred)\nplt.plot(fpr_nt, tpr_nt, lw=2, label=f'Decision Regression-no threat (area = %0.3f)' % auc(fpr_nt, tpr_nt))\n\nfpr_at, tpr_at, threshold_at = roc_curve(pd.Series(np.where(y_test == 'ambiguous_threat', 1, 0)), y_pred)\nplt.plot(fpr_at, tpr_at, lw=2, label=f'Decision Regression-ambiguous threat (area = %0.3f)' % auc(fpr_at, tpr_at))\n\n\nplt.plot([0, 1], [0, 1], color='black', lw=2, linestyle= '-', label = 'Random Classifier')\nplt.xlim([0.0, 1.0])\nplt.ylim([0.0, 1.0])\nplt.xlabel('False Positive Rate', fontsize=13)\nplt.ylabel('True Positive Rate', fontsize=14)\nplt.title('', fontsize=17)\nplt.legend(loc='lower right', fontsize=13)\nplt.show()",
   "metadata": {
    "tags": [],
    "cell_id": "00089-5f9a5d1d-f960-441a-b805-0b737f4493d7",
    "deepnote_to_be_reexecuted": false,
    "source_hash": "6505c016",
    "execution_start": 1622247782247,
    "execution_millis": 308,
    "deepnote_cell_type": "code"
   },
   "outputs": [
    {
     "data": {
      "text/plain": "<Figure size 720x720 with 1 Axes>",
      "image/png": "[encoded data removed]"
     },
     "metadata": {
      "needs_background": "light",
      "image/png": {
       "width": 621,
       "height": 596
      }
     },
     "output_type": "display_data"
    }
   ],
   "execution_count": 61
  },
  {
   "cell_type": "markdown",
   "source": "\n___\n# Conclusion\n\n### Takeaways\n- All models had roughly the same score for train and validate sets.\n- K-Nearest neighbor model performed the worst on out-of-sample data.\n- The best performing model uses a Random Forest algorithm and combined features from Select K Best and Recursive Feature Elimination lists.\n- Our final Random Forest model increased by 21% from a baseline accuracy of 51% to 72% accuracy on out-of-sample data.\n\n\n### Drivers\n- The top drivers of predicting a victim's threat level were encounter type of incident, gender, race, armed/unarmed status, mental illness, age, geography, fleeing events, and body camera reports.\n- These drivers can be used to shed light on changes to be made in law enforcement and to help law enforcement agencies spot risk factors, so they may step in before risk transforms into actual harm.\n\n\n### Next Steps\n- Fill in missing values manually as best as possible based on the description column in the dataset (large amount of data missing). \n- Natural language processing exploration on description of incident. ",
   "metadata": {
    "cell_id": "00088-09603e85-b93b-4bb2-a3c5-654a1a6413a9",
    "deepnote_cell_type": "markdown"
   }
  },
  {
   "cell_type": "markdown",
   "source": "\n#### Report containing summarization of notebook can be found [here](link to presentation).",
   "metadata": {
    "tags": [],
    "cell_id": "00089-924fbff7-e3ed-4631-a6ff-b35c32ece2c0",
    "deepnote_cell_type": "markdown"
   }
  },
  {
   "cell_type": "markdown",
   "source": "",
   "metadata": {
    "tags": [],
    "cell_id": "00090-5a2cd706-11da-4941-9b6c-08d97d80c5af",
    "deepnote_cell_type": "markdown"
   }
  },
  {
   "cell_type": "markdown",
   "source": "<a style='text-decoration:none;line-height:16px;display:flex;color:#5B5B62;padding:10px;justify-content:end;' href='https://deepnote.com?utm_source=created-in-deepnote-cell&projectId=258e71fc-cf2b-48c3-8461-70ecd9787aa1' target=\"_blank\">\n<img alt='Created in deepnote.com' style='display:inline;max-height:16px;margin:0px;margin-right:7.5px;' src='data:image/svg+xml;base64,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' > </img>\nCreated in <span style='font-weight:600;margin-left:4px;'>Deepnote</span></a>",
   "metadata": {
    "tags": [],
    "created_in_deepnote_cell": true,
    "deepnote_cell_type": "markdown"
   }
  }
 ],
 "nbformat": 4,
 "nbformat_minor": 4,
 "metadata": {
  "kernelspec": {
   "display_name": "Python 3",
   "language": "python",
   "name": "python3"
  },
  "language_info": {
   "codemirror_mode": {
    "name": "ipython",
    "version": 3
   },
   "file_extension": ".py",
   "mimetype": "text/x-python",
   "name": "python",
   "nbconvert_exporter": "python",
   "pygments_lexer": "ipython3",
   "version": "3.8.5"
  },
  "deepnote_notebook_id": "bff30273-f3af-4ca6-9f3f-76413d7994fc",
  "deepnote": {},
  "deepnote_execution_queue": []
 }
}