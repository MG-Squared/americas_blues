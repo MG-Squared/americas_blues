{
 "cells": [
  {
   "cell_type": "code",
   "source": "import pandas as pd\nimport numpy as np\nfrom scipy import stats\n\n# Visualizations\nimport seaborn as sns\nimport matplotlib.pyplot as plt",
   "metadata": {
    "tags": [],
    "cell_id": "00000-ecb47137-bec1-48b6-9372-dc8b96c97e28",
    "deepnote_to_be_reexecuted": false,
    "source_hash": "a90c3a66",
    "execution_start": 1621470826509,
    "execution_millis": 2,
    "deepnote_cell_type": "code"
   },
   "outputs": [],
   "execution_count": 375
  },
  {
   "cell_type": "code",
   "metadata": {
    "tags": [],
    "cell_id": "00000-add84c03-00a4-4ee2-8d92-68cca582e73f",
    "deepnote_to_be_reexecuted": false,
    "source_hash": "90a66",
    "execution_start": 1621470826514,
    "execution_millis": 5236,
    "deepnote_cell_type": "code"
   },
   "source": "df = pd.read_excel('data.xlsx')\ndf.head(1)",
   "execution_count": 376,
   "outputs": [
    {
     "output_type": "execute_result",
     "execution_count": 376,
     "data": {
      "application/vnd.deepnote.dataframe.v2+json": {
       "row_count": 1,
       "column_count": 49,
       "columns": [
        {
         "name": "Victim's name",
         "dtype": "object",
         "stats": {
          "unique_count": 1,
          "nan_count": 0,
          "categories": [
           {
            "name": "Kalon Horton",
            "count": 1
           }
          ]
         }
        },
        {
         "name": "Victim's age",
         "dtype": "object",
         "stats": {
          "unique_count": 1,
          "nan_count": 0,
          "categories": [
           {
            "name": "29",
            "count": 1
           }
          ]
         }
        },
        {
         "name": "Victim's gender",
         "dtype": "object",
         "stats": {
          "unique_count": 1,
          "nan_count": 0,
          "categories": [
           {
            "name": "Male",
            "count": 1
           }
          ]
         }
        },
        {
         "name": "Victim's race",
         "dtype": "object",
         "stats": {
          "unique_count": 1,
          "nan_count": 0,
          "categories": [
           {
            "name": "Black",
            "count": 1
           }
          ]
         }
        },
        {
         "name": "URL of image of victim",
         "dtype": "object",
         "stats": {
          "unique_count": 0,
          "nan_count": 1,
          "categories": [
           {
            "name": "Missing",
            "count": 1
           }
          ]
         }
        },
        {
         "name": "Date of Incident (month/day/year)",
         "dtype": "datetime64[ns]",
         "stats": {
          "unique_count": 1,
          "nan_count": 0,
          "min": "2021-05-09 00:00:00",
          "max": "2021-05-09 00:00:00",
          "histogram": null
         }
        },
        {
         "name": "Street Address of Incident",
         "dtype": "object",
         "stats": {
          "unique_count": 0,
          "nan_count": 1,
          "categories": [
           {
            "name": "Missing",
            "count": 1
           }
          ]
         }
        },
        {
         "name": "City",
         "dtype": "object",
         "stats": {
          "unique_count": 1,
          "nan_count": 0,
          "categories": [
           {
            "name": "Lancaster",
            "count": 1
           }
          ]
         }
        },
        {
         "name": "State",
         "dtype": "object",
         "stats": {
          "unique_count": 1,
          "nan_count": 0,
          "categories": [
           {
            "name": "TX",
            "count": 1
           }
          ]
         }
        },
        {
         "name": "Zipcode",
         "dtype": "float64",
         "stats": {
          "unique_count": 0,
          "nan_count": 1,
          "min": null,
          "max": null,
          "histogram": [
           {
            "bin_start": 0,
            "bin_end": 0.1,
            "count": 0
           },
           {
            "bin_start": 0.1,
            "bin_end": 0.2,
            "count": 0
           },
           {
            "bin_start": 0.2,
            "bin_end": 0.30000000000000004,
            "count": 0
           },
           {
            "bin_start": 0.30000000000000004,
            "bin_end": 0.4,
            "count": 0
           },
           {
            "bin_start": 0.4,
            "bin_end": 0.5,
            "count": 0
           },
           {
            "bin_start": 0.5,
            "bin_end": 0.6000000000000001,
            "count": 0
           },
           {
            "bin_start": 0.6000000000000001,
            "bin_end": 0.7000000000000001,
            "count": 0
           },
           {
            "bin_start": 0.7000000000000001,
            "bin_end": 0.8,
            "count": 0
           },
           {
            "bin_start": 0.8,
            "bin_end": 0.9,
            "count": 0
           },
           {
            "bin_start": 0.9,
            "bin_end": 1,
            "count": 0
           }
          ]
         }
        },
        {
         "name": "County",
         "dtype": "object",
         "stats": {
          "unique_count": 0,
          "nan_count": 1,
          "categories": [
           {
            "name": "Missing",
            "count": 1
           }
          ]
         }
        },
        {
         "name": "Agency responsible for death",
         "dtype": "object",
         "stats": {
          "unique_count": 1,
          "nan_count": 0,
          "categories": [
           {
            "name": "Lancaster Police Department",
            "count": 1
           }
          ]
         }
        },
        {
         "name": "ORI Agency Identifier (if available)",
         "dtype": "object",
         "stats": {
          "unique_count": 1,
          "nan_count": 0,
          "categories": [
           {
            "name": "TX0571700",
            "count": 1
           }
          ]
         }
        },
        {
         "name": "Cause of death",
         "dtype": "object",
         "stats": {
          "unique_count": 1,
          "nan_count": 0,
          "categories": [
           {
            "name": "Gunshot",
            "count": 1
           }
          ]
         }
        },
        {
         "name": "A brief description of the circumstances surrounding the death",
         "dtype": "object",
         "stats": {
          "unique_count": 1,
          "nan_count": 0,
          "categories": [
           {
            "name": "Police responded to a call of a man firing shots within an apartment complex. Officers went to Horton's apartment and forced their way in. Police claim Horton was armed, and they shot and killed him.",
            "count": 1
           }
          ]
         }
        },
        {
         "name": "Official disposition of death (justified or other)",
         "dtype": "object",
         "stats": {
          "unique_count": 1,
          "nan_count": 0,
          "categories": [
           {
            "name": "Pending investigation",
            "count": 1
           }
          ]
         }
        },
        {
         "name": "Criminal Charges?",
         "dtype": "object",
         "stats": {
          "unique_count": 1,
          "nan_count": 0,
          "categories": [
           {
            "name": "No known charges",
            "count": 1
           }
          ]
         }
        },
        {
         "name": "Link to news article or photo of official document",
         "dtype": "object",
         "stats": {
          "unique_count": 1,
          "nan_count": 0,
          "categories": [
           {
            "name": "https://www.fox4news.com/news/lancaster-police-officers-involved-in-shooting",
            "count": 1
           }
          ]
         }
        },
        {
         "name": "Symptoms of mental illness?",
         "dtype": "object",
         "stats": {
          "unique_count": 1,
          "nan_count": 0,
          "categories": [
           {
            "name": "No",
            "count": 1
           }
          ]
         }
        },
        {
         "name": "Armed/Unarmed Status",
         "dtype": "object",
         "stats": {
          "unique_count": 1,
          "nan_count": 0,
          "categories": [
           {
            "name": "Allegedly Armed",
            "count": 1
           }
          ]
         }
        },
        {
         "name": "Alleged Weapon (Source: WaPo and Review of Cases Not Included in WaPo Database)",
         "dtype": "object",
         "stats": {
          "unique_count": 1,
          "nan_count": 0,
          "categories": [
           {
            "name": "gun",
            "count": 1
           }
          ]
         }
        },
        {
         "name": "Alleged Threat Level (Source: WaPo)",
         "dtype": "object",
         "stats": {
          "unique_count": 1,
          "nan_count": 0,
          "categories": [
           {
            "name": "attack",
            "count": 1
           }
          ]
         }
        },
        {
         "name": "Fleeing (Source: WaPo)",
         "dtype": "object",
         "stats": {
          "unique_count": 0,
          "nan_count": 1,
          "categories": [
           {
            "name": "Missing",
            "count": 1
           }
          ]
         }
        },
        {
         "name": "Body Camera (Source: WaPo)",
         "dtype": "object",
         "stats": {
          "unique_count": 1,
          "nan_count": 0,
          "categories": [
           {
            "name": "no",
            "count": 1
           }
          ]
         }
        },
        {
         "name": "WaPo ID (If included in WaPo database)",
         "dtype": "float64",
         "stats": {
          "unique_count": 1,
          "nan_count": 0,
          "min": "6842.0",
          "max": "6842.0",
          "histogram": [
           {
            "bin_start": 6841.5,
            "bin_end": 6841.6,
            "count": 0
           },
           {
            "bin_start": 6841.6,
            "bin_end": 6841.7,
            "count": 0
           },
           {
            "bin_start": 6841.7,
            "bin_end": 6841.8,
            "count": 0
           },
           {
            "bin_start": 6841.8,
            "bin_end": 6841.9,
            "count": 0
           },
           {
            "bin_start": 6841.9,
            "bin_end": 6842,
            "count": 0
           },
           {
            "bin_start": 6842,
            "bin_end": 6842.1,
            "count": 1
           },
           {
            "bin_start": 6842.1,
            "bin_end": 6842.2,
            "count": 0
           },
           {
            "bin_start": 6842.2,
            "bin_end": 6842.3,
            "count": 0
           },
           {
            "bin_start": 6842.3,
            "bin_end": 6842.4,
            "count": 0
           },
           {
            "bin_start": 6842.4,
            "bin_end": 6842.5,
            "count": 0
           }
          ]
         }
        },
        {
         "name": "Off-Duty Killing?",
         "dtype": "object",
         "stats": {
          "unique_count": 0,
          "nan_count": 1,
          "categories": [
           {
            "name": "Missing",
            "count": 1
           }
          ]
         }
        },
        {
         "name": "Geography (via Trulia methodology based on zipcode population density: http://jedkolko.com/wp-content/uploads/2015/05/full-ZCTA-urban-suburban-rural-classification.xlsx )",
         "dtype": "object",
         "stats": {
          "unique_count": 0,
          "nan_count": 1,
          "categories": [
           {
            "name": "Missing",
            "count": 1
           }
          ]
         }
        },
        {
         "name": "MPV ID",
         "dtype": "float64",
         "stats": {
          "unique_count": 0,
          "nan_count": 1,
          "min": null,
          "max": null,
          "histogram": [
           {
            "bin_start": 0,
            "bin_end": 0.1,
            "count": 0
           },
           {
            "bin_start": 0.1,
            "bin_end": 0.2,
            "count": 0
           },
           {
            "bin_start": 0.2,
            "bin_end": 0.30000000000000004,
            "count": 0
           },
           {
            "bin_start": 0.30000000000000004,
            "bin_end": 0.4,
            "count": 0
           },
           {
            "bin_start": 0.4,
            "bin_end": 0.5,
            "count": 0
           },
           {
            "bin_start": 0.5,
            "bin_end": 0.6000000000000001,
            "count": 0
           },
           {
            "bin_start": 0.6000000000000001,
            "bin_end": 0.7000000000000001,
            "count": 0
           },
           {
            "bin_start": 0.7000000000000001,
            "bin_end": 0.8,
            "count": 0
           },
           {
            "bin_start": 0.8,
            "bin_end": 0.9,
            "count": 0
           },
           {
            "bin_start": 0.9,
            "bin_end": 1,
            "count": 0
           }
          ]
         }
        },
        {
         "name": "Fatal Encounters ID",
         "dtype": "float64",
         "stats": {
          "unique_count": 0,
          "nan_count": 1,
          "min": null,
          "max": null,
          "histogram": [
           {
            "bin_start": 0,
            "bin_end": 0.1,
            "count": 0
           },
           {
            "bin_start": 0.1,
            "bin_end": 0.2,
            "count": 0
           },
           {
            "bin_start": 0.2,
            "bin_end": 0.30000000000000004,
            "count": 0
           },
           {
            "bin_start": 0.30000000000000004,
            "bin_end": 0.4,
            "count": 0
           },
           {
            "bin_start": 0.4,
            "bin_end": 0.5,
            "count": 0
           },
           {
            "bin_start": 0.5,
            "bin_end": 0.6000000000000001,
            "count": 0
           },
           {
            "bin_start": 0.6000000000000001,
            "bin_end": 0.7000000000000001,
            "count": 0
           },
           {
            "bin_start": 0.7000000000000001,
            "bin_end": 0.8,
            "count": 0
           },
           {
            "bin_start": 0.8,
            "bin_end": 0.9,
            "count": 0
           },
           {
            "bin_start": 0.9,
            "bin_end": 1,
            "count": 0
           }
          ]
         }
        },
        {
         "name": "Encounter Type (DRAFT)",
         "dtype": "object",
         "stats": {
          "unique_count": 1,
          "nan_count": 0,
          "categories": [
           {
            "name": "Part 1 Violent Crime",
            "count": 1
           }
          ]
         }
        },
        {
         "name": "Initial Reported Reason for Encounter (DRAFT)",
         "dtype": "object",
         "stats": {
          "unique_count": 1,
          "nan_count": 0,
          "categories": [
           {
            "name": "gunshots",
            "count": 1
           }
          ]
         }
        },
        {
         "name": "Names of Officers Involved (DRAFT)",
         "dtype": "object",
         "stats": {
          "unique_count": 0,
          "nan_count": 1,
          "categories": [
           {
            "name": "Missing",
            "count": 1
           }
          ]
         }
        },
        {
         "name": "Race of Officers Involved (DRAFT)",
         "dtype": "object",
         "stats": {
          "unique_count": 0,
          "nan_count": 1,
          "categories": [
           {
            "name": "Missing",
            "count": 1
           }
          ]
         }
        },
        {
         "name": "Known Past Shootings of Officer(s) (DRAFT)",
         "dtype": "object",
         "stats": {
          "unique_count": 0,
          "nan_count": 1,
          "categories": [
           {
            "name": "Missing",
            "count": 1
           }
          ]
         }
        },
        {
         "name": "Call for Service? (DRAFT)",
         "dtype": "object",
         "stats": {
          "unique_count": 1,
          "nan_count": 0,
          "categories": [
           {
            "name": "Yes",
            "count": 1
           }
          ]
         }
        },
        {
         "name": "Unnamed: 35",
         "dtype": "float64",
         "stats": {
          "unique_count": 0,
          "nan_count": 1,
          "min": null,
          "max": null,
          "histogram": [
           {
            "bin_start": 0,
            "bin_end": 0.1,
            "count": 0
           },
           {
            "bin_start": 0.1,
            "bin_end": 0.2,
            "count": 0
           },
           {
            "bin_start": 0.2,
            "bin_end": 0.30000000000000004,
            "count": 0
           },
           {
            "bin_start": 0.30000000000000004,
            "bin_end": 0.4,
            "count": 0
           },
           {
            "bin_start": 0.4,
            "bin_end": 0.5,
            "count": 0
           },
           {
            "bin_start": 0.5,
            "bin_end": 0.6000000000000001,
            "count": 0
           },
           {
            "bin_start": 0.6000000000000001,
            "bin_end": 0.7000000000000001,
            "count": 0
           },
           {
            "bin_start": 0.7000000000000001,
            "bin_end": 0.8,
            "count": 0
           },
           {
            "bin_start": 0.8,
            "bin_end": 0.9,
            "count": 0
           },
           {
            "bin_start": 0.9,
            "bin_end": 1,
            "count": 0
           }
          ]
         }
        },
        {
         "name": "Unnamed: 36",
         "dtype": "float64",
         "stats": {
          "unique_count": 0,
          "nan_count": 1,
          "min": null,
          "max": null,
          "histogram": [
           {
            "bin_start": 0,
            "bin_end": 0.1,
            "count": 0
           },
           {
            "bin_start": 0.1,
            "bin_end": 0.2,
            "count": 0
           },
           {
            "bin_start": 0.2,
            "bin_end": 0.30000000000000004,
            "count": 0
           },
           {
            "bin_start": 0.30000000000000004,
            "bin_end": 0.4,
            "count": 0
           },
           {
            "bin_start": 0.4,
            "bin_end": 0.5,
            "count": 0
           },
           {
            "bin_start": 0.5,
            "bin_end": 0.6000000000000001,
            "count": 0
           },
           {
            "bin_start": 0.6000000000000001,
            "bin_end": 0.7000000000000001,
            "count": 0
           },
           {
            "bin_start": 0.7000000000000001,
            "bin_end": 0.8,
            "count": 0
           },
           {
            "bin_start": 0.8,
            "bin_end": 0.9,
            "count": 0
           },
           {
            "bin_start": 0.9,
            "bin_end": 1,
            "count": 0
           }
          ]
         }
        },
        {
         "name": "Unnamed: 37",
         "dtype": "float64",
         "stats": {
          "unique_count": 0,
          "nan_count": 1,
          "min": null,
          "max": null,
          "histogram": [
           {
            "bin_start": 0,
            "bin_end": 0.1,
            "count": 0
           },
           {
            "bin_start": 0.1,
            "bin_end": 0.2,
            "count": 0
           },
           {
            "bin_start": 0.2,
            "bin_end": 0.30000000000000004,
            "count": 0
           },
           {
            "bin_start": 0.30000000000000004,
            "bin_end": 0.4,
            "count": 0
           },
           {
            "bin_start": 0.4,
            "bin_end": 0.5,
            "count": 0
           },
           {
            "bin_start": 0.5,
            "bin_end": 0.6000000000000001,
            "count": 0
           },
           {
            "bin_start": 0.6000000000000001,
            "bin_end": 0.7000000000000001,
            "count": 0
           },
           {
            "bin_start": 0.7000000000000001,
            "bin_end": 0.8,
            "count": 0
           },
           {
            "bin_start": 0.8,
            "bin_end": 0.9,
            "count": 0
           },
           {
            "bin_start": 0.9,
            "bin_end": 1,
            "count": 0
           }
          ]
         }
        },
        {
         "name": "Unnamed: 38",
         "dtype": "float64",
         "stats": {
          "unique_count": 0,
          "nan_count": 1,
          "min": null,
          "max": null,
          "histogram": [
           {
            "bin_start": 0,
            "bin_end": 0.1,
            "count": 0
           },
           {
            "bin_start": 0.1,
            "bin_end": 0.2,
            "count": 0
           },
           {
            "bin_start": 0.2,
            "bin_end": 0.30000000000000004,
            "count": 0
           },
           {
            "bin_start": 0.30000000000000004,
            "bin_end": 0.4,
            "count": 0
           },
           {
            "bin_start": 0.4,
            "bin_end": 0.5,
            "count": 0
           },
           {
            "bin_start": 0.5,
            "bin_end": 0.6000000000000001,
            "count": 0
           },
           {
            "bin_start": 0.6000000000000001,
            "bin_end": 0.7000000000000001,
            "count": 0
           },
           {
            "bin_start": 0.7000000000000001,
            "bin_end": 0.8,
            "count": 0
           },
           {
            "bin_start": 0.8,
            "bin_end": 0.9,
            "count": 0
           },
           {
            "bin_start": 0.9,
            "bin_end": 1,
            "count": 0
           }
          ]
         }
        },
        {
         "name": "Unnamed: 39",
         "dtype": "float64",
         "stats": {
          "unique_count": 0,
          "nan_count": 1,
          "min": null,
          "max": null,
          "histogram": [
           {
            "bin_start": 0,
            "bin_end": 0.1,
            "count": 0
           },
           {
            "bin_start": 0.1,
            "bin_end": 0.2,
            "count": 0
           },
           {
            "bin_start": 0.2,
            "bin_end": 0.30000000000000004,
            "count": 0
           },
           {
            "bin_start": 0.30000000000000004,
            "bin_end": 0.4,
            "count": 0
           },
           {
            "bin_start": 0.4,
            "bin_end": 0.5,
            "count": 0
           },
           {
            "bin_start": 0.5,
            "bin_end": 0.6000000000000001,
            "count": 0
           },
           {
            "bin_start": 0.6000000000000001,
            "bin_end": 0.7000000000000001,
            "count": 0
           },
           {
            "bin_start": 0.7000000000000001,
            "bin_end": 0.8,
            "count": 0
           },
           {
            "bin_start": 0.8,
            "bin_end": 0.9,
            "count": 0
           },
           {
            "bin_start": 0.9,
            "bin_end": 1,
            "count": 0
           }
          ]
         }
        },
        {
         "name": "Unnamed: 40",
         "dtype": "float64",
         "stats": {
          "unique_count": 0,
          "nan_count": 1,
          "min": null,
          "max": null,
          "histogram": [
           {
            "bin_start": 0,
            "bin_end": 0.1,
            "count": 0
           },
           {
            "bin_start": 0.1,
            "bin_end": 0.2,
            "count": 0
           },
           {
            "bin_start": 0.2,
            "bin_end": 0.30000000000000004,
            "count": 0
           },
           {
            "bin_start": 0.30000000000000004,
            "bin_end": 0.4,
            "count": 0
           },
           {
            "bin_start": 0.4,
            "bin_end": 0.5,
            "count": 0
           },
           {
            "bin_start": 0.5,
            "bin_end": 0.6000000000000001,
            "count": 0
           },
           {
            "bin_start": 0.6000000000000001,
            "bin_end": 0.7000000000000001,
            "count": 0
           },
           {
            "bin_start": 0.7000000000000001,
            "bin_end": 0.8,
            "count": 0
           },
           {
            "bin_start": 0.8,
            "bin_end": 0.9,
            "count": 0
           },
           {
            "bin_start": 0.9,
            "bin_end": 1,
            "count": 0
           }
          ]
         }
        },
        {
         "name": "Unnamed: 41",
         "dtype": "float64",
         "stats": {
          "unique_count": 0,
          "nan_count": 1,
          "min": null,
          "max": null,
          "histogram": [
           {
            "bin_start": 0,
            "bin_end": 0.1,
            "count": 0
           },
           {
            "bin_start": 0.1,
            "bin_end": 0.2,
            "count": 0
           },
           {
            "bin_start": 0.2,
            "bin_end": 0.30000000000000004,
            "count": 0
           },
           {
            "bin_start": 0.30000000000000004,
            "bin_end": 0.4,
            "count": 0
           },
           {
            "bin_start": 0.4,
            "bin_end": 0.5,
            "count": 0
           },
           {
            "bin_start": 0.5,
            "bin_end": 0.6000000000000001,
            "count": 0
           },
           {
            "bin_start": 0.6000000000000001,
            "bin_end": 0.7000000000000001,
            "count": 0
           },
           {
            "bin_start": 0.7000000000000001,
            "bin_end": 0.8,
            "count": 0
           },
           {
            "bin_start": 0.8,
            "bin_end": 0.9,
            "count": 0
           },
           {
            "bin_start": 0.9,
            "bin_end": 1,
            "count": 0
           }
          ]
         }
        },
        {
         "name": "Unnamed: 42",
         "dtype": "float64",
         "stats": {
          "unique_count": 0,
          "nan_count": 1,
          "min": null,
          "max": null,
          "histogram": [
           {
            "bin_start": 0,
            "bin_end": 0.1,
            "count": 0
           },
           {
            "bin_start": 0.1,
            "bin_end": 0.2,
            "count": 0
           },
           {
            "bin_start": 0.2,
            "bin_end": 0.30000000000000004,
            "count": 0
           },
           {
            "bin_start": 0.30000000000000004,
            "bin_end": 0.4,
            "count": 0
           },
           {
            "bin_start": 0.4,
            "bin_end": 0.5,
            "count": 0
           },
           {
            "bin_start": 0.5,
            "bin_end": 0.6000000000000001,
            "count": 0
           },
           {
            "bin_start": 0.6000000000000001,
            "bin_end": 0.7000000000000001,
            "count": 0
           },
           {
            "bin_start": 0.7000000000000001,
            "bin_end": 0.8,
            "count": 0
           },
           {
            "bin_start": 0.8,
            "bin_end": 0.9,
            "count": 0
           },
           {
            "bin_start": 0.9,
            "bin_end": 1,
            "count": 0
           }
          ]
         }
        },
        {
         "name": "Unnamed: 43",
         "dtype": "float64",
         "stats": {
          "unique_count": 0,
          "nan_count": 1,
          "min": null,
          "max": null,
          "histogram": [
           {
            "bin_start": 0,
            "bin_end": 0.1,
            "count": 0
           },
           {
            "bin_start": 0.1,
            "bin_end": 0.2,
            "count": 0
           },
           {
            "bin_start": 0.2,
            "bin_end": 0.30000000000000004,
            "count": 0
           },
           {
            "bin_start": 0.30000000000000004,
            "bin_end": 0.4,
            "count": 0
           },
           {
            "bin_start": 0.4,
            "bin_end": 0.5,
            "count": 0
           },
           {
            "bin_start": 0.5,
            "bin_end": 0.6000000000000001,
            "count": 0
           },
           {
            "bin_start": 0.6000000000000001,
            "bin_end": 0.7000000000000001,
            "count": 0
           },
           {
            "bin_start": 0.7000000000000001,
            "bin_end": 0.8,
            "count": 0
           },
           {
            "bin_start": 0.8,
            "bin_end": 0.9,
            "count": 0
           },
           {
            "bin_start": 0.9,
            "bin_end": 1,
            "count": 0
           }
          ]
         }
        },
        {
         "name": "Unnamed: 44",
         "dtype": "float64",
         "stats": {
          "unique_count": 0,
          "nan_count": 1,
          "min": null,
          "max": null,
          "histogram": [
           {
            "bin_start": 0,
            "bin_end": 0.1,
            "count": 0
           },
           {
            "bin_start": 0.1,
            "bin_end": 0.2,
            "count": 0
           },
           {
            "bin_start": 0.2,
            "bin_end": 0.30000000000000004,
            "count": 0
           },
           {
            "bin_start": 0.30000000000000004,
            "bin_end": 0.4,
            "count": 0
           },
           {
            "bin_start": 0.4,
            "bin_end": 0.5,
            "count": 0
           },
           {
            "bin_start": 0.5,
            "bin_end": 0.6000000000000001,
            "count": 0
           },
           {
            "bin_start": 0.6000000000000001,
            "bin_end": 0.7000000000000001,
            "count": 0
           },
           {
            "bin_start": 0.7000000000000001,
            "bin_end": 0.8,
            "count": 0
           },
           {
            "bin_start": 0.8,
            "bin_end": 0.9,
            "count": 0
           },
           {
            "bin_start": 0.9,
            "bin_end": 1,
            "count": 0
           }
          ]
         }
        },
        {
         "name": "Unnamed: 45",
         "dtype": "float64",
         "stats": {
          "unique_count": 0,
          "nan_count": 1,
          "min": null,
          "max": null,
          "histogram": [
           {
            "bin_start": 0,
            "bin_end": 0.1,
            "count": 0
           },
           {
            "bin_start": 0.1,
            "bin_end": 0.2,
            "count": 0
           },
           {
            "bin_start": 0.2,
            "bin_end": 0.30000000000000004,
            "count": 0
           },
           {
            "bin_start": 0.30000000000000004,
            "bin_end": 0.4,
            "count": 0
           },
           {
            "bin_start": 0.4,
            "bin_end": 0.5,
            "count": 0
           },
           {
            "bin_start": 0.5,
            "bin_end": 0.6000000000000001,
            "count": 0
           },
           {
            "bin_start": 0.6000000000000001,
            "bin_end": 0.7000000000000001,
            "count": 0
           },
           {
            "bin_start": 0.7000000000000001,
            "bin_end": 0.8,
            "count": 0
           },
           {
            "bin_start": 0.8,
            "bin_end": 0.9,
            "count": 0
           },
           {
            "bin_start": 0.9,
            "bin_end": 1,
            "count": 0
           }
          ]
         }
        },
        {
         "name": "Unnamed: 46",
         "dtype": "float64",
         "stats": {
          "unique_count": 0,
          "nan_count": 1,
          "min": null,
          "max": null,
          "histogram": [
           {
            "bin_start": 0,
            "bin_end": 0.1,
            "count": 0
           },
           {
            "bin_start": 0.1,
            "bin_end": 0.2,
            "count": 0
           },
           {
            "bin_start": 0.2,
            "bin_end": 0.30000000000000004,
            "count": 0
           },
           {
            "bin_start": 0.30000000000000004,
            "bin_end": 0.4,
            "count": 0
           },
           {
            "bin_start": 0.4,
            "bin_end": 0.5,
            "count": 0
           },
           {
            "bin_start": 0.5,
            "bin_end": 0.6000000000000001,
            "count": 0
           },
           {
            "bin_start": 0.6000000000000001,
            "bin_end": 0.7000000000000001,
            "count": 0
           },
           {
            "bin_start": 0.7000000000000001,
            "bin_end": 0.8,
            "count": 0
           },
           {
            "bin_start": 0.8,
            "bin_end": 0.9,
            "count": 0
           },
           {
            "bin_start": 0.9,
            "bin_end": 1,
            "count": 0
           }
          ]
         }
        },
        {
         "name": "Unnamed: 47",
         "dtype": "float64",
         "stats": {
          "unique_count": 0,
          "nan_count": 1,
          "min": null,
          "max": null,
          "histogram": [
           {
            "bin_start": 0,
            "bin_end": 0.1,
            "count": 0
           },
           {
            "bin_start": 0.1,
            "bin_end": 0.2,
            "count": 0
           },
           {
            "bin_start": 0.2,
            "bin_end": 0.30000000000000004,
            "count": 0
           },
           {
            "bin_start": 0.30000000000000004,
            "bin_end": 0.4,
            "count": 0
           },
           {
            "bin_start": 0.4,
            "bin_end": 0.5,
            "count": 0
           },
           {
            "bin_start": 0.5,
            "bin_end": 0.6000000000000001,
            "count": 0
           },
           {
            "bin_start": 0.6000000000000001,
            "bin_end": 0.7000000000000001,
            "count": 0
           },
           {
            "bin_start": 0.7000000000000001,
            "bin_end": 0.8,
            "count": 0
           },
           {
            "bin_start": 0.8,
            "bin_end": 0.9,
            "count": 0
           },
           {
            "bin_start": 0.9,
            "bin_end": 1,
            "count": 0
           }
          ]
         }
        },
        {
         "name": "Unnamed: 48",
         "dtype": "float64",
         "stats": {
          "unique_count": 0,
          "nan_count": 1,
          "min": null,
          "max": null,
          "histogram": [
           {
            "bin_start": 0,
            "bin_end": 0.1,
            "count": 0
           },
           {
            "bin_start": 0.1,
            "bin_end": 0.2,
            "count": 0
           },
           {
            "bin_start": 0.2,
            "bin_end": 0.30000000000000004,
            "count": 0
           },
           {
            "bin_start": 0.30000000000000004,
            "bin_end": 0.4,
            "count": 0
           },
           {
            "bin_start": 0.4,
            "bin_end": 0.5,
            "count": 0
           },
           {
            "bin_start": 0.5,
            "bin_end": 0.6000000000000001,
            "count": 0
           },
           {
            "bin_start": 0.6000000000000001,
            "bin_end": 0.7000000000000001,
            "count": 0
           },
           {
            "bin_start": 0.7000000000000001,
            "bin_end": 0.8,
            "count": 0
           },
           {
            "bin_start": 0.8,
            "bin_end": 0.9,
            "count": 0
           },
           {
            "bin_start": 0.9,
            "bin_end": 1,
            "count": 0
           }
          ]
         }
        },
        {
         "name": "_deepnote_index_column",
         "dtype": "int64"
        }
       ],
       "rows_top": [
        {
         "Victim's name": "Kalon Horton",
         "Victim's age": 29,
         "Victim's gender": "Male",
         "Victim's race": "Black",
         "URL of image of victim": "nan",
         "Date of Incident (month/day/year)": "2021-05-09T00:00:00.000000",
         "Street Address of Incident": "nan",
         "City": "Lancaster",
         "State": "TX",
         "Zipcode": "nan",
         "County": "nan",
         "Agency responsible for death": "Lancaster Police Department",
         "ORI Agency Identifier (if available)": "TX0571700",
         "Cause of death": "Gunshot",
         "A brief description of the circumstances surrounding the death": "Police responded to a call of a man firing shots within an apartment complex. Officers went to Horton's apartment and forced their way in. Police claim Horton was armed, and they shot and killed him.",
         "Official disposition of death (justified or other)": "Pending investigation",
         "Criminal Charges?": "No known charges",
         "Link to news article or photo of official document": "https://www.fox4news.com/news/lancaster-police-officers-involved-in-shooting",
         "Symptoms of mental illness?": "No",
         "Armed/Unarmed Status": "Allegedly Armed",
         "Alleged Weapon (Source: WaPo and Review of Cases Not Included in WaPo Database)": "gun",
         "Alleged Threat Level (Source: WaPo)": "attack",
         "Fleeing (Source: WaPo)": "nan",
         "Body Camera (Source: WaPo)": "no",
         "WaPo ID (If included in WaPo database)": 6842,
         "Off-Duty Killing?": "nan",
         "Geography (via Trulia methodology based on zipcode population density: http://jedkolko.com/wp-content/uploads/2015/05/full-ZCTA-urban-suburban-rural-classification.xlsx )": "nan",
         "MPV ID": "nan",
         "Fatal Encounters ID": "nan",
         "Encounter Type (DRAFT)": "Part 1 Violent Crime",
         "Initial Reported Reason for Encounter (DRAFT)": "gunshots",
         "Names of Officers Involved (DRAFT)": "nan",
         "Race of Officers Involved (DRAFT)": "nan",
         "Known Past Shootings of Officer(s) (DRAFT)": "nan",
         "Call for Service? (DRAFT)": "Yes",
         "Unnamed: 35": "nan",
         "Unnamed: 36": "nan",
         "Unnamed: 37": "nan",
         "Unnamed: 38": "nan",
         "Unnamed: 39": "nan",
         "Unnamed: 40": "nan",
         "Unnamed: 41": "nan",
         "Unnamed: 42": "nan",
         "Unnamed: 43": "nan",
         "Unnamed: 44": "nan",
         "Unnamed: 45": "nan",
         "Unnamed: 46": "nan",
         "Unnamed: 47": "nan",
         "Unnamed: 48": "nan",
         "_deepnote_index_column": 0
        }
       ],
       "rows_bottom": null
      },
      "text/plain": "  Victim's name Victim's age Victim's gender Victim's race  \\\n0  Kalon Horton           29            Male         Black   \n\n  URL of image of victim Date of Incident (month/day/year)  \\\n0                    NaN                        2021-05-09   \n\n  Street Address of Incident       City State  Zipcode  ... Unnamed: 39  \\\n0                        NaN  Lancaster    TX      NaN  ...         NaN   \n\n  Unnamed: 40 Unnamed: 41 Unnamed: 42 Unnamed: 43 Unnamed: 44 Unnamed: 45  \\\n0         NaN         NaN         NaN         NaN         NaN         NaN   \n\n  Unnamed: 46 Unnamed: 47 Unnamed: 48  \n0         NaN         NaN         NaN  \n\n[1 rows x 49 columns]",
      "text/html": "<div>\n<style scoped>\n    .dataframe tbody tr th:only-of-type {\n        vertical-align: middle;\n    }\n\n    .dataframe tbody tr th {\n        vertical-align: top;\n    }\n\n    .dataframe thead th {\n        text-align: right;\n    }\n</style>\n<table border=\"1\" class=\"dataframe\">\n  <thead>\n    <tr style=\"text-align: right;\">\n      <th></th>\n      <th>Victim's name</th>\n      <th>Victim's age</th>\n      <th>Victim's gender</th>\n      <th>Victim's race</th>\n      <th>URL of image of victim</th>\n      <th>Date of Incident (month/day/year)</th>\n      <th>Street Address of Incident</th>\n      <th>City</th>\n      <th>State</th>\n      <th>Zipcode</th>\n      <th>...</th>\n      <th>Unnamed: 39</th>\n      <th>Unnamed: 40</th>\n      <th>Unnamed: 41</th>\n      <th>Unnamed: 42</th>\n      <th>Unnamed: 43</th>\n      <th>Unnamed: 44</th>\n      <th>Unnamed: 45</th>\n      <th>Unnamed: 46</th>\n      <th>Unnamed: 47</th>\n      <th>Unnamed: 48</th>\n    </tr>\n  </thead>\n  <tbody>\n    <tr>\n      <th>0</th>\n      <td>Kalon Horton</td>\n      <td>29</td>\n      <td>Male</td>\n      <td>Black</td>\n      <td>NaN</td>\n      <td>2021-05-09</td>\n      <td>NaN</td>\n      <td>Lancaster</td>\n      <td>TX</td>\n      <td>NaN</td>\n      <td>...</td>\n      <td>NaN</td>\n      <td>NaN</td>\n      <td>NaN</td>\n      <td>NaN</td>\n      <td>NaN</td>\n      <td>NaN</td>\n      <td>NaN</td>\n      <td>NaN</td>\n      <td>NaN</td>\n      <td>NaN</td>\n    </tr>\n  </tbody>\n</table>\n<p>1 rows × 49 columns</p>\n</div>"
     },
     "metadata": {}
    }
   ]
  },
  {
   "cell_type": "markdown",
   "source": "## First Steps of Cleaning:\n- Columns 35 - 48 are unnamed and full of nulls: remove columns\n- Column names not adequate for python exploration: rename remaining columns\n",
   "metadata": {
    "tags": [],
    "cell_id": "00002-91597b46-7091-42f2-98e1-b8ebc3808b32",
    "deepnote_cell_type": "markdown"
   }
  },
  {
   "cell_type": "code",
   "source": "df.drop(columns=(list(df.columns[35:])), inplace=True)",
   "metadata": {
    "tags": [],
    "cell_id": "00001-f64971d5-0b55-484b-b605-e29dd73f3d00",
    "deepnote_to_be_reexecuted": false,
    "source_hash": "976d6d1c",
    "execution_start": 1621470831747,
    "execution_millis": 4,
    "deepnote_cell_type": "code"
   },
   "outputs": [],
   "execution_count": 377
  },
  {
   "cell_type": "code",
   "source": "list(df.columns)",
   "metadata": {
    "tags": [],
    "cell_id": "00003-32641dbd-cd61-4ce9-99b9-5df0e0573826",
    "deepnote_to_be_reexecuted": false,
    "source_hash": "1039a82",
    "execution_start": 1621470831757,
    "execution_millis": 16,
    "deepnote_cell_type": "code"
   },
   "outputs": [
    {
     "output_type": "execute_result",
     "execution_count": 378,
     "data": {
      "text/plain": "[\"Victim's name\",\n \"Victim's age\",\n \"Victim's gender\",\n \"Victim's race\",\n 'URL of image of victim',\n 'Date of Incident (month/day/year)',\n 'Street Address of Incident',\n 'City',\n 'State',\n 'Zipcode',\n 'County',\n 'Agency responsible for death',\n 'ORI Agency Identifier (if available)',\n 'Cause of death',\n 'A brief description of the circumstances surrounding the death',\n 'Official disposition of death (justified or other)',\n 'Criminal Charges?',\n 'Link to news article or photo of official document',\n 'Symptoms of mental illness?',\n 'Armed/Unarmed Status',\n 'Alleged Weapon (Source: WaPo and Review of Cases Not Included in WaPo Database)',\n 'Alleged Threat Level (Source: WaPo)',\n 'Fleeing (Source: WaPo)',\n 'Body Camera (Source: WaPo)',\n 'WaPo ID (If included in WaPo database)',\n 'Off-Duty Killing?',\n 'Geography (via Trulia methodology based on zipcode population density: http://jedkolko.com/wp-content/uploads/2015/05/full-ZCTA-urban-suburban-rural-classification.xlsx )',\n 'MPV ID',\n 'Fatal Encounters ID',\n 'Encounter Type (DRAFT)',\n 'Initial Reported Reason for Encounter (DRAFT)',\n 'Names of Officers Involved (DRAFT)',\n 'Race of Officers Involved (DRAFT)',\n 'Known Past Shootings of Officer(s) (DRAFT)',\n 'Call for Service? (DRAFT)']"
     },
     "metadata": {}
    }
   ],
   "execution_count": 378
  },
  {
   "cell_type": "code",
   "source": "columns = [\"name\",\n \"age\",\n \"gender\",\n \"race\",\n 'img_url',\n 'date',\n 'address',\n 'city',\n 'state',\n 'zipcode',\n 'county',\n 'agency_responsible',\n 'ori_agency_identifier',\n 'cause_of_death',\n 'description_of_circumstances',\n 'official_disposition',\n 'criminal_charges_filed',\n 'news_article_or_photo_of_official_document',\n 'mental_illness',\n 'armed_unarmed_status',\n 'alleged_weapon',\n 'alleged_threat_lvl',\n 'fleeing',\n 'body_camera',\n 'wapo_id',\n 'off_duty_killing',\n 'geography',\n 'mpv_id',\n 'fatal_encounters_id',\n 'encounter_type_draft',\n 'initial_reported_reason_for_encounter_draft',\n 'names_of_officers_involved_draft',\n 'race_of_officers_involved_draft',\n 'known_past_shootings_of_Officer_draft',\n 'call_for_service_draft']\n",
   "metadata": {
    "tags": [],
    "cell_id": "00004-57f7a6c1-50f5-48c6-a40b-0e779530e2b4",
    "deepnote_to_be_reexecuted": false,
    "source_hash": "49881212",
    "execution_start": 1621470831766,
    "execution_millis": 1,
    "deepnote_cell_type": "code"
   },
   "outputs": [],
   "execution_count": 379
  },
  {
   "cell_type": "code",
   "source": "df.columns = columns",
   "metadata": {
    "tags": [],
    "cell_id": "00005-609fdf2b-2d1a-4ed4-9f57-98357553dced",
    "deepnote_to_be_reexecuted": false,
    "source_hash": "341c17dd",
    "execution_start": 1621470831814,
    "execution_millis": 0,
    "deepnote_cell_type": "code"
   },
   "outputs": [],
   "execution_count": 380
  },
  {
   "cell_type": "code",
   "source": "df.head()",
   "metadata": {
    "tags": [],
    "cell_id": "00006-a4d5203e-67bc-4c78-b449-a4648ff7586b",
    "deepnote_to_be_reexecuted": false,
    "source_hash": "c085b6ba",
    "execution_start": 1621470831814,
    "execution_millis": 54,
    "deepnote_cell_type": "code"
   },
   "outputs": [
    {
     "output_type": "execute_result",
     "execution_count": 381,
     "data": {
      "application/vnd.deepnote.dataframe.v2+json": {
       "row_count": 5,
       "column_count": 35,
       "columns": [
        {
         "name": "name",
         "dtype": "object",
         "stats": {
          "unique_count": 5,
          "nan_count": 0,
          "categories": [
           {
            "name": "Kalon Horton",
            "count": 1
           },
           {
            "name": "Name withheld by police",
            "count": 1
           },
           {
            "name": "3 others",
            "count": 3
           }
          ]
         }
        },
        {
         "name": "age",
         "dtype": "object",
         "stats": {
          "unique_count": 4,
          "nan_count": 1,
          "categories": [
           {
            "name": "29.0",
            "count": 1
           },
           {
            "name": "3 others",
            "count": 3
           },
           {
            "name": "Missing",
            "count": 1
           }
          ]
         }
        },
        {
         "name": "gender",
         "dtype": "object",
         "stats": {
          "unique_count": 1,
          "nan_count": 0,
          "categories": [
           {
            "name": "Male",
            "count": 5
           }
          ]
         }
        },
        {
         "name": "race",
         "dtype": "object",
         "stats": {
          "unique_count": 3,
          "nan_count": 0,
          "categories": [
           {
            "name": "Unknown Race",
            "count": 3
           },
           {
            "name": "Black",
            "count": 1
           },
           {
            "name": "Hispanic",
            "count": 1
           }
          ]
         }
        },
        {
         "name": "img_url",
         "dtype": "object",
         "stats": {
          "unique_count": 0,
          "nan_count": 5,
          "categories": [
           {
            "name": "Missing",
            "count": 5
           }
          ]
         }
        },
        {
         "name": "date",
         "dtype": "datetime64[ns]",
         "stats": {
          "unique_count": 2,
          "nan_count": 0,
          "min": "2021-05-08 00:00:00",
          "max": "2021-05-09 00:00:00",
          "histogram": [
           {
            "bin_start": 1620432000000000000,
            "bin_end": 1620440640000000000,
            "count": 2
           },
           {
            "bin_start": 1620440640000000000,
            "bin_end": 1620449280000000000,
            "count": 0
           },
           {
            "bin_start": 1620449280000000000,
            "bin_end": 1620457920000000000,
            "count": 0
           },
           {
            "bin_start": 1620457920000000000,
            "bin_end": 1620466560000000000,
            "count": 0
           },
           {
            "bin_start": 1620466560000000000,
            "bin_end": 1620475200000000000,
            "count": 0
           },
           {
            "bin_start": 1620475200000000000,
            "bin_end": 1620483840000000000,
            "count": 0
           },
           {
            "bin_start": 1620483840000000000,
            "bin_end": 1620492480000000000,
            "count": 0
           },
           {
            "bin_start": 1620492480000000000,
            "bin_end": 1620501120000000000,
            "count": 0
           },
           {
            "bin_start": 1620501120000000000,
            "bin_end": 1620509760000000000,
            "count": 0
           },
           {
            "bin_start": 1620509760000000000,
            "bin_end": 1620518400000000000,
            "count": 3
           }
          ]
         }
        },
        {
         "name": "address",
         "dtype": "object",
         "stats": {
          "unique_count": 1,
          "nan_count": 4,
          "categories": [
           {
            "name": "90 S. Main St.",
            "count": 1
           },
           {
            "name": "Missing",
            "count": 4
           }
          ]
         }
        },
        {
         "name": "city",
         "dtype": "object",
         "stats": {
          "unique_count": 5,
          "nan_count": 0,
          "categories": [
           {
            "name": "Lancaster",
            "count": 1
           },
           {
            "name": "Leicester",
            "count": 1
           },
           {
            "name": "3 others",
            "count": 3
           }
          ]
         }
        },
        {
         "name": "state",
         "dtype": "object",
         "stats": {
          "unique_count": 5,
          "nan_count": 0,
          "categories": [
           {
            "name": "TX",
            "count": 1
           },
           {
            "name": "MA",
            "count": 1
           },
           {
            "name": "3 others",
            "count": 3
           }
          ]
         }
        },
        {
         "name": "zipcode",
         "dtype": "float64",
         "stats": {
          "unique_count": 1,
          "nan_count": 4,
          "min": "1524.0",
          "max": "1524.0",
          "histogram": [
           {
            "bin_start": 1523.5,
            "bin_end": 1523.6,
            "count": 0
           },
           {
            "bin_start": 1523.6,
            "bin_end": 1523.7,
            "count": 0
           },
           {
            "bin_start": 1523.7,
            "bin_end": 1523.8,
            "count": 0
           },
           {
            "bin_start": 1523.8,
            "bin_end": 1523.9,
            "count": 0
           },
           {
            "bin_start": 1523.9,
            "bin_end": 1524,
            "count": 0
           },
           {
            "bin_start": 1524,
            "bin_end": 1524.1,
            "count": 1
           },
           {
            "bin_start": 1524.1,
            "bin_end": 1524.2,
            "count": 0
           },
           {
            "bin_start": 1524.2,
            "bin_end": 1524.3,
            "count": 0
           },
           {
            "bin_start": 1524.3,
            "bin_end": 1524.4,
            "count": 0
           },
           {
            "bin_start": 1524.4,
            "bin_end": 1524.5,
            "count": 0
           }
          ]
         }
        },
        {
         "name": "county",
         "dtype": "object",
         "stats": {
          "unique_count": 2,
          "nan_count": 3,
          "categories": [
           {
            "name": "Worcester",
            "count": 1
           },
           {
            "name": "Riverside",
            "count": 1
           },
           {
            "name": "Missing",
            "count": 3
           }
          ]
         }
        },
        {
         "name": "agency_responsible",
         "dtype": "object",
         "stats": {
          "unique_count": 5,
          "nan_count": 0,
          "categories": [
           {
            "name": "Lancaster Police Department",
            "count": 1
           },
           {
            "name": "Leicester Police Department",
            "count": 1
           },
           {
            "name": "3 others",
            "count": 3
           }
          ]
         }
        },
        {
         "name": "ori_agency_identifier",
         "dtype": "object",
         "stats": {
          "unique_count": 5,
          "nan_count": 0,
          "categories": [
           {
            "name": "TX0571700",
            "count": 1
           },
           {
            "name": "MA0142400",
            "count": 1
           },
           {
            "name": "3 others",
            "count": 3
           }
          ]
         }
        },
        {
         "name": "cause_of_death",
         "dtype": "object",
         "stats": {
          "unique_count": 1,
          "nan_count": 0,
          "categories": [
           {
            "name": "Gunshot",
            "count": 5
           }
          ]
         }
        },
        {
         "name": "description_of_circumstances",
         "dtype": "object",
         "stats": {
          "unique_count": 5,
          "nan_count": 0,
          "categories": [
           {
            "name": "Police responded to a call of a man firing shots within an apartment complex. Officers went to Horton's apartment and forced their way in. Police claim Horton was armed, and they shot and killed him.",
            "count": 1
           },
           {
            "name": "A man allegedly crashed an SUV into the Leicester Police Station, repeatedly ramming his vehicle into the front doors until he gained entry into the building. Responding officers saw the SUV in the front door and encountered the man. Police claim the man placed a rifle on his shoulder and aimed it at the officers. The police officers shot and killed him.",
            "count": 1
           },
           {
            "name": "3 others",
            "count": 3
           }
          ]
         }
        },
        {
         "name": "official_disposition",
         "dtype": "object",
         "stats": {
          "unique_count": 1,
          "nan_count": 0,
          "categories": [
           {
            "name": "Pending investigation",
            "count": 5
           }
          ]
         }
        },
        {
         "name": "criminal_charges_filed",
         "dtype": "object",
         "stats": {
          "unique_count": 1,
          "nan_count": 0,
          "categories": [
           {
            "name": "No known charges",
            "count": 5
           }
          ]
         }
        },
        {
         "name": "news_article_or_photo_of_official_document",
         "dtype": "object",
         "stats": {
          "unique_count": 5,
          "nan_count": 0,
          "categories": [
           {
            "name": "https://www.fox4news.com/news/lancaster-police-officers-involved-in-shooting",
            "count": 1
           },
           {
            "name": "https://www.wcvb.com/article/leicester-police-station-shooting-car-crash-massachusetts/36374400",
            "count": 1
           },
           {
            "name": "3 others",
            "count": 3
           }
          ]
         }
        },
        {
         "name": "mental_illness",
         "dtype": "object",
         "stats": {
          "unique_count": 2,
          "nan_count": 0,
          "categories": [
           {
            "name": "No",
            "count": 4
           },
           {
            "name": "Yes",
            "count": 1
           }
          ]
         }
        },
        {
         "name": "armed_unarmed_status",
         "dtype": "object",
         "stats": {
          "unique_count": 1,
          "nan_count": 0,
          "categories": [
           {
            "name": "Allegedly Armed",
            "count": 5
           }
          ]
         }
        },
        {
         "name": "alleged_weapon",
         "dtype": "object",
         "stats": {
          "unique_count": 1,
          "nan_count": 0,
          "categories": [
           {
            "name": "gun",
            "count": 5
           }
          ]
         }
        },
        {
         "name": "alleged_threat_lvl",
         "dtype": "object",
         "stats": {
          "unique_count": 1,
          "nan_count": 0,
          "categories": [
           {
            "name": "attack",
            "count": 5
           }
          ]
         }
        },
        {
         "name": "fleeing",
         "dtype": "object",
         "stats": {
          "unique_count": 1,
          "nan_count": 1,
          "categories": [
           {
            "name": "not fleeing",
            "count": 4
           },
           {
            "name": "Missing",
            "count": 1
           }
          ]
         }
        },
        {
         "name": "body_camera",
         "dtype": "object",
         "stats": {
          "unique_count": 1,
          "nan_count": 0,
          "categories": [
           {
            "name": "no",
            "count": 5
           }
          ]
         }
        },
        {
         "name": "wapo_id",
         "dtype": "float64",
         "stats": {
          "unique_count": 5,
          "nan_count": 0,
          "min": "6841.0",
          "max": "6846.0",
          "histogram": [
           {
            "bin_start": 6841,
            "bin_end": 6841.5,
            "count": 1
           },
           {
            "bin_start": 6841.5,
            "bin_end": 6842,
            "count": 0
           },
           {
            "bin_start": 6842,
            "bin_end": 6842.5,
            "count": 1
           },
           {
            "bin_start": 6842.5,
            "bin_end": 6843,
            "count": 0
           },
           {
            "bin_start": 6843,
            "bin_end": 6843.5,
            "count": 0
           },
           {
            "bin_start": 6843.5,
            "bin_end": 6844,
            "count": 0
           },
           {
            "bin_start": 6844,
            "bin_end": 6844.5,
            "count": 1
           },
           {
            "bin_start": 6844.5,
            "bin_end": 6845,
            "count": 0
           },
           {
            "bin_start": 6845,
            "bin_end": 6845.5,
            "count": 1
           },
           {
            "bin_start": 6845.5,
            "bin_end": 6846,
            "count": 1
           }
          ]
         }
        },
        {
         "name": "off_duty_killing",
         "dtype": "object",
         "stats": {
          "unique_count": 0,
          "nan_count": 5,
          "categories": [
           {
            "name": "Missing",
            "count": 5
           }
          ]
         }
        },
        {
         "name": "geography",
         "dtype": "object",
         "stats": {
          "unique_count": 1,
          "nan_count": 4,
          "categories": [
           {
            "name": "Suburban",
            "count": 1
           },
           {
            "name": "Missing",
            "count": 4
           }
          ]
         }
        },
        {
         "name": "mpv_id",
         "dtype": "float64",
         "stats": {
          "unique_count": 0,
          "nan_count": 5,
          "min": null,
          "max": null,
          "histogram": [
           {
            "bin_start": 0,
            "bin_end": 0.1,
            "count": 0
           },
           {
            "bin_start": 0.1,
            "bin_end": 0.2,
            "count": 0
           },
           {
            "bin_start": 0.2,
            "bin_end": 0.30000000000000004,
            "count": 0
           },
           {
            "bin_start": 0.30000000000000004,
            "bin_end": 0.4,
            "count": 0
           },
           {
            "bin_start": 0.4,
            "bin_end": 0.5,
            "count": 0
           },
           {
            "bin_start": 0.5,
            "bin_end": 0.6000000000000001,
            "count": 0
           },
           {
            "bin_start": 0.6000000000000001,
            "bin_end": 0.7000000000000001,
            "count": 0
           },
           {
            "bin_start": 0.7000000000000001,
            "bin_end": 0.8,
            "count": 0
           },
           {
            "bin_start": 0.8,
            "bin_end": 0.9,
            "count": 0
           },
           {
            "bin_start": 0.9,
            "bin_end": 1,
            "count": 0
           }
          ]
         }
        },
        {
         "name": "fatal_encounters_id",
         "dtype": "float64",
         "stats": {
          "unique_count": 0,
          "nan_count": 5,
          "min": null,
          "max": null,
          "histogram": [
           {
            "bin_start": 0,
            "bin_end": 0.1,
            "count": 0
           },
           {
            "bin_start": 0.1,
            "bin_end": 0.2,
            "count": 0
           },
           {
            "bin_start": 0.2,
            "bin_end": 0.30000000000000004,
            "count": 0
           },
           {
            "bin_start": 0.30000000000000004,
            "bin_end": 0.4,
            "count": 0
           },
           {
            "bin_start": 0.4,
            "bin_end": 0.5,
            "count": 0
           },
           {
            "bin_start": 0.5,
            "bin_end": 0.6000000000000001,
            "count": 0
           },
           {
            "bin_start": 0.6000000000000001,
            "bin_end": 0.7000000000000001,
            "count": 0
           },
           {
            "bin_start": 0.7000000000000001,
            "bin_end": 0.8,
            "count": 0
           },
           {
            "bin_start": 0.8,
            "bin_end": 0.9,
            "count": 0
           },
           {
            "bin_start": 0.9,
            "bin_end": 1,
            "count": 0
           }
          ]
         }
        },
        {
         "name": "encounter_type_draft",
         "dtype": "object",
         "stats": {
          "unique_count": 3,
          "nan_count": 0,
          "categories": [
           {
            "name": "Part 1 Violent Crime",
            "count": 3
           },
           {
            "name": "Other",
            "count": 1
           },
           {
            "name": "Person with a gun",
            "count": 1
           }
          ]
         }
        },
        {
         "name": "initial_reported_reason_for_encounter_draft",
         "dtype": "object",
         "stats": {
          "unique_count": 4,
          "nan_count": 0,
          "categories": [
           {
            "name": "murder",
            "count": 2
           },
           {
            "name": "gunshots",
            "count": 1
           },
           {
            "name": "2 others",
            "count": 2
           }
          ]
         }
        },
        {
         "name": "names_of_officers_involved_draft",
         "dtype": "object",
         "stats": {
          "unique_count": 0,
          "nan_count": 5,
          "categories": [
           {
            "name": "Missing",
            "count": 5
           }
          ]
         }
        },
        {
         "name": "race_of_officers_involved_draft",
         "dtype": "object",
         "stats": {
          "unique_count": 0,
          "nan_count": 5,
          "categories": [
           {
            "name": "Missing",
            "count": 5
           }
          ]
         }
        },
        {
         "name": "known_past_shootings_of_Officer_draft",
         "dtype": "object",
         "stats": {
          "unique_count": 0,
          "nan_count": 5,
          "categories": [
           {
            "name": "Missing",
            "count": 5
           }
          ]
         }
        },
        {
         "name": "call_for_service_draft",
         "dtype": "object",
         "stats": {
          "unique_count": 2,
          "nan_count": 0,
          "categories": [
           {
            "name": "Yes",
            "count": 4
           },
           {
            "name": "No",
            "count": 1
           }
          ]
         }
        },
        {
         "name": "_deepnote_index_column",
         "dtype": "int64"
        }
       ],
       "rows_top": [
        {
         "name": "Kalon Horton",
         "age": "29",
         "gender": "Male",
         "race": "Black",
         "img_url": "nan",
         "date": "2021-05-09T00:00:00.000000",
         "address": "nan",
         "city": "Lancaster",
         "state": "TX",
         "zipcode": "nan",
         "county": "nan",
         "agency_responsible": "Lancaster Police Department",
         "ori_agency_identifier": "TX0571700",
         "cause_of_death": "Gunshot",
         "description_of_circumstances": "Police responded to a call of a man firing shots within an apartment complex. Officers went to Horton's apartment and forced their way in. Police claim Horton was armed, and they shot and killed him.",
         "official_disposition": "Pending investigation",
         "criminal_charges_filed": "No known charges",
         "news_article_or_photo_of_official_document": "https://www.fox4news.com/news/lancaster-police-officers-involved-in-shooting",
         "mental_illness": "No",
         "armed_unarmed_status": "Allegedly Armed",
         "alleged_weapon": "gun",
         "alleged_threat_lvl": "attack",
         "fleeing": "nan",
         "body_camera": "no",
         "wapo_id": 6842,
         "off_duty_killing": "nan",
         "geography": "nan",
         "mpv_id": "nan",
         "fatal_encounters_id": "nan",
         "encounter_type_draft": "Part 1 Violent Crime",
         "initial_reported_reason_for_encounter_draft": "gunshots",
         "names_of_officers_involved_draft": "nan",
         "race_of_officers_involved_draft": "nan",
         "known_past_shootings_of_Officer_draft": "nan",
         "call_for_service_draft": "Yes",
         "_deepnote_index_column": 0
        },
        {
         "name": "Name withheld by police",
         "age": "nan",
         "gender": "Male",
         "race": "Unknown Race",
         "img_url": "nan",
         "date": "2021-05-09T00:00:00.000000",
         "address": "90 S. Main St.",
         "city": "Leicester",
         "state": "MA",
         "zipcode": "1524.0",
         "county": "Worcester",
         "agency_responsible": "Leicester Police Department",
         "ori_agency_identifier": "MA0142400",
         "cause_of_death": "Gunshot",
         "description_of_circumstances": "A man allegedly crashed an SUV into the Leicester Police Station, repeatedly ramming his vehicle into the front doors until he gained entry into the building. Responding officers saw the SUV in the front door and encountered the man. Police claim the man placed a rifle on his shoulder and aimed it at the officers. The police officers shot and killed him.",
         "official_disposition": "Pending investigation",
         "criminal_charges_filed": "No known charges",
         "news_article_or_photo_of_official_document": "https://www.wcvb.com/article/leicester-police-station-shooting-car-crash-massachusetts/36374400",
         "mental_illness": "No",
         "armed_unarmed_status": "Allegedly Armed",
         "alleged_weapon": "gun",
         "alleged_threat_lvl": "attack",
         "fleeing": "not fleeing",
         "body_camera": "no",
         "wapo_id": 6844,
         "off_duty_killing": "nan",
         "geography": "Suburban",
         "mpv_id": "nan",
         "fatal_encounters_id": "nan",
         "encounter_type_draft": "Other",
         "initial_reported_reason_for_encounter_draft": "deliberate car crash",
         "names_of_officers_involved_draft": "nan",
         "race_of_officers_involved_draft": "nan",
         "known_past_shootings_of_Officer_draft": "nan",
         "call_for_service_draft": "Yes",
         "_deepnote_index_column": 1
        },
        {
         "name": "Jeffrey Mark Murray",
         "age": "62",
         "gender": "Male",
         "race": "Unknown Race",
         "img_url": "nan",
         "date": "2021-05-09T00:00:00.000000",
         "address": "nan",
         "city": "Greenville",
         "state": "SC",
         "zipcode": "nan",
         "county": "nan",
         "agency_responsible": "Greenville Police Department",
         "ori_agency_identifier": "SC0230000",
         "cause_of_death": "Gunshot",
         "description_of_circumstances": "Murray allegedly shot and killed David Oliver while Oliver was on the phone with the police. Police found Murray and killed him. ",
         "official_disposition": "Pending investigation",
         "criminal_charges_filed": "No known charges",
         "news_article_or_photo_of_official_document": "https://www.seattletimes.com/nation-world/nation/cyclist-killed-in-dispute-shooter-dies-in-police-gun-battle/",
         "mental_illness": "No",
         "armed_unarmed_status": "Allegedly Armed",
         "alleged_weapon": "gun",
         "alleged_threat_lvl": "attack",
         "fleeing": "not fleeing",
         "body_camera": "no",
         "wapo_id": 6841,
         "off_duty_killing": "nan",
         "geography": "nan",
         "mpv_id": "nan",
         "fatal_encounters_id": "nan",
         "encounter_type_draft": "Part 1 Violent Crime",
         "initial_reported_reason_for_encounter_draft": "murder",
         "names_of_officers_involved_draft": "nan",
         "race_of_officers_involved_draft": "nan",
         "known_past_shootings_of_Officer_draft": "nan",
         "call_for_service_draft": "Yes",
         "_deepnote_index_column": 2
        },
        {
         "name": "Everton Brown",
         "age": "56",
         "gender": "Male",
         "race": "Unknown Race",
         "img_url": "nan",
         "date": "2021-05-08T00:00:00.000000",
         "address": "nan",
         "city": "Baltimore",
         "state": "MD",
         "zipcode": "nan",
         "county": "nan",
         "agency_responsible": "Baltimore County Police Department",
         "ori_agency_identifier": "MD0030000",
         "cause_of_death": "Gunshot",
         "description_of_circumstances": "Brown allegedly shot and killed two neighbors, and injured another. Police responded to the scene and found Brown in a parking lot. Police allegedly commanded Brown to drop his gun and Brown refused. At least four officers shot at Brown, killing him. ",
         "official_disposition": "Pending investigation",
         "criminal_charges_filed": "No known charges",
         "news_article_or_photo_of_official_document": "https://abcnews.go.com/US/wireStory/police-maryland-man-killed-neighbors-set-house-ablaze-77591766",
         "mental_illness": "Yes",
         "armed_unarmed_status": "Allegedly Armed",
         "alleged_weapon": "gun",
         "alleged_threat_lvl": "attack",
         "fleeing": "not fleeing",
         "body_camera": "no",
         "wapo_id": 6846,
         "off_duty_killing": "nan",
         "geography": "nan",
         "mpv_id": "nan",
         "fatal_encounters_id": "nan",
         "encounter_type_draft": "Part 1 Violent Crime",
         "initial_reported_reason_for_encounter_draft": "murder",
         "names_of_officers_involved_draft": "nan",
         "race_of_officers_involved_draft": "nan",
         "known_past_shootings_of_Officer_draft": "nan",
         "call_for_service_draft": "Yes",
         "_deepnote_index_column": 3
        },
        {
         "name": "Felix Jerry Marquez",
         "age": "34",
         "gender": "Male",
         "race": "Hispanic",
         "img_url": "nan",
         "date": "2021-05-08T00:00:00.000000",
         "address": "nan",
         "city": "Riverside",
         "state": "CA",
         "zipcode": "nan",
         "county": "Riverside",
         "agency_responsible": "Riverside Police Department",
         "ori_agency_identifier": "CA0331300",
         "cause_of_death": "Gunshot",
         "description_of_circumstances": "Officers who were part of a homeless outreach unit encountered Marquez and claim he pulled a handgun, pointing it at them. The officers shot and killed Marquez. ",
         "official_disposition": "Pending investigation",
         "criminal_charges_filed": "No known charges",
         "news_article_or_photo_of_official_document": "https://www.avpress.com/news/police-shoot-man-who-pulled-gun/article_cd0b7314-b138-11eb-a877-6f0ab8fbc496.html",
         "mental_illness": "No",
         "armed_unarmed_status": "Allegedly Armed",
         "alleged_weapon": "gun",
         "alleged_threat_lvl": "attack",
         "fleeing": "not fleeing",
         "body_camera": "no",
         "wapo_id": 6845,
         "off_duty_killing": "nan",
         "geography": "nan",
         "mpv_id": "nan",
         "fatal_encounters_id": "nan",
         "encounter_type_draft": "Person with a gun",
         "initial_reported_reason_for_encounter_draft": "person with a gun",
         "names_of_officers_involved_draft": "nan",
         "race_of_officers_involved_draft": "nan",
         "known_past_shootings_of_Officer_draft": "nan",
         "call_for_service_draft": "No",
         "_deepnote_index_column": 4
        }
       ],
       "rows_bottom": null
      },
      "text/plain": "                      name  age gender          race img_url       date  \\\n0             Kalon Horton   29   Male         Black     NaN 2021-05-09   \n1  Name withheld by police  NaN   Male  Unknown Race     NaN 2021-05-09   \n2      Jeffrey Mark Murray   62   Male  Unknown Race     NaN 2021-05-09   \n3            Everton Brown   56   Male  Unknown Race     NaN 2021-05-08   \n4      Felix Jerry Marquez   34   Male      Hispanic     NaN 2021-05-08   \n\n          address        city state  zipcode  ... off_duty_killing geography  \\\n0             NaN   Lancaster    TX      NaN  ...              NaN       NaN   \n1  90 S. Main St.   Leicester    MA   1524.0  ...              NaN  Suburban   \n2             NaN  Greenville    SC      NaN  ...              NaN       NaN   \n3             NaN   Baltimore    MD      NaN  ...              NaN       NaN   \n4             NaN   Riverside    CA      NaN  ...              NaN       NaN   \n\n  mpv_id fatal_encounters_id  encounter_type_draft  \\\n0    NaN                 NaN  Part 1 Violent Crime   \n1    NaN                 NaN                 Other   \n2    NaN                 NaN  Part 1 Violent Crime   \n3    NaN                 NaN  Part 1 Violent Crime   \n4    NaN                 NaN     Person with a gun   \n\n  initial_reported_reason_for_encounter_draft  \\\n0                                    gunshots   \n1                        deliberate car crash   \n2                                      murder   \n3                                      murder   \n4                           person with a gun   \n\n  names_of_officers_involved_draft race_of_officers_involved_draft  \\\n0                              NaN                             NaN   \n1                              NaN                             NaN   \n2                              NaN                             NaN   \n3                              NaN                             NaN   \n4                              NaN                             NaN   \n\n  known_past_shootings_of_Officer_draft call_for_service_draft  \n0                                   NaN                    Yes  \n1                                   NaN                    Yes  \n2                                   NaN                    Yes  \n3                                   NaN                    Yes  \n4                                   NaN                     No  \n\n[5 rows x 35 columns]",
      "text/html": "<div>\n<style scoped>\n    .dataframe tbody tr th:only-of-type {\n        vertical-align: middle;\n    }\n\n    .dataframe tbody tr th {\n        vertical-align: top;\n    }\n\n    .dataframe thead th {\n        text-align: right;\n    }\n</style>\n<table border=\"1\" class=\"dataframe\">\n  <thead>\n    <tr style=\"text-align: right;\">\n      <th></th>\n      <th>name</th>\n      <th>age</th>\n      <th>gender</th>\n      <th>race</th>\n      <th>img_url</th>\n      <th>date</th>\n      <th>address</th>\n      <th>city</th>\n      <th>state</th>\n      <th>zipcode</th>\n      <th>...</th>\n      <th>off_duty_killing</th>\n      <th>geography</th>\n      <th>mpv_id</th>\n      <th>fatal_encounters_id</th>\n      <th>encounter_type_draft</th>\n      <th>initial_reported_reason_for_encounter_draft</th>\n      <th>names_of_officers_involved_draft</th>\n      <th>race_of_officers_involved_draft</th>\n      <th>known_past_shootings_of_Officer_draft</th>\n      <th>call_for_service_draft</th>\n    </tr>\n  </thead>\n  <tbody>\n    <tr>\n      <th>0</th>\n      <td>Kalon Horton</td>\n      <td>29</td>\n      <td>Male</td>\n      <td>Black</td>\n      <td>NaN</td>\n      <td>2021-05-09</td>\n      <td>NaN</td>\n      <td>Lancaster</td>\n      <td>TX</td>\n      <td>NaN</td>\n      <td>...</td>\n      <td>NaN</td>\n      <td>NaN</td>\n      <td>NaN</td>\n      <td>NaN</td>\n      <td>Part 1 Violent Crime</td>\n      <td>gunshots</td>\n      <td>NaN</td>\n      <td>NaN</td>\n      <td>NaN</td>\n      <td>Yes</td>\n    </tr>\n    <tr>\n      <th>1</th>\n      <td>Name withheld by police</td>\n      <td>NaN</td>\n      <td>Male</td>\n      <td>Unknown Race</td>\n      <td>NaN</td>\n      <td>2021-05-09</td>\n      <td>90 S. Main St.</td>\n      <td>Leicester</td>\n      <td>MA</td>\n      <td>1524.0</td>\n      <td>...</td>\n      <td>NaN</td>\n      <td>Suburban</td>\n      <td>NaN</td>\n      <td>NaN</td>\n      <td>Other</td>\n      <td>deliberate car crash</td>\n      <td>NaN</td>\n      <td>NaN</td>\n      <td>NaN</td>\n      <td>Yes</td>\n    </tr>\n    <tr>\n      <th>2</th>\n      <td>Jeffrey Mark Murray</td>\n      <td>62</td>\n      <td>Male</td>\n      <td>Unknown Race</td>\n      <td>NaN</td>\n      <td>2021-05-09</td>\n      <td>NaN</td>\n      <td>Greenville</td>\n      <td>SC</td>\n      <td>NaN</td>\n      <td>...</td>\n      <td>NaN</td>\n      <td>NaN</td>\n      <td>NaN</td>\n      <td>NaN</td>\n      <td>Part 1 Violent Crime</td>\n      <td>murder</td>\n      <td>NaN</td>\n      <td>NaN</td>\n      <td>NaN</td>\n      <td>Yes</td>\n    </tr>\n    <tr>\n      <th>3</th>\n      <td>Everton Brown</td>\n      <td>56</td>\n      <td>Male</td>\n      <td>Unknown Race</td>\n      <td>NaN</td>\n      <td>2021-05-08</td>\n      <td>NaN</td>\n      <td>Baltimore</td>\n      <td>MD</td>\n      <td>NaN</td>\n      <td>...</td>\n      <td>NaN</td>\n      <td>NaN</td>\n      <td>NaN</td>\n      <td>NaN</td>\n      <td>Part 1 Violent Crime</td>\n      <td>murder</td>\n      <td>NaN</td>\n      <td>NaN</td>\n      <td>NaN</td>\n      <td>Yes</td>\n    </tr>\n    <tr>\n      <th>4</th>\n      <td>Felix Jerry Marquez</td>\n      <td>34</td>\n      <td>Male</td>\n      <td>Hispanic</td>\n      <td>NaN</td>\n      <td>2021-05-08</td>\n      <td>NaN</td>\n      <td>Riverside</td>\n      <td>CA</td>\n      <td>NaN</td>\n      <td>...</td>\n      <td>NaN</td>\n      <td>NaN</td>\n      <td>NaN</td>\n      <td>NaN</td>\n      <td>Person with a gun</td>\n      <td>person with a gun</td>\n      <td>NaN</td>\n      <td>NaN</td>\n      <td>NaN</td>\n      <td>No</td>\n    </tr>\n  </tbody>\n</table>\n<p>5 rows × 35 columns</p>\n</div>"
     },
     "metadata": {}
    }
   ],
   "execution_count": 381
  },
  {
   "cell_type": "code",
   "source": "df.info()",
   "metadata": {
    "tags": [],
    "cell_id": "00007-922a8333-141c-4189-a980-390ffc90a412",
    "deepnote_to_be_reexecuted": false,
    "source_hash": "de1e323c",
    "execution_start": 1621470831877,
    "execution_millis": 17,
    "deepnote_cell_type": "code"
   },
   "outputs": [
    {
     "name": "stdout",
     "text": "<class 'pandas.core.frame.DataFrame'>\nRangeIndex: 9147 entries, 0 to 9146\nData columns (total 35 columns):\n #   Column                                       Non-Null Count  Dtype         \n---  ------                                       --------------  -----         \n 0   name                                         9147 non-null   object        \n 1   age                                          9138 non-null   object        \n 2   gender                                       9137 non-null   object        \n 3   race                                         9147 non-null   object        \n 4   img_url                                      4882 non-null   object        \n 5   date                                         9147 non-null   datetime64[ns]\n 6   address                                      9042 non-null   object        \n 7   city                                         9138 non-null   object        \n 8   state                                        9147 non-null   object        \n 9   zipcode                                      9099 non-null   float64       \n 10  county                                       9130 non-null   object        \n 11  agency_responsible                           9143 non-null   object        \n 12  ori_agency_identifier                        9144 non-null   object        \n 13  cause_of_death                               9147 non-null   object        \n 14  description_of_circumstances                 9132 non-null   object        \n 15  official_disposition                         9136 non-null   object        \n 16  criminal_charges_filed                       9147 non-null   object        \n 17  news_article_or_photo_of_official_document   9147 non-null   object        \n 18  mental_illness                               9086 non-null   object        \n 19  armed_unarmed_status                         9147 non-null   object        \n 20  alleged_weapon                               9147 non-null   object        \n 21  alleged_threat_lvl                           6750 non-null   object        \n 22  fleeing                                      6056 non-null   object        \n 23  body_camera                                  5982 non-null   object        \n 24  wapo_id                                      6048 non-null   float64       \n 25  off_duty_killing                             248 non-null    object        \n 26  geography                                    9122 non-null   object        \n 27  mpv_id                                       9068 non-null   float64       \n 28  fatal_encounters_id                          9016 non-null   float64       \n 29  encounter_type_draft                         4839 non-null   object        \n 30  initial_reported_reason_for_encounter_draft  4839 non-null   object        \n 31  names_of_officers_involved_draft             1394 non-null   object        \n 32  race_of_officers_involved_draft              341 non-null    object        \n 33  known_past_shootings_of_Officer_draft        74 non-null     object        \n 34  call_for_service_draft                       3616 non-null   object        \ndtypes: datetime64[ns](1), float64(4), object(30)\nmemory usage: 2.4+ MB\n",
     "output_type": "stream"
    }
   ],
   "execution_count": 382
  },
  {
   "cell_type": "markdown",
   "source": "## Next obvious data types:\n- age is object: convert to int \n    - inspect age value counts... why null?",
   "metadata": {
    "tags": [],
    "cell_id": "00009-a428ac4b-2768-4bfe-afab-46ec2104f5d5",
    "deepnote_cell_type": "markdown"
   }
  },
  {
   "cell_type": "code",
   "source": "df[df.age.isnull() == True]",
   "metadata": {
    "tags": [],
    "cell_id": "00011-59bb5367-a4a2-4be6-aa91-5b67a2e6a691",
    "deepnote_to_be_reexecuted": false,
    "source_hash": "e802f30e",
    "execution_start": 1621470831933,
    "execution_millis": 67,
    "deepnote_cell_type": "code"
   },
   "outputs": [
    {
     "output_type": "execute_result",
     "execution_count": 383,
     "data": {
      "application/vnd.deepnote.dataframe.v2+json": {
       "row_count": 9,
       "column_count": 35,
       "columns": [
        {
         "name": "name",
         "dtype": "object",
         "stats": {
          "unique_count": 7,
          "nan_count": 0,
          "categories": [
           {
            "name": "Name withheld by police",
            "count": 3
           },
           {
            "name": "Harmony Wolfgram",
            "count": 1
           },
           {
            "name": "5 others",
            "count": 5
           }
          ]
         }
        },
        {
         "name": "age",
         "dtype": "object",
         "stats": {
          "unique_count": 0,
          "nan_count": 9,
          "categories": [
           {
            "name": "Missing",
            "count": 9
           }
          ]
         }
        },
        {
         "name": "gender",
         "dtype": "object",
         "stats": {
          "unique_count": 2,
          "nan_count": 0,
          "categories": [
           {
            "name": "Male",
            "count": 7
           },
           {
            "name": "Female",
            "count": 2
           }
          ]
         }
        },
        {
         "name": "race",
         "dtype": "object",
         "stats": {
          "unique_count": 4,
          "nan_count": 0,
          "categories": [
           {
            "name": "Unknown Race",
            "count": 3
           },
           {
            "name": "White",
            "count": 2
           },
           {
            "name": "2 others",
            "count": 4
           }
          ]
         }
        },
        {
         "name": "img_url",
         "dtype": "object",
         "stats": {
          "unique_count": 1,
          "nan_count": 8,
          "categories": [
           {
            "name": "https://fatalencounters.org/wp-content/uploads/2021/01/Steven-Verdone.jpg",
            "count": 1
           },
           {
            "name": "Missing",
            "count": 8
           }
          ]
         }
        },
        {
         "name": "date",
         "dtype": "datetime64[ns]",
         "stats": {
          "unique_count": 9,
          "nan_count": 0,
          "min": "2020-11-13 00:00:00",
          "max": "2021-05-09 00:00:00",
          "histogram": [
           {
            "bin_start": 1605225600000000000,
            "bin_end": 1606754880000000000,
            "count": 2
           },
           {
            "bin_start": 1606754880000000000,
            "bin_end": 1608284160000000000,
            "count": 0
           },
           {
            "bin_start": 1608284160000000000,
            "bin_end": 1609813440000000000,
            "count": 3
           },
           {
            "bin_start": 1609813440000000000,
            "bin_end": 1611342720000000000,
            "count": 1
           },
           {
            "bin_start": 1611342720000000000,
            "bin_end": 1612872000000000000,
            "count": 1
           },
           {
            "bin_start": 1612872000000000000,
            "bin_end": 1614401280000000000,
            "count": 0
           },
           {
            "bin_start": 1614401280000000000,
            "bin_end": 1615930560000000000,
            "count": 0
           },
           {
            "bin_start": 1615930560000000000,
            "bin_end": 1617459840000000000,
            "count": 0
           },
           {
            "bin_start": 1617459840000000000,
            "bin_end": 1618989120000000000,
            "count": 1
           },
           {
            "bin_start": 1618989120000000000,
            "bin_end": 1620518400000000000,
            "count": 1
           }
          ]
         }
        },
        {
         "name": "address",
         "dtype": "object",
         "stats": {
          "unique_count": 9,
          "nan_count": 0,
          "categories": [
           {
            "name": "90 S. Main St.",
            "count": 1
           },
           {
            "name": "1100 McVicar Ave.",
            "count": 1
           },
           {
            "name": "7 others",
            "count": 7
           }
          ]
         }
        },
        {
         "name": "city",
         "dtype": "object",
         "stats": {
          "unique_count": 9,
          "nan_count": 0,
          "categories": [
           {
            "name": "Leicester",
            "count": 1
           },
           {
            "name": "Kingman",
            "count": 1
           },
           {
            "name": "7 others",
            "count": 7
           }
          ]
         }
        },
        {
         "name": "state",
         "dtype": "object",
         "stats": {
          "unique_count": 7,
          "nan_count": 0,
          "categories": [
           {
            "name": "AZ",
            "count": 2
           },
           {
            "name": "FL",
            "count": 2
           },
           {
            "name": "5 others",
            "count": 5
           }
          ]
         }
        },
        {
         "name": "zipcode",
         "dtype": "float64",
         "stats": {
          "unique_count": 9,
          "nan_count": 0,
          "min": "1524.0",
          "max": "90303.0",
          "histogram": [
           {
            "bin_start": 1524,
            "bin_end": 10401.9,
            "count": 1
           },
           {
            "bin_start": 10401.9,
            "bin_end": 19279.8,
            "count": 0
           },
           {
            "bin_start": 19279.8,
            "bin_end": 28157.699999999997,
            "count": 0
           },
           {
            "bin_start": 28157.699999999997,
            "bin_end": 37035.6,
            "count": 3
           },
           {
            "bin_start": 37035.6,
            "bin_end": 45913.5,
            "count": 1
           },
           {
            "bin_start": 45913.5,
            "bin_end": 54791.399999999994,
            "count": 0
           },
           {
            "bin_start": 54791.399999999994,
            "bin_end": 63669.299999999996,
            "count": 0
           },
           {
            "bin_start": 63669.299999999996,
            "bin_end": 72547.2,
            "count": 0
           },
           {
            "bin_start": 72547.2,
            "bin_end": 81425.09999999999,
            "count": 1
           },
           {
            "bin_start": 81425.09999999999,
            "bin_end": 90303,
            "count": 3
           }
          ]
         }
        },
        {
         "name": "county",
         "dtype": "object",
         "stats": {
          "unique_count": 9,
          "nan_count": 0,
          "categories": [
           {
            "name": "Worcester",
            "count": 1
           },
           {
            "name": "Mohave",
            "count": 1
           },
           {
            "name": "7 others",
            "count": 7
           }
          ]
         }
        },
        {
         "name": "agency_responsible",
         "dtype": "object",
         "stats": {
          "unique_count": 9,
          "nan_count": 0,
          "categories": [
           {
            "name": "Leicester Police Department",
            "count": 1
           },
           {
            "name": "Mohave County Sheriff's Office",
            "count": 1
           },
           {
            "name": "7 others",
            "count": 7
           }
          ]
         }
        },
        {
         "name": "ori_agency_identifier",
         "dtype": "object",
         "stats": {
          "unique_count": 9,
          "nan_count": 0,
          "categories": [
           {
            "name": "MA0142400",
            "count": 1
           },
           {
            "name": "AZ0080000",
            "count": 1
           },
           {
            "name": "7 others",
            "count": 7
           }
          ]
         }
        },
        {
         "name": "cause_of_death",
         "dtype": "object",
         "stats": {
          "unique_count": 1,
          "nan_count": 0,
          "categories": [
           {
            "name": "Gunshot",
            "count": 9
           }
          ]
         }
        },
        {
         "name": "description_of_circumstances",
         "dtype": "object",
         "stats": {
          "unique_count": 9,
          "nan_count": 0,
          "categories": [
           {
            "name": "A man allegedly crashed an SUV into the Leicester Police Station, repeatedly ramming his vehicle into the front doors until he gained entry into the building. Responding officers saw the SUV in the front door and encountered the man. Police claim the man placed a rifle on his shoulder and aimed it at the officers. The police officers shot and killed him.",
            "count": 1
           },
           {
            "name": "A deputy shot and killed a man following several pursuits. Details as to what precipitated the killing were withheld by police.",
            "count": 1
           },
           {
            "name": "7 others",
            "count": 7
           }
          ]
         }
        },
        {
         "name": "official_disposition",
         "dtype": "object",
         "stats": {
          "unique_count": 1,
          "nan_count": 0,
          "categories": [
           {
            "name": "Pending investigation",
            "count": 9
           }
          ]
         }
        },
        {
         "name": "criminal_charges_filed",
         "dtype": "object",
         "stats": {
          "unique_count": 1,
          "nan_count": 0,
          "categories": [
           {
            "name": "No known charges",
            "count": 9
           }
          ]
         }
        },
        {
         "name": "news_article_or_photo_of_official_document",
         "dtype": "object",
         "stats": {
          "unique_count": 9,
          "nan_count": 0,
          "categories": [
           {
            "name": "https://www.wcvb.com/article/leicester-police-station-shooting-car-crash-massachusetts/36374400",
            "count": 1
           },
           {
            "name": "https://www.12news.com/article/news/local/arizona/pd-mohave-county-deputy-shoots-kills-man-after-multiple-vehicle-pursuits/75-afaf6649-2b76-4134-8646-74cb767e8a94",
            "count": 1
           },
           {
            "name": "7 others",
            "count": 7
           }
          ]
         }
        },
        {
         "name": "mental_illness",
         "dtype": "object",
         "stats": {
          "unique_count": 2,
          "nan_count": 0,
          "categories": [
           {
            "name": "No",
            "count": 7
           },
           {
            "name": "Unknown",
            "count": 2
           }
          ]
         }
        },
        {
         "name": "armed_unarmed_status",
         "dtype": "object",
         "stats": {
          "unique_count": 3,
          "nan_count": 0,
          "categories": [
           {
            "name": "Allegedly Armed",
            "count": 4
           },
           {
            "name": "Vehicle",
            "count": 3
           },
           {
            "name": "Allegedly armed",
            "count": 2
           }
          ]
         }
        },
        {
         "name": "alleged_weapon",
         "dtype": "object",
         "stats": {
          "unique_count": 3,
          "nan_count": 0,
          "categories": [
           {
            "name": "gun",
            "count": 5
           },
           {
            "name": "vehicle",
            "count": 3
           },
           {
            "name": "knife",
            "count": 1
           }
          ]
         }
        },
        {
         "name": "alleged_threat_lvl",
         "dtype": "object",
         "stats": {
          "unique_count": 2,
          "nan_count": 0,
          "categories": [
           {
            "name": "attack",
            "count": 6
           },
           {
            "name": "other",
            "count": 3
           }
          ]
         }
        },
        {
         "name": "fleeing",
         "dtype": "object",
         "stats": {
          "unique_count": 4,
          "nan_count": 2,
          "categories": [
           {
            "name": "not fleeing",
            "count": 4
           },
           {
            "name": "3 others",
            "count": 3
           },
           {
            "name": "Missing",
            "count": 2
           }
          ]
         }
        },
        {
         "name": "body_camera",
         "dtype": "object",
         "stats": {
          "unique_count": 2,
          "nan_count": 4,
          "categories": [
           {
            "name": "no",
            "count": 3
           },
           {
            "name": "No",
            "count": 2
           },
           {
            "name": "Missing",
            "count": 4
           }
          ]
         }
        },
        {
         "name": "wapo_id",
         "dtype": "float64",
         "stats": {
          "unique_count": 5,
          "nan_count": 4,
          "min": "6347.0",
          "max": "6844.0",
          "histogram": [
           {
            "bin_start": 6347,
            "bin_end": 6396.7,
            "count": 1
           },
           {
            "bin_start": 6396.7,
            "bin_end": 6446.4,
            "count": 0
           },
           {
            "bin_start": 6446.4,
            "bin_end": 6496.1,
            "count": 1
           },
           {
            "bin_start": 6496.1,
            "bin_end": 6545.8,
            "count": 1
           },
           {
            "bin_start": 6545.8,
            "bin_end": 6595.5,
            "count": 1
           },
           {
            "bin_start": 6595.5,
            "bin_end": 6645.2,
            "count": 0
           },
           {
            "bin_start": 6645.2,
            "bin_end": 6694.9,
            "count": 0
           },
           {
            "bin_start": 6694.9,
            "bin_end": 6744.6,
            "count": 0
           },
           {
            "bin_start": 6744.6,
            "bin_end": 6794.3,
            "count": 0
           },
           {
            "bin_start": 6794.3,
            "bin_end": 6844,
            "count": 1
           }
          ]
         }
        },
        {
         "name": "off_duty_killing",
         "dtype": "object",
         "stats": {
          "unique_count": 0,
          "nan_count": 9,
          "categories": [
           {
            "name": "Missing",
            "count": 9
           }
          ]
         }
        },
        {
         "name": "geography",
         "dtype": "object",
         "stats": {
          "unique_count": 3,
          "nan_count": 0,
          "categories": [
           {
            "name": "Suburban",
            "count": 4
           },
           {
            "name": "Rural",
            "count": 3
           },
           {
            "name": "Urban",
            "count": 2
           }
          ]
         }
        },
        {
         "name": "mpv_id",
         "dtype": "float64",
         "stats": {
          "unique_count": 7,
          "nan_count": 2,
          "min": "8929.0",
          "max": "9053.0",
          "histogram": [
           {
            "bin_start": 8929,
            "bin_end": 8941.4,
            "count": 2
           },
           {
            "bin_start": 8941.4,
            "bin_end": 8953.8,
            "count": 0
           },
           {
            "bin_start": 8953.8,
            "bin_end": 8966.2,
            "count": 0
           },
           {
            "bin_start": 8966.2,
            "bin_end": 8978.6,
            "count": 0
           },
           {
            "bin_start": 8978.6,
            "bin_end": 8991,
            "count": 1
           },
           {
            "bin_start": 8991,
            "bin_end": 9003.4,
            "count": 1
           },
           {
            "bin_start": 9003.4,
            "bin_end": 9015.8,
            "count": 0
           },
           {
            "bin_start": 9015.8,
            "bin_end": 9028.2,
            "count": 1
           },
           {
            "bin_start": 9028.2,
            "bin_end": 9040.6,
            "count": 0
           },
           {
            "bin_start": 9040.6,
            "bin_end": 9053,
            "count": 2
           }
          ]
         }
        },
        {
         "name": "fatal_encounters_id",
         "dtype": "float64",
         "stats": {
          "unique_count": 7,
          "nan_count": 2,
          "min": "29169.0",
          "max": "30061.0",
          "histogram": [
           {
            "bin_start": 29169,
            "bin_end": 29258.2,
            "count": 2
           },
           {
            "bin_start": 29258.2,
            "bin_end": 29347.4,
            "count": 0
           },
           {
            "bin_start": 29347.4,
            "bin_end": 29436.6,
            "count": 2
           },
           {
            "bin_start": 29436.6,
            "bin_end": 29525.8,
            "count": 1
           },
           {
            "bin_start": 29525.8,
            "bin_end": 29615,
            "count": 1
           },
           {
            "bin_start": 29615,
            "bin_end": 29704.2,
            "count": 0
           },
           {
            "bin_start": 29704.2,
            "bin_end": 29793.4,
            "count": 0
           },
           {
            "bin_start": 29793.4,
            "bin_end": 29882.6,
            "count": 0
           },
           {
            "bin_start": 29882.6,
            "bin_end": 29971.8,
            "count": 0
           },
           {
            "bin_start": 29971.8,
            "bin_end": 30061,
            "count": 1
           }
          ]
         }
        },
        {
         "name": "encounter_type_draft",
         "dtype": "object",
         "stats": {
          "unique_count": 7,
          "nan_count": 0,
          "categories": [
           {
            "name": "Part 1 Violent Crime",
            "count": 3
           },
           {
            "name": "Other",
            "count": 1
           },
           {
            "name": "5 others",
            "count": 5
           }
          ]
         }
        },
        {
         "name": "initial_reported_reason_for_encounter_draft",
         "dtype": "object",
         "stats": {
          "unique_count": 8,
          "nan_count": 0,
          "categories": [
           {
            "name": "Shooting",
            "count": 2
           },
           {
            "name": "deliberate car crash",
            "count": 1
           },
           {
            "name": "6 others",
            "count": 6
           }
          ]
         }
        },
        {
         "name": "names_of_officers_involved_draft",
         "dtype": "object",
         "stats": {
          "unique_count": 0,
          "nan_count": 9,
          "categories": [
           {
            "name": "Missing",
            "count": 9
           }
          ]
         }
        },
        {
         "name": "race_of_officers_involved_draft",
         "dtype": "object",
         "stats": {
          "unique_count": 0,
          "nan_count": 9,
          "categories": [
           {
            "name": "Missing",
            "count": 9
           }
          ]
         }
        },
        {
         "name": "known_past_shootings_of_Officer_draft",
         "dtype": "object",
         "stats": {
          "unique_count": 0,
          "nan_count": 9,
          "categories": [
           {
            "name": "Missing",
            "count": 9
           }
          ]
         }
        },
        {
         "name": "call_for_service_draft",
         "dtype": "object",
         "stats": {
          "unique_count": 2,
          "nan_count": 0,
          "categories": [
           {
            "name": "Yes",
            "count": 7
           },
           {
            "name": "No",
            "count": 2
           }
          ]
         }
        },
        {
         "name": "_deepnote_index_column",
         "dtype": "int64"
        }
       ],
       "rows_top": [
        {
         "name": "Name withheld by police",
         "age": "nan",
         "gender": "Male",
         "race": "Unknown Race",
         "img_url": "nan",
         "date": "2021-05-09T00:00:00.000000",
         "address": "90 S. Main St.",
         "city": "Leicester",
         "state": "MA",
         "zipcode": 1524,
         "county": "Worcester",
         "agency_responsible": "Leicester Police Department",
         "ori_agency_identifier": "MA0142400",
         "cause_of_death": "Gunshot",
         "description_of_circumstances": "A man allegedly crashed an SUV into the Leicester Police Station, repeatedly ramming his vehicle into the front doors until he gained entry into the building. Responding officers saw the SUV in the front door and encountered the man. Police claim the man placed a rifle on his shoulder and aimed it at the officers. The police officers shot and killed him.",
         "official_disposition": "Pending investigation",
         "criminal_charges_filed": "No known charges",
         "news_article_or_photo_of_official_document": "https://www.wcvb.com/article/leicester-police-station-shooting-car-crash-massachusetts/36374400",
         "mental_illness": "No",
         "armed_unarmed_status": "Allegedly Armed",
         "alleged_weapon": "gun",
         "alleged_threat_lvl": "attack",
         "fleeing": "not fleeing",
         "body_camera": "no",
         "wapo_id": "6844.0",
         "off_duty_killing": "nan",
         "geography": "Suburban",
         "mpv_id": "nan",
         "fatal_encounters_id": "nan",
         "encounter_type_draft": "Other",
         "initial_reported_reason_for_encounter_draft": "deliberate car crash",
         "names_of_officers_involved_draft": "nan",
         "race_of_officers_involved_draft": "nan",
         "known_past_shootings_of_Officer_draft": "nan",
         "call_for_service_draft": "Yes",
         "_deepnote_index_column": 1
        },
        {
         "name": "Name withheld by police",
         "age": "nan",
         "gender": "Male",
         "race": "Unknown Race",
         "img_url": "nan",
         "date": "2021-04-17T00:00:00.000000",
         "address": "1100 McVicar Ave.",
         "city": "Kingman",
         "state": "AZ",
         "zipcode": 86409,
         "county": "Mohave",
         "agency_responsible": "Mohave County Sheriff's Office",
         "ori_agency_identifier": "AZ0080000",
         "cause_of_death": "Gunshot",
         "description_of_circumstances": "A deputy shot and killed a man following several pursuits. Details as to what precipitated the killing were withheld by police.",
         "official_disposition": "Pending investigation",
         "criminal_charges_filed": "No known charges",
         "news_article_or_photo_of_official_document": "https://www.12news.com/article/news/local/arizona/pd-mohave-county-deputy-shoots-kills-man-after-multiple-vehicle-pursuits/75-afaf6649-2b76-4134-8646-74cb767e8a94",
         "mental_illness": "No",
         "armed_unarmed_status": "Vehicle",
         "alleged_weapon": "vehicle",
         "alleged_threat_lvl": "other",
         "fleeing": "car",
         "body_camera": "nan",
         "wapo_id": "nan",
         "off_duty_killing": "nan",
         "geography": "Rural",
         "mpv_id": "nan",
         "fatal_encounters_id": "30061.0",
         "encounter_type_draft": "Traffic Stop",
         "initial_reported_reason_for_encounter_draft": "traffic stop ",
         "names_of_officers_involved_draft": "nan",
         "race_of_officers_involved_draft": "nan",
         "known_past_shootings_of_Officer_draft": "nan",
         "call_for_service_draft": "No",
         "_deepnote_index_column": 53
        },
        {
         "name": "Harmony Wolfgram",
         "age": "nan",
         "gender": "Female",
         "race": "Unknown Race",
         "img_url": "nan",
         "date": "2021-01-26T00:00:00.000000",
         "address": "E. 25th Ave. and Imboden Rd.",
         "city": "Aurora",
         "state": "CO",
         "zipcode": 80137,
         "county": "Adams",
         "agency_responsible": "Adams County Sheriff's Office",
         "ori_agency_identifier": "CO0010000",
         "cause_of_death": "Gunshot",
         "description_of_circumstances": "About 12:18 a.m., deputies located a suspected stolen vehicle, described as a gray Jeep SUV. Deputies lost sight of the Jeep, and it was eventually found abandoned. As deputies were searching the area, they found two female suspects on the property. Deputies were alerted that one of the women was armed, though it's unclear how they discovered the gun, and they shot and killed one of the women.",
         "official_disposition": "Pending investigation",
         "criminal_charges_filed": "No known charges",
         "news_article_or_photo_of_official_document": "https://www.9news.com/article/news/crime/adams-county-officer-involved-shooting/73-7cfba7b6-70a2-4f1b-b792-5ee49f8cffc9",
         "mental_illness": "No",
         "armed_unarmed_status": "Allegedly Armed",
         "alleged_weapon": "gun",
         "alleged_threat_lvl": "other",
         "fleeing": "not fleeing",
         "body_camera": "no",
         "wapo_id": "6547.0",
         "off_duty_killing": "nan",
         "geography": "Rural",
         "mpv_id": "8929.0",
         "fatal_encounters_id": "29530.0",
         "encounter_type_draft": "Other Non-Violent Offense",
         "initial_reported_reason_for_encounter_draft": "Suspect (stolen vehicle)",
         "names_of_officers_involved_draft": "nan",
         "race_of_officers_involved_draft": "nan",
         "known_past_shootings_of_Officer_draft": "nan",
         "call_for_service_draft": "No",
         "_deepnote_index_column": 313
        },
        {
         "name": "Steven Verdone",
         "age": "nan",
         "gender": "Male",
         "race": "White",
         "img_url": "https://fatalencounters.org/wp-content/uploads/2021/01/Steven-Verdone.jpg",
         "date": "2021-01-22T00:00:00.000000",
         "address": "6241 W. Cardinal St.",
         "city": "Homosassa",
         "state": "FL",
         "zipcode": 34446,
         "county": "Citrus",
         "agency_responsible": "Citrus County Sheriff's Office",
         "ori_agency_identifier": "FL0090000",
         "cause_of_death": "Gunshot",
         "description_of_circumstances": "Deputies responded at around 9:45 a.m. to 911 calls reporting a man, Verdone, behaving erratically and running in and out of traffic near the Marathon Gas station. Verdone yelled at people near the locked entrance to the convenience store, which he also tried to enter before the deputy's arrival. Verdone approached the deputy as he was exiting his cruiser. Verdone advanced with a knife, and the deputy shot and killed him.",
         "official_disposition": "Pending investigation",
         "criminal_charges_filed": "No known charges",
         "news_article_or_photo_of_official_document": "https://www.chronicleonline.com/news/local/deputy-shoots-kills-man-armed-with-knife/article_0712050c-5cc8-11eb-bf39-ef9591178d38.html",
         "mental_illness": "Unknown",
         "armed_unarmed_status": "Allegedly Armed",
         "alleged_weapon": "knife",
         "alleged_threat_lvl": "other",
         "fleeing": "not fleeing",
         "body_camera": "no",
         "wapo_id": "6544.0",
         "off_duty_killing": "nan",
         "geography": "Suburban",
         "mpv_id": "8933.0",
         "fatal_encounters_id": "29525.0",
         "encounter_type_draft": "Mental Health/Welfare Check",
         "initial_reported_reason_for_encounter_draft": "Erratic behavior",
         "names_of_officers_involved_draft": "nan",
         "race_of_officers_involved_draft": "nan",
         "known_past_shootings_of_Officer_draft": "nan",
         "call_for_service_draft": "Yes",
         "_deepnote_index_column": 320
        },
        {
         "name": "Amanda Faulkner",
         "age": "nan",
         "gender": "Female",
         "race": "White",
         "img_url": "nan",
         "date": "2021-01-04T00:00:00.000000",
         "address": "1400 Mooney Rd.",
         "city": "Columbiana",
         "state": "AL",
         "zipcode": 35051,
         "county": "Shelby ",
         "agency_responsible": "Shelby County Sheriff's Office",
         "ori_agency_identifier": "AL0590000",
         "cause_of_death": "Gunshot",
         "description_of_circumstances": "Around 6 p.m., deputies were dispatched to a domestic disturbance. Police have withheld details as to what happened next, but say a woman ran over a deputy, and the deputy shot and killed her.",
         "official_disposition": "Pending investigation",
         "criminal_charges_filed": "No known charges",
         "news_article_or_photo_of_official_document": "https://www.al.com/news/birmingham/2021/01/female-suspect-shot-and-killed-shelby-county-run-over-during-domestic-call.html",
         "mental_illness": "No",
         "armed_unarmed_status": "Vehicle",
         "alleged_weapon": "vehicle",
         "alleged_threat_lvl": "attack",
         "fleeing": "nan",
         "body_camera": "nan",
         "wapo_id": "nan",
         "off_duty_killing": "nan",
         "geography": "Rural",
         "mpv_id": "8988.0",
         "fatal_encounters_id": "29432.0",
         "encounter_type_draft": "Domestic Disturbance",
         "initial_reported_reason_for_encounter_draft": "Domestic Disturbance",
         "names_of_officers_involved_draft": "nan",
         "race_of_officers_involved_draft": "nan",
         "known_past_shootings_of_Officer_draft": "nan",
         "call_for_service_draft": "Yes",
         "_deepnote_index_column": 375
        },
        {
         "name": "Rodolfo Caraballo Moreno",
         "age": "nan",
         "gender": "Male",
         "race": "Hispanic",
         "img_url": "nan",
         "date": "2020-12-31T00:00:00.000000",
         "address": "Southwest 38th Avenue and 28th Street",
         "city": "Miami",
         "state": "FL",
         "zipcode": 33133,
         "county": "Miami-Dade",
         "agency_responsible": "Miami Police Department",
         "ori_agency_identifier": "FL0130600",
         "cause_of_death": "Gunshot",
         "description_of_circumstances": "Police responded to a call of shots fired and shot and killed Rodolfo Caraballo Moreno. Police said he opened fire at a home near Coral Way.",
         "official_disposition": "Pending investigation",
         "criminal_charges_filed": "No known charges",
         "news_article_or_photo_of_official_document": "https://www.local10.com/news/local/2021/01/01/investigation-continues-after-miami-man-dies-in-police-involved-shooting/",
         "mental_illness": "No",
         "armed_unarmed_status": "Allegedly Armed",
         "alleged_weapon": "gun",
         "alleged_threat_lvl": "attack",
         "fleeing": "Not fleeing",
         "body_camera": "nan",
         "wapo_id": "nan",
         "off_duty_killing": "nan",
         "geography": "Urban",
         "mpv_id": "8996.0",
         "fatal_encounters_id": "nan",
         "encounter_type_draft": "Part 1 Violent Crime",
         "initial_reported_reason_for_encounter_draft": "Shooting",
         "names_of_officers_involved_draft": "nan",
         "race_of_officers_involved_draft": "nan",
         "known_past_shootings_of_Officer_draft": "nan",
         "call_for_service_draft": "Yes",
         "_deepnote_index_column": 383
        },
        {
         "name": "John Moreno",
         "age": "nan",
         "gender": "Male",
         "race": "Hispanic",
         "img_url": "nan",
         "date": "2020-12-25T00:00:00.000000",
         "address": "1030 Abanico Court",
         "city": "Rio Rico",
         "state": "AZ",
         "zipcode": 85648,
         "county": "Santa Cruz",
         "agency_responsible": "Santa Cruz County Sheriff's Office",
         "ori_agency_identifier": "CA0440000",
         "cause_of_death": "Gunshot",
         "description_of_circumstances": "Deputies received a 911 call that reported an intruder was terrorizing people at a home. A Hispanic man had gone to a home looking for a person who had since left. The man became angry and threatened the people inside the home and tried to find a way inside. He reportedly got into a semi truck and began ramming cars in a carport, as well as crashing into the home and garage. He was able to get into the home due to the damage he had created. Deputies found the suspect back outside in his vehicle upon arrival. He allegedly drove semi-truck into the deputy's patrol car, and was preparing to hit him again, when the deputy shot and killed him.",
         "official_disposition": "Pending investigation",
         "criminal_charges_filed": "No known charges",
         "news_article_or_photo_of_official_document": "https://kvoa.com/news/2020/12/27/santa-cruz-sheriff-confirms-officer-involved-shooting-in-rio-rico/",
         "mental_illness": "No",
         "armed_unarmed_status": "Vehicle",
         "alleged_weapon": "vehicle",
         "alleged_threat_lvl": "attack",
         "fleeing": "Car",
         "body_camera": "No",
         "wapo_id": "6455.0",
         "off_duty_killing": "nan",
         "geography": "Suburban",
         "mpv_id": "9019.0",
         "fatal_encounters_id": "29370.0",
         "encounter_type_draft": "Part 1 Violent Crime",
         "initial_reported_reason_for_encounter_draft": "Home intrusion, vehicular assault, aggravated assault",
         "names_of_officers_involved_draft": "nan",
         "race_of_officers_involved_draft": "nan",
         "known_past_shootings_of_Officer_draft": "nan",
         "call_for_service_draft": "Yes",
         "_deepnote_index_column": 409
        },
        {
         "name": "Name withheld by police",
         "age": "nan",
         "gender": "Male",
         "race": "Black",
         "img_url": "nan",
         "date": "2020-11-15T00:00:00.000000",
         "address": "Van Wick St. and Van Ness Ave.",
         "city": "Inglewood",
         "state": "CA",
         "zipcode": 90303,
         "county": "Los Angeles",
         "agency_responsible": "Los Angeles County Sheriff's Department",
         "ori_agency_identifier": "CA0190000",
         "cause_of_death": "Gunshot",
         "description_of_circumstances": "A caller reported a man in the middle of the street holding a firearm about 1:50 a.m. at an intersection. As deputies arrived, they saw a man pointing a firearm at a passing by vehicle. The deputies told the man to drop the weapon, but he allegedly turned and pointed the weapon at the deputies, who shot and killed him.",
         "official_disposition": "Pending investigation",
         "criminal_charges_filed": "No known charges",
         "news_article_or_photo_of_official_document": "https://fox5sandiego.com/news/california-news/man-shot-killed-in-la-county-after-deputies-say-he-pointed-gun-at-them/",
         "mental_illness": "Unknown",
         "armed_unarmed_status": "Allegedly armed",
         "alleged_weapon": "gun",
         "alleged_threat_lvl": "attack",
         "fleeing": "nan",
         "body_camera": "nan",
         "wapo_id": "nan",
         "off_duty_killing": "nan",
         "geography": "Urban",
         "mpv_id": "9052.0",
         "fatal_encounters_id": "29175.0",
         "encounter_type_draft": "Person with a Weapon (gun)",
         "initial_reported_reason_for_encounter_draft": "Person with a gun, erratic behavior",
         "names_of_officers_involved_draft": "nan",
         "race_of_officers_involved_draft": "nan",
         "known_past_shootings_of_Officer_draft": "nan",
         "call_for_service_draft": "Yes",
         "_deepnote_index_column": 516
        },
        {
         "name": "Tracey Leon McKinney",
         "age": "nan",
         "gender": "Male",
         "race": "Black",
         "img_url": "nan",
         "date": "2020-11-13T00:00:00.000000",
         "address": "Glover Ave and Adams Ave",
         "city": "Gulfport",
         "state": "MS",
         "zipcode": 39507,
         "county": "Harrison",
         "agency_responsible": "Gulfport Police Department",
         "ori_agency_identifier": "MS0240200",
         "cause_of_death": "Gunshot",
         "description_of_circumstances": "Gulfport police officers responded to a call of shots fired. Upon arrival, those officers saw a female lying on the ground with an apparent gunshot wound. Tracey McKinney reportedly was near the female with a firearm in his hand. Police shot and killed him.",
         "official_disposition": "Pending investigation",
         "criminal_charges_filed": "No known charges",
         "news_article_or_photo_of_official_document": "https://www.wxxv25.com/2020/11/17/mbi-issues-press-release-last-fridays-officer-involved-shooting-gulfport/",
         "mental_illness": "No",
         "armed_unarmed_status": "Allegedly armed",
         "alleged_weapon": "gun",
         "alleged_threat_lvl": "attack",
         "fleeing": "not fleeing",
         "body_camera": "No",
         "wapo_id": "6347.0",
         "off_duty_killing": "nan",
         "geography": "Suburban",
         "mpv_id": "9053.0",
         "fatal_encounters_id": "29169.0",
         "encounter_type_draft": "Part 1 Violent Crime",
         "initial_reported_reason_for_encounter_draft": "Shooting",
         "names_of_officers_involved_draft": "nan",
         "race_of_officers_involved_draft": "nan",
         "known_past_shootings_of_Officer_draft": "nan",
         "call_for_service_draft": "Yes",
         "_deepnote_index_column": 525
        }
       ],
       "rows_bottom": null
      },
      "text/plain": "                         name  age  gender          race  \\\n1     Name withheld by police  NaN    Male  Unknown Race   \n53    Name withheld by police  NaN    Male  Unknown Race   \n313          Harmony Wolfgram  NaN  Female  Unknown Race   \n320            Steven Verdone  NaN    Male         White   \n375           Amanda Faulkner  NaN  Female         White   \n383  Rodolfo Caraballo Moreno  NaN    Male      Hispanic   \n409               John Moreno  NaN    Male      Hispanic   \n516   Name withheld by police  NaN    Male         Black   \n525      Tracey Leon McKinney  NaN    Male         Black   \n\n                                               img_url       date  \\\n1                                                  NaN 2021-05-09   \n53                                                 NaN 2021-04-17   \n313                                                NaN 2021-01-26   \n320  https://fatalencounters.org/wp-content/uploads... 2021-01-22   \n375                                                NaN 2021-01-04   \n383                                                NaN 2020-12-31   \n409                                                NaN 2020-12-25   \n516                                                NaN 2020-11-15   \n525                                                NaN 2020-11-13   \n\n                                   address        city state  zipcode  ...  \\\n1                           90 S. Main St.   Leicester    MA   1524.0  ...   \n53                       1100 McVicar Ave.     Kingman    AZ  86409.0  ...   \n313           E. 25th Ave. and Imboden Rd.      Aurora    CO  80137.0  ...   \n320                   6241 W. Cardinal St.   Homosassa    FL  34446.0  ...   \n375                        1400 Mooney Rd.  Columbiana    AL  35051.0  ...   \n383  Southwest 38th Avenue and 28th Street       Miami    FL  33133.0  ...   \n409                     1030 Abanico Court    Rio Rico    AZ  85648.0  ...   \n516         Van Wick St. and Van Ness Ave.   Inglewood    CA  90303.0  ...   \n525               Glover Ave and Adams Ave    Gulfport    MS  39507.0  ...   \n\n    off_duty_killing geography  mpv_id fatal_encounters_id  \\\n1                NaN  Suburban     NaN                 NaN   \n53               NaN     Rural     NaN             30061.0   \n313              NaN     Rural  8929.0             29530.0   \n320              NaN  Suburban  8933.0             29525.0   \n375              NaN     Rural  8988.0             29432.0   \n383              NaN     Urban  8996.0                 NaN   \n409              NaN  Suburban  9019.0             29370.0   \n516              NaN     Urban  9052.0             29175.0   \n525              NaN  Suburban  9053.0             29169.0   \n\n            encounter_type_draft  \\\n1                          Other   \n53                  Traffic Stop   \n313    Other Non-Violent Offense   \n320  Mental Health/Welfare Check   \n375         Domestic Disturbance   \n383         Part 1 Violent Crime   \n409         Part 1 Violent Crime   \n516   Person with a Weapon (gun)   \n525         Part 1 Violent Crime   \n\n           initial_reported_reason_for_encounter_draft  \\\n1                                 deliberate car crash   \n53                                       traffic stop    \n313                           Suspect (stolen vehicle)   \n320                                   Erratic behavior   \n375                               Domestic Disturbance   \n383                                           Shooting   \n409  Home intrusion, vehicular assault, aggravated ...   \n516                Person with a gun, erratic behavior   \n525                                           Shooting   \n\n    names_of_officers_involved_draft race_of_officers_involved_draft  \\\n1                                NaN                             NaN   \n53                               NaN                             NaN   \n313                              NaN                             NaN   \n320                              NaN                             NaN   \n375                              NaN                             NaN   \n383                              NaN                             NaN   \n409                              NaN                             NaN   \n516                              NaN                             NaN   \n525                              NaN                             NaN   \n\n    known_past_shootings_of_Officer_draft call_for_service_draft  \n1                                     NaN                    Yes  \n53                                    NaN                     No  \n313                                   NaN                     No  \n320                                   NaN                    Yes  \n375                                   NaN                    Yes  \n383                                   NaN                    Yes  \n409                                   NaN                    Yes  \n516                                   NaN                    Yes  \n525                                   NaN                    Yes  \n\n[9 rows x 35 columns]",
      "text/html": "<div>\n<style scoped>\n    .dataframe tbody tr th:only-of-type {\n        vertical-align: middle;\n    }\n\n    .dataframe tbody tr th {\n        vertical-align: top;\n    }\n\n    .dataframe thead th {\n        text-align: right;\n    }\n</style>\n<table border=\"1\" class=\"dataframe\">\n  <thead>\n    <tr style=\"text-align: right;\">\n      <th></th>\n      <th>name</th>\n      <th>age</th>\n      <th>gender</th>\n      <th>race</th>\n      <th>img_url</th>\n      <th>date</th>\n      <th>address</th>\n      <th>city</th>\n      <th>state</th>\n      <th>zipcode</th>\n      <th>...</th>\n      <th>off_duty_killing</th>\n      <th>geography</th>\n      <th>mpv_id</th>\n      <th>fatal_encounters_id</th>\n      <th>encounter_type_draft</th>\n      <th>initial_reported_reason_for_encounter_draft</th>\n      <th>names_of_officers_involved_draft</th>\n      <th>race_of_officers_involved_draft</th>\n      <th>known_past_shootings_of_Officer_draft</th>\n      <th>call_for_service_draft</th>\n    </tr>\n  </thead>\n  <tbody>\n    <tr>\n      <th>1</th>\n      <td>Name withheld by police</td>\n      <td>NaN</td>\n      <td>Male</td>\n      <td>Unknown Race</td>\n      <td>NaN</td>\n      <td>2021-05-09</td>\n      <td>90 S. Main St.</td>\n      <td>Leicester</td>\n      <td>MA</td>\n      <td>1524.0</td>\n      <td>...</td>\n      <td>NaN</td>\n      <td>Suburban</td>\n      <td>NaN</td>\n      <td>NaN</td>\n      <td>Other</td>\n      <td>deliberate car crash</td>\n      <td>NaN</td>\n      <td>NaN</td>\n      <td>NaN</td>\n      <td>Yes</td>\n    </tr>\n    <tr>\n      <th>53</th>\n      <td>Name withheld by police</td>\n      <td>NaN</td>\n      <td>Male</td>\n      <td>Unknown Race</td>\n      <td>NaN</td>\n      <td>2021-04-17</td>\n      <td>1100 McVicar Ave.</td>\n      <td>Kingman</td>\n      <td>AZ</td>\n      <td>86409.0</td>\n      <td>...</td>\n      <td>NaN</td>\n      <td>Rural</td>\n      <td>NaN</td>\n      <td>30061.0</td>\n      <td>Traffic Stop</td>\n      <td>traffic stop</td>\n      <td>NaN</td>\n      <td>NaN</td>\n      <td>NaN</td>\n      <td>No</td>\n    </tr>\n    <tr>\n      <th>313</th>\n      <td>Harmony Wolfgram</td>\n      <td>NaN</td>\n      <td>Female</td>\n      <td>Unknown Race</td>\n      <td>NaN</td>\n      <td>2021-01-26</td>\n      <td>E. 25th Ave. and Imboden Rd.</td>\n      <td>Aurora</td>\n      <td>CO</td>\n      <td>80137.0</td>\n      <td>...</td>\n      <td>NaN</td>\n      <td>Rural</td>\n      <td>8929.0</td>\n      <td>29530.0</td>\n      <td>Other Non-Violent Offense</td>\n      <td>Suspect (stolen vehicle)</td>\n      <td>NaN</td>\n      <td>NaN</td>\n      <td>NaN</td>\n      <td>No</td>\n    </tr>\n    <tr>\n      <th>320</th>\n      <td>Steven Verdone</td>\n      <td>NaN</td>\n      <td>Male</td>\n      <td>White</td>\n      <td>https://fatalencounters.org/wp-content/uploads...</td>\n      <td>2021-01-22</td>\n      <td>6241 W. Cardinal St.</td>\n      <td>Homosassa</td>\n      <td>FL</td>\n      <td>34446.0</td>\n      <td>...</td>\n      <td>NaN</td>\n      <td>Suburban</td>\n      <td>8933.0</td>\n      <td>29525.0</td>\n      <td>Mental Health/Welfare Check</td>\n      <td>Erratic behavior</td>\n      <td>NaN</td>\n      <td>NaN</td>\n      <td>NaN</td>\n      <td>Yes</td>\n    </tr>\n    <tr>\n      <th>375</th>\n      <td>Amanda Faulkner</td>\n      <td>NaN</td>\n      <td>Female</td>\n      <td>White</td>\n      <td>NaN</td>\n      <td>2021-01-04</td>\n      <td>1400 Mooney Rd.</td>\n      <td>Columbiana</td>\n      <td>AL</td>\n      <td>35051.0</td>\n      <td>...</td>\n      <td>NaN</td>\n      <td>Rural</td>\n      <td>8988.0</td>\n      <td>29432.0</td>\n      <td>Domestic Disturbance</td>\n      <td>Domestic Disturbance</td>\n      <td>NaN</td>\n      <td>NaN</td>\n      <td>NaN</td>\n      <td>Yes</td>\n    </tr>\n    <tr>\n      <th>383</th>\n      <td>Rodolfo Caraballo Moreno</td>\n      <td>NaN</td>\n      <td>Male</td>\n      <td>Hispanic</td>\n      <td>NaN</td>\n      <td>2020-12-31</td>\n      <td>Southwest 38th Avenue and 28th Street</td>\n      <td>Miami</td>\n      <td>FL</td>\n      <td>33133.0</td>\n      <td>...</td>\n      <td>NaN</td>\n      <td>Urban</td>\n      <td>8996.0</td>\n      <td>NaN</td>\n      <td>Part 1 Violent Crime</td>\n      <td>Shooting</td>\n      <td>NaN</td>\n      <td>NaN</td>\n      <td>NaN</td>\n      <td>Yes</td>\n    </tr>\n    <tr>\n      <th>409</th>\n      <td>John Moreno</td>\n      <td>NaN</td>\n      <td>Male</td>\n      <td>Hispanic</td>\n      <td>NaN</td>\n      <td>2020-12-25</td>\n      <td>1030 Abanico Court</td>\n      <td>Rio Rico</td>\n      <td>AZ</td>\n      <td>85648.0</td>\n      <td>...</td>\n      <td>NaN</td>\n      <td>Suburban</td>\n      <td>9019.0</td>\n      <td>29370.0</td>\n      <td>Part 1 Violent Crime</td>\n      <td>Home intrusion, vehicular assault, aggravated ...</td>\n      <td>NaN</td>\n      <td>NaN</td>\n      <td>NaN</td>\n      <td>Yes</td>\n    </tr>\n    <tr>\n      <th>516</th>\n      <td>Name withheld by police</td>\n      <td>NaN</td>\n      <td>Male</td>\n      <td>Black</td>\n      <td>NaN</td>\n      <td>2020-11-15</td>\n      <td>Van Wick St. and Van Ness Ave.</td>\n      <td>Inglewood</td>\n      <td>CA</td>\n      <td>90303.0</td>\n      <td>...</td>\n      <td>NaN</td>\n      <td>Urban</td>\n      <td>9052.0</td>\n      <td>29175.0</td>\n      <td>Person with a Weapon (gun)</td>\n      <td>Person with a gun, erratic behavior</td>\n      <td>NaN</td>\n      <td>NaN</td>\n      <td>NaN</td>\n      <td>Yes</td>\n    </tr>\n    <tr>\n      <th>525</th>\n      <td>Tracey Leon McKinney</td>\n      <td>NaN</td>\n      <td>Male</td>\n      <td>Black</td>\n      <td>NaN</td>\n      <td>2020-11-13</td>\n      <td>Glover Ave and Adams Ave</td>\n      <td>Gulfport</td>\n      <td>MS</td>\n      <td>39507.0</td>\n      <td>...</td>\n      <td>NaN</td>\n      <td>Suburban</td>\n      <td>9053.0</td>\n      <td>29169.0</td>\n      <td>Part 1 Violent Crime</td>\n      <td>Shooting</td>\n      <td>NaN</td>\n      <td>NaN</td>\n      <td>NaN</td>\n      <td>Yes</td>\n    </tr>\n  </tbody>\n</table>\n<p>9 rows × 35 columns</p>\n</div>"
     },
     "metadata": {}
    }
   ],
   "execution_count": 383
  },
  {
   "cell_type": "code",
   "source": "# Harmony Wolfgram was 41 according to Westword News\ndf.loc[313,'age'] = 41",
   "metadata": {
    "tags": [],
    "cell_id": "00011-9741f495-f363-42f6-8977-a260980cb5f5",
    "deepnote_to_be_reexecuted": false,
    "source_hash": "d1e148ba",
    "execution_start": 1621471086757,
    "execution_millis": 4,
    "deepnote_cell_type": "code"
   },
   "outputs": [],
   "execution_count": 390
  },
  {
   "cell_type": "code",
   "source": "# Rodolfo Caraballo Moreno was 57 according to his obituary\ndf.loc[383,'age'] = 57",
   "metadata": {
    "tags": [],
    "cell_id": "00013-e6f80333-1eb0-48d8-9683-7789775abaec",
    "deepnote_to_be_reexecuted": false,
    "source_hash": "958b51b5",
    "execution_start": 1621472883494,
    "execution_millis": 1,
    "deepnote_cell_type": "code"
   },
   "outputs": [],
   "execution_count": 391
  },
  {
   "cell_type": "code",
   "source": "# John Moreno was 32 according to Nogales International\ndf.loc[409, 'age'] = 32",
   "metadata": {
    "tags": [],
    "cell_id": "00013-1dd7aaaa-4504-48e4-90bd-7c1898f7f493",
    "deepnote_to_be_reexecuted": false,
    "source_hash": "138066e2",
    "execution_start": 1621473066854,
    "execution_millis": 1,
    "deepnote_cell_type": "code"
   },
   "outputs": [],
   "execution_count": 392
  },
  {
   "cell_type": "code",
   "source": "# Tracey Leon McKinney was 41 according to his obituary\ndf.loc[525, 'age'] = 41",
   "metadata": {
    "tags": [],
    "cell_id": "00014-bad668eb-bd9f-472e-bc66-91a3bb6616c2",
    "deepnote_to_be_reexecuted": false,
    "source_hash": "d5d20e4d",
    "execution_start": 1621473181765,
    "execution_millis": 4,
    "deepnote_cell_type": "code"
   },
   "outputs": [],
   "execution_count": 393
  },
  {
   "cell_type": "code",
   "source": "df[df.age.isnull() == True]",
   "metadata": {
    "tags": [],
    "cell_id": "00015-8ce4a31b-34ee-4a53-9f55-b8263c8a4ed0",
    "deepnote_to_be_reexecuted": false,
    "source_hash": "e802f30e",
    "execution_start": 1621473492632,
    "execution_millis": 89,
    "deepnote_cell_type": "code"
   },
   "outputs": [
    {
     "output_type": "execute_result",
     "execution_count": 396,
     "data": {
      "application/vnd.deepnote.dataframe.v2+json": {
       "row_count": 5,
       "column_count": 35,
       "columns": [
        {
         "name": "name",
         "dtype": "object",
         "stats": {
          "unique_count": 3,
          "nan_count": 0,
          "categories": [
           {
            "name": "Name withheld by police",
            "count": 3
           },
           {
            "name": "Steven Verdone",
            "count": 1
           },
           {
            "name": "Amanda Faulkner",
            "count": 1
           }
          ]
         }
        },
        {
         "name": "age",
         "dtype": "object",
         "stats": {
          "unique_count": 0,
          "nan_count": 5,
          "categories": [
           {
            "name": "Missing",
            "count": 5
           }
          ]
         }
        },
        {
         "name": "gender",
         "dtype": "object",
         "stats": {
          "unique_count": 2,
          "nan_count": 0,
          "categories": [
           {
            "name": "Male",
            "count": 4
           },
           {
            "name": "Female",
            "count": 1
           }
          ]
         }
        },
        {
         "name": "race",
         "dtype": "object",
         "stats": {
          "unique_count": 3,
          "nan_count": 0,
          "categories": [
           {
            "name": "Unknown Race",
            "count": 2
           },
           {
            "name": "White",
            "count": 2
           },
           {
            "name": "Black",
            "count": 1
           }
          ]
         }
        },
        {
         "name": "img_url",
         "dtype": "object",
         "stats": {
          "unique_count": 1,
          "nan_count": 4,
          "categories": [
           {
            "name": "https://fatalencounters.org/wp-content/uploads/2021/01/Steven-Verdone.jpg",
            "count": 1
           },
           {
            "name": "Missing",
            "count": 4
           }
          ]
         }
        },
        {
         "name": "date",
         "dtype": "datetime64[ns]",
         "stats": {
          "unique_count": 5,
          "nan_count": 0,
          "min": "2020-11-15 00:00:00",
          "max": "2021-05-09 00:00:00",
          "histogram": [
           {
            "bin_start": 1605398400000000000,
            "bin_end": 1606910400000000000,
            "count": 1
           },
           {
            "bin_start": 1606910400000000000,
            "bin_end": 1608422400000000000,
            "count": 0
           },
           {
            "bin_start": 1608422400000000000,
            "bin_end": 1609934400000000000,
            "count": 1
           },
           {
            "bin_start": 1609934400000000000,
            "bin_end": 1611446400000000000,
            "count": 1
           },
           {
            "bin_start": 1611446400000000000,
            "bin_end": 1612958400000000000,
            "count": 0
           },
           {
            "bin_start": 1612958400000000000,
            "bin_end": 1614470400000000000,
            "count": 0
           },
           {
            "bin_start": 1614470400000000000,
            "bin_end": 1615982400000000000,
            "count": 0
           },
           {
            "bin_start": 1615982400000000000,
            "bin_end": 1617494400000000000,
            "count": 0
           },
           {
            "bin_start": 1617494400000000000,
            "bin_end": 1619006400000000000,
            "count": 1
           },
           {
            "bin_start": 1619006400000000000,
            "bin_end": 1620518400000000000,
            "count": 1
           }
          ]
         }
        },
        {
         "name": "address",
         "dtype": "object",
         "stats": {
          "unique_count": 5,
          "nan_count": 0,
          "categories": [
           {
            "name": "90 S. Main St.",
            "count": 1
           },
           {
            "name": "1100 McVicar Ave.",
            "count": 1
           },
           {
            "name": "3 others",
            "count": 3
           }
          ]
         }
        },
        {
         "name": "city",
         "dtype": "object",
         "stats": {
          "unique_count": 5,
          "nan_count": 0,
          "categories": [
           {
            "name": "Leicester",
            "count": 1
           },
           {
            "name": "Kingman",
            "count": 1
           },
           {
            "name": "3 others",
            "count": 3
           }
          ]
         }
        },
        {
         "name": "state",
         "dtype": "object",
         "stats": {
          "unique_count": 5,
          "nan_count": 0,
          "categories": [
           {
            "name": "MA",
            "count": 1
           },
           {
            "name": "AZ",
            "count": 1
           },
           {
            "name": "3 others",
            "count": 3
           }
          ]
         }
        },
        {
         "name": "zipcode",
         "dtype": "float64",
         "stats": {
          "unique_count": 5,
          "nan_count": 0,
          "min": "1524.0",
          "max": "90303.0",
          "histogram": [
           {
            "bin_start": 1524,
            "bin_end": 10401.9,
            "count": 1
           },
           {
            "bin_start": 10401.9,
            "bin_end": 19279.8,
            "count": 0
           },
           {
            "bin_start": 19279.8,
            "bin_end": 28157.699999999997,
            "count": 0
           },
           {
            "bin_start": 28157.699999999997,
            "bin_end": 37035.6,
            "count": 2
           },
           {
            "bin_start": 37035.6,
            "bin_end": 45913.5,
            "count": 0
           },
           {
            "bin_start": 45913.5,
            "bin_end": 54791.399999999994,
            "count": 0
           },
           {
            "bin_start": 54791.399999999994,
            "bin_end": 63669.299999999996,
            "count": 0
           },
           {
            "bin_start": 63669.299999999996,
            "bin_end": 72547.2,
            "count": 0
           },
           {
            "bin_start": 72547.2,
            "bin_end": 81425.09999999999,
            "count": 0
           },
           {
            "bin_start": 81425.09999999999,
            "bin_end": 90303,
            "count": 2
           }
          ]
         }
        },
        {
         "name": "county",
         "dtype": "object",
         "stats": {
          "unique_count": 5,
          "nan_count": 0,
          "categories": [
           {
            "name": "Worcester",
            "count": 1
           },
           {
            "name": "Mohave",
            "count": 1
           },
           {
            "name": "3 others",
            "count": 3
           }
          ]
         }
        },
        {
         "name": "agency_responsible",
         "dtype": "object",
         "stats": {
          "unique_count": 5,
          "nan_count": 0,
          "categories": [
           {
            "name": "Leicester Police Department",
            "count": 1
           },
           {
            "name": "Mohave County Sheriff's Office",
            "count": 1
           },
           {
            "name": "3 others",
            "count": 3
           }
          ]
         }
        },
        {
         "name": "ori_agency_identifier",
         "dtype": "object",
         "stats": {
          "unique_count": 5,
          "nan_count": 0,
          "categories": [
           {
            "name": "MA0142400",
            "count": 1
           },
           {
            "name": "AZ0080000",
            "count": 1
           },
           {
            "name": "3 others",
            "count": 3
           }
          ]
         }
        },
        {
         "name": "cause_of_death",
         "dtype": "object",
         "stats": {
          "unique_count": 1,
          "nan_count": 0,
          "categories": [
           {
            "name": "Gunshot",
            "count": 5
           }
          ]
         }
        },
        {
         "name": "description_of_circumstances",
         "dtype": "object",
         "stats": {
          "unique_count": 5,
          "nan_count": 0,
          "categories": [
           {
            "name": "A man allegedly crashed an SUV into the Leicester Police Station, repeatedly ramming his vehicle into the front doors until he gained entry into the building. Responding officers saw the SUV in the front door and encountered the man. Police claim the man placed a rifle on his shoulder and aimed it at the officers. The police officers shot and killed him.",
            "count": 1
           },
           {
            "name": "A deputy shot and killed a man following several pursuits. Details as to what precipitated the killing were withheld by police.",
            "count": 1
           },
           {
            "name": "3 others",
            "count": 3
           }
          ]
         }
        },
        {
         "name": "official_disposition",
         "dtype": "object",
         "stats": {
          "unique_count": 1,
          "nan_count": 0,
          "categories": [
           {
            "name": "Pending investigation",
            "count": 5
           }
          ]
         }
        },
        {
         "name": "criminal_charges_filed",
         "dtype": "object",
         "stats": {
          "unique_count": 1,
          "nan_count": 0,
          "categories": [
           {
            "name": "No known charges",
            "count": 5
           }
          ]
         }
        },
        {
         "name": "news_article_or_photo_of_official_document",
         "dtype": "object",
         "stats": {
          "unique_count": 5,
          "nan_count": 0,
          "categories": [
           {
            "name": "https://www.wcvb.com/article/leicester-police-station-shooting-car-crash-massachusetts/36374400",
            "count": 1
           },
           {
            "name": "https://www.12news.com/article/news/local/arizona/pd-mohave-county-deputy-shoots-kills-man-after-multiple-vehicle-pursuits/75-afaf6649-2b76-4134-8646-74cb767e8a94",
            "count": 1
           },
           {
            "name": "3 others",
            "count": 3
           }
          ]
         }
        },
        {
         "name": "mental_illness",
         "dtype": "object",
         "stats": {
          "unique_count": 2,
          "nan_count": 0,
          "categories": [
           {
            "name": "No",
            "count": 3
           },
           {
            "name": "Unknown",
            "count": 2
           }
          ]
         }
        },
        {
         "name": "armed_unarmed_status",
         "dtype": "object",
         "stats": {
          "unique_count": 3,
          "nan_count": 0,
          "categories": [
           {
            "name": "Allegedly Armed",
            "count": 2
           },
           {
            "name": "Vehicle",
            "count": 2
           },
           {
            "name": "Allegedly armed",
            "count": 1
           }
          ]
         }
        },
        {
         "name": "alleged_weapon",
         "dtype": "object",
         "stats": {
          "unique_count": 3,
          "nan_count": 0,
          "categories": [
           {
            "name": "gun",
            "count": 2
           },
           {
            "name": "vehicle",
            "count": 2
           },
           {
            "name": "knife",
            "count": 1
           }
          ]
         }
        },
        {
         "name": "alleged_threat_lvl",
         "dtype": "object",
         "stats": {
          "unique_count": 2,
          "nan_count": 0,
          "categories": [
           {
            "name": "attack",
            "count": 3
           },
           {
            "name": "other",
            "count": 2
           }
          ]
         }
        },
        {
         "name": "fleeing",
         "dtype": "object",
         "stats": {
          "unique_count": 2,
          "nan_count": 2,
          "categories": [
           {
            "name": "not fleeing",
            "count": 2
           },
           {
            "name": "car",
            "count": 1
           },
           {
            "name": "Missing",
            "count": 2
           }
          ]
         }
        },
        {
         "name": "body_camera",
         "dtype": "object",
         "stats": {
          "unique_count": 1,
          "nan_count": 3,
          "categories": [
           {
            "name": "no",
            "count": 2
           },
           {
            "name": "Missing",
            "count": 3
           }
          ]
         }
        },
        {
         "name": "wapo_id",
         "dtype": "float64",
         "stats": {
          "unique_count": 2,
          "nan_count": 3,
          "min": "6544.0",
          "max": "6844.0",
          "histogram": [
           {
            "bin_start": 6544,
            "bin_end": 6574,
            "count": 1
           },
           {
            "bin_start": 6574,
            "bin_end": 6604,
            "count": 0
           },
           {
            "bin_start": 6604,
            "bin_end": 6634,
            "count": 0
           },
           {
            "bin_start": 6634,
            "bin_end": 6664,
            "count": 0
           },
           {
            "bin_start": 6664,
            "bin_end": 6694,
            "count": 0
           },
           {
            "bin_start": 6694,
            "bin_end": 6724,
            "count": 0
           },
           {
            "bin_start": 6724,
            "bin_end": 6754,
            "count": 0
           },
           {
            "bin_start": 6754,
            "bin_end": 6784,
            "count": 0
           },
           {
            "bin_start": 6784,
            "bin_end": 6814,
            "count": 0
           },
           {
            "bin_start": 6814,
            "bin_end": 6844,
            "count": 1
           }
          ]
         }
        },
        {
         "name": "off_duty_killing",
         "dtype": "object",
         "stats": {
          "unique_count": 0,
          "nan_count": 5,
          "categories": [
           {
            "name": "Missing",
            "count": 5
           }
          ]
         }
        },
        {
         "name": "geography",
         "dtype": "object",
         "stats": {
          "unique_count": 3,
          "nan_count": 0,
          "categories": [
           {
            "name": "Suburban",
            "count": 2
           },
           {
            "name": "Rural",
            "count": 2
           },
           {
            "name": "Urban",
            "count": 1
           }
          ]
         }
        },
        {
         "name": "mpv_id",
         "dtype": "float64",
         "stats": {
          "unique_count": 3,
          "nan_count": 2,
          "min": "8933.0",
          "max": "9052.0",
          "histogram": [
           {
            "bin_start": 8933,
            "bin_end": 8944.9,
            "count": 1
           },
           {
            "bin_start": 8944.9,
            "bin_end": 8956.8,
            "count": 0
           },
           {
            "bin_start": 8956.8,
            "bin_end": 8968.7,
            "count": 0
           },
           {
            "bin_start": 8968.7,
            "bin_end": 8980.6,
            "count": 0
           },
           {
            "bin_start": 8980.6,
            "bin_end": 8992.5,
            "count": 1
           },
           {
            "bin_start": 8992.5,
            "bin_end": 9004.4,
            "count": 0
           },
           {
            "bin_start": 9004.4,
            "bin_end": 9016.3,
            "count": 0
           },
           {
            "bin_start": 9016.3,
            "bin_end": 9028.2,
            "count": 0
           },
           {
            "bin_start": 9028.2,
            "bin_end": 9040.1,
            "count": 0
           },
           {
            "bin_start": 9040.1,
            "bin_end": 9052,
            "count": 1
           }
          ]
         }
        },
        {
         "name": "fatal_encounters_id",
         "dtype": "float64",
         "stats": {
          "unique_count": 4,
          "nan_count": 1,
          "min": "29175.0",
          "max": "30061.0",
          "histogram": [
           {
            "bin_start": 29175,
            "bin_end": 29263.6,
            "count": 1
           },
           {
            "bin_start": 29263.6,
            "bin_end": 29352.2,
            "count": 0
           },
           {
            "bin_start": 29352.2,
            "bin_end": 29440.8,
            "count": 1
           },
           {
            "bin_start": 29440.8,
            "bin_end": 29529.4,
            "count": 1
           },
           {
            "bin_start": 29529.4,
            "bin_end": 29618,
            "count": 0
           },
           {
            "bin_start": 29618,
            "bin_end": 29706.6,
            "count": 0
           },
           {
            "bin_start": 29706.6,
            "bin_end": 29795.2,
            "count": 0
           },
           {
            "bin_start": 29795.2,
            "bin_end": 29883.8,
            "count": 0
           },
           {
            "bin_start": 29883.8,
            "bin_end": 29972.4,
            "count": 0
           },
           {
            "bin_start": 29972.4,
            "bin_end": 30061,
            "count": 1
           }
          ]
         }
        },
        {
         "name": "encounter_type_draft",
         "dtype": "object",
         "stats": {
          "unique_count": 5,
          "nan_count": 0,
          "categories": [
           {
            "name": "Other",
            "count": 1
           },
           {
            "name": "Traffic Stop",
            "count": 1
           },
           {
            "name": "3 others",
            "count": 3
           }
          ]
         }
        },
        {
         "name": "initial_reported_reason_for_encounter_draft",
         "dtype": "object",
         "stats": {
          "unique_count": 5,
          "nan_count": 0,
          "categories": [
           {
            "name": "deliberate car crash",
            "count": 1
           },
           {
            "name": "traffic stop ",
            "count": 1
           },
           {
            "name": "3 others",
            "count": 3
           }
          ]
         }
        },
        {
         "name": "names_of_officers_involved_draft",
         "dtype": "object",
         "stats": {
          "unique_count": 0,
          "nan_count": 5,
          "categories": [
           {
            "name": "Missing",
            "count": 5
           }
          ]
         }
        },
        {
         "name": "race_of_officers_involved_draft",
         "dtype": "object",
         "stats": {
          "unique_count": 0,
          "nan_count": 5,
          "categories": [
           {
            "name": "Missing",
            "count": 5
           }
          ]
         }
        },
        {
         "name": "known_past_shootings_of_Officer_draft",
         "dtype": "object",
         "stats": {
          "unique_count": 0,
          "nan_count": 5,
          "categories": [
           {
            "name": "Missing",
            "count": 5
           }
          ]
         }
        },
        {
         "name": "call_for_service_draft",
         "dtype": "object",
         "stats": {
          "unique_count": 2,
          "nan_count": 0,
          "categories": [
           {
            "name": "Yes",
            "count": 4
           },
           {
            "name": "No",
            "count": 1
           }
          ]
         }
        },
        {
         "name": "_deepnote_index_column",
         "dtype": "int64"
        }
       ],
       "rows_top": [
        {
         "name": "Name withheld by police",
         "age": "nan",
         "gender": "Male",
         "race": "Unknown Race",
         "img_url": "nan",
         "date": "2021-05-09T00:00:00.000000",
         "address": "90 S. Main St.",
         "city": "Leicester",
         "state": "MA",
         "zipcode": 1524,
         "county": "Worcester",
         "agency_responsible": "Leicester Police Department",
         "ori_agency_identifier": "MA0142400",
         "cause_of_death": "Gunshot",
         "description_of_circumstances": "A man allegedly crashed an SUV into the Leicester Police Station, repeatedly ramming his vehicle into the front doors until he gained entry into the building. Responding officers saw the SUV in the front door and encountered the man. Police claim the man placed a rifle on his shoulder and aimed it at the officers. The police officers shot and killed him.",
         "official_disposition": "Pending investigation",
         "criminal_charges_filed": "No known charges",
         "news_article_or_photo_of_official_document": "https://www.wcvb.com/article/leicester-police-station-shooting-car-crash-massachusetts/36374400",
         "mental_illness": "No",
         "armed_unarmed_status": "Allegedly Armed",
         "alleged_weapon": "gun",
         "alleged_threat_lvl": "attack",
         "fleeing": "not fleeing",
         "body_camera": "no",
         "wapo_id": "6844.0",
         "off_duty_killing": "nan",
         "geography": "Suburban",
         "mpv_id": "nan",
         "fatal_encounters_id": "nan",
         "encounter_type_draft": "Other",
         "initial_reported_reason_for_encounter_draft": "deliberate car crash",
         "names_of_officers_involved_draft": "nan",
         "race_of_officers_involved_draft": "nan",
         "known_past_shootings_of_Officer_draft": "nan",
         "call_for_service_draft": "Yes",
         "_deepnote_index_column": 1
        },
        {
         "name": "Name withheld by police",
         "age": "nan",
         "gender": "Male",
         "race": "Unknown Race",
         "img_url": "nan",
         "date": "2021-04-17T00:00:00.000000",
         "address": "1100 McVicar Ave.",
         "city": "Kingman",
         "state": "AZ",
         "zipcode": 86409,
         "county": "Mohave",
         "agency_responsible": "Mohave County Sheriff's Office",
         "ori_agency_identifier": "AZ0080000",
         "cause_of_death": "Gunshot",
         "description_of_circumstances": "A deputy shot and killed a man following several pursuits. Details as to what precipitated the killing were withheld by police.",
         "official_disposition": "Pending investigation",
         "criminal_charges_filed": "No known charges",
         "news_article_or_photo_of_official_document": "https://www.12news.com/article/news/local/arizona/pd-mohave-county-deputy-shoots-kills-man-after-multiple-vehicle-pursuits/75-afaf6649-2b76-4134-8646-74cb767e8a94",
         "mental_illness": "No",
         "armed_unarmed_status": "Vehicle",
         "alleged_weapon": "vehicle",
         "alleged_threat_lvl": "other",
         "fleeing": "car",
         "body_camera": "nan",
         "wapo_id": "nan",
         "off_duty_killing": "nan",
         "geography": "Rural",
         "mpv_id": "nan",
         "fatal_encounters_id": "30061.0",
         "encounter_type_draft": "Traffic Stop",
         "initial_reported_reason_for_encounter_draft": "traffic stop ",
         "names_of_officers_involved_draft": "nan",
         "race_of_officers_involved_draft": "nan",
         "known_past_shootings_of_Officer_draft": "nan",
         "call_for_service_draft": "No",
         "_deepnote_index_column": 53
        },
        {
         "name": "Steven Verdone",
         "age": "nan",
         "gender": "Male",
         "race": "White",
         "img_url": "https://fatalencounters.org/wp-content/uploads/2021/01/Steven-Verdone.jpg",
         "date": "2021-01-22T00:00:00.000000",
         "address": "6241 W. Cardinal St.",
         "city": "Homosassa",
         "state": "FL",
         "zipcode": 34446,
         "county": "Citrus",
         "agency_responsible": "Citrus County Sheriff's Office",
         "ori_agency_identifier": "FL0090000",
         "cause_of_death": "Gunshot",
         "description_of_circumstances": "Deputies responded at around 9:45 a.m. to 911 calls reporting a man, Verdone, behaving erratically and running in and out of traffic near the Marathon Gas station. Verdone yelled at people near the locked entrance to the convenience store, which he also tried to enter before the deputy's arrival. Verdone approached the deputy as he was exiting his cruiser. Verdone advanced with a knife, and the deputy shot and killed him.",
         "official_disposition": "Pending investigation",
         "criminal_charges_filed": "No known charges",
         "news_article_or_photo_of_official_document": "https://www.chronicleonline.com/news/local/deputy-shoots-kills-man-armed-with-knife/article_0712050c-5cc8-11eb-bf39-ef9591178d38.html",
         "mental_illness": "Unknown",
         "armed_unarmed_status": "Allegedly Armed",
         "alleged_weapon": "knife",
         "alleged_threat_lvl": "other",
         "fleeing": "not fleeing",
         "body_camera": "no",
         "wapo_id": "6544.0",
         "off_duty_killing": "nan",
         "geography": "Suburban",
         "mpv_id": "8933.0",
         "fatal_encounters_id": "29525.0",
         "encounter_type_draft": "Mental Health/Welfare Check",
         "initial_reported_reason_for_encounter_draft": "Erratic behavior",
         "names_of_officers_involved_draft": "nan",
         "race_of_officers_involved_draft": "nan",
         "known_past_shootings_of_Officer_draft": "nan",
         "call_for_service_draft": "Yes",
         "_deepnote_index_column": 320
        },
        {
         "name": "Amanda Faulkner",
         "age": "nan",
         "gender": "Female",
         "race": "White",
         "img_url": "nan",
         "date": "2021-01-04T00:00:00.000000",
         "address": "1400 Mooney Rd.",
         "city": "Columbiana",
         "state": "AL",
         "zipcode": 35051,
         "county": "Shelby ",
         "agency_responsible": "Shelby County Sheriff's Office",
         "ori_agency_identifier": "AL0590000",
         "cause_of_death": "Gunshot",
         "description_of_circumstances": "Around 6 p.m., deputies were dispatched to a domestic disturbance. Police have withheld details as to what happened next, but say a woman ran over a deputy, and the deputy shot and killed her.",
         "official_disposition": "Pending investigation",
         "criminal_charges_filed": "No known charges",
         "news_article_or_photo_of_official_document": "https://www.al.com/news/birmingham/2021/01/female-suspect-shot-and-killed-shelby-county-run-over-during-domestic-call.html",
         "mental_illness": "No",
         "armed_unarmed_status": "Vehicle",
         "alleged_weapon": "vehicle",
         "alleged_threat_lvl": "attack",
         "fleeing": "nan",
         "body_camera": "nan",
         "wapo_id": "nan",
         "off_duty_killing": "nan",
         "geography": "Rural",
         "mpv_id": "8988.0",
         "fatal_encounters_id": "29432.0",
         "encounter_type_draft": "Domestic Disturbance",
         "initial_reported_reason_for_encounter_draft": "Domestic Disturbance",
         "names_of_officers_involved_draft": "nan",
         "race_of_officers_involved_draft": "nan",
         "known_past_shootings_of_Officer_draft": "nan",
         "call_for_service_draft": "Yes",
         "_deepnote_index_column": 375
        },
        {
         "name": "Name withheld by police",
         "age": "nan",
         "gender": "Male",
         "race": "Black",
         "img_url": "nan",
         "date": "2020-11-15T00:00:00.000000",
         "address": "Van Wick St. and Van Ness Ave.",
         "city": "Inglewood",
         "state": "CA",
         "zipcode": 90303,
         "county": "Los Angeles",
         "agency_responsible": "Los Angeles County Sheriff's Department",
         "ori_agency_identifier": "CA0190000",
         "cause_of_death": "Gunshot",
         "description_of_circumstances": "A caller reported a man in the middle of the street holding a firearm about 1:50 a.m. at an intersection. As deputies arrived, they saw a man pointing a firearm at a passing by vehicle. The deputies told the man to drop the weapon, but he allegedly turned and pointed the weapon at the deputies, who shot and killed him.",
         "official_disposition": "Pending investigation",
         "criminal_charges_filed": "No known charges",
         "news_article_or_photo_of_official_document": "https://fox5sandiego.com/news/california-news/man-shot-killed-in-la-county-after-deputies-say-he-pointed-gun-at-them/",
         "mental_illness": "Unknown",
         "armed_unarmed_status": "Allegedly armed",
         "alleged_weapon": "gun",
         "alleged_threat_lvl": "attack",
         "fleeing": "nan",
         "body_camera": "nan",
         "wapo_id": "nan",
         "off_duty_killing": "nan",
         "geography": "Urban",
         "mpv_id": "9052.0",
         "fatal_encounters_id": "29175.0",
         "encounter_type_draft": "Person with a Weapon (gun)",
         "initial_reported_reason_for_encounter_draft": "Person with a gun, erratic behavior",
         "names_of_officers_involved_draft": "nan",
         "race_of_officers_involved_draft": "nan",
         "known_past_shootings_of_Officer_draft": "nan",
         "call_for_service_draft": "Yes",
         "_deepnote_index_column": 516
        }
       ],
       "rows_bottom": null
      },
      "text/plain": "                        name  age  gender          race  \\\n1    Name withheld by police  NaN    Male  Unknown Race   \n53   Name withheld by police  NaN    Male  Unknown Race   \n320           Steven Verdone  NaN    Male         White   \n375          Amanda Faulkner  NaN  Female         White   \n516  Name withheld by police  NaN    Male         Black   \n\n                                               img_url       date  \\\n1                                                  NaN 2021-05-09   \n53                                                 NaN 2021-04-17   \n320  https://fatalencounters.org/wp-content/uploads... 2021-01-22   \n375                                                NaN 2021-01-04   \n516                                                NaN 2020-11-15   \n\n                            address        city state  zipcode  ...  \\\n1                    90 S. Main St.   Leicester    MA   1524.0  ...   \n53                1100 McVicar Ave.     Kingman    AZ  86409.0  ...   \n320            6241 W. Cardinal St.   Homosassa    FL  34446.0  ...   \n375                 1400 Mooney Rd.  Columbiana    AL  35051.0  ...   \n516  Van Wick St. and Van Ness Ave.   Inglewood    CA  90303.0  ...   \n\n    off_duty_killing geography  mpv_id fatal_encounters_id  \\\n1                NaN  Suburban     NaN                 NaN   \n53               NaN     Rural     NaN             30061.0   \n320              NaN  Suburban  8933.0             29525.0   \n375              NaN     Rural  8988.0             29432.0   \n516              NaN     Urban  9052.0             29175.0   \n\n            encounter_type_draft initial_reported_reason_for_encounter_draft  \\\n1                          Other                        deliberate car crash   \n53                  Traffic Stop                               traffic stop    \n320  Mental Health/Welfare Check                            Erratic behavior   \n375         Domestic Disturbance                        Domestic Disturbance   \n516   Person with a Weapon (gun)         Person with a gun, erratic behavior   \n\n    names_of_officers_involved_draft race_of_officers_involved_draft  \\\n1                                NaN                             NaN   \n53                               NaN                             NaN   \n320                              NaN                             NaN   \n375                              NaN                             NaN   \n516                              NaN                             NaN   \n\n    known_past_shootings_of_Officer_draft call_for_service_draft  \n1                                     NaN                    Yes  \n53                                    NaN                     No  \n320                                   NaN                    Yes  \n375                                   NaN                    Yes  \n516                                   NaN                    Yes  \n\n[5 rows x 35 columns]",
      "text/html": "<div>\n<style scoped>\n    .dataframe tbody tr th:only-of-type {\n        vertical-align: middle;\n    }\n\n    .dataframe tbody tr th {\n        vertical-align: top;\n    }\n\n    .dataframe thead th {\n        text-align: right;\n    }\n</style>\n<table border=\"1\" class=\"dataframe\">\n  <thead>\n    <tr style=\"text-align: right;\">\n      <th></th>\n      <th>name</th>\n      <th>age</th>\n      <th>gender</th>\n      <th>race</th>\n      <th>img_url</th>\n      <th>date</th>\n      <th>address</th>\n      <th>city</th>\n      <th>state</th>\n      <th>zipcode</th>\n      <th>...</th>\n      <th>off_duty_killing</th>\n      <th>geography</th>\n      <th>mpv_id</th>\n      <th>fatal_encounters_id</th>\n      <th>encounter_type_draft</th>\n      <th>initial_reported_reason_for_encounter_draft</th>\n      <th>names_of_officers_involved_draft</th>\n      <th>race_of_officers_involved_draft</th>\n      <th>known_past_shootings_of_Officer_draft</th>\n      <th>call_for_service_draft</th>\n    </tr>\n  </thead>\n  <tbody>\n    <tr>\n      <th>1</th>\n      <td>Name withheld by police</td>\n      <td>NaN</td>\n      <td>Male</td>\n      <td>Unknown Race</td>\n      <td>NaN</td>\n      <td>2021-05-09</td>\n      <td>90 S. Main St.</td>\n      <td>Leicester</td>\n      <td>MA</td>\n      <td>1524.0</td>\n      <td>...</td>\n      <td>NaN</td>\n      <td>Suburban</td>\n      <td>NaN</td>\n      <td>NaN</td>\n      <td>Other</td>\n      <td>deliberate car crash</td>\n      <td>NaN</td>\n      <td>NaN</td>\n      <td>NaN</td>\n      <td>Yes</td>\n    </tr>\n    <tr>\n      <th>53</th>\n      <td>Name withheld by police</td>\n      <td>NaN</td>\n      <td>Male</td>\n      <td>Unknown Race</td>\n      <td>NaN</td>\n      <td>2021-04-17</td>\n      <td>1100 McVicar Ave.</td>\n      <td>Kingman</td>\n      <td>AZ</td>\n      <td>86409.0</td>\n      <td>...</td>\n      <td>NaN</td>\n      <td>Rural</td>\n      <td>NaN</td>\n      <td>30061.0</td>\n      <td>Traffic Stop</td>\n      <td>traffic stop</td>\n      <td>NaN</td>\n      <td>NaN</td>\n      <td>NaN</td>\n      <td>No</td>\n    </tr>\n    <tr>\n      <th>320</th>\n      <td>Steven Verdone</td>\n      <td>NaN</td>\n      <td>Male</td>\n      <td>White</td>\n      <td>https://fatalencounters.org/wp-content/uploads...</td>\n      <td>2021-01-22</td>\n      <td>6241 W. Cardinal St.</td>\n      <td>Homosassa</td>\n      <td>FL</td>\n      <td>34446.0</td>\n      <td>...</td>\n      <td>NaN</td>\n      <td>Suburban</td>\n      <td>8933.0</td>\n      <td>29525.0</td>\n      <td>Mental Health/Welfare Check</td>\n      <td>Erratic behavior</td>\n      <td>NaN</td>\n      <td>NaN</td>\n      <td>NaN</td>\n      <td>Yes</td>\n    </tr>\n    <tr>\n      <th>375</th>\n      <td>Amanda Faulkner</td>\n      <td>NaN</td>\n      <td>Female</td>\n      <td>White</td>\n      <td>NaN</td>\n      <td>2021-01-04</td>\n      <td>1400 Mooney Rd.</td>\n      <td>Columbiana</td>\n      <td>AL</td>\n      <td>35051.0</td>\n      <td>...</td>\n      <td>NaN</td>\n      <td>Rural</td>\n      <td>8988.0</td>\n      <td>29432.0</td>\n      <td>Domestic Disturbance</td>\n      <td>Domestic Disturbance</td>\n      <td>NaN</td>\n      <td>NaN</td>\n      <td>NaN</td>\n      <td>Yes</td>\n    </tr>\n    <tr>\n      <th>516</th>\n      <td>Name withheld by police</td>\n      <td>NaN</td>\n      <td>Male</td>\n      <td>Black</td>\n      <td>NaN</td>\n      <td>2020-11-15</td>\n      <td>Van Wick St. and Van Ness Ave.</td>\n      <td>Inglewood</td>\n      <td>CA</td>\n      <td>90303.0</td>\n      <td>...</td>\n      <td>NaN</td>\n      <td>Urban</td>\n      <td>9052.0</td>\n      <td>29175.0</td>\n      <td>Person with a Weapon (gun)</td>\n      <td>Person with a gun, erratic behavior</td>\n      <td>NaN</td>\n      <td>NaN</td>\n      <td>NaN</td>\n      <td>Yes</td>\n    </tr>\n  </tbody>\n</table>\n<p>5 rows × 35 columns</p>\n</div>"
     },
     "metadata": {}
    }
   ],
   "execution_count": 396
  },
  {
   "cell_type": "code",
   "source": "# Leicester D.A. Released the name and age of the victim of this incident\ndf.loc[1, 'name'] = 'Zachary Richardson'\ndf.loc[1, 'age'] = 24",
   "metadata": {
    "tags": [],
    "cell_id": "00016-d4f25e24-6f57-4657-9ce2-c8da0055127a",
    "deepnote_to_be_reexecuted": false,
    "source_hash": "41704a",
    "execution_start": 1621473864880,
    "execution_millis": 4,
    "deepnote_cell_type": "code"
   },
   "outputs": [],
   "execution_count": 403
  },
  {
   "cell_type": "code",
   "source": "# Kingman PD released the name and age of 29–year old Kingman resident, Bradley Michael Rose.\ndf.loc[53, 'name'] = 'Bradley Michael Rose'\ndf.loc[53, 'age'] = 29",
   "metadata": {
    "tags": [],
    "cell_id": "00017-ffbe998d-152f-417e-8a3f-c0e90fc6b258",
    "deepnote_to_be_reexecuted": false,
    "source_hash": "a2d42a3f",
    "execution_start": 1621474024172,
    "execution_millis": 5,
    "deepnote_cell_type": "code"
   },
   "outputs": [],
   "execution_count": 404
  },
  {
   "cell_type": "code",
   "source": "df[df.age.isnull() == True]",
   "metadata": {
    "tags": [],
    "cell_id": "00018-118bc8b9-9390-4c74-80a8-0ae89f156db2",
    "deepnote_to_be_reexecuted": false,
    "source_hash": "abaf4dd0",
    "execution_start": 1621475161017,
    "execution_millis": 53,
    "deepnote_cell_type": "code"
   },
   "outputs": [
    {
     "output_type": "execute_result",
     "execution_count": 405,
     "data": {
      "application/vnd.deepnote.dataframe.v2+json": {
       "row_count": 3,
       "column_count": 35,
       "columns": [
        {
         "name": "name",
         "dtype": "object",
         "stats": {
          "unique_count": 3,
          "nan_count": 0,
          "categories": [
           {
            "name": "Steven Verdone",
            "count": 1
           },
           {
            "name": "Amanda Faulkner",
            "count": 1
           },
           {
            "name": "Name withheld by police",
            "count": 1
           }
          ]
         }
        },
        {
         "name": "age",
         "dtype": "object",
         "stats": {
          "unique_count": 0,
          "nan_count": 3,
          "categories": [
           {
            "name": "Missing",
            "count": 3
           }
          ]
         }
        },
        {
         "name": "gender",
         "dtype": "object",
         "stats": {
          "unique_count": 2,
          "nan_count": 0,
          "categories": [
           {
            "name": "Male",
            "count": 2
           },
           {
            "name": "Female",
            "count": 1
           }
          ]
         }
        },
        {
         "name": "race",
         "dtype": "object",
         "stats": {
          "unique_count": 2,
          "nan_count": 0,
          "categories": [
           {
            "name": "White",
            "count": 2
           },
           {
            "name": "Black",
            "count": 1
           }
          ]
         }
        },
        {
         "name": "img_url",
         "dtype": "object",
         "stats": {
          "unique_count": 1,
          "nan_count": 2,
          "categories": [
           {
            "name": "https://fatalencounters.org/wp-content/uploads/2021/01/Steven-Verdone.jpg",
            "count": 1
           },
           {
            "name": "Missing",
            "count": 2
           }
          ]
         }
        },
        {
         "name": "date",
         "dtype": "datetime64[ns]",
         "stats": {
          "unique_count": 3,
          "nan_count": 0,
          "min": "2020-11-15 00:00:00",
          "max": "2021-01-22 00:00:00",
          "histogram": [
           {
            "bin_start": 1605398400000000000,
            "bin_end": 1605985920000000000,
            "count": 1
           },
           {
            "bin_start": 1605985920000000000,
            "bin_end": 1606573440000000000,
            "count": 0
           },
           {
            "bin_start": 1606573440000000000,
            "bin_end": 1607160960000000000,
            "count": 0
           },
           {
            "bin_start": 1607160960000000000,
            "bin_end": 1607748480000000000,
            "count": 0
           },
           {
            "bin_start": 1607748480000000000,
            "bin_end": 1608336000000000000,
            "count": 0
           },
           {
            "bin_start": 1608336000000000000,
            "bin_end": 1608923520000000000,
            "count": 0
           },
           {
            "bin_start": 1608923520000000000,
            "bin_end": 1609511040000000000,
            "count": 0
           },
           {
            "bin_start": 1609511040000000000,
            "bin_end": 1610098560000000000,
            "count": 1
           },
           {
            "bin_start": 1610098560000000000,
            "bin_end": 1610686080000000000,
            "count": 0
           },
           {
            "bin_start": 1610686080000000000,
            "bin_end": 1611273600000000000,
            "count": 1
           }
          ]
         }
        },
        {
         "name": "address",
         "dtype": "object",
         "stats": {
          "unique_count": 3,
          "nan_count": 0,
          "categories": [
           {
            "name": "6241 W. Cardinal St.",
            "count": 1
           },
           {
            "name": "1400 Mooney Rd.",
            "count": 1
           },
           {
            "name": "Van Wick St. and Van Ness Ave.",
            "count": 1
           }
          ]
         }
        },
        {
         "name": "city",
         "dtype": "object",
         "stats": {
          "unique_count": 3,
          "nan_count": 0,
          "categories": [
           {
            "name": "Homosassa",
            "count": 1
           },
           {
            "name": "Columbiana",
            "count": 1
           },
           {
            "name": "Inglewood",
            "count": 1
           }
          ]
         }
        },
        {
         "name": "state",
         "dtype": "object",
         "stats": {
          "unique_count": 3,
          "nan_count": 0,
          "categories": [
           {
            "name": "FL",
            "count": 1
           },
           {
            "name": "AL",
            "count": 1
           },
           {
            "name": "CA",
            "count": 1
           }
          ]
         }
        },
        {
         "name": "zipcode",
         "dtype": "float64",
         "stats": {
          "unique_count": 3,
          "nan_count": 0,
          "min": "34446.0",
          "max": "90303.0",
          "histogram": [
           {
            "bin_start": 34446,
            "bin_end": 40031.7,
            "count": 2
           },
           {
            "bin_start": 40031.7,
            "bin_end": 45617.4,
            "count": 0
           },
           {
            "bin_start": 45617.4,
            "bin_end": 51203.1,
            "count": 0
           },
           {
            "bin_start": 51203.1,
            "bin_end": 56788.8,
            "count": 0
           },
           {
            "bin_start": 56788.8,
            "bin_end": 62374.5,
            "count": 0
           },
           {
            "bin_start": 62374.5,
            "bin_end": 67960.2,
            "count": 0
           },
           {
            "bin_start": 67960.2,
            "bin_end": 73545.9,
            "count": 0
           },
           {
            "bin_start": 73545.9,
            "bin_end": 79131.6,
            "count": 0
           },
           {
            "bin_start": 79131.6,
            "bin_end": 84717.29999999999,
            "count": 0
           },
           {
            "bin_start": 84717.29999999999,
            "bin_end": 90303,
            "count": 1
           }
          ]
         }
        },
        {
         "name": "county",
         "dtype": "object",
         "stats": {
          "unique_count": 3,
          "nan_count": 0,
          "categories": [
           {
            "name": "Citrus",
            "count": 1
           },
           {
            "name": "Shelby ",
            "count": 1
           },
           {
            "name": "Los Angeles",
            "count": 1
           }
          ]
         }
        },
        {
         "name": "agency_responsible",
         "dtype": "object",
         "stats": {
          "unique_count": 3,
          "nan_count": 0,
          "categories": [
           {
            "name": "Citrus County Sheriff's Office",
            "count": 1
           },
           {
            "name": "Shelby County Sheriff's Office",
            "count": 1
           },
           {
            "name": "Los Angeles County Sheriff's Department",
            "count": 1
           }
          ]
         }
        },
        {
         "name": "ori_agency_identifier",
         "dtype": "object",
         "stats": {
          "unique_count": 3,
          "nan_count": 0,
          "categories": [
           {
            "name": "FL0090000",
            "count": 1
           },
           {
            "name": "AL0590000",
            "count": 1
           },
           {
            "name": "CA0190000",
            "count": 1
           }
          ]
         }
        },
        {
         "name": "cause_of_death",
         "dtype": "object",
         "stats": {
          "unique_count": 1,
          "nan_count": 0,
          "categories": [
           {
            "name": "Gunshot",
            "count": 3
           }
          ]
         }
        },
        {
         "name": "description_of_circumstances",
         "dtype": "object",
         "stats": {
          "unique_count": 3,
          "nan_count": 0,
          "categories": [
           {
            "name": "Deputies responded at around 9:45 a.m. to 911 calls reporting a man, Verdone, behaving erratically and running in and out of traffic near the Marathon Gas station. Verdone yelled at people near the locked entrance to the convenience store, which he also tried to enter before the deputy's arrival. Verdone approached the deputy as he was exiting his cruiser. Verdone advanced with a knife, and the deputy shot and killed him.",
            "count": 1
           },
           {
            "name": "Around 6 p.m., deputies were dispatched to a domestic disturbance. Police have withheld details as to what happened next, but say a woman ran over a deputy, and the deputy shot and killed her.",
            "count": 1
           },
           {
            "name": "A caller reported a man in the middle of the street holding a firearm about 1:50 a.m. at an intersection. As deputies arrived, they saw a man pointing a firearm at a passing by vehicle. The deputies told the man to drop the weapon, but he allegedly turned and pointed the weapon at the deputies, who shot and killed him.",
            "count": 1
           }
          ]
         }
        },
        {
         "name": "official_disposition",
         "dtype": "object",
         "stats": {
          "unique_count": 1,
          "nan_count": 0,
          "categories": [
           {
            "name": "Pending investigation",
            "count": 3
           }
          ]
         }
        },
        {
         "name": "criminal_charges_filed",
         "dtype": "object",
         "stats": {
          "unique_count": 1,
          "nan_count": 0,
          "categories": [
           {
            "name": "No known charges",
            "count": 3
           }
          ]
         }
        },
        {
         "name": "news_article_or_photo_of_official_document",
         "dtype": "object",
         "stats": {
          "unique_count": 3,
          "nan_count": 0,
          "categories": [
           {
            "name": "https://www.chronicleonline.com/news/local/deputy-shoots-kills-man-armed-with-knife/article_0712050c-5cc8-11eb-bf39-ef9591178d38.html",
            "count": 1
           },
           {
            "name": "https://www.al.com/news/birmingham/2021/01/female-suspect-shot-and-killed-shelby-county-run-over-during-domestic-call.html",
            "count": 1
           },
           {
            "name": "https://fox5sandiego.com/news/california-news/man-shot-killed-in-la-county-after-deputies-say-he-pointed-gun-at-them/",
            "count": 1
           }
          ]
         }
        },
        {
         "name": "mental_illness",
         "dtype": "object",
         "stats": {
          "unique_count": 2,
          "nan_count": 0,
          "categories": [
           {
            "name": "Unknown",
            "count": 2
           },
           {
            "name": "No",
            "count": 1
           }
          ]
         }
        },
        {
         "name": "armed_unarmed_status",
         "dtype": "object",
         "stats": {
          "unique_count": 3,
          "nan_count": 0,
          "categories": [
           {
            "name": "Allegedly Armed",
            "count": 1
           },
           {
            "name": "Vehicle",
            "count": 1
           },
           {
            "name": "Allegedly armed",
            "count": 1
           }
          ]
         }
        },
        {
         "name": "alleged_weapon",
         "dtype": "object",
         "stats": {
          "unique_count": 3,
          "nan_count": 0,
          "categories": [
           {
            "name": "knife",
            "count": 1
           },
           {
            "name": "vehicle",
            "count": 1
           },
           {
            "name": "gun",
            "count": 1
           }
          ]
         }
        },
        {
         "name": "alleged_threat_lvl",
         "dtype": "object",
         "stats": {
          "unique_count": 2,
          "nan_count": 0,
          "categories": [
           {
            "name": "attack",
            "count": 2
           },
           {
            "name": "other",
            "count": 1
           }
          ]
         }
        },
        {
         "name": "fleeing",
         "dtype": "object",
         "stats": {
          "unique_count": 1,
          "nan_count": 2,
          "categories": [
           {
            "name": "not fleeing",
            "count": 1
           },
           {
            "name": "Missing",
            "count": 2
           }
          ]
         }
        },
        {
         "name": "body_camera",
         "dtype": "object",
         "stats": {
          "unique_count": 1,
          "nan_count": 2,
          "categories": [
           {
            "name": "no",
            "count": 1
           },
           {
            "name": "Missing",
            "count": 2
           }
          ]
         }
        },
        {
         "name": "wapo_id",
         "dtype": "float64",
         "stats": {
          "unique_count": 1,
          "nan_count": 2,
          "min": "6544.0",
          "max": "6544.0",
          "histogram": [
           {
            "bin_start": 6543.5,
            "bin_end": 6543.6,
            "count": 0
           },
           {
            "bin_start": 6543.6,
            "bin_end": 6543.7,
            "count": 0
           },
           {
            "bin_start": 6543.7,
            "bin_end": 6543.8,
            "count": 0
           },
           {
            "bin_start": 6543.8,
            "bin_end": 6543.9,
            "count": 0
           },
           {
            "bin_start": 6543.9,
            "bin_end": 6544,
            "count": 0
           },
           {
            "bin_start": 6544,
            "bin_end": 6544.1,
            "count": 1
           },
           {
            "bin_start": 6544.1,
            "bin_end": 6544.2,
            "count": 0
           },
           {
            "bin_start": 6544.2,
            "bin_end": 6544.3,
            "count": 0
           },
           {
            "bin_start": 6544.3,
            "bin_end": 6544.4,
            "count": 0
           },
           {
            "bin_start": 6544.4,
            "bin_end": 6544.5,
            "count": 0
           }
          ]
         }
        },
        {
         "name": "off_duty_killing",
         "dtype": "object",
         "stats": {
          "unique_count": 0,
          "nan_count": 3,
          "categories": [
           {
            "name": "Missing",
            "count": 3
           }
          ]
         }
        },
        {
         "name": "geography",
         "dtype": "object",
         "stats": {
          "unique_count": 3,
          "nan_count": 0,
          "categories": [
           {
            "name": "Suburban",
            "count": 1
           },
           {
            "name": "Rural",
            "count": 1
           },
           {
            "name": "Urban",
            "count": 1
           }
          ]
         }
        },
        {
         "name": "mpv_id",
         "dtype": "float64",
         "stats": {
          "unique_count": 3,
          "nan_count": 0,
          "min": "8933.0",
          "max": "9052.0",
          "histogram": [
           {
            "bin_start": 8933,
            "bin_end": 8944.9,
            "count": 1
           },
           {
            "bin_start": 8944.9,
            "bin_end": 8956.8,
            "count": 0
           },
           {
            "bin_start": 8956.8,
            "bin_end": 8968.7,
            "count": 0
           },
           {
            "bin_start": 8968.7,
            "bin_end": 8980.6,
            "count": 0
           },
           {
            "bin_start": 8980.6,
            "bin_end": 8992.5,
            "count": 1
           },
           {
            "bin_start": 8992.5,
            "bin_end": 9004.4,
            "count": 0
           },
           {
            "bin_start": 9004.4,
            "bin_end": 9016.3,
            "count": 0
           },
           {
            "bin_start": 9016.3,
            "bin_end": 9028.2,
            "count": 0
           },
           {
            "bin_start": 9028.2,
            "bin_end": 9040.1,
            "count": 0
           },
           {
            "bin_start": 9040.1,
            "bin_end": 9052,
            "count": 1
           }
          ]
         }
        },
        {
         "name": "fatal_encounters_id",
         "dtype": "float64",
         "stats": {
          "unique_count": 3,
          "nan_count": 0,
          "min": "29175.0",
          "max": "29525.0",
          "histogram": [
           {
            "bin_start": 29175,
            "bin_end": 29210,
            "count": 1
           },
           {
            "bin_start": 29210,
            "bin_end": 29245,
            "count": 0
           },
           {
            "bin_start": 29245,
            "bin_end": 29280,
            "count": 0
           },
           {
            "bin_start": 29280,
            "bin_end": 29315,
            "count": 0
           },
           {
            "bin_start": 29315,
            "bin_end": 29350,
            "count": 0
           },
           {
            "bin_start": 29350,
            "bin_end": 29385,
            "count": 0
           },
           {
            "bin_start": 29385,
            "bin_end": 29420,
            "count": 0
           },
           {
            "bin_start": 29420,
            "bin_end": 29455,
            "count": 1
           },
           {
            "bin_start": 29455,
            "bin_end": 29490,
            "count": 0
           },
           {
            "bin_start": 29490,
            "bin_end": 29525,
            "count": 1
           }
          ]
         }
        },
        {
         "name": "encounter_type_draft",
         "dtype": "object",
         "stats": {
          "unique_count": 3,
          "nan_count": 0,
          "categories": [
           {
            "name": "Mental Health/Welfare Check",
            "count": 1
           },
           {
            "name": "Domestic Disturbance",
            "count": 1
           },
           {
            "name": "Person with a Weapon (gun)",
            "count": 1
           }
          ]
         }
        },
        {
         "name": "initial_reported_reason_for_encounter_draft",
         "dtype": "object",
         "stats": {
          "unique_count": 3,
          "nan_count": 0,
          "categories": [
           {
            "name": "Erratic behavior",
            "count": 1
           },
           {
            "name": "Domestic Disturbance",
            "count": 1
           },
           {
            "name": "Person with a gun, erratic behavior",
            "count": 1
           }
          ]
         }
        },
        {
         "name": "names_of_officers_involved_draft",
         "dtype": "object",
         "stats": {
          "unique_count": 0,
          "nan_count": 3,
          "categories": [
           {
            "name": "Missing",
            "count": 3
           }
          ]
         }
        },
        {
         "name": "race_of_officers_involved_draft",
         "dtype": "object",
         "stats": {
          "unique_count": 0,
          "nan_count": 3,
          "categories": [
           {
            "name": "Missing",
            "count": 3
           }
          ]
         }
        },
        {
         "name": "known_past_shootings_of_Officer_draft",
         "dtype": "object",
         "stats": {
          "unique_count": 0,
          "nan_count": 3,
          "categories": [
           {
            "name": "Missing",
            "count": 3
           }
          ]
         }
        },
        {
         "name": "call_for_service_draft",
         "dtype": "object",
         "stats": {
          "unique_count": 1,
          "nan_count": 0,
          "categories": [
           {
            "name": "Yes",
            "count": 3
           }
          ]
         }
        },
        {
         "name": "_deepnote_index_column",
         "dtype": "int64"
        }
       ],
       "rows_top": [
        {
         "name": "Steven Verdone",
         "age": "nan",
         "gender": "Male",
         "race": "White",
         "img_url": "https://fatalencounters.org/wp-content/uploads/2021/01/Steven-Verdone.jpg",
         "date": "2021-01-22T00:00:00.000000",
         "address": "6241 W. Cardinal St.",
         "city": "Homosassa",
         "state": "FL",
         "zipcode": 34446,
         "county": "Citrus",
         "agency_responsible": "Citrus County Sheriff's Office",
         "ori_agency_identifier": "FL0090000",
         "cause_of_death": "Gunshot",
         "description_of_circumstances": "Deputies responded at around 9:45 a.m. to 911 calls reporting a man, Verdone, behaving erratically and running in and out of traffic near the Marathon Gas station. Verdone yelled at people near the locked entrance to the convenience store, which he also tried to enter before the deputy's arrival. Verdone approached the deputy as he was exiting his cruiser. Verdone advanced with a knife, and the deputy shot and killed him.",
         "official_disposition": "Pending investigation",
         "criminal_charges_filed": "No known charges",
         "news_article_or_photo_of_official_document": "https://www.chronicleonline.com/news/local/deputy-shoots-kills-man-armed-with-knife/article_0712050c-5cc8-11eb-bf39-ef9591178d38.html",
         "mental_illness": "Unknown",
         "armed_unarmed_status": "Allegedly Armed",
         "alleged_weapon": "knife",
         "alleged_threat_lvl": "other",
         "fleeing": "not fleeing",
         "body_camera": "no",
         "wapo_id": "6544.0",
         "off_duty_killing": "nan",
         "geography": "Suburban",
         "mpv_id": 8933,
         "fatal_encounters_id": 29525,
         "encounter_type_draft": "Mental Health/Welfare Check",
         "initial_reported_reason_for_encounter_draft": "Erratic behavior",
         "names_of_officers_involved_draft": "nan",
         "race_of_officers_involved_draft": "nan",
         "known_past_shootings_of_Officer_draft": "nan",
         "call_for_service_draft": "Yes",
         "_deepnote_index_column": 320
        },
        {
         "name": "Amanda Faulkner",
         "age": "nan",
         "gender": "Female",
         "race": "White",
         "img_url": "nan",
         "date": "2021-01-04T00:00:00.000000",
         "address": "1400 Mooney Rd.",
         "city": "Columbiana",
         "state": "AL",
         "zipcode": 35051,
         "county": "Shelby ",
         "agency_responsible": "Shelby County Sheriff's Office",
         "ori_agency_identifier": "AL0590000",
         "cause_of_death": "Gunshot",
         "description_of_circumstances": "Around 6 p.m., deputies were dispatched to a domestic disturbance. Police have withheld details as to what happened next, but say a woman ran over a deputy, and the deputy shot and killed her.",
         "official_disposition": "Pending investigation",
         "criminal_charges_filed": "No known charges",
         "news_article_or_photo_of_official_document": "https://www.al.com/news/birmingham/2021/01/female-suspect-shot-and-killed-shelby-county-run-over-during-domestic-call.html",
         "mental_illness": "No",
         "armed_unarmed_status": "Vehicle",
         "alleged_weapon": "vehicle",
         "alleged_threat_lvl": "attack",
         "fleeing": "nan",
         "body_camera": "nan",
         "wapo_id": "nan",
         "off_duty_killing": "nan",
         "geography": "Rural",
         "mpv_id": 8988,
         "fatal_encounters_id": 29432,
         "encounter_type_draft": "Domestic Disturbance",
         "initial_reported_reason_for_encounter_draft": "Domestic Disturbance",
         "names_of_officers_involved_draft": "nan",
         "race_of_officers_involved_draft": "nan",
         "known_past_shootings_of_Officer_draft": "nan",
         "call_for_service_draft": "Yes",
         "_deepnote_index_column": 375
        },
        {
         "name": "Name withheld by police",
         "age": "nan",
         "gender": "Male",
         "race": "Black",
         "img_url": "nan",
         "date": "2020-11-15T00:00:00.000000",
         "address": "Van Wick St. and Van Ness Ave.",
         "city": "Inglewood",
         "state": "CA",
         "zipcode": 90303,
         "county": "Los Angeles",
         "agency_responsible": "Los Angeles County Sheriff's Department",
         "ori_agency_identifier": "CA0190000",
         "cause_of_death": "Gunshot",
         "description_of_circumstances": "A caller reported a man in the middle of the street holding a firearm about 1:50 a.m. at an intersection. As deputies arrived, they saw a man pointing a firearm at a passing by vehicle. The deputies told the man to drop the weapon, but he allegedly turned and pointed the weapon at the deputies, who shot and killed him.",
         "official_disposition": "Pending investigation",
         "criminal_charges_filed": "No known charges",
         "news_article_or_photo_of_official_document": "https://fox5sandiego.com/news/california-news/man-shot-killed-in-la-county-after-deputies-say-he-pointed-gun-at-them/",
         "mental_illness": "Unknown",
         "armed_unarmed_status": "Allegedly armed",
         "alleged_weapon": "gun",
         "alleged_threat_lvl": "attack",
         "fleeing": "nan",
         "body_camera": "nan",
         "wapo_id": "nan",
         "off_duty_killing": "nan",
         "geography": "Urban",
         "mpv_id": 9052,
         "fatal_encounters_id": 29175,
         "encounter_type_draft": "Person with a Weapon (gun)",
         "initial_reported_reason_for_encounter_draft": "Person with a gun, erratic behavior",
         "names_of_officers_involved_draft": "nan",
         "race_of_officers_involved_draft": "nan",
         "known_past_shootings_of_Officer_draft": "nan",
         "call_for_service_draft": "Yes",
         "_deepnote_index_column": 516
        }
       ],
       "rows_bottom": null
      },
      "text/plain": "                        name  age  gender   race  \\\n320           Steven Verdone  NaN    Male  White   \n375          Amanda Faulkner  NaN  Female  White   \n516  Name withheld by police  NaN    Male  Black   \n\n                                               img_url       date  \\\n320  https://fatalencounters.org/wp-content/uploads... 2021-01-22   \n375                                                NaN 2021-01-04   \n516                                                NaN 2020-11-15   \n\n                            address        city state  zipcode  ...  \\\n320            6241 W. Cardinal St.   Homosassa    FL  34446.0  ...   \n375                 1400 Mooney Rd.  Columbiana    AL  35051.0  ...   \n516  Van Wick St. and Van Ness Ave.   Inglewood    CA  90303.0  ...   \n\n    off_duty_killing geography  mpv_id fatal_encounters_id  \\\n320              NaN  Suburban  8933.0             29525.0   \n375              NaN     Rural  8988.0             29432.0   \n516              NaN     Urban  9052.0             29175.0   \n\n            encounter_type_draft initial_reported_reason_for_encounter_draft  \\\n320  Mental Health/Welfare Check                            Erratic behavior   \n375         Domestic Disturbance                        Domestic Disturbance   \n516   Person with a Weapon (gun)         Person with a gun, erratic behavior   \n\n    names_of_officers_involved_draft race_of_officers_involved_draft  \\\n320                              NaN                             NaN   \n375                              NaN                             NaN   \n516                              NaN                             NaN   \n\n    known_past_shootings_of_Officer_draft call_for_service_draft  \n320                                   NaN                    Yes  \n375                                   NaN                    Yes  \n516                                   NaN                    Yes  \n\n[3 rows x 35 columns]",
      "text/html": "<div>\n<style scoped>\n    .dataframe tbody tr th:only-of-type {\n        vertical-align: middle;\n    }\n\n    .dataframe tbody tr th {\n        vertical-align: top;\n    }\n\n    .dataframe thead th {\n        text-align: right;\n    }\n</style>\n<table border=\"1\" class=\"dataframe\">\n  <thead>\n    <tr style=\"text-align: right;\">\n      <th></th>\n      <th>name</th>\n      <th>age</th>\n      <th>gender</th>\n      <th>race</th>\n      <th>img_url</th>\n      <th>date</th>\n      <th>address</th>\n      <th>city</th>\n      <th>state</th>\n      <th>zipcode</th>\n      <th>...</th>\n      <th>off_duty_killing</th>\n      <th>geography</th>\n      <th>mpv_id</th>\n      <th>fatal_encounters_id</th>\n      <th>encounter_type_draft</th>\n      <th>initial_reported_reason_for_encounter_draft</th>\n      <th>names_of_officers_involved_draft</th>\n      <th>race_of_officers_involved_draft</th>\n      <th>known_past_shootings_of_Officer_draft</th>\n      <th>call_for_service_draft</th>\n    </tr>\n  </thead>\n  <tbody>\n    <tr>\n      <th>320</th>\n      <td>Steven Verdone</td>\n      <td>NaN</td>\n      <td>Male</td>\n      <td>White</td>\n      <td>https://fatalencounters.org/wp-content/uploads...</td>\n      <td>2021-01-22</td>\n      <td>6241 W. Cardinal St.</td>\n      <td>Homosassa</td>\n      <td>FL</td>\n      <td>34446.0</td>\n      <td>...</td>\n      <td>NaN</td>\n      <td>Suburban</td>\n      <td>8933.0</td>\n      <td>29525.0</td>\n      <td>Mental Health/Welfare Check</td>\n      <td>Erratic behavior</td>\n      <td>NaN</td>\n      <td>NaN</td>\n      <td>NaN</td>\n      <td>Yes</td>\n    </tr>\n    <tr>\n      <th>375</th>\n      <td>Amanda Faulkner</td>\n      <td>NaN</td>\n      <td>Female</td>\n      <td>White</td>\n      <td>NaN</td>\n      <td>2021-01-04</td>\n      <td>1400 Mooney Rd.</td>\n      <td>Columbiana</td>\n      <td>AL</td>\n      <td>35051.0</td>\n      <td>...</td>\n      <td>NaN</td>\n      <td>Rural</td>\n      <td>8988.0</td>\n      <td>29432.0</td>\n      <td>Domestic Disturbance</td>\n      <td>Domestic Disturbance</td>\n      <td>NaN</td>\n      <td>NaN</td>\n      <td>NaN</td>\n      <td>Yes</td>\n    </tr>\n    <tr>\n      <th>516</th>\n      <td>Name withheld by police</td>\n      <td>NaN</td>\n      <td>Male</td>\n      <td>Black</td>\n      <td>NaN</td>\n      <td>2020-11-15</td>\n      <td>Van Wick St. and Van Ness Ave.</td>\n      <td>Inglewood</td>\n      <td>CA</td>\n      <td>90303.0</td>\n      <td>...</td>\n      <td>NaN</td>\n      <td>Urban</td>\n      <td>9052.0</td>\n      <td>29175.0</td>\n      <td>Person with a Weapon (gun)</td>\n      <td>Person with a gun, erratic behavior</td>\n      <td>NaN</td>\n      <td>NaN</td>\n      <td>NaN</td>\n      <td>Yes</td>\n    </tr>\n  </tbody>\n</table>\n<p>3 rows × 35 columns</p>\n</div>"
     },
     "metadata": {}
    }
   ],
   "execution_count": 405
  },
  {
   "cell_type": "code",
   "source": "df.loc[320, 'age'] = 57",
   "metadata": {
    "tags": [],
    "cell_id": "00019-cd24f2d9-7d49-477c-80db-3183c482e9a1",
    "deepnote_to_be_reexecuted": false,
    "source_hash": "a85d27df",
    "execution_start": 1621476667502,
    "execution_millis": 1,
    "deepnote_cell_type": "code"
   },
   "outputs": [],
   "execution_count": 406
  },
  {
   "cell_type": "code",
   "source": "# Amanda Falkner was 48 years old\ndf.loc[375, 'age'] = 48",
   "metadata": {
    "tags": [],
    "cell_id": "00020-9cf7ddf1-a09e-4575-9042-9d0a2876841e",
    "deepnote_to_be_reexecuted": false,
    "source_hash": "d15e1db5",
    "execution_start": 1621476891040,
    "execution_millis": 5,
    "deepnote_cell_type": "code"
   },
   "outputs": [],
   "execution_count": 407
  },
  {
   "cell_type": "code",
   "source": "df[df.age.isnull() == True]",
   "metadata": {
    "tags": [],
    "cell_id": "00021-012b24d2-2aad-4e8d-9d91-99c619e0cd2a",
    "deepnote_to_be_reexecuted": false,
    "source_hash": "e802f30e",
    "execution_start": 1621477240050,
    "execution_millis": 45,
    "deepnote_cell_type": "code"
   },
   "outputs": [
    {
     "output_type": "execute_result",
     "execution_count": 408,
     "data": {
      "application/vnd.deepnote.dataframe.v2+json": {
       "row_count": 1,
       "column_count": 35,
       "columns": [
        {
         "name": "name",
         "dtype": "object",
         "stats": {
          "unique_count": 1,
          "nan_count": 0,
          "categories": [
           {
            "name": "Name withheld by police",
            "count": 1
           }
          ]
         }
        },
        {
         "name": "age",
         "dtype": "object",
         "stats": {
          "unique_count": 0,
          "nan_count": 1,
          "categories": [
           {
            "name": "Missing",
            "count": 1
           }
          ]
         }
        },
        {
         "name": "gender",
         "dtype": "object",
         "stats": {
          "unique_count": 1,
          "nan_count": 0,
          "categories": [
           {
            "name": "Male",
            "count": 1
           }
          ]
         }
        },
        {
         "name": "race",
         "dtype": "object",
         "stats": {
          "unique_count": 1,
          "nan_count": 0,
          "categories": [
           {
            "name": "Black",
            "count": 1
           }
          ]
         }
        },
        {
         "name": "img_url",
         "dtype": "object",
         "stats": {
          "unique_count": 0,
          "nan_count": 1,
          "categories": [
           {
            "name": "Missing",
            "count": 1
           }
          ]
         }
        },
        {
         "name": "date",
         "dtype": "datetime64[ns]",
         "stats": {
          "unique_count": 1,
          "nan_count": 0,
          "min": "2020-11-15 00:00:00",
          "max": "2020-11-15 00:00:00",
          "histogram": null
         }
        },
        {
         "name": "address",
         "dtype": "object",
         "stats": {
          "unique_count": 1,
          "nan_count": 0,
          "categories": [
           {
            "name": "Van Wick St. and Van Ness Ave.",
            "count": 1
           }
          ]
         }
        },
        {
         "name": "city",
         "dtype": "object",
         "stats": {
          "unique_count": 1,
          "nan_count": 0,
          "categories": [
           {
            "name": "Inglewood",
            "count": 1
           }
          ]
         }
        },
        {
         "name": "state",
         "dtype": "object",
         "stats": {
          "unique_count": 1,
          "nan_count": 0,
          "categories": [
           {
            "name": "CA",
            "count": 1
           }
          ]
         }
        },
        {
         "name": "zipcode",
         "dtype": "float64",
         "stats": {
          "unique_count": 1,
          "nan_count": 0,
          "min": "90303.0",
          "max": "90303.0",
          "histogram": [
           {
            "bin_start": 90302.5,
            "bin_end": 90302.6,
            "count": 0
           },
           {
            "bin_start": 90302.6,
            "bin_end": 90302.7,
            "count": 0
           },
           {
            "bin_start": 90302.7,
            "bin_end": 90302.8,
            "count": 0
           },
           {
            "bin_start": 90302.8,
            "bin_end": 90302.9,
            "count": 0
           },
           {
            "bin_start": 90302.9,
            "bin_end": 90303,
            "count": 0
           },
           {
            "bin_start": 90303,
            "bin_end": 90303.1,
            "count": 1
           },
           {
            "bin_start": 90303.1,
            "bin_end": 90303.2,
            "count": 0
           },
           {
            "bin_start": 90303.2,
            "bin_end": 90303.3,
            "count": 0
           },
           {
            "bin_start": 90303.3,
            "bin_end": 90303.4,
            "count": 0
           },
           {
            "bin_start": 90303.4,
            "bin_end": 90303.5,
            "count": 0
           }
          ]
         }
        },
        {
         "name": "county",
         "dtype": "object",
         "stats": {
          "unique_count": 1,
          "nan_count": 0,
          "categories": [
           {
            "name": "Los Angeles",
            "count": 1
           }
          ]
         }
        },
        {
         "name": "agency_responsible",
         "dtype": "object",
         "stats": {
          "unique_count": 1,
          "nan_count": 0,
          "categories": [
           {
            "name": "Los Angeles County Sheriff's Department",
            "count": 1
           }
          ]
         }
        },
        {
         "name": "ori_agency_identifier",
         "dtype": "object",
         "stats": {
          "unique_count": 1,
          "nan_count": 0,
          "categories": [
           {
            "name": "CA0190000",
            "count": 1
           }
          ]
         }
        },
        {
         "name": "cause_of_death",
         "dtype": "object",
         "stats": {
          "unique_count": 1,
          "nan_count": 0,
          "categories": [
           {
            "name": "Gunshot",
            "count": 1
           }
          ]
         }
        },
        {
         "name": "description_of_circumstances",
         "dtype": "object",
         "stats": {
          "unique_count": 1,
          "nan_count": 0,
          "categories": [
           {
            "name": "A caller reported a man in the middle of the street holding a firearm about 1:50 a.m. at an intersection. As deputies arrived, they saw a man pointing a firearm at a passing by vehicle. The deputies told the man to drop the weapon, but he allegedly turned and pointed the weapon at the deputies, who shot and killed him.",
            "count": 1
           }
          ]
         }
        },
        {
         "name": "official_disposition",
         "dtype": "object",
         "stats": {
          "unique_count": 1,
          "nan_count": 0,
          "categories": [
           {
            "name": "Pending investigation",
            "count": 1
           }
          ]
         }
        },
        {
         "name": "criminal_charges_filed",
         "dtype": "object",
         "stats": {
          "unique_count": 1,
          "nan_count": 0,
          "categories": [
           {
            "name": "No known charges",
            "count": 1
           }
          ]
         }
        },
        {
         "name": "news_article_or_photo_of_official_document",
         "dtype": "object",
         "stats": {
          "unique_count": 1,
          "nan_count": 0,
          "categories": [
           {
            "name": "https://fox5sandiego.com/news/california-news/man-shot-killed-in-la-county-after-deputies-say-he-pointed-gun-at-them/",
            "count": 1
           }
          ]
         }
        },
        {
         "name": "mental_illness",
         "dtype": "object",
         "stats": {
          "unique_count": 1,
          "nan_count": 0,
          "categories": [
           {
            "name": "Unknown",
            "count": 1
           }
          ]
         }
        },
        {
         "name": "armed_unarmed_status",
         "dtype": "object",
         "stats": {
          "unique_count": 1,
          "nan_count": 0,
          "categories": [
           {
            "name": "Allegedly armed",
            "count": 1
           }
          ]
         }
        },
        {
         "name": "alleged_weapon",
         "dtype": "object",
         "stats": {
          "unique_count": 1,
          "nan_count": 0,
          "categories": [
           {
            "name": "gun",
            "count": 1
           }
          ]
         }
        },
        {
         "name": "alleged_threat_lvl",
         "dtype": "object",
         "stats": {
          "unique_count": 1,
          "nan_count": 0,
          "categories": [
           {
            "name": "attack",
            "count": 1
           }
          ]
         }
        },
        {
         "name": "fleeing",
         "dtype": "object",
         "stats": {
          "unique_count": 0,
          "nan_count": 1,
          "categories": [
           {
            "name": "Missing",
            "count": 1
           }
          ]
         }
        },
        {
         "name": "body_camera",
         "dtype": "object",
         "stats": {
          "unique_count": 0,
          "nan_count": 1,
          "categories": [
           {
            "name": "Missing",
            "count": 1
           }
          ]
         }
        },
        {
         "name": "wapo_id",
         "dtype": "float64",
         "stats": {
          "unique_count": 0,
          "nan_count": 1,
          "min": null,
          "max": null,
          "histogram": [
           {
            "bin_start": 0,
            "bin_end": 0.1,
            "count": 0
           },
           {
            "bin_start": 0.1,
            "bin_end": 0.2,
            "count": 0
           },
           {
            "bin_start": 0.2,
            "bin_end": 0.30000000000000004,
            "count": 0
           },
           {
            "bin_start": 0.30000000000000004,
            "bin_end": 0.4,
            "count": 0
           },
           {
            "bin_start": 0.4,
            "bin_end": 0.5,
            "count": 0
           },
           {
            "bin_start": 0.5,
            "bin_end": 0.6000000000000001,
            "count": 0
           },
           {
            "bin_start": 0.6000000000000001,
            "bin_end": 0.7000000000000001,
            "count": 0
           },
           {
            "bin_start": 0.7000000000000001,
            "bin_end": 0.8,
            "count": 0
           },
           {
            "bin_start": 0.8,
            "bin_end": 0.9,
            "count": 0
           },
           {
            "bin_start": 0.9,
            "bin_end": 1,
            "count": 0
           }
          ]
         }
        },
        {
         "name": "off_duty_killing",
         "dtype": "object",
         "stats": {
          "unique_count": 0,
          "nan_count": 1,
          "categories": [
           {
            "name": "Missing",
            "count": 1
           }
          ]
         }
        },
        {
         "name": "geography",
         "dtype": "object",
         "stats": {
          "unique_count": 1,
          "nan_count": 0,
          "categories": [
           {
            "name": "Urban",
            "count": 1
           }
          ]
         }
        },
        {
         "name": "mpv_id",
         "dtype": "float64",
         "stats": {
          "unique_count": 1,
          "nan_count": 0,
          "min": "9052.0",
          "max": "9052.0",
          "histogram": [
           {
            "bin_start": 9051.5,
            "bin_end": 9051.6,
            "count": 0
           },
           {
            "bin_start": 9051.6,
            "bin_end": 9051.7,
            "count": 0
           },
           {
            "bin_start": 9051.7,
            "bin_end": 9051.8,
            "count": 0
           },
           {
            "bin_start": 9051.8,
            "bin_end": 9051.9,
            "count": 0
           },
           {
            "bin_start": 9051.9,
            "bin_end": 9052,
            "count": 0
           },
           {
            "bin_start": 9052,
            "bin_end": 9052.1,
            "count": 1
           },
           {
            "bin_start": 9052.1,
            "bin_end": 9052.2,
            "count": 0
           },
           {
            "bin_start": 9052.2,
            "bin_end": 9052.3,
            "count": 0
           },
           {
            "bin_start": 9052.3,
            "bin_end": 9052.4,
            "count": 0
           },
           {
            "bin_start": 9052.4,
            "bin_end": 9052.5,
            "count": 0
           }
          ]
         }
        },
        {
         "name": "fatal_encounters_id",
         "dtype": "float64",
         "stats": {
          "unique_count": 1,
          "nan_count": 0,
          "min": "29175.0",
          "max": "29175.0",
          "histogram": [
           {
            "bin_start": 29174.5,
            "bin_end": 29174.6,
            "count": 0
           },
           {
            "bin_start": 29174.6,
            "bin_end": 29174.7,
            "count": 0
           },
           {
            "bin_start": 29174.7,
            "bin_end": 29174.8,
            "count": 0
           },
           {
            "bin_start": 29174.8,
            "bin_end": 29174.9,
            "count": 0
           },
           {
            "bin_start": 29174.9,
            "bin_end": 29175,
            "count": 0
           },
           {
            "bin_start": 29175,
            "bin_end": 29175.1,
            "count": 1
           },
           {
            "bin_start": 29175.1,
            "bin_end": 29175.2,
            "count": 0
           },
           {
            "bin_start": 29175.2,
            "bin_end": 29175.3,
            "count": 0
           },
           {
            "bin_start": 29175.3,
            "bin_end": 29175.4,
            "count": 0
           },
           {
            "bin_start": 29175.4,
            "bin_end": 29175.5,
            "count": 0
           }
          ]
         }
        },
        {
         "name": "encounter_type_draft",
         "dtype": "object",
         "stats": {
          "unique_count": 1,
          "nan_count": 0,
          "categories": [
           {
            "name": "Person with a Weapon (gun)",
            "count": 1
           }
          ]
         }
        },
        {
         "name": "initial_reported_reason_for_encounter_draft",
         "dtype": "object",
         "stats": {
          "unique_count": 1,
          "nan_count": 0,
          "categories": [
           {
            "name": "Person with a gun, erratic behavior",
            "count": 1
           }
          ]
         }
        },
        {
         "name": "names_of_officers_involved_draft",
         "dtype": "object",
         "stats": {
          "unique_count": 0,
          "nan_count": 1,
          "categories": [
           {
            "name": "Missing",
            "count": 1
           }
          ]
         }
        },
        {
         "name": "race_of_officers_involved_draft",
         "dtype": "object",
         "stats": {
          "unique_count": 0,
          "nan_count": 1,
          "categories": [
           {
            "name": "Missing",
            "count": 1
           }
          ]
         }
        },
        {
         "name": "known_past_shootings_of_Officer_draft",
         "dtype": "object",
         "stats": {
          "unique_count": 0,
          "nan_count": 1,
          "categories": [
           {
            "name": "Missing",
            "count": 1
           }
          ]
         }
        },
        {
         "name": "call_for_service_draft",
         "dtype": "object",
         "stats": {
          "unique_count": 1,
          "nan_count": 0,
          "categories": [
           {
            "name": "Yes",
            "count": 1
           }
          ]
         }
        },
        {
         "name": "_deepnote_index_column",
         "dtype": "int64"
        }
       ],
       "rows_top": [
        {
         "name": "Name withheld by police",
         "age": "nan",
         "gender": "Male",
         "race": "Black",
         "img_url": "nan",
         "date": "2020-11-15T00:00:00.000000",
         "address": "Van Wick St. and Van Ness Ave.",
         "city": "Inglewood",
         "state": "CA",
         "zipcode": 90303,
         "county": "Los Angeles",
         "agency_responsible": "Los Angeles County Sheriff's Department",
         "ori_agency_identifier": "CA0190000",
         "cause_of_death": "Gunshot",
         "description_of_circumstances": "A caller reported a man in the middle of the street holding a firearm about 1:50 a.m. at an intersection. As deputies arrived, they saw a man pointing a firearm at a passing by vehicle. The deputies told the man to drop the weapon, but he allegedly turned and pointed the weapon at the deputies, who shot and killed him.",
         "official_disposition": "Pending investigation",
         "criminal_charges_filed": "No known charges",
         "news_article_or_photo_of_official_document": "https://fox5sandiego.com/news/california-news/man-shot-killed-in-la-county-after-deputies-say-he-pointed-gun-at-them/",
         "mental_illness": "Unknown",
         "armed_unarmed_status": "Allegedly armed",
         "alleged_weapon": "gun",
         "alleged_threat_lvl": "attack",
         "fleeing": "nan",
         "body_camera": "nan",
         "wapo_id": "nan",
         "off_duty_killing": "nan",
         "geography": "Urban",
         "mpv_id": 9052,
         "fatal_encounters_id": 29175,
         "encounter_type_draft": "Person with a Weapon (gun)",
         "initial_reported_reason_for_encounter_draft": "Person with a gun, erratic behavior",
         "names_of_officers_involved_draft": "nan",
         "race_of_officers_involved_draft": "nan",
         "known_past_shootings_of_Officer_draft": "nan",
         "call_for_service_draft": "Yes",
         "_deepnote_index_column": 516
        }
       ],
       "rows_bottom": null
      },
      "text/plain": "                        name  age gender   race img_url       date  \\\n516  Name withheld by police  NaN   Male  Black     NaN 2020-11-15   \n\n                            address       city state  zipcode  ...  \\\n516  Van Wick St. and Van Ness Ave.  Inglewood    CA  90303.0  ...   \n\n    off_duty_killing geography  mpv_id fatal_encounters_id  \\\n516              NaN     Urban  9052.0             29175.0   \n\n           encounter_type_draft initial_reported_reason_for_encounter_draft  \\\n516  Person with a Weapon (gun)         Person with a gun, erratic behavior   \n\n    names_of_officers_involved_draft race_of_officers_involved_draft  \\\n516                              NaN                             NaN   \n\n    known_past_shootings_of_Officer_draft call_for_service_draft  \n516                                   NaN                    Yes  \n\n[1 rows x 35 columns]",
      "text/html": "<div>\n<style scoped>\n    .dataframe tbody tr th:only-of-type {\n        vertical-align: middle;\n    }\n\n    .dataframe tbody tr th {\n        vertical-align: top;\n    }\n\n    .dataframe thead th {\n        text-align: right;\n    }\n</style>\n<table border=\"1\" class=\"dataframe\">\n  <thead>\n    <tr style=\"text-align: right;\">\n      <th></th>\n      <th>name</th>\n      <th>age</th>\n      <th>gender</th>\n      <th>race</th>\n      <th>img_url</th>\n      <th>date</th>\n      <th>address</th>\n      <th>city</th>\n      <th>state</th>\n      <th>zipcode</th>\n      <th>...</th>\n      <th>off_duty_killing</th>\n      <th>geography</th>\n      <th>mpv_id</th>\n      <th>fatal_encounters_id</th>\n      <th>encounter_type_draft</th>\n      <th>initial_reported_reason_for_encounter_draft</th>\n      <th>names_of_officers_involved_draft</th>\n      <th>race_of_officers_involved_draft</th>\n      <th>known_past_shootings_of_Officer_draft</th>\n      <th>call_for_service_draft</th>\n    </tr>\n  </thead>\n  <tbody>\n    <tr>\n      <th>516</th>\n      <td>Name withheld by police</td>\n      <td>NaN</td>\n      <td>Male</td>\n      <td>Black</td>\n      <td>NaN</td>\n      <td>2020-11-15</td>\n      <td>Van Wick St. and Van Ness Ave.</td>\n      <td>Inglewood</td>\n      <td>CA</td>\n      <td>90303.0</td>\n      <td>...</td>\n      <td>NaN</td>\n      <td>Urban</td>\n      <td>9052.0</td>\n      <td>29175.0</td>\n      <td>Person with a Weapon (gun)</td>\n      <td>Person with a gun, erratic behavior</td>\n      <td>NaN</td>\n      <td>NaN</td>\n      <td>NaN</td>\n      <td>Yes</td>\n    </tr>\n  </tbody>\n</table>\n<p>1 rows × 35 columns</p>\n</div>"
     },
     "metadata": {}
    }
   ],
   "execution_count": 408
  },
  {
   "cell_type": "code",
   "source": "# Name not released but age is 40-45 will make age 43\ndf.loc[516, 'age'] = 43",
   "metadata": {
    "tags": [],
    "cell_id": "00022-4e392300-e4e6-4aea-b441-beb95f786a5d",
    "deepnote_to_be_reexecuted": false,
    "source_hash": "ff4991b7",
    "execution_start": 1621477439990,
    "execution_millis": 2,
    "deepnote_cell_type": "code"
   },
   "outputs": [],
   "execution_count": 409
  },
  {
   "cell_type": "markdown",
   "source": "## Next steps:\n- explore value counts of features to potentially clear nulls, combine values, etc.\n- ",
   "metadata": {
    "tags": [],
    "cell_id": "00023-bab8ad65-35ac-4508-a5a4-1ebde94b85ca",
    "deepnote_cell_type": "markdown"
   }
  },
  {
   "cell_type": "code",
   "source": "",
   "metadata": {
    "tags": [],
    "cell_id": "00023-b7a923c3-ac25-4eed-b38e-7d1d3514a843",
    "deepnote_cell_type": "code"
   },
   "outputs": [],
   "execution_count": null
  },
  {
   "cell_type": "markdown",
   "source": "",
   "metadata": {
    "tags": [],
    "cell_id": "00024-ddce82d2-e318-449a-bfc4-7803f2049734",
    "deepnote_cell_type": "markdown"
   }
  },
  {
   "cell_type": "markdown",
   "source": "<a style='text-decoration:none;line-height:16px;display:flex;color:#5B5B62;padding:10px;justify-content:end;' href='https://deepnote.com?utm_source=created-in-deepnote-cell&projectId=258e71fc-cf2b-48c3-8461-70ecd9787aa1' target=\"_blank\">\n<img alt='Created in deepnote.com' style='display:inline;max-height:16px;margin:0px;margin-right:7.5px;' src='data:image/svg+xml;base64,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' > </img>\nCreated in <span style='font-weight:600;margin-left:4px;'>Deepnote</span></a>",
   "metadata": {
    "tags": [],
    "created_in_deepnote_cell": true,
    "deepnote_cell_type": "markdown"
   }
  }
 ],
 "nbformat": 4,
 "nbformat_minor": 2,
 "metadata": {
  "orig_nbformat": 2,
  "deepnote": {
   "is_reactive": false
  },
  "deepnote_notebook_id": "527c85f5-3112-42aa-8748-950bf9b87ed2",
  "deepnote_execution_queue": []
 }
}