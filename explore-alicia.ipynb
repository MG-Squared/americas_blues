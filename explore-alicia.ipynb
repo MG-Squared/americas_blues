{
 "cells": [
  {
   "cell_type": "code",
   "execution_count": 1,
   "metadata": {
    "cell_id": "00000-b547ad97-4f98-4c50-9e22-f56d8d92f2f5",
    "deepnote_cell_type": "code",
    "deepnote_to_be_reexecuted": false,
    "execution_millis": 1484,
    "execution_start": 1621640461007,
    "source_hash": "306777c",
    "tags": []
   },
   "outputs": [],
   "source": [
    "import pandas as pd\n",
    "import numpy as np\n",
    "from scipy import stats\n",
    "\n",
    "\n",
    "import matplotlib.pyplot as plt\n",
    "import seaborn as sns\n",
    "import explore"
   ]
  },
  {
   "cell_type": "code",
   "execution_count": 2,
   "metadata": {
    "cell_id": "00001-accc30f2-e4a7-4049-911a-881c078242ea",
    "deepnote_cell_type": "code",
    "deepnote_to_be_reexecuted": false,
    "execution_millis": 128,
    "execution_start": 1621640462493,
    "source_hash": "e08e6626",
    "tags": []
   },
   "outputs": [
    {
     "data": {
      "text/html": [
       "<div>\n",
       "<style scoped>\n",
       "    .dataframe tbody tr th:only-of-type {\n",
       "        vertical-align: middle;\n",
       "    }\n",
       "\n",
       "    .dataframe tbody tr th {\n",
       "        vertical-align: top;\n",
       "    }\n",
       "\n",
       "    .dataframe thead th {\n",
       "        text-align: right;\n",
       "    }\n",
       "</style>\n",
       "<table border=\"1\" class=\"dataframe\">\n",
       "  <thead>\n",
       "    <tr style=\"text-align: right;\">\n",
       "      <th></th>\n",
       "      <th>age</th>\n",
       "      <th>gender</th>\n",
       "      <th>race</th>\n",
       "      <th>date</th>\n",
       "      <th>city</th>\n",
       "      <th>state</th>\n",
       "      <th>zipcode</th>\n",
       "      <th>county</th>\n",
       "      <th>agency_responsible</th>\n",
       "      <th>cause_of_death</th>\n",
       "      <th>...</th>\n",
       "      <th>mental_illness</th>\n",
       "      <th>armed_unarmed_status</th>\n",
       "      <th>alleged_weapon</th>\n",
       "      <th>alleged_threat_lvl</th>\n",
       "      <th>fleeing</th>\n",
       "      <th>body_camera</th>\n",
       "      <th>geography</th>\n",
       "      <th>encounter_type_draft</th>\n",
       "      <th>initial_reported_reason_for_encounter_draft</th>\n",
       "      <th>known_past_shootings_of_Officer_draft</th>\n",
       "    </tr>\n",
       "  </thead>\n",
       "  <tbody>\n",
       "    <tr>\n",
       "      <th>0</th>\n",
       "      <td>24</td>\n",
       "      <td>Male</td>\n",
       "      <td>Unknown Race</td>\n",
       "      <td>2021-05-09</td>\n",
       "      <td>Leicester</td>\n",
       "      <td>MA</td>\n",
       "      <td>1524.0</td>\n",
       "      <td>Worcester</td>\n",
       "      <td>Leicester Police Department</td>\n",
       "      <td>gunshot</td>\n",
       "      <td>...</td>\n",
       "      <td>no</td>\n",
       "      <td>Allegedly Armed</td>\n",
       "      <td>gun</td>\n",
       "      <td>attack</td>\n",
       "      <td>not fleeing</td>\n",
       "      <td>no</td>\n",
       "      <td>Suburban</td>\n",
       "      <td>other</td>\n",
       "      <td>deliberate car crash</td>\n",
       "      <td>0</td>\n",
       "    </tr>\n",
       "    <tr>\n",
       "      <th>1</th>\n",
       "      <td>52</td>\n",
       "      <td>Male</td>\n",
       "      <td>Unknown Race</td>\n",
       "      <td>2021-05-07</td>\n",
       "      <td>Rutledge</td>\n",
       "      <td>TN</td>\n",
       "      <td>37861.0</td>\n",
       "      <td>Grainger</td>\n",
       "      <td>Bean Station Police Department, Rutledge Polic...</td>\n",
       "      <td>gunshot</td>\n",
       "      <td>...</td>\n",
       "      <td>no</td>\n",
       "      <td>Allegedly Armed</td>\n",
       "      <td>gun</td>\n",
       "      <td>attack</td>\n",
       "      <td>not fleeing</td>\n",
       "      <td>no</td>\n",
       "      <td>Rural</td>\n",
       "      <td>part 1 violent crime</td>\n",
       "      <td>shooting</td>\n",
       "      <td>0</td>\n",
       "    </tr>\n",
       "    <tr>\n",
       "      <th>2</th>\n",
       "      <td>47</td>\n",
       "      <td>Male</td>\n",
       "      <td>White</td>\n",
       "      <td>2021-05-06</td>\n",
       "      <td>San Andreas</td>\n",
       "      <td>CA</td>\n",
       "      <td>95249.0</td>\n",
       "      <td>Calaveras</td>\n",
       "      <td>Calaveras County Sheriff's Office</td>\n",
       "      <td>gunshot</td>\n",
       "      <td>...</td>\n",
       "      <td>no</td>\n",
       "      <td>Allegedly Armed</td>\n",
       "      <td>gun</td>\n",
       "      <td>other</td>\n",
       "      <td>not fleeing</td>\n",
       "      <td>no</td>\n",
       "      <td>Rural</td>\n",
       "      <td>part 1 violent crime</td>\n",
       "      <td>hostage situation</td>\n",
       "      <td>0</td>\n",
       "    </tr>\n",
       "    <tr>\n",
       "      <th>3</th>\n",
       "      <td>49</td>\n",
       "      <td>Male</td>\n",
       "      <td>White</td>\n",
       "      <td>2021-05-05</td>\n",
       "      <td>Las Vegas</td>\n",
       "      <td>NV</td>\n",
       "      <td>89104.0</td>\n",
       "      <td>Clark</td>\n",
       "      <td>Las Vegas Metropolitan Police Department</td>\n",
       "      <td>gunshot</td>\n",
       "      <td>...</td>\n",
       "      <td>no</td>\n",
       "      <td>Allegedly Armed</td>\n",
       "      <td>gun</td>\n",
       "      <td>attack</td>\n",
       "      <td>not fleeing</td>\n",
       "      <td>no</td>\n",
       "      <td>Urban</td>\n",
       "      <td>part 1 violent crime</td>\n",
       "      <td>shooting</td>\n",
       "      <td>0</td>\n",
       "    </tr>\n",
       "    <tr>\n",
       "      <th>4</th>\n",
       "      <td>30</td>\n",
       "      <td>Male</td>\n",
       "      <td>Black</td>\n",
       "      <td>2021-05-03</td>\n",
       "      <td>Biloxi</td>\n",
       "      <td>MS</td>\n",
       "      <td>39532.0</td>\n",
       "      <td>Harrison</td>\n",
       "      <td>Biloxi Police Department</td>\n",
       "      <td>gunshot</td>\n",
       "      <td>...</td>\n",
       "      <td>no</td>\n",
       "      <td>Allegedly Armed</td>\n",
       "      <td>gun</td>\n",
       "      <td>other</td>\n",
       "      <td>car</td>\n",
       "      <td>no</td>\n",
       "      <td>Suburban</td>\n",
       "      <td>part 1 violent crime</td>\n",
       "      <td>shooting</td>\n",
       "      <td>0</td>\n",
       "    </tr>\n",
       "  </tbody>\n",
       "</table>\n",
       "<p>5 rows × 23 columns</p>\n",
       "</div>"
      ],
      "text/plain": [
       "  age gender          race        date         city state  zipcode     county  \\\n",
       "0  24   Male  Unknown Race  2021-05-09    Leicester    MA   1524.0  Worcester   \n",
       "1  52   Male  Unknown Race  2021-05-07     Rutledge    TN  37861.0   Grainger   \n",
       "2  47   Male         White  2021-05-06  San Andreas    CA  95249.0  Calaveras   \n",
       "3  49   Male         White  2021-05-05    Las Vegas    NV  89104.0      Clark   \n",
       "4  30   Male         Black  2021-05-03       Biloxi    MS  39532.0   Harrison   \n",
       "\n",
       "                                  agency_responsible cause_of_death  ...  \\\n",
       "0                        Leicester Police Department        gunshot  ...   \n",
       "1  Bean Station Police Department, Rutledge Polic...        gunshot  ...   \n",
       "2                  Calaveras County Sheriff's Office        gunshot  ...   \n",
       "3           Las Vegas Metropolitan Police Department        gunshot  ...   \n",
       "4                           Biloxi Police Department        gunshot  ...   \n",
       "\n",
       "  mental_illness armed_unarmed_status alleged_weapon alleged_threat_lvl  \\\n",
       "0             no      Allegedly Armed            gun             attack   \n",
       "1             no      Allegedly Armed            gun             attack   \n",
       "2             no      Allegedly Armed            gun              other   \n",
       "3             no      Allegedly Armed            gun             attack   \n",
       "4             no      Allegedly Armed            gun              other   \n",
       "\n",
       "       fleeing body_camera geography  encounter_type_draft  \\\n",
       "0  not fleeing          no  Suburban                 other   \n",
       "1  not fleeing          no     Rural  part 1 violent crime   \n",
       "2  not fleeing          no     Rural  part 1 violent crime   \n",
       "3  not fleeing          no     Urban  part 1 violent crime   \n",
       "4          car          no  Suburban  part 1 violent crime   \n",
       "\n",
       "  initial_reported_reason_for_encounter_draft  \\\n",
       "0                        deliberate car crash   \n",
       "1                                    shooting   \n",
       "2                           hostage situation   \n",
       "3                                    shooting   \n",
       "4                                    shooting   \n",
       "\n",
       "  known_past_shootings_of_Officer_draft  \n",
       "0                                     0  \n",
       "1                                     0  \n",
       "2                                     0  \n",
       "3                                     0  \n",
       "4                                     0  \n",
       "\n",
       "[5 rows x 23 columns]"
      ]
     },
     "execution_count": 2,
     "metadata": {},
     "output_type": "execute_result"
    }
   ],
   "source": [
    "df = pd.read_csv('prepped_data.csv')\n",
    "df.drop(columns='Unnamed: 0', inplace=True)\n",
    "df.head()"
   ]
  },
  {
   "cell_type": "code",
   "execution_count": 3,
   "metadata": {
    "cell_id": "00002-2e4c0b96-86ae-4719-b15e-8e9098d021b7",
    "deepnote_cell_type": "code",
    "deepnote_to_be_reexecuted": false,
    "execution_millis": 8,
    "execution_start": 1621640462615,
    "source_hash": "14f60b8f",
    "tags": []
   },
   "outputs": [
    {
     "data": {
      "text/plain": [
       "(6624, 23)"
      ]
     },
     "execution_count": 3,
     "metadata": {},
     "output_type": "execute_result"
    }
   ],
   "source": [
    "df.shape"
   ]
  },
  {
   "cell_type": "code",
   "execution_count": 4,
   "metadata": {
    "cell_id": "00003-1725ab43-8bf0-4af6-aafb-ba466b8e1c50",
    "deepnote_cell_type": "code",
    "deepnote_to_be_reexecuted": false,
    "execution_millis": 9,
    "execution_start": 1621640462624,
    "source_hash": "f3dd26da",
    "tags": []
   },
   "outputs": [
    {
     "data": {
      "text/plain": [
       "age                                            0\n",
       "gender                                         0\n",
       "race                                           0\n",
       "date                                           0\n",
       "city                                           0\n",
       "state                                          0\n",
       "zipcode                                        0\n",
       "county                                         0\n",
       "agency_responsible                             0\n",
       "cause_of_death                                 0\n",
       "description_of_circumstances                   0\n",
       "official_disposition                           0\n",
       "criminal_charges_filed                         0\n",
       "mental_illness                                 0\n",
       "armed_unarmed_status                           0\n",
       "alleged_weapon                                 0\n",
       "alleged_threat_lvl                             0\n",
       "fleeing                                        0\n",
       "body_camera                                    0\n",
       "geography                                      0\n",
       "encounter_type_draft                           0\n",
       "initial_reported_reason_for_encounter_draft    0\n",
       "known_past_shootings_of_Officer_draft          0\n",
       "dtype: int64"
      ]
     },
     "execution_count": 4,
     "metadata": {},
     "output_type": "execute_result"
    }
   ],
   "source": [
    "df.isnull().sum()"
   ]
  },
  {
   "cell_type": "code",
   "execution_count": 5,
   "metadata": {
    "cell_id": "00004-1bc32dc3-d849-4d23-b848-52583b8c3d14",
    "deepnote_cell_type": "code",
    "deepnote_to_be_reexecuted": false,
    "execution_millis": 16,
    "execution_start": 1621640462637,
    "source_hash": "de1e323c",
    "tags": []
   },
   "outputs": [
    {
     "name": "stdout",
     "output_type": "stream",
     "text": [
      "<class 'pandas.core.frame.DataFrame'>\n",
      "RangeIndex: 6624 entries, 0 to 6623\n",
      "Data columns (total 23 columns):\n",
      " #   Column                                       Non-Null Count  Dtype  \n",
      "---  ------                                       --------------  -----  \n",
      " 0   age                                          6624 non-null   object \n",
      " 1   gender                                       6624 non-null   object \n",
      " 2   race                                         6624 non-null   object \n",
      " 3   date                                         6624 non-null   object \n",
      " 4   city                                         6624 non-null   object \n",
      " 5   state                                        6624 non-null   object \n",
      " 6   zipcode                                      6624 non-null   float64\n",
      " 7   county                                       6624 non-null   object \n",
      " 8   agency_responsible                           6624 non-null   object \n",
      " 9   cause_of_death                               6624 non-null   object \n",
      " 10  description_of_circumstances                 6624 non-null   object \n",
      " 11  official_disposition                         6624 non-null   object \n",
      " 12  criminal_charges_filed                       6624 non-null   object \n",
      " 13  mental_illness                               6624 non-null   object \n",
      " 14  armed_unarmed_status                         6624 non-null   object \n",
      " 15  alleged_weapon                               6624 non-null   object \n",
      " 16  alleged_threat_lvl                           6624 non-null   object \n",
      " 17  fleeing                                      6624 non-null   object \n",
      " 18  body_camera                                  6624 non-null   object \n",
      " 19  geography                                    6624 non-null   object \n",
      " 20  encounter_type_draft                         6624 non-null   object \n",
      " 21  initial_reported_reason_for_encounter_draft  6624 non-null   object \n",
      " 22  known_past_shootings_of_Officer_draft        6624 non-null   int64  \n",
      "dtypes: float64(1), int64(1), object(21)\n",
      "memory usage: 1.2+ MB\n"
     ]
    }
   ],
   "source": [
    "df.info()"
   ]
  },
  {
   "cell_type": "markdown",
   "metadata": {
    "cell_id": "00005-2cb9fe62-107b-4916-90eb-26d4e2a93220",
    "deepnote_cell_type": "markdown",
    "tags": []
   },
   "source": [
    "### Visualize if symptoms of mental illness play a role in threat level\n"
   ]
  },
  {
   "cell_type": "code",
   "execution_count": 6,
   "metadata": {
    "cell_id": "00005-e1e7d18f-47b5-4f7c-91e1-5f9143cfe8c9",
    "deepnote_cell_type": "code",
    "deepnote_to_be_reexecuted": false,
    "execution_millis": 7,
    "execution_start": 1621640462682,
    "source_hash": "472286a",
    "tags": []
   },
   "outputs": [
    {
     "name": "stdout",
     "output_type": "stream",
     "text": [
      "Mental Illness:\n",
      "no                     4409\n",
      "yes                    1333\n",
      "unknown                 702\n",
      "drug or alcohol use     180\n",
      "Name: mental_illness, dtype: int64\n",
      "---------------------------------\n",
      "Threat Level\n",
      "attack          4248\n",
      "other           2025\n",
      "undetermined     349\n",
      "none               1\n",
      "Other              1\n",
      "Name: alleged_threat_lvl, dtype: int64\n"
     ]
    }
   ],
   "source": [
    "#check mental_illness and target var threat level value_counts()\n",
    "print(\"Mental Illness:\")\n",
    "print(df.mental_illness.value_counts())\n",
    "print(\"---------------------------------\")\n",
    "print(\"Threat Level\")\n",
    "print(df.alleged_threat_lvl.value_counts())"
   ]
  },
  {
   "cell_type": "code",
   "execution_count": 7,
   "metadata": {
    "cell_id": "00007-bf56da9c-2fb9-4894-b99e-3a8673d91c74",
    "deepnote_cell_type": "code",
    "deepnote_to_be_reexecuted": false,
    "execution_millis": 6,
    "execution_start": 1621640462683,
    "source_hash": "74462bfc",
    "tags": []
   },
   "outputs": [
    {
     "data": {
      "text/plain": [
       "attack          4248\n",
       "other           2026\n",
       "undetermined     349\n",
       "none               1\n",
       "Name: alleged_threat_lvl, dtype: int64"
      ]
     },
     "execution_count": 7,
     "metadata": {},
     "output_type": "execute_result"
    }
   ],
   "source": [
    "df.alleged_threat_lvl = np.where(df['alleged_threat_lvl'].str.contains('Other'), \"other\", df.alleged_threat_lvl)\n",
    "df.alleged_threat_lvl.value_counts()"
   ]
  },
  {
   "cell_type": "code",
   "execution_count": 8,
   "metadata": {
    "cell_id": "00008-3b845288-bcef-4042-834d-fdb4ff666018",
    "deepnote_cell_type": "code",
    "deepnote_to_be_reexecuted": false,
    "execution_millis": 5,
    "execution_start": 1621640462684,
    "source_hash": "2493d18b",
    "tags": []
   },
   "outputs": [
    {
     "data": {
      "text/plain": [
       "1.0    4248\n",
       "0.0    2026\n",
       "Name: alleged_threat_lvl, dtype: int64"
      ]
     },
     "execution_count": 8,
     "metadata": {},
     "output_type": "execute_result"
    }
   ],
   "source": [
    "#drop undetermined and none col for now\n",
    "#replace attack w/ 1 and other w/ 0\n",
    "df.alleged_threat_lvl = df.alleged_threat_lvl.str.lower().replace('undetermined', np.nan).replace('none', np.nan).replace('attack', 1).replace('other', 0)\n",
    "\n",
    "\n",
    "df.alleged_threat_lvl.value_counts()"
   ]
  },
  {
   "cell_type": "code",
   "execution_count": 9,
   "metadata": {
    "cell_id": "00009-18eed5d4-8486-4053-ad66-43468ecb1a19",
    "deepnote_cell_type": "code",
    "deepnote_to_be_reexecuted": false,
    "execution_millis": 6,
    "execution_start": 1621640462691,
    "source_hash": "a0b9357f",
    "tags": []
   },
   "outputs": [],
   "source": [
    "#drop nans\n",
    "df.dropna(inplace=True)"
   ]
  },
  {
   "cell_type": "code",
   "execution_count": 10,
   "metadata": {
    "cell_id": "00009-86110221-b04a-4d05-a01d-773696790531",
    "deepnote_cell_type": "code",
    "deepnote_to_be_reexecuted": false,
    "execution_millis": 1,
    "execution_start": 1621640462742,
    "source_hash": "7748fd36",
    "tags": []
   },
   "outputs": [],
   "source": [
    "#import train, test, split\n",
    "from sklearn.model_selection import train_test_split"
   ]
  },
  {
   "cell_type": "code",
   "execution_count": 11,
   "metadata": {
    "cell_id": "00006-9a6ce5f7-d7fb-4882-9a31-ca0824853966",
    "deepnote_cell_type": "code",
    "deepnote_to_be_reexecuted": false,
    "execution_millis": 0,
    "execution_start": 1621640462743,
    "source_hash": "9a7c7c88",
    "tags": []
   },
   "outputs": [],
   "source": [
    "#function to split data\n",
    "def split(df, stratify_by=None):\n",
    "    \"\"\"\n",
    "    Crude train, validate, test split\n",
    "    To stratify, send in a column name\n",
    "    \"\"\"\n",
    "    \n",
    "    if stratify_by == None:\n",
    "        train, test = train_test_split(df, test_size=.2, random_state=123)\n",
    "        train, validate = train_test_split(train, test_size=.3, random_state=123)\n",
    "    else:\n",
    "        train, test = train_test_split(df, test_size=.2, random_state=123, stratify=df[stratify_by])\n",
    "        train, validate = train_test_split(train, test_size=.3, random_state=123, stratify=train[stratify_by])\n",
    "    \n",
    "    return train, validate, test"
   ]
  },
  {
   "cell_type": "code",
   "execution_count": 12,
   "metadata": {
    "cell_id": "00007-df8c38b1-a485-4190-990f-0aaccaab4cf8",
    "deepnote_cell_type": "code",
    "deepnote_to_be_reexecuted": false,
    "execution_millis": 44,
    "execution_start": 1621640462744,
    "source_hash": "c2aec7c9",
    "tags": []
   },
   "outputs": [
    {
     "name": "stdout",
     "output_type": "stream",
     "text": [
      "overall shape of dataframe: (6274, 23)\n",
      "train: (3513, 23)\n",
      "validate: (1506, 23)\n",
      "test: (1255, 23)\n"
     ]
    },
    {
     "data": {
      "text/html": [
       "<div>\n",
       "<style scoped>\n",
       "    .dataframe tbody tr th:only-of-type {\n",
       "        vertical-align: middle;\n",
       "    }\n",
       "\n",
       "    .dataframe tbody tr th {\n",
       "        vertical-align: top;\n",
       "    }\n",
       "\n",
       "    .dataframe thead th {\n",
       "        text-align: right;\n",
       "    }\n",
       "</style>\n",
       "<table border=\"1\" class=\"dataframe\">\n",
       "  <thead>\n",
       "    <tr style=\"text-align: right;\">\n",
       "      <th></th>\n",
       "      <th>age</th>\n",
       "      <th>gender</th>\n",
       "      <th>race</th>\n",
       "      <th>date</th>\n",
       "      <th>city</th>\n",
       "      <th>state</th>\n",
       "      <th>zipcode</th>\n",
       "      <th>county</th>\n",
       "      <th>agency_responsible</th>\n",
       "      <th>cause_of_death</th>\n",
       "      <th>...</th>\n",
       "      <th>mental_illness</th>\n",
       "      <th>armed_unarmed_status</th>\n",
       "      <th>alleged_weapon</th>\n",
       "      <th>alleged_threat_lvl</th>\n",
       "      <th>fleeing</th>\n",
       "      <th>body_camera</th>\n",
       "      <th>geography</th>\n",
       "      <th>encounter_type_draft</th>\n",
       "      <th>initial_reported_reason_for_encounter_draft</th>\n",
       "      <th>known_past_shootings_of_Officer_draft</th>\n",
       "    </tr>\n",
       "  </thead>\n",
       "  <tbody>\n",
       "    <tr>\n",
       "      <th>4090</th>\n",
       "      <td>54</td>\n",
       "      <td>Male</td>\n",
       "      <td>White</td>\n",
       "      <td>2017-06-07</td>\n",
       "      <td>Orrington</td>\n",
       "      <td>ME</td>\n",
       "      <td>4474.0</td>\n",
       "      <td>Penobscot</td>\n",
       "      <td>Maine State Police</td>\n",
       "      <td>gunshot</td>\n",
       "      <td>...</td>\n",
       "      <td>no</td>\n",
       "      <td>Allegedly Armed</td>\n",
       "      <td>gun</td>\n",
       "      <td>1.0</td>\n",
       "      <td>not fleeing</td>\n",
       "      <td>no</td>\n",
       "      <td>Rural</td>\n",
       "      <td>other</td>\n",
       "      <td>other (called in threats to law enforcement)</td>\n",
       "      <td>0</td>\n",
       "    </tr>\n",
       "    <tr>\n",
       "      <th>3171</th>\n",
       "      <td>24</td>\n",
       "      <td>Male</td>\n",
       "      <td>White</td>\n",
       "      <td>2018-04-01</td>\n",
       "      <td>Covington</td>\n",
       "      <td>LA</td>\n",
       "      <td>70433.0</td>\n",
       "      <td>St. Tammany</td>\n",
       "      <td>St. Tammany Parish Sheriff's Office</td>\n",
       "      <td>gunshot</td>\n",
       "      <td>...</td>\n",
       "      <td>no</td>\n",
       "      <td>Allegedly Armed</td>\n",
       "      <td>gun</td>\n",
       "      <td>1.0</td>\n",
       "      <td>car</td>\n",
       "      <td>no</td>\n",
       "      <td>Suburban</td>\n",
       "      <td>traffic stop</td>\n",
       "      <td>suspect (vehicle burglaries)</td>\n",
       "      <td>0</td>\n",
       "    </tr>\n",
       "    <tr>\n",
       "      <th>1656</th>\n",
       "      <td>38</td>\n",
       "      <td>Female</td>\n",
       "      <td>White</td>\n",
       "      <td>2019-09-30</td>\n",
       "      <td>Mountain View</td>\n",
       "      <td>MO</td>\n",
       "      <td>65548.0</td>\n",
       "      <td>Howell</td>\n",
       "      <td>Mountain View Police Department</td>\n",
       "      <td>gunshot</td>\n",
       "      <td>...</td>\n",
       "      <td>no</td>\n",
       "      <td>Vehicle</td>\n",
       "      <td>vehicle</td>\n",
       "      <td>1.0</td>\n",
       "      <td>car</td>\n",
       "      <td>no</td>\n",
       "      <td>Rural</td>\n",
       "      <td>traffic stop</td>\n",
       "      <td>traffic violation</td>\n",
       "      <td>0</td>\n",
       "    </tr>\n",
       "    <tr>\n",
       "      <th>5117</th>\n",
       "      <td>25</td>\n",
       "      <td>Male</td>\n",
       "      <td>Black</td>\n",
       "      <td>2016-06-23</td>\n",
       "      <td>Wauwatosa</td>\n",
       "      <td>WI</td>\n",
       "      <td>53225.0</td>\n",
       "      <td>Milwaukee</td>\n",
       "      <td>Wauwatosa Police Department</td>\n",
       "      <td>gunshot</td>\n",
       "      <td>...</td>\n",
       "      <td>no</td>\n",
       "      <td>Allegedly Armed</td>\n",
       "      <td>gun</td>\n",
       "      <td>0.0</td>\n",
       "      <td>not fleeing</td>\n",
       "      <td>yes</td>\n",
       "      <td>Suburban</td>\n",
       "      <td>part 1 violent crime</td>\n",
       "      <td>traffic violation</td>\n",
       "      <td>0</td>\n",
       "    </tr>\n",
       "    <tr>\n",
       "      <th>4678</th>\n",
       "      <td>45</td>\n",
       "      <td>Male</td>\n",
       "      <td>Hispanic</td>\n",
       "      <td>2016-11-22</td>\n",
       "      <td>La Mirada</td>\n",
       "      <td>CA</td>\n",
       "      <td>90638.0</td>\n",
       "      <td>Los Angeles</td>\n",
       "      <td>Los Angeles County Sheriff's Department</td>\n",
       "      <td>gunshot</td>\n",
       "      <td>...</td>\n",
       "      <td>no</td>\n",
       "      <td>Allegedly Armed</td>\n",
       "      <td>gun</td>\n",
       "      <td>1.0</td>\n",
       "      <td>not fleeing</td>\n",
       "      <td>no</td>\n",
       "      <td>Suburban</td>\n",
       "      <td>part 1 violent crime</td>\n",
       "      <td>traffic violation</td>\n",
       "      <td>0</td>\n",
       "    </tr>\n",
       "  </tbody>\n",
       "</table>\n",
       "<p>5 rows × 23 columns</p>\n",
       "</div>"
      ],
      "text/plain": [
       "     age  gender      race        date           city state  zipcode  \\\n",
       "4090  54    Male     White  2017-06-07      Orrington    ME   4474.0   \n",
       "3171  24    Male     White  2018-04-01      Covington    LA  70433.0   \n",
       "1656  38  Female     White  2019-09-30  Mountain View    MO  65548.0   \n",
       "5117  25    Male     Black  2016-06-23      Wauwatosa    WI  53225.0   \n",
       "4678  45    Male  Hispanic  2016-11-22      La Mirada    CA  90638.0   \n",
       "\n",
       "           county                       agency_responsible cause_of_death  \\\n",
       "4090    Penobscot                       Maine State Police        gunshot   \n",
       "3171  St. Tammany      St. Tammany Parish Sheriff's Office        gunshot   \n",
       "1656       Howell          Mountain View Police Department        gunshot   \n",
       "5117    Milwaukee              Wauwatosa Police Department        gunshot   \n",
       "4678  Los Angeles  Los Angeles County Sheriff's Department        gunshot   \n",
       "\n",
       "      ... mental_illness armed_unarmed_status alleged_weapon  \\\n",
       "4090  ...             no      Allegedly Armed            gun   \n",
       "3171  ...             no      Allegedly Armed            gun   \n",
       "1656  ...             no              Vehicle        vehicle   \n",
       "5117  ...             no      Allegedly Armed            gun   \n",
       "4678  ...             no      Allegedly Armed            gun   \n",
       "\n",
       "     alleged_threat_lvl      fleeing body_camera  geography  \\\n",
       "4090                1.0  not fleeing          no      Rural   \n",
       "3171                1.0          car          no   Suburban   \n",
       "1656                1.0          car          no      Rural   \n",
       "5117                0.0  not fleeing         yes   Suburban   \n",
       "4678                1.0  not fleeing          no   Suburban   \n",
       "\n",
       "      encounter_type_draft   initial_reported_reason_for_encounter_draft  \\\n",
       "4090                 other  other (called in threats to law enforcement)   \n",
       "3171          traffic stop                  suspect (vehicle burglaries)   \n",
       "1656          traffic stop                             traffic violation   \n",
       "5117  part 1 violent crime                             traffic violation   \n",
       "4678  part 1 violent crime                             traffic violation   \n",
       "\n",
       "     known_past_shootings_of_Officer_draft  \n",
       "4090                                     0  \n",
       "3171                                     0  \n",
       "1656                                     0  \n",
       "5117                                     0  \n",
       "4678                                     0  \n",
       "\n",
       "[5 rows x 23 columns]"
      ]
     },
     "execution_count": 12,
     "metadata": {},
     "output_type": "execute_result"
    }
   ],
   "source": [
    "#split the data using the split function in prepare.py\n",
    "train, validate, test = split(df, stratify_by=\"alleged_threat_lvl\")\n",
    "\n",
    "#check split datasets\n",
    "print('overall shape of dataframe:', df.shape)\n",
    "print('train:', train.shape)\n",
    "print('validate:', validate.shape)\n",
    "print('test:', test.shape)\n",
    "\n",
    "#work w/ training data\n",
    "train.head()"
   ]
  },
  {
   "cell_type": "code",
   "execution_count": 13,
   "metadata": {
    "cell_id": "00011-2fb42839-2ee9-4c75-91af-95b6733dcf10",
    "deepnote_cell_type": "code",
    "deepnote_to_be_reexecuted": false,
    "execution_millis": 8,
    "execution_start": 1621640462785,
    "source_hash": "d5ebd9b4",
    "tags": []
   },
   "outputs": [
    {
     "name": "stdout",
     "output_type": "stream",
     "text": [
      "Mental Illness:\n",
      "no                     2314\n",
      "yes                     742\n",
      "unknown                 368\n",
      "drug or alcohol use      89\n",
      "Name: mental_illness, dtype: int64\n",
      "---------------------------------\n",
      "Threat Level\n",
      "1.0    2378\n",
      "0.0    1135\n",
      "Name: alleged_threat_lvl, dtype: int64\n"
     ]
    }
   ],
   "source": [
    "print(\"Mental Illness:\")\n",
    "print(train.mental_illness.value_counts())\n",
    "print(\"---------------------------------\")\n",
    "print(\"Threat Level\")\n",
    "print(train.alleged_threat_lvl.value_counts())"
   ]
  },
  {
   "cell_type": "code",
   "execution_count": 14,
   "metadata": {
    "cell_id": "00013-a89b2d01-da1b-4ad9-b82a-dc9b7d9f344e",
    "deepnote_cell_type": "code",
    "deepnote_to_be_reexecuted": false,
    "execution_millis": 195,
    "execution_start": 1621640462809,
    "source_hash": "fb6b78be",
    "tags": []
   },
   "outputs": [
    {
     "data": {
      "text/plain": [
       "<AxesSubplot:xlabel='mental_illness', ylabel='count'>"
      ]
     },
     "execution_count": 14,
     "metadata": {},
     "output_type": "execute_result"
    },
    {
     "data": {
      "image/png": "[encoded data removed]",
      "text/plain": [
       "<Figure size 432x288 with 1 Axes>"
      ]
     },
     "metadata": {
      "needs_background": "light"
     },
     "output_type": "display_data"
    }
   ],
   "source": [
    "sns.countplot(data=train, x='mental_illness', hue='alleged_threat_lvl')"
   ]
  },
  {
   "cell_type": "code",
   "execution_count": 15,
   "metadata": {
    "cell_id": "00015-816c2cd1-861e-4fb7-b720-831fc7077abc",
    "deepnote_cell_type": "code",
    "deepnote_to_be_reexecuted": false,
    "execution_millis": 550,
    "execution_start": 1621640463000,
    "source_hash": "f87a4b99",
    "tags": []
   },
   "outputs": [
    {
     "data": {
      "image/png": "[encoded data removed]",
      "text/plain": [
       "<Figure size 1152x360 with 4 Axes>"
      ]
     },
     "metadata": {
      "needs_background": "light"
     },
     "output_type": "display_data"
    }
   ],
   "source": [
    "g = sns.catplot(x=\"alleged_threat_lvl\", col=\"mental_illness\", col_wrap=4,\n",
    "                data=train,\n",
    "                kind=\"count\", height=5, aspect=.8)"
   ]
  },
  {
   "cell_type": "code",
   "execution_count": 16,
   "metadata": {
    "cell_id": "00014-3c9e35e1-fe42-4922-ab8f-eaf935b03afa",
    "deepnote_cell_type": "code",
    "deepnote_to_be_reexecuted": false,
    "execution_millis": 378,
    "execution_start": 1621640463594,
    "source_hash": "4e9c7eaa",
    "tags": []
   },
   "outputs": [
    {
     "data": {
      "image/png": "[encoded data removed]",
      "text/plain": [
       "<Figure size 1152x360 with 2 Axes>"
      ]
     },
     "metadata": {
      "needs_background": "light"
     },
     "output_type": "display_data"
    }
   ],
   "source": [
    "g = sns.catplot(x=\"mental_illness\", col=\"alleged_threat_lvl\", col_wrap=4,\n",
    "                data=train,\n",
    "                kind=\"count\", height=5, aspect=.8)"
   ]
  },
  {
   "cell_type": "markdown",
   "metadata": {
    "cell_id": "00015-5c551e56-6d72-4504-bdbc-40c95fdec9a4",
    "deepnote_cell_type": "markdown",
    "tags": []
   },
   "source": [
    "### Takeaways\n",
    "- people w/ no mental illness have been characterized as having an 'attack' threat level more often than not being attackers\n",
    "- there are alot more attacks/non-attacks overall for people not characterized as having a mental illnesses"
   ]
  },
  {
   "cell_type": "code",
   "execution_count": 17,
   "metadata": {
    "cell_id": "00015-a50e194a-ec3e-4381-ad5c-cec572ad561c",
    "deepnote_cell_type": "code",
    "deepnote_to_be_reexecuted": false,
    "execution_millis": 4,
    "execution_start": 1621640463970,
    "source_hash": "4ba19ec1",
    "tags": []
   },
   "outputs": [],
   "source": [
    "#hyp testing: Visualize if symptoms of mental illness play a role in threat level\n",
    "#this is a 2-sample t-test b/c comparing the means of 2 subgroups\n",
    "#this is also 2 tailed t-test b/c checking for any difference btwn the means (regardless of direction)\n",
    "\n",
    "#Setup\n",
    "null_hypothesis = \"there is no difference in threat level for people with or without mental illness.\"\n",
    "alternative_hypothesis = \"there is a difference in threat level for people with or without mental illness.\"\n",
    "#confidence_level = .95\n",
    "#alpha = 1 - confidence_level\n",
    "alpha = .05\n",
    "\n",
    "with_mi = train[train[\"mental_illness\"] == 'yes'].alleged_threat_lvl\n",
    "without_mi = train[train[\"mental_illness\"] == 'no'].alleged_threat_lvl\n",
    "without_mi = train[train[\"mental_illness\"] == 'unknown'].alleged_threat_lvl\n",
    "without_mi = train[train[\"mental_illness\"] == 'drug or alcohol use'].alleged_threat_lvl"
   ]
  },
  {
   "cell_type": "code",
   "execution_count": 18,
   "metadata": {
    "cell_id": "00019-4eb0d1f8-0b39-48b7-80dd-1ea9f6c43124",
    "deepnote_cell_type": "code",
    "deepnote_to_be_reexecuted": false,
    "execution_millis": 1,
    "execution_start": 1621640463991,
    "source_hash": "f31ae328",
    "tags": []
   },
   "outputs": [],
   "source": [
    "from scipy import stats"
   ]
  },
  {
   "cell_type": "code",
   "execution_count": 19,
   "metadata": {
    "cell_id": "00019-9a3cf1a0-5490-4795-82f7-1267b2ea6d6c",
    "deepnote_cell_type": "code",
    "deepnote_to_be_reexecuted": false,
    "execution_millis": 0,
    "execution_start": 1621640463992,
    "source_hash": "df1cd1f0",
    "tags": []
   },
   "outputs": [],
   "source": [
    "#.ttest_ind test of independence b/c 2 sample t-test \n",
    "t, p = stats.ttest_ind(with_mi, without_mi)"
   ]
  },
  {
   "cell_type": "code",
   "execution_count": 20,
   "metadata": {
    "cell_id": "00020-1af6f99f-e95b-4ee9-b519-ecb114f022fa",
    "deepnote_cell_type": "code",
    "deepnote_to_be_reexecuted": false,
    "execution_millis": 6,
    "execution_start": 1621640463992,
    "source_hash": "d7655c14",
    "tags": []
   },
   "outputs": [
    {
     "name": "stdout",
     "output_type": "stream",
     "text": [
      "We fail to reject the null hypothesis\n"
     ]
    }
   ],
   "source": [
    "if p < alpha:\n",
    "    print(\"We reject the null hypothesis that\", null_hypothesis)\n",
    "else:\n",
    "    print(\"We fail to reject the null hypothesis\")"
   ]
  },
  {
   "cell_type": "markdown",
   "metadata": {
    "cell_id": "00022-792f28e7-466c-4415-b3e7-c8b87efc23f5",
    "deepnote_cell_type": "markdown",
    "tags": []
   },
   "source": [
    "### Takeaway\n",
    "- T-test failed to reject the null hypothesis meaning there is not enough evidence to support the alternative. "
   ]
  },
  {
   "cell_type": "code",
   "execution_count": 21,
   "metadata": {
    "cell_id": "00028-5c04e235-2083-4c4c-ba49-f8eddaa3e032",
    "deepnote_cell_type": "code",
    "deepnote_to_be_reexecuted": false,
    "execution_millis": 27,
    "execution_start": 1621640463993,
    "source_hash": "224180b9",
    "tags": []
   },
   "outputs": [
    {
     "name": "stdout",
     "output_type": "stream",
     "text": [
      "Observed\n",
      "\n",
      "[[  28   61]\n",
      " [ 714 1600]\n",
      " [ 137  231]\n",
      " [ 256  486]]\n",
      "---\n",
      "Expected\n",
      "\n",
      "[[  28.75462568   60.24537432]\n",
      " [ 747.62026758 1566.37973242]\n",
      " [ 118.89553089  249.10446911]\n",
      " [ 239.72957586  502.27042414]]\n",
      "---\n",
      "\n",
      "chi^2 = 7.9667\n",
      "p     = 0.0467\n",
      "\n",
      "Because the p-value: 0.0467 is less than alpha: 0.05, we can reject the null hypothesis\n"
     ]
    }
   ],
   "source": [
    "#running chi2 instead b/c categorical vars\n",
    "explore.chi2(train, 'mental_illness', 'alleged_threat_lvl', alpha=0.05)"
   ]
  },
  {
   "cell_type": "markdown",
   "metadata": {
    "cell_id": "00024-610f435e-180d-4438-8514-88c55e842801",
    "deepnote_cell_type": "markdown",
    "tags": []
   },
   "source": [
    "### Takeaway\n",
    "- Chi^2 rejected the null hypothesis meaning we accept that mental status is dependent on alleged threat level.\n"
   ]
  },
  {
   "cell_type": "code",
   "execution_count": 22,
   "metadata": {
    "cell_id": "00018-c7f48308-9932-46da-bfa7-2ea9bf6e2f7b",
    "deepnote_cell_type": "code",
    "deepnote_to_be_reexecuted": false,
    "execution_millis": 225,
    "execution_start": 1621640464058,
    "source_hash": "46bf73a3",
    "tags": []
   },
   "outputs": [
    {
     "data": {
      "text/plain": [
       "<AxesSubplot:xlabel='race', ylabel='count'>"
      ]
     },
     "execution_count": 22,
     "metadata": {},
     "output_type": "execute_result"
    },
    {
     "data": {
      "image/png": "[encoded data removed]",
      "text/plain": [
       "<Figure size 1440x720 with 1 Axes>"
      ]
     },
     "metadata": {
      "needs_background": "light"
     },
     "output_type": "display_data"
    }
   ],
   "source": [
    "#visualize race vs alleged threat level\n",
    "plt.figure(figsize=(20, 10))\n",
    "sns.countplot(data=train, x='race', hue='alleged_threat_lvl')"
   ]
  },
  {
   "cell_type": "markdown",
   "metadata": {
    "cell_id": "00025-4d0a8d20-c3ba-4ba2-bddf-201cca4a6dcf",
    "deepnote_cell_type": "markdown",
    "tags": []
   },
   "source": [
    "### Takeaways\n",
    "- It appears as though all races are more often attacks than not\n",
    "- White race shows the most attackers/non-attackers\n",
    "- Black and hispanic race that result in non-attack threat level are almost at same level. \n",
    "- Asian, Native American, and Pacific Islander races have the least amount of attack/non-attack threat levels."
   ]
  },
  {
   "cell_type": "code",
   "execution_count": 23,
   "metadata": {
    "cell_id": "00025-3d057a44-6e13-42fe-bfc0-f973de677762",
    "deepnote_cell_type": "code",
    "deepnote_to_be_reexecuted": false,
    "execution_millis": 15,
    "execution_start": 1621640464268,
    "source_hash": "6c3137a9",
    "tags": []
   },
   "outputs": [
    {
     "data": {
      "text/plain": [
       "White               1535\n",
       "Black                886\n",
       "Hispanic             655\n",
       "Unknown Race         291\n",
       "Native American       56\n",
       "Asian                 53\n",
       "Pacific Islander      36\n",
       "Hispanic               1\n",
       "Name: race, dtype: int64"
      ]
     },
     "execution_count": 23,
     "metadata": {},
     "output_type": "execute_result"
    }
   ],
   "source": [
    "train.race.value_counts()"
   ]
  },
  {
   "cell_type": "code",
   "execution_count": 24,
   "metadata": {
    "cell_id": "00027-ee0bc1ed-ddba-44f8-a6ac-c0f1485a47bc",
    "deepnote_cell_type": "code",
    "deepnote_to_be_reexecuted": false,
    "execution_millis": 6,
    "execution_start": 1621640464272,
    "source_hash": "465bb8a",
    "tags": []
   },
   "outputs": [],
   "source": [
    "import explore"
   ]
  },
  {
   "cell_type": "code",
   "execution_count": 25,
   "metadata": {
    "cell_id": "00027-d3134c2c-9d40-465a-8f23-1bc75102ad73",
    "deepnote_cell_type": "code",
    "deepnote_to_be_reexecuted": false,
    "execution_millis": 18,
    "execution_start": 1621640464279,
    "source_hash": "93511dd5",
    "tags": []
   },
   "outputs": [
    {
     "name": "stdout",
     "output_type": "stream",
     "text": [
      "Observed\n",
      "\n",
      "[[  18   35]\n",
      " [ 276  610]\n",
      " [ 250  405]\n",
      " [   1    0]\n",
      " [  25   31]\n",
      " [  12   24]\n",
      " [  73  218]\n",
      " [ 480 1055]]\n",
      "---\n",
      "Expected\n",
      "\n",
      "[[1.71235411e+01 3.58764589e+01]\n",
      " [2.86253914e+02 5.99746086e+02]\n",
      " [2.11621122e+02 4.43378878e+02]\n",
      " [3.23085682e-01 6.76914318e-01]\n",
      " [1.80927982e+01 3.79072018e+01]\n",
      " [1.16310845e+01 2.43689155e+01]\n",
      " [9.40179334e+01 1.96982067e+02]\n",
      " [4.95936521e+02 1.03906348e+03]]\n",
      "---\n",
      "\n",
      "chi^2 = 24.5969\n",
      "p     = 0.0009\n",
      "\n",
      "Because the p-value: 0.0009 is less than alpha: 0.05, we can reject the null hypothesis\n"
     ]
    }
   ],
   "source": [
    "explore.chi2(train, 'race', 'alleged_threat_lvl', alpha=0.05)"
   ]
  },
  {
   "cell_type": "markdown",
   "metadata": {
    "cell_id": "00030-161e40e7-eb1c-4aa9-a71e-ffbadb299c0a",
    "deepnote_cell_type": "markdown",
    "tags": []
   },
   "source": [
    "### Takeaway\n",
    "- Chi^2 rejected the null hypothesis meaning we accept that race is dependent on alleged threat level."
   ]
  },
  {
   "cell_type": "code",
   "execution_count": 26,
   "metadata": {
    "cell_id": "00032-7308d900-6688-4e8e-8be8-728d4454a1b2",
    "deepnote_cell_type": "code",
    "deepnote_to_be_reexecuted": false,
    "execution_millis": 1,
    "execution_start": 1621640605358,
    "source_hash": "b0ab8020",
    "tags": []
   },
   "outputs": [],
   "source": [
    "#trying nlp\n",
    "import re\n",
    "import unicodedata\n",
    "import nltk\n",
    "from nltk.tokenize.toktok import ToktokTokenizer\n",
    "from nltk.corpus import stopwords"
   ]
  },
  {
   "cell_type": "code",
   "execution_count": 27,
   "metadata": {
    "cell_id": "00035-7eb6927b-57c7-47e1-b4a6-224055b35beb",
    "deepnote_cell_type": "code",
    "tags": []
   },
   "outputs": [
    {
     "data": {
      "text/html": [
       "<div>\n",
       "<style scoped>\n",
       "    .dataframe tbody tr th:only-of-type {\n",
       "        vertical-align: middle;\n",
       "    }\n",
       "\n",
       "    .dataframe tbody tr th {\n",
       "        vertical-align: top;\n",
       "    }\n",
       "\n",
       "    .dataframe thead th {\n",
       "        text-align: right;\n",
       "    }\n",
       "</style>\n",
       "<table border=\"1\" class=\"dataframe\">\n",
       "  <thead>\n",
       "    <tr style=\"text-align: right;\">\n",
       "      <th></th>\n",
       "      <th>description_of_circumstances</th>\n",
       "      <th>alleged_threat_lvl</th>\n",
       "    </tr>\n",
       "  </thead>\n",
       "  <tbody>\n",
       "    <tr>\n",
       "      <th>4090</th>\n",
       "      <td>Mark Ellis allegedly threatened police on the ...</td>\n",
       "      <td>1.0</td>\n",
       "    </tr>\n",
       "    <tr>\n",
       "      <th>3171</th>\n",
       "      <td>About 5 a.m., deputies attempted to pull over ...</td>\n",
       "      <td>1.0</td>\n",
       "    </tr>\n",
       "    <tr>\n",
       "      <th>1656</th>\n",
       "      <td>At approximately 11:30 p.m., an officer initia...</td>\n",
       "      <td>1.0</td>\n",
       "    </tr>\n",
       "    <tr>\n",
       "      <th>5117</th>\n",
       "      <td>Little has been released about this death. App...</td>\n",
       "      <td>0.0</td>\n",
       "    </tr>\n",
       "    <tr>\n",
       "      <th>4678</th>\n",
       "      <td>Deputies received a call about a robbery in pr...</td>\n",
       "      <td>1.0</td>\n",
       "    </tr>\n",
       "    <tr>\n",
       "      <th>...</th>\n",
       "      <td>...</td>\n",
       "      <td>...</td>\n",
       "    </tr>\n",
       "    <tr>\n",
       "      <th>4021</th>\n",
       "      <td>Police shot and killed Stephanie Lopez and inj...</td>\n",
       "      <td>1.0</td>\n",
       "    </tr>\n",
       "    <tr>\n",
       "      <th>2064</th>\n",
       "      <td>Derrec Shaw allegedly shot two people in midto...</td>\n",
       "      <td>1.0</td>\n",
       "    </tr>\n",
       "    <tr>\n",
       "      <th>2237</th>\n",
       "      <td>Daniel Moncada's parents called police to repo...</td>\n",
       "      <td>1.0</td>\n",
       "    </tr>\n",
       "    <tr>\n",
       "      <th>81</th>\n",
       "      <td>Police responded around 6:30 p.m. to a report ...</td>\n",
       "      <td>0.0</td>\n",
       "    </tr>\n",
       "    <tr>\n",
       "      <th>6578</th>\n",
       "      <td>Police responded to domestic disturbance invol...</td>\n",
       "      <td>1.0</td>\n",
       "    </tr>\n",
       "  </tbody>\n",
       "</table>\n",
       "<p>3513 rows × 2 columns</p>\n",
       "</div>"
      ],
      "text/plain": [
       "                           description_of_circumstances  alleged_threat_lvl\n",
       "4090  Mark Ellis allegedly threatened police on the ...                 1.0\n",
       "3171  About 5 a.m., deputies attempted to pull over ...                 1.0\n",
       "1656  At approximately 11:30 p.m., an officer initia...                 1.0\n",
       "5117  Little has been released about this death. App...                 0.0\n",
       "4678  Deputies received a call about a robbery in pr...                 1.0\n",
       "...                                                 ...                 ...\n",
       "4021  Police shot and killed Stephanie Lopez and inj...                 1.0\n",
       "2064  Derrec Shaw allegedly shot two people in midto...                 1.0\n",
       "2237  Daniel Moncada's parents called police to repo...                 1.0\n",
       "81    Police responded around 6:30 p.m. to a report ...                 0.0\n",
       "6578  Police responded to domestic disturbance invol...                 1.0\n",
       "\n",
       "[3513 rows x 2 columns]"
      ]
     },
     "execution_count": 27,
     "metadata": {},
     "output_type": "execute_result"
    }
   ],
   "source": [
    "nlp_explore = train[['description_of_circumstances', 'alleged_threat_lvl']]\n",
    "nlp_explore"
   ]
  },
  {
   "cell_type": "code",
   "execution_count": 28,
   "metadata": {
    "cell_id": "00033-e21cbf87-577b-4520-8d36-789364fcfc78",
    "deepnote_cell_type": "code",
    "deepnote_to_be_reexecuted": false,
    "execution_millis": 1,
    "execution_start": 1621640769879,
    "source_hash": "62a71197",
    "tags": []
   },
   "outputs": [],
   "source": [
    "ADDITIONAL_STOPWORDS = ['r', 'u', '2', 'ltgt']\n",
    "\n",
    "def clean(text):\n",
    "    '''\n",
    "    This function cleans up text data.\n",
    "    '''\n",
    "    \n",
    "    #lemmatize\n",
    "    wnl = nltk.stem.WordNetLemmatizer()\n",
    "    stopwords = nltk.corpus.stopwords.words('english') + ADDITIONAL_STOPWORDS\n",
    "    \n",
    "    #normalize\n",
    "    text = (unicodedata.normalize('NFKD', text)\n",
    "             .encode('ascii', 'ignore')\n",
    "             .decode('utf-8', 'ignore')\n",
    "             .lower())\n",
    "    words = re.sub(r'[^\\w\\s]', '', text).split()\n",
    "    \n",
    "    return ' '.join([wnl.lemmatize(word) for word in words if word not in stopwords])"
   ]
  },
  {
   "cell_type": "code",
   "execution_count": 29,
   "metadata": {
    "cell_id": "00034-581b51e0-c20a-47b3-addd-f98bc2593aff",
    "deepnote_cell_type": "code",
    "deepnote_to_be_reexecuted": false,
    "execution_millis": 425,
    "execution_start": 1621640838365,
    "source_hash": "59d71d34",
    "tags": []
   },
   "outputs": [],
   "source": [
    "#nlp_explore = nlp_explore.description_of_circumstances.apply(clean)"
   ]
  },
  {
   "cell_type": "code",
   "execution_count": 30,
   "metadata": {},
   "outputs": [],
   "source": [
    "#nlp_explore"
   ]
  },
  {
   "cell_type": "code",
   "execution_count": 31,
   "metadata": {},
   "outputs": [
    {
     "data": {
      "text/html": [
       "<div>\n",
       "<style scoped>\n",
       "    .dataframe tbody tr th:only-of-type {\n",
       "        vertical-align: middle;\n",
       "    }\n",
       "\n",
       "    .dataframe tbody tr th {\n",
       "        vertical-align: top;\n",
       "    }\n",
       "\n",
       "    .dataframe thead th {\n",
       "        text-align: right;\n",
       "    }\n",
       "</style>\n",
       "<table border=\"1\" class=\"dataframe\">\n",
       "  <thead>\n",
       "    <tr style=\"text-align: right;\">\n",
       "      <th></th>\n",
       "      <th>n</th>\n",
       "      <th>percent</th>\n",
       "    </tr>\n",
       "  </thead>\n",
       "  <tbody>\n",
       "    <tr>\n",
       "      <th>1.0</th>\n",
       "      <td>2378</td>\n",
       "      <td>0.68</td>\n",
       "    </tr>\n",
       "    <tr>\n",
       "      <th>0.0</th>\n",
       "      <td>1135</td>\n",
       "      <td>0.32</td>\n",
       "    </tr>\n",
       "  </tbody>\n",
       "</table>\n",
       "</div>"
      ],
      "text/plain": [
       "        n  percent\n",
       "1.0  2378     0.68\n",
       "0.0  1135     0.32"
      ]
     },
     "execution_count": 31,
     "metadata": {},
     "output_type": "execute_result"
    }
   ],
   "source": [
    "#check how many words appear for each threat level and percentage\n",
    "threats = pd.concat([train.alleged_threat_lvl.value_counts(),\n",
    "                    round(train.alleged_threat_lvl.value_counts(normalize=True), 2)], axis=1)\n",
    "\n",
    "threats.columns = ['n', 'percent']\n",
    "\n",
    "threats"
   ]
  },
  {
   "cell_type": "code",
   "execution_count": 32,
   "metadata": {},
   "outputs": [],
   "source": [
    "#breaking up data into each threat level\n",
    "\n",
    "#words that appear attacks\n",
    "attack_words = clean(' '.join(nlp_explore[nlp_explore.alleged_threat_lvl == 1.0].description_of_circumstances))\n",
    "\n",
    "#words that appear in non-attacks\n",
    "nonattack_words = clean(' '.join(nlp_explore[nlp_explore.alleged_threat_lvl == 0.0].description_of_circumstances))\n",
    "\n",
    "#all of the words \n",
    "all_words = clean(' '.join(nlp_explore.description_of_circumstances))"
   ]
  },
  {
   "cell_type": "code",
   "execution_count": 34,
   "metadata": {},
   "outputs": [
    {
     "name": "stdout",
     "output_type": "stream",
     "text": [
      "attack:\n",
      "officer     3182\n",
      "police      2917\n",
      "shot        2533\n",
      "killed      1802\n",
      "deputy      1308\n",
      "            ... \n",
      "bandon         1\n",
      "samara         1\n",
      "hammond        1\n",
      "unused         1\n",
      "eviction       1\n",
      "Length: 6888, dtype: int64\n",
      "--------------------------\n",
      "nonattack:\n",
      "officer        1448\n",
      "police         1364\n",
      "shot           1076\n",
      "killed          879\n",
      "man             664\n",
      "               ... \n",
      "200               1\n",
      "humberto          1\n",
      "minniefield       1\n",
      "gap               1\n",
      "wrongdoing        1\n",
      "Length: 4600, dtype: int64\n",
      "--------------------------\n",
      "All:\n",
      "officer       4630\n",
      "police        4281\n",
      "shot          3609\n",
      "killed        2681\n",
      "man           1926\n",
      "              ... \n",
      "millimeter       1\n",
      "lapds            1\n",
      "racetrac         1\n",
      "rally            1\n",
      "weighed          1\n",
      "Length: 8729, dtype: int64\n"
     ]
    }
   ],
   "source": [
    "#check how often each of the words occurs\n",
    "attack_freq = pd.Series(attack_words.split()).value_counts()\n",
    "nonattack_freq = pd.Series(nonattack_words.split()).value_counts()\n",
    "all_freq = pd.Series(all_words.split()).value_counts()\n",
    "\n",
    "print('attack:')\n",
    "print(attack_freq)\n",
    "print('--------------------------')\n",
    "print('nonattack:')\n",
    "print(nonattack_freq)\n",
    "print('--------------------------')\n",
    "print('All:')\n",
    "print(all_freq)"
   ]
  },
  {
   "cell_type": "code",
   "execution_count": 35,
   "metadata": {},
   "outputs": [
    {
     "name": "stdout",
     "output_type": "stream",
     "text": [
      "<class 'pandas.core.frame.DataFrame'>\n",
      "Index: 8729 entries, 1 to zyon\n",
      "Data columns (total 3 columns):\n",
      " #   Column     Non-Null Count  Dtype\n",
      "---  ------     --------------  -----\n",
      " 0   All        8729 non-null   int64\n",
      " 1   attack     8729 non-null   int64\n",
      " 2   nonattack  8729 non-null   int64\n",
      "dtypes: int64(3)\n",
      "memory usage: 272.8+ KB\n"
     ]
    }
   ],
   "source": [
    "#combine frequencies together to get one resulting df\n",
    "word_counts = (pd.concat([all_freq, \n",
    "                          attack_freq, \n",
    "                          nonattack_freq], axis=1, sort=True)\n",
    "                .set_axis(['All', \n",
    "                           'attack', \n",
    "                           'nonattack'], axis=1, inplace=False)\n",
    "                .fillna(0)\n",
    "                .apply(lambda s: s.astype(int)))\n",
    "\n",
    "word_counts.info()"
   ]
  },
  {
   "cell_type": "code",
   "execution_count": 36,
   "metadata": {
    "scrolled": true
   },
   "outputs": [
    {
     "data": {
      "text/html": [
       "<div>\n",
       "<style scoped>\n",
       "    .dataframe tbody tr th:only-of-type {\n",
       "        vertical-align: middle;\n",
       "    }\n",
       "\n",
       "    .dataframe tbody tr th {\n",
       "        vertical-align: top;\n",
       "    }\n",
       "\n",
       "    .dataframe thead th {\n",
       "        text-align: right;\n",
       "    }\n",
       "</style>\n",
       "<table border=\"1\" class=\"dataframe\">\n",
       "  <thead>\n",
       "    <tr style=\"text-align: right;\">\n",
       "      <th></th>\n",
       "      <th>All</th>\n",
       "      <th>attack</th>\n",
       "      <th>nonattack</th>\n",
       "    </tr>\n",
       "  </thead>\n",
       "  <tbody>\n",
       "    <tr>\n",
       "      <th>1</th>\n",
       "      <td>41</td>\n",
       "      <td>30</td>\n",
       "      <td>11</td>\n",
       "    </tr>\n",
       "    <tr>\n",
       "      <th>10</th>\n",
       "      <td>68</td>\n",
       "      <td>46</td>\n",
       "      <td>22</td>\n",
       "    </tr>\n",
       "    <tr>\n",
       "      <th>100</th>\n",
       "      <td>6</td>\n",
       "      <td>5</td>\n",
       "      <td>1</td>\n",
       "    </tr>\n",
       "    <tr>\n",
       "      <th>1005</th>\n",
       "      <td>1</td>\n",
       "      <td>0</td>\n",
       "      <td>1</td>\n",
       "    </tr>\n",
       "    <tr>\n",
       "      <th>1009</th>\n",
       "      <td>1</td>\n",
       "      <td>1</td>\n",
       "      <td>0</td>\n",
       "    </tr>\n",
       "  </tbody>\n",
       "</table>\n",
       "</div>"
      ],
      "text/plain": [
       "      All  attack  nonattack\n",
       "1      41      30         11\n",
       "10     68      46         22\n",
       "100     6       5          1\n",
       "1005    1       0          1\n",
       "1009    1       1          0"
      ]
     },
     "execution_count": 36,
     "metadata": {},
     "output_type": "execute_result"
    }
   ],
   "source": [
    "word_counts.head()"
   ]
  },
  {
   "cell_type": "code",
   "execution_count": null,
   "metadata": {},
   "outputs": [],
   "source": []
  },
  {
   "cell_type": "code",
   "execution_count": null,
   "metadata": {},
   "outputs": [],
   "source": []
  },
  {
   "cell_type": "code",
   "execution_count": null,
   "metadata": {},
   "outputs": [],
   "source": []
  },
  {
   "cell_type": "markdown",
   "metadata": {
    "created_in_deepnote_cell": true,
    "deepnote_cell_type": "markdown",
    "tags": []
   },
   "source": [
    "<a style='text-decoration:none;line-height:16px;display:flex;color:#5B5B62;padding:10px;justify-content:end;' href='https://deepnote.com?utm_source=created-in-deepnote-cell&projectId=258e71fc-cf2b-48c3-8461-70ecd9787aa1' target=\"_blank\">\n",
    "<img alt='Created in deepnote.com' style='display:inline;max-height:16px;margin:0px;margin-right:7.5px;' src='data:image/svg+xml;base64,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' > </img>\n",
    "Created in <span style='font-weight:600;margin-left:4px;'>Deepnote</span></a>"
   ]
  }
 ],
 "metadata": {
  "deepnote": {
   "is_reactive": false
  },
  "deepnote_execution_queue": [],
  "deepnote_notebook_id": "70fc0661-25cf-4876-be30-1c5f2a679c08",
  "kernelspec": {
   "display_name": "Python 3",
   "language": "python",
   "name": "python3"
  },
  "language_info": {
   "codemirror_mode": {
    "name": "ipython",
    "version": 3
   },
   "file_extension": ".py",
   "mimetype": "text/x-python",
   "name": "python",
   "nbconvert_exporter": "python",
   "pygments_lexer": "ipython3",
   "version": "3.8.5"
  }
 },
 "nbformat": 4,
 "nbformat_minor": 2
}
