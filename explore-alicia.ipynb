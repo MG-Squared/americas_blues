{
 "cells": [
  {
   "cell_type": "code",
   "metadata": {
    "tags": [],
    "deepnote_to_be_reexecuted": false,
    "source_hash": "306777c",
    "execution_start": 1621634983276,
    "execution_millis": 1517,
    "cell_id": "00000-b547ad97-4f98-4c50-9e22-f56d8d92f2f5",
    "deepnote_cell_type": "code"
   },
   "source": "import pandas as pd\nimport numpy as np\nfrom scipy import stats\n\n\nimport matplotlib.pyplot as plt\nimport seaborn as sns\nimport explore",
   "execution_count": 1,
   "outputs": []
  },
  {
   "cell_type": "code",
   "metadata": {
    "tags": [],
    "deepnote_to_be_reexecuted": false,
    "source_hash": "e08e6626",
    "execution_start": 1621634984795,
    "execution_millis": 135,
    "cell_id": "00001-accc30f2-e4a7-4049-911a-881c078242ea",
    "deepnote_cell_type": "code"
   },
   "source": "df = pd.read_csv('prepped_data.csv')\ndf.drop(columns='Unnamed: 0', inplace=True)\ndf.head()",
   "execution_count": 2,
   "outputs": [
    {
     "output_type": "execute_result",
     "execution_count": 2,
     "data": {
      "application/vnd.deepnote.dataframe.v2+json": {
       "row_count": 5,
       "column_count": 23,
       "columns": [
        {
         "name": "age",
         "dtype": "object",
         "stats": {
          "unique_count": 5,
          "nan_count": 0,
          "categories": [
           {
            "name": "24",
            "count": 1
           },
           {
            "name": "52",
            "count": 1
           },
           {
            "name": "3 others",
            "count": 3
           }
          ]
         }
        },
        {
         "name": "gender",
         "dtype": "object",
         "stats": {
          "unique_count": 1,
          "nan_count": 0,
          "categories": [
           {
            "name": "Male",
            "count": 5
           }
          ]
         }
        },
        {
         "name": "race",
         "dtype": "object",
         "stats": {
          "unique_count": 3,
          "nan_count": 0,
          "categories": [
           {
            "name": "Unknown Race",
            "count": 2
           },
           {
            "name": "White",
            "count": 2
           },
           {
            "name": "Black",
            "count": 1
           }
          ]
         }
        },
        {
         "name": "date",
         "dtype": "object",
         "stats": {
          "unique_count": 5,
          "nan_count": 0,
          "categories": [
           {
            "name": "2021-05-09",
            "count": 1
           },
           {
            "name": "2021-05-07",
            "count": 1
           },
           {
            "name": "3 others",
            "count": 3
           }
          ]
         }
        },
        {
         "name": "city",
         "dtype": "object",
         "stats": {
          "unique_count": 5,
          "nan_count": 0,
          "categories": [
           {
            "name": "Leicester",
            "count": 1
           },
           {
            "name": "Rutledge",
            "count": 1
           },
           {
            "name": "3 others",
            "count": 3
           }
          ]
         }
        },
        {
         "name": "state",
         "dtype": "object",
         "stats": {
          "unique_count": 5,
          "nan_count": 0,
          "categories": [
           {
            "name": "MA",
            "count": 1
           },
           {
            "name": "TN",
            "count": 1
           },
           {
            "name": "3 others",
            "count": 3
           }
          ]
         }
        },
        {
         "name": "zipcode",
         "dtype": "float64",
         "stats": {
          "unique_count": 5,
          "nan_count": 0,
          "min": "1524.0",
          "max": "95249.0",
          "histogram": [
           {
            "bin_start": 1524,
            "bin_end": 10896.5,
            "count": 1
           },
           {
            "bin_start": 10896.5,
            "bin_end": 20269,
            "count": 0
           },
           {
            "bin_start": 20269,
            "bin_end": 29641.5,
            "count": 0
           },
           {
            "bin_start": 29641.5,
            "bin_end": 39014,
            "count": 1
           },
           {
            "bin_start": 39014,
            "bin_end": 48386.5,
            "count": 1
           },
           {
            "bin_start": 48386.5,
            "bin_end": 57759,
            "count": 0
           },
           {
            "bin_start": 57759,
            "bin_end": 67131.5,
            "count": 0
           },
           {
            "bin_start": 67131.5,
            "bin_end": 76504,
            "count": 0
           },
           {
            "bin_start": 76504,
            "bin_end": 85876.5,
            "count": 0
           },
           {
            "bin_start": 85876.5,
            "bin_end": 95249,
            "count": 2
           }
          ]
         }
        },
        {
         "name": "county",
         "dtype": "object",
         "stats": {
          "unique_count": 5,
          "nan_count": 0,
          "categories": [
           {
            "name": "Worcester",
            "count": 1
           },
           {
            "name": "Grainger",
            "count": 1
           },
           {
            "name": "3 others",
            "count": 3
           }
          ]
         }
        },
        {
         "name": "agency_responsible",
         "dtype": "object",
         "stats": {
          "unique_count": 5,
          "nan_count": 0,
          "categories": [
           {
            "name": "Leicester Police Department",
            "count": 1
           },
           {
            "name": "Bean Station Police Department, Rutledge Police Department",
            "count": 1
           },
           {
            "name": "3 others",
            "count": 3
           }
          ]
         }
        },
        {
         "name": "cause_of_death",
         "dtype": "object",
         "stats": {
          "unique_count": 1,
          "nan_count": 0,
          "categories": [
           {
            "name": "gunshot",
            "count": 5
           }
          ]
         }
        },
        {
         "name": "description_of_circumstances",
         "dtype": "object",
         "stats": {
          "unique_count": 5,
          "nan_count": 0,
          "categories": [
           {
            "name": "A man allegedly crashed an SUV into the Leicester Police Station, repeatedly ramming his vehicle into the front doors until he gained entry into the building. Responding officers saw the SUV in the front door and encountered the man. Police claim the man placed a rifle on his shoulder and aimed it at the officers. The police officers shot and killed him.",
            "count": 1
           },
           {
            "name": "Deputies responded to reports of a man shooting a gun inside a home. When deputies arrived, they made contact with the man. While encountering the subject, an officer with the Bean Station PD and an officer with Rutledge PD fired at the man, killing him. No other details are available concerning the shooting at this time. ",
            "count": 1
           },
           {
            "name": "3 others",
            "count": 3
           }
          ]
         }
        },
        {
         "name": "official_disposition",
         "dtype": "object",
         "stats": {
          "unique_count": 1,
          "nan_count": 0,
          "categories": [
           {
            "name": "Pending investigation",
            "count": 5
           }
          ]
         }
        },
        {
         "name": "criminal_charges_filed",
         "dtype": "object",
         "stats": {
          "unique_count": 1,
          "nan_count": 0,
          "categories": [
           {
            "name": "No known charges",
            "count": 5
           }
          ]
         }
        },
        {
         "name": "mental_illness",
         "dtype": "object",
         "stats": {
          "unique_count": 1,
          "nan_count": 0,
          "categories": [
           {
            "name": "no",
            "count": 5
           }
          ]
         }
        },
        {
         "name": "armed_unarmed_status",
         "dtype": "object",
         "stats": {
          "unique_count": 1,
          "nan_count": 0,
          "categories": [
           {
            "name": "Allegedly Armed",
            "count": 5
           }
          ]
         }
        },
        {
         "name": "alleged_weapon",
         "dtype": "object",
         "stats": {
          "unique_count": 1,
          "nan_count": 0,
          "categories": [
           {
            "name": "gun",
            "count": 5
           }
          ]
         }
        },
        {
         "name": "alleged_threat_lvl",
         "dtype": "object",
         "stats": {
          "unique_count": 2,
          "nan_count": 0,
          "categories": [
           {
            "name": "attack",
            "count": 3
           },
           {
            "name": "other",
            "count": 2
           }
          ]
         }
        },
        {
         "name": "fleeing",
         "dtype": "object",
         "stats": {
          "unique_count": 2,
          "nan_count": 0,
          "categories": [
           {
            "name": "not fleeing",
            "count": 4
           },
           {
            "name": "car",
            "count": 1
           }
          ]
         }
        },
        {
         "name": "body_camera",
         "dtype": "object",
         "stats": {
          "unique_count": 1,
          "nan_count": 0,
          "categories": [
           {
            "name": "no",
            "count": 5
           }
          ]
         }
        },
        {
         "name": "geography",
         "dtype": "object",
         "stats": {
          "unique_count": 3,
          "nan_count": 0,
          "categories": [
           {
            "name": "Suburban",
            "count": 2
           },
           {
            "name": "Rural",
            "count": 2
           },
           {
            "name": "Urban",
            "count": 1
           }
          ]
         }
        },
        {
         "name": "encounter_type_draft",
         "dtype": "object",
         "stats": {
          "unique_count": 2,
          "nan_count": 0,
          "categories": [
           {
            "name": "part 1 violent crime",
            "count": 4
           },
           {
            "name": "other",
            "count": 1
           }
          ]
         }
        },
        {
         "name": "initial_reported_reason_for_encounter_draft",
         "dtype": "object",
         "stats": {
          "unique_count": 3,
          "nan_count": 0,
          "categories": [
           {
            "name": "shooting",
            "count": 3
           },
           {
            "name": "deliberate car crash",
            "count": 1
           },
           {
            "name": "hostage situation",
            "count": 1
           }
          ]
         }
        },
        {
         "name": "known_past_shootings_of_Officer_draft",
         "dtype": "int64",
         "stats": {
          "unique_count": 1,
          "nan_count": 0,
          "min": "0",
          "max": "0",
          "histogram": [
           {
            "bin_start": -0.5,
            "bin_end": -0.4,
            "count": 0
           },
           {
            "bin_start": -0.4,
            "bin_end": -0.3,
            "count": 0
           },
           {
            "bin_start": -0.3,
            "bin_end": -0.19999999999999996,
            "count": 0
           },
           {
            "bin_start": -0.19999999999999996,
            "bin_end": -0.09999999999999998,
            "count": 0
           },
           {
            "bin_start": -0.09999999999999998,
            "bin_end": 0,
            "count": 0
           },
           {
            "bin_start": 0,
            "bin_end": 0.10000000000000009,
            "count": 5
           },
           {
            "bin_start": 0.10000000000000009,
            "bin_end": 0.20000000000000007,
            "count": 0
           },
           {
            "bin_start": 0.20000000000000007,
            "bin_end": 0.30000000000000004,
            "count": 0
           },
           {
            "bin_start": 0.30000000000000004,
            "bin_end": 0.4,
            "count": 0
           },
           {
            "bin_start": 0.4,
            "bin_end": 0.5,
            "count": 0
           }
          ]
         }
        },
        {
         "name": "_deepnote_index_column",
         "dtype": "int64"
        }
       ],
       "rows_top": [
        {
         "age": "24",
         "gender": "Male",
         "race": "Unknown Race",
         "date": "2021-05-09",
         "city": "Leicester",
         "state": "MA",
         "zipcode": 1524,
         "county": "Worcester",
         "agency_responsible": "Leicester Police Department",
         "cause_of_death": "gunshot",
         "description_of_circumstances": "A man allegedly crashed an SUV into the Leicester Police Station, repeatedly ramming his vehicle into the front doors until he gained entry into the building. Responding officers saw the SUV in the front door and encountered the man. Police claim the man placed a rifle on his shoulder and aimed it at the officers. The police officers shot and killed him.",
         "official_disposition": "Pending investigation",
         "criminal_charges_filed": "No known charges",
         "mental_illness": "no",
         "armed_unarmed_status": "Allegedly Armed",
         "alleged_weapon": "gun",
         "alleged_threat_lvl": "attack",
         "fleeing": "not fleeing",
         "body_camera": "no",
         "geography": "Suburban",
         "encounter_type_draft": "other",
         "initial_reported_reason_for_encounter_draft": "deliberate car crash",
         "known_past_shootings_of_Officer_draft": 0,
         "_deepnote_index_column": 0
        },
        {
         "age": "52",
         "gender": "Male",
         "race": "Unknown Race",
         "date": "2021-05-07",
         "city": "Rutledge",
         "state": "TN",
         "zipcode": 37861,
         "county": "Grainger",
         "agency_responsible": "Bean Station Police Department, Rutledge Police Department",
         "cause_of_death": "gunshot",
         "description_of_circumstances": "Deputies responded to reports of a man shooting a gun inside a home. When deputies arrived, they made contact with the man. While encountering the subject, an officer with the Bean Station PD and an officer with Rutledge PD fired at the man, killing him. No other details are available concerning the shooting at this time. ",
         "official_disposition": "Pending investigation",
         "criminal_charges_filed": "No known charges",
         "mental_illness": "no",
         "armed_unarmed_status": "Allegedly Armed",
         "alleged_weapon": "gun",
         "alleged_threat_lvl": "attack",
         "fleeing": "not fleeing",
         "body_camera": "no",
         "geography": "Rural",
         "encounter_type_draft": "part 1 violent crime",
         "initial_reported_reason_for_encounter_draft": "shooting",
         "known_past_shootings_of_Officer_draft": 0,
         "_deepnote_index_column": 1
        },
        {
         "age": "47",
         "gender": "Male",
         "race": "White",
         "date": "2021-05-06",
         "city": "San Andreas",
         "state": "CA",
         "zipcode": 95249,
         "county": "Calaveras",
         "agency_responsible": "Calaveras County Sheriff's Office",
         "cause_of_death": "gunshot",
         "description_of_circumstances": "Around 10:30 p.m., dispatchers got a call about an argument between a man and a woman at the Sierra Inn Motel. During the incident, the man allegedly pointed a gun at the woman's head. The suspect left before deputies arrived. A search started, and the man shot a deputy who was interviewing the victim. Police started searching the apartment complex. Eventually, the man emerged from an apartment holding an elderly woman hostage with a gun. Officers shot and killed Mark Aitulagi Lavea and shot and wounded the hostage.",
         "official_disposition": "Pending investigation",
         "criminal_charges_filed": "No known charges",
         "mental_illness": "no",
         "armed_unarmed_status": "Allegedly Armed",
         "alleged_weapon": "gun",
         "alleged_threat_lvl": "other",
         "fleeing": "not fleeing",
         "body_camera": "no",
         "geography": "Rural",
         "encounter_type_draft": "part 1 violent crime",
         "initial_reported_reason_for_encounter_draft": "hostage situation",
         "known_past_shootings_of_Officer_draft": 0,
         "_deepnote_index_column": 2
        },
        {
         "age": "49",
         "gender": "Male",
         "race": "White",
         "date": "2021-05-05",
         "city": "Las Vegas",
         "state": "NV",
         "zipcode": 89104,
         "county": "Clark",
         "agency_responsible": "Las Vegas Metropolitan Police Department",
         "cause_of_death": "gunshot",
         "description_of_circumstances": "Officers responded to a report of gunshots at an apartment complex. Arriving officers allegedly encountered two men running through the complex, one of whom they claim was armed with a firearm. The two men were taken into custody and informed officers they were shot at by Holt. Officers went to Holt's apartment and allegedly witnessed him fire one round before going back inside. Officers began to set up a perimeter, when Holt allegedly exited the apartment with a gun. Officer Erik Lindberg shot and killed Holt. ",
         "official_disposition": "Pending investigation",
         "criminal_charges_filed": "No known charges",
         "mental_illness": "no",
         "armed_unarmed_status": "Allegedly Armed",
         "alleged_weapon": "gun",
         "alleged_threat_lvl": "attack",
         "fleeing": "not fleeing",
         "body_camera": "no",
         "geography": "Urban",
         "encounter_type_draft": "part 1 violent crime",
         "initial_reported_reason_for_encounter_draft": "shooting",
         "known_past_shootings_of_Officer_draft": 0,
         "_deepnote_index_column": 3
        },
        {
         "age": "30",
         "gender": "Male",
         "race": "Black",
         "date": "2021-05-03",
         "city": "Biloxi",
         "state": "MS",
         "zipcode": 39532,
         "county": "Harrison",
         "agency_responsible": "Biloxi Police Department",
         "cause_of_death": "gunshot",
         "description_of_circumstances": "Police were searching for an alleged kidnapper and double-murder suspect, Eric Smith. Smith was killed he exchanged gunfire with officers. Police also shot and killed the baby La'Mello Parker.",
         "official_disposition": "Pending investigation",
         "criminal_charges_filed": "No known charges",
         "mental_illness": "no",
         "armed_unarmed_status": "Allegedly Armed",
         "alleged_weapon": "gun",
         "alleged_threat_lvl": "other",
         "fleeing": "car",
         "body_camera": "no",
         "geography": "Suburban",
         "encounter_type_draft": "part 1 violent crime",
         "initial_reported_reason_for_encounter_draft": "shooting",
         "known_past_shootings_of_Officer_draft": 0,
         "_deepnote_index_column": 4
        }
       ],
       "rows_bottom": null
      },
      "text/plain": "  age gender          race        date         city state  zipcode     county  \\\n0  24   Male  Unknown Race  2021-05-09    Leicester    MA   1524.0  Worcester   \n1  52   Male  Unknown Race  2021-05-07     Rutledge    TN  37861.0   Grainger   \n2  47   Male         White  2021-05-06  San Andreas    CA  95249.0  Calaveras   \n3  49   Male         White  2021-05-05    Las Vegas    NV  89104.0      Clark   \n4  30   Male         Black  2021-05-03       Biloxi    MS  39532.0   Harrison   \n\n                                  agency_responsible cause_of_death  ...  \\\n0                        Leicester Police Department        gunshot  ...   \n1  Bean Station Police Department, Rutledge Polic...        gunshot  ...   \n2                  Calaveras County Sheriff's Office        gunshot  ...   \n3           Las Vegas Metropolitan Police Department        gunshot  ...   \n4                           Biloxi Police Department        gunshot  ...   \n\n  mental_illness armed_unarmed_status alleged_weapon alleged_threat_lvl  \\\n0             no      Allegedly Armed            gun             attack   \n1             no      Allegedly Armed            gun             attack   \n2             no      Allegedly Armed            gun              other   \n3             no      Allegedly Armed            gun             attack   \n4             no      Allegedly Armed            gun              other   \n\n       fleeing body_camera geography  encounter_type_draft  \\\n0  not fleeing          no  Suburban                 other   \n1  not fleeing          no     Rural  part 1 violent crime   \n2  not fleeing          no     Rural  part 1 violent crime   \n3  not fleeing          no     Urban  part 1 violent crime   \n4          car          no  Suburban  part 1 violent crime   \n\n  initial_reported_reason_for_encounter_draft  \\\n0                        deliberate car crash   \n1                                    shooting   \n2                           hostage situation   \n3                                    shooting   \n4                                    shooting   \n\n  known_past_shootings_of_Officer_draft  \n0                                     0  \n1                                     0  \n2                                     0  \n3                                     0  \n4                                     0  \n\n[5 rows x 23 columns]",
      "text/html": "<div>\n<style scoped>\n    .dataframe tbody tr th:only-of-type {\n        vertical-align: middle;\n    }\n\n    .dataframe tbody tr th {\n        vertical-align: top;\n    }\n\n    .dataframe thead th {\n        text-align: right;\n    }\n</style>\n<table border=\"1\" class=\"dataframe\">\n  <thead>\n    <tr style=\"text-align: right;\">\n      <th></th>\n      <th>age</th>\n      <th>gender</th>\n      <th>race</th>\n      <th>date</th>\n      <th>city</th>\n      <th>state</th>\n      <th>zipcode</th>\n      <th>county</th>\n      <th>agency_responsible</th>\n      <th>cause_of_death</th>\n      <th>...</th>\n      <th>mental_illness</th>\n      <th>armed_unarmed_status</th>\n      <th>alleged_weapon</th>\n      <th>alleged_threat_lvl</th>\n      <th>fleeing</th>\n      <th>body_camera</th>\n      <th>geography</th>\n      <th>encounter_type_draft</th>\n      <th>initial_reported_reason_for_encounter_draft</th>\n      <th>known_past_shootings_of_Officer_draft</th>\n    </tr>\n  </thead>\n  <tbody>\n    <tr>\n      <th>0</th>\n      <td>24</td>\n      <td>Male</td>\n      <td>Unknown Race</td>\n      <td>2021-05-09</td>\n      <td>Leicester</td>\n      <td>MA</td>\n      <td>1524.0</td>\n      <td>Worcester</td>\n      <td>Leicester Police Department</td>\n      <td>gunshot</td>\n      <td>...</td>\n      <td>no</td>\n      <td>Allegedly Armed</td>\n      <td>gun</td>\n      <td>attack</td>\n      <td>not fleeing</td>\n      <td>no</td>\n      <td>Suburban</td>\n      <td>other</td>\n      <td>deliberate car crash</td>\n      <td>0</td>\n    </tr>\n    <tr>\n      <th>1</th>\n      <td>52</td>\n      <td>Male</td>\n      <td>Unknown Race</td>\n      <td>2021-05-07</td>\n      <td>Rutledge</td>\n      <td>TN</td>\n      <td>37861.0</td>\n      <td>Grainger</td>\n      <td>Bean Station Police Department, Rutledge Polic...</td>\n      <td>gunshot</td>\n      <td>...</td>\n      <td>no</td>\n      <td>Allegedly Armed</td>\n      <td>gun</td>\n      <td>attack</td>\n      <td>not fleeing</td>\n      <td>no</td>\n      <td>Rural</td>\n      <td>part 1 violent crime</td>\n      <td>shooting</td>\n      <td>0</td>\n    </tr>\n    <tr>\n      <th>2</th>\n      <td>47</td>\n      <td>Male</td>\n      <td>White</td>\n      <td>2021-05-06</td>\n      <td>San Andreas</td>\n      <td>CA</td>\n      <td>95249.0</td>\n      <td>Calaveras</td>\n      <td>Calaveras County Sheriff's Office</td>\n      <td>gunshot</td>\n      <td>...</td>\n      <td>no</td>\n      <td>Allegedly Armed</td>\n      <td>gun</td>\n      <td>other</td>\n      <td>not fleeing</td>\n      <td>no</td>\n      <td>Rural</td>\n      <td>part 1 violent crime</td>\n      <td>hostage situation</td>\n      <td>0</td>\n    </tr>\n    <tr>\n      <th>3</th>\n      <td>49</td>\n      <td>Male</td>\n      <td>White</td>\n      <td>2021-05-05</td>\n      <td>Las Vegas</td>\n      <td>NV</td>\n      <td>89104.0</td>\n      <td>Clark</td>\n      <td>Las Vegas Metropolitan Police Department</td>\n      <td>gunshot</td>\n      <td>...</td>\n      <td>no</td>\n      <td>Allegedly Armed</td>\n      <td>gun</td>\n      <td>attack</td>\n      <td>not fleeing</td>\n      <td>no</td>\n      <td>Urban</td>\n      <td>part 1 violent crime</td>\n      <td>shooting</td>\n      <td>0</td>\n    </tr>\n    <tr>\n      <th>4</th>\n      <td>30</td>\n      <td>Male</td>\n      <td>Black</td>\n      <td>2021-05-03</td>\n      <td>Biloxi</td>\n      <td>MS</td>\n      <td>39532.0</td>\n      <td>Harrison</td>\n      <td>Biloxi Police Department</td>\n      <td>gunshot</td>\n      <td>...</td>\n      <td>no</td>\n      <td>Allegedly Armed</td>\n      <td>gun</td>\n      <td>other</td>\n      <td>car</td>\n      <td>no</td>\n      <td>Suburban</td>\n      <td>part 1 violent crime</td>\n      <td>shooting</td>\n      <td>0</td>\n    </tr>\n  </tbody>\n</table>\n<p>5 rows × 23 columns</p>\n</div>"
     },
     "metadata": {}
    }
   ]
  },
  {
   "cell_type": "code",
   "metadata": {
    "tags": [],
    "cell_id": "00002-2e4c0b96-86ae-4719-b15e-8e9098d021b7",
    "deepnote_to_be_reexecuted": false,
    "source_hash": "14f60b8f",
    "execution_start": 1621634984927,
    "execution_millis": 8,
    "deepnote_cell_type": "code"
   },
   "source": "df.shape",
   "execution_count": 3,
   "outputs": [
    {
     "output_type": "execute_result",
     "execution_count": 3,
     "data": {
      "text/plain": "(6624, 23)"
     },
     "metadata": {}
    }
   ]
  },
  {
   "cell_type": "code",
   "source": "df.isnull().sum()",
   "metadata": {
    "tags": [],
    "cell_id": "00003-1725ab43-8bf0-4af6-aafb-ba466b8e1c50",
    "deepnote_to_be_reexecuted": false,
    "source_hash": "f3dd26da",
    "execution_start": 1621634984938,
    "execution_millis": 12,
    "deepnote_cell_type": "code"
   },
   "outputs": [
    {
     "output_type": "execute_result",
     "execution_count": 4,
     "data": {
      "text/plain": "age                                            0\ngender                                         0\nrace                                           0\ndate                                           0\ncity                                           0\nstate                                          0\nzipcode                                        0\ncounty                                         0\nagency_responsible                             0\ncause_of_death                                 0\ndescription_of_circumstances                   0\nofficial_disposition                           0\ncriminal_charges_filed                         0\nmental_illness                                 0\narmed_unarmed_status                           0\nalleged_weapon                                 0\nalleged_threat_lvl                             0\nfleeing                                        0\nbody_camera                                    0\ngeography                                      0\nencounter_type_draft                           0\ninitial_reported_reason_for_encounter_draft    0\nknown_past_shootings_of_Officer_draft          0\ndtype: int64"
     },
     "metadata": {}
    }
   ],
   "execution_count": 4
  },
  {
   "cell_type": "code",
   "source": "df.info()",
   "metadata": {
    "tags": [],
    "cell_id": "00004-1bc32dc3-d849-4d23-b848-52583b8c3d14",
    "deepnote_to_be_reexecuted": false,
    "source_hash": "de1e323c",
    "execution_start": 1621634984955,
    "execution_millis": 36,
    "deepnote_cell_type": "code"
   },
   "outputs": [
    {
     "name": "stdout",
     "text": "<class 'pandas.core.frame.DataFrame'>\nRangeIndex: 6624 entries, 0 to 6623\nData columns (total 23 columns):\n #   Column                                       Non-Null Count  Dtype  \n---  ------                                       --------------  -----  \n 0   age                                          6624 non-null   object \n 1   gender                                       6624 non-null   object \n 2   race                                         6624 non-null   object \n 3   date                                         6624 non-null   object \n 4   city                                         6624 non-null   object \n 5   state                                        6624 non-null   object \n 6   zipcode                                      6624 non-null   float64\n 7   county                                       6624 non-null   object \n 8   agency_responsible                           6624 non-null   object \n 9   cause_of_death                               6624 non-null   object \n 10  description_of_circumstances                 6624 non-null   object \n 11  official_disposition                         6624 non-null   object \n 12  criminal_charges_filed                       6624 non-null   object \n 13  mental_illness                               6624 non-null   object \n 14  armed_unarmed_status                         6624 non-null   object \n 15  alleged_weapon                               6624 non-null   object \n 16  alleged_threat_lvl                           6624 non-null   object \n 17  fleeing                                      6624 non-null   object \n 18  body_camera                                  6624 non-null   object \n 19  geography                                    6624 non-null   object \n 20  encounter_type_draft                         6624 non-null   object \n 21  initial_reported_reason_for_encounter_draft  6624 non-null   object \n 22  known_past_shootings_of_Officer_draft        6624 non-null   int64  \ndtypes: float64(1), int64(1), object(21)\nmemory usage: 1.2+ MB\n",
     "output_type": "stream"
    }
   ],
   "execution_count": 5
  },
  {
   "cell_type": "markdown",
   "source": "### Visualize if symptoms of mental illness play a role in threat level\n",
   "metadata": {
    "tags": [],
    "cell_id": "00005-2cb9fe62-107b-4916-90eb-26d4e2a93220",
    "deepnote_cell_type": "markdown"
   }
  },
  {
   "cell_type": "code",
   "source": "#check mental_illness and target var threat level value_counts()\nprint(\"Mental Illness:\")\nprint(df.mental_illness.value_counts())\nprint(\"---------------------------------\")\nprint(\"Threat Level\")\nprint(df.alleged_threat_lvl.value_counts())",
   "metadata": {
    "tags": [],
    "cell_id": "00005-e1e7d18f-47b5-4f7c-91e1-5f9143cfe8c9",
    "deepnote_to_be_reexecuted": false,
    "source_hash": "472286a",
    "execution_start": 1621634984972,
    "execution_millis": 20,
    "deepnote_cell_type": "code"
   },
   "outputs": [
    {
     "name": "stdout",
     "text": "Mental Illness:\nno                     4409\nyes                    1333\nunknown                 702\ndrug or alcohol use     180\nName: mental_illness, dtype: int64\n---------------------------------\nThreat Level\nattack          4248\nother           2025\nundetermined     349\nOther              1\nnone               1\nName: alleged_threat_lvl, dtype: int64\n",
     "output_type": "stream"
    }
   ],
   "execution_count": 6
  },
  {
   "cell_type": "code",
   "source": "df.alleged_threat_lvl = np.where(df['alleged_threat_lvl'].str.contains('Other'), \"other\", df.alleged_threat_lvl)\ndf.alleged_threat_lvl.value_counts()",
   "metadata": {
    "tags": [],
    "cell_id": "00007-bf56da9c-2fb9-4894-b99e-3a8673d91c74",
    "deepnote_to_be_reexecuted": false,
    "source_hash": "74462bfc",
    "execution_start": 1621634984983,
    "execution_millis": 11,
    "deepnote_cell_type": "code"
   },
   "outputs": [
    {
     "output_type": "execute_result",
     "execution_count": 7,
     "data": {
      "text/plain": "attack          4248\nother           2026\nundetermined     349\nnone               1\nName: alleged_threat_lvl, dtype: int64"
     },
     "metadata": {}
    }
   ],
   "execution_count": 7
  },
  {
   "cell_type": "code",
   "source": "#drop undetermined and none col for now\n#replace attack w/ 1 and other w/ 0\ndf.alleged_threat_lvl = df.alleged_threat_lvl.str.lower().replace('undetermined', np.nan).replace('none', np.nan).replace('attack', 1).replace('other', 0)\n\n\ndf.alleged_threat_lvl.value_counts()",
   "metadata": {
    "tags": [],
    "cell_id": "00008-3b845288-bcef-4042-834d-fdb4ff666018",
    "deepnote_to_be_reexecuted": false,
    "source_hash": "2493d18b",
    "execution_start": 1621634985023,
    "execution_millis": 9,
    "deepnote_cell_type": "code"
   },
   "outputs": [
    {
     "output_type": "execute_result",
     "execution_count": 8,
     "data": {
      "text/plain": "1.0    4248\n0.0    2026\nName: alleged_threat_lvl, dtype: int64"
     },
     "metadata": {}
    }
   ],
   "execution_count": 8
  },
  {
   "cell_type": "code",
   "source": "#drop nans\ndf.dropna(inplace=True)",
   "metadata": {
    "tags": [],
    "cell_id": "00009-18eed5d4-8486-4053-ad66-43468ecb1a19",
    "deepnote_to_be_reexecuted": false,
    "source_hash": "a0b9357f",
    "execution_start": 1621634985023,
    "execution_millis": 0,
    "deepnote_cell_type": "code"
   },
   "outputs": [],
   "execution_count": 9
  },
  {
   "cell_type": "code",
   "source": "#import train, test, split\nfrom sklearn.model_selection import train_test_split",
   "metadata": {
    "tags": [],
    "cell_id": "00009-86110221-b04a-4d05-a01d-773696790531",
    "deepnote_to_be_reexecuted": false,
    "source_hash": "7748fd36",
    "execution_start": 1621634985024,
    "execution_millis": 0,
    "deepnote_cell_type": "code"
   },
   "outputs": [],
   "execution_count": 10
  },
  {
   "cell_type": "code",
   "source": "#function to split data\ndef split(df, stratify_by=None):\n    \"\"\"\n    Crude train, validate, test split\n    To stratify, send in a column name\n    \"\"\"\n    \n    if stratify_by == None:\n        train, test = train_test_split(df, test_size=.2, random_state=123)\n        train, validate = train_test_split(train, test_size=.3, random_state=123)\n    else:\n        train, test = train_test_split(df, test_size=.2, random_state=123, stratify=df[stratify_by])\n        train, validate = train_test_split(train, test_size=.3, random_state=123, stratify=train[stratify_by])\n    \n    return train, validate, test",
   "metadata": {
    "tags": [],
    "cell_id": "00006-9a6ce5f7-d7fb-4882-9a31-ca0824853966",
    "deepnote_to_be_reexecuted": false,
    "source_hash": "9a7c7c88",
    "execution_start": 1621634985025,
    "execution_millis": 0,
    "deepnote_cell_type": "code"
   },
   "outputs": [],
   "execution_count": 11
  },
  {
   "cell_type": "code",
   "source": "#split the data using the split function in prepare.py\ntrain, validate, test = split(df, stratify_by=\"alleged_threat_lvl\")\n\n#check split datasets\nprint('overall shape of dataframe:', df.shape)\nprint('train:', train.shape)\nprint('validate:', validate.shape)\nprint('test:', test.shape)\n\n#work w/ training data\ntrain.head()",
   "metadata": {
    "tags": [],
    "cell_id": "00007-df8c38b1-a485-4190-990f-0aaccaab4cf8",
    "deepnote_to_be_reexecuted": false,
    "source_hash": "c2aec7c9",
    "execution_start": 1621634985029,
    "execution_millis": 84,
    "deepnote_cell_type": "code"
   },
   "outputs": [
    {
     "name": "stdout",
     "text": "overall shape of dataframe: (6274, 23)\ntrain: (3513, 23)\nvalidate: (1506, 23)\ntest: (1255, 23)\n",
     "output_type": "stream"
    },
    {
     "output_type": "execute_result",
     "execution_count": 12,
     "data": {
      "application/vnd.deepnote.dataframe.v2+json": {
       "row_count": 5,
       "column_count": 23,
       "columns": [
        {
         "name": "age",
         "dtype": "object",
         "stats": {
          "unique_count": 5,
          "nan_count": 0,
          "categories": [
           {
            "name": "54",
            "count": 1
           },
           {
            "name": "24",
            "count": 1
           },
           {
            "name": "3 others",
            "count": 3
           }
          ]
         }
        },
        {
         "name": "gender",
         "dtype": "object",
         "stats": {
          "unique_count": 2,
          "nan_count": 0,
          "categories": [
           {
            "name": "Male",
            "count": 4
           },
           {
            "name": "Female",
            "count": 1
           }
          ]
         }
        },
        {
         "name": "race",
         "dtype": "object",
         "stats": {
          "unique_count": 3,
          "nan_count": 0,
          "categories": [
           {
            "name": "White",
            "count": 3
           },
           {
            "name": "Black",
            "count": 1
           },
           {
            "name": "Hispanic",
            "count": 1
           }
          ]
         }
        },
        {
         "name": "date",
         "dtype": "object",
         "stats": {
          "unique_count": 5,
          "nan_count": 0,
          "categories": [
           {
            "name": "2017-06-07",
            "count": 1
           },
           {
            "name": "2018-04-01",
            "count": 1
           },
           {
            "name": "3 others",
            "count": 3
           }
          ]
         }
        },
        {
         "name": "city",
         "dtype": "object",
         "stats": {
          "unique_count": 5,
          "nan_count": 0,
          "categories": [
           {
            "name": "Orrington",
            "count": 1
           },
           {
            "name": "Covington",
            "count": 1
           },
           {
            "name": "3 others",
            "count": 3
           }
          ]
         }
        },
        {
         "name": "state",
         "dtype": "object",
         "stats": {
          "unique_count": 5,
          "nan_count": 0,
          "categories": [
           {
            "name": "ME",
            "count": 1
           },
           {
            "name": "LA",
            "count": 1
           },
           {
            "name": "3 others",
            "count": 3
           }
          ]
         }
        },
        {
         "name": "zipcode",
         "dtype": "float64",
         "stats": {
          "unique_count": 5,
          "nan_count": 0,
          "min": "4474.0",
          "max": "90638.0",
          "histogram": [
           {
            "bin_start": 4474,
            "bin_end": 13090.4,
            "count": 1
           },
           {
            "bin_start": 13090.4,
            "bin_end": 21706.8,
            "count": 0
           },
           {
            "bin_start": 21706.8,
            "bin_end": 30323.199999999997,
            "count": 0
           },
           {
            "bin_start": 30323.199999999997,
            "bin_end": 38939.6,
            "count": 0
           },
           {
            "bin_start": 38939.6,
            "bin_end": 47556,
            "count": 0
           },
           {
            "bin_start": 47556,
            "bin_end": 56172.399999999994,
            "count": 1
           },
           {
            "bin_start": 56172.399999999994,
            "bin_end": 64788.799999999996,
            "count": 0
           },
           {
            "bin_start": 64788.799999999996,
            "bin_end": 73405.2,
            "count": 2
           },
           {
            "bin_start": 73405.2,
            "bin_end": 82021.59999999999,
            "count": 0
           },
           {
            "bin_start": 82021.59999999999,
            "bin_end": 90638,
            "count": 1
           }
          ]
         }
        },
        {
         "name": "county",
         "dtype": "object",
         "stats": {
          "unique_count": 5,
          "nan_count": 0,
          "categories": [
           {
            "name": "Penobscot",
            "count": 1
           },
           {
            "name": "St. Tammany",
            "count": 1
           },
           {
            "name": "3 others",
            "count": 3
           }
          ]
         }
        },
        {
         "name": "agency_responsible",
         "dtype": "object",
         "stats": {
          "unique_count": 5,
          "nan_count": 0,
          "categories": [
           {
            "name": "Maine State Police",
            "count": 1
           },
           {
            "name": "St. Tammany Parish Sheriff's Office",
            "count": 1
           },
           {
            "name": "3 others",
            "count": 3
           }
          ]
         }
        },
        {
         "name": "cause_of_death",
         "dtype": "object",
         "stats": {
          "unique_count": 1,
          "nan_count": 0,
          "categories": [
           {
            "name": "gunshot",
            "count": 5
           }
          ]
         }
        },
        {
         "name": "description_of_circumstances",
         "dtype": "object",
         "stats": {
          "unique_count": 5,
          "nan_count": 0,
          "categories": [
           {
            "name": "Mark Ellis allegedly threatened police on the phone. When they arrived, after a 12-hour standoff, he was shot and killed.",
            "count": 1
           },
           {
            "name": "About 5 a.m., deputies attempted to pull over a man believed to be involved in vehicle burglaries. Joseph Johnson fled in his car. After a brief chase, Johnson crashed into a ditch, police said. The deputies and Johnson exchanged gunfire. Johnson was shot and killed, and one of the deputies was shot and wounded.",
            "count": 1
           },
           {
            "name": "3 others",
            "count": 3
           }
          ]
         }
        },
        {
         "name": "official_disposition",
         "dtype": "object",
         "stats": {
          "unique_count": 2,
          "nan_count": 0,
          "categories": [
           {
            "name": "Pending investigation/No Known Charges",
            "count": 4
           },
           {
            "name": "Charged with manslaughter",
            "count": 1
           }
          ]
         }
        },
        {
         "name": "criminal_charges_filed",
         "dtype": "object",
         "stats": {
          "unique_count": 2,
          "nan_count": 0,
          "categories": [
           {
            "name": "No known charges",
            "count": 4
           },
           {
            "name": "Charged with a crime",
            "count": 1
           }
          ]
         }
        },
        {
         "name": "mental_illness",
         "dtype": "object",
         "stats": {
          "unique_count": 1,
          "nan_count": 0,
          "categories": [
           {
            "name": "no",
            "count": 5
           }
          ]
         }
        },
        {
         "name": "armed_unarmed_status",
         "dtype": "object",
         "stats": {
          "unique_count": 2,
          "nan_count": 0,
          "categories": [
           {
            "name": "Allegedly Armed",
            "count": 4
           },
           {
            "name": "Vehicle",
            "count": 1
           }
          ]
         }
        },
        {
         "name": "alleged_weapon",
         "dtype": "object",
         "stats": {
          "unique_count": 2,
          "nan_count": 0,
          "categories": [
           {
            "name": "gun",
            "count": 4
           },
           {
            "name": "vehicle",
            "count": 1
           }
          ]
         }
        },
        {
         "name": "alleged_threat_lvl",
         "dtype": "float64",
         "stats": {
          "unique_count": 2,
          "nan_count": 0,
          "min": "0.0",
          "max": "1.0",
          "histogram": [
           {
            "bin_start": 0,
            "bin_end": 0.1,
            "count": 1
           },
           {
            "bin_start": 0.1,
            "bin_end": 0.2,
            "count": 0
           },
           {
            "bin_start": 0.2,
            "bin_end": 0.30000000000000004,
            "count": 0
           },
           {
            "bin_start": 0.30000000000000004,
            "bin_end": 0.4,
            "count": 0
           },
           {
            "bin_start": 0.4,
            "bin_end": 0.5,
            "count": 0
           },
           {
            "bin_start": 0.5,
            "bin_end": 0.6000000000000001,
            "count": 0
           },
           {
            "bin_start": 0.6000000000000001,
            "bin_end": 0.7000000000000001,
            "count": 0
           },
           {
            "bin_start": 0.7000000000000001,
            "bin_end": 0.8,
            "count": 0
           },
           {
            "bin_start": 0.8,
            "bin_end": 0.9,
            "count": 0
           },
           {
            "bin_start": 0.9,
            "bin_end": 1,
            "count": 4
           }
          ]
         }
        },
        {
         "name": "fleeing",
         "dtype": "object",
         "stats": {
          "unique_count": 2,
          "nan_count": 0,
          "categories": [
           {
            "name": "not fleeing",
            "count": 3
           },
           {
            "name": "car",
            "count": 2
           }
          ]
         }
        },
        {
         "name": "body_camera",
         "dtype": "object",
         "stats": {
          "unique_count": 2,
          "nan_count": 0,
          "categories": [
           {
            "name": "no",
            "count": 4
           },
           {
            "name": "yes",
            "count": 1
           }
          ]
         }
        },
        {
         "name": "geography",
         "dtype": "object",
         "stats": {
          "unique_count": 2,
          "nan_count": 0,
          "categories": [
           {
            "name": "Suburban",
            "count": 3
           },
           {
            "name": "Rural",
            "count": 2
           }
          ]
         }
        },
        {
         "name": "encounter_type_draft",
         "dtype": "object",
         "stats": {
          "unique_count": 3,
          "nan_count": 0,
          "categories": [
           {
            "name": "traffic stop",
            "count": 2
           },
           {
            "name": "part 1 violent crime",
            "count": 2
           },
           {
            "name": "other",
            "count": 1
           }
          ]
         }
        },
        {
         "name": "initial_reported_reason_for_encounter_draft",
         "dtype": "object",
         "stats": {
          "unique_count": 3,
          "nan_count": 0,
          "categories": [
           {
            "name": "traffic violation",
            "count": 3
           },
           {
            "name": "other (called in threats to law enforcement)",
            "count": 1
           },
           {
            "name": "suspect (vehicle burglaries)",
            "count": 1
           }
          ]
         }
        },
        {
         "name": "known_past_shootings_of_Officer_draft",
         "dtype": "int64",
         "stats": {
          "unique_count": 1,
          "nan_count": 0,
          "min": "0",
          "max": "0",
          "histogram": [
           {
            "bin_start": -0.5,
            "bin_end": -0.4,
            "count": 0
           },
           {
            "bin_start": -0.4,
            "bin_end": -0.3,
            "count": 0
           },
           {
            "bin_start": -0.3,
            "bin_end": -0.19999999999999996,
            "count": 0
           },
           {
            "bin_start": -0.19999999999999996,
            "bin_end": -0.09999999999999998,
            "count": 0
           },
           {
            "bin_start": -0.09999999999999998,
            "bin_end": 0,
            "count": 0
           },
           {
            "bin_start": 0,
            "bin_end": 0.10000000000000009,
            "count": 5
           },
           {
            "bin_start": 0.10000000000000009,
            "bin_end": 0.20000000000000007,
            "count": 0
           },
           {
            "bin_start": 0.20000000000000007,
            "bin_end": 0.30000000000000004,
            "count": 0
           },
           {
            "bin_start": 0.30000000000000004,
            "bin_end": 0.4,
            "count": 0
           },
           {
            "bin_start": 0.4,
            "bin_end": 0.5,
            "count": 0
           }
          ]
         }
        },
        {
         "name": "_deepnote_index_column",
         "dtype": "int64"
        }
       ],
       "rows_top": [
        {
         "age": "54",
         "gender": "Male",
         "race": "White",
         "date": "2017-06-07",
         "city": "Orrington",
         "state": "ME",
         "zipcode": 4474,
         "county": "Penobscot",
         "agency_responsible": "Maine State Police",
         "cause_of_death": "gunshot",
         "description_of_circumstances": "Mark Ellis allegedly threatened police on the phone. When they arrived, after a 12-hour standoff, he was shot and killed.",
         "official_disposition": "Pending investigation/No Known Charges",
         "criminal_charges_filed": "No known charges",
         "mental_illness": "no",
         "armed_unarmed_status": "Allegedly Armed",
         "alleged_weapon": "gun",
         "alleged_threat_lvl": 1,
         "fleeing": "not fleeing",
         "body_camera": "no",
         "geography": "Rural",
         "encounter_type_draft": "other",
         "initial_reported_reason_for_encounter_draft": "other (called in threats to law enforcement)",
         "known_past_shootings_of_Officer_draft": 0,
         "_deepnote_index_column": 4090
        },
        {
         "age": "24",
         "gender": "Male",
         "race": "White",
         "date": "2018-04-01",
         "city": "Covington",
         "state": "LA",
         "zipcode": 70433,
         "county": "St. Tammany",
         "agency_responsible": "St. Tammany Parish Sheriff's Office",
         "cause_of_death": "gunshot",
         "description_of_circumstances": "About 5 a.m., deputies attempted to pull over a man believed to be involved in vehicle burglaries. Joseph Johnson fled in his car. After a brief chase, Johnson crashed into a ditch, police said. The deputies and Johnson exchanged gunfire. Johnson was shot and killed, and one of the deputies was shot and wounded.",
         "official_disposition": "Pending investigation/No Known Charges",
         "criminal_charges_filed": "No known charges",
         "mental_illness": "no",
         "armed_unarmed_status": "Allegedly Armed",
         "alleged_weapon": "gun",
         "alleged_threat_lvl": 1,
         "fleeing": "car",
         "body_camera": "no",
         "geography": "Suburban",
         "encounter_type_draft": "traffic stop",
         "initial_reported_reason_for_encounter_draft": "suspect (vehicle burglaries)",
         "known_past_shootings_of_Officer_draft": 0,
         "_deepnote_index_column": 3171
        },
        {
         "age": "38",
         "gender": "Female",
         "race": "White",
         "date": "2019-09-30",
         "city": "Mountain View",
         "state": "MO",
         "zipcode": 65548,
         "county": "Howell",
         "agency_responsible": "Mountain View Police Department",
         "cause_of_death": "gunshot",
         "description_of_circumstances": "At approximately 11:30 p.m., an officer initiated a vehicle pursuit with Angela Perkins. The officer reportedly discontinued the pursuit after losing sight of the vehicle. The officer reportedly spotted her vehicle stuck in a ditch. The officer got out of his vehicle and approached Perkins. Perkins allegedly put her vehicle in reverse and was able to break free of the ditch and back into a nearby driveway. Perkins allegedly sped up and headed toward the officer, who shot and killed her. The family questioned many things about the police narrative.",
         "official_disposition": "Charged with manslaughter",
         "criminal_charges_filed": "Charged with a crime",
         "mental_illness": "no",
         "armed_unarmed_status": "Vehicle",
         "alleged_weapon": "vehicle",
         "alleged_threat_lvl": 1,
         "fleeing": "car",
         "body_camera": "no",
         "geography": "Rural",
         "encounter_type_draft": "traffic stop",
         "initial_reported_reason_for_encounter_draft": "traffic violation",
         "known_past_shootings_of_Officer_draft": 0,
         "_deepnote_index_column": 1656
        },
        {
         "age": "25",
         "gender": "Male",
         "race": "Black",
         "date": "2016-06-23",
         "city": "Wauwatosa",
         "state": "WI",
         "zipcode": 53225,
         "county": "Milwaukee",
         "agency_responsible": "Wauwatosa Police Department",
         "cause_of_death": "gunshot",
         "description_of_circumstances": "Little has been released about this death. Apparently, he was in his car after hours when police approached. He was shot and killed.",
         "official_disposition": "Pending investigation/No Known Charges",
         "criminal_charges_filed": "No known charges",
         "mental_illness": "no",
         "armed_unarmed_status": "Allegedly Armed",
         "alleged_weapon": "gun",
         "alleged_threat_lvl": 0,
         "fleeing": "not fleeing",
         "body_camera": "yes",
         "geography": "Suburban",
         "encounter_type_draft": "part 1 violent crime",
         "initial_reported_reason_for_encounter_draft": "traffic violation",
         "known_past_shootings_of_Officer_draft": 0,
         "_deepnote_index_column": 5117
        },
        {
         "age": "45",
         "gender": "Male",
         "race": "Hispanic",
         "date": "2016-11-22",
         "city": "La Mirada",
         "state": "CA",
         "zipcode": 90638,
         "county": "Los Angeles",
         "agency_responsible": "Los Angeles County Sheriff's Department",
         "cause_of_death": "gunshot",
         "description_of_circumstances": "Deputies received a call about a robbery in progress at the gas station. After firing at police, Sly was shot and killed.",
         "official_disposition": "Pending investigation/No Known Charges",
         "criminal_charges_filed": "No known charges",
         "mental_illness": "no",
         "armed_unarmed_status": "Allegedly Armed",
         "alleged_weapon": "gun",
         "alleged_threat_lvl": 1,
         "fleeing": "not fleeing",
         "body_camera": "no",
         "geography": "Suburban",
         "encounter_type_draft": "part 1 violent crime",
         "initial_reported_reason_for_encounter_draft": "traffic violation",
         "known_past_shootings_of_Officer_draft": 0,
         "_deepnote_index_column": 4678
        }
       ],
       "rows_bottom": null
      },
      "text/plain": "     age  gender      race        date           city state  zipcode  \\\n4090  54    Male     White  2017-06-07      Orrington    ME   4474.0   \n3171  24    Male     White  2018-04-01      Covington    LA  70433.0   \n1656  38  Female     White  2019-09-30  Mountain View    MO  65548.0   \n5117  25    Male     Black  2016-06-23      Wauwatosa    WI  53225.0   \n4678  45    Male  Hispanic  2016-11-22      La Mirada    CA  90638.0   \n\n           county                       agency_responsible cause_of_death  \\\n4090    Penobscot                       Maine State Police        gunshot   \n3171  St. Tammany      St. Tammany Parish Sheriff's Office        gunshot   \n1656       Howell          Mountain View Police Department        gunshot   \n5117    Milwaukee              Wauwatosa Police Department        gunshot   \n4678  Los Angeles  Los Angeles County Sheriff's Department        gunshot   \n\n      ... mental_illness armed_unarmed_status alleged_weapon  \\\n4090  ...             no      Allegedly Armed            gun   \n3171  ...             no      Allegedly Armed            gun   \n1656  ...             no              Vehicle        vehicle   \n5117  ...             no      Allegedly Armed            gun   \n4678  ...             no      Allegedly Armed            gun   \n\n     alleged_threat_lvl      fleeing body_camera  geography  \\\n4090                1.0  not fleeing          no      Rural   \n3171                1.0          car          no   Suburban   \n1656                1.0          car          no      Rural   \n5117                0.0  not fleeing         yes   Suburban   \n4678                1.0  not fleeing          no   Suburban   \n\n      encounter_type_draft   initial_reported_reason_for_encounter_draft  \\\n4090                 other  other (called in threats to law enforcement)   \n3171          traffic stop                  suspect (vehicle burglaries)   \n1656          traffic stop                             traffic violation   \n5117  part 1 violent crime                             traffic violation   \n4678  part 1 violent crime                             traffic violation   \n\n     known_past_shootings_of_Officer_draft  \n4090                                     0  \n3171                                     0  \n1656                                     0  \n5117                                     0  \n4678                                     0  \n\n[5 rows x 23 columns]",
      "text/html": "<div>\n<style scoped>\n    .dataframe tbody tr th:only-of-type {\n        vertical-align: middle;\n    }\n\n    .dataframe tbody tr th {\n        vertical-align: top;\n    }\n\n    .dataframe thead th {\n        text-align: right;\n    }\n</style>\n<table border=\"1\" class=\"dataframe\">\n  <thead>\n    <tr style=\"text-align: right;\">\n      <th></th>\n      <th>age</th>\n      <th>gender</th>\n      <th>race</th>\n      <th>date</th>\n      <th>city</th>\n      <th>state</th>\n      <th>zipcode</th>\n      <th>county</th>\n      <th>agency_responsible</th>\n      <th>cause_of_death</th>\n      <th>...</th>\n      <th>mental_illness</th>\n      <th>armed_unarmed_status</th>\n      <th>alleged_weapon</th>\n      <th>alleged_threat_lvl</th>\n      <th>fleeing</th>\n      <th>body_camera</th>\n      <th>geography</th>\n      <th>encounter_type_draft</th>\n      <th>initial_reported_reason_for_encounter_draft</th>\n      <th>known_past_shootings_of_Officer_draft</th>\n    </tr>\n  </thead>\n  <tbody>\n    <tr>\n      <th>4090</th>\n      <td>54</td>\n      <td>Male</td>\n      <td>White</td>\n      <td>2017-06-07</td>\n      <td>Orrington</td>\n      <td>ME</td>\n      <td>4474.0</td>\n      <td>Penobscot</td>\n      <td>Maine State Police</td>\n      <td>gunshot</td>\n      <td>...</td>\n      <td>no</td>\n      <td>Allegedly Armed</td>\n      <td>gun</td>\n      <td>1.0</td>\n      <td>not fleeing</td>\n      <td>no</td>\n      <td>Rural</td>\n      <td>other</td>\n      <td>other (called in threats to law enforcement)</td>\n      <td>0</td>\n    </tr>\n    <tr>\n      <th>3171</th>\n      <td>24</td>\n      <td>Male</td>\n      <td>White</td>\n      <td>2018-04-01</td>\n      <td>Covington</td>\n      <td>LA</td>\n      <td>70433.0</td>\n      <td>St. Tammany</td>\n      <td>St. Tammany Parish Sheriff's Office</td>\n      <td>gunshot</td>\n      <td>...</td>\n      <td>no</td>\n      <td>Allegedly Armed</td>\n      <td>gun</td>\n      <td>1.0</td>\n      <td>car</td>\n      <td>no</td>\n      <td>Suburban</td>\n      <td>traffic stop</td>\n      <td>suspect (vehicle burglaries)</td>\n      <td>0</td>\n    </tr>\n    <tr>\n      <th>1656</th>\n      <td>38</td>\n      <td>Female</td>\n      <td>White</td>\n      <td>2019-09-30</td>\n      <td>Mountain View</td>\n      <td>MO</td>\n      <td>65548.0</td>\n      <td>Howell</td>\n      <td>Mountain View Police Department</td>\n      <td>gunshot</td>\n      <td>...</td>\n      <td>no</td>\n      <td>Vehicle</td>\n      <td>vehicle</td>\n      <td>1.0</td>\n      <td>car</td>\n      <td>no</td>\n      <td>Rural</td>\n      <td>traffic stop</td>\n      <td>traffic violation</td>\n      <td>0</td>\n    </tr>\n    <tr>\n      <th>5117</th>\n      <td>25</td>\n      <td>Male</td>\n      <td>Black</td>\n      <td>2016-06-23</td>\n      <td>Wauwatosa</td>\n      <td>WI</td>\n      <td>53225.0</td>\n      <td>Milwaukee</td>\n      <td>Wauwatosa Police Department</td>\n      <td>gunshot</td>\n      <td>...</td>\n      <td>no</td>\n      <td>Allegedly Armed</td>\n      <td>gun</td>\n      <td>0.0</td>\n      <td>not fleeing</td>\n      <td>yes</td>\n      <td>Suburban</td>\n      <td>part 1 violent crime</td>\n      <td>traffic violation</td>\n      <td>0</td>\n    </tr>\n    <tr>\n      <th>4678</th>\n      <td>45</td>\n      <td>Male</td>\n      <td>Hispanic</td>\n      <td>2016-11-22</td>\n      <td>La Mirada</td>\n      <td>CA</td>\n      <td>90638.0</td>\n      <td>Los Angeles</td>\n      <td>Los Angeles County Sheriff's Department</td>\n      <td>gunshot</td>\n      <td>...</td>\n      <td>no</td>\n      <td>Allegedly Armed</td>\n      <td>gun</td>\n      <td>1.0</td>\n      <td>not fleeing</td>\n      <td>no</td>\n      <td>Suburban</td>\n      <td>part 1 violent crime</td>\n      <td>traffic violation</td>\n      <td>0</td>\n    </tr>\n  </tbody>\n</table>\n<p>5 rows × 23 columns</p>\n</div>"
     },
     "metadata": {}
    }
   ],
   "execution_count": 12
  },
  {
   "cell_type": "code",
   "source": "print(\"Mental Illness:\")\nprint(train.mental_illness.value_counts())\nprint(\"---------------------------------\")\nprint(\"Threat Level\")\nprint(train.alleged_threat_lvl.value_counts())",
   "metadata": {
    "tags": [],
    "cell_id": "00011-2fb42839-2ee9-4c75-91af-95b6733dcf10",
    "deepnote_to_be_reexecuted": false,
    "source_hash": "d5ebd9b4",
    "execution_start": 1621634985108,
    "execution_millis": 6,
    "deepnote_cell_type": "code"
   },
   "outputs": [
    {
     "name": "stdout",
     "text": "Mental Illness:\nno                     2314\nyes                     742\nunknown                 368\ndrug or alcohol use      89\nName: mental_illness, dtype: int64\n---------------------------------\nThreat Level\n1.0    2378\n0.0    1135\nName: alleged_threat_lvl, dtype: int64\n",
     "output_type": "stream"
    }
   ],
   "execution_count": 13
  },
  {
   "cell_type": "code",
   "source": "sns.countplot(data=train, x='mental_illness', hue='alleged_threat_lvl')",
   "metadata": {
    "tags": [],
    "cell_id": "00013-a89b2d01-da1b-4ad9-b82a-dc9b7d9f344e",
    "deepnote_to_be_reexecuted": false,
    "source_hash": "fb6b78be",
    "execution_start": 1621634985111,
    "execution_millis": 199,
    "deepnote_cell_type": "code"
   },
   "outputs": [
    {
     "output_type": "execute_result",
     "execution_count": 14,
     "data": {
      "text/plain": "<AxesSubplot:xlabel='mental_illness', ylabel='count'>"
     },
     "metadata": {}
    },
    {
     "data": {
      "text/plain": "<Figure size 432x288 with 1 Axes>",
      "image/png": "[encoded data removed]"
     },
     "metadata": {
      "needs_background": "light",
      "image/png": {
       "width": 401,
       "height": 263
      }
     },
     "output_type": "display_data"
    }
   ],
   "execution_count": 14
  },
  {
   "cell_type": "code",
   "source": "g = sns.catplot(x=\"alleged_threat_lvl\", col=\"mental_illness\", col_wrap=4,\n                data=train,\n                kind=\"count\", height=5, aspect=.8)",
   "metadata": {
    "tags": [],
    "cell_id": "00015-816c2cd1-861e-4fb7-b720-831fc7077abc",
    "deepnote_to_be_reexecuted": false,
    "source_hash": "f87a4b99",
    "execution_start": 1621634985310,
    "execution_millis": 611,
    "deepnote_cell_type": "code"
   },
   "outputs": [
    {
     "data": {
      "text/plain": "<Figure size 1152x360 with 4 Axes>",
      "image/png": "[encoded data removed]"
     },
     "metadata": {
      "needs_background": "light",
      "image/png": {
       "width": 1158,
       "height": 367
      }
     },
     "output_type": "display_data"
    }
   ],
   "execution_count": 15
  },
  {
   "cell_type": "code",
   "source": "g = sns.catplot(x=\"mental_illness\", col=\"alleged_threat_lvl\", col_wrap=4,\n                data=train,\n                kind=\"count\", height=5, aspect=.8)",
   "metadata": {
    "tags": [],
    "cell_id": "00014-3c9e35e1-fe42-4922-ab8f-eaf935b03afa",
    "deepnote_to_be_reexecuted": false,
    "source_hash": "4e9c7eaa",
    "execution_start": 1621634985962,
    "execution_millis": 348,
    "deepnote_cell_type": "code"
   },
   "outputs": [
    {
     "data": {
      "text/plain": "<Figure size 1152x360 with 2 Axes>",
      "image/png": "[encoded data removed]"
     },
     "metadata": {
      "needs_background": "light",
      "image/png": {
       "width": 610,
       "height": 367
      }
     },
     "output_type": "display_data"
    }
   ],
   "execution_count": 16
  },
  {
   "cell_type": "markdown",
   "source": "### Takeaways\n- people w/ no mental illness have been characterized as having an 'attack' threat level more often than not being attackers\n- there are alot more attacks/non-attacks overall for people not characterized as having a mental illnesses",
   "metadata": {
    "tags": [],
    "cell_id": "00015-5c551e56-6d72-4504-bdbc-40c95fdec9a4",
    "deepnote_cell_type": "markdown"
   }
  },
  {
   "cell_type": "code",
   "source": "#hyp testing: Visualize if symptoms of mental illness play a role in threat level\n#this is a 2-sample t-test b/c comparing the means of 2 subgroups\n#this is also 2 tailed t-test b/c checking for any difference btwn the means (regardless of direction)\n\n#Setup\nnull_hypothesis = \"there is no difference in threat level for people with or without mental illness.\"\nalternative_hypothesis = \"there is a difference in threat level for people with or without mental illness.\"\n#confidence_level = .95\n#alpha = 1 - confidence_level\nalpha = .05\n\nwith_mi = train[train[\"mental_illness\"] == 'yes'].alleged_threat_lvl\nwithout_mi = train[train[\"mental_illness\"] == 'no'].alleged_threat_lvl\nwithout_mi = train[train[\"mental_illness\"] == 'unknown'].alleged_threat_lvl\nwithout_mi = train[train[\"mental_illness\"] == 'drug or alcohol use'].alleged_threat_lvl",
   "metadata": {
    "tags": [],
    "cell_id": "00015-a50e194a-ec3e-4381-ad5c-cec572ad561c",
    "deepnote_to_be_reexecuted": false,
    "source_hash": "4ba19ec1",
    "execution_start": 1621634986328,
    "execution_millis": 0,
    "deepnote_cell_type": "code"
   },
   "outputs": [],
   "execution_count": 17
  },
  {
   "cell_type": "code",
   "source": "from scipy import stats",
   "metadata": {
    "tags": [],
    "cell_id": "00019-4eb0d1f8-0b39-48b7-80dd-1ea9f6c43124",
    "deepnote_to_be_reexecuted": false,
    "source_hash": "f31ae328",
    "execution_start": 1621634986329,
    "execution_millis": 0,
    "deepnote_cell_type": "code"
   },
   "outputs": [],
   "execution_count": 18
  },
  {
   "cell_type": "code",
   "source": "#.ttest_ind test of independence b/c 2 sample t-test \nt, p = stats.ttest_ind(with_mi, without_mi)",
   "metadata": {
    "tags": [],
    "cell_id": "00019-9a3cf1a0-5490-4795-82f7-1267b2ea6d6c",
    "deepnote_to_be_reexecuted": false,
    "source_hash": "df1cd1f0",
    "execution_start": 1621634986329,
    "execution_millis": 1,
    "deepnote_cell_type": "code"
   },
   "outputs": [],
   "execution_count": 19
  },
  {
   "cell_type": "code",
   "source": "if p < alpha:\n    print(\"We reject the null hypothesis that\", null_hypothesis)\nelse:\n    print(\"We fail to reject the null hypothesis\")",
   "metadata": {
    "tags": [],
    "cell_id": "00020-1af6f99f-e95b-4ee9-b519-ecb114f022fa",
    "deepnote_to_be_reexecuted": false,
    "source_hash": "d7655c14",
    "execution_start": 1621634986330,
    "execution_millis": 7,
    "deepnote_cell_type": "code"
   },
   "outputs": [
    {
     "name": "stdout",
     "text": "We fail to reject the null hypothesis\n",
     "output_type": "stream"
    }
   ],
   "execution_count": 20
  },
  {
   "cell_type": "markdown",
   "source": "### Takeaway\n- T-test failed to reject the null hypothesis meaning there is not enough evidence to support the alternative. ",
   "metadata": {
    "tags": [],
    "cell_id": "00022-792f28e7-466c-4415-b3e7-c8b87efc23f5",
    "deepnote_cell_type": "markdown"
   }
  },
  {
   "cell_type": "code",
   "source": "#running chi2 instead b/c categorical vars\nexplore.chi2(train, 'mental_illness', 'alleged_threat_lvl', alpha=0.05)",
   "metadata": {
    "tags": [],
    "cell_id": "00028-5c04e235-2083-4c4c-ba49-f8eddaa3e032",
    "deepnote_to_be_reexecuted": false,
    "source_hash": "224180b9",
    "execution_start": 1621636667878,
    "execution_millis": 6,
    "deepnote_cell_type": "code"
   },
   "outputs": [
    {
     "name": "stdout",
     "text": "Observed\n\n[[  28   61]\n [ 714 1600]\n [ 137  231]\n [ 256  486]]\n---\nExpected\n\n[[  28.75462568   60.24537432]\n [ 747.62026758 1566.37973242]\n [ 118.89553089  249.10446911]\n [ 239.72957586  502.27042414]]\n---\n\nchi^2 = 7.9667\np     = 0.0467\n\nBecause the p-value: 0.0467 is less than alpha: 0.05, we can reject the null hypothesis\n",
     "output_type": "stream"
    }
   ],
   "execution_count": 26
  },
  {
   "cell_type": "markdown",
   "source": "### Takeaway\n- Chi^2 rejected the null hypothesis meaning we accept that mental status is dependent on alleged threat level.\n",
   "metadata": {
    "tags": [],
    "cell_id": "00024-610f435e-180d-4438-8514-88c55e842801",
    "deepnote_cell_type": "markdown"
   }
  },
  {
   "cell_type": "code",
   "source": "#visualize race vs alleged threat level\nplt.figure(figsize=(20, 10))\nsns.countplot(data=train, x='race', hue='alleged_threat_lvl')",
   "metadata": {
    "tags": [],
    "cell_id": "00018-c7f48308-9932-46da-bfa7-2ea9bf6e2f7b",
    "deepnote_to_be_reexecuted": false,
    "source_hash": "46bf73a3",
    "execution_start": 1621634986352,
    "execution_millis": 256,
    "deepnote_cell_type": "code"
   },
   "outputs": [
    {
     "output_type": "execute_result",
     "execution_count": 22,
     "data": {
      "text/plain": "<AxesSubplot:xlabel='race', ylabel='count'>"
     },
     "metadata": {}
    },
    {
     "data": {
      "text/plain": "<Figure size 1440x720 with 1 Axes>",
      "image/png": "[encoded data removed]"
     },
     "metadata": {
      "needs_background": "light",
      "image/png": {
       "width": 1176,
       "height": 589
      }
     },
     "output_type": "display_data"
    }
   ],
   "execution_count": 22
  },
  {
   "cell_type": "markdown",
   "source": "### Takeaways\n- It appears as though all races are more often attacks than not\n- White race shows the most attackers/non-attackers\n- Black and hispanic race that result in non-attack threat level are almost at same level. \n- Asian, Native American, and Pacific Islander races have the least amount of attack/non-attack threat levels.",
   "metadata": {
    "tags": [],
    "cell_id": "00025-4d0a8d20-c3ba-4ba2-bddf-201cca4a6dcf",
    "deepnote_cell_type": "markdown"
   }
  },
  {
   "cell_type": "code",
   "source": "train.race.value_counts()",
   "metadata": {
    "tags": [],
    "cell_id": "00025-3d057a44-6e13-42fe-bfc0-f973de677762",
    "deepnote_to_be_reexecuted": false,
    "source_hash": "6c3137a9",
    "execution_start": 1621634986603,
    "execution_millis": 15,
    "deepnote_cell_type": "code"
   },
   "outputs": [
    {
     "output_type": "execute_result",
     "execution_count": 23,
     "data": {
      "text/plain": "White               1535\nBlack                886\nHispanic             655\nUnknown Race         291\nNative American       56\nAsian                 53\nPacific Islander      36\nHispanic               1\nName: race, dtype: int64"
     },
     "metadata": {}
    }
   ],
   "execution_count": 23
  },
  {
   "cell_type": "code",
   "source": "import explore",
   "metadata": {
    "tags": [],
    "cell_id": "00027-ee0bc1ed-ddba-44f8-a6ac-c0f1485a47bc",
    "deepnote_to_be_reexecuted": false,
    "source_hash": "465bb8a",
    "execution_start": 1621634986609,
    "execution_millis": 2,
    "deepnote_cell_type": "code"
   },
   "outputs": [],
   "execution_count": 24
  },
  {
   "cell_type": "code",
   "source": "explore.chi2(train, 'race', 'alleged_threat_lvl', alpha=0.05)",
   "metadata": {
    "tags": [],
    "cell_id": "00027-d3134c2c-9d40-465a-8f23-1bc75102ad73",
    "deepnote_to_be_reexecuted": false,
    "source_hash": "93511dd5",
    "execution_start": 1621634986615,
    "execution_millis": 22,
    "deepnote_cell_type": "code"
   },
   "outputs": [
    {
     "name": "stdout",
     "text": "Observed\n\n[[  18   35]\n [ 276  610]\n [ 250  405]\n [   1    0]\n [  25   31]\n [  12   24]\n [  73  218]\n [ 480 1055]]\n---\nExpected\n\n[[1.71235411e+01 3.58764589e+01]\n [2.86253914e+02 5.99746086e+02]\n [2.11621122e+02 4.43378878e+02]\n [3.23085682e-01 6.76914318e-01]\n [1.80927982e+01 3.79072018e+01]\n [1.16310845e+01 2.43689155e+01]\n [9.40179334e+01 1.96982067e+02]\n [4.95936521e+02 1.03906348e+03]]\n---\n\nchi^2 = 24.5969\np     = 0.0009\n\nBecause the p-value: 0.0009 is less than alpha: 0.05, we can reject the null hypothesis\n",
     "output_type": "stream"
    }
   ],
   "execution_count": 25
  },
  {
   "cell_type": "markdown",
   "source": "### Takeaway\n- Chi^2 rejected the null hypothesis meaning we accept that race is dependent on alleged threat level.",
   "metadata": {
    "tags": [],
    "cell_id": "00030-161e40e7-eb1c-4aa9-a71e-ffbadb299c0a",
    "deepnote_cell_type": "markdown"
   }
  },
  {
   "cell_type": "markdown",
   "source": "",
   "metadata": {
    "tags": [],
    "cell_id": "00031-5ff29c93-51b7-4504-8175-eb25aae8e16e",
    "deepnote_cell_type": "markdown"
   }
  },
  {
   "cell_type": "markdown",
   "source": "<a style='text-decoration:none;line-height:16px;display:flex;color:#5B5B62;padding:10px;justify-content:end;' href='https://deepnote.com?utm_source=created-in-deepnote-cell&projectId=258e71fc-cf2b-48c3-8461-70ecd9787aa1' target=\"_blank\">\n<img alt='Created in deepnote.com' style='display:inline;max-height:16px;margin:0px;margin-right:7.5px;' src='data:image/svg+xml;base64,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' > </img>\nCreated in <span style='font-weight:600;margin-left:4px;'>Deepnote</span></a>",
   "metadata": {
    "tags": [],
    "created_in_deepnote_cell": true,
    "deepnote_cell_type": "markdown"
   }
  }
 ],
 "nbformat": 4,
 "nbformat_minor": 2,
 "metadata": {
  "orig_nbformat": 2,
  "deepnote": {
   "is_reactive": false
  },
  "deepnote_notebook_id": "70fc0661-25cf-4876-be30-1c5f2a679c08",
  "deepnote_execution_queue": []
 }
}