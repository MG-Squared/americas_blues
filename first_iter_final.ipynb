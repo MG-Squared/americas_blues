{
 "cells": [
  {
   "cell_type": "markdown",
   "source": "# Project Description and Goals\nAcross the United States, there are altercations that result in killings by police officers, whether on-duty or off-duty. Each case is considered as a person dying from being shot, beaten, restrained, intentionally hit by a police vehicle, pepper sprayed, tasered, or otherwise harmed by police. \n\nFor our capstone, we are addressing the issue of police violence that has become a heated topic throughout the country in the recent years. As a team, we will be attempting to help law enforcement agencies spot risk factors so they may step in before risk transforms into actual harm.  \n\nThe open-sourced dataset we acquired from [Mapping Police Violence](https://mappingpoliceviolence.org/aboutthedata) has gathered over 9000 police killings from January 2013 to May 2021. Top drivers of civilian fatalities identified will shed light on changes to be made to save more lives. Then, we will use the features to apply to our classification models predicting the threat level of the victim (attacker or not).\n\n### Objectives for this project include:\n- Identifying the drivers of civilian fatalities. \n- Documenting the process and analysis throughout the data science pipeline.\n- Constructing a classification model that can predict what the victim's threat level is, given the features of the dataset.\n- Deliverables:\n    - README.md file containing overall project information. \n    - A well-documented jupyter notebook detailing the data science pipeline process.\n    - Python modules that automate the data acquisition, preparation, and exploration process.\n\n### Initial Hypotheses:\n- Does gender make a difference in alleged threat level?\n- How does mental illness affect each gender?\n- Do symptoms of mental illness play a role in threat level?\n- Is race a factor for alleged threat level?\n- Does the police officer having a bodycam make a difference in alleged threat level?\n- Is cause of death and alleged threat level independent of one another?\n- What are the fatalities by state: % killings vs pop\n- Where and what areas result in more killings?",
   "metadata": {
    "cell_id": "00000-3441f495-115e-4844-a3ee-0feae2e2b7de",
    "deepnote_cell_type": "markdown"
   }
  },
  {
   "cell_type": "markdown",
   "source": "___\n# Imports \nImport all necessary libraries and functions. ",
   "metadata": {
    "cell_id": "00001-e8131b86-3ef9-463b-9cad-f900ac6b9491",
    "deepnote_cell_type": "markdown"
   }
  },
  {
   "cell_type": "code",
   "metadata": {
    "cell_id": "00002-5a80c8ee-83bb-4b98-a637-c389a2654e1a",
    "deepnote_to_be_reexecuted": false,
    "source_hash": "cf821f9a",
    "execution_start": 1622036121596,
    "execution_millis": 1655,
    "deepnote_cell_type": "code"
   },
   "source": "import pandas as pd\nimport numpy as np\n\n# Helper Functions\nimport wrangle as w \nimport explore as exp\nfrom explore import rfe, split, select_kbest\n\n# Visualizations\nimport seaborn as sns\nimport matplotlib.pyplot as plt\n\n# Ignore warnings\nimport warnings\nwarnings.filterwarnings(\"ignore\")\n\n# Hypothesis tests\nfrom scipy import stats\nfrom scipy.stats import chi2_contingency\nfrom scipy.stats import ttest_1samp\nfrom scipy.stats import ttest_ind\n\n# Split data\nfrom sklearn.model_selection import train_test_split\n\n#Feature Engineering\nfrom sklearn.feature_selection import SelectKBest, f_regression, chi2\nfrom sklearn.feature_selection import RFE\n\n# Evaluate models\nfrom sklearn.metrics import classification_report\nfrom sklearn.metrics import accuracy_score\n\n# Create models for classification ML:\n# Decision Tree  \nfrom sklearn.tree import DecisionTreeClassifier\nfrom sklearn.tree import export_graphviz\n\n# Random Forest\nfrom sklearn.ensemble import RandomForestClassifier\n\n# K-Nearest Neighbor(KNN)  \nfrom sklearn.neighbors import KNeighborsClassifier\n\n# Logistic Regression\nfrom sklearn.linear_model import LogisticRegression",
   "execution_count": 1,
   "outputs": []
  },
  {
   "cell_type": "markdown",
   "source": "\n___\n# Acquire Data",
   "metadata": {
    "cell_id": "00003-869b8508-37ca-471a-b855-9d27b61eea32",
    "deepnote_cell_type": "markdown"
   }
  },
  {
   "cell_type": "code",
   "metadata": {
    "deepnote_to_be_reexecuted": false,
    "execution_millis": 5485,
    "execution_start": 1622036123254,
    "source_hash": "bb51ee53",
    "tags": [],
    "cell_id": "00004-416faafa-f938-4e39-a127-6aea5b174c8a",
    "deepnote_cell_type": "code"
   },
   "source": "# reads data from MPV website's downloaded dataset\ndf = pd.read_excel('data.xlsx')\ndf.head()",
   "execution_count": 2,
   "outputs": [
    {
     "output_type": "execute_result",
     "execution_count": 2,
     "data": {
      "application/vnd.deepnote.dataframe.v2+json": {
       "row_count": 5,
       "column_count": 49,
       "columns": [
        {
         "name": "Victim's name",
         "dtype": "object",
         "stats": {
          "unique_count": 5,
          "nan_count": 0,
          "categories": [
           {
            "name": "Kalon Horton",
            "count": 1
           },
           {
            "name": "Name withheld by police",
            "count": 1
           },
           {
            "name": "3 others",
            "count": 3
           }
          ]
         }
        },
        {
         "name": "Victim's age",
         "dtype": "object",
         "stats": {
          "unique_count": 4,
          "nan_count": 1,
          "categories": [
           {
            "name": "29.0",
            "count": 1
           },
           {
            "name": "3 others",
            "count": 3
           },
           {
            "name": "Missing",
            "count": 1
           }
          ]
         }
        },
        {
         "name": "Victim's gender",
         "dtype": "object",
         "stats": {
          "unique_count": 1,
          "nan_count": 0,
          "categories": [
           {
            "name": "Male",
            "count": 5
           }
          ]
         }
        },
        {
         "name": "Victim's race",
         "dtype": "object",
         "stats": {
          "unique_count": 3,
          "nan_count": 0,
          "categories": [
           {
            "name": "Unknown Race",
            "count": 3
           },
           {
            "name": "Black",
            "count": 1
           },
           {
            "name": "Hispanic",
            "count": 1
           }
          ]
         }
        },
        {
         "name": "URL of image of victim",
         "dtype": "object",
         "stats": {
          "unique_count": 0,
          "nan_count": 5,
          "categories": [
           {
            "name": "Missing",
            "count": 5
           }
          ]
         }
        },
        {
         "name": "Date of Incident (month/day/year)",
         "dtype": "datetime64[ns]",
         "stats": {
          "unique_count": 2,
          "nan_count": 0,
          "min": "2021-05-08 00:00:00",
          "max": "2021-05-09 00:00:00",
          "histogram": [
           {
            "bin_start": 1620432000000000000,
            "bin_end": 1620440640000000000,
            "count": 2
           },
           {
            "bin_start": 1620440640000000000,
            "bin_end": 1620449280000000000,
            "count": 0
           },
           {
            "bin_start": 1620449280000000000,
            "bin_end": 1620457920000000000,
            "count": 0
           },
           {
            "bin_start": 1620457920000000000,
            "bin_end": 1620466560000000000,
            "count": 0
           },
           {
            "bin_start": 1620466560000000000,
            "bin_end": 1620475200000000000,
            "count": 0
           },
           {
            "bin_start": 1620475200000000000,
            "bin_end": 1620483840000000000,
            "count": 0
           },
           {
            "bin_start": 1620483840000000000,
            "bin_end": 1620492480000000000,
            "count": 0
           },
           {
            "bin_start": 1620492480000000000,
            "bin_end": 1620501120000000000,
            "count": 0
           },
           {
            "bin_start": 1620501120000000000,
            "bin_end": 1620509760000000000,
            "count": 0
           },
           {
            "bin_start": 1620509760000000000,
            "bin_end": 1620518400000000000,
            "count": 3
           }
          ]
         }
        },
        {
         "name": "Street Address of Incident",
         "dtype": "object",
         "stats": {
          "unique_count": 1,
          "nan_count": 4,
          "categories": [
           {
            "name": "90 S. Main St.",
            "count": 1
           },
           {
            "name": "Missing",
            "count": 4
           }
          ]
         }
        },
        {
         "name": "City",
         "dtype": "object",
         "stats": {
          "unique_count": 5,
          "nan_count": 0,
          "categories": [
           {
            "name": "Lancaster",
            "count": 1
           },
           {
            "name": "Leicester",
            "count": 1
           },
           {
            "name": "3 others",
            "count": 3
           }
          ]
         }
        },
        {
         "name": "State",
         "dtype": "object",
         "stats": {
          "unique_count": 5,
          "nan_count": 0,
          "categories": [
           {
            "name": "TX",
            "count": 1
           },
           {
            "name": "MA",
            "count": 1
           },
           {
            "name": "3 others",
            "count": 3
           }
          ]
         }
        },
        {
         "name": "Zipcode",
         "dtype": "float64",
         "stats": {
          "unique_count": 1,
          "nan_count": 4,
          "min": "1524.0",
          "max": "1524.0",
          "histogram": [
           {
            "bin_start": 1523.5,
            "bin_end": 1523.6,
            "count": 0
           },
           {
            "bin_start": 1523.6,
            "bin_end": 1523.7,
            "count": 0
           },
           {
            "bin_start": 1523.7,
            "bin_end": 1523.8,
            "count": 0
           },
           {
            "bin_start": 1523.8,
            "bin_end": 1523.9,
            "count": 0
           },
           {
            "bin_start": 1523.9,
            "bin_end": 1524,
            "count": 0
           },
           {
            "bin_start": 1524,
            "bin_end": 1524.1,
            "count": 1
           },
           {
            "bin_start": 1524.1,
            "bin_end": 1524.2,
            "count": 0
           },
           {
            "bin_start": 1524.2,
            "bin_end": 1524.3,
            "count": 0
           },
           {
            "bin_start": 1524.3,
            "bin_end": 1524.4,
            "count": 0
           },
           {
            "bin_start": 1524.4,
            "bin_end": 1524.5,
            "count": 0
           }
          ]
         }
        },
        {
         "name": "County",
         "dtype": "object",
         "stats": {
          "unique_count": 2,
          "nan_count": 3,
          "categories": [
           {
            "name": "Worcester",
            "count": 1
           },
           {
            "name": "Riverside",
            "count": 1
           },
           {
            "name": "Missing",
            "count": 3
           }
          ]
         }
        },
        {
         "name": "Agency responsible for death",
         "dtype": "object",
         "stats": {
          "unique_count": 5,
          "nan_count": 0,
          "categories": [
           {
            "name": "Lancaster Police Department",
            "count": 1
           },
           {
            "name": "Leicester Police Department",
            "count": 1
           },
           {
            "name": "3 others",
            "count": 3
           }
          ]
         }
        },
        {
         "name": "ORI Agency Identifier (if available)",
         "dtype": "object",
         "stats": {
          "unique_count": 5,
          "nan_count": 0,
          "categories": [
           {
            "name": "TX0571700",
            "count": 1
           },
           {
            "name": "MA0142400",
            "count": 1
           },
           {
            "name": "3 others",
            "count": 3
           }
          ]
         }
        },
        {
         "name": "Cause of death",
         "dtype": "object",
         "stats": {
          "unique_count": 1,
          "nan_count": 0,
          "categories": [
           {
            "name": "Gunshot",
            "count": 5
           }
          ]
         }
        },
        {
         "name": "A brief description of the circumstances surrounding the death",
         "dtype": "object",
         "stats": {
          "unique_count": 5,
          "nan_count": 0,
          "categories": [
           {
            "name": "Police responded to a call of a man firing shots within an apartment complex. Officers went to Horton's apartment and forced their way in. Police claim Horton was armed, and they shot and killed him.",
            "count": 1
           },
           {
            "name": "A man allegedly crashed an SUV into the Leicester Police Station, repeatedly ramming his vehicle into the front doors until he gained entry into the building. Responding officers saw the SUV in the front door and encountered the man. Police claim the man placed a rifle on his shoulder and aimed it at the officers. The police officers shot and killed him.",
            "count": 1
           },
           {
            "name": "3 others",
            "count": 3
           }
          ]
         }
        },
        {
         "name": "Official disposition of death (justified or other)",
         "dtype": "object",
         "stats": {
          "unique_count": 1,
          "nan_count": 0,
          "categories": [
           {
            "name": "Pending investigation",
            "count": 5
           }
          ]
         }
        },
        {
         "name": "Criminal Charges?",
         "dtype": "object",
         "stats": {
          "unique_count": 1,
          "nan_count": 0,
          "categories": [
           {
            "name": "No known charges",
            "count": 5
           }
          ]
         }
        },
        {
         "name": "Link to news article or photo of official document",
         "dtype": "object",
         "stats": {
          "unique_count": 5,
          "nan_count": 0,
          "categories": [
           {
            "name": "https://www.fox4news.com/news/lancaster-police-officers-involved-in-shooting",
            "count": 1
           },
           {
            "name": "https://www.wcvb.com/article/leicester-police-station-shooting-car-crash-massachusetts/36374400",
            "count": 1
           },
           {
            "name": "3 others",
            "count": 3
           }
          ]
         }
        },
        {
         "name": "Symptoms of mental illness?",
         "dtype": "object",
         "stats": {
          "unique_count": 2,
          "nan_count": 0,
          "categories": [
           {
            "name": "No",
            "count": 4
           },
           {
            "name": "Yes",
            "count": 1
           }
          ]
         }
        },
        {
         "name": "Armed/Unarmed Status",
         "dtype": "object",
         "stats": {
          "unique_count": 1,
          "nan_count": 0,
          "categories": [
           {
            "name": "Allegedly Armed",
            "count": 5
           }
          ]
         }
        },
        {
         "name": "Alleged Weapon (Source: WaPo and Review of Cases Not Included in WaPo Database)",
         "dtype": "object",
         "stats": {
          "unique_count": 1,
          "nan_count": 0,
          "categories": [
           {
            "name": "gun",
            "count": 5
           }
          ]
         }
        },
        {
         "name": "Alleged Threat Level (Source: WaPo)",
         "dtype": "object",
         "stats": {
          "unique_count": 1,
          "nan_count": 0,
          "categories": [
           {
            "name": "attack",
            "count": 5
           }
          ]
         }
        },
        {
         "name": "Fleeing (Source: WaPo)",
         "dtype": "object",
         "stats": {
          "unique_count": 1,
          "nan_count": 1,
          "categories": [
           {
            "name": "not fleeing",
            "count": 4
           },
           {
            "name": "Missing",
            "count": 1
           }
          ]
         }
        },
        {
         "name": "Body Camera (Source: WaPo)",
         "dtype": "object",
         "stats": {
          "unique_count": 1,
          "nan_count": 0,
          "categories": [
           {
            "name": "no",
            "count": 5
           }
          ]
         }
        },
        {
         "name": "WaPo ID (If included in WaPo database)",
         "dtype": "float64",
         "stats": {
          "unique_count": 5,
          "nan_count": 0,
          "min": "6841.0",
          "max": "6846.0",
          "histogram": [
           {
            "bin_start": 6841,
            "bin_end": 6841.5,
            "count": 1
           },
           {
            "bin_start": 6841.5,
            "bin_end": 6842,
            "count": 0
           },
           {
            "bin_start": 6842,
            "bin_end": 6842.5,
            "count": 1
           },
           {
            "bin_start": 6842.5,
            "bin_end": 6843,
            "count": 0
           },
           {
            "bin_start": 6843,
            "bin_end": 6843.5,
            "count": 0
           },
           {
            "bin_start": 6843.5,
            "bin_end": 6844,
            "count": 0
           },
           {
            "bin_start": 6844,
            "bin_end": 6844.5,
            "count": 1
           },
           {
            "bin_start": 6844.5,
            "bin_end": 6845,
            "count": 0
           },
           {
            "bin_start": 6845,
            "bin_end": 6845.5,
            "count": 1
           },
           {
            "bin_start": 6845.5,
            "bin_end": 6846,
            "count": 1
           }
          ]
         }
        },
        {
         "name": "Off-Duty Killing?",
         "dtype": "object",
         "stats": {
          "unique_count": 0,
          "nan_count": 5,
          "categories": [
           {
            "name": "Missing",
            "count": 5
           }
          ]
         }
        },
        {
         "name": "Geography (via Trulia methodology based on zipcode population density: http://jedkolko.com/wp-content/uploads/2015/05/full-ZCTA-urban-suburban-rural-classification.xlsx )",
         "dtype": "object",
         "stats": {
          "unique_count": 1,
          "nan_count": 4,
          "categories": [
           {
            "name": "Suburban",
            "count": 1
           },
           {
            "name": "Missing",
            "count": 4
           }
          ]
         }
        },
        {
         "name": "MPV ID",
         "dtype": "float64",
         "stats": {
          "unique_count": 0,
          "nan_count": 5,
          "min": null,
          "max": null,
          "histogram": [
           {
            "bin_start": 0,
            "bin_end": 0.1,
            "count": 0
           },
           {
            "bin_start": 0.1,
            "bin_end": 0.2,
            "count": 0
           },
           {
            "bin_start": 0.2,
            "bin_end": 0.30000000000000004,
            "count": 0
           },
           {
            "bin_start": 0.30000000000000004,
            "bin_end": 0.4,
            "count": 0
           },
           {
            "bin_start": 0.4,
            "bin_end": 0.5,
            "count": 0
           },
           {
            "bin_start": 0.5,
            "bin_end": 0.6000000000000001,
            "count": 0
           },
           {
            "bin_start": 0.6000000000000001,
            "bin_end": 0.7000000000000001,
            "count": 0
           },
           {
            "bin_start": 0.7000000000000001,
            "bin_end": 0.8,
            "count": 0
           },
           {
            "bin_start": 0.8,
            "bin_end": 0.9,
            "count": 0
           },
           {
            "bin_start": 0.9,
            "bin_end": 1,
            "count": 0
           }
          ]
         }
        },
        {
         "name": "Fatal Encounters ID",
         "dtype": "float64",
         "stats": {
          "unique_count": 0,
          "nan_count": 5,
          "min": null,
          "max": null,
          "histogram": [
           {
            "bin_start": 0,
            "bin_end": 0.1,
            "count": 0
           },
           {
            "bin_start": 0.1,
            "bin_end": 0.2,
            "count": 0
           },
           {
            "bin_start": 0.2,
            "bin_end": 0.30000000000000004,
            "count": 0
           },
           {
            "bin_start": 0.30000000000000004,
            "bin_end": 0.4,
            "count": 0
           },
           {
            "bin_start": 0.4,
            "bin_end": 0.5,
            "count": 0
           },
           {
            "bin_start": 0.5,
            "bin_end": 0.6000000000000001,
            "count": 0
           },
           {
            "bin_start": 0.6000000000000001,
            "bin_end": 0.7000000000000001,
            "count": 0
           },
           {
            "bin_start": 0.7000000000000001,
            "bin_end": 0.8,
            "count": 0
           },
           {
            "bin_start": 0.8,
            "bin_end": 0.9,
            "count": 0
           },
           {
            "bin_start": 0.9,
            "bin_end": 1,
            "count": 0
           }
          ]
         }
        },
        {
         "name": "Encounter Type (DRAFT)",
         "dtype": "object",
         "stats": {
          "unique_count": 3,
          "nan_count": 0,
          "categories": [
           {
            "name": "Part 1 Violent Crime",
            "count": 3
           },
           {
            "name": "Other",
            "count": 1
           },
           {
            "name": "Person with a gun",
            "count": 1
           }
          ]
         }
        },
        {
         "name": "Initial Reported Reason for Encounter (DRAFT)",
         "dtype": "object",
         "stats": {
          "unique_count": 4,
          "nan_count": 0,
          "categories": [
           {
            "name": "murder",
            "count": 2
           },
           {
            "name": "gunshots",
            "count": 1
           },
           {
            "name": "2 others",
            "count": 2
           }
          ]
         }
        },
        {
         "name": "Names of Officers Involved (DRAFT)",
         "dtype": "object",
         "stats": {
          "unique_count": 0,
          "nan_count": 5,
          "categories": [
           {
            "name": "Missing",
            "count": 5
           }
          ]
         }
        },
        {
         "name": "Race of Officers Involved (DRAFT)",
         "dtype": "object",
         "stats": {
          "unique_count": 0,
          "nan_count": 5,
          "categories": [
           {
            "name": "Missing",
            "count": 5
           }
          ]
         }
        },
        {
         "name": "Known Past Shootings of Officer(s) (DRAFT)",
         "dtype": "object",
         "stats": {
          "unique_count": 0,
          "nan_count": 5,
          "categories": [
           {
            "name": "Missing",
            "count": 5
           }
          ]
         }
        },
        {
         "name": "Call for Service? (DRAFT)",
         "dtype": "object",
         "stats": {
          "unique_count": 2,
          "nan_count": 0,
          "categories": [
           {
            "name": "Yes",
            "count": 4
           },
           {
            "name": "No",
            "count": 1
           }
          ]
         }
        },
        {
         "name": "Unnamed: 35",
         "dtype": "float64",
         "stats": {
          "unique_count": 0,
          "nan_count": 5,
          "min": null,
          "max": null,
          "histogram": [
           {
            "bin_start": 0,
            "bin_end": 0.1,
            "count": 0
           },
           {
            "bin_start": 0.1,
            "bin_end": 0.2,
            "count": 0
           },
           {
            "bin_start": 0.2,
            "bin_end": 0.30000000000000004,
            "count": 0
           },
           {
            "bin_start": 0.30000000000000004,
            "bin_end": 0.4,
            "count": 0
           },
           {
            "bin_start": 0.4,
            "bin_end": 0.5,
            "count": 0
           },
           {
            "bin_start": 0.5,
            "bin_end": 0.6000000000000001,
            "count": 0
           },
           {
            "bin_start": 0.6000000000000001,
            "bin_end": 0.7000000000000001,
            "count": 0
           },
           {
            "bin_start": 0.7000000000000001,
            "bin_end": 0.8,
            "count": 0
           },
           {
            "bin_start": 0.8,
            "bin_end": 0.9,
            "count": 0
           },
           {
            "bin_start": 0.9,
            "bin_end": 1,
            "count": 0
           }
          ]
         }
        },
        {
         "name": "Unnamed: 36",
         "dtype": "float64",
         "stats": {
          "unique_count": 0,
          "nan_count": 5,
          "min": null,
          "max": null,
          "histogram": [
           {
            "bin_start": 0,
            "bin_end": 0.1,
            "count": 0
           },
           {
            "bin_start": 0.1,
            "bin_end": 0.2,
            "count": 0
           },
           {
            "bin_start": 0.2,
            "bin_end": 0.30000000000000004,
            "count": 0
           },
           {
            "bin_start": 0.30000000000000004,
            "bin_end": 0.4,
            "count": 0
           },
           {
            "bin_start": 0.4,
            "bin_end": 0.5,
            "count": 0
           },
           {
            "bin_start": 0.5,
            "bin_end": 0.6000000000000001,
            "count": 0
           },
           {
            "bin_start": 0.6000000000000001,
            "bin_end": 0.7000000000000001,
            "count": 0
           },
           {
            "bin_start": 0.7000000000000001,
            "bin_end": 0.8,
            "count": 0
           },
           {
            "bin_start": 0.8,
            "bin_end": 0.9,
            "count": 0
           },
           {
            "bin_start": 0.9,
            "bin_end": 1,
            "count": 0
           }
          ]
         }
        },
        {
         "name": "Unnamed: 37",
         "dtype": "float64",
         "stats": {
          "unique_count": 0,
          "nan_count": 5,
          "min": null,
          "max": null,
          "histogram": [
           {
            "bin_start": 0,
            "bin_end": 0.1,
            "count": 0
           },
           {
            "bin_start": 0.1,
            "bin_end": 0.2,
            "count": 0
           },
           {
            "bin_start": 0.2,
            "bin_end": 0.30000000000000004,
            "count": 0
           },
           {
            "bin_start": 0.30000000000000004,
            "bin_end": 0.4,
            "count": 0
           },
           {
            "bin_start": 0.4,
            "bin_end": 0.5,
            "count": 0
           },
           {
            "bin_start": 0.5,
            "bin_end": 0.6000000000000001,
            "count": 0
           },
           {
            "bin_start": 0.6000000000000001,
            "bin_end": 0.7000000000000001,
            "count": 0
           },
           {
            "bin_start": 0.7000000000000001,
            "bin_end": 0.8,
            "count": 0
           },
           {
            "bin_start": 0.8,
            "bin_end": 0.9,
            "count": 0
           },
           {
            "bin_start": 0.9,
            "bin_end": 1,
            "count": 0
           }
          ]
         }
        },
        {
         "name": "Unnamed: 38",
         "dtype": "float64",
         "stats": {
          "unique_count": 0,
          "nan_count": 5,
          "min": null,
          "max": null,
          "histogram": [
           {
            "bin_start": 0,
            "bin_end": 0.1,
            "count": 0
           },
           {
            "bin_start": 0.1,
            "bin_end": 0.2,
            "count": 0
           },
           {
            "bin_start": 0.2,
            "bin_end": 0.30000000000000004,
            "count": 0
           },
           {
            "bin_start": 0.30000000000000004,
            "bin_end": 0.4,
            "count": 0
           },
           {
            "bin_start": 0.4,
            "bin_end": 0.5,
            "count": 0
           },
           {
            "bin_start": 0.5,
            "bin_end": 0.6000000000000001,
            "count": 0
           },
           {
            "bin_start": 0.6000000000000001,
            "bin_end": 0.7000000000000001,
            "count": 0
           },
           {
            "bin_start": 0.7000000000000001,
            "bin_end": 0.8,
            "count": 0
           },
           {
            "bin_start": 0.8,
            "bin_end": 0.9,
            "count": 0
           },
           {
            "bin_start": 0.9,
            "bin_end": 1,
            "count": 0
           }
          ]
         }
        },
        {
         "name": "Unnamed: 39",
         "dtype": "float64",
         "stats": {
          "unique_count": 0,
          "nan_count": 5,
          "min": null,
          "max": null,
          "histogram": [
           {
            "bin_start": 0,
            "bin_end": 0.1,
            "count": 0
           },
           {
            "bin_start": 0.1,
            "bin_end": 0.2,
            "count": 0
           },
           {
            "bin_start": 0.2,
            "bin_end": 0.30000000000000004,
            "count": 0
           },
           {
            "bin_start": 0.30000000000000004,
            "bin_end": 0.4,
            "count": 0
           },
           {
            "bin_start": 0.4,
            "bin_end": 0.5,
            "count": 0
           },
           {
            "bin_start": 0.5,
            "bin_end": 0.6000000000000001,
            "count": 0
           },
           {
            "bin_start": 0.6000000000000001,
            "bin_end": 0.7000000000000001,
            "count": 0
           },
           {
            "bin_start": 0.7000000000000001,
            "bin_end": 0.8,
            "count": 0
           },
           {
            "bin_start": 0.8,
            "bin_end": 0.9,
            "count": 0
           },
           {
            "bin_start": 0.9,
            "bin_end": 1,
            "count": 0
           }
          ]
         }
        },
        {
         "name": "Unnamed: 40",
         "dtype": "float64",
         "stats": {
          "unique_count": 0,
          "nan_count": 5,
          "min": null,
          "max": null,
          "histogram": [
           {
            "bin_start": 0,
            "bin_end": 0.1,
            "count": 0
           },
           {
            "bin_start": 0.1,
            "bin_end": 0.2,
            "count": 0
           },
           {
            "bin_start": 0.2,
            "bin_end": 0.30000000000000004,
            "count": 0
           },
           {
            "bin_start": 0.30000000000000004,
            "bin_end": 0.4,
            "count": 0
           },
           {
            "bin_start": 0.4,
            "bin_end": 0.5,
            "count": 0
           },
           {
            "bin_start": 0.5,
            "bin_end": 0.6000000000000001,
            "count": 0
           },
           {
            "bin_start": 0.6000000000000001,
            "bin_end": 0.7000000000000001,
            "count": 0
           },
           {
            "bin_start": 0.7000000000000001,
            "bin_end": 0.8,
            "count": 0
           },
           {
            "bin_start": 0.8,
            "bin_end": 0.9,
            "count": 0
           },
           {
            "bin_start": 0.9,
            "bin_end": 1,
            "count": 0
           }
          ]
         }
        },
        {
         "name": "Unnamed: 41",
         "dtype": "float64",
         "stats": {
          "unique_count": 0,
          "nan_count": 5,
          "min": null,
          "max": null,
          "histogram": [
           {
            "bin_start": 0,
            "bin_end": 0.1,
            "count": 0
           },
           {
            "bin_start": 0.1,
            "bin_end": 0.2,
            "count": 0
           },
           {
            "bin_start": 0.2,
            "bin_end": 0.30000000000000004,
            "count": 0
           },
           {
            "bin_start": 0.30000000000000004,
            "bin_end": 0.4,
            "count": 0
           },
           {
            "bin_start": 0.4,
            "bin_end": 0.5,
            "count": 0
           },
           {
            "bin_start": 0.5,
            "bin_end": 0.6000000000000001,
            "count": 0
           },
           {
            "bin_start": 0.6000000000000001,
            "bin_end": 0.7000000000000001,
            "count": 0
           },
           {
            "bin_start": 0.7000000000000001,
            "bin_end": 0.8,
            "count": 0
           },
           {
            "bin_start": 0.8,
            "bin_end": 0.9,
            "count": 0
           },
           {
            "bin_start": 0.9,
            "bin_end": 1,
            "count": 0
           }
          ]
         }
        },
        {
         "name": "Unnamed: 42",
         "dtype": "float64",
         "stats": {
          "unique_count": 0,
          "nan_count": 5,
          "min": null,
          "max": null,
          "histogram": [
           {
            "bin_start": 0,
            "bin_end": 0.1,
            "count": 0
           },
           {
            "bin_start": 0.1,
            "bin_end": 0.2,
            "count": 0
           },
           {
            "bin_start": 0.2,
            "bin_end": 0.30000000000000004,
            "count": 0
           },
           {
            "bin_start": 0.30000000000000004,
            "bin_end": 0.4,
            "count": 0
           },
           {
            "bin_start": 0.4,
            "bin_end": 0.5,
            "count": 0
           },
           {
            "bin_start": 0.5,
            "bin_end": 0.6000000000000001,
            "count": 0
           },
           {
            "bin_start": 0.6000000000000001,
            "bin_end": 0.7000000000000001,
            "count": 0
           },
           {
            "bin_start": 0.7000000000000001,
            "bin_end": 0.8,
            "count": 0
           },
           {
            "bin_start": 0.8,
            "bin_end": 0.9,
            "count": 0
           },
           {
            "bin_start": 0.9,
            "bin_end": 1,
            "count": 0
           }
          ]
         }
        },
        {
         "name": "Unnamed: 43",
         "dtype": "float64",
         "stats": {
          "unique_count": 0,
          "nan_count": 5,
          "min": null,
          "max": null,
          "histogram": [
           {
            "bin_start": 0,
            "bin_end": 0.1,
            "count": 0
           },
           {
            "bin_start": 0.1,
            "bin_end": 0.2,
            "count": 0
           },
           {
            "bin_start": 0.2,
            "bin_end": 0.30000000000000004,
            "count": 0
           },
           {
            "bin_start": 0.30000000000000004,
            "bin_end": 0.4,
            "count": 0
           },
           {
            "bin_start": 0.4,
            "bin_end": 0.5,
            "count": 0
           },
           {
            "bin_start": 0.5,
            "bin_end": 0.6000000000000001,
            "count": 0
           },
           {
            "bin_start": 0.6000000000000001,
            "bin_end": 0.7000000000000001,
            "count": 0
           },
           {
            "bin_start": 0.7000000000000001,
            "bin_end": 0.8,
            "count": 0
           },
           {
            "bin_start": 0.8,
            "bin_end": 0.9,
            "count": 0
           },
           {
            "bin_start": 0.9,
            "bin_end": 1,
            "count": 0
           }
          ]
         }
        },
        {
         "name": "Unnamed: 44",
         "dtype": "float64",
         "stats": {
          "unique_count": 0,
          "nan_count": 5,
          "min": null,
          "max": null,
          "histogram": [
           {
            "bin_start": 0,
            "bin_end": 0.1,
            "count": 0
           },
           {
            "bin_start": 0.1,
            "bin_end": 0.2,
            "count": 0
           },
           {
            "bin_start": 0.2,
            "bin_end": 0.30000000000000004,
            "count": 0
           },
           {
            "bin_start": 0.30000000000000004,
            "bin_end": 0.4,
            "count": 0
           },
           {
            "bin_start": 0.4,
            "bin_end": 0.5,
            "count": 0
           },
           {
            "bin_start": 0.5,
            "bin_end": 0.6000000000000001,
            "count": 0
           },
           {
            "bin_start": 0.6000000000000001,
            "bin_end": 0.7000000000000001,
            "count": 0
           },
           {
            "bin_start": 0.7000000000000001,
            "bin_end": 0.8,
            "count": 0
           },
           {
            "bin_start": 0.8,
            "bin_end": 0.9,
            "count": 0
           },
           {
            "bin_start": 0.9,
            "bin_end": 1,
            "count": 0
           }
          ]
         }
        },
        {
         "name": "Unnamed: 45",
         "dtype": "float64",
         "stats": {
          "unique_count": 0,
          "nan_count": 5,
          "min": null,
          "max": null,
          "histogram": [
           {
            "bin_start": 0,
            "bin_end": 0.1,
            "count": 0
           },
           {
            "bin_start": 0.1,
            "bin_end": 0.2,
            "count": 0
           },
           {
            "bin_start": 0.2,
            "bin_end": 0.30000000000000004,
            "count": 0
           },
           {
            "bin_start": 0.30000000000000004,
            "bin_end": 0.4,
            "count": 0
           },
           {
            "bin_start": 0.4,
            "bin_end": 0.5,
            "count": 0
           },
           {
            "bin_start": 0.5,
            "bin_end": 0.6000000000000001,
            "count": 0
           },
           {
            "bin_start": 0.6000000000000001,
            "bin_end": 0.7000000000000001,
            "count": 0
           },
           {
            "bin_start": 0.7000000000000001,
            "bin_end": 0.8,
            "count": 0
           },
           {
            "bin_start": 0.8,
            "bin_end": 0.9,
            "count": 0
           },
           {
            "bin_start": 0.9,
            "bin_end": 1,
            "count": 0
           }
          ]
         }
        },
        {
         "name": "Unnamed: 46",
         "dtype": "float64",
         "stats": {
          "unique_count": 0,
          "nan_count": 5,
          "min": null,
          "max": null,
          "histogram": [
           {
            "bin_start": 0,
            "bin_end": 0.1,
            "count": 0
           },
           {
            "bin_start": 0.1,
            "bin_end": 0.2,
            "count": 0
           },
           {
            "bin_start": 0.2,
            "bin_end": 0.30000000000000004,
            "count": 0
           },
           {
            "bin_start": 0.30000000000000004,
            "bin_end": 0.4,
            "count": 0
           },
           {
            "bin_start": 0.4,
            "bin_end": 0.5,
            "count": 0
           },
           {
            "bin_start": 0.5,
            "bin_end": 0.6000000000000001,
            "count": 0
           },
           {
            "bin_start": 0.6000000000000001,
            "bin_end": 0.7000000000000001,
            "count": 0
           },
           {
            "bin_start": 0.7000000000000001,
            "bin_end": 0.8,
            "count": 0
           },
           {
            "bin_start": 0.8,
            "bin_end": 0.9,
            "count": 0
           },
           {
            "bin_start": 0.9,
            "bin_end": 1,
            "count": 0
           }
          ]
         }
        },
        {
         "name": "Unnamed: 47",
         "dtype": "float64",
         "stats": {
          "unique_count": 0,
          "nan_count": 5,
          "min": null,
          "max": null,
          "histogram": [
           {
            "bin_start": 0,
            "bin_end": 0.1,
            "count": 0
           },
           {
            "bin_start": 0.1,
            "bin_end": 0.2,
            "count": 0
           },
           {
            "bin_start": 0.2,
            "bin_end": 0.30000000000000004,
            "count": 0
           },
           {
            "bin_start": 0.30000000000000004,
            "bin_end": 0.4,
            "count": 0
           },
           {
            "bin_start": 0.4,
            "bin_end": 0.5,
            "count": 0
           },
           {
            "bin_start": 0.5,
            "bin_end": 0.6000000000000001,
            "count": 0
           },
           {
            "bin_start": 0.6000000000000001,
            "bin_end": 0.7000000000000001,
            "count": 0
           },
           {
            "bin_start": 0.7000000000000001,
            "bin_end": 0.8,
            "count": 0
           },
           {
            "bin_start": 0.8,
            "bin_end": 0.9,
            "count": 0
           },
           {
            "bin_start": 0.9,
            "bin_end": 1,
            "count": 0
           }
          ]
         }
        },
        {
         "name": "Unnamed: 48",
         "dtype": "float64",
         "stats": {
          "unique_count": 0,
          "nan_count": 5,
          "min": null,
          "max": null,
          "histogram": [
           {
            "bin_start": 0,
            "bin_end": 0.1,
            "count": 0
           },
           {
            "bin_start": 0.1,
            "bin_end": 0.2,
            "count": 0
           },
           {
            "bin_start": 0.2,
            "bin_end": 0.30000000000000004,
            "count": 0
           },
           {
            "bin_start": 0.30000000000000004,
            "bin_end": 0.4,
            "count": 0
           },
           {
            "bin_start": 0.4,
            "bin_end": 0.5,
            "count": 0
           },
           {
            "bin_start": 0.5,
            "bin_end": 0.6000000000000001,
            "count": 0
           },
           {
            "bin_start": 0.6000000000000001,
            "bin_end": 0.7000000000000001,
            "count": 0
           },
           {
            "bin_start": 0.7000000000000001,
            "bin_end": 0.8,
            "count": 0
           },
           {
            "bin_start": 0.8,
            "bin_end": 0.9,
            "count": 0
           },
           {
            "bin_start": 0.9,
            "bin_end": 1,
            "count": 0
           }
          ]
         }
        },
        {
         "name": "_deepnote_index_column",
         "dtype": "int64"
        }
       ],
       "rows_top": [
        {
         "Victim's name": "Kalon Horton",
         "Victim's age": "29",
         "Victim's gender": "Male",
         "Victim's race": "Black",
         "URL of image of victim": "nan",
         "Date of Incident (month/day/year)": "2021-05-09T00:00:00.000000",
         "Street Address of Incident": "nan",
         "City": "Lancaster",
         "State": "TX",
         "Zipcode": "nan",
         "County": "nan",
         "Agency responsible for death": "Lancaster Police Department",
         "ORI Agency Identifier (if available)": "TX0571700",
         "Cause of death": "Gunshot",
         "A brief description of the circumstances surrounding the death": "Police responded to a call of a man firing shots within an apartment complex. Officers went to Horton's apartment and forced their way in. Police claim Horton was armed, and they shot and killed him.",
         "Official disposition of death (justified or other)": "Pending investigation",
         "Criminal Charges?": "No known charges",
         "Link to news article or photo of official document": "https://www.fox4news.com/news/lancaster-police-officers-involved-in-shooting",
         "Symptoms of mental illness?": "No",
         "Armed/Unarmed Status": "Allegedly Armed",
         "Alleged Weapon (Source: WaPo and Review of Cases Not Included in WaPo Database)": "gun",
         "Alleged Threat Level (Source: WaPo)": "attack",
         "Fleeing (Source: WaPo)": "nan",
         "Body Camera (Source: WaPo)": "no",
         "WaPo ID (If included in WaPo database)": 6842,
         "Off-Duty Killing?": "nan",
         "Geography (via Trulia methodology based on zipcode population density: http://jedkolko.com/wp-content/uploads/2015/05/full-ZCTA-urban-suburban-rural-classification.xlsx )": "nan",
         "MPV ID": "nan",
         "Fatal Encounters ID": "nan",
         "Encounter Type (DRAFT)": "Part 1 Violent Crime",
         "Initial Reported Reason for Encounter (DRAFT)": "gunshots",
         "Names of Officers Involved (DRAFT)": "nan",
         "Race of Officers Involved (DRAFT)": "nan",
         "Known Past Shootings of Officer(s) (DRAFT)": "nan",
         "Call for Service? (DRAFT)": "Yes",
         "Unnamed: 35": "nan",
         "Unnamed: 36": "nan",
         "Unnamed: 37": "nan",
         "Unnamed: 38": "nan",
         "Unnamed: 39": "nan",
         "Unnamed: 40": "nan",
         "Unnamed: 41": "nan",
         "Unnamed: 42": "nan",
         "Unnamed: 43": "nan",
         "Unnamed: 44": "nan",
         "Unnamed: 45": "nan",
         "Unnamed: 46": "nan",
         "Unnamed: 47": "nan",
         "Unnamed: 48": "nan",
         "_deepnote_index_column": 0
        },
        {
         "Victim's name": "Name withheld by police",
         "Victim's age": "nan",
         "Victim's gender": "Male",
         "Victim's race": "Unknown Race",
         "URL of image of victim": "nan",
         "Date of Incident (month/day/year)": "2021-05-09T00:00:00.000000",
         "Street Address of Incident": "90 S. Main St.",
         "City": "Leicester",
         "State": "MA",
         "Zipcode": "1524.0",
         "County": "Worcester",
         "Agency responsible for death": "Leicester Police Department",
         "ORI Agency Identifier (if available)": "MA0142400",
         "Cause of death": "Gunshot",
         "A brief description of the circumstances surrounding the death": "A man allegedly crashed an SUV into the Leicester Police Station, repeatedly ramming his vehicle into the front doors until he gained entry into the building. Responding officers saw the SUV in the front door and encountered the man. Police claim the man placed a rifle on his shoulder and aimed it at the officers. The police officers shot and killed him.",
         "Official disposition of death (justified or other)": "Pending investigation",
         "Criminal Charges?": "No known charges",
         "Link to news article or photo of official document": "https://www.wcvb.com/article/leicester-police-station-shooting-car-crash-massachusetts/36374400",
         "Symptoms of mental illness?": "No",
         "Armed/Unarmed Status": "Allegedly Armed",
         "Alleged Weapon (Source: WaPo and Review of Cases Not Included in WaPo Database)": "gun",
         "Alleged Threat Level (Source: WaPo)": "attack",
         "Fleeing (Source: WaPo)": "not fleeing",
         "Body Camera (Source: WaPo)": "no",
         "WaPo ID (If included in WaPo database)": 6844,
         "Off-Duty Killing?": "nan",
         "Geography (via Trulia methodology based on zipcode population density: http://jedkolko.com/wp-content/uploads/2015/05/full-ZCTA-urban-suburban-rural-classification.xlsx )": "Suburban",
         "MPV ID": "nan",
         "Fatal Encounters ID": "nan",
         "Encounter Type (DRAFT)": "Other",
         "Initial Reported Reason for Encounter (DRAFT)": "deliberate car crash",
         "Names of Officers Involved (DRAFT)": "nan",
         "Race of Officers Involved (DRAFT)": "nan",
         "Known Past Shootings of Officer(s) (DRAFT)": "nan",
         "Call for Service? (DRAFT)": "Yes",
         "Unnamed: 35": "nan",
         "Unnamed: 36": "nan",
         "Unnamed: 37": "nan",
         "Unnamed: 38": "nan",
         "Unnamed: 39": "nan",
         "Unnamed: 40": "nan",
         "Unnamed: 41": "nan",
         "Unnamed: 42": "nan",
         "Unnamed: 43": "nan",
         "Unnamed: 44": "nan",
         "Unnamed: 45": "nan",
         "Unnamed: 46": "nan",
         "Unnamed: 47": "nan",
         "Unnamed: 48": "nan",
         "_deepnote_index_column": 1
        },
        {
         "Victim's name": "Jeffrey Mark Murray",
         "Victim's age": "62",
         "Victim's gender": "Male",
         "Victim's race": "Unknown Race",
         "URL of image of victim": "nan",
         "Date of Incident (month/day/year)": "2021-05-09T00:00:00.000000",
         "Street Address of Incident": "nan",
         "City": "Greenville",
         "State": "SC",
         "Zipcode": "nan",
         "County": "nan",
         "Agency responsible for death": "Greenville Police Department",
         "ORI Agency Identifier (if available)": "SC0230000",
         "Cause of death": "Gunshot",
         "A brief description of the circumstances surrounding the death": "Murray allegedly shot and killed David Oliver while Oliver was on the phone with the police. Police found Murray and killed him. ",
         "Official disposition of death (justified or other)": "Pending investigation",
         "Criminal Charges?": "No known charges",
         "Link to news article or photo of official document": "https://www.seattletimes.com/nation-world/nation/cyclist-killed-in-dispute-shooter-dies-in-police-gun-battle/",
         "Symptoms of mental illness?": "No",
         "Armed/Unarmed Status": "Allegedly Armed",
         "Alleged Weapon (Source: WaPo and Review of Cases Not Included in WaPo Database)": "gun",
         "Alleged Threat Level (Source: WaPo)": "attack",
         "Fleeing (Source: WaPo)": "not fleeing",
         "Body Camera (Source: WaPo)": "no",
         "WaPo ID (If included in WaPo database)": 6841,
         "Off-Duty Killing?": "nan",
         "Geography (via Trulia methodology based on zipcode population density: http://jedkolko.com/wp-content/uploads/2015/05/full-ZCTA-urban-suburban-rural-classification.xlsx )": "nan",
         "MPV ID": "nan",
         "Fatal Encounters ID": "nan",
         "Encounter Type (DRAFT)": "Part 1 Violent Crime",
         "Initial Reported Reason for Encounter (DRAFT)": "murder",
         "Names of Officers Involved (DRAFT)": "nan",
         "Race of Officers Involved (DRAFT)": "nan",
         "Known Past Shootings of Officer(s) (DRAFT)": "nan",
         "Call for Service? (DRAFT)": "Yes",
         "Unnamed: 35": "nan",
         "Unnamed: 36": "nan",
         "Unnamed: 37": "nan",
         "Unnamed: 38": "nan",
         "Unnamed: 39": "nan",
         "Unnamed: 40": "nan",
         "Unnamed: 41": "nan",
         "Unnamed: 42": "nan",
         "Unnamed: 43": "nan",
         "Unnamed: 44": "nan",
         "Unnamed: 45": "nan",
         "Unnamed: 46": "nan",
         "Unnamed: 47": "nan",
         "Unnamed: 48": "nan",
         "_deepnote_index_column": 2
        },
        {
         "Victim's name": "Everton Brown",
         "Victim's age": "56",
         "Victim's gender": "Male",
         "Victim's race": "Unknown Race",
         "URL of image of victim": "nan",
         "Date of Incident (month/day/year)": "2021-05-08T00:00:00.000000",
         "Street Address of Incident": "nan",
         "City": "Baltimore",
         "State": "MD",
         "Zipcode": "nan",
         "County": "nan",
         "Agency responsible for death": "Baltimore County Police Department",
         "ORI Agency Identifier (if available)": "MD0030000",
         "Cause of death": "Gunshot",
         "A brief description of the circumstances surrounding the death": "Brown allegedly shot and killed two neighbors, and injured another. Police responded to the scene and found Brown in a parking lot. Police allegedly commanded Brown to drop his gun and Brown refused. At least four officers shot at Brown, killing him. ",
         "Official disposition of death (justified or other)": "Pending investigation",
         "Criminal Charges?": "No known charges",
         "Link to news article or photo of official document": "https://abcnews.go.com/US/wireStory/police-maryland-man-killed-neighbors-set-house-ablaze-77591766",
         "Symptoms of mental illness?": "Yes",
         "Armed/Unarmed Status": "Allegedly Armed",
         "Alleged Weapon (Source: WaPo and Review of Cases Not Included in WaPo Database)": "gun",
         "Alleged Threat Level (Source: WaPo)": "attack",
         "Fleeing (Source: WaPo)": "not fleeing",
         "Body Camera (Source: WaPo)": "no",
         "WaPo ID (If included in WaPo database)": 6846,
         "Off-Duty Killing?": "nan",
         "Geography (via Trulia methodology based on zipcode population density: http://jedkolko.com/wp-content/uploads/2015/05/full-ZCTA-urban-suburban-rural-classification.xlsx )": "nan",
         "MPV ID": "nan",
         "Fatal Encounters ID": "nan",
         "Encounter Type (DRAFT)": "Part 1 Violent Crime",
         "Initial Reported Reason for Encounter (DRAFT)": "murder",
         "Names of Officers Involved (DRAFT)": "nan",
         "Race of Officers Involved (DRAFT)": "nan",
         "Known Past Shootings of Officer(s) (DRAFT)": "nan",
         "Call for Service? (DRAFT)": "Yes",
         "Unnamed: 35": "nan",
         "Unnamed: 36": "nan",
         "Unnamed: 37": "nan",
         "Unnamed: 38": "nan",
         "Unnamed: 39": "nan",
         "Unnamed: 40": "nan",
         "Unnamed: 41": "nan",
         "Unnamed: 42": "nan",
         "Unnamed: 43": "nan",
         "Unnamed: 44": "nan",
         "Unnamed: 45": "nan",
         "Unnamed: 46": "nan",
         "Unnamed: 47": "nan",
         "Unnamed: 48": "nan",
         "_deepnote_index_column": 3
        },
        {
         "Victim's name": "Felix Jerry Marquez",
         "Victim's age": "34",
         "Victim's gender": "Male",
         "Victim's race": "Hispanic",
         "URL of image of victim": "nan",
         "Date of Incident (month/day/year)": "2021-05-08T00:00:00.000000",
         "Street Address of Incident": "nan",
         "City": "Riverside",
         "State": "CA",
         "Zipcode": "nan",
         "County": "Riverside",
         "Agency responsible for death": "Riverside Police Department",
         "ORI Agency Identifier (if available)": "CA0331300",
         "Cause of death": "Gunshot",
         "A brief description of the circumstances surrounding the death": "Officers who were part of a homeless outreach unit encountered Marquez and claim he pulled a handgun, pointing it at them. The officers shot and killed Marquez. ",
         "Official disposition of death (justified or other)": "Pending investigation",
         "Criminal Charges?": "No known charges",
         "Link to news article or photo of official document": "https://www.avpress.com/news/police-shoot-man-who-pulled-gun/article_cd0b7314-b138-11eb-a877-6f0ab8fbc496.html",
         "Symptoms of mental illness?": "No",
         "Armed/Unarmed Status": "Allegedly Armed",
         "Alleged Weapon (Source: WaPo and Review of Cases Not Included in WaPo Database)": "gun",
         "Alleged Threat Level (Source: WaPo)": "attack",
         "Fleeing (Source: WaPo)": "not fleeing",
         "Body Camera (Source: WaPo)": "no",
         "WaPo ID (If included in WaPo database)": 6845,
         "Off-Duty Killing?": "nan",
         "Geography (via Trulia methodology based on zipcode population density: http://jedkolko.com/wp-content/uploads/2015/05/full-ZCTA-urban-suburban-rural-classification.xlsx )": "nan",
         "MPV ID": "nan",
         "Fatal Encounters ID": "nan",
         "Encounter Type (DRAFT)": "Person with a gun",
         "Initial Reported Reason for Encounter (DRAFT)": "person with a gun",
         "Names of Officers Involved (DRAFT)": "nan",
         "Race of Officers Involved (DRAFT)": "nan",
         "Known Past Shootings of Officer(s) (DRAFT)": "nan",
         "Call for Service? (DRAFT)": "No",
         "Unnamed: 35": "nan",
         "Unnamed: 36": "nan",
         "Unnamed: 37": "nan",
         "Unnamed: 38": "nan",
         "Unnamed: 39": "nan",
         "Unnamed: 40": "nan",
         "Unnamed: 41": "nan",
         "Unnamed: 42": "nan",
         "Unnamed: 43": "nan",
         "Unnamed: 44": "nan",
         "Unnamed: 45": "nan",
         "Unnamed: 46": "nan",
         "Unnamed: 47": "nan",
         "Unnamed: 48": "nan",
         "_deepnote_index_column": 4
        }
       ],
       "rows_bottom": null
      },
      "text/plain": "             Victim's name Victim's age Victim's gender Victim's race  \\\n0             Kalon Horton           29            Male         Black   \n1  Name withheld by police          NaN            Male  Unknown Race   \n2      Jeffrey Mark Murray           62            Male  Unknown Race   \n3            Everton Brown           56            Male  Unknown Race   \n4      Felix Jerry Marquez           34            Male      Hispanic   \n\n  URL of image of victim Date of Incident (month/day/year)  \\\n0                    NaN                        2021-05-09   \n1                    NaN                        2021-05-09   \n2                    NaN                        2021-05-09   \n3                    NaN                        2021-05-08   \n4                    NaN                        2021-05-08   \n\n  Street Address of Incident        City State  Zipcode  ... Unnamed: 39  \\\n0                        NaN   Lancaster    TX      NaN  ...         NaN   \n1             90 S. Main St.   Leicester    MA   1524.0  ...         NaN   \n2                        NaN  Greenville    SC      NaN  ...         NaN   \n3                        NaN   Baltimore    MD      NaN  ...         NaN   \n4                        NaN   Riverside    CA      NaN  ...         NaN   \n\n  Unnamed: 40 Unnamed: 41 Unnamed: 42 Unnamed: 43 Unnamed: 44 Unnamed: 45  \\\n0         NaN         NaN         NaN         NaN         NaN         NaN   \n1         NaN         NaN         NaN         NaN         NaN         NaN   \n2         NaN         NaN         NaN         NaN         NaN         NaN   \n3         NaN         NaN         NaN         NaN         NaN         NaN   \n4         NaN         NaN         NaN         NaN         NaN         NaN   \n\n  Unnamed: 46 Unnamed: 47 Unnamed: 48  \n0         NaN         NaN         NaN  \n1         NaN         NaN         NaN  \n2         NaN         NaN         NaN  \n3         NaN         NaN         NaN  \n4         NaN         NaN         NaN  \n\n[5 rows x 49 columns]",
      "text/html": "<div>\n<style scoped>\n    .dataframe tbody tr th:only-of-type {\n        vertical-align: middle;\n    }\n\n    .dataframe tbody tr th {\n        vertical-align: top;\n    }\n\n    .dataframe thead th {\n        text-align: right;\n    }\n</style>\n<table border=\"1\" class=\"dataframe\">\n  <thead>\n    <tr style=\"text-align: right;\">\n      <th></th>\n      <th>Victim's name</th>\n      <th>Victim's age</th>\n      <th>Victim's gender</th>\n      <th>Victim's race</th>\n      <th>URL of image of victim</th>\n      <th>Date of Incident (month/day/year)</th>\n      <th>Street Address of Incident</th>\n      <th>City</th>\n      <th>State</th>\n      <th>Zipcode</th>\n      <th>...</th>\n      <th>Unnamed: 39</th>\n      <th>Unnamed: 40</th>\n      <th>Unnamed: 41</th>\n      <th>Unnamed: 42</th>\n      <th>Unnamed: 43</th>\n      <th>Unnamed: 44</th>\n      <th>Unnamed: 45</th>\n      <th>Unnamed: 46</th>\n      <th>Unnamed: 47</th>\n      <th>Unnamed: 48</th>\n    </tr>\n  </thead>\n  <tbody>\n    <tr>\n      <th>0</th>\n      <td>Kalon Horton</td>\n      <td>29</td>\n      <td>Male</td>\n      <td>Black</td>\n      <td>NaN</td>\n      <td>2021-05-09</td>\n      <td>NaN</td>\n      <td>Lancaster</td>\n      <td>TX</td>\n      <td>NaN</td>\n      <td>...</td>\n      <td>NaN</td>\n      <td>NaN</td>\n      <td>NaN</td>\n      <td>NaN</td>\n      <td>NaN</td>\n      <td>NaN</td>\n      <td>NaN</td>\n      <td>NaN</td>\n      <td>NaN</td>\n      <td>NaN</td>\n    </tr>\n    <tr>\n      <th>1</th>\n      <td>Name withheld by police</td>\n      <td>NaN</td>\n      <td>Male</td>\n      <td>Unknown Race</td>\n      <td>NaN</td>\n      <td>2021-05-09</td>\n      <td>90 S. Main St.</td>\n      <td>Leicester</td>\n      <td>MA</td>\n      <td>1524.0</td>\n      <td>...</td>\n      <td>NaN</td>\n      <td>NaN</td>\n      <td>NaN</td>\n      <td>NaN</td>\n      <td>NaN</td>\n      <td>NaN</td>\n      <td>NaN</td>\n      <td>NaN</td>\n      <td>NaN</td>\n      <td>NaN</td>\n    </tr>\n    <tr>\n      <th>2</th>\n      <td>Jeffrey Mark Murray</td>\n      <td>62</td>\n      <td>Male</td>\n      <td>Unknown Race</td>\n      <td>NaN</td>\n      <td>2021-05-09</td>\n      <td>NaN</td>\n      <td>Greenville</td>\n      <td>SC</td>\n      <td>NaN</td>\n      <td>...</td>\n      <td>NaN</td>\n      <td>NaN</td>\n      <td>NaN</td>\n      <td>NaN</td>\n      <td>NaN</td>\n      <td>NaN</td>\n      <td>NaN</td>\n      <td>NaN</td>\n      <td>NaN</td>\n      <td>NaN</td>\n    </tr>\n    <tr>\n      <th>3</th>\n      <td>Everton Brown</td>\n      <td>56</td>\n      <td>Male</td>\n      <td>Unknown Race</td>\n      <td>NaN</td>\n      <td>2021-05-08</td>\n      <td>NaN</td>\n      <td>Baltimore</td>\n      <td>MD</td>\n      <td>NaN</td>\n      <td>...</td>\n      <td>NaN</td>\n      <td>NaN</td>\n      <td>NaN</td>\n      <td>NaN</td>\n      <td>NaN</td>\n      <td>NaN</td>\n      <td>NaN</td>\n      <td>NaN</td>\n      <td>NaN</td>\n      <td>NaN</td>\n    </tr>\n    <tr>\n      <th>4</th>\n      <td>Felix Jerry Marquez</td>\n      <td>34</td>\n      <td>Male</td>\n      <td>Hispanic</td>\n      <td>NaN</td>\n      <td>2021-05-08</td>\n      <td>NaN</td>\n      <td>Riverside</td>\n      <td>CA</td>\n      <td>NaN</td>\n      <td>...</td>\n      <td>NaN</td>\n      <td>NaN</td>\n      <td>NaN</td>\n      <td>NaN</td>\n      <td>NaN</td>\n      <td>NaN</td>\n      <td>NaN</td>\n      <td>NaN</td>\n      <td>NaN</td>\n      <td>NaN</td>\n    </tr>\n  </tbody>\n</table>\n<p>5 rows × 49 columns</p>\n</div>"
     },
     "metadata": {}
    }
   ]
  },
  {
   "cell_type": "markdown",
   "source": "\n### Initial Data Summarization",
   "metadata": {
    "tags": [],
    "cell_id": "00005-7e9de759-638f-4e2e-9823-cdd59de86202",
    "deepnote_cell_type": "markdown"
   }
  },
  {
   "cell_type": "code",
   "metadata": {
    "deepnote_to_be_reexecuted": false,
    "execution_millis": 13,
    "execution_start": 1622036128729,
    "source_hash": "cbfec6c2",
    "tags": [],
    "cell_id": "00006-66c9c220-a672-4eb2-96c2-c8ee87878fb2",
    "deepnote_cell_type": "code"
   },
   "source": "# rows and columns\ndf.shape",
   "execution_count": 3,
   "outputs": [
    {
     "output_type": "execute_result",
     "execution_count": 3,
     "data": {
      "text/plain": "(9147, 49)"
     },
     "metadata": {}
    }
   ]
  },
  {
   "cell_type": "code",
   "metadata": {
    "deepnote_to_be_reexecuted": false,
    "execution_millis": 24,
    "execution_start": 1622036128746,
    "source_hash": "5451bed5",
    "tags": [],
    "cell_id": "00007-3023c14a-dce9-4cab-a59e-2921c293098c",
    "deepnote_cell_type": "code"
   },
   "source": "# list of column names and data types with information\ndf.info()",
   "execution_count": 4,
   "outputs": [
    {
     "name": "stdout",
     "text": "<class 'pandas.core.frame.DataFrame'>\nRangeIndex: 9147 entries, 0 to 9146\nData columns (total 49 columns):\n #   Column                                                                                                                                                                      Non-Null Count  Dtype         \n---  ------                                                                                                                                                                      --------------  -----         \n 0   Victim's name                                                                                                                                                               9147 non-null   object        \n 1   Victim's age                                                                                                                                                                9138 non-null   object        \n 2   Victim's gender                                                                                                                                                             9137 non-null   object        \n 3   Victim's race                                                                                                                                                               9147 non-null   object        \n 4   URL of image of victim                                                                                                                                                      4882 non-null   object        \n 5   Date of Incident (month/day/year)                                                                                                                                           9147 non-null   datetime64[ns]\n 6   Street Address of Incident                                                                                                                                                  9042 non-null   object        \n 7   City                                                                                                                                                                        9138 non-null   object        \n 8   State                                                                                                                                                                       9147 non-null   object        \n 9   Zipcode                                                                                                                                                                     9099 non-null   float64       \n 10  County                                                                                                                                                                      9130 non-null   object        \n 11  Agency responsible for death                                                                                                                                                9143 non-null   object        \n 12  ORI Agency Identifier (if available)                                                                                                                                        9144 non-null   object        \n 13  Cause of death                                                                                                                                                              9147 non-null   object        \n 14  A brief description of the circumstances surrounding the death                                                                                                              9132 non-null   object        \n 15  Official disposition of death (justified or other)                                                                                                                          9136 non-null   object        \n 16  Criminal Charges?                                                                                                                                                           9147 non-null   object        \n 17  Link to news article or photo of official document                                                                                                                          9147 non-null   object        \n 18  Symptoms of mental illness?                                                                                                                                                 9086 non-null   object        \n 19  Armed/Unarmed Status                                                                                                                                                        9147 non-null   object        \n 20  Alleged Weapon (Source: WaPo and Review of Cases Not Included in WaPo Database)                                                                                             9147 non-null   object        \n 21  Alleged Threat Level (Source: WaPo)                                                                                                                                         6750 non-null   object        \n 22  Fleeing (Source: WaPo)                                                                                                                                                      6056 non-null   object        \n 23  Body Camera (Source: WaPo)                                                                                                                                                  5982 non-null   object        \n 24  WaPo ID (If included in WaPo database)                                                                                                                                      6048 non-null   float64       \n 25  Off-Duty Killing?                                                                                                                                                           248 non-null    object        \n 26  Geography (via Trulia methodology based on zipcode population density: http://jedkolko.com/wp-content/uploads/2015/05/full-ZCTA-urban-suburban-rural-classification.xlsx )  9122 non-null   object        \n 27  MPV ID                                                                                                                                                                      9068 non-null   float64       \n 28  Fatal Encounters ID                                                                                                                                                         9016 non-null   float64       \n 29  Encounter Type (DRAFT)                                                                                                                                                      4839 non-null   object        \n 30  Initial Reported Reason for Encounter (DRAFT)                                                                                                                               4839 non-null   object        \n 31  Names of Officers Involved (DRAFT)                                                                                                                                          1394 non-null   object        \n 32  Race of Officers Involved (DRAFT)                                                                                                                                           341 non-null    object        \n 33  Known Past Shootings of Officer(s) (DRAFT)                                                                                                                                  74 non-null     object        \n 34  Call for Service? (DRAFT)                                                                                                                                                   3616 non-null   object        \n 35  Unnamed: 35                                                                                                                                                                 0 non-null      float64       \n 36  Unnamed: 36                                                                                                                                                                 0 non-null      float64       \n 37  Unnamed: 37                                                                                                                                                                 0 non-null      float64       \n 38  Unnamed: 38                                                                                                                                                                 0 non-null      float64       \n 39  Unnamed: 39                                                                                                                                                                 0 non-null      float64       \n 40  Unnamed: 40                                                                                                                                                                 0 non-null      float64       \n 41  Unnamed: 41                                                                                                                                                                 0 non-null      float64       \n 42  Unnamed: 42                                                                                                                                                                 0 non-null      float64       \n 43  Unnamed: 43                                                                                                                                                                 0 non-null      float64       \n 44  Unnamed: 44                                                                                                                                                                 0 non-null      float64       \n 45  Unnamed: 45                                                                                                                                                                 0 non-null      float64       \n 46  Unnamed: 46                                                                                                                                                                 0 non-null      float64       \n 47  Unnamed: 47                                                                                                                                                                 0 non-null      float64       \n 48  Unnamed: 48                                                                                                                                                                 0 non-null      float64       \ndtypes: datetime64[ns](1), float64(18), object(30)\nmemory usage: 3.4+ MB\n",
     "output_type": "stream"
    }
   ]
  },
  {
   "cell_type": "code",
   "metadata": {
    "deepnote_to_be_reexecuted": false,
    "execution_millis": 13,
    "execution_start": 1622036128777,
    "source_hash": "f099b8f5",
    "tags": [],
    "cell_id": "00008-9358fbc7-36f0-4492-a899-2127b3c60a54",
    "deepnote_cell_type": "code"
   },
   "source": "# check nulls\ndf.isnull().sum()",
   "execution_count": 5,
   "outputs": [
    {
     "output_type": "execute_result",
     "execution_count": 5,
     "data": {
      "text/plain": "Victim's name                                                                                                                                                                    0\nVictim's age                                                                                                                                                                     9\nVictim's gender                                                                                                                                                                 10\nVictim's race                                                                                                                                                                    0\nURL of image of victim                                                                                                                                                        4265\nDate of Incident (month/day/year)                                                                                                                                                0\nStreet Address of Incident                                                                                                                                                     105\nCity                                                                                                                                                                             9\nState                                                                                                                                                                            0\nZipcode                                                                                                                                                                         48\nCounty                                                                                                                                                                          17\nAgency responsible for death                                                                                                                                                     4\nORI Agency Identifier (if available)                                                                                                                                             3\nCause of death                                                                                                                                                                   0\nA brief description of the circumstances surrounding the death                                                                                                                  15\nOfficial disposition of death (justified or other)                                                                                                                              11\nCriminal Charges?                                                                                                                                                                0\nLink to news article or photo of official document                                                                                                                               0\nSymptoms of mental illness?                                                                                                                                                     61\nArmed/Unarmed Status                                                                                                                                                             0\nAlleged Weapon (Source: WaPo and Review of Cases Not Included in WaPo Database)                                                                                                  0\nAlleged Threat Level (Source: WaPo)                                                                                                                                           2397\nFleeing (Source: WaPo)                                                                                                                                                        3091\nBody Camera (Source: WaPo)                                                                                                                                                    3165\nWaPo ID (If included in WaPo database)                                                                                                                                        3099\nOff-Duty Killing?                                                                                                                                                             8899\nGeography (via Trulia methodology based on zipcode population density: http://jedkolko.com/wp-content/uploads/2015/05/full-ZCTA-urban-suburban-rural-classification.xlsx )      25\nMPV ID                                                                                                                                                                          79\nFatal Encounters ID                                                                                                                                                            131\nEncounter Type (DRAFT)                                                                                                                                                        4308\nInitial Reported Reason for Encounter (DRAFT)                                                                                                                                 4308\nNames of Officers Involved (DRAFT)                                                                                                                                            7753\nRace of Officers Involved (DRAFT)                                                                                                                                             8806\nKnown Past Shootings of Officer(s) (DRAFT)                                                                                                                                    9073\nCall for Service? (DRAFT)                                                                                                                                                     5531\nUnnamed: 35                                                                                                                                                                   9147\nUnnamed: 36                                                                                                                                                                   9147\nUnnamed: 37                                                                                                                                                                   9147\nUnnamed: 38                                                                                                                                                                   9147\nUnnamed: 39                                                                                                                                                                   9147\nUnnamed: 40                                                                                                                                                                   9147\nUnnamed: 41                                                                                                                                                                   9147\nUnnamed: 42                                                                                                                                                                   9147\nUnnamed: 43                                                                                                                                                                   9147\nUnnamed: 44                                                                                                                                                                   9147\nUnnamed: 45                                                                                                                                                                   9147\nUnnamed: 46                                                                                                                                                                   9147\nUnnamed: 47                                                                                                                                                                   9147\nUnnamed: 48                                                                                                                                                                   9147\ndtype: int64"
     },
     "metadata": {}
    }
   ]
  },
  {
   "cell_type": "code",
   "metadata": {
    "deepnote_to_be_reexecuted": false,
    "execution_millis": 14,
    "execution_start": 1622036128830,
    "source_hash": "986d469e",
    "tags": [],
    "cell_id": "00009-b8f46887-c48e-4bb6-a25d-9d2877862d50",
    "deepnote_cell_type": "code"
   },
   "source": "# specify useless columns and what to exclude for counts\nuseless_columns = df.columns[35:]\nexclusions = [\"Victim's name\", \n              \"URL of image of victim\", \n              \"Date of Incident (month/day/year)\", \n              \"Street Address of Incident\", \n              \"City\", \"State\", \"Zipcode\", \"County\", \n              \"Agency responsible for death\", \"ORI Agency Identifier (if available)\", \n              \"A brief description of the circumstances surrounding the death\", \n              \"Link to news article or photo of official document\", \n              \"Link to news article or photo of official document\", \n              \"WaPo ID (If included in WaPo database)\", \n              \"MPV ID\", \n              \"Fatal Encounters ID\", \n              \"Names of Officers Involved (DRAFT)\"]\n\n# getting value counts for specific columns\nfor column in df.columns:\n    if column not in exclusions and column not in useless_columns:\n        print(column.upper())\n        print(df[column].value_counts())\n        print(\"-------------------------------------\")",
   "execution_count": 6,
   "outputs": [
    {
     "name": "stdout",
     "text": "VICTIM'S AGE\nUnknown    331\n25         299\n27         294\n31         290\n28         289\n          ... \n88           1\n93           1\n95           1\n107          1\n40s          1\nName: Victim's age, Length: 89, dtype: int64\n-------------------------------------\nVICTIM'S GENDER\nMale           8668\nFemale          453\nTransgender       9\nUnknown           6\nMale              1\nName: Victim's gender, dtype: int64\n-------------------------------------\nVICTIM'S RACE\nWhite                     3993\nBlack                     2306\nHispanic                  1631\nUnknown Race               896\nAsian                      135\nNative American            130\nPacific Islander            52\nUnknown race                 2\nAsian/Pacific Islander       1\nHispanic                     1\nName: Victim's race, dtype: int64\n-------------------------------------\nCAUSE OF DEATH\nGunshot                                    8434\nGunshot, Taser                              273\nTaser                                       250\nVehicle                                      48\nPhysical Restraint                           33\nBeaten                                       31\nTasered                                      21\nAsphyxiated                                   9\nPhysical restraint                            9\nOther                                         6\nGunshot, Police Dog                           5\nPepper Spray                                  4\nGunshot, Pepper Spray                         4\nBean bag                                      2\nTaser, Physical Restraint                     2\nGunshot, Taser, Pepper spray                  1\nBomb                                          1\nBaton, Pepper Spray, Physical Restraint       1\nTaser, Pepper Spray, Beaten                   1\nTaser, Beaten                                 1\nTaser, Pepper spray, beaten                   1\nGunshot, Stabbed                              1\nChemical agent/Pepper spray                   1\nGunshot, Beanbag Gun                          1\nGunshot, Taser, Baton                         1\nGunshot, Vehicle                              1\nTaser, Baton                                  1\nBeaten/Bludgeoned with instrument             1\nGunshot, Unspecified Less Lethal Weapon       1\nGunshot, Bean Bag Gun                         1\nGunshot, Taser, Beanbag Shotgun               1\nName: Cause of death, dtype: int64\n-------------------------------------\nOFFICIAL DISPOSITION OF DEATH (JUSTIFIED OR OTHER)\nPending investigation/No Known Charges                                                           4852\nUnreported                                                                                       1223\nPending investigation                                                                            1087\nJustified                                                                                         651\nJustified by District Attorney                                                                    350\n                                                                                                 ... \nCharged, Convicted of murder                                                                        1\nCharged with murder and attemped murder                                                             1\nCharged with 3rd degree murder, Convicted                                                           1\nCharged, Convicted of 2nd degree manslaughter, Sentenced to 4 years                                 1\nCharged, Convicted of involuntary manslaugher, Sentenced to 1 year in jail, 3 years suspended       1\nName: Official disposition of death (justified or other), Length: 154, dtype: int64\n-------------------------------------\nCRIMINAL CHARGES?\nNo known charges                                                                 8993\nCharged with a crime                                                               67\nCharged, Acquitted                                                                 32\nCharged, Charges Dropped                                                            7\nCharged, Mistrial                                                                   6\nCharged, Convicted                                                                  5\nCharged, Convicted, Sentenced to 5 years probation.                                 2\nCharged, Convicted, Sentenced to 30 years in prison                                 2\nCharged, Convicted, Sentenced to 10 years in prison                                 2\nCharged, Convicted, Sentenced to life in prison                                     2\nCharged, Convicted, Sentenced to 50 years                                           1\nCharged, Convicted, Sentenced to 2.5 years in prison                                1\nCharged, Convicted, Sentenced to 5 years in prison                                  1\nCharged, Convicted, Sentenced to Life in Prison                                     1\nCharged, Convicted, Sentenced to life in prison without parole, plus 16 years       1\nCharged, Convicted, Sentenced to 10 Years of Prison                                 1\nCharged, Convicted, Sentenced to 25 years in prison                                 1\nCharged, Convicted, Sentenced to 3 months in jail                                   1\nCharged, Convicted, Sentenced to 40 years in prison                                 1\nCharged, Convicted, Sentenced to 6 years in prison                                  1\nCharged, Convicted, Sentenced to 1 year in prison                                   1\nCharged, Mistrial, Plead Guilty to Civil Rights Charges                             1\nCharged, Convicted, Sentenced to 1 year in jail, 3 years suspended                  1\nCharged, Convicted, Sentenced to 40 years to Life in prison                         1\nCharged, Convicted, Sentenced to 20 years in prison                                 1\nCharged, Mistrial, Plead Guilty to Manslaughter                                     1\nCharged, Convicted, Sentenced to 12 years in prison and 8 years in probation        1\nCharged, Convicted, Sentenced to 4 years                                            1\nCharged, Convicted, Sentenced to 3 years probation                                  1\nCharged, Convicted, Sentenced to 6 years                                            1\nCharged, Convicted, Sentenced to 1 year in prison and 4 years probation             1\nCharged, Convicted, Sentenced to 16 years in prison                                 1\nCharged, Convicted, Sentenced to 14 years in prison                                 1\nCharged, Convicted of assault                                                       1\nCharged, Plead Guilty to Manslaughter, Sentenced to 5 years in prison               1\nCharged, Plead No Contest, Sentenced to 10 years probation                          1\nCharged, Convicted, Sentenced to 7 years in prison                                  1\nCharged, Convicted of reckless homicide, sentenced to 1 year in prison              1\nCharged, Convicted, Sentenced to 18 months                                          1\nName: Criminal Charges?, dtype: int64\n-------------------------------------\nSYMPTOMS OF MENTAL ILLNESS?\nNo                         5897\nYes                        1678\nUnknown                    1179\nDrug or alcohol use         326\nDrug or Alcohol Use           2\nUnkown                        1\nYes/Drug or alcohol use       1\nunknown                       1\nUnknown                       1\nName: Symptoms of mental illness?, dtype: int64\n-------------------------------------\nARMED/UNARMED STATUS\nAllegedly Armed                       6552\nUnarmed/Did Not Have Actual Weapon    1212\nUnclear                                764\nVehicle                                594\nAllegedly armed                         24\nUnclear                                  1\nName: Armed/Unarmed Status, dtype: int64\n-------------------------------------\nALLEGED WEAPON (SOURCE: WAPO AND REVIEW OF CASES NOT INCLUDED IN WAPO DATABASE)\ngun                                 4814\nknife                               1200\nno object                            926\nundetermined                         598\nvehicle                              529\n                                    ... \ngarden shears                          1\nelectric razor on cord                 1\nbaseball bat and fireplace poker       1\nclub                                   1\nincendiary device                      1\nName: Alleged Weapon (Source: WaPo and Review of Cases Not Included in WaPo Database), Length: 176, dtype: int64\n-------------------------------------\nALLEGED THREAT LEVEL (SOURCE: WAPO)\nattack          4332\nother           2052\nundetermined     363\nOther              1\nNone               1\nnone               1\nName: Alleged Threat Level (Source: WaPo), dtype: int64\n-------------------------------------\nFLEEING (SOURCE: WAPO)\nNot fleeing     3794\nCar              963\nFoot             752\nOther            181\nnot fleeing      176\nfoot              65\ncar               51\nNot Fleeing       47\nother             24\nnot fleeing        3\nName: Fleeing (Source: WaPo), dtype: int64\n-------------------------------------\nBODY CAMERA (SOURCE: WAPO)\nNo                    5044\nYes                    615\nno                     261\nyes                     46\nSurveillance Video       5\nBystander Video          4\nDashcam Video            2\nSurveillance video       2\ncell phone video         1\nsurveillance video       1\nDashcam video            1\nName: Body Camera (Source: WaPo), dtype: int64\n-------------------------------------\nOFF-DUTY KILLING?\nOff-Duty    231\nOff-duty     14\noff-duty      3\nName: Off-Duty Killing?, dtype: int64\n-------------------------------------\nGEOGRAPHY (VIA TRULIA METHODOLOGY BASED ON ZIPCODE POPULATION DENSITY: HTTP://JEDKOLKO.COM/WP-CONTENT/UPLOADS/2015/05/FULL-ZCTA-URBAN-SUBURBAN-RURAL-CLASSIFICATION.XLSX )\nSuburban        4550\nUrban           2448\nRural           2043\nUndetermined      81\nName: Geography (via Trulia methodology based on zipcode population density: http://jedkolko.com/wp-content/uploads/2015/05/full-ZCTA-urban-suburban-rural-classification.xlsx ), dtype: int64\n-------------------------------------\nENCOUNTER TYPE (DRAFT)\nPart 1 Violent Crime                                                                1283\nOther Non-Violent Offense                                                            928\nTraffic Stop                                                                         497\nMental Health/Welfare Check                                                          494\nDomestic Disturbance                                                                 383\n                                                                                    ... \nDomestic Disturbance-intimate partner and family (married and immediate)               1\nPerson with a Weapon (gun and knife)/Other Non-Violent Offense                         1\nDomestic Disturbance-family (sister's boyfriend)                                       1\nPerson with a gun                                                                      1\nPart 1 Violent Crime/Domestic Disturbance (familial)/Mental Health/Welfare Check       1\nName: Encounter Type (DRAFT), Length: 66, dtype: int64\n-------------------------------------\nINITIAL REPORTED REASON FOR ENCOUNTER (DRAFT)\nTraffic violation                                  237\nShooting                                           184\ndomestic disturbance                               152\nDomestic Disturbance-no specific details           131\ndomestic incident                                   93\n                                                  ... \nSuspect (aggravated assault, domestic violence)      1\nburglary, traffic stop                               1\nSuspect (police killing)                             1\nwarrants                                             1\nwanted person - shooting                             1\nName: Initial Reported Reason for Encounter (DRAFT), Length: 1475, dtype: int64\n-------------------------------------\nRACE OF OFFICERS INVOLVED (DRAFT)\nWhite                                      148\nWhite, White                                47\nHispanic                                    24\nBlack                                       13\nWhite, White, White                         13\n                                          ... \nWhite, Asian                                 1\nUnknown, White, White                        1\nWhite, Unknown, White, Unknown, Unknown      1\nWhite, White, White, White                   1\nWhite,                                       1\nName: Race of Officers Involved (DRAFT), Length: 63, dtype: int64\n-------------------------------------\nKNOWN PAST SHOOTINGS OF OFFICER(S) (DRAFT)\n1       50\n2       11\n3        5\nNone     5\n4        2\nNo       1\nName: Known Past Shootings of Officer(s) (DRAFT), dtype: int64\n-------------------------------------\nCALL FOR SERVICE? (DRAFT)\nYes            2257\nNo             1099\nUnavailable     203\nNo               55\nyes               2\nName: Call for Service? (DRAFT), dtype: int64\n-------------------------------------\n",
     "output_type": "stream"
    }
   ]
  },
  {
   "cell_type": "code",
   "metadata": {
    "deepnote_to_be_reexecuted": false,
    "execution_millis": 1707,
    "execution_start": 1622036128898,
    "source_hash": "e1563a2a",
    "tags": [],
    "cell_id": "00010-69d4947e-e402-4e6d-a3a7-ce6e0cf04a06",
    "deepnote_cell_type": "code"
   },
   "source": "# specify more columns to exclude for univariate distributions\nmore_exclusions = [\"Victim's age\", \n                   \"Cause of death\", \n                   \"Official disposition of death (justified or other)\", \n                   \"Alleged Weapon (Source: WaPo and Review of Cases Not Included in WaPo Database)\", \n                   \"Encounter Type (DRAFT)\", \n                   \"Initial Reported Reason for Encounter (DRAFT)\", \n                   \"Criminal Charges?\",\n                   \"Race of Officers Involved (DRAFT)\", \n                   \"Geography (via Trulia methodology based on zipcode population density: http://jedkolko.com/wp-content/uploads/2015/05/full-ZCTA-urban-suburban-rural-classification.xlsx )\"]\n\n# univariate distributions\nfor column in df.columns:\n    if column not in exclusions and column not in useless_columns and column not in more_exclusions:\n        sns.countplot(x=df[column], data=df, palette = 'ocean_r')\n        print(\"------------------------------------------------------\")\n        print(\"------------------------------------------------------\")\n        plt.xticks(rotation=65)\n        plt.show()",
   "execution_count": 7,
   "outputs": [
    {
     "name": "stdout",
     "text": "------------------------------------------------------\n------------------------------------------------------\n",
     "output_type": "stream"
    },
    {
     "data": {
      "text/plain": "<Figure size 432x288 with 1 Axes>",
      "image/png": "[encoded data removed]"
     },
     "metadata": {
      "needs_background": "light",
      "image/png": {
       "width": 395,
       "height": 313
      }
     },
     "output_type": "display_data"
    },
    {
     "name": "stdout",
     "text": "------------------------------------------------------\n------------------------------------------------------\n",
     "output_type": "stream"
    },
    {
     "data": {
      "text/plain": "<Figure size 432x288 with 1 Axes>",
      "image/png": "[encoded data removed]"
     },
     "metadata": {
      "needs_background": "light",
      "image/png": {
       "width": 395,
       "height": 353
      }
     },
     "output_type": "display_data"
    },
    {
     "name": "stdout",
     "text": "------------------------------------------------------\n------------------------------------------------------\n",
     "output_type": "stream"
    },
    {
     "data": {
      "text/plain": "<Figure size 432x288 with 1 Axes>",
      "image/png": "[encoded data removed]"
     },
     "metadata": {
      "needs_background": "light",
      "image/png": {
       "width": 395,
       "height": 363
      }
     },
     "output_type": "display_data"
    },
    {
     "name": "stdout",
     "text": "------------------------------------------------------\n------------------------------------------------------\n",
     "output_type": "stream"
    },
    {
     "data": {
      "text/plain": "<Figure size 432x288 with 1 Axes>",
      "image/png": "[encoded data removed]"
     },
     "metadata": {
      "needs_background": "light",
      "image/png": {
       "width": 395,
       "height": 432
      }
     },
     "output_type": "display_data"
    },
    {
     "name": "stdout",
     "text": "------------------------------------------------------\n------------------------------------------------------\n",
     "output_type": "stream"
    },
    {
     "data": {
      "text/plain": "<Figure size 432x288 with 1 Axes>",
      "image/png": "[encoded data removed]"
     },
     "metadata": {
      "needs_background": "light",
      "image/png": {
       "width": 395,
       "height": 321
      }
     },
     "output_type": "display_data"
    },
    {
     "name": "stdout",
     "text": "------------------------------------------------------\n------------------------------------------------------\n",
     "output_type": "stream"
    },
    {
     "data": {
      "text/plain": "<Figure size 432x288 with 1 Axes>",
      "image/png": "[encoded data removed]"
     },
     "metadata": {
      "needs_background": "light",
      "image/png": {
       "width": 395,
       "height": 308
      }
     },
     "output_type": "display_data"
    },
    {
     "name": "stdout",
     "text": "------------------------------------------------------\n------------------------------------------------------\n",
     "output_type": "stream"
    },
    {
     "data": {
      "text/plain": "<Figure size 432x288 with 1 Axes>",
      "image/png": "[encoded data removed]"
     },
     "metadata": {
      "needs_background": "light",
      "image/png": {
       "width": 400,
       "height": 341
      }
     },
     "output_type": "display_data"
    },
    {
     "name": "stdout",
     "text": "------------------------------------------------------\n------------------------------------------------------\n",
     "output_type": "stream"
    },
    {
     "data": {
      "text/plain": "<Figure size 432x288 with 1 Axes>",
      "image/png": "[encoded data removed]"
     },
     "metadata": {
      "needs_background": "light",
      "image/png": {
       "width": 389,
       "height": 295
      }
     },
     "output_type": "display_data"
    },
    {
     "name": "stdout",
     "text": "------------------------------------------------------\n------------------------------------------------------\n",
     "output_type": "stream"
    },
    {
     "data": {
      "text/plain": "<Figure size 432x288 with 1 Axes>",
      "image/png": "[encoded data removed]"
     },
     "metadata": {
      "needs_background": "light",
      "image/png": {
       "width": 382,
       "height": 280
      }
     },
     "output_type": "display_data"
    },
    {
     "name": "stdout",
     "text": "------------------------------------------------------\n------------------------------------------------------\n",
     "output_type": "stream"
    },
    {
     "data": {
      "text/plain": "<Figure size 432x288 with 1 Axes>",
      "image/png": "[encoded data removed]"
     },
     "metadata": {
      "needs_background": "light",
      "image/png": {
       "width": 395,
       "height": 310
      }
     },
     "output_type": "display_data"
    }
   ]
  },
  {
   "cell_type": "markdown",
   "source": "### Takeaways\n- There are a couple of unnecessary columns (begin with `Unnamed:`).\n- Messy column names need to be renamed for better readability.\n- A lot of columns are not needed due to nulls/unusable and will need to be dropped. \n- Most values in each column have a wide variety of text variation. These should be lowercased, stripped, and grouped. \n- Many nulls in dataset that need to be filled in or dropped.\n- Dummy variables and encoding needs to be done to pretty much all of the dataset in order to model/evaluate. \n- Possibly a good idea to create age bins.\n- Possible exploration with time series. Set `Date of Incident` as datetime index?\n",
   "metadata": {
    "tags": [],
    "cell_id": "00011-6c3f83f0-add0-4b6b-a8a4-36b034f99417",
    "deepnote_cell_type": "markdown"
   }
  },
  {
   "cell_type": "markdown",
   "source": "\n___\n# Prepare and Split Data",
   "metadata": {
    "cell_id": "00012-9db3b09b-558b-4149-a7f6-e5506eba2498",
    "deepnote_cell_type": "markdown"
   }
  },
  {
   "cell_type": "code",
   "metadata": {
    "deepnote_to_be_reexecuted": false,
    "execution_millis": 5675,
    "execution_start": 1622036130564,
    "source_hash": "12dfb9ed",
    "tags": [],
    "cell_id": "00013-e6141de5-c6f1-4428-9dbb-8d50287b3ab2",
    "deepnote_cell_type": "code"
   },
   "source": "#grab cleaned data frame from wrangle.py\ndf = w.wrangle_data(cached=False)\ndf.head()",
   "execution_count": 8,
   "outputs": [
    {
     "output_type": "execute_result",
     "execution_count": 8,
     "data": {
      "application/vnd.deepnote.dataframe.v2+json": {
       "row_count": 5,
       "column_count": 60,
       "columns": [
        {
         "name": "age",
         "dtype": "int64",
         "stats": {
          "unique_count": 5,
          "nan_count": 0,
          "min": "1",
          "max": "52",
          "histogram": [
           {
            "bin_start": 1,
            "bin_end": 6.1,
            "count": 1
           },
           {
            "bin_start": 6.1,
            "bin_end": 11.2,
            "count": 0
           },
           {
            "bin_start": 11.2,
            "bin_end": 16.299999999999997,
            "count": 0
           },
           {
            "bin_start": 16.299999999999997,
            "bin_end": 21.4,
            "count": 0
           },
           {
            "bin_start": 21.4,
            "bin_end": 26.5,
            "count": 0
           },
           {
            "bin_start": 26.5,
            "bin_end": 31.599999999999998,
            "count": 1
           },
           {
            "bin_start": 31.599999999999998,
            "bin_end": 36.699999999999996,
            "count": 0
           },
           {
            "bin_start": 36.699999999999996,
            "bin_end": 41.8,
            "count": 0
           },
           {
            "bin_start": 41.8,
            "bin_end": 46.9,
            "count": 0
           },
           {
            "bin_start": 46.9,
            "bin_end": 52,
            "count": 3
           }
          ]
         }
        },
        {
         "name": "gender",
         "dtype": "object",
         "stats": {
          "unique_count": 1,
          "nan_count": 0,
          "categories": [
           {
            "name": "male",
            "count": 5
           }
          ]
         }
        },
        {
         "name": "race",
         "dtype": "object",
         "stats": {
          "unique_count": 3,
          "nan_count": 0,
          "categories": [
           {
            "name": "white",
            "count": 2
           },
           {
            "name": "black",
            "count": 2
           },
           {
            "name": "unknown race",
            "count": 1
           }
          ]
         }
        },
        {
         "name": "date",
         "dtype": "datetime64[ns]",
         "stats": {
          "unique_count": 5,
          "nan_count": 0,
          "min": "2021-05-03 00:00:00",
          "max": "2021-05-07 00:00:00",
          "histogram": [
           {
            "bin_start": 1620000000000000000,
            "bin_end": 1620034560000000000,
            "count": 1
           },
           {
            "bin_start": 1620034560000000000,
            "bin_end": 1620069120000000000,
            "count": 0
           },
           {
            "bin_start": 1620069120000000000,
            "bin_end": 1620103680000000000,
            "count": 1
           },
           {
            "bin_start": 1620103680000000000,
            "bin_end": 1620138240000000000,
            "count": 0
           },
           {
            "bin_start": 1620138240000000000,
            "bin_end": 1620172800000000000,
            "count": 0
           },
           {
            "bin_start": 1620172800000000000,
            "bin_end": 1620207360000000000,
            "count": 1
           },
           {
            "bin_start": 1620207360000000000,
            "bin_end": 1620241920000000000,
            "count": 0
           },
           {
            "bin_start": 1620241920000000000,
            "bin_end": 1620276480000000000,
            "count": 1
           },
           {
            "bin_start": 1620276480000000000,
            "bin_end": 1620311040000000000,
            "count": 0
           },
           {
            "bin_start": 1620311040000000000,
            "bin_end": 1620345600000000000,
            "count": 1
           }
          ]
         }
        },
        {
         "name": "city",
         "dtype": "object",
         "stats": {
          "unique_count": 5,
          "nan_count": 0,
          "categories": [
           {
            "name": "rutledge",
            "count": 1
           },
           {
            "name": "san andreas",
            "count": 1
           },
           {
            "name": "3 others",
            "count": 3
           }
          ]
         }
        },
        {
         "name": "state",
         "dtype": "object",
         "stats": {
          "unique_count": 5,
          "nan_count": 0,
          "categories": [
           {
            "name": "tn",
            "count": 1
           },
           {
            "name": "ca",
            "count": 1
           },
           {
            "name": "3 others",
            "count": 3
           }
          ]
         }
        },
        {
         "name": "zipcode",
         "dtype": "float64",
         "stats": {
          "unique_count": 5,
          "nan_count": 0,
          "min": "37861.0",
          "max": "95249.0",
          "histogram": [
           {
            "bin_start": 37861,
            "bin_end": 43599.8,
            "count": 2
           },
           {
            "bin_start": 43599.8,
            "bin_end": 49338.6,
            "count": 0
           },
           {
            "bin_start": 49338.6,
            "bin_end": 55077.4,
            "count": 0
           },
           {
            "bin_start": 55077.4,
            "bin_end": 60816.2,
            "count": 0
           },
           {
            "bin_start": 60816.2,
            "bin_end": 66555,
            "count": 0
           },
           {
            "bin_start": 66555,
            "bin_end": 72293.8,
            "count": 0
           },
           {
            "bin_start": 72293.8,
            "bin_end": 78032.6,
            "count": 1
           },
           {
            "bin_start": 78032.6,
            "bin_end": 83771.4,
            "count": 0
           },
           {
            "bin_start": 83771.4,
            "bin_end": 89510.20000000001,
            "count": 1
           },
           {
            "bin_start": 89510.20000000001,
            "bin_end": 95249,
            "count": 1
           }
          ]
         }
        },
        {
         "name": "county",
         "dtype": "object",
         "stats": {
          "unique_count": 5,
          "nan_count": 0,
          "categories": [
           {
            "name": "grainger",
            "count": 1
           },
           {
            "name": "calaveras",
            "count": 1
           },
           {
            "name": "3 others",
            "count": 3
           }
          ]
         }
        },
        {
         "name": "agency_responsible",
         "dtype": "object",
         "stats": {
          "unique_count": 5,
          "nan_count": 0,
          "categories": [
           {
            "name": "bean station police department, rutledge police department",
            "count": 1
           },
           {
            "name": "calaveras county sheriff's office",
            "count": 1
           },
           {
            "name": "3 others",
            "count": 3
           }
          ]
         }
        },
        {
         "name": "cause_of_death",
         "dtype": "object",
         "stats": {
          "unique_count": 1,
          "nan_count": 0,
          "categories": [
           {
            "name": "gunshot",
            "count": 5
           }
          ]
         }
        },
        {
         "name": "description_of_circumstances",
         "dtype": "object",
         "stats": {
          "unique_count": 5,
          "nan_count": 0,
          "categories": [
           {
            "name": "deputies responded to reports of a man shooting a gun inside a home. when deputies arrived, they made contact with the man. while encountering the subject, an officer with the bean station pd and an officer with rutledge pd fired at the man, killing him. no other details are available concerning the shooting at this time. ",
            "count": 1
           },
           {
            "name": "around 10:30 p.m., dispatchers got a call about an argument between a man and a woman at the sierra inn motel. during the incident, the man allegedly pointed a gun at the woman's head. the suspect left before deputies arrived. a search started, and the man shot a deputy who was interviewing the victim. police started searching the apartment complex. eventually, the man emerged from an apartment holding an elderly woman hostage with a gun. officers shot and killed mark aitulagi lavea and shot and wounded the hostage.",
            "count": 1
           },
           {
            "name": "3 others",
            "count": 3
           }
          ]
         }
        },
        {
         "name": "official_disposition",
         "dtype": "object",
         "stats": {
          "unique_count": 1,
          "nan_count": 0,
          "categories": [
           {
            "name": "pending investigation",
            "count": 5
           }
          ]
         }
        },
        {
         "name": "criminal_charges_filed",
         "dtype": "object",
         "stats": {
          "unique_count": 1,
          "nan_count": 0,
          "categories": [
           {
            "name": "no known charges",
            "count": 5
           }
          ]
         }
        },
        {
         "name": "mental_illness",
         "dtype": "object",
         "stats": {
          "unique_count": 2,
          "nan_count": 0,
          "categories": [
           {
            "name": "no",
            "count": 4
           },
           {
            "name": "yes",
            "count": 1
           }
          ]
         }
        },
        {
         "name": "armed_unarmed_status",
         "dtype": "object",
         "stats": {
          "unique_count": 3,
          "nan_count": 0,
          "categories": [
           {
            "name": "allegedly_armed",
            "count": 3
           },
           {
            "name": "unclear",
            "count": 1
           },
           {
            "name": "unarmed",
            "count": 1
           }
          ]
         }
        },
        {
         "name": "alleged_weapon",
         "dtype": "object",
         "stats": {
          "unique_count": 3,
          "nan_count": 0,
          "categories": [
           {
            "name": "gun",
            "count": 3
           },
           {
            "name": "undetermined",
            "count": 1
           },
           {
            "name": "no object",
            "count": 1
           }
          ]
         }
        },
        {
         "name": "alleged_threat_lvl",
         "dtype": "float64",
         "stats": {
          "unique_count": 2,
          "nan_count": 0,
          "min": "0.0",
          "max": "1.0",
          "histogram": [
           {
            "bin_start": 0,
            "bin_end": 0.1,
            "count": 3
           },
           {
            "bin_start": 0.1,
            "bin_end": 0.2,
            "count": 0
           },
           {
            "bin_start": 0.2,
            "bin_end": 0.30000000000000004,
            "count": 0
           },
           {
            "bin_start": 0.30000000000000004,
            "bin_end": 0.4,
            "count": 0
           },
           {
            "bin_start": 0.4,
            "bin_end": 0.5,
            "count": 0
           },
           {
            "bin_start": 0.5,
            "bin_end": 0.6000000000000001,
            "count": 0
           },
           {
            "bin_start": 0.6000000000000001,
            "bin_end": 0.7000000000000001,
            "count": 0
           },
           {
            "bin_start": 0.7000000000000001,
            "bin_end": 0.8,
            "count": 0
           },
           {
            "bin_start": 0.8,
            "bin_end": 0.9,
            "count": 0
           },
           {
            "bin_start": 0.9,
            "bin_end": 1,
            "count": 2
           }
          ]
         }
        },
        {
         "name": "fleeing",
         "dtype": "object",
         "stats": {
          "unique_count": 2,
          "nan_count": 0,
          "categories": [
           {
            "name": "not fleeing",
            "count": 3
           },
           {
            "name": "fleeing",
            "count": 2
           }
          ]
         }
        },
        {
         "name": "body_camera",
         "dtype": "float64",
         "stats": {
          "unique_count": 1,
          "nan_count": 0,
          "min": "0.0",
          "max": "0.0",
          "histogram": [
           {
            "bin_start": -0.5,
            "bin_end": -0.4,
            "count": 0
           },
           {
            "bin_start": -0.4,
            "bin_end": -0.3,
            "count": 0
           },
           {
            "bin_start": -0.3,
            "bin_end": -0.19999999999999996,
            "count": 0
           },
           {
            "bin_start": -0.19999999999999996,
            "bin_end": -0.09999999999999998,
            "count": 0
           },
           {
            "bin_start": -0.09999999999999998,
            "bin_end": 0,
            "count": 0
           },
           {
            "bin_start": 0,
            "bin_end": 0.10000000000000009,
            "count": 5
           },
           {
            "bin_start": 0.10000000000000009,
            "bin_end": 0.20000000000000007,
            "count": 0
           },
           {
            "bin_start": 0.20000000000000007,
            "bin_end": 0.30000000000000004,
            "count": 0
           },
           {
            "bin_start": 0.30000000000000004,
            "bin_end": 0.4,
            "count": 0
           },
           {
            "bin_start": 0.4,
            "bin_end": 0.5,
            "count": 0
           }
          ]
         }
        },
        {
         "name": "geography",
         "dtype": "object",
         "stats": {
          "unique_count": 3,
          "nan_count": 0,
          "categories": [
           {
            "name": "rural",
            "count": 2
           },
           {
            "name": "suburban",
            "count": 2
           },
           {
            "name": "urban",
            "count": 1
           }
          ]
         }
        },
        {
         "name": "encounter_type_draft",
         "dtype": "object",
         "stats": {
          "unique_count": 3,
          "nan_count": 0,
          "categories": [
           {
            "name": "violent_crime_part_1",
            "count": 3
           },
           {
            "name": "domestic_disturbance",
            "count": 1
           },
           {
            "name": "other",
            "count": 1
           }
          ]
         }
        },
        {
         "name": "initial_reported_reason_for_encounter_draft",
         "dtype": "object",
         "stats": {
          "unique_count": 4,
          "nan_count": 0,
          "categories": [
           {
            "name": "shooting",
            "count": 2
           },
           {
            "name": "hostage situation",
            "count": 1
           },
           {
            "name": "2 others",
            "count": 2
           }
          ]
         }
        },
        {
         "name": "known_past_shootings_of_officer_draft",
         "dtype": "object",
         "stats": {
          "unique_count": 1,
          "nan_count": 0,
          "categories": [
           {
            "name": "0",
            "count": 5
           }
          ]
         }
        },
        {
         "name": "is_female",
         "dtype": "uint8",
         "stats": {
          "unique_count": 1,
          "nan_count": 0,
          "min": "0",
          "max": "0",
          "histogram": [
           {
            "bin_start": -0.5,
            "bin_end": -0.4,
            "count": 0
           },
           {
            "bin_start": -0.4,
            "bin_end": -0.3,
            "count": 0
           },
           {
            "bin_start": -0.3,
            "bin_end": -0.19999999999999996,
            "count": 0
           },
           {
            "bin_start": -0.19999999999999996,
            "bin_end": -0.09999999999999998,
            "count": 0
           },
           {
            "bin_start": -0.09999999999999998,
            "bin_end": 0,
            "count": 0
           },
           {
            "bin_start": 0,
            "bin_end": 0.10000000000000009,
            "count": 5
           },
           {
            "bin_start": 0.10000000000000009,
            "bin_end": 0.20000000000000007,
            "count": 0
           },
           {
            "bin_start": 0.20000000000000007,
            "bin_end": 0.30000000000000004,
            "count": 0
           },
           {
            "bin_start": 0.30000000000000004,
            "bin_end": 0.4,
            "count": 0
           },
           {
            "bin_start": 0.4,
            "bin_end": 0.5,
            "count": 0
           }
          ]
         }
        },
        {
         "name": "is_male",
         "dtype": "uint8",
         "stats": {
          "unique_count": 1,
          "nan_count": 0,
          "min": "1",
          "max": "1",
          "histogram": [
           {
            "bin_start": 0.5,
            "bin_end": 0.6,
            "count": 0
           },
           {
            "bin_start": 0.6,
            "bin_end": 0.7,
            "count": 0
           },
           {
            "bin_start": 0.7,
            "bin_end": 0.8,
            "count": 0
           },
           {
            "bin_start": 0.8,
            "bin_end": 0.9,
            "count": 0
           },
           {
            "bin_start": 0.9,
            "bin_end": 1,
            "count": 0
           },
           {
            "bin_start": 1,
            "bin_end": 1.1,
            "count": 5
           },
           {
            "bin_start": 1.1,
            "bin_end": 1.2000000000000002,
            "count": 0
           },
           {
            "bin_start": 1.2000000000000002,
            "bin_end": 1.3,
            "count": 0
           },
           {
            "bin_start": 1.3,
            "bin_end": 1.4,
            "count": 0
           },
           {
            "bin_start": 1.4,
            "bin_end": 1.5,
            "count": 0
           }
          ]
         }
        },
        {
         "name": "is_transgender",
         "dtype": "uint8",
         "stats": {
          "unique_count": 1,
          "nan_count": 0,
          "min": "0",
          "max": "0",
          "histogram": [
           {
            "bin_start": -0.5,
            "bin_end": -0.4,
            "count": 0
           },
           {
            "bin_start": -0.4,
            "bin_end": -0.3,
            "count": 0
           },
           {
            "bin_start": -0.3,
            "bin_end": -0.19999999999999996,
            "count": 0
           },
           {
            "bin_start": -0.19999999999999996,
            "bin_end": -0.09999999999999998,
            "count": 0
           },
           {
            "bin_start": -0.09999999999999998,
            "bin_end": 0,
            "count": 0
           },
           {
            "bin_start": 0,
            "bin_end": 0.10000000000000009,
            "count": 5
           },
           {
            "bin_start": 0.10000000000000009,
            "bin_end": 0.20000000000000007,
            "count": 0
           },
           {
            "bin_start": 0.20000000000000007,
            "bin_end": 0.30000000000000004,
            "count": 0
           },
           {
            "bin_start": 0.30000000000000004,
            "bin_end": 0.4,
            "count": 0
           },
           {
            "bin_start": 0.4,
            "bin_end": 0.5,
            "count": 0
           }
          ]
         }
        },
        {
         "name": "was_fleeing",
         "dtype": "float64",
         "stats": {
          "unique_count": 2,
          "nan_count": 0,
          "min": "0.0",
          "max": "1.0",
          "histogram": [
           {
            "bin_start": 0,
            "bin_end": 0.1,
            "count": 3
           },
           {
            "bin_start": 0.1,
            "bin_end": 0.2,
            "count": 0
           },
           {
            "bin_start": 0.2,
            "bin_end": 0.30000000000000004,
            "count": 0
           },
           {
            "bin_start": 0.30000000000000004,
            "bin_end": 0.4,
            "count": 0
           },
           {
            "bin_start": 0.4,
            "bin_end": 0.5,
            "count": 0
           },
           {
            "bin_start": 0.5,
            "bin_end": 0.6000000000000001,
            "count": 0
           },
           {
            "bin_start": 0.6000000000000001,
            "bin_end": 0.7000000000000001,
            "count": 0
           },
           {
            "bin_start": 0.7000000000000001,
            "bin_end": 0.8,
            "count": 0
           },
           {
            "bin_start": 0.8,
            "bin_end": 0.9,
            "count": 0
           },
           {
            "bin_start": 0.9,
            "bin_end": 1,
            "count": 2
           }
          ]
         }
        },
        {
         "name": "was_not fleeing ",
         "dtype": "float64",
         "stats": {
          "unique_count": 1,
          "nan_count": 0,
          "min": "0.0",
          "max": "0.0",
          "histogram": [
           {
            "bin_start": -0.5,
            "bin_end": -0.4,
            "count": 0
           },
           {
            "bin_start": -0.4,
            "bin_end": -0.3,
            "count": 0
           },
           {
            "bin_start": -0.3,
            "bin_end": -0.19999999999999996,
            "count": 0
           },
           {
            "bin_start": -0.19999999999999996,
            "bin_end": -0.09999999999999998,
            "count": 0
           },
           {
            "bin_start": -0.09999999999999998,
            "bin_end": 0,
            "count": 0
           },
           {
            "bin_start": 0,
            "bin_end": 0.10000000000000009,
            "count": 5
           },
           {
            "bin_start": 0.10000000000000009,
            "bin_end": 0.20000000000000007,
            "count": 0
           },
           {
            "bin_start": 0.20000000000000007,
            "bin_end": 0.30000000000000004,
            "count": 0
           },
           {
            "bin_start": 0.30000000000000004,
            "bin_end": 0.4,
            "count": 0
           },
           {
            "bin_start": 0.4,
            "bin_end": 0.5,
            "count": 0
           }
          ]
         }
        },
        {
         "name": "was_allegedly_armed",
         "dtype": "float64",
         "stats": {
          "unique_count": 2,
          "nan_count": 0,
          "min": "0.0",
          "max": "1.0",
          "histogram": [
           {
            "bin_start": 0,
            "bin_end": 0.1,
            "count": 2
           },
           {
            "bin_start": 0.1,
            "bin_end": 0.2,
            "count": 0
           },
           {
            "bin_start": 0.2,
            "bin_end": 0.30000000000000004,
            "count": 0
           },
           {
            "bin_start": 0.30000000000000004,
            "bin_end": 0.4,
            "count": 0
           },
           {
            "bin_start": 0.4,
            "bin_end": 0.5,
            "count": 0
           },
           {
            "bin_start": 0.5,
            "bin_end": 0.6000000000000001,
            "count": 0
           },
           {
            "bin_start": 0.6000000000000001,
            "bin_end": 0.7000000000000001,
            "count": 0
           },
           {
            "bin_start": 0.7000000000000001,
            "bin_end": 0.8,
            "count": 0
           },
           {
            "bin_start": 0.8,
            "bin_end": 0.9,
            "count": 0
           },
           {
            "bin_start": 0.9,
            "bin_end": 1,
            "count": 3
           }
          ]
         }
        },
        {
         "name": "was_unarmed",
         "dtype": "float64",
         "stats": {
          "unique_count": 2,
          "nan_count": 0,
          "min": "0.0",
          "max": "1.0",
          "histogram": [
           {
            "bin_start": 0,
            "bin_end": 0.1,
            "count": 4
           },
           {
            "bin_start": 0.1,
            "bin_end": 0.2,
            "count": 0
           },
           {
            "bin_start": 0.2,
            "bin_end": 0.30000000000000004,
            "count": 0
           },
           {
            "bin_start": 0.30000000000000004,
            "bin_end": 0.4,
            "count": 0
           },
           {
            "bin_start": 0.4,
            "bin_end": 0.5,
            "count": 0
           },
           {
            "bin_start": 0.5,
            "bin_end": 0.6000000000000001,
            "count": 0
           },
           {
            "bin_start": 0.6000000000000001,
            "bin_end": 0.7000000000000001,
            "count": 0
           },
           {
            "bin_start": 0.7000000000000001,
            "bin_end": 0.8,
            "count": 0
           },
           {
            "bin_start": 0.8,
            "bin_end": 0.9,
            "count": 0
           },
           {
            "bin_start": 0.9,
            "bin_end": 1,
            "count": 1
           }
          ]
         }
        },
        {
         "name": "was_vehicle",
         "dtype": "float64",
         "stats": {
          "unique_count": 1,
          "nan_count": 0,
          "min": "0.0",
          "max": "0.0",
          "histogram": [
           {
            "bin_start": -0.5,
            "bin_end": -0.4,
            "count": 0
           },
           {
            "bin_start": -0.4,
            "bin_end": -0.3,
            "count": 0
           },
           {
            "bin_start": -0.3,
            "bin_end": -0.19999999999999996,
            "count": 0
           },
           {
            "bin_start": -0.19999999999999996,
            "bin_end": -0.09999999999999998,
            "count": 0
           },
           {
            "bin_start": -0.09999999999999998,
            "bin_end": 0,
            "count": 0
           },
           {
            "bin_start": 0,
            "bin_end": 0.10000000000000009,
            "count": 5
           },
           {
            "bin_start": 0.10000000000000009,
            "bin_end": 0.20000000000000007,
            "count": 0
           },
           {
            "bin_start": 0.20000000000000007,
            "bin_end": 0.30000000000000004,
            "count": 0
           },
           {
            "bin_start": 0.30000000000000004,
            "bin_end": 0.4,
            "count": 0
           },
           {
            "bin_start": 0.4,
            "bin_end": 0.5,
            "count": 0
           }
          ]
         }
        },
        {
         "name": "was_domestic_disturbance",
         "dtype": "uint8",
         "stats": {
          "unique_count": 2,
          "nan_count": 0,
          "min": "0",
          "max": "1",
          "histogram": [
           {
            "bin_start": 0,
            "bin_end": 0.1,
            "count": 4
           },
           {
            "bin_start": 0.1,
            "bin_end": 0.2,
            "count": 0
           },
           {
            "bin_start": 0.2,
            "bin_end": 0.30000000000000004,
            "count": 0
           },
           {
            "bin_start": 0.30000000000000004,
            "bin_end": 0.4,
            "count": 0
           },
           {
            "bin_start": 0.4,
            "bin_end": 0.5,
            "count": 0
           },
           {
            "bin_start": 0.5,
            "bin_end": 0.6000000000000001,
            "count": 0
           },
           {
            "bin_start": 0.6000000000000001,
            "bin_end": 0.7000000000000001,
            "count": 0
           },
           {
            "bin_start": 0.7000000000000001,
            "bin_end": 0.8,
            "count": 0
           },
           {
            "bin_start": 0.8,
            "bin_end": 0.9,
            "count": 0
           },
           {
            "bin_start": 0.9,
            "bin_end": 1,
            "count": 1
           }
          ]
         }
        },
        {
         "name": "was_mental_health_welfare_check",
         "dtype": "uint8",
         "stats": {
          "unique_count": 1,
          "nan_count": 0,
          "min": "0",
          "max": "0",
          "histogram": [
           {
            "bin_start": -0.5,
            "bin_end": -0.4,
            "count": 0
           },
           {
            "bin_start": -0.4,
            "bin_end": -0.3,
            "count": 0
           },
           {
            "bin_start": -0.3,
            "bin_end": -0.19999999999999996,
            "count": 0
           },
           {
            "bin_start": -0.19999999999999996,
            "bin_end": -0.09999999999999998,
            "count": 0
           },
           {
            "bin_start": -0.09999999999999998,
            "bin_end": 0,
            "count": 0
           },
           {
            "bin_start": 0,
            "bin_end": 0.10000000000000009,
            "count": 5
           },
           {
            "bin_start": 0.10000000000000009,
            "bin_end": 0.20000000000000007,
            "count": 0
           },
           {
            "bin_start": 0.20000000000000007,
            "bin_end": 0.30000000000000004,
            "count": 0
           },
           {
            "bin_start": 0.30000000000000004,
            "bin_end": 0.4,
            "count": 0
           },
           {
            "bin_start": 0.4,
            "bin_end": 0.5,
            "count": 0
           }
          ]
         }
        },
        {
         "name": "was_person_with_a_weapon",
         "dtype": "uint8",
         "stats": {
          "unique_count": 1,
          "nan_count": 0,
          "min": "0",
          "max": "0",
          "histogram": [
           {
            "bin_start": -0.5,
            "bin_end": -0.4,
            "count": 0
           },
           {
            "bin_start": -0.4,
            "bin_end": -0.3,
            "count": 0
           },
           {
            "bin_start": -0.3,
            "bin_end": -0.19999999999999996,
            "count": 0
           },
           {
            "bin_start": -0.19999999999999996,
            "bin_end": -0.09999999999999998,
            "count": 0
           },
           {
            "bin_start": -0.09999999999999998,
            "bin_end": 0,
            "count": 0
           },
           {
            "bin_start": 0,
            "bin_end": 0.10000000000000009,
            "count": 5
           },
           {
            "bin_start": 0.10000000000000009,
            "bin_end": 0.20000000000000007,
            "count": 0
           },
           {
            "bin_start": 0.20000000000000007,
            "bin_end": 0.30000000000000004,
            "count": 0
           },
           {
            "bin_start": 0.30000000000000004,
            "bin_end": 0.4,
            "count": 0
           },
           {
            "bin_start": 0.4,
            "bin_end": 0.5,
            "count": 0
           }
          ]
         }
        },
        {
         "name": "was_traffic_stop",
         "dtype": "uint8",
         "stats": {
          "unique_count": 1,
          "nan_count": 0,
          "min": "0",
          "max": "0",
          "histogram": [
           {
            "bin_start": -0.5,
            "bin_end": -0.4,
            "count": 0
           },
           {
            "bin_start": -0.4,
            "bin_end": -0.3,
            "count": 0
           },
           {
            "bin_start": -0.3,
            "bin_end": -0.19999999999999996,
            "count": 0
           },
           {
            "bin_start": -0.19999999999999996,
            "bin_end": -0.09999999999999998,
            "count": 0
           },
           {
            "bin_start": -0.09999999999999998,
            "bin_end": 0,
            "count": 0
           },
           {
            "bin_start": 0,
            "bin_end": 0.10000000000000009,
            "count": 5
           },
           {
            "bin_start": 0.10000000000000009,
            "bin_end": 0.20000000000000007,
            "count": 0
           },
           {
            "bin_start": 0.20000000000000007,
            "bin_end": 0.30000000000000004,
            "count": 0
           },
           {
            "bin_start": 0.30000000000000004,
            "bin_end": 0.4,
            "count": 0
           },
           {
            "bin_start": 0.4,
            "bin_end": 0.5,
            "count": 0
           }
          ]
         }
        },
        {
         "name": "was_violent_crime_part_1",
         "dtype": "uint8",
         "stats": {
          "unique_count": 2,
          "nan_count": 0,
          "min": "0",
          "max": "1",
          "histogram": [
           {
            "bin_start": 0,
            "bin_end": 0.1,
            "count": 2
           },
           {
            "bin_start": 0.1,
            "bin_end": 0.2,
            "count": 0
           },
           {
            "bin_start": 0.2,
            "bin_end": 0.30000000000000004,
            "count": 0
           },
           {
            "bin_start": 0.30000000000000004,
            "bin_end": 0.4,
            "count": 0
           },
           {
            "bin_start": 0.4,
            "bin_end": 0.5,
            "count": 0
           },
           {
            "bin_start": 0.5,
            "bin_end": 0.6000000000000001,
            "count": 0
           },
           {
            "bin_start": 0.6000000000000001,
            "bin_end": 0.7000000000000001,
            "count": 0
           },
           {
            "bin_start": 0.7000000000000001,
            "bin_end": 0.8,
            "count": 0
           },
           {
            "bin_start": 0.8,
            "bin_end": 0.9,
            "count": 0
           },
           {
            "bin_start": 0.9,
            "bin_end": 1,
            "count": 3
           }
          ]
         }
        },
        {
         "name": "is_asian/pacific islander",
         "dtype": "uint8",
         "stats": {
          "unique_count": 1,
          "nan_count": 0,
          "min": "0",
          "max": "0",
          "histogram": [
           {
            "bin_start": -0.5,
            "bin_end": -0.4,
            "count": 0
           },
           {
            "bin_start": -0.4,
            "bin_end": -0.3,
            "count": 0
           },
           {
            "bin_start": -0.3,
            "bin_end": -0.19999999999999996,
            "count": 0
           },
           {
            "bin_start": -0.19999999999999996,
            "bin_end": -0.09999999999999998,
            "count": 0
           },
           {
            "bin_start": -0.09999999999999998,
            "bin_end": 0,
            "count": 0
           },
           {
            "bin_start": 0,
            "bin_end": 0.10000000000000009,
            "count": 5
           },
           {
            "bin_start": 0.10000000000000009,
            "bin_end": 0.20000000000000007,
            "count": 0
           },
           {
            "bin_start": 0.20000000000000007,
            "bin_end": 0.30000000000000004,
            "count": 0
           },
           {
            "bin_start": 0.30000000000000004,
            "bin_end": 0.4,
            "count": 0
           },
           {
            "bin_start": 0.4,
            "bin_end": 0.5,
            "count": 0
           }
          ]
         }
        },
        {
         "name": "is_black",
         "dtype": "uint8",
         "stats": {
          "unique_count": 2,
          "nan_count": 0,
          "min": "0",
          "max": "1",
          "histogram": [
           {
            "bin_start": 0,
            "bin_end": 0.1,
            "count": 3
           },
           {
            "bin_start": 0.1,
            "bin_end": 0.2,
            "count": 0
           },
           {
            "bin_start": 0.2,
            "bin_end": 0.30000000000000004,
            "count": 0
           },
           {
            "bin_start": 0.30000000000000004,
            "bin_end": 0.4,
            "count": 0
           },
           {
            "bin_start": 0.4,
            "bin_end": 0.5,
            "count": 0
           },
           {
            "bin_start": 0.5,
            "bin_end": 0.6000000000000001,
            "count": 0
           },
           {
            "bin_start": 0.6000000000000001,
            "bin_end": 0.7000000000000001,
            "count": 0
           },
           {
            "bin_start": 0.7000000000000001,
            "bin_end": 0.8,
            "count": 0
           },
           {
            "bin_start": 0.8,
            "bin_end": 0.9,
            "count": 0
           },
           {
            "bin_start": 0.9,
            "bin_end": 1,
            "count": 2
           }
          ]
         }
        },
        {
         "name": "is_hispanic",
         "dtype": "uint8",
         "stats": {
          "unique_count": 1,
          "nan_count": 0,
          "min": "0",
          "max": "0",
          "histogram": [
           {
            "bin_start": -0.5,
            "bin_end": -0.4,
            "count": 0
           },
           {
            "bin_start": -0.4,
            "bin_end": -0.3,
            "count": 0
           },
           {
            "bin_start": -0.3,
            "bin_end": -0.19999999999999996,
            "count": 0
           },
           {
            "bin_start": -0.19999999999999996,
            "bin_end": -0.09999999999999998,
            "count": 0
           },
           {
            "bin_start": -0.09999999999999998,
            "bin_end": 0,
            "count": 0
           },
           {
            "bin_start": 0,
            "bin_end": 0.10000000000000009,
            "count": 5
           },
           {
            "bin_start": 0.10000000000000009,
            "bin_end": 0.20000000000000007,
            "count": 0
           },
           {
            "bin_start": 0.20000000000000007,
            "bin_end": 0.30000000000000004,
            "count": 0
           },
           {
            "bin_start": 0.30000000000000004,
            "bin_end": 0.4,
            "count": 0
           },
           {
            "bin_start": 0.4,
            "bin_end": 0.5,
            "count": 0
           }
          ]
         }
        },
        {
         "name": "is_native american",
         "dtype": "uint8",
         "stats": {
          "unique_count": 1,
          "nan_count": 0,
          "min": "0",
          "max": "0",
          "histogram": [
           {
            "bin_start": -0.5,
            "bin_end": -0.4,
            "count": 0
           },
           {
            "bin_start": -0.4,
            "bin_end": -0.3,
            "count": 0
           },
           {
            "bin_start": -0.3,
            "bin_end": -0.19999999999999996,
            "count": 0
           },
           {
            "bin_start": -0.19999999999999996,
            "bin_end": -0.09999999999999998,
            "count": 0
           },
           {
            "bin_start": -0.09999999999999998,
            "bin_end": 0,
            "count": 0
           },
           {
            "bin_start": 0,
            "bin_end": 0.10000000000000009,
            "count": 5
           },
           {
            "bin_start": 0.10000000000000009,
            "bin_end": 0.20000000000000007,
            "count": 0
           },
           {
            "bin_start": 0.20000000000000007,
            "bin_end": 0.30000000000000004,
            "count": 0
           },
           {
            "bin_start": 0.30000000000000004,
            "bin_end": 0.4,
            "count": 0
           },
           {
            "bin_start": 0.4,
            "bin_end": 0.5,
            "count": 0
           }
          ]
         }
        },
        {
         "name": "is_unknown race",
         "dtype": "uint8",
         "stats": {
          "unique_count": 2,
          "nan_count": 0,
          "min": "0",
          "max": "1",
          "histogram": [
           {
            "bin_start": 0,
            "bin_end": 0.1,
            "count": 4
           },
           {
            "bin_start": 0.1,
            "bin_end": 0.2,
            "count": 0
           },
           {
            "bin_start": 0.2,
            "bin_end": 0.30000000000000004,
            "count": 0
           },
           {
            "bin_start": 0.30000000000000004,
            "bin_end": 0.4,
            "count": 0
           },
           {
            "bin_start": 0.4,
            "bin_end": 0.5,
            "count": 0
           },
           {
            "bin_start": 0.5,
            "bin_end": 0.6000000000000001,
            "count": 0
           },
           {
            "bin_start": 0.6000000000000001,
            "bin_end": 0.7000000000000001,
            "count": 0
           },
           {
            "bin_start": 0.7000000000000001,
            "bin_end": 0.8,
            "count": 0
           },
           {
            "bin_start": 0.8,
            "bin_end": 0.9,
            "count": 0
           },
           {
            "bin_start": 0.9,
            "bin_end": 1,
            "count": 1
           }
          ]
         }
        },
        {
         "name": "is_white",
         "dtype": "uint8",
         "stats": {
          "unique_count": 2,
          "nan_count": 0,
          "min": "0",
          "max": "1",
          "histogram": [
           {
            "bin_start": 0,
            "bin_end": 0.1,
            "count": 3
           },
           {
            "bin_start": 0.1,
            "bin_end": 0.2,
            "count": 0
           },
           {
            "bin_start": 0.2,
            "bin_end": 0.30000000000000004,
            "count": 0
           },
           {
            "bin_start": 0.30000000000000004,
            "bin_end": 0.4,
            "count": 0
           },
           {
            "bin_start": 0.4,
            "bin_end": 0.5,
            "count": 0
           },
           {
            "bin_start": 0.5,
            "bin_end": 0.6000000000000001,
            "count": 0
           },
           {
            "bin_start": 0.6000000000000001,
            "bin_end": 0.7000000000000001,
            "count": 0
           },
           {
            "bin_start": 0.7000000000000001,
            "bin_end": 0.8,
            "count": 0
           },
           {
            "bin_start": 0.8,
            "bin_end": 0.9,
            "count": 0
           },
           {
            "bin_start": 0.9,
            "bin_end": 1,
            "count": 2
           }
          ]
         }
        },
        {
         "name": "mntlill_drug or alcohol use",
         "dtype": "uint8",
         "stats": {
          "unique_count": 1,
          "nan_count": 0,
          "min": "0",
          "max": "0",
          "histogram": [
           {
            "bin_start": -0.5,
            "bin_end": -0.4,
            "count": 0
           },
           {
            "bin_start": -0.4,
            "bin_end": -0.3,
            "count": 0
           },
           {
            "bin_start": -0.3,
            "bin_end": -0.19999999999999996,
            "count": 0
           },
           {
            "bin_start": -0.19999999999999996,
            "bin_end": -0.09999999999999998,
            "count": 0
           },
           {
            "bin_start": -0.09999999999999998,
            "bin_end": 0,
            "count": 0
           },
           {
            "bin_start": 0,
            "bin_end": 0.10000000000000009,
            "count": 5
           },
           {
            "bin_start": 0.10000000000000009,
            "bin_end": 0.20000000000000007,
            "count": 0
           },
           {
            "bin_start": 0.20000000000000007,
            "bin_end": 0.30000000000000004,
            "count": 0
           },
           {
            "bin_start": 0.30000000000000004,
            "bin_end": 0.4,
            "count": 0
           },
           {
            "bin_start": 0.4,
            "bin_end": 0.5,
            "count": 0
           }
          ]
         }
        },
        {
         "name": "mntlill_no",
         "dtype": "uint8",
         "stats": {
          "unique_count": 2,
          "nan_count": 0,
          "min": "0",
          "max": "1",
          "histogram": [
           {
            "bin_start": 0,
            "bin_end": 0.1,
            "count": 1
           },
           {
            "bin_start": 0.1,
            "bin_end": 0.2,
            "count": 0
           },
           {
            "bin_start": 0.2,
            "bin_end": 0.30000000000000004,
            "count": 0
           },
           {
            "bin_start": 0.30000000000000004,
            "bin_end": 0.4,
            "count": 0
           },
           {
            "bin_start": 0.4,
            "bin_end": 0.5,
            "count": 0
           },
           {
            "bin_start": 0.5,
            "bin_end": 0.6000000000000001,
            "count": 0
           },
           {
            "bin_start": 0.6000000000000001,
            "bin_end": 0.7000000000000001,
            "count": 0
           },
           {
            "bin_start": 0.7000000000000001,
            "bin_end": 0.8,
            "count": 0
           },
           {
            "bin_start": 0.8,
            "bin_end": 0.9,
            "count": 0
           },
           {
            "bin_start": 0.9,
            "bin_end": 1,
            "count": 4
           }
          ]
         }
        },
        {
         "name": "mntlill_unknown",
         "dtype": "uint8",
         "stats": {
          "unique_count": 1,
          "nan_count": 0,
          "min": "0",
          "max": "0",
          "histogram": [
           {
            "bin_start": -0.5,
            "bin_end": -0.4,
            "count": 0
           },
           {
            "bin_start": -0.4,
            "bin_end": -0.3,
            "count": 0
           },
           {
            "bin_start": -0.3,
            "bin_end": -0.19999999999999996,
            "count": 0
           },
           {
            "bin_start": -0.19999999999999996,
            "bin_end": -0.09999999999999998,
            "count": 0
           },
           {
            "bin_start": -0.09999999999999998,
            "bin_end": 0,
            "count": 0
           },
           {
            "bin_start": 0,
            "bin_end": 0.10000000000000009,
            "count": 5
           },
           {
            "bin_start": 0.10000000000000009,
            "bin_end": 0.20000000000000007,
            "count": 0
           },
           {
            "bin_start": 0.20000000000000007,
            "bin_end": 0.30000000000000004,
            "count": 0
           },
           {
            "bin_start": 0.30000000000000004,
            "bin_end": 0.4,
            "count": 0
           },
           {
            "bin_start": 0.4,
            "bin_end": 0.5,
            "count": 0
           }
          ]
         }
        },
        {
         "name": "mntlill_yes",
         "dtype": "uint8",
         "stats": {
          "unique_count": 2,
          "nan_count": 0,
          "min": "0",
          "max": "1",
          "histogram": [
           {
            "bin_start": 0,
            "bin_end": 0.1,
            "count": 4
           },
           {
            "bin_start": 0.1,
            "bin_end": 0.2,
            "count": 0
           },
           {
            "bin_start": 0.2,
            "bin_end": 0.30000000000000004,
            "count": 0
           },
           {
            "bin_start": 0.30000000000000004,
            "bin_end": 0.4,
            "count": 0
           },
           {
            "bin_start": 0.4,
            "bin_end": 0.5,
            "count": 0
           },
           {
            "bin_start": 0.5,
            "bin_end": 0.6000000000000001,
            "count": 0
           },
           {
            "bin_start": 0.6000000000000001,
            "bin_end": 0.7000000000000001,
            "count": 0
           },
           {
            "bin_start": 0.7000000000000001,
            "bin_end": 0.8,
            "count": 0
           },
           {
            "bin_start": 0.8,
            "bin_end": 0.9,
            "count": 0
           },
           {
            "bin_start": 0.9,
            "bin_end": 1,
            "count": 1
           }
          ]
         }
        },
        {
         "name": "rural",
         "dtype": "float64",
         "stats": {
          "unique_count": 2,
          "nan_count": 0,
          "min": "0.0",
          "max": "1.0",
          "histogram": [
           {
            "bin_start": 0,
            "bin_end": 0.1,
            "count": 3
           },
           {
            "bin_start": 0.1,
            "bin_end": 0.2,
            "count": 0
           },
           {
            "bin_start": 0.2,
            "bin_end": 0.30000000000000004,
            "count": 0
           },
           {
            "bin_start": 0.30000000000000004,
            "bin_end": 0.4,
            "count": 0
           },
           {
            "bin_start": 0.4,
            "bin_end": 0.5,
            "count": 0
           },
           {
            "bin_start": 0.5,
            "bin_end": 0.6000000000000001,
            "count": 0
           },
           {
            "bin_start": 0.6000000000000001,
            "bin_end": 0.7000000000000001,
            "count": 0
           },
           {
            "bin_start": 0.7000000000000001,
            "bin_end": 0.8,
            "count": 0
           },
           {
            "bin_start": 0.8,
            "bin_end": 0.9,
            "count": 0
           },
           {
            "bin_start": 0.9,
            "bin_end": 1,
            "count": 2
           }
          ]
         }
        },
        {
         "name": "suburban",
         "dtype": "float64",
         "stats": {
          "unique_count": 2,
          "nan_count": 0,
          "min": "0.0",
          "max": "1.0",
          "histogram": [
           {
            "bin_start": 0,
            "bin_end": 0.1,
            "count": 3
           },
           {
            "bin_start": 0.1,
            "bin_end": 0.2,
            "count": 0
           },
           {
            "bin_start": 0.2,
            "bin_end": 0.30000000000000004,
            "count": 0
           },
           {
            "bin_start": 0.30000000000000004,
            "bin_end": 0.4,
            "count": 0
           },
           {
            "bin_start": 0.4,
            "bin_end": 0.5,
            "count": 0
           },
           {
            "bin_start": 0.5,
            "bin_end": 0.6000000000000001,
            "count": 0
           },
           {
            "bin_start": 0.6000000000000001,
            "bin_end": 0.7000000000000001,
            "count": 0
           },
           {
            "bin_start": 0.7000000000000001,
            "bin_end": 0.8,
            "count": 0
           },
           {
            "bin_start": 0.8,
            "bin_end": 0.9,
            "count": 0
           },
           {
            "bin_start": 0.9,
            "bin_end": 1,
            "count": 2
           }
          ]
         }
        },
        {
         "name": "urban",
         "dtype": "float64",
         "stats": {
          "unique_count": 2,
          "nan_count": 0,
          "min": "0.0",
          "max": "1.0",
          "histogram": [
           {
            "bin_start": 0,
            "bin_end": 0.1,
            "count": 4
           },
           {
            "bin_start": 0.1,
            "bin_end": 0.2,
            "count": 0
           },
           {
            "bin_start": 0.2,
            "bin_end": 0.30000000000000004,
            "count": 0
           },
           {
            "bin_start": 0.30000000000000004,
            "bin_end": 0.4,
            "count": 0
           },
           {
            "bin_start": 0.4,
            "bin_end": 0.5,
            "count": 0
           },
           {
            "bin_start": 0.5,
            "bin_end": 0.6000000000000001,
            "count": 0
           },
           {
            "bin_start": 0.6000000000000001,
            "bin_end": 0.7000000000000001,
            "count": 0
           },
           {
            "bin_start": 0.7000000000000001,
            "bin_end": 0.8,
            "count": 0
           },
           {
            "bin_start": 0.8,
            "bin_end": 0.9,
            "count": 0
           },
           {
            "bin_start": 0.9,
            "bin_end": 1,
            "count": 1
           }
          ]
         }
        },
        {
         "name": "cod_lethal",
         "dtype": "int64",
         "stats": {
          "unique_count": 1,
          "nan_count": 0,
          "min": "1",
          "max": "1",
          "histogram": [
           {
            "bin_start": 0.5,
            "bin_end": 0.6,
            "count": 0
           },
           {
            "bin_start": 0.6,
            "bin_end": 0.7,
            "count": 0
           },
           {
            "bin_start": 0.7,
            "bin_end": 0.8,
            "count": 0
           },
           {
            "bin_start": 0.8,
            "bin_end": 0.9,
            "count": 0
           },
           {
            "bin_start": 0.9,
            "bin_end": 1,
            "count": 0
           },
           {
            "bin_start": 1,
            "bin_end": 1.1,
            "count": 5
           },
           {
            "bin_start": 1.1,
            "bin_end": 1.2000000000000002,
            "count": 0
           },
           {
            "bin_start": 1.2000000000000002,
            "bin_end": 1.3,
            "count": 0
           },
           {
            "bin_start": 1.3,
            "bin_end": 1.4,
            "count": 0
           },
           {
            "bin_start": 1.4,
            "bin_end": 1.5,
            "count": 0
           }
          ]
         }
        },
        {
         "name": "age_bins",
         "dtype": "category",
         "stats": {
          "unique_count": 3,
          "nan_count": 0,
          "categories": [
           {
            "name": "45-54",
            "count": 3
           },
           {
            "name": "25-34",
            "count": 1
           },
           {
            "name": "under 12",
            "count": 1
           }
          ]
         }
        },
        {
         "name": "unknown",
         "dtype": "uint8",
         "stats": {
          "unique_count": 1,
          "nan_count": 0,
          "min": "0",
          "max": "0",
          "histogram": [
           {
            "bin_start": -0.5,
            "bin_end": -0.4,
            "count": 0
           },
           {
            "bin_start": -0.4,
            "bin_end": -0.3,
            "count": 0
           },
           {
            "bin_start": -0.3,
            "bin_end": -0.19999999999999996,
            "count": 0
           },
           {
            "bin_start": -0.19999999999999996,
            "bin_end": -0.09999999999999998,
            "count": 0
           },
           {
            "bin_start": -0.09999999999999998,
            "bin_end": 0,
            "count": 0
           },
           {
            "bin_start": 0,
            "bin_end": 0.10000000000000009,
            "count": 5
           },
           {
            "bin_start": 0.10000000000000009,
            "bin_end": 0.20000000000000007,
            "count": 0
           },
           {
            "bin_start": 0.20000000000000007,
            "bin_end": 0.30000000000000004,
            "count": 0
           },
           {
            "bin_start": 0.30000000000000004,
            "bin_end": 0.4,
            "count": 0
           },
           {
            "bin_start": 0.4,
            "bin_end": 0.5,
            "count": 0
           }
          ]
         }
        },
        {
         "name": "under 12",
         "dtype": "uint8",
         "stats": {
          "unique_count": 2,
          "nan_count": 0,
          "min": "0",
          "max": "1",
          "histogram": [
           {
            "bin_start": 0,
            "bin_end": 0.1,
            "count": 4
           },
           {
            "bin_start": 0.1,
            "bin_end": 0.2,
            "count": 0
           },
           {
            "bin_start": 0.2,
            "bin_end": 0.30000000000000004,
            "count": 0
           },
           {
            "bin_start": 0.30000000000000004,
            "bin_end": 0.4,
            "count": 0
           },
           {
            "bin_start": 0.4,
            "bin_end": 0.5,
            "count": 0
           },
           {
            "bin_start": 0.5,
            "bin_end": 0.6000000000000001,
            "count": 0
           },
           {
            "bin_start": 0.6000000000000001,
            "bin_end": 0.7000000000000001,
            "count": 0
           },
           {
            "bin_start": 0.7000000000000001,
            "bin_end": 0.8,
            "count": 0
           },
           {
            "bin_start": 0.8,
            "bin_end": 0.9,
            "count": 0
           },
           {
            "bin_start": 0.9,
            "bin_end": 1,
            "count": 1
           }
          ]
         }
        },
        {
         "name": "12-17",
         "dtype": "uint8",
         "stats": {
          "unique_count": 1,
          "nan_count": 0,
          "min": "0",
          "max": "0",
          "histogram": [
           {
            "bin_start": -0.5,
            "bin_end": -0.4,
            "count": 0
           },
           {
            "bin_start": -0.4,
            "bin_end": -0.3,
            "count": 0
           },
           {
            "bin_start": -0.3,
            "bin_end": -0.19999999999999996,
            "count": 0
           },
           {
            "bin_start": -0.19999999999999996,
            "bin_end": -0.09999999999999998,
            "count": 0
           },
           {
            "bin_start": -0.09999999999999998,
            "bin_end": 0,
            "count": 0
           },
           {
            "bin_start": 0,
            "bin_end": 0.10000000000000009,
            "count": 5
           },
           {
            "bin_start": 0.10000000000000009,
            "bin_end": 0.20000000000000007,
            "count": 0
           },
           {
            "bin_start": 0.20000000000000007,
            "bin_end": 0.30000000000000004,
            "count": 0
           },
           {
            "bin_start": 0.30000000000000004,
            "bin_end": 0.4,
            "count": 0
           },
           {
            "bin_start": 0.4,
            "bin_end": 0.5,
            "count": 0
           }
          ]
         }
        },
        {
         "name": "18-24",
         "dtype": "uint8",
         "stats": {
          "unique_count": 1,
          "nan_count": 0,
          "min": "0",
          "max": "0",
          "histogram": [
           {
            "bin_start": -0.5,
            "bin_end": -0.4,
            "count": 0
           },
           {
            "bin_start": -0.4,
            "bin_end": -0.3,
            "count": 0
           },
           {
            "bin_start": -0.3,
            "bin_end": -0.19999999999999996,
            "count": 0
           },
           {
            "bin_start": -0.19999999999999996,
            "bin_end": -0.09999999999999998,
            "count": 0
           },
           {
            "bin_start": -0.09999999999999998,
            "bin_end": 0,
            "count": 0
           },
           {
            "bin_start": 0,
            "bin_end": 0.10000000000000009,
            "count": 5
           },
           {
            "bin_start": 0.10000000000000009,
            "bin_end": 0.20000000000000007,
            "count": 0
           },
           {
            "bin_start": 0.20000000000000007,
            "bin_end": 0.30000000000000004,
            "count": 0
           },
           {
            "bin_start": 0.30000000000000004,
            "bin_end": 0.4,
            "count": 0
           },
           {
            "bin_start": 0.4,
            "bin_end": 0.5,
            "count": 0
           }
          ]
         }
        },
        {
         "name": "25-34",
         "dtype": "uint8",
         "stats": {
          "unique_count": 2,
          "nan_count": 0,
          "min": "0",
          "max": "1",
          "histogram": [
           {
            "bin_start": 0,
            "bin_end": 0.1,
            "count": 4
           },
           {
            "bin_start": 0.1,
            "bin_end": 0.2,
            "count": 0
           },
           {
            "bin_start": 0.2,
            "bin_end": 0.30000000000000004,
            "count": 0
           },
           {
            "bin_start": 0.30000000000000004,
            "bin_end": 0.4,
            "count": 0
           },
           {
            "bin_start": 0.4,
            "bin_end": 0.5,
            "count": 0
           },
           {
            "bin_start": 0.5,
            "bin_end": 0.6000000000000001,
            "count": 0
           },
           {
            "bin_start": 0.6000000000000001,
            "bin_end": 0.7000000000000001,
            "count": 0
           },
           {
            "bin_start": 0.7000000000000001,
            "bin_end": 0.8,
            "count": 0
           },
           {
            "bin_start": 0.8,
            "bin_end": 0.9,
            "count": 0
           },
           {
            "bin_start": 0.9,
            "bin_end": 1,
            "count": 1
           }
          ]
         }
        },
        {
         "name": "35-44",
         "dtype": "uint8",
         "stats": {
          "unique_count": 1,
          "nan_count": 0,
          "min": "0",
          "max": "0",
          "histogram": [
           {
            "bin_start": -0.5,
            "bin_end": -0.4,
            "count": 0
           },
           {
            "bin_start": -0.4,
            "bin_end": -0.3,
            "count": 0
           },
           {
            "bin_start": -0.3,
            "bin_end": -0.19999999999999996,
            "count": 0
           },
           {
            "bin_start": -0.19999999999999996,
            "bin_end": -0.09999999999999998,
            "count": 0
           },
           {
            "bin_start": -0.09999999999999998,
            "bin_end": 0,
            "count": 0
           },
           {
            "bin_start": 0,
            "bin_end": 0.10000000000000009,
            "count": 5
           },
           {
            "bin_start": 0.10000000000000009,
            "bin_end": 0.20000000000000007,
            "count": 0
           },
           {
            "bin_start": 0.20000000000000007,
            "bin_end": 0.30000000000000004,
            "count": 0
           },
           {
            "bin_start": 0.30000000000000004,
            "bin_end": 0.4,
            "count": 0
           },
           {
            "bin_start": 0.4,
            "bin_end": 0.5,
            "count": 0
           }
          ]
         }
        },
        {
         "name": "45-54",
         "dtype": "uint8",
         "stats": {
          "unique_count": 2,
          "nan_count": 0,
          "min": "0",
          "max": "1",
          "histogram": [
           {
            "bin_start": 0,
            "bin_end": 0.1,
            "count": 2
           },
           {
            "bin_start": 0.1,
            "bin_end": 0.2,
            "count": 0
           },
           {
            "bin_start": 0.2,
            "bin_end": 0.30000000000000004,
            "count": 0
           },
           {
            "bin_start": 0.30000000000000004,
            "bin_end": 0.4,
            "count": 0
           },
           {
            "bin_start": 0.4,
            "bin_end": 0.5,
            "count": 0
           },
           {
            "bin_start": 0.5,
            "bin_end": 0.6000000000000001,
            "count": 0
           },
           {
            "bin_start": 0.6000000000000001,
            "bin_end": 0.7000000000000001,
            "count": 0
           },
           {
            "bin_start": 0.7000000000000001,
            "bin_end": 0.8,
            "count": 0
           },
           {
            "bin_start": 0.8,
            "bin_end": 0.9,
            "count": 0
           },
           {
            "bin_start": 0.9,
            "bin_end": 1,
            "count": 3
           }
          ]
         }
        },
        {
         "name": "55-64",
         "dtype": "uint8",
         "stats": {
          "unique_count": 1,
          "nan_count": 0,
          "min": "0",
          "max": "0",
          "histogram": [
           {
            "bin_start": -0.5,
            "bin_end": -0.4,
            "count": 0
           },
           {
            "bin_start": -0.4,
            "bin_end": -0.3,
            "count": 0
           },
           {
            "bin_start": -0.3,
            "bin_end": -0.19999999999999996,
            "count": 0
           },
           {
            "bin_start": -0.19999999999999996,
            "bin_end": -0.09999999999999998,
            "count": 0
           },
           {
            "bin_start": -0.09999999999999998,
            "bin_end": 0,
            "count": 0
           },
           {
            "bin_start": 0,
            "bin_end": 0.10000000000000009,
            "count": 5
           },
           {
            "bin_start": 0.10000000000000009,
            "bin_end": 0.20000000000000007,
            "count": 0
           },
           {
            "bin_start": 0.20000000000000007,
            "bin_end": 0.30000000000000004,
            "count": 0
           },
           {
            "bin_start": 0.30000000000000004,
            "bin_end": 0.4,
            "count": 0
           },
           {
            "bin_start": 0.4,
            "bin_end": 0.5,
            "count": 0
           }
          ]
         }
        },
        {
         "name": "65+",
         "dtype": "uint8",
         "stats": {
          "unique_count": 1,
          "nan_count": 0,
          "min": "0",
          "max": "0",
          "histogram": [
           {
            "bin_start": -0.5,
            "bin_end": -0.4,
            "count": 0
           },
           {
            "bin_start": -0.4,
            "bin_end": -0.3,
            "count": 0
           },
           {
            "bin_start": -0.3,
            "bin_end": -0.19999999999999996,
            "count": 0
           },
           {
            "bin_start": -0.19999999999999996,
            "bin_end": -0.09999999999999998,
            "count": 0
           },
           {
            "bin_start": -0.09999999999999998,
            "bin_end": 0,
            "count": 0
           },
           {
            "bin_start": 0,
            "bin_end": 0.10000000000000009,
            "count": 5
           },
           {
            "bin_start": 0.10000000000000009,
            "bin_end": 0.20000000000000007,
            "count": 0
           },
           {
            "bin_start": 0.20000000000000007,
            "bin_end": 0.30000000000000004,
            "count": 0
           },
           {
            "bin_start": 0.30000000000000004,
            "bin_end": 0.4,
            "count": 0
           },
           {
            "bin_start": 0.4,
            "bin_end": 0.5,
            "count": 0
           }
          ]
         }
        },
        {
         "name": "_deepnote_index_column",
         "dtype": "int64"
        }
       ],
       "rows_top": [
        {
         "age": 52,
         "gender": "male",
         "race": "unknown race",
         "date": "2021-05-07T00:00:00.000000",
         "city": "rutledge",
         "state": "tn",
         "zipcode": 37861,
         "county": "grainger",
         "agency_responsible": "bean station police department, rutledge police department",
         "cause_of_death": "gunshot",
         "description_of_circumstances": "deputies responded to reports of a man shooting a gun inside a home. when deputies arrived, they made contact with the man. while encountering the subject, an officer with the bean station pd and an officer with rutledge pd fired at the man, killing him. no other details are available concerning the shooting at this time. ",
         "official_disposition": "pending investigation",
         "criminal_charges_filed": "no known charges",
         "mental_illness": "no",
         "armed_unarmed_status": "allegedly_armed",
         "alleged_weapon": "gun",
         "alleged_threat_lvl": 1,
         "fleeing": "not fleeing",
         "body_camera": 0,
         "geography": "rural",
         "encounter_type_draft": "violent_crime_part_1",
         "initial_reported_reason_for_encounter_draft": "shooting",
         "known_past_shootings_of_officer_draft": "0",
         "is_female": 0,
         "is_male": 1,
         "is_transgender": 0,
         "was_fleeing": 0,
         "was_not fleeing ": 0,
         "was_allegedly_armed": 1,
         "was_unarmed": 0,
         "was_vehicle": 0,
         "was_domestic_disturbance": 0,
         "was_mental_health_welfare_check": 0,
         "was_person_with_a_weapon": 0,
         "was_traffic_stop": 0,
         "was_violent_crime_part_1": 1,
         "is_asian/pacific islander": 0,
         "is_black": 0,
         "is_hispanic": 0,
         "is_native american": 0,
         "is_unknown race": 1,
         "is_white": 0,
         "mntlill_drug or alcohol use": 0,
         "mntlill_no": 1,
         "mntlill_unknown": 0,
         "mntlill_yes": 0,
         "rural": 1,
         "suburban": 0,
         "urban": 0,
         "cod_lethal": 1,
         "age_bins": "45-54",
         "unknown": 0,
         "under 12": 0,
         "12-17": 0,
         "18-24": 0,
         "25-34": 0,
         "35-44": 0,
         "45-54": 1,
         "55-64": 0,
         "65+": 0,
         "_deepnote_index_column": 7
        },
        {
         "age": 47,
         "gender": "male",
         "race": "white",
         "date": "2021-05-06T00:00:00.000000",
         "city": "san andreas",
         "state": "ca",
         "zipcode": 95249,
         "county": "calaveras",
         "agency_responsible": "calaveras county sheriff's office",
         "cause_of_death": "gunshot",
         "description_of_circumstances": "around 10:30 p.m., dispatchers got a call about an argument between a man and a woman at the sierra inn motel. during the incident, the man allegedly pointed a gun at the woman's head. the suspect left before deputies arrived. a search started, and the man shot a deputy who was interviewing the victim. police started searching the apartment complex. eventually, the man emerged from an apartment holding an elderly woman hostage with a gun. officers shot and killed mark aitulagi lavea and shot and wounded the hostage.",
         "official_disposition": "pending investigation",
         "criminal_charges_filed": "no known charges",
         "mental_illness": "no",
         "armed_unarmed_status": "allegedly_armed",
         "alleged_weapon": "gun",
         "alleged_threat_lvl": 0,
         "fleeing": "not fleeing",
         "body_camera": 0,
         "geography": "rural",
         "encounter_type_draft": "violent_crime_part_1",
         "initial_reported_reason_for_encounter_draft": "hostage situation",
         "known_past_shootings_of_officer_draft": "0",
         "is_female": 0,
         "is_male": 1,
         "is_transgender": 0,
         "was_fleeing": 0,
         "was_not fleeing ": 0,
         "was_allegedly_armed": 1,
         "was_unarmed": 0,
         "was_vehicle": 0,
         "was_domestic_disturbance": 0,
         "was_mental_health_welfare_check": 0,
         "was_person_with_a_weapon": 0,
         "was_traffic_stop": 0,
         "was_violent_crime_part_1": 1,
         "is_asian/pacific islander": 0,
         "is_black": 0,
         "is_hispanic": 0,
         "is_native american": 0,
         "is_unknown race": 0,
         "is_white": 1,
         "mntlill_drug or alcohol use": 0,
         "mntlill_no": 1,
         "mntlill_unknown": 0,
         "mntlill_yes": 0,
         "rural": 1,
         "suburban": 0,
         "urban": 0,
         "cod_lethal": 1,
         "age_bins": "45-54",
         "unknown": 0,
         "under 12": 0,
         "12-17": 0,
         "18-24": 0,
         "25-34": 0,
         "35-44": 0,
         "45-54": 1,
         "55-64": 0,
         "65+": 0,
         "_deepnote_index_column": 8
        },
        {
         "age": 49,
         "gender": "male",
         "race": "white",
         "date": "2021-05-05T00:00:00.000000",
         "city": "las vegas",
         "state": "nv",
         "zipcode": 89104,
         "county": "clark",
         "agency_responsible": "las vegas metropolitan police department",
         "cause_of_death": "gunshot",
         "description_of_circumstances": "officers responded to a report of gunshots at an apartment complex. arriving officers allegedly encountered two men running through the complex, one of whom they claim was armed with a firearm. the two men were taken into custody and informed officers they were shot at by holt. officers went to holt's apartment and allegedly witnessed him fire one round before going back inside. officers began to set up a perimeter, when holt allegedly exited the apartment with a gun. officer erik lindberg shot and killed holt. ",
         "official_disposition": "pending investigation",
         "criminal_charges_filed": "no known charges",
         "mental_illness": "no",
         "armed_unarmed_status": "allegedly_armed",
         "alleged_weapon": "gun",
         "alleged_threat_lvl": 1,
         "fleeing": "not fleeing",
         "body_camera": 0,
         "geography": "urban",
         "encounter_type_draft": "violent_crime_part_1",
         "initial_reported_reason_for_encounter_draft": "shooting",
         "known_past_shootings_of_officer_draft": "0",
         "is_female": 0,
         "is_male": 1,
         "is_transgender": 0,
         "was_fleeing": 0,
         "was_not fleeing ": 0,
         "was_allegedly_armed": 1,
         "was_unarmed": 0,
         "was_vehicle": 0,
         "was_domestic_disturbance": 0,
         "was_mental_health_welfare_check": 0,
         "was_person_with_a_weapon": 0,
         "was_traffic_stop": 0,
         "was_violent_crime_part_1": 1,
         "is_asian/pacific islander": 0,
         "is_black": 0,
         "is_hispanic": 0,
         "is_native american": 0,
         "is_unknown race": 0,
         "is_white": 1,
         "mntlill_drug or alcohol use": 0,
         "mntlill_no": 1,
         "mntlill_unknown": 0,
         "mntlill_yes": 0,
         "rural": 0,
         "suburban": 0,
         "urban": 1,
         "cod_lethal": 1,
         "age_bins": "45-54",
         "unknown": 0,
         "under 12": 0,
         "12-17": 0,
         "18-24": 0,
         "25-34": 0,
         "35-44": 0,
         "45-54": 1,
         "55-64": 0,
         "65+": 0,
         "_deepnote_index_column": 9
        },
        {
         "age": 27,
         "gender": "male",
         "race": "black",
         "date": "2021-05-04T00:00:00.000000",
         "city": "mesquite",
         "state": "tx",
         "zipcode": 75150,
         "county": "dallas",
         "agency_responsible": "mesquite police department",
         "cause_of_death": "gunshot",
         "description_of_circumstances": "officers were dispatched to a domestic violence situation and 911 hang-up. 911 dispatchers heard sounds of struggle and screaming during the phone call. when officers arrived, they were contacted by someone who said that a man was armed with a knife. officers found the man, who they allege was armed with a knife and a club, and claim charged at them. two officers shot at pinke multiple times, killing him. ",
         "official_disposition": "pending investigation",
         "criminal_charges_filed": "no known charges",
         "mental_illness": "yes",
         "armed_unarmed_status": "unclear",
         "alleged_weapon": "undetermined",
         "alleged_threat_lvl": 0,
         "fleeing": "fleeing",
         "body_camera": 0,
         "geography": "suburban",
         "encounter_type_draft": "domestic_disturbance",
         "initial_reported_reason_for_encounter_draft": "domestic disturbance",
         "known_past_shootings_of_officer_draft": "0",
         "is_female": 0,
         "is_male": 1,
         "is_transgender": 0,
         "was_fleeing": 1,
         "was_not fleeing ": 0,
         "was_allegedly_armed": 0,
         "was_unarmed": 0,
         "was_vehicle": 0,
         "was_domestic_disturbance": 1,
         "was_mental_health_welfare_check": 0,
         "was_person_with_a_weapon": 0,
         "was_traffic_stop": 0,
         "was_violent_crime_part_1": 0,
         "is_asian/pacific islander": 0,
         "is_black": 1,
         "is_hispanic": 0,
         "is_native american": 0,
         "is_unknown race": 0,
         "is_white": 0,
         "mntlill_drug or alcohol use": 0,
         "mntlill_no": 0,
         "mntlill_unknown": 0,
         "mntlill_yes": 1,
         "rural": 0,
         "suburban": 1,
         "urban": 0,
         "cod_lethal": 1,
         "age_bins": "25-34",
         "unknown": 0,
         "under 12": 0,
         "12-17": 0,
         "18-24": 0,
         "25-34": 1,
         "35-44": 0,
         "45-54": 0,
         "55-64": 0,
         "65+": 0,
         "_deepnote_index_column": 10
        },
        {
         "age": 1,
         "gender": "male",
         "race": "black",
         "date": "2021-05-03T00:00:00.000000",
         "city": "biloxi",
         "state": "ms",
         "zipcode": 39532,
         "county": "harrison",
         "agency_responsible": "biloxi police department",
         "cause_of_death": "gunshot",
         "description_of_circumstances": "police were searching for an alleged kidnapper and double-murder suspect, eric smith. smith was killed he exchanged gunfire with officers. police also shot and killed the baby la'mello parker.",
         "official_disposition": "pending investigation",
         "criminal_charges_filed": "no known charges",
         "mental_illness": "no",
         "armed_unarmed_status": "unarmed",
         "alleged_weapon": "no object",
         "alleged_threat_lvl": 0,
         "fleeing": "fleeing",
         "body_camera": 0,
         "geography": "suburban",
         "encounter_type_draft": "other",
         "initial_reported_reason_for_encounter_draft": "no reason, infant ",
         "known_past_shootings_of_officer_draft": "0",
         "is_female": 0,
         "is_male": 1,
         "is_transgender": 0,
         "was_fleeing": 1,
         "was_not fleeing ": 0,
         "was_allegedly_armed": 0,
         "was_unarmed": 1,
         "was_vehicle": 0,
         "was_domestic_disturbance": 0,
         "was_mental_health_welfare_check": 0,
         "was_person_with_a_weapon": 0,
         "was_traffic_stop": 0,
         "was_violent_crime_part_1": 0,
         "is_asian/pacific islander": 0,
         "is_black": 1,
         "is_hispanic": 0,
         "is_native american": 0,
         "is_unknown race": 0,
         "is_white": 0,
         "mntlill_drug or alcohol use": 0,
         "mntlill_no": 1,
         "mntlill_unknown": 0,
         "mntlill_yes": 0,
         "rural": 0,
         "suburban": 1,
         "urban": 0,
         "cod_lethal": 1,
         "age_bins": "under 12",
         "unknown": 0,
         "under 12": 1,
         "12-17": 0,
         "18-24": 0,
         "25-34": 0,
         "35-44": 0,
         "45-54": 0,
         "55-64": 0,
         "65+": 0,
         "_deepnote_index_column": 12
        }
       ],
       "rows_bottom": null
      },
      "text/plain": "    age gender          race       date         city state  zipcode  \\\n7    52   male  unknown race 2021-05-07     rutledge    tn  37861.0   \n8    47   male         white 2021-05-06  san andreas    ca  95249.0   \n9    49   male         white 2021-05-05    las vegas    nv  89104.0   \n10   27   male         black 2021-05-04     mesquite    tx  75150.0   \n12    1   male         black 2021-05-03       biloxi    ms  39532.0   \n\n       county                                 agency_responsible  \\\n7    grainger  bean station police department, rutledge polic...   \n8   calaveras                  calaveras county sheriff's office   \n9       clark           las vegas metropolitan police department   \n10     dallas                         mesquite police department   \n12   harrison                           biloxi police department   \n\n   cause_of_death  ...  age_bins unknown under 12 12-17 18-24 25-34  35-44  \\\n7         gunshot  ...     45-54       0        0     0     0     0      0   \n8         gunshot  ...     45-54       0        0     0     0     0      0   \n9         gunshot  ...     45-54       0        0     0     0     0      0   \n10        gunshot  ...     25-34       0        0     0     0     1      0   \n12        gunshot  ...  under 12       0        1     0     0     0      0   \n\n   45-54  55-64 65+  \n7      1      0   0  \n8      1      0   0  \n9      1      0   0  \n10     0      0   0  \n12     0      0   0  \n\n[5 rows x 60 columns]",
      "text/html": "<div>\n<style scoped>\n    .dataframe tbody tr th:only-of-type {\n        vertical-align: middle;\n    }\n\n    .dataframe tbody tr th {\n        vertical-align: top;\n    }\n\n    .dataframe thead th {\n        text-align: right;\n    }\n</style>\n<table border=\"1\" class=\"dataframe\">\n  <thead>\n    <tr style=\"text-align: right;\">\n      <th></th>\n      <th>age</th>\n      <th>gender</th>\n      <th>race</th>\n      <th>date</th>\n      <th>city</th>\n      <th>state</th>\n      <th>zipcode</th>\n      <th>county</th>\n      <th>agency_responsible</th>\n      <th>cause_of_death</th>\n      <th>...</th>\n      <th>age_bins</th>\n      <th>unknown</th>\n      <th>under 12</th>\n      <th>12-17</th>\n      <th>18-24</th>\n      <th>25-34</th>\n      <th>35-44</th>\n      <th>45-54</th>\n      <th>55-64</th>\n      <th>65+</th>\n    </tr>\n  </thead>\n  <tbody>\n    <tr>\n      <th>7</th>\n      <td>52</td>\n      <td>male</td>\n      <td>unknown race</td>\n      <td>2021-05-07</td>\n      <td>rutledge</td>\n      <td>tn</td>\n      <td>37861.0</td>\n      <td>grainger</td>\n      <td>bean station police department, rutledge polic...</td>\n      <td>gunshot</td>\n      <td>...</td>\n      <td>45-54</td>\n      <td>0</td>\n      <td>0</td>\n      <td>0</td>\n      <td>0</td>\n      <td>0</td>\n      <td>0</td>\n      <td>1</td>\n      <td>0</td>\n      <td>0</td>\n    </tr>\n    <tr>\n      <th>8</th>\n      <td>47</td>\n      <td>male</td>\n      <td>white</td>\n      <td>2021-05-06</td>\n      <td>san andreas</td>\n      <td>ca</td>\n      <td>95249.0</td>\n      <td>calaveras</td>\n      <td>calaveras county sheriff's office</td>\n      <td>gunshot</td>\n      <td>...</td>\n      <td>45-54</td>\n      <td>0</td>\n      <td>0</td>\n      <td>0</td>\n      <td>0</td>\n      <td>0</td>\n      <td>0</td>\n      <td>1</td>\n      <td>0</td>\n      <td>0</td>\n    </tr>\n    <tr>\n      <th>9</th>\n      <td>49</td>\n      <td>male</td>\n      <td>white</td>\n      <td>2021-05-05</td>\n      <td>las vegas</td>\n      <td>nv</td>\n      <td>89104.0</td>\n      <td>clark</td>\n      <td>las vegas metropolitan police department</td>\n      <td>gunshot</td>\n      <td>...</td>\n      <td>45-54</td>\n      <td>0</td>\n      <td>0</td>\n      <td>0</td>\n      <td>0</td>\n      <td>0</td>\n      <td>0</td>\n      <td>1</td>\n      <td>0</td>\n      <td>0</td>\n    </tr>\n    <tr>\n      <th>10</th>\n      <td>27</td>\n      <td>male</td>\n      <td>black</td>\n      <td>2021-05-04</td>\n      <td>mesquite</td>\n      <td>tx</td>\n      <td>75150.0</td>\n      <td>dallas</td>\n      <td>mesquite police department</td>\n      <td>gunshot</td>\n      <td>...</td>\n      <td>25-34</td>\n      <td>0</td>\n      <td>0</td>\n      <td>0</td>\n      <td>0</td>\n      <td>1</td>\n      <td>0</td>\n      <td>0</td>\n      <td>0</td>\n      <td>0</td>\n    </tr>\n    <tr>\n      <th>12</th>\n      <td>1</td>\n      <td>male</td>\n      <td>black</td>\n      <td>2021-05-03</td>\n      <td>biloxi</td>\n      <td>ms</td>\n      <td>39532.0</td>\n      <td>harrison</td>\n      <td>biloxi police department</td>\n      <td>gunshot</td>\n      <td>...</td>\n      <td>under 12</td>\n      <td>0</td>\n      <td>1</td>\n      <td>0</td>\n      <td>0</td>\n      <td>0</td>\n      <td>0</td>\n      <td>0</td>\n      <td>0</td>\n      <td>0</td>\n    </tr>\n  </tbody>\n</table>\n<p>5 rows × 60 columns</p>\n</div>"
     },
     "metadata": {}
    }
   ]
  },
  {
   "cell_type": "code",
   "metadata": {
    "deepnote_to_be_reexecuted": false,
    "execution_millis": 22,
    "execution_start": 1622036136236,
    "source_hash": "7dff3e6b",
    "tags": [],
    "cell_id": "00014-452ae5ec-9e0c-4593-9eba-4f3036659889",
    "deepnote_cell_type": "code"
   },
   "source": "#double check no nulls\ndf.isnull().sum()",
   "execution_count": 9,
   "outputs": [
    {
     "output_type": "execute_result",
     "execution_count": 9,
     "data": {
      "text/plain": "age                                            0\ngender                                         0\nrace                                           0\ndate                                           0\ncity                                           0\nstate                                          0\nzipcode                                        0\ncounty                                         0\nagency_responsible                             0\ncause_of_death                                 0\ndescription_of_circumstances                   0\nofficial_disposition                           0\ncriminal_charges_filed                         0\nmental_illness                                 0\narmed_unarmed_status                           0\nalleged_weapon                                 0\nalleged_threat_lvl                             0\nfleeing                                        0\nbody_camera                                    0\ngeography                                      0\nencounter_type_draft                           0\ninitial_reported_reason_for_encounter_draft    0\nknown_past_shootings_of_officer_draft          0\nis_female                                      0\nis_male                                        0\nis_transgender                                 0\nwas_fleeing                                    0\nwas_not fleeing                                0\nwas_allegedly_armed                            0\nwas_unarmed                                    0\nwas_vehicle                                    0\nwas_domestic_disturbance                       0\nwas_mental_health_welfare_check                0\nwas_person_with_a_weapon                       0\nwas_traffic_stop                               0\nwas_violent_crime_part_1                       0\nis_asian/pacific islander                      0\nis_black                                       0\nis_hispanic                                    0\nis_native american                             0\nis_unknown race                                0\nis_white                                       0\nmntlill_drug or alcohol use                    0\nmntlill_no                                     0\nmntlill_unknown                                0\nmntlill_yes                                    0\nrural                                          0\nsuburban                                       0\nurban                                          0\ncod_lethal                                     0\nage_bins                                       0\nunknown                                        0\nunder 12                                       0\n12-17                                          0\n18-24                                          0\n25-34                                          0\n35-44                                          0\n45-54                                          0\n55-64                                          0\n65+                                            0\ndtype: int64"
     },
     "metadata": {}
    }
   ]
  },
  {
   "cell_type": "code",
   "metadata": {
    "deepnote_to_be_reexecuted": false,
    "execution_millis": 11,
    "execution_start": 1622036136247,
    "source_hash": "3edc948f",
    "tags": [],
    "cell_id": "00015-b99b3731-8ca5-4c84-a8d8-3205fbcfbc5c",
    "deepnote_cell_type": "code"
   },
   "source": "#double check data types\ndf.dtypes",
   "execution_count": 10,
   "outputs": [
    {
     "output_type": "execute_result",
     "execution_count": 10,
     "data": {
      "text/plain": "age                                                     int64\ngender                                                 object\nrace                                                   object\ndate                                           datetime64[ns]\ncity                                                   object\nstate                                                  object\nzipcode                                               float64\ncounty                                                 object\nagency_responsible                                     object\ncause_of_death                                         object\ndescription_of_circumstances                           object\nofficial_disposition                                   object\ncriminal_charges_filed                                 object\nmental_illness                                         object\narmed_unarmed_status                                   object\nalleged_weapon                                         object\nalleged_threat_lvl                                    float64\nfleeing                                                object\nbody_camera                                           float64\ngeography                                              object\nencounter_type_draft                                   object\ninitial_reported_reason_for_encounter_draft            object\nknown_past_shootings_of_officer_draft                  object\nis_female                                               uint8\nis_male                                                 uint8\nis_transgender                                          uint8\nwas_fleeing                                           float64\nwas_not fleeing                                       float64\nwas_allegedly_armed                                   float64\nwas_unarmed                                           float64\nwas_vehicle                                           float64\nwas_domestic_disturbance                                uint8\nwas_mental_health_welfare_check                         uint8\nwas_person_with_a_weapon                                uint8\nwas_traffic_stop                                        uint8\nwas_violent_crime_part_1                                uint8\nis_asian/pacific islander                               uint8\nis_black                                                uint8\nis_hispanic                                             uint8\nis_native american                                      uint8\nis_unknown race                                         uint8\nis_white                                                uint8\nmntlill_drug or alcohol use                             uint8\nmntlill_no                                              uint8\nmntlill_unknown                                         uint8\nmntlill_yes                                             uint8\nrural                                                 float64\nsuburban                                              float64\nurban                                                 float64\ncod_lethal                                              int64\nage_bins                                             category\nunknown                                                 uint8\nunder 12                                                uint8\n12-17                                                   uint8\n18-24                                                   uint8\n25-34                                                   uint8\n35-44                                                   uint8\n45-54                                                   uint8\n55-64                                                   uint8\n65+                                                     uint8\ndtype: object"
     },
     "metadata": {}
    }
   ]
  },
  {
   "cell_type": "code",
   "metadata": {
    "deepnote_to_be_reexecuted": false,
    "execution_millis": 157,
    "execution_start": 1622036136254,
    "source_hash": "be21ca7a",
    "tags": [],
    "cell_id": "00016-46de6f35-bbad-4c2e-b885-9925a0bbb3ee",
    "deepnote_cell_type": "code"
   },
   "source": "#split the data using the split function in explore.py\ntrain, validate, test = split(df, stratify_by=\"alleged_threat_lvl\")\n\n#check split datasets\nprint('overall shape of dataframe:', df.shape)\nprint('train:', train.shape)\nprint('validate:', validate.shape)\nprint('test:', test.shape)\n\n#work w/ training data\ntrain.head()",
   "execution_count": 11,
   "outputs": [
    {
     "name": "stdout",
     "text": "overall shape of dataframe: (8634, 60)\ntrain: (4834, 60)\nvalidate: (2073, 60)\ntest: (1727, 60)\n",
     "output_type": "stream"
    },
    {
     "output_type": "execute_result",
     "execution_count": 11,
     "data": {
      "application/vnd.deepnote.dataframe.v2+json": {
       "row_count": 5,
       "column_count": 60,
       "columns": [
        {
         "name": "age",
         "dtype": "int64",
         "stats": {
          "unique_count": 5,
          "nan_count": 0,
          "min": "23",
          "max": "37",
          "histogram": [
           {
            "bin_start": 23,
            "bin_end": 24.4,
            "count": 1
           },
           {
            "bin_start": 24.4,
            "bin_end": 25.8,
            "count": 1
           },
           {
            "bin_start": 25.8,
            "bin_end": 27.2,
            "count": 2
           },
           {
            "bin_start": 27.2,
            "bin_end": 28.6,
            "count": 0
           },
           {
            "bin_start": 28.6,
            "bin_end": 30,
            "count": 0
           },
           {
            "bin_start": 30,
            "bin_end": 31.4,
            "count": 0
           },
           {
            "bin_start": 31.4,
            "bin_end": 32.8,
            "count": 0
           },
           {
            "bin_start": 32.8,
            "bin_end": 34.2,
            "count": 0
           },
           {
            "bin_start": 34.2,
            "bin_end": 35.6,
            "count": 0
           },
           {
            "bin_start": 35.6,
            "bin_end": 37,
            "count": 1
           }
          ]
         }
        },
        {
         "name": "gender",
         "dtype": "object",
         "stats": {
          "unique_count": 1,
          "nan_count": 0,
          "categories": [
           {
            "name": "male",
            "count": 5
           }
          ]
         }
        },
        {
         "name": "race",
         "dtype": "object",
         "stats": {
          "unique_count": 3,
          "nan_count": 0,
          "categories": [
           {
            "name": "hispanic",
            "count": 2
           },
           {
            "name": "white",
            "count": 2
           },
           {
            "name": "black",
            "count": 1
           }
          ]
         }
        },
        {
         "name": "date",
         "dtype": "datetime64[ns]",
         "stats": {
          "unique_count": 5,
          "nan_count": 0,
          "min": "2013-07-02 00:00:00",
          "max": "2019-12-19 00:00:00",
          "histogram": [
           {
            "bin_start": 1372723200000000000,
            "bin_end": 1393122240000000000,
            "count": 2
           },
           {
            "bin_start": 1393122240000000000,
            "bin_end": 1413521280000000000,
            "count": 0
           },
           {
            "bin_start": 1413521280000000000,
            "bin_end": 1433920320000000000,
            "count": 1
           },
           {
            "bin_start": 1433920320000000000,
            "bin_end": 1454319360000000000,
            "count": 0
           },
           {
            "bin_start": 1454319360000000000,
            "bin_end": 1474718400000000000,
            "count": 0
           },
           {
            "bin_start": 1474718400000000000,
            "bin_end": 1495117440000000000,
            "count": 0
           },
           {
            "bin_start": 1495117440000000000,
            "bin_end": 1515516480000000000,
            "count": 0
           },
           {
            "bin_start": 1515516480000000000,
            "bin_end": 1535915520000000000,
            "count": 0
           },
           {
            "bin_start": 1535915520000000000,
            "bin_end": 1556314560000000000,
            "count": 0
           },
           {
            "bin_start": 1556314560000000000,
            "bin_end": 1576713600000000000,
            "count": 2
           }
          ]
         }
        },
        {
         "name": "city",
         "dtype": "object",
         "stats": {
          "unique_count": 5,
          "nan_count": 0,
          "categories": [
           {
            "name": "tempe",
            "count": 1
           },
           {
            "name": "east los angeles",
            "count": 1
           },
           {
            "name": "3 others",
            "count": 3
           }
          ]
         }
        },
        {
         "name": "state",
         "dtype": "object",
         "stats": {
          "unique_count": 5,
          "nan_count": 0,
          "categories": [
           {
            "name": "az",
            "count": 1
           },
           {
            "name": "ca",
            "count": 1
           },
           {
            "name": "3 others",
            "count": 3
           }
          ]
         }
        },
        {
         "name": "zipcode",
         "dtype": "float64",
         "stats": {
          "unique_count": 5,
          "nan_count": 0,
          "min": "15143.0",
          "max": "90022.0",
          "histogram": [
           {
            "bin_start": 15143,
            "bin_end": 22630.9,
            "count": 1
           },
           {
            "bin_start": 22630.9,
            "bin_end": 30118.8,
            "count": 0
           },
           {
            "bin_start": 30118.8,
            "bin_end": 37606.7,
            "count": 0
           },
           {
            "bin_start": 37606.7,
            "bin_end": 45094.6,
            "count": 1
           },
           {
            "bin_start": 45094.6,
            "bin_end": 52582.5,
            "count": 0
           },
           {
            "bin_start": 52582.5,
            "bin_end": 60070.399999999994,
            "count": 0
           },
           {
            "bin_start": 60070.399999999994,
            "bin_end": 67558.29999999999,
            "count": 0
           },
           {
            "bin_start": 67558.29999999999,
            "bin_end": 75046.2,
            "count": 0
           },
           {
            "bin_start": 75046.2,
            "bin_end": 82534.09999999999,
            "count": 0
           },
           {
            "bin_start": 82534.09999999999,
            "bin_end": 90022,
            "count": 3
           }
          ]
         }
        },
        {
         "name": "county",
         "dtype": "object",
         "stats": {
          "unique_count": 5,
          "nan_count": 0,
          "categories": [
           {
            "name": "maricopa",
            "count": 1
           },
           {
            "name": "los angeles",
            "count": 1
           },
           {
            "name": "3 others",
            "count": 3
           }
          ]
         }
        },
        {
         "name": "agency_responsible",
         "dtype": "object",
         "stats": {
          "unique_count": 5,
          "nan_count": 0,
          "categories": [
           {
            "name": "arizona department of public safety",
            "count": 1
           },
           {
            "name": "los angeles county sheriff's department",
            "count": 1
           },
           {
            "name": "3 others",
            "count": 3
           }
          ]
         }
        },
        {
         "name": "cause_of_death",
         "dtype": "object",
         "stats": {
          "unique_count": 1,
          "nan_count": 0,
          "categories": [
           {
            "name": "gunshot",
            "count": 5
           }
          ]
         }
        },
        {
         "name": "description_of_circumstances",
         "dtype": "object",
         "stats": {
          "unique_count": 5,
          "nan_count": 0,
          "categories": [
           {
            "name": "around 11:50 p.m. a trooper saw mohamed ahmed e a al-hashemi knock over a street sign. when the trooper tried to arrest him, al-hashemi attacked him. the trooper shot and killed him.",
            "count": 1
           },
           {
            "name": "bermudez and avelar-lara were driving in a car with a fake gun and pointed it at someone. deputies were notified and when they arrived on scene bermudez and avelar-lara allegedly pointed a gun in the deputies direction, prompting the deputies to shoot and kill both of them.",
            "count": 1
           },
           {
            "name": "3 others",
            "count": 3
           }
          ]
         }
        },
        {
         "name": "official_disposition",
         "dtype": "object",
         "stats": {
          "unique_count": 3,
          "nan_count": 0,
          "categories": [
           {
            "name": "pending investigation/no known charges",
            "count": 3
           },
           {
            "name": "unreported",
            "count": 1
           },
           {
            "name": "justified",
            "count": 1
           }
          ]
         }
        },
        {
         "name": "criminal_charges_filed",
         "dtype": "object",
         "stats": {
          "unique_count": 1,
          "nan_count": 0,
          "categories": [
           {
            "name": "no known charges",
            "count": 5
           }
          ]
         }
        },
        {
         "name": "mental_illness",
         "dtype": "object",
         "stats": {
          "unique_count": 2,
          "nan_count": 0,
          "categories": [
           {
            "name": "no",
            "count": 4
           },
           {
            "name": "yes",
            "count": 1
           }
          ]
         }
        },
        {
         "name": "armed_unarmed_status",
         "dtype": "object",
         "stats": {
          "unique_count": 2,
          "nan_count": 0,
          "categories": [
           {
            "name": "allegedly_armed",
            "count": 4
           },
           {
            "name": "unarmed",
            "count": 1
           }
          ]
         }
        },
        {
         "name": "alleged_weapon",
         "dtype": "object",
         "stats": {
          "unique_count": 3,
          "nan_count": 0,
          "categories": [
           {
            "name": "gun",
            "count": 3
           },
           {
            "name": "taser",
            "count": 1
           },
           {
            "name": "toy weapon",
            "count": 1
           }
          ]
         }
        },
        {
         "name": "alleged_threat_lvl",
         "dtype": "float64",
         "stats": {
          "unique_count": 2,
          "nan_count": 0,
          "min": "0.0",
          "max": "1.0",
          "histogram": [
           {
            "bin_start": 0,
            "bin_end": 0.1,
            "count": 3
           },
           {
            "bin_start": 0.1,
            "bin_end": 0.2,
            "count": 0
           },
           {
            "bin_start": 0.2,
            "bin_end": 0.30000000000000004,
            "count": 0
           },
           {
            "bin_start": 0.30000000000000004,
            "bin_end": 0.4,
            "count": 0
           },
           {
            "bin_start": 0.4,
            "bin_end": 0.5,
            "count": 0
           },
           {
            "bin_start": 0.5,
            "bin_end": 0.6000000000000001,
            "count": 0
           },
           {
            "bin_start": 0.6000000000000001,
            "bin_end": 0.7000000000000001,
            "count": 0
           },
           {
            "bin_start": 0.7000000000000001,
            "bin_end": 0.8,
            "count": 0
           },
           {
            "bin_start": 0.8,
            "bin_end": 0.9,
            "count": 0
           },
           {
            "bin_start": 0.9,
            "bin_end": 1,
            "count": 2
           }
          ]
         }
        },
        {
         "name": "fleeing",
         "dtype": "object",
         "stats": {
          "unique_count": 2,
          "nan_count": 0,
          "categories": [
           {
            "name": "fleeing",
            "count": 3
           },
           {
            "name": "not fleeing",
            "count": 2
           }
          ]
         }
        },
        {
         "name": "body_camera",
         "dtype": "float64",
         "stats": {
          "unique_count": 1,
          "nan_count": 0,
          "min": "0.0",
          "max": "0.0",
          "histogram": [
           {
            "bin_start": -0.5,
            "bin_end": -0.4,
            "count": 0
           },
           {
            "bin_start": -0.4,
            "bin_end": -0.3,
            "count": 0
           },
           {
            "bin_start": -0.3,
            "bin_end": -0.19999999999999996,
            "count": 0
           },
           {
            "bin_start": -0.19999999999999996,
            "bin_end": -0.09999999999999998,
            "count": 0
           },
           {
            "bin_start": -0.09999999999999998,
            "bin_end": 0,
            "count": 0
           },
           {
            "bin_start": 0,
            "bin_end": 0.10000000000000009,
            "count": 5
           },
           {
            "bin_start": 0.10000000000000009,
            "bin_end": 0.20000000000000007,
            "count": 0
           },
           {
            "bin_start": 0.20000000000000007,
            "bin_end": 0.30000000000000004,
            "count": 0
           },
           {
            "bin_start": 0.30000000000000004,
            "bin_end": 0.4,
            "count": 0
           },
           {
            "bin_start": 0.4,
            "bin_end": 0.5,
            "count": 0
           }
          ]
         }
        },
        {
         "name": "geography",
         "dtype": "object",
         "stats": {
          "unique_count": 2,
          "nan_count": 0,
          "categories": [
           {
            "name": "urban",
            "count": 3
           },
           {
            "name": "suburban",
            "count": 2
           }
          ]
         }
        },
        {
         "name": "encounter_type_draft",
         "dtype": "object",
         "stats": {
          "unique_count": 3,
          "nan_count": 0,
          "categories": [
           {
            "name": "violent_crime_part_1",
            "count": 3
           },
           {
            "name": "other",
            "count": 1
           },
           {
            "name": "person_with_a_weapon",
            "count": 1
           }
          ]
         }
        },
        {
         "name": "initial_reported_reason_for_encounter_draft",
         "dtype": "object",
         "stats": {
          "unique_count": 3,
          "nan_count": 0,
          "categories": [
           {
            "name": "traffic violation",
            "count": 3
           },
           {
            "name": "erratic behavior, vandalism",
            "count": 1
           },
           {
            "name": "mental illness",
            "count": 1
           }
          ]
         }
        },
        {
         "name": "known_past_shootings_of_officer_draft",
         "dtype": "object",
         "stats": {
          "unique_count": 1,
          "nan_count": 0,
          "categories": [
           {
            "name": "0",
            "count": 5
           }
          ]
         }
        },
        {
         "name": "is_female",
         "dtype": "uint8",
         "stats": {
          "unique_count": 1,
          "nan_count": 0,
          "min": "0",
          "max": "0",
          "histogram": [
           {
            "bin_start": -0.5,
            "bin_end": -0.4,
            "count": 0
           },
           {
            "bin_start": -0.4,
            "bin_end": -0.3,
            "count": 0
           },
           {
            "bin_start": -0.3,
            "bin_end": -0.19999999999999996,
            "count": 0
           },
           {
            "bin_start": -0.19999999999999996,
            "bin_end": -0.09999999999999998,
            "count": 0
           },
           {
            "bin_start": -0.09999999999999998,
            "bin_end": 0,
            "count": 0
           },
           {
            "bin_start": 0,
            "bin_end": 0.10000000000000009,
            "count": 5
           },
           {
            "bin_start": 0.10000000000000009,
            "bin_end": 0.20000000000000007,
            "count": 0
           },
           {
            "bin_start": 0.20000000000000007,
            "bin_end": 0.30000000000000004,
            "count": 0
           },
           {
            "bin_start": 0.30000000000000004,
            "bin_end": 0.4,
            "count": 0
           },
           {
            "bin_start": 0.4,
            "bin_end": 0.5,
            "count": 0
           }
          ]
         }
        },
        {
         "name": "is_male",
         "dtype": "uint8",
         "stats": {
          "unique_count": 1,
          "nan_count": 0,
          "min": "1",
          "max": "1",
          "histogram": [
           {
            "bin_start": 0.5,
            "bin_end": 0.6,
            "count": 0
           },
           {
            "bin_start": 0.6,
            "bin_end": 0.7,
            "count": 0
           },
           {
            "bin_start": 0.7,
            "bin_end": 0.8,
            "count": 0
           },
           {
            "bin_start": 0.8,
            "bin_end": 0.9,
            "count": 0
           },
           {
            "bin_start": 0.9,
            "bin_end": 1,
            "count": 0
           },
           {
            "bin_start": 1,
            "bin_end": 1.1,
            "count": 5
           },
           {
            "bin_start": 1.1,
            "bin_end": 1.2000000000000002,
            "count": 0
           },
           {
            "bin_start": 1.2000000000000002,
            "bin_end": 1.3,
            "count": 0
           },
           {
            "bin_start": 1.3,
            "bin_end": 1.4,
            "count": 0
           },
           {
            "bin_start": 1.4,
            "bin_end": 1.5,
            "count": 0
           }
          ]
         }
        },
        {
         "name": "is_transgender",
         "dtype": "uint8",
         "stats": {
          "unique_count": 1,
          "nan_count": 0,
          "min": "0",
          "max": "0",
          "histogram": [
           {
            "bin_start": -0.5,
            "bin_end": -0.4,
            "count": 0
           },
           {
            "bin_start": -0.4,
            "bin_end": -0.3,
            "count": 0
           },
           {
            "bin_start": -0.3,
            "bin_end": -0.19999999999999996,
            "count": 0
           },
           {
            "bin_start": -0.19999999999999996,
            "bin_end": -0.09999999999999998,
            "count": 0
           },
           {
            "bin_start": -0.09999999999999998,
            "bin_end": 0,
            "count": 0
           },
           {
            "bin_start": 0,
            "bin_end": 0.10000000000000009,
            "count": 5
           },
           {
            "bin_start": 0.10000000000000009,
            "bin_end": 0.20000000000000007,
            "count": 0
           },
           {
            "bin_start": 0.20000000000000007,
            "bin_end": 0.30000000000000004,
            "count": 0
           },
           {
            "bin_start": 0.30000000000000004,
            "bin_end": 0.4,
            "count": 0
           },
           {
            "bin_start": 0.4,
            "bin_end": 0.5,
            "count": 0
           }
          ]
         }
        },
        {
         "name": "was_fleeing",
         "dtype": "float64",
         "stats": {
          "unique_count": 2,
          "nan_count": 0,
          "min": "0.0",
          "max": "1.0",
          "histogram": [
           {
            "bin_start": 0,
            "bin_end": 0.1,
            "count": 2
           },
           {
            "bin_start": 0.1,
            "bin_end": 0.2,
            "count": 0
           },
           {
            "bin_start": 0.2,
            "bin_end": 0.30000000000000004,
            "count": 0
           },
           {
            "bin_start": 0.30000000000000004,
            "bin_end": 0.4,
            "count": 0
           },
           {
            "bin_start": 0.4,
            "bin_end": 0.5,
            "count": 0
           },
           {
            "bin_start": 0.5,
            "bin_end": 0.6000000000000001,
            "count": 0
           },
           {
            "bin_start": 0.6000000000000001,
            "bin_end": 0.7000000000000001,
            "count": 0
           },
           {
            "bin_start": 0.7000000000000001,
            "bin_end": 0.8,
            "count": 0
           },
           {
            "bin_start": 0.8,
            "bin_end": 0.9,
            "count": 0
           },
           {
            "bin_start": 0.9,
            "bin_end": 1,
            "count": 3
           }
          ]
         }
        },
        {
         "name": "was_not fleeing ",
         "dtype": "float64",
         "stats": {
          "unique_count": 1,
          "nan_count": 0,
          "min": "0.0",
          "max": "0.0",
          "histogram": [
           {
            "bin_start": -0.5,
            "bin_end": -0.4,
            "count": 0
           },
           {
            "bin_start": -0.4,
            "bin_end": -0.3,
            "count": 0
           },
           {
            "bin_start": -0.3,
            "bin_end": -0.19999999999999996,
            "count": 0
           },
           {
            "bin_start": -0.19999999999999996,
            "bin_end": -0.09999999999999998,
            "count": 0
           },
           {
            "bin_start": -0.09999999999999998,
            "bin_end": 0,
            "count": 0
           },
           {
            "bin_start": 0,
            "bin_end": 0.10000000000000009,
            "count": 5
           },
           {
            "bin_start": 0.10000000000000009,
            "bin_end": 0.20000000000000007,
            "count": 0
           },
           {
            "bin_start": 0.20000000000000007,
            "bin_end": 0.30000000000000004,
            "count": 0
           },
           {
            "bin_start": 0.30000000000000004,
            "bin_end": 0.4,
            "count": 0
           },
           {
            "bin_start": 0.4,
            "bin_end": 0.5,
            "count": 0
           }
          ]
         }
        },
        {
         "name": "was_allegedly_armed",
         "dtype": "float64",
         "stats": {
          "unique_count": 2,
          "nan_count": 0,
          "min": "0.0",
          "max": "1.0",
          "histogram": [
           {
            "bin_start": 0,
            "bin_end": 0.1,
            "count": 1
           },
           {
            "bin_start": 0.1,
            "bin_end": 0.2,
            "count": 0
           },
           {
            "bin_start": 0.2,
            "bin_end": 0.30000000000000004,
            "count": 0
           },
           {
            "bin_start": 0.30000000000000004,
            "bin_end": 0.4,
            "count": 0
           },
           {
            "bin_start": 0.4,
            "bin_end": 0.5,
            "count": 0
           },
           {
            "bin_start": 0.5,
            "bin_end": 0.6000000000000001,
            "count": 0
           },
           {
            "bin_start": 0.6000000000000001,
            "bin_end": 0.7000000000000001,
            "count": 0
           },
           {
            "bin_start": 0.7000000000000001,
            "bin_end": 0.8,
            "count": 0
           },
           {
            "bin_start": 0.8,
            "bin_end": 0.9,
            "count": 0
           },
           {
            "bin_start": 0.9,
            "bin_end": 1,
            "count": 4
           }
          ]
         }
        },
        {
         "name": "was_unarmed",
         "dtype": "float64",
         "stats": {
          "unique_count": 2,
          "nan_count": 0,
          "min": "0.0",
          "max": "1.0",
          "histogram": [
           {
            "bin_start": 0,
            "bin_end": 0.1,
            "count": 4
           },
           {
            "bin_start": 0.1,
            "bin_end": 0.2,
            "count": 0
           },
           {
            "bin_start": 0.2,
            "bin_end": 0.30000000000000004,
            "count": 0
           },
           {
            "bin_start": 0.30000000000000004,
            "bin_end": 0.4,
            "count": 0
           },
           {
            "bin_start": 0.4,
            "bin_end": 0.5,
            "count": 0
           },
           {
            "bin_start": 0.5,
            "bin_end": 0.6000000000000001,
            "count": 0
           },
           {
            "bin_start": 0.6000000000000001,
            "bin_end": 0.7000000000000001,
            "count": 0
           },
           {
            "bin_start": 0.7000000000000001,
            "bin_end": 0.8,
            "count": 0
           },
           {
            "bin_start": 0.8,
            "bin_end": 0.9,
            "count": 0
           },
           {
            "bin_start": 0.9,
            "bin_end": 1,
            "count": 1
           }
          ]
         }
        },
        {
         "name": "was_vehicle",
         "dtype": "float64",
         "stats": {
          "unique_count": 1,
          "nan_count": 0,
          "min": "0.0",
          "max": "0.0",
          "histogram": [
           {
            "bin_start": -0.5,
            "bin_end": -0.4,
            "count": 0
           },
           {
            "bin_start": -0.4,
            "bin_end": -0.3,
            "count": 0
           },
           {
            "bin_start": -0.3,
            "bin_end": -0.19999999999999996,
            "count": 0
           },
           {
            "bin_start": -0.19999999999999996,
            "bin_end": -0.09999999999999998,
            "count": 0
           },
           {
            "bin_start": -0.09999999999999998,
            "bin_end": 0,
            "count": 0
           },
           {
            "bin_start": 0,
            "bin_end": 0.10000000000000009,
            "count": 5
           },
           {
            "bin_start": 0.10000000000000009,
            "bin_end": 0.20000000000000007,
            "count": 0
           },
           {
            "bin_start": 0.20000000000000007,
            "bin_end": 0.30000000000000004,
            "count": 0
           },
           {
            "bin_start": 0.30000000000000004,
            "bin_end": 0.4,
            "count": 0
           },
           {
            "bin_start": 0.4,
            "bin_end": 0.5,
            "count": 0
           }
          ]
         }
        },
        {
         "name": "was_domestic_disturbance",
         "dtype": "uint8",
         "stats": {
          "unique_count": 1,
          "nan_count": 0,
          "min": "0",
          "max": "0",
          "histogram": [
           {
            "bin_start": -0.5,
            "bin_end": -0.4,
            "count": 0
           },
           {
            "bin_start": -0.4,
            "bin_end": -0.3,
            "count": 0
           },
           {
            "bin_start": -0.3,
            "bin_end": -0.19999999999999996,
            "count": 0
           },
           {
            "bin_start": -0.19999999999999996,
            "bin_end": -0.09999999999999998,
            "count": 0
           },
           {
            "bin_start": -0.09999999999999998,
            "bin_end": 0,
            "count": 0
           },
           {
            "bin_start": 0,
            "bin_end": 0.10000000000000009,
            "count": 5
           },
           {
            "bin_start": 0.10000000000000009,
            "bin_end": 0.20000000000000007,
            "count": 0
           },
           {
            "bin_start": 0.20000000000000007,
            "bin_end": 0.30000000000000004,
            "count": 0
           },
           {
            "bin_start": 0.30000000000000004,
            "bin_end": 0.4,
            "count": 0
           },
           {
            "bin_start": 0.4,
            "bin_end": 0.5,
            "count": 0
           }
          ]
         }
        },
        {
         "name": "was_mental_health_welfare_check",
         "dtype": "uint8",
         "stats": {
          "unique_count": 1,
          "nan_count": 0,
          "min": "0",
          "max": "0",
          "histogram": [
           {
            "bin_start": -0.5,
            "bin_end": -0.4,
            "count": 0
           },
           {
            "bin_start": -0.4,
            "bin_end": -0.3,
            "count": 0
           },
           {
            "bin_start": -0.3,
            "bin_end": -0.19999999999999996,
            "count": 0
           },
           {
            "bin_start": -0.19999999999999996,
            "bin_end": -0.09999999999999998,
            "count": 0
           },
           {
            "bin_start": -0.09999999999999998,
            "bin_end": 0,
            "count": 0
           },
           {
            "bin_start": 0,
            "bin_end": 0.10000000000000009,
            "count": 5
           },
           {
            "bin_start": 0.10000000000000009,
            "bin_end": 0.20000000000000007,
            "count": 0
           },
           {
            "bin_start": 0.20000000000000007,
            "bin_end": 0.30000000000000004,
            "count": 0
           },
           {
            "bin_start": 0.30000000000000004,
            "bin_end": 0.4,
            "count": 0
           },
           {
            "bin_start": 0.4,
            "bin_end": 0.5,
            "count": 0
           }
          ]
         }
        },
        {
         "name": "was_person_with_a_weapon",
         "dtype": "uint8",
         "stats": {
          "unique_count": 2,
          "nan_count": 0,
          "min": "0",
          "max": "1",
          "histogram": [
           {
            "bin_start": 0,
            "bin_end": 0.1,
            "count": 4
           },
           {
            "bin_start": 0.1,
            "bin_end": 0.2,
            "count": 0
           },
           {
            "bin_start": 0.2,
            "bin_end": 0.30000000000000004,
            "count": 0
           },
           {
            "bin_start": 0.30000000000000004,
            "bin_end": 0.4,
            "count": 0
           },
           {
            "bin_start": 0.4,
            "bin_end": 0.5,
            "count": 0
           },
           {
            "bin_start": 0.5,
            "bin_end": 0.6000000000000001,
            "count": 0
           },
           {
            "bin_start": 0.6000000000000001,
            "bin_end": 0.7000000000000001,
            "count": 0
           },
           {
            "bin_start": 0.7000000000000001,
            "bin_end": 0.8,
            "count": 0
           },
           {
            "bin_start": 0.8,
            "bin_end": 0.9,
            "count": 0
           },
           {
            "bin_start": 0.9,
            "bin_end": 1,
            "count": 1
           }
          ]
         }
        },
        {
         "name": "was_traffic_stop",
         "dtype": "uint8",
         "stats": {
          "unique_count": 1,
          "nan_count": 0,
          "min": "0",
          "max": "0",
          "histogram": [
           {
            "bin_start": -0.5,
            "bin_end": -0.4,
            "count": 0
           },
           {
            "bin_start": -0.4,
            "bin_end": -0.3,
            "count": 0
           },
           {
            "bin_start": -0.3,
            "bin_end": -0.19999999999999996,
            "count": 0
           },
           {
            "bin_start": -0.19999999999999996,
            "bin_end": -0.09999999999999998,
            "count": 0
           },
           {
            "bin_start": -0.09999999999999998,
            "bin_end": 0,
            "count": 0
           },
           {
            "bin_start": 0,
            "bin_end": 0.10000000000000009,
            "count": 5
           },
           {
            "bin_start": 0.10000000000000009,
            "bin_end": 0.20000000000000007,
            "count": 0
           },
           {
            "bin_start": 0.20000000000000007,
            "bin_end": 0.30000000000000004,
            "count": 0
           },
           {
            "bin_start": 0.30000000000000004,
            "bin_end": 0.4,
            "count": 0
           },
           {
            "bin_start": 0.4,
            "bin_end": 0.5,
            "count": 0
           }
          ]
         }
        },
        {
         "name": "was_violent_crime_part_1",
         "dtype": "uint8",
         "stats": {
          "unique_count": 2,
          "nan_count": 0,
          "min": "0",
          "max": "1",
          "histogram": [
           {
            "bin_start": 0,
            "bin_end": 0.1,
            "count": 2
           },
           {
            "bin_start": 0.1,
            "bin_end": 0.2,
            "count": 0
           },
           {
            "bin_start": 0.2,
            "bin_end": 0.30000000000000004,
            "count": 0
           },
           {
            "bin_start": 0.30000000000000004,
            "bin_end": 0.4,
            "count": 0
           },
           {
            "bin_start": 0.4,
            "bin_end": 0.5,
            "count": 0
           },
           {
            "bin_start": 0.5,
            "bin_end": 0.6000000000000001,
            "count": 0
           },
           {
            "bin_start": 0.6000000000000001,
            "bin_end": 0.7000000000000001,
            "count": 0
           },
           {
            "bin_start": 0.7000000000000001,
            "bin_end": 0.8,
            "count": 0
           },
           {
            "bin_start": 0.8,
            "bin_end": 0.9,
            "count": 0
           },
           {
            "bin_start": 0.9,
            "bin_end": 1,
            "count": 3
           }
          ]
         }
        },
        {
         "name": "is_asian/pacific islander",
         "dtype": "uint8",
         "stats": {
          "unique_count": 1,
          "nan_count": 0,
          "min": "0",
          "max": "0",
          "histogram": [
           {
            "bin_start": -0.5,
            "bin_end": -0.4,
            "count": 0
           },
           {
            "bin_start": -0.4,
            "bin_end": -0.3,
            "count": 0
           },
           {
            "bin_start": -0.3,
            "bin_end": -0.19999999999999996,
            "count": 0
           },
           {
            "bin_start": -0.19999999999999996,
            "bin_end": -0.09999999999999998,
            "count": 0
           },
           {
            "bin_start": -0.09999999999999998,
            "bin_end": 0,
            "count": 0
           },
           {
            "bin_start": 0,
            "bin_end": 0.10000000000000009,
            "count": 5
           },
           {
            "bin_start": 0.10000000000000009,
            "bin_end": 0.20000000000000007,
            "count": 0
           },
           {
            "bin_start": 0.20000000000000007,
            "bin_end": 0.30000000000000004,
            "count": 0
           },
           {
            "bin_start": 0.30000000000000004,
            "bin_end": 0.4,
            "count": 0
           },
           {
            "bin_start": 0.4,
            "bin_end": 0.5,
            "count": 0
           }
          ]
         }
        },
        {
         "name": "is_black",
         "dtype": "uint8",
         "stats": {
          "unique_count": 2,
          "nan_count": 0,
          "min": "0",
          "max": "1",
          "histogram": [
           {
            "bin_start": 0,
            "bin_end": 0.1,
            "count": 4
           },
           {
            "bin_start": 0.1,
            "bin_end": 0.2,
            "count": 0
           },
           {
            "bin_start": 0.2,
            "bin_end": 0.30000000000000004,
            "count": 0
           },
           {
            "bin_start": 0.30000000000000004,
            "bin_end": 0.4,
            "count": 0
           },
           {
            "bin_start": 0.4,
            "bin_end": 0.5,
            "count": 0
           },
           {
            "bin_start": 0.5,
            "bin_end": 0.6000000000000001,
            "count": 0
           },
           {
            "bin_start": 0.6000000000000001,
            "bin_end": 0.7000000000000001,
            "count": 0
           },
           {
            "bin_start": 0.7000000000000001,
            "bin_end": 0.8,
            "count": 0
           },
           {
            "bin_start": 0.8,
            "bin_end": 0.9,
            "count": 0
           },
           {
            "bin_start": 0.9,
            "bin_end": 1,
            "count": 1
           }
          ]
         }
        },
        {
         "name": "is_hispanic",
         "dtype": "uint8",
         "stats": {
          "unique_count": 2,
          "nan_count": 0,
          "min": "0",
          "max": "1",
          "histogram": [
           {
            "bin_start": 0,
            "bin_end": 0.1,
            "count": 3
           },
           {
            "bin_start": 0.1,
            "bin_end": 0.2,
            "count": 0
           },
           {
            "bin_start": 0.2,
            "bin_end": 0.30000000000000004,
            "count": 0
           },
           {
            "bin_start": 0.30000000000000004,
            "bin_end": 0.4,
            "count": 0
           },
           {
            "bin_start": 0.4,
            "bin_end": 0.5,
            "count": 0
           },
           {
            "bin_start": 0.5,
            "bin_end": 0.6000000000000001,
            "count": 0
           },
           {
            "bin_start": 0.6000000000000001,
            "bin_end": 0.7000000000000001,
            "count": 0
           },
           {
            "bin_start": 0.7000000000000001,
            "bin_end": 0.8,
            "count": 0
           },
           {
            "bin_start": 0.8,
            "bin_end": 0.9,
            "count": 0
           },
           {
            "bin_start": 0.9,
            "bin_end": 1,
            "count": 2
           }
          ]
         }
        },
        {
         "name": "is_native american",
         "dtype": "uint8",
         "stats": {
          "unique_count": 1,
          "nan_count": 0,
          "min": "0",
          "max": "0",
          "histogram": [
           {
            "bin_start": -0.5,
            "bin_end": -0.4,
            "count": 0
           },
           {
            "bin_start": -0.4,
            "bin_end": -0.3,
            "count": 0
           },
           {
            "bin_start": -0.3,
            "bin_end": -0.19999999999999996,
            "count": 0
           },
           {
            "bin_start": -0.19999999999999996,
            "bin_end": -0.09999999999999998,
            "count": 0
           },
           {
            "bin_start": -0.09999999999999998,
            "bin_end": 0,
            "count": 0
           },
           {
            "bin_start": 0,
            "bin_end": 0.10000000000000009,
            "count": 5
           },
           {
            "bin_start": 0.10000000000000009,
            "bin_end": 0.20000000000000007,
            "count": 0
           },
           {
            "bin_start": 0.20000000000000007,
            "bin_end": 0.30000000000000004,
            "count": 0
           },
           {
            "bin_start": 0.30000000000000004,
            "bin_end": 0.4,
            "count": 0
           },
           {
            "bin_start": 0.4,
            "bin_end": 0.5,
            "count": 0
           }
          ]
         }
        },
        {
         "name": "is_unknown race",
         "dtype": "uint8",
         "stats": {
          "unique_count": 1,
          "nan_count": 0,
          "min": "0",
          "max": "0",
          "histogram": [
           {
            "bin_start": -0.5,
            "bin_end": -0.4,
            "count": 0
           },
           {
            "bin_start": -0.4,
            "bin_end": -0.3,
            "count": 0
           },
           {
            "bin_start": -0.3,
            "bin_end": -0.19999999999999996,
            "count": 0
           },
           {
            "bin_start": -0.19999999999999996,
            "bin_end": -0.09999999999999998,
            "count": 0
           },
           {
            "bin_start": -0.09999999999999998,
            "bin_end": 0,
            "count": 0
           },
           {
            "bin_start": 0,
            "bin_end": 0.10000000000000009,
            "count": 5
           },
           {
            "bin_start": 0.10000000000000009,
            "bin_end": 0.20000000000000007,
            "count": 0
           },
           {
            "bin_start": 0.20000000000000007,
            "bin_end": 0.30000000000000004,
            "count": 0
           },
           {
            "bin_start": 0.30000000000000004,
            "bin_end": 0.4,
            "count": 0
           },
           {
            "bin_start": 0.4,
            "bin_end": 0.5,
            "count": 0
           }
          ]
         }
        },
        {
         "name": "is_white",
         "dtype": "uint8",
         "stats": {
          "unique_count": 2,
          "nan_count": 0,
          "min": "0",
          "max": "1",
          "histogram": [
           {
            "bin_start": 0,
            "bin_end": 0.1,
            "count": 3
           },
           {
            "bin_start": 0.1,
            "bin_end": 0.2,
            "count": 0
           },
           {
            "bin_start": 0.2,
            "bin_end": 0.30000000000000004,
            "count": 0
           },
           {
            "bin_start": 0.30000000000000004,
            "bin_end": 0.4,
            "count": 0
           },
           {
            "bin_start": 0.4,
            "bin_end": 0.5,
            "count": 0
           },
           {
            "bin_start": 0.5,
            "bin_end": 0.6000000000000001,
            "count": 0
           },
           {
            "bin_start": 0.6000000000000001,
            "bin_end": 0.7000000000000001,
            "count": 0
           },
           {
            "bin_start": 0.7000000000000001,
            "bin_end": 0.8,
            "count": 0
           },
           {
            "bin_start": 0.8,
            "bin_end": 0.9,
            "count": 0
           },
           {
            "bin_start": 0.9,
            "bin_end": 1,
            "count": 2
           }
          ]
         }
        },
        {
         "name": "mntlill_drug or alcohol use",
         "dtype": "uint8",
         "stats": {
          "unique_count": 1,
          "nan_count": 0,
          "min": "0",
          "max": "0",
          "histogram": [
           {
            "bin_start": -0.5,
            "bin_end": -0.4,
            "count": 0
           },
           {
            "bin_start": -0.4,
            "bin_end": -0.3,
            "count": 0
           },
           {
            "bin_start": -0.3,
            "bin_end": -0.19999999999999996,
            "count": 0
           },
           {
            "bin_start": -0.19999999999999996,
            "bin_end": -0.09999999999999998,
            "count": 0
           },
           {
            "bin_start": -0.09999999999999998,
            "bin_end": 0,
            "count": 0
           },
           {
            "bin_start": 0,
            "bin_end": 0.10000000000000009,
            "count": 5
           },
           {
            "bin_start": 0.10000000000000009,
            "bin_end": 0.20000000000000007,
            "count": 0
           },
           {
            "bin_start": 0.20000000000000007,
            "bin_end": 0.30000000000000004,
            "count": 0
           },
           {
            "bin_start": 0.30000000000000004,
            "bin_end": 0.4,
            "count": 0
           },
           {
            "bin_start": 0.4,
            "bin_end": 0.5,
            "count": 0
           }
          ]
         }
        },
        {
         "name": "mntlill_no",
         "dtype": "uint8",
         "stats": {
          "unique_count": 2,
          "nan_count": 0,
          "min": "0",
          "max": "1",
          "histogram": [
           {
            "bin_start": 0,
            "bin_end": 0.1,
            "count": 1
           },
           {
            "bin_start": 0.1,
            "bin_end": 0.2,
            "count": 0
           },
           {
            "bin_start": 0.2,
            "bin_end": 0.30000000000000004,
            "count": 0
           },
           {
            "bin_start": 0.30000000000000004,
            "bin_end": 0.4,
            "count": 0
           },
           {
            "bin_start": 0.4,
            "bin_end": 0.5,
            "count": 0
           },
           {
            "bin_start": 0.5,
            "bin_end": 0.6000000000000001,
            "count": 0
           },
           {
            "bin_start": 0.6000000000000001,
            "bin_end": 0.7000000000000001,
            "count": 0
           },
           {
            "bin_start": 0.7000000000000001,
            "bin_end": 0.8,
            "count": 0
           },
           {
            "bin_start": 0.8,
            "bin_end": 0.9,
            "count": 0
           },
           {
            "bin_start": 0.9,
            "bin_end": 1,
            "count": 4
           }
          ]
         }
        },
        {
         "name": "mntlill_unknown",
         "dtype": "uint8",
         "stats": {
          "unique_count": 1,
          "nan_count": 0,
          "min": "0",
          "max": "0",
          "histogram": [
           {
            "bin_start": -0.5,
            "bin_end": -0.4,
            "count": 0
           },
           {
            "bin_start": -0.4,
            "bin_end": -0.3,
            "count": 0
           },
           {
            "bin_start": -0.3,
            "bin_end": -0.19999999999999996,
            "count": 0
           },
           {
            "bin_start": -0.19999999999999996,
            "bin_end": -0.09999999999999998,
            "count": 0
           },
           {
            "bin_start": -0.09999999999999998,
            "bin_end": 0,
            "count": 0
           },
           {
            "bin_start": 0,
            "bin_end": 0.10000000000000009,
            "count": 5
           },
           {
            "bin_start": 0.10000000000000009,
            "bin_end": 0.20000000000000007,
            "count": 0
           },
           {
            "bin_start": 0.20000000000000007,
            "bin_end": 0.30000000000000004,
            "count": 0
           },
           {
            "bin_start": 0.30000000000000004,
            "bin_end": 0.4,
            "count": 0
           },
           {
            "bin_start": 0.4,
            "bin_end": 0.5,
            "count": 0
           }
          ]
         }
        },
        {
         "name": "mntlill_yes",
         "dtype": "uint8",
         "stats": {
          "unique_count": 2,
          "nan_count": 0,
          "min": "0",
          "max": "1",
          "histogram": [
           {
            "bin_start": 0,
            "bin_end": 0.1,
            "count": 4
           },
           {
            "bin_start": 0.1,
            "bin_end": 0.2,
            "count": 0
           },
           {
            "bin_start": 0.2,
            "bin_end": 0.30000000000000004,
            "count": 0
           },
           {
            "bin_start": 0.30000000000000004,
            "bin_end": 0.4,
            "count": 0
           },
           {
            "bin_start": 0.4,
            "bin_end": 0.5,
            "count": 0
           },
           {
            "bin_start": 0.5,
            "bin_end": 0.6000000000000001,
            "count": 0
           },
           {
            "bin_start": 0.6000000000000001,
            "bin_end": 0.7000000000000001,
            "count": 0
           },
           {
            "bin_start": 0.7000000000000001,
            "bin_end": 0.8,
            "count": 0
           },
           {
            "bin_start": 0.8,
            "bin_end": 0.9,
            "count": 0
           },
           {
            "bin_start": 0.9,
            "bin_end": 1,
            "count": 1
           }
          ]
         }
        },
        {
         "name": "rural",
         "dtype": "float64",
         "stats": {
          "unique_count": 1,
          "nan_count": 0,
          "min": "0.0",
          "max": "0.0",
          "histogram": [
           {
            "bin_start": -0.5,
            "bin_end": -0.4,
            "count": 0
           },
           {
            "bin_start": -0.4,
            "bin_end": -0.3,
            "count": 0
           },
           {
            "bin_start": -0.3,
            "bin_end": -0.19999999999999996,
            "count": 0
           },
           {
            "bin_start": -0.19999999999999996,
            "bin_end": -0.09999999999999998,
            "count": 0
           },
           {
            "bin_start": -0.09999999999999998,
            "bin_end": 0,
            "count": 0
           },
           {
            "bin_start": 0,
            "bin_end": 0.10000000000000009,
            "count": 5
           },
           {
            "bin_start": 0.10000000000000009,
            "bin_end": 0.20000000000000007,
            "count": 0
           },
           {
            "bin_start": 0.20000000000000007,
            "bin_end": 0.30000000000000004,
            "count": 0
           },
           {
            "bin_start": 0.30000000000000004,
            "bin_end": 0.4,
            "count": 0
           },
           {
            "bin_start": 0.4,
            "bin_end": 0.5,
            "count": 0
           }
          ]
         }
        },
        {
         "name": "suburban",
         "dtype": "float64",
         "stats": {
          "unique_count": 2,
          "nan_count": 0,
          "min": "0.0",
          "max": "1.0",
          "histogram": [
           {
            "bin_start": 0,
            "bin_end": 0.1,
            "count": 3
           },
           {
            "bin_start": 0.1,
            "bin_end": 0.2,
            "count": 0
           },
           {
            "bin_start": 0.2,
            "bin_end": 0.30000000000000004,
            "count": 0
           },
           {
            "bin_start": 0.30000000000000004,
            "bin_end": 0.4,
            "count": 0
           },
           {
            "bin_start": 0.4,
            "bin_end": 0.5,
            "count": 0
           },
           {
            "bin_start": 0.5,
            "bin_end": 0.6000000000000001,
            "count": 0
           },
           {
            "bin_start": 0.6000000000000001,
            "bin_end": 0.7000000000000001,
            "count": 0
           },
           {
            "bin_start": 0.7000000000000001,
            "bin_end": 0.8,
            "count": 0
           },
           {
            "bin_start": 0.8,
            "bin_end": 0.9,
            "count": 0
           },
           {
            "bin_start": 0.9,
            "bin_end": 1,
            "count": 2
           }
          ]
         }
        },
        {
         "name": "urban",
         "dtype": "float64",
         "stats": {
          "unique_count": 2,
          "nan_count": 0,
          "min": "0.0",
          "max": "1.0",
          "histogram": [
           {
            "bin_start": 0,
            "bin_end": 0.1,
            "count": 2
           },
           {
            "bin_start": 0.1,
            "bin_end": 0.2,
            "count": 0
           },
           {
            "bin_start": 0.2,
            "bin_end": 0.30000000000000004,
            "count": 0
           },
           {
            "bin_start": 0.30000000000000004,
            "bin_end": 0.4,
            "count": 0
           },
           {
            "bin_start": 0.4,
            "bin_end": 0.5,
            "count": 0
           },
           {
            "bin_start": 0.5,
            "bin_end": 0.6000000000000001,
            "count": 0
           },
           {
            "bin_start": 0.6000000000000001,
            "bin_end": 0.7000000000000001,
            "count": 0
           },
           {
            "bin_start": 0.7000000000000001,
            "bin_end": 0.8,
            "count": 0
           },
           {
            "bin_start": 0.8,
            "bin_end": 0.9,
            "count": 0
           },
           {
            "bin_start": 0.9,
            "bin_end": 1,
            "count": 3
           }
          ]
         }
        },
        {
         "name": "cod_lethal",
         "dtype": "int64",
         "stats": {
          "unique_count": 1,
          "nan_count": 0,
          "min": "1",
          "max": "1",
          "histogram": [
           {
            "bin_start": 0.5,
            "bin_end": 0.6,
            "count": 0
           },
           {
            "bin_start": 0.6,
            "bin_end": 0.7,
            "count": 0
           },
           {
            "bin_start": 0.7,
            "bin_end": 0.8,
            "count": 0
           },
           {
            "bin_start": 0.8,
            "bin_end": 0.9,
            "count": 0
           },
           {
            "bin_start": 0.9,
            "bin_end": 1,
            "count": 0
           },
           {
            "bin_start": 1,
            "bin_end": 1.1,
            "count": 5
           },
           {
            "bin_start": 1.1,
            "bin_end": 1.2000000000000002,
            "count": 0
           },
           {
            "bin_start": 1.2000000000000002,
            "bin_end": 1.3,
            "count": 0
           },
           {
            "bin_start": 1.3,
            "bin_end": 1.4,
            "count": 0
           },
           {
            "bin_start": 1.4,
            "bin_end": 1.5,
            "count": 0
           }
          ]
         }
        },
        {
         "name": "age_bins",
         "dtype": "category",
         "stats": {
          "unique_count": 3,
          "nan_count": 0,
          "categories": [
           {
            "name": "25-34",
            "count": 3
           },
           {
            "name": "18-24",
            "count": 1
           },
           {
            "name": "35-44",
            "count": 1
           }
          ]
         }
        },
        {
         "name": "unknown",
         "dtype": "uint8",
         "stats": {
          "unique_count": 1,
          "nan_count": 0,
          "min": "0",
          "max": "0",
          "histogram": [
           {
            "bin_start": -0.5,
            "bin_end": -0.4,
            "count": 0
           },
           {
            "bin_start": -0.4,
            "bin_end": -0.3,
            "count": 0
           },
           {
            "bin_start": -0.3,
            "bin_end": -0.19999999999999996,
            "count": 0
           },
           {
            "bin_start": -0.19999999999999996,
            "bin_end": -0.09999999999999998,
            "count": 0
           },
           {
            "bin_start": -0.09999999999999998,
            "bin_end": 0,
            "count": 0
           },
           {
            "bin_start": 0,
            "bin_end": 0.10000000000000009,
            "count": 5
           },
           {
            "bin_start": 0.10000000000000009,
            "bin_end": 0.20000000000000007,
            "count": 0
           },
           {
            "bin_start": 0.20000000000000007,
            "bin_end": 0.30000000000000004,
            "count": 0
           },
           {
            "bin_start": 0.30000000000000004,
            "bin_end": 0.4,
            "count": 0
           },
           {
            "bin_start": 0.4,
            "bin_end": 0.5,
            "count": 0
           }
          ]
         }
        },
        {
         "name": "under 12",
         "dtype": "uint8",
         "stats": {
          "unique_count": 1,
          "nan_count": 0,
          "min": "0",
          "max": "0",
          "histogram": [
           {
            "bin_start": -0.5,
            "bin_end": -0.4,
            "count": 0
           },
           {
            "bin_start": -0.4,
            "bin_end": -0.3,
            "count": 0
           },
           {
            "bin_start": -0.3,
            "bin_end": -0.19999999999999996,
            "count": 0
           },
           {
            "bin_start": -0.19999999999999996,
            "bin_end": -0.09999999999999998,
            "count": 0
           },
           {
            "bin_start": -0.09999999999999998,
            "bin_end": 0,
            "count": 0
           },
           {
            "bin_start": 0,
            "bin_end": 0.10000000000000009,
            "count": 5
           },
           {
            "bin_start": 0.10000000000000009,
            "bin_end": 0.20000000000000007,
            "count": 0
           },
           {
            "bin_start": 0.20000000000000007,
            "bin_end": 0.30000000000000004,
            "count": 0
           },
           {
            "bin_start": 0.30000000000000004,
            "bin_end": 0.4,
            "count": 0
           },
           {
            "bin_start": 0.4,
            "bin_end": 0.5,
            "count": 0
           }
          ]
         }
        },
        {
         "name": "12-17",
         "dtype": "uint8",
         "stats": {
          "unique_count": 1,
          "nan_count": 0,
          "min": "0",
          "max": "0",
          "histogram": [
           {
            "bin_start": -0.5,
            "bin_end": -0.4,
            "count": 0
           },
           {
            "bin_start": -0.4,
            "bin_end": -0.3,
            "count": 0
           },
           {
            "bin_start": -0.3,
            "bin_end": -0.19999999999999996,
            "count": 0
           },
           {
            "bin_start": -0.19999999999999996,
            "bin_end": -0.09999999999999998,
            "count": 0
           },
           {
            "bin_start": -0.09999999999999998,
            "bin_end": 0,
            "count": 0
           },
           {
            "bin_start": 0,
            "bin_end": 0.10000000000000009,
            "count": 5
           },
           {
            "bin_start": 0.10000000000000009,
            "bin_end": 0.20000000000000007,
            "count": 0
           },
           {
            "bin_start": 0.20000000000000007,
            "bin_end": 0.30000000000000004,
            "count": 0
           },
           {
            "bin_start": 0.30000000000000004,
            "bin_end": 0.4,
            "count": 0
           },
           {
            "bin_start": 0.4,
            "bin_end": 0.5,
            "count": 0
           }
          ]
         }
        },
        {
         "name": "18-24",
         "dtype": "uint8",
         "stats": {
          "unique_count": 2,
          "nan_count": 0,
          "min": "0",
          "max": "1",
          "histogram": [
           {
            "bin_start": 0,
            "bin_end": 0.1,
            "count": 4
           },
           {
            "bin_start": 0.1,
            "bin_end": 0.2,
            "count": 0
           },
           {
            "bin_start": 0.2,
            "bin_end": 0.30000000000000004,
            "count": 0
           },
           {
            "bin_start": 0.30000000000000004,
            "bin_end": 0.4,
            "count": 0
           },
           {
            "bin_start": 0.4,
            "bin_end": 0.5,
            "count": 0
           },
           {
            "bin_start": 0.5,
            "bin_end": 0.6000000000000001,
            "count": 0
           },
           {
            "bin_start": 0.6000000000000001,
            "bin_end": 0.7000000000000001,
            "count": 0
           },
           {
            "bin_start": 0.7000000000000001,
            "bin_end": 0.8,
            "count": 0
           },
           {
            "bin_start": 0.8,
            "bin_end": 0.9,
            "count": 0
           },
           {
            "bin_start": 0.9,
            "bin_end": 1,
            "count": 1
           }
          ]
         }
        },
        {
         "name": "25-34",
         "dtype": "uint8",
         "stats": {
          "unique_count": 2,
          "nan_count": 0,
          "min": "0",
          "max": "1",
          "histogram": [
           {
            "bin_start": 0,
            "bin_end": 0.1,
            "count": 2
           },
           {
            "bin_start": 0.1,
            "bin_end": 0.2,
            "count": 0
           },
           {
            "bin_start": 0.2,
            "bin_end": 0.30000000000000004,
            "count": 0
           },
           {
            "bin_start": 0.30000000000000004,
            "bin_end": 0.4,
            "count": 0
           },
           {
            "bin_start": 0.4,
            "bin_end": 0.5,
            "count": 0
           },
           {
            "bin_start": 0.5,
            "bin_end": 0.6000000000000001,
            "count": 0
           },
           {
            "bin_start": 0.6000000000000001,
            "bin_end": 0.7000000000000001,
            "count": 0
           },
           {
            "bin_start": 0.7000000000000001,
            "bin_end": 0.8,
            "count": 0
           },
           {
            "bin_start": 0.8,
            "bin_end": 0.9,
            "count": 0
           },
           {
            "bin_start": 0.9,
            "bin_end": 1,
            "count": 3
           }
          ]
         }
        },
        {
         "name": "35-44",
         "dtype": "uint8",
         "stats": {
          "unique_count": 2,
          "nan_count": 0,
          "min": "0",
          "max": "1",
          "histogram": [
           {
            "bin_start": 0,
            "bin_end": 0.1,
            "count": 4
           },
           {
            "bin_start": 0.1,
            "bin_end": 0.2,
            "count": 0
           },
           {
            "bin_start": 0.2,
            "bin_end": 0.30000000000000004,
            "count": 0
           },
           {
            "bin_start": 0.30000000000000004,
            "bin_end": 0.4,
            "count": 0
           },
           {
            "bin_start": 0.4,
            "bin_end": 0.5,
            "count": 0
           },
           {
            "bin_start": 0.5,
            "bin_end": 0.6000000000000001,
            "count": 0
           },
           {
            "bin_start": 0.6000000000000001,
            "bin_end": 0.7000000000000001,
            "count": 0
           },
           {
            "bin_start": 0.7000000000000001,
            "bin_end": 0.8,
            "count": 0
           },
           {
            "bin_start": 0.8,
            "bin_end": 0.9,
            "count": 0
           },
           {
            "bin_start": 0.9,
            "bin_end": 1,
            "count": 1
           }
          ]
         }
        },
        {
         "name": "45-54",
         "dtype": "uint8",
         "stats": {
          "unique_count": 1,
          "nan_count": 0,
          "min": "0",
          "max": "0",
          "histogram": [
           {
            "bin_start": -0.5,
            "bin_end": -0.4,
            "count": 0
           },
           {
            "bin_start": -0.4,
            "bin_end": -0.3,
            "count": 0
           },
           {
            "bin_start": -0.3,
            "bin_end": -0.19999999999999996,
            "count": 0
           },
           {
            "bin_start": -0.19999999999999996,
            "bin_end": -0.09999999999999998,
            "count": 0
           },
           {
            "bin_start": -0.09999999999999998,
            "bin_end": 0,
            "count": 0
           },
           {
            "bin_start": 0,
            "bin_end": 0.10000000000000009,
            "count": 5
           },
           {
            "bin_start": 0.10000000000000009,
            "bin_end": 0.20000000000000007,
            "count": 0
           },
           {
            "bin_start": 0.20000000000000007,
            "bin_end": 0.30000000000000004,
            "count": 0
           },
           {
            "bin_start": 0.30000000000000004,
            "bin_end": 0.4,
            "count": 0
           },
           {
            "bin_start": 0.4,
            "bin_end": 0.5,
            "count": 0
           }
          ]
         }
        },
        {
         "name": "55-64",
         "dtype": "uint8",
         "stats": {
          "unique_count": 1,
          "nan_count": 0,
          "min": "0",
          "max": "0",
          "histogram": [
           {
            "bin_start": -0.5,
            "bin_end": -0.4,
            "count": 0
           },
           {
            "bin_start": -0.4,
            "bin_end": -0.3,
            "count": 0
           },
           {
            "bin_start": -0.3,
            "bin_end": -0.19999999999999996,
            "count": 0
           },
           {
            "bin_start": -0.19999999999999996,
            "bin_end": -0.09999999999999998,
            "count": 0
           },
           {
            "bin_start": -0.09999999999999998,
            "bin_end": 0,
            "count": 0
           },
           {
            "bin_start": 0,
            "bin_end": 0.10000000000000009,
            "count": 5
           },
           {
            "bin_start": 0.10000000000000009,
            "bin_end": 0.20000000000000007,
            "count": 0
           },
           {
            "bin_start": 0.20000000000000007,
            "bin_end": 0.30000000000000004,
            "count": 0
           },
           {
            "bin_start": 0.30000000000000004,
            "bin_end": 0.4,
            "count": 0
           },
           {
            "bin_start": 0.4,
            "bin_end": 0.5,
            "count": 0
           }
          ]
         }
        },
        {
         "name": "65+",
         "dtype": "uint8",
         "stats": {
          "unique_count": 1,
          "nan_count": 0,
          "min": "0",
          "max": "0",
          "histogram": [
           {
            "bin_start": -0.5,
            "bin_end": -0.4,
            "count": 0
           },
           {
            "bin_start": -0.4,
            "bin_end": -0.3,
            "count": 0
           },
           {
            "bin_start": -0.3,
            "bin_end": -0.19999999999999996,
            "count": 0
           },
           {
            "bin_start": -0.19999999999999996,
            "bin_end": -0.09999999999999998,
            "count": 0
           },
           {
            "bin_start": -0.09999999999999998,
            "bin_end": 0,
            "count": 0
           },
           {
            "bin_start": 0,
            "bin_end": 0.10000000000000009,
            "count": 5
           },
           {
            "bin_start": 0.10000000000000009,
            "bin_end": 0.20000000000000007,
            "count": 0
           },
           {
            "bin_start": 0.20000000000000007,
            "bin_end": 0.30000000000000004,
            "count": 0
           },
           {
            "bin_start": 0.30000000000000004,
            "bin_end": 0.4,
            "count": 0
           },
           {
            "bin_start": 0.4,
            "bin_end": 0.5,
            "count": 0
           }
          ]
         }
        },
        {
         "name": "_deepnote_index_column",
         "dtype": "int64"
        }
       ],
       "rows_top": [
        {
         "age": 25,
         "gender": "male",
         "race": "black",
         "date": "2019-12-19T00:00:00.000000",
         "city": "tempe",
         "state": "az",
         "zipcode": 85281,
         "county": "maricopa",
         "agency_responsible": "arizona department of public safety",
         "cause_of_death": "gunshot",
         "description_of_circumstances": "around 11:50 p.m. a trooper saw mohamed ahmed e a al-hashemi knock over a street sign. when the trooper tried to arrest him, al-hashemi attacked him. the trooper shot and killed him.",
         "official_disposition": "pending investigation/no known charges",
         "criminal_charges_filed": "no known charges",
         "mental_illness": "no",
         "armed_unarmed_status": "allegedly_armed",
         "alleged_weapon": "taser",
         "alleged_threat_lvl": 1,
         "fleeing": "not fleeing",
         "body_camera": 0,
         "geography": "urban",
         "encounter_type_draft": "other",
         "initial_reported_reason_for_encounter_draft": "erratic behavior, vandalism",
         "known_past_shootings_of_officer_draft": "0",
         "is_female": 0,
         "is_male": 1,
         "is_transgender": 0,
         "was_fleeing": 0,
         "was_not fleeing ": 0,
         "was_allegedly_armed": 1,
         "was_unarmed": 0,
         "was_vehicle": 0,
         "was_domestic_disturbance": 0,
         "was_mental_health_welfare_check": 0,
         "was_person_with_a_weapon": 0,
         "was_traffic_stop": 0,
         "was_violent_crime_part_1": 0,
         "is_asian/pacific islander": 0,
         "is_black": 1,
         "is_hispanic": 0,
         "is_native american": 0,
         "is_unknown race": 0,
         "is_white": 0,
         "mntlill_drug or alcohol use": 0,
         "mntlill_no": 1,
         "mntlill_unknown": 0,
         "mntlill_yes": 0,
         "rural": 0,
         "suburban": 0,
         "urban": 1,
         "cod_lethal": 1,
         "age_bins": "25-34",
         "unknown": 0,
         "under 12": 0,
         "12-17": 0,
         "18-24": 0,
         "25-34": 1,
         "35-44": 0,
         "45-54": 0,
         "55-64": 0,
         "65+": 0,
         "_deepnote_index_column": 1554
        },
        {
         "age": 26,
         "gender": "male",
         "race": "hispanic",
         "date": "2014-11-16T00:00:00.000000",
         "city": "east los angeles",
         "state": "ca",
         "zipcode": 90022,
         "county": "los angeles",
         "agency_responsible": "los angeles county sheriff's department",
         "cause_of_death": "gunshot",
         "description_of_circumstances": "bermudez and avelar-lara were driving in a car with a fake gun and pointed it at someone. deputies were notified and when they arrived on scene bermudez and avelar-lara allegedly pointed a gun in the deputies direction, prompting the deputies to shoot and kill both of them.",
         "official_disposition": "unreported",
         "criminal_charges_filed": "no known charges",
         "mental_illness": "no",
         "armed_unarmed_status": "unarmed",
         "alleged_weapon": "toy weapon",
         "alleged_threat_lvl": 0,
         "fleeing": "fleeing",
         "body_camera": 0,
         "geography": "urban",
         "encounter_type_draft": "violent_crime_part_1",
         "initial_reported_reason_for_encounter_draft": "traffic violation",
         "known_past_shootings_of_officer_draft": "0",
         "is_female": 0,
         "is_male": 1,
         "is_transgender": 0,
         "was_fleeing": 1,
         "was_not fleeing ": 0,
         "was_allegedly_armed": 0,
         "was_unarmed": 1,
         "was_vehicle": 0,
         "was_domestic_disturbance": 0,
         "was_mental_health_welfare_check": 0,
         "was_person_with_a_weapon": 0,
         "was_traffic_stop": 0,
         "was_violent_crime_part_1": 1,
         "is_asian/pacific islander": 0,
         "is_black": 0,
         "is_hispanic": 1,
         "is_native american": 0,
         "is_unknown race": 0,
         "is_white": 0,
         "mntlill_drug or alcohol use": 0,
         "mntlill_no": 1,
         "mntlill_unknown": 0,
         "mntlill_yes": 0,
         "rural": 0,
         "suburban": 0,
         "urban": 1,
         "cod_lethal": 1,
         "age_bins": "25-34",
         "unknown": 0,
         "under 12": 0,
         "12-17": 0,
         "18-24": 0,
         "25-34": 1,
         "35-44": 0,
         "45-54": 0,
         "55-64": 0,
         "65+": 0,
         "_deepnote_index_column": 7137
        },
        {
         "age": 23,
         "gender": "male",
         "race": "white",
         "date": "2019-07-09T00:00:00.000000",
         "city": "cleveland",
         "state": "oh",
         "zipcode": 44144,
         "county": "cuyahoga",
         "agency_responsible": "brooklyn police department",
         "cause_of_death": "gunshot",
         "description_of_circumstances": "shawn toney was experiencing some kind of medical or mental crisis when he was shot and killed while in a standoff with police. he allegedly fired one shot, as did an officer, but it was not immediately reported who owned the bullet that killed him.",
         "official_disposition": "pending investigation/no known charges",
         "criminal_charges_filed": "no known charges",
         "mental_illness": "yes",
         "armed_unarmed_status": "allegedly_armed",
         "alleged_weapon": "gun",
         "alleged_threat_lvl": 1,
         "fleeing": "not fleeing",
         "body_camera": 0,
         "geography": "suburban",
         "encounter_type_draft": "person_with_a_weapon",
         "initial_reported_reason_for_encounter_draft": "mental illness",
         "known_past_shootings_of_officer_draft": "0",
         "is_female": 0,
         "is_male": 1,
         "is_transgender": 0,
         "was_fleeing": 0,
         "was_not fleeing ": 0,
         "was_allegedly_armed": 1,
         "was_unarmed": 0,
         "was_vehicle": 0,
         "was_domestic_disturbance": 0,
         "was_mental_health_welfare_check": 0,
         "was_person_with_a_weapon": 1,
         "was_traffic_stop": 0,
         "was_violent_crime_part_1": 0,
         "is_asian/pacific islander": 0,
         "is_black": 0,
         "is_hispanic": 0,
         "is_native american": 0,
         "is_unknown race": 0,
         "is_white": 1,
         "mntlill_drug or alcohol use": 0,
         "mntlill_no": 0,
         "mntlill_unknown": 0,
         "mntlill_yes": 1,
         "rural": 0,
         "suburban": 1,
         "urban": 0,
         "cod_lethal": 1,
         "age_bins": "18-24",
         "unknown": 0,
         "under 12": 0,
         "12-17": 0,
         "18-24": 1,
         "25-34": 0,
         "35-44": 0,
         "45-54": 0,
         "55-64": 0,
         "65+": 0,
         "_deepnote_index_column": 2043
        },
        {
         "age": 37,
         "gender": "male",
         "race": "hispanic",
         "date": "2013-07-02T00:00:00.000000",
         "city": "las cruces",
         "state": "nm",
         "zipcode": 88005,
         "county": "dona ana",
         "agency_responsible": "las cruces police department",
         "cause_of_death": "gunshot",
         "description_of_circumstances": "when police arrived estrada was standing outside his home. police said estrada disobeyed commands from officers, went inside and came back out with what looked like an assault-style rifle that he pointed at the officers. officers shot at estrada and hit him at least once in the chest. the investigation has revealed that the weapon estrada pointed at the officers strongly resembles ar-15/m-16 style rifles. the rifle estrada pointed at officers was determined to be a crosman m-16 style pellet rifle.",
         "official_disposition": "pending investigation/no known charges",
         "criminal_charges_filed": "no known charges",
         "mental_illness": "no",
         "armed_unarmed_status": "allegedly_armed",
         "alleged_weapon": "gun",
         "alleged_threat_lvl": 0,
         "fleeing": "fleeing",
         "body_camera": 0,
         "geography": "urban",
         "encounter_type_draft": "violent_crime_part_1",
         "initial_reported_reason_for_encounter_draft": "traffic violation",
         "known_past_shootings_of_officer_draft": "0",
         "is_female": 0,
         "is_male": 1,
         "is_transgender": 0,
         "was_fleeing": 1,
         "was_not fleeing ": 0,
         "was_allegedly_armed": 1,
         "was_unarmed": 0,
         "was_vehicle": 0,
         "was_domestic_disturbance": 0,
         "was_mental_health_welfare_check": 0,
         "was_person_with_a_weapon": 0,
         "was_traffic_stop": 0,
         "was_violent_crime_part_1": 1,
         "is_asian/pacific islander": 0,
         "is_black": 0,
         "is_hispanic": 1,
         "is_native american": 0,
         "is_unknown race": 0,
         "is_white": 0,
         "mntlill_drug or alcohol use": 0,
         "mntlill_no": 1,
         "mntlill_unknown": 0,
         "mntlill_yes": 0,
         "rural": 0,
         "suburban": 0,
         "urban": 1,
         "cod_lethal": 1,
         "age_bins": "35-44",
         "unknown": 0,
         "under 12": 0,
         "12-17": 0,
         "18-24": 0,
         "25-34": 0,
         "35-44": 1,
         "45-54": 0,
         "55-64": 0,
         "65+": 0,
         "_deepnote_index_column": 8579
        },
        {
         "age": 27,
         "gender": "male",
         "race": "white",
         "date": "2013-07-08T00:00:00.000000",
         "city": "sewickley",
         "state": "pa",
         "zipcode": 15143,
         "county": "allegheny",
         "agency_responsible": "sewickley police department, allegheny county police department",
         "cause_of_death": "gunshot",
         "description_of_circumstances": "a suicidal army ranger grew increasingly violent in the months before he broke into the home of a former lover -- his cousin's wife -- and tussled with police officers who fatally shot him.",
         "official_disposition": "justified",
         "criminal_charges_filed": "no known charges",
         "mental_illness": "no",
         "armed_unarmed_status": "allegedly_armed",
         "alleged_weapon": "gun",
         "alleged_threat_lvl": 0,
         "fleeing": "fleeing",
         "body_camera": 0,
         "geography": "suburban",
         "encounter_type_draft": "violent_crime_part_1",
         "initial_reported_reason_for_encounter_draft": "traffic violation",
         "known_past_shootings_of_officer_draft": "0",
         "is_female": 0,
         "is_male": 1,
         "is_transgender": 0,
         "was_fleeing": 1,
         "was_not fleeing ": 0,
         "was_allegedly_armed": 1,
         "was_unarmed": 0,
         "was_vehicle": 0,
         "was_domestic_disturbance": 0,
         "was_mental_health_welfare_check": 0,
         "was_person_with_a_weapon": 0,
         "was_traffic_stop": 0,
         "was_violent_crime_part_1": 1,
         "is_asian/pacific islander": 0,
         "is_black": 0,
         "is_hispanic": 0,
         "is_native american": 0,
         "is_unknown race": 0,
         "is_white": 1,
         "mntlill_drug or alcohol use": 0,
         "mntlill_no": 1,
         "mntlill_unknown": 0,
         "mntlill_yes": 0,
         "rural": 0,
         "suburban": 1,
         "urban": 0,
         "cod_lethal": 1,
         "age_bins": "25-34",
         "unknown": 0,
         "under 12": 0,
         "12-17": 0,
         "18-24": 0,
         "25-34": 1,
         "35-44": 0,
         "45-54": 0,
         "55-64": 0,
         "65+": 0,
         "_deepnote_index_column": 8556
        }
       ],
       "rows_bottom": null
      },
      "text/plain": "      age gender      race       date              city state  zipcode  \\\n1554   25   male     black 2019-12-19             tempe    az  85281.0   \n7137   26   male  hispanic 2014-11-16  east los angeles    ca  90022.0   \n2043   23   male     white 2019-07-09         cleveland    oh  44144.0   \n8579   37   male  hispanic 2013-07-02        las cruces    nm  88005.0   \n8556   27   male     white 2013-07-08         sewickley    pa  15143.0   \n\n           county                                 agency_responsible  \\\n1554     maricopa                arizona department of public safety   \n7137  los angeles            los angeles county sheriff's department   \n2043     cuyahoga                         brooklyn police department   \n8579     dona ana                       las cruces police department   \n8556    allegheny  sewickley police department, allegheny county ...   \n\n     cause_of_death  ... age_bins unknown under 12 12-17 18-24 25-34  35-44  \\\n1554        gunshot  ...    25-34       0        0     0     0     1      0   \n7137        gunshot  ...    25-34       0        0     0     0     1      0   \n2043        gunshot  ...    18-24       0        0     0     1     0      0   \n8579        gunshot  ...    35-44       0        0     0     0     0      1   \n8556        gunshot  ...    25-34       0        0     0     0     1      0   \n\n     45-54  55-64 65+  \n1554     0      0   0  \n7137     0      0   0  \n2043     0      0   0  \n8579     0      0   0  \n8556     0      0   0  \n\n[5 rows x 60 columns]",
      "text/html": "<div>\n<style scoped>\n    .dataframe tbody tr th:only-of-type {\n        vertical-align: middle;\n    }\n\n    .dataframe tbody tr th {\n        vertical-align: top;\n    }\n\n    .dataframe thead th {\n        text-align: right;\n    }\n</style>\n<table border=\"1\" class=\"dataframe\">\n  <thead>\n    <tr style=\"text-align: right;\">\n      <th></th>\n      <th>age</th>\n      <th>gender</th>\n      <th>race</th>\n      <th>date</th>\n      <th>city</th>\n      <th>state</th>\n      <th>zipcode</th>\n      <th>county</th>\n      <th>agency_responsible</th>\n      <th>cause_of_death</th>\n      <th>...</th>\n      <th>age_bins</th>\n      <th>unknown</th>\n      <th>under 12</th>\n      <th>12-17</th>\n      <th>18-24</th>\n      <th>25-34</th>\n      <th>35-44</th>\n      <th>45-54</th>\n      <th>55-64</th>\n      <th>65+</th>\n    </tr>\n  </thead>\n  <tbody>\n    <tr>\n      <th>1554</th>\n      <td>25</td>\n      <td>male</td>\n      <td>black</td>\n      <td>2019-12-19</td>\n      <td>tempe</td>\n      <td>az</td>\n      <td>85281.0</td>\n      <td>maricopa</td>\n      <td>arizona department of public safety</td>\n      <td>gunshot</td>\n      <td>...</td>\n      <td>25-34</td>\n      <td>0</td>\n      <td>0</td>\n      <td>0</td>\n      <td>0</td>\n      <td>1</td>\n      <td>0</td>\n      <td>0</td>\n      <td>0</td>\n      <td>0</td>\n    </tr>\n    <tr>\n      <th>7137</th>\n      <td>26</td>\n      <td>male</td>\n      <td>hispanic</td>\n      <td>2014-11-16</td>\n      <td>east los angeles</td>\n      <td>ca</td>\n      <td>90022.0</td>\n      <td>los angeles</td>\n      <td>los angeles county sheriff's department</td>\n      <td>gunshot</td>\n      <td>...</td>\n      <td>25-34</td>\n      <td>0</td>\n      <td>0</td>\n      <td>0</td>\n      <td>0</td>\n      <td>1</td>\n      <td>0</td>\n      <td>0</td>\n      <td>0</td>\n      <td>0</td>\n    </tr>\n    <tr>\n      <th>2043</th>\n      <td>23</td>\n      <td>male</td>\n      <td>white</td>\n      <td>2019-07-09</td>\n      <td>cleveland</td>\n      <td>oh</td>\n      <td>44144.0</td>\n      <td>cuyahoga</td>\n      <td>brooklyn police department</td>\n      <td>gunshot</td>\n      <td>...</td>\n      <td>18-24</td>\n      <td>0</td>\n      <td>0</td>\n      <td>0</td>\n      <td>1</td>\n      <td>0</td>\n      <td>0</td>\n      <td>0</td>\n      <td>0</td>\n      <td>0</td>\n    </tr>\n    <tr>\n      <th>8579</th>\n      <td>37</td>\n      <td>male</td>\n      <td>hispanic</td>\n      <td>2013-07-02</td>\n      <td>las cruces</td>\n      <td>nm</td>\n      <td>88005.0</td>\n      <td>dona ana</td>\n      <td>las cruces police department</td>\n      <td>gunshot</td>\n      <td>...</td>\n      <td>35-44</td>\n      <td>0</td>\n      <td>0</td>\n      <td>0</td>\n      <td>0</td>\n      <td>0</td>\n      <td>1</td>\n      <td>0</td>\n      <td>0</td>\n      <td>0</td>\n    </tr>\n    <tr>\n      <th>8556</th>\n      <td>27</td>\n      <td>male</td>\n      <td>white</td>\n      <td>2013-07-08</td>\n      <td>sewickley</td>\n      <td>pa</td>\n      <td>15143.0</td>\n      <td>allegheny</td>\n      <td>sewickley police department, allegheny county ...</td>\n      <td>gunshot</td>\n      <td>...</td>\n      <td>25-34</td>\n      <td>0</td>\n      <td>0</td>\n      <td>0</td>\n      <td>0</td>\n      <td>1</td>\n      <td>0</td>\n      <td>0</td>\n      <td>0</td>\n      <td>0</td>\n    </tr>\n  </tbody>\n</table>\n<p>5 rows × 60 columns</p>\n</div>"
     },
     "metadata": {}
    }
   ]
  },
  {
   "cell_type": "markdown",
   "source": "### Takeaway\n- Data is prepped/split and ready to be explored, modeled, and evaluated.",
   "metadata": {
    "tags": [],
    "cell_id": "00017-5c504e43-7325-49d1-832e-2fddaf21e075",
    "deepnote_cell_type": "markdown"
   }
  },
  {
   "cell_type": "markdown",
   "source": "\n___\n# Explore Data\n#### Address questions posed in planning\n- Does gender make a difference in alleged threat level?\n- How does mental illness affect each gender?\n- Do symptoms of mental illness play a role in threat level?\n- Is race a factor for alleged threat level?\n- Does bodycam make a difference in alleged threat level?\n- Is cause of death and alleged threat level independent of one another?\n- What areas in geography are resulting in more killings?\n- What are the fatalities by state: % killings vs pop\n\n## • Visualizations",
   "metadata": {
    "cell_id": "00018-5fdafbc9-cbe4-47f4-bb2e-93cd86a9f7d6",
    "deepnote_cell_type": "markdown"
   }
  },
  {
   "cell_type": "code",
   "metadata": {
    "cell_id": "00019-74a55cea-e172-4444-8076-f4843102508d",
    "deepnote_to_be_reexecuted": false,
    "source_hash": "bebc8bdb",
    "execution_start": 1622036136414,
    "execution_millis": 243,
    "deepnote_cell_type": "code"
   },
   "source": "#visualize gender vs alleged threat level\nax = pd.crosstab(train.gender, train.alleged_threat_lvl, normalize ='index').plot.barh(figsize=(8, 6), cmap=plt.cm.get_cmap('Blues'), ec=\"black\")\n\n#customize legend\nlegend_labels, _= ax.get_legend_handles_labels()\nax.legend(legend_labels, ['Non-Attack', 'Attack'], \n          bbox_to_anchor=(1,1), \n          title='Threat Level')\n\n#customize chart\nplt.title(\"Does Gender Make a Difference in Alleged Threat Level?\", fontsize = 15)\nplt.ylabel(\"Gender\", fontsize = 12)\nplt.xlabel('Percentage', fontsize = 12)\nax.tick_params(labelsize=10)\nplt.xlim([0.0, 1.0])\nplt.show()\n\n#get percentages df\npercentages = pd.crosstab(train.gender, train.alleged_threat_lvl, normalize = 'index')\npercentages",
   "execution_count": 12,
   "outputs": [
    {
     "data": {
      "text/plain": "<Figure size 576x432 with 1 Axes>",
      "image/png": "[encoded data removed]"
     },
     "metadata": {
      "needs_background": "light",
      "image/png": {
       "width": 553,
       "height": 392
      }
     },
     "output_type": "display_data"
    },
    {
     "output_type": "execute_result",
     "execution_count": 12,
     "data": {
      "application/vnd.deepnote.dataframe.v2+json": {
       "row_count": 3,
       "column_count": 2,
       "columns": [
        {
         "name": 0,
         "dtype": "float64",
         "stats": {
          "unique_count": 3,
          "nan_count": 0,
          "min": "0.5050021748586342",
          "max": "0.6666666666666666",
          "histogram": [
           {
            "bin_start": 0.5050021748586342,
            "bin_end": 0.5211686240394374,
            "count": 1
           },
           {
            "bin_start": 0.5211686240394374,
            "bin_end": 0.5373350732202407,
            "count": 0
           },
           {
            "bin_start": 0.5373350732202407,
            "bin_end": 0.5535015224010439,
            "count": 0
           },
           {
            "bin_start": 0.5535015224010439,
            "bin_end": 0.5696679715818471,
            "count": 0
           },
           {
            "bin_start": 0.5696679715818471,
            "bin_end": 0.5858344207626505,
            "count": 1
           },
           {
            "bin_start": 0.5858344207626505,
            "bin_end": 0.6020008699434536,
            "count": 0
           },
           {
            "bin_start": 0.6020008699434536,
            "bin_end": 0.6181673191242569,
            "count": 0
           },
           {
            "bin_start": 0.6181673191242569,
            "bin_end": 0.6343337683050602,
            "count": 0
           },
           {
            "bin_start": 0.6343337683050602,
            "bin_end": 0.6505002174858634,
            "count": 0
           },
           {
            "bin_start": 0.6505002174858634,
            "bin_end": 0.6666666666666666,
            "count": 1
           }
          ]
         }
        },
        {
         "name": 1,
         "dtype": "float64",
         "stats": {
          "unique_count": 3,
          "nan_count": 0,
          "min": "0.3333333333333333",
          "max": "0.4949978251413658",
          "histogram": [
           {
            "bin_start": 0.3333333333333333,
            "bin_end": 0.34949978251413655,
            "count": 1
           },
           {
            "bin_start": 0.34949978251413655,
            "bin_end": 0.36566623169493984,
            "count": 0
           },
           {
            "bin_start": 0.36566623169493984,
            "bin_end": 0.38183268087574307,
            "count": 0
           },
           {
            "bin_start": 0.38183268087574307,
            "bin_end": 0.3979991300565463,
            "count": 0
           },
           {
            "bin_start": 0.3979991300565463,
            "bin_end": 0.41416557923734953,
            "count": 0
           },
           {
            "bin_start": 0.41416557923734953,
            "bin_end": 0.4303320284181528,
            "count": 1
           },
           {
            "bin_start": 0.4303320284181528,
            "bin_end": 0.44649847759895606,
            "count": 0
           },
           {
            "bin_start": 0.44649847759895606,
            "bin_end": 0.46266492677975934,
            "count": 0
           },
           {
            "bin_start": 0.46266492677975934,
            "bin_end": 0.4788313759605626,
            "count": 0
           },
           {
            "bin_start": 0.4788313759605626,
            "bin_end": 0.4949978251413658,
            "count": 1
           }
          ]
         }
        },
        {
         "name": "_deepnote_index_column",
         "dtype": "object"
        }
       ],
       "rows_top": [
        {
         "0.0": 0.5782608695652174,
         "1.0": 0.4217391304347826,
         "_deepnote_index_column": "female"
        },
        {
         "0.0": 0.5050021748586342,
         "1.0": 0.4949978251413658,
         "_deepnote_index_column": "male"
        },
        {
         "0.0": 0.6666666666666666,
         "1.0": 0.3333333333333333,
         "_deepnote_index_column": "transgender"
        }
       ],
       "rows_bottom": null
      },
      "text/plain": "alleged_threat_lvl       0.0       1.0\ngender                                \nfemale              0.578261  0.421739\nmale                0.505002  0.494998\ntransgender         0.666667  0.333333",
      "text/html": "<div>\n<style scoped>\n    .dataframe tbody tr th:only-of-type {\n        vertical-align: middle;\n    }\n\n    .dataframe tbody tr th {\n        vertical-align: top;\n    }\n\n    .dataframe thead th {\n        text-align: right;\n    }\n</style>\n<table border=\"1\" class=\"dataframe\">\n  <thead>\n    <tr style=\"text-align: right;\">\n      <th>alleged_threat_lvl</th>\n      <th>0.0</th>\n      <th>1.0</th>\n    </tr>\n    <tr>\n      <th>gender</th>\n      <th></th>\n      <th></th>\n    </tr>\n  </thead>\n  <tbody>\n    <tr>\n      <th>female</th>\n      <td>0.578261</td>\n      <td>0.421739</td>\n    </tr>\n    <tr>\n      <th>male</th>\n      <td>0.505002</td>\n      <td>0.494998</td>\n    </tr>\n    <tr>\n      <th>transgender</th>\n      <td>0.666667</td>\n      <td>0.333333</td>\n    </tr>\n  </tbody>\n</table>\n</div>"
     },
     "metadata": {}
    }
   ]
  },
  {
   "cell_type": "markdown",
   "source": "### Takeaways\n- Highest percentage of non-attacks are transgender. Second highest is female.\n- Highest percentage of attacks are male. Second highest is female.\n- Males are almost equally likely to be an attack or non-attack threat level.",
   "metadata": {
    "cell_id": "00020-1c15ad82-71c8-4601-ad83-3b2ad48d0cdd",
    "deepnote_cell_type": "markdown"
   }
  },
  {
   "cell_type": "code",
   "metadata": {
    "cell_id": "00021-25b5d572-bb44-4cdc-85ec-54d7263e8b0f",
    "deepnote_to_be_reexecuted": false,
    "source_hash": "119e49bb",
    "execution_start": 1622036136694,
    "execution_millis": 217,
    "deepnote_cell_type": "code"
   },
   "source": "#visualize mental illness per gender\nax = pd.crosstab(train.gender, train.mental_illness, normalize ='index').plot.barh(figsize=(8, 6), cmap=plt.cm.get_cmap('Blues'), ec=\"black\")\n\n#customize legend\nlegend_labels, _= ax.get_legend_handles_labels()\nax.legend(legend_labels, ['Drug / Alcohol Use', 'No', 'Unknown', 'Yes'], \n          bbox_to_anchor=(1,1), \n          title='Mental Illness')\n\n#customize chart\nplt.title(\"How Does Mental Illness Affect Each Gender?\", fontsize = 15)\nplt.ylabel(\"Gender\", fontsize = 12)\nplt.xlabel('Percentage', fontsize = 12)\nax.tick_params(labelsize=10)\nplt.xlim([0.0, 1.0])\nplt.show()\n\n#get percentages df\npercentages = pd.crosstab(train.gender, train.mental_illness, normalize = 'index')\npercentages",
   "execution_count": 13,
   "outputs": [
    {
     "data": {
      "text/plain": "<Figure size 576x432 with 1 Axes>",
      "image/png": "[encoded data removed]"
     },
     "metadata": {
      "needs_background": "light",
      "image/png": {
       "width": 553,
       "height": 392
      }
     },
     "output_type": "display_data"
    },
    {
     "output_type": "execute_result",
     "execution_count": 13,
     "data": {
      "application/vnd.deepnote.dataframe.v2+json": {
       "row_count": 3,
       "column_count": 4,
       "columns": [
        {
         "name": "drug or alcohol use",
         "dtype": "float64",
         "stats": {
          "unique_count": 3,
          "nan_count": 0,
          "min": "0.0",
          "max": "0.03827751196172249",
          "histogram": [
           {
            "bin_start": 0,
            "bin_end": 0.0038277511961722485,
            "count": 1
           },
           {
            "bin_start": 0.0038277511961722485,
            "bin_end": 0.007655502392344497,
            "count": 0
           },
           {
            "bin_start": 0.007655502392344497,
            "bin_end": 0.011483253588516745,
            "count": 0
           },
           {
            "bin_start": 0.011483253588516745,
            "bin_end": 0.015311004784688994,
            "count": 0
           },
           {
            "bin_start": 0.015311004784688994,
            "bin_end": 0.019138755980861243,
            "count": 1
           },
           {
            "bin_start": 0.019138755980861243,
            "bin_end": 0.02296650717703349,
            "count": 0
           },
           {
            "bin_start": 0.02296650717703349,
            "bin_end": 0.02679425837320574,
            "count": 0
           },
           {
            "bin_start": 0.02679425837320574,
            "bin_end": 0.030622009569377988,
            "count": 0
           },
           {
            "bin_start": 0.030622009569377988,
            "bin_end": 0.03444976076555024,
            "count": 0
           },
           {
            "bin_start": 0.03444976076555024,
            "bin_end": 0.03827751196172249,
            "count": 1
           }
          ]
         }
        },
        {
         "name": "no",
         "dtype": "float64",
         "stats": {
          "unique_count": 3,
          "nan_count": 0,
          "min": "0.5",
          "max": "0.6500652457590257",
          "histogram": [
           {
            "bin_start": 0.5,
            "bin_end": 0.5150065245759026,
            "count": 2
           },
           {
            "bin_start": 0.5150065245759026,
            "bin_end": 0.5300130491518051,
            "count": 0
           },
           {
            "bin_start": 0.5300130491518051,
            "bin_end": 0.5450195737277077,
            "count": 0
           },
           {
            "bin_start": 0.5450195737277077,
            "bin_end": 0.5600260983036103,
            "count": 0
           },
           {
            "bin_start": 0.5600260983036103,
            "bin_end": 0.5750326228795128,
            "count": 0
           },
           {
            "bin_start": 0.5750326228795128,
            "bin_end": 0.5900391474554154,
            "count": 0
           },
           {
            "bin_start": 0.5900391474554154,
            "bin_end": 0.605045672031318,
            "count": 0
           },
           {
            "bin_start": 0.605045672031318,
            "bin_end": 0.6200521966072206,
            "count": 0
           },
           {
            "bin_start": 0.6200521966072206,
            "bin_end": 0.6350587211831231,
            "count": 0
           },
           {
            "bin_start": 0.6350587211831231,
            "bin_end": 0.6500652457590257,
            "count": 1
           }
          ]
         }
        },
        {
         "name": "unknown",
         "dtype": "float64",
         "stats": {
          "unique_count": 3,
          "nan_count": 0,
          "min": "0.1250543714658547",
          "max": "0.16666666666666666",
          "histogram": [
           {
            "bin_start": 0.1250543714658547,
            "bin_end": 0.1292156009859359,
            "count": 1
           },
           {
            "bin_start": 0.1292156009859359,
            "bin_end": 0.1333768305060171,
            "count": 0
           },
           {
            "bin_start": 0.1333768305060171,
            "bin_end": 0.1375380600260983,
            "count": 0
           },
           {
            "bin_start": 0.1375380600260983,
            "bin_end": 0.1416992895461795,
            "count": 0
           },
           {
            "bin_start": 0.1416992895461795,
            "bin_end": 0.14586051906626069,
            "count": 0
           },
           {
            "bin_start": 0.14586051906626069,
            "bin_end": 0.15002174858634187,
            "count": 0
           },
           {
            "bin_start": 0.15002174858634187,
            "bin_end": 0.15418297810642306,
            "count": 0
           },
           {
            "bin_start": 0.15418297810642306,
            "bin_end": 0.15834420762650425,
            "count": 0
           },
           {
            "bin_start": 0.15834420762650425,
            "bin_end": 0.16250543714658547,
            "count": 0
           },
           {
            "bin_start": 0.16250543714658547,
            "bin_end": 0.16666666666666666,
            "count": 2
           }
          ]
         }
        },
        {
         "name": "yes",
         "dtype": "float64",
         "stats": {
          "unique_count": 3,
          "nan_count": 0,
          "min": "0.18660287081339713",
          "max": "0.3333333333333333",
          "histogram": [
           {
            "bin_start": 0.18660287081339713,
            "bin_end": 0.20127591706539075,
            "count": 1
           },
           {
            "bin_start": 0.20127591706539075,
            "bin_end": 0.21594896331738436,
            "count": 0
           },
           {
            "bin_start": 0.21594896331738436,
            "bin_end": 0.230622009569378,
            "count": 0
           },
           {
            "bin_start": 0.230622009569378,
            "bin_end": 0.24529505582137162,
            "count": 0
           },
           {
            "bin_start": 0.24529505582137162,
            "bin_end": 0.25996810207336524,
            "count": 0
           },
           {
            "bin_start": 0.25996810207336524,
            "bin_end": 0.27464114832535885,
            "count": 0
           },
           {
            "bin_start": 0.27464114832535885,
            "bin_end": 0.28931419457735247,
            "count": 0
           },
           {
            "bin_start": 0.28931419457735247,
            "bin_end": 0.3039872408293461,
            "count": 0
           },
           {
            "bin_start": 0.3039872408293461,
            "bin_end": 0.3186602870813397,
            "count": 1
           },
           {
            "bin_start": 0.3186602870813397,
            "bin_end": 0.3333333333333333,
            "count": 1
           }
          ]
         }
        },
        {
         "name": "_deepnote_index_column",
         "dtype": "object"
        }
       ],
       "rows_top": [
        {
         "drug or alcohol use": 0.017391304347826087,
         "no": 0.5130434782608696,
         "unknown": 0.16521739130434782,
         "yes": 0.30434782608695654,
         "_deepnote_index_column": "female"
        },
        {
         "drug or alcohol use": 0.03827751196172249,
         "no": 0.6500652457590257,
         "unknown": 0.1250543714658547,
         "yes": 0.18660287081339713,
         "_deepnote_index_column": "male"
        },
        {
         "drug or alcohol use": 0,
         "no": 0.5,
         "unknown": 0.16666666666666666,
         "yes": 0.3333333333333333,
         "_deepnote_index_column": "transgender"
        }
       ],
       "rows_bottom": null
      },
      "text/plain": "mental_illness  drug or alcohol use        no   unknown       yes\ngender                                                           \nfemale                     0.017391  0.513043  0.165217  0.304348\nmale                       0.038278  0.650065  0.125054  0.186603\ntransgender                0.000000  0.500000  0.166667  0.333333",
      "text/html": "<div>\n<style scoped>\n    .dataframe tbody tr th:only-of-type {\n        vertical-align: middle;\n    }\n\n    .dataframe tbody tr th {\n        vertical-align: top;\n    }\n\n    .dataframe thead th {\n        text-align: right;\n    }\n</style>\n<table border=\"1\" class=\"dataframe\">\n  <thead>\n    <tr style=\"text-align: right;\">\n      <th>mental_illness</th>\n      <th>drug or alcohol use</th>\n      <th>no</th>\n      <th>unknown</th>\n      <th>yes</th>\n    </tr>\n    <tr>\n      <th>gender</th>\n      <th></th>\n      <th></th>\n      <th></th>\n      <th></th>\n    </tr>\n  </thead>\n  <tbody>\n    <tr>\n      <th>female</th>\n      <td>0.017391</td>\n      <td>0.513043</td>\n      <td>0.165217</td>\n      <td>0.304348</td>\n    </tr>\n    <tr>\n      <th>male</th>\n      <td>0.038278</td>\n      <td>0.650065</td>\n      <td>0.125054</td>\n      <td>0.186603</td>\n    </tr>\n    <tr>\n      <th>transgender</th>\n      <td>0.000000</td>\n      <td>0.500000</td>\n      <td>0.166667</td>\n      <td>0.333333</td>\n    </tr>\n  </tbody>\n</table>\n</div>"
     },
     "metadata": {}
    }
   ]
  },
  {
   "cell_type": "markdown",
   "source": "### Takeaways\n- Males are most often categorized as not having a mental illness, however, they have a high threat level (according to previous visual). \n- All genders have higher percentages of no mental illness. Could this be related to limited mental health awareness/support across the country?\n- Males have the highest percentage of drug / alchohol use instances.\n- Unknown mental status is almost equal across genders.",
   "metadata": {
    "cell_id": "00022-d53840db-2450-4ff6-9532-f2f7e4701dc6",
    "deepnote_cell_type": "markdown"
   }
  },
  {
   "cell_type": "code",
   "metadata": {
    "deepnote_to_be_reexecuted": false,
    "execution_millis": 321,
    "execution_start": 1622036136915,
    "source_hash": "2df2b67",
    "tags": [],
    "cell_id": "00023-16b478ae-5e90-46ab-b20a-079ac47a1297",
    "deepnote_cell_type": "code"
   },
   "source": "#visualize mental illness vs threat level\nax = pd.crosstab(train.mental_illness, train.alleged_threat_lvl, normalize ='index').plot.bar(figsize=(8, 6), cmap=plt.cm.get_cmap('Blues'), ec=\"black\")\n\n#customize legend\nlegend_labels, _= ax.get_legend_handles_labels()\nax.legend(legend_labels, ['Non-Attack', 'Attack'], \n          bbox_to_anchor=(1,1), \n          title='Threat Level')\n\n#customize chart\nplt.title(\"Does Mental Illness Play a Role in Threat Level?\", fontsize = 15)\nplt.ylabel(\"Percentage\", fontsize = 12)\nplt.xlabel('Mental Illness', fontsize = 12)\nax.tick_params(labelsize=10)\nplt.ylim([0.0, 1.0])\nplt.xticks(rotation=0)\nplt.show()\n\n#get percentages df\npercentages = pd.crosstab(train.mental_illness, train.alleged_threat_lvl, normalize = 'index')\npercentages",
   "execution_count": 14,
   "outputs": [
    {
     "data": {
      "text/plain": "<Figure size 576x432 with 1 Axes>",
      "image/png": "[encoded data removed]"
     },
     "metadata": {
      "needs_background": "light",
      "image/png": {
       "width": 500,
       "height": 392
      }
     },
     "output_type": "display_data"
    },
    {
     "output_type": "execute_result",
     "execution_count": 14,
     "data": {
      "application/vnd.deepnote.dataframe.v2+json": {
       "row_count": 4,
       "column_count": 2,
       "columns": [
        {
         "name": 0,
         "dtype": "float64",
         "stats": {
          "unique_count": 4,
          "nan_count": 0,
          "min": "0.4827956989247312",
          "max": "0.6333333333333333",
          "histogram": [
           {
            "bin_start": 0.4827956989247312,
            "bin_end": 0.4978494623655914,
            "count": 2
           },
           {
            "bin_start": 0.4978494623655914,
            "bin_end": 0.5129032258064516,
            "count": 0
           },
           {
            "bin_start": 0.5129032258064516,
            "bin_end": 0.5279569892473118,
            "count": 0
           },
           {
            "bin_start": 0.5279569892473118,
            "bin_end": 0.543010752688172,
            "count": 0
           },
           {
            "bin_start": 0.543010752688172,
            "bin_end": 0.5580645161290323,
            "count": 0
           },
           {
            "bin_start": 0.5580645161290323,
            "bin_end": 0.5731182795698925,
            "count": 0
           },
           {
            "bin_start": 0.5731182795698925,
            "bin_end": 0.5881720430107527,
            "count": 0
           },
           {
            "bin_start": 0.5881720430107527,
            "bin_end": 0.6032258064516128,
            "count": 0
           },
           {
            "bin_start": 0.6032258064516128,
            "bin_end": 0.6182795698924731,
            "count": 0
           },
           {
            "bin_start": 0.6182795698924731,
            "bin_end": 0.6333333333333333,
            "count": 2
           }
          ]
         }
        },
        {
         "name": 1,
         "dtype": "float64",
         "stats": {
          "unique_count": 4,
          "nan_count": 0,
          "min": "0.36666666666666664",
          "max": "0.5172043010752688",
          "histogram": [
           {
            "bin_start": 0.36666666666666664,
            "bin_end": 0.3817204301075269,
            "count": 2
           },
           {
            "bin_start": 0.3817204301075269,
            "bin_end": 0.39677419354838706,
            "count": 0
           },
           {
            "bin_start": 0.39677419354838706,
            "bin_end": 0.4118279569892473,
            "count": 0
           },
           {
            "bin_start": 0.4118279569892473,
            "bin_end": 0.4268817204301075,
            "count": 0
           },
           {
            "bin_start": 0.4268817204301075,
            "bin_end": 0.4419354838709677,
            "count": 0
           },
           {
            "bin_start": 0.4419354838709677,
            "bin_end": 0.45698924731182794,
            "count": 0
           },
           {
            "bin_start": 0.45698924731182794,
            "bin_end": 0.4720430107526882,
            "count": 0
           },
           {
            "bin_start": 0.4720430107526882,
            "bin_end": 0.48709677419354835,
            "count": 0
           },
           {
            "bin_start": 0.48709677419354835,
            "bin_end": 0.5021505376344086,
            "count": 0
           },
           {
            "bin_start": 0.5021505376344086,
            "bin_end": 0.5172043010752688,
            "count": 2
           }
          ]
         }
        },
        {
         "name": "_deepnote_index_column",
         "dtype": "object"
        }
       ],
       "rows_top": [
        {
         "0.0": 0.6333333333333333,
         "1.0": 0.36666666666666664,
         "_deepnote_index_column": "drug or alcohol use"
        },
        {
         "0.0": 0.4868167202572347,
         "1.0": 0.5131832797427652,
         "_deepnote_index_column": "no"
        },
        {
         "0.0": 0.6221498371335505,
         "1.0": 0.3778501628664495,
         "_deepnote_index_column": "unknown"
        },
        {
         "0.0": 0.4827956989247312,
         "1.0": 0.5172043010752688,
         "_deepnote_index_column": "yes"
        }
       ],
       "rows_bottom": null
      },
      "text/plain": "alleged_threat_lvl        0.0       1.0\nmental_illness                         \ndrug or alcohol use  0.633333  0.366667\nno                   0.486817  0.513183\nunknown              0.622150  0.377850\nyes                  0.482796  0.517204",
      "text/html": "<div>\n<style scoped>\n    .dataframe tbody tr th:only-of-type {\n        vertical-align: middle;\n    }\n\n    .dataframe tbody tr th {\n        vertical-align: top;\n    }\n\n    .dataframe thead th {\n        text-align: right;\n    }\n</style>\n<table border=\"1\" class=\"dataframe\">\n  <thead>\n    <tr style=\"text-align: right;\">\n      <th>alleged_threat_lvl</th>\n      <th>0.0</th>\n      <th>1.0</th>\n    </tr>\n    <tr>\n      <th>mental_illness</th>\n      <th></th>\n      <th></th>\n    </tr>\n  </thead>\n  <tbody>\n    <tr>\n      <th>drug or alcohol use</th>\n      <td>0.633333</td>\n      <td>0.366667</td>\n    </tr>\n    <tr>\n      <th>no</th>\n      <td>0.486817</td>\n      <td>0.513183</td>\n    </tr>\n    <tr>\n      <th>unknown</th>\n      <td>0.622150</td>\n      <td>0.377850</td>\n    </tr>\n    <tr>\n      <th>yes</th>\n      <td>0.482796</td>\n      <td>0.517204</td>\n    </tr>\n  </tbody>\n</table>\n</div>"
     },
     "metadata": {}
    }
   ]
  },
  {
   "cell_type": "markdown",
   "source": "### Takeaways\n- People with no mental illness have been characterized as having an 'attack' threat level more often than not being attackers, but not by much. \n- Same for people with mental illness (more likely to be attacks than non-attacks, but not by much).\n- Highest percentage of non-attacks are people under the influence of drugs/alcohol or people with unknown mental status. ",
   "metadata": {
    "tags": [],
    "cell_id": "00024-045788c7-b8ec-44c7-b56c-8e7b41d61619",
    "deepnote_cell_type": "markdown"
   }
  },
  {
   "cell_type": "code",
   "metadata": {
    "deepnote_to_be_reexecuted": false,
    "execution_millis": 1,
    "execution_start": 1622036137228,
    "source_hash": "662f7a6",
    "tags": [],
    "cell_id": "00025-0559b91b-ccbd-4577-8930-01476d8a7415",
    "deepnote_cell_type": "code"
   },
   "source": "#ax = sns.countplot(data=train, x='mental_illness', hue='alleged_threat_lvl', palette = 'ocean_r')\n#ax = pd.crosstab(train.mental_illness, train.alleged_threat_lvl, normalize ='index').plot(kind = 'bar', figsize=(15, 10), cmap=plt.cm.get_cmap('ocean_r'), ec=\"black\")\n\n#x, y, hue = \"mental_illness\", \"percent\", \"alleged_threat_lvl\"\n#hue_order = [\"Non-Attack\", \"Attack\"]\n\n#ax = (train[x]\n# .groupby(train[hue])\n# .value_counts(normalize='index')\n# .rename(y)\n# .reset_index()\n# .pipe((sns.barplot, \"data\"), x=x, y=y, hue=hue, palette = \"ocean_r\"))\n\n\n#customize legend\n#legend_labels, _= ax.get_legend_handles_labels()\n#ax.legend(legend_labels, ['Non-Attack','Attack'], \n#          bbox_to_anchor=(1,1), \n#          title='Threat Level')\n\n#customize chart\n#plt.title('Does Mental Illness Play a Role in Threat Level?')\n#plt.xlabel('Mental Illness')\n#plt.ylabel('Percentage')\n#plt.ylim([0.0, 1.0])\n#plt.show()\n\n#get percentages df\n#percentages = pd.crosstab(train.mental_illness, train.alleged_threat_lvl, normalize = 'index')\n#percentages.plot.bar(cmap='Blues', ec='black', )\n#percentages",
   "execution_count": 15,
   "outputs": []
  },
  {
   "cell_type": "code",
   "metadata": {
    "deepnote_to_be_reexecuted": false,
    "execution_millis": 249,
    "execution_start": 1622036137230,
    "source_hash": "867bdf02",
    "tags": [],
    "cell_id": "00026-e1426399-8f5c-46c7-b4fa-955c136ed84c",
    "deepnote_cell_type": "code"
   },
   "source": "#visualize race vs alleged threat level\nax = pd.crosstab(train.race, train.alleged_threat_lvl, normalize ='index').plot.barh(figsize=(8, 6), cmap=plt.cm.get_cmap('Blues'), ec=\"black\")\n\n#customize legend\nlegend_labels, _= ax.get_legend_handles_labels()\nax.legend(legend_labels, ['Non-Attack', 'Attack'], \n          bbox_to_anchor=(1,1), \n          title='Threat Level')\n\n#customize chart\nplt.title(\"Is Race a Factor in Threat Level?\", fontsize = 15)\nplt.ylabel(\"Race\", fontsize = 12)\nplt.xlabel('Percentage', fontsize = 12)\nax.tick_params(labelsize=10)\nplt.xlim([0.0, 1.0])\nplt.show()\n\n#get percentages df\npercentages = pd.crosstab(train.race, train.alleged_threat_lvl, normalize = 'index')\npercentages",
   "execution_count": 16,
   "outputs": [
    {
     "data": {
      "text/plain": "<Figure size 576x432 with 1 Axes>",
      "image/png": "[encoded data removed]"
     },
     "metadata": {
      "needs_background": "light",
      "image/png": {
       "width": 598,
       "height": 392
      }
     },
     "output_type": "display_data"
    },
    {
     "output_type": "execute_result",
     "execution_count": 16,
     "data": {
      "application/vnd.deepnote.dataframe.v2+json": {
       "row_count": 6,
       "column_count": 2,
       "columns": [
        {
         "name": 0,
         "dtype": "float64",
         "stats": {
          "unique_count": 6,
          "nan_count": 0,
          "min": "0.48964853153586907",
          "max": "0.5970149253731343",
          "histogram": [
           {
            "bin_start": 0.48964853153586907,
            "bin_end": 0.5003851709195956,
            "count": 2
           },
           {
            "bin_start": 0.5003851709195956,
            "bin_end": 0.5111218103033222,
            "count": 1
           },
           {
            "bin_start": 0.5111218103033222,
            "bin_end": 0.5218584496870486,
            "count": 0
           },
           {
            "bin_start": 0.5218584496870486,
            "bin_end": 0.5325950890707751,
            "count": 1
           },
           {
            "bin_start": 0.5325950890707751,
            "bin_end": 0.5433317284545016,
            "count": 0
           },
           {
            "bin_start": 0.5433317284545016,
            "bin_end": 0.5540683678382282,
            "count": 1
           },
           {
            "bin_start": 0.5540683678382282,
            "bin_end": 0.5648050072219547,
            "count": 0
           },
           {
            "bin_start": 0.5648050072219547,
            "bin_end": 0.5755416466056812,
            "count": 0
           },
           {
            "bin_start": 0.5755416466056812,
            "bin_end": 0.5862782859894078,
            "count": 0
           },
           {
            "bin_start": 0.5862782859894078,
            "bin_end": 0.5970149253731343,
            "count": 1
           }
          ]
         }
        },
        {
         "name": 1,
         "dtype": "float64",
         "stats": {
          "unique_count": 6,
          "nan_count": 0,
          "min": "0.40298507462686567",
          "max": "0.5103514684641309",
          "histogram": [
           {
            "bin_start": 0.40298507462686567,
            "bin_end": 0.4137217140105922,
            "count": 1
           },
           {
            "bin_start": 0.4137217140105922,
            "bin_end": 0.4244583533943187,
            "count": 0
           },
           {
            "bin_start": 0.4244583533943187,
            "bin_end": 0.43519499277804524,
            "count": 0
           },
           {
            "bin_start": 0.43519499277804524,
            "bin_end": 0.4459316321617718,
            "count": 0
           },
           {
            "bin_start": 0.4459316321617718,
            "bin_end": 0.45666827154549827,
            "count": 1
           },
           {
            "bin_start": 0.45666827154549827,
            "bin_end": 0.4674049109292248,
            "count": 0
           },
           {
            "bin_start": 0.4674049109292248,
            "bin_end": 0.47814155031295136,
            "count": 1
           },
           {
            "bin_start": 0.47814155031295136,
            "bin_end": 0.48887818969667785,
            "count": 0
           },
           {
            "bin_start": 0.48887818969667785,
            "bin_end": 0.4996148290804044,
            "count": 1
           },
           {
            "bin_start": 0.4996148290804044,
            "bin_end": 0.5103514684641309,
            "count": 2
           }
          ]
         }
        },
        {
         "name": "_deepnote_index_column",
         "dtype": "object"
        }
       ],
       "rows_top": [
        {
         "0.0": 0.494949494949495,
         "1.0": 0.5050505050505051,
         "_deepnote_index_column": "asian/pacific islander"
        },
        {
         "0.0": 0.5024469820554649,
         "1.0": 0.49755301794453505,
         "_deepnote_index_column": "black"
        },
        {
         "0.0": 0.5466816647919011,
         "1.0": 0.453318335208099,
         "_deepnote_index_column": "hispanic"
        },
        {
         "0.0": 0.5970149253731343,
         "1.0": 0.40298507462686567,
         "_deepnote_index_column": "native american"
        },
        {
         "0.0": 0.5273109243697479,
         "1.0": 0.4726890756302521,
         "_deepnote_index_column": "unknown race"
        },
        {
         "0.0": 0.48964853153586907,
         "1.0": 0.5103514684641309,
         "_deepnote_index_column": "white"
        }
       ],
       "rows_bottom": null
      },
      "text/plain": "alleged_threat_lvl           0.0       1.0\nrace                                      \nasian/pacific islander  0.494949  0.505051\nblack                   0.502447  0.497553\nhispanic                0.546682  0.453318\nnative american         0.597015  0.402985\nunknown race            0.527311  0.472689\nwhite                   0.489649  0.510351",
      "text/html": "<div>\n<style scoped>\n    .dataframe tbody tr th:only-of-type {\n        vertical-align: middle;\n    }\n\n    .dataframe tbody tr th {\n        vertical-align: top;\n    }\n\n    .dataframe thead th {\n        text-align: right;\n    }\n</style>\n<table border=\"1\" class=\"dataframe\">\n  <thead>\n    <tr style=\"text-align: right;\">\n      <th>alleged_threat_lvl</th>\n      <th>0.0</th>\n      <th>1.0</th>\n    </tr>\n    <tr>\n      <th>race</th>\n      <th></th>\n      <th></th>\n    </tr>\n  </thead>\n  <tbody>\n    <tr>\n      <th>asian/pacific islander</th>\n      <td>0.494949</td>\n      <td>0.505051</td>\n    </tr>\n    <tr>\n      <th>black</th>\n      <td>0.502447</td>\n      <td>0.497553</td>\n    </tr>\n    <tr>\n      <th>hispanic</th>\n      <td>0.546682</td>\n      <td>0.453318</td>\n    </tr>\n    <tr>\n      <th>native american</th>\n      <td>0.597015</td>\n      <td>0.402985</td>\n    </tr>\n    <tr>\n      <th>unknown race</th>\n      <td>0.527311</td>\n      <td>0.472689</td>\n    </tr>\n    <tr>\n      <th>white</th>\n      <td>0.489649</td>\n      <td>0.510351</td>\n    </tr>\n  </tbody>\n</table>\n</div>"
     },
     "metadata": {}
    }
   ]
  },
  {
   "cell_type": "markdown",
   "source": "### Takeaways\n- The highest occurrence of non-attacks are seen in Native Americans. Second highest is Hispanics.\n- The highest occurrence of attacks are seen in White races. Second highest appears to be Asians/Pacific Islanders. \n- Black races are almost equally likely to result in attack/non-attack threat levels.\n- There is a lot of unknown races in the data. Why?",
   "metadata": {
    "tags": [],
    "cell_id": "00027-0477dca9-7e11-455b-82ef-99b56a2056f1",
    "deepnote_cell_type": "markdown"
   }
  },
  {
   "cell_type": "code",
   "metadata": {
    "cell_id": "00028-73357076-40ef-4457-ba7c-9bd933878212",
    "deepnote_to_be_reexecuted": false,
    "source_hash": "704749a3",
    "execution_start": 1622036137483,
    "execution_millis": 214,
    "deepnote_cell_type": "code"
   },
   "source": "#visualize body camera vs alleged threat level\nax = pd.crosstab(train.body_camera, train.alleged_threat_lvl, normalize ='index').plot.bar(figsize=(8, 6), cmap=plt.cm.get_cmap('Blues'), ec=\"black\")\n\n#customize legend\nlegend_labels, _= ax.get_legend_handles_labels()\nax.legend(legend_labels, ['Non-Attack', 'Attack'], \n          bbox_to_anchor=(1,1), \n          title='Threat Level')\n\n#customize chart\nplt.title(\"Does Bodycam Make a Difference in Alleged Threat Level?\", fontsize = 15)\nplt.ylabel(\"Percentage\", fontsize = 12)\nplt.xlabel('Body Camera', fontsize = 12)\nax.tick_params(labelsize=10)\nx_labels = ['Off', 'On']\nax.set_xticklabels(x_labels)\n\nplt.ylim([0.0, 1.0])\nplt.show()\n\n#get percentages df\npercentages = pd.crosstab(train.body_camera, train.alleged_threat_lvl, normalize = 'index')\npercentages",
   "execution_count": 17,
   "outputs": [
    {
     "data": {
      "text/plain": "<Figure size 576x432 with 1 Axes>",
      "image/png": "[encoded data removed]"
     },
     "metadata": {
      "needs_background": "light",
      "image/png": {
       "width": 500,
       "height": 397
      }
     },
     "output_type": "display_data"
    },
    {
     "output_type": "execute_result",
     "execution_count": 17,
     "data": {
      "application/vnd.deepnote.dataframe.v2+json": {
       "row_count": 2,
       "column_count": 2,
       "columns": [
        {
         "name": 0,
         "dtype": "float64",
         "stats": {
          "unique_count": 2,
          "nan_count": 0,
          "min": "0.4057142857142857",
          "max": "0.5167261373773416",
          "histogram": [
           {
            "bin_start": 0.4057142857142857,
            "bin_end": 0.4168154708805913,
            "count": 1
           },
           {
            "bin_start": 0.4168154708805913,
            "bin_end": 0.4279166560468969,
            "count": 0
           },
           {
            "bin_start": 0.4279166560468969,
            "bin_end": 0.4390178412132025,
            "count": 0
           },
           {
            "bin_start": 0.4390178412132025,
            "bin_end": 0.45011902637950807,
            "count": 0
           },
           {
            "bin_start": 0.45011902637950807,
            "bin_end": 0.46122021154581366,
            "count": 0
           },
           {
            "bin_start": 0.46122021154581366,
            "bin_end": 0.47232139671211926,
            "count": 0
           },
           {
            "bin_start": 0.47232139671211926,
            "bin_end": 0.48342258187842485,
            "count": 0
           },
           {
            "bin_start": 0.48342258187842485,
            "bin_end": 0.49452376704473044,
            "count": 0
           },
           {
            "bin_start": 0.49452376704473044,
            "bin_end": 0.5056249522110361,
            "count": 0
           },
           {
            "bin_start": 0.5056249522110361,
            "bin_end": 0.5167261373773416,
            "count": 1
           }
          ]
         }
        },
        {
         "name": 1,
         "dtype": "float64",
         "stats": {
          "unique_count": 2,
          "nan_count": 0,
          "min": "0.48327386262265837",
          "max": "0.5942857142857143",
          "histogram": [
           {
            "bin_start": 0.48327386262265837,
            "bin_end": 0.49437504778896396,
            "count": 1
           },
           {
            "bin_start": 0.49437504778896396,
            "bin_end": 0.5054762329552696,
            "count": 0
           },
           {
            "bin_start": 0.5054762329552696,
            "bin_end": 0.5165774181215752,
            "count": 0
           },
           {
            "bin_start": 0.5165774181215752,
            "bin_end": 0.5276786032878807,
            "count": 0
           },
           {
            "bin_start": 0.5276786032878807,
            "bin_end": 0.5387797884541863,
            "count": 0
           },
           {
            "bin_start": 0.5387797884541863,
            "bin_end": 0.5498809736204919,
            "count": 0
           },
           {
            "bin_start": 0.5498809736204919,
            "bin_end": 0.5609821587867976,
            "count": 0
           },
           {
            "bin_start": 0.5609821587867976,
            "bin_end": 0.5720833439531031,
            "count": 0
           },
           {
            "bin_start": 0.5720833439531031,
            "bin_end": 0.5831845291194087,
            "count": 0
           },
           {
            "bin_start": 0.5831845291194087,
            "bin_end": 0.5942857142857143,
            "count": 1
           }
          ]
         }
        },
        {
         "name": "_deepnote_index_column",
         "dtype": "float64"
        }
       ],
       "rows_top": [
        {
         "0.0": 0.5167261373773416,
         "1.0": 0.48327386262265837,
         "_deepnote_index_column": 0
        },
        {
         "0.0": 0.4057142857142857,
         "1.0": 0.5942857142857143,
         "_deepnote_index_column": 1
        }
       ],
       "rows_bottom": null
      },
      "text/plain": "alleged_threat_lvl       0.0       1.0\nbody_camera                           \n0.0                 0.516726  0.483274\n1.0                 0.405714  0.594286",
      "text/html": "<div>\n<style scoped>\n    .dataframe tbody tr th:only-of-type {\n        vertical-align: middle;\n    }\n\n    .dataframe tbody tr th {\n        vertical-align: top;\n    }\n\n    .dataframe thead th {\n        text-align: right;\n    }\n</style>\n<table border=\"1\" class=\"dataframe\">\n  <thead>\n    <tr style=\"text-align: right;\">\n      <th>alleged_threat_lvl</th>\n      <th>0.0</th>\n      <th>1.0</th>\n    </tr>\n    <tr>\n      <th>body_camera</th>\n      <th></th>\n      <th></th>\n    </tr>\n  </thead>\n  <tbody>\n    <tr>\n      <th>0.0</th>\n      <td>0.516726</td>\n      <td>0.483274</td>\n    </tr>\n    <tr>\n      <th>1.0</th>\n      <td>0.405714</td>\n      <td>0.594286</td>\n    </tr>\n  </tbody>\n</table>\n</div>"
     },
     "metadata": {}
    }
   ]
  },
  {
   "cell_type": "markdown",
   "source": "### Takeaways\n- When bodycam is off, there seems to be more non-attacks than attacks. Why is there non-attack threat levels resulting in these fatalities?\n- When bodycam is on, there is a higher chance of an attack than a non-attack.",
   "metadata": {
    "cell_id": "00029-6695d918-b31a-48ee-9d7a-9dcd534a4e4a",
    "deepnote_cell_type": "markdown"
   }
  },
  {
   "cell_type": "code",
   "source": "#visualize what areas in geography are resulting in more killings?\nsns.countplot(data=df, x='geography', palette='Blues')\nplt.title(\"Fatal Incidents are Occurring in Our Backyards\")\nplt.ylabel('Number of Fatalities')\nplt.show()",
   "metadata": {
    "tags": [],
    "cell_id": "00030-ab00bde3-4654-405a-b6de-acdac7d3f835",
    "deepnote_to_be_reexecuted": false,
    "source_hash": "6ccbc52",
    "execution_start": 1622036137726,
    "execution_millis": 113,
    "deepnote_cell_type": "code"
   },
   "outputs": [
    {
     "data": {
      "text/plain": "<Figure size 432x288 with 1 Axes>",
      "image/png": "[encoded data removed]"
     },
     "metadata": {
      "needs_background": "light",
      "image/png": {
       "width": 395,
       "height": 278
      }
     },
     "output_type": "display_data"
    }
   ],
   "execution_count": 18
  },
  {
   "cell_type": "markdown",
   "source": "### Takeaways\n- Suburban neighborhoods have the highest number of fatalities. \n- Rural areas have the least amount of fatal incidents. ",
   "metadata": {
    "tags": [],
    "cell_id": "00031-c26442f7-3fd3-430e-89cc-f5a77d2cef8e",
    "deepnote_cell_type": "markdown"
   }
  },
  {
   "cell_type": "code",
   "source": "#visualize geography vs alleged threat level\nax = pd.crosstab(train.geography, train.alleged_threat_lvl, normalize ='index').plot.bar(figsize=(8, 6), cmap=plt.cm.get_cmap('Blues'), ec=\"black\")\n\n#customize legend\nlegend_labels, _= ax.get_legend_handles_labels()\nax.legend(legend_labels, ['Non-Attack', 'Attack'], \n          bbox_to_anchor=(1,1), \n          title='Threat Level')\n\n#customize chart\nplt.title(\"Does Geography Make a Difference in Alleged Threat Level?\", fontsize = 15)\nplt.ylabel(\"Percentage\", fontsize = 12)\nplt.xlabel('Geography', fontsize = 12)\nax.tick_params(labelsize=10)\n#x_labels = ['Off', 'On']\n#ax.set_xticklabels(x_labels)\n\nplt.ylim([0.0, 1.0])\nplt.show()\n\n#get percentages df\npercentages = pd.crosstab(train.geography, train.alleged_threat_lvl, normalize = 'index')\npercentages",
   "metadata": {
    "tags": [],
    "cell_id": "00032-68d92535-758e-435d-9c06-e07cec33b084",
    "deepnote_to_be_reexecuted": false,
    "source_hash": "b6f024c0",
    "execution_start": 1622036137886,
    "execution_millis": 177,
    "deepnote_cell_type": "code"
   },
   "outputs": [
    {
     "data": {
      "text/plain": "<Figure size 576x432 with 1 Axes>",
      "image/png": "[encoded data removed]"
     },
     "metadata": {
      "needs_background": "light",
      "image/png": {
       "width": 504,
       "height": 429
      }
     },
     "output_type": "display_data"
    },
    {
     "output_type": "execute_result",
     "execution_count": 19,
     "data": {
      "application/vnd.deepnote.dataframe.v2+json": {
       "row_count": 3,
       "column_count": 2,
       "columns": [
        {
         "name": 0,
         "dtype": "float64",
         "stats": {
          "unique_count": 3,
          "nan_count": 0,
          "min": "0.4709193245778612",
          "max": "0.5374149659863946",
          "histogram": [
           {
            "bin_start": 0.4709193245778612,
            "bin_end": 0.4775688887187145,
            "count": 1
           },
           {
            "bin_start": 0.4775688887187145,
            "bin_end": 0.4842184528595679,
            "count": 0
           },
           {
            "bin_start": 0.4842184528595679,
            "bin_end": 0.4908680170004212,
            "count": 0
           },
           {
            "bin_start": 0.4908680170004212,
            "bin_end": 0.49751758114127453,
            "count": 0
           },
           {
            "bin_start": 0.49751758114127453,
            "bin_end": 0.5041671452821279,
            "count": 0
           },
           {
            "bin_start": 0.5041671452821279,
            "bin_end": 0.5108167094229812,
            "count": 1
           },
           {
            "bin_start": 0.5108167094229812,
            "bin_end": 0.5174662735638346,
            "count": 0
           },
           {
            "bin_start": 0.5174662735638346,
            "bin_end": 0.524115837704688,
            "count": 0
           },
           {
            "bin_start": 0.524115837704688,
            "bin_end": 0.5307654018455412,
            "count": 0
           },
           {
            "bin_start": 0.5307654018455412,
            "bin_end": 0.5374149659863946,
            "count": 1
           }
          ]
         }
        },
        {
         "name": 1,
         "dtype": "float64",
         "stats": {
          "unique_count": 3,
          "nan_count": 0,
          "min": "0.46258503401360546",
          "max": "0.5290806754221389",
          "histogram": [
           {
            "bin_start": 0.46258503401360546,
            "bin_end": 0.4692345981544588,
            "count": 1
           },
           {
            "bin_start": 0.4692345981544588,
            "bin_end": 0.47588416229531216,
            "count": 0
           },
           {
            "bin_start": 0.47588416229531216,
            "bin_end": 0.4825337264361655,
            "count": 0
           },
           {
            "bin_start": 0.4825337264361655,
            "bin_end": 0.4891832905770188,
            "count": 0
           },
           {
            "bin_start": 0.4891832905770188,
            "bin_end": 0.4958328547178722,
            "count": 1
           },
           {
            "bin_start": 0.4958328547178722,
            "bin_end": 0.5024824188587255,
            "count": 0
           },
           {
            "bin_start": 0.5024824188587255,
            "bin_end": 0.5091319829995788,
            "count": 0
           },
           {
            "bin_start": 0.5091319829995788,
            "bin_end": 0.5157815471404322,
            "count": 0
           },
           {
            "bin_start": 0.5157815471404322,
            "bin_end": 0.5224311112812855,
            "count": 0
           },
           {
            "bin_start": 0.5224311112812855,
            "bin_end": 0.5290806754221389,
            "count": 1
           }
          ]
         }
        },
        {
         "name": "_deepnote_index_column",
         "dtype": "object"
        }
       ],
       "rows_top": [
        {
         "0.0": 0.4709193245778612,
         "1.0": 0.5290806754221389,
         "_deepnote_index_column": "rural"
        },
        {
         "0.0": 0.5096114519427403,
         "1.0": 0.49038854805725973,
         "_deepnote_index_column": "suburban"
        },
        {
         "0.0": 0.5374149659863946,
         "1.0": 0.46258503401360546,
         "_deepnote_index_column": "urban"
        }
       ],
       "rows_bottom": null
      },
      "text/plain": "alleged_threat_lvl       0.0       1.0\ngeography                             \nrural               0.470919  0.529081\nsuburban            0.509611  0.490389\nurban               0.537415  0.462585",
      "text/html": "<div>\n<style scoped>\n    .dataframe tbody tr th:only-of-type {\n        vertical-align: middle;\n    }\n\n    .dataframe tbody tr th {\n        vertical-align: top;\n    }\n\n    .dataframe thead th {\n        text-align: right;\n    }\n</style>\n<table border=\"1\" class=\"dataframe\">\n  <thead>\n    <tr style=\"text-align: right;\">\n      <th>alleged_threat_lvl</th>\n      <th>0.0</th>\n      <th>1.0</th>\n    </tr>\n    <tr>\n      <th>geography</th>\n      <th></th>\n      <th></th>\n    </tr>\n  </thead>\n  <tbody>\n    <tr>\n      <th>rural</th>\n      <td>0.470919</td>\n      <td>0.529081</td>\n    </tr>\n    <tr>\n      <th>suburban</th>\n      <td>0.509611</td>\n      <td>0.490389</td>\n    </tr>\n    <tr>\n      <th>urban</th>\n      <td>0.537415</td>\n      <td>0.462585</td>\n    </tr>\n  </tbody>\n</table>\n</div>"
     },
     "metadata": {}
    }
   ],
   "execution_count": 19
  },
  {
   "cell_type": "markdown",
   "source": "### Takeaways\n- Not much variation, but there is a higher percentage of attack threat level happening in rural areas.\n- Highest percentage of non-attack threat levels are happening in urban areas. \n- Suburban areas are almost equally likely to be attack/non-attacks. Slightly higher percentage for non-attacks. ",
   "metadata": {
    "tags": [],
    "cell_id": "00033-74339993-4dc2-4f17-9924-46272be94aa5",
    "deepnote_cell_type": "markdown"
   }
  },
  {
   "cell_type": "markdown",
   "source": "\n___\n\n## • Hypothesis Testing",
   "metadata": {
    "cell_id": "00030-73e1c565-704e-418d-a847-e233825c6af7",
    "deepnote_cell_type": "markdown"
   }
  },
  {
   "cell_type": "code",
   "metadata": {
    "cell_id": "00031-94160826-b709-400c-8e89-6974274a3f97",
    "deepnote_to_be_reexecuted": false,
    "source_hash": "a2898aa8",
    "execution_start": 1622036138060,
    "execution_millis": 24,
    "deepnote_cell_type": "code"
   },
   "source": "#t-test for gender vs threat level\nfemale = train[train.gender == 'female']\nmale = train[train.gender == 'male']\ntransg = train[train.gender == 'transgender']\nnot_male = train[train.gender != 'male']\n\nmale_att = male.alleged_threat_lvl\nnon_male_att = not_male.alleged_threat_lvl\n\nnull_hypothesis = \"There is not a difference between male attackers and the remaining population.\"\nalternative_hypothesis = \"Attacker status for males & total population are different.\"\nconfidence_level = .95\na = 1 - confidence_level\n\nt, p = stats.ttest_ind(male_att, non_male_att)\nprint(t, p)\n\nif p < a:\n    print(\"We reject the null hypothesis.\")\n    print(f\"We can move forward with alternative hypothesis: {alternative_hypothesis}\")\nelse:\n    print(\"We fail to reject the null hypothesis\")\n    print(f\"Not enough evidence to support the claim: {null_hypothesis}\")",
   "execution_count": 20,
   "outputs": [
    {
     "name": "stdout",
     "text": "2.2636340254396954 0.02364079475189402\nWe reject the null hypothesis.\nWe can move forward with alternative hypothesis: Attacker status for males & total population are different.\n",
     "output_type": "stream"
    }
   ]
  },
  {
   "cell_type": "code",
   "metadata": {
    "deepnote_to_be_reexecuted": false,
    "execution_millis": 22,
    "execution_start": 1622036138075,
    "source_hash": "61ecaf9b",
    "tags": [],
    "cell_id": "00032-4950794d-8dd1-435e-ad3b-c648d56f3e64",
    "deepnote_cell_type": "code"
   },
   "source": "#chi2 test for mental illness vs alleged threat level\nexp.chi2_matts(train, 'mental_illness', 'alleged_threat_lvl', alpha=0.05)",
   "execution_count": 21,
   "outputs": [
    {
     "name": "stdout",
     "text": "Observed\n\n[[ 114   66]\n [1514 1596]\n [ 382  232]\n [ 449  481]]\n---\nExpected\n\n[[  91.56392222   88.43607778]\n [1582.02110054 1527.97889946]\n [ 312.33471245  301.66528755]\n [ 473.08026479  456.91973521]]\n---\n\nchi^2 = 51.2639\np     = 0.0000\n\nBecause the p-value: 0.0 is less than alpha: 0.05, we can reject the null hypothesis\n",
     "output_type": "stream"
    }
   ]
  },
  {
   "cell_type": "code",
   "metadata": {
    "deepnote_to_be_reexecuted": false,
    "execution_millis": 50,
    "execution_start": 1622036138094,
    "source_hash": "b256267b",
    "tags": [],
    "cell_id": "00033-eeb51f25-a129-4e52-b584-c4d7542fbba7",
    "deepnote_cell_type": "code"
   },
   "source": "#chi2 test for race vs alleged threat level\nexp.chi2_matts(train, 'race', 'alleged_threat_lvl', alpha=0.05)",
   "execution_count": 22,
   "outputs": [
    {
     "name": "stdout",
     "text": "Observed\n\n[[  49   50]\n [ 616  610]\n [ 486  403]\n [  40   27]\n [ 251  225]\n [1017 1060]]\n---\nExpected\n\n[[  50.36015722   48.63984278]\n [ 623.65204799  602.34795201]\n [ 452.22403806  436.77596194]\n [  34.0821266    32.9178734 ]\n [ 242.13570542  233.86429458]\n [1056.5459247  1020.4540753 ]]\n---\n\nchi^2 = 11.1651\np     = 0.0482\n\nBecause the p-value: 0.0482 is less than alpha: 0.05, we can reject the null hypothesis\n",
     "output_type": "stream"
    }
   ]
  },
  {
   "cell_type": "code",
   "metadata": {
    "cell_id": "00034-001813b0-56b1-4ca9-bb59-4c5a17834fc0",
    "deepnote_to_be_reexecuted": false,
    "source_hash": "cecd4fd8",
    "execution_start": 1622036138124,
    "execution_millis": 20,
    "deepnote_cell_type": "code"
   },
   "source": "#chi2 test for bodycam vs alleged threat level\nexp.chi2_matts(train, 'body_camera', 'alleged_threat_lvl', alpha=0.05)",
   "execution_count": 23,
   "outputs": [
    {
     "name": "stdout",
     "text": "Observed\n\n[[2317 2167]\n [ 142  208]]\n---\nExpected\n\n[[2280.95904013 2203.04095987]\n [ 178.04095987  171.95904013]]\n---\n\nchi^2 = 15.5676\np     = 0.0001\n\nBecause the p-value: 0.0001 is less than alpha: 0.05, we can reject the null hypothesis\n",
     "output_type": "stream"
    }
   ]
  },
  {
   "cell_type": "markdown",
   "source": "### Takeaways\n- All four statistical tests rejected the null hypothesis.\n    - T-test demonstrates there is a difference between male attackers and the remaining population.\n    - 1st Chi^2 test demonstrates that mental status is dependent on alleged threat level.\n    - 2nd Chi^2 test demonstrates that race is dependent on alleged threat level.\n    - 3rd chi^2 test demonstrates that bodycam is dependent on alleged threat level.",
   "metadata": {
    "cell_id": "00035-cb9ab923-c4c1-4cf6-9e8b-5b0753e801b0",
    "deepnote_cell_type": "markdown"
   }
  },
  {
   "cell_type": "markdown",
   "source": "\n___\n# Modeling",
   "metadata": {
    "cell_id": "00036-e7de0801-f028-4f1e-b9f5-0b9623d65f22",
    "deepnote_cell_type": "markdown"
   }
  },
  {
   "cell_type": "code",
   "metadata": {
    "cell_id": "00037-da25c61e-db34-4a6f-a0ca-130c9dff7bb5",
    "deepnote_to_be_reexecuted": false,
    "source_hash": "9a2eb543",
    "execution_start": 1622036138135,
    "execution_millis": 15,
    "deepnote_cell_type": "code"
   },
   "source": "#set up X inputs and y target variable for each split\nX_train = train.drop(columns=['alleged_threat_lvl'])\ny_train = train.alleged_threat_lvl\n\nX_validate = validate.drop(columns=['alleged_threat_lvl'])\ny_validate = validate.alleged_threat_lvl\n\nX_test = test.drop(columns=['alleged_threat_lvl'])\ny_test = test.alleged_threat_lvl",
   "execution_count": 24,
   "outputs": []
  },
  {
   "cell_type": "code",
   "metadata": {
    "cell_id": "00038-3ae76ef2-d11a-48ec-ab72-57825f37784c",
    "deepnote_to_be_reexecuted": false,
    "source_hash": "1dcf78a4",
    "execution_start": 1622036138150,
    "execution_millis": 4,
    "deepnote_cell_type": "code"
   },
   "source": "# dropping columns that are not numeric datatypes\ndropcols = ['date', \n            'gender',\n            'race',\n            'city',\n            'state',\n            'zipcode',\n            'county',\n            'agency_responsible',\n            'cause_of_death',\n            'description_of_circumstances',\n            'official_disposition',\n            'criminal_charges_filed',\n            'mental_illness',\n            'armed_unarmed_status',\n            'alleged_threat_lvl',\n            'alleged_weapon',\n            'fleeing',\n            'geography',\n            'encounter_type_draft',\n            'initial_reported_reason_for_encounter_draft',\n            'known_past_shootings_of_officer_draft',\n            'age_bins']\n\nX_train = train.drop(columns=dropcols)\nX_validate = validate.drop(columns=dropcols)\nX_test = test.drop(columns=dropcols)",
   "execution_count": 25,
   "outputs": []
  },
  {
   "cell_type": "markdown",
   "source": "\n___\n## • Feature Importance",
   "metadata": {
    "cell_id": "00039-b06d9571-5dff-46ee-90f4-1e679c44793d",
    "deepnote_cell_type": "markdown"
   }
  },
  {
   "cell_type": "markdown",
   "source": "#### Select K Best\n- Uses statistical tests to determine each feature's usefulness in predicting the target variable. \n- Ranks the features and then select the K best features.",
   "metadata": {
    "cell_id": "00040-b6cfa412-8b53-4e59-91d0-b3fe21677aa2",
    "deepnote_cell_type": "markdown"
   }
  },
  {
   "cell_type": "code",
   "metadata": {
    "cell_id": "00041-4407dbf3-c191-4914-9bbd-9aab8f9700f3",
    "deepnote_to_be_reexecuted": false,
    "source_hash": "dd7ebbdf",
    "execution_start": 1622036138158,
    "execution_millis": 77,
    "deepnote_cell_type": "code"
   },
   "source": "f_features = select_kbest(X_train, y_train, 15)\nf_features",
   "execution_count": 26,
   "outputs": [
    {
     "output_type": "execute_result",
     "execution_count": 26,
     "data": {
      "text/plain": "['age',\n 'body_camera',\n 'was_fleeing',\n 'was_allegedly_armed',\n 'was_unarmed',\n 'was_domestic_disturbance',\n 'was_mental_health_welfare_check',\n 'was_traffic_stop',\n 'was_violent_crime_part_1',\n 'mntlill_drug or alcohol use',\n 'mntlill_no',\n 'mntlill_unknown',\n 'rural',\n 'under 12',\n '55-64']"
     },
     "metadata": {}
    }
   ]
  },
  {
   "cell_type": "markdown",
   "source": "#### Recursive Feature Elimination (RFE)\n- Recursively removes attributes to meet the number of required features and then builds a model on those attributes that remain to see if you can you match or improve performance with a smaller subset.",
   "metadata": {
    "cell_id": "00042-6a78b05e-6317-4905-b701-2ebd07d4dd26",
    "deepnote_cell_type": "markdown"
   }
  },
  {
   "cell_type": "code",
   "metadata": {
    "cell_id": "00043-64c2c310-1b55-4501-9ac7-d62c5bb3d4c7",
    "deepnote_to_be_reexecuted": false,
    "source_hash": "509f8fd5",
    "execution_start": 1622036138223,
    "execution_millis": 7033,
    "deepnote_cell_type": "code"
   },
   "source": "rfe_features = rfe(X_train, y_train, 15)\nrfe_features",
   "execution_count": 27,
   "outputs": [
    {
     "output_type": "execute_result",
     "execution_count": 27,
     "data": {
      "text/plain": "['is_male',\n 'is_transgender',\n 'was_fleeing',\n 'was_allegedly_armed',\n 'was_unarmed',\n 'was_vehicle',\n 'was_domestic_disturbance',\n 'was_mental_health_welfare_check',\n 'was_person_with_a_weapon',\n 'was_traffic_stop',\n 'was_violent_crime_part_1',\n 'is_native american',\n 'mntlill_no',\n 'cod_lethal',\n 'under 12']"
     },
     "metadata": {}
    }
   ]
  },
  {
   "cell_type": "code",
   "metadata": {
    "cell_id": "00044-d5fa0576-f72e-4c4f-b4ff-30ce77c27c27",
    "deepnote_to_be_reexecuted": false,
    "source_hash": "31ee34a3",
    "execution_start": 1622036145249,
    "execution_millis": 80,
    "deepnote_cell_type": "code"
   },
   "source": "combo_feats = list(set(f_features + rfe_features))\nprint(len(combo_feats))\ncombo_feats",
   "execution_count": 28,
   "outputs": [
    {
     "name": "stdout",
     "text": "21\n",
     "output_type": "stream"
    },
    {
     "output_type": "execute_result",
     "execution_count": 28,
     "data": {
      "text/plain": "['was_violent_crime_part_1',\n 'is_transgender',\n 'is_native american',\n 'was_unarmed',\n 'was_mental_health_welfare_check',\n 'cod_lethal',\n 'was_person_with_a_weapon',\n 'was_vehicle',\n 'mntlill_drug or alcohol use',\n 'age',\n 'was_allegedly_armed',\n 'mntlill_unknown',\n 'rural',\n 'was_domestic_disturbance',\n 'was_fleeing',\n 'was_traffic_stop',\n 'under 12',\n '55-64',\n 'body_camera',\n 'mntlill_no',\n 'is_male']"
     },
     "metadata": {}
    }
   ]
  },
  {
   "cell_type": "code",
   "metadata": {
    "cell_id": "00045-fa265ac4-5db4-4a74-8177-c18e5dd4881f",
    "deepnote_to_be_reexecuted": false,
    "source_hash": "10a14d49",
    "execution_start": 1622036145335,
    "execution_millis": 12,
    "deepnote_cell_type": "code"
   },
   "source": "#specify combined features that reduces multicollinearity\ncombo_feats = ['55-64',\n               'is_native american',\n               'mntlill_no',\n               'under 12',\n               'was_traffic_stop',\n               'body_camera',\n               'age',\n               'was_allegedly_armed',\n               'is_black',\n               'was_domestic_disturbance',\n               'was_fleeing',\n               'cod_lethal',\n               'was_mental_health_welfare_check',\n               'is_white',\n               'was_violent_crime_part_1',\n               'was_vehicle',\n               'mntlill_drug or alcohol use',\n               'is_transgender',\n               'is_female']\n \nprint(len(combo_feats))",
   "execution_count": 29,
   "outputs": [
    {
     "name": "stdout",
     "text": "19\n",
     "output_type": "stream"
    }
   ]
  },
  {
   "cell_type": "markdown",
   "source": "\n___\n## • Identify Baseline",
   "metadata": {
    "cell_id": "00046-87393bc7-1ab1-4acb-b82a-4109257062bf",
    "deepnote_cell_type": "markdown"
   }
  },
  {
   "cell_type": "code",
   "metadata": {
    "cell_id": "00047-3bd7549e-52ec-445f-8380-0452d9137503",
    "deepnote_to_be_reexecuted": false,
    "source_hash": "276ef1c0",
    "execution_start": 1622036145344,
    "execution_millis": 13,
    "deepnote_cell_type": "code"
   },
   "source": "#baseline prediction: the most prevalent class in training dataset(the mode)\ntrain.alleged_threat_lvl.value_counts()",
   "execution_count": 30,
   "outputs": [
    {
     "output_type": "execute_result",
     "execution_count": 30,
     "data": {
      "text/plain": "0.0    2459\n1.0    2375\nName: alleged_threat_lvl, dtype: int64"
     },
     "metadata": {}
    }
   ]
  },
  {
   "cell_type": "code",
   "metadata": {
    "cell_id": "00048-f2ae5cbc-cbb8-42b2-8144-7cd815eb6104",
    "deepnote_to_be_reexecuted": false,
    "source_hash": "470ea14d",
    "execution_start": 1622036145395,
    "execution_millis": 11,
    "deepnote_cell_type": "code"
   },
   "source": "#baseline model would be to predict 0 since it is most prevalant\n#baseline accuracy:\nbaseline_accuracy = (train.alleged_threat_lvl == 0).mean()\n\nprint(f'baseline accuracy: {baseline_accuracy: .2}')",
   "execution_count": 31,
   "outputs": [
    {
     "name": "stdout",
     "text": "baseline accuracy:  0.51\n",
     "output_type": "stream"
    }
   ]
  },
  {
   "cell_type": "markdown",
   "source": "\n___\n## • Model on Train",
   "metadata": {
    "cell_id": "00049-210a0ded-3e78-48c1-9481-ddaa72fc437f",
    "deepnote_cell_type": "markdown"
   }
  },
  {
   "cell_type": "markdown",
   "source": "### Decision Tree",
   "metadata": {
    "cell_id": "00050-9021fe9e-019d-4d30-9c77-509908a249c2",
    "deepnote_cell_type": "markdown"
   }
  },
  {
   "cell_type": "code",
   "metadata": {
    "deepnote_to_be_reexecuted": false,
    "execution_millis": 10,
    "execution_start": 1622036145397,
    "source_hash": "c2c98502",
    "tags": [],
    "cell_id": "00051-e2a46736-acb0-4a1e-974a-ebc62704eb74",
    "deepnote_cell_type": "code"
   },
   "source": "#create Decision Tree model (specifying max_depth argument and combo_feats)\ndt = DecisionTreeClassifier(max_depth=3, random_state=123)\n\n#fit model on combo_feats\ndt.fit(X_train[combo_feats], y_train)\n\n#get predictions from model\ny_pred = dt.predict(X_train[combo_feats])\n\n#compute accuracy\ndt_train_acc = round(dt.score(X_train[combo_feats], y_train), 2)\n\n#compare to baseline\nprint(\"Baseline is\", round(baseline_accuracy, 2))\nprint(\"----------------\")\nprint('Accuracy of Decision Tree classifier on combo_feats (max_depth = 3): {:.2f}'\n     .format(dt.score(X_train[combo_feats], y_train)))",
   "execution_count": 32,
   "outputs": [
    {
     "name": "stdout",
     "text": "Baseline is 0.51\n----------------\nAccuracy of Decision Tree classifier on combo_feats (max_depth = 3): 0.71\n",
     "output_type": "stream"
    }
   ]
  },
  {
   "cell_type": "markdown",
   "source": "### Random Forest",
   "metadata": {
    "tags": [],
    "cell_id": "00052-e1f29d01-7b91-4393-b6e6-d69929bc8c13",
    "deepnote_cell_type": "markdown"
   }
  },
  {
   "cell_type": "code",
   "metadata": {
    "deepnote_to_be_reexecuted": false,
    "execution_millis": 304,
    "execution_start": 1622036145438,
    "source_hash": "698d108b",
    "tags": [],
    "cell_id": "00053-f1e5f5b1-be36-43b4-a283-547f2808a4a8",
    "deepnote_cell_type": "code"
   },
   "source": "#create Random Forest model (specifying max_depth/min_samples_leaf arguments and combo_feats)\nrf = RandomForestClassifier(max_depth=5, min_samples_leaf=3, random_state=123)\n\n#fit model on combo_feats\nrf.fit(X_train[combo_feats], y_train)\n\n#get predictions from model\ny_pred = rf.predict(X_train[combo_feats])\n\n#compute accuracy\nrf_train_acc = round(rf.score(X_train[combo_feats], y_train), 2)\n\n#compare to baseline\nprint(\"Baseline is\", round(baseline_accuracy, 2))\nprint(\"----------------\")\nprint('Accuracy of Random Forest classifier on combo_feats (max_depth = 5, min_samples_leaf = 3): {:.2f}'\n     .format(rf.score(X_train[combo_feats], y_train)))",
   "execution_count": 33,
   "outputs": [
    {
     "name": "stdout",
     "text": "Baseline is 0.51\n----------------\nAccuracy of Random Forest classifier on combo_feats (max_depth = 5, min_samples_leaf = 3): 0.72\n",
     "output_type": "stream"
    }
   ]
  },
  {
   "cell_type": "markdown",
   "source": "### K-Nearest Neighbor (KNN)",
   "metadata": {
    "tags": [],
    "cell_id": "00054-d68c60a3-8faf-42a9-a78f-36c883c75872",
    "deepnote_cell_type": "markdown"
   }
  },
  {
   "cell_type": "code",
   "metadata": {
    "deepnote_to_be_reexecuted": false,
    "execution_millis": 2131,
    "execution_start": 1622036145738,
    "source_hash": "332e4e58",
    "tags": [],
    "cell_id": "00055-ebe6b7ff-2aa6-49d0-b12b-1e34fee6f243",
    "deepnote_cell_type": "code"
   },
   "source": "#create KNN model (specifying n_neighbors argument and combo_feats)\nknn = KNeighborsClassifier(n_neighbors=20)\n\n#fit model on combo_feats\nknn.fit(X_train[combo_feats], y_train)\n\n#get predictions from model\ny_pred = knn.predict(X_train[combo_feats])\n\n#compute accuracy\nknn_train_acc = round(knn.score(X_train[combo_feats], y_train), 2)\n\n#compare to baseline\nprint(\"Baseline is\", round(baseline_accuracy, 2))\nprint(\"----------------\")\nprint('Accuracy of KNN classifier on combo_feats (n_neighbors = 20): {:.2f}'\n     .format(knn.score(X_train[combo_feats], y_train)))",
   "execution_count": 34,
   "outputs": [
    {
     "name": "stdout",
     "text": "Baseline is 0.51\n----------------\nAccuracy of KNN classifier on combo_feats (n_neighbors = 20): 0.70\n",
     "output_type": "stream"
    }
   ]
  },
  {
   "cell_type": "markdown",
   "source": "### Logistic Regression",
   "metadata": {
    "tags": [],
    "cell_id": "00056-28d0bd7f-02c5-489e-a65b-e9ebdd9faee3",
    "deepnote_cell_type": "markdown"
   }
  },
  {
   "cell_type": "code",
   "metadata": {
    "deepnote_to_be_reexecuted": false,
    "execution_millis": 291,
    "execution_start": 1622036147872,
    "source_hash": "cc070c24",
    "tags": [],
    "cell_id": "00057-21c08ac0-a750-4b3d-9e8f-6400ee897fcd",
    "deepnote_cell_type": "code"
   },
   "source": "#create Logistic Regression model (default parameters, specifying combo_feats)\nlogit = LogisticRegression(random_state=123)\n\n#fit model on combo_feats\nlogit.fit(X_train[combo_feats], y_train)\n\n#get predictions from model\ny_pred = logit.predict(X_train[combo_feats])\n\n#compute accuracy\nlogit_train_acc = round(logit.score(X_train[combo_feats], y_train), 2)\n\n#compare to baseline\nprint(\"Baseline is\", round(baseline_accuracy, 2))\nprint(\"----------------\")\nprint('Accuracy of Logistic Regression classifier on combo_feats (default parameters): {:.2f}'\n     .format(logit.score(X_train[combo_feats], y_train)))",
   "execution_count": 35,
   "outputs": [
    {
     "name": "stdout",
     "text": "Baseline is 0.51\n----------------\nAccuracy of Logistic Regression classifier on combo_feats (default parameters): 0.70\n",
     "output_type": "stream"
    }
   ]
  },
  {
   "cell_type": "markdown",
   "source": "### Takeways:\n- **Decision Tree** model (dt) specifying max_depth argument of 3 and using combo_feats:\n    - Score of 71% accuracy\n    \n    \n    \n- **Random Forest** model (rf) specifying max_depth argument of 5, min_samples_leaf argument of 3 and using combo_feats:\n    - Score of 72% accuracy\n    \n    \n    \n- **K-Nearest Neighbor** model (knn) specifying n_neighbors argument of 20 and using combo_feats:\n    - Score of 70% accuracy\n    \n    \n    \n- **Logistic Regression** model (logit) using default parameters and combo_feats:\n    - Score of 70% accuracy\n\nNext, compare scores to validate (out-of-sample data).",
   "metadata": {
    "tags": [],
    "cell_id": "00058-5d5ab10f-0c25-4469-87c8-b23aec8b3f64",
    "deepnote_cell_type": "markdown"
   }
  },
  {
   "cell_type": "markdown",
   "source": "\n___\n## • Model on Validate",
   "metadata": {
    "cell_id": "00059-b46fbe9f-67da-4a26-b744-b1aba7a423e0",
    "deepnote_cell_type": "markdown"
   }
  },
  {
   "cell_type": "code",
   "metadata": {
    "deepnote_to_be_reexecuted": false,
    "execution_millis": 90,
    "execution_start": 1622036148159,
    "source_hash": "d328fc71",
    "tags": [],
    "cell_id": "00060-6cbc128b-256f-42ad-8daf-9372484239de",
    "deepnote_cell_type": "code"
   },
   "source": "#dt's metrics on validate\n\n#evaluate on validate sample\ny_pred = dt.predict(X_validate[combo_feats])\n\n#compute accuracy\ndt_val_acc = round(dt.score(X_validate[combo_feats], y_validate), 2)\n\n#compare train to validate\nprint('Accuracy of Decision Tree classifier on train set: {:.2f}'\n     .format(dt.score(X_train[combo_feats], y_train)))\nprint(\"--------------------------------------------------------------\")\nprint(\"Decision Tree classifier on validate set:\")\nprint(classification_report(y_validate, y_pred))",
   "execution_count": 36,
   "outputs": [
    {
     "name": "stdout",
     "text": "Accuracy of Decision Tree classifier on train set: 0.71\n--------------------------------------------------------------\nDecision Tree classifier on validate set:\n              precision    recall  f1-score   support\n\n         0.0       0.77      0.62      0.69      1054\n         1.0       0.67      0.81      0.74      1019\n\n    accuracy                           0.71      2073\n   macro avg       0.72      0.71      0.71      2073\nweighted avg       0.72      0.71      0.71      2073\n\n",
     "output_type": "stream"
    }
   ]
  },
  {
   "cell_type": "code",
   "metadata": {
    "deepnote_to_be_reexecuted": false,
    "execution_millis": 154,
    "execution_start": 1622036148246,
    "source_hash": "47d5ea37",
    "tags": [],
    "cell_id": "00061-b77a91e4-3561-4a23-a6f4-46b4ca1f94e4",
    "deepnote_cell_type": "code"
   },
   "source": "#rf's metrics on validate\n\n#evaluate on validate sample\ny_pred = rf.predict(X_validate[combo_feats])\n\n#compute accuracy\nrf_val_acc = round(rf.score(X_validate[combo_feats], y_validate), 2)\n\n#compare train to validate\nprint('Accuracy of Random Forest classifier on train set: {:.2f}'\n     .format(rf.score(X_train[combo_feats], y_train)))\nprint(\"--------------------------------------------------------------\")\nprint(\"Random Forest classifier on validate set:\")\nprint(classification_report(y_validate, y_pred))",
   "execution_count": 37,
   "outputs": [
    {
     "name": "stdout",
     "text": "Accuracy of Random Forest classifier on train set: 0.72\n--------------------------------------------------------------\nRandom Forest classifier on validate set:\n              precision    recall  f1-score   support\n\n         0.0       0.76      0.67      0.71      1054\n         1.0       0.70      0.78      0.73      1019\n\n    accuracy                           0.72      2073\n   macro avg       0.73      0.72      0.72      2073\nweighted avg       0.73      0.72      0.72      2073\n\n",
     "output_type": "stream"
    }
   ]
  },
  {
   "cell_type": "code",
   "metadata": {
    "deepnote_to_be_reexecuted": false,
    "execution_millis": 1384,
    "execution_start": 1622036148403,
    "source_hash": "e80a3dc9",
    "tags": [],
    "cell_id": "00062-6693ccb3-1444-4b7b-9576-1627641bef2e",
    "deepnote_cell_type": "code"
   },
   "source": "#knn's metrics on validate\n\n#evaluate on validate sample\ny_pred = knn.predict(X_validate[combo_feats])\n\n#compute accuracy\nknn_val_acc = round(knn.score(X_validate[combo_feats], y_validate), 2)\n\n#compare train to validate\nprint('Accuracy of KNN classifier on train set: {:.2f}'\n     .format(knn.score(X_train[combo_feats], y_train)))\nprint(\"--------------------------------------------------------------\")\nprint(\"KNN classifier on validate set:\")\nprint(classification_report(y_validate, y_pred))",
   "execution_count": 38,
   "outputs": [
    {
     "name": "stdout",
     "text": "Accuracy of KNN classifier on train set: 0.70\n--------------------------------------------------------------\nKNN classifier on validate set:\n              precision    recall  f1-score   support\n\n         0.0       0.66      0.68      0.67      1054\n         1.0       0.66      0.64      0.65      1019\n\n    accuracy                           0.66      2073\n   macro avg       0.66      0.66      0.66      2073\nweighted avg       0.66      0.66      0.66      2073\n\n",
     "output_type": "stream"
    }
   ]
  },
  {
   "cell_type": "code",
   "metadata": {
    "cell_id": "00063-e5c55b88-4f32-4f4d-b4cb-1e48f3a01700",
    "deepnote_to_be_reexecuted": false,
    "source_hash": "79570e45",
    "execution_start": 1622036149784,
    "execution_millis": 62,
    "deepnote_cell_type": "code"
   },
   "source": "#logit's metrics on validate\n\n#evaluate on validate sample\ny_pred = logit.predict(X_validate[combo_feats])\n\n#compute accuracy\nlogit_val_acc = round(logit.score(X_validate[combo_feats], y_validate), 2)\n\n#compare train to validate\nprint('Accuracy of Logistic Regression classifier on train set: {:.2f}'\n     .format(logit.score(X_train[combo_feats], y_train)))\nprint(\"--------------------------------------------------------------\")\nprint(\"Logistic Regression classifier on validate set:\")\nprint(classification_report(y_validate, y_pred))",
   "execution_count": 39,
   "outputs": [
    {
     "name": "stdout",
     "text": "Accuracy of Logistic Regression classifier on train set: 0.70\n--------------------------------------------------------------\nLogistic Regression classifier on validate set:\n              precision    recall  f1-score   support\n\n         0.0       0.70      0.71      0.71      1054\n         1.0       0.70      0.69      0.69      1019\n\n    accuracy                           0.70      2073\n   macro avg       0.70      0.70      0.70      2073\nweighted avg       0.70      0.70      0.70      2073\n\n",
     "output_type": "stream"
    }
   ]
  },
  {
   "cell_type": "code",
   "metadata": {
    "cell_id": "00064-0737a4ae-d108-4118-afdf-b6d78d35b360",
    "deepnote_to_be_reexecuted": false,
    "source_hash": "6025acc3",
    "execution_start": 1622036149834,
    "execution_millis": 112,
    "deepnote_cell_type": "code"
   },
   "source": "# Build dataframe to record accuracy (starting with decision tree)\nmetric_df = pd.DataFrame(data=[{\n    'Model': 'Decision Tree', \n    'Baseline': round(baseline_accuracy, 2),\n    'Train Accuracy': round(dt_train_acc, 2),\n    'Validate Accuracy': round(dt_val_acc, 2)}])\n\n# append dataframe to record accuracy on random forest\nmetric_df = metric_df.append({\n    'Model': 'Random Forest', \n    'Baseline': round(baseline_accuracy, 2),\n    'Train Accuracy': round(rf_train_acc, 2),\n    'Validate Accuracy':round(rf_val_acc, 2)}, ignore_index=True)\n\n# append dataframe to record accuracy on knn\nmetric_df = metric_df.append({\n    'Model': 'K-Nearest Neighbor', \n    'Baseline': round(baseline_accuracy, 2),\n    'Train Accuracy': round(knn_train_acc, 2),\n    'Validate Accuracy':round(knn_val_acc, 2)}, ignore_index=True)\n\n# append dataframe to record accuracy on logistic regression\nmetric_df = metric_df.append({\n    'Model': 'Logistic Regression', \n    'Baseline': round(baseline_accuracy, 2),\n    'Train Accuracy': round(logit_train_acc, 2),\n    'Validate Accuracy':round(logit_val_acc, 2)}, ignore_index=True)\n\n\nmetric_df",
   "execution_count": 40,
   "outputs": [
    {
     "output_type": "execute_result",
     "execution_count": 40,
     "data": {
      "application/vnd.deepnote.dataframe.v2+json": {
       "row_count": 4,
       "column_count": 4,
       "columns": [
        {
         "name": "Model",
         "dtype": "object",
         "stats": {
          "unique_count": 4,
          "nan_count": 0,
          "categories": [
           {
            "name": "Decision Tree",
            "count": 1
           },
           {
            "name": "Random Forest",
            "count": 1
           },
           {
            "name": "2 others",
            "count": 2
           }
          ]
         }
        },
        {
         "name": "Baseline",
         "dtype": "float64",
         "stats": {
          "unique_count": 1,
          "nan_count": 0,
          "min": "0.51",
          "max": "0.51",
          "histogram": [
           {
            "bin_start": 0.010000000000000009,
            "bin_end": 0.11000000000000001,
            "count": 0
           },
           {
            "bin_start": 0.11000000000000001,
            "bin_end": 0.21000000000000002,
            "count": 0
           },
           {
            "bin_start": 0.21000000000000002,
            "bin_end": 0.31000000000000005,
            "count": 0
           },
           {
            "bin_start": 0.31000000000000005,
            "bin_end": 0.41000000000000003,
            "count": 0
           },
           {
            "bin_start": 0.41000000000000003,
            "bin_end": 0.51,
            "count": 0
           },
           {
            "bin_start": 0.51,
            "bin_end": 0.6100000000000001,
            "count": 4
           },
           {
            "bin_start": 0.6100000000000001,
            "bin_end": 0.7100000000000001,
            "count": 0
           },
           {
            "bin_start": 0.7100000000000001,
            "bin_end": 0.81,
            "count": 0
           },
           {
            "bin_start": 0.81,
            "bin_end": 0.91,
            "count": 0
           },
           {
            "bin_start": 0.91,
            "bin_end": 1.01,
            "count": 0
           }
          ]
         }
        },
        {
         "name": "Train Accuracy",
         "dtype": "float64",
         "stats": {
          "unique_count": 3,
          "nan_count": 0,
          "min": "0.7",
          "max": "0.72",
          "histogram": [
           {
            "bin_start": 0.7,
            "bin_end": 0.702,
            "count": 2
           },
           {
            "bin_start": 0.702,
            "bin_end": 0.704,
            "count": 0
           },
           {
            "bin_start": 0.704,
            "bin_end": 0.706,
            "count": 0
           },
           {
            "bin_start": 0.706,
            "bin_end": 0.708,
            "count": 0
           },
           {
            "bin_start": 0.708,
            "bin_end": 0.71,
            "count": 0
           },
           {
            "bin_start": 0.71,
            "bin_end": 0.712,
            "count": 1
           },
           {
            "bin_start": 0.712,
            "bin_end": 0.714,
            "count": 0
           },
           {
            "bin_start": 0.714,
            "bin_end": 0.716,
            "count": 0
           },
           {
            "bin_start": 0.716,
            "bin_end": 0.718,
            "count": 0
           },
           {
            "bin_start": 0.718,
            "bin_end": 0.72,
            "count": 1
           }
          ]
         }
        },
        {
         "name": "Validate Accuracy",
         "dtype": "float64",
         "stats": {
          "unique_count": 4,
          "nan_count": 0,
          "min": "0.66",
          "max": "0.72",
          "histogram": [
           {
            "bin_start": 0.66,
            "bin_end": 0.666,
            "count": 1
           },
           {
            "bin_start": 0.666,
            "bin_end": 0.672,
            "count": 0
           },
           {
            "bin_start": 0.672,
            "bin_end": 0.678,
            "count": 0
           },
           {
            "bin_start": 0.678,
            "bin_end": 0.684,
            "count": 0
           },
           {
            "bin_start": 0.684,
            "bin_end": 0.69,
            "count": 0
           },
           {
            "bin_start": 0.69,
            "bin_end": 0.696,
            "count": 0
           },
           {
            "bin_start": 0.696,
            "bin_end": 0.702,
            "count": 1
           },
           {
            "bin_start": 0.702,
            "bin_end": 0.708,
            "count": 0
           },
           {
            "bin_start": 0.708,
            "bin_end": 0.714,
            "count": 1
           },
           {
            "bin_start": 0.714,
            "bin_end": 0.72,
            "count": 1
           }
          ]
         }
        },
        {
         "name": "_deepnote_index_column",
         "dtype": "int64"
        }
       ],
       "rows_top": [
        {
         "Model": "Decision Tree",
         "Baseline": 0.51,
         "Train Accuracy": 0.71,
         "Validate Accuracy": 0.71,
         "_deepnote_index_column": 0
        },
        {
         "Model": "Random Forest",
         "Baseline": 0.51,
         "Train Accuracy": 0.72,
         "Validate Accuracy": 0.72,
         "_deepnote_index_column": 1
        },
        {
         "Model": "K-Nearest Neighbor",
         "Baseline": 0.51,
         "Train Accuracy": 0.7,
         "Validate Accuracy": 0.66,
         "_deepnote_index_column": 2
        },
        {
         "Model": "Logistic Regression",
         "Baseline": 0.51,
         "Train Accuracy": 0.7,
         "Validate Accuracy": 0.7,
         "_deepnote_index_column": 3
        }
       ],
       "rows_bottom": null
      },
      "text/plain": "                 Model  Baseline  Train Accuracy  Validate Accuracy\n0        Decision Tree      0.51            0.71               0.71\n1        Random Forest      0.51            0.72               0.72\n2   K-Nearest Neighbor      0.51            0.70               0.66\n3  Logistic Regression      0.51            0.70               0.70",
      "text/html": "<div>\n<style scoped>\n    .dataframe tbody tr th:only-of-type {\n        vertical-align: middle;\n    }\n\n    .dataframe tbody tr th {\n        vertical-align: top;\n    }\n\n    .dataframe thead th {\n        text-align: right;\n    }\n</style>\n<table border=\"1\" class=\"dataframe\">\n  <thead>\n    <tr style=\"text-align: right;\">\n      <th></th>\n      <th>Model</th>\n      <th>Baseline</th>\n      <th>Train Accuracy</th>\n      <th>Validate Accuracy</th>\n    </tr>\n  </thead>\n  <tbody>\n    <tr>\n      <th>0</th>\n      <td>Decision Tree</td>\n      <td>0.51</td>\n      <td>0.71</td>\n      <td>0.71</td>\n    </tr>\n    <tr>\n      <th>1</th>\n      <td>Random Forest</td>\n      <td>0.51</td>\n      <td>0.72</td>\n      <td>0.72</td>\n    </tr>\n    <tr>\n      <th>2</th>\n      <td>K-Nearest Neighbor</td>\n      <td>0.51</td>\n      <td>0.70</td>\n      <td>0.66</td>\n    </tr>\n    <tr>\n      <th>3</th>\n      <td>Logistic Regression</td>\n      <td>0.51</td>\n      <td>0.70</td>\n      <td>0.70</td>\n    </tr>\n  </tbody>\n</table>\n</div>"
     },
     "metadata": {}
    }
   ]
  },
  {
   "cell_type": "markdown",
   "source": "### Takeaways\n\n**Random Forest** is the best-performing model and will be evaluated on test data.\n",
   "metadata": {
    "tags": [],
    "cell_id": "00065-dd902f67-c788-4d1a-b45d-d27f15db5ab7",
    "deepnote_cell_type": "markdown"
   }
  },
  {
   "cell_type": "markdown",
   "source": "\n___\n## • Model on Test",
   "metadata": {
    "cell_id": "00066-02f8a937-f986-4f67-9f60-806c400cda37",
    "deepnote_cell_type": "markdown"
   }
  },
  {
   "cell_type": "code",
   "metadata": {
    "cell_id": "00067-f5ef62c1-9e53-46d4-82ed-58d1af5f3e35",
    "deepnote_to_be_reexecuted": false,
    "source_hash": "251cfd85",
    "execution_start": 1622036149939,
    "execution_millis": 82,
    "deepnote_cell_type": "code"
   },
   "source": "#evaluate on test sample \ny_pred_test = rf.predict(X_test[combo_feats])\n\n#compute accuracy\nrf_test_acc = round(rf.score(X_test[combo_feats], y_test), 2)\n\nprint(\"Random Forest Model:\")\nprint(classification_report(y_test, y_pred_test))",
   "execution_count": 41,
   "outputs": [
    {
     "name": "stdout",
     "text": "Random Forest Model:\n              precision    recall  f1-score   support\n\n         0.0       0.75      0.68      0.71       879\n         1.0       0.69      0.76      0.73       848\n\n    accuracy                           0.72      1727\n   macro avg       0.72      0.72      0.72      1727\nweighted avg       0.72      0.72      0.72      1727\n\n",
     "output_type": "stream"
    }
   ]
  },
  {
   "cell_type": "code",
   "metadata": {
    "cell_id": "00068-d6ab31e2-9077-41c7-89e8-5022a633a090",
    "deepnote_to_be_reexecuted": false,
    "source_hash": "d868f546",
    "execution_start": 1622036150012,
    "execution_millis": 3,
    "deepnote_cell_type": "code"
   },
   "source": "# append dataframe to record accuracy on final random forest\nmetric_df = metric_df.append({\n    'Model': 'Random Forest', \n    'Baseline': round(baseline_accuracy, 2),\n    'Train Accuracy': round(rf_train_acc, 2),\n    'Validate Accuracy':round(rf_val_acc, 2),\n    'Test Accuracy': round(rf_test_acc, 2)}, ignore_index=True)",
   "execution_count": 42,
   "outputs": []
  },
  {
   "cell_type": "code",
   "metadata": {
    "cell_id": "00069-58a1a5db-f5a1-45d6-88a0-b3f0ad7ff885",
    "deepnote_to_be_reexecuted": false,
    "source_hash": "400c35cf",
    "execution_start": 1622036150058,
    "execution_millis": 12,
    "deepnote_cell_type": "code"
   },
   "source": "metric_df",
   "execution_count": 43,
   "outputs": [
    {
     "output_type": "execute_result",
     "execution_count": 43,
     "data": {
      "application/vnd.deepnote.dataframe.v2+json": {
       "row_count": 5,
       "column_count": 5,
       "columns": [
        {
         "name": "Model",
         "dtype": "object",
         "stats": {
          "unique_count": 4,
          "nan_count": 0,
          "categories": [
           {
            "name": "Random Forest",
            "count": 2
           },
           {
            "name": "Decision Tree",
            "count": 1
           },
           {
            "name": "2 others",
            "count": 2
           }
          ]
         }
        },
        {
         "name": "Baseline",
         "dtype": "float64",
         "stats": {
          "unique_count": 1,
          "nan_count": 0,
          "min": "0.51",
          "max": "0.51",
          "histogram": [
           {
            "bin_start": 0.010000000000000009,
            "bin_end": 0.11000000000000001,
            "count": 0
           },
           {
            "bin_start": 0.11000000000000001,
            "bin_end": 0.21000000000000002,
            "count": 0
           },
           {
            "bin_start": 0.21000000000000002,
            "bin_end": 0.31000000000000005,
            "count": 0
           },
           {
            "bin_start": 0.31000000000000005,
            "bin_end": 0.41000000000000003,
            "count": 0
           },
           {
            "bin_start": 0.41000000000000003,
            "bin_end": 0.51,
            "count": 0
           },
           {
            "bin_start": 0.51,
            "bin_end": 0.6100000000000001,
            "count": 5
           },
           {
            "bin_start": 0.6100000000000001,
            "bin_end": 0.7100000000000001,
            "count": 0
           },
           {
            "bin_start": 0.7100000000000001,
            "bin_end": 0.81,
            "count": 0
           },
           {
            "bin_start": 0.81,
            "bin_end": 0.91,
            "count": 0
           },
           {
            "bin_start": 0.91,
            "bin_end": 1.01,
            "count": 0
           }
          ]
         }
        },
        {
         "name": "Train Accuracy",
         "dtype": "float64",
         "stats": {
          "unique_count": 3,
          "nan_count": 0,
          "min": "0.7",
          "max": "0.72",
          "histogram": [
           {
            "bin_start": 0.7,
            "bin_end": 0.702,
            "count": 2
           },
           {
            "bin_start": 0.702,
            "bin_end": 0.704,
            "count": 0
           },
           {
            "bin_start": 0.704,
            "bin_end": 0.706,
            "count": 0
           },
           {
            "bin_start": 0.706,
            "bin_end": 0.708,
            "count": 0
           },
           {
            "bin_start": 0.708,
            "bin_end": 0.71,
            "count": 0
           },
           {
            "bin_start": 0.71,
            "bin_end": 0.712,
            "count": 1
           },
           {
            "bin_start": 0.712,
            "bin_end": 0.714,
            "count": 0
           },
           {
            "bin_start": 0.714,
            "bin_end": 0.716,
            "count": 0
           },
           {
            "bin_start": 0.716,
            "bin_end": 0.718,
            "count": 0
           },
           {
            "bin_start": 0.718,
            "bin_end": 0.72,
            "count": 2
           }
          ]
         }
        },
        {
         "name": "Validate Accuracy",
         "dtype": "float64",
         "stats": {
          "unique_count": 4,
          "nan_count": 0,
          "min": "0.66",
          "max": "0.72",
          "histogram": [
           {
            "bin_start": 0.66,
            "bin_end": 0.666,
            "count": 1
           },
           {
            "bin_start": 0.666,
            "bin_end": 0.672,
            "count": 0
           },
           {
            "bin_start": 0.672,
            "bin_end": 0.678,
            "count": 0
           },
           {
            "bin_start": 0.678,
            "bin_end": 0.684,
            "count": 0
           },
           {
            "bin_start": 0.684,
            "bin_end": 0.69,
            "count": 0
           },
           {
            "bin_start": 0.69,
            "bin_end": 0.696,
            "count": 0
           },
           {
            "bin_start": 0.696,
            "bin_end": 0.702,
            "count": 1
           },
           {
            "bin_start": 0.702,
            "bin_end": 0.708,
            "count": 0
           },
           {
            "bin_start": 0.708,
            "bin_end": 0.714,
            "count": 1
           },
           {
            "bin_start": 0.714,
            "bin_end": 0.72,
            "count": 2
           }
          ]
         }
        },
        {
         "name": "Test Accuracy",
         "dtype": "float64",
         "stats": {
          "unique_count": 1,
          "nan_count": 4,
          "min": "0.72",
          "max": "0.72",
          "histogram": [
           {
            "bin_start": 0.21999999999999997,
            "bin_end": 0.31999999999999995,
            "count": 0
           },
           {
            "bin_start": 0.31999999999999995,
            "bin_end": 0.42,
            "count": 0
           },
           {
            "bin_start": 0.42,
            "bin_end": 0.52,
            "count": 0
           },
           {
            "bin_start": 0.52,
            "bin_end": 0.62,
            "count": 0
           },
           {
            "bin_start": 0.62,
            "bin_end": 0.72,
            "count": 0
           },
           {
            "bin_start": 0.72,
            "bin_end": 0.8200000000000001,
            "count": 1
           },
           {
            "bin_start": 0.8200000000000001,
            "bin_end": 0.92,
            "count": 0
           },
           {
            "bin_start": 0.92,
            "bin_end": 1.02,
            "count": 0
           },
           {
            "bin_start": 1.02,
            "bin_end": 1.12,
            "count": 0
           },
           {
            "bin_start": 1.12,
            "bin_end": 1.22,
            "count": 0
           }
          ]
         }
        },
        {
         "name": "_deepnote_index_column",
         "dtype": "int64"
        }
       ],
       "rows_top": [
        {
         "Model": "Decision Tree",
         "Baseline": 0.51,
         "Train Accuracy": 0.71,
         "Validate Accuracy": 0.71,
         "Test Accuracy": "nan",
         "_deepnote_index_column": 0
        },
        {
         "Model": "Random Forest",
         "Baseline": 0.51,
         "Train Accuracy": 0.72,
         "Validate Accuracy": 0.72,
         "Test Accuracy": "nan",
         "_deepnote_index_column": 1
        },
        {
         "Model": "K-Nearest Neighbor",
         "Baseline": 0.51,
         "Train Accuracy": 0.7,
         "Validate Accuracy": 0.66,
         "Test Accuracy": "nan",
         "_deepnote_index_column": 2
        },
        {
         "Model": "Logistic Regression",
         "Baseline": 0.51,
         "Train Accuracy": 0.7,
         "Validate Accuracy": 0.7,
         "Test Accuracy": "nan",
         "_deepnote_index_column": 3
        },
        {
         "Model": "Random Forest",
         "Baseline": 0.51,
         "Train Accuracy": 0.72,
         "Validate Accuracy": 0.72,
         "Test Accuracy": "0.72",
         "_deepnote_index_column": 4
        }
       ],
       "rows_bottom": null
      },
      "text/plain": "                 Model  Baseline  Train Accuracy  Validate Accuracy  \\\n0        Decision Tree      0.51            0.71               0.71   \n1        Random Forest      0.51            0.72               0.72   \n2   K-Nearest Neighbor      0.51            0.70               0.66   \n3  Logistic Regression      0.51            0.70               0.70   \n4        Random Forest      0.51            0.72               0.72   \n\n   Test Accuracy  \n0            NaN  \n1            NaN  \n2            NaN  \n3            NaN  \n4           0.72  ",
      "text/html": "<div>\n<style scoped>\n    .dataframe tbody tr th:only-of-type {\n        vertical-align: middle;\n    }\n\n    .dataframe tbody tr th {\n        vertical-align: top;\n    }\n\n    .dataframe thead th {\n        text-align: right;\n    }\n</style>\n<table border=\"1\" class=\"dataframe\">\n  <thead>\n    <tr style=\"text-align: right;\">\n      <th></th>\n      <th>Model</th>\n      <th>Baseline</th>\n      <th>Train Accuracy</th>\n      <th>Validate Accuracy</th>\n      <th>Test Accuracy</th>\n    </tr>\n  </thead>\n  <tbody>\n    <tr>\n      <th>0</th>\n      <td>Decision Tree</td>\n      <td>0.51</td>\n      <td>0.71</td>\n      <td>0.71</td>\n      <td>NaN</td>\n    </tr>\n    <tr>\n      <th>1</th>\n      <td>Random Forest</td>\n      <td>0.51</td>\n      <td>0.72</td>\n      <td>0.72</td>\n      <td>NaN</td>\n    </tr>\n    <tr>\n      <th>2</th>\n      <td>K-Nearest Neighbor</td>\n      <td>0.51</td>\n      <td>0.70</td>\n      <td>0.66</td>\n      <td>NaN</td>\n    </tr>\n    <tr>\n      <th>3</th>\n      <td>Logistic Regression</td>\n      <td>0.51</td>\n      <td>0.70</td>\n      <td>0.70</td>\n      <td>NaN</td>\n    </tr>\n    <tr>\n      <th>4</th>\n      <td>Random Forest</td>\n      <td>0.51</td>\n      <td>0.72</td>\n      <td>0.72</td>\n      <td>0.72</td>\n    </tr>\n  </tbody>\n</table>\n</div>"
     },
     "metadata": {}
    }
   ]
  },
  {
   "cell_type": "markdown",
   "source": "\n___\n# Conclusion\n\n### Takeaways\n- All models had roughly the same score for train and validate sets.\n- K-Nearest neighbor model performed the worst on out-of-sample data.\n- The best performing model uses a Random Forest algorithm and combined features from Select K Best and Recursive Feature Elimination lists.\n- Our final Random Forest model increased by 21% from a baseline accuracy of 51% to 72% accuracy on out-of-sample data.\n\n\n### Drivers\n- The top drivers of predicting a victim's threat level were encounter type of incident, gender, race, armed/unarmed status, mental illness, age, geography, fleeing events, and body camera reports.\n- These drivers can be used to shed light on changes to be made in law enforcement and to help law enforcement agencies spot risk factors, so they may step in before risk transforms into actual harm.\n\n\n### Next Steps\n- Fill in missing values manually as best as possible based on the description column in the dataset (large amount of data missing). \n- Natural language processing exploration on description of incident. ",
   "metadata": {
    "cell_id": "00071-20504c14-7d7d-4b42-808e-c41367fa590e",
    "deepnote_cell_type": "markdown"
   }
  },
  {
   "cell_type": "markdown",
   "source": "\n#### Report containing summarization of notebook can be found [here](link to presentation).",
   "metadata": {
    "tags": [],
    "cell_id": "00071-9aff8c8b-3864-45f2-97f0-ebfa9efaf4b8",
    "deepnote_cell_type": "markdown"
   }
  },
  {
   "cell_type": "markdown",
   "source": "",
   "metadata": {
    "tags": [],
    "cell_id": "00072-c9e395f6-a293-40ad-94d5-1fc3fdec18e8",
    "deepnote_cell_type": "markdown"
   }
  },
  {
   "cell_type": "markdown",
   "source": "<a style='text-decoration:none;line-height:16px;display:flex;color:#5B5B62;padding:10px;justify-content:end;' href='https://deepnote.com?utm_source=created-in-deepnote-cell&projectId=258e71fc-cf2b-48c3-8461-70ecd9787aa1' target=\"_blank\">\n<img alt='Created in deepnote.com' style='display:inline;max-height:16px;margin:0px;margin-right:7.5px;' src='data:image/svg+xml;base64,PD94bWwgdmVyc2lvbj0iMS4wIiBlbmNvZGluZz0iVVRGLTgiPz4KPHN2ZyB3aWR0aD0iODBweCIgaGVpZ2h0PSI4MHB4IiB2aWV3Qm94PSIwIDAgODAgODAiIHZlcnNpb249IjEuMSIgeG1sbnM9Imh0dHA6Ly93d3cudzMub3JnLzIwMDAvc3ZnIiB4bWxuczp4bGluaz0iaHR0cDovL3d3dy53My5vcmcvMTk5OS94bGluayI+CiAgICA8IS0tIEdlbmVyYXRvcjogU2tldGNoIDU0LjEgKDc2NDkwKSAtIGh0dHBzOi8vc2tldGNoYXBwLmNvbSAtLT4KICAgIDx0aXRsZT5Hcm91cCAzPC90aXRsZT4KICAgIDxkZXNjPkNyZWF0ZWQgd2l0aCBTa2V0Y2guPC9kZXNjPgogICAgPGcgaWQ9IkxhbmRpbmciIHN0cm9rZT0ibm9uZSIgc3Ryb2tlLXdpZHRoPSIxIiBmaWxsPSJub25lIiBmaWxsLXJ1bGU9ImV2ZW5vZGQiPgogICAgICAgIDxnIGlkPSJBcnRib2FyZCIgdHJhbnNmb3JtPSJ0cmFuc2xhdGUoLTEyMzUuMDAwMDAwLCAtNzkuMDAwMDAwKSI+CiAgICAgICAgICAgIDxnIGlkPSJHcm91cC0zIiB0cmFuc2Zvcm09InRyYW5zbGF0ZSgxMjM1LjAwMDAwMCwgNzkuMDAwMDAwKSI+CiAgICAgICAgICAgICAgICA8cG9seWdvbiBpZD0iUGF0aC0yMCIgZmlsbD0iIzAyNjVCNCIgcG9pbnRzPSIyLjM3NjIzNzYyIDgwIDM4LjA0NzY2NjcgODAgNTcuODIxNzgyMiA3My44MDU3NTkyIDU3LjgyMTc4MjIgMzIuNzU5MjczOSAzOS4xNDAyMjc4IDMxLjY4MzE2ODMiPjwvcG9seWdvbj4KICAgICAgICAgICAgICAgIDxwYXRoIGQ9Ik0zNS4wMDc3MTgsODAgQzQyLjkwNjIwMDcsNzYuNDU0OTM1OCA0Ny41NjQ5MTY3LDcxLjU0MjI2NzEgNDguOTgzODY2LDY1LjI2MTk5MzkgQzUxLjExMjI4OTksNTUuODQxNTg0MiA0MS42NzcxNzk1LDQ5LjIxMjIyODQgMjUuNjIzOTg0Niw0OS4yMTIyMjg0IEMyNS40ODQ5Mjg5LDQ5LjEyNjg0NDggMjkuODI2MTI5Niw0My4yODM4MjQ4IDM4LjY0NzU4NjksMzEuNjgzMTY4MyBMNzIuODcxMjg3MSwzMi41NTQ0MjUgTDY1LjI4MDk3Myw2Ny42NzYzNDIxIEw1MS4xMTIyODk5LDc3LjM3NjE0NCBMMzUuMDA3NzE4LDgwIFoiIGlkPSJQYXRoLTIyIiBmaWxsPSIjMDAyODY4Ij48L3BhdGg+CiAgICAgICAgICAgICAgICA8cGF0aCBkPSJNMCwzNy43MzA0NDA1IEwyNy4xMTQ1MzcsMC4yNTcxMTE0MzYgQzYyLjM3MTUxMjMsLTEuOTkwNzE3MDEgODAsMTAuNTAwMzkyNyA4MCwzNy43MzA0NDA1IEM4MCw2NC45NjA0ODgyIDY0Ljc3NjUwMzgsNzkuMDUwMzQxNCAzNC4zMjk1MTEzLDgwIEM0Ny4wNTUzNDg5LDc3LjU2NzA4MDggNTMuNDE4MjY3Nyw3MC4zMTM2MTAzIDUzLjQxODI2NzcsNTguMjM5NTg4NSBDNTMuNDE4MjY3Nyw0MC4xMjg1NTU3IDM2LjMwMzk1NDQsMzcuNzMwNDQwNSAyNS4yMjc0MTcsMzcuNzMwNDQwNSBDMTcuODQzMDU4NiwzNy43MzA0NDA1IDkuNDMzOTE5NjYsMzcuNzMwNDQwNSAwLDM3LjczMDQ0MDUgWiIgaWQ9IlBhdGgtMTkiIGZpbGw9IiMzNzkzRUYiPjwvcGF0aD4KICAgICAgICAgICAgPC9nPgogICAgICAgIDwvZz4KICAgIDwvZz4KPC9zdmc+' > </img>\nCreated in <span style='font-weight:600;margin-left:4px;'>Deepnote</span></a>",
   "metadata": {
    "tags": [],
    "created_in_deepnote_cell": true,
    "deepnote_cell_type": "markdown"
   }
  }
 ],
 "nbformat": 4,
 "nbformat_minor": 4,
 "metadata": {
  "kernelspec": {
   "display_name": "Python 3",
   "language": "python",
   "name": "python3"
  },
  "language_info": {
   "codemirror_mode": {
    "name": "ipython",
    "version": 3
   },
   "file_extension": ".py",
   "mimetype": "text/x-python",
   "name": "python",
   "nbconvert_exporter": "python",
   "pygments_lexer": "ipython3",
   "version": "3.8.5"
  },
  "deepnote_notebook_id": "4e2411ff-ea36-4a6b-858b-e4e3a16bd035",
  "deepnote": {},
  "deepnote_execution_queue": []
 }
}