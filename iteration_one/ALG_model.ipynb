{
 "cells": [
  {
   "cell_type": "code",
   "metadata": {
    "tags": [],
    "deepnote_to_be_reexecuted": false,
    "source_hash": "864c6ca2",
    "execution_start": 1622152479648,
    "execution_millis": 2864,
    "cell_id": "00000-ca0fb07f-9de0-4127-a343-a47d69e54ff4",
    "deepnote_cell_type": "code"
   },
   "source": "import pandas as pd\nimport numpy as np\n\n# Helper Functions\nimport wrangle as w \nimport explore as exp\nfrom explore import rfe, split, select_kbest\n\n# Visualizations\nimport seaborn as sns\nimport matplotlib.pyplot as plt\n\n# Hypothesis tests\nfrom scipy import stats\nfrom scipy.stats import chi2_contingency\nfrom scipy.stats import ttest_1samp\nfrom scipy.stats import ttest_ind\n\n#Feature Engineering\nfrom sklearn.feature_selection import SelectKBest, f_regression, chi2\nfrom sklearn.linear_model import LogisticRegression, SGDClassifier\nfrom sklearn.feature_selection import RFE\nfrom scipy import stats\n\n# Split data\nfrom sklearn.model_selection import train_test_split\n\n# Evaluate models\nfrom sklearn.metrics import confusion_matrix\nfrom sklearn.metrics import classification_report\nfrom sklearn.metrics import accuracy_score\nfrom sklearn.metrics import precision_score\nfrom sklearn.metrics import recall_score\nfrom sklearn.metrics import f1_score\nfrom sklearn.metrics import precision_recall_fscore_support \n\n# Create models for classification ML:\n# Decision Tree  \nfrom sklearn.tree import DecisionTreeClassifier\nfrom sklearn.tree import export_graphviz\n\n# Random Forest\nfrom sklearn.ensemble import RandomForestClassifier\n\n# K-Nearest Neighbor(KNN)  \nfrom sklearn.neighbors import KNeighborsClassifier\n\n# Logistic Regression\nfrom sklearn.linear_model import LogisticRegression",
   "execution_count": 1,
   "outputs": []
  },
  {
   "cell_type": "code",
   "source": "",
   "metadata": {
    "tags": [],
    "cell_id": "00001-4bfd928e-150d-494f-9bb7-cf03cf5bc865",
    "deepnote_cell_type": "code"
   },
   "outputs": [],
   "execution_count": null
  },
  {
   "cell_type": "code",
   "metadata": {
    "tags": [],
    "deepnote_to_be_reexecuted": false,
    "source_hash": "82eeda13",
    "execution_start": 1622152482513,
    "execution_millis": 46,
    "cell_id": "00001-d345b413-e470-4b33-abb7-7462c4a58719",
    "deepnote_cell_type": "code"
   },
   "source": "df = w.wrangle_data(cached=True)",
   "execution_count": 2,
   "outputs": []
  },
  {
   "cell_type": "code",
   "metadata": {
    "tags": [],
    "cell_id": "00002-662275bd-2519-4bd1-9a05-6615e20d4d12",
    "deepnote_to_be_reexecuted": false,
    "source_hash": "8fb9d845",
    "execution_start": 1622152482566,
    "execution_millis": 4,
    "deepnote_cell_type": "code"
   },
   "source": "df.drop(columns=['Unnamed: 0'], inplace=True)",
   "execution_count": 3,
   "outputs": []
  },
  {
   "cell_type": "code",
   "metadata": {
    "tags": [],
    "deepnote_to_be_reexecuted": false,
    "source_hash": "f3dd26da",
    "execution_start": 1622152482582,
    "execution_millis": 20,
    "cell_id": "00002-1e4381f0-96d8-4ea9-a854-0d0e74369488",
    "deepnote_cell_type": "code"
   },
   "source": "df.isnull().sum()",
   "execution_count": 4,
   "outputs": [
    {
     "output_type": "execute_result",
     "execution_count": 4,
     "data": {
      "text/plain": "age                                            0\ngender                                         0\nrace                                           0\ndate                                           0\ncity                                           0\nstate                                          0\nzipcode                                        0\ncounty                                         0\nagency_responsible                             0\ncause_of_death                                 0\ndescription_of_circumstances                   0\nofficial_disposition                           0\ncriminal_charges_filed                         0\nmental_illness                                 0\narmed_unarmed_status                           0\nalleged_weapon                                 0\nalleged_threat_lvl                             0\nfleeing                                        0\nbody_camera                                    0\ngeography                                      0\nencounter_type_draft                           0\ninitial_reported_reason_for_encounter_draft    0\nknown_past_shootings_of_officer_draft          0\nis_female                                      0\nis_male                                        0\nis_transgender                                 0\nwas_fleeing                                    0\nwas_not fleeing                                0\nwas_allegedly_armed                            0\nwas_unarmed                                    0\nwas_vehicle                                    0\nwas_domestic_disturbance                       0\nwas_mental_health_welfare_check                0\nwas_person_with_a_weapon                       0\nwas_traffic_stop                               0\nwas_violent_crime_part_1                       0\nis_asian/pacific islander                      0\nis_black                                       0\nis_hispanic                                    0\nis_native american                             0\nis_unknown race                                0\nis_white                                       0\nmntlill_drug or alcohol use                    0\nmntlill_no                                     0\nmntlill_unknown                                0\nmntlill_yes                                    0\nrural                                          0\nsuburban                                       0\nurban                                          0\ncod_lethal                                     0\nage_bins                                       0\nunknown                                        0\nunder 12                                       0\n12-17                                          0\n18-24                                          0\n25-34                                          0\n35-44                                          0\n45-54                                          0\n55-64                                          0\n65+                                            0\ndtype: int64"
     },
     "metadata": {}
    }
   ]
  },
  {
   "cell_type": "code",
   "metadata": {
    "tags": [],
    "deepnote_to_be_reexecuted": false,
    "source_hash": "2a21e0e6",
    "execution_start": 1622152482626,
    "execution_millis": 18,
    "cell_id": "00003-a26f7eef-6b8e-40c2-a48e-dd5d047209b9",
    "deepnote_cell_type": "code"
   },
   "source": "df.age.value_counts()",
   "execution_count": 5,
   "outputs": [
    {
     "output_type": "execute_result",
     "execution_count": 5,
     "data": {
      "text/plain": "0     233\n31    211\n25    210\n32    200\n30    198\n     ... \n10      1\n12      1\n1       1\n88      1\n85      1\nName: age, Length: 81, dtype: int64"
     },
     "metadata": {}
    }
   ]
  },
  {
   "cell_type": "code",
   "metadata": {
    "tags": [],
    "deepnote_to_be_reexecuted": false,
    "source_hash": "48919f60",
    "execution_start": 1622152482627,
    "execution_millis": 17,
    "cell_id": "00004-dcd9de0a-8632-4aad-af4a-cece182dd7d3",
    "deepnote_cell_type": "code"
   },
   "source": "df.age_bins.value_counts()",
   "execution_count": 6,
   "outputs": [
    {
     "output_type": "execute_result",
     "execution_count": 6,
     "data": {
      "text/plain": "25-34       1957\n35-44       1476\n45-54        919\n18-24        870\n55-64        501\nunknown      233\n65+          189\n12-17        115\nunder 12       5\nName: age_bins, dtype: int64"
     },
     "metadata": {}
    }
   ]
  },
  {
   "cell_type": "code",
   "metadata": {
    "tags": [],
    "deepnote_to_be_reexecuted": false,
    "source_hash": "25d43fa0",
    "execution_start": 1622152482628,
    "execution_millis": 16,
    "cell_id": "00005-fff6aeeb-efe7-42da-8b2e-a6f40120262e",
    "deepnote_cell_type": "code"
   },
   "source": "df.columns",
   "execution_count": 7,
   "outputs": [
    {
     "output_type": "execute_result",
     "execution_count": 7,
     "data": {
      "text/plain": "Index(['age', 'gender', 'race', 'date', 'city', 'state', 'zipcode', 'county',\n       'agency_responsible', 'cause_of_death', 'description_of_circumstances',\n       'official_disposition', 'criminal_charges_filed', 'mental_illness',\n       'armed_unarmed_status', 'alleged_weapon', 'alleged_threat_lvl',\n       'fleeing', 'body_camera', 'geography', 'encounter_type_draft',\n       'initial_reported_reason_for_encounter_draft',\n       'known_past_shootings_of_officer_draft', 'is_female', 'is_male',\n       'is_transgender', 'was_fleeing', 'was_not fleeing ',\n       'was_allegedly_armed', 'was_unarmed', 'was_vehicle',\n       'was_domestic_disturbance', 'was_mental_health_welfare_check',\n       'was_person_with_a_weapon', 'was_traffic_stop',\n       'was_violent_crime_part_1', 'is_asian/pacific islander', 'is_black',\n       'is_hispanic', 'is_native american', 'is_unknown race', 'is_white',\n       'mntlill_drug or alcohol use', 'mntlill_no', 'mntlill_unknown',\n       'mntlill_yes', 'rural', 'suburban', 'urban', 'cod_lethal', 'age_bins',\n       'unknown', 'under 12', '12-17', '18-24', '25-34', '35-44', '45-54',\n       '55-64', '65+'],\n      dtype='object')"
     },
     "metadata": {}
    }
   ]
  },
  {
   "cell_type": "code",
   "metadata": {
    "tags": [],
    "deepnote_to_be_reexecuted": false,
    "source_hash": "fb9b34ba",
    "execution_start": 1622152482633,
    "execution_millis": 1,
    "cell_id": "00006-e504add4-6501-463c-b279-cd20cbc367a5",
    "deepnote_cell_type": "code"
   },
   "source": "from explore import rfe, split, select_kbest",
   "execution_count": 8,
   "outputs": []
  },
  {
   "cell_type": "code",
   "metadata": {
    "tags": [],
    "deepnote_to_be_reexecuted": false,
    "source_hash": "61bca6e2",
    "execution_start": 1622152482682,
    "execution_millis": 1,
    "cell_id": "00007-c3c59e61-7a1b-4526-8f95-0313fa01d373",
    "deepnote_cell_type": "code"
   },
   "source": "train, validate, test = split(df, stratify_by='alleged_threat_lvl')",
   "execution_count": 9,
   "outputs": []
  },
  {
   "cell_type": "code",
   "metadata": {
    "tags": [],
    "deepnote_to_be_reexecuted": false,
    "source_hash": "68e62203",
    "execution_start": 1622152482683,
    "execution_millis": 0,
    "cell_id": "00008-83599b50-8693-42a9-9a3d-7476133dd466",
    "deepnote_cell_type": "code"
   },
   "source": "\ndef split_df(df, target, seed):\n    '''\n    split_df will take one argument(df) and \n    then split our data into 20/80, \n    then split the 80% into 30/70\n    performs a train, validate, test split\n    splits each of the 3 samples into a dataframe with independent variables\n    and a series with the dependent, or target variable. \n    The function returns 6 dataframes and 3 series:\n    train, validate, test split, X_train (df) & y_train (series), X_validate & y_validate, X_test & y_test. \n    '''\n    # Train, Validate, and test\n    train_and_validate, test = train_test_split(df, test_size=0.2, random_state=seed)\n    train, validate = train_test_split(train_and_validate, test_size=0.3, random_state=seed)\n    # Split with X and y\n    X_train = train.drop(columns=[target])\n    y_train = train[target]\n    X_validate = validate.drop(columns=[target])\n    y_validate = validate[target]\n    X_test = test.drop(columns=[target])\n    y_test = test[target]\n    return train, validate, test, X_train, y_train, X_validate, y_validate, X_test, y_test ",
   "execution_count": 10,
   "outputs": []
  },
  {
   "cell_type": "code",
   "metadata": {
    "tags": [],
    "deepnote_to_be_reexecuted": false,
    "source_hash": "4ca76457",
    "execution_start": 1622152482684,
    "execution_millis": 43,
    "cell_id": "00009-6ed7f350-2cb6-4c10-8e66-bad83b18590e",
    "deepnote_cell_type": "code"
   },
   "source": "\ntrain, validate, test, X_train, y_train, X_validate, y_validate, X_test, y_test = split_df(df, 'alleged_threat_lvl', 42)",
   "execution_count": 11,
   "outputs": []
  },
  {
   "cell_type": "code",
   "metadata": {
    "tags": [],
    "cell_id": "00011-683c2d03-d03e-440d-8a99-a367c2c23a13",
    "deepnote_to_be_reexecuted": false,
    "source_hash": "b08d3e18",
    "execution_start": 1622152482727,
    "execution_millis": 9,
    "deepnote_cell_type": "code"
   },
   "source": "df.geography.value_counts()",
   "execution_count": 12,
   "outputs": [
    {
     "output_type": "execute_result",
     "execution_count": 12,
     "data": {
      "text/plain": "suburban    3180\nurban       1645\nrural       1440\nName: geography, dtype: int64"
     },
     "metadata": {}
    }
   ]
  },
  {
   "cell_type": "code",
   "metadata": {
    "tags": [],
    "cell_id": "00012-6846bfaf-dfe0-49ac-8c53-6d352e0c0fab",
    "deepnote_to_be_reexecuted": false,
    "source_hash": "b623e53d",
    "execution_start": 1622152482728,
    "execution_millis": 0,
    "deepnote_cell_type": "code"
   },
   "source": "",
   "execution_count": 12,
   "outputs": []
  },
  {
   "cell_type": "code",
   "metadata": {
    "tags": [],
    "cell_id": "00011-57ebe1cd-e9d9-4bd7-a380-dfc099a01a46",
    "deepnote_to_be_reexecuted": false,
    "source_hash": "39359d36",
    "execution_start": 1622152482728,
    "execution_millis": 203,
    "deepnote_cell_type": "code"
   },
   "source": "sns.countplot(data=df, x='geography', palette='ocean_r')\nplt.title(\"Fatal Incidents are Occurring in Our Backyards\")\nplt.ylabel('Number of Fatalities')\nplt.show()",
   "execution_count": 13,
   "outputs": [
    {
     "data": {
      "text/plain": "<Figure size 432x288 with 1 Axes>",
      "image/png": "[encoded data removed]"
     },
     "metadata": {
      "needs_background": "light",
      "image/png": {
       "width": 395,
       "height": 278
      }
     },
     "output_type": "display_data"
    }
   ]
  },
  {
   "cell_type": "code",
   "metadata": {
    "tags": [],
    "deepnote_to_be_reexecuted": false,
    "source_hash": "89d68b10",
    "execution_start": 1622152482947,
    "execution_millis": 0,
    "cell_id": "00010-35249c4b-2d35-4a1b-92aa-820c88f374a5",
    "deepnote_cell_type": "code"
   },
   "source": "#y_",
   "execution_count": 14,
   "outputs": []
  },
  {
   "cell_type": "code",
   "metadata": {
    "tags": [],
    "deepnote_to_be_reexecuted": false,
    "source_hash": "3ca3de2b",
    "execution_start": 1622152482948,
    "execution_millis": 8,
    "cell_id": "00011-27697b83-487a-4b21-ba78-a507f07f691c",
    "deepnote_cell_type": "code"
   },
   "source": "X_train.info()",
   "execution_count": 15,
   "outputs": [
    {
     "name": "stdout",
     "text": "<class 'pandas.core.frame.DataFrame'>\nInt64Index: 3508 entries, 4142 to 5708\nData columns (total 59 columns):\n #   Column                                       Non-Null Count  Dtype  \n---  ------                                       --------------  -----  \n 0   age                                          3508 non-null   int64  \n 1   gender                                       3508 non-null   object \n 2   race                                         3508 non-null   object \n 3   date                                         3508 non-null   object \n 4   city                                         3508 non-null   object \n 5   state                                        3508 non-null   object \n 6   zipcode                                      3508 non-null   float64\n 7   county                                       3508 non-null   object \n 8   agency_responsible                           3508 non-null   object \n 9   cause_of_death                               3508 non-null   object \n 10  description_of_circumstances                 3508 non-null   object \n 11  official_disposition                         3508 non-null   object \n 12  criminal_charges_filed                       3508 non-null   object \n 13  mental_illness                               3508 non-null   object \n 14  armed_unarmed_status                         3508 non-null   object \n 15  alleged_weapon                               3508 non-null   object \n 16  fleeing                                      3508 non-null   object \n 17  body_camera                                  3508 non-null   float64\n 18  geography                                    3508 non-null   object \n 19  encounter_type_draft                         3508 non-null   object \n 20  initial_reported_reason_for_encounter_draft  3508 non-null   object \n 21  known_past_shootings_of_officer_draft        3508 non-null   int64  \n 22  is_female                                    3508 non-null   int64  \n 23  is_male                                      3508 non-null   int64  \n 24  is_transgender                               3508 non-null   int64  \n 25  was_fleeing                                  3508 non-null   float64\n 26  was_not fleeing                              3508 non-null   float64\n 27  was_allegedly_armed                          3508 non-null   float64\n 28  was_unarmed                                  3508 non-null   float64\n 29  was_vehicle                                  3508 non-null   float64\n 30  was_domestic_disturbance                     3508 non-null   int64  \n 31  was_mental_health_welfare_check              3508 non-null   int64  \n 32  was_person_with_a_weapon                     3508 non-null   int64  \n 33  was_traffic_stop                             3508 non-null   int64  \n 34  was_violent_crime_part_1                     3508 non-null   int64  \n 35  is_asian/pacific islander                    3508 non-null   int64  \n 36  is_black                                     3508 non-null   int64  \n 37  is_hispanic                                  3508 non-null   int64  \n 38  is_native american                           3508 non-null   int64  \n 39  is_unknown race                              3508 non-null   int64  \n 40  is_white                                     3508 non-null   int64  \n 41  mntlill_drug or alcohol use                  3508 non-null   int64  \n 42  mntlill_no                                   3508 non-null   int64  \n 43  mntlill_unknown                              3508 non-null   int64  \n 44  mntlill_yes                                  3508 non-null   int64  \n 45  rural                                        3508 non-null   float64\n 46  suburban                                     3508 non-null   float64\n 47  urban                                        3508 non-null   float64\n 48  cod_lethal                                   3508 non-null   int64  \n 49  age_bins                                     3508 non-null   object \n 50  unknown                                      3508 non-null   int64  \n 51  under 12                                     3508 non-null   int64  \n 52  12-17                                        3508 non-null   int64  \n 53  18-24                                        3508 non-null   int64  \n 54  25-34                                        3508 non-null   int64  \n 55  35-44                                        3508 non-null   int64  \n 56  45-54                                        3508 non-null   int64  \n 57  55-64                                        3508 non-null   int64  \n 58  65+                                          3508 non-null   int64  \ndtypes: float64(10), int64(30), object(19)\nmemory usage: 1.6+ MB\n",
     "output_type": "stream"
    }
   ]
  },
  {
   "cell_type": "code",
   "metadata": {
    "tags": [],
    "deepnote_to_be_reexecuted": false,
    "source_hash": "576f2697",
    "execution_start": 1622152482972,
    "execution_millis": 0,
    "cell_id": "00012-cedd0909-f06b-48ee-9370-798665f4bb05",
    "deepnote_cell_type": "code"
   },
   "source": "from sklearn.feature_selection import f_regression, RFE, SelectKBest",
   "execution_count": 16,
   "outputs": []
  },
  {
   "cell_type": "code",
   "metadata": {
    "tags": [],
    "deepnote_to_be_reexecuted": false,
    "source_hash": "1039a82",
    "execution_start": 1622152482972,
    "execution_millis": 18,
    "cell_id": "00013-e5b409d3-a56b-4e8d-85a6-cd805832ae08",
    "deepnote_cell_type": "code"
   },
   "source": "list(df.columns)",
   "execution_count": 17,
   "outputs": [
    {
     "output_type": "execute_result",
     "execution_count": 17,
     "data": {
      "text/plain": "['age',\n 'gender',\n 'race',\n 'date',\n 'city',\n 'state',\n 'zipcode',\n 'county',\n 'agency_responsible',\n 'cause_of_death',\n 'description_of_circumstances',\n 'official_disposition',\n 'criminal_charges_filed',\n 'mental_illness',\n 'armed_unarmed_status',\n 'alleged_weapon',\n 'alleged_threat_lvl',\n 'fleeing',\n 'body_camera',\n 'geography',\n 'encounter_type_draft',\n 'initial_reported_reason_for_encounter_draft',\n 'known_past_shootings_of_officer_draft',\n 'is_female',\n 'is_male',\n 'is_transgender',\n 'was_fleeing',\n 'was_not fleeing ',\n 'was_allegedly_armed',\n 'was_unarmed',\n 'was_vehicle',\n 'was_domestic_disturbance',\n 'was_mental_health_welfare_check',\n 'was_person_with_a_weapon',\n 'was_traffic_stop',\n 'was_violent_crime_part_1',\n 'is_asian/pacific islander',\n 'is_black',\n 'is_hispanic',\n 'is_native american',\n 'is_unknown race',\n 'is_white',\n 'mntlill_drug or alcohol use',\n 'mntlill_no',\n 'mntlill_unknown',\n 'mntlill_yes',\n 'rural',\n 'suburban',\n 'urban',\n 'cod_lethal',\n 'age_bins',\n 'unknown',\n 'under 12',\n '12-17',\n '18-24',\n '25-34',\n '35-44',\n '45-54',\n '55-64',\n '65+']"
     },
     "metadata": {}
    }
   ]
  },
  {
   "cell_type": "code",
   "metadata": {
    "tags": [],
    "deepnote_to_be_reexecuted": false,
    "source_hash": "368ac104",
    "execution_start": 1622152482973,
    "execution_millis": 0,
    "cell_id": "00014-3c810d71-c5f6-4a13-afcf-0c1b1966533e",
    "deepnote_cell_type": "code"
   },
   "source": "dropcols = ['date',\n 'gender',\n 'race',\n 'city',\n 'state',\n 'zipcode',\n 'county',\n 'agency_responsible',\n 'cause_of_death',\n 'description_of_circumstances',\n 'official_disposition',\n 'criminal_charges_filed',\n 'mental_illness',\n 'armed_unarmed_status',\n 'alleged_threat_lvl',\n 'alleged_weapon',\n 'fleeing',\n 'geography',\n 'encounter_type_draft',\n 'initial_reported_reason_for_encounter_draft',\n 'known_past_shootings_of_officer_draft',\n 'age_bins']\n",
   "execution_count": 18,
   "outputs": []
  },
  {
   "cell_type": "code",
   "metadata": {
    "tags": [],
    "deepnote_to_be_reexecuted": false,
    "source_hash": "d330f65b",
    "execution_start": 1622152483015,
    "execution_millis": 0,
    "cell_id": "00015-7b7dd39a-fdb6-4ca0-b17c-de01945d5596",
    "deepnote_cell_type": "code"
   },
   "source": "train2 = train.drop(columns=dropcols)\nvalidate2 = validate.drop(columns=dropcols)\ntest2 = test.drop(columns=dropcols)",
   "execution_count": 19,
   "outputs": []
  },
  {
   "cell_type": "code",
   "metadata": {
    "tags": [],
    "deepnote_to_be_reexecuted": false,
    "source_hash": "569ea54a",
    "execution_start": 1622152483015,
    "execution_millis": 14,
    "cell_id": "00016-2680470a-0ba2-4a1f-9028-355337b25e8b",
    "deepnote_cell_type": "code"
   },
   "source": "train2.info()",
   "execution_count": 20,
   "outputs": [
    {
     "name": "stdout",
     "text": "<class 'pandas.core.frame.DataFrame'>\nInt64Index: 3508 entries, 4142 to 5708\nData columns (total 38 columns):\n #   Column                           Non-Null Count  Dtype  \n---  ------                           --------------  -----  \n 0   age                              3508 non-null   int64  \n 1   body_camera                      3508 non-null   float64\n 2   is_female                        3508 non-null   int64  \n 3   is_male                          3508 non-null   int64  \n 4   is_transgender                   3508 non-null   int64  \n 5   was_fleeing                      3508 non-null   float64\n 6   was_not fleeing                  3508 non-null   float64\n 7   was_allegedly_armed              3508 non-null   float64\n 8   was_unarmed                      3508 non-null   float64\n 9   was_vehicle                      3508 non-null   float64\n 10  was_domestic_disturbance         3508 non-null   int64  \n 11  was_mental_health_welfare_check  3508 non-null   int64  \n 12  was_person_with_a_weapon         3508 non-null   int64  \n 13  was_traffic_stop                 3508 non-null   int64  \n 14  was_violent_crime_part_1         3508 non-null   int64  \n 15  is_asian/pacific islander        3508 non-null   int64  \n 16  is_black                         3508 non-null   int64  \n 17  is_hispanic                      3508 non-null   int64  \n 18  is_native american               3508 non-null   int64  \n 19  is_unknown race                  3508 non-null   int64  \n 20  is_white                         3508 non-null   int64  \n 21  mntlill_drug or alcohol use      3508 non-null   int64  \n 22  mntlill_no                       3508 non-null   int64  \n 23  mntlill_unknown                  3508 non-null   int64  \n 24  mntlill_yes                      3508 non-null   int64  \n 25  rural                            3508 non-null   float64\n 26  suburban                         3508 non-null   float64\n 27  urban                            3508 non-null   float64\n 28  cod_lethal                       3508 non-null   int64  \n 29  unknown                          3508 non-null   int64  \n 30  under 12                         3508 non-null   int64  \n 31  12-17                            3508 non-null   int64  \n 32  18-24                            3508 non-null   int64  \n 33  25-34                            3508 non-null   int64  \n 34  35-44                            3508 non-null   int64  \n 35  45-54                            3508 non-null   int64  \n 36  55-64                            3508 non-null   int64  \n 37  65+                              3508 non-null   int64  \ndtypes: float64(9), int64(29)\nmemory usage: 1.0 MB\n",
     "output_type": "stream"
    }
   ]
  },
  {
   "cell_type": "code",
   "metadata": {
    "tags": [],
    "deepnote_to_be_reexecuted": false,
    "source_hash": "b18318e7",
    "execution_start": 1622152483016,
    "execution_millis": 13,
    "cell_id": "00017-1fd0f1c7-cd24-4b1c-bbb9-c327a3b88995",
    "deepnote_cell_type": "code"
   },
   "source": "train2.columns",
   "execution_count": 21,
   "outputs": [
    {
     "output_type": "execute_result",
     "execution_count": 21,
     "data": {
      "text/plain": "Index(['age', 'body_camera', 'is_female', 'is_male', 'is_transgender',\n       'was_fleeing', 'was_not fleeing ', 'was_allegedly_armed', 'was_unarmed',\n       'was_vehicle', 'was_domestic_disturbance',\n       'was_mental_health_welfare_check', 'was_person_with_a_weapon',\n       'was_traffic_stop', 'was_violent_crime_part_1',\n       'is_asian/pacific islander', 'is_black', 'is_hispanic',\n       'is_native american', 'is_unknown race', 'is_white',\n       'mntlill_drug or alcohol use', 'mntlill_no', 'mntlill_unknown',\n       'mntlill_yes', 'rural', 'suburban', 'urban', 'cod_lethal', 'unknown',\n       'under 12', '12-17', '18-24', '25-34', '35-44', '45-54', '55-64',\n       '65+'],\n      dtype='object')"
     },
     "metadata": {}
    }
   ]
  },
  {
   "cell_type": "code",
   "metadata": {
    "tags": [],
    "deepnote_to_be_reexecuted": false,
    "source_hash": "c5522482",
    "execution_start": 1622152483077,
    "execution_millis": 17,
    "cell_id": "00018-18932d81-84ed-48a9-baba-536dd89519d4",
    "deepnote_cell_type": "code"
   },
   "source": "f_feature = select_kbest(train2, y_train, 15)\nf_feature",
   "execution_count": 22,
   "outputs": [
    {
     "output_type": "execute_result",
     "execution_count": 22,
     "data": {
      "text/plain": "['age',\n 'body_camera',\n 'is_transgender',\n 'was_allegedly_armed',\n 'was_unarmed',\n 'was_vehicle',\n 'was_mental_health_welfare_check',\n 'was_violent_crime_part_1',\n 'is_hispanic',\n 'is_white',\n 'mntlill_no',\n 'mntlill_yes',\n 'rural',\n '55-64',\n '65+']"
     },
     "metadata": {}
    }
   ]
  },
  {
   "cell_type": "code",
   "metadata": {
    "tags": [],
    "deepnote_to_be_reexecuted": false,
    "source_hash": "ac440bf0",
    "execution_start": 1622152483078,
    "execution_millis": 4641,
    "cell_id": "00019-ea7896a9-0aec-43ce-841b-0080ffa25035",
    "deepnote_cell_type": "code"
   },
   "source": "rfe_list = rfe(train2, y_train, 15)",
   "execution_count": 23,
   "outputs": [
    {
     "name": "stderr",
     "text": "/shared-libs/python3.7/py/lib/python3.7/site-packages/sklearn/utils/validation.py:72: FutureWarning: Pass n_features_to_select=15 as keyword args. From version 1.0 (renaming of 0.25) passing these as positional arguments will result in an error\n  \"will result in an error\", FutureWarning)\n/shared-libs/python3.7/py/lib/python3.7/site-packages/sklearn/linear_model/_logistic.py:765: ConvergenceWarning: lbfgs failed to converge (status=1):\nSTOP: TOTAL NO. of ITERATIONS REACHED LIMIT.\n\nIncrease the number of iterations (max_iter) or scale the data as shown in:\n    https://scikit-learn.org/stable/modules/preprocessing.html\nPlease also refer to the documentation for alternative solver options:\n    https://scikit-learn.org/stable/modules/linear_model.html#logistic-regression\n  extra_warning_msg=_LOGISTIC_SOLVER_CONVERGENCE_MSG)\n/shared-libs/python3.7/py/lib/python3.7/site-packages/sklearn/linear_model/_logistic.py:765: ConvergenceWarning: lbfgs failed to converge (status=1):\nSTOP: TOTAL NO. of ITERATIONS REACHED LIMIT.\n\nIncrease the number of iterations (max_iter) or scale the data as shown in:\n    https://scikit-learn.org/stable/modules/preprocessing.html\nPlease also refer to the documentation for alternative solver options:\n    https://scikit-learn.org/stable/modules/linear_model.html#logistic-regression\n  extra_warning_msg=_LOGISTIC_SOLVER_CONVERGENCE_MSG)\n/shared-libs/python3.7/py/lib/python3.7/site-packages/sklearn/linear_model/_logistic.py:765: ConvergenceWarning: lbfgs failed to converge (status=1):\nSTOP: TOTAL NO. of ITERATIONS REACHED LIMIT.\n\nIncrease the number of iterations (max_iter) or scale the data as shown in:\n    https://scikit-learn.org/stable/modules/preprocessing.html\nPlease also refer to the documentation for alternative solver options:\n    https://scikit-learn.org/stable/modules/linear_model.html#logistic-regression\n  extra_warning_msg=_LOGISTIC_SOLVER_CONVERGENCE_MSG)\n",
     "output_type": "stream"
    }
   ]
  },
  {
   "cell_type": "code",
   "metadata": {
    "tags": [],
    "deepnote_to_be_reexecuted": false,
    "source_hash": "adde19a5",
    "execution_start": 1622152487728,
    "execution_millis": 78,
    "cell_id": "00020-d8d739d8-0bd5-4d44-8827-11b681a2c777",
    "deepnote_cell_type": "code"
   },
   "source": "f_feature",
   "execution_count": 24,
   "outputs": [
    {
     "output_type": "execute_result",
     "execution_count": 24,
     "data": {
      "text/plain": "['age',\n 'body_camera',\n 'is_transgender',\n 'was_allegedly_armed',\n 'was_unarmed',\n 'was_vehicle',\n 'was_mental_health_welfare_check',\n 'was_violent_crime_part_1',\n 'is_hispanic',\n 'is_white',\n 'mntlill_no',\n 'mntlill_yes',\n 'rural',\n '55-64',\n '65+']"
     },
     "metadata": {}
    }
   ]
  },
  {
   "cell_type": "code",
   "metadata": {
    "tags": [],
    "deepnote_to_be_reexecuted": false,
    "source_hash": "9d8423df",
    "execution_start": 1622152487807,
    "execution_millis": 20,
    "cell_id": "00021-0f7f8626-e6bb-4be6-93b6-6ed0bea04e80",
    "deepnote_cell_type": "code"
   },
   "source": "rfe_list",
   "execution_count": 25,
   "outputs": [
    {
     "output_type": "execute_result",
     "execution_count": 25,
     "data": {
      "text/plain": "['is_female',\n 'is_male',\n 'is_transgender',\n 'was_not fleeing ',\n 'was_allegedly_armed',\n 'was_unarmed',\n 'was_vehicle',\n 'was_person_with_a_weapon',\n 'is_black',\n 'is_unknown race',\n 'is_white',\n 'mntlill_drug or alcohol use',\n 'mntlill_yes',\n 'cod_lethal',\n '65+']"
     },
     "metadata": {}
    }
   ]
  },
  {
   "cell_type": "code",
   "metadata": {
    "tags": [],
    "deepnote_to_be_reexecuted": false,
    "source_hash": "75be0d0c",
    "execution_start": 1622152487823,
    "execution_millis": 69,
    "cell_id": "00022-373fde5e-c306-4c66-89ca-d8031e9de8b3",
    "deepnote_cell_type": "code"
   },
   "source": "combo_feats = list(set(f_feature + rfe_list))",
   "execution_count": 26,
   "outputs": []
  },
  {
   "cell_type": "code",
   "metadata": {
    "tags": [],
    "deepnote_to_be_reexecuted": false,
    "source_hash": "d038553",
    "execution_start": 1622152487924,
    "execution_millis": 10,
    "cell_id": "00023-58b01ef5-78a8-4321-adfd-55275ed3a6c2",
    "deepnote_cell_type": "code"
   },
   "source": "len(combo_feats)",
   "execution_count": 27,
   "outputs": [
    {
     "output_type": "execute_result",
     "execution_count": 27,
     "data": {
      "text/plain": "23"
     },
     "metadata": {}
    }
   ]
  },
  {
   "cell_type": "code",
   "metadata": {
    "tags": [],
    "deepnote_to_be_reexecuted": false,
    "source_hash": "8d90ad63",
    "execution_start": 1622152487924,
    "execution_millis": 10,
    "cell_id": "00024-e836b7a6-98da-4edc-9dc9-87f56bc8db9e",
    "deepnote_cell_type": "code"
   },
   "source": "combo_feats",
   "execution_count": 28,
   "outputs": [
    {
     "output_type": "execute_result",
     "execution_count": 28,
     "data": {
      "text/plain": "['65+',\n 'is_female',\n 'cod_lethal',\n 'is_black',\n 'was_unarmed',\n 'was_vehicle',\n 'was_violent_crime_part_1',\n 'rural',\n 'is_transgender',\n 'was_not fleeing ',\n 'was_allegedly_armed',\n '55-64',\n 'is_unknown race',\n 'is_male',\n 'body_camera',\n 'age',\n 'is_white',\n 'was_mental_health_welfare_check',\n 'mntlill_yes',\n 'is_hispanic',\n 'mntlill_no',\n 'mntlill_drug or alcohol use',\n 'was_person_with_a_weapon']"
     },
     "metadata": {}
    }
   ]
  },
  {
   "cell_type": "markdown",
   "source": "# KNN\n## Train\n",
   "metadata": {
    "tags": [],
    "cell_id": "00026-260ef3b7-da2d-499f-985f-a0cf187398e6",
    "deepnote_cell_type": "markdown"
   }
  },
  {
   "cell_type": "code",
   "metadata": {
    "tags": [],
    "cell_id": "00026-bc554847-7d76-4e00-b5e8-60564c9b13bc",
    "deepnote_to_be_reexecuted": false,
    "source_hash": "bb2235ce",
    "execution_start": 1622152487925,
    "execution_millis": 10,
    "deepnote_cell_type": "code"
   },
   "source": "df.alleged_threat_lvl.value_counts()",
   "execution_count": 29,
   "outputs": [
    {
     "output_type": "execute_result",
     "execution_count": 29,
     "data": {
      "text/plain": "1.0    4242\n0.0    2023\nName: alleged_threat_lvl, dtype: int64"
     },
     "metadata": {}
    }
   ]
  },
  {
   "cell_type": "code",
   "metadata": {
    "tags": [],
    "cell_id": "00027-eeb97c54-321f-4c1f-97c8-27df1460a7fd",
    "deepnote_to_be_reexecuted": false,
    "source_hash": "988dc88d",
    "execution_start": 1622152487953,
    "execution_millis": 24,
    "deepnote_cell_type": "code"
   },
   "source": "(train.alleged_threat_lvl == 0).mean()",
   "execution_count": 30,
   "outputs": [
    {
     "output_type": "execute_result",
     "execution_count": 30,
     "data": {
      "text/plain": "0.3221208665906499"
     },
     "metadata": {}
    }
   ]
  },
  {
   "cell_type": "code",
   "metadata": {
    "tags": [],
    "cell_id": "00027-0dc3290c-92a3-4fcf-a4e5-5c9fd216bacf",
    "deepnote_to_be_reexecuted": false,
    "source_hash": "97f90de9",
    "execution_start": 1622152487954,
    "execution_millis": 1,
    "deepnote_cell_type": "code"
   },
   "source": "def get_metrics(mod, X, y):\n    \"\"\"\n    get_metrics returns the baseline accuracy score \n    along with the current model's accuracy score for comparison \n    along with a table of precision/recall/f1-score/support percentages of the model\n    \"\"\"\n    baseline_accuracy = (train.alleged_threat_lvl == 0).mean()\n    y_pred = mod.predict(X)\n    accuracy = mod.score(X, y)\n    conf = confusion_matrix(y, y_pred)\n    prfs = pd.DataFrame(precision_recall_fscore_support(y, y_pred), index=['precision', 'recall', 'f1-score', 'support'])\n    \n    print(f'''\n    BASELINE accuracy is: {baseline_accuracy:.2%}\n    The accuracy for our model is: {accuracy:.5%} \n    ''')\n    return conf, prfs",
   "execution_count": 31,
   "outputs": []
  },
  {
   "cell_type": "code",
   "metadata": {
    "tags": [],
    "cell_id": "00029-ed22fca1-cc2a-476e-bfb9-d2bfd1934c1f",
    "deepnote_to_be_reexecuted": false,
    "source_hash": "32e4eb35",
    "execution_start": 1622152487956,
    "execution_millis": 0,
    "deepnote_cell_type": "code"
   },
   "source": "combo_feats = ['55-64',\n 'is_native american',\n 'mntlill_no',\n 'under 12',\n 'was_traffic_stop',\n 'body_camera',\n 'age',\n 'was_allegedly_armed',\n 'is_black',\n 'was_domestic_disturbance',\n 'was_fleeing',\n 'cod_lethal',\n 'was_mental_health_welfare_check',\n 'is_white',\n 'was_violent_crime_part_1',\n 'was_vehicle',\n 'mntlill_drug or alcohol use',\n 'is_transgender',\n 'is_female']",
   "execution_count": 32,
   "outputs": []
  },
  {
   "cell_type": "code",
   "metadata": {
    "tags": [],
    "cell_id": "00028-39a7449e-4599-47ec-ae19-9babc5189f1a",
    "deepnote_to_be_reexecuted": false,
    "source_hash": "ada4e53",
    "execution_start": 1622152487969,
    "execution_millis": 113,
    "deepnote_cell_type": "code"
   },
   "source": "train2[f_feature]",
   "execution_count": 33,
   "outputs": [
    {
     "output_type": "execute_result",
     "execution_count": 33,
     "data": {
      "application/vnd.deepnote.dataframe.v2+json": {
       "row_count": 3508,
       "column_count": 15,
       "columns": [
        {
         "name": "age",
         "dtype": "int64",
         "stats": {
          "unique_count": 73,
          "nan_count": 0,
          "min": "0",
          "max": "91",
          "histogram": [
           {
            "bin_start": 0,
            "bin_end": 9.1,
            "count": 133
           },
           {
            "bin_start": 9.1,
            "bin_end": 18.2,
            "count": 127
           },
           {
            "bin_start": 18.2,
            "bin_end": 27.299999999999997,
            "count": 762
           },
           {
            "bin_start": 27.299999999999997,
            "bin_end": 36.4,
            "count": 968
           },
           {
            "bin_start": 36.4,
            "bin_end": 45.5,
            "count": 695
           },
           {
            "bin_start": 45.5,
            "bin_end": 54.599999999999994,
            "count": 446
           },
           {
            "bin_start": 54.599999999999994,
            "bin_end": 63.699999999999996,
            "count": 266
           },
           {
            "bin_start": 63.699999999999996,
            "bin_end": 72.8,
            "count": 84
           },
           {
            "bin_start": 72.8,
            "bin_end": 81.89999999999999,
            "count": 23
           },
           {
            "bin_start": 81.89999999999999,
            "bin_end": 91,
            "count": 4
           }
          ]
         }
        },
        {
         "name": "body_camera",
         "dtype": "float64",
         "stats": {
          "unique_count": 2,
          "nan_count": 0,
          "min": "0.0",
          "max": "1.0",
          "histogram": [
           {
            "bin_start": 0,
            "bin_end": 0.1,
            "count": 3131
           },
           {
            "bin_start": 0.1,
            "bin_end": 0.2,
            "count": 0
           },
           {
            "bin_start": 0.2,
            "bin_end": 0.30000000000000004,
            "count": 0
           },
           {
            "bin_start": 0.30000000000000004,
            "bin_end": 0.4,
            "count": 0
           },
           {
            "bin_start": 0.4,
            "bin_end": 0.5,
            "count": 0
           },
           {
            "bin_start": 0.5,
            "bin_end": 0.6000000000000001,
            "count": 0
           },
           {
            "bin_start": 0.6000000000000001,
            "bin_end": 0.7000000000000001,
            "count": 0
           },
           {
            "bin_start": 0.7000000000000001,
            "bin_end": 0.8,
            "count": 0
           },
           {
            "bin_start": 0.8,
            "bin_end": 0.9,
            "count": 0
           },
           {
            "bin_start": 0.9,
            "bin_end": 1,
            "count": 377
           }
          ]
         }
        },
        {
         "name": "is_transgender",
         "dtype": "int64",
         "stats": {
          "unique_count": 2,
          "nan_count": 0,
          "min": "0",
          "max": "1",
          "histogram": [
           {
            "bin_start": 0,
            "bin_end": 0.1,
            "count": 3502
           },
           {
            "bin_start": 0.1,
            "bin_end": 0.2,
            "count": 0
           },
           {
            "bin_start": 0.2,
            "bin_end": 0.30000000000000004,
            "count": 0
           },
           {
            "bin_start": 0.30000000000000004,
            "bin_end": 0.4,
            "count": 0
           },
           {
            "bin_start": 0.4,
            "bin_end": 0.5,
            "count": 0
           },
           {
            "bin_start": 0.5,
            "bin_end": 0.6000000000000001,
            "count": 0
           },
           {
            "bin_start": 0.6000000000000001,
            "bin_end": 0.7000000000000001,
            "count": 0
           },
           {
            "bin_start": 0.7000000000000001,
            "bin_end": 0.8,
            "count": 0
           },
           {
            "bin_start": 0.8,
            "bin_end": 0.9,
            "count": 0
           },
           {
            "bin_start": 0.9,
            "bin_end": 1,
            "count": 6
           }
          ]
         }
        },
        {
         "name": "was_allegedly_armed",
         "dtype": "float64",
         "stats": {
          "unique_count": 2,
          "nan_count": 0,
          "min": "0.0",
          "max": "1.0",
          "histogram": [
           {
            "bin_start": 0,
            "bin_end": 0.1,
            "count": 795
           },
           {
            "bin_start": 0.1,
            "bin_end": 0.2,
            "count": 0
           },
           {
            "bin_start": 0.2,
            "bin_end": 0.30000000000000004,
            "count": 0
           },
           {
            "bin_start": 0.30000000000000004,
            "bin_end": 0.4,
            "count": 0
           },
           {
            "bin_start": 0.4,
            "bin_end": 0.5,
            "count": 0
           },
           {
            "bin_start": 0.5,
            "bin_end": 0.6000000000000001,
            "count": 0
           },
           {
            "bin_start": 0.6000000000000001,
            "bin_end": 0.7000000000000001,
            "count": 0
           },
           {
            "bin_start": 0.7000000000000001,
            "bin_end": 0.8,
            "count": 0
           },
           {
            "bin_start": 0.8,
            "bin_end": 0.9,
            "count": 0
           },
           {
            "bin_start": 0.9,
            "bin_end": 1,
            "count": 2713
           }
          ]
         }
        },
        {
         "name": "was_unarmed",
         "dtype": "float64",
         "stats": {
          "unique_count": 2,
          "nan_count": 0,
          "min": "0.0",
          "max": "1.0",
          "histogram": [
           {
            "bin_start": 0,
            "bin_end": 0.1,
            "count": 3126
           },
           {
            "bin_start": 0.1,
            "bin_end": 0.2,
            "count": 0
           },
           {
            "bin_start": 0.2,
            "bin_end": 0.30000000000000004,
            "count": 0
           },
           {
            "bin_start": 0.30000000000000004,
            "bin_end": 0.4,
            "count": 0
           },
           {
            "bin_start": 0.4,
            "bin_end": 0.5,
            "count": 0
           },
           {
            "bin_start": 0.5,
            "bin_end": 0.6000000000000001,
            "count": 0
           },
           {
            "bin_start": 0.6000000000000001,
            "bin_end": 0.7000000000000001,
            "count": 0
           },
           {
            "bin_start": 0.7000000000000001,
            "bin_end": 0.8,
            "count": 0
           },
           {
            "bin_start": 0.8,
            "bin_end": 0.9,
            "count": 0
           },
           {
            "bin_start": 0.9,
            "bin_end": 1,
            "count": 382
           }
          ]
         }
        },
        {
         "name": "was_vehicle",
         "dtype": "float64",
         "stats": {
          "unique_count": 2,
          "nan_count": 0,
          "min": "0.0",
          "max": "1.0",
          "histogram": [
           {
            "bin_start": 0,
            "bin_end": 0.1,
            "count": 3271
           },
           {
            "bin_start": 0.1,
            "bin_end": 0.2,
            "count": 0
           },
           {
            "bin_start": 0.2,
            "bin_end": 0.30000000000000004,
            "count": 0
           },
           {
            "bin_start": 0.30000000000000004,
            "bin_end": 0.4,
            "count": 0
           },
           {
            "bin_start": 0.4,
            "bin_end": 0.5,
            "count": 0
           },
           {
            "bin_start": 0.5,
            "bin_end": 0.6000000000000001,
            "count": 0
           },
           {
            "bin_start": 0.6000000000000001,
            "bin_end": 0.7000000000000001,
            "count": 0
           },
           {
            "bin_start": 0.7000000000000001,
            "bin_end": 0.8,
            "count": 0
           },
           {
            "bin_start": 0.8,
            "bin_end": 0.9,
            "count": 0
           },
           {
            "bin_start": 0.9,
            "bin_end": 1,
            "count": 237
           }
          ]
         }
        },
        {
         "name": "was_mental_health_welfare_check",
         "dtype": "int64",
         "stats": {
          "unique_count": 2,
          "nan_count": 0,
          "min": "0",
          "max": "1",
          "histogram": [
           {
            "bin_start": 0,
            "bin_end": 0.1,
            "count": 3288
           },
           {
            "bin_start": 0.1,
            "bin_end": 0.2,
            "count": 0
           },
           {
            "bin_start": 0.2,
            "bin_end": 0.30000000000000004,
            "count": 0
           },
           {
            "bin_start": 0.30000000000000004,
            "bin_end": 0.4,
            "count": 0
           },
           {
            "bin_start": 0.4,
            "bin_end": 0.5,
            "count": 0
           },
           {
            "bin_start": 0.5,
            "bin_end": 0.6000000000000001,
            "count": 0
           },
           {
            "bin_start": 0.6000000000000001,
            "bin_end": 0.7000000000000001,
            "count": 0
           },
           {
            "bin_start": 0.7000000000000001,
            "bin_end": 0.8,
            "count": 0
           },
           {
            "bin_start": 0.8,
            "bin_end": 0.9,
            "count": 0
           },
           {
            "bin_start": 0.9,
            "bin_end": 1,
            "count": 220
           }
          ]
         }
        },
        {
         "name": "was_violent_crime_part_1",
         "dtype": "int64",
         "stats": {
          "unique_count": 2,
          "nan_count": 0,
          "min": "0",
          "max": "1",
          "histogram": [
           {
            "bin_start": 0,
            "bin_end": 0.1,
            "count": 1732
           },
           {
            "bin_start": 0.1,
            "bin_end": 0.2,
            "count": 0
           },
           {
            "bin_start": 0.2,
            "bin_end": 0.30000000000000004,
            "count": 0
           },
           {
            "bin_start": 0.30000000000000004,
            "bin_end": 0.4,
            "count": 0
           },
           {
            "bin_start": 0.4,
            "bin_end": 0.5,
            "count": 0
           },
           {
            "bin_start": 0.5,
            "bin_end": 0.6000000000000001,
            "count": 0
           },
           {
            "bin_start": 0.6000000000000001,
            "bin_end": 0.7000000000000001,
            "count": 0
           },
           {
            "bin_start": 0.7000000000000001,
            "bin_end": 0.8,
            "count": 0
           },
           {
            "bin_start": 0.8,
            "bin_end": 0.9,
            "count": 0
           },
           {
            "bin_start": 0.9,
            "bin_end": 1,
            "count": 1776
           }
          ]
         }
        },
        {
         "name": "is_hispanic",
         "dtype": "int64",
         "stats": {
          "unique_count": 2,
          "nan_count": 0,
          "min": "0",
          "max": "1",
          "histogram": [
           {
            "bin_start": 0,
            "bin_end": 0.1,
            "count": 2870
           },
           {
            "bin_start": 0.1,
            "bin_end": 0.2,
            "count": 0
           },
           {
            "bin_start": 0.2,
            "bin_end": 0.30000000000000004,
            "count": 0
           },
           {
            "bin_start": 0.30000000000000004,
            "bin_end": 0.4,
            "count": 0
           },
           {
            "bin_start": 0.4,
            "bin_end": 0.5,
            "count": 0
           },
           {
            "bin_start": 0.5,
            "bin_end": 0.6000000000000001,
            "count": 0
           },
           {
            "bin_start": 0.6000000000000001,
            "bin_end": 0.7000000000000001,
            "count": 0
           },
           {
            "bin_start": 0.7000000000000001,
            "bin_end": 0.8,
            "count": 0
           },
           {
            "bin_start": 0.8,
            "bin_end": 0.9,
            "count": 0
           },
           {
            "bin_start": 0.9,
            "bin_end": 1,
            "count": 638
           }
          ]
         }
        },
        {
         "name": "is_white",
         "dtype": "int64",
         "stats": {
          "unique_count": 2,
          "nan_count": 0,
          "min": "0",
          "max": "1",
          "histogram": [
           {
            "bin_start": 0,
            "bin_end": 0.1,
            "count": 1959
           },
           {
            "bin_start": 0.1,
            "bin_end": 0.2,
            "count": 0
           },
           {
            "bin_start": 0.2,
            "bin_end": 0.30000000000000004,
            "count": 0
           },
           {
            "bin_start": 0.30000000000000004,
            "bin_end": 0.4,
            "count": 0
           },
           {
            "bin_start": 0.4,
            "bin_end": 0.5,
            "count": 0
           },
           {
            "bin_start": 0.5,
            "bin_end": 0.6000000000000001,
            "count": 0
           },
           {
            "bin_start": 0.6000000000000001,
            "bin_end": 0.7000000000000001,
            "count": 0
           },
           {
            "bin_start": 0.7000000000000001,
            "bin_end": 0.8,
            "count": 0
           },
           {
            "bin_start": 0.8,
            "bin_end": 0.9,
            "count": 0
           },
           {
            "bin_start": 0.9,
            "bin_end": 1,
            "count": 1549
           }
          ]
         }
        },
        {
         "name": "mntlill_no",
         "dtype": "int64",
         "stats": {
          "unique_count": 2,
          "nan_count": 0,
          "min": "0",
          "max": "1",
          "histogram": [
           {
            "bin_start": 0,
            "bin_end": 0.1,
            "count": 1176
           },
           {
            "bin_start": 0.1,
            "bin_end": 0.2,
            "count": 0
           },
           {
            "bin_start": 0.2,
            "bin_end": 0.30000000000000004,
            "count": 0
           },
           {
            "bin_start": 0.30000000000000004,
            "bin_end": 0.4,
            "count": 0
           },
           {
            "bin_start": 0.4,
            "bin_end": 0.5,
            "count": 0
           },
           {
            "bin_start": 0.5,
            "bin_end": 0.6000000000000001,
            "count": 0
           },
           {
            "bin_start": 0.6000000000000001,
            "bin_end": 0.7000000000000001,
            "count": 0
           },
           {
            "bin_start": 0.7000000000000001,
            "bin_end": 0.8,
            "count": 0
           },
           {
            "bin_start": 0.8,
            "bin_end": 0.9,
            "count": 0
           },
           {
            "bin_start": 0.9,
            "bin_end": 1,
            "count": 2332
           }
          ]
         }
        },
        {
         "name": "mntlill_yes",
         "dtype": "int64",
         "stats": {
          "unique_count": 2,
          "nan_count": 0,
          "min": "0",
          "max": "1",
          "histogram": [
           {
            "bin_start": 0,
            "bin_end": 0.1,
            "count": 2808
           },
           {
            "bin_start": 0.1,
            "bin_end": 0.2,
            "count": 0
           },
           {
            "bin_start": 0.2,
            "bin_end": 0.30000000000000004,
            "count": 0
           },
           {
            "bin_start": 0.30000000000000004,
            "bin_end": 0.4,
            "count": 0
           },
           {
            "bin_start": 0.4,
            "bin_end": 0.5,
            "count": 0
           },
           {
            "bin_start": 0.5,
            "bin_end": 0.6000000000000001,
            "count": 0
           },
           {
            "bin_start": 0.6000000000000001,
            "bin_end": 0.7000000000000001,
            "count": 0
           },
           {
            "bin_start": 0.7000000000000001,
            "bin_end": 0.8,
            "count": 0
           },
           {
            "bin_start": 0.8,
            "bin_end": 0.9,
            "count": 0
           },
           {
            "bin_start": 0.9,
            "bin_end": 1,
            "count": 700
           }
          ]
         }
        },
        {
         "name": "rural",
         "dtype": "float64",
         "stats": {
          "unique_count": 2,
          "nan_count": 0,
          "min": "0.0",
          "max": "1.0",
          "histogram": [
           {
            "bin_start": 0,
            "bin_end": 0.1,
            "count": 2706
           },
           {
            "bin_start": 0.1,
            "bin_end": 0.2,
            "count": 0
           },
           {
            "bin_start": 0.2,
            "bin_end": 0.30000000000000004,
            "count": 0
           },
           {
            "bin_start": 0.30000000000000004,
            "bin_end": 0.4,
            "count": 0
           },
           {
            "bin_start": 0.4,
            "bin_end": 0.5,
            "count": 0
           },
           {
            "bin_start": 0.5,
            "bin_end": 0.6000000000000001,
            "count": 0
           },
           {
            "bin_start": 0.6000000000000001,
            "bin_end": 0.7000000000000001,
            "count": 0
           },
           {
            "bin_start": 0.7000000000000001,
            "bin_end": 0.8,
            "count": 0
           },
           {
            "bin_start": 0.8,
            "bin_end": 0.9,
            "count": 0
           },
           {
            "bin_start": 0.9,
            "bin_end": 1,
            "count": 802
           }
          ]
         }
        },
        {
         "name": "55-64",
         "dtype": "int64",
         "stats": {
          "unique_count": 2,
          "nan_count": 0,
          "min": "0",
          "max": "1",
          "histogram": [
           {
            "bin_start": 0,
            "bin_end": 0.1,
            "count": 3226
           },
           {
            "bin_start": 0.1,
            "bin_end": 0.2,
            "count": 0
           },
           {
            "bin_start": 0.2,
            "bin_end": 0.30000000000000004,
            "count": 0
           },
           {
            "bin_start": 0.30000000000000004,
            "bin_end": 0.4,
            "count": 0
           },
           {
            "bin_start": 0.4,
            "bin_end": 0.5,
            "count": 0
           },
           {
            "bin_start": 0.5,
            "bin_end": 0.6000000000000001,
            "count": 0
           },
           {
            "bin_start": 0.6000000000000001,
            "bin_end": 0.7000000000000001,
            "count": 0
           },
           {
            "bin_start": 0.7000000000000001,
            "bin_end": 0.8,
            "count": 0
           },
           {
            "bin_start": 0.8,
            "bin_end": 0.9,
            "count": 0
           },
           {
            "bin_start": 0.9,
            "bin_end": 1,
            "count": 282
           }
          ]
         }
        },
        {
         "name": "65+",
         "dtype": "int64",
         "stats": {
          "unique_count": 2,
          "nan_count": 0,
          "min": "0",
          "max": "1",
          "histogram": [
           {
            "bin_start": 0,
            "bin_end": 0.1,
            "count": 3413
           },
           {
            "bin_start": 0.1,
            "bin_end": 0.2,
            "count": 0
           },
           {
            "bin_start": 0.2,
            "bin_end": 0.30000000000000004,
            "count": 0
           },
           {
            "bin_start": 0.30000000000000004,
            "bin_end": 0.4,
            "count": 0
           },
           {
            "bin_start": 0.4,
            "bin_end": 0.5,
            "count": 0
           },
           {
            "bin_start": 0.5,
            "bin_end": 0.6000000000000001,
            "count": 0
           },
           {
            "bin_start": 0.6000000000000001,
            "bin_end": 0.7000000000000001,
            "count": 0
           },
           {
            "bin_start": 0.7000000000000001,
            "bin_end": 0.8,
            "count": 0
           },
           {
            "bin_start": 0.8,
            "bin_end": 0.9,
            "count": 0
           },
           {
            "bin_start": 0.9,
            "bin_end": 1,
            "count": 95
           }
          ]
         }
        },
        {
         "name": "_deepnote_index_column",
         "dtype": "int64"
        }
       ],
       "rows_top": [
        {
         "age": 47,
         "body_camera": 1,
         "is_transgender": 0,
         "was_allegedly_armed": 1,
         "was_unarmed": 0,
         "was_vehicle": 0,
         "was_mental_health_welfare_check": 0,
         "was_violent_crime_part_1": 1,
         "is_hispanic": 0,
         "is_white": 0,
         "mntlill_no": 1,
         "mntlill_yes": 0,
         "rural": 0,
         "55-64": 0,
         "65+": 0,
         "_deepnote_index_column": 4142
        },
        {
         "age": 24,
         "body_camera": 0,
         "is_transgender": 0,
         "was_allegedly_armed": 1,
         "was_unarmed": 0,
         "was_vehicle": 0,
         "was_mental_health_welfare_check": 0,
         "was_violent_crime_part_1": 0,
         "is_hispanic": 0,
         "is_white": 1,
         "mntlill_no": 1,
         "mntlill_yes": 0,
         "rural": 1,
         "55-64": 0,
         "65+": 0,
         "_deepnote_index_column": 3650
        },
        {
         "age": 45,
         "body_camera": 0,
         "is_transgender": 0,
         "was_allegedly_armed": 1,
         "was_unarmed": 0,
         "was_vehicle": 0,
         "was_mental_health_welfare_check": 0,
         "was_violent_crime_part_1": 1,
         "is_hispanic": 0,
         "is_white": 1,
         "mntlill_no": 1,
         "mntlill_yes": 0,
         "rural": 0,
         "55-64": 0,
         "65+": 0,
         "_deepnote_index_column": 5846
        },
        {
         "age": 37,
         "body_camera": 0,
         "is_transgender": 0,
         "was_allegedly_armed": 1,
         "was_unarmed": 0,
         "was_vehicle": 0,
         "was_mental_health_welfare_check": 0,
         "was_violent_crime_part_1": 1,
         "is_hispanic": 0,
         "is_white": 0,
         "mntlill_no": 1,
         "mntlill_yes": 0,
         "rural": 0,
         "55-64": 0,
         "65+": 0,
         "_deepnote_index_column": 3588
        },
        {
         "age": 62,
         "body_camera": 0,
         "is_transgender": 0,
         "was_allegedly_armed": 1,
         "was_unarmed": 0,
         "was_vehicle": 0,
         "was_mental_health_welfare_check": 0,
         "was_violent_crime_part_1": 0,
         "is_hispanic": 0,
         "is_white": 0,
         "mntlill_no": 0,
         "mntlill_yes": 0,
         "rural": 0,
         "55-64": 1,
         "65+": 0,
         "_deepnote_index_column": 744
        },
        {
         "age": 19,
         "body_camera": 0,
         "is_transgender": 0,
         "was_allegedly_armed": 1,
         "was_unarmed": 0,
         "was_vehicle": 0,
         "was_mental_health_welfare_check": 0,
         "was_violent_crime_part_1": 1,
         "is_hispanic": 0,
         "is_white": 0,
         "mntlill_no": 1,
         "mntlill_yes": 0,
         "rural": 0,
         "55-64": 0,
         "65+": 0,
         "_deepnote_index_column": 5036
        },
        {
         "age": 25,
         "body_camera": 0,
         "is_transgender": 0,
         "was_allegedly_armed": 0,
         "was_unarmed": 0,
         "was_vehicle": 0,
         "was_mental_health_welfare_check": 0,
         "was_violent_crime_part_1": 1,
         "is_hispanic": 0,
         "is_white": 0,
         "mntlill_no": 1,
         "mntlill_yes": 0,
         "rural": 0,
         "55-64": 0,
         "65+": 0,
         "_deepnote_index_column": 3568
        },
        {
         "age": 30,
         "body_camera": 0,
         "is_transgender": 0,
         "was_allegedly_armed": 0,
         "was_unarmed": 1,
         "was_vehicle": 0,
         "was_mental_health_welfare_check": 0,
         "was_violent_crime_part_1": 1,
         "is_hispanic": 0,
         "is_white": 1,
         "mntlill_no": 1,
         "mntlill_yes": 0,
         "rural": 0,
         "55-64": 0,
         "65+": 0,
         "_deepnote_index_column": 5501
        },
        {
         "age": 59,
         "body_camera": 0,
         "is_transgender": 0,
         "was_allegedly_armed": 1,
         "was_unarmed": 0,
         "was_vehicle": 0,
         "was_mental_health_welfare_check": 0,
         "was_violent_crime_part_1": 1,
         "is_hispanic": 0,
         "is_white": 1,
         "mntlill_no": 1,
         "mntlill_yes": 0,
         "rural": 0,
         "55-64": 1,
         "65+": 0,
         "_deepnote_index_column": 1452
        },
        {
         "age": 19,
         "body_camera": 0,
         "is_transgender": 0,
         "was_allegedly_armed": 1,
         "was_unarmed": 0,
         "was_vehicle": 0,
         "was_mental_health_welfare_check": 0,
         "was_violent_crime_part_1": 0,
         "is_hispanic": 0,
         "is_white": 1,
         "mntlill_no": 1,
         "mntlill_yes": 0,
         "rural": 0,
         "55-64": 0,
         "65+": 0,
         "_deepnote_index_column": 1816
        },
        {
         "age": 24,
         "body_camera": 0,
         "is_transgender": 0,
         "was_allegedly_armed": 0,
         "was_unarmed": 1,
         "was_vehicle": 0,
         "was_mental_health_welfare_check": 0,
         "was_violent_crime_part_1": 0,
         "is_hispanic": 1,
         "is_white": 0,
         "mntlill_no": 1,
         "mntlill_yes": 0,
         "rural": 0,
         "55-64": 0,
         "65+": 0,
         "_deepnote_index_column": 109
        },
        {
         "age": 28,
         "body_camera": 0,
         "is_transgender": 0,
         "was_allegedly_armed": 0,
         "was_unarmed": 1,
         "was_vehicle": 0,
         "was_mental_health_welfare_check": 1,
         "was_violent_crime_part_1": 0,
         "is_hispanic": 1,
         "is_white": 0,
         "mntlill_no": 0,
         "mntlill_yes": 1,
         "rural": 0,
         "55-64": 0,
         "65+": 0,
         "_deepnote_index_column": 656
        },
        {
         "age": 22,
         "body_camera": 1,
         "is_transgender": 0,
         "was_allegedly_armed": 1,
         "was_unarmed": 0,
         "was_vehicle": 0,
         "was_mental_health_welfare_check": 0,
         "was_violent_crime_part_1": 0,
         "is_hispanic": 0,
         "is_white": 0,
         "mntlill_no": 1,
         "mntlill_yes": 0,
         "rural": 0,
         "55-64": 0,
         "65+": 0,
         "_deepnote_index_column": 647
        },
        {
         "age": 25,
         "body_camera": 0,
         "is_transgender": 0,
         "was_allegedly_armed": 1,
         "was_unarmed": 0,
         "was_vehicle": 0,
         "was_mental_health_welfare_check": 0,
         "was_violent_crime_part_1": 1,
         "is_hispanic": 1,
         "is_white": 0,
         "mntlill_no": 1,
         "mntlill_yes": 0,
         "rural": 1,
         "55-64": 0,
         "65+": 0,
         "_deepnote_index_column": 5728
        },
        {
         "age": 33,
         "body_camera": 0,
         "is_transgender": 0,
         "was_allegedly_armed": 1,
         "was_unarmed": 0,
         "was_vehicle": 0,
         "was_mental_health_welfare_check": 0,
         "was_violent_crime_part_1": 1,
         "is_hispanic": 0,
         "is_white": 0,
         "mntlill_no": 1,
         "mntlill_yes": 0,
         "rural": 1,
         "55-64": 0,
         "65+": 0,
         "_deepnote_index_column": 2716
        },
        {
         "age": 43,
         "body_camera": 0,
         "is_transgender": 0,
         "was_allegedly_armed": 1,
         "was_unarmed": 0,
         "was_vehicle": 0,
         "was_mental_health_welfare_check": 0,
         "was_violent_crime_part_1": 1,
         "is_hispanic": 0,
         "is_white": 1,
         "mntlill_no": 0,
         "mntlill_yes": 1,
         "rural": 0,
         "55-64": 0,
         "65+": 0,
         "_deepnote_index_column": 4656
        },
        {
         "age": 20,
         "body_camera": 1,
         "is_transgender": 0,
         "was_allegedly_armed": 1,
         "was_unarmed": 0,
         "was_vehicle": 0,
         "was_mental_health_welfare_check": 0,
         "was_violent_crime_part_1": 0,
         "is_hispanic": 1,
         "is_white": 0,
         "mntlill_no": 1,
         "mntlill_yes": 0,
         "rural": 0,
         "55-64": 0,
         "65+": 0,
         "_deepnote_index_column": 1307
        },
        {
         "age": 20,
         "body_camera": 0,
         "is_transgender": 0,
         "was_allegedly_armed": 1,
         "was_unarmed": 0,
         "was_vehicle": 0,
         "was_mental_health_welfare_check": 0,
         "was_violent_crime_part_1": 1,
         "is_hispanic": 0,
         "is_white": 0,
         "mntlill_no": 0,
         "mntlill_yes": 0,
         "rural": 0,
         "55-64": 0,
         "65+": 0,
         "_deepnote_index_column": 6108
        },
        {
         "age": 29,
         "body_camera": 0,
         "is_transgender": 0,
         "was_allegedly_armed": 1,
         "was_unarmed": 0,
         "was_vehicle": 0,
         "was_mental_health_welfare_check": 0,
         "was_violent_crime_part_1": 1,
         "is_hispanic": 0,
         "is_white": 0,
         "mntlill_no": 1,
         "mntlill_yes": 0,
         "rural": 0,
         "55-64": 0,
         "65+": 0,
         "_deepnote_index_column": 5898
        },
        {
         "age": 15,
         "body_camera": 0,
         "is_transgender": 0,
         "was_allegedly_armed": 1,
         "was_unarmed": 0,
         "was_vehicle": 0,
         "was_mental_health_welfare_check": 0,
         "was_violent_crime_part_1": 1,
         "is_hispanic": 1,
         "is_white": 0,
         "mntlill_no": 1,
         "mntlill_yes": 0,
         "rural": 0,
         "55-64": 0,
         "65+": 0,
         "_deepnote_index_column": 396
        },
        {
         "age": 32,
         "body_camera": 0,
         "is_transgender": 0,
         "was_allegedly_armed": 1,
         "was_unarmed": 0,
         "was_vehicle": 0,
         "was_mental_health_welfare_check": 0,
         "was_violent_crime_part_1": 1,
         "is_hispanic": 1,
         "is_white": 0,
         "mntlill_no": 1,
         "mntlill_yes": 0,
         "rural": 0,
         "55-64": 0,
         "65+": 0,
         "_deepnote_index_column": 704
        },
        {
         "age": 0,
         "body_camera": 0,
         "is_transgender": 0,
         "was_allegedly_armed": 1,
         "was_unarmed": 0,
         "was_vehicle": 0,
         "was_mental_health_welfare_check": 0,
         "was_violent_crime_part_1": 0,
         "is_hispanic": 0,
         "is_white": 0,
         "mntlill_no": 1,
         "mntlill_yes": 0,
         "rural": 1,
         "55-64": 0,
         "65+": 0,
         "_deepnote_index_column": 583
        },
        {
         "age": 25,
         "body_camera": 0,
         "is_transgender": 0,
         "was_allegedly_armed": 1,
         "was_unarmed": 0,
         "was_vehicle": 0,
         "was_mental_health_welfare_check": 0,
         "was_violent_crime_part_1": 0,
         "is_hispanic": 0,
         "is_white": 0,
         "mntlill_no": 0,
         "mntlill_yes": 1,
         "rural": 0,
         "55-64": 0,
         "65+": 0,
         "_deepnote_index_column": 675
        },
        {
         "age": 30,
         "body_camera": 1,
         "is_transgender": 0,
         "was_allegedly_armed": 0,
         "was_unarmed": 0,
         "was_vehicle": 0,
         "was_mental_health_welfare_check": 0,
         "was_violent_crime_part_1": 0,
         "is_hispanic": 0,
         "is_white": 1,
         "mntlill_no": 1,
         "mntlill_yes": 0,
         "rural": 0,
         "55-64": 0,
         "65+": 0,
         "_deepnote_index_column": 3309
        },
        {
         "age": 23,
         "body_camera": 0,
         "is_transgender": 0,
         "was_allegedly_armed": 1,
         "was_unarmed": 0,
         "was_vehicle": 0,
         "was_mental_health_welfare_check": 0,
         "was_violent_crime_part_1": 1,
         "is_hispanic": 0,
         "is_white": 0,
         "mntlill_no": 0,
         "mntlill_yes": 1,
         "rural": 0,
         "55-64": 0,
         "65+": 0,
         "_deepnote_index_column": 4966
        },
        {
         "age": 25,
         "body_camera": 0,
         "is_transgender": 0,
         "was_allegedly_armed": 1,
         "was_unarmed": 0,
         "was_vehicle": 0,
         "was_mental_health_welfare_check": 0,
         "was_violent_crime_part_1": 0,
         "is_hispanic": 0,
         "is_white": 1,
         "mntlill_no": 1,
         "mntlill_yes": 0,
         "rural": 0,
         "55-64": 0,
         "65+": 0,
         "_deepnote_index_column": 3463
        },
        {
         "age": 36,
         "body_camera": 0,
         "is_transgender": 0,
         "was_allegedly_armed": 1,
         "was_unarmed": 0,
         "was_vehicle": 0,
         "was_mental_health_welfare_check": 0,
         "was_violent_crime_part_1": 1,
         "is_hispanic": 0,
         "is_white": 0,
         "mntlill_no": 0,
         "mntlill_yes": 1,
         "rural": 0,
         "55-64": 0,
         "65+": 0,
         "_deepnote_index_column": 5888
        },
        {
         "age": 61,
         "body_camera": 0,
         "is_transgender": 0,
         "was_allegedly_armed": 1,
         "was_unarmed": 0,
         "was_vehicle": 0,
         "was_mental_health_welfare_check": 0,
         "was_violent_crime_part_1": 0,
         "is_hispanic": 0,
         "is_white": 0,
         "mntlill_no": 1,
         "mntlill_yes": 0,
         "rural": 0,
         "55-64": 1,
         "65+": 0,
         "_deepnote_index_column": 1714
        },
        {
         "age": 33,
         "body_camera": 0,
         "is_transgender": 0,
         "was_allegedly_armed": 1,
         "was_unarmed": 0,
         "was_vehicle": 0,
         "was_mental_health_welfare_check": 0,
         "was_violent_crime_part_1": 1,
         "is_hispanic": 0,
         "is_white": 0,
         "mntlill_no": 0,
         "mntlill_yes": 0,
         "rural": 1,
         "55-64": 0,
         "65+": 0,
         "_deepnote_index_column": 5677
        },
        {
         "age": 20,
         "body_camera": 0,
         "is_transgender": 0,
         "was_allegedly_armed": 1,
         "was_unarmed": 0,
         "was_vehicle": 0,
         "was_mental_health_welfare_check": 0,
         "was_violent_crime_part_1": 1,
         "is_hispanic": 0,
         "is_white": 0,
         "mntlill_no": 1,
         "mntlill_yes": 0,
         "rural": 0,
         "55-64": 0,
         "65+": 0,
         "_deepnote_index_column": 4125
        },
        {
         "age": 19,
         "body_camera": 0,
         "is_transgender": 0,
         "was_allegedly_armed": 0,
         "was_unarmed": 1,
         "was_vehicle": 0,
         "was_mental_health_welfare_check": 0,
         "was_violent_crime_part_1": 1,
         "is_hispanic": 0,
         "is_white": 0,
         "mntlill_no": 0,
         "mntlill_yes": 0,
         "rural": 0,
         "55-64": 0,
         "65+": 0,
         "_deepnote_index_column": 5680
        },
        {
         "age": 34,
         "body_camera": 0,
         "is_transgender": 0,
         "was_allegedly_armed": 0,
         "was_unarmed": 0,
         "was_vehicle": 1,
         "was_mental_health_welfare_check": 0,
         "was_violent_crime_part_1": 0,
         "is_hispanic": 1,
         "is_white": 0,
         "mntlill_no": 0,
         "mntlill_yes": 0,
         "rural": 0,
         "55-64": 0,
         "65+": 0,
         "_deepnote_index_column": 1636
        },
        {
         "age": 38,
         "body_camera": 0,
         "is_transgender": 0,
         "was_allegedly_armed": 0,
         "was_unarmed": 0,
         "was_vehicle": 0,
         "was_mental_health_welfare_check": 0,
         "was_violent_crime_part_1": 0,
         "is_hispanic": 0,
         "is_white": 1,
         "mntlill_no": 1,
         "mntlill_yes": 0,
         "rural": 0,
         "55-64": 0,
         "65+": 0,
         "_deepnote_index_column": 203
        }
       ],
       "rows_bottom": [
        {
         "age": 0,
         "body_camera": 1,
         "is_transgender": 0,
         "was_allegedly_armed": 1,
         "was_unarmed": 0,
         "was_vehicle": 0,
         "was_mental_health_welfare_check": 0,
         "was_violent_crime_part_1": 0,
         "is_hispanic": 1,
         "is_white": 0,
         "mntlill_no": 0,
         "mntlill_yes": 1,
         "rural": 0,
         "55-64": 0,
         "65+": 0,
         "_deepnote_index_column": 3796
        },
        {
         "age": 58,
         "body_camera": 0,
         "is_transgender": 0,
         "was_allegedly_armed": 1,
         "was_unarmed": 0,
         "was_vehicle": 0,
         "was_mental_health_welfare_check": 1,
         "was_violent_crime_part_1": 0,
         "is_hispanic": 0,
         "is_white": 1,
         "mntlill_no": 1,
         "mntlill_yes": 0,
         "rural": 0,
         "55-64": 1,
         "65+": 0,
         "_deepnote_index_column": 2518
        },
        {
         "age": 0,
         "body_camera": 1,
         "is_transgender": 0,
         "was_allegedly_armed": 1,
         "was_unarmed": 0,
         "was_vehicle": 0,
         "was_mental_health_welfare_check": 1,
         "was_violent_crime_part_1": 0,
         "is_hispanic": 0,
         "is_white": 1,
         "mntlill_no": 0,
         "mntlill_yes": 1,
         "rural": 0,
         "55-64": 0,
         "65+": 0,
         "_deepnote_index_column": 342
        },
        {
         "age": 19,
         "body_camera": 0,
         "is_transgender": 0,
         "was_allegedly_armed": 1,
         "was_unarmed": 0,
         "was_vehicle": 0,
         "was_mental_health_welfare_check": 0,
         "was_violent_crime_part_1": 1,
         "is_hispanic": 0,
         "is_white": 1,
         "mntlill_no": 1,
         "mntlill_yes": 0,
         "rural": 0,
         "55-64": 0,
         "65+": 0,
         "_deepnote_index_column": 2524
        },
        {
         "age": 21,
         "body_camera": 0,
         "is_transgender": 0,
         "was_allegedly_armed": 0,
         "was_unarmed": 1,
         "was_vehicle": 0,
         "was_mental_health_welfare_check": 0,
         "was_violent_crime_part_1": 1,
         "is_hispanic": 0,
         "is_white": 0,
         "mntlill_no": 0,
         "mntlill_yes": 1,
         "rural": 0,
         "55-64": 0,
         "65+": 0,
         "_deepnote_index_column": 5602
        },
        {
         "age": 28,
         "body_camera": 0,
         "is_transgender": 0,
         "was_allegedly_armed": 0,
         "was_unarmed": 1,
         "was_vehicle": 0,
         "was_mental_health_welfare_check": 0,
         "was_violent_crime_part_1": 1,
         "is_hispanic": 0,
         "is_white": 0,
         "mntlill_no": 1,
         "mntlill_yes": 0,
         "rural": 0,
         "55-64": 0,
         "65+": 0,
         "_deepnote_index_column": 5914
        },
        {
         "age": 20,
         "body_camera": 0,
         "is_transgender": 0,
         "was_allegedly_armed": 1,
         "was_unarmed": 0,
         "was_vehicle": 0,
         "was_mental_health_welfare_check": 0,
         "was_violent_crime_part_1": 0,
         "is_hispanic": 0,
         "is_white": 0,
         "mntlill_no": 1,
         "mntlill_yes": 0,
         "rural": 0,
         "55-64": 0,
         "65+": 0,
         "_deepnote_index_column": 3323
        },
        {
         "age": 54,
         "body_camera": 0,
         "is_transgender": 0,
         "was_allegedly_armed": 1,
         "was_unarmed": 0,
         "was_vehicle": 0,
         "was_mental_health_welfare_check": 0,
         "was_violent_crime_part_1": 1,
         "is_hispanic": 1,
         "is_white": 0,
         "mntlill_no": 1,
         "mntlill_yes": 0,
         "rural": 0,
         "55-64": 0,
         "65+": 0,
         "_deepnote_index_column": 3469
        },
        {
         "age": 65,
         "body_camera": 0,
         "is_transgender": 0,
         "was_allegedly_armed": 1,
         "was_unarmed": 0,
         "was_vehicle": 0,
         "was_mental_health_welfare_check": 0,
         "was_violent_crime_part_1": 0,
         "is_hispanic": 0,
         "is_white": 0,
         "mntlill_no": 0,
         "mntlill_yes": 1,
         "rural": 1,
         "55-64": 0,
         "65+": 1,
         "_deepnote_index_column": 2441
        },
        {
         "age": 46,
         "body_camera": 0,
         "is_transgender": 0,
         "was_allegedly_armed": 1,
         "was_unarmed": 0,
         "was_vehicle": 0,
         "was_mental_health_welfare_check": 0,
         "was_violent_crime_part_1": 0,
         "is_hispanic": 1,
         "is_white": 0,
         "mntlill_no": 1,
         "mntlill_yes": 0,
         "rural": 0,
         "55-64": 0,
         "65+": 0,
         "_deepnote_index_column": 3298
        },
        {
         "age": 54,
         "body_camera": 0,
         "is_transgender": 0,
         "was_allegedly_armed": 1,
         "was_unarmed": 0,
         "was_vehicle": 0,
         "was_mental_health_welfare_check": 0,
         "was_violent_crime_part_1": 0,
         "is_hispanic": 0,
         "is_white": 1,
         "mntlill_no": 1,
         "mntlill_yes": 0,
         "rural": 0,
         "55-64": 0,
         "65+": 0,
         "_deepnote_index_column": 930
        },
        {
         "age": 64,
         "body_camera": 0,
         "is_transgender": 0,
         "was_allegedly_armed": 1,
         "was_unarmed": 0,
         "was_vehicle": 0,
         "was_mental_health_welfare_check": 1,
         "was_violent_crime_part_1": 0,
         "is_hispanic": 0,
         "is_white": 1,
         "mntlill_no": 0,
         "mntlill_yes": 1,
         "rural": 1,
         "55-64": 1,
         "65+": 0,
         "_deepnote_index_column": 2588
        },
        {
         "age": 39,
         "body_camera": 0,
         "is_transgender": 0,
         "was_allegedly_armed": 1,
         "was_unarmed": 0,
         "was_vehicle": 0,
         "was_mental_health_welfare_check": 0,
         "was_violent_crime_part_1": 0,
         "is_hispanic": 0,
         "is_white": 1,
         "mntlill_no": 1,
         "mntlill_yes": 0,
         "rural": 0,
         "55-64": 0,
         "65+": 0,
         "_deepnote_index_column": 180
        },
        {
         "age": 23,
         "body_camera": 0,
         "is_transgender": 0,
         "was_allegedly_armed": 0,
         "was_unarmed": 0,
         "was_vehicle": 0,
         "was_mental_health_welfare_check": 0,
         "was_violent_crime_part_1": 1,
         "is_hispanic": 0,
         "is_white": 1,
         "mntlill_no": 0,
         "mntlill_yes": 0,
         "rural": 0,
         "55-64": 0,
         "65+": 0,
         "_deepnote_index_column": 4587
        },
        {
         "age": 31,
         "body_camera": 0,
         "is_transgender": 0,
         "was_allegedly_armed": 0,
         "was_unarmed": 0,
         "was_vehicle": 1,
         "was_mental_health_welfare_check": 0,
         "was_violent_crime_part_1": 0,
         "is_hispanic": 0,
         "is_white": 0,
         "mntlill_no": 1,
         "mntlill_yes": 0,
         "rural": 0,
         "55-64": 0,
         "65+": 0,
         "_deepnote_index_column": 1523
        },
        {
         "age": 17,
         "body_camera": 0,
         "is_transgender": 0,
         "was_allegedly_armed": 1,
         "was_unarmed": 0,
         "was_vehicle": 0,
         "was_mental_health_welfare_check": 0,
         "was_violent_crime_part_1": 1,
         "is_hispanic": 0,
         "is_white": 1,
         "mntlill_no": 1,
         "mntlill_yes": 0,
         "rural": 0,
         "55-64": 0,
         "65+": 0,
         "_deepnote_index_column": 6184
        },
        {
         "age": 27,
         "body_camera": 0,
         "is_transgender": 0,
         "was_allegedly_armed": 0,
         "was_unarmed": 1,
         "was_vehicle": 0,
         "was_mental_health_welfare_check": 0,
         "was_violent_crime_part_1": 1,
         "is_hispanic": 0,
         "is_white": 1,
         "mntlill_no": 0,
         "mntlill_yes": 1,
         "rural": 0,
         "55-64": 0,
         "65+": 0,
         "_deepnote_index_column": 5126
        },
        {
         "age": 29,
         "body_camera": 0,
         "is_transgender": 0,
         "was_allegedly_armed": 1,
         "was_unarmed": 0,
         "was_vehicle": 0,
         "was_mental_health_welfare_check": 0,
         "was_violent_crime_part_1": 1,
         "is_hispanic": 1,
         "is_white": 0,
         "mntlill_no": 1,
         "mntlill_yes": 0,
         "rural": 0,
         "55-64": 0,
         "65+": 0,
         "_deepnote_index_column": 3155
        },
        {
         "age": 29,
         "body_camera": 0,
         "is_transgender": 0,
         "was_allegedly_armed": 0,
         "was_unarmed": 0,
         "was_vehicle": 0,
         "was_mental_health_welfare_check": 0,
         "was_violent_crime_part_1": 0,
         "is_hispanic": 0,
         "is_white": 1,
         "mntlill_no": 0,
         "mntlill_yes": 0,
         "rural": 0,
         "55-64": 0,
         "65+": 0,
         "_deepnote_index_column": 116
        },
        {
         "age": 35,
         "body_camera": 0,
         "is_transgender": 0,
         "was_allegedly_armed": 0,
         "was_unarmed": 0,
         "was_vehicle": 1,
         "was_mental_health_welfare_check": 0,
         "was_violent_crime_part_1": 0,
         "is_hispanic": 0,
         "is_white": 1,
         "mntlill_no": 1,
         "mntlill_yes": 0,
         "rural": 0,
         "55-64": 0,
         "65+": 0,
         "_deepnote_index_column": 618
        },
        {
         "age": 29,
         "body_camera": 0,
         "is_transgender": 0,
         "was_allegedly_armed": 1,
         "was_unarmed": 0,
         "was_vehicle": 0,
         "was_mental_health_welfare_check": 0,
         "was_violent_crime_part_1": 0,
         "is_hispanic": 0,
         "is_white": 0,
         "mntlill_no": 1,
         "mntlill_yes": 0,
         "rural": 0,
         "55-64": 0,
         "65+": 0,
         "_deepnote_index_column": 2206
        },
        {
         "age": 46,
         "body_camera": 0,
         "is_transgender": 0,
         "was_allegedly_armed": 1,
         "was_unarmed": 0,
         "was_vehicle": 0,
         "was_mental_health_welfare_check": 0,
         "was_violent_crime_part_1": 0,
         "is_hispanic": 0,
         "is_white": 1,
         "mntlill_no": 1,
         "mntlill_yes": 0,
         "rural": 1,
         "55-64": 0,
         "65+": 0,
         "_deepnote_index_column": 1775
        },
        {
         "age": 72,
         "body_camera": 0,
         "is_transgender": 0,
         "was_allegedly_armed": 1,
         "was_unarmed": 0,
         "was_vehicle": 0,
         "was_mental_health_welfare_check": 0,
         "was_violent_crime_part_1": 1,
         "is_hispanic": 0,
         "is_white": 1,
         "mntlill_no": 0,
         "mntlill_yes": 1,
         "rural": 1,
         "55-64": 0,
         "65+": 1,
         "_deepnote_index_column": 5985
        },
        {
         "age": 31,
         "body_camera": 1,
         "is_transgender": 0,
         "was_allegedly_armed": 1,
         "was_unarmed": 0,
         "was_vehicle": 0,
         "was_mental_health_welfare_check": 0,
         "was_violent_crime_part_1": 1,
         "is_hispanic": 0,
         "is_white": 0,
         "mntlill_no": 0,
         "mntlill_yes": 0,
         "rural": 0,
         "55-64": 0,
         "65+": 0,
         "_deepnote_index_column": 4386
        },
        {
         "age": 36,
         "body_camera": 0,
         "is_transgender": 0,
         "was_allegedly_armed": 0,
         "was_unarmed": 0,
         "was_vehicle": 1,
         "was_mental_health_welfare_check": 0,
         "was_violent_crime_part_1": 1,
         "is_hispanic": 0,
         "is_white": 1,
         "mntlill_no": 1,
         "mntlill_yes": 0,
         "rural": 1,
         "55-64": 0,
         "65+": 0,
         "_deepnote_index_column": 4471
        },
        {
         "age": 25,
         "body_camera": 0,
         "is_transgender": 0,
         "was_allegedly_armed": 1,
         "was_unarmed": 0,
         "was_vehicle": 0,
         "was_mental_health_welfare_check": 0,
         "was_violent_crime_part_1": 1,
         "is_hispanic": 0,
         "is_white": 0,
         "mntlill_no": 1,
         "mntlill_yes": 0,
         "rural": 0,
         "55-64": 0,
         "65+": 0,
         "_deepnote_index_column": 5473
        },
        {
         "age": 24,
         "body_camera": 0,
         "is_transgender": 0,
         "was_allegedly_armed": 0,
         "was_unarmed": 0,
         "was_vehicle": 1,
         "was_mental_health_welfare_check": 0,
         "was_violent_crime_part_1": 0,
         "is_hispanic": 1,
         "is_white": 0,
         "mntlill_no": 1,
         "mntlill_yes": 0,
         "rural": 0,
         "55-64": 0,
         "65+": 0,
         "_deepnote_index_column": 1280
        },
        {
         "age": 17,
         "body_camera": 1,
         "is_transgender": 0,
         "was_allegedly_armed": 1,
         "was_unarmed": 0,
         "was_vehicle": 0,
         "was_mental_health_welfare_check": 0,
         "was_violent_crime_part_1": 1,
         "is_hispanic": 1,
         "is_white": 0,
         "mntlill_no": 1,
         "mntlill_yes": 0,
         "rural": 0,
         "55-64": 0,
         "65+": 0,
         "_deepnote_index_column": 588
        },
        {
         "age": 30,
         "body_camera": 0,
         "is_transgender": 0,
         "was_allegedly_armed": 1,
         "was_unarmed": 0,
         "was_vehicle": 0,
         "was_mental_health_welfare_check": 0,
         "was_violent_crime_part_1": 1,
         "is_hispanic": 1,
         "is_white": 0,
         "mntlill_no": 1,
         "mntlill_yes": 0,
         "rural": 0,
         "55-64": 0,
         "65+": 0,
         "_deepnote_index_column": 5705
        },
        {
         "age": 28,
         "body_camera": 0,
         "is_transgender": 0,
         "was_allegedly_armed": 0,
         "was_unarmed": 0,
         "was_vehicle": 1,
         "was_mental_health_welfare_check": 0,
         "was_violent_crime_part_1": 1,
         "is_hispanic": 0,
         "is_white": 0,
         "mntlill_no": 0,
         "mntlill_yes": 1,
         "rural": 0,
         "55-64": 0,
         "65+": 0,
         "_deepnote_index_column": 4041
        },
        {
         "age": 38,
         "body_camera": 0,
         "is_transgender": 0,
         "was_allegedly_armed": 0,
         "was_unarmed": 1,
         "was_vehicle": 0,
         "was_mental_health_welfare_check": 0,
         "was_violent_crime_part_1": 1,
         "is_hispanic": 0,
         "is_white": 1,
         "mntlill_no": 1,
         "mntlill_yes": 0,
         "rural": 0,
         "55-64": 0,
         "65+": 0,
         "_deepnote_index_column": 4886
        },
        {
         "age": 49,
         "body_camera": 0,
         "is_transgender": 0,
         "was_allegedly_armed": 0,
         "was_unarmed": 1,
         "was_vehicle": 0,
         "was_mental_health_welfare_check": 0,
         "was_violent_crime_part_1": 1,
         "is_hispanic": 0,
         "is_white": 1,
         "mntlill_no": 0,
         "mntlill_yes": 0,
         "rural": 0,
         "55-64": 0,
         "65+": 0,
         "_deepnote_index_column": 4242
        },
        {
         "age": 53,
         "body_camera": 0,
         "is_transgender": 0,
         "was_allegedly_armed": 1,
         "was_unarmed": 0,
         "was_vehicle": 0,
         "was_mental_health_welfare_check": 0,
         "was_violent_crime_part_1": 1,
         "is_hispanic": 0,
         "is_white": 1,
         "mntlill_no": 0,
         "mntlill_yes": 1,
         "rural": 0,
         "55-64": 0,
         "65+": 0,
         "_deepnote_index_column": 5708
        }
       ]
      },
      "text/plain": "      age  body_camera  is_transgender  was_allegedly_armed  was_unarmed  \\\n4142   47          1.0               0                  1.0          0.0   \n3650   24          0.0               0                  1.0          0.0   \n5846   45          0.0               0                  1.0          0.0   \n3588   37          0.0               0                  1.0          0.0   \n744    62          0.0               0                  1.0          0.0   \n...   ...          ...             ...                  ...          ...   \n5705   30          0.0               0                  1.0          0.0   \n4041   28          0.0               0                  0.0          0.0   \n4886   38          0.0               0                  0.0          1.0   \n4242   49          0.0               0                  0.0          1.0   \n5708   53          0.0               0                  1.0          0.0   \n\n      was_vehicle  was_mental_health_welfare_check  was_violent_crime_part_1  \\\n4142          0.0                                0                         1   \n3650          0.0                                0                         0   \n5846          0.0                                0                         1   \n3588          0.0                                0                         1   \n744           0.0                                0                         0   \n...           ...                              ...                       ...   \n5705          0.0                                0                         1   \n4041          1.0                                0                         1   \n4886          0.0                                0                         1   \n4242          0.0                                0                         1   \n5708          0.0                                0                         1   \n\n      is_hispanic  is_white  mntlill_no  mntlill_yes  rural  55-64  65+  \n4142            0         0           1            0    0.0      0    0  \n3650            0         1           1            0    1.0      0    0  \n5846            0         1           1            0    0.0      0    0  \n3588            0         0           1            0    0.0      0    0  \n744             0         0           0            0    0.0      1    0  \n...           ...       ...         ...          ...    ...    ...  ...  \n5705            1         0           1            0    0.0      0    0  \n4041            0         0           0            1    0.0      0    0  \n4886            0         1           1            0    0.0      0    0  \n4242            0         1           0            0    0.0      0    0  \n5708            0         1           0            1    0.0      0    0  \n\n[3508 rows x 15 columns]",
      "text/html": "<div>\n<style scoped>\n    .dataframe tbody tr th:only-of-type {\n        vertical-align: middle;\n    }\n\n    .dataframe tbody tr th {\n        vertical-align: top;\n    }\n\n    .dataframe thead th {\n        text-align: right;\n    }\n</style>\n<table border=\"1\" class=\"dataframe\">\n  <thead>\n    <tr style=\"text-align: right;\">\n      <th></th>\n      <th>age</th>\n      <th>body_camera</th>\n      <th>is_transgender</th>\n      <th>was_allegedly_armed</th>\n      <th>was_unarmed</th>\n      <th>was_vehicle</th>\n      <th>was_mental_health_welfare_check</th>\n      <th>was_violent_crime_part_1</th>\n      <th>is_hispanic</th>\n      <th>is_white</th>\n      <th>mntlill_no</th>\n      <th>mntlill_yes</th>\n      <th>rural</th>\n      <th>55-64</th>\n      <th>65+</th>\n    </tr>\n  </thead>\n  <tbody>\n    <tr>\n      <th>4142</th>\n      <td>47</td>\n      <td>1.0</td>\n      <td>0</td>\n      <td>1.0</td>\n      <td>0.0</td>\n      <td>0.0</td>\n      <td>0</td>\n      <td>1</td>\n      <td>0</td>\n      <td>0</td>\n      <td>1</td>\n      <td>0</td>\n      <td>0.0</td>\n      <td>0</td>\n      <td>0</td>\n    </tr>\n    <tr>\n      <th>3650</th>\n      <td>24</td>\n      <td>0.0</td>\n      <td>0</td>\n      <td>1.0</td>\n      <td>0.0</td>\n      <td>0.0</td>\n      <td>0</td>\n      <td>0</td>\n      <td>0</td>\n      <td>1</td>\n      <td>1</td>\n      <td>0</td>\n      <td>1.0</td>\n      <td>0</td>\n      <td>0</td>\n    </tr>\n    <tr>\n      <th>5846</th>\n      <td>45</td>\n      <td>0.0</td>\n      <td>0</td>\n      <td>1.0</td>\n      <td>0.0</td>\n      <td>0.0</td>\n      <td>0</td>\n      <td>1</td>\n      <td>0</td>\n      <td>1</td>\n      <td>1</td>\n      <td>0</td>\n      <td>0.0</td>\n      <td>0</td>\n      <td>0</td>\n    </tr>\n    <tr>\n      <th>3588</th>\n      <td>37</td>\n      <td>0.0</td>\n      <td>0</td>\n      <td>1.0</td>\n      <td>0.0</td>\n      <td>0.0</td>\n      <td>0</td>\n      <td>1</td>\n      <td>0</td>\n      <td>0</td>\n      <td>1</td>\n      <td>0</td>\n      <td>0.0</td>\n      <td>0</td>\n      <td>0</td>\n    </tr>\n    <tr>\n      <th>744</th>\n      <td>62</td>\n      <td>0.0</td>\n      <td>0</td>\n      <td>1.0</td>\n      <td>0.0</td>\n      <td>0.0</td>\n      <td>0</td>\n      <td>0</td>\n      <td>0</td>\n      <td>0</td>\n      <td>0</td>\n      <td>0</td>\n      <td>0.0</td>\n      <td>1</td>\n      <td>0</td>\n    </tr>\n    <tr>\n      <th>...</th>\n      <td>...</td>\n      <td>...</td>\n      <td>...</td>\n      <td>...</td>\n      <td>...</td>\n      <td>...</td>\n      <td>...</td>\n      <td>...</td>\n      <td>...</td>\n      <td>...</td>\n      <td>...</td>\n      <td>...</td>\n      <td>...</td>\n      <td>...</td>\n      <td>...</td>\n    </tr>\n    <tr>\n      <th>5705</th>\n      <td>30</td>\n      <td>0.0</td>\n      <td>0</td>\n      <td>1.0</td>\n      <td>0.0</td>\n      <td>0.0</td>\n      <td>0</td>\n      <td>1</td>\n      <td>1</td>\n      <td>0</td>\n      <td>1</td>\n      <td>0</td>\n      <td>0.0</td>\n      <td>0</td>\n      <td>0</td>\n    </tr>\n    <tr>\n      <th>4041</th>\n      <td>28</td>\n      <td>0.0</td>\n      <td>0</td>\n      <td>0.0</td>\n      <td>0.0</td>\n      <td>1.0</td>\n      <td>0</td>\n      <td>1</td>\n      <td>0</td>\n      <td>0</td>\n      <td>0</td>\n      <td>1</td>\n      <td>0.0</td>\n      <td>0</td>\n      <td>0</td>\n    </tr>\n    <tr>\n      <th>4886</th>\n      <td>38</td>\n      <td>0.0</td>\n      <td>0</td>\n      <td>0.0</td>\n      <td>1.0</td>\n      <td>0.0</td>\n      <td>0</td>\n      <td>1</td>\n      <td>0</td>\n      <td>1</td>\n      <td>1</td>\n      <td>0</td>\n      <td>0.0</td>\n      <td>0</td>\n      <td>0</td>\n    </tr>\n    <tr>\n      <th>4242</th>\n      <td>49</td>\n      <td>0.0</td>\n      <td>0</td>\n      <td>0.0</td>\n      <td>1.0</td>\n      <td>0.0</td>\n      <td>0</td>\n      <td>1</td>\n      <td>0</td>\n      <td>1</td>\n      <td>0</td>\n      <td>0</td>\n      <td>0.0</td>\n      <td>0</td>\n      <td>0</td>\n    </tr>\n    <tr>\n      <th>5708</th>\n      <td>53</td>\n      <td>0.0</td>\n      <td>0</td>\n      <td>1.0</td>\n      <td>0.0</td>\n      <td>0.0</td>\n      <td>0</td>\n      <td>1</td>\n      <td>0</td>\n      <td>1</td>\n      <td>0</td>\n      <td>1</td>\n      <td>0.0</td>\n      <td>0</td>\n      <td>0</td>\n    </tr>\n  </tbody>\n</table>\n<p>3508 rows × 15 columns</p>\n</div>"
     },
     "metadata": {}
    }
   ]
  },
  {
   "cell_type": "code",
   "metadata": {
    "tags": [],
    "cell_id": "00028-aa323faf-f504-4482-9ede-3324036a4baf",
    "deepnote_to_be_reexecuted": false,
    "source_hash": "a5d8ceeb",
    "execution_start": 1622152488127,
    "execution_millis": 9,
    "deepnote_cell_type": "code"
   },
   "source": "# Create KNN object (thing)\n# weights = ['uniform', 'density']\nknn = KNeighborsClassifier(n_neighbors=5, weights='uniform')\n# fit the model (thing)\nknn.fit(train[f_feature], y_train)",
   "execution_count": 34,
   "outputs": [
    {
     "output_type": "execute_result",
     "execution_count": 34,
     "data": {
      "text/plain": "KNeighborsClassifier()"
     },
     "metadata": {}
    }
   ]
  },
  {
   "cell_type": "code",
   "metadata": {
    "tags": [],
    "cell_id": "00030-95a27823-1b51-4ed0-90e4-24e510355733",
    "deepnote_to_be_reexecuted": false,
    "source_hash": "c6cb09d",
    "execution_start": 1622152488128,
    "execution_millis": 420,
    "deepnote_cell_type": "code"
   },
   "source": "# Use the model (thing)\n# Select k Best features\nget_metrics(knn, train[f_feature], y_train)",
   "execution_count": 35,
   "outputs": [
    {
     "name": "stdout",
     "text": "\n    BASELINE accuracy is: 32.21%\n    The accuracy for our model is: 73.63170% \n    \n",
     "output_type": "stream"
    },
    {
     "output_type": "execute_result",
     "execution_count": 35,
     "data": {
      "text/plain": "(array([[ 414,  716],\n        [ 209, 2169]]),\n                      0            1\n precision     0.664526     0.751820\n recall        0.366372     0.912111\n f1-score      0.472333     0.824245\n support    1130.000000  2378.000000)"
     },
     "metadata": {}
    }
   ]
  },
  {
   "cell_type": "code",
   "metadata": {
    "tags": [],
    "cell_id": "00032-233b71c5-3606-439d-979b-5d112dd87474",
    "deepnote_to_be_reexecuted": false,
    "source_hash": "9c2ffda0",
    "execution_start": 1622152488555,
    "execution_millis": 34,
    "deepnote_cell_type": "code"
   },
   "source": "# Create KNN object (thing)\n# weights = ['uniform', 'density']\nknn = KNeighborsClassifier(n_neighbors=5, weights='uniform')\n# fit the model (thing)\nknn.fit(train[rfe_list], y_train)",
   "execution_count": 36,
   "outputs": [
    {
     "output_type": "execute_result",
     "execution_count": 36,
     "data": {
      "text/plain": "KNeighborsClassifier()"
     },
     "metadata": {}
    }
   ]
  },
  {
   "cell_type": "code",
   "metadata": {
    "tags": [],
    "cell_id": "00029-b2603416-7d07-4649-a0a5-68f944b914c6",
    "deepnote_to_be_reexecuted": false,
    "source_hash": "ceb27fc7",
    "execution_start": 1622152488634,
    "execution_millis": 792,
    "deepnote_cell_type": "code"
   },
   "source": "# Use the model (thing)\n# Select k Best features\nget_metrics(knn, train[rfe_list], y_train)",
   "execution_count": 37,
   "outputs": [
    {
     "name": "stdout",
     "text": "\n    BASELINE accuracy is: 32.21%\n    The accuracy for our model is: 68.01596% \n    \n",
     "output_type": "stream"
    },
    {
     "output_type": "execute_result",
     "execution_count": 37,
     "data": {
      "text/plain": "(array([[ 372,  758],\n        [ 364, 2014]]),\n                      0            1\n precision     0.505435     0.726551\n recall        0.329204     0.846930\n f1-score      0.398714     0.782136\n support    1130.000000  2378.000000)"
     },
     "metadata": {}
    }
   ]
  },
  {
   "cell_type": "code",
   "metadata": {
    "tags": [],
    "cell_id": "00034-748213d3-a405-42d9-bc2e-9496ee51b8a1",
    "deepnote_to_be_reexecuted": false,
    "source_hash": "41aab748",
    "execution_start": 1622152489404,
    "execution_millis": 36,
    "deepnote_cell_type": "code"
   },
   "source": "# Create KNN object (thing)\n# weights = ['uniform', 'density']\nknn = KNeighborsClassifier(n_neighbors=5, weights='uniform')\n# fit the model (thing)\nknn.fit(train[combo_feats], y_train)",
   "execution_count": 38,
   "outputs": [
    {
     "output_type": "execute_result",
     "execution_count": 38,
     "data": {
      "text/plain": "KNeighborsClassifier()"
     },
     "metadata": {}
    }
   ]
  },
  {
   "cell_type": "code",
   "metadata": {
    "tags": [],
    "cell_id": "00035-74b4dfb4-9474-4237-869c-0f986b11ccef",
    "deepnote_to_be_reexecuted": false,
    "source_hash": "a1efc99e",
    "execution_start": 1622152489454,
    "execution_millis": 1193,
    "deepnote_cell_type": "code"
   },
   "source": "# Use the model (thing)\n# Select k Best features\nget_metrics(knn, train[combo_feats], y_train)",
   "execution_count": 39,
   "outputs": [
    {
     "name": "stdout",
     "text": "\n    BASELINE accuracy is: 32.21%\n    The accuracy for our model is: 74.57241% \n    \n",
     "output_type": "stream"
    },
    {
     "output_type": "execute_result",
     "execution_count": 39,
     "data": {
      "text/plain": "(array([[ 432,  698],\n        [ 194, 2184]]),\n                      0            1\n precision     0.690096     0.757807\n recall        0.382301     0.918419\n f1-score      0.492027     0.830418\n support    1130.000000  2378.000000)"
     },
     "metadata": {}
    }
   ]
  },
  {
   "cell_type": "markdown",
   "source": "## Validate",
   "metadata": {
    "tags": [],
    "cell_id": "00034-a3db0725-6416-4961-b6c8-bd35a35100d1",
    "deepnote_cell_type": "markdown"
   }
  },
  {
   "cell_type": "code",
   "metadata": {
    "tags": [],
    "cell_id": "00038-a8fb922f-b35d-4db8-a15f-a512278fdfb8",
    "deepnote_to_be_reexecuted": false,
    "source_hash": "a5d8ceeb",
    "execution_start": 1622152490664,
    "execution_millis": 11,
    "deepnote_cell_type": "code"
   },
   "source": "# Create KNN object (thing)\n# weights = ['uniform', 'density']\nknn = KNeighborsClassifier(n_neighbors=5, weights='uniform')\n# fit the model (thing)\nknn.fit(train[f_feature], y_train)",
   "execution_count": 40,
   "outputs": [
    {
     "output_type": "execute_result",
     "execution_count": 40,
     "data": {
      "text/plain": "KNeighborsClassifier()"
     },
     "metadata": {}
    }
   ]
  },
  {
   "cell_type": "code",
   "metadata": {
    "tags": [],
    "cell_id": "00031-99b28b0f-ba29-407f-9680-df91ab53a171",
    "deepnote_to_be_reexecuted": false,
    "source_hash": "a576bb5c",
    "execution_start": 1622152490677,
    "execution_millis": 209,
    "deepnote_cell_type": "code"
   },
   "source": "# Use the model (thing)\n# Select k Best features\nget_metrics(knn, validate[f_feature], y_validate)",
   "execution_count": 41,
   "outputs": [
    {
     "name": "stdout",
     "text": "\n    BASELINE accuracy is: 32.21%\n    The accuracy for our model is: 63.49734% \n    \n",
     "output_type": "stream"
    },
    {
     "output_type": "execute_result",
     "execution_count": 41,
     "data": {
      "text/plain": "(array([[112, 388],\n        [161, 843]]),\n                     0            1\n precision    0.410256     0.684809\n recall       0.224000     0.839641\n f1-score     0.289780     0.754362\n support    500.000000  1004.000000)"
     },
     "metadata": {}
    }
   ]
  },
  {
   "cell_type": "code",
   "metadata": {
    "tags": [],
    "cell_id": "00039-07a289a2-eae1-43e7-b5e9-60ec870e96fa",
    "deepnote_to_be_reexecuted": false,
    "source_hash": "9c2ffda0",
    "execution_start": 1622152490888,
    "execution_millis": 49,
    "deepnote_cell_type": "code"
   },
   "source": "# Create KNN object (thing)\n# weights = ['uniform', 'density']\nknn = KNeighborsClassifier(n_neighbors=5, weights='uniform')\n# fit the model (thing)\nknn.fit(train[rfe_list], y_train)",
   "execution_count": 42,
   "outputs": [
    {
     "output_type": "execute_result",
     "execution_count": 42,
     "data": {
      "text/plain": "KNeighborsClassifier()"
     },
     "metadata": {}
    }
   ]
  },
  {
   "cell_type": "code",
   "metadata": {
    "tags": [],
    "cell_id": "00033-66db8a23-2fbe-4205-82f6-22e987c4d43e",
    "deepnote_to_be_reexecuted": false,
    "source_hash": "b8f27c5c",
    "execution_start": 1622152490931,
    "execution_millis": 338,
    "deepnote_cell_type": "code"
   },
   "source": "# Use the model (thing)\n# Select k Best features\nget_metrics(knn, validate[rfe_list], y_validate)",
   "execution_count": 43,
   "outputs": [
    {
     "name": "stdout",
     "text": "\n    BASELINE accuracy is: 32.21%\n    The accuracy for our model is: 65.09309% \n    \n",
     "output_type": "stream"
    },
    {
     "output_type": "execute_result",
     "execution_count": 43,
     "data": {
      "text/plain": "(array([[151, 349],\n        [176, 828]]),\n                     0            1\n precision    0.461774     0.703483\n recall       0.302000     0.824701\n f1-score     0.365175     0.759285\n support    500.000000  1004.000000)"
     },
     "metadata": {}
    }
   ]
  },
  {
   "cell_type": "code",
   "metadata": {
    "tags": [],
    "cell_id": "00040-8767e880-05de-44b4-b605-9b84a00f3784",
    "deepnote_to_be_reexecuted": false,
    "source_hash": "41aab748",
    "execution_start": 1622152491271,
    "execution_millis": 15,
    "deepnote_cell_type": "code"
   },
   "source": "# Create KNN object (thing)\n# weights = ['uniform', 'density']\nknn = KNeighborsClassifier(n_neighbors=5, weights='uniform')\n# fit the model (thing)\nknn.fit(train[combo_feats], y_train)",
   "execution_count": 44,
   "outputs": [
    {
     "output_type": "execute_result",
     "execution_count": 44,
     "data": {
      "text/plain": "KNeighborsClassifier()"
     },
     "metadata": {}
    }
   ]
  },
  {
   "cell_type": "code",
   "metadata": {
    "tags": [],
    "cell_id": "00040-9545f1fa-27ed-4109-bfe8-8d604ca9a499",
    "deepnote_to_be_reexecuted": false,
    "source_hash": "b8a9b08c",
    "execution_start": 1622152491331,
    "execution_millis": 597,
    "deepnote_cell_type": "code"
   },
   "source": "# Use the model (thing)\n# Select k Best features\nget_metrics(knn, validate[combo_feats], y_validate)",
   "execution_count": 45,
   "outputs": [
    {
     "name": "stdout",
     "text": "\n    BASELINE accuracy is: 32.21%\n    The accuracy for our model is: 63.69681% \n    \n",
     "output_type": "stream"
    },
    {
     "output_type": "execute_result",
     "execution_count": 45,
     "data": {
      "text/plain": "(array([[ 96, 404],\n        [142, 862]]),\n                     0            1\n precision    0.403361     0.680885\n recall       0.192000     0.858566\n f1-score     0.260163     0.759471\n support    500.000000  1004.000000)"
     },
     "metadata": {}
    }
   ]
  },
  {
   "cell_type": "markdown",
   "source": "Modeling\n\nCreate a Baseline Model:",
   "metadata": {
    "tags": [],
    "deepnote_to_be_reexecuted": false,
    "source_hash": "897280cf",
    "execution_start": 1621898463294,
    "execution_millis": 13,
    "cell_id": "00025-2bba09a5-5607-465e-98d9-c5a3eb5e88e2",
    "deepnote_cell_type": "markdown"
   }
  },
  {
   "cell_type": "code",
   "metadata": {
    "tags": [],
    "deepnote_to_be_reexecuted": false,
    "source_hash": "fa46ff5a",
    "execution_start": 1622152491932,
    "execution_millis": 33,
    "cell_id": "00026-a050b572-fc89-4430-b21d-9fbc3d06dd1b",
    "deepnote_cell_type": "code"
   },
   "source": "y_train = pd.DataFrame(y_train)\n\ny_train.alleged_threat_lvl.value_counts()\n",
   "execution_count": 46,
   "outputs": [
    {
     "output_type": "execute_result",
     "execution_count": 46,
     "data": {
      "text/plain": "1.0    2378\n0.0    1130\nName: alleged_threat_lvl, dtype: int64"
     },
     "metadata": {}
    }
   ]
  },
  {
   "cell_type": "code",
   "metadata": {
    "tags": [],
    "deepnote_to_be_reexecuted": false,
    "source_hash": "71519740",
    "execution_start": 1622152491943,
    "execution_millis": 22,
    "cell_id": "00027-88f4d7c8-d014-4bca-b369-731cf1af624e",
    "deepnote_cell_type": "code"
   },
   "source": "baseline = 0\nbaseline_accuracy = round((y_train.alleged_threat_lvl == baseline).mean(),4)\nbaseline_accuracy\nprint(f'Baseline accuracy is {baseline_accuracy}')",
   "execution_count": 47,
   "outputs": [
    {
     "name": "stdout",
     "text": "Baseline accuracy is 0.3221\n",
     "output_type": "stream"
    }
   ]
  },
  {
   "cell_type": "markdown",
   "source": "\n\n\nRandom Forest ",
   "metadata": {
    "tags": [],
    "cell_id": "00028-7f754c81-a5e8-4025-92d1-d132840121ef",
    "deepnote_cell_type": "markdown"
   }
  },
  {
   "cell_type": "code",
   "metadata": {
    "tags": [],
    "deepnote_to_be_reexecuted": false,
    "source_hash": "5fe20fb4",
    "execution_start": 1622152491952,
    "execution_millis": 1,
    "cell_id": "00029-10955e2a-f79a-4ff8-8ab2-87eab64f5c18",
    "deepnote_cell_type": "code"
   },
   "source": "from sklearn.ensemble import RandomForestClassifier\nfrom sklearn.metrics import classification_report\nfrom sklearn.metrics import confusion_matrix\n\n# create the model \nrf = RandomForestClassifier(bootstrap=True, \n                            class_weight=None, \n                            criterion='gini',\n                            min_samples_leaf=3,\n                            n_estimators=100,\n                            max_depth=3, \n                            random_state=123)\n\n",
   "execution_count": 48,
   "outputs": []
  },
  {
   "cell_type": "code",
   "metadata": {
    "tags": [],
    "deepnote_to_be_reexecuted": false,
    "source_hash": "35f21c7",
    "execution_start": 1622152492002,
    "execution_millis": 289,
    "cell_id": "00030-26624120-5f1f-4106-a4e6-29afaa563836",
    "deepnote_cell_type": "code"
   },
   "source": "# fit the model\nrf.fit(train2, y_train)\n\n\n# Find feature importance\nprint(rf.feature_importances_)\n\n",
   "execution_count": 49,
   "outputs": [
    {
     "name": "stderr",
     "text": "/shared-libs/python3.7/py-core/lib/python3.7/site-packages/ipykernel_launcher.py:2: DataConversionWarning: A column-vector y was passed when a 1d array was expected. Please change the shape of y to (n_samples,), for example using ravel().\n  \n[0.050445   0.01960306 0.00967701 0.01014124 0.00338965 0.01179578\n 0.         0.3205173  0.11711505 0.02289323 0.01052646 0.01436981\n 0.00565214 0.00289052 0.04990279 0.00851644 0.00911022 0.03896344\n 0.00765382 0.00150679 0.01994885 0.00543419 0.03424818 0.00883928\n 0.02465709 0.01966089 0.00950413 0.00555056 0.10846197 0.00418416\n 0.         0.00383472 0.0061636  0.00351938 0.00665933 0.00326851\n 0.00672891 0.0146665 ]\n",
     "output_type": "stream"
    }
   ]
  },
  {
   "cell_type": "code",
   "metadata": {
    "tags": [],
    "deepnote_to_be_reexecuted": false,
    "source_hash": "b18318e7",
    "execution_start": 1622152492283,
    "execution_millis": 8,
    "cell_id": "00031-89797a61-993b-47ef-8be3-931d415825a8",
    "deepnote_cell_type": "code"
   },
   "source": "train2.columns",
   "execution_count": 50,
   "outputs": [
    {
     "output_type": "execute_result",
     "execution_count": 50,
     "data": {
      "text/plain": "Index(['age', 'body_camera', 'is_female', 'is_male', 'is_transgender',\n       'was_fleeing', 'was_not fleeing ', 'was_allegedly_armed', 'was_unarmed',\n       'was_vehicle', 'was_domestic_disturbance',\n       'was_mental_health_welfare_check', 'was_person_with_a_weapon',\n       'was_traffic_stop', 'was_violent_crime_part_1',\n       'is_asian/pacific islander', 'is_black', 'is_hispanic',\n       'is_native american', 'is_unknown race', 'is_white',\n       'mntlill_drug or alcohol use', 'mntlill_no', 'mntlill_unknown',\n       'mntlill_yes', 'rural', 'suburban', 'urban', 'cod_lethal', 'unknown',\n       'under 12', '12-17', '18-24', '25-34', '35-44', '45-54', '55-64',\n       '65+'],\n      dtype='object')"
     },
     "metadata": {}
    }
   ]
  },
  {
   "cell_type": "code",
   "metadata": {
    "tags": [],
    "deepnote_to_be_reexecuted": false,
    "source_hash": "9330a7f8",
    "execution_start": 1622152492285,
    "execution_millis": 134,
    "cell_id": "00032-1a33962a-4b36-4666-b31b-32f0aea26fd0",
    "deepnote_cell_type": "code"
   },
   "source": "# make predictions\ny_pred = rf.predict(train2)\n\n# estimate probability\ny_pred_proba = rf.predict_proba(train2)\n\n\n#Compute accuracy\ntrain_accuracy = round(rf.score(train2, y_train),2)\nprint('Accuracy of random forest classifier on training set: {:.2f}'\n     .format(rf.score(train2, y_train)))\n",
   "execution_count": 51,
   "outputs": [
    {
     "name": "stdout",
     "text": "Accuracy of random forest classifier on training set: 0.69\n",
     "output_type": "stream"
    }
   ]
  },
  {
   "cell_type": "code",
   "metadata": {
    "tags": [],
    "deepnote_to_be_reexecuted": false,
    "source_hash": "571ca5f9",
    "execution_start": 1622152492454,
    "execution_millis": 6,
    "cell_id": "00033-512ace69-d497-42d2-9e54-1b26c1fb5623",
    "deepnote_cell_type": "code"
   },
   "source": "# run classification report\nprint(classification_report(y_train, y_pred))",
   "execution_count": 52,
   "outputs": [
    {
     "name": "stdout",
     "text": "              precision    recall  f1-score   support\n\n         0.0       0.89      0.03      0.06      1130\n         1.0       0.68      1.00      0.81      2378\n\n    accuracy                           0.69      3508\n   macro avg       0.79      0.51      0.44      3508\nweighted avg       0.75      0.69      0.57      3508\n\n",
     "output_type": "stream"
    }
   ]
  },
  {
   "cell_type": "code",
   "metadata": {
    "tags": [],
    "deepnote_to_be_reexecuted": false,
    "source_hash": "3a14f657",
    "execution_start": 1622152492455,
    "execution_millis": 326,
    "cell_id": "00034-e62f2db6-7a95-447d-95e9-a05dd285a58a",
    "deepnote_cell_type": "code"
   },
   "source": "# fit the model on validate\nrf.fit(validate2, y_validate)\n\n# make predictions\ny_pred_val = rf.predict(validate2)\n\n# estimate probability\ny_pred_val_proba = rf.predict_proba(validate2)\n\n#Compute accuracy\nvalidate_accuracy = round(rf.score(validate2, y_validate),2)\nprint('Accuracy of random forest classifier on validate set: {:.2f}'\n     .format(rf.score(validate2, y_validate)))\n",
   "execution_count": 53,
   "outputs": [
    {
     "name": "stdout",
     "text": "Accuracy of random forest classifier on validate set: 0.68\n",
     "output_type": "stream"
    }
   ]
  },
  {
   "cell_type": "code",
   "metadata": {
    "tags": [],
    "deepnote_to_be_reexecuted": false,
    "source_hash": "bb080a19",
    "execution_start": 1622152492753,
    "execution_millis": 39,
    "cell_id": "00035-412126f1-8802-452c-8d22-464545e303eb",
    "deepnote_cell_type": "code"
   },
   "source": "# run classification report on validate\nprint(classification_report(y_validate, y_pred_val))",
   "execution_count": 54,
   "outputs": [
    {
     "name": "stdout",
     "text": "              precision    recall  f1-score   support\n\n         0.0       0.91      0.06      0.11       500\n         1.0       0.68      1.00      0.81      1004\n\n    accuracy                           0.68      1504\n   macro avg       0.79      0.53      0.46      1504\nweighted avg       0.76      0.68      0.58      1504\n\n",
     "output_type": "stream"
    }
   ]
  },
  {
   "cell_type": "code",
   "metadata": {
    "tags": [],
    "deepnote_to_be_reexecuted": false,
    "source_hash": "a5201d0f",
    "execution_start": 1622152492810,
    "execution_millis": 0,
    "cell_id": "00036-6afcc622-102e-4c74-87c0-74db0607f186",
    "deepnote_cell_type": "code"
   },
   "source": "def get_metrics_bin(clf, X, y):\n    '''\n    get_metrics_bin will take in a sklearn classifier model, an X and a y variable and utilize\n    the model to make a prediction and then gather accuracy, class report evaluations\n\n    return:  a classification report as a pandas DataFrame\n    '''\n    y_pred = clf.predict(X)\n    accuracy = clf.score(X, y)\n    conf = confusion_matrix(y, y_pred)\n    class_report = pd.DataFrame(classification_report(y, y_pred, output_dict=True)).T\n    tpr = conf[1][1] / conf[1].sum()\n    fpr = conf[0][1] / conf[0].sum()\n    tnr = conf[0][0] / conf[0].sum()\n    fnr = conf[1][0] / conf[1].sum()\n    print(f'''\n    The accuracy for our model is {accuracy:.4}\n    The True Positive Rate is {tpr:.3}, The False Positive Rate is {fpr:.3},\n    The True Negative Rate is {tnr:.3}, and the False Negative Rate is {fnr:.3}\n    ''')\n    return class_report",
   "execution_count": 55,
   "outputs": []
  },
  {
   "cell_type": "code",
   "metadata": {
    "tags": [],
    "deepnote_to_be_reexecuted": false,
    "source_hash": "c1f85ee1",
    "execution_start": 1622152492811,
    "execution_millis": 0,
    "cell_id": "00037-526e2563-b4a3-4245-a13e-a61dd55c123d",
    "deepnote_cell_type": "code"
   },
   "source": "# X = validate2\n# clf = RandomForestClassifier\n# print('Model #1: min samples 3, max depth 3')\n# class_report_val = get_metrics_bin(clf, validate2, y_validate)\n# # print('-------------------------------------------\\n Model #2: min samples 3, max_depth 3\\n')\n# # class_report_val1 = get_metrics_bin(clf1, X_val, y_val)",
   "execution_count": 56,
   "outputs": []
  },
  {
   "cell_type": "markdown",
   "source": "### Takeaways on Random Forest Classifier Model (max depth 3):\n\nBaseline accuracy = 51% <br>\nAccuracy on Train = 70% <br>\nAccuracy on Validate = 72%",
   "metadata": {
    "tags": [],
    "deepnote_to_be_reexecuted": false,
    "source_hash": "bb95de7",
    "execution_start": 1621894512751,
    "execution_millis": 11,
    "cell_id": "00038-41af8be3-b038-4893-8047-668874701a25",
    "deepnote_cell_type": "markdown"
   }
  },
  {
   "cell_type": "code",
   "metadata": {
    "tags": [],
    "deepnote_to_be_reexecuted": false,
    "source_hash": "2e7e6100",
    "execution_start": 1622152492811,
    "execution_millis": 11,
    "cell_id": "00039-76217e26-3ef8-4b2a-b0a6-41f5daa55926",
    "deepnote_cell_type": "code"
   },
   "source": "\n#begin building a dataframe to record accuracy\nmetric_df = pd.DataFrame(data=[{\n    'model': 'random forest', \n    'baseline_accuracy': round(baseline_accuracy,2),\n    'train_accuracy': round(train_accuracy, 2),\n    'validate_accuracy': round(validate_accuracy, 2)}])\nmetric_df",
   "execution_count": 57,
   "outputs": [
    {
     "output_type": "execute_result",
     "execution_count": 57,
     "data": {
      "application/vnd.deepnote.dataframe.v2+json": {
       "row_count": 1,
       "column_count": 4,
       "columns": [
        {
         "name": "model",
         "dtype": "object",
         "stats": {
          "unique_count": 1,
          "nan_count": 0,
          "categories": [
           {
            "name": "random forest",
            "count": 1
           }
          ]
         }
        },
        {
         "name": "baseline_accuracy",
         "dtype": "float64",
         "stats": {
          "unique_count": 1,
          "nan_count": 0,
          "min": "0.32",
          "max": "0.32",
          "histogram": [
           {
            "bin_start": -0.18,
            "bin_end": -0.07999999999999999,
            "count": 0
           },
           {
            "bin_start": -0.07999999999999999,
            "bin_end": 0.020000000000000018,
            "count": 0
           },
           {
            "bin_start": 0.020000000000000018,
            "bin_end": 0.12000000000000005,
            "count": 0
           },
           {
            "bin_start": 0.12000000000000005,
            "bin_end": 0.22000000000000003,
            "count": 0
           },
           {
            "bin_start": 0.22000000000000003,
            "bin_end": 0.32,
            "count": 0
           },
           {
            "bin_start": 0.32,
            "bin_end": 0.4200000000000001,
            "count": 1
           },
           {
            "bin_start": 0.4200000000000001,
            "bin_end": 0.52,
            "count": 0
           },
           {
            "bin_start": 0.52,
            "bin_end": 0.6200000000000001,
            "count": 0
           },
           {
            "bin_start": 0.6200000000000001,
            "bin_end": 0.72,
            "count": 0
           },
           {
            "bin_start": 0.72,
            "bin_end": 0.8200000000000001,
            "count": 0
           }
          ]
         }
        },
        {
         "name": "train_accuracy",
         "dtype": "float64",
         "stats": {
          "unique_count": 1,
          "nan_count": 0,
          "min": "0.69",
          "max": "0.69",
          "histogram": [
           {
            "bin_start": 0.18999999999999995,
            "bin_end": 0.2899999999999999,
            "count": 0
           },
           {
            "bin_start": 0.2899999999999999,
            "bin_end": 0.38999999999999996,
            "count": 0
           },
           {
            "bin_start": 0.38999999999999996,
            "bin_end": 0.49,
            "count": 0
           },
           {
            "bin_start": 0.49,
            "bin_end": 0.59,
            "count": 0
           },
           {
            "bin_start": 0.59,
            "bin_end": 0.69,
            "count": 0
           },
           {
            "bin_start": 0.69,
            "bin_end": 0.79,
            "count": 1
           },
           {
            "bin_start": 0.79,
            "bin_end": 0.89,
            "count": 0
           },
           {
            "bin_start": 0.89,
            "bin_end": 0.99,
            "count": 0
           },
           {
            "bin_start": 0.99,
            "bin_end": 1.0899999999999999,
            "count": 0
           },
           {
            "bin_start": 1.0899999999999999,
            "bin_end": 1.19,
            "count": 0
           }
          ]
         }
        },
        {
         "name": "validate_accuracy",
         "dtype": "float64",
         "stats": {
          "unique_count": 1,
          "nan_count": 0,
          "min": "0.68",
          "max": "0.68",
          "histogram": [
           {
            "bin_start": 0.18000000000000005,
            "bin_end": 0.28,
            "count": 0
           },
           {
            "bin_start": 0.28,
            "bin_end": 0.38000000000000006,
            "count": 0
           },
           {
            "bin_start": 0.38000000000000006,
            "bin_end": 0.4800000000000001,
            "count": 0
           },
           {
            "bin_start": 0.4800000000000001,
            "bin_end": 0.5800000000000001,
            "count": 0
           },
           {
            "bin_start": 0.5800000000000001,
            "bin_end": 0.68,
            "count": 0
           },
           {
            "bin_start": 0.68,
            "bin_end": 0.7800000000000001,
            "count": 1
           },
           {
            "bin_start": 0.7800000000000001,
            "bin_end": 0.8800000000000001,
            "count": 0
           },
           {
            "bin_start": 0.8800000000000001,
            "bin_end": 0.9800000000000001,
            "count": 0
           },
           {
            "bin_start": 0.9800000000000001,
            "bin_end": 1.08,
            "count": 0
           },
           {
            "bin_start": 1.08,
            "bin_end": 1.1800000000000002,
            "count": 0
           }
          ]
         }
        },
        {
         "name": "_deepnote_index_column",
         "dtype": "int64"
        }
       ],
       "rows_top": [
        {
         "model": "random forest",
         "baseline_accuracy": 0.32,
         "train_accuracy": 0.69,
         "validate_accuracy": 0.68,
         "_deepnote_index_column": 0
        }
       ],
       "rows_bottom": null
      },
      "text/plain": "           model  baseline_accuracy  train_accuracy  validate_accuracy\n0  random forest               0.32            0.69               0.68",
      "text/html": "<div>\n<style scoped>\n    .dataframe tbody tr th:only-of-type {\n        vertical-align: middle;\n    }\n\n    .dataframe tbody tr th {\n        vertical-align: top;\n    }\n\n    .dataframe thead th {\n        text-align: right;\n    }\n</style>\n<table border=\"1\" class=\"dataframe\">\n  <thead>\n    <tr style=\"text-align: right;\">\n      <th></th>\n      <th>model</th>\n      <th>baseline_accuracy</th>\n      <th>train_accuracy</th>\n      <th>validate_accuracy</th>\n    </tr>\n  </thead>\n  <tbody>\n    <tr>\n      <th>0</th>\n      <td>random forest</td>\n      <td>0.32</td>\n      <td>0.69</td>\n      <td>0.68</td>\n    </tr>\n  </tbody>\n</table>\n</div>"
     },
     "metadata": {}
    }
   ]
  },
  {
   "cell_type": "code",
   "source": "",
   "metadata": {
    "deepnote_to_be_reexecuted": false,
    "source_hash": "b623e53d",
    "execution_start": 1622152492856,
    "execution_millis": 0,
    "cell_id": "00040-b4806d13-ea2b-43a3-bd36-76f75f2718c6",
    "deepnote_cell_type": "visualization"
   },
   "execution_count": 57,
   "outputs": []
  },
  {
   "cell_type": "markdown",
   "source": "### Naive Bayes\nNaïve Bayes Classifier is one of the simple and most effective Classification algorithms which helps in building fast machine learning models that can make quick predictions. It is a probabilistic classifier, which means it predicts on the basis of the probability of an object. It's biggest limitation is that it implicitly assumes that all the attributes are mutually independent. (In real life, it's almost impossible that we get a set of predictors that are completely independent or one another.)",
   "metadata": {
    "tags": [],
    "deepnote_to_be_reexecuted": false,
    "source_hash": "99d3384f",
    "execution_start": 1621900322718,
    "execution_millis": 7,
    "cell_id": "00041-d4b0a8da-50b0-4f10-8aeb-a29f89f098b7",
    "deepnote_cell_type": "markdown"
   }
  },
  {
   "cell_type": "code",
   "metadata": {
    "tags": [],
    "deepnote_to_be_reexecuted": false,
    "source_hash": "fe51bc76",
    "execution_start": 1622152492857,
    "execution_millis": 11,
    "cell_id": "00042-f6a7a786-96a9-4c8f-a366-cf4b51b1418f",
    "deepnote_cell_type": "code"
   },
   "source": "from sklearn.naive_bayes import CategoricalNB\n\n# make the model\nclassifier = CategoricalNB()\n\n# fit the model\nclassifier.fit(train2, y_train)",
   "execution_count": 58,
   "outputs": [
    {
     "name": "stderr",
     "text": "/shared-libs/python3.7/py/lib/python3.7/site-packages/sklearn/utils/validation.py:63: DataConversionWarning: A column-vector y was passed when a 1d array was expected. Please change the shape of y to (n_samples, ), for example using ravel().\n  return f(*args, **kwargs)\n",
     "output_type": "stream"
    },
    {
     "output_type": "execute_result",
     "execution_count": 58,
     "data": {
      "text/plain": "CategoricalNB()"
     },
     "metadata": {}
    }
   ]
  },
  {
   "cell_type": "code",
   "metadata": {
    "tags": [],
    "deepnote_to_be_reexecuted": false,
    "source_hash": "dad90cf1",
    "execution_start": 1622152492898,
    "execution_millis": 212,
    "cell_id": "00043-b32ad41a-bed7-4a41-80ba-4046157b692f",
    "deepnote_cell_type": "code"
   },
   "source": "# make predictions on train\nnb_y_pred  =  classifier.predict(train2)\n\n# make predictions on validate\nnb_y_val_pred  =  classifier.predict(validate2)",
   "execution_count": 59,
   "outputs": [
    {
     "output_type": "error",
     "ename": "IndexError",
     "evalue": "index 1 is out of bounds for axis 1 with size 1",
     "traceback": [
      "\u001b[0;31m---------------------------------------------------------------------------\u001b[0m",
      "\u001b[0;31mIndexError\u001b[0m                                Traceback (most recent call last)",
      "\u001b[0;32m<ipython-input-59-b940bdeeea91>\u001b[0m in \u001b[0;36m<module>\u001b[0;34m\u001b[0m\n\u001b[1;32m      3\u001b[0m \u001b[0;34m\u001b[0m\u001b[0m\n\u001b[1;32m      4\u001b[0m \u001b[0;31m# make predictions on validate\u001b[0m\u001b[0;34m\u001b[0m\u001b[0;34m\u001b[0m\u001b[0;34m\u001b[0m\u001b[0m\n\u001b[0;32m----> 5\u001b[0;31m \u001b[0mnb_y_val_pred\u001b[0m  \u001b[0;34m=\u001b[0m  \u001b[0mclassifier\u001b[0m\u001b[0;34m.\u001b[0m\u001b[0mpredict\u001b[0m\u001b[0;34m(\u001b[0m\u001b[0mvalidate2\u001b[0m\u001b[0;34m)\u001b[0m\u001b[0;34m\u001b[0m\u001b[0;34m\u001b[0m\u001b[0m\n\u001b[0m",
      "\u001b[0;32m/shared-libs/python3.7/py/lib/python3.7/site-packages/sklearn/naive_bayes.py\u001b[0m in \u001b[0;36mpredict\u001b[0;34m(self, X)\u001b[0m\n\u001b[1;32m     73\u001b[0m         \u001b[0mcheck_is_fitted\u001b[0m\u001b[0;34m(\u001b[0m\u001b[0mself\u001b[0m\u001b[0;34m)\u001b[0m\u001b[0;34m\u001b[0m\u001b[0;34m\u001b[0m\u001b[0m\n\u001b[1;32m     74\u001b[0m         \u001b[0mX\u001b[0m \u001b[0;34m=\u001b[0m \u001b[0mself\u001b[0m\u001b[0;34m.\u001b[0m\u001b[0m_check_X\u001b[0m\u001b[0;34m(\u001b[0m\u001b[0mX\u001b[0m\u001b[0;34m)\u001b[0m\u001b[0;34m\u001b[0m\u001b[0;34m\u001b[0m\u001b[0m\n\u001b[0;32m---> 75\u001b[0;31m         \u001b[0mjll\u001b[0m \u001b[0;34m=\u001b[0m \u001b[0mself\u001b[0m\u001b[0;34m.\u001b[0m\u001b[0m_joint_log_likelihood\u001b[0m\u001b[0;34m(\u001b[0m\u001b[0mX\u001b[0m\u001b[0;34m)\u001b[0m\u001b[0;34m\u001b[0m\u001b[0;34m\u001b[0m\u001b[0m\n\u001b[0m\u001b[1;32m     76\u001b[0m         \u001b[0;32mreturn\u001b[0m \u001b[0mself\u001b[0m\u001b[0;34m.\u001b[0m\u001b[0mclasses_\u001b[0m\u001b[0;34m[\u001b[0m\u001b[0mnp\u001b[0m\u001b[0;34m.\u001b[0m\u001b[0margmax\u001b[0m\u001b[0;34m(\u001b[0m\u001b[0mjll\u001b[0m\u001b[0;34m,\u001b[0m \u001b[0maxis\u001b[0m\u001b[0;34m=\u001b[0m\u001b[0;36m1\u001b[0m\u001b[0;34m)\u001b[0m\u001b[0;34m]\u001b[0m\u001b[0;34m\u001b[0m\u001b[0;34m\u001b[0m\u001b[0m\n\u001b[1;32m     77\u001b[0m \u001b[0;34m\u001b[0m\u001b[0m\n",
      "\u001b[0;32m/shared-libs/python3.7/py/lib/python3.7/site-packages/sklearn/naive_bayes.py\u001b[0m in \u001b[0;36m_joint_log_likelihood\u001b[0;34m(self, X)\u001b[0m\n\u001b[1;32m   1301\u001b[0m         \u001b[0;32mfor\u001b[0m \u001b[0mi\u001b[0m \u001b[0;32min\u001b[0m \u001b[0mrange\u001b[0m\u001b[0;34m(\u001b[0m\u001b[0mself\u001b[0m\u001b[0;34m.\u001b[0m\u001b[0mn_features_\u001b[0m\u001b[0;34m)\u001b[0m\u001b[0;34m:\u001b[0m\u001b[0;34m\u001b[0m\u001b[0;34m\u001b[0m\u001b[0m\n\u001b[1;32m   1302\u001b[0m             \u001b[0mindices\u001b[0m \u001b[0;34m=\u001b[0m \u001b[0mX\u001b[0m\u001b[0;34m[\u001b[0m\u001b[0;34m:\u001b[0m\u001b[0;34m,\u001b[0m \u001b[0mi\u001b[0m\u001b[0;34m]\u001b[0m\u001b[0;34m\u001b[0m\u001b[0;34m\u001b[0m\u001b[0m\n\u001b[0;32m-> 1303\u001b[0;31m             \u001b[0mjll\u001b[0m \u001b[0;34m+=\u001b[0m \u001b[0mself\u001b[0m\u001b[0;34m.\u001b[0m\u001b[0mfeature_log_prob_\u001b[0m\u001b[0;34m[\u001b[0m\u001b[0mi\u001b[0m\u001b[0;34m]\u001b[0m\u001b[0;34m[\u001b[0m\u001b[0;34m:\u001b[0m\u001b[0;34m,\u001b[0m \u001b[0mindices\u001b[0m\u001b[0;34m]\u001b[0m\u001b[0;34m.\u001b[0m\u001b[0mT\u001b[0m\u001b[0;34m\u001b[0m\u001b[0;34m\u001b[0m\u001b[0m\n\u001b[0m\u001b[1;32m   1304\u001b[0m         \u001b[0mtotal_ll\u001b[0m \u001b[0;34m=\u001b[0m \u001b[0mjll\u001b[0m \u001b[0;34m+\u001b[0m \u001b[0mself\u001b[0m\u001b[0;34m.\u001b[0m\u001b[0mclass_log_prior_\u001b[0m\u001b[0;34m\u001b[0m\u001b[0;34m\u001b[0m\u001b[0m\n\u001b[1;32m   1305\u001b[0m         \u001b[0;32mreturn\u001b[0m \u001b[0mtotal_ll\u001b[0m\u001b[0;34m\u001b[0m\u001b[0;34m\u001b[0m\u001b[0m\n",
      "\u001b[0;31mIndexError\u001b[0m: index 1 is out of bounds for axis 1 with size 1"
     ]
    }
   ]
  },
  {
   "cell_type": "code",
   "metadata": {
    "tags": [],
    "deepnote_to_be_reexecuted": true,
    "source_hash": "20ca0f84",
    "execution_start": 1621959116326,
    "execution_millis": 1,
    "cell_id": "00044-8a63ff16-8ff2-4982-b445-4e8927c9411a",
    "deepnote_cell_type": "code"
   },
   "source": "# evaluate model on train\nfrom sklearn.metrics import confusion_matrix,accuracy_score\ncm_train = confusion_matrix(y_train, nb_y_pred)\nac_train = accuracy_score(y_train,nb_y_pred)",
   "execution_count": null,
   "outputs": []
  },
  {
   "cell_type": "code",
   "metadata": {
    "tags": [],
    "deepnote_to_be_reexecuted": true,
    "source_hash": "85adb028",
    "execution_start": 1621959116327,
    "execution_millis": 56,
    "cell_id": "00045-88cebdb3-4ebb-425a-9d38-6fcaed2dd1b5",
    "deepnote_cell_type": "code"
   },
   "source": "# evaluate model on validate\ncm_validate = confusion_matrix(y_validate, nb_y_val_pred)\nac_validate = accuracy_score(y_validate,nb_y_val_pred)",
   "execution_count": null,
   "outputs": []
  },
  {
   "cell_type": "code",
   "metadata": {
    "tags": [],
    "deepnote_to_be_reexecuted": true,
    "source_hash": "98109a86",
    "execution_start": 1621959116386,
    "execution_millis": 12,
    "cell_id": "00046-eb03a713-a501-4cf3-b489-07e5fa0fd4c4",
    "deepnote_cell_type": "code"
   },
   "source": "print('Accuracy of Naive Bayes Gaussian Classifier on train set: {:.2f}'.format(ac_train))\nprint('Accuracy of Naive Bayes Gaussian Classifier on validate set: {:.2f}'.format(ac_validate))",
   "execution_count": null,
   "outputs": [
    {
     "name": "stdout",
     "text": "Accuracy of Naive Bayes Gaussian Classifier on train set: 0.70\nAccuracy of Naive Bayes Gaussian Classifier on validate set: 0.68\n",
     "output_type": "stream"
    }
   ]
  },
  {
   "cell_type": "markdown",
   "source": "### Takeaways on Naive Bayes Model:\nBaseline accuracy = 51% <br>\nAccuracy on Train = 70% <br>\nAccuracy on Validate = 68%",
   "metadata": {
    "tags": [],
    "deepnote_to_be_reexecuted": false,
    "source_hash": "94e0f3ab",
    "execution_start": 1621902072354,
    "execution_millis": 7,
    "cell_id": "00047-da806f9f-3c41-4c69-a32a-528f3c4e4ff9",
    "deepnote_cell_type": "markdown"
   }
  },
  {
   "cell_type": "markdown",
   "source": "### Dataframe Summarizing Models",
   "metadata": {
    "tags": [],
    "cell_id": "00048-cd67932f-0b1e-4d59-a31f-7c38a45b2e07",
    "deepnote_cell_type": "markdown"
   }
  },
  {
   "cell_type": "code",
   "metadata": {
    "tags": [],
    "deepnote_to_be_reexecuted": true,
    "source_hash": "bce38aaf",
    "execution_start": 1621959116391,
    "execution_millis": 151,
    "cell_id": "00049-190e8d14-d4aa-4316-a53c-db466db2d4a9",
    "deepnote_cell_type": "code"
   },
   "source": "# append dataframe to record accuracy on Naive Bayes\nmetric_df = metric_df.append({\n    'model': 'naive bayes', \n    'baseline_accuracy': round(baseline_accuracy,2),\n    'train_accuracy': round(ac_train, 2),\n    'validate_accuracy':round(ac_validate,2)}, ignore_index=True)\n  \n\n\nmetric_df",
   "execution_count": null,
   "outputs": [
    {
     "output_type": "execute_result",
     "execution_count": 61,
     "data": {
      "application/vnd.deepnote.dataframe.v2+json": {
       "row_count": 2,
       "column_count": 4,
       "columns": [
        {
         "name": "model",
         "dtype": "object",
         "stats": {
          "unique_count": 2,
          "nan_count": 0,
          "categories": [
           {
            "name": "random forest",
            "count": 1
           },
           {
            "name": "naive bayes",
            "count": 1
           }
          ]
         }
        },
        {
         "name": "baseline_accuracy",
         "dtype": "float64",
         "stats": {
          "unique_count": 1,
          "nan_count": 0,
          "min": "0.51",
          "max": "0.51",
          "histogram": [
           {
            "bin_start": 0.010000000000000009,
            "bin_end": 0.11000000000000001,
            "count": 0
           },
           {
            "bin_start": 0.11000000000000001,
            "bin_end": 0.21000000000000002,
            "count": 0
           },
           {
            "bin_start": 0.21000000000000002,
            "bin_end": 0.31000000000000005,
            "count": 0
           },
           {
            "bin_start": 0.31000000000000005,
            "bin_end": 0.41000000000000003,
            "count": 0
           },
           {
            "bin_start": 0.41000000000000003,
            "bin_end": 0.51,
            "count": 0
           },
           {
            "bin_start": 0.51,
            "bin_end": 0.6100000000000001,
            "count": 2
           },
           {
            "bin_start": 0.6100000000000001,
            "bin_end": 0.7100000000000001,
            "count": 0
           },
           {
            "bin_start": 0.7100000000000001,
            "bin_end": 0.81,
            "count": 0
           },
           {
            "bin_start": 0.81,
            "bin_end": 0.91,
            "count": 0
           },
           {
            "bin_start": 0.91,
            "bin_end": 1.01,
            "count": 0
           }
          ]
         }
        },
        {
         "name": "train_accuracy",
         "dtype": "float64",
         "stats": {
          "unique_count": 1,
          "nan_count": 0,
          "min": "0.7",
          "max": "0.7",
          "histogram": [
           {
            "bin_start": 0.19999999999999996,
            "bin_end": 0.29999999999999993,
            "count": 0
           },
           {
            "bin_start": 0.29999999999999993,
            "bin_end": 0.39999999999999997,
            "count": 0
           },
           {
            "bin_start": 0.39999999999999997,
            "bin_end": 0.5,
            "count": 0
           },
           {
            "bin_start": 0.5,
            "bin_end": 0.6,
            "count": 0
           },
           {
            "bin_start": 0.6,
            "bin_end": 0.7,
            "count": 0
           },
           {
            "bin_start": 0.7,
            "bin_end": 0.8,
            "count": 2
           },
           {
            "bin_start": 0.8,
            "bin_end": 0.9,
            "count": 0
           },
           {
            "bin_start": 0.9,
            "bin_end": 1,
            "count": 0
           },
           {
            "bin_start": 1,
            "bin_end": 1.1,
            "count": 0
           },
           {
            "bin_start": 1.1,
            "bin_end": 1.2,
            "count": 0
           }
          ]
         }
        },
        {
         "name": "validate_accuracy",
         "dtype": "float64",
         "stats": {
          "unique_count": 2,
          "nan_count": 0,
          "min": "0.68",
          "max": "0.72",
          "histogram": [
           {
            "bin_start": 0.68,
            "bin_end": 0.684,
            "count": 1
           },
           {
            "bin_start": 0.684,
            "bin_end": 0.6880000000000001,
            "count": 0
           },
           {
            "bin_start": 0.6880000000000001,
            "bin_end": 0.6920000000000001,
            "count": 0
           },
           {
            "bin_start": 0.6920000000000001,
            "bin_end": 0.6960000000000001,
            "count": 0
           },
           {
            "bin_start": 0.6960000000000001,
            "bin_end": 0.7,
            "count": 0
           },
           {
            "bin_start": 0.7,
            "bin_end": 0.704,
            "count": 0
           },
           {
            "bin_start": 0.704,
            "bin_end": 0.708,
            "count": 0
           },
           {
            "bin_start": 0.708,
            "bin_end": 0.712,
            "count": 0
           },
           {
            "bin_start": 0.712,
            "bin_end": 0.716,
            "count": 0
           },
           {
            "bin_start": 0.716,
            "bin_end": 0.72,
            "count": 1
           }
          ]
         }
        },
        {
         "name": "_deepnote_index_column",
         "dtype": "int64"
        }
       ],
       "rows_top": [
        {
         "model": "random forest",
         "baseline_accuracy": 0.51,
         "train_accuracy": 0.7,
         "validate_accuracy": 0.72,
         "_deepnote_index_column": 0
        },
        {
         "model": "naive bayes",
         "baseline_accuracy": 0.51,
         "train_accuracy": 0.7,
         "validate_accuracy": 0.68,
         "_deepnote_index_column": 1
        }
       ],
       "rows_bottom": null
      },
      "text/plain": "           model  baseline_accuracy  train_accuracy  validate_accuracy\n0  random forest               0.51             0.7               0.72\n1    naive bayes               0.51             0.7               0.68",
      "text/html": "<div>\n<style scoped>\n    .dataframe tbody tr th:only-of-type {\n        vertical-align: middle;\n    }\n\n    .dataframe tbody tr th {\n        vertical-align: top;\n    }\n\n    .dataframe thead th {\n        text-align: right;\n    }\n</style>\n<table border=\"1\" class=\"dataframe\">\n  <thead>\n    <tr style=\"text-align: right;\">\n      <th></th>\n      <th>model</th>\n      <th>baseline_accuracy</th>\n      <th>train_accuracy</th>\n      <th>validate_accuracy</th>\n    </tr>\n  </thead>\n  <tbody>\n    <tr>\n      <th>0</th>\n      <td>random forest</td>\n      <td>0.51</td>\n      <td>0.7</td>\n      <td>0.72</td>\n    </tr>\n    <tr>\n      <th>1</th>\n      <td>naive bayes</td>\n      <td>0.51</td>\n      <td>0.7</td>\n      <td>0.68</td>\n    </tr>\n  </tbody>\n</table>\n</div>"
     },
     "metadata": {}
    }
   ]
  },
  {
   "cell_type": "markdown",
   "source": "",
   "metadata": {
    "tags": [],
    "cell_id": "00050-22fd67cc-04a4-44a9-9175-90d0d452f03e",
    "deepnote_cell_type": "markdown"
   }
  },
  {
   "cell_type": "markdown",
   "source": "### GridSearchCV",
   "metadata": {
    "tags": [],
    "cell_id": "00051-6fedd8f8-d956-4a42-b143-d18f5125ebe3",
    "deepnote_cell_type": "markdown"
   }
  },
  {
   "cell_type": "code",
   "metadata": {
    "tags": [],
    "deepnote_to_be_reexecuted": true,
    "source_hash": "2264946b",
    "execution_start": 1621959116530,
    "execution_millis": 0,
    "cell_id": "00052-bd7fdfc2-fcf6-4483-91d1-87bc041849e6",
    "deepnote_cell_type": "code"
   },
   "source": "# ignore warnings\nimport warnings\nwarnings.filterwarnings(\"ignore\")\nfrom sklearn.model_selection import RandomizedSearchCV, GridSearchCV\nfrom scipy.stats import uniform",
   "execution_count": null,
   "outputs": []
  },
  {
   "cell_type": "code",
   "metadata": {
    "tags": [],
    "deepnote_to_be_reexecuted": true,
    "source_hash": "cd3ac985",
    "execution_start": 1621959116530,
    "execution_millis": 105571,
    "is_output_hidden": true,
    "cell_id": "00053-dcf2e61e-301a-44f6-ba95-c9059ec30b58",
    "deepnote_cell_type": "code"
   },
   "source": "# Create a parameter dictionary for the model, {'parameter': [list of settings]}\nparameters = [\n    {\n    'alpha': [0.0001, 0.001, 0.01, 0.1, 1],\n    'shuffle': [True, False],\n    'verbose': [0, 1, 5, 10],\n    'class_weight': [None, 'balanced'],\n    },\n]\n# Created variable model which holds the KNN model\nmodel = SGDClassifier()\n# Create grid_search model, looking at recall\ngrid_search = GridSearchCV(model,\n                           param_grid=parameters,\n                           scoring='accuracy',\n                           )\n# Create variable r that hold the FIT grid_search\nr = grid_search.fit(X_train[f_feature], y_train)\nscores = r.cv_results_\nlm = r.best_estimator_",
   "execution_count": null,
   "outputs": [
    {
     "name": "stdout",
     "text": "Total training time: 0.07 seconds.\n-- Epoch 3\nNorm: 0.19, NNZs: 15, Bias: 0.539313, T: 11601, Avg. loss: 0.974199\nTotal training time: 0.08 seconds.\n-- Epoch 4\nNorm: 0.20, NNZs: 15, Bias: 0.535644, T: 15468, Avg. loss: 0.974942\nTotal training time: 0.08 seconds.\n-- Epoch 5\nNorm: 0.20, NNZs: 15, Bias: 0.533305, T: 19335, Avg. loss: 0.975914\nTotal training time: 0.08 seconds.\n-- Epoch 6\nNorm: 0.21, NNZs: 15, Bias: 0.531416, T: 23202, Avg. loss: 0.979430\nTotal training time: 0.08 seconds.\n-- Epoch 7\nNorm: 0.21, NNZs: 15, Bias: 0.529280, T: 27069, Avg. loss: 0.968840\nTotal training time: 0.08 seconds.\n-- Epoch 8\nNorm: 0.21, NNZs: 15, Bias: 0.528465, T: 30936, Avg. loss: 0.965956\nTotal training time: 0.08 seconds.\n-- Epoch 9\nNorm: 0.21, NNZs: 15, Bias: 0.527483, T: 34803, Avg. loss: 0.963455\nTotal training time: 0.09 seconds.\n-- Epoch 10\nNorm: 0.21, NNZs: 15, Bias: 0.526239, T: 38670, Avg. loss: 0.956773\nTotal training time: 0.09 seconds.\n-- Epoch 11\nNorm: 0.21, NNZs: 15, Bias: 0.525309, T: 42537, Avg. loss: 0.962309\nTotal training time: 0.09 seconds.\n-- Epoch 12\nNorm: 0.21, NNZs: 15, Bias: 0.524327, T: 46404, Avg. loss: 0.968348\nTotal training time: 0.09 seconds.\n-- Epoch 13\nNorm: 0.22, NNZs: 15, Bias: 0.523421, T: 50271, Avg. loss: 0.956259\nTotal training time: 0.09 seconds.\n-- Epoch 14\nNorm: 0.21, NNZs: 15, Bias: 0.523031, T: 54138, Avg. loss: 0.951225\nTotal training time: 0.09 seconds.\n-- Epoch 15\nNorm: 0.22, NNZs: 15, Bias: 0.522108, T: 58005, Avg. loss: 0.964159\nTotal training time: 0.09 seconds.\n-- Epoch 16\nNorm: 0.22, NNZs: 15, Bias: 0.521869, T: 61872, Avg. loss: 0.949772\nTotal training time: 0.09 seconds.\n-- Epoch 17\nNorm: 0.22, NNZs: 15, Bias: 0.521147, T: 65739, Avg. loss: 0.962342\nTotal training time: 0.10 seconds.\n-- Epoch 18\nNorm: 0.22, NNZs: 15, Bias: 0.520606, T: 69606, Avg. loss: 0.963242\nTotal training time: 0.10 seconds.\n-- Epoch 19\nNorm: 0.22, NNZs: 15, Bias: 0.520330, T: 73473, Avg. loss: 0.965633\nTotal training time: 0.10 seconds.\n-- Epoch 20\nNorm: 0.22, NNZs: 15, Bias: 0.519985, T: 77340, Avg. loss: 0.966173\nTotal training time: 0.10 seconds.\n-- Epoch 21\nNorm: 0.22, NNZs: 15, Bias: 0.519597, T: 81207, Avg. loss: 0.965125\nTotal training time: 0.10 seconds.\nConvergence after 21 epochs took 0.10 seconds\n-- Epoch 1\nNorm: 0.18, NNZs: 15, Bias: 0.388668, T: 3868, Avg. loss: 1.787014\nTotal training time: 0.01 seconds.\n-- Epoch 2\nNorm: 0.19, NNZs: 15, Bias: 0.375625, T: 7736, Avg. loss: 0.998074\nTotal training time: 0.01 seconds.\n-- Epoch 3\nNorm: 0.20, NNZs: 15, Bias: 0.369987, T: 11604, Avg. loss: 0.980906\nTotal training time: 0.01 seconds.\n-- Epoch 4\nNorm: 0.20, NNZs: 15, Bias: 0.366608, T: 15472, Avg. loss: 0.960613\nTotal training time: 0.01 seconds.\n-- Epoch 5\nNorm: 0.21, NNZs: 15, Bias: 0.363347, T: 19340, Avg. loss: 0.965388\nTotal training time: 0.01 seconds.\n-- Epoch 6\nNorm: 0.21, NNZs: 15, Bias: 0.361264, T: 23208, Avg. loss: 0.971338\nTotal training time: 0.02 seconds.\n-- Epoch 7\nNorm: 0.21, NNZs: 15, Bias: 0.359793, T: 27076, Avg. loss: 0.971038\nTotal training time: 0.02 seconds.\n-- Epoch 8\nNorm: 0.21, NNZs: 15, Bias: 0.357949, T: 30944, Avg. loss: 0.963422\nTotal training time: 0.02 seconds.\n-- Epoch 9\nNorm: 0.22, NNZs: 15, Bias: 0.356696, T: 34812, Avg. loss: 0.957059\nTotal training time: 0.02 seconds.\n-- Epoch 10\nNorm: 0.22, NNZs: 15, Bias: 0.355551, T: 38680, Avg. loss: 0.958327\nTotal training time: 0.02 seconds.\n-- Epoch 11\nNorm: 0.22, NNZs: 15, Bias: 0.354305, T: 42548, Avg. loss: 0.962661\nTotal training time: 0.02 seconds.\n-- Epoch 12\nNorm: 0.22, NNZs: 15, Bias: 0.353741, T: 46416, Avg. loss: 0.956452\nTotal training time: 0.02 seconds.\n-- Epoch 13\nNorm: 0.22, NNZs: 15, Bias: 0.352343, T: 50284, Avg. loss: 0.954730\nTotal training time: 0.02 seconds.\n-- Epoch 14\nNorm: 0.22, NNZs: 15, Bias: 0.351684, T: 54152, Avg. loss: 0.964905\nTotal training time: 0.02 seconds.\n-- Epoch 15\nNorm: 0.22, NNZs: 15, Bias: 0.351021, T: 58020, Avg. loss: 0.961969\nTotal training time: 0.02 seconds.\n-- Epoch 16\nNorm: 0.22, NNZs: 15, Bias: 0.350491, T: 61888, Avg. loss: 0.963522\nTotal training time: 0.02 seconds.\n-- Epoch 17\nNorm: 0.22, NNZs: 15, Bias: 0.349813, T: 65756, Avg. loss: 0.954262\nTotal training time: 0.02 seconds.\n-- Epoch 18\nNorm: 0.22, NNZs: 15, Bias: 0.349072, T: 69624, Avg. loss: 0.959686\nTotal training time: 0.02 seconds.\nConvergence after 18 epochs took 0.02 seconds\n-- Epoch 1\nNorm: 0.18, NNZs: 15, Bias: 0.457536, T: 3867, Avg. loss: 1.853669\nTotal training time: 0.00 seconds.\n-- Epoch 2\nNorm: 0.19, NNZs: 15, Bias: 0.442680, T: 7734, Avg. loss: 0.991743\nTotal training time: 0.00 seconds.\n-- Epoch 3\nNorm: 0.19, NNZs: 15, Bias: 0.437120, T: 11601, Avg. loss: 0.982784\nTotal training time: 0.00 seconds.\n-- Epoch 4\nNorm: 0.20, NNZs: 15, Bias: 0.433115, T: 15468, Avg. loss: 0.970965\nTotal training time: 0.00 seconds.\n-- Epoch 5\nNorm: 0.20, NNZs: 15, Bias: 0.429927, T: 19335, Avg. loss: 0.963419\nTotal training time: 0.01 seconds.\n-- Epoch 6\nNorm: 0.20, NNZs: 15, Bias: 0.427019, T: 23202, Avg. loss: 0.975804\nTotal training time: 0.01 seconds.\n-- Epoch 7\nNorm: 0.21, NNZs: 15, Bias: 0.424748, T: 27069, Avg. loss: 0.955822\nTotal training time: 0.01 seconds.\n-- Epoch 8\nNorm: 0.21, NNZs: 15, Bias: 0.423669, T: 30936, Avg. loss: 0.970498\nTotal training time: 0.01 seconds.\n-- Epoch 9\nNorm: 0.21, NNZs: 15, Bias: 0.421900, T: 34803, Avg. loss: 0.967260\nTotal training time: 0.01 seconds.\n-- Epoch 10\nNorm: 0.21, NNZs: 15, Bias: 0.420754, T: 38670, Avg. loss: 0.966028\nTotal training time: 0.01 seconds.\n-- Epoch 11\nNorm: 0.21, NNZs: 15, Bias: 0.419291, T: 42537, Avg. loss: 0.964615\nTotal training time: 0.01 seconds.\n-- Epoch 12\nNorm: 0.21, NNZs: 15, Bias: 0.418334, T: 46404, Avg. loss: 0.965251\nTotal training time: 0.08 seconds.\nConvergence after 12 epochs took 0.08 seconds\n-- Epoch 1\nNorm: 0.17, NNZs: 15, Bias: -0.688157, T: 3867, Avg. loss: 1.757271\nTotal training time: 0.00 seconds.\n-- Epoch 2\nNorm: 0.18, NNZs: 15, Bias: -0.690134, T: 7734, Avg. loss: 0.989730\nTotal training time: 0.00 seconds.\n-- Epoch 3\nNorm: 0.19, NNZs: 15, Bias: -0.690442, T: 11601, Avg. loss: 0.957312\nTotal training time: 0.01 seconds.\n-- Epoch 4\nNorm: 0.19, NNZs: 15, Bias: -0.691680, T: 15468, Avg. loss: 0.961773\nTotal training time: 0.01 seconds.\n-- Epoch 5\nNorm: 0.20, NNZs: 15, Bias: -0.693269, T: 19335, Avg. loss: 0.962183\nTotal training time: 0.01 seconds.\n-- Epoch 6\nNorm: 0.20, NNZs: 15, Bias: -0.694352, T: 23202, Avg. loss: 0.954419\nTotal training time: 0.01 seconds.\n-- Epoch 7\nNorm: 0.20, NNZs: 15, Bias: -0.695159, T: 27069, Avg. loss: 0.944523\nTotal training time: 0.01 seconds.\n-- Epoch 8\nNorm: 0.21, NNZs: 15, Bias: -0.696360, T: 30936, Avg. loss: 0.951034\nTotal training time: 0.01 seconds.\n-- Epoch 9\nNorm: 0.21, NNZs: 15, Bias: -0.697509, T: 34803, Avg. loss: 0.946251\nTotal training time: 0.02 seconds.\n-- Epoch 10\nNorm: 0.21, NNZs: 15, Bias: -0.697752, T: 38670, Avg. loss: 0.938724\nTotal training time: 0.02 seconds.\n-- Epoch 11\nNorm: 0.21, NNZs: 15, Bias: -0.698542, T: 42537, Avg. loss: 0.943179\nTotal training time: 0.02 seconds.\n-- Epoch 12\nNorm: 0.21, NNZs: 15, Bias: -0.699183, T: 46404, Avg. loss: 0.938192\nTotal training time: 0.02 seconds.\n-- Epoch 13\nNorm: 0.21, NNZs: 15, Bias: -0.700044, T: 50271, Avg. loss: 0.946773\nTotal training time: 0.02 seconds.\n-- Epoch 14\nNorm: 0.21, NNZs: 15, Bias: -0.700632, T: 54138, Avg. loss: 0.942207\nTotal training time: 0.02 seconds.\n-- Epoch 15\nNorm: 0.21, NNZs: 15, Bias: -0.701131, T: 58005, Avg. loss: 0.939639\nTotal training time: 0.02 seconds.\nConvergence after 15 epochs took 0.02 seconds\n-- Epoch 1\nNorm: 0.18, NNZs: 15, Bias: 0.277297, T: 3867, Avg. loss: 2.178045\nTotal training time: 0.00 seconds.\n-- Epoch 2\nNorm: 0.18, NNZs: 15, Bias: 0.267463, T: 7734, Avg. loss: 0.988458\nTotal training time: 0.00 seconds.\n-- Epoch 3\nNorm: 0.19, NNZs: 15, Bias: 0.262702, T: 11601, Avg. loss: 0.980705\nTotal training time: 0.00 seconds.\n-- Epoch 4\nNorm: 0.20, NNZs: 15, Bias: 0.258307, T: 15468, Avg. loss: 0.969713\nTotal training time: 0.00 seconds.\n-- Epoch 5\nNorm: 0.20, NNZs: 15, Bias: 0.255878, T: 19335, Avg. loss: 0.967705\nTotal training time: 0.01 seconds.\n-- Epoch 6\nNorm: 0.20, NNZs: 15, Bias: 0.253648, T: 23202, Avg. loss: 0.970654\nTotal training time: 0.01 seconds.\n-- Epoch 7\nNorm: 0.20, NNZs: 15, Bias: 0.252666, T: 27069, Avg. loss: 0.963397\nTotal training time: 0.01 seconds.\n-- Epoch 8\nNorm: 0.21, NNZs: 15, Bias: 0.251057, T: 30936, Avg. loss: 0.964354\nTotal training time: 0.01 seconds.\n-- Epoch 9\nNorm: 0.21, NNZs: 15, Bias: 0.249679, T: 34803, Avg. loss: 0.965160\nTotal training time: 0.01 seconds.\n-- Epoch 10\nNorm: 0.21, NNZs: 15, Bias: 0.248485, T: 38670, Avg. loss: 0.957942\nTotal training time: 0.01 seconds.\n-- Epoch 11\nNorm: 0.21, NNZs: 15, Bias: 0.247549, T: 42537, Avg. loss: 0.958772\nTotal training time: 0.01 seconds.\n-- Epoch 12\nNorm: 0.21, NNZs: 15, Bias: 0.246775, T: 46404, Avg. loss: 0.956717\nTotal training time: 0.01 seconds.\n-- Epoch 13\nNorm: 0.21, NNZs: 15, Bias: 0.245933, T: 50271, Avg. loss: 0.966655\nTotal training time: 0.01 seconds.\n-- Epoch 14\nNorm: 0.21, NNZs: 15, Bias: 0.245216, T: 54138, Avg. loss: 0.964830\nTotal training time: 0.01 seconds.\n-- Epoch 15\nNorm: 0.21, NNZs: 15, Bias: 0.244121, T: 58005, Avg. loss: 0.961934\nTotal training time: 0.02 seconds.\n-- Epoch 16\nNorm: 0.21, NNZs: 15, Bias: 0.243528, T: 61872, Avg. loss: 0.959044\nTotal training time: 0.02 seconds.\n-- Epoch 17\nNorm: 0.21, NNZs: 15, Bias: 0.243073, T: 65739, Avg. loss: 0.959466\nTotal training time: 0.02 seconds.\nConvergence after 17 epochs took 0.02 seconds\n-- Epoch 1\nNorm: 0.17, NNZs: 15, Bias: 0.792732, T: 3867, Avg. loss: 1.689651\nTotal training time: 0.00 seconds.\n-- Epoch 2\nNorm: 0.19, NNZs: 15, Bias: 0.778206, T: 7734, Avg. loss: 0.997414\nTotal training time: 0.00 seconds.\n-- Epoch 3\nNorm: 0.19, NNZs: 15, Bias: 0.771651, T: 11601, Avg. loss: 0.983277\nTotal training time: 0.00 seconds.\n-- Epoch 4\nNorm: 0.20, NNZs: 15, Bias: 0.766917, T: 15468, Avg. loss: 0.979481\nTotal training time: 0.00 seconds.\n-- Epoch 5\nNorm: 0.20, NNZs: 15, Bias: 0.764016, T: 19335, Avg. loss: 0.979421\nTotal training time: 0.01 seconds.\n-- Epoch 6\nNorm: 0.20, NNZs: 15, Bias: 0.761658, T: 23202, Avg. loss: 0.955502\nTotal training time: 0.01 seconds.\n-- Epoch 7\nNorm: 0.21, NNZs: 15, Bias: 0.759569, T: 27069, Avg. loss: 0.976895\nTotal training time: 0.01 seconds.\n-- Epoch 8\nNorm: 0.21, NNZs: 15, Bias: 0.758129, T: 30936, Avg. loss: 0.975453\nTotal training time: 0.01 seconds.\n-- Epoch 9\nNorm: 0.21, NNZs: 15, Bias: 0.756804, T: 34803, Avg. loss: 0.967837\nTotal training time: 0.01 seconds.\n-- Epoch 10\nNorm: 0.21, NNZs: 15, Bias: 0.755591, T: 38670, Avg. loss: 0.973506\nTotal training time: 0.01 seconds.\n-- Epoch 11\nNorm: 0.21, NNZs: 15, Bias: 0.754742, T: 42537, Avg. loss: 0.970654\nTotal training time: 0.01 seconds.\nConvergence after 11 epochs took 0.01 seconds\n-- Epoch 1\nNorm: 0.17, NNZs: 15, Bias: 0.113434, T: 3868, Avg. loss: 2.204365\nTotal training time: 0.00 seconds.\n-- Epoch 2\nNorm: 0.19, NNZs: 15, Bias: 0.104987, T: 7736, Avg. loss: 0.990777\nTotal training time: 0.00 seconds.\n-- Epoch 3\nNorm: 0.19, NNZs: 15, Bias: 0.100838, T: 11604, Avg. loss: 0.966657\nTotal training time: 0.01 seconds.\n-- Epoch 4\nNorm: 0.20, NNZs: 15, Bias: 0.097334, T: 15472, Avg. loss: 0.982265\nTotal training time: 0.07 seconds.\n-- Epoch 5\nNorm: 0.21, NNZs: 15, Bias: 0.094871, T: 19340, Avg. loss: 0.968658\nTotal training time: 0.07 seconds.\n-- Epoch 6\nNorm: 0.21, NNZs: 15, Bias: 0.092653, T: 23208, Avg. loss: 0.969319\nTotal training time: 0.07 seconds.\n-- Epoch 7\nNorm: 0.21, NNZs: 15, Bias: 0.091239, T: 27076, Avg. loss: 0.960303\nTotal training time: 0.08 seconds.\n-- Epoch 8\nNorm: 0.21, NNZs: 15, Bias: 0.089790, T: 30944, Avg. loss: 0.958152\nTotal training time: 0.08 seconds.\n-- Epoch 9\nNorm: 0.21, NNZs: 15, Bias: 0.088268, T: 34812, Avg. loss: 0.959680\nTotal training time: 0.08 seconds.\n-- Epoch 10\nNorm: 0.22, NNZs: 15, Bias: 0.087359, T: 38680, Avg. loss: 0.955208\nTotal training time: 0.08 seconds.\n-- Epoch 11\nNorm: 0.22, NNZs: 15, Bias: 0.085932, T: 42548, Avg. loss: 0.957588\nTotal training time: 0.08 seconds.\n-- Epoch 12\nNorm: 0.22, NNZs: 15, Bias: 0.085362, T: 46416, Avg. loss: 0.956294\nTotal training time: 0.08 seconds.\n-- Epoch 13\nNorm: 0.22, NNZs: 15, Bias: 0.084497, T: 50284, Avg. loss: 0.956282\nTotal training time: 0.08 seconds.\n-- Epoch 14\nNorm: 0.22, NNZs: 15, Bias: 0.083633, T: 54152, Avg. loss: 0.957864\nTotal training time: 0.08 seconds.\n-- Epoch 15\nNorm: 0.22, NNZs: 15, Bias: 0.082825, T: 58020, Avg. loss: 0.948989\nTotal training time: 0.08 seconds.\n-- Epoch 16\nNorm: 0.22, NNZs: 15, Bias: 0.082028, T: 61888, Avg. loss: 0.954990\nTotal training time: 0.09 seconds.\n-- Epoch 17\nNorm: 0.22, NNZs: 15, Bias: 0.081650, T: 65756, Avg. loss: 0.951574\nTotal training time: 0.09 seconds.\n-- Epoch 18\nNorm: 0.22, NNZs: 15, Bias: 0.080904, T: 69624, Avg. loss: 0.954909\nTotal training time: 0.09 seconds.\n-- Epoch 19\nNorm: 0.22, NNZs: 15, Bias: 0.080264, T: 73492, Avg. loss: 0.954356\nTotal training time: 0.09 seconds.\n-- Epoch 20\nNorm: 0.22, NNZs: 15, Bias: 0.079877, T: 77360, Avg. loss: 0.956016\nTotal training time: 0.09 seconds.\nConvergence after 20 epochs took 0.09 seconds\n-- Epoch 1\nNorm: 0.15, NNZs: 15, Bias: -0.905223, T: 3867, Avg. loss: 1.311422\nTotal training time: 0.00 seconds.\n-- Epoch 2\nNorm: 0.17, NNZs: 15, Bias: -0.899070, T: 7734, Avg. loss: 0.969841\nTotal training time: 0.00 seconds.\n-- Epoch 3\nNorm: 0.18, NNZs: 15, Bias: -0.896748, T: 11601, Avg. loss: 0.955577\nTotal training time: 0.00 seconds.\n-- Epoch 4\nNorm: 0.18, NNZs: 15, Bias: -0.895927, T: 15468, Avg. loss: 0.951618\nTotal training time: 0.00 seconds.\n-- Epoch 5\nNorm: 0.19, NNZs: 15, Bias: -0.895591, T: 19335, Avg. loss: 0.951667\nTotal training time: 0.00 seconds.\n-- Epoch 6\nNorm: 0.19, NNZs: 15, Bias: -0.895173, T: 23202, Avg. loss: 0.953631\nTotal training time: 0.01 seconds.\n-- Epoch 7\nNorm: 0.19, NNZs: 15, Bias: -0.894876, T: 27069, Avg. loss: 0.952417\nTotal training time: 0.01 seconds.\n-- Epoch 8\nNorm: 0.19, NNZs: 15, Bias: -0.894745, T: 30936, Avg. loss: 0.951819\nTotal training time: 0.01 seconds.\n-- Epoch 9\nNorm: 0.20, NNZs: 15, Bias: -0.894743, T: 34803, Avg. loss: 0.951205\nTotal training time: 0.01 seconds.\nConvergence after 9 epochs took 0.01 seconds\n-- Epoch 1\nNorm: 0.18, NNZs: 15, Bias: 0.815444, T: 3867, Avg. loss: 1.914033\nTotal training time: 0.00 seconds.\n-- Epoch 2\nNorm: 0.19, NNZs: 15, Bias: 0.798935, T: 7734, Avg. loss: 0.988788\nTotal training time: 0.00 seconds.\n-- Epoch 3\nNorm: 0.19, NNZs: 15, Bias: 0.790798, T: 11601, Avg. loss: 0.981051\nTotal training time: 0.00 seconds.\n-- Epoch 4\nNorm: 0.20, NNZs: 15, Bias: 0.785476, T: 15468, Avg. loss: 0.979066\nTotal training time: 0.00 seconds.\n-- Epoch 5\nNorm: 0.20, NNZs: 15, Bias: 0.781827, T: 19335, Avg. loss: 0.979000\nTotal training time: 0.00 seconds.\n-- Epoch 6\nNorm: 0.21, NNZs: 15, Bias: 0.779156, T: 23202, Avg. loss: 0.977237\nTotal training time: 0.01 seconds.\n-- Epoch 7\nNorm: 0.21, NNZs: 15, Bias: 0.776993, T: 27069, Avg. loss: 0.975920\nTotal training time: 0.01 seconds.\n-- Epoch 8\nNorm: 0.21, NNZs: 15, Bias: 0.775123, T: 30936, Avg. loss: 0.974840\nTotal training time: 0.01 seconds.\n-- Epoch 9\nNorm: 0.21, NNZs: 15, Bias: 0.773477, T: 34803, Avg. loss: 0.974083\nTotal training time: 0.01 seconds.\n-- Epoch 10\nNorm: 0.21, NNZs: 15, Bias: 0.772039, T: 38670, Avg. loss: 0.973455\nTotal training time: 0.01 seconds.\n-- Epoch 11\nNorm: 0.22, NNZs: 15, Bias: 0.770766, T: 42537, Avg. loss: 0.972627\nTotal training time: 0.01 seconds.\n-- Epoch 12\nNorm: 0.22, NNZs: 15, Bias: 0.769606, T: 46404, Avg. loss: 0.972288\nTotal training time: 0.01 seconds.\n-- Epoch 13\nNorm: 0.22, NNZs: 15, Bias: 0.768561, T: 50271, Avg. loss: 0.971908\nTotal training time: 0.01 seconds.\nConvergence after 13 epochs took 0.01 seconds\n-- Epoch 1\nNorm: 0.17, NNZs: 15, Bias: 0.819444, T: 3867, Avg. loss: 1.904986\nTotal training time: 0.00 seconds.\n-- Epoch 2\nNorm: 0.18, NNZs: 15, Bias: 0.802018, T: 7734, Avg. loss: 0.988963\nTotal training time: 0.01 seconds.\n-- Epoch 3\nNorm: 0.19, NNZs: 15, Bias: 0.793577, T: 11601, Avg. loss: 0.982172\nTotal training time: 0.01 seconds.\n-- Epoch 4\nNorm: 0.19, NNZs: 15, Bias: 0.788233, T: 15468, Avg. loss: 0.980840\nTotal training time: 0.01 seconds.\n-- Epoch 5\nNorm: 0.20, NNZs: 15, Bias: 0.784628, T: 19335, Avg. loss: 0.978594\nTotal training time: 0.01 seconds.\n-- Epoch 6\nNorm: 0.20, NNZs: 15, Bias: 0.781852, T: 23202, Avg. loss: 0.977853\nTotal training time: 0.01 seconds.\n-- Epoch 7\nNorm: 0.20, NNZs: 15, Bias: 0.779564, T: 27069, Avg. loss: 0.978034\nTotal training time: 0.01 seconds.\n-- Epoch 8\nNorm: 0.21, NNZs: 15, Bias: 0.777692, T: 30936, Avg. loss: 0.977911\nTotal training time: 0.01 seconds.\n-- Epoch 9\nNorm: 0.21, NNZs: 15, Bias: 0.776139, T: 34803, Avg. loss: 0.977588\nTotal training time: 0.02 seconds.\n-- Epoch 10\nNorm: 0.21, NNZs: 15, Bias: 0.774755, T: 38670, Avg. loss: 0.976957\nTotal training time: 0.02 seconds.\nConvergence after 10 epochs took 0.02 seconds\n-- Epoch 1\nNorm: 0.17, NNZs: 15, Bias: 0.825833, T: 3867, Avg. loss: 1.906355\nTotal training time: 0.00 seconds.\n-- Epoch 2\nNorm: 0.19, NNZs: 15, Bias: 0.811119, T: 7734, Avg. loss: 0.987736\nTotal training time: 0.01 seconds.\n-- Epoch 3\nNorm: 0.19, NNZs: 15, Bias: 0.804096, T: 11601, Avg. loss: 0.979527\nTotal training time: 0.01 seconds.\n-- Epoch 4\nNorm: 0.20, NNZs: 15, Bias: 0.799536, T: 15468, Avg. loss: 0.977853\nTotal training time: 0.01 seconds.\n-- Epoch 5\nNorm: 0.20, NNZs: 15, Bias: 0.796495, T: 19335, Avg. loss: 0.976248\nTotal training time: 0.01 seconds.\n-- Epoch 6\nNorm: 0.21, NNZs: 15, Bias: 0.794229, T: 23202, Avg. loss: 0.976284\nTotal training time: 0.09 seconds.\n-- Epoch 7\nNorm: 0.21, NNZs: 15, Bias: 0.792378, T: 27069, Avg. loss: 0.976439\nTotal training time: 0.09 seconds.\n-- Epoch 8\nNorm: 0.21, NNZs: 15, Bias: 0.790919, T: 30936, Avg. loss: 0.976025\nTotal training time: 0.09 seconds.\n-- Epoch 9\nNorm: 0.21, NNZs: 15, Bias: 0.789638, T: 34803, Avg. loss: 0.974615\nTotal training time: 0.09 seconds.\n-- Epoch 10\nNorm: 0.21, NNZs: 15, Bias: 0.788497, T: 38670, Avg. loss: 0.974499\nTotal training time: 0.09 seconds.\n-- Epoch 11\nNorm: 0.21, NNZs: 15, Bias: 0.787519, T: 42537, Avg. loss: 0.973500\nTotal training time: 0.09 seconds.\n-- Epoch 12\nNorm: 0.21, NNZs: 15, Bias: 0.786606, T: 46404, Avg. loss: 0.972892\nTotal training time: 0.09 seconds.\n-- Epoch 13\nNorm: 0.22, NNZs: 15, Bias: 0.785811, T: 50271, Avg. loss: 0.972570\nTotal training time: 0.09 seconds.\n-- Epoch 14\nNorm: 0.22, NNZs: 15, Bias: 0.785076, T: 54138, Avg. loss: 0.971945\nTotal training time: 0.09 seconds.\nConvergence after 14 epochs took 0.09 seconds\n-- Epoch 1\nNorm: 0.19, NNZs: 15, Bias: 0.818384, T: 3868, Avg. loss: 1.920305\nTotal training time: 0.00 seconds.\n-- Epoch 2\nNorm: 0.20, NNZs: 15, Bias: 0.801938, T: 7736, Avg. loss: 0.988807\nTotal training time: 0.00 seconds.\n-- Epoch 3\nNorm: 0.20, NNZs: 15, Bias: 0.794142, T: 11604, Avg. loss: 0.981883\nTotal training time: 0.00 seconds.\n-- Epoch 4\nNorm: 0.21, NNZs: 15, Bias: 0.789297, T: 15472, Avg. loss: 0.980771\nTotal training time: 0.00 seconds.\n-- Epoch 5\nNorm: 0.21, NNZs: 15, Bias: 0.785937, T: 19340, Avg. loss: 0.978860\nTotal training time: 0.01 seconds.\n-- Epoch 6\nNorm: 0.21, NNZs: 15, Bias: 0.783290, T: 23208, Avg. loss: 0.977811\nTotal training time: 0.01 seconds.\n-- Epoch 7\nNorm: 0.21, NNZs: 15, Bias: 0.781096, T: 27076, Avg. loss: 0.976609\nTotal training time: 0.01 seconds.\n-- Epoch 8\nNorm: 0.21, NNZs: 15, Bias: 0.779229, T: 30944, Avg. loss: 0.974711\nTotal training time: 0.01 seconds.\n-- Epoch 9\nNorm: 0.22, NNZs: 15, Bias: 0.777613, T: 34812, Avg. loss: 0.973673\nTotal training time: 0.01 seconds.\n-- Epoch 10\nNorm: 0.22, NNZs: 15, Bias: 0.776112, T: 38680, Avg. loss: 0.972546\nTotal training time: 0.01 seconds.\n-- Epoch 11\nNorm: 0.22, NNZs: 15, Bias: 0.774780, T: 42548, Avg. loss: 0.971769\nTotal training time: 0.01 seconds.\n-- Epoch 12\nNorm: 0.22, NNZs: 15, Bias: 0.773587, T: 46416, Avg. loss: 0.971313\nTotal training time: 0.01 seconds.\n-- Epoch 13\nNorm: 0.22, NNZs: 15, Bias: 0.772512, T: 50284, Avg. loss: 0.970911\nTotal training time: 0.01 seconds.\n-- Epoch 14\nNorm: 0.22, NNZs: 15, Bias: 0.771554, T: 54152, Avg. loss: 0.970199\nTotal training time: 0.02 seconds.\n-- Epoch 15\nNorm: 0.22, NNZs: 15, Bias: 0.770644, T: 58020, Avg. loss: 0.969567\nTotal training time: 0.02 seconds.\nConvergence after 15 epochs took 0.02 seconds\n-- Epoch 1\nNorm: 0.15, NNZs: 15, Bias: -0.905223, T: 3867, Avg. loss: 1.311422\nTotal training time: 0.00 seconds.\n-- Epoch 2\nNorm: 0.17, NNZs: 15, Bias: -0.899070, T: 7734, Avg. loss: 0.969841\nTotal training time: 0.00 seconds.\n-- Epoch 3\nNorm: 0.18, NNZs: 15, Bias: -0.896748, T: 11601, Avg. loss: 0.955577\nTotal training time: 0.00 seconds.\n-- Epoch 4\nNorm: 0.18, NNZs: 15, Bias: -0.895927, T: 15468, Avg. loss: 0.951618\nTotal training time: 0.01 seconds.\n-- Epoch 5\nNorm: 0.19, NNZs: 15, Bias: -0.895591, T: 19335, Avg. loss: 0.951667\nTotal training time: 0.01 seconds.\n-- Epoch 6\nNorm: 0.19, NNZs: 15, Bias: -0.895173, T: 23202, Avg. loss: 0.953631\nTotal training time: 0.01 seconds.\n-- Epoch 7\nNorm: 0.19, NNZs: 15, Bias: -0.894876, T: 27069, Avg. loss: 0.952417\nTotal training time: 0.02 seconds.\n-- Epoch 8\nNorm: 0.19, NNZs: 15, Bias: -0.894745, T: 30936, Avg. loss: 0.951819\nTotal training time: 0.02 seconds.\n-- Epoch 9\nNorm: 0.20, NNZs: 15, Bias: -0.894743, T: 34803, Avg. loss: 0.951205\nTotal training time: 0.02 seconds.\nConvergence after 9 epochs took 0.02 seconds\n-- Epoch 1\nNorm: 0.18, NNZs: 15, Bias: 0.815444, T: 3867, Avg. loss: 1.914033\nTotal training time: 0.01 seconds.\n-- Epoch 2\nNorm: 0.19, NNZs: 15, Bias: 0.798935, T: 7734, Avg. loss: 0.988788\nTotal training time: 0.01 seconds.\n-- Epoch 3\nNorm: 0.19, NNZs: 15, Bias: 0.790798, T: 11601, Avg. loss: 0.981051\nTotal training time: 0.01 seconds.\n-- Epoch 4\nNorm: 0.20, NNZs: 15, Bias: 0.785476, T: 15468, Avg. loss: 0.979066\nTotal training time: 0.01 seconds.\n-- Epoch 5\nNorm: 0.20, NNZs: 15, Bias: 0.781827, T: 19335, Avg. loss: 0.979000\nTotal training time: 0.02 seconds.\n-- Epoch 6\nNorm: 0.21, NNZs: 15, Bias: 0.779156, T: 23202, Avg. loss: 0.977237\nTotal training time: 0.02 seconds.\n-- Epoch 7\nNorm: 0.21, NNZs: 15, Bias: 0.776993, T: 27069, Avg. loss: 0.975920\nTotal training time: 0.02 seconds.\n-- Epoch 8\nNorm: 0.21, NNZs: 15, Bias: 0.775123, T: 30936, Avg. loss: 0.974840\nTotal training time: 0.02 seconds.\n-- Epoch 9\nNorm: 0.21, NNZs: 15, Bias: 0.773477, T: 34803, Avg. loss: 0.974083\nTotal training time: 0.02 seconds.\n-- Epoch 10\nNorm: 0.21, NNZs: 15, Bias: 0.772039, T: 38670, Avg. loss: 0.973455\nTotal training time: 0.02 seconds.\n-- Epoch 11\nNorm: 0.22, NNZs: 15, Bias: 0.770766, T: 42537, Avg. loss: 0.972627\nTotal training time: 0.03 seconds.\n-- Epoch 12\nNorm: 0.22, NNZs: 15, Bias: 0.769606, T: 46404, Avg. loss: 0.972288\nTotal training time: 0.03 seconds.\n-- Epoch 13\nNorm: 0.22, NNZs: 15, Bias: 0.768561, T: 50271, Avg. loss: 0.971908\nTotal training time: 0.03 seconds.\nConvergence after 13 epochs took 0.03 seconds\n-- Epoch 1\nNorm: 0.17, NNZs: 15, Bias: 0.819444, T: 3867, Avg. loss: 1.904986\nTotal training time: 0.00 seconds.\n-- Epoch 2\nNorm: 0.18, NNZs: 15, Bias: 0.802018, T: 7734, Avg. loss: 0.988963\nTotal training time: 0.00 seconds.\n-- Epoch 3\nNorm: 0.19, NNZs: 15, Bias: 0.793577, T: 11601, Avg. loss: 0.982172\nTotal training time: 0.01 seconds.\n-- Epoch 4\nNorm: 0.19, NNZs: 15, Bias: 0.788233, T: 15468, Avg. loss: 0.980840\nTotal training time: 0.08 seconds.\n-- Epoch 5\nNorm: 0.20, NNZs: 15, Bias: 0.784628, T: 19335, Avg. loss: 0.978594\nTotal training time: 0.08 seconds.\n-- Epoch 6\nNorm: 0.20, NNZs: 15, Bias: 0.781852, T: 23202, Avg. loss: 0.977853\nTotal training time: 0.08 seconds.\n-- Epoch 7\nNorm: 0.20, NNZs: 15, Bias: 0.779564, T: 27069, Avg. loss: 0.978034\nTotal training time: 0.08 seconds.\n-- Epoch 8\nNorm: 0.21, NNZs: 15, Bias: 0.777692, T: 30936, Avg. loss: 0.977911\nTotal training time: 0.08 seconds.\n-- Epoch 9\nNorm: 0.21, NNZs: 15, Bias: 0.776139, T: 34803, Avg. loss: 0.977588\nTotal training time: 0.09 seconds.\n-- Epoch 10\nNorm: 0.21, NNZs: 15, Bias: 0.774755, T: 38670, Avg. loss: 0.976957\nTotal training time: 0.09 seconds.\nConvergence after 10 epochs took 0.09 seconds\n-- Epoch 1\nNorm: 0.17, NNZs: 15, Bias: 0.825833, T: 3867, Avg. loss: 1.906355\nTotal training time: 0.01 seconds.\n-- Epoch 2\nNorm: 0.19, NNZs: 15, Bias: 0.811119, T: 7734, Avg. loss: 0.987736\nTotal training time: 0.01 seconds.\n-- Epoch 3\nNorm: 0.19, NNZs: 15, Bias: 0.804096, T: 11601, Avg. loss: 0.979527\nTotal training time: 0.01 seconds.\n-- Epoch 4\nNorm: 0.20, NNZs: 15, Bias: 0.799536, T: 15468, Avg. loss: 0.977853\nTotal training time: 0.18 seconds.\n-- Epoch 5\nNorm: 0.20, NNZs: 15, Bias: 0.796495, T: 19335, Avg. loss: 0.976248\nTotal training time: 0.18 seconds.\n-- Epoch 6\nNorm: 0.21, NNZs: 15, Bias: 0.794229, T: 23202, Avg. loss: 0.976284\nTotal training time: 0.18 seconds.\n-- Epoch 7\nNorm: 0.21, NNZs: 15, Bias: 0.792378, T: 27069, Avg. loss: 0.976439\nTotal training time: 0.18 seconds.\n-- Epoch 8\nNorm: 0.21, NNZs: 15, Bias: 0.790919, T: 30936, Avg. loss: 0.976025\nTotal training time: 0.18 seconds.\n-- Epoch 9\nNorm: 0.21, NNZs: 15, Bias: 0.789638, T: 34803, Avg. loss: 0.974615\nTotal training time: 0.18 seconds.\n-- Epoch 10\nNorm: 0.21, NNZs: 15, Bias: 0.788497, T: 38670, Avg. loss: 0.974499\nTotal training time: 0.18 seconds.\n-- Epoch 11\nNorm: 0.21, NNZs: 15, Bias: 0.787519, T: 42537, Avg. loss: 0.973500\nTotal training time: 0.19 seconds.\n-- Epoch 12\nNorm: 0.21, NNZs: 15, Bias: 0.786606, T: 46404, Avg. loss: 0.972892\nTotal training time: 0.19 seconds.\n-- Epoch 13\nNorm: 0.22, NNZs: 15, Bias: 0.785811, T: 50271, Avg. loss: 0.972570\nTotal training time: 0.19 seconds.\n-- Epoch 14\nNorm: 0.22, NNZs: 15, Bias: 0.785076, T: 54138, Avg. loss: 0.971945\nTotal training time: 0.19 seconds.\nConvergence after 14 epochs took 0.19 seconds\n-- Epoch 1\nNorm: 0.19, NNZs: 15, Bias: 0.818384, T: 3868, Avg. loss: 1.920305\nTotal training time: 0.00 seconds.\n-- Epoch 2\nNorm: 0.20, NNZs: 15, Bias: 0.801938, T: 7736, Avg. loss: 0.988807\nTotal training time: 0.00 seconds.\n-- Epoch 3\nNorm: 0.20, NNZs: 15, Bias: 0.794142, T: 11604, Avg. loss: 0.981883\nTotal training time: 0.00 seconds.\n-- Epoch 4\nNorm: 0.21, NNZs: 15, Bias: 0.789297, T: 15472, Avg. loss: 0.980771\nTotal training time: 0.01 seconds.\n-- Epoch 5\nNorm: 0.21, NNZs: 15, Bias: 0.785937, T: 19340, Avg. loss: 0.978860\nTotal training time: 0.01 seconds.\n-- Epoch 6\nNorm: 0.21, NNZs: 15, Bias: 0.783290, T: 23208, Avg. loss: 0.977811\nTotal training time: 0.01 seconds.\n-- Epoch 7\nNorm: 0.21, NNZs: 15, Bias: 0.781096, T: 27076, Avg. loss: 0.976609\nTotal training time: 0.01 seconds.\n-- Epoch 8\nNorm: 0.21, NNZs: 15, Bias: 0.779229, T: 30944, Avg. loss: 0.974711\nTotal training time: 0.01 seconds.\n-- Epoch 9\nNorm: 0.22, NNZs: 15, Bias: 0.777613, T: 34812, Avg. loss: 0.973673\nTotal training time: 0.01 seconds.\n-- Epoch 10\nNorm: 0.22, NNZs: 15, Bias: 0.776112, T: 38680, Avg. loss: 0.972546\nTotal training time: 0.01 seconds.\n-- Epoch 11\nNorm: 0.22, NNZs: 15, Bias: 0.774780, T: 42548, Avg. loss: 0.971769\nTotal training time: 0.01 seconds.\n-- Epoch 12\nNorm: 0.22, NNZs: 15, Bias: 0.773587, T: 46416, Avg. loss: 0.971313\nTotal training time: 0.01 seconds.\n-- Epoch 13\nNorm: 0.22, NNZs: 15, Bias: 0.772512, T: 50284, Avg. loss: 0.970911\nTotal training time: 0.01 seconds.\n-- Epoch 14\nNorm: 0.22, NNZs: 15, Bias: 0.771554, T: 54152, Avg. loss: 0.970199\nTotal training time: 0.01 seconds.\n-- Epoch 15\nNorm: 0.22, NNZs: 15, Bias: 0.770644, T: 58020, Avg. loss: 0.969567\nTotal training time: 0.02 seconds.\nConvergence after 15 epochs took 0.02 seconds\n-- Epoch 1\nNorm: 0.15, NNZs: 15, Bias: -0.905223, T: 3867, Avg. loss: 1.311422\nTotal training time: 0.00 seconds.\n-- Epoch 2\nNorm: 0.17, NNZs: 15, Bias: -0.899070, T: 7734, Avg. loss: 0.969841\nTotal training time: 0.00 seconds.\n-- Epoch 3\nNorm: 0.18, NNZs: 15, Bias: -0.896748, T: 11601, Avg. loss: 0.955577\nTotal training time: 0.01 seconds.\n-- Epoch 4\nNorm: 0.18, NNZs: 15, Bias: -0.895927, T: 15468, Avg. loss: 0.951618\nTotal training time: 0.01 seconds.\n-- Epoch 5\nNorm: 0.19, NNZs: 15, Bias: -0.895591, T: 19335, Avg. loss: 0.951667\nTotal training time: 0.01 seconds.\n-- Epoch 6\nNorm: 0.19, NNZs: 15, Bias: -0.895173, T: 23202, Avg. loss: 0.953631\nTotal training time: 0.01 seconds.\n-- Epoch 7\nNorm: 0.19, NNZs: 15, Bias: -0.894876, T: 27069, Avg. loss: 0.952417\nTotal training time: 0.01 seconds.\n-- Epoch 8\nNorm: 0.19, NNZs: 15, Bias: -0.894745, T: 30936, Avg. loss: 0.951819\nTotal training time: 0.01 seconds.\n-- Epoch 9\nNorm: 0.20, NNZs: 15, Bias: -0.894743, T: 34803, Avg. loss: 0.951205\nTotal training time: 0.01 seconds.\nConvergence after 9 epochs took 0.01 seconds\n-- Epoch 1\nNorm: 0.18, NNZs: 15, Bias: 0.815444, T: 3867, Avg. loss: 1.914033\nTotal training time: 0.00 seconds.\n-- Epoch 2\nNorm: 0.19, NNZs: 15, Bias: 0.798935, T: 7734, Avg. loss: 0.988788\nTotal training time: 0.00 seconds.\n-- Epoch 3\nNorm: 0.19, NNZs: 15, Bias: 0.790798, T: 11601, Avg. loss: 0.981051\nTotal training time: 0.00 seconds.\n-- Epoch 4\nNorm: 0.20, NNZs: 15, Bias: 0.785476, T: 15468, Avg. loss: 0.979066\nTotal training time: 0.00 seconds.\n-- Epoch 5\nNorm: 0.20, NNZs: 15, Bias: 0.781827, T: 19335, Avg. loss: 0.979000\nTotal training time: 0.01 seconds.\n-- Epoch 6\nNorm: 0.21, NNZs: 15, Bias: 0.779156, T: 23202, Avg. loss: 0.977237\nTotal training time: 0.01 seconds.\n-- Epoch 7\nNorm: 0.21, NNZs: 15, Bias: 0.776993, T: 27069, Avg. loss: 0.975920\nTotal training time: 0.01 seconds.\n-- Epoch 8\nNorm: 0.21, NNZs: 15, Bias: 0.775123, T: 30936, Avg. loss: 0.974840\nTotal training time: 0.01 seconds.\n-- Epoch 9\nNorm: 0.21, NNZs: 15, Bias: 0.773477, T: 34803, Avg. loss: 0.974083\nTotal training time: 0.01 seconds.\n-- Epoch 10\nNorm: 0.21, NNZs: 15, Bias: 0.772039, T: 38670, Avg. loss: 0.973455\nTotal training time: 0.01 seconds.\n-- Epoch 11\nNorm: 0.22, NNZs: 15, Bias: 0.770766, T: 42537, Avg. loss: 0.972627\nTotal training time: 0.01 seconds.\n-- Epoch 12\nNorm: 0.22, NNZs: 15, Bias: 0.769606, T: 46404, Avg. loss: 0.972288\nTotal training time: 0.08 seconds.\n-- Epoch 13\nNorm: 0.22, NNZs: 15, Bias: 0.768561, T: 50271, Avg. loss: 0.971908\nTotal training time: 0.08 seconds.\nConvergence after 13 epochs took 0.08 seconds\n-- Epoch 1\nNorm: 0.17, NNZs: 15, Bias: 0.819444, T: 3867, Avg. loss: 1.904986\nTotal training time: 0.00 seconds.\n-- Epoch 2\nNorm: 0.18, NNZs: 15, Bias: 0.802018, T: 7734, Avg. loss: 0.988963\nTotal training time: 0.00 seconds.\n-- Epoch 3\nNorm: 0.19, NNZs: 15, Bias: 0.793577, T: 11601, Avg. loss: 0.982172\nTotal training time: 0.00 seconds.\n-- Epoch 4\nNorm: 0.19, NNZs: 15, Bias: 0.788233, T: 15468, Avg. loss: 0.980840\nTotal training time: 0.01 seconds.\n-- Epoch 5\nNorm: 0.20, NNZs: 15, Bias: 0.784628, T: 19335, Avg. loss: 0.978594\nTotal training time: 0.01 seconds.\n-- Epoch 6\nNorm: 0.20, NNZs: 15, Bias: 0.781852, T: 23202, Avg. loss: 0.977853\nTotal training time: 0.01 seconds.\n-- Epoch 7\nNorm: 0.20, NNZs: 15, Bias: 0.779564, T: 27069, Avg. loss: 0.978034\nTotal training time: 0.01 seconds.\n-- Epoch 8\nNorm: 0.21, NNZs: 15, Bias: 0.777692, T: 30936, Avg. loss: 0.977911\nTotal training time: 0.01 seconds.\n-- Epoch 9\nNorm: 0.21, NNZs: 15, Bias: 0.776139, T: 34803, Avg. loss: 0.977588\nTotal training time: 0.01 seconds.\n-- Epoch 10\nNorm: 0.21, NNZs: 15, Bias: 0.774755, T: 38670, Avg. loss: 0.976957\nTotal training time: 0.01 seconds.\nConvergence after 10 epochs took 0.01 seconds\n-- Epoch 1\nNorm: 0.17, NNZs: 15, Bias: 0.825833, T: 3867, Avg. loss: 1.906355\nTotal training time: 0.00 seconds.\n-- Epoch 2\nNorm: 0.19, NNZs: 15, Bias: 0.811119, T: 7734, Avg. loss: 0.987736\nTotal training time: 0.00 seconds.\n-- Epoch 3\nNorm: 0.19, NNZs: 15, Bias: 0.804096, T: 11601, Avg. loss: 0.979527\nTotal training time: 0.01 seconds.\n-- Epoch 4\nNorm: 0.20, NNZs: 15, Bias: 0.799536, T: 15468, Avg. loss: 0.977853\nTotal training time: 0.01 seconds.\n-- Epoch 5\nNorm: 0.20, NNZs: 15, Bias: 0.796495, T: 19335, Avg. loss: 0.976248\nTotal training time: 0.01 seconds.\n-- Epoch 6\nNorm: 0.21, NNZs: 15, Bias: 0.794229, T: 23202, Avg. loss: 0.976284\nTotal training time: 0.01 seconds.\n-- Epoch 7\nNorm: 0.21, NNZs: 15, Bias: 0.792378, T: 27069, Avg. loss: 0.976439\nTotal training time: 0.01 seconds.\n-- Epoch 8\nNorm: 0.21, NNZs: 15, Bias: 0.790919, T: 30936, Avg. loss: 0.976025\nTotal training time: 0.01 seconds.\n-- Epoch 9\nNorm: 0.21, NNZs: 15, Bias: 0.789638, T: 34803, Avg. loss: 0.974615\nTotal training time: 0.02 seconds.\n-- Epoch 10\nNorm: 0.21, NNZs: 15, Bias: 0.788497, T: 38670, Avg. loss: 0.974499\nTotal training time: 0.02 seconds.\n-- Epoch 11\nNorm: 0.21, NNZs: 15, Bias: 0.787519, T: 42537, Avg. loss: 0.973500\nTotal training time: 0.02 seconds.\n-- Epoch 12\nNorm: 0.21, NNZs: 15, Bias: 0.786606, T: 46404, Avg. loss: 0.972892\nTotal training time: 0.02 seconds.\n-- Epoch 13\nNorm: 0.22, NNZs: 15, Bias: 0.785811, T: 50271, Avg. loss: 0.972570\nTotal training time: 0.02 seconds.\n-- Epoch 14\nNorm: 0.22, NNZs: 15, Bias: 0.785076, T: 54138, Avg. loss: 0.971945\nTotal training time: 0.02 seconds.\nConvergence after 14 epochs took 0.02 seconds\n-- Epoch 1\nNorm: 0.19, NNZs: 15, Bias: 0.818384, T: 3868, Avg. loss: 1.920305\nTotal training time: 0.00 seconds.\n-- Epoch 2\nNorm: 0.20, NNZs: 15, Bias: 0.801938, T: 7736, Avg. loss: 0.988807\nTotal training time: 0.00 seconds.\n-- Epoch 3\nNorm: 0.20, NNZs: 15, Bias: 0.794142, T: 11604, Avg. loss: 0.981883\nTotal training time: 0.01 seconds.\n-- Epoch 4\nNorm: 0.21, NNZs: 15, Bias: 0.789297, T: 15472, Avg. loss: 0.980771\nTotal training time: 0.01 seconds.\n-- Epoch 5\nNorm: 0.21, NNZs: 15, Bias: 0.785937, T: 19340, Avg. loss: 0.978860\nTotal training time: 0.01 seconds.\n-- Epoch 6\nNorm: 0.21, NNZs: 15, Bias: 0.783290, T: 23208, Avg. loss: 0.977811\nTotal training time: 0.01 seconds.\n-- Epoch 7\nNorm: 0.21, NNZs: 15, Bias: 0.781096, T: 27076, Avg. loss: 0.976609\nTotal training time: 0.01 seconds.\n-- Epoch 8\nNorm: 0.21, NNZs: 15, Bias: 0.779229, T: 30944, Avg. loss: 0.974711\nTotal training time: 0.01 seconds.\n-- Epoch 9\nNorm: 0.22, NNZs: 15, Bias: 0.777613, T: 34812, Avg. loss: 0.973673\nTotal training time: 0.01 seconds.\n-- Epoch 10\nNorm: 0.22, NNZs: 15, Bias: 0.776112, T: 38680, Avg. loss: 0.972546\nTotal training time: 0.01 seconds.\n-- Epoch 11\nNorm: 0.22, NNZs: 15, Bias: 0.774780, T: 42548, Avg. loss: 0.971769\nTotal training time: 0.02 seconds.\n-- Epoch 12\nNorm: 0.22, NNZs: 15, Bias: 0.773587, T: 46416, Avg. loss: 0.971313\nTotal training time: 0.02 seconds.\n-- Epoch 13\nNorm: 0.22, NNZs: 15, Bias: 0.772512, T: 50284, Avg. loss: 0.970911\nTotal training time: 0.02 seconds.\n-- Epoch 14\nNorm: 0.22, NNZs: 15, Bias: 0.771554, T: 54152, Avg. loss: 0.970199\nTotal training time: 0.02 seconds.\n-- Epoch 15\nNorm: 0.22, NNZs: 15, Bias: 0.770644, T: 58020, Avg. loss: 0.969567\nTotal training time: 0.02 seconds.\nConvergence after 15 epochs took 0.02 seconds\n-- Epoch 1\nNorm: 1.05, NNZs: 15, Bias: 0.151005, T: 4834, Avg. loss: 6.133048\nTotal training time: 0.00 seconds.\n-- Epoch 2\nNorm: 1.02, NNZs: 15, Bias: 0.145569, T: 9668, Avg. loss: 1.202219\nTotal training time: 0.00 seconds.\n-- Epoch 3\nNorm: 1.01, NNZs: 15, Bias: 0.134232, T: 14502, Avg. loss: 1.030553\nTotal training time: 0.01 seconds.\n-- Epoch 4\nNorm: 1.03, NNZs: 15, Bias: 0.124081, T: 19336, Avg. loss: 0.948152\nTotal training time: 0.01 seconds.\n-- Epoch 5\nNorm: 1.03, NNZs: 15, Bias: 0.116644, T: 24170, Avg. loss: 0.907305\nTotal training time: 0.01 seconds.\n-- Epoch 6\nNorm: 1.02, NNZs: 15, Bias: 0.120773, T: 29004, Avg. loss: 0.874382\nTotal training time: 0.01 seconds.\n-- Epoch 7\nNorm: 1.03, NNZs: 15, Bias: 0.119288, T: 33838, Avg. loss: 0.868574\nTotal training time: 0.01 seconds.\n-- Epoch 8\nNorm: 1.04, NNZs: 15, Bias: 0.116801, T: 38672, Avg. loss: 0.854005\nTotal training time: 0.02 seconds.\n-- Epoch 9\nNorm: 1.06, NNZs: 15, Bias: 0.116913, T: 43506, Avg. loss: 0.844834\nTotal training time: 0.02 seconds.\n-- Epoch 10\nNorm: 1.07, NNZs: 15, Bias: 0.118763, T: 48340, Avg. loss: 0.836628\nTotal training time: 0.02 seconds.\n-- Epoch 11\nNorm: 1.07, NNZs: 15, Bias: 0.121422, T: 53174, Avg. loss: 0.820673\nTotal training time: 0.02 seconds.\n-- Epoch 12\nNorm: 1.08, NNZs: 15, Bias: 0.120801, T: 58008, Avg. loss: 0.821390\nTotal training time: 0.02 seconds.\n-- Epoch 13\nNorm: 1.09, NNZs: 15, Bias: 0.122628, T: 62842, Avg. loss: 0.812015\nTotal training time: 0.03 seconds.\n-- Epoch 14\nNorm: 1.10, NNZs: 15, Bias: 0.124069, T: 67676, Avg. loss: 0.801300\nTotal training time: 0.03 seconds.\n-- Epoch 15\nNorm: 1.10, NNZs: 15, Bias: 0.124632, T: 72510, Avg. loss: 0.804866\nTotal training time: 0.03 seconds.\n-- Epoch 16\nNorm: 1.10, NNZs: 15, Bias: 0.126171, T: 77344, Avg. loss: 0.794896\nTotal training time: 0.03 seconds.\n-- Epoch 17\nNorm: 1.11, NNZs: 15, Bias: 0.127472, T: 82178, Avg. loss: 0.795857\nTotal training time: 0.03 seconds.\n-- Epoch 18\nNorm: 1.11, NNZs: 15, Bias: 0.129542, T: 87012, Avg. loss: 0.792333\nTotal training time: 0.03 seconds.\n-- Epoch 19\nNorm: 1.11, NNZs: 15, Bias: 0.131667, T: 91846, Avg. loss: 0.782887\nTotal training time: 0.03 seconds.\n-- Epoch 20\nNorm: 1.11, NNZs: 15, Bias: 0.133200, T: 96680, Avg. loss: 0.783552\nTotal training time: 0.03 seconds.\n-- Epoch 21\nNorm: 1.12, NNZs: 15, Bias: 0.133816, T: 101514, Avg. loss: 0.786682\nTotal training time: 0.03 seconds.\n-- Epoch 22\nNorm: 1.12, NNZs: 15, Bias: 0.135387, T: 106348, Avg. loss: 0.780024\nTotal training time: 0.03 seconds.\n-- Epoch 23\nNorm: 1.13, NNZs: 15, Bias: 0.135852, T: 111182, Avg. loss: 0.783772\nTotal training time: 0.09 seconds.\n-- Epoch 24\nNorm: 1.13, NNZs: 15, Bias: 0.137824, T: 116016, Avg. loss: 0.781474\nTotal training time: 0.10 seconds.\n-- Epoch 25\nNorm: 1.13, NNZs: 15, Bias: 0.138648, T: 120850, Avg. loss: 0.771094\nTotal training time: 0.10 seconds.\n-- Epoch 26\nNorm: 1.14, NNZs: 15, Bias: 0.140361, T: 125684, Avg. loss: 0.772970\nTotal training time: 0.10 seconds.\n-- Epoch 27\nNorm: 1.14, NNZs: 15, Bias: 0.141451, T: 130518, Avg. loss: 0.774098\nTotal training time: 0.10 seconds.\n-- Epoch 28\nNorm: 1.14, NNZs: 15, Bias: 0.143713, T: 135352, Avg. loss: 0.775079\nTotal training time: 0.10 seconds.\n-- Epoch 29\nNorm: 1.15, NNZs: 15, Bias: 0.145718, T: 140186, Avg. loss: 0.770522\nTotal training time: 0.10 seconds.\n-- Epoch 30\nNorm: 1.15, NNZs: 15, Bias: 0.146560, T: 145020, Avg. loss: 0.771637\nTotal training time: 0.11 seconds.\nConvergence after 30 epochs took 0.11 seconds\n",
     "output_type": "stream"
    }
   ]
  },
  {
   "cell_type": "code",
   "metadata": {
    "tags": [],
    "deepnote_to_be_reexecuted": true,
    "source_hash": "32c9439c",
    "execution_start": 1621959222101,
    "execution_millis": 19,
    "cell_id": "00054-3f014b93-f3fb-41c6-90f7-9d45cf834a0e",
    "deepnote_cell_type": "code"
   },
   "source": "# Returns max value of the mean test score \nmax(scores['mean_test_score'])",
   "execution_count": null,
   "outputs": [
    {
     "output_type": "execute_result",
     "execution_count": 64,
     "data": {
      "text/plain": "0.6876268838545715"
     },
     "metadata": {}
    }
   ]
  },
  {
   "cell_type": "code",
   "metadata": {
    "tags": [],
    "deepnote_to_be_reexecuted": true,
    "source_hash": "46f0d3fb",
    "execution_start": 1621959222113,
    "execution_millis": 88,
    "is_output_hidden": true,
    "cell_id": "00055-926ab0c6-923f-448f-9d31-9c589046b472",
    "deepnote_cell_type": "code"
   },
   "source": "# loop that runs all of the possible parameter configurations from the parameter dictionary above\nfor mean_score, params in sorted(list(zip(scores[\"mean_test_score\"], scores[\"params\"])),key = lambda x: x[0]):\n     print(f'Best parameters for SGD Classifier are {params} with a score of {mean_score}')",
   "execution_count": null,
   "outputs": [
    {
     "name": "stdout",
     "text": "Best parameters for SGD Classifier are {'alpha': 1, 'class_weight': 'balanced', 'shuffle': False, 'verbose': 0} with a score of 0.502272936511505\nBest parameters for SGD Classifier are {'alpha': 1, 'class_weight': 'balanced', 'shuffle': False, 'verbose': 1} with a score of 0.502272936511505\nBest parameters for SGD Classifier are {'alpha': 1, 'class_weight': 'balanced', 'shuffle': False, 'verbose': 5} with a score of 0.502272936511505\nBest parameters for SGD Classifier are {'alpha': 1, 'class_weight': 'balanced', 'shuffle': False, 'verbose': 10} with a score of 0.502272936511505\nBest parameters for SGD Classifier are {'alpha': 1, 'class_weight': 'balanced', 'shuffle': True, 'verbose': 5} with a score of 0.5157165766356001\nBest parameters for SGD Classifier are {'alpha': 1, 'class_weight': None, 'shuffle': False, 'verbose': 0} with a score of 0.5208872074525597\nBest parameters for SGD Classifier are {'alpha': 1, 'class_weight': None, 'shuffle': False, 'verbose': 1} with a score of 0.5208872074525597\nBest parameters for SGD Classifier are {'alpha': 1, 'class_weight': None, 'shuffle': False, 'verbose': 5} with a score of 0.5208872074525597\nBest parameters for SGD Classifier are {'alpha': 1, 'class_weight': None, 'shuffle': False, 'verbose': 10} with a score of 0.5208872074525597\nBest parameters for SGD Classifier are {'alpha': 1, 'class_weight': None, 'shuffle': True, 'verbose': 1} with a score of 0.5225418093139867\nBest parameters for SGD Classifier are {'alpha': 0.0001, 'class_weight': None, 'shuffle': False, 'verbose': 0} with a score of 0.5262689455981124\nBest parameters for SGD Classifier are {'alpha': 0.0001, 'class_weight': None, 'shuffle': False, 'verbose': 1} with a score of 0.5262689455981124\nBest parameters for SGD Classifier are {'alpha': 0.0001, 'class_weight': None, 'shuffle': False, 'verbose': 5} with a score of 0.5262689455981124\nBest parameters for SGD Classifier are {'alpha': 0.0001, 'class_weight': None, 'shuffle': False, 'verbose': 10} with a score of 0.5262689455981124\nBest parameters for SGD Classifier are {'alpha': 1, 'class_weight': None, 'shuffle': True, 'verbose': 5} with a score of 0.5287594125820824\nBest parameters for SGD Classifier are {'alpha': 1, 'class_weight': 'balanced', 'shuffle': True, 'verbose': 10} with a score of 0.5312310383440279\nBest parameters for SGD Classifier are {'alpha': 1, 'class_weight': None, 'shuffle': True, 'verbose': 0} with a score of 0.5390974626440659\nBest parameters for SGD Classifier are {'alpha': 1, 'class_weight': None, 'shuffle': True, 'verbose': 10} with a score of 0.5469471867700364\nBest parameters for SGD Classifier are {'alpha': 0.0001, 'class_weight': 'balanced', 'shuffle': True, 'verbose': 1} with a score of 0.5500536332513312\nBest parameters for SGD Classifier are {'alpha': 1, 'class_weight': 'balanced', 'shuffle': True, 'verbose': 0} with a score of 0.5517041671216394\nBest parameters for SGD Classifier are {'alpha': 1, 'class_weight': 'balanced', 'shuffle': True, 'verbose': 1} with a score of 0.5573154256082182\nBest parameters for SGD Classifier are {'alpha': 0.001, 'class_weight': None, 'shuffle': True, 'verbose': 1} with a score of 0.5777780632508388\nBest parameters for SGD Classifier are {'alpha': 0.0001, 'class_weight': 'balanced', 'shuffle': False, 'verbose': 0} with a score of 0.5796298556291363\nBest parameters for SGD Classifier are {'alpha': 0.0001, 'class_weight': 'balanced', 'shuffle': False, 'verbose': 1} with a score of 0.5796298556291363\nBest parameters for SGD Classifier are {'alpha': 0.0001, 'class_weight': 'balanced', 'shuffle': False, 'verbose': 5} with a score of 0.5796298556291363\nBest parameters for SGD Classifier are {'alpha': 0.0001, 'class_weight': 'balanced', 'shuffle': False, 'verbose': 10} with a score of 0.5796298556291363\nBest parameters for SGD Classifier are {'alpha': 0.0001, 'class_weight': 'balanced', 'shuffle': True, 'verbose': 5} with a score of 0.5903896921387142\nBest parameters for SGD Classifier are {'alpha': 0.001, 'class_weight': None, 'shuffle': True, 'verbose': 5} with a score of 0.5964163139290157\nBest parameters for SGD Classifier are {'alpha': 0.001, 'class_weight': 'balanced', 'shuffle': True, 'verbose': 1} with a score of 0.5995204052575573\nBest parameters for SGD Classifier are {'alpha': 0.01, 'class_weight': 'balanced', 'shuffle': False, 'verbose': 0} with a score of 0.6005207028632233\nBest parameters for SGD Classifier are {'alpha': 0.01, 'class_weight': 'balanced', 'shuffle': False, 'verbose': 1} with a score of 0.6005207028632233\nBest parameters for SGD Classifier are {'alpha': 0.01, 'class_weight': 'balanced', 'shuffle': False, 'verbose': 5} with a score of 0.6005207028632233\nBest parameters for SGD Classifier are {'alpha': 0.01, 'class_weight': 'balanced', 'shuffle': False, 'verbose': 10} with a score of 0.6005207028632233\nBest parameters for SGD Classifier are {'alpha': 0.001, 'class_weight': 'balanced', 'shuffle': True, 'verbose': 0} with a score of 0.6069648290052049\nBest parameters for SGD Classifier are {'alpha': 0.01, 'class_weight': None, 'shuffle': False, 'verbose': 0} with a score of 0.607965126610871\nBest parameters for SGD Classifier are {'alpha': 0.01, 'class_weight': None, 'shuffle': False, 'verbose': 1} with a score of 0.607965126610871\nBest parameters for SGD Classifier are {'alpha': 0.01, 'class_weight': None, 'shuffle': False, 'verbose': 5} with a score of 0.607965126610871\nBest parameters for SGD Classifier are {'alpha': 0.01, 'class_weight': None, 'shuffle': False, 'verbose': 10} with a score of 0.607965126610871\nBest parameters for SGD Classifier are {'alpha': 0.0001, 'class_weight': 'balanced', 'shuffle': True, 'verbose': 10} with a score of 0.6123093129163\nBest parameters for SGD Classifier are {'alpha': 0.0001, 'class_weight': None, 'shuffle': True, 'verbose': 5} with a score of 0.6125394755717133\nBest parameters for SGD Classifier are {'alpha': 0.0001, 'class_weight': None, 'shuffle': True, 'verbose': 1} with a score of 0.6133753406942561\nBest parameters for SGD Classifier are {'alpha': 0.001, 'class_weight': None, 'shuffle': True, 'verbose': 10} with a score of 0.6154339583052322\nBest parameters for SGD Classifier are {'alpha': 0.0001, 'class_weight': None, 'shuffle': True, 'verbose': 0} with a score of 0.6209944739552221\nBest parameters for SGD Classifier are {'alpha': 0.0001, 'class_weight': 'balanced', 'shuffle': True, 'verbose': 0} with a score of 0.6226807633264178\nBest parameters for SGD Classifier are {'alpha': 0.001, 'class_weight': 'balanced', 'shuffle': True, 'verbose': 5} with a score of 0.6245471148308251\nBest parameters for SGD Classifier are {'alpha': 0.001, 'class_weight': 'balanced', 'shuffle': False, 'verbose': 0} with a score of 0.6300952124026626\nBest parameters for SGD Classifier are {'alpha': 0.001, 'class_weight': 'balanced', 'shuffle': False, 'verbose': 1} with a score of 0.6300952124026626\nBest parameters for SGD Classifier are {'alpha': 0.001, 'class_weight': 'balanced', 'shuffle': False, 'verbose': 5} with a score of 0.6300952124026626\nBest parameters for SGD Classifier are {'alpha': 0.001, 'class_weight': 'balanced', 'shuffle': False, 'verbose': 10} with a score of 0.6300952124026626\nBest parameters for SGD Classifier are {'alpha': 0.01, 'class_weight': 'balanced', 'shuffle': True, 'verbose': 5} with a score of 0.6334142649461205\nBest parameters for SGD Classifier are {'alpha': 0.0001, 'class_weight': None, 'shuffle': True, 'verbose': 10} with a score of 0.6357062567844458\nBest parameters for SGD Classifier are {'alpha': 0.01, 'class_weight': None, 'shuffle': True, 'verbose': 0} with a score of 0.635907515292435\nBest parameters for SGD Classifier are {'alpha': 0.001, 'class_weight': 'balanced', 'shuffle': True, 'verbose': 10} with a score of 0.637957996921173\nBest parameters for SGD Classifier are {'alpha': 0.001, 'class_weight': None, 'shuffle': True, 'verbose': 0} with a score of 0.6431493959033189\nBest parameters for SGD Classifier are {'alpha': 0.01, 'class_weight': None, 'shuffle': True, 'verbose': 10} with a score of 0.6443796420596024\nBest parameters for SGD Classifier are {'alpha': 0.01, 'class_weight': 'balanced', 'shuffle': True, 'verbose': 1} with a score of 0.644815131214124\nBest parameters for SGD Classifier are {'alpha': 0.1, 'class_weight': None, 'shuffle': True, 'verbose': 5} with a score of 0.6497737982833077\nBest parameters for SGD Classifier are {'alpha': 0.01, 'class_weight': 'balanced', 'shuffle': True, 'verbose': 0} with a score of 0.6547388884963634\nBest parameters for SGD Classifier are {'alpha': 0.1, 'class_weight': 'balanced', 'shuffle': True, 'verbose': 5} with a score of 0.6555642624839153\nBest parameters for SGD Classifier are {'alpha': 0.001, 'class_weight': None, 'shuffle': False, 'verbose': 0} with a score of 0.6588434915353669\nBest parameters for SGD Classifier are {'alpha': 0.001, 'class_weight': None, 'shuffle': False, 'verbose': 1} with a score of 0.6588434915353669\nBest parameters for SGD Classifier are {'alpha': 0.001, 'class_weight': None, 'shuffle': False, 'verbose': 5} with a score of 0.6588434915353669\nBest parameters for SGD Classifier are {'alpha': 0.001, 'class_weight': None, 'shuffle': False, 'verbose': 10} with a score of 0.6588434915353669\nBest parameters for SGD Classifier are {'alpha': 0.1, 'class_weight': None, 'shuffle': False, 'verbose': 0} with a score of 0.6615549146685337\nBest parameters for SGD Classifier are {'alpha': 0.1, 'class_weight': None, 'shuffle': False, 'verbose': 1} with a score of 0.6615549146685337\nBest parameters for SGD Classifier are {'alpha': 0.1, 'class_weight': None, 'shuffle': False, 'verbose': 5} with a score of 0.6615549146685337\nBest parameters for SGD Classifier are {'alpha': 0.1, 'class_weight': None, 'shuffle': False, 'verbose': 10} with a score of 0.6615549146685337\nBest parameters for SGD Classifier are {'alpha': 0.01, 'class_weight': 'balanced', 'shuffle': True, 'verbose': 10} with a score of 0.6644631001089794\nBest parameters for SGD Classifier are {'alpha': 0.1, 'class_weight': 'balanced', 'shuffle': False, 'verbose': 0} with a score of 0.6671394100556458\nBest parameters for SGD Classifier are {'alpha': 0.1, 'class_weight': 'balanced', 'shuffle': False, 'verbose': 1} with a score of 0.6671394100556458\nBest parameters for SGD Classifier are {'alpha': 0.1, 'class_weight': 'balanced', 'shuffle': False, 'verbose': 5} with a score of 0.6671394100556458\nBest parameters for SGD Classifier are {'alpha': 0.1, 'class_weight': 'balanced', 'shuffle': False, 'verbose': 10} with a score of 0.6671394100556458\nBest parameters for SGD Classifier are {'alpha': 0.1, 'class_weight': 'balanced', 'shuffle': True, 'verbose': 1} with a score of 0.6677650242687786\nBest parameters for SGD Classifier are {'alpha': 0.1, 'class_weight': None, 'shuffle': True, 'verbose': 0} with a score of 0.6733550863805798\nBest parameters for SGD Classifier are {'alpha': 0.01, 'class_weight': None, 'shuffle': True, 'verbose': 5} with a score of 0.6754203412402234\nBest parameters for SGD Classifier are {'alpha': 0.1, 'class_weight': 'balanced', 'shuffle': True, 'verbose': 10} with a score of 0.680801437071389\nBest parameters for SGD Classifier are {'alpha': 0.1, 'class_weight': None, 'shuffle': True, 'verbose': 10} with a score of 0.6824558248280204\nBest parameters for SGD Classifier are {'alpha': 0.1, 'class_weight': 'balanced', 'shuffle': True, 'verbose': 0} with a score of 0.6836967762240906\nBest parameters for SGD Classifier are {'alpha': 0.01, 'class_weight': None, 'shuffle': True, 'verbose': 1} with a score of 0.683698060852865\nBest parameters for SGD Classifier are {'alpha': 0.1, 'class_weight': None, 'shuffle': True, 'verbose': 1} with a score of 0.6876268838545715\n",
     "output_type": "stream"
    }
   ]
  },
  {
   "cell_type": "markdown",
   "source": "Best parameters for SGD Classifier are {'alpha': 0.01, 'class_weight': None, 'shuffle': True, 'verbose': 5} using f_feature from Select K Best\n",
   "metadata": {
    "tags": [],
    "cell_id": "00056-e8ab4ca1-4204-42a9-b4a4-56698b136ae9",
    "deepnote_cell_type": "markdown"
   }
  },
  {
   "cell_type": "code",
   "metadata": {
    "tags": [],
    "deepnote_to_be_reexecuted": true,
    "source_hash": "6f44e136",
    "is_output_hidden": true,
    "allow_embed": false,
    "execution_start": 1621959222198,
    "execution_millis": 59625,
    "cell_id": "00057-53c9d4dc-703a-4637-8a85-e503a2985dcf",
    "deepnote_cell_type": "code"
   },
   "source": "# Create a parameter dictionary for the model, {'parameter': [list of settings]}\nparameters = [\n    {\n    'alpha': [0.0001, 0.001, 0.01, 0.1, 1],\n    'shuffle': [True, False],\n    'verbose': [0, 1, 5, 10],\n    'class_weight': [None, 'balanced'],\n    },\n]\n# Created variable model which holds the KNN model\nmodel = SGDClassifier()\n# Create grid_search model, looking at recall\ngrid_search = GridSearchCV(model,\n                           param_grid=parameters,\n                           scoring='accuracy',\n                           )\n# Create variable r that hold the FIT grid_search\nr = grid_search.fit(X_train[rfe_list], y_train)\nscores = r.cv_results_\nlm = r.best_estimator_",
   "execution_count": null,
   "outputs": [
    {
     "name": "stdout",
     "text": "Norm: 0.24, NNZs: 15, Bias: 0.013260, T: 7736, Avg. loss: 0.944546\nTotal training time: 0.00 seconds.\n-- Epoch 3\nNorm: 0.24, NNZs: 15, Bias: 0.004584, T: 11604, Avg. loss: 0.944139\nTotal training time: 0.00 seconds.\n-- Epoch 4\nNorm: 0.24, NNZs: 15, Bias: -0.001461, T: 15472, Avg. loss: 0.943921\nTotal training time: 0.01 seconds.\n-- Epoch 5\nNorm: 0.24, NNZs: 15, Bias: -0.006104, T: 19340, Avg. loss: 0.943775\nTotal training time: 0.01 seconds.\n-- Epoch 6\nNorm: 0.24, NNZs: 15, Bias: -0.009876, T: 23208, Avg. loss: 0.943666\nTotal training time: 0.01 seconds.\n-- Epoch 7\nNorm: 0.24, NNZs: 15, Bias: -0.013052, T: 27076, Avg. loss: 0.943579\nTotal training time: 0.01 seconds.\nConvergence after 7 epochs took 0.01 seconds\n-- Epoch 1\nNorm: 0.20, NNZs: 15, Bias: -0.759855, T: 3867, Avg. loss: 0.939707\nTotal training time: 0.00 seconds.\n-- Epoch 2\nNorm: 0.20, NNZs: 15, Bias: -0.760235, T: 7734, Avg. loss: 0.939062\nTotal training time: 0.00 seconds.\n-- Epoch 3\nNorm: 0.20, NNZs: 15, Bias: -0.760101, T: 11601, Avg. loss: 0.939003\nTotal training time: 0.00 seconds.\n-- Epoch 4\nNorm: 0.20, NNZs: 15, Bias: -0.760030, T: 15468, Avg. loss: 0.938976\nTotal training time: 0.00 seconds.\n-- Epoch 5\nNorm: 0.20, NNZs: 15, Bias: -0.759891, T: 19335, Avg. loss: 0.938968\nTotal training time: 0.00 seconds.\n-- Epoch 6\nNorm: 0.20, NNZs: 15, Bias: -0.759812, T: 23202, Avg. loss: 0.938962\nTotal training time: 0.01 seconds.\nConvergence after 6 epochs took 0.01 seconds\n-- Epoch 1\nNorm: 0.23, NNZs: 15, Bias: 0.027397, T: 3867, Avg. loss: 0.947323\nTotal training time: 0.00 seconds.\n-- Epoch 2\nNorm: 0.24, NNZs: 15, Bias: 0.011667, T: 7734, Avg. loss: 0.944687\nTotal training time: 0.00 seconds.\n-- Epoch 3\nNorm: 0.24, NNZs: 15, Bias: 0.002891, T: 11601, Avg. loss: 0.944488\nTotal training time: 0.00 seconds.\n-- Epoch 4\nNorm: 0.24, NNZs: 15, Bias: -0.003225, T: 15468, Avg. loss: 0.944357\nTotal training time: 0.00 seconds.\n-- Epoch 5\nNorm: 0.24, NNZs: 15, Bias: -0.007925, T: 19335, Avg. loss: 0.944257\nTotal training time: 0.00 seconds.\n-- Epoch 6\nNorm: 0.24, NNZs: 15, Bias: -0.011743, T: 23202, Avg. loss: 0.944177\nTotal training time: 0.01 seconds.\n-- Epoch 7\nNorm: 0.24, NNZs: 15, Bias: -0.014958, T: 27069, Avg. loss: 0.944110\nTotal training time: 0.01 seconds.\nConvergence after 7 epochs took 0.01 seconds\n-- Epoch 1\nNorm: 0.23, NNZs: 15, Bias: 0.029448, T: 3867, Avg. loss: 0.951113\nTotal training time: 0.00 seconds.\n-- Epoch 2\nNorm: 0.23, NNZs: 15, Bias: 0.013861, T: 7734, Avg. loss: 0.948007\nTotal training time: 0.00 seconds.\n-- Epoch 3\nNorm: 0.23, NNZs: 15, Bias: 0.005133, T: 11601, Avg. loss: 0.947681\nTotal training time: 0.00 seconds.\n-- Epoch 4\nNorm: 0.23, NNZs: 15, Bias: -0.000960, T: 15468, Avg. loss: 0.947495\nTotal training time: 0.00 seconds.\n-- Epoch 5\nNorm: 0.23, NNZs: 15, Bias: -0.005646, T: 19335, Avg. loss: 0.947366\nTotal training time: 0.00 seconds.\n-- Epoch 6\nNorm: 0.23, NNZs: 15, Bias: -0.009455, T: 23202, Avg. loss: 0.947266\nTotal training time: 0.01 seconds.\n-- Epoch 7\nNorm: 0.23, NNZs: 15, Bias: -0.012663, T: 27069, Avg. loss: 0.947186\nTotal training time: 0.01 seconds.\nConvergence after 7 epochs took 0.01 seconds\n-- Epoch 1\nNorm: 0.23, NNZs: 15, Bias: 0.028962, T: 3867, Avg. loss: 0.949495\nTotal training time: 0.00 seconds.\n-- Epoch 2\nNorm: 0.23, NNZs: 15, Bias: 0.013492, T: 7734, Avg. loss: 0.946165\nTotal training time: 0.00 seconds.\n-- Epoch 3\nNorm: 0.23, NNZs: 15, Bias: 0.004883, T: 11601, Avg. loss: 0.945848\nTotal training time: 0.00 seconds.\n-- Epoch 4\nNorm: 0.23, NNZs: 15, Bias: -0.001108, T: 15468, Avg. loss: 0.945670\nTotal training time: 0.00 seconds.\n-- Epoch 5\nNorm: 0.23, NNZs: 15, Bias: -0.005708, T: 19335, Avg. loss: 0.945547\nTotal training time: 0.00 seconds.\n-- Epoch 6\nNorm: 0.23, NNZs: 15, Bias: -0.009442, T: 23202, Avg. loss: 0.945453\nTotal training time: 0.01 seconds.\n-- Epoch 7\nNorm: 0.23, NNZs: 15, Bias: -0.012585, T: 27069, Avg. loss: 0.945377\nTotal training time: 0.01 seconds.\nConvergence after 7 epochs took 0.01 seconds\n-- Epoch 1\nNorm: 0.24, NNZs: 15, Bias: 0.028819, T: 3868, Avg. loss: 0.948445\nTotal training time: 0.00 seconds.\n-- Epoch 2\nNorm: 0.24, NNZs: 15, Bias: 0.013260, T: 7736, Avg. loss: 0.944546\nTotal training time: 0.00 seconds.\n-- Epoch 3\nNorm: 0.24, NNZs: 15, Bias: 0.004584, T: 11604, Avg. loss: 0.944139\nTotal training time: 0.00 seconds.\n-- Epoch 4\nNorm: 0.24, NNZs: 15, Bias: -0.001461, T: 15472, Avg. loss: 0.943921\nTotal training time: 0.00 seconds.\n-- Epoch 5\nNorm: 0.24, NNZs: 15, Bias: -0.006104, T: 19340, Avg. loss: 0.943775\nTotal training time: 0.01 seconds.\n-- Epoch 6\nNorm: 0.24, NNZs: 15, Bias: -0.009876, T: 23208, Avg. loss: 0.943666\nTotal training time: 0.01 seconds.\n-- Epoch 7\nNorm: 0.24, NNZs: 15, Bias: -0.013052, T: 27076, Avg. loss: 0.943579\nTotal training time: 0.01 seconds.\nConvergence after 7 epochs took 0.01 seconds\n-- Epoch 1\nNorm: 0.22, NNZs: 15, Bias: -0.539458, T: 3867, Avg. loss: 0.941013\nTotal training time: 0.00 seconds.\n-- Epoch 2\nNorm: 0.22, NNZs: 15, Bias: -0.544069, T: 7734, Avg. loss: 0.937892\nTotal training time: 0.00 seconds.\n-- Epoch 3\nNorm: 0.22, NNZs: 15, Bias: -0.543393, T: 11601, Avg. loss: 0.938581\nTotal training time: 0.00 seconds.\n-- Epoch 4\nNorm: 0.22, NNZs: 15, Bias: -0.543682, T: 15468, Avg. loss: 0.938227\nTotal training time: 0.00 seconds.\n-- Epoch 5\nNorm: 0.22, NNZs: 15, Bias: -0.543547, T: 19335, Avg. loss: 0.938087\nTotal training time: 0.01 seconds.\n-- Epoch 6\nNorm: 0.22, NNZs: 15, Bias: -0.543489, T: 23202, Avg. loss: 0.938109\nTotal training time: 0.01 seconds.\n-- Epoch 7\nNorm: 0.22, NNZs: 15, Bias: -0.543553, T: 27069, Avg. loss: 0.937976\nTotal training time: 0.01 seconds.\nConvergence after 7 epochs took 0.01 seconds\n-- Epoch 1\nNorm: 0.23, NNZs: 15, Bias: -0.587802, T: 3867, Avg. loss: 0.942381\nTotal training time: 0.00 seconds.\n-- Epoch 2\nNorm: 0.23, NNZs: 15, Bias: -0.585496, T: 7734, Avg. loss: 0.936996\nTotal training time: 0.00 seconds.\n-- Epoch 3\nNorm: 0.23, NNZs: 15, Bias: -0.585678, T: 11601, Avg. loss: 0.935511\nTotal training time: 0.00 seconds.\n-- Epoch 4\nNorm: 0.23, NNZs: 15, Bias: -0.585325, T: 15468, Avg. loss: 0.935388\nTotal training time: 0.00 seconds.\n-- Epoch 5\nNorm: 0.23, NNZs: 15, Bias: -0.585123, T: 19335, Avg. loss: 0.935172\nTotal training time: 0.01 seconds.\n-- Epoch 6\nNorm: 0.23, NNZs: 15, Bias: -0.584977, T: 23202, Avg. loss: 0.935147\nTotal training time: 0.01 seconds.\n-- Epoch 7\nNorm: 0.23, NNZs: 15, Bias: -0.584954, T: 27069, Avg. loss: 0.934995\nTotal training time: 0.01 seconds.\n-- Epoch 8\nNorm: 0.23, NNZs: 15, Bias: -0.585100, T: 30936, Avg. loss: 0.934759\nTotal training time: 0.01 seconds.\nConvergence after 8 epochs took 0.01 seconds\n-- Epoch 1\nNorm: 0.22, NNZs: 15, Bias: -0.320676, T: 3867, Avg. loss: 0.946960\nTotal training time: 0.00 seconds.\n-- Epoch 2\nNorm: 0.22, NNZs: 15, Bias: -0.317888, T: 7734, Avg. loss: 0.944880\nTotal training time: 0.00 seconds.\n-- Epoch 3\nNorm: 0.22, NNZs: 15, Bias: -0.317155, T: 11601, Avg. loss: 0.944206\nTotal training time: 0.00 seconds.\n-- Epoch 4\nNorm: 0.22, NNZs: 15, Bias: -0.316783, T: 15468, Avg. loss: 0.943711\nTotal training time: 0.00 seconds.\n-- Epoch 5\nNorm: 0.22, NNZs: 15, Bias: -0.316566, T: 19335, Avg. loss: 0.943440\nTotal training time: 0.01 seconds.\n-- Epoch 6\nNorm: 0.22, NNZs: 15, Bias: -0.316675, T: 23202, Avg. loss: 0.943125\nTotal training time: 0.01 seconds.\n-- Epoch 7\nNorm: 0.22, NNZs: 15, Bias: -0.316773, T: 27069, Avg. loss: 0.943079\nTotal training time: 0.01 seconds.\nConvergence after 7 epochs took 0.01 seconds\n-- Epoch 1\nNorm: 0.23, NNZs: 15, Bias: 0.248706, T: 3867, Avg. loss: 0.956115\nTotal training time: 0.06 seconds.\n-- Epoch 2\nNorm: 0.23, NNZs: 15, Bias: 0.253097, T: 7734, Avg. loss: 0.954141\nTotal training time: 0.06 seconds.\n-- Epoch 3\nNorm: 0.23, NNZs: 15, Bias: 0.254597, T: 11601, Avg. loss: 0.953620\nTotal training time: 0.07 seconds.\n-- Epoch 4\nNorm: 0.23, NNZs: 15, Bias: 0.254334, T: 15468, Avg. loss: 0.952638\nTotal training time: 0.07 seconds.\n-- Epoch 5\nNorm: 0.23, NNZs: 15, Bias: 0.254176, T: 19335, Avg. loss: 0.952723\nTotal training time: 0.07 seconds.\n-- Epoch 6\nNorm: 0.23, NNZs: 15, Bias: 0.254076, T: 23202, Avg. loss: 0.952548\nTotal training time: 0.07 seconds.\n-- Epoch 7\nNorm: 0.23, NNZs: 15, Bias: 0.254019, T: 27069, Avg. loss: 0.952693\nTotal training time: 0.07 seconds.\nConvergence after 7 epochs took 0.07 seconds\n-- Epoch 1\nNorm: 0.23, NNZs: 15, Bias: -0.564594, T: 3868, Avg. loss: 0.937798\nTotal training time: 0.00 seconds.\n-- Epoch 2\nNorm: 0.23, NNZs: 15, Bias: -0.567372, T: 7736, Avg. loss: 0.934925\nTotal training time: 0.00 seconds.\n-- Epoch 3\nNorm: 0.23, NNZs: 15, Bias: -0.568396, T: 11604, Avg. loss: 0.934818\nTotal training time: 0.00 seconds.\n-- Epoch 4\nNorm: 0.23, NNZs: 15, Bias: -0.568689, T: 15472, Avg. loss: 0.934622\nTotal training time: 0.00 seconds.\n-- Epoch 5\nNorm: 0.23, NNZs: 15, Bias: -0.568861, T: 19340, Avg. loss: 0.934558\nTotal training time: 0.01 seconds.\n-- Epoch 6\nNorm: 0.23, NNZs: 15, Bias: -0.568703, T: 23208, Avg. loss: 0.934762\nTotal training time: 0.01 seconds.\n-- Epoch 7\nNorm: 0.23, NNZs: 15, Bias: -0.568766, T: 27076, Avg. loss: 0.934398\nTotal training time: 0.01 seconds.\nConvergence after 7 epochs took 0.01 seconds\n-- Epoch 1\nNorm: 0.22, NNZs: 15, Bias: 0.658780, T: 3867, Avg. loss: 0.971676\nTotal training time: 0.00 seconds.\n-- Epoch 2\nNorm: 0.22, NNZs: 15, Bias: 0.656418, T: 7734, Avg. loss: 0.963388\nTotal training time: 0.00 seconds.\n-- Epoch 3\nNorm: 0.22, NNZs: 15, Bias: 0.655742, T: 11601, Avg. loss: 0.962786\nTotal training time: 0.00 seconds.\n-- Epoch 4\nNorm: 0.22, NNZs: 15, Bias: 0.655454, T: 15468, Avg. loss: 0.962329\nTotal training time: 0.00 seconds.\n-- Epoch 5\nNorm: 0.22, NNZs: 15, Bias: 0.655539, T: 19335, Avg. loss: 0.962571\nTotal training time: 0.01 seconds.\n-- Epoch 6\nNorm: 0.22, NNZs: 15, Bias: 0.655460, T: 23202, Avg. loss: 0.962589\nTotal training time: 0.01 seconds.\n-- Epoch 7\nNorm: 0.22, NNZs: 15, Bias: 0.655307, T: 27069, Avg. loss: 0.962428\nTotal training time: 0.01 seconds.\nConvergence after 7 epochs took 0.01 seconds\n-- Epoch 1\nNorm: 0.23, NNZs: 15, Bias: 0.418175, T: 3867, Avg. loss: 0.951999\nTotal training time: 0.00 seconds.\n-- Epoch 2\nNorm: 0.23, NNZs: 15, Bias: 0.418297, T: 7734, Avg. loss: 0.955790\nTotal training time: 0.00 seconds.\n-- Epoch 3\nNorm: 0.23, NNZs: 15, Bias: 0.419020, T: 11601, Avg. loss: 0.955837\nTotal training time: 0.00 seconds.\n-- Epoch 4\nNorm: 0.23, NNZs: 15, Bias: 0.419011, T: 15468, Avg. loss: 0.955216\nTotal training time: 0.00 seconds.\n-- Epoch 5\nNorm: 0.23, NNZs: 15, Bias: 0.419014, T: 19335, Avg. loss: 0.955524\nTotal training time: 0.01 seconds.\n-- Epoch 6\nNorm: 0.23, NNZs: 15, Bias: 0.418919, T: 23202, Avg. loss: 0.955323\nTotal training time: 0.01 seconds.\nConvergence after 6 epochs took 0.01 seconds\n-- Epoch 1\nNorm: 0.22, NNZs: 15, Bias: 0.529012, T: 3867, Avg. loss: 0.961261\nTotal training time: 0.00 seconds.\n-- Epoch 2\nNorm: 0.22, NNZs: 15, Bias: 0.528651, T: 7734, Avg. loss: 0.961678\nTotal training time: 0.00 seconds.\n-- Epoch 3\nNorm: 0.22, NNZs: 15, Bias: 0.528277, T: 11601, Avg. loss: 0.960647\nTotal training time: 0.00 seconds.\n-- Epoch 4\nNorm: 0.22, NNZs: 15, Bias: 0.528153, T: 15468, Avg. loss: 0.960626\nTotal training time: 0.01 seconds.\n-- Epoch 5\nNorm: 0.22, NNZs: 15, Bias: 0.528163, T: 19335, Avg. loss: 0.960501\nTotal training time: 0.01 seconds.\n-- Epoch 6\nNorm: 0.22, NNZs: 15, Bias: 0.528205, T: 23202, Avg. loss: 0.960484\nTotal training time: 0.01 seconds.\nConvergence after 6 epochs took 0.01 seconds\n-- Epoch 1\nNorm: 0.22, NNZs: 15, Bias: -0.582880, T: 3867, Avg. loss: 0.942575\nTotal training time: 0.00 seconds.\n-- Epoch 2\nNorm: 0.23, NNZs: 15, Bias: -0.586023, T: 7734, Avg. loss: 0.936373\nTotal training time: 0.00 seconds.\n-- Epoch 3\nNorm: 0.23, NNZs: 15, Bias: -0.586191, T: 11601, Avg. loss: 0.936584\nTotal training time: 0.00 seconds.\n-- Epoch 4\nNorm: 0.23, NNZs: 15, Bias: -0.586173, T: 15468, Avg. loss: 0.936411\nTotal training time: 0.00 seconds.\n-- Epoch 5\nNorm: 0.23, NNZs: 15, Bias: -0.585804, T: 19335, Avg. loss: 0.936638\nTotal training time: 0.01 seconds.\n-- Epoch 6\nNorm: 0.23, NNZs: 15, Bias: -0.585803, T: 23202, Avg. loss: 0.936302\nTotal training time: 0.01 seconds.\n-- Epoch 7\nNorm: 0.23, NNZs: 15, Bias: -0.585828, T: 27069, Avg. loss: 0.936249\nTotal training time: 0.01 seconds.\nConvergence after 7 epochs took 0.01 seconds\n-- Epoch 1\nNorm: 0.23, NNZs: 15, Bias: 0.303638, T: 3868, Avg. loss: 0.954072\nTotal training time: 0.00 seconds.\n-- Epoch 2\nNorm: 0.23, NNZs: 15, Bias: 0.308482, T: 7736, Avg. loss: 0.953016\nTotal training time: 0.00 seconds.\n-- Epoch 3\nNorm: 0.23, NNZs: 15, Bias: 0.309487, T: 11604, Avg. loss: 0.952590\nTotal training time: 0.00 seconds.\n-- Epoch 4\nNorm: 0.23, NNZs: 15, Bias: 0.309429, T: 15472, Avg. loss: 0.952273\nTotal training time: 0.01 seconds.\n-- Epoch 5\nNorm: 0.23, NNZs: 15, Bias: 0.309782, T: 19340, Avg. loss: 0.952293\nTotal training time: 0.01 seconds.\n-- Epoch 6\nNorm: 0.23, NNZs: 15, Bias: 0.309564, T: 23208, Avg. loss: 0.951996\nTotal training time: 0.01 seconds.\n-- Epoch 7\nNorm: 0.23, NNZs: 15, Bias: 0.309663, T: 27076, Avg. loss: 0.952108\nTotal training time: 0.01 seconds.\nConvergence after 7 epochs took 0.01 seconds\n-- Epoch 1\nNorm: 0.22, NNZs: 15, Bias: -0.287467, T: 3867, Avg. loss: 0.945527\nTotal training time: 0.00 seconds.\n-- Epoch 2\nNorm: 0.22, NNZs: 15, Bias: -0.287949, T: 7734, Avg. loss: 0.944168\nTotal training time: 0.00 seconds.\n-- Epoch 3\nNorm: 0.22, NNZs: 15, Bias: -0.287918, T: 11601, Avg. loss: 0.943495\nTotal training time: 0.00 seconds.\n-- Epoch 4\nNorm: 0.22, NNZs: 15, Bias: -0.288002, T: 15468, Avg. loss: 0.943644\nTotal training time: 0.00 seconds.\n-- Epoch 5\nNorm: 0.22, NNZs: 15, Bias: -0.287804, T: 19335, Avg. loss: 0.943547\nTotal training time: 0.00 seconds.\n-- Epoch 6\nNorm: 0.22, NNZs: 15, Bias: -0.287725, T: 23202, Avg. loss: 0.943270\nTotal training time: 0.01 seconds.\n-- Epoch 7\nNorm: 0.22, NNZs: 15, Bias: -0.287971, T: 27069, Avg. loss: 0.943090\nTotal training time: 0.01 seconds.\nConvergence after 7 epochs took 0.01 seconds\n-- Epoch 1\nNorm: 0.23, NNZs: 15, Bias: -0.082734, T: 3867, Avg. loss: 0.953959\nTotal training time: 0.00 seconds.\n-- Epoch 2\nNorm: 0.23, NNZs: 15, Bias: -0.082287, T: 7734, Avg. loss: 0.945207\nTotal training time: 0.08 seconds.\n-- Epoch 3\nNorm: 0.23, NNZs: 15, Bias: -0.081495, T: 11601, Avg. loss: 0.945381\nTotal training time: 0.08 seconds.\n-- Epoch 4\nNorm: 0.23, NNZs: 15, Bias: -0.081551, T: 15468, Avg. loss: 0.945080\nTotal training time: 0.08 seconds.\n-- Epoch 5\nNorm: 0.23, NNZs: 15, Bias: -0.081668, T: 19335, Avg. loss: 0.945225\nTotal training time: 0.08 seconds.\n-- Epoch 6\nNorm: 0.23, NNZs: 15, Bias: -0.081610, T: 23202, Avg. loss: 0.945234\nTotal training time: 0.08 seconds.\n-- Epoch 7\nNorm: 0.23, NNZs: 15, Bias: -0.081516, T: 27069, Avg. loss: 0.945149\nTotal training time: 0.08 seconds.\nConvergence after 7 epochs took 0.08 seconds\n-- Epoch 1\nNorm: 0.22, NNZs: 15, Bias: -0.453191, T: 3867, Avg. loss: 0.943353\nTotal training time: 0.00 seconds.\n-- Epoch 2\nNorm: 0.22, NNZs: 15, Bias: -0.455188, T: 7734, Avg. loss: 0.939986\nTotal training time: 0.00 seconds.\n-- Epoch 3\nNorm: 0.22, NNZs: 15, Bias: -0.454133, T: 11601, Avg. loss: 0.940583\nTotal training time: 0.00 seconds.\n-- Epoch 4\nNorm: 0.22, NNZs: 15, Bias: -0.453575, T: 15468, Avg. loss: 0.940688\nTotal training time: 0.00 seconds.\n-- Epoch 5\nNorm: 0.22, NNZs: 15, Bias: -0.453557, T: 19335, Avg. loss: 0.940672\nTotal training time: 0.01 seconds.\n-- Epoch 6\nNorm: 0.22, NNZs: 15, Bias: -0.453535, T: 23202, Avg. loss: 0.940323\nTotal training time: 0.01 seconds.\n-- Epoch 7\nNorm: 0.22, NNZs: 15, Bias: -0.453470, T: 27069, Avg. loss: 0.940480\nTotal training time: 0.01 seconds.\nConvergence after 7 epochs took 0.01 seconds\n-- Epoch 1\nNorm: 0.22, NNZs: 15, Bias: -0.646093, T: 3867, Avg. loss: 0.939483\nTotal training time: 0.01 seconds.\n-- Epoch 2\nNorm: 0.23, NNZs: 15, Bias: -0.647285, T: 7734, Avg. loss: 0.935503\nTotal training time: 0.01 seconds.\n-- Epoch 3\nNorm: 0.23, NNZs: 15, Bias: -0.646959, T: 11601, Avg. loss: 0.935649\nTotal training time: 0.01 seconds.\n-- Epoch 4\nNorm: 0.23, NNZs: 15, Bias: -0.647099, T: 15468, Avg. loss: 0.935336\nTotal training time: 0.01 seconds.\n-- Epoch 5\nNorm: 0.23, NNZs: 15, Bias: -0.646988, T: 19335, Avg. loss: 0.935179\nTotal training time: 0.02 seconds.\n-- Epoch 6\nNorm: 0.23, NNZs: 15, Bias: -0.647037, T: 23202, Avg. loss: 0.935003\nTotal training time: 0.02 seconds.\n-- Epoch 7\nNorm: 0.23, NNZs: 15, Bias: -0.647022, T: 27069, Avg. loss: 0.935011\nTotal training time: 0.02 seconds.\nConvergence after 7 epochs took 0.02 seconds\n-- Epoch 1\nNorm: 0.23, NNZs: 15, Bias: -0.412357, T: 3868, Avg. loss: 0.941518\nTotal training time: 0.01 seconds.\n-- Epoch 2\nNorm: 0.23, NNZs: 15, Bias: -0.410705, T: 7736, Avg. loss: 0.938887\nTotal training time: 0.01 seconds.\n-- Epoch 3\nNorm: 0.23, NNZs: 15, Bias: -0.409152, T: 11604, Avg. loss: 0.938643\nTotal training time: 0.01 seconds.\n-- Epoch 4\nNorm: 0.23, NNZs: 15, Bias: -0.409381, T: 15472, Avg. loss: 0.937772\nTotal training time: 0.01 seconds.\n-- Epoch 5\nNorm: 0.23, NNZs: 15, Bias: -0.409658, T: 19340, Avg. loss: 0.937677\nTotal training time: 0.02 seconds.\n-- Epoch 6\nNorm: 0.23, NNZs: 15, Bias: -0.409590, T: 23208, Avg. loss: 0.937897\nTotal training time: 0.02 seconds.\n-- Epoch 7\nNorm: 0.23, NNZs: 15, Bias: -0.409700, T: 27076, Avg. loss: 0.937714\nTotal training time: 0.02 seconds.\nConvergence after 7 epochs took 0.02 seconds\n-- Epoch 1\nNorm: 0.22, NNZs: 15, Bias: -0.686357, T: 3867, Avg. loss: 0.938113\nTotal training time: 0.00 seconds.\n-- Epoch 2\nNorm: 0.22, NNZs: 15, Bias: -0.687095, T: 7734, Avg. loss: 0.935787\nTotal training time: 0.01 seconds.\n-- Epoch 3\nNorm: 0.22, NNZs: 15, Bias: -0.687238, T: 11601, Avg. loss: 0.935483\nTotal training time: 0.01 seconds.\n-- Epoch 4\nNorm: 0.22, NNZs: 15, Bias: -0.687264, T: 15468, Avg. loss: 0.935366\nTotal training time: 0.01 seconds.\n-- Epoch 5\nNorm: 0.22, NNZs: 15, Bias: -0.687202, T: 19335, Avg. loss: 0.935303\nTotal training time: 0.01 seconds.\n-- Epoch 6\nNorm: 0.22, NNZs: 15, Bias: -0.687182, T: 23202, Avg. loss: 0.935273\nTotal training time: 0.01 seconds.\n-- Epoch 7\nNorm: 0.22, NNZs: 15, Bias: -0.687155, T: 27069, Avg. loss: 0.935245\nTotal training time: 0.01 seconds.\nConvergence after 7 epochs took 0.01 seconds\n-- Epoch 1\nNorm: 0.23, NNZs: 15, Bias: 0.068531, T: 3867, Avg. loss: 0.948325\nTotal training time: 0.08 seconds.\n-- Epoch 2\nNorm: 0.23, NNZs: 15, Bias: 0.066960, T: 7734, Avg. loss: 0.947785\nTotal training time: 0.08 seconds.\n-- Epoch 3\nNorm: 0.23, NNZs: 15, Bias: 0.066467, T: 11601, Avg. loss: 0.947867\nTotal training time: 0.08 seconds.\n-- Epoch 4\nNorm: 0.23, NNZs: 15, Bias: 0.066228, T: 15468, Avg. loss: 0.947903\nTotal training time: 0.09 seconds.\n-- Epoch 5\nNorm: 0.23, NNZs: 15, Bias: 0.066086, T: 19335, Avg. loss: 0.947923\nTotal training time: 0.09 seconds.\n-- Epoch 6\nNorm: 0.23, NNZs: 15, Bias: 0.065993, T: 23202, Avg. loss: 0.947935\nTotal training time: 0.09 seconds.\nConvergence after 6 epochs took 0.09 seconds\n-- Epoch 1\nNorm: 0.22, NNZs: 15, Bias: 0.070583, T: 3867, Avg. loss: 0.952059\nTotal training time: 0.00 seconds.\n-- Epoch 2\nNorm: 0.22, NNZs: 15, Bias: 0.069155, T: 7734, Avg. loss: 0.951020\nTotal training time: 0.00 seconds.\n-- Epoch 3\nNorm: 0.22, NNZs: 15, Bias: 0.068710, T: 11601, Avg. loss: 0.950973\nTotal training time: 0.08 seconds.\n-- Epoch 4\nNorm: 0.22, NNZs: 15, Bias: 0.068494, T: 15468, Avg. loss: 0.950953\nTotal training time: 0.08 seconds.\n-- Epoch 5\nNorm: 0.22, NNZs: 15, Bias: 0.068366, T: 19335, Avg. loss: 0.950942\nTotal training time: 0.08 seconds.\n-- Epoch 6\nNorm: 0.22, NNZs: 15, Bias: 0.068282, T: 23202, Avg. loss: 0.950935\nTotal training time: 0.08 seconds.\n-- Epoch 7\nNorm: 0.22, NNZs: 15, Bias: 0.068222, T: 27069, Avg. loss: 0.950930\nTotal training time: 0.08 seconds.\nConvergence after 7 epochs took 0.08 seconds\n-- Epoch 1\nNorm: 0.23, NNZs: 15, Bias: 0.065962, T: 3867, Avg. loss: 0.950180\nTotal training time: 0.00 seconds.\n-- Epoch 2\nNorm: 0.23, NNZs: 15, Bias: 0.064292, T: 7734, Avg. loss: 0.948885\nTotal training time: 0.01 seconds.\n-- Epoch 3\nNorm: 0.23, NNZs: 15, Bias: 0.063756, T: 11601, Avg. loss: 0.948837\nTotal training time: 0.01 seconds.\n-- Epoch 4\nNorm: 0.23, NNZs: 15, Bias: 0.063493, T: 15468, Avg. loss: 0.948819\nTotal training time: 0.01 seconds.\n-- Epoch 5\nNorm: 0.23, NNZs: 15, Bias: 0.063336, T: 19335, Avg. loss: 0.948810\nTotal training time: 0.01 seconds.\n-- Epoch 6\nNorm: 0.23, NNZs: 15, Bias: 0.063233, T: 23202, Avg. loss: 0.948805\nTotal training time: 0.01 seconds.\n-- Epoch 7\nNorm: 0.23, NNZs: 15, Bias: 0.063159, T: 27069, Avg. loss: 0.948801\nTotal training time: 0.02 seconds.\nConvergence after 7 epochs took 0.02 seconds\n-- Epoch 1\nNorm: 0.23, NNZs: 15, Bias: 0.067849, T: 3868, Avg. loss: 0.949250\nTotal training time: 0.00 seconds.\n-- Epoch 2\nNorm: 0.23, NNZs: 15, Bias: 0.066266, T: 7736, Avg. loss: 0.947401\nTotal training time: 0.00 seconds.\n-- Epoch 3\nNorm: 0.23, NNZs: 15, Bias: 0.065766, T: 11604, Avg. loss: 0.947267\nTotal training time: 0.01 seconds.\n-- Epoch 4\nNorm: 0.23, NNZs: 15, Bias: 0.065523, T: 15472, Avg. loss: 0.947213\nTotal training time: 0.01 seconds.\n-- Epoch 5\nNorm: 0.23, NNZs: 15, Bias: 0.065379, T: 19340, Avg. loss: 0.947183\nTotal training time: 0.01 seconds.\n-- Epoch 6\nNorm: 0.23, NNZs: 15, Bias: 0.065283, T: 23208, Avg. loss: 0.947164\nTotal training time: 0.01 seconds.\n-- Epoch 7\nNorm: 0.23, NNZs: 15, Bias: 0.065216, T: 27076, Avg. loss: 0.947151\nTotal training time: 0.01 seconds.\nConvergence after 7 epochs took 0.01 seconds\n-- Epoch 1\nNorm: 0.22, NNZs: 15, Bias: -0.686357, T: 3867, Avg. loss: 0.938113\nTotal training time: 0.00 seconds.\n-- Epoch 2\nNorm: 0.22, NNZs: 15, Bias: -0.687095, T: 7734, Avg. loss: 0.935787\nTotal training time: 0.00 seconds.\n-- Epoch 3\nNorm: 0.22, NNZs: 15, Bias: -0.687238, T: 11601, Avg. loss: 0.935483\nTotal training time: 0.00 seconds.\n-- Epoch 4\nNorm: 0.22, NNZs: 15, Bias: -0.687264, T: 15468, Avg. loss: 0.935366\nTotal training time: 0.00 seconds.\n-- Epoch 5\nNorm: 0.22, NNZs: 15, Bias: -0.687202, T: 19335, Avg. loss: 0.935303\nTotal training time: 0.00 seconds.\n-- Epoch 6\nNorm: 0.22, NNZs: 15, Bias: -0.687182, T: 23202, Avg. loss: 0.935273\nTotal training time: 0.00 seconds.\n-- Epoch 7\nNorm: 0.22, NNZs: 15, Bias: -0.687155, T: 27069, Avg. loss: 0.935245\nTotal training time: 0.00 seconds.\nConvergence after 7 epochs took 0.00 seconds\n-- Epoch 1\nNorm: 0.23, NNZs: 15, Bias: 0.068531, T: 3867, Avg. loss: 0.948325\nTotal training time: 0.00 seconds.\n-- Epoch 2\nNorm: 0.23, NNZs: 15, Bias: 0.066960, T: 7734, Avg. loss: 0.947785\nTotal training time: 0.00 seconds.\n-- Epoch 3\nNorm: 0.23, NNZs: 15, Bias: 0.066467, T: 11601, Avg. loss: 0.947867\nTotal training time: 0.07 seconds.\n-- Epoch 4\nNorm: 0.23, NNZs: 15, Bias: 0.066228, T: 15468, Avg. loss: 0.947903\nTotal training time: 0.07 seconds.\n-- Epoch 5\nNorm: 0.23, NNZs: 15, Bias: 0.066086, T: 19335, Avg. loss: 0.947923\nTotal training time: 0.07 seconds.\n-- Epoch 6\nNorm: 0.23, NNZs: 15, Bias: 0.065993, T: 23202, Avg. loss: 0.947935\nTotal training time: 0.07 seconds.\nConvergence after 6 epochs took 0.07 seconds\n-- Epoch 1\nNorm: 0.22, NNZs: 15, Bias: 0.070583, T: 3867, Avg. loss: 0.952059\nTotal training time: 0.00 seconds.\n-- Epoch 2\nNorm: 0.22, NNZs: 15, Bias: 0.069155, T: 7734, Avg. loss: 0.951020\nTotal training time: 0.00 seconds.\n-- Epoch 3\nNorm: 0.22, NNZs: 15, Bias: 0.068710, T: 11601, Avg. loss: 0.950973\nTotal training time: 0.01 seconds.\n-- Epoch 4\nNorm: 0.22, NNZs: 15, Bias: 0.068494, T: 15468, Avg. loss: 0.950953\nTotal training time: 0.01 seconds.\n-- Epoch 5\nNorm: 0.22, NNZs: 15, Bias: 0.068366, T: 19335, Avg. loss: 0.950942\nTotal training time: 0.01 seconds.\n-- Epoch 6\nNorm: 0.22, NNZs: 15, Bias: 0.068282, T: 23202, Avg. loss: 0.950935\nTotal training time: 0.01 seconds.\n-- Epoch 7\nNorm: 0.22, NNZs: 15, Bias: 0.068222, T: 27069, Avg. loss: 0.950930\nTotal training time: 0.01 seconds.\nConvergence after 7 epochs took 0.01 seconds\n-- Epoch 1\nNorm: 0.23, NNZs: 15, Bias: 0.065962, T: 3867, Avg. loss: 0.950180\nTotal training time: 0.01 seconds.\n-- Epoch 2\nNorm: 0.23, NNZs: 15, Bias: 0.064292, T: 7734, Avg. loss: 0.948885\nTotal training time: 0.01 seconds.\n-- Epoch 3\nNorm: 0.23, NNZs: 15, Bias: 0.063756, T: 11601, Avg. loss: 0.948837\nTotal training time: 0.01 seconds.\n-- Epoch 4\nNorm: 0.23, NNZs: 15, Bias: 0.063493, T: 15468, Avg. loss: 0.948819\nTotal training time: 0.02 seconds.\n-- Epoch 5\nNorm: 0.23, NNZs: 15, Bias: 0.063336, T: 19335, Avg. loss: 0.948810\nTotal training time: 0.02 seconds.\n-- Epoch 6\nNorm: 0.23, NNZs: 15, Bias: 0.063233, T: 23202, Avg. loss: 0.948805\nTotal training time: 0.02 seconds.\n-- Epoch 7\nNorm: 0.23, NNZs: 15, Bias: 0.063159, T: 27069, Avg. loss: 0.948801\nTotal training time: 0.02 seconds.\nConvergence after 7 epochs took 0.02 seconds\n-- Epoch 1\nNorm: 0.23, NNZs: 15, Bias: 0.067849, T: 3868, Avg. loss: 0.949250\nTotal training time: 0.00 seconds.\n-- Epoch 2\nNorm: 0.23, NNZs: 15, Bias: 0.066266, T: 7736, Avg. loss: 0.947401\nTotal training time: 0.01 seconds.\n-- Epoch 3\nNorm: 0.23, NNZs: 15, Bias: 0.065766, T: 11604, Avg. loss: 0.947267\nTotal training time: 0.01 seconds.\n-- Epoch 4\nNorm: 0.23, NNZs: 15, Bias: 0.065523, T: 15472, Avg. loss: 0.947213\nTotal training time: 0.01 seconds.\n-- Epoch 5\nNorm: 0.23, NNZs: 15, Bias: 0.065379, T: 19340, Avg. loss: 0.947183\nTotal training time: 0.01 seconds.\n-- Epoch 6\nNorm: 0.23, NNZs: 15, Bias: 0.065283, T: 23208, Avg. loss: 0.947164\nTotal training time: 0.01 seconds.\n-- Epoch 7\nNorm: 0.23, NNZs: 15, Bias: 0.065216, T: 27076, Avg. loss: 0.947151\nTotal training time: 0.01 seconds.\nConvergence after 7 epochs took 0.01 seconds\n-- Epoch 1\nNorm: 0.22, NNZs: 15, Bias: -0.686357, T: 3867, Avg. loss: 0.938113\nTotal training time: 0.00 seconds.\n-- Epoch 2\nNorm: 0.22, NNZs: 15, Bias: -0.687095, T: 7734, Avg. loss: 0.935787\nTotal training time: 0.01 seconds.\n-- Epoch 3\nNorm: 0.22, NNZs: 15, Bias: -0.687238, T: 11601, Avg. loss: 0.935483\nTotal training time: 0.01 seconds.\n-- Epoch 4\nNorm: 0.22, NNZs: 15, Bias: -0.687264, T: 15468, Avg. loss: 0.935366\nTotal training time: 0.01 seconds.\n-- Epoch 5\nNorm: 0.22, NNZs: 15, Bias: -0.687202, T: 19335, Avg. loss: 0.935303\nTotal training time: 0.01 seconds.\n-- Epoch 6\nNorm: 0.22, NNZs: 15, Bias: -0.687182, T: 23202, Avg. loss: 0.935273\nTotal training time: 0.01 seconds.\n-- Epoch 7\nNorm: 0.22, NNZs: 15, Bias: -0.687155, T: 27069, Avg. loss: 0.935245\nTotal training time: 0.01 seconds.\nConvergence after 7 epochs took 0.01 seconds\n-- Epoch 1\nNorm: 0.23, NNZs: 15, Bias: 0.068531, T: 3867, Avg. loss: 0.948325\nTotal training time: 0.00 seconds.\n-- Epoch 2\nNorm: 0.23, NNZs: 15, Bias: 0.066960, T: 7734, Avg. loss: 0.947785\nTotal training time: 0.01 seconds.\n-- Epoch 3\nNorm: 0.23, NNZs: 15, Bias: 0.066467, T: 11601, Avg. loss: 0.947867\nTotal training time: 0.01 seconds.\n-- Epoch 4\nNorm: 0.23, NNZs: 15, Bias: 0.066228, T: 15468, Avg. loss: 0.947903\nTotal training time: 0.01 seconds.\n-- Epoch 5\nNorm: 0.23, NNZs: 15, Bias: 0.066086, T: 19335, Avg. loss: 0.947923\nTotal training time: 0.01 seconds.\n-- Epoch 6\nNorm: 0.23, NNZs: 15, Bias: 0.065993, T: 23202, Avg. loss: 0.947935\nTotal training time: 0.01 seconds.\nConvergence after 6 epochs took 0.01 seconds\n-- Epoch 1\nNorm: 0.22, NNZs: 15, Bias: 0.070583, T: 3867, Avg. loss: 0.952059\nTotal training time: 0.00 seconds.\n-- Epoch 2\nNorm: 0.22, NNZs: 15, Bias: 0.069155, T: 7734, Avg. loss: 0.951020\nTotal training time: 0.01 seconds.\n-- Epoch 3\nNorm: 0.22, NNZs: 15, Bias: 0.068710, T: 11601, Avg. loss: 0.950973\nTotal training time: 0.01 seconds.\n-- Epoch 4\nNorm: 0.22, NNZs: 15, Bias: 0.068494, T: 15468, Avg. loss: 0.950953\nTotal training time: 0.01 seconds.\n-- Epoch 5\nNorm: 0.22, NNZs: 15, Bias: 0.068366, T: 19335, Avg. loss: 0.950942\nTotal training time: 0.01 seconds.\n-- Epoch 6\nNorm: 0.22, NNZs: 15, Bias: 0.068282, T: 23202, Avg. loss: 0.950935\nTotal training time: 0.01 seconds.\n-- Epoch 7\nNorm: 0.22, NNZs: 15, Bias: 0.068222, T: 27069, Avg. loss: 0.950930\nTotal training time: 0.01 seconds.\nConvergence after 7 epochs took 0.01 seconds\n-- Epoch 1\nNorm: 0.23, NNZs: 15, Bias: 0.065962, T: 3867, Avg. loss: 0.950180\nTotal training time: 0.01 seconds.\n-- Epoch 2\nNorm: 0.23, NNZs: 15, Bias: 0.064292, T: 7734, Avg. loss: 0.948885\nTotal training time: 0.01 seconds.\n-- Epoch 3\nNorm: 0.23, NNZs: 15, Bias: 0.063756, T: 11601, Avg. loss: 0.948837\nTotal training time: 0.01 seconds.\n-- Epoch 4\nNorm: 0.23, NNZs: 15, Bias: 0.063493, T: 15468, Avg. loss: 0.948819\nTotal training time: 0.01 seconds.\n-- Epoch 5\nNorm: 0.23, NNZs: 15, Bias: 0.063336, T: 19335, Avg. loss: 0.948810\nTotal training time: 0.02 seconds.\n-- Epoch 6\nNorm: 0.23, NNZs: 15, Bias: 0.063233, T: 23202, Avg. loss: 0.948805\nTotal training time: 0.02 seconds.\n-- Epoch 7\nNorm: 0.23, NNZs: 15, Bias: 0.063159, T: 27069, Avg. loss: 0.948801\nTotal training time: 0.02 seconds.\nConvergence after 7 epochs took 0.02 seconds\n-- Epoch 1\nNorm: 0.23, NNZs: 15, Bias: 0.067849, T: 3868, Avg. loss: 0.949250\nTotal training time: 0.01 seconds.\n-- Epoch 2\nNorm: 0.23, NNZs: 15, Bias: 0.066266, T: 7736, Avg. loss: 0.947401\nTotal training time: 0.01 seconds.\n-- Epoch 3\nNorm: 0.23, NNZs: 15, Bias: 0.065766, T: 11604, Avg. loss: 0.947267\nTotal training time: 0.01 seconds.\n-- Epoch 4\nNorm: 0.23, NNZs: 15, Bias: 0.065523, T: 15472, Avg. loss: 0.947213\nTotal training time: 0.01 seconds.\n-- Epoch 5\nNorm: 0.23, NNZs: 15, Bias: 0.065379, T: 19340, Avg. loss: 0.947183\nTotal training time: 0.01 seconds.\n-- Epoch 6\nNorm: 0.23, NNZs: 15, Bias: 0.065283, T: 23208, Avg. loss: 0.947164\nTotal training time: 0.01 seconds.\n-- Epoch 7\nNorm: 0.23, NNZs: 15, Bias: 0.065216, T: 27076, Avg. loss: 0.947151\nTotal training time: 0.02 seconds.\nConvergence after 7 epochs took 0.02 seconds\n-- Epoch 1\nNorm: 13.06, NNZs: 15, Bias: -10.479139, T: 4834, Avg. loss: 5.475047\nTotal training time: 0.00 seconds.\n-- Epoch 2\nNorm: 10.40, NNZs: 15, Bias: -6.919587, T: 9668, Avg. loss: 2.265752\nTotal training time: 0.00 seconds.\n-- Epoch 3\nNorm: 8.39, NNZs: 15, Bias: -5.705425, T: 14502, Avg. loss: 1.664869\nTotal training time: 0.01 seconds.\n-- Epoch 4\nNorm: 6.37, NNZs: 15, Bias: -2.768536, T: 19336, Avg. loss: 1.386505\nTotal training time: 0.01 seconds.\n-- Epoch 5\nNorm: 7.14, NNZs: 15, Bias: -3.242305, T: 24170, Avg. loss: 1.234540\nTotal training time: 0.01 seconds.\n-- Epoch 6\nNorm: 5.55, NNZs: 15, Bias: -3.273856, T: 29004, Avg. loss: 1.122824\nTotal training time: 0.01 seconds.\n-- Epoch 7\nNorm: 5.57, NNZs: 15, Bias: -2.068552, T: 33838, Avg. loss: 1.065743\nTotal training time: 0.01 seconds.\n-- Epoch 8\nNorm: 5.48, NNZs: 15, Bias: -1.889479, T: 38672, Avg. loss: 1.022584\nTotal training time: 0.02 seconds.\n-- Epoch 9\nNorm: 5.43, NNZs: 15, Bias: -2.591527, T: 43506, Avg. loss: 0.976494\nTotal training time: 0.02 seconds.\n-- Epoch 10\nNorm: 4.55, NNZs: 15, Bias: -1.936620, T: 48340, Avg. loss: 0.942803\nTotal training time: 0.02 seconds.\n-- Epoch 11\nNorm: 4.25, NNZs: 15, Bias: -1.768033, T: 53174, Avg. loss: 0.930998\nTotal training time: 0.02 seconds.\n-- Epoch 12\nNorm: 4.83, NNZs: 15, Bias: -2.124447, T: 58008, Avg. loss: 0.904638\nTotal training time: 0.03 seconds.\n-- Epoch 13\nNorm: 4.81, NNZs: 15, Bias: -1.811096, T: 62842, Avg. loss: 0.879541\nTotal training time: 0.03 seconds.\n-- Epoch 14\nNorm: 4.38, NNZs: 15, Bias: -1.962357, T: 67676, Avg. loss: 0.860992\nTotal training time: 0.03 seconds.\n-- Epoch 15\nNorm: 4.20, NNZs: 15, Bias: -1.976437, T: 72510, Avg. loss: 0.847982\nTotal training time: 0.03 seconds.\n-- Epoch 16\nNorm: 4.04, NNZs: 15, Bias: -1.588277, T: 77344, Avg. loss: 0.835409\nTotal training time: 0.03 seconds.\n-- Epoch 17\nNorm: 4.47, NNZs: 15, Bias: -1.587202, T: 82178, Avg. loss: 0.829258\nTotal training time: 0.03 seconds.\n-- Epoch 18\nNorm: 4.40, NNZs: 15, Bias: -1.360041, T: 87012, Avg. loss: 0.823309\nTotal training time: 0.03 seconds.\n-- Epoch 19\nNorm: 4.60, NNZs: 15, Bias: -1.491447, T: 91846, Avg. loss: 0.809764\nTotal training time: 0.03 seconds.\n-- Epoch 20\nNorm: 4.29, NNZs: 15, Bias: -1.698948, T: 96680, Avg. loss: 0.811602\nTotal training time: 0.03 seconds.\n-- Epoch 21\nNorm: 4.03, NNZs: 15, Bias: -1.801880, T: 101514, Avg. loss: 0.803802\nTotal training time: 0.09 seconds.\n-- Epoch 22\nNorm: 4.07, NNZs: 15, Bias: -1.424884, T: 106348, Avg. loss: 0.790395\nTotal training time: 0.10 seconds.\n-- Epoch 23\nNorm: 3.85, NNZs: 15, Bias: -1.430513, T: 111182, Avg. loss: 0.793575\nTotal training time: 0.10 seconds.\n-- Epoch 24\nNorm: 3.73, NNZs: 15, Bias: -1.860089, T: 116016, Avg. loss: 0.792880\nTotal training time: 0.10 seconds.\n-- Epoch 25\nNorm: 4.16, NNZs: 15, Bias: -1.026729, T: 120850, Avg. loss: 0.779545\nTotal training time: 0.10 seconds.\n-- Epoch 26\nNorm: 3.91, NNZs: 15, Bias: -1.597247, T: 125684, Avg. loss: 0.778683\nTotal training time: 0.10 seconds.\n-- Epoch 27\nNorm: 4.22, NNZs: 15, Bias: -1.667283, T: 130518, Avg. loss: 0.776220\nTotal training time: 0.10 seconds.\n-- Epoch 28\nNorm: 4.05, NNZs: 15, Bias: -1.664935, T: 135352, Avg. loss: 0.768349\nTotal training time: 0.10 seconds.\n-- Epoch 29\nNorm: 3.82, NNZs: 15, Bias: -1.658721, T: 140186, Avg. loss: 0.771754\nTotal training time: 0.10 seconds.\n-- Epoch 30\nNorm: 3.81, NNZs: 15, Bias: -1.309550, T: 145020, Avg. loss: 0.764868\nTotal training time: 0.10 seconds.\n-- Epoch 31\nNorm: 3.59, NNZs: 15, Bias: -1.777327, T: 149854, Avg. loss: 0.757076\nTotal training time: 0.10 seconds.\n-- Epoch 32\nNorm: 3.97, NNZs: 15, Bias: -1.385818, T: 154688, Avg. loss: 0.758265\nTotal training time: 0.10 seconds.\n-- Epoch 33\nNorm: 3.87, NNZs: 15, Bias: -1.450561, T: 159522, Avg. loss: 0.753249\nTotal training time: 0.10 seconds.\n-- Epoch 34\nNorm: 3.99, NNZs: 15, Bias: -1.512460, T: 164356, Avg. loss: 0.748928\nTotal training time: 0.10 seconds.\n-- Epoch 35\nNorm: 4.15, NNZs: 15, Bias: -1.042337, T: 169190, Avg. loss: 0.748908\nTotal training time: 0.10 seconds.\n-- Epoch 36\nNorm: 3.88, NNZs: 15, Bias: -1.340298, T: 174024, Avg. loss: 0.742027\nTotal training time: 0.10 seconds.\n-- Epoch 37\nNorm: 3.75, NNZs: 15, Bias: -1.453004, T: 178858, Avg. loss: 0.746604\nTotal training time: 0.11 seconds.\n-- Epoch 38\nNorm: 4.16, NNZs: 15, Bias: -1.347849, T: 183692, Avg. loss: 0.743338\nTotal training time: 0.11 seconds.\n-- Epoch 39\nNorm: 3.77, NNZs: 15, Bias: -1.563631, T: 188526, Avg. loss: 0.741254\nTotal training time: 0.11 seconds.\n-- Epoch 40\nNorm: 3.80, NNZs: 15, Bias: -1.352650, T: 193360, Avg. loss: 0.740012\nTotal training time: 0.11 seconds.\n-- Epoch 41\nNorm: 3.82, NNZs: 15, Bias: -1.401454, T: 198194, Avg. loss: 0.733360\nTotal training time: 0.11 seconds.\n-- Epoch 42\nNorm: 3.88, NNZs: 15, Bias: -1.351688, T: 203028, Avg. loss: 0.734627\nTotal training time: 0.11 seconds.\n-- Epoch 43\nNorm: 3.86, NNZs: 15, Bias: -1.158505, T: 207862, Avg. loss: 0.734070\nTotal training time: 0.11 seconds.\n-- Epoch 44\nNorm: 3.66, NNZs: 15, Bias: -1.537435, T: 212696, Avg. loss: 0.726069\nTotal training time: 0.11 seconds.\n-- Epoch 45\nNorm: 3.79, NNZs: 15, Bias: -1.399630, T: 217530, Avg. loss: 0.729123\nTotal training time: 0.11 seconds.\n-- Epoch 46\nNorm: 3.81, NNZs: 15, Bias: -1.445667, T: 222364, Avg. loss: 0.724132\nTotal training time: 0.11 seconds.\n-- Epoch 47\nNorm: 3.76, NNZs: 15, Bias: -1.488980, T: 227198, Avg. loss: 0.724052\nTotal training time: 0.11 seconds.\n-- Epoch 48\nNorm: 3.72, NNZs: 15, Bias: -1.488024, T: 232032, Avg. loss: 0.723750\nTotal training time: 0.11 seconds.\n-- Epoch 49\nNorm: 3.66, NNZs: 15, Bias: -1.359723, T: 236866, Avg. loss: 0.722741\nTotal training time: 0.11 seconds.\n-- Epoch 50\nNorm: 3.69, NNZs: 15, Bias: -1.113496, T: 241700, Avg. loss: 0.719595\nTotal training time: 0.11 seconds.\n-- Epoch 51\nNorm: 3.91, NNZs: 15, Bias: -1.076891, T: 246534, Avg. loss: 0.719603\nTotal training time: 0.11 seconds.\n-- Epoch 52\nNorm: 3.66, NNZs: 15, Bias: -1.316027, T: 251368, Avg. loss: 0.719198\nTotal training time: 0.11 seconds.\n-- Epoch 53\nNorm: 3.76, NNZs: 15, Bias: -1.277036, T: 256202, Avg. loss: 0.717064\nTotal training time: 0.12 seconds.\n-- Epoch 54\nNorm: 3.84, NNZs: 15, Bias: -1.238221, T: 261036, Avg. loss: 0.718216\nTotal training time: 0.12 seconds.\n-- Epoch 55\nNorm: 3.71, NNZs: 15, Bias: -1.274061, T: 265870, Avg. loss: 0.718107\nTotal training time: 0.12 seconds.\n-- Epoch 56\nNorm: 3.91, NNZs: 15, Bias: -1.162470, T: 270704, Avg. loss: 0.716892\nTotal training time: 0.12 seconds.\n-- Epoch 57\nNorm: 3.80, NNZs: 15, Bias: -1.272908, T: 275538, Avg. loss: 0.712049\nTotal training time: 0.12 seconds.\n-- Epoch 58\nNorm: 3.82, NNZs: 15, Bias: -1.236990, T: 280372, Avg. loss: 0.712823\nTotal training time: 0.12 seconds.\n-- Epoch 59\nNorm: 3.63, NNZs: 15, Bias: -1.272306, T: 285206, Avg. loss: 0.708330\nTotal training time: 0.12 seconds.\n-- Epoch 60\nNorm: 3.62, NNZs: 15, Bias: -1.478264, T: 290040, Avg. loss: 0.709092\nTotal training time: 0.12 seconds.\n-- Epoch 61\nNorm: 3.63, NNZs: 15, Bias: -1.273034, T: 294874, Avg. loss: 0.707885\nTotal training time: 0.12 seconds.\n-- Epoch 62\nNorm: 3.88, NNZs: 15, Bias: -1.205640, T: 299708, Avg. loss: 0.710419\nTotal training time: 0.12 seconds.\n-- Epoch 63\nNorm: 3.66, NNZs: 15, Bias: -1.239130, T: 304542, Avg. loss: 0.708719\nTotal training time: 0.12 seconds.\n-- Epoch 64\nNorm: 3.76, NNZs: 15, Bias: -1.206621, T: 309376, Avg. loss: 0.703432\nTotal training time: 0.12 seconds.\n-- Epoch 65\nNorm: 3.92, NNZs: 15, Bias: -1.239101, T: 314210, Avg. loss: 0.708446\nTotal training time: 0.12 seconds.\n-- Epoch 66\nNorm: 3.83, NNZs: 15, Bias: -1.114079, T: 319044, Avg. loss: 0.703252\nTotal training time: 0.12 seconds.\n-- Epoch 67\nNorm: 3.77, NNZs: 15, Bias: -1.237388, T: 323878, Avg. loss: 0.705106\nTotal training time: 0.13 seconds.\n-- Epoch 68\nNorm: 3.84, NNZs: 15, Bias: -1.206629, T: 328712, Avg. loss: 0.703165\nTotal training time: 0.13 seconds.\n-- Epoch 69\nNorm: 3.88, NNZs: 15, Bias: -1.147077, T: 333546, Avg. loss: 0.701682\nTotal training time: 0.13 seconds.\n-- Epoch 70\nNorm: 3.76, NNZs: 15, Bias: -1.059912, T: 338380, Avg. loss: 0.699012\nTotal training time: 0.13 seconds.\n-- Epoch 71\nNorm: 3.87, NNZs: 15, Bias: -1.177757, T: 343214, Avg. loss: 0.702949\nTotal training time: 0.13 seconds.\n-- Epoch 72\nNorm: 3.73, NNZs: 15, Bias: -1.322413, T: 348048, Avg. loss: 0.699034\nTotal training time: 0.13 seconds.\n-- Epoch 73\nNorm: 3.79, NNZs: 15, Bias: -1.321017, T: 352882, Avg. loss: 0.699385\nTotal training time: 0.13 seconds.\n-- Epoch 74\nNorm: 3.82, NNZs: 15, Bias: -1.152309, T: 357716, Avg. loss: 0.698503\nTotal training time: 0.13 seconds.\n-- Epoch 75\nNorm: 3.92, NNZs: 15, Bias: -1.125705, T: 362550, Avg. loss: 0.700311\nTotal training time: 0.13 seconds.\nConvergence after 75 epochs took 0.13 seconds\n",
     "output_type": "stream"
    }
   ]
  },
  {
   "cell_type": "code",
   "metadata": {
    "tags": [],
    "deepnote_to_be_reexecuted": true,
    "source_hash": "32c9439c",
    "allow_embed": false,
    "execution_start": 1621959281882,
    "execution_millis": 9,
    "cell_id": "00058-990bf545-9548-4080-a5b3-ae2d76a94a52",
    "deepnote_cell_type": "code"
   },
   "source": "# Returns max value of the mean test score \nmax(scores['mean_test_score'])",
   "execution_count": null,
   "outputs": [
    {
     "output_type": "execute_result",
     "execution_count": 67,
     "data": {
      "text/plain": "0.6992090968845612"
     },
     "metadata": {}
    }
   ]
  },
  {
   "cell_type": "code",
   "metadata": {
    "tags": [],
    "deepnote_to_be_reexecuted": true,
    "source_hash": "46f0d3fb",
    "allow_embed": false,
    "execution_start": 1621959281894,
    "execution_millis": 38,
    "is_output_hidden": true,
    "cell_id": "00059-986a2937-08d8-4765-b2d5-8eec2cb9a031",
    "deepnote_cell_type": "code"
   },
   "source": "# loop that runs all of the possible parameter configurations from the parameter dictionary above\nfor mean_score, params in sorted(list(zip(scores[\"mean_test_score\"], scores[\"params\"])),key = lambda x: x[0]):\n     print(f'Best parameters for SGD Classifier are {params} with a score of {mean_score}')",
   "execution_count": null,
   "outputs": [
    {
     "name": "stdout",
     "text": "Best parameters for SGD Classifier are {'alpha': 1, 'class_weight': 'balanced', 'shuffle': True, 'verbose': 5} with a score of 0.49544898846189256\nBest parameters for SGD Classifier are {'alpha': 1, 'class_weight': None, 'shuffle': True, 'verbose': 10} with a score of 0.5014456355807914\nBest parameters for SGD Classifier are {'alpha': 1, 'class_weight': 'balanced', 'shuffle': True, 'verbose': 1} with a score of 0.5105502279145551\nBest parameters for SGD Classifier are {'alpha': 1, 'class_weight': 'balanced', 'shuffle': True, 'verbose': 10} with a score of 0.5194437129197257\nBest parameters for SGD Classifier are {'alpha': 1, 'class_weight': 'balanced', 'shuffle': True, 'verbose': 0} with a score of 0.5225418093139867\nBest parameters for SGD Classifier are {'alpha': 1, 'class_weight': None, 'shuffle': True, 'verbose': 1} with a score of 0.5250279942020422\nBest parameters for SGD Classifier are {'alpha': 1, 'class_weight': None, 'shuffle': True, 'verbose': 5} with a score of 0.5407467118855995\nBest parameters for SGD Classifier are {'alpha': 1, 'class_weight': None, 'shuffle': False, 'verbose': 0} with a score of 0.5550304992281522\nBest parameters for SGD Classifier are {'alpha': 1, 'class_weight': None, 'shuffle': False, 'verbose': 1} with a score of 0.5550304992281522\nBest parameters for SGD Classifier are {'alpha': 1, 'class_weight': None, 'shuffle': False, 'verbose': 5} with a score of 0.5550304992281522\nBest parameters for SGD Classifier are {'alpha': 1, 'class_weight': None, 'shuffle': False, 'verbose': 10} with a score of 0.5550304992281522\nBest parameters for SGD Classifier are {'alpha': 1, 'class_weight': None, 'shuffle': True, 'verbose': 0} with a score of 0.5897771383181212\nBest parameters for SGD Classifier are {'alpha': 0.0001, 'class_weight': 'balanced', 'shuffle': True, 'verbose': 5} with a score of 0.6613630767715566\nBest parameters for SGD Classifier are {'alpha': 1, 'class_weight': 'balanced', 'shuffle': False, 'verbose': 0} with a score of 0.6642579877146668\nBest parameters for SGD Classifier are {'alpha': 1, 'class_weight': 'balanced', 'shuffle': False, 'verbose': 1} with a score of 0.6642579877146668\nBest parameters for SGD Classifier are {'alpha': 1, 'class_weight': 'balanced', 'shuffle': False, 'verbose': 5} with a score of 0.6642579877146668\nBest parameters for SGD Classifier are {'alpha': 1, 'class_weight': 'balanced', 'shuffle': False, 'verbose': 10} with a score of 0.6642579877146668\nBest parameters for SGD Classifier are {'alpha': 0.01, 'class_weight': None, 'shuffle': True, 'verbose': 5} with a score of 0.6708699720165032\nBest parameters for SGD Classifier are {'alpha': 0.01, 'class_weight': None, 'shuffle': False, 'verbose': 0} with a score of 0.6708699720165032\nBest parameters for SGD Classifier are {'alpha': 0.01, 'class_weight': None, 'shuffle': False, 'verbose': 1} with a score of 0.6708699720165032\nBest parameters for SGD Classifier are {'alpha': 0.01, 'class_weight': None, 'shuffle': False, 'verbose': 5} with a score of 0.6708699720165032\nBest parameters for SGD Classifier are {'alpha': 0.01, 'class_weight': None, 'shuffle': False, 'verbose': 10} with a score of 0.6708699720165032\nBest parameters for SGD Classifier are {'alpha': 0.01, 'class_weight': None, 'shuffle': True, 'verbose': 0} with a score of 0.6710767972491816\nBest parameters for SGD Classifier are {'alpha': 0.01, 'class_weight': None, 'shuffle': True, 'verbose': 10} with a score of 0.6710767972491816\nBest parameters for SGD Classifier are {'alpha': 0.01, 'class_weight': None, 'shuffle': True, 'verbose': 1} with a score of 0.6721119939365522\nBest parameters for SGD Classifier are {'alpha': 0.0001, 'class_weight': 'balanced', 'shuffle': True, 'verbose': 1} with a score of 0.6733587261621073\nBest parameters for SGD Classifier are {'alpha': 0.1, 'class_weight': None, 'shuffle': True, 'verbose': 1} with a score of 0.6750071189844581\nBest parameters for SGD Classifier are {'alpha': 0.1, 'class_weight': None, 'shuffle': True, 'verbose': 0} with a score of 0.6764546815084111\nBest parameters for SGD Classifier are {'alpha': 0.01, 'class_weight': 'balanced', 'shuffle': True, 'verbose': 10} with a score of 0.6764574648707556\nBest parameters for SGD Classifier are {'alpha': 0.1, 'class_weight': 'balanced', 'shuffle': True, 'verbose': 0} with a score of 0.6772832670678991\nBest parameters for SGD Classifier are {'alpha': 0.01, 'class_weight': 'balanced', 'shuffle': True, 'verbose': 1} with a score of 0.6772854081158564\nBest parameters for SGD Classifier are {'alpha': 0.1, 'class_weight': None, 'shuffle': True, 'verbose': 5} with a score of 0.6776954187996858\nBest parameters for SGD Classifier are {'alpha': 0.1, 'class_weight': 'balanced', 'shuffle': True, 'verbose': 10} with a score of 0.6779033145563428\nBest parameters for SGD Classifier are {'alpha': 0.01, 'class_weight': 'balanced', 'shuffle': True, 'verbose': 5} with a score of 0.6783193201744526\nBest parameters for SGD Classifier are {'alpha': 0.01, 'class_weight': 'balanced', 'shuffle': True, 'verbose': 0} with a score of 0.6783195342792483\nBest parameters for SGD Classifier are {'alpha': 0.1, 'class_weight': 'balanced', 'shuffle': True, 'verbose': 5} with a score of 0.6785240043591736\nBest parameters for SGD Classifier are {'alpha': 0.1, 'class_weight': None, 'shuffle': True, 'verbose': 10} with a score of 0.6789378689293262\nBest parameters for SGD Classifier are {'alpha': 0.1, 'class_weight': None, 'shuffle': False, 'verbose': 0} with a score of 0.6791444800572088\nBest parameters for SGD Classifier are {'alpha': 0.1, 'class_weight': None, 'shuffle': False, 'verbose': 1} with a score of 0.6791444800572088\nBest parameters for SGD Classifier are {'alpha': 0.1, 'class_weight': None, 'shuffle': False, 'verbose': 5} with a score of 0.6791444800572088\nBest parameters for SGD Classifier are {'alpha': 0.1, 'class_weight': None, 'shuffle': False, 'verbose': 10} with a score of 0.6791444800572088\nBest parameters for SGD Classifier are {'alpha': 0.1, 'class_weight': 'balanced', 'shuffle': True, 'verbose': 1} with a score of 0.6801788203253964\nBest parameters for SGD Classifier are {'alpha': 0.1, 'class_weight': 'balanced', 'shuffle': False, 'verbose': 0} with a score of 0.6828675483502156\nBest parameters for SGD Classifier are {'alpha': 0.1, 'class_weight': 'balanced', 'shuffle': False, 'verbose': 1} with a score of 0.6828675483502156\nBest parameters for SGD Classifier are {'alpha': 0.1, 'class_weight': 'balanced', 'shuffle': False, 'verbose': 5} with a score of 0.6828675483502156\nBest parameters for SGD Classifier are {'alpha': 0.1, 'class_weight': 'balanced', 'shuffle': False, 'verbose': 10} with a score of 0.6828675483502156\nBest parameters for SGD Classifier are {'alpha': 0.001, 'class_weight': None, 'shuffle': True, 'verbose': 5} with a score of 0.6828690470837857\nBest parameters for SGD Classifier are {'alpha': 0.001, 'class_weight': 'balanced', 'shuffle': True, 'verbose': 1} with a score of 0.6832826975491424\nBest parameters for SGD Classifier are {'alpha': 0.001, 'class_weight': 'balanced', 'shuffle': True, 'verbose': 5} with a score of 0.6832826975491424\nBest parameters for SGD Classifier are {'alpha': 0.001, 'class_weight': 'balanced', 'shuffle': True, 'verbose': 10} with a score of 0.6832826975491424\nBest parameters for SGD Classifier are {'alpha': 0.01, 'class_weight': 'balanced', 'shuffle': False, 'verbose': 0} with a score of 0.6832826975491424\nBest parameters for SGD Classifier are {'alpha': 0.01, 'class_weight': 'balanced', 'shuffle': False, 'verbose': 1} with a score of 0.6832826975491424\nBest parameters for SGD Classifier are {'alpha': 0.01, 'class_weight': 'balanced', 'shuffle': False, 'verbose': 5} with a score of 0.6832826975491424\nBest parameters for SGD Classifier are {'alpha': 0.01, 'class_weight': 'balanced', 'shuffle': False, 'verbose': 10} with a score of 0.6832826975491424\nBest parameters for SGD Classifier are {'alpha': 0.001, 'class_weight': 'balanced', 'shuffle': False, 'verbose': 0} with a score of 0.6834895227818208\nBest parameters for SGD Classifier are {'alpha': 0.001, 'class_weight': 'balanced', 'shuffle': False, 'verbose': 1} with a score of 0.6834895227818208\nBest parameters for SGD Classifier are {'alpha': 0.001, 'class_weight': 'balanced', 'shuffle': False, 'verbose': 5} with a score of 0.6834895227818208\nBest parameters for SGD Classifier are {'alpha': 0.001, 'class_weight': 'balanced', 'shuffle': False, 'verbose': 10} with a score of 0.6834895227818208\nBest parameters for SGD Classifier are {'alpha': 0.001, 'class_weight': None, 'shuffle': True, 'verbose': 0} with a score of 0.6836963480144992\nBest parameters for SGD Classifier are {'alpha': 0.001, 'class_weight': None, 'shuffle': True, 'verbose': 1} with a score of 0.6836963480144992\nBest parameters for SGD Classifier are {'alpha': 0.001, 'class_weight': 'balanced', 'shuffle': True, 'verbose': 0} with a score of 0.6836963480144992\nBest parameters for SGD Classifier are {'alpha': 0.001, 'class_weight': None, 'shuffle': True, 'verbose': 10} with a score of 0.6839031732471776\nBest parameters for SGD Classifier are {'alpha': 0.001, 'class_weight': None, 'shuffle': False, 'verbose': 0} with a score of 0.6839031732471776\nBest parameters for SGD Classifier are {'alpha': 0.001, 'class_weight': None, 'shuffle': False, 'verbose': 1} with a score of 0.6839031732471776\nBest parameters for SGD Classifier are {'alpha': 0.001, 'class_weight': None, 'shuffle': False, 'verbose': 5} with a score of 0.6839031732471776\nBest parameters for SGD Classifier are {'alpha': 0.001, 'class_weight': None, 'shuffle': False, 'verbose': 10} with a score of 0.6839031732471776\nBest parameters for SGD Classifier are {'alpha': 0.0001, 'class_weight': None, 'shuffle': True, 'verbose': 10} with a score of 0.6851447669576352\nBest parameters for SGD Classifier are {'alpha': 0.0001, 'class_weight': None, 'shuffle': False, 'verbose': 0} with a score of 0.6892812716112029\nBest parameters for SGD Classifier are {'alpha': 0.0001, 'class_weight': None, 'shuffle': False, 'verbose': 1} with a score of 0.6892812716112029\nBest parameters for SGD Classifier are {'alpha': 0.0001, 'class_weight': None, 'shuffle': False, 'verbose': 5} with a score of 0.6892812716112029\nBest parameters for SGD Classifier are {'alpha': 0.0001, 'class_weight': None, 'shuffle': False, 'verbose': 10} with a score of 0.6892812716112029\nBest parameters for SGD Classifier are {'alpha': 0.0001, 'class_weight': 'balanced', 'shuffle': True, 'verbose': 0} with a score of 0.68928191392559\nBest parameters for SGD Classifier are {'alpha': 0.0001, 'class_weight': 'balanced', 'shuffle': False, 'verbose': 0} with a score of 0.6927973005667354\nBest parameters for SGD Classifier are {'alpha': 0.0001, 'class_weight': 'balanced', 'shuffle': False, 'verbose': 1} with a score of 0.6927973005667354\nBest parameters for SGD Classifier are {'alpha': 0.0001, 'class_weight': 'balanced', 'shuffle': False, 'verbose': 5} with a score of 0.6927973005667354\nBest parameters for SGD Classifier are {'alpha': 0.0001, 'class_weight': 'balanced', 'shuffle': False, 'verbose': 10} with a score of 0.6927973005667354\nBest parameters for SGD Classifier are {'alpha': 0.0001, 'class_weight': None, 'shuffle': True, 'verbose': 0} with a score of 0.6932118074512752\nBest parameters for SGD Classifier are {'alpha': 0.0001, 'class_weight': 'balanced', 'shuffle': True, 'verbose': 10} with a score of 0.6946582994512495\nBest parameters for SGD Classifier are {'alpha': 0.0001, 'class_weight': None, 'shuffle': True, 'verbose': 5} with a score of 0.6990035562806571\nBest parameters for SGD Classifier are {'alpha': 0.0001, 'class_weight': None, 'shuffle': True, 'verbose': 1} with a score of 0.6992090968845612\n",
     "output_type": "stream"
    }
   ]
  },
  {
   "cell_type": "markdown",
   "source": "Best parameters for SGD Classifier are {'alpha': 0.0001, 'class_weight': 'balanced', 'shuffle': True, 'verbose': 1} using rfe_list froms RFE\n",
   "metadata": {
    "tags": [],
    "cell_id": "00060-ca9bad71-661e-44cc-bdb8-23fdde6c6f30",
    "deepnote_cell_type": "markdown"
   }
  },
  {
   "cell_type": "code",
   "metadata": {
    "tags": [],
    "deepnote_to_be_reexecuted": true,
    "source_hash": "99ef0b23",
    "execution_start": 1621959282025,
    "execution_millis": 1380,
    "is_output_hidden": true,
    "cell_id": "00061-b59ed1fe-1399-44f8-a9ec-f214aa09ac36",
    "deepnote_cell_type": "code"
   },
   "source": "# Build 2 models using Select K Best features for one and RFE Features for the other\nsgd_skb = SGDClassifier(alpha=0.01, shuffle=True, verbose=5, class_weight=None)\nsgd_rfe = SGDClassifier(alpha=0.0001, class_weight='balanced', shuffle=True, verbose=1)\n\n# fitting the SGD Classifiers with the X_train with the corresponding features\nsgd_skb.fit(X_train[f_feature], y_train)\nsgd_rfe.fit(X_train[rfe_list], y_train)\n\n# Model SKB predictions\ny_pred_sgd_skb = sgd_skb.predict(X_train[f_feature])\ny_pred_val_sgd_skb = sgd_skb.predict(X_validate[f_feature])\n\n# Model RFE predictions\ny_pred_sgd_rfe = sgd_rfe.predict(X_train[rfe_list])\ny_pred_val_sgd_rfe = sgd_rfe.predict(X_validate[rfe_list])\n\n# Measure accuracy of the select k best feature model\naccuracy_train_sgd_skb = sgd_skb.score(X_train[f_feature], y_train)\naccuracy_val_sgd_skb = sgd_skb.score(X_validate[f_feature], y_validate)\n\n# Measure accuracy of the RFE feature model\naccuracy_train_sgd_rfe = sgd_rfe.score(X_train[rfe_list], y_train)\naccuracy_val_sgd_rfe = sgd_rfe.score(X_validate[rfe_list], y_validate)",
   "execution_count": null,
   "outputs": [
    {
     "name": "stdout",
     "text": "-- Epoch 1\nNorm: 7.89, NNZs: 15, Bias: -0.032517, T: 4834, Avg. loss: 36.235770\nTotal training time: 0.01 seconds.\n-- Epoch 2\nNorm: 6.49, NNZs: 15, Bias: 0.248737, T: 9668, Avg. loss: 5.319593\nTotal training time: 0.01 seconds.\n-- Epoch 3\nNorm: 5.35, NNZs: 15, Bias: 0.350253, T: 14502, Avg. loss: 3.256646\nTotal training time: 0.01 seconds.\n-- Epoch 4\nNorm: 4.76, NNZs: 15, Bias: 0.455292, T: 19336, Avg. loss: 2.521456\nTotal training time: 0.01 seconds.\n-- Epoch 5\nNorm: 4.23, NNZs: 15, Bias: 0.529249, T: 24170, Avg. loss: 2.108406\nTotal training time: 0.02 seconds.\n-- Epoch 6\nNorm: 3.81, NNZs: 15, Bias: 0.556235, T: 29004, Avg. loss: 1.884118\nTotal training time: 0.02 seconds.\n-- Epoch 7\nNorm: 3.55, NNZs: 15, Bias: 0.560827, T: 33838, Avg. loss: 1.629412\nTotal training time: 0.02 seconds.\n-- Epoch 8\nNorm: 3.38, NNZs: 15, Bias: 0.520912, T: 38672, Avg. loss: 1.528991\nTotal training time: 0.02 seconds.\n-- Epoch 9\nNorm: 3.11, NNZs: 15, Bias: 0.550024, T: 43506, Avg. loss: 1.401968\nTotal training time: 0.02 seconds.\n-- Epoch 10\nNorm: 3.00, NNZs: 15, Bias: 0.528593, T: 48340, Avg. loss: 1.340186\nTotal training time: 0.02 seconds.\n-- Epoch 11\nNorm: 2.86, NNZs: 15, Bias: 0.506933, T: 53174, Avg. loss: 1.244405\nTotal training time: 0.02 seconds.\n-- Epoch 12\nNorm: 2.75, NNZs: 15, Bias: 0.498672, T: 58008, Avg. loss: 1.258629\nTotal training time: 0.08 seconds.\n-- Epoch 13\nNorm: 2.70, NNZs: 15, Bias: 0.508221, T: 62842, Avg. loss: 1.181191\nTotal training time: 0.08 seconds.\n-- Epoch 14\nNorm: 2.66, NNZs: 15, Bias: 0.494485, T: 67676, Avg. loss: 1.147401\nTotal training time: 0.09 seconds.\n-- Epoch 15\nNorm: 2.54, NNZs: 15, Bias: 0.475940, T: 72510, Avg. loss: 1.141342\nTotal training time: 0.09 seconds.\n-- Epoch 16\nNorm: 2.49, NNZs: 15, Bias: 0.473222, T: 77344, Avg. loss: 1.075453\nTotal training time: 0.09 seconds.\n-- Epoch 17\nNorm: 2.47, NNZs: 15, Bias: 0.484179, T: 82178, Avg. loss: 1.061930\nTotal training time: 0.09 seconds.\n-- Epoch 18\nNorm: 2.44, NNZs: 15, Bias: 0.475852, T: 87012, Avg. loss: 1.051550\nTotal training time: 0.09 seconds.\n-- Epoch 19\nNorm: 2.41, NNZs: 15, Bias: 0.464979, T: 91846, Avg. loss: 1.022011\nTotal training time: 0.09 seconds.\n-- Epoch 20\nNorm: 2.38, NNZs: 15, Bias: 0.463117, T: 96680, Avg. loss: 1.013603\nTotal training time: 0.09 seconds.\n-- Epoch 21\nNorm: 2.37, NNZs: 15, Bias: 0.471670, T: 101514, Avg. loss: 0.983774\nTotal training time: 0.09 seconds.\n-- Epoch 22\nNorm: 2.31, NNZs: 15, Bias: 0.491552, T: 106348, Avg. loss: 0.974461\nTotal training time: 0.10 seconds.\n-- Epoch 23\nNorm: 2.29, NNZs: 15, Bias: 0.493063, T: 111182, Avg. loss: 0.971616\nTotal training time: 0.10 seconds.\n-- Epoch 24\nNorm: 2.27, NNZs: 15, Bias: 0.493511, T: 116016, Avg. loss: 0.968285\nTotal training time: 0.10 seconds.\n-- Epoch 25\nNorm: 2.24, NNZs: 15, Bias: 0.486757, T: 120850, Avg. loss: 0.947094\nTotal training time: 0.10 seconds.\n-- Epoch 26\nNorm: 2.25, NNZs: 15, Bias: 0.467509, T: 125684, Avg. loss: 0.933482\nTotal training time: 0.11 seconds.\n-- Epoch 27\nNorm: 2.21, NNZs: 15, Bias: 0.465910, T: 130518, Avg. loss: 0.924170\nTotal training time: 0.11 seconds.\n-- Epoch 28\nNorm: 2.19, NNZs: 15, Bias: 0.462166, T: 135352, Avg. loss: 0.908487\nTotal training time: 0.11 seconds.\n-- Epoch 29\nNorm: 2.17, NNZs: 15, Bias: 0.455493, T: 140186, Avg. loss: 0.910470\nTotal training time: 0.11 seconds.\n-- Epoch 30\nNorm: 2.17, NNZs: 15, Bias: 0.456729, T: 145020, Avg. loss: 0.906057\nTotal training time: 0.12 seconds.\n-- Epoch 31\nNorm: 2.16, NNZs: 15, Bias: 0.458865, T: 149854, Avg. loss: 0.898178\nTotal training time: 0.12 seconds.\n-- Epoch 32\nNorm: 2.16, NNZs: 15, Bias: 0.462171, T: 154688, Avg. loss: 0.902598\nTotal training time: 0.12 seconds.\n-- Epoch 33\nNorm: 2.16, NNZs: 15, Bias: 0.465373, T: 159522, Avg. loss: 0.886091\nTotal training time: 0.12 seconds.\n-- Epoch 34\nNorm: 2.14, NNZs: 15, Bias: 0.470971, T: 164356, Avg. loss: 0.875384\nTotal training time: 0.12 seconds.\n-- Epoch 35\nNorm: 2.12, NNZs: 15, Bias: 0.469105, T: 169190, Avg. loss: 0.874694\nTotal training time: 0.13 seconds.\n-- Epoch 36\nNorm: 2.12, NNZs: 15, Bias: 0.464043, T: 174024, Avg. loss: 0.865190\nTotal training time: 0.13 seconds.\n-- Epoch 37\nNorm: 2.12, NNZs: 15, Bias: 0.467810, T: 178858, Avg. loss: 0.867344\nTotal training time: 0.13 seconds.\n-- Epoch 38\nNorm: 2.11, NNZs: 15, Bias: 0.466813, T: 183692, Avg. loss: 0.860513\nTotal training time: 0.13 seconds.\n-- Epoch 39\nNorm: 2.10, NNZs: 15, Bias: 0.474326, T: 188526, Avg. loss: 0.856127\nTotal training time: 0.13 seconds.\n-- Epoch 40\nNorm: 2.09, NNZs: 15, Bias: 0.473786, T: 193360, Avg. loss: 0.837228\nTotal training time: 0.13 seconds.\n-- Epoch 41\nNorm: 2.08, NNZs: 15, Bias: 0.476377, T: 198194, Avg. loss: 0.849835\nTotal training time: 0.13 seconds.\n-- Epoch 42\nNorm: 2.08, NNZs: 15, Bias: 0.479227, T: 203028, Avg. loss: 0.840841\nTotal training time: 0.19 seconds.\n-- Epoch 43\nNorm: 2.07, NNZs: 15, Bias: 0.476375, T: 207862, Avg. loss: 0.835727\nTotal training time: 0.19 seconds.\n-- Epoch 44\nNorm: 2.06, NNZs: 15, Bias: 0.481618, T: 212696, Avg. loss: 0.837750\nTotal training time: 0.19 seconds.\n-- Epoch 45\nNorm: 2.06, NNZs: 15, Bias: 0.486150, T: 217530, Avg. loss: 0.826802\nTotal training time: 0.19 seconds.\n-- Epoch 46\nNorm: 2.05, NNZs: 15, Bias: 0.483467, T: 222364, Avg. loss: 0.835142\nTotal training time: 0.19 seconds.\n-- Epoch 47\nNorm: 2.05, NNZs: 15, Bias: 0.483533, T: 227198, Avg. loss: 0.836788\nTotal training time: 0.19 seconds.\n-- Epoch 48\nNorm: 2.04, NNZs: 15, Bias: 0.486186, T: 232032, Avg. loss: 0.831045\nTotal training time: 0.19 seconds.\n-- Epoch 49\nNorm: 2.04, NNZs: 15, Bias: 0.483560, T: 236866, Avg. loss: 0.819840\nTotal training time: 0.19 seconds.\n-- Epoch 50\nNorm: 2.04, NNZs: 15, Bias: 0.490171, T: 241700, Avg. loss: 0.825353\nTotal training time: 0.19 seconds.\n-- Epoch 51\nNorm: 2.04, NNZs: 15, Bias: 0.491116, T: 246534, Avg. loss: 0.809043\nTotal training time: 0.20 seconds.\n-- Epoch 52\nNorm: 2.02, NNZs: 15, Bias: 0.490784, T: 251368, Avg. loss: 0.803762\nTotal training time: 0.20 seconds.\n-- Epoch 53\nNorm: 2.02, NNZs: 15, Bias: 0.486829, T: 256202, Avg. loss: 0.808933\nTotal training time: 0.20 seconds.\n-- Epoch 54\nNorm: 2.01, NNZs: 15, Bias: 0.485759, T: 261036, Avg. loss: 0.807435\nTotal training time: 0.20 seconds.\n-- Epoch 55\nNorm: 2.01, NNZs: 15, Bias: 0.486224, T: 265870, Avg. loss: 0.810033\nTotal training time: 0.20 seconds.\n-- Epoch 56\nNorm: 2.00, NNZs: 15, Bias: 0.491372, T: 270704, Avg. loss: 0.795977\nTotal training time: 0.20 seconds.\n-- Epoch 57\nNorm: 1.99, NNZs: 15, Bias: 0.490633, T: 275538, Avg. loss: 0.800542\nTotal training time: 0.20 seconds.\n-- Epoch 58\nNorm: 1.99, NNZs: 15, Bias: 0.491748, T: 280372, Avg. loss: 0.797773\nTotal training time: 0.20 seconds.\n-- Epoch 59\nNorm: 1.99, NNZs: 15, Bias: 0.495275, T: 285206, Avg. loss: 0.792333\nTotal training time: 0.21 seconds.\n-- Epoch 60\nNorm: 2.00, NNZs: 15, Bias: 0.499104, T: 290040, Avg. loss: 0.794474\nTotal training time: 0.21 seconds.\n-- Epoch 61\nNorm: 1.99, NNZs: 15, Bias: 0.501829, T: 294874, Avg. loss: 0.785524\nTotal training time: 0.21 seconds.\n-- Epoch 62\nNorm: 1.99, NNZs: 15, Bias: 0.505477, T: 299708, Avg. loss: 0.789227\nTotal training time: 0.21 seconds.\n-- Epoch 63\nNorm: 1.99, NNZs: 15, Bias: 0.505096, T: 304542, Avg. loss: 0.787889\nTotal training time: 0.21 seconds.\n-- Epoch 64\nNorm: 1.98, NNZs: 15, Bias: 0.504442, T: 309376, Avg. loss: 0.783563\nTotal training time: 0.21 seconds.\n-- Epoch 65\nNorm: 1.98, NNZs: 15, Bias: 0.504803, T: 314210, Avg. loss: 0.788979\nTotal training time: 0.21 seconds.\n-- Epoch 66\nNorm: 1.98, NNZs: 15, Bias: 0.509538, T: 319044, Avg. loss: 0.786737\nTotal training time: 0.22 seconds.\n-- Epoch 67\nNorm: 1.98, NNZs: 15, Bias: 0.510197, T: 323878, Avg. loss: 0.781002\nTotal training time: 0.22 seconds.\n-- Epoch 68\nNorm: 1.98, NNZs: 15, Bias: 0.510788, T: 328712, Avg. loss: 0.788535\nTotal training time: 0.22 seconds.\n-- Epoch 69\nNorm: 1.98, NNZs: 15, Bias: 0.512296, T: 333546, Avg. loss: 0.779347\nTotal training time: 0.22 seconds.\n-- Epoch 70\nNorm: 1.98, NNZs: 15, Bias: 0.510227, T: 338380, Avg. loss: 0.777421\nTotal training time: 0.22 seconds.\n-- Epoch 71\nNorm: 1.98, NNZs: 15, Bias: 0.512578, T: 343214, Avg. loss: 0.780362\nTotal training time: 0.22 seconds.\n-- Epoch 72\nNorm: 1.98, NNZs: 15, Bias: 0.511687, T: 348048, Avg. loss: 0.783737\nTotal training time: 0.28 seconds.\n-- Epoch 73\nNorm: 1.98, NNZs: 15, Bias: 0.513151, T: 352882, Avg. loss: 0.776305\nTotal training time: 0.29 seconds.\n-- Epoch 74\nNorm: 1.98, NNZs: 15, Bias: 0.508628, T: 357716, Avg. loss: 0.771222\nTotal training time: 0.29 seconds.\n-- Epoch 75\nNorm: 1.98, NNZs: 15, Bias: 0.511685, T: 362550, Avg. loss: 0.773582\nTotal training time: 0.29 seconds.\n-- Epoch 76\nNorm: 1.97, NNZs: 15, Bias: 0.516859, T: 367384, Avg. loss: 0.768268\nTotal training time: 0.29 seconds.\n-- Epoch 77\nNorm: 1.97, NNZs: 15, Bias: 0.519541, T: 372218, Avg. loss: 0.775150\nTotal training time: 0.29 seconds.\n-- Epoch 78\nNorm: 1.97, NNZs: 15, Bias: 0.523567, T: 377052, Avg. loss: 0.772136\nTotal training time: 0.29 seconds.\n-- Epoch 79\nNorm: 1.96, NNZs: 15, Bias: 0.521420, T: 381886, Avg. loss: 0.770131\nTotal training time: 0.30 seconds.\n-- Epoch 80\nNorm: 1.96, NNZs: 15, Bias: 0.525563, T: 386720, Avg. loss: 0.765470\nTotal training time: 0.30 seconds.\n-- Epoch 81\nNorm: 1.96, NNZs: 15, Bias: 0.524302, T: 391554, Avg. loss: 0.762752\nTotal training time: 0.30 seconds.\n-- Epoch 82\nNorm: 1.96, NNZs: 15, Bias: 0.522269, T: 396388, Avg. loss: 0.763004\nTotal training time: 0.30 seconds.\n-- Epoch 83\nNorm: 1.97, NNZs: 15, Bias: 0.522031, T: 401222, Avg. loss: 0.768256\nTotal training time: 0.30 seconds.\n-- Epoch 84\nNorm: 1.97, NNZs: 15, Bias: 0.518818, T: 406056, Avg. loss: 0.757790\nTotal training time: 0.30 seconds.\n-- Epoch 85\nNorm: 1.97, NNZs: 15, Bias: 0.521030, T: 410890, Avg. loss: 0.766103\nTotal training time: 0.30 seconds.\n-- Epoch 86\nNorm: 1.97, NNZs: 15, Bias: 0.522452, T: 415724, Avg. loss: 0.765560\nTotal training time: 0.31 seconds.\n-- Epoch 87\nNorm: 1.97, NNZs: 15, Bias: 0.522678, T: 420558, Avg. loss: 0.757589\nTotal training time: 0.31 seconds.\n-- Epoch 88\nNorm: 1.97, NNZs: 15, Bias: 0.522451, T: 425392, Avg. loss: 0.759772\nTotal training time: 0.31 seconds.\n-- Epoch 89\nNorm: 1.96, NNZs: 15, Bias: 0.526422, T: 430226, Avg. loss: 0.760637\nTotal training time: 0.31 seconds.\nConvergence after 89 epochs took 0.31 seconds\n-- Epoch 1\nNorm: 16.63, NNZs: 15, Bias: -10.957316, T: 4834, Avg. loss: 5.441555\nTotal training time: 0.00 seconds.\n-- Epoch 2\nNorm: 10.13, NNZs: 15, Bias: -2.434255, T: 9668, Avg. loss: 2.258201\nTotal training time: 0.00 seconds.\n-- Epoch 3\nNorm: 7.97, NNZs: 15, Bias: -2.827123, T: 14502, Avg. loss: 1.687712\nTotal training time: 0.00 seconds.\n-- Epoch 4\nNorm: 7.16, NNZs: 15, Bias: -4.417370, T: 19336, Avg. loss: 1.402020\nTotal training time: 0.00 seconds.\n-- Epoch 5\nNorm: 5.49, NNZs: 15, Bias: -2.610245, T: 24170, Avg. loss: 1.246497\nTotal training time: 0.00 seconds.\n-- Epoch 6\nNorm: 5.91, NNZs: 15, Bias: -2.375459, T: 29004, Avg. loss: 1.140883\nTotal training time: 0.00 seconds.\n-- Epoch 7\nNorm: 5.17, NNZs: 15, Bias: -1.899617, T: 33838, Avg. loss: 1.055630\nTotal training time: 0.07 seconds.\n-- Epoch 8\nNorm: 5.55, NNZs: 15, Bias: -2.176709, T: 38672, Avg. loss: 1.010709\nTotal training time: 0.07 seconds.\n-- Epoch 9\nNorm: 4.93, NNZs: 15, Bias: -1.830850, T: 43506, Avg. loss: 0.985115\nTotal training time: 0.07 seconds.\n-- Epoch 10\nNorm: 5.32, NNZs: 15, Bias: -1.643303, T: 48340, Avg. loss: 0.949572\nTotal training time: 0.07 seconds.\n-- Epoch 11\nNorm: 4.90, NNZs: 15, Bias: -2.003188, T: 53174, Avg. loss: 0.917734\nTotal training time: 0.07 seconds.\n-- Epoch 12\nNorm: 4.22, NNZs: 15, Bias: -2.025091, T: 58008, Avg. loss: 0.898713\nTotal training time: 0.08 seconds.\n-- Epoch 13\nNorm: 5.21, NNZs: 15, Bias: -1.882232, T: 62842, Avg. loss: 0.879577\nTotal training time: 0.08 seconds.\n-- Epoch 14\nNorm: 4.26, NNZs: 15, Bias: -2.440847, T: 67676, Avg. loss: 0.873318\nTotal training time: 0.08 seconds.\n-- Epoch 15\nNorm: 4.33, NNZs: 15, Bias: -2.242487, T: 72510, Avg. loss: 0.850357\nTotal training time: 0.09 seconds.\n-- Epoch 16\nNorm: 4.85, NNZs: 15, Bias: -2.077094, T: 77344, Avg. loss: 0.841806\nTotal training time: 0.09 seconds.\n-- Epoch 17\nNorm: 4.24, NNZs: 15, Bias: -2.059478, T: 82178, Avg. loss: 0.833519\nTotal training time: 0.09 seconds.\n-- Epoch 18\nNorm: 4.58, NNZs: 15, Bias: -1.978307, T: 87012, Avg. loss: 0.821344\nTotal training time: 0.10 seconds.\n-- Epoch 19\nNorm: 4.38, NNZs: 15, Bias: -2.229284, T: 91846, Avg. loss: 0.812286\nTotal training time: 0.10 seconds.\n-- Epoch 20\nNorm: 4.33, NNZs: 15, Bias: -1.725726, T: 96680, Avg. loss: 0.804644\nTotal training time: 0.10 seconds.\n-- Epoch 21\nNorm: 4.23, NNZs: 15, Bias: -1.744165, T: 101514, Avg. loss: 0.795106\nTotal training time: 0.17 seconds.\n-- Epoch 22\nNorm: 4.49, NNZs: 15, Bias: -1.382987, T: 106348, Avg. loss: 0.799233\nTotal training time: 0.17 seconds.\n-- Epoch 23\nNorm: 3.95, NNZs: 15, Bias: -1.965806, T: 111182, Avg. loss: 0.789864\nTotal training time: 0.17 seconds.\n-- Epoch 24\nNorm: 4.22, NNZs: 15, Bias: -1.707198, T: 116016, Avg. loss: 0.782708\nTotal training time: 0.18 seconds.\n-- Epoch 25\nNorm: 3.86, NNZs: 15, Bias: -1.835473, T: 120850, Avg. loss: 0.787347\nTotal training time: 0.18 seconds.\n-- Epoch 26\nNorm: 3.88, NNZs: 15, Bias: -1.761677, T: 125684, Avg. loss: 0.782608\nTotal training time: 0.18 seconds.\n-- Epoch 27\nNorm: 4.07, NNZs: 15, Bias: -1.299605, T: 130518, Avg. loss: 0.765878\nTotal training time: 0.18 seconds.\n-- Epoch 28\nNorm: 4.14, NNZs: 15, Bias: -1.590873, T: 135352, Avg. loss: 0.773738\nTotal training time: 0.19 seconds.\n-- Epoch 29\nNorm: 3.90, NNZs: 15, Bias: -1.619897, T: 140186, Avg. loss: 0.764656\nTotal training time: 0.19 seconds.\n-- Epoch 30\nNorm: 3.83, NNZs: 15, Bias: -1.404825, T: 145020, Avg. loss: 0.766806\nTotal training time: 0.19 seconds.\n-- Epoch 31\nNorm: 3.86, NNZs: 15, Bias: -1.201479, T: 149854, Avg. loss: 0.759831\nTotal training time: 0.19 seconds.\n-- Epoch 32\nNorm: 3.81, NNZs: 15, Bias: -1.656246, T: 154688, Avg. loss: 0.765692\nTotal training time: 0.19 seconds.\n-- Epoch 33\nNorm: 4.05, NNZs: 15, Bias: -1.418588, T: 159522, Avg. loss: 0.756938\nTotal training time: 0.20 seconds.\n-- Epoch 34\nNorm: 3.90, NNZs: 15, Bias: -1.503728, T: 164356, Avg. loss: 0.756015\nTotal training time: 0.20 seconds.\n-- Epoch 35\nNorm: 4.10, NNZs: 15, Bias: -1.384083, T: 169190, Avg. loss: 0.752982\nTotal training time: 0.20 seconds.\n-- Epoch 36\nNorm: 3.86, NNZs: 15, Bias: -1.492709, T: 174024, Avg. loss: 0.744399\nTotal training time: 0.20 seconds.\n-- Epoch 37\nNorm: 3.78, NNZs: 15, Bias: -1.788365, T: 178858, Avg. loss: 0.743760\nTotal training time: 0.20 seconds.\n-- Epoch 38\nNorm: 3.71, NNZs: 15, Bias: -1.729701, T: 183692, Avg. loss: 0.745950\nTotal training time: 0.27 seconds.\n-- Epoch 39\nNorm: 3.55, NNZs: 15, Bias: -1.593954, T: 188526, Avg. loss: 0.739023\nTotal training time: 0.27 seconds.\n-- Epoch 40\nNorm: 3.69, NNZs: 15, Bias: -1.464733, T: 193360, Avg. loss: 0.743161\nTotal training time: 0.27 seconds.\n-- Epoch 41\nNorm: 3.71, NNZs: 15, Bias: -1.462787, T: 198194, Avg. loss: 0.737115\nTotal training time: 0.28 seconds.\n-- Epoch 42\nNorm: 3.89, NNZs: 15, Bias: -1.249688, T: 203028, Avg. loss: 0.736280\nTotal training time: 0.28 seconds.\n-- Epoch 43\nNorm: 3.60, NNZs: 15, Bias: -1.555244, T: 207862, Avg. loss: 0.730484\nTotal training time: 0.28 seconds.\n-- Epoch 44\nNorm: 3.86, NNZs: 15, Bias: -1.372645, T: 212696, Avg. loss: 0.736426\nTotal training time: 0.29 seconds.\n-- Epoch 45\nNorm: 3.67, NNZs: 15, Bias: -1.333411, T: 217530, Avg. loss: 0.729238\nTotal training time: 0.29 seconds.\n-- Epoch 46\nNorm: 3.89, NNZs: 15, Bias: -1.431227, T: 222364, Avg. loss: 0.730358\nTotal training time: 0.29 seconds.\n-- Epoch 47\nNorm: 3.87, NNZs: 15, Bias: -1.346313, T: 227198, Avg. loss: 0.722563\nTotal training time: 0.30 seconds.\n-- Epoch 48\nNorm: 3.84, NNZs: 15, Bias: -1.411326, T: 232032, Avg. loss: 0.727349\nTotal training time: 0.30 seconds.\n-- Epoch 49\nNorm: 3.61, NNZs: 15, Bias: -1.456434, T: 236866, Avg. loss: 0.722624\nTotal training time: 0.30 seconds.\n-- Epoch 50\nNorm: 3.76, NNZs: 15, Bias: -1.272163, T: 241700, Avg. loss: 0.721473\nTotal training time: 0.30 seconds.\n-- Epoch 51\nNorm: 3.66, NNZs: 15, Bias: -1.328489, T: 246534, Avg. loss: 0.725217\nTotal training time: 0.37 seconds.\n-- Epoch 52\nNorm: 3.76, NNZs: 15, Bias: -1.265899, T: 251368, Avg. loss: 0.719684\nTotal training time: 0.37 seconds.\n-- Epoch 53\nNorm: 3.69, NNZs: 15, Bias: -1.551978, T: 256202, Avg. loss: 0.719187\nTotal training time: 0.37 seconds.\n-- Epoch 54\nNorm: 3.69, NNZs: 15, Bias: -1.335938, T: 261036, Avg. loss: 0.719053\nTotal training time: 0.38 seconds.\n-- Epoch 55\nNorm: 3.78, NNZs: 15, Bias: -1.263271, T: 265870, Avg. loss: 0.719041\nTotal training time: 0.38 seconds.\n-- Epoch 56\nNorm: 3.44, NNZs: 15, Bias: -1.487874, T: 270704, Avg. loss: 0.711728\nTotal training time: 0.39 seconds.\n-- Epoch 57\nNorm: 3.79, NNZs: 15, Bias: -1.304959, T: 275538, Avg. loss: 0.713300\nTotal training time: 0.39 seconds.\n-- Epoch 58\nNorm: 3.91, NNZs: 15, Bias: -1.203224, T: 280372, Avg. loss: 0.714185\nTotal training time: 0.39 seconds.\n-- Epoch 59\nNorm: 3.99, NNZs: 15, Bias: -1.280391, T: 285206, Avg. loss: 0.711926\nTotal training time: 0.40 seconds.\n-- Epoch 60\nNorm: 3.80, NNZs: 15, Bias: -1.305956, T: 290040, Avg. loss: 0.711072\nTotal training time: 0.47 seconds.\n-- Epoch 61\nNorm: 3.71, NNZs: 15, Bias: -1.265364, T: 294874, Avg. loss: 0.706651\nTotal training time: 0.47 seconds.\n-- Epoch 62\nNorm: 3.85, NNZs: 15, Bias: -1.261478, T: 299708, Avg. loss: 0.711093\nTotal training time: 0.48 seconds.\n-- Epoch 63\nNorm: 3.76, NNZs: 15, Bias: -1.401652, T: 304542, Avg. loss: 0.709461\nTotal training time: 0.48 seconds.\n-- Epoch 64\nNorm: 3.79, NNZs: 15, Bias: -1.399390, T: 309376, Avg. loss: 0.709872\nTotal training time: 0.48 seconds.\n-- Epoch 65\nNorm: 3.96, NNZs: 15, Bias: -1.144316, T: 314210, Avg. loss: 0.706803\nTotal training time: 0.49 seconds.\n-- Epoch 66\nNorm: 3.82, NNZs: 15, Bias: -1.163464, T: 319044, Avg. loss: 0.705135\nTotal training time: 0.49 seconds.\n-- Epoch 67\nNorm: 3.88, NNZs: 15, Bias: -1.222517, T: 323878, Avg. loss: 0.706062\nTotal training time: 0.50 seconds.\n-- Epoch 68\nNorm: 3.87, NNZs: 15, Bias: -1.228902, T: 328712, Avg. loss: 0.703474\nTotal training time: 0.56 seconds.\n-- Epoch 69\nNorm: 3.69, NNZs: 15, Bias: -1.249343, T: 333546, Avg. loss: 0.701871\nTotal training time: 0.57 seconds.\n-- Epoch 70\nNorm: 3.74, NNZs: 15, Bias: -1.275216, T: 338380, Avg. loss: 0.704251\nTotal training time: 0.57 seconds.\n-- Epoch 71\nNorm: 3.70, NNZs: 15, Bias: -1.225448, T: 343214, Avg. loss: 0.701292\nTotal training time: 0.58 seconds.\n-- Epoch 72\nNorm: 3.91, NNZs: 15, Bias: -1.099540, T: 348048, Avg. loss: 0.702323\nTotal training time: 0.58 seconds.\n-- Epoch 73\nNorm: 3.85, NNZs: 15, Bias: -1.022009, T: 352882, Avg. loss: 0.701355\nTotal training time: 0.59 seconds.\n-- Epoch 74\nNorm: 3.79, NNZs: 15, Bias: -1.057558, T: 357716, Avg. loss: 0.699413\nTotal training time: 0.59 seconds.\n-- Epoch 75\nNorm: 3.77, NNZs: 15, Bias: -1.005386, T: 362550, Avg. loss: 0.699608\nTotal training time: 0.59 seconds.\n-- Epoch 76\nNorm: 3.78, NNZs: 15, Bias: -1.111689, T: 367384, Avg. loss: 0.699408\nTotal training time: 0.60 seconds.\n-- Epoch 77\nNorm: 3.78, NNZs: 15, Bias: -1.139252, T: 372218, Avg. loss: 0.697306\nTotal training time: 0.67 seconds.\n-- Epoch 78\nNorm: 3.76, NNZs: 15, Bias: -1.085935, T: 377052, Avg. loss: 0.698862\nTotal training time: 0.67 seconds.\n-- Epoch 79\nNorm: 3.77, NNZs: 15, Bias: -0.988598, T: 381886, Avg. loss: 0.693903\nTotal training time: 0.67 seconds.\n-- Epoch 80\nNorm: 3.57, NNZs: 15, Bias: -1.157495, T: 386720, Avg. loss: 0.695282\nTotal training time: 0.68 seconds.\n-- Epoch 81\nNorm: 3.68, NNZs: 15, Bias: -1.047130, T: 391554, Avg. loss: 0.696582\nTotal training time: 0.68 seconds.\n-- Epoch 82\nNorm: 3.81, NNZs: 15, Bias: -1.018133, T: 396388, Avg. loss: 0.692789\nTotal training time: 0.69 seconds.\n-- Epoch 83\nNorm: 3.61, NNZs: 15, Bias: -0.936772, T: 401222, Avg. loss: 0.693238\nTotal training time: 0.69 seconds.\n-- Epoch 84\nNorm: 3.76, NNZs: 15, Bias: -1.091099, T: 406056, Avg. loss: 0.696107\nTotal training time: 0.69 seconds.\n-- Epoch 85\nNorm: 3.74, NNZs: 15, Bias: -0.949940, T: 410890, Avg. loss: 0.692376\nTotal training time: 0.70 seconds.\n-- Epoch 86\nNorm: 3.77, NNZs: 15, Bias: -0.991861, T: 415724, Avg. loss: 0.694133\nTotal training time: 0.77 seconds.\n-- Epoch 87\nNorm: 3.81, NNZs: 15, Bias: -0.940290, T: 420558, Avg. loss: 0.692629\nTotal training time: 0.77 seconds.\nConvergence after 87 epochs took 0.77 seconds\n",
     "output_type": "stream"
    }
   ]
  },
  {
   "cell_type": "code",
   "metadata": {
    "tags": [],
    "deepnote_to_be_reexecuted": true,
    "source_hash": "962e44ec",
    "execution_start": 1621959283407,
    "execution_millis": 87,
    "output_cleared": true,
    "cell_id": "00062-a25254f5-90a9-43f5-9c38-0e7021b3025a",
    "deepnote_cell_type": "code"
   },
   "source": "# Add accuracy of the SKB model to the metric_df\nmetric_df = metric_df.append({\n    'model': 'SGD Classifier SKB Features', \n    'baseline_accuracy': round(baseline_accuracy,2),\n    'train_accuracy': round(accuracy_train_sgd_skb, 2),\n    'validate_accuracy':round(accuracy_val_sgd_skb,2)}, ignore_index=True)\n",
   "execution_count": null,
   "outputs": []
  },
  {
   "cell_type": "code",
   "metadata": {
    "tags": [],
    "deepnote_to_be_reexecuted": true,
    "source_hash": "cb4e0fa5",
    "execution_start": 1621959283497,
    "execution_millis": 93,
    "cell_id": "00063-fb2908b7-00ce-451a-896a-af6473fc07ef",
    "deepnote_cell_type": "code"
   },
   "source": "# Add accuracy of the RFE model to the metric_df\nmetric_df = metric_df.append({\n    'model': 'SGD Classifier RFE Features', \n    'baseline_accuracy': round(baseline_accuracy,2),\n    'train_accuracy': round(accuracy_train_sgd_rfe, 2),\n    'validate_accuracy':round(accuracy_val_sgd_rfe,2)}, ignore_index=True)",
   "execution_count": null,
   "outputs": []
  },
  {
   "cell_type": "code",
   "metadata": {
    "tags": [],
    "deepnote_to_be_reexecuted": true,
    "source_hash": "400c35cf",
    "execution_start": 1621959283593,
    "execution_millis": 225,
    "cell_id": "00064-440a8bf3-481c-4caf-8a13-151e144adb08",
    "deepnote_cell_type": "code"
   },
   "source": "metric_df",
   "execution_count": null,
   "outputs": [
    {
     "output_type": "execute_result",
     "execution_count": 72,
     "data": {
      "application/vnd.deepnote.dataframe.v2+json": {
       "row_count": 4,
       "column_count": 4,
       "columns": [
        {
         "name": "model",
         "dtype": "object",
         "stats": {
          "unique_count": 4,
          "nan_count": 0,
          "categories": [
           {
            "name": "random forest",
            "count": 1
           },
           {
            "name": "naive bayes",
            "count": 1
           },
           {
            "name": "2 others",
            "count": 2
           }
          ]
         }
        },
        {
         "name": "baseline_accuracy",
         "dtype": "float64",
         "stats": {
          "unique_count": 1,
          "nan_count": 0,
          "min": "0.51",
          "max": "0.51",
          "histogram": [
           {
            "bin_start": 0.010000000000000009,
            "bin_end": 0.11000000000000001,
            "count": 0
           },
           {
            "bin_start": 0.11000000000000001,
            "bin_end": 0.21000000000000002,
            "count": 0
           },
           {
            "bin_start": 0.21000000000000002,
            "bin_end": 0.31000000000000005,
            "count": 0
           },
           {
            "bin_start": 0.31000000000000005,
            "bin_end": 0.41000000000000003,
            "count": 0
           },
           {
            "bin_start": 0.41000000000000003,
            "bin_end": 0.51,
            "count": 0
           },
           {
            "bin_start": 0.51,
            "bin_end": 0.6100000000000001,
            "count": 4
           },
           {
            "bin_start": 0.6100000000000001,
            "bin_end": 0.7100000000000001,
            "count": 0
           },
           {
            "bin_start": 0.7100000000000001,
            "bin_end": 0.81,
            "count": 0
           },
           {
            "bin_start": 0.81,
            "bin_end": 0.91,
            "count": 0
           },
           {
            "bin_start": 0.91,
            "bin_end": 1.01,
            "count": 0
           }
          ]
         }
        },
        {
         "name": "train_accuracy",
         "dtype": "float64",
         "stats": {
          "unique_count": 2,
          "nan_count": 0,
          "min": "0.69",
          "max": "0.7",
          "histogram": [
           {
            "bin_start": 0.69,
            "bin_end": 0.691,
            "count": 1
           },
           {
            "bin_start": 0.691,
            "bin_end": 0.692,
            "count": 0
           },
           {
            "bin_start": 0.692,
            "bin_end": 0.693,
            "count": 0
           },
           {
            "bin_start": 0.693,
            "bin_end": 0.694,
            "count": 0
           },
           {
            "bin_start": 0.694,
            "bin_end": 0.695,
            "count": 0
           },
           {
            "bin_start": 0.695,
            "bin_end": 0.696,
            "count": 0
           },
           {
            "bin_start": 0.696,
            "bin_end": 0.697,
            "count": 0
           },
           {
            "bin_start": 0.697,
            "bin_end": 0.698,
            "count": 0
           },
           {
            "bin_start": 0.698,
            "bin_end": 0.699,
            "count": 0
           },
           {
            "bin_start": 0.699,
            "bin_end": 0.7,
            "count": 3
           }
          ]
         }
        },
        {
         "name": "validate_accuracy",
         "dtype": "float64",
         "stats": {
          "unique_count": 4,
          "nan_count": 0,
          "min": "0.68",
          "max": "0.72",
          "histogram": [
           {
            "bin_start": 0.68,
            "bin_end": 0.684,
            "count": 1
           },
           {
            "bin_start": 0.684,
            "bin_end": 0.6880000000000001,
            "count": 0
           },
           {
            "bin_start": 0.6880000000000001,
            "bin_end": 0.6920000000000001,
            "count": 1
           },
           {
            "bin_start": 0.6920000000000001,
            "bin_end": 0.6960000000000001,
            "count": 0
           },
           {
            "bin_start": 0.6960000000000001,
            "bin_end": 0.7,
            "count": 0
           },
           {
            "bin_start": 0.7,
            "bin_end": 0.704,
            "count": 0
           },
           {
            "bin_start": 0.704,
            "bin_end": 0.708,
            "count": 0
           },
           {
            "bin_start": 0.708,
            "bin_end": 0.712,
            "count": 1
           },
           {
            "bin_start": 0.712,
            "bin_end": 0.716,
            "count": 0
           },
           {
            "bin_start": 0.716,
            "bin_end": 0.72,
            "count": 1
           }
          ]
         }
        },
        {
         "name": "_deepnote_index_column",
         "dtype": "int64"
        }
       ],
       "rows_top": [
        {
         "model": "random forest",
         "baseline_accuracy": 0.51,
         "train_accuracy": 0.7,
         "validate_accuracy": 0.72,
         "_deepnote_index_column": 0
        },
        {
         "model": "naive bayes",
         "baseline_accuracy": 0.51,
         "train_accuracy": 0.7,
         "validate_accuracy": 0.68,
         "_deepnote_index_column": 1
        },
        {
         "model": "SGD Classifier SKB Features",
         "baseline_accuracy": 0.51,
         "train_accuracy": 0.7,
         "validate_accuracy": 0.71,
         "_deepnote_index_column": 2
        },
        {
         "model": "SGD Classifier RFE Features",
         "baseline_accuracy": 0.51,
         "train_accuracy": 0.69,
         "validate_accuracy": 0.69,
         "_deepnote_index_column": 3
        }
       ],
       "rows_bottom": null
      },
      "text/plain": "                         model  baseline_accuracy  train_accuracy  \\\n0                random forest               0.51            0.70   \n1                  naive bayes               0.51            0.70   \n2  SGD Classifier SKB Features               0.51            0.70   \n3  SGD Classifier RFE Features               0.51            0.69   \n\n   validate_accuracy  \n0               0.72  \n1               0.68  \n2               0.71  \n3               0.69  ",
      "text/html": "<div>\n<style scoped>\n    .dataframe tbody tr th:only-of-type {\n        vertical-align: middle;\n    }\n\n    .dataframe tbody tr th {\n        vertical-align: top;\n    }\n\n    .dataframe thead th {\n        text-align: right;\n    }\n</style>\n<table border=\"1\" class=\"dataframe\">\n  <thead>\n    <tr style=\"text-align: right;\">\n      <th></th>\n      <th>model</th>\n      <th>baseline_accuracy</th>\n      <th>train_accuracy</th>\n      <th>validate_accuracy</th>\n    </tr>\n  </thead>\n  <tbody>\n    <tr>\n      <th>0</th>\n      <td>random forest</td>\n      <td>0.51</td>\n      <td>0.70</td>\n      <td>0.72</td>\n    </tr>\n    <tr>\n      <th>1</th>\n      <td>naive bayes</td>\n      <td>0.51</td>\n      <td>0.70</td>\n      <td>0.68</td>\n    </tr>\n    <tr>\n      <th>2</th>\n      <td>SGD Classifier SKB Features</td>\n      <td>0.51</td>\n      <td>0.70</td>\n      <td>0.71</td>\n    </tr>\n    <tr>\n      <th>3</th>\n      <td>SGD Classifier RFE Features</td>\n      <td>0.51</td>\n      <td>0.69</td>\n      <td>0.69</td>\n    </tr>\n  </tbody>\n</table>\n</div>"
     },
     "metadata": {}
    }
   ]
  },
  {
   "cell_type": "code",
   "metadata": {
    "tags": [],
    "deepnote_to_be_reexecuted": true,
    "source_hash": "b623e53d",
    "cell_id": "00065-2af85717-3415-453a-91a0-7148cf725294",
    "execution_start": 1621959283813,
    "execution_millis": 73,
    "deepnote_cell_type": "code"
   },
   "source": "",
   "execution_count": null,
   "outputs": []
  },
  {
   "cell_type": "markdown",
   "source": "# KNN \n## Train",
   "metadata": {
    "tags": [],
    "cell_id": "00066-308346c0-b8b4-4d09-8202-8300ee8e80b1",
    "deepnote_cell_type": "markdown"
   }
  },
  {
   "cell_type": "code",
   "metadata": {
    "tags": [],
    "deepnote_to_be_reexecuted": true,
    "source_hash": "2a29daa2",
    "execution_start": 1621959283890,
    "execution_millis": 98,
    "cell_id": "00067-7fd29290-0e86-43e8-b52d-ecef78cbd29b",
    "deepnote_cell_type": "code"
   },
   "source": "# Baseline\ndf.alleged_threat_lvl.describe()",
   "execution_count": null,
   "outputs": [
    {
     "output_type": "execute_result",
     "execution_count": 73,
     "data": {
      "text/plain": "count    8634.000000\nmean        0.491313\nstd         0.499953\nmin         0.000000\n25%         0.000000\n50%         0.000000\n75%         1.000000\nmax         1.000000\nName: alleged_threat_lvl, dtype: float64"
     },
     "metadata": {}
    }
   ]
  },
  {
   "cell_type": "code",
   "metadata": {
    "tags": [],
    "deepnote_to_be_reexecuted": true,
    "source_hash": "de1e323c",
    "execution_start": 1621959283996,
    "execution_millis": 259,
    "cell_id": "00068-f2497ed6-f0ce-4bf2-805f-321b0e5b88bc",
    "deepnote_cell_type": "code"
   },
   "source": "df.info()",
   "execution_count": null,
   "outputs": [
    {
     "name": "stdout",
     "text": "<class 'pandas.core.frame.DataFrame'>\nRangeIndex: 8634 entries, 0 to 8633\nData columns (total 60 columns):\n #   Column                                       Non-Null Count  Dtype  \n---  ------                                       --------------  -----  \n 0   age                                          8634 non-null   int64  \n 1   gender                                       8634 non-null   object \n 2   race                                         8634 non-null   object \n 3   date                                         8634 non-null   object \n 4   city                                         8634 non-null   object \n 5   state                                        8634 non-null   object \n 6   zipcode                                      8634 non-null   float64\n 7   county                                       8634 non-null   object \n 8   agency_responsible                           8634 non-null   object \n 9   cause_of_death                               8634 non-null   object \n 10  description_of_circumstances                 8634 non-null   object \n 11  official_disposition                         8634 non-null   object \n 12  criminal_charges_filed                       8634 non-null   object \n 13  mental_illness                               8634 non-null   object \n 14  armed_unarmed_status                         8634 non-null   object \n 15  alleged_weapon                               8634 non-null   object \n 16  alleged_threat_lvl                           8634 non-null   float64\n 17  fleeing                                      8634 non-null   object \n 18  body_camera                                  8634 non-null   float64\n 19  geography                                    8634 non-null   object \n 20  encounter_type_draft                         8634 non-null   object \n 21  initial_reported_reason_for_encounter_draft  8634 non-null   object \n 22  known_past_shootings_of_officer_draft        8634 non-null   int64  \n 23  is_female                                    8634 non-null   int64  \n 24  is_male                                      8634 non-null   int64  \n 25  is_transgender                               8634 non-null   int64  \n 26  was_fleeing                                  8634 non-null   float64\n 27  was_not fleeing                              8634 non-null   float64\n 28  was_allegedly_armed                          8634 non-null   float64\n 29  was_unarmed                                  8634 non-null   float64\n 30  was_vehicle                                  8634 non-null   float64\n 31  was_domestic_disturbance                     8634 non-null   int64  \n 32  was_mental_health_welfare_check              8634 non-null   int64  \n 33  was_person_with_a_weapon                     8634 non-null   int64  \n 34  was_traffic_stop                             8634 non-null   int64  \n 35  was_violent_crime_part_1                     8634 non-null   int64  \n 36  is_asian/pacific islander                    8634 non-null   int64  \n 37  is_black                                     8634 non-null   int64  \n 38  is_hispanic                                  8634 non-null   int64  \n 39  is_native american                           8634 non-null   int64  \n 40  is_unknown race                              8634 non-null   int64  \n 41  is_white                                     8634 non-null   int64  \n 42  mntlill_drug or alcohol use                  8634 non-null   int64  \n 43  mntlill_no                                   8634 non-null   int64  \n 44  mntlill_unknown                              8634 non-null   int64  \n 45  mntlill_yes                                  8634 non-null   int64  \n 46  rural                                        8634 non-null   float64\n 47  suburban                                     8634 non-null   float64\n 48  urban                                        8634 non-null   float64\n 49  cod_lethal                                   8634 non-null   int64  \n 50  age_bins                                     8634 non-null   object \n 51  unknown                                      8634 non-null   int64  \n 52  under 12                                     8634 non-null   int64  \n 53  12-17                                        8634 non-null   int64  \n 54  18-24                                        8634 non-null   int64  \n 55  25-34                                        8634 non-null   int64  \n 56  35-44                                        8634 non-null   int64  \n 57  45-54                                        8634 non-null   int64  \n 58  55-64                                        8634 non-null   int64  \n 59  65+                                          8634 non-null   int64  \ndtypes: float64(11), int64(30), object(19)\nmemory usage: 4.0+ MB\n",
     "output_type": "stream"
    }
   ]
  },
  {
   "cell_type": "code",
   "metadata": {
    "tags": [],
    "deepnote_to_be_reexecuted": true,
    "source_hash": "b623e53d",
    "execution_start": 1621959284285,
    "execution_millis": 9,
    "cell_id": "00069-6c8d1eca-2804-4a94-b9c9-690bb183bf5e",
    "deepnote_cell_type": "code"
   },
   "source": "",
   "execution_count": null,
   "outputs": []
  },
  {
   "cell_type": "markdown",
   "source": "<a style='text-decoration:none;line-height:16px;display:flex;color:#5B5B62;padding:10px;justify-content:end;' href='https://deepnote.com?utm_source=created-in-deepnote-cell&projectId=258e71fc-cf2b-48c3-8461-70ecd9787aa1' target=\"_blank\">\n<img alt='Created in deepnote.com' style='display:inline;max-height:16px;margin:0px;margin-right:7.5px;' src='data:image/svg+xml;base64,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' > </img>\nCreated in <span style='font-weight:600;margin-left:4px;'>Deepnote</span></a>",
   "metadata": {
    "tags": [],
    "created_in_deepnote_cell": true,
    "deepnote_cell_type": "markdown"
   }
  }
 ],
 "nbformat": 4,
 "nbformat_minor": 2,
 "metadata": {
  "orig_nbformat": 2,
  "deepnote": {
   "is_reactive": false
  },
  "deepnote_notebook_id": "c28ac7c7-1a3d-42fa-80a0-9dc2aa810e12",
  "deepnote_execution_queue": []
 }
}