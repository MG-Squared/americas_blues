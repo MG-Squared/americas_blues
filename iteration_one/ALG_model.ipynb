{
 "cells": [
  {
   "cell_type": "code",
   "metadata": {
    "tags": [],
    "deepnote_to_be_reexecuted": false,
    "source_hash": "864c6ca2",
    "execution_start": 1622219517843,
    "execution_millis": 2476,
    "cell_id": "00000-ca0fb07f-9de0-4127-a343-a47d69e54ff4",
    "deepnote_cell_type": "code"
   },
   "source": "import pandas as pd\nimport numpy as np\n\n# Helper Functions\nimport wrangle as w \nimport explore as exp\nfrom explore import rfe, split, select_kbest\n\n# Visualizations\nimport seaborn as sns\nimport matplotlib.pyplot as plt\n\n# Hypothesis tests\nfrom scipy import stats\nfrom scipy.stats import chi2_contingency\nfrom scipy.stats import ttest_1samp\nfrom scipy.stats import ttest_ind\n\n#Feature Engineering\nfrom sklearn.feature_selection import SelectKBest, f_regression, chi2\nfrom sklearn.linear_model import LogisticRegression, SGDClassifier\nfrom sklearn.feature_selection import RFE\nfrom scipy import stats\n\n# Split data\nfrom sklearn.model_selection import train_test_split\n\n# Evaluate models\nfrom sklearn.metrics import confusion_matrix\nfrom sklearn.metrics import classification_report\nfrom sklearn.metrics import accuracy_score\nfrom sklearn.metrics import precision_score\nfrom sklearn.metrics import recall_score\nfrom sklearn.metrics import f1_score\nfrom sklearn.metrics import precision_recall_fscore_support \n\n# Create models for classification ML:\n# Decision Tree  \nfrom sklearn.tree import DecisionTreeClassifier\nfrom sklearn.tree import export_graphviz\n\n# Random Forest\nfrom sklearn.ensemble import RandomForestClassifier\n\n# K-Nearest Neighbor(KNN)  \nfrom sklearn.neighbors import KNeighborsClassifier\n\n# Logistic Regression\nfrom sklearn.linear_model import LogisticRegression",
   "outputs": [],
   "execution_count": null
  },
  {
   "cell_type": "code",
   "metadata": {
    "tags": [],
    "deepnote_to_be_reexecuted": false,
    "source_hash": "82eeda13",
    "execution_start": 1622219520331,
    "execution_millis": 86,
    "cell_id": "00001-d345b413-e470-4b33-abb7-7462c4a58719",
    "deepnote_cell_type": "code"
   },
   "source": "df = w.wrangle_data(cached=True)",
   "outputs": [],
   "execution_count": null
  },
  {
   "cell_type": "code",
   "metadata": {
    "tags": [],
    "cell_id": "00002-662275bd-2519-4bd1-9a05-6615e20d4d12",
    "deepnote_to_be_reexecuted": false,
    "source_hash": "8fb9d845",
    "execution_start": 1622219520427,
    "execution_millis": 2,
    "deepnote_cell_type": "code"
   },
   "source": "df.drop(columns=['Unnamed: 0'], inplace=True)",
   "outputs": [],
   "execution_count": null
  },
  {
   "cell_type": "code",
   "metadata": {
    "tags": [],
    "deepnote_to_be_reexecuted": false,
    "source_hash": "f3dd26da",
    "execution_start": 1622219520450,
    "execution_millis": 34,
    "cell_id": "00002-1e4381f0-96d8-4ea9-a854-0d0e74369488",
    "deepnote_cell_type": "code"
   },
   "source": "df.isnull().sum()",
   "outputs": [
    {
     "output_type": "execute_result",
     "execution_count": 4,
     "data": {
      "text/plain": "age                                            0\ngender                                         0\nrace                                           0\ndate                                           0\ncity                                           0\nstate                                          0\nzipcode                                        0\ncounty                                         0\nagency_responsible                             0\ncause_of_death                                 0\ndescription_of_circumstances                   0\nofficial_disposition                           0\ncriminal_charges_filed                         0\nmental_illness                                 0\narmed_unarmed_status                           0\nalleged_weapon                                 0\nalleged_threat_lvl                             0\nfleeing                                        0\nbody_camera                                    0\ngeography                                      0\nencounter_type_draft                           0\ninitial_reported_reason_for_encounter_draft    0\nknown_past_shootings_of_officer_draft          0\nis_female                                      0\nis_male                                        0\nis_transgender                                 0\nwas_fleeing                                    0\nwas_not fleeing                                0\nwas_allegedly_armed                            0\nwas_unarmed                                    0\nwas_vehicle                                    0\nwas_domestic_disturbance                       0\nwas_mental_health_welfare_check                0\nwas_person_with_a_weapon                       0\nwas_traffic_stop                               0\nwas_violent_crime_part_1                       0\nis_asian/pacific islander                      0\nis_black                                       0\nis_hispanic                                    0\nis_native american                             0\nis_unknown race                                0\nis_white                                       0\nmntlill_drug or alcohol use                    0\nmntlill_no                                     0\nmntlill_unknown                                0\nmntlill_yes                                    0\nrural                                          0\nsuburban                                       0\nurban                                          0\ncod_lethal                                     0\nage_bins                                       0\nunknown                                        0\nunder 12                                       0\n12-17                                          0\n18-24                                          0\n25-34                                          0\n35-44                                          0\n45-54                                          0\n55-64                                          0\n65+                                            0\ndtype: int64"
     },
     "metadata": {}
    }
   ],
   "execution_count": null
  },
  {
   "cell_type": "code",
   "metadata": {
    "tags": [],
    "deepnote_to_be_reexecuted": false,
    "source_hash": "2a21e0e6",
    "execution_start": 1622219520486,
    "execution_millis": 26,
    "cell_id": "00003-a26f7eef-6b8e-40c2-a48e-dd5d047209b9",
    "deepnote_cell_type": "code"
   },
   "source": "df.age.value_counts()",
   "outputs": [
    {
     "output_type": "execute_result",
     "execution_count": 5,
     "data": {
      "text/plain": "0     233\n31    211\n25    210\n32    200\n30    198\n     ... \n10      1\n12      1\n1       1\n88      1\n85      1\nName: age, Length: 81, dtype: int64"
     },
     "metadata": {}
    }
   ],
   "execution_count": null
  },
  {
   "cell_type": "code",
   "metadata": {
    "tags": [],
    "deepnote_to_be_reexecuted": false,
    "source_hash": "48919f60",
    "execution_start": 1622219520487,
    "execution_millis": 25,
    "cell_id": "00004-dcd9de0a-8632-4aad-af4a-cece182dd7d3",
    "deepnote_cell_type": "code"
   },
   "source": "df.age_bins.value_counts()",
   "outputs": [
    {
     "output_type": "execute_result",
     "execution_count": 6,
     "data": {
      "text/plain": "25-34       1957\n35-44       1476\n45-54        919\n18-24        870\n55-64        501\nunknown      233\n65+          189\n12-17        115\nunder 12       5\nName: age_bins, dtype: int64"
     },
     "metadata": {}
    }
   ],
   "execution_count": null
  },
  {
   "cell_type": "code",
   "metadata": {
    "tags": [],
    "deepnote_to_be_reexecuted": false,
    "source_hash": "25d43fa0",
    "execution_start": 1622219520487,
    "execution_millis": 25,
    "cell_id": "00005-fff6aeeb-efe7-42da-8b2e-a6f40120262e",
    "deepnote_cell_type": "code"
   },
   "source": "df.columns",
   "outputs": [
    {
     "output_type": "execute_result",
     "execution_count": 7,
     "data": {
      "text/plain": "Index(['age', 'gender', 'race', 'date', 'city', 'state', 'zipcode', 'county',\n       'agency_responsible', 'cause_of_death', 'description_of_circumstances',\n       'official_disposition', 'criminal_charges_filed', 'mental_illness',\n       'armed_unarmed_status', 'alleged_weapon', 'alleged_threat_lvl',\n       'fleeing', 'body_camera', 'geography', 'encounter_type_draft',\n       'initial_reported_reason_for_encounter_draft',\n       'known_past_shootings_of_officer_draft', 'is_female', 'is_male',\n       'is_transgender', 'was_fleeing', 'was_not fleeing ',\n       'was_allegedly_armed', 'was_unarmed', 'was_vehicle',\n       'was_domestic_disturbance', 'was_mental_health_welfare_check',\n       'was_person_with_a_weapon', 'was_traffic_stop',\n       'was_violent_crime_part_1', 'is_asian/pacific islander', 'is_black',\n       'is_hispanic', 'is_native american', 'is_unknown race', 'is_white',\n       'mntlill_drug or alcohol use', 'mntlill_no', 'mntlill_unknown',\n       'mntlill_yes', 'rural', 'suburban', 'urban', 'cod_lethal', 'age_bins',\n       'unknown', 'under 12', '12-17', '18-24', '25-34', '35-44', '45-54',\n       '55-64', '65+'],\n      dtype='object')"
     },
     "metadata": {}
    }
   ],
   "execution_count": null
  },
  {
   "cell_type": "code",
   "metadata": {
    "tags": [],
    "deepnote_to_be_reexecuted": false,
    "source_hash": "fb9b34ba",
    "execution_start": 1622219520493,
    "execution_millis": 7,
    "cell_id": "00006-e504add4-6501-463c-b279-cd20cbc367a5",
    "deepnote_cell_type": "code"
   },
   "source": "from explore import rfe, split, select_kbest",
   "outputs": [],
   "execution_count": null
  },
  {
   "cell_type": "code",
   "metadata": {
    "tags": [],
    "deepnote_to_be_reexecuted": false,
    "source_hash": "61bca6e2",
    "execution_start": 1622219520503,
    "execution_millis": 17,
    "cell_id": "00007-c3c59e61-7a1b-4526-8f95-0313fa01d373",
    "deepnote_cell_type": "code"
   },
   "source": "train, validate, test = split(df, stratify_by='alleged_threat_lvl')",
   "outputs": [],
   "execution_count": null
  },
  {
   "cell_type": "code",
   "metadata": {
    "tags": [],
    "deepnote_to_be_reexecuted": false,
    "source_hash": "68e62203",
    "execution_start": 1622219520577,
    "execution_millis": 0,
    "cell_id": "00008-83599b50-8693-42a9-9a3d-7476133dd466",
    "deepnote_cell_type": "code"
   },
   "source": "\ndef split_df(df, target, seed):\n    '''\n    split_df will take one argument(df) and \n    then split our data into 20/80, \n    then split the 80% into 30/70\n    performs a train, validate, test split\n    splits each of the 3 samples into a dataframe with independent variables\n    and a series with the dependent, or target variable. \n    The function returns 6 dataframes and 3 series:\n    train, validate, test split, X_train (df) & y_train (series), X_validate & y_validate, X_test & y_test. \n    '''\n    # Train, Validate, and test\n    train_and_validate, test = train_test_split(df, test_size=0.2, random_state=seed)\n    train, validate = train_test_split(train_and_validate, test_size=0.3, random_state=seed)\n    # Split with X and y\n    X_train = train.drop(columns=[target])\n    y_train = train[target]\n    X_validate = validate.drop(columns=[target])\n    y_validate = validate[target]\n    X_test = test.drop(columns=[target])\n    y_test = test[target]\n    return train, validate, test, X_train, y_train, X_validate, y_validate, X_test, y_test ",
   "outputs": [],
   "execution_count": null
  },
  {
   "cell_type": "code",
   "metadata": {
    "tags": [],
    "deepnote_to_be_reexecuted": false,
    "source_hash": "4ca76457",
    "execution_start": 1622219520578,
    "execution_millis": 0,
    "cell_id": "00009-6ed7f350-2cb6-4c10-8e66-bad83b18590e",
    "deepnote_cell_type": "code"
   },
   "source": "\ntrain, validate, test, X_train, y_train, X_validate, y_validate, X_test, y_test = split_df(df, 'alleged_threat_lvl', 42)",
   "outputs": [],
   "execution_count": null
  },
  {
   "cell_type": "code",
   "metadata": {
    "tags": [],
    "cell_id": "00011-683c2d03-d03e-440d-8a99-a367c2c23a13",
    "deepnote_to_be_reexecuted": false,
    "source_hash": "b08d3e18",
    "execution_start": 1622219520578,
    "execution_millis": 16,
    "deepnote_cell_type": "code"
   },
   "source": "df.geography.value_counts()",
   "outputs": [
    {
     "output_type": "execute_result",
     "execution_count": 12,
     "data": {
      "text/plain": "suburban    3180\nurban       1645\nrural       1440\nName: geography, dtype: int64"
     },
     "metadata": {}
    }
   ],
   "execution_count": null
  },
  {
   "cell_type": "code",
   "metadata": {
    "tags": [],
    "cell_id": "00012-6846bfaf-dfe0-49ac-8c53-6d352e0c0fab",
    "deepnote_to_be_reexecuted": false,
    "source_hash": "b623e53d",
    "execution_start": 1622219520580,
    "execution_millis": 0,
    "deepnote_cell_type": "code"
   },
   "source": "",
   "outputs": [],
   "execution_count": null
  },
  {
   "cell_type": "code",
   "metadata": {
    "tags": [],
    "cell_id": "00011-57ebe1cd-e9d9-4bd7-a380-dfc099a01a46",
    "deepnote_to_be_reexecuted": false,
    "source_hash": "39359d36",
    "execution_start": 1622219520626,
    "execution_millis": 167,
    "deepnote_cell_type": "code"
   },
   "source": "sns.countplot(data=df, x='geography', palette='ocean_r')\nplt.title(\"Fatal Incidents are Occurring in Our Backyards\")\nplt.ylabel('Number of Fatalities')\nplt.show()",
   "outputs": [
    {
     "data": {
      "text/plain": "<Figure size 432x288 with 1 Axes>",
      "image/png": "[encoded data removed]"
     },
     "metadata": {
      "needs_background": "light",
      "image/png": {
       "width": 395,
       "height": 278
      }
     },
     "output_type": "display_data"
    }
   ],
   "execution_count": null
  },
  {
   "cell_type": "code",
   "metadata": {
    "tags": [],
    "deepnote_to_be_reexecuted": false,
    "source_hash": "89d68b10",
    "execution_start": 1622219520820,
    "execution_millis": 1,
    "cell_id": "00010-35249c4b-2d35-4a1b-92aa-820c88f374a5",
    "deepnote_cell_type": "code"
   },
   "source": "#y_",
   "outputs": [],
   "execution_count": null
  },
  {
   "cell_type": "code",
   "metadata": {
    "tags": [],
    "deepnote_to_be_reexecuted": false,
    "source_hash": "3ca3de2b",
    "execution_start": 1622219520821,
    "execution_millis": 8,
    "cell_id": "00011-27697b83-487a-4b21-ba78-a507f07f691c",
    "deepnote_cell_type": "code"
   },
   "source": "X_train.info()",
   "outputs": [
    {
     "name": "stdout",
     "text": "<class 'pandas.core.frame.DataFrame'>\nInt64Index: 3508 entries, 4142 to 5708\nData columns (total 59 columns):\n #   Column                                       Non-Null Count  Dtype  \n---  ------                                       --------------  -----  \n 0   age                                          3508 non-null   int64  \n 1   gender                                       3508 non-null   object \n 2   race                                         3508 non-null   object \n 3   date                                         3508 non-null   object \n 4   city                                         3508 non-null   object \n 5   state                                        3508 non-null   object \n 6   zipcode                                      3508 non-null   float64\n 7   county                                       3508 non-null   object \n 8   agency_responsible                           3508 non-null   object \n 9   cause_of_death                               3508 non-null   object \n 10  description_of_circumstances                 3508 non-null   object \n 11  official_disposition                         3508 non-null   object \n 12  criminal_charges_filed                       3508 non-null   object \n 13  mental_illness                               3508 non-null   object \n 14  armed_unarmed_status                         3508 non-null   object \n 15  alleged_weapon                               3508 non-null   object \n 16  fleeing                                      3508 non-null   object \n 17  body_camera                                  3508 non-null   float64\n 18  geography                                    3508 non-null   object \n 19  encounter_type_draft                         3508 non-null   object \n 20  initial_reported_reason_for_encounter_draft  3508 non-null   object \n 21  known_past_shootings_of_officer_draft        3508 non-null   int64  \n 22  is_female                                    3508 non-null   int64  \n 23  is_male                                      3508 non-null   int64  \n 24  is_transgender                               3508 non-null   int64  \n 25  was_fleeing                                  3508 non-null   float64\n 26  was_not fleeing                              3508 non-null   float64\n 27  was_allegedly_armed                          3508 non-null   float64\n 28  was_unarmed                                  3508 non-null   float64\n 29  was_vehicle                                  3508 non-null   float64\n 30  was_domestic_disturbance                     3508 non-null   int64  \n 31  was_mental_health_welfare_check              3508 non-null   int64  \n 32  was_person_with_a_weapon                     3508 non-null   int64  \n 33  was_traffic_stop                             3508 non-null   int64  \n 34  was_violent_crime_part_1                     3508 non-null   int64  \n 35  is_asian/pacific islander                    3508 non-null   int64  \n 36  is_black                                     3508 non-null   int64  \n 37  is_hispanic                                  3508 non-null   int64  \n 38  is_native american                           3508 non-null   int64  \n 39  is_unknown race                              3508 non-null   int64  \n 40  is_white                                     3508 non-null   int64  \n 41  mntlill_drug or alcohol use                  3508 non-null   int64  \n 42  mntlill_no                                   3508 non-null   int64  \n 43  mntlill_unknown                              3508 non-null   int64  \n 44  mntlill_yes                                  3508 non-null   int64  \n 45  rural                                        3508 non-null   float64\n 46  suburban                                     3508 non-null   float64\n 47  urban                                        3508 non-null   float64\n 48  cod_lethal                                   3508 non-null   int64  \n 49  age_bins                                     3508 non-null   object \n 50  unknown                                      3508 non-null   int64  \n 51  under 12                                     3508 non-null   int64  \n 52  12-17                                        3508 non-null   int64  \n 53  18-24                                        3508 non-null   int64  \n 54  25-34                                        3508 non-null   int64  \n 55  35-44                                        3508 non-null   int64  \n 56  45-54                                        3508 non-null   int64  \n 57  55-64                                        3508 non-null   int64  \n 58  65+                                          3508 non-null   int64  \ndtypes: float64(10), int64(30), object(19)\nmemory usage: 1.6+ MB\n",
     "output_type": "stream"
    }
   ],
   "execution_count": null
  },
  {
   "cell_type": "code",
   "metadata": {
    "tags": [],
    "deepnote_to_be_reexecuted": false,
    "source_hash": "576f2697",
    "execution_start": 1622219520844,
    "execution_millis": 0,
    "cell_id": "00012-cedd0909-f06b-48ee-9370-798665f4bb05",
    "deepnote_cell_type": "code"
   },
   "source": "from sklearn.feature_selection import f_regression, RFE, SelectKBest",
   "outputs": [],
   "execution_count": null
  },
  {
   "cell_type": "code",
   "metadata": {
    "tags": [],
    "deepnote_to_be_reexecuted": false,
    "source_hash": "1039a82",
    "execution_start": 1622219520845,
    "execution_millis": 19,
    "cell_id": "00013-e5b409d3-a56b-4e8d-85a6-cd805832ae08",
    "deepnote_cell_type": "code"
   },
   "source": "list(df.columns)",
   "outputs": [
    {
     "output_type": "execute_result",
     "execution_count": 17,
     "data": {
      "text/plain": "['age',\n 'gender',\n 'race',\n 'date',\n 'city',\n 'state',\n 'zipcode',\n 'county',\n 'agency_responsible',\n 'cause_of_death',\n 'description_of_circumstances',\n 'official_disposition',\n 'criminal_charges_filed',\n 'mental_illness',\n 'armed_unarmed_status',\n 'alleged_weapon',\n 'alleged_threat_lvl',\n 'fleeing',\n 'body_camera',\n 'geography',\n 'encounter_type_draft',\n 'initial_reported_reason_for_encounter_draft',\n 'known_past_shootings_of_officer_draft',\n 'is_female',\n 'is_male',\n 'is_transgender',\n 'was_fleeing',\n 'was_not fleeing ',\n 'was_allegedly_armed',\n 'was_unarmed',\n 'was_vehicle',\n 'was_domestic_disturbance',\n 'was_mental_health_welfare_check',\n 'was_person_with_a_weapon',\n 'was_traffic_stop',\n 'was_violent_crime_part_1',\n 'is_asian/pacific islander',\n 'is_black',\n 'is_hispanic',\n 'is_native american',\n 'is_unknown race',\n 'is_white',\n 'mntlill_drug or alcohol use',\n 'mntlill_no',\n 'mntlill_unknown',\n 'mntlill_yes',\n 'rural',\n 'suburban',\n 'urban',\n 'cod_lethal',\n 'age_bins',\n 'unknown',\n 'under 12',\n '12-17',\n '18-24',\n '25-34',\n '35-44',\n '45-54',\n '55-64',\n '65+']"
     },
     "metadata": {}
    }
   ],
   "execution_count": null
  },
  {
   "cell_type": "code",
   "metadata": {
    "tags": [],
    "deepnote_to_be_reexecuted": false,
    "source_hash": "368ac104",
    "execution_start": 1622219520845,
    "execution_millis": 1,
    "cell_id": "00014-3c810d71-c5f6-4a13-afcf-0c1b1966533e",
    "deepnote_cell_type": "code"
   },
   "source": "dropcols = ['date',\n 'gender',\n 'race',\n 'city',\n 'state',\n 'zipcode',\n 'county',\n 'agency_responsible',\n 'cause_of_death',\n 'description_of_circumstances',\n 'official_disposition',\n 'criminal_charges_filed',\n 'mental_illness',\n 'armed_unarmed_status',\n 'alleged_threat_lvl',\n 'alleged_weapon',\n 'fleeing',\n 'geography',\n 'encounter_type_draft',\n 'initial_reported_reason_for_encounter_draft',\n 'known_past_shootings_of_officer_draft',\n 'age_bins']\n",
   "outputs": [],
   "execution_count": null
  },
  {
   "cell_type": "code",
   "metadata": {
    "tags": [],
    "deepnote_to_be_reexecuted": false,
    "source_hash": "d330f65b",
    "execution_start": 1622219520850,
    "execution_millis": 6,
    "cell_id": "00015-7b7dd39a-fdb6-4ca0-b17c-de01945d5596",
    "deepnote_cell_type": "code"
   },
   "source": "train2 = train.drop(columns=dropcols)\nvalidate2 = validate.drop(columns=dropcols)\ntest2 = test.drop(columns=dropcols)",
   "outputs": [],
   "execution_count": null
  },
  {
   "cell_type": "code",
   "metadata": {
    "tags": [],
    "deepnote_to_be_reexecuted": false,
    "source_hash": "569ea54a",
    "execution_start": 1622219520858,
    "execution_millis": 24,
    "cell_id": "00016-2680470a-0ba2-4a1f-9028-355337b25e8b",
    "deepnote_cell_type": "code"
   },
   "source": "train2.info()",
   "outputs": [
    {
     "name": "stdout",
     "text": "<class 'pandas.core.frame.DataFrame'>\nInt64Index: 3508 entries, 4142 to 5708\nData columns (total 38 columns):\n #   Column                           Non-Null Count  Dtype  \n---  ------                           --------------  -----  \n 0   age                              3508 non-null   int64  \n 1   body_camera                      3508 non-null   float64\n 2   is_female                        3508 non-null   int64  \n 3   is_male                          3508 non-null   int64  \n 4   is_transgender                   3508 non-null   int64  \n 5   was_fleeing                      3508 non-null   float64\n 6   was_not fleeing                  3508 non-null   float64\n 7   was_allegedly_armed              3508 non-null   float64\n 8   was_unarmed                      3508 non-null   float64\n 9   was_vehicle                      3508 non-null   float64\n 10  was_domestic_disturbance         3508 non-null   int64  \n 11  was_mental_health_welfare_check  3508 non-null   int64  \n 12  was_person_with_a_weapon         3508 non-null   int64  \n 13  was_traffic_stop                 3508 non-null   int64  \n 14  was_violent_crime_part_1         3508 non-null   int64  \n 15  is_asian/pacific islander        3508 non-null   int64  \n 16  is_black                         3508 non-null   int64  \n 17  is_hispanic                      3508 non-null   int64  \n 18  is_native american               3508 non-null   int64  \n 19  is_unknown race                  3508 non-null   int64  \n 20  is_white                         3508 non-null   int64  \n 21  mntlill_drug or alcohol use      3508 non-null   int64  \n 22  mntlill_no                       3508 non-null   int64  \n 23  mntlill_unknown                  3508 non-null   int64  \n 24  mntlill_yes                      3508 non-null   int64  \n 25  rural                            3508 non-null   float64\n 26  suburban                         3508 non-null   float64\n 27  urban                            3508 non-null   float64\n 28  cod_lethal                       3508 non-null   int64  \n 29  unknown                          3508 non-null   int64  \n 30  under 12                         3508 non-null   int64  \n 31  12-17                            3508 non-null   int64  \n 32  18-24                            3508 non-null   int64  \n 33  25-34                            3508 non-null   int64  \n 34  35-44                            3508 non-null   int64  \n 35  45-54                            3508 non-null   int64  \n 36  55-64                            3508 non-null   int64  \n 37  65+                              3508 non-null   int64  \ndtypes: float64(9), int64(29)\nmemory usage: 1.0 MB\n",
     "output_type": "stream"
    }
   ],
   "execution_count": null
  },
  {
   "cell_type": "code",
   "metadata": {
    "tags": [],
    "deepnote_to_be_reexecuted": false,
    "source_hash": "b18318e7",
    "execution_start": 1622219520877,
    "execution_millis": 11,
    "cell_id": "00017-1fd0f1c7-cd24-4b1c-bbb9-c327a3b88995",
    "deepnote_cell_type": "code"
   },
   "source": "train2.columns",
   "outputs": [
    {
     "output_type": "execute_result",
     "execution_count": 21,
     "data": {
      "text/plain": "Index(['age', 'body_camera', 'is_female', 'is_male', 'is_transgender',\n       'was_fleeing', 'was_not fleeing ', 'was_allegedly_armed', 'was_unarmed',\n       'was_vehicle', 'was_domestic_disturbance',\n       'was_mental_health_welfare_check', 'was_person_with_a_weapon',\n       'was_traffic_stop', 'was_violent_crime_part_1',\n       'is_asian/pacific islander', 'is_black', 'is_hispanic',\n       'is_native american', 'is_unknown race', 'is_white',\n       'mntlill_drug or alcohol use', 'mntlill_no', 'mntlill_unknown',\n       'mntlill_yes', 'rural', 'suburban', 'urban', 'cod_lethal', 'unknown',\n       'under 12', '12-17', '18-24', '25-34', '35-44', '45-54', '55-64',\n       '65+'],\n      dtype='object')"
     },
     "metadata": {}
    }
   ],
   "execution_count": null
  },
  {
   "cell_type": "code",
   "metadata": {
    "tags": [],
    "deepnote_to_be_reexecuted": false,
    "source_hash": "c5522482",
    "execution_start": 1622219520929,
    "execution_millis": 47,
    "cell_id": "00018-18932d81-84ed-48a9-baba-536dd89519d4",
    "deepnote_cell_type": "code"
   },
   "source": "f_feature = select_kbest(train2, y_train, 15)\nf_feature",
   "outputs": [
    {
     "output_type": "execute_result",
     "execution_count": 22,
     "data": {
      "text/plain": "['age',\n 'body_camera',\n 'is_transgender',\n 'was_allegedly_armed',\n 'was_unarmed',\n 'was_vehicle',\n 'was_mental_health_welfare_check',\n 'was_violent_crime_part_1',\n 'is_hispanic',\n 'is_white',\n 'mntlill_no',\n 'mntlill_yes',\n 'rural',\n '55-64',\n '65+']"
     },
     "metadata": {}
    }
   ],
   "execution_count": null
  },
  {
   "cell_type": "code",
   "metadata": {
    "tags": [],
    "deepnote_to_be_reexecuted": false,
    "source_hash": "ac440bf0",
    "execution_start": 1622219520970,
    "execution_millis": 4581,
    "cell_id": "00019-ea7896a9-0aec-43ce-841b-0080ffa25035",
    "deepnote_cell_type": "code"
   },
   "source": "rfe_list = rfe(train2, y_train, 15)",
   "outputs": [
    {
     "name": "stderr",
     "text": "/shared-libs/python3.7/py/lib/python3.7/site-packages/sklearn/utils/validation.py:72: FutureWarning: Pass n_features_to_select=15 as keyword args. From version 1.0 (renaming of 0.25) passing these as positional arguments will result in an error\n  \"will result in an error\", FutureWarning)\n/shared-libs/python3.7/py/lib/python3.7/site-packages/sklearn/linear_model/_logistic.py:765: ConvergenceWarning: lbfgs failed to converge (status=1):\nSTOP: TOTAL NO. of ITERATIONS REACHED LIMIT.\n\nIncrease the number of iterations (max_iter) or scale the data as shown in:\n    https://scikit-learn.org/stable/modules/preprocessing.html\nPlease also refer to the documentation for alternative solver options:\n    https://scikit-learn.org/stable/modules/linear_model.html#logistic-regression\n  extra_warning_msg=_LOGISTIC_SOLVER_CONVERGENCE_MSG)\n/shared-libs/python3.7/py/lib/python3.7/site-packages/sklearn/linear_model/_logistic.py:765: ConvergenceWarning: lbfgs failed to converge (status=1):\nSTOP: TOTAL NO. of ITERATIONS REACHED LIMIT.\n\nIncrease the number of iterations (max_iter) or scale the data as shown in:\n    https://scikit-learn.org/stable/modules/preprocessing.html\nPlease also refer to the documentation for alternative solver options:\n    https://scikit-learn.org/stable/modules/linear_model.html#logistic-regression\n  extra_warning_msg=_LOGISTIC_SOLVER_CONVERGENCE_MSG)\n/shared-libs/python3.7/py/lib/python3.7/site-packages/sklearn/linear_model/_logistic.py:765: ConvergenceWarning: lbfgs failed to converge (status=1):\nSTOP: TOTAL NO. of ITERATIONS REACHED LIMIT.\n\nIncrease the number of iterations (max_iter) or scale the data as shown in:\n    https://scikit-learn.org/stable/modules/preprocessing.html\nPlease also refer to the documentation for alternative solver options:\n    https://scikit-learn.org/stable/modules/linear_model.html#logistic-regression\n  extra_warning_msg=_LOGISTIC_SOLVER_CONVERGENCE_MSG)\n",
     "output_type": "stream"
    }
   ],
   "execution_count": null
  },
  {
   "cell_type": "code",
   "metadata": {
    "tags": [],
    "deepnote_to_be_reexecuted": false,
    "source_hash": "adde19a5",
    "execution_start": 1622219525555,
    "execution_millis": 15,
    "cell_id": "00020-d8d739d8-0bd5-4d44-8827-11b681a2c777",
    "deepnote_cell_type": "code"
   },
   "source": "f_feature",
   "outputs": [
    {
     "output_type": "execute_result",
     "execution_count": 24,
     "data": {
      "text/plain": "['age',\n 'body_camera',\n 'is_transgender',\n 'was_allegedly_armed',\n 'was_unarmed',\n 'was_vehicle',\n 'was_mental_health_welfare_check',\n 'was_violent_crime_part_1',\n 'is_hispanic',\n 'is_white',\n 'mntlill_no',\n 'mntlill_yes',\n 'rural',\n '55-64',\n '65+']"
     },
     "metadata": {}
    }
   ],
   "execution_count": null
  },
  {
   "cell_type": "code",
   "metadata": {
    "tags": [],
    "deepnote_to_be_reexecuted": false,
    "source_hash": "9d8423df",
    "execution_start": 1622219525567,
    "execution_millis": 82,
    "cell_id": "00021-0f7f8626-e6bb-4be6-93b6-6ed0bea04e80",
    "deepnote_cell_type": "code"
   },
   "source": "rfe_list",
   "outputs": [
    {
     "output_type": "execute_result",
     "execution_count": 25,
     "data": {
      "text/plain": "['is_female',\n 'is_male',\n 'is_transgender',\n 'was_not fleeing ',\n 'was_allegedly_armed',\n 'was_unarmed',\n 'was_vehicle',\n 'was_person_with_a_weapon',\n 'is_black',\n 'is_unknown race',\n 'is_white',\n 'mntlill_drug or alcohol use',\n 'mntlill_yes',\n 'cod_lethal',\n '65+']"
     },
     "metadata": {}
    }
   ],
   "execution_count": null
  },
  {
   "cell_type": "code",
   "metadata": {
    "tags": [],
    "deepnote_to_be_reexecuted": false,
    "source_hash": "75be0d0c",
    "execution_start": 1622219525637,
    "execution_millis": 4,
    "cell_id": "00022-373fde5e-c306-4c66-89ca-d8031e9de8b3",
    "deepnote_cell_type": "code"
   },
   "source": "combo_feats = list(set(f_feature + rfe_list))",
   "outputs": [],
   "execution_count": null
  },
  {
   "cell_type": "code",
   "metadata": {
    "tags": [],
    "deepnote_to_be_reexecuted": false,
    "source_hash": "d038553",
    "execution_start": 1622219525644,
    "execution_millis": 16,
    "cell_id": "00023-58b01ef5-78a8-4321-adfd-55275ed3a6c2",
    "deepnote_cell_type": "code"
   },
   "source": "len(combo_feats)",
   "outputs": [
    {
     "output_type": "execute_result",
     "execution_count": 27,
     "data": {
      "text/plain": "23"
     },
     "metadata": {}
    }
   ],
   "execution_count": null
  },
  {
   "cell_type": "code",
   "metadata": {
    "tags": [],
    "deepnote_to_be_reexecuted": false,
    "source_hash": "8d90ad63",
    "execution_start": 1622219525694,
    "execution_millis": 6,
    "cell_id": "00024-e836b7a6-98da-4edc-9dc9-87f56bc8db9e",
    "deepnote_cell_type": "code"
   },
   "source": "combo_feats",
   "outputs": [
    {
     "output_type": "execute_result",
     "execution_count": 28,
     "data": {
      "text/plain": "['is_transgender',\n 'mntlill_yes',\n '65+',\n 'was_violent_crime_part_1',\n 'is_white',\n 'was_person_with_a_weapon',\n 'is_male',\n 'was_not fleeing ',\n 'mntlill_drug or alcohol use',\n 'was_mental_health_welfare_check',\n 'was_allegedly_armed',\n 'rural',\n 'was_unarmed',\n 'cod_lethal',\n 'is_female',\n '55-64',\n 'mntlill_no',\n 'was_vehicle',\n 'is_black',\n 'age',\n 'is_unknown race',\n 'is_hispanic',\n 'body_camera']"
     },
     "metadata": {}
    }
   ],
   "execution_count": null
  },
  {
   "cell_type": "markdown",
   "source": "# KNN\n## Train\n",
   "metadata": {
    "tags": [],
    "cell_id": "00026-260ef3b7-da2d-499f-985f-a0cf187398e6",
    "deepnote_cell_type": "markdown"
   }
  },
  {
   "cell_type": "code",
   "metadata": {
    "tags": [],
    "cell_id": "00026-bc554847-7d76-4e00-b5e8-60564c9b13bc",
    "deepnote_to_be_reexecuted": false,
    "source_hash": "bb2235ce",
    "execution_start": 1622219525751,
    "execution_millis": 39,
    "deepnote_cell_type": "code"
   },
   "source": "df.alleged_threat_lvl.value_counts()",
   "outputs": [
    {
     "output_type": "execute_result",
     "execution_count": 29,
     "data": {
      "text/plain": "1.0    4242\n0.0    2023\nName: alleged_threat_lvl, dtype: int64"
     },
     "metadata": {}
    }
   ],
   "execution_count": null
  },
  {
   "cell_type": "code",
   "metadata": {
    "tags": [],
    "cell_id": "00027-eeb97c54-321f-4c1f-97c8-27df1460a7fd",
    "deepnote_to_be_reexecuted": false,
    "source_hash": "988dc88d",
    "execution_start": 1622219525752,
    "execution_millis": 41,
    "deepnote_cell_type": "code"
   },
   "source": "(train.alleged_threat_lvl == 0).mean()",
   "outputs": [
    {
     "output_type": "execute_result",
     "execution_count": 30,
     "data": {
      "text/plain": "0.3221208665906499"
     },
     "metadata": {}
    }
   ],
   "execution_count": null
  },
  {
   "cell_type": "code",
   "metadata": {
    "tags": [],
    "cell_id": "00027-0dc3290c-92a3-4fcf-a4e5-5c9fd216bacf",
    "deepnote_to_be_reexecuted": false,
    "source_hash": "97f90de9",
    "execution_start": 1622219525778,
    "execution_millis": 0,
    "deepnote_cell_type": "code"
   },
   "source": "def get_metrics(mod, X, y):\n    \"\"\"\n    get_metrics returns the baseline accuracy score \n    along with the current model's accuracy score for comparison \n    along with a table of precision/recall/f1-score/support percentages of the model\n    \"\"\"\n    baseline_accuracy = (train.alleged_threat_lvl == 0).mean()\n    y_pred = mod.predict(X)\n    accuracy = mod.score(X, y)\n    conf = confusion_matrix(y, y_pred)\n    prfs = pd.DataFrame(precision_recall_fscore_support(y, y_pred), index=['precision', 'recall', 'f1-score', 'support'])\n    \n    print(f'''\n    BASELINE accuracy is: {baseline_accuracy:.2%}\n    The accuracy for our model is: {accuracy:.5%} \n    ''')\n    return conf, prfs",
   "outputs": [],
   "execution_count": null
  },
  {
   "cell_type": "code",
   "metadata": {
    "tags": [],
    "cell_id": "00029-ed22fca1-cc2a-476e-bfb9-d2bfd1934c1f",
    "deepnote_to_be_reexecuted": false,
    "source_hash": "32e4eb35",
    "execution_start": 1622219525778,
    "execution_millis": 0,
    "deepnote_cell_type": "code"
   },
   "source": "combo_feats = ['55-64',\n 'is_native american',\n 'mntlill_no',\n 'under 12',\n 'was_traffic_stop',\n 'body_camera',\n 'age',\n 'was_allegedly_armed',\n 'is_black',\n 'was_domestic_disturbance',\n 'was_fleeing',\n 'cod_lethal',\n 'was_mental_health_welfare_check',\n 'is_white',\n 'was_violent_crime_part_1',\n 'was_vehicle',\n 'mntlill_drug or alcohol use',\n 'is_transgender',\n 'is_female']",
   "outputs": [],
   "execution_count": null
  },
  {
   "cell_type": "code",
   "metadata": {
    "tags": [],
    "cell_id": "00028-39a7449e-4599-47ec-ae19-9babc5189f1a",
    "deepnote_to_be_reexecuted": false,
    "source_hash": "ada4e53",
    "execution_start": 1622219525782,
    "execution_millis": 104,
    "deepnote_cell_type": "code"
   },
   "source": "train2[f_feature]",
   "outputs": [
    {
     "output_type": "execute_result",
     "execution_count": 33,
     "data": {
      "application/vnd.deepnote.dataframe.v2+json": {
       "row_count": 3508,
       "column_count": 15,
       "columns": [
        {
         "name": "age",
         "dtype": "int64",
         "stats": {
          "unique_count": 73,
          "nan_count": 0,
          "min": "0",
          "max": "91",
          "histogram": [
           {
            "bin_start": 0,
            "bin_end": 9.1,
            "count": 133
           },
           {
            "bin_start": 9.1,
            "bin_end": 18.2,
            "count": 127
           },
           {
            "bin_start": 18.2,
            "bin_end": 27.299999999999997,
            "count": 762
           },
           {
            "bin_start": 27.299999999999997,
            "bin_end": 36.4,
            "count": 968
           },
           {
            "bin_start": 36.4,
            "bin_end": 45.5,
            "count": 695
           },
           {
            "bin_start": 45.5,
            "bin_end": 54.599999999999994,
            "count": 446
           },
           {
            "bin_start": 54.599999999999994,
            "bin_end": 63.699999999999996,
            "count": 266
           },
           {
            "bin_start": 63.699999999999996,
            "bin_end": 72.8,
            "count": 84
           },
           {
            "bin_start": 72.8,
            "bin_end": 81.89999999999999,
            "count": 23
           },
           {
            "bin_start": 81.89999999999999,
            "bin_end": 91,
            "count": 4
           }
          ]
         }
        },
        {
         "name": "body_camera",
         "dtype": "float64",
         "stats": {
          "unique_count": 2,
          "nan_count": 0,
          "min": "0.0",
          "max": "1.0",
          "histogram": [
           {
            "bin_start": 0,
            "bin_end": 0.1,
            "count": 3131
           },
           {
            "bin_start": 0.1,
            "bin_end": 0.2,
            "count": 0
           },
           {
            "bin_start": 0.2,
            "bin_end": 0.30000000000000004,
            "count": 0
           },
           {
            "bin_start": 0.30000000000000004,
            "bin_end": 0.4,
            "count": 0
           },
           {
            "bin_start": 0.4,
            "bin_end": 0.5,
            "count": 0
           },
           {
            "bin_start": 0.5,
            "bin_end": 0.6000000000000001,
            "count": 0
           },
           {
            "bin_start": 0.6000000000000001,
            "bin_end": 0.7000000000000001,
            "count": 0
           },
           {
            "bin_start": 0.7000000000000001,
            "bin_end": 0.8,
            "count": 0
           },
           {
            "bin_start": 0.8,
            "bin_end": 0.9,
            "count": 0
           },
           {
            "bin_start": 0.9,
            "bin_end": 1,
            "count": 377
           }
          ]
         }
        },
        {
         "name": "is_transgender",
         "dtype": "int64",
         "stats": {
          "unique_count": 2,
          "nan_count": 0,
          "min": "0",
          "max": "1",
          "histogram": [
           {
            "bin_start": 0,
            "bin_end": 0.1,
            "count": 3502
           },
           {
            "bin_start": 0.1,
            "bin_end": 0.2,
            "count": 0
           },
           {
            "bin_start": 0.2,
            "bin_end": 0.30000000000000004,
            "count": 0
           },
           {
            "bin_start": 0.30000000000000004,
            "bin_end": 0.4,
            "count": 0
           },
           {
            "bin_start": 0.4,
            "bin_end": 0.5,
            "count": 0
           },
           {
            "bin_start": 0.5,
            "bin_end": 0.6000000000000001,
            "count": 0
           },
           {
            "bin_start": 0.6000000000000001,
            "bin_end": 0.7000000000000001,
            "count": 0
           },
           {
            "bin_start": 0.7000000000000001,
            "bin_end": 0.8,
            "count": 0
           },
           {
            "bin_start": 0.8,
            "bin_end": 0.9,
            "count": 0
           },
           {
            "bin_start": 0.9,
            "bin_end": 1,
            "count": 6
           }
          ]
         }
        },
        {
         "name": "was_allegedly_armed",
         "dtype": "float64",
         "stats": {
          "unique_count": 2,
          "nan_count": 0,
          "min": "0.0",
          "max": "1.0",
          "histogram": [
           {
            "bin_start": 0,
            "bin_end": 0.1,
            "count": 795
           },
           {
            "bin_start": 0.1,
            "bin_end": 0.2,
            "count": 0
           },
           {
            "bin_start": 0.2,
            "bin_end": 0.30000000000000004,
            "count": 0
           },
           {
            "bin_start": 0.30000000000000004,
            "bin_end": 0.4,
            "count": 0
           },
           {
            "bin_start": 0.4,
            "bin_end": 0.5,
            "count": 0
           },
           {
            "bin_start": 0.5,
            "bin_end": 0.6000000000000001,
            "count": 0
           },
           {
            "bin_start": 0.6000000000000001,
            "bin_end": 0.7000000000000001,
            "count": 0
           },
           {
            "bin_start": 0.7000000000000001,
            "bin_end": 0.8,
            "count": 0
           },
           {
            "bin_start": 0.8,
            "bin_end": 0.9,
            "count": 0
           },
           {
            "bin_start": 0.9,
            "bin_end": 1,
            "count": 2713
           }
          ]
         }
        },
        {
         "name": "was_unarmed",
         "dtype": "float64",
         "stats": {
          "unique_count": 2,
          "nan_count": 0,
          "min": "0.0",
          "max": "1.0",
          "histogram": [
           {
            "bin_start": 0,
            "bin_end": 0.1,
            "count": 3126
           },
           {
            "bin_start": 0.1,
            "bin_end": 0.2,
            "count": 0
           },
           {
            "bin_start": 0.2,
            "bin_end": 0.30000000000000004,
            "count": 0
           },
           {
            "bin_start": 0.30000000000000004,
            "bin_end": 0.4,
            "count": 0
           },
           {
            "bin_start": 0.4,
            "bin_end": 0.5,
            "count": 0
           },
           {
            "bin_start": 0.5,
            "bin_end": 0.6000000000000001,
            "count": 0
           },
           {
            "bin_start": 0.6000000000000001,
            "bin_end": 0.7000000000000001,
            "count": 0
           },
           {
            "bin_start": 0.7000000000000001,
            "bin_end": 0.8,
            "count": 0
           },
           {
            "bin_start": 0.8,
            "bin_end": 0.9,
            "count": 0
           },
           {
            "bin_start": 0.9,
            "bin_end": 1,
            "count": 382
           }
          ]
         }
        },
        {
         "name": "was_vehicle",
         "dtype": "float64",
         "stats": {
          "unique_count": 2,
          "nan_count": 0,
          "min": "0.0",
          "max": "1.0",
          "histogram": [
           {
            "bin_start": 0,
            "bin_end": 0.1,
            "count": 3271
           },
           {
            "bin_start": 0.1,
            "bin_end": 0.2,
            "count": 0
           },
           {
            "bin_start": 0.2,
            "bin_end": 0.30000000000000004,
            "count": 0
           },
           {
            "bin_start": 0.30000000000000004,
            "bin_end": 0.4,
            "count": 0
           },
           {
            "bin_start": 0.4,
            "bin_end": 0.5,
            "count": 0
           },
           {
            "bin_start": 0.5,
            "bin_end": 0.6000000000000001,
            "count": 0
           },
           {
            "bin_start": 0.6000000000000001,
            "bin_end": 0.7000000000000001,
            "count": 0
           },
           {
            "bin_start": 0.7000000000000001,
            "bin_end": 0.8,
            "count": 0
           },
           {
            "bin_start": 0.8,
            "bin_end": 0.9,
            "count": 0
           },
           {
            "bin_start": 0.9,
            "bin_end": 1,
            "count": 237
           }
          ]
         }
        },
        {
         "name": "was_mental_health_welfare_check",
         "dtype": "int64",
         "stats": {
          "unique_count": 2,
          "nan_count": 0,
          "min": "0",
          "max": "1",
          "histogram": [
           {
            "bin_start": 0,
            "bin_end": 0.1,
            "count": 3288
           },
           {
            "bin_start": 0.1,
            "bin_end": 0.2,
            "count": 0
           },
           {
            "bin_start": 0.2,
            "bin_end": 0.30000000000000004,
            "count": 0
           },
           {
            "bin_start": 0.30000000000000004,
            "bin_end": 0.4,
            "count": 0
           },
           {
            "bin_start": 0.4,
            "bin_end": 0.5,
            "count": 0
           },
           {
            "bin_start": 0.5,
            "bin_end": 0.6000000000000001,
            "count": 0
           },
           {
            "bin_start": 0.6000000000000001,
            "bin_end": 0.7000000000000001,
            "count": 0
           },
           {
            "bin_start": 0.7000000000000001,
            "bin_end": 0.8,
            "count": 0
           },
           {
            "bin_start": 0.8,
            "bin_end": 0.9,
            "count": 0
           },
           {
            "bin_start": 0.9,
            "bin_end": 1,
            "count": 220
           }
          ]
         }
        },
        {
         "name": "was_violent_crime_part_1",
         "dtype": "int64",
         "stats": {
          "unique_count": 2,
          "nan_count": 0,
          "min": "0",
          "max": "1",
          "histogram": [
           {
            "bin_start": 0,
            "bin_end": 0.1,
            "count": 1732
           },
           {
            "bin_start": 0.1,
            "bin_end": 0.2,
            "count": 0
           },
           {
            "bin_start": 0.2,
            "bin_end": 0.30000000000000004,
            "count": 0
           },
           {
            "bin_start": 0.30000000000000004,
            "bin_end": 0.4,
            "count": 0
           },
           {
            "bin_start": 0.4,
            "bin_end": 0.5,
            "count": 0
           },
           {
            "bin_start": 0.5,
            "bin_end": 0.6000000000000001,
            "count": 0
           },
           {
            "bin_start": 0.6000000000000001,
            "bin_end": 0.7000000000000001,
            "count": 0
           },
           {
            "bin_start": 0.7000000000000001,
            "bin_end": 0.8,
            "count": 0
           },
           {
            "bin_start": 0.8,
            "bin_end": 0.9,
            "count": 0
           },
           {
            "bin_start": 0.9,
            "bin_end": 1,
            "count": 1776
           }
          ]
         }
        },
        {
         "name": "is_hispanic",
         "dtype": "int64",
         "stats": {
          "unique_count": 2,
          "nan_count": 0,
          "min": "0",
          "max": "1",
          "histogram": [
           {
            "bin_start": 0,
            "bin_end": 0.1,
            "count": 2870
           },
           {
            "bin_start": 0.1,
            "bin_end": 0.2,
            "count": 0
           },
           {
            "bin_start": 0.2,
            "bin_end": 0.30000000000000004,
            "count": 0
           },
           {
            "bin_start": 0.30000000000000004,
            "bin_end": 0.4,
            "count": 0
           },
           {
            "bin_start": 0.4,
            "bin_end": 0.5,
            "count": 0
           },
           {
            "bin_start": 0.5,
            "bin_end": 0.6000000000000001,
            "count": 0
           },
           {
            "bin_start": 0.6000000000000001,
            "bin_end": 0.7000000000000001,
            "count": 0
           },
           {
            "bin_start": 0.7000000000000001,
            "bin_end": 0.8,
            "count": 0
           },
           {
            "bin_start": 0.8,
            "bin_end": 0.9,
            "count": 0
           },
           {
            "bin_start": 0.9,
            "bin_end": 1,
            "count": 638
           }
          ]
         }
        },
        {
         "name": "is_white",
         "dtype": "int64",
         "stats": {
          "unique_count": 2,
          "nan_count": 0,
          "min": "0",
          "max": "1",
          "histogram": [
           {
            "bin_start": 0,
            "bin_end": 0.1,
            "count": 1959
           },
           {
            "bin_start": 0.1,
            "bin_end": 0.2,
            "count": 0
           },
           {
            "bin_start": 0.2,
            "bin_end": 0.30000000000000004,
            "count": 0
           },
           {
            "bin_start": 0.30000000000000004,
            "bin_end": 0.4,
            "count": 0
           },
           {
            "bin_start": 0.4,
            "bin_end": 0.5,
            "count": 0
           },
           {
            "bin_start": 0.5,
            "bin_end": 0.6000000000000001,
            "count": 0
           },
           {
            "bin_start": 0.6000000000000001,
            "bin_end": 0.7000000000000001,
            "count": 0
           },
           {
            "bin_start": 0.7000000000000001,
            "bin_end": 0.8,
            "count": 0
           },
           {
            "bin_start": 0.8,
            "bin_end": 0.9,
            "count": 0
           },
           {
            "bin_start": 0.9,
            "bin_end": 1,
            "count": 1549
           }
          ]
         }
        },
        {
         "name": "mntlill_no",
         "dtype": "int64",
         "stats": {
          "unique_count": 2,
          "nan_count": 0,
          "min": "0",
          "max": "1",
          "histogram": [
           {
            "bin_start": 0,
            "bin_end": 0.1,
            "count": 1176
           },
           {
            "bin_start": 0.1,
            "bin_end": 0.2,
            "count": 0
           },
           {
            "bin_start": 0.2,
            "bin_end": 0.30000000000000004,
            "count": 0
           },
           {
            "bin_start": 0.30000000000000004,
            "bin_end": 0.4,
            "count": 0
           },
           {
            "bin_start": 0.4,
            "bin_end": 0.5,
            "count": 0
           },
           {
            "bin_start": 0.5,
            "bin_end": 0.6000000000000001,
            "count": 0
           },
           {
            "bin_start": 0.6000000000000001,
            "bin_end": 0.7000000000000001,
            "count": 0
           },
           {
            "bin_start": 0.7000000000000001,
            "bin_end": 0.8,
            "count": 0
           },
           {
            "bin_start": 0.8,
            "bin_end": 0.9,
            "count": 0
           },
           {
            "bin_start": 0.9,
            "bin_end": 1,
            "count": 2332
           }
          ]
         }
        },
        {
         "name": "mntlill_yes",
         "dtype": "int64",
         "stats": {
          "unique_count": 2,
          "nan_count": 0,
          "min": "0",
          "max": "1",
          "histogram": [
           {
            "bin_start": 0,
            "bin_end": 0.1,
            "count": 2808
           },
           {
            "bin_start": 0.1,
            "bin_end": 0.2,
            "count": 0
           },
           {
            "bin_start": 0.2,
            "bin_end": 0.30000000000000004,
            "count": 0
           },
           {
            "bin_start": 0.30000000000000004,
            "bin_end": 0.4,
            "count": 0
           },
           {
            "bin_start": 0.4,
            "bin_end": 0.5,
            "count": 0
           },
           {
            "bin_start": 0.5,
            "bin_end": 0.6000000000000001,
            "count": 0
           },
           {
            "bin_start": 0.6000000000000001,
            "bin_end": 0.7000000000000001,
            "count": 0
           },
           {
            "bin_start": 0.7000000000000001,
            "bin_end": 0.8,
            "count": 0
           },
           {
            "bin_start": 0.8,
            "bin_end": 0.9,
            "count": 0
           },
           {
            "bin_start": 0.9,
            "bin_end": 1,
            "count": 700
           }
          ]
         }
        },
        {
         "name": "rural",
         "dtype": "float64",
         "stats": {
          "unique_count": 2,
          "nan_count": 0,
          "min": "0.0",
          "max": "1.0",
          "histogram": [
           {
            "bin_start": 0,
            "bin_end": 0.1,
            "count": 2706
           },
           {
            "bin_start": 0.1,
            "bin_end": 0.2,
            "count": 0
           },
           {
            "bin_start": 0.2,
            "bin_end": 0.30000000000000004,
            "count": 0
           },
           {
            "bin_start": 0.30000000000000004,
            "bin_end": 0.4,
            "count": 0
           },
           {
            "bin_start": 0.4,
            "bin_end": 0.5,
            "count": 0
           },
           {
            "bin_start": 0.5,
            "bin_end": 0.6000000000000001,
            "count": 0
           },
           {
            "bin_start": 0.6000000000000001,
            "bin_end": 0.7000000000000001,
            "count": 0
           },
           {
            "bin_start": 0.7000000000000001,
            "bin_end": 0.8,
            "count": 0
           },
           {
            "bin_start": 0.8,
            "bin_end": 0.9,
            "count": 0
           },
           {
            "bin_start": 0.9,
            "bin_end": 1,
            "count": 802
           }
          ]
         }
        },
        {
         "name": "55-64",
         "dtype": "int64",
         "stats": {
          "unique_count": 2,
          "nan_count": 0,
          "min": "0",
          "max": "1",
          "histogram": [
           {
            "bin_start": 0,
            "bin_end": 0.1,
            "count": 3226
           },
           {
            "bin_start": 0.1,
            "bin_end": 0.2,
            "count": 0
           },
           {
            "bin_start": 0.2,
            "bin_end": 0.30000000000000004,
            "count": 0
           },
           {
            "bin_start": 0.30000000000000004,
            "bin_end": 0.4,
            "count": 0
           },
           {
            "bin_start": 0.4,
            "bin_end": 0.5,
            "count": 0
           },
           {
            "bin_start": 0.5,
            "bin_end": 0.6000000000000001,
            "count": 0
           },
           {
            "bin_start": 0.6000000000000001,
            "bin_end": 0.7000000000000001,
            "count": 0
           },
           {
            "bin_start": 0.7000000000000001,
            "bin_end": 0.8,
            "count": 0
           },
           {
            "bin_start": 0.8,
            "bin_end": 0.9,
            "count": 0
           },
           {
            "bin_start": 0.9,
            "bin_end": 1,
            "count": 282
           }
          ]
         }
        },
        {
         "name": "65+",
         "dtype": "int64",
         "stats": {
          "unique_count": 2,
          "nan_count": 0,
          "min": "0",
          "max": "1",
          "histogram": [
           {
            "bin_start": 0,
            "bin_end": 0.1,
            "count": 3413
           },
           {
            "bin_start": 0.1,
            "bin_end": 0.2,
            "count": 0
           },
           {
            "bin_start": 0.2,
            "bin_end": 0.30000000000000004,
            "count": 0
           },
           {
            "bin_start": 0.30000000000000004,
            "bin_end": 0.4,
            "count": 0
           },
           {
            "bin_start": 0.4,
            "bin_end": 0.5,
            "count": 0
           },
           {
            "bin_start": 0.5,
            "bin_end": 0.6000000000000001,
            "count": 0
           },
           {
            "bin_start": 0.6000000000000001,
            "bin_end": 0.7000000000000001,
            "count": 0
           },
           {
            "bin_start": 0.7000000000000001,
            "bin_end": 0.8,
            "count": 0
           },
           {
            "bin_start": 0.8,
            "bin_end": 0.9,
            "count": 0
           },
           {
            "bin_start": 0.9,
            "bin_end": 1,
            "count": 95
           }
          ]
         }
        },
        {
         "name": "_deepnote_index_column",
         "dtype": "int64"
        }
       ],
       "rows_top": [
        {
         "age": 47,
         "body_camera": 1,
         "is_transgender": 0,
         "was_allegedly_armed": 1,
         "was_unarmed": 0,
         "was_vehicle": 0,
         "was_mental_health_welfare_check": 0,
         "was_violent_crime_part_1": 1,
         "is_hispanic": 0,
         "is_white": 0,
         "mntlill_no": 1,
         "mntlill_yes": 0,
         "rural": 0,
         "55-64": 0,
         "65+": 0,
         "_deepnote_index_column": 4142
        },
        {
         "age": 24,
         "body_camera": 0,
         "is_transgender": 0,
         "was_allegedly_armed": 1,
         "was_unarmed": 0,
         "was_vehicle": 0,
         "was_mental_health_welfare_check": 0,
         "was_violent_crime_part_1": 0,
         "is_hispanic": 0,
         "is_white": 1,
         "mntlill_no": 1,
         "mntlill_yes": 0,
         "rural": 1,
         "55-64": 0,
         "65+": 0,
         "_deepnote_index_column": 3650
        },
        {
         "age": 45,
         "body_camera": 0,
         "is_transgender": 0,
         "was_allegedly_armed": 1,
         "was_unarmed": 0,
         "was_vehicle": 0,
         "was_mental_health_welfare_check": 0,
         "was_violent_crime_part_1": 1,
         "is_hispanic": 0,
         "is_white": 1,
         "mntlill_no": 1,
         "mntlill_yes": 0,
         "rural": 0,
         "55-64": 0,
         "65+": 0,
         "_deepnote_index_column": 5846
        },
        {
         "age": 37,
         "body_camera": 0,
         "is_transgender": 0,
         "was_allegedly_armed": 1,
         "was_unarmed": 0,
         "was_vehicle": 0,
         "was_mental_health_welfare_check": 0,
         "was_violent_crime_part_1": 1,
         "is_hispanic": 0,
         "is_white": 0,
         "mntlill_no": 1,
         "mntlill_yes": 0,
         "rural": 0,
         "55-64": 0,
         "65+": 0,
         "_deepnote_index_column": 3588
        },
        {
         "age": 62,
         "body_camera": 0,
         "is_transgender": 0,
         "was_allegedly_armed": 1,
         "was_unarmed": 0,
         "was_vehicle": 0,
         "was_mental_health_welfare_check": 0,
         "was_violent_crime_part_1": 0,
         "is_hispanic": 0,
         "is_white": 0,
         "mntlill_no": 0,
         "mntlill_yes": 0,
         "rural": 0,
         "55-64": 1,
         "65+": 0,
         "_deepnote_index_column": 744
        },
        {
         "age": 19,
         "body_camera": 0,
         "is_transgender": 0,
         "was_allegedly_armed": 1,
         "was_unarmed": 0,
         "was_vehicle": 0,
         "was_mental_health_welfare_check": 0,
         "was_violent_crime_part_1": 1,
         "is_hispanic": 0,
         "is_white": 0,
         "mntlill_no": 1,
         "mntlill_yes": 0,
         "rural": 0,
         "55-64": 0,
         "65+": 0,
         "_deepnote_index_column": 5036
        },
        {
         "age": 25,
         "body_camera": 0,
         "is_transgender": 0,
         "was_allegedly_armed": 0,
         "was_unarmed": 0,
         "was_vehicle": 0,
         "was_mental_health_welfare_check": 0,
         "was_violent_crime_part_1": 1,
         "is_hispanic": 0,
         "is_white": 0,
         "mntlill_no": 1,
         "mntlill_yes": 0,
         "rural": 0,
         "55-64": 0,
         "65+": 0,
         "_deepnote_index_column": 3568
        },
        {
         "age": 30,
         "body_camera": 0,
         "is_transgender": 0,
         "was_allegedly_armed": 0,
         "was_unarmed": 1,
         "was_vehicle": 0,
         "was_mental_health_welfare_check": 0,
         "was_violent_crime_part_1": 1,
         "is_hispanic": 0,
         "is_white": 1,
         "mntlill_no": 1,
         "mntlill_yes": 0,
         "rural": 0,
         "55-64": 0,
         "65+": 0,
         "_deepnote_index_column": 5501
        },
        {
         "age": 59,
         "body_camera": 0,
         "is_transgender": 0,
         "was_allegedly_armed": 1,
         "was_unarmed": 0,
         "was_vehicle": 0,
         "was_mental_health_welfare_check": 0,
         "was_violent_crime_part_1": 1,
         "is_hispanic": 0,
         "is_white": 1,
         "mntlill_no": 1,
         "mntlill_yes": 0,
         "rural": 0,
         "55-64": 1,
         "65+": 0,
         "_deepnote_index_column": 1452
        },
        {
         "age": 19,
         "body_camera": 0,
         "is_transgender": 0,
         "was_allegedly_armed": 1,
         "was_unarmed": 0,
         "was_vehicle": 0,
         "was_mental_health_welfare_check": 0,
         "was_violent_crime_part_1": 0,
         "is_hispanic": 0,
         "is_white": 1,
         "mntlill_no": 1,
         "mntlill_yes": 0,
         "rural": 0,
         "55-64": 0,
         "65+": 0,
         "_deepnote_index_column": 1816
        },
        {
         "age": 24,
         "body_camera": 0,
         "is_transgender": 0,
         "was_allegedly_armed": 0,
         "was_unarmed": 1,
         "was_vehicle": 0,
         "was_mental_health_welfare_check": 0,
         "was_violent_crime_part_1": 0,
         "is_hispanic": 1,
         "is_white": 0,
         "mntlill_no": 1,
         "mntlill_yes": 0,
         "rural": 0,
         "55-64": 0,
         "65+": 0,
         "_deepnote_index_column": 109
        },
        {
         "age": 28,
         "body_camera": 0,
         "is_transgender": 0,
         "was_allegedly_armed": 0,
         "was_unarmed": 1,
         "was_vehicle": 0,
         "was_mental_health_welfare_check": 1,
         "was_violent_crime_part_1": 0,
         "is_hispanic": 1,
         "is_white": 0,
         "mntlill_no": 0,
         "mntlill_yes": 1,
         "rural": 0,
         "55-64": 0,
         "65+": 0,
         "_deepnote_index_column": 656
        },
        {
         "age": 22,
         "body_camera": 1,
         "is_transgender": 0,
         "was_allegedly_armed": 1,
         "was_unarmed": 0,
         "was_vehicle": 0,
         "was_mental_health_welfare_check": 0,
         "was_violent_crime_part_1": 0,
         "is_hispanic": 0,
         "is_white": 0,
         "mntlill_no": 1,
         "mntlill_yes": 0,
         "rural": 0,
         "55-64": 0,
         "65+": 0,
         "_deepnote_index_column": 647
        },
        {
         "age": 25,
         "body_camera": 0,
         "is_transgender": 0,
         "was_allegedly_armed": 1,
         "was_unarmed": 0,
         "was_vehicle": 0,
         "was_mental_health_welfare_check": 0,
         "was_violent_crime_part_1": 1,
         "is_hispanic": 1,
         "is_white": 0,
         "mntlill_no": 1,
         "mntlill_yes": 0,
         "rural": 1,
         "55-64": 0,
         "65+": 0,
         "_deepnote_index_column": 5728
        },
        {
         "age": 33,
         "body_camera": 0,
         "is_transgender": 0,
         "was_allegedly_armed": 1,
         "was_unarmed": 0,
         "was_vehicle": 0,
         "was_mental_health_welfare_check": 0,
         "was_violent_crime_part_1": 1,
         "is_hispanic": 0,
         "is_white": 0,
         "mntlill_no": 1,
         "mntlill_yes": 0,
         "rural": 1,
         "55-64": 0,
         "65+": 0,
         "_deepnote_index_column": 2716
        },
        {
         "age": 43,
         "body_camera": 0,
         "is_transgender": 0,
         "was_allegedly_armed": 1,
         "was_unarmed": 0,
         "was_vehicle": 0,
         "was_mental_health_welfare_check": 0,
         "was_violent_crime_part_1": 1,
         "is_hispanic": 0,
         "is_white": 1,
         "mntlill_no": 0,
         "mntlill_yes": 1,
         "rural": 0,
         "55-64": 0,
         "65+": 0,
         "_deepnote_index_column": 4656
        },
        {
         "age": 20,
         "body_camera": 1,
         "is_transgender": 0,
         "was_allegedly_armed": 1,
         "was_unarmed": 0,
         "was_vehicle": 0,
         "was_mental_health_welfare_check": 0,
         "was_violent_crime_part_1": 0,
         "is_hispanic": 1,
         "is_white": 0,
         "mntlill_no": 1,
         "mntlill_yes": 0,
         "rural": 0,
         "55-64": 0,
         "65+": 0,
         "_deepnote_index_column": 1307
        },
        {
         "age": 20,
         "body_camera": 0,
         "is_transgender": 0,
         "was_allegedly_armed": 1,
         "was_unarmed": 0,
         "was_vehicle": 0,
         "was_mental_health_welfare_check": 0,
         "was_violent_crime_part_1": 1,
         "is_hispanic": 0,
         "is_white": 0,
         "mntlill_no": 0,
         "mntlill_yes": 0,
         "rural": 0,
         "55-64": 0,
         "65+": 0,
         "_deepnote_index_column": 6108
        },
        {
         "age": 29,
         "body_camera": 0,
         "is_transgender": 0,
         "was_allegedly_armed": 1,
         "was_unarmed": 0,
         "was_vehicle": 0,
         "was_mental_health_welfare_check": 0,
         "was_violent_crime_part_1": 1,
         "is_hispanic": 0,
         "is_white": 0,
         "mntlill_no": 1,
         "mntlill_yes": 0,
         "rural": 0,
         "55-64": 0,
         "65+": 0,
         "_deepnote_index_column": 5898
        },
        {
         "age": 15,
         "body_camera": 0,
         "is_transgender": 0,
         "was_allegedly_armed": 1,
         "was_unarmed": 0,
         "was_vehicle": 0,
         "was_mental_health_welfare_check": 0,
         "was_violent_crime_part_1": 1,
         "is_hispanic": 1,
         "is_white": 0,
         "mntlill_no": 1,
         "mntlill_yes": 0,
         "rural": 0,
         "55-64": 0,
         "65+": 0,
         "_deepnote_index_column": 396
        },
        {
         "age": 32,
         "body_camera": 0,
         "is_transgender": 0,
         "was_allegedly_armed": 1,
         "was_unarmed": 0,
         "was_vehicle": 0,
         "was_mental_health_welfare_check": 0,
         "was_violent_crime_part_1": 1,
         "is_hispanic": 1,
         "is_white": 0,
         "mntlill_no": 1,
         "mntlill_yes": 0,
         "rural": 0,
         "55-64": 0,
         "65+": 0,
         "_deepnote_index_column": 704
        },
        {
         "age": 0,
         "body_camera": 0,
         "is_transgender": 0,
         "was_allegedly_armed": 1,
         "was_unarmed": 0,
         "was_vehicle": 0,
         "was_mental_health_welfare_check": 0,
         "was_violent_crime_part_1": 0,
         "is_hispanic": 0,
         "is_white": 0,
         "mntlill_no": 1,
         "mntlill_yes": 0,
         "rural": 1,
         "55-64": 0,
         "65+": 0,
         "_deepnote_index_column": 583
        },
        {
         "age": 25,
         "body_camera": 0,
         "is_transgender": 0,
         "was_allegedly_armed": 1,
         "was_unarmed": 0,
         "was_vehicle": 0,
         "was_mental_health_welfare_check": 0,
         "was_violent_crime_part_1": 0,
         "is_hispanic": 0,
         "is_white": 0,
         "mntlill_no": 0,
         "mntlill_yes": 1,
         "rural": 0,
         "55-64": 0,
         "65+": 0,
         "_deepnote_index_column": 675
        },
        {
         "age": 30,
         "body_camera": 1,
         "is_transgender": 0,
         "was_allegedly_armed": 0,
         "was_unarmed": 0,
         "was_vehicle": 0,
         "was_mental_health_welfare_check": 0,
         "was_violent_crime_part_1": 0,
         "is_hispanic": 0,
         "is_white": 1,
         "mntlill_no": 1,
         "mntlill_yes": 0,
         "rural": 0,
         "55-64": 0,
         "65+": 0,
         "_deepnote_index_column": 3309
        },
        {
         "age": 23,
         "body_camera": 0,
         "is_transgender": 0,
         "was_allegedly_armed": 1,
         "was_unarmed": 0,
         "was_vehicle": 0,
         "was_mental_health_welfare_check": 0,
         "was_violent_crime_part_1": 1,
         "is_hispanic": 0,
         "is_white": 0,
         "mntlill_no": 0,
         "mntlill_yes": 1,
         "rural": 0,
         "55-64": 0,
         "65+": 0,
         "_deepnote_index_column": 4966
        },
        {
         "age": 25,
         "body_camera": 0,
         "is_transgender": 0,
         "was_allegedly_armed": 1,
         "was_unarmed": 0,
         "was_vehicle": 0,
         "was_mental_health_welfare_check": 0,
         "was_violent_crime_part_1": 0,
         "is_hispanic": 0,
         "is_white": 1,
         "mntlill_no": 1,
         "mntlill_yes": 0,
         "rural": 0,
         "55-64": 0,
         "65+": 0,
         "_deepnote_index_column": 3463
        },
        {
         "age": 36,
         "body_camera": 0,
         "is_transgender": 0,
         "was_allegedly_armed": 1,
         "was_unarmed": 0,
         "was_vehicle": 0,
         "was_mental_health_welfare_check": 0,
         "was_violent_crime_part_1": 1,
         "is_hispanic": 0,
         "is_white": 0,
         "mntlill_no": 0,
         "mntlill_yes": 1,
         "rural": 0,
         "55-64": 0,
         "65+": 0,
         "_deepnote_index_column": 5888
        },
        {
         "age": 61,
         "body_camera": 0,
         "is_transgender": 0,
         "was_allegedly_armed": 1,
         "was_unarmed": 0,
         "was_vehicle": 0,
         "was_mental_health_welfare_check": 0,
         "was_violent_crime_part_1": 0,
         "is_hispanic": 0,
         "is_white": 0,
         "mntlill_no": 1,
         "mntlill_yes": 0,
         "rural": 0,
         "55-64": 1,
         "65+": 0,
         "_deepnote_index_column": 1714
        },
        {
         "age": 33,
         "body_camera": 0,
         "is_transgender": 0,
         "was_allegedly_armed": 1,
         "was_unarmed": 0,
         "was_vehicle": 0,
         "was_mental_health_welfare_check": 0,
         "was_violent_crime_part_1": 1,
         "is_hispanic": 0,
         "is_white": 0,
         "mntlill_no": 0,
         "mntlill_yes": 0,
         "rural": 1,
         "55-64": 0,
         "65+": 0,
         "_deepnote_index_column": 5677
        },
        {
         "age": 20,
         "body_camera": 0,
         "is_transgender": 0,
         "was_allegedly_armed": 1,
         "was_unarmed": 0,
         "was_vehicle": 0,
         "was_mental_health_welfare_check": 0,
         "was_violent_crime_part_1": 1,
         "is_hispanic": 0,
         "is_white": 0,
         "mntlill_no": 1,
         "mntlill_yes": 0,
         "rural": 0,
         "55-64": 0,
         "65+": 0,
         "_deepnote_index_column": 4125
        },
        {
         "age": 19,
         "body_camera": 0,
         "is_transgender": 0,
         "was_allegedly_armed": 0,
         "was_unarmed": 1,
         "was_vehicle": 0,
         "was_mental_health_welfare_check": 0,
         "was_violent_crime_part_1": 1,
         "is_hispanic": 0,
         "is_white": 0,
         "mntlill_no": 0,
         "mntlill_yes": 0,
         "rural": 0,
         "55-64": 0,
         "65+": 0,
         "_deepnote_index_column": 5680
        },
        {
         "age": 34,
         "body_camera": 0,
         "is_transgender": 0,
         "was_allegedly_armed": 0,
         "was_unarmed": 0,
         "was_vehicle": 1,
         "was_mental_health_welfare_check": 0,
         "was_violent_crime_part_1": 0,
         "is_hispanic": 1,
         "is_white": 0,
         "mntlill_no": 0,
         "mntlill_yes": 0,
         "rural": 0,
         "55-64": 0,
         "65+": 0,
         "_deepnote_index_column": 1636
        },
        {
         "age": 38,
         "body_camera": 0,
         "is_transgender": 0,
         "was_allegedly_armed": 0,
         "was_unarmed": 0,
         "was_vehicle": 0,
         "was_mental_health_welfare_check": 0,
         "was_violent_crime_part_1": 0,
         "is_hispanic": 0,
         "is_white": 1,
         "mntlill_no": 1,
         "mntlill_yes": 0,
         "rural": 0,
         "55-64": 0,
         "65+": 0,
         "_deepnote_index_column": 203
        }
       ],
       "rows_bottom": [
        {
         "age": 0,
         "body_camera": 1,
         "is_transgender": 0,
         "was_allegedly_armed": 1,
         "was_unarmed": 0,
         "was_vehicle": 0,
         "was_mental_health_welfare_check": 0,
         "was_violent_crime_part_1": 0,
         "is_hispanic": 1,
         "is_white": 0,
         "mntlill_no": 0,
         "mntlill_yes": 1,
         "rural": 0,
         "55-64": 0,
         "65+": 0,
         "_deepnote_index_column": 3796
        },
        {
         "age": 58,
         "body_camera": 0,
         "is_transgender": 0,
         "was_allegedly_armed": 1,
         "was_unarmed": 0,
         "was_vehicle": 0,
         "was_mental_health_welfare_check": 1,
         "was_violent_crime_part_1": 0,
         "is_hispanic": 0,
         "is_white": 1,
         "mntlill_no": 1,
         "mntlill_yes": 0,
         "rural": 0,
         "55-64": 1,
         "65+": 0,
         "_deepnote_index_column": 2518
        },
        {
         "age": 0,
         "body_camera": 1,
         "is_transgender": 0,
         "was_allegedly_armed": 1,
         "was_unarmed": 0,
         "was_vehicle": 0,
         "was_mental_health_welfare_check": 1,
         "was_violent_crime_part_1": 0,
         "is_hispanic": 0,
         "is_white": 1,
         "mntlill_no": 0,
         "mntlill_yes": 1,
         "rural": 0,
         "55-64": 0,
         "65+": 0,
         "_deepnote_index_column": 342
        },
        {
         "age": 19,
         "body_camera": 0,
         "is_transgender": 0,
         "was_allegedly_armed": 1,
         "was_unarmed": 0,
         "was_vehicle": 0,
         "was_mental_health_welfare_check": 0,
         "was_violent_crime_part_1": 1,
         "is_hispanic": 0,
         "is_white": 1,
         "mntlill_no": 1,
         "mntlill_yes": 0,
         "rural": 0,
         "55-64": 0,
         "65+": 0,
         "_deepnote_index_column": 2524
        },
        {
         "age": 21,
         "body_camera": 0,
         "is_transgender": 0,
         "was_allegedly_armed": 0,
         "was_unarmed": 1,
         "was_vehicle": 0,
         "was_mental_health_welfare_check": 0,
         "was_violent_crime_part_1": 1,
         "is_hispanic": 0,
         "is_white": 0,
         "mntlill_no": 0,
         "mntlill_yes": 1,
         "rural": 0,
         "55-64": 0,
         "65+": 0,
         "_deepnote_index_column": 5602
        },
        {
         "age": 28,
         "body_camera": 0,
         "is_transgender": 0,
         "was_allegedly_armed": 0,
         "was_unarmed": 1,
         "was_vehicle": 0,
         "was_mental_health_welfare_check": 0,
         "was_violent_crime_part_1": 1,
         "is_hispanic": 0,
         "is_white": 0,
         "mntlill_no": 1,
         "mntlill_yes": 0,
         "rural": 0,
         "55-64": 0,
         "65+": 0,
         "_deepnote_index_column": 5914
        },
        {
         "age": 20,
         "body_camera": 0,
         "is_transgender": 0,
         "was_allegedly_armed": 1,
         "was_unarmed": 0,
         "was_vehicle": 0,
         "was_mental_health_welfare_check": 0,
         "was_violent_crime_part_1": 0,
         "is_hispanic": 0,
         "is_white": 0,
         "mntlill_no": 1,
         "mntlill_yes": 0,
         "rural": 0,
         "55-64": 0,
         "65+": 0,
         "_deepnote_index_column": 3323
        },
        {
         "age": 54,
         "body_camera": 0,
         "is_transgender": 0,
         "was_allegedly_armed": 1,
         "was_unarmed": 0,
         "was_vehicle": 0,
         "was_mental_health_welfare_check": 0,
         "was_violent_crime_part_1": 1,
         "is_hispanic": 1,
         "is_white": 0,
         "mntlill_no": 1,
         "mntlill_yes": 0,
         "rural": 0,
         "55-64": 0,
         "65+": 0,
         "_deepnote_index_column": 3469
        },
        {
         "age": 65,
         "body_camera": 0,
         "is_transgender": 0,
         "was_allegedly_armed": 1,
         "was_unarmed": 0,
         "was_vehicle": 0,
         "was_mental_health_welfare_check": 0,
         "was_violent_crime_part_1": 0,
         "is_hispanic": 0,
         "is_white": 0,
         "mntlill_no": 0,
         "mntlill_yes": 1,
         "rural": 1,
         "55-64": 0,
         "65+": 1,
         "_deepnote_index_column": 2441
        },
        {
         "age": 46,
         "body_camera": 0,
         "is_transgender": 0,
         "was_allegedly_armed": 1,
         "was_unarmed": 0,
         "was_vehicle": 0,
         "was_mental_health_welfare_check": 0,
         "was_violent_crime_part_1": 0,
         "is_hispanic": 1,
         "is_white": 0,
         "mntlill_no": 1,
         "mntlill_yes": 0,
         "rural": 0,
         "55-64": 0,
         "65+": 0,
         "_deepnote_index_column": 3298
        },
        {
         "age": 54,
         "body_camera": 0,
         "is_transgender": 0,
         "was_allegedly_armed": 1,
         "was_unarmed": 0,
         "was_vehicle": 0,
         "was_mental_health_welfare_check": 0,
         "was_violent_crime_part_1": 0,
         "is_hispanic": 0,
         "is_white": 1,
         "mntlill_no": 1,
         "mntlill_yes": 0,
         "rural": 0,
         "55-64": 0,
         "65+": 0,
         "_deepnote_index_column": 930
        },
        {
         "age": 64,
         "body_camera": 0,
         "is_transgender": 0,
         "was_allegedly_armed": 1,
         "was_unarmed": 0,
         "was_vehicle": 0,
         "was_mental_health_welfare_check": 1,
         "was_violent_crime_part_1": 0,
         "is_hispanic": 0,
         "is_white": 1,
         "mntlill_no": 0,
         "mntlill_yes": 1,
         "rural": 1,
         "55-64": 1,
         "65+": 0,
         "_deepnote_index_column": 2588
        },
        {
         "age": 39,
         "body_camera": 0,
         "is_transgender": 0,
         "was_allegedly_armed": 1,
         "was_unarmed": 0,
         "was_vehicle": 0,
         "was_mental_health_welfare_check": 0,
         "was_violent_crime_part_1": 0,
         "is_hispanic": 0,
         "is_white": 1,
         "mntlill_no": 1,
         "mntlill_yes": 0,
         "rural": 0,
         "55-64": 0,
         "65+": 0,
         "_deepnote_index_column": 180
        },
        {
         "age": 23,
         "body_camera": 0,
         "is_transgender": 0,
         "was_allegedly_armed": 0,
         "was_unarmed": 0,
         "was_vehicle": 0,
         "was_mental_health_welfare_check": 0,
         "was_violent_crime_part_1": 1,
         "is_hispanic": 0,
         "is_white": 1,
         "mntlill_no": 0,
         "mntlill_yes": 0,
         "rural": 0,
         "55-64": 0,
         "65+": 0,
         "_deepnote_index_column": 4587
        },
        {
         "age": 31,
         "body_camera": 0,
         "is_transgender": 0,
         "was_allegedly_armed": 0,
         "was_unarmed": 0,
         "was_vehicle": 1,
         "was_mental_health_welfare_check": 0,
         "was_violent_crime_part_1": 0,
         "is_hispanic": 0,
         "is_white": 0,
         "mntlill_no": 1,
         "mntlill_yes": 0,
         "rural": 0,
         "55-64": 0,
         "65+": 0,
         "_deepnote_index_column": 1523
        },
        {
         "age": 17,
         "body_camera": 0,
         "is_transgender": 0,
         "was_allegedly_armed": 1,
         "was_unarmed": 0,
         "was_vehicle": 0,
         "was_mental_health_welfare_check": 0,
         "was_violent_crime_part_1": 1,
         "is_hispanic": 0,
         "is_white": 1,
         "mntlill_no": 1,
         "mntlill_yes": 0,
         "rural": 0,
         "55-64": 0,
         "65+": 0,
         "_deepnote_index_column": 6184
        },
        {
         "age": 27,
         "body_camera": 0,
         "is_transgender": 0,
         "was_allegedly_armed": 0,
         "was_unarmed": 1,
         "was_vehicle": 0,
         "was_mental_health_welfare_check": 0,
         "was_violent_crime_part_1": 1,
         "is_hispanic": 0,
         "is_white": 1,
         "mntlill_no": 0,
         "mntlill_yes": 1,
         "rural": 0,
         "55-64": 0,
         "65+": 0,
         "_deepnote_index_column": 5126
        },
        {
         "age": 29,
         "body_camera": 0,
         "is_transgender": 0,
         "was_allegedly_armed": 1,
         "was_unarmed": 0,
         "was_vehicle": 0,
         "was_mental_health_welfare_check": 0,
         "was_violent_crime_part_1": 1,
         "is_hispanic": 1,
         "is_white": 0,
         "mntlill_no": 1,
         "mntlill_yes": 0,
         "rural": 0,
         "55-64": 0,
         "65+": 0,
         "_deepnote_index_column": 3155
        },
        {
         "age": 29,
         "body_camera": 0,
         "is_transgender": 0,
         "was_allegedly_armed": 0,
         "was_unarmed": 0,
         "was_vehicle": 0,
         "was_mental_health_welfare_check": 0,
         "was_violent_crime_part_1": 0,
         "is_hispanic": 0,
         "is_white": 1,
         "mntlill_no": 0,
         "mntlill_yes": 0,
         "rural": 0,
         "55-64": 0,
         "65+": 0,
         "_deepnote_index_column": 116
        },
        {
         "age": 35,
         "body_camera": 0,
         "is_transgender": 0,
         "was_allegedly_armed": 0,
         "was_unarmed": 0,
         "was_vehicle": 1,
         "was_mental_health_welfare_check": 0,
         "was_violent_crime_part_1": 0,
         "is_hispanic": 0,
         "is_white": 1,
         "mntlill_no": 1,
         "mntlill_yes": 0,
         "rural": 0,
         "55-64": 0,
         "65+": 0,
         "_deepnote_index_column": 618
        },
        {
         "age": 29,
         "body_camera": 0,
         "is_transgender": 0,
         "was_allegedly_armed": 1,
         "was_unarmed": 0,
         "was_vehicle": 0,
         "was_mental_health_welfare_check": 0,
         "was_violent_crime_part_1": 0,
         "is_hispanic": 0,
         "is_white": 0,
         "mntlill_no": 1,
         "mntlill_yes": 0,
         "rural": 0,
         "55-64": 0,
         "65+": 0,
         "_deepnote_index_column": 2206
        },
        {
         "age": 46,
         "body_camera": 0,
         "is_transgender": 0,
         "was_allegedly_armed": 1,
         "was_unarmed": 0,
         "was_vehicle": 0,
         "was_mental_health_welfare_check": 0,
         "was_violent_crime_part_1": 0,
         "is_hispanic": 0,
         "is_white": 1,
         "mntlill_no": 1,
         "mntlill_yes": 0,
         "rural": 1,
         "55-64": 0,
         "65+": 0,
         "_deepnote_index_column": 1775
        },
        {
         "age": 72,
         "body_camera": 0,
         "is_transgender": 0,
         "was_allegedly_armed": 1,
         "was_unarmed": 0,
         "was_vehicle": 0,
         "was_mental_health_welfare_check": 0,
         "was_violent_crime_part_1": 1,
         "is_hispanic": 0,
         "is_white": 1,
         "mntlill_no": 0,
         "mntlill_yes": 1,
         "rural": 1,
         "55-64": 0,
         "65+": 1,
         "_deepnote_index_column": 5985
        },
        {
         "age": 31,
         "body_camera": 1,
         "is_transgender": 0,
         "was_allegedly_armed": 1,
         "was_unarmed": 0,
         "was_vehicle": 0,
         "was_mental_health_welfare_check": 0,
         "was_violent_crime_part_1": 1,
         "is_hispanic": 0,
         "is_white": 0,
         "mntlill_no": 0,
         "mntlill_yes": 0,
         "rural": 0,
         "55-64": 0,
         "65+": 0,
         "_deepnote_index_column": 4386
        },
        {
         "age": 36,
         "body_camera": 0,
         "is_transgender": 0,
         "was_allegedly_armed": 0,
         "was_unarmed": 0,
         "was_vehicle": 1,
         "was_mental_health_welfare_check": 0,
         "was_violent_crime_part_1": 1,
         "is_hispanic": 0,
         "is_white": 1,
         "mntlill_no": 1,
         "mntlill_yes": 0,
         "rural": 1,
         "55-64": 0,
         "65+": 0,
         "_deepnote_index_column": 4471
        },
        {
         "age": 25,
         "body_camera": 0,
         "is_transgender": 0,
         "was_allegedly_armed": 1,
         "was_unarmed": 0,
         "was_vehicle": 0,
         "was_mental_health_welfare_check": 0,
         "was_violent_crime_part_1": 1,
         "is_hispanic": 0,
         "is_white": 0,
         "mntlill_no": 1,
         "mntlill_yes": 0,
         "rural": 0,
         "55-64": 0,
         "65+": 0,
         "_deepnote_index_column": 5473
        },
        {
         "age": 24,
         "body_camera": 0,
         "is_transgender": 0,
         "was_allegedly_armed": 0,
         "was_unarmed": 0,
         "was_vehicle": 1,
         "was_mental_health_welfare_check": 0,
         "was_violent_crime_part_1": 0,
         "is_hispanic": 1,
         "is_white": 0,
         "mntlill_no": 1,
         "mntlill_yes": 0,
         "rural": 0,
         "55-64": 0,
         "65+": 0,
         "_deepnote_index_column": 1280
        },
        {
         "age": 17,
         "body_camera": 1,
         "is_transgender": 0,
         "was_allegedly_armed": 1,
         "was_unarmed": 0,
         "was_vehicle": 0,
         "was_mental_health_welfare_check": 0,
         "was_violent_crime_part_1": 1,
         "is_hispanic": 1,
         "is_white": 0,
         "mntlill_no": 1,
         "mntlill_yes": 0,
         "rural": 0,
         "55-64": 0,
         "65+": 0,
         "_deepnote_index_column": 588
        },
        {
         "age": 30,
         "body_camera": 0,
         "is_transgender": 0,
         "was_allegedly_armed": 1,
         "was_unarmed": 0,
         "was_vehicle": 0,
         "was_mental_health_welfare_check": 0,
         "was_violent_crime_part_1": 1,
         "is_hispanic": 1,
         "is_white": 0,
         "mntlill_no": 1,
         "mntlill_yes": 0,
         "rural": 0,
         "55-64": 0,
         "65+": 0,
         "_deepnote_index_column": 5705
        },
        {
         "age": 28,
         "body_camera": 0,
         "is_transgender": 0,
         "was_allegedly_armed": 0,
         "was_unarmed": 0,
         "was_vehicle": 1,
         "was_mental_health_welfare_check": 0,
         "was_violent_crime_part_1": 1,
         "is_hispanic": 0,
         "is_white": 0,
         "mntlill_no": 0,
         "mntlill_yes": 1,
         "rural": 0,
         "55-64": 0,
         "65+": 0,
         "_deepnote_index_column": 4041
        },
        {
         "age": 38,
         "body_camera": 0,
         "is_transgender": 0,
         "was_allegedly_armed": 0,
         "was_unarmed": 1,
         "was_vehicle": 0,
         "was_mental_health_welfare_check": 0,
         "was_violent_crime_part_1": 1,
         "is_hispanic": 0,
         "is_white": 1,
         "mntlill_no": 1,
         "mntlill_yes": 0,
         "rural": 0,
         "55-64": 0,
         "65+": 0,
         "_deepnote_index_column": 4886
        },
        {
         "age": 49,
         "body_camera": 0,
         "is_transgender": 0,
         "was_allegedly_armed": 0,
         "was_unarmed": 1,
         "was_vehicle": 0,
         "was_mental_health_welfare_check": 0,
         "was_violent_crime_part_1": 1,
         "is_hispanic": 0,
         "is_white": 1,
         "mntlill_no": 0,
         "mntlill_yes": 0,
         "rural": 0,
         "55-64": 0,
         "65+": 0,
         "_deepnote_index_column": 4242
        },
        {
         "age": 53,
         "body_camera": 0,
         "is_transgender": 0,
         "was_allegedly_armed": 1,
         "was_unarmed": 0,
         "was_vehicle": 0,
         "was_mental_health_welfare_check": 0,
         "was_violent_crime_part_1": 1,
         "is_hispanic": 0,
         "is_white": 1,
         "mntlill_no": 0,
         "mntlill_yes": 1,
         "rural": 0,
         "55-64": 0,
         "65+": 0,
         "_deepnote_index_column": 5708
        }
       ]
      },
      "text/plain": "      age  body_camera  is_transgender  was_allegedly_armed  was_unarmed  \\\n4142   47          1.0               0                  1.0          0.0   \n3650   24          0.0               0                  1.0          0.0   \n5846   45          0.0               0                  1.0          0.0   \n3588   37          0.0               0                  1.0          0.0   \n744    62          0.0               0                  1.0          0.0   \n...   ...          ...             ...                  ...          ...   \n5705   30          0.0               0                  1.0          0.0   \n4041   28          0.0               0                  0.0          0.0   \n4886   38          0.0               0                  0.0          1.0   \n4242   49          0.0               0                  0.0          1.0   \n5708   53          0.0               0                  1.0          0.0   \n\n      was_vehicle  was_mental_health_welfare_check  was_violent_crime_part_1  \\\n4142          0.0                                0                         1   \n3650          0.0                                0                         0   \n5846          0.0                                0                         1   \n3588          0.0                                0                         1   \n744           0.0                                0                         0   \n...           ...                              ...                       ...   \n5705          0.0                                0                         1   \n4041          1.0                                0                         1   \n4886          0.0                                0                         1   \n4242          0.0                                0                         1   \n5708          0.0                                0                         1   \n\n      is_hispanic  is_white  mntlill_no  mntlill_yes  rural  55-64  65+  \n4142            0         0           1            0    0.0      0    0  \n3650            0         1           1            0    1.0      0    0  \n5846            0         1           1            0    0.0      0    0  \n3588            0         0           1            0    0.0      0    0  \n744             0         0           0            0    0.0      1    0  \n...           ...       ...         ...          ...    ...    ...  ...  \n5705            1         0           1            0    0.0      0    0  \n4041            0         0           0            1    0.0      0    0  \n4886            0         1           1            0    0.0      0    0  \n4242            0         1           0            0    0.0      0    0  \n5708            0         1           0            1    0.0      0    0  \n\n[3508 rows x 15 columns]",
      "text/html": "<div>\n<style scoped>\n    .dataframe tbody tr th:only-of-type {\n        vertical-align: middle;\n    }\n\n    .dataframe tbody tr th {\n        vertical-align: top;\n    }\n\n    .dataframe thead th {\n        text-align: right;\n    }\n</style>\n<table border=\"1\" class=\"dataframe\">\n  <thead>\n    <tr style=\"text-align: right;\">\n      <th></th>\n      <th>age</th>\n      <th>body_camera</th>\n      <th>is_transgender</th>\n      <th>was_allegedly_armed</th>\n      <th>was_unarmed</th>\n      <th>was_vehicle</th>\n      <th>was_mental_health_welfare_check</th>\n      <th>was_violent_crime_part_1</th>\n      <th>is_hispanic</th>\n      <th>is_white</th>\n      <th>mntlill_no</th>\n      <th>mntlill_yes</th>\n      <th>rural</th>\n      <th>55-64</th>\n      <th>65+</th>\n    </tr>\n  </thead>\n  <tbody>\n    <tr>\n      <th>4142</th>\n      <td>47</td>\n      <td>1.0</td>\n      <td>0</td>\n      <td>1.0</td>\n      <td>0.0</td>\n      <td>0.0</td>\n      <td>0</td>\n      <td>1</td>\n      <td>0</td>\n      <td>0</td>\n      <td>1</td>\n      <td>0</td>\n      <td>0.0</td>\n      <td>0</td>\n      <td>0</td>\n    </tr>\n    <tr>\n      <th>3650</th>\n      <td>24</td>\n      <td>0.0</td>\n      <td>0</td>\n      <td>1.0</td>\n      <td>0.0</td>\n      <td>0.0</td>\n      <td>0</td>\n      <td>0</td>\n      <td>0</td>\n      <td>1</td>\n      <td>1</td>\n      <td>0</td>\n      <td>1.0</td>\n      <td>0</td>\n      <td>0</td>\n    </tr>\n    <tr>\n      <th>5846</th>\n      <td>45</td>\n      <td>0.0</td>\n      <td>0</td>\n      <td>1.0</td>\n      <td>0.0</td>\n      <td>0.0</td>\n      <td>0</td>\n      <td>1</td>\n      <td>0</td>\n      <td>1</td>\n      <td>1</td>\n      <td>0</td>\n      <td>0.0</td>\n      <td>0</td>\n      <td>0</td>\n    </tr>\n    <tr>\n      <th>3588</th>\n      <td>37</td>\n      <td>0.0</td>\n      <td>0</td>\n      <td>1.0</td>\n      <td>0.0</td>\n      <td>0.0</td>\n      <td>0</td>\n      <td>1</td>\n      <td>0</td>\n      <td>0</td>\n      <td>1</td>\n      <td>0</td>\n      <td>0.0</td>\n      <td>0</td>\n      <td>0</td>\n    </tr>\n    <tr>\n      <th>744</th>\n      <td>62</td>\n      <td>0.0</td>\n      <td>0</td>\n      <td>1.0</td>\n      <td>0.0</td>\n      <td>0.0</td>\n      <td>0</td>\n      <td>0</td>\n      <td>0</td>\n      <td>0</td>\n      <td>0</td>\n      <td>0</td>\n      <td>0.0</td>\n      <td>1</td>\n      <td>0</td>\n    </tr>\n    <tr>\n      <th>...</th>\n      <td>...</td>\n      <td>...</td>\n      <td>...</td>\n      <td>...</td>\n      <td>...</td>\n      <td>...</td>\n      <td>...</td>\n      <td>...</td>\n      <td>...</td>\n      <td>...</td>\n      <td>...</td>\n      <td>...</td>\n      <td>...</td>\n      <td>...</td>\n      <td>...</td>\n    </tr>\n    <tr>\n      <th>5705</th>\n      <td>30</td>\n      <td>0.0</td>\n      <td>0</td>\n      <td>1.0</td>\n      <td>0.0</td>\n      <td>0.0</td>\n      <td>0</td>\n      <td>1</td>\n      <td>1</td>\n      <td>0</td>\n      <td>1</td>\n      <td>0</td>\n      <td>0.0</td>\n      <td>0</td>\n      <td>0</td>\n    </tr>\n    <tr>\n      <th>4041</th>\n      <td>28</td>\n      <td>0.0</td>\n      <td>0</td>\n      <td>0.0</td>\n      <td>0.0</td>\n      <td>1.0</td>\n      <td>0</td>\n      <td>1</td>\n      <td>0</td>\n      <td>0</td>\n      <td>0</td>\n      <td>1</td>\n      <td>0.0</td>\n      <td>0</td>\n      <td>0</td>\n    </tr>\n    <tr>\n      <th>4886</th>\n      <td>38</td>\n      <td>0.0</td>\n      <td>0</td>\n      <td>0.0</td>\n      <td>1.0</td>\n      <td>0.0</td>\n      <td>0</td>\n      <td>1</td>\n      <td>0</td>\n      <td>1</td>\n      <td>1</td>\n      <td>0</td>\n      <td>0.0</td>\n      <td>0</td>\n      <td>0</td>\n    </tr>\n    <tr>\n      <th>4242</th>\n      <td>49</td>\n      <td>0.0</td>\n      <td>0</td>\n      <td>0.0</td>\n      <td>1.0</td>\n      <td>0.0</td>\n      <td>0</td>\n      <td>1</td>\n      <td>0</td>\n      <td>1</td>\n      <td>0</td>\n      <td>0</td>\n      <td>0.0</td>\n      <td>0</td>\n      <td>0</td>\n    </tr>\n    <tr>\n      <th>5708</th>\n      <td>53</td>\n      <td>0.0</td>\n      <td>0</td>\n      <td>1.0</td>\n      <td>0.0</td>\n      <td>0.0</td>\n      <td>0</td>\n      <td>1</td>\n      <td>0</td>\n      <td>1</td>\n      <td>0</td>\n      <td>1</td>\n      <td>0.0</td>\n      <td>0</td>\n      <td>0</td>\n    </tr>\n  </tbody>\n</table>\n<p>3508 rows × 15 columns</p>\n</div>"
     },
     "metadata": {}
    }
   ],
   "execution_count": null
  },
  {
   "cell_type": "code",
   "metadata": {
    "tags": [],
    "cell_id": "00028-aa323faf-f504-4482-9ede-3324036a4baf",
    "deepnote_to_be_reexecuted": false,
    "source_hash": "a5d8ceeb",
    "execution_start": 1622219525880,
    "execution_millis": 26,
    "deepnote_cell_type": "code"
   },
   "source": "# Create KNN object (thing)\n# weights = ['uniform', 'density']\nknn = KNeighborsClassifier(n_neighbors=5, weights='uniform')\n# fit the model (thing)\nknn.fit(train[f_feature], y_train)",
   "outputs": [
    {
     "output_type": "execute_result",
     "execution_count": 34,
     "data": {
      "text/plain": "KNeighborsClassifier()"
     },
     "metadata": {}
    }
   ],
   "execution_count": null
  },
  {
   "cell_type": "code",
   "metadata": {
    "tags": [],
    "cell_id": "00030-95a27823-1b51-4ed0-90e4-24e510355733",
    "deepnote_to_be_reexecuted": false,
    "source_hash": "c6cb09d",
    "execution_start": 1622219525942,
    "execution_millis": 376,
    "deepnote_cell_type": "code"
   },
   "source": "# Use the model (thing)\n# Select k Best features\nget_metrics(knn, train[f_feature], y_train)",
   "outputs": [
    {
     "name": "stdout",
     "text": "\n    BASELINE accuracy is: 32.21%\n    The accuracy for our model is: 73.63170% \n    \n",
     "output_type": "stream"
    },
    {
     "output_type": "execute_result",
     "execution_count": 35,
     "data": {
      "text/plain": "(array([[ 414,  716],\n        [ 209, 2169]]),\n                      0            1\n precision     0.664526     0.751820\n recall        0.366372     0.912111\n f1-score      0.472333     0.824245\n support    1130.000000  2378.000000)"
     },
     "metadata": {}
    }
   ],
   "execution_count": null
  },
  {
   "cell_type": "code",
   "metadata": {
    "tags": [],
    "cell_id": "00032-233b71c5-3606-439d-979b-5d112dd87474",
    "deepnote_to_be_reexecuted": false,
    "source_hash": "9c2ffda0",
    "execution_start": 1622219526329,
    "execution_millis": 38,
    "deepnote_cell_type": "code"
   },
   "source": "# Create KNN object (thing)\n# weights = ['uniform', 'density']\nknn = KNeighborsClassifier(n_neighbors=5, weights='uniform')\n# fit the model (thing)\nknn.fit(train[rfe_list], y_train)",
   "outputs": [
    {
     "output_type": "execute_result",
     "execution_count": 36,
     "data": {
      "text/plain": "KNeighborsClassifier()"
     },
     "metadata": {}
    }
   ],
   "execution_count": null
  },
  {
   "cell_type": "code",
   "metadata": {
    "tags": [],
    "cell_id": "00029-b2603416-7d07-4649-a0a5-68f944b914c6",
    "deepnote_to_be_reexecuted": false,
    "source_hash": "ceb27fc7",
    "execution_start": 1622219526358,
    "execution_millis": 825,
    "deepnote_cell_type": "code"
   },
   "source": "# Use the model (thing)\n# Select k Best features\nget_metrics(knn, train[rfe_list], y_train)",
   "outputs": [
    {
     "name": "stdout",
     "text": "\n    BASELINE accuracy is: 32.21%\n    The accuracy for our model is: 68.01596% \n    \n",
     "output_type": "stream"
    },
    {
     "output_type": "execute_result",
     "execution_count": 37,
     "data": {
      "text/plain": "(array([[ 372,  758],\n        [ 364, 2014]]),\n                      0            1\n precision     0.505435     0.726551\n recall        0.329204     0.846930\n f1-score      0.398714     0.782136\n support    1130.000000  2378.000000)"
     },
     "metadata": {}
    }
   ],
   "execution_count": null
  },
  {
   "cell_type": "code",
   "metadata": {
    "tags": [],
    "cell_id": "00034-748213d3-a405-42d9-bc2e-9496ee51b8a1",
    "deepnote_to_be_reexecuted": false,
    "source_hash": "41aab748",
    "execution_start": 1622219527188,
    "execution_millis": 8,
    "deepnote_cell_type": "code"
   },
   "source": "# Create KNN object (thing)\n# weights = ['uniform', 'density']\nknn = KNeighborsClassifier(n_neighbors=5, weights='uniform')\n# fit the model (thing)\nknn.fit(train[combo_feats], y_train)",
   "outputs": [
    {
     "output_type": "execute_result",
     "execution_count": 38,
     "data": {
      "text/plain": "KNeighborsClassifier()"
     },
     "metadata": {}
    }
   ],
   "execution_count": null
  },
  {
   "cell_type": "code",
   "metadata": {
    "tags": [],
    "cell_id": "00035-74b4dfb4-9474-4237-869c-0f986b11ccef",
    "deepnote_to_be_reexecuted": false,
    "source_hash": "a1efc99e",
    "execution_start": 1622219527211,
    "execution_millis": 1230,
    "deepnote_cell_type": "code"
   },
   "source": "# Use the model (thing)\n# Select k Best features\nget_metrics(knn, train[combo_feats], y_train)",
   "outputs": [
    {
     "name": "stdout",
     "text": "\n    BASELINE accuracy is: 32.21%\n    The accuracy for our model is: 74.57241% \n    \n",
     "output_type": "stream"
    },
    {
     "output_type": "execute_result",
     "execution_count": 39,
     "data": {
      "text/plain": "(array([[ 432,  698],\n        [ 194, 2184]]),\n                      0            1\n precision     0.690096     0.757807\n recall        0.382301     0.918419\n f1-score      0.492027     0.830418\n support    1130.000000  2378.000000)"
     },
     "metadata": {}
    }
   ],
   "execution_count": null
  },
  {
   "cell_type": "markdown",
   "source": "## Validate",
   "metadata": {
    "tags": [],
    "cell_id": "00034-a3db0725-6416-4961-b6c8-bd35a35100d1",
    "deepnote_cell_type": "markdown"
   }
  },
  {
   "cell_type": "code",
   "metadata": {
    "tags": [],
    "cell_id": "00038-a8fb922f-b35d-4db8-a15f-a512278fdfb8",
    "deepnote_to_be_reexecuted": false,
    "source_hash": "a5d8ceeb",
    "execution_start": 1622219528418,
    "execution_millis": 28,
    "deepnote_cell_type": "code"
   },
   "source": "# Create KNN object (thing)\n# weights = ['uniform', 'density']\nknn = KNeighborsClassifier(n_neighbors=5, weights='uniform')\n# fit the model (thing)\nknn.fit(train[f_feature], y_train)",
   "outputs": [
    {
     "output_type": "execute_result",
     "execution_count": 40,
     "data": {
      "text/plain": "KNeighborsClassifier()"
     },
     "metadata": {}
    }
   ],
   "execution_count": null
  },
  {
   "cell_type": "code",
   "metadata": {
    "tags": [],
    "cell_id": "00031-99b28b0f-ba29-407f-9680-df91ab53a171",
    "deepnote_to_be_reexecuted": false,
    "source_hash": "a576bb5c",
    "execution_start": 1622219528431,
    "execution_millis": 201,
    "deepnote_cell_type": "code"
   },
   "source": "# Use the model (thing)\n# Select k Best features\nget_metrics(knn, validate[f_feature], y_validate)",
   "outputs": [
    {
     "name": "stdout",
     "text": "\n    BASELINE accuracy is: 32.21%\n    The accuracy for our model is: 63.49734% \n    \n",
     "output_type": "stream"
    },
    {
     "output_type": "execute_result",
     "execution_count": 41,
     "data": {
      "text/plain": "(array([[112, 388],\n        [161, 843]]),\n                     0            1\n precision    0.410256     0.684809\n recall       0.224000     0.839641\n f1-score     0.289780     0.754362\n support    500.000000  1004.000000)"
     },
     "metadata": {}
    }
   ],
   "execution_count": null
  },
  {
   "cell_type": "code",
   "metadata": {
    "tags": [],
    "cell_id": "00039-07a289a2-eae1-43e7-b5e9-60ec870e96fa",
    "deepnote_to_be_reexecuted": false,
    "source_hash": "9c2ffda0",
    "execution_start": 1622219528635,
    "execution_millis": 49,
    "deepnote_cell_type": "code"
   },
   "source": "# Create KNN object (thing)\n# weights = ['uniform', 'density']\nknn = KNeighborsClassifier(n_neighbors=5, weights='uniform')\n# fit the model (thing)\nknn.fit(train[rfe_list], y_train)",
   "outputs": [
    {
     "output_type": "execute_result",
     "execution_count": 42,
     "data": {
      "text/plain": "KNeighborsClassifier()"
     },
     "metadata": {}
    }
   ],
   "execution_count": null
  },
  {
   "cell_type": "code",
   "metadata": {
    "tags": [],
    "cell_id": "00033-66db8a23-2fbe-4205-82f6-22e987c4d43e",
    "deepnote_to_be_reexecuted": false,
    "source_hash": "b8f27c5c",
    "execution_start": 1622219528723,
    "execution_millis": 313,
    "deepnote_cell_type": "code"
   },
   "source": "# Use the model (thing)\n# Select k Best features\nget_metrics(knn, validate[rfe_list], y_validate)",
   "outputs": [
    {
     "name": "stdout",
     "text": "\n    BASELINE accuracy is: 32.21%\n    The accuracy for our model is: 65.09309% \n    \n",
     "output_type": "stream"
    },
    {
     "output_type": "execute_result",
     "execution_count": 43,
     "data": {
      "text/plain": "(array([[151, 349],\n        [176, 828]]),\n                     0            1\n precision    0.461774     0.703483\n recall       0.302000     0.824701\n f1-score     0.365175     0.759285\n support    500.000000  1004.000000)"
     },
     "metadata": {}
    }
   ],
   "execution_count": null
  },
  {
   "cell_type": "code",
   "metadata": {
    "tags": [],
    "cell_id": "00040-8767e880-05de-44b4-b605-9b84a00f3784",
    "deepnote_to_be_reexecuted": false,
    "source_hash": "41aab748",
    "execution_start": 1622219529042,
    "execution_millis": 19,
    "deepnote_cell_type": "code"
   },
   "source": "# Create KNN object (thing)\n# weights = ['uniform', 'density']\nknn = KNeighborsClassifier(n_neighbors=5, weights='uniform')\n# fit the model (thing)\nknn.fit(train[combo_feats], y_train)",
   "outputs": [
    {
     "output_type": "execute_result",
     "execution_count": 44,
     "data": {
      "text/plain": "KNeighborsClassifier()"
     },
     "metadata": {}
    }
   ],
   "execution_count": null
  },
  {
   "cell_type": "code",
   "metadata": {
    "tags": [],
    "cell_id": "00040-9545f1fa-27ed-4109-bfe8-8d604ca9a499",
    "deepnote_to_be_reexecuted": false,
    "source_hash": "b8a9b08c",
    "execution_start": 1622219529057,
    "execution_millis": 607,
    "deepnote_cell_type": "code"
   },
   "source": "# Use the model (thing)\n# Select k Best features\nget_metrics(knn, validate[combo_feats], y_validate)",
   "outputs": [
    {
     "name": "stdout",
     "text": "\n    BASELINE accuracy is: 32.21%\n    The accuracy for our model is: 63.69681% \n    \n",
     "output_type": "stream"
    },
    {
     "output_type": "execute_result",
     "execution_count": 45,
     "data": {
      "text/plain": "(array([[ 96, 404],\n        [142, 862]]),\n                     0            1\n precision    0.403361     0.680885\n recall       0.192000     0.858566\n f1-score     0.260163     0.759471\n support    500.000000  1004.000000)"
     },
     "metadata": {}
    }
   ],
   "execution_count": null
  },
  {
   "cell_type": "markdown",
   "source": "Modeling\n\nCreate a Baseline Model:",
   "metadata": {
    "tags": [],
    "deepnote_to_be_reexecuted": false,
    "source_hash": "897280cf",
    "execution_start": 1621898463294,
    "execution_millis": 13,
    "cell_id": "00025-2bba09a5-5607-465e-98d9-c5a3eb5e88e2",
    "deepnote_cell_type": "markdown"
   }
  },
  {
   "cell_type": "code",
   "metadata": {
    "tags": [],
    "deepnote_to_be_reexecuted": false,
    "source_hash": "fa46ff5a",
    "execution_start": 1622219529671,
    "execution_millis": 40,
    "cell_id": "00026-a050b572-fc89-4430-b21d-9fbc3d06dd1b",
    "deepnote_cell_type": "code"
   },
   "source": "y_train = pd.DataFrame(y_train)\n\ny_train.alleged_threat_lvl.value_counts()\n",
   "outputs": [
    {
     "output_type": "execute_result",
     "execution_count": 46,
     "data": {
      "text/plain": "1.0    2378\n0.0    1130\nName: alleged_threat_lvl, dtype: int64"
     },
     "metadata": {}
    }
   ],
   "execution_count": null
  },
  {
   "cell_type": "code",
   "metadata": {
    "tags": [],
    "deepnote_to_be_reexecuted": false,
    "source_hash": "71519740",
    "execution_start": 1622219529681,
    "execution_millis": 30,
    "cell_id": "00027-88f4d7c8-d014-4bca-b369-731cf1af624e",
    "deepnote_cell_type": "code"
   },
   "source": "baseline = 0\nbaseline_accuracy = round((y_train.alleged_threat_lvl == baseline).mean(),4)\nbaseline_accuracy\nprint(f'Baseline accuracy is {baseline_accuracy}')",
   "outputs": [
    {
     "name": "stdout",
     "text": "Baseline accuracy is 0.3221\n",
     "output_type": "stream"
    }
   ],
   "execution_count": null
  },
  {
   "cell_type": "markdown",
   "source": "\n\n\nRandom Forest ",
   "metadata": {
    "tags": [],
    "cell_id": "00028-7f754c81-a5e8-4025-92d1-d132840121ef",
    "deepnote_cell_type": "markdown"
   }
  },
  {
   "cell_type": "code",
   "metadata": {
    "tags": [],
    "deepnote_to_be_reexecuted": false,
    "source_hash": "5fe20fb4",
    "execution_start": 1622219529687,
    "execution_millis": 3,
    "cell_id": "00029-10955e2a-f79a-4ff8-8ab2-87eab64f5c18",
    "deepnote_cell_type": "code"
   },
   "source": "from sklearn.ensemble import RandomForestClassifier\nfrom sklearn.metrics import classification_report\nfrom sklearn.metrics import confusion_matrix\n\n# create the model \nrf = RandomForestClassifier(bootstrap=True, \n                            class_weight=None, \n                            criterion='gini',\n                            min_samples_leaf=3,\n                            n_estimators=100,\n                            max_depth=3, \n                            random_state=123)\n\n",
   "outputs": [],
   "execution_count": null
  },
  {
   "cell_type": "code",
   "metadata": {
    "tags": [],
    "deepnote_to_be_reexecuted": false,
    "source_hash": "35f21c7",
    "execution_start": 1622219529700,
    "execution_millis": 277,
    "cell_id": "00030-26624120-5f1f-4106-a4e6-29afaa563836",
    "deepnote_cell_type": "code"
   },
   "source": "# fit the model\nrf.fit(train2, y_train)\n\n\n# Find feature importance\nprint(rf.feature_importances_)\n\n",
   "outputs": [
    {
     "name": "stderr",
     "text": "/shared-libs/python3.7/py-core/lib/python3.7/site-packages/ipykernel_launcher.py:2: DataConversionWarning: A column-vector y was passed when a 1d array was expected. Please change the shape of y to (n_samples,), for example using ravel().\n  \n[0.050445   0.01960306 0.00967701 0.01014124 0.00338965 0.01179578\n 0.         0.3205173  0.11711505 0.02289323 0.01052646 0.01436981\n 0.00565214 0.00289052 0.04990279 0.00851644 0.00911022 0.03896344\n 0.00765382 0.00150679 0.01994885 0.00543419 0.03424818 0.00883928\n 0.02465709 0.01966089 0.00950413 0.00555056 0.10846197 0.00418416\n 0.         0.00383472 0.0061636  0.00351938 0.00665933 0.00326851\n 0.00672891 0.0146665 ]\n",
     "output_type": "stream"
    }
   ],
   "execution_count": null
  },
  {
   "cell_type": "code",
   "metadata": {
    "tags": [],
    "deepnote_to_be_reexecuted": false,
    "source_hash": "b18318e7",
    "execution_start": 1622219530014,
    "execution_millis": 10,
    "cell_id": "00031-89797a61-993b-47ef-8be3-931d415825a8",
    "deepnote_cell_type": "code"
   },
   "source": "train2.columns",
   "outputs": [
    {
     "output_type": "execute_result",
     "execution_count": 50,
     "data": {
      "text/plain": "Index(['age', 'body_camera', 'is_female', 'is_male', 'is_transgender',\n       'was_fleeing', 'was_not fleeing ', 'was_allegedly_armed', 'was_unarmed',\n       'was_vehicle', 'was_domestic_disturbance',\n       'was_mental_health_welfare_check', 'was_person_with_a_weapon',\n       'was_traffic_stop', 'was_violent_crime_part_1',\n       'is_asian/pacific islander', 'is_black', 'is_hispanic',\n       'is_native american', 'is_unknown race', 'is_white',\n       'mntlill_drug or alcohol use', 'mntlill_no', 'mntlill_unknown',\n       'mntlill_yes', 'rural', 'suburban', 'urban', 'cod_lethal', 'unknown',\n       'under 12', '12-17', '18-24', '25-34', '35-44', '45-54', '55-64',\n       '65+'],\n      dtype='object')"
     },
     "metadata": {}
    }
   ],
   "execution_count": null
  },
  {
   "cell_type": "code",
   "metadata": {
    "tags": [],
    "deepnote_to_be_reexecuted": false,
    "source_hash": "9330a7f8",
    "execution_start": 1622219530015,
    "execution_millis": 128,
    "cell_id": "00032-1a33962a-4b36-4666-b31b-32f0aea26fd0",
    "deepnote_cell_type": "code"
   },
   "source": "# make predictions\ny_pred = rf.predict(train2)\n\n# estimate probability\ny_pred_proba = rf.predict_proba(train2)\n\n\n#Compute accuracy\ntrain_accuracy = round(rf.score(train2, y_train),2)\nprint('Accuracy of random forest classifier on training set: {:.2f}'\n     .format(rf.score(train2, y_train)))\n",
   "outputs": [
    {
     "name": "stdout",
     "text": "Accuracy of random forest classifier on training set: 0.69\n",
     "output_type": "stream"
    }
   ],
   "execution_count": null
  },
  {
   "cell_type": "code",
   "metadata": {
    "tags": [],
    "deepnote_to_be_reexecuted": false,
    "source_hash": "571ca5f9",
    "execution_start": 1622219530188,
    "execution_millis": 7,
    "cell_id": "00033-512ace69-d497-42d2-9e54-1b26c1fb5623",
    "deepnote_cell_type": "code"
   },
   "source": "# run classification report\nprint(classification_report(y_train, y_pred))",
   "outputs": [
    {
     "name": "stdout",
     "text": "              precision    recall  f1-score   support\n\n         0.0       0.89      0.03      0.06      1130\n         1.0       0.68      1.00      0.81      2378\n\n    accuracy                           0.69      3508\n   macro avg       0.79      0.51      0.44      3508\nweighted avg       0.75      0.69      0.57      3508\n\n",
     "output_type": "stream"
    }
   ],
   "execution_count": null
  },
  {
   "cell_type": "code",
   "metadata": {
    "tags": [],
    "deepnote_to_be_reexecuted": false,
    "source_hash": "3a14f657",
    "execution_start": 1622219530188,
    "execution_millis": 310,
    "cell_id": "00034-e62f2db6-7a95-447d-95e9-a05dd285a58a",
    "deepnote_cell_type": "code"
   },
   "source": "# fit the model on validate\nrf.fit(validate2, y_validate)\n\n# make predictions\ny_pred_val = rf.predict(validate2)\n\n# estimate probability\ny_pred_val_proba = rf.predict_proba(validate2)\n\n#Compute accuracy\nvalidate_accuracy = round(rf.score(validate2, y_validate),2)\nprint('Accuracy of random forest classifier on validate set: {:.2f}'\n     .format(rf.score(validate2, y_validate)))\n",
   "outputs": [
    {
     "name": "stdout",
     "text": "Accuracy of random forest classifier on validate set: 0.68\n",
     "output_type": "stream"
    }
   ],
   "execution_count": null
  },
  {
   "cell_type": "code",
   "metadata": {
    "tags": [],
    "deepnote_to_be_reexecuted": false,
    "source_hash": "bb080a19",
    "execution_start": 1622219530488,
    "execution_millis": 43,
    "cell_id": "00035-412126f1-8802-452c-8d22-464545e303eb",
    "deepnote_cell_type": "code"
   },
   "source": "# run classification report on validate\nprint(classification_report(y_validate, y_pred_val))",
   "outputs": [
    {
     "name": "stdout",
     "text": "              precision    recall  f1-score   support\n\n         0.0       0.91      0.06      0.11       500\n         1.0       0.68      1.00      0.81      1004\n\n    accuracy                           0.68      1504\n   macro avg       0.79      0.53      0.46      1504\nweighted avg       0.76      0.68      0.58      1504\n\n",
     "output_type": "stream"
    }
   ],
   "execution_count": null
  },
  {
   "cell_type": "code",
   "metadata": {
    "tags": [],
    "deepnote_to_be_reexecuted": false,
    "source_hash": "a5201d0f",
    "execution_start": 1622219530556,
    "execution_millis": 0,
    "cell_id": "00036-6afcc622-102e-4c74-87c0-74db0607f186",
    "deepnote_cell_type": "code"
   },
   "source": "def get_metrics_bin(clf, X, y):\n    '''\n    get_metrics_bin will take in a sklearn classifier model, an X and a y variable and utilize\n    the model to make a prediction and then gather accuracy, class report evaluations\n\n    return:  a classification report as a pandas DataFrame\n    '''\n    y_pred = clf.predict(X)\n    accuracy = clf.score(X, y)\n    conf = confusion_matrix(y, y_pred)\n    class_report = pd.DataFrame(classification_report(y, y_pred, output_dict=True)).T\n    tpr = conf[1][1] / conf[1].sum()\n    fpr = conf[0][1] / conf[0].sum()\n    tnr = conf[0][0] / conf[0].sum()\n    fnr = conf[1][0] / conf[1].sum()\n    print(f'''\n    The accuracy for our model is {accuracy:.4}\n    The True Positive Rate is {tpr:.3}, The False Positive Rate is {fpr:.3},\n    The True Negative Rate is {tnr:.3}, and the False Negative Rate is {fnr:.3}\n    ''')\n    return class_report",
   "outputs": [],
   "execution_count": null
  },
  {
   "cell_type": "code",
   "metadata": {
    "tags": [],
    "deepnote_to_be_reexecuted": false,
    "source_hash": "c1f85ee1",
    "execution_start": 1622219530556,
    "execution_millis": 1,
    "cell_id": "00037-526e2563-b4a3-4245-a13e-a61dd55c123d",
    "deepnote_cell_type": "code"
   },
   "source": "# X = validate2\n# clf = RandomForestClassifier\n# print('Model #1: min samples 3, max depth 3')\n# class_report_val = get_metrics_bin(clf, validate2, y_validate)\n# # print('-------------------------------------------\\n Model #2: min samples 3, max_depth 3\\n')\n# # class_report_val1 = get_metrics_bin(clf1, X_val, y_val)",
   "outputs": [],
   "execution_count": null
  },
  {
   "cell_type": "markdown",
   "source": "### Takeaways on Random Forest Classifier Model (max depth 3):\n\nBaseline accuracy = 51% <br>\nAccuracy on Train = 70% <br>\nAccuracy on Validate = 72%",
   "metadata": {
    "tags": [],
    "deepnote_to_be_reexecuted": false,
    "source_hash": "bb95de7",
    "execution_start": 1621894512751,
    "execution_millis": 11,
    "cell_id": "00038-41af8be3-b038-4893-8047-668874701a25",
    "deepnote_cell_type": "markdown"
   }
  },
  {
   "cell_type": "code",
   "metadata": {
    "tags": [],
    "deepnote_to_be_reexecuted": false,
    "source_hash": "2e7e6100",
    "execution_start": 1622219530557,
    "execution_millis": 57,
    "cell_id": "00039-76217e26-3ef8-4b2a-b0a6-41f5daa55926",
    "deepnote_cell_type": "code"
   },
   "source": "\n#begin building a dataframe to record accuracy\nmetric_df = pd.DataFrame(data=[{\n    'model': 'random forest', \n    'baseline_accuracy': round(baseline_accuracy,2),\n    'train_accuracy': round(train_accuracy, 2),\n    'validate_accuracy': round(validate_accuracy, 2)}])\nmetric_df",
   "outputs": [
    {
     "output_type": "execute_result",
     "execution_count": 57,
     "data": {
      "application/vnd.deepnote.dataframe.v2+json": {
       "row_count": 1,
       "column_count": 4,
       "columns": [
        {
         "name": "model",
         "dtype": "object",
         "stats": {
          "unique_count": 1,
          "nan_count": 0,
          "categories": [
           {
            "name": "random forest",
            "count": 1
           }
          ]
         }
        },
        {
         "name": "baseline_accuracy",
         "dtype": "float64",
         "stats": {
          "unique_count": 1,
          "nan_count": 0,
          "min": "0.32",
          "max": "0.32",
          "histogram": [
           {
            "bin_start": -0.18,
            "bin_end": -0.07999999999999999,
            "count": 0
           },
           {
            "bin_start": -0.07999999999999999,
            "bin_end": 0.020000000000000018,
            "count": 0
           },
           {
            "bin_start": 0.020000000000000018,
            "bin_end": 0.12000000000000005,
            "count": 0
           },
           {
            "bin_start": 0.12000000000000005,
            "bin_end": 0.22000000000000003,
            "count": 0
           },
           {
            "bin_start": 0.22000000000000003,
            "bin_end": 0.32,
            "count": 0
           },
           {
            "bin_start": 0.32,
            "bin_end": 0.4200000000000001,
            "count": 1
           },
           {
            "bin_start": 0.4200000000000001,
            "bin_end": 0.52,
            "count": 0
           },
           {
            "bin_start": 0.52,
            "bin_end": 0.6200000000000001,
            "count": 0
           },
           {
            "bin_start": 0.6200000000000001,
            "bin_end": 0.72,
            "count": 0
           },
           {
            "bin_start": 0.72,
            "bin_end": 0.8200000000000001,
            "count": 0
           }
          ]
         }
        },
        {
         "name": "train_accuracy",
         "dtype": "float64",
         "stats": {
          "unique_count": 1,
          "nan_count": 0,
          "min": "0.69",
          "max": "0.69",
          "histogram": [
           {
            "bin_start": 0.18999999999999995,
            "bin_end": 0.2899999999999999,
            "count": 0
           },
           {
            "bin_start": 0.2899999999999999,
            "bin_end": 0.38999999999999996,
            "count": 0
           },
           {
            "bin_start": 0.38999999999999996,
            "bin_end": 0.49,
            "count": 0
           },
           {
            "bin_start": 0.49,
            "bin_end": 0.59,
            "count": 0
           },
           {
            "bin_start": 0.59,
            "bin_end": 0.69,
            "count": 0
           },
           {
            "bin_start": 0.69,
            "bin_end": 0.79,
            "count": 1
           },
           {
            "bin_start": 0.79,
            "bin_end": 0.89,
            "count": 0
           },
           {
            "bin_start": 0.89,
            "bin_end": 0.99,
            "count": 0
           },
           {
            "bin_start": 0.99,
            "bin_end": 1.0899999999999999,
            "count": 0
           },
           {
            "bin_start": 1.0899999999999999,
            "bin_end": 1.19,
            "count": 0
           }
          ]
         }
        },
        {
         "name": "validate_accuracy",
         "dtype": "float64",
         "stats": {
          "unique_count": 1,
          "nan_count": 0,
          "min": "0.68",
          "max": "0.68",
          "histogram": [
           {
            "bin_start": 0.18000000000000005,
            "bin_end": 0.28,
            "count": 0
           },
           {
            "bin_start": 0.28,
            "bin_end": 0.38000000000000006,
            "count": 0
           },
           {
            "bin_start": 0.38000000000000006,
            "bin_end": 0.4800000000000001,
            "count": 0
           },
           {
            "bin_start": 0.4800000000000001,
            "bin_end": 0.5800000000000001,
            "count": 0
           },
           {
            "bin_start": 0.5800000000000001,
            "bin_end": 0.68,
            "count": 0
           },
           {
            "bin_start": 0.68,
            "bin_end": 0.7800000000000001,
            "count": 1
           },
           {
            "bin_start": 0.7800000000000001,
            "bin_end": 0.8800000000000001,
            "count": 0
           },
           {
            "bin_start": 0.8800000000000001,
            "bin_end": 0.9800000000000001,
            "count": 0
           },
           {
            "bin_start": 0.9800000000000001,
            "bin_end": 1.08,
            "count": 0
           },
           {
            "bin_start": 1.08,
            "bin_end": 1.1800000000000002,
            "count": 0
           }
          ]
         }
        },
        {
         "name": "_deepnote_index_column",
         "dtype": "int64"
        }
       ],
       "rows_top": [
        {
         "model": "random forest",
         "baseline_accuracy": 0.32,
         "train_accuracy": 0.69,
         "validate_accuracy": 0.68,
         "_deepnote_index_column": 0
        }
       ],
       "rows_bottom": null
      },
      "text/plain": "           model  baseline_accuracy  train_accuracy  validate_accuracy\n0  random forest               0.32            0.69               0.68",
      "text/html": "<div>\n<style scoped>\n    .dataframe tbody tr th:only-of-type {\n        vertical-align: middle;\n    }\n\n    .dataframe tbody tr th {\n        vertical-align: top;\n    }\n\n    .dataframe thead th {\n        text-align: right;\n    }\n</style>\n<table border=\"1\" class=\"dataframe\">\n  <thead>\n    <tr style=\"text-align: right;\">\n      <th></th>\n      <th>model</th>\n      <th>baseline_accuracy</th>\n      <th>train_accuracy</th>\n      <th>validate_accuracy</th>\n    </tr>\n  </thead>\n  <tbody>\n    <tr>\n      <th>0</th>\n      <td>random forest</td>\n      <td>0.32</td>\n      <td>0.69</td>\n      <td>0.68</td>\n    </tr>\n  </tbody>\n</table>\n</div>"
     },
     "metadata": {}
    }
   ],
   "execution_count": null
  },
  {
   "cell_type": "code",
   "source": "",
   "metadata": {
    "deepnote_to_be_reexecuted": false,
    "source_hash": "b623e53d",
    "execution_start": 1622219530563,
    "execution_millis": 2,
    "cell_id": "00040-b4806d13-ea2b-43a3-bd36-76f75f2718c6",
    "deepnote_cell_type": "visualization"
   },
   "outputs": [],
   "execution_count": null
  },
  {
   "cell_type": "markdown",
   "source": "### Naive Bayes\nNaïve Bayes Classifier is one of the simple and most effective Classification algorithms which helps in building fast machine learning models that can make quick predictions. It is a probabilistic classifier, which means it predicts on the basis of the probability of an object. It's biggest limitation is that it implicitly assumes that all the attributes are mutually independent. (In real life, it's almost impossible that we get a set of predictors that are completely independent or one another.)",
   "metadata": {
    "tags": [],
    "deepnote_to_be_reexecuted": false,
    "source_hash": "99d3384f",
    "execution_start": 1621900322718,
    "execution_millis": 7,
    "cell_id": "00041-d4b0a8da-50b0-4f10-8aeb-a29f89f098b7",
    "deepnote_cell_type": "markdown"
   }
  },
  {
   "cell_type": "code",
   "metadata": {
    "tags": [],
    "deepnote_to_be_reexecuted": false,
    "source_hash": "fe51bc76",
    "execution_start": 1622219530565,
    "execution_millis": 49,
    "cell_id": "00042-f6a7a786-96a9-4c8f-a366-cf4b51b1418f",
    "deepnote_cell_type": "code"
   },
   "source": "from sklearn.naive_bayes import CategoricalNB\n\n# make the model\nclassifier = CategoricalNB()\n\n# fit the model\nclassifier.fit(train2, y_train)",
   "outputs": [
    {
     "name": "stderr",
     "text": "/shared-libs/python3.7/py/lib/python3.7/site-packages/sklearn/utils/validation.py:63: DataConversionWarning: A column-vector y was passed when a 1d array was expected. Please change the shape of y to (n_samples, ), for example using ravel().\n  return f(*args, **kwargs)\n",
     "output_type": "stream"
    },
    {
     "output_type": "execute_result",
     "execution_count": 58,
     "data": {
      "text/plain": "CategoricalNB()"
     },
     "metadata": {}
    }
   ],
   "execution_count": null
  },
  {
   "cell_type": "code",
   "metadata": {
    "tags": [],
    "deepnote_to_be_reexecuted": false,
    "source_hash": "d060bbf9",
    "execution_start": 1622219570598,
    "execution_millis": 1,
    "cell_id": "00043-b32ad41a-bed7-4a41-80ba-4046157b692f",
    "deepnote_cell_type": "code"
   },
   "source": "# make predictions on train\nnb_y_pred  =  classifier.predict(train2)\n\n# make predictions on validate\nnb_y_val_pred  =  classifier.predict(train2)",
   "outputs": [],
   "execution_count": null
  },
  {
   "cell_type": "code",
   "metadata": {
    "tags": [],
    "deepnote_to_be_reexecuted": false,
    "source_hash": "20ca0f84",
    "execution_start": 1622219586274,
    "execution_millis": 8,
    "cell_id": "00044-8a63ff16-8ff2-4982-b445-4e8927c9411a",
    "deepnote_cell_type": "code"
   },
   "source": "# evaluate model on train\nfrom sklearn.metrics import confusion_matrix,accuracy_score\ncm_train = confusion_matrix(y_train, nb_y_pred)\nac_train = accuracy_score(y_train,nb_y_pred)",
   "outputs": [],
   "execution_count": null
  },
  {
   "cell_type": "code",
   "metadata": {
    "tags": [],
    "deepnote_to_be_reexecuted": false,
    "source_hash": "85adb028",
    "execution_start": 1622219586311,
    "execution_millis": 13,
    "cell_id": "00045-88cebdb3-4ebb-425a-9d38-6fcaed2dd1b5",
    "deepnote_cell_type": "code"
   },
   "source": "# evaluate model on validate\ncm_validate = confusion_matrix(y_validate, nb_y_val_pred)\nac_validate = accuracy_score(y_validate,nb_y_val_pred)",
   "outputs": [
    {
     "output_type": "error",
     "ename": "ValueError",
     "evalue": "Found input variables with inconsistent numbers of samples: [1504, 3508]",
     "traceback": [
      "\u001b[0;31m---------------------------------------------------------------------------\u001b[0m",
      "\u001b[0;31mValueError\u001b[0m                                Traceback (most recent call last)",
      "\u001b[0;32m<ipython-input-62-d47dfeb2f4f2>\u001b[0m in \u001b[0;36m<module>\u001b[0;34m\u001b[0m\n\u001b[1;32m      1\u001b[0m \u001b[0;31m# evaluate model on validate\u001b[0m\u001b[0;34m\u001b[0m\u001b[0;34m\u001b[0m\u001b[0;34m\u001b[0m\u001b[0m\n\u001b[0;32m----> 2\u001b[0;31m \u001b[0mcm_validate\u001b[0m \u001b[0;34m=\u001b[0m \u001b[0mconfusion_matrix\u001b[0m\u001b[0;34m(\u001b[0m\u001b[0my_validate\u001b[0m\u001b[0;34m,\u001b[0m \u001b[0mnb_y_val_pred\u001b[0m\u001b[0;34m)\u001b[0m\u001b[0;34m\u001b[0m\u001b[0;34m\u001b[0m\u001b[0m\n\u001b[0m\u001b[1;32m      3\u001b[0m \u001b[0mac_validate\u001b[0m \u001b[0;34m=\u001b[0m \u001b[0maccuracy_score\u001b[0m\u001b[0;34m(\u001b[0m\u001b[0my_validate\u001b[0m\u001b[0;34m,\u001b[0m\u001b[0mnb_y_val_pred\u001b[0m\u001b[0;34m)\u001b[0m\u001b[0;34m\u001b[0m\u001b[0;34m\u001b[0m\u001b[0m\n",
      "\u001b[0;32m/shared-libs/python3.7/py/lib/python3.7/site-packages/sklearn/utils/validation.py\u001b[0m in \u001b[0;36minner_f\u001b[0;34m(*args, **kwargs)\u001b[0m\n\u001b[1;32m     61\u001b[0m             \u001b[0mextra_args\u001b[0m \u001b[0;34m=\u001b[0m \u001b[0mlen\u001b[0m\u001b[0;34m(\u001b[0m\u001b[0margs\u001b[0m\u001b[0;34m)\u001b[0m \u001b[0;34m-\u001b[0m \u001b[0mlen\u001b[0m\u001b[0;34m(\u001b[0m\u001b[0mall_args\u001b[0m\u001b[0;34m)\u001b[0m\u001b[0;34m\u001b[0m\u001b[0;34m\u001b[0m\u001b[0m\n\u001b[1;32m     62\u001b[0m             \u001b[0;32mif\u001b[0m \u001b[0mextra_args\u001b[0m \u001b[0;34m<=\u001b[0m \u001b[0;36m0\u001b[0m\u001b[0;34m:\u001b[0m\u001b[0;34m\u001b[0m\u001b[0;34m\u001b[0m\u001b[0m\n\u001b[0;32m---> 63\u001b[0;31m                 \u001b[0;32mreturn\u001b[0m \u001b[0mf\u001b[0m\u001b[0;34m(\u001b[0m\u001b[0;34m*\u001b[0m\u001b[0margs\u001b[0m\u001b[0;34m,\u001b[0m \u001b[0;34m**\u001b[0m\u001b[0mkwargs\u001b[0m\u001b[0;34m)\u001b[0m\u001b[0;34m\u001b[0m\u001b[0;34m\u001b[0m\u001b[0m\n\u001b[0m\u001b[1;32m     64\u001b[0m \u001b[0;34m\u001b[0m\u001b[0m\n\u001b[1;32m     65\u001b[0m             \u001b[0;31m# extra_args > 0\u001b[0m\u001b[0;34m\u001b[0m\u001b[0;34m\u001b[0m\u001b[0;34m\u001b[0m\u001b[0m\n",
      "\u001b[0;32m/shared-libs/python3.7/py/lib/python3.7/site-packages/sklearn/metrics/_classification.py\u001b[0m in \u001b[0;36mconfusion_matrix\u001b[0;34m(y_true, y_pred, labels, sample_weight, normalize)\u001b[0m\n\u001b[1;32m    297\u001b[0m \u001b[0;34m\u001b[0m\u001b[0m\n\u001b[1;32m    298\u001b[0m     \"\"\"\n\u001b[0;32m--> 299\u001b[0;31m     \u001b[0my_type\u001b[0m\u001b[0;34m,\u001b[0m \u001b[0my_true\u001b[0m\u001b[0;34m,\u001b[0m \u001b[0my_pred\u001b[0m \u001b[0;34m=\u001b[0m \u001b[0m_check_targets\u001b[0m\u001b[0;34m(\u001b[0m\u001b[0my_true\u001b[0m\u001b[0;34m,\u001b[0m \u001b[0my_pred\u001b[0m\u001b[0;34m)\u001b[0m\u001b[0;34m\u001b[0m\u001b[0;34m\u001b[0m\u001b[0m\n\u001b[0m\u001b[1;32m    300\u001b[0m     \u001b[0;32mif\u001b[0m \u001b[0my_type\u001b[0m \u001b[0;32mnot\u001b[0m \u001b[0;32min\u001b[0m \u001b[0;34m(\u001b[0m\u001b[0;34m\"binary\"\u001b[0m\u001b[0;34m,\u001b[0m \u001b[0;34m\"multiclass\"\u001b[0m\u001b[0;34m)\u001b[0m\u001b[0;34m:\u001b[0m\u001b[0;34m\u001b[0m\u001b[0;34m\u001b[0m\u001b[0m\n\u001b[1;32m    301\u001b[0m         \u001b[0;32mraise\u001b[0m \u001b[0mValueError\u001b[0m\u001b[0;34m(\u001b[0m\u001b[0;34m\"%s is not supported\"\u001b[0m \u001b[0;34m%\u001b[0m \u001b[0my_type\u001b[0m\u001b[0;34m)\u001b[0m\u001b[0;34m\u001b[0m\u001b[0;34m\u001b[0m\u001b[0m\n",
      "\u001b[0;32m/shared-libs/python3.7/py/lib/python3.7/site-packages/sklearn/metrics/_classification.py\u001b[0m in \u001b[0;36m_check_targets\u001b[0;34m(y_true, y_pred)\u001b[0m\n\u001b[1;32m     81\u001b[0m     \u001b[0my_pred\u001b[0m \u001b[0;34m:\u001b[0m \u001b[0marray\u001b[0m \u001b[0;32mor\u001b[0m \u001b[0mindicator\u001b[0m \u001b[0mmatrix\u001b[0m\u001b[0;34m\u001b[0m\u001b[0;34m\u001b[0m\u001b[0m\n\u001b[1;32m     82\u001b[0m     \"\"\"\n\u001b[0;32m---> 83\u001b[0;31m     \u001b[0mcheck_consistent_length\u001b[0m\u001b[0;34m(\u001b[0m\u001b[0my_true\u001b[0m\u001b[0;34m,\u001b[0m \u001b[0my_pred\u001b[0m\u001b[0;34m)\u001b[0m\u001b[0;34m\u001b[0m\u001b[0;34m\u001b[0m\u001b[0m\n\u001b[0m\u001b[1;32m     84\u001b[0m     \u001b[0mtype_true\u001b[0m \u001b[0;34m=\u001b[0m \u001b[0mtype_of_target\u001b[0m\u001b[0;34m(\u001b[0m\u001b[0my_true\u001b[0m\u001b[0;34m)\u001b[0m\u001b[0;34m\u001b[0m\u001b[0;34m\u001b[0m\u001b[0m\n\u001b[1;32m     85\u001b[0m     \u001b[0mtype_pred\u001b[0m \u001b[0;34m=\u001b[0m \u001b[0mtype_of_target\u001b[0m\u001b[0;34m(\u001b[0m\u001b[0my_pred\u001b[0m\u001b[0;34m)\u001b[0m\u001b[0;34m\u001b[0m\u001b[0;34m\u001b[0m\u001b[0m\n",
      "\u001b[0;32m/shared-libs/python3.7/py/lib/python3.7/site-packages/sklearn/utils/validation.py\u001b[0m in \u001b[0;36mcheck_consistent_length\u001b[0;34m(*arrays)\u001b[0m\n\u001b[1;32m    318\u001b[0m     \u001b[0;32mif\u001b[0m \u001b[0mlen\u001b[0m\u001b[0;34m(\u001b[0m\u001b[0muniques\u001b[0m\u001b[0;34m)\u001b[0m \u001b[0;34m>\u001b[0m \u001b[0;36m1\u001b[0m\u001b[0;34m:\u001b[0m\u001b[0;34m\u001b[0m\u001b[0;34m\u001b[0m\u001b[0m\n\u001b[1;32m    319\u001b[0m         raise ValueError(\"Found input variables with inconsistent numbers of\"\n\u001b[0;32m--> 320\u001b[0;31m                          \" samples: %r\" % [int(l) for l in lengths])\n\u001b[0m\u001b[1;32m    321\u001b[0m \u001b[0;34m\u001b[0m\u001b[0m\n\u001b[1;32m    322\u001b[0m \u001b[0;34m\u001b[0m\u001b[0m\n",
      "\u001b[0;31mValueError\u001b[0m: Found input variables with inconsistent numbers of samples: [1504, 3508]"
     ]
    }
   ],
   "execution_count": null
  },
  {
   "cell_type": "code",
   "metadata": {
    "tags": [],
    "deepnote_to_be_reexecuted": true,
    "source_hash": "98109a86",
    "execution_start": 1621959116386,
    "execution_millis": 12,
    "cell_id": "00046-eb03a713-a501-4cf3-b489-07e5fa0fd4c4",
    "deepnote_cell_type": "code"
   },
   "source": "print('Accuracy of Naive Bayes Gaussian Classifier on train set: {:.2f}'.format(ac_train))\nprint('Accuracy of Naive Bayes Gaussian Classifier on validate set: {:.2f}'.format(ac_validate))",
   "execution_count": null,
   "outputs": [
    {
     "name": "stdout",
     "text": "Accuracy of Naive Bayes Gaussian Classifier on train set: 0.70\nAccuracy of Naive Bayes Gaussian Classifier on validate set: 0.68\n",
     "output_type": "stream"
    }
   ]
  },
  {
   "cell_type": "markdown",
   "source": "### Takeaways on Naive Bayes Model:\nBaseline accuracy = 51% <br>\nAccuracy on Train = 70% <br>\nAccuracy on Validate = 68%",
   "metadata": {
    "tags": [],
    "deepnote_to_be_reexecuted": false,
    "source_hash": "94e0f3ab",
    "execution_start": 1621902072354,
    "execution_millis": 7,
    "cell_id": "00047-da806f9f-3c41-4c69-a32a-528f3c4e4ff9",
    "deepnote_cell_type": "markdown"
   }
  },
  {
   "cell_type": "markdown",
   "source": "### Dataframe Summarizing Models",
   "metadata": {
    "tags": [],
    "cell_id": "00048-cd67932f-0b1e-4d59-a31f-7c38a45b2e07",
    "deepnote_cell_type": "markdown"
   }
  },
  {
   "cell_type": "code",
   "metadata": {
    "tags": [],
    "deepnote_to_be_reexecuted": false,
    "source_hash": "bce38aaf",
    "execution_start": 1622219641931,
    "execution_millis": 71,
    "cell_id": "00049-190e8d14-d4aa-4316-a53c-db466db2d4a9",
    "deepnote_cell_type": "code"
   },
   "source": "# append dataframe to record accuracy on Naive Bayes\nmetric_df = metric_df.append({\n    'model': 'naive bayes', \n    'baseline_accuracy': round(baseline_accuracy,2),\n    'train_accuracy': round(ac_train, 2),\n    'validate_accuracy':round(ac_validate,2)}, ignore_index=True)\n  \n\n\nmetric_df",
   "outputs": [
    {
     "output_type": "error",
     "ename": "NameError",
     "evalue": "name 'ac_validate' is not defined",
     "traceback": [
      "\u001b[0;31m---------------------------------------------------------------------------\u001b[0m",
      "\u001b[0;31mNameError\u001b[0m                                 Traceback (most recent call last)",
      "\u001b[0;32m<ipython-input-63-ed059d4c7d0a>\u001b[0m in \u001b[0;36m<module>\u001b[0;34m\u001b[0m\n\u001b[1;32m      4\u001b[0m     \u001b[0;34m'baseline_accuracy'\u001b[0m\u001b[0;34m:\u001b[0m \u001b[0mround\u001b[0m\u001b[0;34m(\u001b[0m\u001b[0mbaseline_accuracy\u001b[0m\u001b[0;34m,\u001b[0m\u001b[0;36m2\u001b[0m\u001b[0;34m)\u001b[0m\u001b[0;34m,\u001b[0m\u001b[0;34m\u001b[0m\u001b[0;34m\u001b[0m\u001b[0m\n\u001b[1;32m      5\u001b[0m     \u001b[0;34m'train_accuracy'\u001b[0m\u001b[0;34m:\u001b[0m \u001b[0mround\u001b[0m\u001b[0;34m(\u001b[0m\u001b[0mac_train\u001b[0m\u001b[0;34m,\u001b[0m \u001b[0;36m2\u001b[0m\u001b[0;34m)\u001b[0m\u001b[0;34m,\u001b[0m\u001b[0;34m\u001b[0m\u001b[0;34m\u001b[0m\u001b[0m\n\u001b[0;32m----> 6\u001b[0;31m     'validate_accuracy':round(ac_validate,2)}, ignore_index=True)\n\u001b[0m\u001b[1;32m      7\u001b[0m \u001b[0;34m\u001b[0m\u001b[0m\n\u001b[1;32m      8\u001b[0m \u001b[0;34m\u001b[0m\u001b[0m\n",
      "\u001b[0;31mNameError\u001b[0m: name 'ac_validate' is not defined"
     ]
    }
   ],
   "execution_count": null
  },
  {
   "cell_type": "markdown",
   "source": "",
   "metadata": {
    "tags": [],
    "cell_id": "00050-22fd67cc-04a4-44a9-9175-90d0d452f03e",
    "deepnote_cell_type": "markdown"
   }
  },
  {
   "cell_type": "markdown",
   "source": "### GridSearchCV",
   "metadata": {
    "tags": [],
    "cell_id": "00051-6fedd8f8-d956-4a42-b143-d18f5125ebe3",
    "deepnote_cell_type": "markdown"
   }
  },
  {
   "cell_type": "code",
   "metadata": {
    "tags": [],
    "deepnote_to_be_reexecuted": false,
    "source_hash": "2264946b",
    "execution_start": 1622219656122,
    "execution_millis": 2,
    "cell_id": "00052-bd7fdfc2-fcf6-4483-91d1-87bc041849e6",
    "deepnote_cell_type": "code"
   },
   "source": "# ignore warnings\nimport warnings\nwarnings.filterwarnings(\"ignore\")\nfrom sklearn.model_selection import RandomizedSearchCV, GridSearchCV\nfrom scipy.stats import uniform",
   "outputs": [],
   "execution_count": null
  },
  {
   "cell_type": "code",
   "metadata": {
    "tags": [],
    "deepnote_to_be_reexecuted": false,
    "source_hash": "cd3ac985",
    "execution_start": 1622219656134,
    "execution_millis": 57783,
    "is_output_hidden": true,
    "cell_id": "00053-dcf2e61e-301a-44f6-ba95-c9059ec30b58",
    "deepnote_cell_type": "code"
   },
   "source": "# Create a parameter dictionary for the model, {'parameter': [list of settings]}\nparameters = [\n    {\n    'alpha': [0.0001, 0.001, 0.01, 0.1, 1],\n    'shuffle': [True, False],\n    'verbose': [0, 1, 5, 10],\n    'class_weight': [None, 'balanced'],\n    },\n]\n# Created variable model which holds the KNN model\nmodel = SGDClassifier()\n# Create grid_search model, looking at recall\ngrid_search = GridSearchCV(model,\n                           param_grid=parameters,\n                           scoring='accuracy',\n                           )\n# Create variable r that hold the FIT grid_search\nr = grid_search.fit(X_train[f_feature], y_train)\nscores = r.cv_results_\nlm = r.best_estimator_",
   "outputs": [
    {
     "name": "stdout",
     "text": "Total training time: 0.09 seconds.\n-- Epoch 53\nNorm: 0.10, NNZs: 15, Bias: -0.125269, T: 148718, Avg. loss: 0.819600\nTotal training time: 0.09 seconds.\n-- Epoch 54\nNorm: 0.10, NNZs: 15, Bias: -0.125528, T: 151524, Avg. loss: 0.819508\nTotal training time: 0.09 seconds.\n-- Epoch 55\nNorm: 0.10, NNZs: 15, Bias: -0.125788, T: 154330, Avg. loss: 0.818130\nTotal training time: 0.09 seconds.\n-- Epoch 56\nNorm: 0.10, NNZs: 15, Bias: -0.126042, T: 157136, Avg. loss: 0.818861\nTotal training time: 0.09 seconds.\n-- Epoch 57\nNorm: 0.10, NNZs: 15, Bias: -0.126288, T: 159942, Avg. loss: 0.817866\nTotal training time: 0.09 seconds.\n-- Epoch 58\nNorm: 0.10, NNZs: 15, Bias: -0.126534, T: 162748, Avg. loss: 0.817812\nTotal training time: 0.09 seconds.\n-- Epoch 59\nNorm: 0.10, NNZs: 15, Bias: -0.126771, T: 165554, Avg. loss: 0.816871\nTotal training time: 0.10 seconds.\n-- Epoch 60\nNorm: 0.10, NNZs: 15, Bias: -0.127008, T: 168360, Avg. loss: 0.816839\nTotal training time: 0.10 seconds.\nConvergence after 60 epochs took 0.10 seconds\n-- Epoch 1\nNorm: 0.07, NNZs: 15, Bias: -0.052884, T: 2807, Avg. loss: 2.108890\nTotal training time: 0.00 seconds.\n-- Epoch 2\nNorm: 0.08, NNZs: 15, Bias: -0.063973, T: 5614, Avg. loss: 1.032008\nTotal training time: 0.00 seconds.\n-- Epoch 3\nNorm: 0.08, NNZs: 15, Bias: -0.069909, T: 8421, Avg. loss: 1.004881\nTotal training time: 0.00 seconds.\n-- Epoch 4\nNorm: 0.09, NNZs: 15, Bias: -0.074234, T: 11228, Avg. loss: 0.992520\nTotal training time: 0.00 seconds.\n-- Epoch 5\nNorm: 0.09, NNZs: 15, Bias: -0.077656, T: 14035, Avg. loss: 0.981505\nTotal training time: 0.00 seconds.\n-- Epoch 6\nNorm: 0.09, NNZs: 15, Bias: -0.080561, T: 16842, Avg. loss: 0.966092\nTotal training time: 0.00 seconds.\n-- Epoch 7\nNorm: 0.09, NNZs: 15, Bias: -0.082987, T: 19649, Avg. loss: 0.962252\nTotal training time: 0.00 seconds.\n-- Epoch 8\nNorm: 0.09, NNZs: 15, Bias: -0.085024, T: 22456, Avg. loss: 0.963264\nTotal training time: 0.00 seconds.\n-- Epoch 9\nNorm: 0.09, NNZs: 15, Bias: -0.086853, T: 25263, Avg. loss: 0.961146\nTotal training time: 0.00 seconds.\n-- Epoch 10\nNorm: 0.09, NNZs: 15, Bias: -0.088464, T: 28070, Avg. loss: 0.964769\nTotal training time: 0.01 seconds.\n-- Epoch 11\nNorm: 0.10, NNZs: 15, Bias: -0.089825, T: 30877, Avg. loss: 0.977749\nTotal training time: 0.01 seconds.\n-- Epoch 12\nNorm: 0.10, NNZs: 15, Bias: -0.091137, T: 33684, Avg. loss: 0.961657\nTotal training time: 0.01 seconds.\n-- Epoch 13\nNorm: 0.10, NNZs: 15, Bias: -0.092281, T: 36491, Avg. loss: 0.963397\nTotal training time: 0.01 seconds.\n-- Epoch 14\nNorm: 0.10, NNZs: 15, Bias: -0.093300, T: 39298, Avg. loss: 0.950812\nTotal training time: 0.07 seconds.\n-- Epoch 15\nNorm: 0.10, NNZs: 15, Bias: -0.094250, T: 42105, Avg. loss: 0.941338\nTotal training time: 0.07 seconds.\n-- Epoch 16\nNorm: 0.10, NNZs: 15, Bias: -0.095138, T: 44912, Avg. loss: 0.933189\nTotal training time: 0.07 seconds.\n-- Epoch 17\nNorm: 0.10, NNZs: 15, Bias: -0.095959, T: 47719, Avg. loss: 0.928722\nTotal training time: 0.07 seconds.\n-- Epoch 18\nNorm: 0.10, NNZs: 15, Bias: -0.096734, T: 50526, Avg. loss: 0.920626\nTotal training time: 0.07 seconds.\n-- Epoch 19\nNorm: 0.10, NNZs: 15, Bias: -0.097452, T: 53333, Avg. loss: 0.913398\nTotal training time: 0.07 seconds.\n-- Epoch 20\nNorm: 0.10, NNZs: 15, Bias: -0.098148, T: 56140, Avg. loss: 0.901125\nTotal training time: 0.07 seconds.\n-- Epoch 21\nNorm: 0.10, NNZs: 15, Bias: -0.098810, T: 58947, Avg. loss: 0.897356\nTotal training time: 0.07 seconds.\n-- Epoch 22\nNorm: 0.10, NNZs: 15, Bias: -0.099429, T: 61754, Avg. loss: 0.888733\nTotal training time: 0.07 seconds.\n-- Epoch 23\nNorm: 0.10, NNZs: 15, Bias: -0.100032, T: 64561, Avg. loss: 0.883176\nTotal training time: 0.07 seconds.\n-- Epoch 24\nNorm: 0.10, NNZs: 15, Bias: -0.100609, T: 67368, Avg. loss: 0.876489\nTotal training time: 0.07 seconds.\n-- Epoch 25\nNorm: 0.10, NNZs: 15, Bias: -0.101153, T: 70175, Avg. loss: 0.876269\nTotal training time: 0.07 seconds.\n-- Epoch 26\nNorm: 0.10, NNZs: 15, Bias: -0.101675, T: 72982, Avg. loss: 0.871419\nTotal training time: 0.08 seconds.\n-- Epoch 27\nNorm: 0.10, NNZs: 15, Bias: -0.102178, T: 75789, Avg. loss: 0.866802\nTotal training time: 0.08 seconds.\n-- Epoch 28\nNorm: 0.10, NNZs: 15, Bias: -0.102663, T: 78596, Avg. loss: 0.862836\nTotal training time: 0.08 seconds.\n-- Epoch 29\nNorm: 0.10, NNZs: 15, Bias: -0.103130, T: 81403, Avg. loss: 0.858019\nTotal training time: 0.08 seconds.\n-- Epoch 30\nNorm: 0.10, NNZs: 15, Bias: -0.103573, T: 84210, Avg. loss: 0.857252\nTotal training time: 0.08 seconds.\n-- Epoch 31\nNorm: 0.10, NNZs: 15, Bias: -0.104010, T: 87017, Avg. loss: 0.854282\nTotal training time: 0.08 seconds.\n-- Epoch 32\nNorm: 0.10, NNZs: 15, Bias: -0.104425, T: 89824, Avg. loss: 0.852420\nTotal training time: 0.08 seconds.\n-- Epoch 33\nNorm: 0.10, NNZs: 15, Bias: -0.104836, T: 92631, Avg. loss: 0.849081\nTotal training time: 0.08 seconds.\n-- Epoch 34\nNorm: 0.10, NNZs: 15, Bias: -0.105226, T: 95438, Avg. loss: 0.849561\nTotal training time: 0.08 seconds.\n-- Epoch 35\nNorm: 0.10, NNZs: 15, Bias: -0.105605, T: 98245, Avg. loss: 0.845960\nTotal training time: 0.08 seconds.\n-- Epoch 36\nNorm: 0.10, NNZs: 15, Bias: -0.105981, T: 101052, Avg. loss: 0.845993\nTotal training time: 0.08 seconds.\n-- Epoch 37\nNorm: 0.10, NNZs: 15, Bias: -0.106340, T: 103859, Avg. loss: 0.843543\nTotal training time: 0.08 seconds.\n-- Epoch 38\nNorm: 0.10, NNZs: 15, Bias: -0.106689, T: 106666, Avg. loss: 0.840583\nTotal training time: 0.09 seconds.\n-- Epoch 39\nNorm: 0.10, NNZs: 15, Bias: -0.107029, T: 109473, Avg. loss: 0.838050\nTotal training time: 0.09 seconds.\n-- Epoch 40\nNorm: 0.10, NNZs: 15, Bias: -0.107360, T: 112280, Avg. loss: 0.835580\nTotal training time: 0.09 seconds.\n-- Epoch 41\nNorm: 0.10, NNZs: 15, Bias: -0.107683, T: 115087, Avg. loss: 0.833686\nTotal training time: 0.09 seconds.\n-- Epoch 42\nNorm: 0.10, NNZs: 15, Bias: -0.107998, T: 117894, Avg. loss: 0.831910\nTotal training time: 0.09 seconds.\n-- Epoch 43\nNorm: 0.10, NNZs: 15, Bias: -0.108307, T: 120701, Avg. loss: 0.830221\nTotal training time: 0.09 seconds.\n-- Epoch 44\nNorm: 0.10, NNZs: 15, Bias: -0.108613, T: 123508, Avg. loss: 0.829084\nTotal training time: 0.09 seconds.\n-- Epoch 45\nNorm: 0.10, NNZs: 15, Bias: -0.108908, T: 126315, Avg. loss: 0.828533\nTotal training time: 0.09 seconds.\n-- Epoch 46\nNorm: 0.10, NNZs: 15, Bias: -0.109195, T: 129122, Avg. loss: 0.827683\nTotal training time: 0.09 seconds.\n-- Epoch 47\nNorm: 0.10, NNZs: 15, Bias: -0.109471, T: 131929, Avg. loss: 0.825959\nTotal training time: 0.09 seconds.\n-- Epoch 48\nNorm: 0.10, NNZs: 15, Bias: -0.109747, T: 134736, Avg. loss: 0.824738\nTotal training time: 0.09 seconds.\n-- Epoch 49\nNorm: 0.10, NNZs: 15, Bias: -0.110017, T: 137543, Avg. loss: 0.824678\nTotal training time: 0.10 seconds.\n-- Epoch 50\nNorm: 0.10, NNZs: 15, Bias: -0.110276, T: 140350, Avg. loss: 0.823992\nTotal training time: 0.10 seconds.\n-- Epoch 51\nNorm: 0.10, NNZs: 15, Bias: -0.110536, T: 143157, Avg. loss: 0.821666\nTotal training time: 0.10 seconds.\n-- Epoch 52\nNorm: 0.10, NNZs: 15, Bias: -0.110790, T: 145964, Avg. loss: 0.821679\nTotal training time: 0.10 seconds.\n-- Epoch 53\nNorm: 0.10, NNZs: 15, Bias: -0.111035, T: 148771, Avg. loss: 0.821037\nTotal training time: 0.10 seconds.\n-- Epoch 54\nNorm: 0.10, NNZs: 15, Bias: -0.111275, T: 151578, Avg. loss: 0.819732\nTotal training time: 0.10 seconds.\n-- Epoch 55\nNorm: 0.10, NNZs: 15, Bias: -0.111510, T: 154385, Avg. loss: 0.819690\nTotal training time: 0.10 seconds.\n-- Epoch 56\nNorm: 0.10, NNZs: 15, Bias: -0.111746, T: 157192, Avg. loss: 0.818393\nTotal training time: 0.10 seconds.\n-- Epoch 57\nNorm: 0.10, NNZs: 15, Bias: -0.111974, T: 159999, Avg. loss: 0.818068\nTotal training time: 0.10 seconds.\n-- Epoch 58\nNorm: 0.10, NNZs: 15, Bias: -0.112197, T: 162806, Avg. loss: 0.818001\nTotal training time: 0.10 seconds.\n-- Epoch 59\nNorm: 0.10, NNZs: 15, Bias: -0.112417, T: 165613, Avg. loss: 0.816768\nTotal training time: 0.10 seconds.\n-- Epoch 60\nNorm: 0.10, NNZs: 15, Bias: -0.112637, T: 168420, Avg. loss: 0.816367\nTotal training time: 0.10 seconds.\n-- Epoch 61\nNorm: 0.10, NNZs: 15, Bias: -0.112849, T: 171227, Avg. loss: 0.816939\nTotal training time: 0.10 seconds.\n-- Epoch 62\nNorm: 0.10, NNZs: 15, Bias: -0.113058, T: 174034, Avg. loss: 0.815817\nTotal training time: 0.10 seconds.\n-- Epoch 63\nNorm: 0.10, NNZs: 15, Bias: -0.113264, T: 176841, Avg. loss: 0.815236\nTotal training time: 0.10 seconds.\n-- Epoch 64\nNorm: 0.10, NNZs: 15, Bias: -0.113466, T: 179648, Avg. loss: 0.815499\nTotal training time: 0.10 seconds.\nConvergence after 64 epochs took 0.10 seconds\n-- Epoch 1\nNorm: 0.09, NNZs: 15, Bias: -0.044319, T: 2807, Avg. loss: 2.084727\nTotal training time: 0.00 seconds.\n-- Epoch 2\nNorm: 0.09, NNZs: 15, Bias: -0.050350, T: 5614, Avg. loss: 1.020584\nTotal training time: 0.00 seconds.\n-- Epoch 3\nNorm: 0.09, NNZs: 15, Bias: -0.053501, T: 8421, Avg. loss: 0.995343\nTotal training time: 0.00 seconds.\n-- Epoch 4\nNorm: 0.09, NNZs: 15, Bias: -0.056088, T: 11228, Avg. loss: 0.983831\nTotal training time: 0.00 seconds.\n-- Epoch 5\nNorm: 0.09, NNZs: 15, Bias: -0.057849, T: 14035, Avg. loss: 0.986439\nTotal training time: 0.00 seconds.\n-- Epoch 6\nNorm: 0.09, NNZs: 15, Bias: -0.059395, T: 16842, Avg. loss: 0.977490\nTotal training time: 0.00 seconds.\n-- Epoch 7\nNorm: 0.09, NNZs: 15, Bias: -0.060711, T: 19649, Avg. loss: 0.964569\nTotal training time: 0.00 seconds.\n-- Epoch 8\nNorm: 0.09, NNZs: 15, Bias: -0.061867, T: 22456, Avg. loss: 0.967955\nTotal training time: 0.00 seconds.\n-- Epoch 9\nNorm: 0.09, NNZs: 15, Bias: -0.062738, T: 25263, Avg. loss: 0.967082\nTotal training time: 0.01 seconds.\n-- Epoch 10\nNorm: 0.09, NNZs: 15, Bias: -0.063645, T: 28070, Avg. loss: 0.968180\nTotal training time: 0.01 seconds.\n-- Epoch 11\nNorm: 0.09, NNZs: 15, Bias: -0.064444, T: 30877, Avg. loss: 0.977599\nTotal training time: 0.01 seconds.\n-- Epoch 12\nNorm: 0.09, NNZs: 15, Bias: -0.065152, T: 33684, Avg. loss: 0.969032\nTotal training time: 0.01 seconds.\nConvergence after 12 epochs took 0.01 seconds\n-- Epoch 1\nNorm: 0.08, NNZs: 15, Bias: -0.000421, T: 2806, Avg. loss: 2.174531\nTotal training time: 0.00 seconds.\n-- Epoch 2\nNorm: 0.09, NNZs: 15, Bias: -0.005562, T: 5612, Avg. loss: 1.032927\nTotal training time: 0.00 seconds.\n-- Epoch 3\nNorm: 0.09, NNZs: 15, Bias: -0.007921, T: 8418, Avg. loss: 0.995735\nTotal training time: 0.00 seconds.\n-- Epoch 4\nNorm: 0.09, NNZs: 15, Bias: -0.009659, T: 11224, Avg. loss: 0.981803\nTotal training time: 0.06 seconds.\n-- Epoch 5\nNorm: 0.10, NNZs: 15, Bias: -0.011053, T: 14030, Avg. loss: 0.976353\nTotal training time: 0.06 seconds.\n-- Epoch 6\nNorm: 0.10, NNZs: 15, Bias: -0.012347, T: 16836, Avg. loss: 0.981439\nTotal training time: 0.06 seconds.\n-- Epoch 7\nNorm: 0.10, NNZs: 15, Bias: -0.013387, T: 19642, Avg. loss: 0.967372\nTotal training time: 0.06 seconds.\n-- Epoch 8\nNorm: 0.10, NNZs: 15, Bias: -0.014314, T: 22448, Avg. loss: 0.963372\nTotal training time: 0.06 seconds.\n-- Epoch 9\nNorm: 0.10, NNZs: 15, Bias: -0.015111, T: 25254, Avg. loss: 0.963783\nTotal training time: 0.06 seconds.\n-- Epoch 10\nNorm: 0.10, NNZs: 15, Bias: -0.015801, T: 28060, Avg. loss: 0.957349\nTotal training time: 0.06 seconds.\n-- Epoch 11\nNorm: 0.11, NNZs: 15, Bias: -0.016408, T: 30866, Avg. loss: 0.965147\nTotal training time: 0.06 seconds.\n-- Epoch 12\nNorm: 0.11, NNZs: 15, Bias: -0.016988, T: 33672, Avg. loss: 0.951034\nTotal training time: 0.06 seconds.\n-- Epoch 13\nNorm: 0.11, NNZs: 15, Bias: -0.017502, T: 36478, Avg. loss: 0.943831\nTotal training time: 0.06 seconds.\n-- Epoch 14\nNorm: 0.11, NNZs: 15, Bias: -0.017979, T: 39284, Avg. loss: 0.934054\nTotal training time: 0.06 seconds.\n-- Epoch 15\nNorm: 0.11, NNZs: 15, Bias: -0.018371, T: 42090, Avg. loss: 0.946252\nTotal training time: 0.06 seconds.\n-- Epoch 16\nNorm: 0.11, NNZs: 15, Bias: -0.018740, T: 44896, Avg. loss: 0.934573\nTotal training time: 0.06 seconds.\n-- Epoch 17\nNorm: 0.11, NNZs: 15, Bias: -0.019087, T: 47702, Avg. loss: 0.924323\nTotal training time: 0.06 seconds.\n-- Epoch 18\nNorm: 0.11, NNZs: 15, Bias: -0.019416, T: 50508, Avg. loss: 0.915323\nTotal training time: 0.06 seconds.\n-- Epoch 19\nNorm: 0.11, NNZs: 15, Bias: -0.019728, T: 53314, Avg. loss: 0.908493\nTotal training time: 0.06 seconds.\n-- Epoch 20\nNorm: 0.11, NNZs: 15, Bias: -0.020011, T: 56120, Avg. loss: 0.901054\nTotal training time: 0.07 seconds.\n-- Epoch 21\nNorm: 0.11, NNZs: 15, Bias: -0.020293, T: 58926, Avg. loss: 0.888620\nTotal training time: 0.07 seconds.\n-- Epoch 22\nNorm: 0.11, NNZs: 15, Bias: -0.020551, T: 61732, Avg. loss: 0.886746\nTotal training time: 0.07 seconds.\n-- Epoch 23\nNorm: 0.11, NNZs: 15, Bias: -0.020798, T: 64538, Avg. loss: 0.879496\nTotal training time: 0.07 seconds.\n-- Epoch 24\nNorm: 0.11, NNZs: 15, Bias: -0.021035, T: 67344, Avg. loss: 0.874637\nTotal training time: 0.07 seconds.\n-- Epoch 25\nNorm: 0.11, NNZs: 15, Bias: -0.021263, T: 70150, Avg. loss: 0.869966\nTotal training time: 0.07 seconds.\n-- Epoch 26\nNorm: 0.11, NNZs: 15, Bias: -0.021482, T: 72956, Avg. loss: 0.866065\nTotal training time: 0.07 seconds.\n-- Epoch 27\nNorm: 0.11, NNZs: 15, Bias: -0.021693, T: 75762, Avg. loss: 0.863197\nTotal training time: 0.07 seconds.\n-- Epoch 28\nNorm: 0.11, NNZs: 15, Bias: -0.021896, T: 78568, Avg. loss: 0.859731\nTotal training time: 0.07 seconds.\n-- Epoch 29\nNorm: 0.11, NNZs: 15, Bias: -0.022084, T: 81374, Avg. loss: 0.856665\nTotal training time: 0.07 seconds.\n-- Epoch 30\nNorm: 0.11, NNZs: 15, Bias: -0.022274, T: 84180, Avg. loss: 0.855536\nTotal training time: 0.07 seconds.\n-- Epoch 31\nNorm: 0.11, NNZs: 15, Bias: -0.022458, T: 86986, Avg. loss: 0.854494\nTotal training time: 0.07 seconds.\n-- Epoch 32\nNorm: 0.11, NNZs: 15, Bias: -0.022629, T: 89792, Avg. loss: 0.853047\nTotal training time: 0.07 seconds.\n-- Epoch 33\nNorm: 0.11, NNZs: 15, Bias: -0.022802, T: 92598, Avg. loss: 0.852939\nTotal training time: 0.07 seconds.\n-- Epoch 34\nNorm: 0.11, NNZs: 15, Bias: -0.022963, T: 95404, Avg. loss: 0.847136\nTotal training time: 0.07 seconds.\n-- Epoch 35\nNorm: 0.11, NNZs: 15, Bias: -0.023126, T: 98210, Avg. loss: 0.847129\nTotal training time: 0.07 seconds.\n-- Epoch 36\nNorm: 0.11, NNZs: 15, Bias: -0.023278, T: 101016, Avg. loss: 0.846188\nTotal training time: 0.07 seconds.\n-- Epoch 37\nNorm: 0.11, NNZs: 15, Bias: -0.023433, T: 103822, Avg. loss: 0.843135\nTotal training time: 0.07 seconds.\n-- Epoch 38\nNorm: 0.11, NNZs: 15, Bias: -0.023577, T: 106628, Avg. loss: 0.842357\nTotal training time: 0.07 seconds.\n-- Epoch 39\nNorm: 0.11, NNZs: 15, Bias: -0.023717, T: 109434, Avg. loss: 0.839097\nTotal training time: 0.07 seconds.\n-- Epoch 40\nNorm: 0.11, NNZs: 15, Bias: -0.023860, T: 112240, Avg. loss: 0.835499\nTotal training time: 0.08 seconds.\n-- Epoch 41\nNorm: 0.11, NNZs: 15, Bias: -0.023994, T: 115046, Avg. loss: 0.835458\nTotal training time: 0.08 seconds.\n-- Epoch 42\nNorm: 0.11, NNZs: 15, Bias: -0.024131, T: 117852, Avg. loss: 0.834962\nTotal training time: 0.08 seconds.\n-- Epoch 43\nNorm: 0.11, NNZs: 15, Bias: -0.024258, T: 120658, Avg. loss: 0.835074\nTotal training time: 0.08 seconds.\n-- Epoch 44\nNorm: 0.11, NNZs: 15, Bias: -0.024382, T: 123464, Avg. loss: 0.832019\nTotal training time: 0.08 seconds.\n-- Epoch 45\nNorm: 0.11, NNZs: 15, Bias: -0.024504, T: 126270, Avg. loss: 0.833278\nTotal training time: 0.08 seconds.\n-- Epoch 46\nNorm: 0.11, NNZs: 15, Bias: -0.024623, T: 129076, Avg. loss: 0.831340\nTotal training time: 0.08 seconds.\n-- Epoch 47\nNorm: 0.11, NNZs: 15, Bias: -0.024740, T: 131882, Avg. loss: 0.830880\nTotal training time: 0.08 seconds.\n-- Epoch 48\nNorm: 0.11, NNZs: 15, Bias: -0.024854, T: 134688, Avg. loss: 0.829911\nTotal training time: 0.08 seconds.\n-- Epoch 49\nNorm: 0.11, NNZs: 15, Bias: -0.024966, T: 137494, Avg. loss: 0.828983\nTotal training time: 0.08 seconds.\nConvergence after 49 epochs took 0.08 seconds\n-- Epoch 1\nNorm: 0.08, NNZs: 15, Bias: -0.040920, T: 2806, Avg. loss: 2.115439\nTotal training time: 0.00 seconds.\n-- Epoch 2\nNorm: 0.09, NNZs: 15, Bias: -0.048475, T: 5612, Avg. loss: 1.021315\nTotal training time: 0.00 seconds.\n-- Epoch 3\nNorm: 0.09, NNZs: 15, Bias: -0.052775, T: 8418, Avg. loss: 0.994898\nTotal training time: 0.00 seconds.\n-- Epoch 4\nNorm: 0.09, NNZs: 15, Bias: -0.055975, T: 11224, Avg. loss: 0.985492\nTotal training time: 0.00 seconds.\n-- Epoch 5\nNorm: 0.09, NNZs: 15, Bias: -0.058619, T: 14030, Avg. loss: 0.985969\nTotal training time: 0.00 seconds.\n-- Epoch 6\nNorm: 0.09, NNZs: 15, Bias: -0.060870, T: 16836, Avg. loss: 0.982054\nTotal training time: 0.00 seconds.\n-- Epoch 7\nNorm: 0.10, NNZs: 15, Bias: -0.062703, T: 19642, Avg. loss: 0.976014\nTotal training time: 0.00 seconds.\n-- Epoch 8\nNorm: 0.10, NNZs: 15, Bias: -0.064231, T: 22448, Avg. loss: 0.970326\nTotal training time: 0.00 seconds.\n-- Epoch 9\nNorm: 0.10, NNZs: 15, Bias: -0.065550, T: 25254, Avg. loss: 0.962353\nTotal training time: 0.01 seconds.\n-- Epoch 10\nNorm: 0.10, NNZs: 15, Bias: -0.066730, T: 28060, Avg. loss: 0.949250\nTotal training time: 0.01 seconds.\n-- Epoch 11\nNorm: 0.10, NNZs: 15, Bias: -0.067750, T: 30866, Avg. loss: 0.939255\nTotal training time: 0.01 seconds.\n-- Epoch 12\nNorm: 0.10, NNZs: 15, Bias: -0.068751, T: 33672, Avg. loss: 0.926969\nTotal training time: 0.01 seconds.\n-- Epoch 13\nNorm: 0.10, NNZs: 15, Bias: -0.069608, T: 36478, Avg. loss: 0.929983\nTotal training time: 0.01 seconds.\n-- Epoch 14\nNorm: 0.10, NNZs: 15, Bias: -0.070345, T: 39284, Avg. loss: 0.928006\nTotal training time: 0.01 seconds.\n-- Epoch 15\nNorm: 0.10, NNZs: 15, Bias: -0.071031, T: 42090, Avg. loss: 0.916194\nTotal training time: 0.01 seconds.\n-- Epoch 16\nNorm: 0.10, NNZs: 15, Bias: -0.071675, T: 44896, Avg. loss: 0.908255\nTotal training time: 0.01 seconds.\n-- Epoch 17\nNorm: 0.10, NNZs: 15, Bias: -0.072267, T: 47702, Avg. loss: 0.906119\nTotal training time: 0.01 seconds.\n-- Epoch 18\nNorm: 0.10, NNZs: 15, Bias: -0.072825, T: 50508, Avg. loss: 0.900895\nTotal training time: 0.01 seconds.\n-- Epoch 19\nNorm: 0.10, NNZs: 15, Bias: -0.073354, T: 53314, Avg. loss: 0.894055\nTotal training time: 0.01 seconds.\n-- Epoch 20\nNorm: 0.10, NNZs: 15, Bias: -0.073856, T: 56120, Avg. loss: 0.889018\nTotal training time: 0.01 seconds.\n-- Epoch 21\nNorm: 0.10, NNZs: 15, Bias: -0.074321, T: 58926, Avg. loss: 0.884817\nTotal training time: 0.01 seconds.\n-- Epoch 22\nNorm: 0.10, NNZs: 15, Bias: -0.074753, T: 61732, Avg. loss: 0.879891\nTotal training time: 0.01 seconds.\n-- Epoch 23\nNorm: 0.10, NNZs: 15, Bias: -0.075178, T: 64538, Avg. loss: 0.874940\nTotal training time: 0.01 seconds.\n-- Epoch 24\nNorm: 0.10, NNZs: 15, Bias: -0.075574, T: 67344, Avg. loss: 0.869114\nTotal training time: 0.01 seconds.\n-- Epoch 25\nNorm: 0.10, NNZs: 15, Bias: -0.075954, T: 70150, Avg. loss: 0.866312\nTotal training time: 0.01 seconds.\n-- Epoch 26\nNorm: 0.10, NNZs: 15, Bias: -0.076329, T: 72956, Avg. loss: 0.862273\nTotal training time: 0.02 seconds.\n-- Epoch 27\nNorm: 0.10, NNZs: 15, Bias: -0.076681, T: 75762, Avg. loss: 0.858677\nTotal training time: 0.02 seconds.\n-- Epoch 28\nNorm: 0.10, NNZs: 15, Bias: -0.077020, T: 78568, Avg. loss: 0.856591\nTotal training time: 0.02 seconds.\n-- Epoch 29\nNorm: 0.10, NNZs: 15, Bias: -0.077348, T: 81374, Avg. loss: 0.853232\nTotal training time: 0.02 seconds.\n-- Epoch 30\nNorm: 0.10, NNZs: 15, Bias: -0.077664, T: 84180, Avg. loss: 0.850008\nTotal training time: 0.02 seconds.\n-- Epoch 31\nNorm: 0.10, NNZs: 15, Bias: -0.077971, T: 86986, Avg. loss: 0.847676\nTotal training time: 0.02 seconds.\n-- Epoch 32\nNorm: 0.10, NNZs: 15, Bias: -0.078267, T: 89792, Avg. loss: 0.845877\nTotal training time: 0.02 seconds.\n-- Epoch 33\nNorm: 0.10, NNZs: 15, Bias: -0.078555, T: 92598, Avg. loss: 0.844259\nTotal training time: 0.02 seconds.\n-- Epoch 34\nNorm: 0.10, NNZs: 15, Bias: -0.078826, T: 95404, Avg. loss: 0.839870\nTotal training time: 0.02 seconds.\n-- Epoch 35\nNorm: 0.10, NNZs: 15, Bias: -0.079097, T: 98210, Avg. loss: 0.837793\nTotal training time: 0.02 seconds.\n-- Epoch 36\nNorm: 0.10, NNZs: 15, Bias: -0.079361, T: 101016, Avg. loss: 0.837157\nTotal training time: 0.02 seconds.\n-- Epoch 37\nNorm: 0.10, NNZs: 15, Bias: -0.079617, T: 103822, Avg. loss: 0.836489\nTotal training time: 0.02 seconds.\n-- Epoch 38\nNorm: 0.10, NNZs: 15, Bias: -0.079860, T: 106628, Avg. loss: 0.834269\nTotal training time: 0.02 seconds.\n-- Epoch 39\nNorm: 0.11, NNZs: 15, Bias: -0.080104, T: 109434, Avg. loss: 0.832879\nTotal training time: 0.02 seconds.\n-- Epoch 40\nNorm: 0.11, NNZs: 15, Bias: -0.080341, T: 112240, Avg. loss: 0.831160\nTotal training time: 0.02 seconds.\n-- Epoch 41\nNorm: 0.11, NNZs: 15, Bias: -0.080566, T: 115046, Avg. loss: 0.829470\nTotal training time: 0.02 seconds.\n-- Epoch 42\nNorm: 0.11, NNZs: 15, Bias: -0.080792, T: 117852, Avg. loss: 0.828939\nTotal training time: 0.02 seconds.\n-- Epoch 43\nNorm: 0.11, NNZs: 15, Bias: -0.081006, T: 120658, Avg. loss: 0.828196\nTotal training time: 0.02 seconds.\n-- Epoch 44\nNorm: 0.11, NNZs: 15, Bias: -0.081222, T: 123464, Avg. loss: 0.826527\nTotal training time: 0.03 seconds.\n-- Epoch 45\nNorm: 0.11, NNZs: 15, Bias: -0.081433, T: 126270, Avg. loss: 0.825714\nTotal training time: 0.03 seconds.\n-- Epoch 46\nNorm: 0.11, NNZs: 15, Bias: -0.081633, T: 129076, Avg. loss: 0.825560\nTotal training time: 0.03 seconds.\n-- Epoch 47\nNorm: 0.11, NNZs: 15, Bias: -0.081835, T: 131882, Avg. loss: 0.823352\nTotal training time: 0.03 seconds.\n-- Epoch 48\nNorm: 0.11, NNZs: 15, Bias: -0.082027, T: 134688, Avg. loss: 0.823258\nTotal training time: 0.03 seconds.\n-- Epoch 49\nNorm: 0.11, NNZs: 15, Bias: -0.082221, T: 137494, Avg. loss: 0.822189\nTotal training time: 0.03 seconds.\n-- Epoch 50\nNorm: 0.11, NNZs: 15, Bias: -0.082405, T: 140300, Avg. loss: 0.821265\nTotal training time: 0.03 seconds.\n-- Epoch 51\nNorm: 0.11, NNZs: 15, Bias: -0.082586, T: 143106, Avg. loss: 0.820628\nTotal training time: 0.03 seconds.\n-- Epoch 52\nNorm: 0.11, NNZs: 15, Bias: -0.082763, T: 145912, Avg. loss: 0.819099\nTotal training time: 0.03 seconds.\n-- Epoch 53\nNorm: 0.11, NNZs: 15, Bias: -0.082942, T: 148718, Avg. loss: 0.819403\nTotal training time: 0.03 seconds.\n-- Epoch 54\nNorm: 0.11, NNZs: 15, Bias: -0.083113, T: 151524, Avg. loss: 0.818990\nTotal training time: 0.03 seconds.\n-- Epoch 55\nNorm: 0.11, NNZs: 15, Bias: -0.083276, T: 154330, Avg. loss: 0.818036\nTotal training time: 0.03 seconds.\n-- Epoch 56\nNorm: 0.11, NNZs: 15, Bias: -0.083441, T: 157136, Avg. loss: 0.816736\nTotal training time: 0.03 seconds.\n-- Epoch 57\nNorm: 0.11, NNZs: 15, Bias: -0.083603, T: 159942, Avg. loss: 0.816786\nTotal training time: 0.03 seconds.\n-- Epoch 58\nNorm: 0.11, NNZs: 15, Bias: -0.083762, T: 162748, Avg. loss: 0.817245\nTotal training time: 0.03 seconds.\n-- Epoch 59\nNorm: 0.11, NNZs: 15, Bias: -0.083918, T: 165554, Avg. loss: 0.816070\nTotal training time: 0.04 seconds.\n-- Epoch 60\nNorm: 0.11, NNZs: 15, Bias: -0.084067, T: 168360, Avg. loss: 0.815977\nTotal training time: 0.04 seconds.\n-- Epoch 61\nNorm: 0.11, NNZs: 15, Bias: -0.084218, T: 171166, Avg. loss: 0.815630\nTotal training time: 0.10 seconds.\nConvergence after 61 epochs took 0.10 seconds\n-- Epoch 1\nNorm: 0.08, NNZs: 15, Bias: -0.060445, T: 2806, Avg. loss: 2.109051\nTotal training time: 0.00 seconds.\n-- Epoch 2\nNorm: 0.08, NNZs: 15, Bias: -0.072758, T: 5612, Avg. loss: 1.005571\nTotal training time: 0.00 seconds.\n-- Epoch 3\nNorm: 0.08, NNZs: 15, Bias: -0.079515, T: 8418, Avg. loss: 0.977726\nTotal training time: 0.00 seconds.\n-- Epoch 4\nNorm: 0.08, NNZs: 15, Bias: -0.084432, T: 11224, Avg. loss: 0.966804\nTotal training time: 0.00 seconds.\n-- Epoch 5\nNorm: 0.09, NNZs: 15, Bias: -0.088310, T: 14030, Avg. loss: 0.955103\nTotal training time: 0.00 seconds.\n-- Epoch 6\nNorm: 0.09, NNZs: 15, Bias: -0.091512, T: 16836, Avg. loss: 0.944264\nTotal training time: 0.00 seconds.\n-- Epoch 7\nNorm: 0.09, NNZs: 15, Bias: -0.094151, T: 19642, Avg. loss: 0.936456\nTotal training time: 0.00 seconds.\n-- Epoch 8\nNorm: 0.09, NNZs: 15, Bias: -0.096449, T: 22448, Avg. loss: 0.943680\nTotal training time: 0.00 seconds.\n-- Epoch 9\nNorm: 0.09, NNZs: 15, Bias: -0.098447, T: 25254, Avg. loss: 0.942967\nTotal training time: 0.00 seconds.\n-- Epoch 10\nNorm: 0.09, NNZs: 15, Bias: -0.100238, T: 28060, Avg. loss: 0.943982\nTotal training time: 0.01 seconds.\n-- Epoch 11\nNorm: 0.09, NNZs: 15, Bias: -0.101787, T: 30866, Avg. loss: 0.943244\nTotal training time: 0.01 seconds.\n-- Epoch 12\nNorm: 0.09, NNZs: 15, Bias: -0.103249, T: 33672, Avg. loss: 0.929744\nTotal training time: 0.01 seconds.\n-- Epoch 13\nNorm: 0.09, NNZs: 15, Bias: -0.104552, T: 36478, Avg. loss: 0.933394\nTotal training time: 0.01 seconds.\n-- Epoch 14\nNorm: 0.09, NNZs: 15, Bias: -0.105699, T: 39284, Avg. loss: 0.926749\nTotal training time: 0.01 seconds.\n-- Epoch 15\nNorm: 0.09, NNZs: 15, Bias: -0.106751, T: 42090, Avg. loss: 0.918505\nTotal training time: 0.01 seconds.\n-- Epoch 16\nNorm: 0.09, NNZs: 15, Bias: -0.107735, T: 44896, Avg. loss: 0.905489\nTotal training time: 0.01 seconds.\n-- Epoch 17\nNorm: 0.09, NNZs: 15, Bias: -0.108663, T: 47702, Avg. loss: 0.902732\nTotal training time: 0.01 seconds.\n-- Epoch 18\nNorm: 0.09, NNZs: 15, Bias: -0.109523, T: 50508, Avg. loss: 0.897999\nTotal training time: 0.01 seconds.\n-- Epoch 19\nNorm: 0.10, NNZs: 15, Bias: -0.110352, T: 53314, Avg. loss: 0.890389\nTotal training time: 0.01 seconds.\n-- Epoch 20\nNorm: 0.10, NNZs: 15, Bias: -0.111124, T: 56120, Avg. loss: 0.886709\nTotal training time: 0.01 seconds.\n-- Epoch 21\nNorm: 0.10, NNZs: 15, Bias: -0.111847, T: 58926, Avg. loss: 0.880942\nTotal training time: 0.01 seconds.\n-- Epoch 22\nNorm: 0.10, NNZs: 15, Bias: -0.112536, T: 61732, Avg. loss: 0.874411\nTotal training time: 0.01 seconds.\n-- Epoch 23\nNorm: 0.10, NNZs: 15, Bias: -0.113195, T: 64538, Avg. loss: 0.869902\nTotal training time: 0.01 seconds.\n-- Epoch 24\nNorm: 0.10, NNZs: 15, Bias: -0.113826, T: 67344, Avg. loss: 0.866245\nTotal training time: 0.01 seconds.\n-- Epoch 25\nNorm: 0.10, NNZs: 15, Bias: -0.114421, T: 70150, Avg. loss: 0.861339\nTotal training time: 0.01 seconds.\n-- Epoch 26\nNorm: 0.10, NNZs: 15, Bias: -0.114993, T: 72956, Avg. loss: 0.856944\nTotal training time: 0.01 seconds.\n-- Epoch 27\nNorm: 0.10, NNZs: 15, Bias: -0.115554, T: 75762, Avg. loss: 0.854073\nTotal training time: 0.02 seconds.\n-- Epoch 28\nNorm: 0.10, NNZs: 15, Bias: -0.116084, T: 78568, Avg. loss: 0.852128\nTotal training time: 0.02 seconds.\n-- Epoch 29\nNorm: 0.10, NNZs: 15, Bias: -0.116596, T: 81374, Avg. loss: 0.849095\nTotal training time: 0.02 seconds.\n-- Epoch 30\nNorm: 0.10, NNZs: 15, Bias: -0.117091, T: 84180, Avg. loss: 0.846279\nTotal training time: 0.02 seconds.\n-- Epoch 31\nNorm: 0.10, NNZs: 15, Bias: -0.117562, T: 86986, Avg. loss: 0.845732\nTotal training time: 0.02 seconds.\n-- Epoch 32\nNorm: 0.10, NNZs: 15, Bias: -0.118025, T: 89792, Avg. loss: 0.841422\nTotal training time: 0.02 seconds.\n-- Epoch 33\nNorm: 0.10, NNZs: 15, Bias: -0.118467, T: 92598, Avg. loss: 0.840429\nTotal training time: 0.03 seconds.\n-- Epoch 34\nNorm: 0.10, NNZs: 15, Bias: -0.118904, T: 95404, Avg. loss: 0.838928\nTotal training time: 0.03 seconds.\n-- Epoch 35\nNorm: 0.10, NNZs: 15, Bias: -0.119327, T: 98210, Avg. loss: 0.837629\nTotal training time: 0.03 seconds.\n-- Epoch 36\nNorm: 0.10, NNZs: 15, Bias: -0.119732, T: 101016, Avg. loss: 0.836275\nTotal training time: 0.03 seconds.\n-- Epoch 37\nNorm: 0.10, NNZs: 15, Bias: -0.120133, T: 103822, Avg. loss: 0.834019\nTotal training time: 0.03 seconds.\n-- Epoch 38\nNorm: 0.10, NNZs: 15, Bias: -0.120516, T: 106628, Avg. loss: 0.833831\nTotal training time: 0.03 seconds.\n-- Epoch 39\nNorm: 0.10, NNZs: 15, Bias: -0.120889, T: 109434, Avg. loss: 0.831111\nTotal training time: 0.03 seconds.\n-- Epoch 40\nNorm: 0.10, NNZs: 15, Bias: -0.121253, T: 112240, Avg. loss: 0.829157\nTotal training time: 0.03 seconds.\n-- Epoch 41\nNorm: 0.10, NNZs: 15, Bias: -0.121608, T: 115046, Avg. loss: 0.827810\nTotal training time: 0.03 seconds.\n-- Epoch 42\nNorm: 0.10, NNZs: 15, Bias: -0.121954, T: 117852, Avg. loss: 0.826833\nTotal training time: 0.03 seconds.\n-- Epoch 43\nNorm: 0.10, NNZs: 15, Bias: -0.122293, T: 120658, Avg. loss: 0.824165\nTotal training time: 0.03 seconds.\n-- Epoch 44\nNorm: 0.10, NNZs: 15, Bias: -0.122623, T: 123464, Avg. loss: 0.823831\nTotal training time: 0.03 seconds.\n-- Epoch 45\nNorm: 0.10, NNZs: 15, Bias: -0.122941, T: 126270, Avg. loss: 0.823102\nTotal training time: 0.09 seconds.\n-- Epoch 46\nNorm: 0.10, NNZs: 15, Bias: -0.123257, T: 129076, Avg. loss: 0.822038\nTotal training time: 0.09 seconds.\n-- Epoch 47\nNorm: 0.10, NNZs: 15, Bias: -0.123566, T: 131882, Avg. loss: 0.822603\nTotal training time: 0.09 seconds.\n-- Epoch 48\nNorm: 0.10, NNZs: 15, Bias: -0.123864, T: 134688, Avg. loss: 0.820814\nTotal training time: 0.09 seconds.\n-- Epoch 49\nNorm: 0.10, NNZs: 15, Bias: -0.124160, T: 137494, Avg. loss: 0.821059\nTotal training time: 0.09 seconds.\n-- Epoch 50\nNorm: 0.10, NNZs: 15, Bias: -0.124446, T: 140300, Avg. loss: 0.820766\nTotal training time: 0.10 seconds.\n-- Epoch 51\nNorm: 0.10, NNZs: 15, Bias: -0.124725, T: 143106, Avg. loss: 0.821229\nTotal training time: 0.10 seconds.\n-- Epoch 52\nNorm: 0.10, NNZs: 15, Bias: -0.125000, T: 145912, Avg. loss: 0.820850\nTotal training time: 0.10 seconds.\n-- Epoch 53\nNorm: 0.10, NNZs: 15, Bias: -0.125269, T: 148718, Avg. loss: 0.819600\nTotal training time: 0.11 seconds.\n-- Epoch 54\nNorm: 0.10, NNZs: 15, Bias: -0.125528, T: 151524, Avg. loss: 0.819508\nTotal training time: 0.11 seconds.\n-- Epoch 55\nNorm: 0.10, NNZs: 15, Bias: -0.125788, T: 154330, Avg. loss: 0.818130\nTotal training time: 0.11 seconds.\n-- Epoch 56\nNorm: 0.10, NNZs: 15, Bias: -0.126042, T: 157136, Avg. loss: 0.818861\nTotal training time: 0.11 seconds.\n-- Epoch 57\nNorm: 0.10, NNZs: 15, Bias: -0.126288, T: 159942, Avg. loss: 0.817866\nTotal training time: 0.11 seconds.\n-- Epoch 58\nNorm: 0.10, NNZs: 15, Bias: -0.126534, T: 162748, Avg. loss: 0.817812\nTotal training time: 0.11 seconds.\n-- Epoch 59\nNorm: 0.10, NNZs: 15, Bias: -0.126771, T: 165554, Avg. loss: 0.816871\nTotal training time: 0.11 seconds.\n-- Epoch 60\nNorm: 0.10, NNZs: 15, Bias: -0.127008, T: 168360, Avg. loss: 0.816839\nTotal training time: 0.11 seconds.\nConvergence after 60 epochs took 0.11 seconds\n-- Epoch 1\nNorm: 0.07, NNZs: 15, Bias: -0.052884, T: 2807, Avg. loss: 2.108890\nTotal training time: 0.00 seconds.\n-- Epoch 2\nNorm: 0.08, NNZs: 15, Bias: -0.063973, T: 5614, Avg. loss: 1.032008\nTotal training time: 0.00 seconds.\n-- Epoch 3\nNorm: 0.08, NNZs: 15, Bias: -0.069909, T: 8421, Avg. loss: 1.004881\nTotal training time: 0.00 seconds.\n-- Epoch 4\nNorm: 0.09, NNZs: 15, Bias: -0.074234, T: 11228, Avg. loss: 0.992520\nTotal training time: 0.00 seconds.\n-- Epoch 5\nNorm: 0.09, NNZs: 15, Bias: -0.077656, T: 14035, Avg. loss: 0.981505\nTotal training time: 0.00 seconds.\n-- Epoch 6\nNorm: 0.09, NNZs: 15, Bias: -0.080561, T: 16842, Avg. loss: 0.966092\nTotal training time: 0.00 seconds.\n-- Epoch 7\nNorm: 0.09, NNZs: 15, Bias: -0.082987, T: 19649, Avg. loss: 0.962252\nTotal training time: 0.00 seconds.\n-- Epoch 8\nNorm: 0.09, NNZs: 15, Bias: -0.085024, T: 22456, Avg. loss: 0.963264\nTotal training time: 0.00 seconds.\n-- Epoch 9\nNorm: 0.09, NNZs: 15, Bias: -0.086853, T: 25263, Avg. loss: 0.961146\nTotal training time: 0.00 seconds.\n-- Epoch 10\nNorm: 0.09, NNZs: 15, Bias: -0.088464, T: 28070, Avg. loss: 0.964769\nTotal training time: 0.06 seconds.\n-- Epoch 11\nNorm: 0.10, NNZs: 15, Bias: -0.089825, T: 30877, Avg. loss: 0.977749\nTotal training time: 0.06 seconds.\n-- Epoch 12\nNorm: 0.10, NNZs: 15, Bias: -0.091137, T: 33684, Avg. loss: 0.961657\nTotal training time: 0.06 seconds.\n-- Epoch 13\nNorm: 0.10, NNZs: 15, Bias: -0.092281, T: 36491, Avg. loss: 0.963397\nTotal training time: 0.06 seconds.\n-- Epoch 14\nNorm: 0.10, NNZs: 15, Bias: -0.093300, T: 39298, Avg. loss: 0.950812\nTotal training time: 0.06 seconds.\n-- Epoch 15\nNorm: 0.10, NNZs: 15, Bias: -0.094250, T: 42105, Avg. loss: 0.941338\nTotal training time: 0.06 seconds.\n-- Epoch 16\nNorm: 0.10, NNZs: 15, Bias: -0.095138, T: 44912, Avg. loss: 0.933189\nTotal training time: 0.06 seconds.\n-- Epoch 17\nNorm: 0.10, NNZs: 15, Bias: -0.095959, T: 47719, Avg. loss: 0.928722\nTotal training time: 0.06 seconds.\n-- Epoch 18\nNorm: 0.10, NNZs: 15, Bias: -0.096734, T: 50526, Avg. loss: 0.920626\nTotal training time: 0.06 seconds.\n-- Epoch 19\nNorm: 0.10, NNZs: 15, Bias: -0.097452, T: 53333, Avg. loss: 0.913398\nTotal training time: 0.06 seconds.\n-- Epoch 20\nNorm: 0.10, NNZs: 15, Bias: -0.098148, T: 56140, Avg. loss: 0.901125\nTotal training time: 0.06 seconds.\n-- Epoch 21\nNorm: 0.10, NNZs: 15, Bias: -0.098810, T: 58947, Avg. loss: 0.897356\nTotal training time: 0.06 seconds.\n-- Epoch 22\nNorm: 0.10, NNZs: 15, Bias: -0.099429, T: 61754, Avg. loss: 0.888733\nTotal training time: 0.07 seconds.\n-- Epoch 23\nNorm: 0.10, NNZs: 15, Bias: -0.100032, T: 64561, Avg. loss: 0.883176\nTotal training time: 0.07 seconds.\n-- Epoch 24\nNorm: 0.10, NNZs: 15, Bias: -0.100609, T: 67368, Avg. loss: 0.876489\nTotal training time: 0.07 seconds.\n-- Epoch 25\nNorm: 0.10, NNZs: 15, Bias: -0.101153, T: 70175, Avg. loss: 0.876269\nTotal training time: 0.07 seconds.\n-- Epoch 26\nNorm: 0.10, NNZs: 15, Bias: -0.101675, T: 72982, Avg. loss: 0.871419\nTotal training time: 0.07 seconds.\n-- Epoch 27\nNorm: 0.10, NNZs: 15, Bias: -0.102178, T: 75789, Avg. loss: 0.866802\nTotal training time: 0.07 seconds.\n-- Epoch 28\nNorm: 0.10, NNZs: 15, Bias: -0.102663, T: 78596, Avg. loss: 0.862836\nTotal training time: 0.07 seconds.\n-- Epoch 29\nNorm: 0.10, NNZs: 15, Bias: -0.103130, T: 81403, Avg. loss: 0.858019\nTotal training time: 0.07 seconds.\n-- Epoch 30\nNorm: 0.10, NNZs: 15, Bias: -0.103573, T: 84210, Avg. loss: 0.857252\nTotal training time: 0.07 seconds.\n-- Epoch 31\nNorm: 0.10, NNZs: 15, Bias: -0.104010, T: 87017, Avg. loss: 0.854282\nTotal training time: 0.07 seconds.\n-- Epoch 32\nNorm: 0.10, NNZs: 15, Bias: -0.104425, T: 89824, Avg. loss: 0.852420\nTotal training time: 0.07 seconds.\n-- Epoch 33\nNorm: 0.10, NNZs: 15, Bias: -0.104836, T: 92631, Avg. loss: 0.849081\nTotal training time: 0.07 seconds.\n-- Epoch 34\nNorm: 0.10, NNZs: 15, Bias: -0.105226, T: 95438, Avg. loss: 0.849561\nTotal training time: 0.07 seconds.\n-- Epoch 35\nNorm: 0.10, NNZs: 15, Bias: -0.105605, T: 98245, Avg. loss: 0.845960\nTotal training time: 0.07 seconds.\n-- Epoch 36\nNorm: 0.10, NNZs: 15, Bias: -0.105981, T: 101052, Avg. loss: 0.845993\nTotal training time: 0.08 seconds.\n-- Epoch 37\nNorm: 0.10, NNZs: 15, Bias: -0.106340, T: 103859, Avg. loss: 0.843543\nTotal training time: 0.08 seconds.\n-- Epoch 38\nNorm: 0.10, NNZs: 15, Bias: -0.106689, T: 106666, Avg. loss: 0.840583\nTotal training time: 0.08 seconds.\n-- Epoch 39\nNorm: 0.10, NNZs: 15, Bias: -0.107029, T: 109473, Avg. loss: 0.838050\nTotal training time: 0.08 seconds.\n-- Epoch 40\nNorm: 0.10, NNZs: 15, Bias: -0.107360, T: 112280, Avg. loss: 0.835580\nTotal training time: 0.08 seconds.\n-- Epoch 41\nNorm: 0.10, NNZs: 15, Bias: -0.107683, T: 115087, Avg. loss: 0.833686\nTotal training time: 0.08 seconds.\n-- Epoch 42\nNorm: 0.10, NNZs: 15, Bias: -0.107998, T: 117894, Avg. loss: 0.831910\nTotal training time: 0.08 seconds.\n-- Epoch 43\nNorm: 0.10, NNZs: 15, Bias: -0.108307, T: 120701, Avg. loss: 0.830221\nTotal training time: 0.08 seconds.\n-- Epoch 44\nNorm: 0.10, NNZs: 15, Bias: -0.108613, T: 123508, Avg. loss: 0.829084\nTotal training time: 0.08 seconds.\n-- Epoch 45\nNorm: 0.10, NNZs: 15, Bias: -0.108908, T: 126315, Avg. loss: 0.828533\nTotal training time: 0.08 seconds.\n-- Epoch 46\nNorm: 0.10, NNZs: 15, Bias: -0.109195, T: 129122, Avg. loss: 0.827683\nTotal training time: 0.08 seconds.\n-- Epoch 47\nNorm: 0.10, NNZs: 15, Bias: -0.109471, T: 131929, Avg. loss: 0.825959\nTotal training time: 0.08 seconds.\n-- Epoch 48\nNorm: 0.10, NNZs: 15, Bias: -0.109747, T: 134736, Avg. loss: 0.824738\nTotal training time: 0.08 seconds.\n-- Epoch 49\nNorm: 0.10, NNZs: 15, Bias: -0.110017, T: 137543, Avg. loss: 0.824678\nTotal training time: 0.08 seconds.\n-- Epoch 50\nNorm: 0.10, NNZs: 15, Bias: -0.110276, T: 140350, Avg. loss: 0.823992\nTotal training time: 0.08 seconds.\n-- Epoch 51\nNorm: 0.10, NNZs: 15, Bias: -0.110536, T: 143157, Avg. loss: 0.821666\nTotal training time: 0.09 seconds.\n-- Epoch 52\nNorm: 0.10, NNZs: 15, Bias: -0.110790, T: 145964, Avg. loss: 0.821679\nTotal training time: 0.09 seconds.\n-- Epoch 53\nNorm: 0.10, NNZs: 15, Bias: -0.111035, T: 148771, Avg. loss: 0.821037\nTotal training time: 0.09 seconds.\n-- Epoch 54\nNorm: 0.10, NNZs: 15, Bias: -0.111275, T: 151578, Avg. loss: 0.819732\nTotal training time: 0.09 seconds.\n-- Epoch 55\nNorm: 0.10, NNZs: 15, Bias: -0.111510, T: 154385, Avg. loss: 0.819690\nTotal training time: 0.09 seconds.\n-- Epoch 56\nNorm: 0.10, NNZs: 15, Bias: -0.111746, T: 157192, Avg. loss: 0.818393\nTotal training time: 0.09 seconds.\n-- Epoch 57\nNorm: 0.10, NNZs: 15, Bias: -0.111974, T: 159999, Avg. loss: 0.818068\nTotal training time: 0.09 seconds.\n-- Epoch 58\nNorm: 0.10, NNZs: 15, Bias: -0.112197, T: 162806, Avg. loss: 0.818001\nTotal training time: 0.09 seconds.\n-- Epoch 59\nNorm: 0.10, NNZs: 15, Bias: -0.112417, T: 165613, Avg. loss: 0.816768\nTotal training time: 0.09 seconds.\n-- Epoch 60\nNorm: 0.10, NNZs: 15, Bias: -0.112637, T: 168420, Avg. loss: 0.816367\nTotal training time: 0.09 seconds.\n-- Epoch 61\nNorm: 0.10, NNZs: 15, Bias: -0.112849, T: 171227, Avg. loss: 0.816939\nTotal training time: 0.09 seconds.\n-- Epoch 62\nNorm: 0.10, NNZs: 15, Bias: -0.113058, T: 174034, Avg. loss: 0.815817\nTotal training time: 0.10 seconds.\n-- Epoch 63\nNorm: 0.10, NNZs: 15, Bias: -0.113264, T: 176841, Avg. loss: 0.815236\nTotal training time: 0.10 seconds.\n-- Epoch 64\nNorm: 0.10, NNZs: 15, Bias: -0.113466, T: 179648, Avg. loss: 0.815499\nTotal training time: 0.16 seconds.\nConvergence after 64 epochs took 0.16 seconds\n-- Epoch 1\nNorm: 0.09, NNZs: 15, Bias: -0.044319, T: 2807, Avg. loss: 2.084727\nTotal training time: 0.00 seconds.\n-- Epoch 2\nNorm: 0.09, NNZs: 15, Bias: -0.050350, T: 5614, Avg. loss: 1.020584\nTotal training time: 0.00 seconds.\n-- Epoch 3\nNorm: 0.09, NNZs: 15, Bias: -0.053501, T: 8421, Avg. loss: 0.995343\nTotal training time: 0.00 seconds.\n-- Epoch 4\nNorm: 0.09, NNZs: 15, Bias: -0.056088, T: 11228, Avg. loss: 0.983831\nTotal training time: 0.00 seconds.\n-- Epoch 5\nNorm: 0.09, NNZs: 15, Bias: -0.057849, T: 14035, Avg. loss: 0.986439\nTotal training time: 0.01 seconds.\n-- Epoch 6\nNorm: 0.09, NNZs: 15, Bias: -0.059395, T: 16842, Avg. loss: 0.977490\nTotal training time: 0.01 seconds.\n-- Epoch 7\nNorm: 0.09, NNZs: 15, Bias: -0.060711, T: 19649, Avg. loss: 0.964569\nTotal training time: 0.01 seconds.\n-- Epoch 8\nNorm: 0.09, NNZs: 15, Bias: -0.061867, T: 22456, Avg. loss: 0.967955\nTotal training time: 0.01 seconds.\n-- Epoch 9\nNorm: 0.09, NNZs: 15, Bias: -0.062738, T: 25263, Avg. loss: 0.967082\nTotal training time: 0.01 seconds.\n-- Epoch 10\nNorm: 0.09, NNZs: 15, Bias: -0.063645, T: 28070, Avg. loss: 0.968180\nTotal training time: 0.01 seconds.\n-- Epoch 11\nNorm: 0.09, NNZs: 15, Bias: -0.064444, T: 30877, Avg. loss: 0.977599\nTotal training time: 0.01 seconds.\n-- Epoch 12\nNorm: 0.09, NNZs: 15, Bias: -0.065152, T: 33684, Avg. loss: 0.969032\nTotal training time: 0.01 seconds.\nConvergence after 12 epochs took 0.01 seconds\n",
     "output_type": "stream"
    }
   ],
   "execution_count": null
  },
  {
   "cell_type": "code",
   "metadata": {
    "tags": [],
    "deepnote_to_be_reexecuted": false,
    "source_hash": "32c9439c",
    "execution_start": 1622219713913,
    "execution_millis": 107,
    "cell_id": "00054-3f014b93-f3fb-41c6-90f7-9d45cf834a0e",
    "deepnote_cell_type": "code"
   },
   "source": "# Returns max value of the mean test score \nmax(scores['mean_test_score'])",
   "outputs": [
    {
     "output_type": "execute_result",
     "execution_count": 66,
     "data": {
      "text/plain": "0.6798720590446696"
     },
     "metadata": {}
    }
   ],
   "execution_count": null
  },
  {
   "cell_type": "code",
   "metadata": {
    "tags": [],
    "deepnote_to_be_reexecuted": false,
    "source_hash": "46f0d3fb",
    "execution_start": 1622219713943,
    "execution_millis": 110,
    "is_output_hidden": true,
    "cell_id": "00055-926ab0c6-923f-448f-9d31-9c589046b472",
    "deepnote_cell_type": "code"
   },
   "source": "# loop that runs all of the possible parameter configurations from the parameter dictionary above\nfor mean_score, params in sorted(list(zip(scores[\"mean_test_score\"], scores[\"params\"])),key = lambda x: x[0]):\n     print(f'Best parameters for SGD Classifier are {params} with a score of {mean_score}')",
   "outputs": [
    {
     "name": "stdout",
     "text": "Best parameters for SGD Classifier are {'alpha': 0.0001, 'class_weight': 'balanced', 'shuffle': True, 'verbose': 5} with a score of 0.38366680078520304\nBest parameters for SGD Classifier are {'alpha': 0.0001, 'class_weight': None, 'shuffle': True, 'verbose': 1} with a score of 0.4170021662175728\nBest parameters for SGD Classifier are {'alpha': 0.1, 'class_weight': 'balanced', 'shuffle': False, 'verbose': 0} with a score of 0.43155646593592384\nBest parameters for SGD Classifier are {'alpha': 0.1, 'class_weight': 'balanced', 'shuffle': False, 'verbose': 1} with a score of 0.43155646593592384\nBest parameters for SGD Classifier are {'alpha': 0.1, 'class_weight': 'balanced', 'shuffle': False, 'verbose': 5} with a score of 0.43155646593592384\nBest parameters for SGD Classifier are {'alpha': 0.1, 'class_weight': 'balanced', 'shuffle': False, 'verbose': 10} with a score of 0.43155646593592384\nBest parameters for SGD Classifier are {'alpha': 0.001, 'class_weight': 'balanced', 'shuffle': True, 'verbose': 5} with a score of 0.44092931953131664\nBest parameters for SGD Classifier are {'alpha': 0.1, 'class_weight': 'balanced', 'shuffle': True, 'verbose': 10} with a score of 0.4476092354837006\nBest parameters for SGD Classifier are {'alpha': 0.1, 'class_weight': 'balanced', 'shuffle': True, 'verbose': 0} with a score of 0.44956899179438403\nBest parameters for SGD Classifier are {'alpha': 1, 'class_weight': 'balanced', 'shuffle': True, 'verbose': 0} with a score of 0.45894712884727157\nBest parameters for SGD Classifier are {'alpha': 0.0001, 'class_weight': 'balanced', 'shuffle': True, 'verbose': 10} with a score of 0.4626805011969063\nBest parameters for SGD Classifier are {'alpha': 0.01, 'class_weight': 'balanced', 'shuffle': True, 'verbose': 5} with a score of 0.4647654348082308\nBest parameters for SGD Classifier are {'alpha': 0.0001, 'class_weight': None, 'shuffle': True, 'verbose': 0} with a score of 0.47113525244766336\nBest parameters for SGD Classifier are {'alpha': 0.0001, 'class_weight': 'balanced', 'shuffle': True, 'verbose': 1} with a score of 0.4715115971892006\nBest parameters for SGD Classifier are {'alpha': 1, 'class_weight': 'balanced', 'shuffle': True, 'verbose': 1} with a score of 0.47884910038975664\nBest parameters for SGD Classifier are {'alpha': 0.01, 'class_weight': 'balanced', 'shuffle': True, 'verbose': 10} with a score of 0.5086437364611401\nBest parameters for SGD Classifier are {'alpha': 0.0001, 'class_weight': None, 'shuffle': True, 'verbose': 10} with a score of 0.5327651584427618\nBest parameters for SGD Classifier are {'alpha': 0.001, 'class_weight': 'balanced', 'shuffle': True, 'verbose': 1} with a score of 0.5431203287123402\nBest parameters for SGD Classifier are {'alpha': 0.0001, 'class_weight': None, 'shuffle': True, 'verbose': 5} with a score of 0.5495754945113005\nBest parameters for SGD Classifier are {'alpha': 0.01, 'class_weight': 'balanced', 'shuffle': True, 'verbose': 0} with a score of 0.5496173557514499\nBest parameters for SGD Classifier are {'alpha': 0.001, 'class_weight': 'balanced', 'shuffle': True, 'verbose': 0} with a score of 0.5572653636847645\nBest parameters for SGD Classifier are {'alpha': 1, 'class_weight': 'balanced', 'shuffle': True, 'verbose': 10} with a score of 0.5581846852888223\nBest parameters for SGD Classifier are {'alpha': 1, 'class_weight': 'balanced', 'shuffle': True, 'verbose': 5} with a score of 0.5706816879427435\nBest parameters for SGD Classifier are {'alpha': 0.01, 'class_weight': 'balanced', 'shuffle': False, 'verbose': 0} with a score of 0.5794847409683358\nBest parameters for SGD Classifier are {'alpha': 0.01, 'class_weight': 'balanced', 'shuffle': False, 'verbose': 1} with a score of 0.5794847409683358\nBest parameters for SGD Classifier are {'alpha': 0.01, 'class_weight': 'balanced', 'shuffle': False, 'verbose': 5} with a score of 0.5794847409683358\nBest parameters for SGD Classifier are {'alpha': 0.01, 'class_weight': 'balanced', 'shuffle': False, 'verbose': 10} with a score of 0.5794847409683358\nBest parameters for SGD Classifier are {'alpha': 0.0001, 'class_weight': 'balanced', 'shuffle': True, 'verbose': 0} with a score of 0.5803496023182186\nBest parameters for SGD Classifier are {'alpha': 0.001, 'class_weight': None, 'shuffle': True, 'verbose': 5} with a score of 0.5914359218210858\nBest parameters for SGD Classifier are {'alpha': 0.01, 'class_weight': 'balanced', 'shuffle': True, 'verbose': 1} with a score of 0.5932583082369102\nBest parameters for SGD Classifier are {'alpha': 0.1, 'class_weight': 'balanced', 'shuffle': True, 'verbose': 5} with a score of 0.5978163063755075\nBest parameters for SGD Classifier are {'alpha': 0.0001, 'class_weight': 'balanced', 'shuffle': False, 'verbose': 0} with a score of 0.600571832668837\nBest parameters for SGD Classifier are {'alpha': 0.0001, 'class_weight': 'balanced', 'shuffle': False, 'verbose': 1} with a score of 0.600571832668837\nBest parameters for SGD Classifier are {'alpha': 0.0001, 'class_weight': 'balanced', 'shuffle': False, 'verbose': 5} with a score of 0.600571832668837\nBest parameters for SGD Classifier are {'alpha': 0.0001, 'class_weight': 'balanced', 'shuffle': False, 'verbose': 10} with a score of 0.600571832668837\nBest parameters for SGD Classifier are {'alpha': 0.001, 'class_weight': 'balanced', 'shuffle': False, 'verbose': 0} with a score of 0.6019963340933383\nBest parameters for SGD Classifier are {'alpha': 0.001, 'class_weight': 'balanced', 'shuffle': False, 'verbose': 1} with a score of 0.6019963340933383\nBest parameters for SGD Classifier are {'alpha': 0.001, 'class_weight': 'balanced', 'shuffle': False, 'verbose': 5} with a score of 0.6019963340933383\nBest parameters for SGD Classifier are {'alpha': 0.001, 'class_weight': 'balanced', 'shuffle': False, 'verbose': 10} with a score of 0.6019963340933383\nBest parameters for SGD Classifier are {'alpha': 0.1, 'class_weight': 'balanced', 'shuffle': True, 'verbose': 1} with a score of 0.602085746450939\nBest parameters for SGD Classifier are {'alpha': 0.001, 'class_weight': 'balanced', 'shuffle': True, 'verbose': 10} with a score of 0.6026669267753434\nBest parameters for SGD Classifier are {'alpha': 0.0001, 'class_weight': None, 'shuffle': False, 'verbose': 0} with a score of 0.604844930522534\nBest parameters for SGD Classifier are {'alpha': 0.0001, 'class_weight': None, 'shuffle': False, 'verbose': 1} with a score of 0.604844930522534\nBest parameters for SGD Classifier are {'alpha': 0.0001, 'class_weight': None, 'shuffle': False, 'verbose': 5} with a score of 0.604844930522534\nBest parameters for SGD Classifier are {'alpha': 0.0001, 'class_weight': None, 'shuffle': False, 'verbose': 10} with a score of 0.604844930522534\nBest parameters for SGD Classifier are {'alpha': 1, 'class_weight': 'balanced', 'shuffle': False, 'verbose': 0} with a score of 0.6056992249574276\nBest parameters for SGD Classifier are {'alpha': 1, 'class_weight': 'balanced', 'shuffle': False, 'verbose': 1} with a score of 0.6056992249574276\nBest parameters for SGD Classifier are {'alpha': 1, 'class_weight': 'balanced', 'shuffle': False, 'verbose': 5} with a score of 0.6056992249574276\nBest parameters for SGD Classifier are {'alpha': 1, 'class_weight': 'balanced', 'shuffle': False, 'verbose': 10} with a score of 0.6056992249574276\nBest parameters for SGD Classifier are {'alpha': 0.001, 'class_weight': None, 'shuffle': False, 'verbose': 0} with a score of 0.60911965405546\nBest parameters for SGD Classifier are {'alpha': 0.001, 'class_weight': None, 'shuffle': False, 'verbose': 1} with a score of 0.60911965405546\nBest parameters for SGD Classifier are {'alpha': 0.001, 'class_weight': None, 'shuffle': False, 'verbose': 5} with a score of 0.60911965405546\nBest parameters for SGD Classifier are {'alpha': 0.001, 'class_weight': None, 'shuffle': False, 'verbose': 10} with a score of 0.60911965405546\nBest parameters for SGD Classifier are {'alpha': 0.01, 'class_weight': None, 'shuffle': False, 'verbose': 0} with a score of 0.6099751677497754\nBest parameters for SGD Classifier are {'alpha': 0.01, 'class_weight': None, 'shuffle': False, 'verbose': 1} with a score of 0.6099751677497754\nBest parameters for SGD Classifier are {'alpha': 0.01, 'class_weight': None, 'shuffle': False, 'verbose': 5} with a score of 0.6099751677497754\nBest parameters for SGD Classifier are {'alpha': 0.01, 'class_weight': None, 'shuffle': False, 'verbose': 10} with a score of 0.6099751677497754\nBest parameters for SGD Classifier are {'alpha': 0.001, 'class_weight': None, 'shuffle': True, 'verbose': 1} with a score of 0.6100731149233288\nBest parameters for SGD Classifier are {'alpha': 0.1, 'class_weight': None, 'shuffle': False, 'verbose': 0} with a score of 0.6173939549117866\nBest parameters for SGD Classifier are {'alpha': 0.1, 'class_weight': None, 'shuffle': False, 'verbose': 1} with a score of 0.6173939549117866\nBest parameters for SGD Classifier are {'alpha': 0.1, 'class_weight': None, 'shuffle': False, 'verbose': 5} with a score of 0.6173939549117866\nBest parameters for SGD Classifier are {'alpha': 0.1, 'class_weight': None, 'shuffle': False, 'verbose': 10} with a score of 0.6173939549117866\nBest parameters for SGD Classifier are {'alpha': 0.001, 'class_weight': None, 'shuffle': True, 'verbose': 0} with a score of 0.6205290773051116\nBest parameters for SGD Classifier are {'alpha': 0.01, 'class_weight': None, 'shuffle': True, 'verbose': 10} with a score of 0.6237324782260588\nBest parameters for SGD Classifier are {'alpha': 0.01, 'class_weight': None, 'shuffle': True, 'verbose': 1} with a score of 0.6382217507752458\nBest parameters for SGD Classifier are {'alpha': 0.001, 'class_weight': None, 'shuffle': True, 'verbose': 10} with a score of 0.6416950144482241\nBest parameters for SGD Classifier are {'alpha': 1, 'class_weight': None, 'shuffle': True, 'verbose': 1} with a score of 0.6736001885787906\nBest parameters for SGD Classifier are {'alpha': 0.01, 'class_weight': None, 'shuffle': True, 'verbose': 5} with a score of 0.6750259092627138\nBest parameters for SGD Classifier are {'alpha': 1, 'class_weight': None, 'shuffle': True, 'verbose': 5} with a score of 0.6758818293768365\nBest parameters for SGD Classifier are {'alpha': 0.1, 'class_weight': None, 'shuffle': True, 'verbose': 0} with a score of 0.6778789763097894\nBest parameters for SGD Classifier are {'alpha': 0.1, 'class_weight': None, 'shuffle': True, 'verbose': 1} with a score of 0.6778789763097894\nBest parameters for SGD Classifier are {'alpha': 0.1, 'class_weight': None, 'shuffle': True, 'verbose': 5} with a score of 0.6778789763097894\nBest parameters for SGD Classifier are {'alpha': 0.1, 'class_weight': None, 'shuffle': True, 'verbose': 10} with a score of 0.6778789763097894\nBest parameters for SGD Classifier are {'alpha': 1, 'class_weight': None, 'shuffle': True, 'verbose': 10} with a score of 0.6778789763097894\nBest parameters for SGD Classifier are {'alpha': 1, 'class_weight': None, 'shuffle': False, 'verbose': 0} with a score of 0.6778789763097894\nBest parameters for SGD Classifier are {'alpha': 1, 'class_weight': None, 'shuffle': False, 'verbose': 1} with a score of 0.6778789763097894\nBest parameters for SGD Classifier are {'alpha': 1, 'class_weight': None, 'shuffle': False, 'verbose': 5} with a score of 0.6778789763097894\nBest parameters for SGD Classifier are {'alpha': 1, 'class_weight': None, 'shuffle': False, 'verbose': 10} with a score of 0.6778789763097894\nBest parameters for SGD Classifier are {'alpha': 1, 'class_weight': None, 'shuffle': True, 'verbose': 0} with a score of 0.67844877687959\nBest parameters for SGD Classifier are {'alpha': 0.01, 'class_weight': None, 'shuffle': True, 'verbose': 0} with a score of 0.6798720590446696\n",
     "output_type": "stream"
    }
   ],
   "execution_count": null
  },
  {
   "cell_type": "markdown",
   "source": "Best parameters for SGD Classifier are {'alpha': 0.01, 'class_weight': None, 'shuffle': True, 'verbose': 5} using f_feature from Select K Best\n",
   "metadata": {
    "tags": [],
    "cell_id": "00056-e8ab4ca1-4204-42a9-b4a4-56698b136ae9",
    "deepnote_cell_type": "markdown"
   }
  },
  {
   "cell_type": "code",
   "metadata": {
    "tags": [],
    "deepnote_to_be_reexecuted": false,
    "source_hash": "6f44e136",
    "is_output_hidden": true,
    "allow_embed": false,
    "execution_start": 1622219714029,
    "execution_millis": 33329,
    "cell_id": "00057-53c9d4dc-703a-4637-8a85-e503a2985dcf",
    "deepnote_cell_type": "code"
   },
   "source": "# Create a parameter dictionary for the model, {'parameter': [list of settings]}\nparameters = [\n    {\n    'alpha': [0.0001, 0.001, 0.01, 0.1, 1],\n    'shuffle': [True, False],\n    'verbose': [0, 1, 5, 10],\n    'class_weight': [None, 'balanced'],\n    },\n]\n# Created variable model which holds the KNN model\nmodel = SGDClassifier()\n# Create grid_search model, looking at recall\ngrid_search = GridSearchCV(model,\n                           param_grid=parameters,\n                           scoring='accuracy',\n                           )\n# Create variable r that hold the FIT grid_search\nr = grid_search.fit(X_train[rfe_list], y_train)\nscores = r.cv_results_\nlm = r.best_estimator_",
   "outputs": [
    {
     "name": "stdout",
     "text": "Norm: 0.05, NNZs: 15, Bias: 0.927669, T: 5612, Avg. loss: 0.644650\nTotal training time: 0.00 seconds.\n-- Epoch 3\nNorm: 0.04, NNZs: 15, Bias: 0.935944, T: 8418, Avg. loss: 0.644407\nTotal training time: 0.00 seconds.\n-- Epoch 4\nNorm: 0.04, NNZs: 15, Bias: 0.941269, T: 11224, Avg. loss: 0.644296\nTotal training time: 0.00 seconds.\n-- Epoch 5\nNorm: 0.04, NNZs: 15, Bias: 0.945146, T: 14030, Avg. loss: 0.644233\nTotal training time: 0.00 seconds.\n-- Epoch 6\nNorm: 0.04, NNZs: 15, Bias: 0.948040, T: 16836, Avg. loss: 0.644194\nTotal training time: 0.00 seconds.\n-- Epoch 7\nNorm: 0.04, NNZs: 15, Bias: 0.950262, T: 19642, Avg. loss: 0.644173\nTotal training time: 0.00 seconds.\nConvergence after 7 epochs took 0.00 seconds\n-- Epoch 1\nNorm: 0.05, NNZs: 15, Bias: 0.910392, T: 2807, Avg. loss: 0.649182\nTotal training time: 0.00 seconds.\n-- Epoch 2\nNorm: 0.05, NNZs: 15, Bias: 0.926561, T: 5614, Avg. loss: 0.644383\nTotal training time: 0.00 seconds.\n-- Epoch 3\nNorm: 0.04, NNZs: 15, Bias: 0.934839, T: 8421, Avg. loss: 0.644144\nTotal training time: 0.00 seconds.\n-- Epoch 4\nNorm: 0.04, NNZs: 15, Bias: 0.940151, T: 11228, Avg. loss: 0.644036\nTotal training time: 0.00 seconds.\n-- Epoch 5\nNorm: 0.04, NNZs: 15, Bias: 0.943863, T: 14035, Avg. loss: 0.643976\nTotal training time: 0.00 seconds.\n-- Epoch 6\nNorm: 0.04, NNZs: 15, Bias: 0.946760, T: 16842, Avg. loss: 0.643942\nTotal training time: 0.00 seconds.\n-- Epoch 7\nNorm: 0.04, NNZs: 15, Bias: 0.948984, T: 19649, Avg. loss: 0.643922\nTotal training time: 0.00 seconds.\nConvergence after 7 epochs took 0.00 seconds\n-- Epoch 1\nNorm: 0.04, NNZs: 14, Bias: 0.906816, T: 2807, Avg. loss: 0.649312\nTotal training time: 0.00 seconds.\n-- Epoch 2\nNorm: 0.04, NNZs: 14, Bias: 0.925809, T: 5614, Avg. loss: 0.644508\nTotal training time: 0.00 seconds.\n-- Epoch 3\nNorm: 0.04, NNZs: 14, Bias: 0.934971, T: 8421, Avg. loss: 0.644256\nTotal training time: 0.00 seconds.\n-- Epoch 4\nNorm: 0.04, NNZs: 14, Bias: 0.940626, T: 11228, Avg. loss: 0.644158\nTotal training time: 0.00 seconds.\n-- Epoch 5\nNorm: 0.03, NNZs: 14, Bias: 0.944681, T: 14035, Avg. loss: 0.644106\nTotal training time: 0.00 seconds.\n-- Epoch 6\nNorm: 0.03, NNZs: 14, Bias: 0.947747, T: 16842, Avg. loss: 0.644075\nTotal training time: 0.00 seconds.\n-- Epoch 7\nNorm: 0.03, NNZs: 14, Bias: 0.950201, T: 19649, Avg. loss: 0.644053\nTotal training time: 0.00 seconds.\nConvergence after 7 epochs took 0.00 seconds\n-- Epoch 1\nNorm: 0.10, NNZs: 15, Bias: -0.849129, T: 2806, Avg. loss: 1.244036\nTotal training time: 0.00 seconds.\n-- Epoch 2\nNorm: 0.10, NNZs: 15, Bias: -0.850756, T: 5612, Avg. loss: 1.263743\nTotal training time: 0.00 seconds.\n-- Epoch 3\nNorm: 0.10, NNZs: 15, Bias: -0.848656, T: 8418, Avg. loss: 1.252792\nTotal training time: 0.00 seconds.\n-- Epoch 4\nNorm: 0.10, NNZs: 15, Bias: -0.848016, T: 11224, Avg. loss: 1.255819\nTotal training time: 0.00 seconds.\n-- Epoch 5\nNorm: 0.10, NNZs: 15, Bias: -0.847585, T: 14030, Avg. loss: 1.255837\nTotal training time: 0.01 seconds.\n-- Epoch 6\nNorm: 0.10, NNZs: 15, Bias: -0.847766, T: 16836, Avg. loss: 1.259566\nTotal training time: 0.01 seconds.\nConvergence after 6 epochs took 0.01 seconds\n-- Epoch 1\nNorm: 0.10, NNZs: 15, Bias: -0.823099, T: 2806, Avg. loss: 1.253187\nTotal training time: 0.00 seconds.\n-- Epoch 2\nNorm: 0.10, NNZs: 15, Bias: -0.823861, T: 5612, Avg. loss: 1.251302\nTotal training time: 0.00 seconds.\n-- Epoch 3\nNorm: 0.10, NNZs: 15, Bias: -0.823264, T: 8418, Avg. loss: 1.248970\nTotal training time: 0.00 seconds.\n-- Epoch 4\nNorm: 0.10, NNZs: 15, Bias: -0.823961, T: 11224, Avg. loss: 1.253902\nTotal training time: 0.00 seconds.\n-- Epoch 5\nNorm: 0.10, NNZs: 15, Bias: -0.823808, T: 14030, Avg. loss: 1.249662\nTotal training time: 0.00 seconds.\n-- Epoch 6\nNorm: 0.10, NNZs: 15, Bias: -0.823862, T: 16836, Avg. loss: 1.250649\nTotal training time: 0.01 seconds.\n-- Epoch 7\nNorm: 0.10, NNZs: 15, Bias: -0.823967, T: 19642, Avg. loss: 1.251892\nTotal training time: 0.01 seconds.\n-- Epoch 8\nNorm: 0.10, NNZs: 15, Bias: -0.823890, T: 22448, Avg. loss: 1.250011\nTotal training time: 0.01 seconds.\nConvergence after 8 epochs took 0.01 seconds\n-- Epoch 1\nNorm: 0.10, NNZs: 15, Bias: -0.213449, T: 2806, Avg. loss: 1.037325\nTotal training time: 0.00 seconds.\n-- Epoch 2\nNorm: 0.10, NNZs: 15, Bias: -0.210679, T: 5612, Avg. loss: 1.029196\nTotal training time: 0.00 seconds.\n-- Epoch 3\nNorm: 0.10, NNZs: 15, Bias: -0.212120, T: 8418, Avg. loss: 1.039840\nTotal training time: 0.00 seconds.\n-- Epoch 4\nNorm: 0.10, NNZs: 15, Bias: -0.212545, T: 11224, Avg. loss: 1.036476\nTotal training time: 0.00 seconds.\n-- Epoch 5\nNorm: 0.10, NNZs: 15, Bias: -0.213054, T: 14030, Avg. loss: 1.037479\nTotal training time: 0.00 seconds.\n-- Epoch 6\nNorm: 0.10, NNZs: 15, Bias: -0.213043, T: 16836, Avg. loss: 1.035022\nTotal training time: 0.01 seconds.\n-- Epoch 7\nNorm: 0.10, NNZs: 15, Bias: -0.212984, T: 19642, Avg. loss: 1.034382\nTotal training time: 0.01 seconds.\nConvergence after 7 epochs took 0.01 seconds\n-- Epoch 1\nNorm: 0.10, NNZs: 15, Bias: -0.180151, T: 2807, Avg. loss: 1.022523\nTotal training time: 0.00 seconds.\n-- Epoch 2\nNorm: 0.10, NNZs: 15, Bias: -0.181809, T: 5614, Avg. loss: 1.026830\nTotal training time: 0.00 seconds.\n-- Epoch 3\nNorm: 0.10, NNZs: 15, Bias: -0.182104, T: 8421, Avg. loss: 1.023000\nTotal training time: 0.00 seconds.\n-- Epoch 4\nNorm: 0.10, NNZs: 15, Bias: -0.181416, T: 11228, Avg. loss: 1.018282\nTotal training time: 0.00 seconds.\n-- Epoch 5\nNorm: 0.10, NNZs: 15, Bias: -0.181234, T: 14035, Avg. loss: 1.020437\nTotal training time: 0.00 seconds.\n-- Epoch 6\nNorm: 0.10, NNZs: 15, Bias: -0.181004, T: 16842, Avg. loss: 1.019750\nTotal training time: 0.01 seconds.\n-- Epoch 7\nNorm: 0.10, NNZs: 15, Bias: -0.180872, T: 19649, Avg. loss: 1.020050\nTotal training time: 0.01 seconds.\n-- Epoch 8\nNorm: 0.10, NNZs: 15, Bias: -0.180569, T: 22456, Avg. loss: 1.017942\nTotal training time: 0.01 seconds.\n-- Epoch 9\nNorm: 0.10, NNZs: 15, Bias: -0.180649, T: 25263, Avg. loss: 1.021907\nTotal training time: 0.01 seconds.\nConvergence after 9 epochs took 0.01 seconds\n-- Epoch 1\nNorm: 0.09, NNZs: 14, Bias: -0.214847, T: 2807, Avg. loss: 1.064683\nTotal training time: 0.00 seconds.\n-- Epoch 2\nNorm: 0.09, NNZs: 14, Bias: -0.218858, T: 5614, Avg. loss: 1.046172\nTotal training time: 0.00 seconds.\n-- Epoch 3\nNorm: 0.09, NNZs: 14, Bias: -0.219091, T: 8421, Avg. loss: 1.041133\nTotal training time: 0.00 seconds.\n-- Epoch 4\nNorm: 0.09, NNZs: 14, Bias: -0.218233, T: 11228, Avg. loss: 1.035913\nTotal training time: 0.00 seconds.\n-- Epoch 5\nNorm: 0.09, NNZs: 14, Bias: -0.218187, T: 14035, Avg. loss: 1.039975\nTotal training time: 0.00 seconds.\n-- Epoch 6\nNorm: 0.09, NNZs: 14, Bias: -0.218186, T: 16842, Avg. loss: 1.040139\nTotal training time: 0.01 seconds.\n-- Epoch 7\nNorm: 0.09, NNZs: 14, Bias: -0.218332, T: 19649, Avg. loss: 1.041879\nTotal training time: 0.01 seconds.\n-- Epoch 8\nNorm: 0.09, NNZs: 14, Bias: -0.218221, T: 22456, Avg. loss: 1.039346\nTotal training time: 0.01 seconds.\n-- Epoch 9\nNorm: 0.09, NNZs: 14, Bias: -0.218282, T: 25263, Avg. loss: 1.040926\nTotal training time: 0.01 seconds.\nConvergence after 9 epochs took 0.01 seconds\n-- Epoch 1\nNorm: 0.11, NNZs: 15, Bias: -0.820005, T: 2806, Avg. loss: 1.255318\nTotal training time: 0.00 seconds.\n-- Epoch 2\nNorm: 0.11, NNZs: 15, Bias: -0.818816, T: 5612, Avg. loss: 1.245242\nTotal training time: 0.00 seconds.\n-- Epoch 3\nNorm: 0.11, NNZs: 15, Bias: -0.818002, T: 8418, Avg. loss: 1.243259\nTotal training time: 0.00 seconds.\n-- Epoch 4\nNorm: 0.11, NNZs: 15, Bias: -0.818112, T: 11224, Avg. loss: 1.247563\nTotal training time: 0.00 seconds.\n-- Epoch 5\nNorm: 0.11, NNZs: 15, Bias: -0.818229, T: 14030, Avg. loss: 1.248137\nTotal training time: 0.01 seconds.\n-- Epoch 6\nNorm: 0.11, NNZs: 15, Bias: -0.818359, T: 16836, Avg. loss: 1.247891\nTotal training time: 0.01 seconds.\n-- Epoch 7\nNorm: 0.11, NNZs: 15, Bias: -0.818035, T: 19642, Avg. loss: 1.243990\nTotal training time: 0.01 seconds.\n-- Epoch 8\nNorm: 0.11, NNZs: 15, Bias: -0.818060, T: 22448, Avg. loss: 1.247487\nTotal training time: 0.01 seconds.\nConvergence after 8 epochs took 0.01 seconds\n-- Epoch 1\nNorm: 0.10, NNZs: 15, Bias: -0.915869, T: 2806, Avg. loss: 1.299454\nTotal training time: 0.00 seconds.\n-- Epoch 2\nNorm: 0.10, NNZs: 15, Bias: -0.916973, T: 5612, Avg. loss: 1.285173\nTotal training time: 0.00 seconds.\n-- Epoch 3\nNorm: 0.10, NNZs: 15, Bias: -0.918293, T: 8418, Avg. loss: 1.288618\nTotal training time: 0.00 seconds.\n-- Epoch 4\nNorm: 0.10, NNZs: 15, Bias: -0.918604, T: 11224, Avg. loss: 1.285307\nTotal training time: 0.00 seconds.\n-- Epoch 5\nNorm: 0.10, NNZs: 15, Bias: -0.918603, T: 14030, Avg. loss: 1.284590\nTotal training time: 0.00 seconds.\n-- Epoch 6\nNorm: 0.10, NNZs: 15, Bias: -0.918661, T: 16836, Avg. loss: 1.285046\nTotal training time: 0.00 seconds.\n-- Epoch 7\nNorm: 0.10, NNZs: 15, Bias: -0.918591, T: 19642, Avg. loss: 1.283422\nTotal training time: 0.00 seconds.\n-- Epoch 8\nNorm: 0.10, NNZs: 15, Bias: -0.918470, T: 22448, Avg. loss: 1.283143\nTotal training time: 0.00 seconds.\n-- Epoch 9\nNorm: 0.10, NNZs: 15, Bias: -0.918471, T: 25254, Avg. loss: 1.284348\nTotal training time: 0.00 seconds.\n-- Epoch 10\nNorm: 0.10, NNZs: 15, Bias: -0.918429, T: 28060, Avg. loss: 1.283882\nTotal training time: 0.01 seconds.\n-- Epoch 11\nNorm: 0.10, NNZs: 15, Bias: -0.918508, T: 30866, Avg. loss: 1.285647\nTotal training time: 0.01 seconds.\n-- Epoch 12\nNorm: 0.10, NNZs: 15, Bias: -0.918489, T: 33672, Avg. loss: 1.284250\nTotal training time: 0.01 seconds.\nConvergence after 12 epochs took 0.01 seconds\n-- Epoch 1\nNorm: 0.10, NNZs: 15, Bias: -0.778276, T: 2806, Avg. loss: 1.226629\nTotal training time: 0.00 seconds.\n-- Epoch 2\nNorm: 0.10, NNZs: 15, Bias: -0.778858, T: 5612, Avg. loss: 1.237613\nTotal training time: 0.00 seconds.\n-- Epoch 3\nNorm: 0.10, NNZs: 15, Bias: -0.778937, T: 8418, Avg. loss: 1.234887\nTotal training time: 0.00 seconds.\n-- Epoch 4\nNorm: 0.10, NNZs: 15, Bias: -0.778507, T: 11224, Avg. loss: 1.234148\nTotal training time: 0.00 seconds.\n-- Epoch 5\nNorm: 0.10, NNZs: 15, Bias: -0.778277, T: 14030, Avg. loss: 1.234224\nTotal training time: 0.00 seconds.\n-- Epoch 6\nNorm: 0.10, NNZs: 15, Bias: -0.777941, T: 16836, Avg. loss: 1.233214\nTotal training time: 0.00 seconds.\nConvergence after 6 epochs took 0.00 seconds\n-- Epoch 1\nNorm: 0.10, NNZs: 15, Bias: -0.678064, T: 2807, Avg. loss: 1.192207\nTotal training time: 0.00 seconds.\n-- Epoch 2\nNorm: 0.10, NNZs: 15, Bias: -0.678859, T: 5614, Avg. loss: 1.198226\nTotal training time: 0.00 seconds.\n-- Epoch 3\nNorm: 0.10, NNZs: 15, Bias: -0.677681, T: 8421, Avg. loss: 1.192301\nTotal training time: 0.00 seconds.\n-- Epoch 4\nNorm: 0.10, NNZs: 15, Bias: -0.677088, T: 11228, Avg. loss: 1.194879\nTotal training time: 0.00 seconds.\n-- Epoch 5\nNorm: 0.10, NNZs: 15, Bias: -0.677150, T: 14035, Avg. loss: 1.197375\nTotal training time: 0.00 seconds.\n-- Epoch 6\nNorm: 0.10, NNZs: 15, Bias: -0.677235, T: 16842, Avg. loss: 1.197624\nTotal training time: 0.01 seconds.\nConvergence after 6 epochs took 0.01 seconds\n-- Epoch 1\nNorm: 0.09, NNZs: 14, Bias: 0.026178, T: 2807, Avg. loss: 0.965393\nTotal training time: 0.00 seconds.\n-- Epoch 2\nNorm: 0.09, NNZs: 14, Bias: 0.024292, T: 5614, Avg. loss: 0.959872\nTotal training time: 0.00 seconds.\n-- Epoch 3\nNorm: 0.09, NNZs: 14, Bias: 0.023511, T: 8421, Avg. loss: 0.958444\nTotal training time: 0.00 seconds.\n-- Epoch 4\nNorm: 0.09, NNZs: 14, Bias: 0.024254, T: 11228, Avg. loss: 0.951185\nTotal training time: 0.00 seconds.\n-- Epoch 5\nNorm: 0.09, NNZs: 14, Bias: 0.023817, T: 14035, Avg. loss: 0.957366\nTotal training time: 0.00 seconds.\n-- Epoch 6\nNorm: 0.09, NNZs: 14, Bias: 0.023423, T: 16842, Avg. loss: 0.957320\nTotal training time: 0.00 seconds.\n-- Epoch 7\nNorm: 0.09, NNZs: 14, Bias: 0.023538, T: 19649, Avg. loss: 0.953911\nTotal training time: 0.00 seconds.\n-- Epoch 8\nNorm: 0.09, NNZs: 14, Bias: 0.023529, T: 22456, Avg. loss: 0.954660\nTotal training time: 0.00 seconds.\n-- Epoch 9\nNorm: 0.09, NNZs: 14, Bias: 0.023516, T: 25263, Avg. loss: 0.954809\nTotal training time: 0.00 seconds.\nConvergence after 9 epochs took 0.01 seconds\n-- Epoch 1\nNorm: 0.10, NNZs: 15, Bias: 0.281328, T: 2806, Avg. loss: 0.863491\nTotal training time: 0.00 seconds.\n-- Epoch 2\nNorm: 0.10, NNZs: 15, Bias: 0.281587, T: 5612, Avg. loss: 0.861110\nTotal training time: 0.00 seconds.\n-- Epoch 3\nNorm: 0.10, NNZs: 15, Bias: 0.281608, T: 8418, Avg. loss: 0.858310\nTotal training time: 0.00 seconds.\n-- Epoch 4\nNorm: 0.10, NNZs: 15, Bias: 0.281359, T: 11224, Avg. loss: 0.858849\nTotal training time: 0.00 seconds.\n-- Epoch 5\nNorm: 0.10, NNZs: 15, Bias: 0.281410, T: 14030, Avg. loss: 0.857469\nTotal training time: 0.00 seconds.\n-- Epoch 6\nNorm: 0.10, NNZs: 15, Bias: 0.281229, T: 16836, Avg. loss: 0.859090\nTotal training time: 0.00 seconds.\n-- Epoch 7\nNorm: 0.10, NNZs: 15, Bias: 0.281140, T: 19642, Avg. loss: 0.858423\nTotal training time: 0.00 seconds.\n-- Epoch 8\nNorm: 0.10, NNZs: 15, Bias: 0.281218, T: 22448, Avg. loss: 0.856378\nTotal training time: 0.00 seconds.\n-- Epoch 9\nNorm: 0.10, NNZs: 15, Bias: 0.281165, T: 25254, Avg. loss: 0.858160\nTotal training time: 0.00 seconds.\n-- Epoch 10\nNorm: 0.10, NNZs: 15, Bias: 0.281111, T: 28060, Avg. loss: 0.857784\nTotal training time: 0.01 seconds.\n-- Epoch 11\nNorm: 0.10, NNZs: 15, Bias: 0.281144, T: 30866, Avg. loss: 0.856743\nTotal training time: 0.01 seconds.\n-- Epoch 12\nNorm: 0.10, NNZs: 15, Bias: 0.281160, T: 33672, Avg. loss: 0.856696\nTotal training time: 0.01 seconds.\n-- Epoch 13\nNorm: 0.10, NNZs: 15, Bias: 0.281140, T: 36478, Avg. loss: 0.857657\nTotal training time: 0.01 seconds.\nConvergence after 13 epochs took 0.01 seconds\n-- Epoch 1\nNorm: 0.11, NNZs: 15, Bias: -0.010793, T: 2806, Avg. loss: 0.970727\nTotal training time: 0.00 seconds.\n-- Epoch 2\nNorm: 0.10, NNZs: 15, Bias: -0.010948, T: 5612, Avg. loss: 0.961203\nTotal training time: 0.00 seconds.\n-- Epoch 3\nNorm: 0.10, NNZs: 15, Bias: -0.010268, T: 8418, Avg. loss: 0.959183\nTotal training time: 0.00 seconds.\n-- Epoch 4\nNorm: 0.10, NNZs: 15, Bias: -0.010338, T: 11224, Avg. loss: 0.961859\nTotal training time: 0.00 seconds.\n-- Epoch 5\nNorm: 0.10, NNZs: 15, Bias: -0.010529, T: 14030, Avg. loss: 0.962326\nTotal training time: 0.00 seconds.\n-- Epoch 6\nNorm: 0.10, NNZs: 15, Bias: -0.010623, T: 16836, Avg. loss: 0.961960\nTotal training time: 0.00 seconds.\n-- Epoch 7\nNorm: 0.10, NNZs: 15, Bias: -0.010512, T: 19642, Avg. loss: 0.960366\nTotal training time: 0.00 seconds.\n-- Epoch 8\nNorm: 0.10, NNZs: 15, Bias: -0.010686, T: 22448, Avg. loss: 0.963757\nTotal training time: 0.00 seconds.\nConvergence after 8 epochs took 0.00 seconds\n-- Epoch 1\nNorm: 0.11, NNZs: 15, Bias: -0.902654, T: 2806, Avg. loss: 1.285863\nTotal training time: 0.00 seconds.\n-- Epoch 2\nNorm: 0.10, NNZs: 15, Bias: -0.903933, T: 5612, Avg. loss: 1.271176\nTotal training time: 0.00 seconds.\n-- Epoch 3\nNorm: 0.10, NNZs: 15, Bias: -0.905130, T: 8418, Avg. loss: 1.277859\nTotal training time: 0.00 seconds.\n-- Epoch 4\nNorm: 0.10, NNZs: 15, Bias: -0.905354, T: 11224, Avg. loss: 1.277466\nTotal training time: 0.00 seconds.\n-- Epoch 5\nNorm: 0.10, NNZs: 15, Bias: -0.905211, T: 14030, Avg. loss: 1.276357\nTotal training time: 0.00 seconds.\n-- Epoch 6\nNorm: 0.10, NNZs: 15, Bias: -0.905383, T: 16836, Avg. loss: 1.279489\nTotal training time: 0.00 seconds.\n-- Epoch 7\nNorm: 0.10, NNZs: 15, Bias: -0.905126, T: 19642, Avg. loss: 1.276190\nTotal training time: 0.01 seconds.\nConvergence after 7 epochs took 0.01 seconds\n-- Epoch 1\nNorm: 0.10, NNZs: 15, Bias: 0.295661, T: 2807, Avg. loss: 0.856096\nTotal training time: 0.00 seconds.\n-- Epoch 2\nNorm: 0.10, NNZs: 15, Bias: 0.298143, T: 5614, Avg. loss: 0.847518\nTotal training time: 0.00 seconds.\n-- Epoch 3\nNorm: 0.10, NNZs: 15, Bias: 0.299832, T: 8421, Avg. loss: 0.843988\nTotal training time: 0.00 seconds.\n-- Epoch 4\nNorm: 0.10, NNZs: 15, Bias: 0.299079, T: 11228, Avg. loss: 0.854596\nTotal training time: 0.00 seconds.\n-- Epoch 5\nNorm: 0.10, NNZs: 15, Bias: 0.298862, T: 14035, Avg. loss: 0.852266\nTotal training time: 0.00 seconds.\n-- Epoch 6\nNorm: 0.10, NNZs: 15, Bias: 0.298642, T: 16842, Avg. loss: 0.852064\nTotal training time: 0.00 seconds.\n-- Epoch 7\nNorm: 0.10, NNZs: 15, Bias: 0.298508, T: 19649, Avg. loss: 0.851545\nTotal training time: 0.00 seconds.\n-- Epoch 8\nNorm: 0.10, NNZs: 15, Bias: 0.298379, T: 22456, Avg. loss: 0.851941\nTotal training time: 0.00 seconds.\nConvergence after 8 epochs took 0.00 seconds\n-- Epoch 1\nNorm: 0.10, NNZs: 14, Bias: -0.903141, T: 2807, Avg. loss: 1.280230\nTotal training time: 0.00 seconds.\n-- Epoch 2\nNorm: 0.09, NNZs: 14, Bias: -0.899965, T: 5614, Avg. loss: 1.273870\nTotal training time: 0.00 seconds.\n-- Epoch 3\nNorm: 0.09, NNZs: 14, Bias: -0.899046, T: 8421, Avg. loss: 1.277588\nTotal training time: 0.00 seconds.\n-- Epoch 4\nNorm: 0.09, NNZs: 14, Bias: -0.899852, T: 11228, Avg. loss: 1.284843\nTotal training time: 0.00 seconds.\n-- Epoch 5\nNorm: 0.09, NNZs: 14, Bias: -0.899779, T: 14035, Avg. loss: 1.281101\nTotal training time: 0.00 seconds.\n-- Epoch 6\nNorm: 0.09, NNZs: 14, Bias: -0.899888, T: 16842, Avg. loss: 1.282755\nTotal training time: 0.06 seconds.\n-- Epoch 7\nNorm: 0.09, NNZs: 14, Bias: -0.899976, T: 19649, Avg. loss: 1.282915\nTotal training time: 0.06 seconds.\nConvergence after 7 epochs took 0.06 seconds\n-- Epoch 1\nNorm: 0.10, NNZs: 15, Bias: 0.427016, T: 2806, Avg. loss: 0.811026\nTotal training time: 0.00 seconds.\n-- Epoch 2\nNorm: 0.10, NNZs: 15, Bias: 0.428309, T: 5612, Avg. loss: 0.806121\nTotal training time: 0.00 seconds.\n-- Epoch 3\nNorm: 0.10, NNZs: 15, Bias: 0.428794, T: 8418, Avg. loss: 0.805158\nTotal training time: 0.00 seconds.\n-- Epoch 4\nNorm: 0.10, NNZs: 15, Bias: 0.429050, T: 11224, Avg. loss: 0.804789\nTotal training time: 0.00 seconds.\n-- Epoch 5\nNorm: 0.10, NNZs: 15, Bias: 0.429209, T: 14030, Avg. loss: 0.804594\nTotal training time: 0.01 seconds.\n-- Epoch 6\nNorm: 0.10, NNZs: 15, Bias: 0.429316, T: 16836, Avg. loss: 0.804474\nTotal training time: 0.01 seconds.\n-- Epoch 7\nNorm: 0.10, NNZs: 15, Bias: 0.429394, T: 19642, Avg. loss: 0.804393\nTotal training time: 0.01 seconds.\nConvergence after 7 epochs took 0.01 seconds\n-- Epoch 1\nNorm: 0.10, NNZs: 15, Bias: -0.099896, T: 2806, Avg. loss: 1.009042\nTotal training time: 0.00 seconds.\n-- Epoch 2\nNorm: 0.10, NNZs: 15, Bias: -0.099319, T: 5612, Avg. loss: 0.993450\nTotal training time: 0.00 seconds.\n-- Epoch 3\nNorm: 0.10, NNZs: 15, Bias: -0.099018, T: 8418, Avg. loss: 0.993022\nTotal training time: 0.00 seconds.\n-- Epoch 4\nNorm: 0.10, NNZs: 15, Bias: -0.098845, T: 11224, Avg. loss: 0.992905\nTotal training time: 0.00 seconds.\n-- Epoch 5\nNorm: 0.10, NNZs: 15, Bias: -0.098733, T: 14030, Avg. loss: 0.992857\nTotal training time: 0.01 seconds.\n-- Epoch 6\nNorm: 0.10, NNZs: 15, Bias: -0.098656, T: 16836, Avg. loss: 0.992832\nTotal training time: 0.01 seconds.\n-- Epoch 7\nNorm: 0.10, NNZs: 15, Bias: -0.098599, T: 19642, Avg. loss: 0.992818\nTotal training time: 0.01 seconds.\nConvergence after 7 epochs took 0.01 seconds\n-- Epoch 1\nNorm: 0.10, NNZs: 15, Bias: -0.092218, T: 2806, Avg. loss: 1.005331\nTotal training time: 0.00 seconds.\n-- Epoch 2\nNorm: 0.10, NNZs: 15, Bias: -0.091292, T: 5612, Avg. loss: 0.991310\nTotal training time: 0.00 seconds.\n-- Epoch 3\nNorm: 0.10, NNZs: 15, Bias: -0.090884, T: 8418, Avg. loss: 0.991062\nTotal training time: 0.00 seconds.\n-- Epoch 4\nNorm: 0.10, NNZs: 15, Bias: -0.090659, T: 11224, Avg. loss: 0.991011\nTotal training time: 0.00 seconds.\n-- Epoch 5\nNorm: 0.10, NNZs: 15, Bias: -0.090517, T: 14030, Avg. loss: 0.990996\nTotal training time: 0.00 seconds.\n-- Epoch 6\nNorm: 0.10, NNZs: 15, Bias: -0.090420, T: 16836, Avg. loss: 0.990992\nTotal training time: 0.01 seconds.\n-- Epoch 7\nNorm: 0.10, NNZs: 15, Bias: -0.090349, T: 19642, Avg. loss: 0.990991\nTotal training time: 0.01 seconds.\nConvergence after 7 epochs took 0.01 seconds\n-- Epoch 1\nNorm: 0.10, NNZs: 15, Bias: -0.098442, T: 2807, Avg. loss: 1.009109\nTotal training time: 0.00 seconds.\n-- Epoch 2\nNorm: 0.10, NNZs: 15, Bias: -0.098182, T: 5614, Avg. loss: 0.992689\nTotal training time: 0.00 seconds.\n-- Epoch 3\nNorm: 0.10, NNZs: 15, Bias: -0.098027, T: 8421, Avg. loss: 0.991954\nTotal training time: 0.00 seconds.\n-- Epoch 4\nNorm: 0.10, NNZs: 15, Bias: -0.097935, T: 11228, Avg. loss: 0.991685\nTotal training time: 0.00 seconds.\n-- Epoch 5\nNorm: 0.10, NNZs: 15, Bias: -0.097875, T: 14035, Avg. loss: 0.991547\nTotal training time: 0.00 seconds.\n-- Epoch 6\nNorm: 0.10, NNZs: 15, Bias: -0.097833, T: 16842, Avg. loss: 0.991463\nTotal training time: 0.01 seconds.\n-- Epoch 7\nNorm: 0.10, NNZs: 15, Bias: -0.097802, T: 19649, Avg. loss: 0.991406\nTotal training time: 0.01 seconds.\nConvergence after 7 epochs took 0.01 seconds\n-- Epoch 1\nNorm: 0.09, NNZs: 14, Bias: -0.099264, T: 2807, Avg. loss: 1.011839\nTotal training time: 0.00 seconds.\n-- Epoch 2\nNorm: 0.09, NNZs: 14, Bias: -0.099157, T: 5614, Avg. loss: 0.998394\nTotal training time: 0.00 seconds.\n-- Epoch 3\nNorm: 0.09, NNZs: 14, Bias: -0.099064, T: 8421, Avg. loss: 0.998077\nTotal training time: 0.00 seconds.\n-- Epoch 4\nNorm: 0.09, NNZs: 14, Bias: -0.099005, T: 11228, Avg. loss: 0.997984\nTotal training time: 0.01 seconds.\n-- Epoch 5\nNorm: 0.09, NNZs: 14, Bias: -0.098966, T: 14035, Avg. loss: 0.997942\nTotal training time: 0.01 seconds.\n-- Epoch 6\nNorm: 0.09, NNZs: 14, Bias: -0.098938, T: 16842, Avg. loss: 0.997920\nTotal training time: 0.01 seconds.\n-- Epoch 7\nNorm: 0.09, NNZs: 14, Bias: -0.098917, T: 19649, Avg. loss: 0.997906\nTotal training time: 0.01 seconds.\nConvergence after 7 epochs took 0.01 seconds\n-- Epoch 1\nNorm: 0.10, NNZs: 15, Bias: 0.427016, T: 2806, Avg. loss: 0.811026\nTotal training time: 0.00 seconds.\n-- Epoch 2\nNorm: 0.10, NNZs: 15, Bias: 0.428309, T: 5612, Avg. loss: 0.806121\nTotal training time: 0.00 seconds.\n-- Epoch 3\nNorm: 0.10, NNZs: 15, Bias: 0.428794, T: 8418, Avg. loss: 0.805158\nTotal training time: 0.00 seconds.\n-- Epoch 4\nNorm: 0.10, NNZs: 15, Bias: 0.429050, T: 11224, Avg. loss: 0.804789\nTotal training time: 0.00 seconds.\n-- Epoch 5\nNorm: 0.10, NNZs: 15, Bias: 0.429209, T: 14030, Avg. loss: 0.804594\nTotal training time: 0.00 seconds.\n-- Epoch 6\nNorm: 0.10, NNZs: 15, Bias: 0.429316, T: 16836, Avg. loss: 0.804474\nTotal training time: 0.00 seconds.\n-- Epoch 7\nNorm: 0.10, NNZs: 15, Bias: 0.429394, T: 19642, Avg. loss: 0.804393\nTotal training time: 0.00 seconds.\nConvergence after 7 epochs took 0.00 seconds\n-- Epoch 1\nNorm: 0.10, NNZs: 15, Bias: -0.099896, T: 2806, Avg. loss: 1.009042\nTotal training time: 0.00 seconds.\n-- Epoch 2\nNorm: 0.10, NNZs: 15, Bias: -0.099319, T: 5612, Avg. loss: 0.993450\nTotal training time: 0.00 seconds.\n-- Epoch 3\nNorm: 0.10, NNZs: 15, Bias: -0.099018, T: 8418, Avg. loss: 0.993022\nTotal training time: 0.00 seconds.\n-- Epoch 4\nNorm: 0.10, NNZs: 15, Bias: -0.098845, T: 11224, Avg. loss: 0.992905\nTotal training time: 0.00 seconds.\n-- Epoch 5\nNorm: 0.10, NNZs: 15, Bias: -0.098733, T: 14030, Avg. loss: 0.992857\nTotal training time: 0.00 seconds.\n-- Epoch 6\nNorm: 0.10, NNZs: 15, Bias: -0.098656, T: 16836, Avg. loss: 0.992832\nTotal training time: 0.00 seconds.\n-- Epoch 7\nNorm: 0.10, NNZs: 15, Bias: -0.098599, T: 19642, Avg. loss: 0.992818\nTotal training time: 0.00 seconds.\nConvergence after 7 epochs took 0.00 seconds\n-- Epoch 1\nNorm: 0.10, NNZs: 15, Bias: -0.092218, T: 2806, Avg. loss: 1.005331\nTotal training time: 0.00 seconds.\n-- Epoch 2\nNorm: 0.10, NNZs: 15, Bias: -0.091292, T: 5612, Avg. loss: 0.991310\nTotal training time: 0.00 seconds.\n-- Epoch 3\nNorm: 0.10, NNZs: 15, Bias: -0.090884, T: 8418, Avg. loss: 0.991062\nTotal training time: 0.00 seconds.\n-- Epoch 4\nNorm: 0.10, NNZs: 15, Bias: -0.090659, T: 11224, Avg. loss: 0.991011\nTotal training time: 0.00 seconds.\n-- Epoch 5\nNorm: 0.10, NNZs: 15, Bias: -0.090517, T: 14030, Avg. loss: 0.990996\nTotal training time: 0.00 seconds.\n-- Epoch 6\nNorm: 0.10, NNZs: 15, Bias: -0.090420, T: 16836, Avg. loss: 0.990992\nTotal training time: 0.00 seconds.\n-- Epoch 7\nNorm: 0.10, NNZs: 15, Bias: -0.090349, T: 19642, Avg. loss: 0.990991\nTotal training time: 0.00 seconds.\nConvergence after 7 epochs took 0.00 seconds\n-- Epoch 1\nNorm: 0.10, NNZs: 15, Bias: -0.098442, T: 2807, Avg. loss: 1.009109\nTotal training time: 0.00 seconds.\n-- Epoch 2\nNorm: 0.10, NNZs: 15, Bias: -0.098182, T: 5614, Avg. loss: 0.992689\nTotal training time: 0.00 seconds.\n-- Epoch 3\nNorm: 0.10, NNZs: 15, Bias: -0.098027, T: 8421, Avg. loss: 0.991954\nTotal training time: 0.00 seconds.\n-- Epoch 4\nNorm: 0.10, NNZs: 15, Bias: -0.097935, T: 11228, Avg. loss: 0.991685\nTotal training time: 0.00 seconds.\n-- Epoch 5\nNorm: 0.10, NNZs: 15, Bias: -0.097875, T: 14035, Avg. loss: 0.991547\nTotal training time: 0.00 seconds.\n-- Epoch 6\nNorm: 0.10, NNZs: 15, Bias: -0.097833, T: 16842, Avg. loss: 0.991463\nTotal training time: 0.00 seconds.\n-- Epoch 7\nNorm: 0.10, NNZs: 15, Bias: -0.097802, T: 19649, Avg. loss: 0.991406\nTotal training time: 0.00 seconds.\nConvergence after 7 epochs took 0.00 seconds\n-- Epoch 1\nNorm: 0.09, NNZs: 14, Bias: -0.099264, T: 2807, Avg. loss: 1.011839\nTotal training time: 0.00 seconds.\n-- Epoch 2\nNorm: 0.09, NNZs: 14, Bias: -0.099157, T: 5614, Avg. loss: 0.998394\nTotal training time: 0.00 seconds.\n-- Epoch 3\nNorm: 0.09, NNZs: 14, Bias: -0.099064, T: 8421, Avg. loss: 0.998077\nTotal training time: 0.00 seconds.\n-- Epoch 4\nNorm: 0.09, NNZs: 14, Bias: -0.099005, T: 11228, Avg. loss: 0.997984\nTotal training time: 0.01 seconds.\n-- Epoch 5\nNorm: 0.09, NNZs: 14, Bias: -0.098966, T: 14035, Avg. loss: 0.997942\nTotal training time: 0.01 seconds.\n-- Epoch 6\nNorm: 0.09, NNZs: 14, Bias: -0.098938, T: 16842, Avg. loss: 0.997920\nTotal training time: 0.01 seconds.\n-- Epoch 7\nNorm: 0.09, NNZs: 14, Bias: -0.098917, T: 19649, Avg. loss: 0.997906\nTotal training time: 0.01 seconds.\nConvergence after 7 epochs took 0.01 seconds\n-- Epoch 1\nNorm: 0.10, NNZs: 15, Bias: 0.427016, T: 2806, Avg. loss: 0.811026\nTotal training time: 0.06 seconds.\n-- Epoch 2\nNorm: 0.10, NNZs: 15, Bias: 0.428309, T: 5612, Avg. loss: 0.806121\nTotal training time: 0.06 seconds.\n-- Epoch 3\nNorm: 0.10, NNZs: 15, Bias: 0.428794, T: 8418, Avg. loss: 0.805158\nTotal training time: 0.06 seconds.\n-- Epoch 4\nNorm: 0.10, NNZs: 15, Bias: 0.429050, T: 11224, Avg. loss: 0.804789\nTotal training time: 0.07 seconds.\n-- Epoch 5\nNorm: 0.10, NNZs: 15, Bias: 0.429209, T: 14030, Avg. loss: 0.804594\nTotal training time: 0.07 seconds.\n-- Epoch 6\nNorm: 0.10, NNZs: 15, Bias: 0.429316, T: 16836, Avg. loss: 0.804474\nTotal training time: 0.07 seconds.\n-- Epoch 7\nNorm: 0.10, NNZs: 15, Bias: 0.429394, T: 19642, Avg. loss: 0.804393\nTotal training time: 0.07 seconds.\nConvergence after 7 epochs took 0.07 seconds\n-- Epoch 1\nNorm: 0.10, NNZs: 15, Bias: -0.099896, T: 2806, Avg. loss: 1.009042\nTotal training time: 0.00 seconds.\n-- Epoch 2\nNorm: 0.10, NNZs: 15, Bias: -0.099319, T: 5612, Avg. loss: 0.993450\nTotal training time: 0.00 seconds.\n-- Epoch 3\nNorm: 0.10, NNZs: 15, Bias: -0.099018, T: 8418, Avg. loss: 0.993022\nTotal training time: 0.00 seconds.\n-- Epoch 4\nNorm: 0.10, NNZs: 15, Bias: -0.098845, T: 11224, Avg. loss: 0.992905\nTotal training time: 0.00 seconds.\n-- Epoch 5\nNorm: 0.10, NNZs: 15, Bias: -0.098733, T: 14030, Avg. loss: 0.992857\nTotal training time: 0.00 seconds.\n-- Epoch 6\nNorm: 0.10, NNZs: 15, Bias: -0.098656, T: 16836, Avg. loss: 0.992832\nTotal training time: 0.01 seconds.\n-- Epoch 7\nNorm: 0.10, NNZs: 15, Bias: -0.098599, T: 19642, Avg. loss: 0.992818\nTotal training time: 0.01 seconds.\nConvergence after 7 epochs took 0.01 seconds\n-- Epoch 1\nNorm: 0.10, NNZs: 15, Bias: -0.092218, T: 2806, Avg. loss: 1.005331\nTotal training time: 0.00 seconds.\n-- Epoch 2\nNorm: 0.10, NNZs: 15, Bias: -0.091292, T: 5612, Avg. loss: 0.991310\nTotal training time: 0.00 seconds.\n-- Epoch 3\nNorm: 0.10, NNZs: 15, Bias: -0.090884, T: 8418, Avg. loss: 0.991062\nTotal training time: 0.00 seconds.\n-- Epoch 4\nNorm: 0.10, NNZs: 15, Bias: -0.090659, T: 11224, Avg. loss: 0.991011\nTotal training time: 0.00 seconds.\n-- Epoch 5\nNorm: 0.10, NNZs: 15, Bias: -0.090517, T: 14030, Avg. loss: 0.990996\nTotal training time: 0.00 seconds.\n-- Epoch 6\nNorm: 0.10, NNZs: 15, Bias: -0.090420, T: 16836, Avg. loss: 0.990992\nTotal training time: 0.00 seconds.\n-- Epoch 7\nNorm: 0.10, NNZs: 15, Bias: -0.090349, T: 19642, Avg. loss: 0.990991\nTotal training time: 0.06 seconds.\nConvergence after 7 epochs took 0.06 seconds\n-- Epoch 1\nNorm: 0.10, NNZs: 15, Bias: -0.098442, T: 2807, Avg. loss: 1.009109\nTotal training time: 0.00 seconds.\n-- Epoch 2\nNorm: 0.10, NNZs: 15, Bias: -0.098182, T: 5614, Avg. loss: 0.992689\nTotal training time: 0.00 seconds.\n-- Epoch 3\nNorm: 0.10, NNZs: 15, Bias: -0.098027, T: 8421, Avg. loss: 0.991954\nTotal training time: 0.00 seconds.\n-- Epoch 4\nNorm: 0.10, NNZs: 15, Bias: -0.097935, T: 11228, Avg. loss: 0.991685\nTotal training time: 0.00 seconds.\n-- Epoch 5\nNorm: 0.10, NNZs: 15, Bias: -0.097875, T: 14035, Avg. loss: 0.991547\nTotal training time: 0.00 seconds.\n-- Epoch 6\nNorm: 0.10, NNZs: 15, Bias: -0.097833, T: 16842, Avg. loss: 0.991463\nTotal training time: 0.01 seconds.\n-- Epoch 7\nNorm: 0.10, NNZs: 15, Bias: -0.097802, T: 19649, Avg. loss: 0.991406\nTotal training time: 0.01 seconds.\nConvergence after 7 epochs took 0.01 seconds\n-- Epoch 1\nNorm: 0.09, NNZs: 14, Bias: -0.099264, T: 2807, Avg. loss: 1.011839\nTotal training time: 0.00 seconds.\n-- Epoch 2\nNorm: 0.09, NNZs: 14, Bias: -0.099157, T: 5614, Avg. loss: 0.998394\nTotal training time: 0.00 seconds.\n-- Epoch 3\nNorm: 0.09, NNZs: 14, Bias: -0.099064, T: 8421, Avg. loss: 0.998077\nTotal training time: 0.00 seconds.\n-- Epoch 4\nNorm: 0.09, NNZs: 14, Bias: -0.099005, T: 11228, Avg. loss: 0.997984\nTotal training time: 0.00 seconds.\n-- Epoch 5\nNorm: 0.09, NNZs: 14, Bias: -0.098966, T: 14035, Avg. loss: 0.997942\nTotal training time: 0.00 seconds.\n-- Epoch 6\nNorm: 0.09, NNZs: 14, Bias: -0.098938, T: 16842, Avg. loss: 0.997920\nTotal training time: 0.00 seconds.\n-- Epoch 7\nNorm: 0.09, NNZs: 14, Bias: -0.098917, T: 19649, Avg. loss: 0.997906\nTotal training time: 0.00 seconds.\nConvergence after 7 epochs took 0.00 seconds\n-- Epoch 1\nNorm: 16.45, NNZs: 14, Bias: -6.807991, T: 3508, Avg. loss: 4.944850\nTotal training time: 0.00 seconds.\n-- Epoch 2\nNorm: 9.82, NNZs: 14, Bias: -7.045462, T: 7016, Avg. loss: 2.372773\nTotal training time: 0.00 seconds.\n-- Epoch 3\nNorm: 7.41, NNZs: 14, Bias: -4.402610, T: 10524, Avg. loss: 1.717138\nTotal training time: 0.00 seconds.\n-- Epoch 4\nNorm: 7.47, NNZs: 14, Bias: -4.607301, T: 14032, Avg. loss: 1.491665\nTotal training time: 0.00 seconds.\n-- Epoch 5\nNorm: 5.76, NNZs: 15, Bias: -4.633686, T: 17540, Avg. loss: 1.282784\nTotal training time: 0.00 seconds.\n-- Epoch 6\nNorm: 5.11, NNZs: 15, Bias: -4.151029, T: 21048, Avg. loss: 1.169406\nTotal training time: 0.00 seconds.\n-- Epoch 7\nNorm: 5.34, NNZs: 15, Bias: -3.778925, T: 24556, Avg. loss: 1.104466\nTotal training time: 0.00 seconds.\n-- Epoch 8\nNorm: 4.83, NNZs: 15, Bias: -3.815842, T: 28064, Avg. loss: 1.042191\nTotal training time: 0.00 seconds.\n-- Epoch 9\nNorm: 4.06, NNZs: 15, Bias: -4.141773, T: 31572, Avg. loss: 1.000728\nTotal training time: 0.01 seconds.\n-- Epoch 10\nNorm: 3.61, NNZs: 15, Bias: -4.368859, T: 35080, Avg. loss: 0.980581\nTotal training time: 0.01 seconds.\n-- Epoch 11\nNorm: 4.59, NNZs: 15, Bias: -3.038683, T: 38588, Avg. loss: 0.945519\nTotal training time: 0.01 seconds.\n-- Epoch 12\nNorm: 4.19, NNZs: 15, Bias: -3.073919, T: 42096, Avg. loss: 0.916867\nTotal training time: 0.01 seconds.\n-- Epoch 13\nNorm: 3.59, NNZs: 15, Bias: -3.320669, T: 45604, Avg. loss: 0.919473\nTotal training time: 0.01 seconds.\n-- Epoch 14\nNorm: 3.29, NNZs: 15, Bias: -3.330354, T: 49112, Avg. loss: 0.876177\nTotal training time: 0.01 seconds.\n-- Epoch 15\nNorm: 3.32, NNZs: 15, Bias: -3.310476, T: 52620, Avg. loss: 0.876411\nTotal training time: 0.01 seconds.\n-- Epoch 16\nNorm: 4.08, NNZs: 15, Bias: -2.603353, T: 56128, Avg. loss: 0.866726\nTotal training time: 0.01 seconds.\n-- Epoch 17\nNorm: 3.15, NNZs: 15, Bias: -2.970059, T: 59636, Avg. loss: 0.846332\nTotal training time: 0.01 seconds.\n-- Epoch 18\nNorm: 3.53, NNZs: 15, Bias: -3.126213, T: 63144, Avg. loss: 0.836485\nTotal training time: 0.01 seconds.\n-- Epoch 19\nNorm: 3.64, NNZs: 15, Bias: -2.970216, T: 66652, Avg. loss: 0.817957\nTotal training time: 0.01 seconds.\n-- Epoch 20\nNorm: 3.59, NNZs: 15, Bias: -2.964783, T: 70160, Avg. loss: 0.815535\nTotal training time: 0.01 seconds.\n-- Epoch 21\nNorm: 3.29, NNZs: 15, Bias: -3.100429, T: 73668, Avg. loss: 0.811728\nTotal training time: 0.01 seconds.\n-- Epoch 22\nNorm: 3.59, NNZs: 15, Bias: -2.845034, T: 77176, Avg. loss: 0.801593\nTotal training time: 0.01 seconds.\n-- Epoch 23\nNorm: 3.43, NNZs: 15, Bias: -3.222146, T: 80684, Avg. loss: 0.797310\nTotal training time: 0.01 seconds.\n-- Epoch 24\nNorm: 3.05, NNZs: 15, Bias: -3.456394, T: 84192, Avg. loss: 0.791073\nTotal training time: 0.01 seconds.\n-- Epoch 25\nNorm: 3.47, NNZs: 15, Bias: -2.875015, T: 87700, Avg. loss: 0.785722\nTotal training time: 0.01 seconds.\n-- Epoch 26\nNorm: 3.16, NNZs: 15, Bias: -3.417273, T: 91208, Avg. loss: 0.779506\nTotal training time: 0.02 seconds.\n-- Epoch 27\nNorm: 3.31, NNZs: 15, Bias: -3.088908, T: 94716, Avg. loss: 0.773775\nTotal training time: 0.02 seconds.\n-- Epoch 28\nNorm: 3.17, NNZs: 15, Bias: -3.089248, T: 98224, Avg. loss: 0.764349\nTotal training time: 0.02 seconds.\n-- Epoch 29\nNorm: 3.62, NNZs: 15, Bias: -2.505787, T: 101732, Avg. loss: 0.758379\nTotal training time: 0.02 seconds.\n-- Epoch 30\nNorm: 3.32, NNZs: 15, Bias: -3.275746, T: 105240, Avg. loss: 0.752228\nTotal training time: 0.02 seconds.\n-- Epoch 31\nNorm: 3.14, NNZs: 15, Bias: -3.360066, T: 108748, Avg. loss: 0.757856\nTotal training time: 0.02 seconds.\n-- Epoch 32\nNorm: 3.31, NNZs: 15, Bias: -3.085017, T: 112256, Avg. loss: 0.750207\nTotal training time: 0.02 seconds.\n-- Epoch 33\nNorm: 3.47, NNZs: 15, Bias: -3.087181, T: 115764, Avg. loss: 0.746746\nTotal training time: 0.02 seconds.\n-- Epoch 34\nNorm: 3.03, NNZs: 15, Bias: -3.257228, T: 119272, Avg. loss: 0.738159\nTotal training time: 0.02 seconds.\n-- Epoch 35\nNorm: 3.55, NNZs: 15, Bias: -2.847071, T: 122780, Avg. loss: 0.745234\nTotal training time: 0.02 seconds.\n-- Epoch 36\nNorm: 3.47, NNZs: 15, Bias: -3.009659, T: 126288, Avg. loss: 0.738083\nTotal training time: 0.02 seconds.\n-- Epoch 37\nNorm: 3.42, NNZs: 15, Bias: -2.934656, T: 129796, Avg. loss: 0.733051\nTotal training time: 0.02 seconds.\n-- Epoch 38\nNorm: 3.53, NNZs: 15, Bias: -3.088554, T: 133304, Avg. loss: 0.733474\nTotal training time: 0.02 seconds.\n-- Epoch 39\nNorm: 3.26, NNZs: 15, Bias: -3.162070, T: 136812, Avg. loss: 0.727514\nTotal training time: 0.02 seconds.\n-- Epoch 40\nNorm: 3.49, NNZs: 15, Bias: -3.230064, T: 140320, Avg. loss: 0.725055\nTotal training time: 0.02 seconds.\n-- Epoch 41\nNorm: 3.64, NNZs: 15, Bias: -2.953959, T: 143828, Avg. loss: 0.723263\nTotal training time: 0.02 seconds.\n-- Epoch 42\nNorm: 3.64, NNZs: 15, Bias: -2.887398, T: 147336, Avg. loss: 0.722460\nTotal training time: 0.02 seconds.\n-- Epoch 43\nNorm: 3.59, NNZs: 15, Bias: -3.091552, T: 150844, Avg. loss: 0.718653\nTotal training time: 0.02 seconds.\n-- Epoch 44\nNorm: 3.38, NNZs: 15, Bias: -3.157706, T: 154352, Avg. loss: 0.714512\nTotal training time: 0.03 seconds.\n-- Epoch 45\nNorm: 3.61, NNZs: 15, Bias: -3.032598, T: 157860, Avg. loss: 0.714427\nTotal training time: 0.03 seconds.\n-- Epoch 46\nNorm: 3.65, NNZs: 15, Bias: -3.033345, T: 161368, Avg. loss: 0.710541\nTotal training time: 0.03 seconds.\n-- Epoch 47\nNorm: 3.42, NNZs: 15, Bias: -3.276104, T: 164876, Avg. loss: 0.709783\nTotal training time: 0.03 seconds.\n-- Epoch 48\nNorm: 3.42, NNZs: 15, Bias: -3.331884, T: 168384, Avg. loss: 0.708988\nTotal training time: 0.03 seconds.\n-- Epoch 49\nNorm: 3.61, NNZs: 15, Bias: -3.213931, T: 171892, Avg. loss: 0.706185\nTotal training time: 0.03 seconds.\n-- Epoch 50\nNorm: 3.68, NNZs: 15, Bias: -3.214298, T: 175400, Avg. loss: 0.704931\nTotal training time: 0.03 seconds.\n-- Epoch 51\nNorm: 3.63, NNZs: 15, Bias: -3.382912, T: 178908, Avg. loss: 0.701021\nTotal training time: 0.03 seconds.\n-- Epoch 52\nNorm: 3.65, NNZs: 15, Bias: -3.382498, T: 182416, Avg. loss: 0.702415\nTotal training time: 0.03 seconds.\n-- Epoch 53\nNorm: 3.48, NNZs: 15, Bias: -3.326224, T: 185924, Avg. loss: 0.698159\nTotal training time: 0.03 seconds.\n-- Epoch 54\nNorm: 3.47, NNZs: 15, Bias: -3.376687, T: 189432, Avg. loss: 0.698146\nTotal training time: 0.09 seconds.\n-- Epoch 55\nNorm: 3.65, NNZs: 15, Bias: -3.321976, T: 192940, Avg. loss: 0.694130\nTotal training time: 0.09 seconds.\n-- Epoch 56\nNorm: 3.51, NNZs: 15, Bias: -3.320131, T: 196448, Avg. loss: 0.697107\nTotal training time: 0.10 seconds.\n-- Epoch 57\nNorm: 3.62, NNZs: 15, Bias: -3.318526, T: 199956, Avg. loss: 0.693313\nTotal training time: 0.10 seconds.\n-- Epoch 58\nNorm: 3.48, NNZs: 15, Bias: -3.464377, T: 203464, Avg. loss: 0.692481\nTotal training time: 0.10 seconds.\n-- Epoch 59\nNorm: 3.59, NNZs: 15, Bias: -3.365791, T: 206972, Avg. loss: 0.691243\nTotal training time: 0.10 seconds.\n-- Epoch 60\nNorm: 3.77, NNZs: 15, Bias: -3.126606, T: 210480, Avg. loss: 0.689671\nTotal training time: 0.10 seconds.\n-- Epoch 61\nNorm: 3.74, NNZs: 15, Bias: -3.175286, T: 213988, Avg. loss: 0.687866\nTotal training time: 0.10 seconds.\n-- Epoch 62\nNorm: 3.58, NNZs: 15, Bias: -3.497379, T: 217496, Avg. loss: 0.688281\nTotal training time: 0.10 seconds.\n-- Epoch 63\nNorm: 3.57, NNZs: 15, Bias: -3.494448, T: 221004, Avg. loss: 0.685674\nTotal training time: 0.10 seconds.\n-- Epoch 64\nNorm: 3.74, NNZs: 15, Bias: -3.225175, T: 224512, Avg. loss: 0.684588\nTotal training time: 0.10 seconds.\n-- Epoch 65\nNorm: 3.59, NNZs: 15, Bias: -3.225346, T: 228020, Avg. loss: 0.683746\nTotal training time: 0.10 seconds.\n-- Epoch 66\nNorm: 3.78, NNZs: 15, Bias: -3.268890, T: 231528, Avg. loss: 0.683599\nTotal training time: 0.10 seconds.\n-- Epoch 67\nNorm: 3.83, NNZs: 15, Bias: -3.268754, T: 235036, Avg. loss: 0.683052\nTotal training time: 0.10 seconds.\n-- Epoch 68\nNorm: 3.80, NNZs: 15, Bias: -3.269397, T: 238544, Avg. loss: 0.679970\nTotal training time: 0.10 seconds.\n-- Epoch 69\nNorm: 3.78, NNZs: 15, Bias: -3.311016, T: 242052, Avg. loss: 0.677576\nTotal training time: 0.10 seconds.\n-- Epoch 70\nNorm: 3.69, NNZs: 15, Bias: -3.268534, T: 245560, Avg. loss: 0.681455\nTotal training time: 0.10 seconds.\n-- Epoch 71\nNorm: 3.77, NNZs: 15, Bias: -3.228447, T: 249068, Avg. loss: 0.678754\nTotal training time: 0.11 seconds.\n-- Epoch 72\nNorm: 3.83, NNZs: 15, Bias: -3.268486, T: 252576, Avg. loss: 0.676922\nTotal training time: 0.11 seconds.\n-- Epoch 73\nNorm: 3.68, NNZs: 15, Bias: -3.345943, T: 256084, Avg. loss: 0.676390\nTotal training time: 0.11 seconds.\n-- Epoch 74\nNorm: 3.72, NNZs: 15, Bias: -3.269003, T: 259592, Avg. loss: 0.675778\nTotal training time: 0.11 seconds.\nConvergence after 74 epochs took 0.11 seconds\n",
     "output_type": "stream"
    }
   ],
   "execution_count": null
  },
  {
   "cell_type": "code",
   "metadata": {
    "tags": [],
    "deepnote_to_be_reexecuted": false,
    "source_hash": "32c9439c",
    "allow_embed": false,
    "execution_start": 1622219747365,
    "execution_millis": 13,
    "cell_id": "00058-990bf545-9548-4080-a5b3-ae2d76a94a52",
    "deepnote_cell_type": "code"
   },
   "source": "# Returns max value of the mean test score \nmax(scores['mean_test_score'])",
   "outputs": [
    {
     "output_type": "execute_result",
     "execution_count": 69,
     "data": {
      "text/plain": "0.6929884454848791"
     },
     "metadata": {}
    }
   ],
   "execution_count": null
  },
  {
   "cell_type": "code",
   "metadata": {
    "tags": [],
    "deepnote_to_be_reexecuted": false,
    "source_hash": "46f0d3fb",
    "allow_embed": false,
    "execution_start": 1622219747369,
    "execution_millis": 61,
    "is_output_hidden": true,
    "cell_id": "00059-986a2937-08d8-4765-b2d5-8eec2cb9a031",
    "deepnote_cell_type": "code"
   },
   "source": "# loop that runs all of the possible parameter configurations from the parameter dictionary above\nfor mean_score, params in sorted(list(zip(scores[\"mean_test_score\"], scores[\"params\"])),key = lambda x: x[0]):\n     print(f'Best parameters for SGD Classifier are {params} with a score of {mean_score}')",
   "outputs": [
    {
     "name": "stdout",
     "text": "Best parameters for SGD Classifier are {'alpha': 1, 'class_weight': 'balanced', 'shuffle': True, 'verbose': 1} with a score of 0.32212102369021056\nBest parameters for SGD Classifier are {'alpha': 1, 'class_weight': 'balanced', 'shuffle': True, 'verbose': 5} with a score of 0.39544484680005365\nBest parameters for SGD Classifier are {'alpha': 1, 'class_weight': 'balanced', 'shuffle': True, 'verbose': 10} with a score of 0.5367521367521367\nBest parameters for SGD Classifier are {'alpha': 0.0001, 'class_weight': 'balanced', 'shuffle': True, 'verbose': 5} with a score of 0.5622102734798884\nBest parameters for SGD Classifier are {'alpha': 0.0001, 'class_weight': 'balanced', 'shuffle': False, 'verbose': 0} with a score of 0.5766332996004893\nBest parameters for SGD Classifier are {'alpha': 0.0001, 'class_weight': 'balanced', 'shuffle': False, 'verbose': 1} with a score of 0.5766332996004893\nBest parameters for SGD Classifier are {'alpha': 0.0001, 'class_weight': 'balanced', 'shuffle': False, 'verbose': 5} with a score of 0.5766332996004893\nBest parameters for SGD Classifier are {'alpha': 0.0001, 'class_weight': 'balanced', 'shuffle': False, 'verbose': 10} with a score of 0.5766332996004893\nBest parameters for SGD Classifier are {'alpha': 0.0001, 'class_weight': 'balanced', 'shuffle': True, 'verbose': 10} with a score of 0.5904097118077146\nBest parameters for SGD Classifier are {'alpha': 0.0001, 'class_weight': None, 'shuffle': False, 'verbose': 0} with a score of 0.6159572608930668\nBest parameters for SGD Classifier are {'alpha': 0.0001, 'class_weight': None, 'shuffle': False, 'verbose': 1} with a score of 0.6159572608930668\nBest parameters for SGD Classifier are {'alpha': 0.0001, 'class_weight': None, 'shuffle': False, 'verbose': 5} with a score of 0.6159572608930668\nBest parameters for SGD Classifier are {'alpha': 0.0001, 'class_weight': None, 'shuffle': False, 'verbose': 10} with a score of 0.6159572608930668\nBest parameters for SGD Classifier are {'alpha': 0.0001, 'class_weight': 'balanced', 'shuffle': True, 'verbose': 1} with a score of 0.6414149912010112\nBest parameters for SGD Classifier are {'alpha': 1, 'class_weight': 'balanced', 'shuffle': False, 'verbose': 0} with a score of 0.6522241323953164\nBest parameters for SGD Classifier are {'alpha': 1, 'class_weight': 'balanced', 'shuffle': False, 'verbose': 1} with a score of 0.6522241323953164\nBest parameters for SGD Classifier are {'alpha': 1, 'class_weight': 'balanced', 'shuffle': False, 'verbose': 5} with a score of 0.6522241323953164\nBest parameters for SGD Classifier are {'alpha': 1, 'class_weight': 'balanced', 'shuffle': False, 'verbose': 10} with a score of 0.6522241323953164\nBest parameters for SGD Classifier are {'alpha': 0.001, 'class_weight': 'balanced', 'shuffle': True, 'verbose': 0} with a score of 0.6539477587979727\nBest parameters for SGD Classifier are {'alpha': 0.001, 'class_weight': 'balanced', 'shuffle': False, 'verbose': 0} with a score of 0.659075963926178\nBest parameters for SGD Classifier are {'alpha': 0.001, 'class_weight': 'balanced', 'shuffle': False, 'verbose': 1} with a score of 0.659075963926178\nBest parameters for SGD Classifier are {'alpha': 0.001, 'class_weight': 'balanced', 'shuffle': False, 'verbose': 5} with a score of 0.659075963926178\nBest parameters for SGD Classifier are {'alpha': 0.001, 'class_weight': 'balanced', 'shuffle': False, 'verbose': 10} with a score of 0.659075963926178\nBest parameters for SGD Classifier are {'alpha': 0.001, 'class_weight': 'balanced', 'shuffle': True, 'verbose': 1} with a score of 0.660215565065779\nBest parameters for SGD Classifier are {'alpha': 0.001, 'class_weight': 'balanced', 'shuffle': True, 'verbose': 5} with a score of 0.660215565065779\nBest parameters for SGD Classifier are {'alpha': 0.001, 'class_weight': 'balanced', 'shuffle': True, 'verbose': 10} with a score of 0.6605008717704866\nBest parameters for SGD Classifier are {'alpha': 0.1, 'class_weight': 'balanced', 'shuffle': True, 'verbose': 0} with a score of 0.6659115386647484\nBest parameters for SGD Classifier are {'alpha': 0.1, 'class_weight': 'balanced', 'shuffle': True, 'verbose': 1} with a score of 0.6659131643439775\nBest parameters for SGD Classifier are {'alpha': 0.1, 'class_weight': 'balanced', 'shuffle': False, 'verbose': 0} with a score of 0.6664821520741635\nBest parameters for SGD Classifier are {'alpha': 0.1, 'class_weight': 'balanced', 'shuffle': False, 'verbose': 1} with a score of 0.6664821520741635\nBest parameters for SGD Classifier are {'alpha': 0.1, 'class_weight': 'balanced', 'shuffle': False, 'verbose': 5} with a score of 0.6664821520741635\nBest parameters for SGD Classifier are {'alpha': 0.1, 'class_weight': 'balanced', 'shuffle': False, 'verbose': 10} with a score of 0.6664821520741635\nBest parameters for SGD Classifier are {'alpha': 0.01, 'class_weight': 'balanced', 'shuffle': True, 'verbose': 0} with a score of 0.6684776733278873\nBest parameters for SGD Classifier are {'alpha': 0.01, 'class_weight': 'balanced', 'shuffle': True, 'verbose': 1} with a score of 0.6684776733278873\nBest parameters for SGD Classifier are {'alpha': 0.01, 'class_weight': 'balanced', 'shuffle': True, 'verbose': 5} with a score of 0.6684776733278873\nBest parameters for SGD Classifier are {'alpha': 0.01, 'class_weight': 'balanced', 'shuffle': True, 'verbose': 10} with a score of 0.6684776733278873\nBest parameters for SGD Classifier are {'alpha': 0.01, 'class_weight': 'balanced', 'shuffle': False, 'verbose': 0} with a score of 0.6684776733278873\nBest parameters for SGD Classifier are {'alpha': 0.01, 'class_weight': 'balanced', 'shuffle': False, 'verbose': 1} with a score of 0.6684776733278873\nBest parameters for SGD Classifier are {'alpha': 0.01, 'class_weight': 'balanced', 'shuffle': False, 'verbose': 5} with a score of 0.6684776733278873\nBest parameters for SGD Classifier are {'alpha': 0.01, 'class_weight': 'balanced', 'shuffle': False, 'verbose': 10} with a score of 0.6684776733278873\nBest parameters for SGD Classifier are {'alpha': 0.1, 'class_weight': 'balanced', 'shuffle': True, 'verbose': 5} with a score of 0.6687621671929802\nBest parameters for SGD Classifier are {'alpha': 0.1, 'class_weight': 'balanced', 'shuffle': True, 'verbose': 10} with a score of 0.6687633864524021\nBest parameters for SGD Classifier are {'alpha': 1, 'class_weight': 'balanced', 'shuffle': True, 'verbose': 0} with a score of 0.6704610019873928\nBest parameters for SGD Classifier are {'alpha': 0.0001, 'class_weight': 'balanced', 'shuffle': True, 'verbose': 0} with a score of 0.6721850348098565\nBest parameters for SGD Classifier are {'alpha': 0.01, 'class_weight': None, 'shuffle': True, 'verbose': 1} with a score of 0.6773091757399888\nBest parameters for SGD Classifier are {'alpha': 0.01, 'class_weight': None, 'shuffle': True, 'verbose': 0} with a score of 0.6775940760248892\nBest parameters for SGD Classifier are {'alpha': 0.01, 'class_weight': None, 'shuffle': True, 'verbose': 10} with a score of 0.6775940760248892\nBest parameters for SGD Classifier are {'alpha': 0.01, 'class_weight': None, 'shuffle': False, 'verbose': 0} with a score of 0.6778785698899822\nBest parameters for SGD Classifier are {'alpha': 0.01, 'class_weight': None, 'shuffle': False, 'verbose': 1} with a score of 0.6778785698899822\nBest parameters for SGD Classifier are {'alpha': 0.01, 'class_weight': None, 'shuffle': False, 'verbose': 5} with a score of 0.6778785698899822\nBest parameters for SGD Classifier are {'alpha': 0.01, 'class_weight': None, 'shuffle': False, 'verbose': 10} with a score of 0.6778785698899822\nBest parameters for SGD Classifier are {'alpha': 0.01, 'class_weight': None, 'shuffle': True, 'verbose': 5} with a score of 0.6778789763097894\nBest parameters for SGD Classifier are {'alpha': 0.1, 'class_weight': None, 'shuffle': True, 'verbose': 0} with a score of 0.6778789763097894\nBest parameters for SGD Classifier are {'alpha': 0.1, 'class_weight': None, 'shuffle': True, 'verbose': 1} with a score of 0.6778789763097894\nBest parameters for SGD Classifier are {'alpha': 0.1, 'class_weight': None, 'shuffle': True, 'verbose': 5} with a score of 0.6778789763097894\nBest parameters for SGD Classifier are {'alpha': 0.1, 'class_weight': None, 'shuffle': True, 'verbose': 10} with a score of 0.6778789763097894\nBest parameters for SGD Classifier are {'alpha': 0.1, 'class_weight': None, 'shuffle': False, 'verbose': 0} with a score of 0.6778789763097894\nBest parameters for SGD Classifier are {'alpha': 0.1, 'class_weight': None, 'shuffle': False, 'verbose': 1} with a score of 0.6778789763097894\nBest parameters for SGD Classifier are {'alpha': 0.1, 'class_weight': None, 'shuffle': False, 'verbose': 5} with a score of 0.6778789763097894\nBest parameters for SGD Classifier are {'alpha': 0.1, 'class_weight': None, 'shuffle': False, 'verbose': 10} with a score of 0.6778789763097894\nBest parameters for SGD Classifier are {'alpha': 1, 'class_weight': None, 'shuffle': True, 'verbose': 0} with a score of 0.6778789763097894\nBest parameters for SGD Classifier are {'alpha': 1, 'class_weight': None, 'shuffle': True, 'verbose': 1} with a score of 0.6778789763097894\nBest parameters for SGD Classifier are {'alpha': 1, 'class_weight': None, 'shuffle': True, 'verbose': 5} with a score of 0.6778789763097894\nBest parameters for SGD Classifier are {'alpha': 1, 'class_weight': None, 'shuffle': True, 'verbose': 10} with a score of 0.6778789763097894\nBest parameters for SGD Classifier are {'alpha': 1, 'class_weight': None, 'shuffle': False, 'verbose': 0} with a score of 0.6778789763097894\nBest parameters for SGD Classifier are {'alpha': 1, 'class_weight': None, 'shuffle': False, 'verbose': 1} with a score of 0.6778789763097894\nBest parameters for SGD Classifier are {'alpha': 1, 'class_weight': None, 'shuffle': False, 'verbose': 5} with a score of 0.6778789763097894\nBest parameters for SGD Classifier are {'alpha': 1, 'class_weight': None, 'shuffle': False, 'verbose': 10} with a score of 0.6778789763097894\nBest parameters for SGD Classifier are {'alpha': 0.0001, 'class_weight': None, 'shuffle': True, 'verbose': 0} with a score of 0.6901390362160691\nBest parameters for SGD Classifier are {'alpha': 0.001, 'class_weight': None, 'shuffle': True, 'verbose': 0} with a score of 0.6924178320754641\nBest parameters for SGD Classifier are {'alpha': 0.001, 'class_weight': None, 'shuffle': True, 'verbose': 5} with a score of 0.6924178320754641\nBest parameters for SGD Classifier are {'alpha': 0.001, 'class_weight': None, 'shuffle': True, 'verbose': 10} with a score of 0.6924178320754641\nBest parameters for SGD Classifier are {'alpha': 0.001, 'class_weight': None, 'shuffle': False, 'verbose': 0} with a score of 0.6924178320754641\nBest parameters for SGD Classifier are {'alpha': 0.001, 'class_weight': None, 'shuffle': False, 'verbose': 1} with a score of 0.6924178320754641\nBest parameters for SGD Classifier are {'alpha': 0.001, 'class_weight': None, 'shuffle': False, 'verbose': 5} with a score of 0.6924178320754641\nBest parameters for SGD Classifier are {'alpha': 0.001, 'class_weight': None, 'shuffle': False, 'verbose': 10} with a score of 0.6924178320754641\nBest parameters for SGD Classifier are {'alpha': 0.0001, 'class_weight': None, 'shuffle': True, 'verbose': 1} with a score of 0.6927031387801716\nBest parameters for SGD Classifier are {'alpha': 0.0001, 'class_weight': None, 'shuffle': True, 'verbose': 5} with a score of 0.6927031387801716\nBest parameters for SGD Classifier are {'alpha': 0.001, 'class_weight': None, 'shuffle': True, 'verbose': 1} with a score of 0.6927031387801716\nBest parameters for SGD Classifier are {'alpha': 0.0001, 'class_weight': None, 'shuffle': True, 'verbose': 10} with a score of 0.6929884454848791\n",
     "output_type": "stream"
    }
   ],
   "execution_count": null
  },
  {
   "cell_type": "markdown",
   "source": "Best parameters for SGD Classifier are {'alpha': 0.0001, 'class_weight': 'balanced', 'shuffle': True, 'verbose': 1} using rfe_list froms RFE\n",
   "metadata": {
    "tags": [],
    "cell_id": "00060-ca9bad71-661e-44cc-bdb8-23fdde6c6f30",
    "deepnote_cell_type": "markdown"
   }
  },
  {
   "cell_type": "code",
   "metadata": {
    "tags": [],
    "deepnote_to_be_reexecuted": false,
    "source_hash": "99ef0b23",
    "execution_start": 1622219747486,
    "execution_millis": 233,
    "is_output_hidden": true,
    "cell_id": "00061-b59ed1fe-1399-44f8-a9ec-f214aa09ac36",
    "deepnote_cell_type": "code"
   },
   "source": "# Build 2 models using Select K Best features for one and RFE Features for the other\nsgd_skb = SGDClassifier(alpha=0.01, shuffle=True, verbose=5, class_weight=None)\nsgd_rfe = SGDClassifier(alpha=0.0001, class_weight='balanced', shuffle=True, verbose=1)\n\n# fitting the SGD Classifiers with the X_train with the corresponding features\nsgd_skb.fit(X_train[f_feature], y_train)\nsgd_rfe.fit(X_train[rfe_list], y_train)\n\n# Model SKB predictions\ny_pred_sgd_skb = sgd_skb.predict(X_train[f_feature])\ny_pred_val_sgd_skb = sgd_skb.predict(X_validate[f_feature])\n\n# Model RFE predictions\ny_pred_sgd_rfe = sgd_rfe.predict(X_train[rfe_list])\ny_pred_val_sgd_rfe = sgd_rfe.predict(X_validate[rfe_list])\n\n# Measure accuracy of the select k best feature model\naccuracy_train_sgd_skb = sgd_skb.score(X_train[f_feature], y_train)\naccuracy_val_sgd_skb = sgd_skb.score(X_validate[f_feature], y_validate)\n\n# Measure accuracy of the RFE feature model\naccuracy_train_sgd_rfe = sgd_rfe.score(X_train[rfe_list], y_train)\naccuracy_val_sgd_rfe = sgd_rfe.score(X_validate[rfe_list], y_validate)",
   "outputs": [
    {
     "name": "stdout",
     "text": "-- Epoch 1\nNorm: 3.94, NNZs: 15, Bias: -2.142562, T: 3508, Avg. loss: 52.230162\nTotal training time: 0.00 seconds.\n-- Epoch 2\nNorm: 3.28, NNZs: 15, Bias: -2.171365, T: 7016, Avg. loss: 6.627434\nTotal training time: 0.00 seconds.\n-- Epoch 3\nNorm: 2.83, NNZs: 15, Bias: -2.090380, T: 10524, Avg. loss: 4.097529\nTotal training time: 0.00 seconds.\n-- Epoch 4\nNorm: 2.78, NNZs: 15, Bias: -2.003732, T: 14032, Avg. loss: 3.095669\nTotal training time: 0.00 seconds.\n-- Epoch 5\nNorm: 2.59, NNZs: 15, Bias: -1.934323, T: 17540, Avg. loss: 2.586776\nTotal training time: 0.00 seconds.\n-- Epoch 6\nNorm: 2.36, NNZs: 15, Bias: -1.836051, T: 21048, Avg. loss: 2.189712\nTotal training time: 0.00 seconds.\n-- Epoch 7\nNorm: 2.22, NNZs: 15, Bias: -1.721447, T: 24556, Avg. loss: 1.991117\nTotal training time: 0.01 seconds.\n-- Epoch 8\nNorm: 2.05, NNZs: 15, Bias: -1.641259, T: 28064, Avg. loss: 1.770424\nTotal training time: 0.01 seconds.\n-- Epoch 9\nNorm: 1.91, NNZs: 15, Bias: -1.550279, T: 31572, Avg. loss: 1.696718\nTotal training time: 0.01 seconds.\n-- Epoch 10\nNorm: 1.85, NNZs: 15, Bias: -1.467302, T: 35080, Avg. loss: 1.568377\nTotal training time: 0.01 seconds.\n-- Epoch 11\nNorm: 1.78, NNZs: 15, Bias: -1.389501, T: 38588, Avg. loss: 1.446364\nTotal training time: 0.01 seconds.\n-- Epoch 12\nNorm: 1.71, NNZs: 15, Bias: -1.318716, T: 42096, Avg. loss: 1.404838\nTotal training time: 0.01 seconds.\n-- Epoch 13\nNorm: 1.68, NNZs: 15, Bias: -1.270803, T: 45604, Avg. loss: 1.353842\nTotal training time: 0.01 seconds.\n-- Epoch 14\nNorm: 1.63, NNZs: 15, Bias: -1.202495, T: 49112, Avg. loss: 1.241772\nTotal training time: 0.01 seconds.\n-- Epoch 15\nNorm: 1.60, NNZs: 15, Bias: -1.130270, T: 52620, Avg. loss: 1.232854\nTotal training time: 0.01 seconds.\n-- Epoch 16\nNorm: 1.57, NNZs: 15, Bias: -1.085400, T: 56128, Avg. loss: 1.230025\nTotal training time: 0.01 seconds.\n-- Epoch 17\nNorm: 1.56, NNZs: 15, Bias: -1.029172, T: 59636, Avg. loss: 1.161590\nTotal training time: 0.01 seconds.\n-- Epoch 18\nNorm: 1.53, NNZs: 15, Bias: -1.009425, T: 63144, Avg. loss: 1.143473\nTotal training time: 0.01 seconds.\n-- Epoch 19\nNorm: 1.51, NNZs: 15, Bias: -1.002141, T: 66652, Avg. loss: 1.104772\nTotal training time: 0.01 seconds.\n-- Epoch 20\nNorm: 1.47, NNZs: 15, Bias: -0.982082, T: 70160, Avg. loss: 1.119608\nTotal training time: 0.01 seconds.\n-- Epoch 21\nNorm: 1.44, NNZs: 15, Bias: -0.974140, T: 73668, Avg. loss: 1.073602\nTotal training time: 0.02 seconds.\n-- Epoch 22\nNorm: 1.43, NNZs: 15, Bias: -0.928035, T: 77176, Avg. loss: 1.059158\nTotal training time: 0.02 seconds.\n-- Epoch 23\nNorm: 1.40, NNZs: 15, Bias: -0.904178, T: 80684, Avg. loss: 1.046893\nTotal training time: 0.02 seconds.\n-- Epoch 24\nNorm: 1.38, NNZs: 15, Bias: -0.866994, T: 84192, Avg. loss: 1.038572\nTotal training time: 0.02 seconds.\n-- Epoch 25\nNorm: 1.35, NNZs: 15, Bias: -0.835788, T: 87700, Avg. loss: 1.009014\nTotal training time: 0.02 seconds.\n-- Epoch 26\nNorm: 1.36, NNZs: 15, Bias: -0.805664, T: 91208, Avg. loss: 1.006967\nTotal training time: 0.02 seconds.\n-- Epoch 27\nNorm: 1.35, NNZs: 15, Bias: -0.775614, T: 94716, Avg. loss: 0.985083\nTotal training time: 0.02 seconds.\n-- Epoch 28\nNorm: 1.33, NNZs: 15, Bias: -0.763836, T: 98224, Avg. loss: 0.986778\nTotal training time: 0.02 seconds.\n-- Epoch 29\nNorm: 1.31, NNZs: 15, Bias: -0.747861, T: 101732, Avg. loss: 0.983041\nTotal training time: 0.02 seconds.\n-- Epoch 30\nNorm: 1.30, NNZs: 15, Bias: -0.716877, T: 105240, Avg. loss: 0.958162\nTotal training time: 0.02 seconds.\n-- Epoch 31\nNorm: 1.27, NNZs: 15, Bias: -0.703577, T: 108748, Avg. loss: 0.953273\nTotal training time: 0.02 seconds.\n-- Epoch 32\nNorm: 1.27, NNZs: 15, Bias: -0.676240, T: 112256, Avg. loss: 0.949351\nTotal training time: 0.02 seconds.\n-- Epoch 33\nNorm: 1.27, NNZs: 15, Bias: -0.644677, T: 115764, Avg. loss: 0.940331\nTotal training time: 0.02 seconds.\n-- Epoch 34\nNorm: 1.27, NNZs: 15, Bias: -0.625071, T: 119272, Avg. loss: 0.930080\nTotal training time: 0.02 seconds.\n-- Epoch 35\nNorm: 1.27, NNZs: 15, Bias: -0.603492, T: 122780, Avg. loss: 0.934866\nTotal training time: 0.02 seconds.\n-- Epoch 36\nNorm: 1.25, NNZs: 15, Bias: -0.586561, T: 126288, Avg. loss: 0.914551\nTotal training time: 0.02 seconds.\n-- Epoch 37\nNorm: 1.23, NNZs: 15, Bias: -0.564727, T: 129796, Avg. loss: 0.915778\nTotal training time: 0.03 seconds.\n-- Epoch 38\nNorm: 1.23, NNZs: 15, Bias: -0.539670, T: 133304, Avg. loss: 0.901785\nTotal training time: 0.03 seconds.\n-- Epoch 39\nNorm: 1.22, NNZs: 15, Bias: -0.515965, T: 136812, Avg. loss: 0.889750\nTotal training time: 0.03 seconds.\n-- Epoch 40\nNorm: 1.20, NNZs: 15, Bias: -0.503723, T: 140320, Avg. loss: 0.895109\nTotal training time: 0.03 seconds.\n-- Epoch 41\nNorm: 1.20, NNZs: 15, Bias: -0.484078, T: 143828, Avg. loss: 0.890912\nTotal training time: 0.03 seconds.\n-- Epoch 42\nNorm: 1.19, NNZs: 15, Bias: -0.478558, T: 147336, Avg. loss: 0.883634\nTotal training time: 0.03 seconds.\n-- Epoch 43\nNorm: 1.19, NNZs: 15, Bias: -0.463079, T: 150844, Avg. loss: 0.888639\nTotal training time: 0.03 seconds.\n-- Epoch 44\nNorm: 1.18, NNZs: 15, Bias: -0.451257, T: 154352, Avg. loss: 0.866968\nTotal training time: 0.03 seconds.\n-- Epoch 45\nNorm: 1.17, NNZs: 15, Bias: -0.441525, T: 157860, Avg. loss: 0.884232\nTotal training time: 0.03 seconds.\n-- Epoch 46\nNorm: 1.17, NNZs: 15, Bias: -0.422111, T: 161368, Avg. loss: 0.857975\nTotal training time: 0.03 seconds.\n-- Epoch 47\nNorm: 1.16, NNZs: 15, Bias: -0.419677, T: 164876, Avg. loss: 0.871022\nTotal training time: 0.03 seconds.\n-- Epoch 48\nNorm: 1.15, NNZs: 15, Bias: -0.407205, T: 168384, Avg. loss: 0.851843\nTotal training time: 0.03 seconds.\n-- Epoch 49\nNorm: 1.15, NNZs: 15, Bias: -0.392570, T: 171892, Avg. loss: 0.860636\nTotal training time: 0.03 seconds.\n-- Epoch 50\nNorm: 1.14, NNZs: 15, Bias: -0.381691, T: 175400, Avg. loss: 0.852057\nTotal training time: 0.03 seconds.\n-- Epoch 51\nNorm: 1.14, NNZs: 15, Bias: -0.368105, T: 178908, Avg. loss: 0.845974\nTotal training time: 0.03 seconds.\n-- Epoch 52\nNorm: 1.13, NNZs: 15, Bias: -0.354217, T: 182416, Avg. loss: 0.843637\nTotal training time: 0.04 seconds.\n-- Epoch 53\nNorm: 1.13, NNZs: 15, Bias: -0.342352, T: 185924, Avg. loss: 0.837074\nTotal training time: 0.04 seconds.\n-- Epoch 54\nNorm: 1.11, NNZs: 15, Bias: -0.335488, T: 189432, Avg. loss: 0.839942\nTotal training time: 0.04 seconds.\n-- Epoch 55\nNorm: 1.10, NNZs: 15, Bias: -0.326565, T: 192940, Avg. loss: 0.841370\nTotal training time: 0.04 seconds.\n-- Epoch 56\nNorm: 1.10, NNZs: 15, Bias: -0.317281, T: 196448, Avg. loss: 0.833470\nTotal training time: 0.04 seconds.\n-- Epoch 57\nNorm: 1.09, NNZs: 15, Bias: -0.313096, T: 199956, Avg. loss: 0.824100\nTotal training time: 0.04 seconds.\n-- Epoch 58\nNorm: 1.08, NNZs: 15, Bias: -0.307136, T: 203464, Avg. loss: 0.824299\nTotal training time: 0.04 seconds.\n-- Epoch 59\nNorm: 1.08, NNZs: 15, Bias: -0.298391, T: 206972, Avg. loss: 0.817666\nTotal training time: 0.04 seconds.\n-- Epoch 60\nNorm: 1.08, NNZs: 15, Bias: -0.285490, T: 210480, Avg. loss: 0.829581\nTotal training time: 0.04 seconds.\n-- Epoch 61\nNorm: 1.08, NNZs: 15, Bias: -0.273258, T: 213988, Avg. loss: 0.824350\nTotal training time: 0.04 seconds.\n-- Epoch 62\nNorm: 1.08, NNZs: 15, Bias: -0.266773, T: 217496, Avg. loss: 0.812093\nTotal training time: 0.04 seconds.\n-- Epoch 63\nNorm: 1.07, NNZs: 15, Bias: -0.262660, T: 221004, Avg. loss: 0.815441\nTotal training time: 0.04 seconds.\n-- Epoch 64\nNorm: 1.06, NNZs: 15, Bias: -0.257242, T: 224512, Avg. loss: 0.818478\nTotal training time: 0.04 seconds.\n-- Epoch 65\nNorm: 1.06, NNZs: 15, Bias: -0.251493, T: 228020, Avg. loss: 0.819392\nTotal training time: 0.05 seconds.\n-- Epoch 66\nNorm: 1.06, NNZs: 15, Bias: -0.241860, T: 231528, Avg. loss: 0.820877\nTotal training time: 0.05 seconds.\n-- Epoch 67\nNorm: 1.06, NNZs: 15, Bias: -0.233270, T: 235036, Avg. loss: 0.804049\nTotal training time: 0.05 seconds.\n-- Epoch 68\nNorm: 1.06, NNZs: 15, Bias: -0.225167, T: 238544, Avg. loss: 0.812401\nTotal training time: 0.05 seconds.\n-- Epoch 69\nNorm: 1.05, NNZs: 15, Bias: -0.218488, T: 242052, Avg. loss: 0.807806\nTotal training time: 0.05 seconds.\n-- Epoch 70\nNorm: 1.05, NNZs: 15, Bias: -0.207827, T: 245560, Avg. loss: 0.804991\nTotal training time: 0.05 seconds.\n-- Epoch 71\nNorm: 1.04, NNZs: 15, Bias: -0.200574, T: 249068, Avg. loss: 0.806944\nTotal training time: 0.05 seconds.\n-- Epoch 72\nNorm: 1.03, NNZs: 15, Bias: -0.196994, T: 252576, Avg. loss: 0.793202\nTotal training time: 0.05 seconds.\n-- Epoch 73\nNorm: 1.03, NNZs: 15, Bias: -0.193819, T: 256084, Avg. loss: 0.801282\nTotal training time: 0.05 seconds.\n-- Epoch 74\nNorm: 1.03, NNZs: 15, Bias: -0.183323, T: 259592, Avg. loss: 0.793342\nTotal training time: 0.05 seconds.\n-- Epoch 75\nNorm: 1.02, NNZs: 15, Bias: -0.178744, T: 263100, Avg. loss: 0.794992\nTotal training time: 0.05 seconds.\n-- Epoch 76\nNorm: 1.02, NNZs: 15, Bias: -0.170807, T: 266608, Avg. loss: 0.797192\nTotal training time: 0.05 seconds.\n-- Epoch 77\nNorm: 1.01, NNZs: 15, Bias: -0.167767, T: 270116, Avg. loss: 0.786640\nTotal training time: 0.05 seconds.\n-- Epoch 78\nNorm: 1.01, NNZs: 15, Bias: -0.159320, T: 273624, Avg. loss: 0.786068\nTotal training time: 0.06 seconds.\n-- Epoch 79\nNorm: 1.01, NNZs: 15, Bias: -0.148418, T: 277132, Avg. loss: 0.784275\nTotal training time: 0.06 seconds.\n-- Epoch 80\nNorm: 1.00, NNZs: 15, Bias: -0.140901, T: 280640, Avg. loss: 0.787057\nTotal training time: 0.06 seconds.\n-- Epoch 81\nNorm: 1.00, NNZs: 15, Bias: -0.135541, T: 284148, Avg. loss: 0.786953\nTotal training time: 0.06 seconds.\n-- Epoch 82\nNorm: 1.00, NNZs: 15, Bias: -0.131319, T: 287656, Avg. loss: 0.786978\nTotal training time: 0.06 seconds.\n-- Epoch 83\nNorm: 0.99, NNZs: 15, Bias: -0.125081, T: 291164, Avg. loss: 0.776408\nTotal training time: 0.06 seconds.\n-- Epoch 84\nNorm: 0.99, NNZs: 15, Bias: -0.119591, T: 294672, Avg. loss: 0.778502\nTotal training time: 0.06 seconds.\n-- Epoch 85\nNorm: 0.99, NNZs: 15, Bias: -0.113861, T: 298180, Avg. loss: 0.777971\nTotal training time: 0.06 seconds.\n-- Epoch 86\nNorm: 0.98, NNZs: 15, Bias: -0.107487, T: 301688, Avg. loss: 0.775732\nTotal training time: 0.06 seconds.\n-- Epoch 87\nNorm: 0.98, NNZs: 15, Bias: -0.103528, T: 305196, Avg. loss: 0.776211\nTotal training time: 0.06 seconds.\n-- Epoch 88\nNorm: 0.98, NNZs: 15, Bias: -0.092785, T: 308704, Avg. loss: 0.777955\nTotal training time: 0.06 seconds.\nConvergence after 88 epochs took 0.06 seconds\n-- Epoch 1\nNorm: 17.20, NNZs: 14, Bias: -8.601850, T: 3508, Avg. loss: 6.828477\nTotal training time: 0.00 seconds.\n-- Epoch 2\nNorm: 10.45, NNZs: 14, Bias: -7.951724, T: 7016, Avg. loss: 2.952898\nTotal training time: 0.00 seconds.\n-- Epoch 3\nNorm: 6.74, NNZs: 14, Bias: -6.297581, T: 10524, Avg. loss: 2.241687\nTotal training time: 0.00 seconds.\n-- Epoch 4\nNorm: 6.31, NNZs: 15, Bias: -6.178961, T: 14032, Avg. loss: 1.818211\nTotal training time: 0.00 seconds.\n-- Epoch 5\nNorm: 7.99, NNZs: 15, Bias: -6.988526, T: 17540, Avg. loss: 1.580966\nTotal training time: 0.00 seconds.\n-- Epoch 6\nNorm: 5.96, NNZs: 15, Bias: -5.035330, T: 21048, Avg. loss: 1.493197\nTotal training time: 0.00 seconds.\n-- Epoch 7\nNorm: 5.60, NNZs: 15, Bias: -5.909903, T: 24556, Avg. loss: 1.355288\nTotal training time: 0.00 seconds.\n-- Epoch 8\nNorm: 4.44, NNZs: 15, Bias: -4.156805, T: 28064, Avg. loss: 1.282922\nTotal training time: 0.01 seconds.\n-- Epoch 9\nNorm: 3.86, NNZs: 15, Bias: -5.087599, T: 31572, Avg. loss: 1.262867\nTotal training time: 0.01 seconds.\n-- Epoch 10\nNorm: 4.31, NNZs: 15, Bias: -4.103888, T: 35080, Avg. loss: 1.194636\nTotal training time: 0.01 seconds.\n-- Epoch 11\nNorm: 3.02, NNZs: 15, Bias: -5.416087, T: 38588, Avg. loss: 1.190325\nTotal training time: 0.01 seconds.\n-- Epoch 12\nNorm: 4.08, NNZs: 15, Bias: -4.587368, T: 42096, Avg. loss: 1.156322\nTotal training time: 0.01 seconds.\n-- Epoch 13\nNorm: 3.75, NNZs: 15, Bias: -4.366894, T: 45604, Avg. loss: 1.107971\nTotal training time: 0.01 seconds.\n-- Epoch 14\nNorm: 2.99, NNZs: 15, Bias: -4.525385, T: 49112, Avg. loss: 1.107834\nTotal training time: 0.01 seconds.\n-- Epoch 15\nNorm: 3.34, NNZs: 15, Bias: -4.591087, T: 52620, Avg. loss: 1.094818\nTotal training time: 0.01 seconds.\n-- Epoch 16\nNorm: 3.56, NNZs: 15, Bias: -3.998982, T: 56128, Avg. loss: 1.085175\nTotal training time: 0.01 seconds.\n-- Epoch 17\nNorm: 3.83, NNZs: 15, Bias: -3.884823, T: 59636, Avg. loss: 1.035576\nTotal training time: 0.01 seconds.\n-- Epoch 18\nNorm: 3.65, NNZs: 15, Bias: -3.519683, T: 63144, Avg. loss: 1.041759\nTotal training time: 0.01 seconds.\n-- Epoch 19\nNorm: 3.94, NNZs: 15, Bias: -3.071157, T: 66652, Avg. loss: 1.038226\nTotal training time: 0.01 seconds.\n-- Epoch 20\nNorm: 2.94, NNZs: 15, Bias: -3.940683, T: 70160, Avg. loss: 1.006701\nTotal training time: 0.01 seconds.\n-- Epoch 21\nNorm: 3.54, NNZs: 15, Bias: -3.407878, T: 73668, Avg. loss: 1.013706\nTotal training time: 0.01 seconds.\n-- Epoch 22\nNorm: 3.48, NNZs: 15, Bias: -3.770844, T: 77176, Avg. loss: 1.009759\nTotal training time: 0.01 seconds.\n-- Epoch 23\nNorm: 3.06, NNZs: 15, Bias: -3.733901, T: 80684, Avg. loss: 1.015479\nTotal training time: 0.02 seconds.\n-- Epoch 24\nNorm: 3.77, NNZs: 15, Bias: -3.420554, T: 84192, Avg. loss: 0.987231\nTotal training time: 0.02 seconds.\n-- Epoch 25\nNorm: 3.76, NNZs: 15, Bias: -3.590593, T: 87700, Avg. loss: 0.994657\nTotal training time: 0.02 seconds.\n-- Epoch 26\nNorm: 3.42, NNZs: 15, Bias: -3.584802, T: 91208, Avg. loss: 0.980209\nTotal training time: 0.02 seconds.\n-- Epoch 27\nNorm: 3.16, NNZs: 15, Bias: -3.240557, T: 94716, Avg. loss: 0.978702\nTotal training time: 0.02 seconds.\n-- Epoch 28\nNorm: 3.07, NNZs: 15, Bias: -3.532101, T: 98224, Avg. loss: 0.965408\nTotal training time: 0.02 seconds.\n-- Epoch 29\nNorm: 3.03, NNZs: 15, Bias: -3.716561, T: 101732, Avg. loss: 0.974035\nTotal training time: 0.03 seconds.\n-- Epoch 30\nNorm: 3.62, NNZs: 15, Bias: -3.240336, T: 105240, Avg. loss: 0.967192\nTotal training time: 0.03 seconds.\n-- Epoch 31\nNorm: 2.67, NNZs: 15, Bias: -3.706217, T: 108748, Avg. loss: 0.960872\nTotal training time: 0.03 seconds.\n-- Epoch 32\nNorm: 2.96, NNZs: 15, Bias: -3.379319, T: 112256, Avg. loss: 0.974879\nTotal training time: 0.03 seconds.\n-- Epoch 33\nNorm: 3.32, NNZs: 15, Bias: -3.556037, T: 115764, Avg. loss: 0.956363\nTotal training time: 0.03 seconds.\n-- Epoch 34\nNorm: 3.33, NNZs: 15, Bias: -3.166012, T: 119272, Avg. loss: 0.939495\nTotal training time: 0.03 seconds.\n-- Epoch 35\nNorm: 3.00, NNZs: 15, Bias: -3.376836, T: 122780, Avg. loss: 0.944669\nTotal training time: 0.03 seconds.\n-- Epoch 36\nNorm: 3.52, NNZs: 15, Bias: -3.095318, T: 126288, Avg. loss: 0.950489\nTotal training time: 0.03 seconds.\n-- Epoch 37\nNorm: 3.14, NNZs: 15, Bias: -3.044428, T: 129796, Avg. loss: 0.927757\nTotal training time: 0.03 seconds.\n-- Epoch 38\nNorm: 2.73, NNZs: 15, Bias: -3.076764, T: 133304, Avg. loss: 0.933803\nTotal training time: 0.03 seconds.\n-- Epoch 39\nNorm: 3.17, NNZs: 15, Bias: -3.253419, T: 136812, Avg. loss: 0.924519\nTotal training time: 0.03 seconds.\n-- Epoch 40\nNorm: 3.03, NNZs: 15, Bias: -3.133369, T: 140320, Avg. loss: 0.936118\nTotal training time: 0.03 seconds.\n-- Epoch 41\nNorm: 3.06, NNZs: 15, Bias: -3.374908, T: 143828, Avg. loss: 0.936417\nTotal training time: 0.03 seconds.\n-- Epoch 42\nNorm: 2.59, NNZs: 15, Bias: -3.467000, T: 147336, Avg. loss: 0.926234\nTotal training time: 0.03 seconds.\n-- Epoch 43\nNorm: 3.24, NNZs: 15, Bias: -3.132118, T: 150844, Avg. loss: 0.929036\nTotal training time: 0.04 seconds.\n-- Epoch 44\nNorm: 3.14, NNZs: 15, Bias: -3.025260, T: 154352, Avg. loss: 0.914217\nTotal training time: 0.04 seconds.\n-- Epoch 45\nNorm: 2.56, NNZs: 15, Bias: -3.298992, T: 157860, Avg. loss: 0.916830\nTotal training time: 0.04 seconds.\n-- Epoch 46\nNorm: 2.66, NNZs: 15, Bias: -2.957242, T: 161368, Avg. loss: 0.926587\nTotal training time: 0.04 seconds.\n-- Epoch 47\nNorm: 3.15, NNZs: 15, Bias: -2.720805, T: 164876, Avg. loss: 0.909912\nTotal training time: 0.04 seconds.\n-- Epoch 48\nNorm: 2.97, NNZs: 15, Bias: -2.941456, T: 168384, Avg. loss: 0.912483\nTotal training time: 0.04 seconds.\n-- Epoch 49\nNorm: 3.07, NNZs: 15, Bias: -2.861169, T: 171892, Avg. loss: 0.910422\nTotal training time: 0.04 seconds.\n-- Epoch 50\nNorm: 2.81, NNZs: 15, Bias: -2.945909, T: 175400, Avg. loss: 0.903720\nTotal training time: 0.04 seconds.\n-- Epoch 51\nNorm: 3.11, NNZs: 15, Bias: -3.035706, T: 178908, Avg. loss: 0.906581\nTotal training time: 0.04 seconds.\n-- Epoch 52\nNorm: 3.01, NNZs: 15, Bias: -2.854389, T: 182416, Avg. loss: 0.915777\nTotal training time: 0.05 seconds.\n-- Epoch 53\nNorm: 2.78, NNZs: 15, Bias: -3.158380, T: 185924, Avg. loss: 0.898762\nTotal training time: 0.05 seconds.\n-- Epoch 54\nNorm: 2.79, NNZs: 15, Bias: -3.183710, T: 189432, Avg. loss: 0.896593\nTotal training time: 0.05 seconds.\n-- Epoch 55\nNorm: 2.72, NNZs: 15, Bias: -3.046729, T: 192940, Avg. loss: 0.901013\nTotal training time: 0.05 seconds.\n-- Epoch 56\nNorm: 3.01, NNZs: 15, Bias: -2.800823, T: 196448, Avg. loss: 0.894379\nTotal training time: 0.05 seconds.\n-- Epoch 57\nNorm: 2.89, NNZs: 15, Bias: -2.817433, T: 199956, Avg. loss: 0.891953\nTotal training time: 0.05 seconds.\n-- Epoch 58\nNorm: 2.74, NNZs: 15, Bias: -2.936701, T: 203464, Avg. loss: 0.891307\nTotal training time: 0.05 seconds.\n-- Epoch 59\nNorm: 2.85, NNZs: 15, Bias: -3.012324, T: 206972, Avg. loss: 0.895483\nTotal training time: 0.05 seconds.\n-- Epoch 60\nNorm: 2.79, NNZs: 15, Bias: -2.954265, T: 210480, Avg. loss: 0.879514\nTotal training time: 0.05 seconds.\n-- Epoch 61\nNorm: 2.58, NNZs: 15, Bias: -2.692375, T: 213988, Avg. loss: 0.884525\nTotal training time: 0.06 seconds.\n-- Epoch 62\nNorm: 2.85, NNZs: 15, Bias: -2.617508, T: 217496, Avg. loss: 0.886608\nTotal training time: 0.06 seconds.\n-- Epoch 63\nNorm: 2.52, NNZs: 15, Bias: -3.014942, T: 221004, Avg. loss: 0.887178\nTotal training time: 0.06 seconds.\n-- Epoch 64\nNorm: 2.60, NNZs: 15, Bias: -3.010220, T: 224512, Avg. loss: 0.898945\nTotal training time: 0.06 seconds.\n-- Epoch 65\nNorm: 2.74, NNZs: 15, Bias: -2.677027, T: 228020, Avg. loss: 0.875256\nTotal training time: 0.06 seconds.\n-- Epoch 66\nNorm: 2.53, NNZs: 15, Bias: -2.744419, T: 231528, Avg. loss: 0.882880\nTotal training time: 0.06 seconds.\n-- Epoch 67\nNorm: 2.86, NNZs: 15, Bias: -2.884016, T: 235036, Avg. loss: 0.885706\nTotal training time: 0.06 seconds.\n-- Epoch 68\nNorm: 2.69, NNZs: 15, Bias: -2.922667, T: 238544, Avg. loss: 0.877697\nTotal training time: 0.06 seconds.\n-- Epoch 69\nNorm: 2.90, NNZs: 15, Bias: -2.992399, T: 242052, Avg. loss: 0.877966\nTotal training time: 0.06 seconds.\n-- Epoch 70\nNorm: 2.86, NNZs: 15, Bias: -2.918705, T: 245560, Avg. loss: 0.888689\nTotal training time: 0.06 seconds.\nConvergence after 70 epochs took 0.06 seconds\n",
     "output_type": "stream"
    }
   ],
   "execution_count": null
  },
  {
   "cell_type": "code",
   "metadata": {
    "tags": [],
    "deepnote_to_be_reexecuted": false,
    "source_hash": "962e44ec",
    "execution_start": 1622219747737,
    "execution_millis": 5,
    "output_cleared": true,
    "cell_id": "00062-a25254f5-90a9-43f5-9c38-0e7021b3025a",
    "deepnote_cell_type": "code"
   },
   "source": "# Add accuracy of the SKB model to the metric_df\nmetric_df = metric_df.append({\n    'model': 'SGD Classifier SKB Features', \n    'baseline_accuracy': round(baseline_accuracy,2),\n    'train_accuracy': round(accuracy_train_sgd_skb, 2),\n    'validate_accuracy':round(accuracy_val_sgd_skb,2)}, ignore_index=True)\n",
   "execution_count": null,
   "outputs": []
  },
  {
   "cell_type": "code",
   "metadata": {
    "tags": [],
    "deepnote_to_be_reexecuted": false,
    "source_hash": "cb4e0fa5",
    "execution_start": 1622219747746,
    "execution_millis": 8,
    "cell_id": "00063-fb2908b7-00ce-451a-896a-af6473fc07ef",
    "deepnote_cell_type": "code"
   },
   "source": "# Add accuracy of the RFE model to the metric_df\nmetric_df = metric_df.append({\n    'model': 'SGD Classifier RFE Features', \n    'baseline_accuracy': round(baseline_accuracy,2),\n    'train_accuracy': round(accuracy_train_sgd_rfe, 2),\n    'validate_accuracy':round(accuracy_val_sgd_rfe,2)}, ignore_index=True)",
   "outputs": [],
   "execution_count": null
  },
  {
   "cell_type": "code",
   "metadata": {
    "tags": [],
    "deepnote_to_be_reexecuted": false,
    "source_hash": "400c35cf",
    "execution_start": 1622219747758,
    "execution_millis": 126,
    "cell_id": "00064-440a8bf3-481c-4caf-8a13-151e144adb08",
    "deepnote_cell_type": "code"
   },
   "source": "metric_df",
   "outputs": [
    {
     "output_type": "execute_result",
     "execution_count": 74,
     "data": {
      "application/vnd.deepnote.dataframe.v2+json": {
       "row_count": 3,
       "column_count": 4,
       "columns": [
        {
         "name": "model",
         "dtype": "object",
         "stats": {
          "unique_count": 3,
          "nan_count": 0,
          "categories": [
           {
            "name": "random forest",
            "count": 1
           },
           {
            "name": "SGD Classifier SKB Features",
            "count": 1
           },
           {
            "name": "SGD Classifier RFE Features",
            "count": 1
           }
          ]
         }
        },
        {
         "name": "baseline_accuracy",
         "dtype": "float64",
         "stats": {
          "unique_count": 1,
          "nan_count": 0,
          "min": "0.32",
          "max": "0.32",
          "histogram": [
           {
            "bin_start": -0.18,
            "bin_end": -0.07999999999999999,
            "count": 0
           },
           {
            "bin_start": -0.07999999999999999,
            "bin_end": 0.020000000000000018,
            "count": 0
           },
           {
            "bin_start": 0.020000000000000018,
            "bin_end": 0.12000000000000005,
            "count": 0
           },
           {
            "bin_start": 0.12000000000000005,
            "bin_end": 0.22000000000000003,
            "count": 0
           },
           {
            "bin_start": 0.22000000000000003,
            "bin_end": 0.32,
            "count": 0
           },
           {
            "bin_start": 0.32,
            "bin_end": 0.4200000000000001,
            "count": 3
           },
           {
            "bin_start": 0.4200000000000001,
            "bin_end": 0.52,
            "count": 0
           },
           {
            "bin_start": 0.52,
            "bin_end": 0.6200000000000001,
            "count": 0
           },
           {
            "bin_start": 0.6200000000000001,
            "bin_end": 0.72,
            "count": 0
           },
           {
            "bin_start": 0.72,
            "bin_end": 0.8200000000000001,
            "count": 0
           }
          ]
         }
        },
        {
         "name": "train_accuracy",
         "dtype": "float64",
         "stats": {
          "unique_count": 3,
          "nan_count": 0,
          "min": "0.65",
          "max": "0.69",
          "histogram": [
           {
            "bin_start": 0.65,
            "bin_end": 0.654,
            "count": 1
           },
           {
            "bin_start": 0.654,
            "bin_end": 0.658,
            "count": 0
           },
           {
            "bin_start": 0.658,
            "bin_end": 0.662,
            "count": 0
           },
           {
            "bin_start": 0.662,
            "bin_end": 0.666,
            "count": 0
           },
           {
            "bin_start": 0.666,
            "bin_end": 0.6699999999999999,
            "count": 0
           },
           {
            "bin_start": 0.6699999999999999,
            "bin_end": 0.6739999999999999,
            "count": 0
           },
           {
            "bin_start": 0.6739999999999999,
            "bin_end": 0.6779999999999999,
            "count": 0
           },
           {
            "bin_start": 0.6779999999999999,
            "bin_end": 0.6819999999999999,
            "count": 1
           },
           {
            "bin_start": 0.6819999999999999,
            "bin_end": 0.6859999999999999,
            "count": 0
           },
           {
            "bin_start": 0.6859999999999999,
            "bin_end": 0.69,
            "count": 1
           }
          ]
         }
        },
        {
         "name": "validate_accuracy",
         "dtype": "float64",
         "stats": {
          "unique_count": 3,
          "nan_count": 0,
          "min": "0.66",
          "max": "0.68",
          "histogram": [
           {
            "bin_start": 0.66,
            "bin_end": 0.662,
            "count": 1
           },
           {
            "bin_start": 0.662,
            "bin_end": 0.664,
            "count": 0
           },
           {
            "bin_start": 0.664,
            "bin_end": 0.666,
            "count": 0
           },
           {
            "bin_start": 0.666,
            "bin_end": 0.668,
            "count": 0
           },
           {
            "bin_start": 0.668,
            "bin_end": 0.67,
            "count": 0
           },
           {
            "bin_start": 0.67,
            "bin_end": 0.672,
            "count": 1
           },
           {
            "bin_start": 0.672,
            "bin_end": 0.674,
            "count": 0
           },
           {
            "bin_start": 0.674,
            "bin_end": 0.676,
            "count": 0
           },
           {
            "bin_start": 0.676,
            "bin_end": 0.678,
            "count": 0
           },
           {
            "bin_start": 0.678,
            "bin_end": 0.68,
            "count": 1
           }
          ]
         }
        },
        {
         "name": "_deepnote_index_column",
         "dtype": "int64"
        }
       ],
       "rows_top": [
        {
         "model": "random forest",
         "baseline_accuracy": 0.32,
         "train_accuracy": 0.69,
         "validate_accuracy": 0.68,
         "_deepnote_index_column": 0
        },
        {
         "model": "SGD Classifier SKB Features",
         "baseline_accuracy": 0.32,
         "train_accuracy": 0.68,
         "validate_accuracy": 0.67,
         "_deepnote_index_column": 1
        },
        {
         "model": "SGD Classifier RFE Features",
         "baseline_accuracy": 0.32,
         "train_accuracy": 0.65,
         "validate_accuracy": 0.66,
         "_deepnote_index_column": 2
        }
       ],
       "rows_bottom": null
      },
      "text/plain": "                         model  baseline_accuracy  train_accuracy  \\\n0                random forest               0.32            0.69   \n1  SGD Classifier SKB Features               0.32            0.68   \n2  SGD Classifier RFE Features               0.32            0.65   \n\n   validate_accuracy  \n0               0.68  \n1               0.67  \n2               0.66  ",
      "text/html": "<div>\n<style scoped>\n    .dataframe tbody tr th:only-of-type {\n        vertical-align: middle;\n    }\n\n    .dataframe tbody tr th {\n        vertical-align: top;\n    }\n\n    .dataframe thead th {\n        text-align: right;\n    }\n</style>\n<table border=\"1\" class=\"dataframe\">\n  <thead>\n    <tr style=\"text-align: right;\">\n      <th></th>\n      <th>model</th>\n      <th>baseline_accuracy</th>\n      <th>train_accuracy</th>\n      <th>validate_accuracy</th>\n    </tr>\n  </thead>\n  <tbody>\n    <tr>\n      <th>0</th>\n      <td>random forest</td>\n      <td>0.32</td>\n      <td>0.69</td>\n      <td>0.68</td>\n    </tr>\n    <tr>\n      <th>1</th>\n      <td>SGD Classifier SKB Features</td>\n      <td>0.32</td>\n      <td>0.68</td>\n      <td>0.67</td>\n    </tr>\n    <tr>\n      <th>2</th>\n      <td>SGD Classifier RFE Features</td>\n      <td>0.32</td>\n      <td>0.65</td>\n      <td>0.66</td>\n    </tr>\n  </tbody>\n</table>\n</div>"
     },
     "metadata": {}
    }
   ],
   "execution_count": null
  },
  {
   "cell_type": "code",
   "metadata": {
    "tags": [],
    "deepnote_to_be_reexecuted": false,
    "source_hash": "b623e53d",
    "cell_id": "00065-2af85717-3415-453a-91a0-7148cf725294",
    "execution_start": 1622219747870,
    "execution_millis": 1,
    "deepnote_cell_type": "code"
   },
   "source": "",
   "outputs": [],
   "execution_count": null
  },
  {
   "cell_type": "markdown",
   "source": "# KNN \n## Train",
   "metadata": {
    "tags": [],
    "cell_id": "00066-308346c0-b8b4-4d09-8202-8300ee8e80b1",
    "deepnote_cell_type": "markdown"
   }
  },
  {
   "cell_type": "code",
   "metadata": {
    "tags": [],
    "deepnote_to_be_reexecuted": false,
    "source_hash": "2a29daa2",
    "execution_start": 1622219747871,
    "execution_millis": 13,
    "cell_id": "00067-7fd29290-0e86-43e8-b52d-ecef78cbd29b",
    "deepnote_cell_type": "code"
   },
   "source": "# Baseline\ndf.alleged_threat_lvl.describe()",
   "outputs": [
    {
     "output_type": "execute_result",
     "execution_count": 75,
     "data": {
      "text/plain": "count    6265.000000\nmean        0.677095\nstd         0.467624\nmin         0.000000\n25%         0.000000\n50%         1.000000\n75%         1.000000\nmax         1.000000\nName: alleged_threat_lvl, dtype: float64"
     },
     "metadata": {}
    }
   ],
   "execution_count": null
  },
  {
   "cell_type": "code",
   "metadata": {
    "tags": [],
    "deepnote_to_be_reexecuted": false,
    "source_hash": "de1e323c",
    "execution_start": 1622219747876,
    "execution_millis": 24,
    "cell_id": "00068-f2497ed6-f0ce-4bf2-805f-321b0e5b88bc",
    "deepnote_cell_type": "code"
   },
   "source": "df.info()",
   "outputs": [
    {
     "name": "stdout",
     "text": "<class 'pandas.core.frame.DataFrame'>\nRangeIndex: 6265 entries, 0 to 6264\nData columns (total 60 columns):\n #   Column                                       Non-Null Count  Dtype  \n---  ------                                       --------------  -----  \n 0   age                                          6265 non-null   int64  \n 1   gender                                       6265 non-null   object \n 2   race                                         6265 non-null   object \n 3   date                                         6265 non-null   object \n 4   city                                         6265 non-null   object \n 5   state                                        6265 non-null   object \n 6   zipcode                                      6265 non-null   float64\n 7   county                                       6265 non-null   object \n 8   agency_responsible                           6265 non-null   object \n 9   cause_of_death                               6265 non-null   object \n 10  description_of_circumstances                 6265 non-null   object \n 11  official_disposition                         6265 non-null   object \n 12  criminal_charges_filed                       6265 non-null   object \n 13  mental_illness                               6265 non-null   object \n 14  armed_unarmed_status                         6265 non-null   object \n 15  alleged_weapon                               6265 non-null   object \n 16  alleged_threat_lvl                           6265 non-null   float64\n 17  fleeing                                      6265 non-null   object \n 18  body_camera                                  6265 non-null   float64\n 19  geography                                    6265 non-null   object \n 20  encounter_type_draft                         6265 non-null   object \n 21  initial_reported_reason_for_encounter_draft  6265 non-null   object \n 22  known_past_shootings_of_officer_draft        6265 non-null   int64  \n 23  is_female                                    6265 non-null   int64  \n 24  is_male                                      6265 non-null   int64  \n 25  is_transgender                               6265 non-null   int64  \n 26  was_fleeing                                  6265 non-null   float64\n 27  was_not fleeing                              6265 non-null   float64\n 28  was_allegedly_armed                          6265 non-null   float64\n 29  was_unarmed                                  6265 non-null   float64\n 30  was_vehicle                                  6265 non-null   float64\n 31  was_domestic_disturbance                     6265 non-null   int64  \n 32  was_mental_health_welfare_check              6265 non-null   int64  \n 33  was_person_with_a_weapon                     6265 non-null   int64  \n 34  was_traffic_stop                             6265 non-null   int64  \n 35  was_violent_crime_part_1                     6265 non-null   int64  \n 36  is_asian/pacific islander                    6265 non-null   int64  \n 37  is_black                                     6265 non-null   int64  \n 38  is_hispanic                                  6265 non-null   int64  \n 39  is_native american                           6265 non-null   int64  \n 40  is_unknown race                              6265 non-null   int64  \n 41  is_white                                     6265 non-null   int64  \n 42  mntlill_drug or alcohol use                  6265 non-null   int64  \n 43  mntlill_no                                   6265 non-null   int64  \n 44  mntlill_unknown                              6265 non-null   int64  \n 45  mntlill_yes                                  6265 non-null   int64  \n 46  rural                                        6265 non-null   float64\n 47  suburban                                     6265 non-null   float64\n 48  urban                                        6265 non-null   float64\n 49  cod_lethal                                   6265 non-null   int64  \n 50  age_bins                                     6265 non-null   object \n 51  unknown                                      6265 non-null   int64  \n 52  under 12                                     6265 non-null   int64  \n 53  12-17                                        6265 non-null   int64  \n 54  18-24                                        6265 non-null   int64  \n 55  25-34                                        6265 non-null   int64  \n 56  35-44                                        6265 non-null   int64  \n 57  45-54                                        6265 non-null   int64  \n 58  55-64                                        6265 non-null   int64  \n 59  65+                                          6265 non-null   int64  \ndtypes: float64(11), int64(30), object(19)\nmemory usage: 2.9+ MB\n",
     "output_type": "stream"
    }
   ],
   "execution_count": null
  },
  {
   "cell_type": "code",
   "metadata": {
    "tags": [],
    "deepnote_to_be_reexecuted": false,
    "source_hash": "620026b4",
    "execution_start": 1622219871507,
    "execution_millis": 24,
    "cell_id": "00069-6c8d1eca-2804-4a94-b9c9-690bb183bf5e",
    "deepnote_cell_type": "code"
   },
   "source": "accuracies_df = pd.DataFrame({\n    'Actual Threat': [round(((df.alleged_threat_lvl == 1).mean())*100, 2)], \n    'Baseline Adoption Accuracy': [round(((train.alleged_threat_lvl == 1).mean())*100, 2)], \n    'Logit Model Adoption Accuracy': [round((logit.score(X_test[combo_feats], y_test))*100, 2)]\n})\naccuracies_df",
   "outputs": [
    {
     "output_type": "error",
     "ename": "NameError",
     "evalue": "name 'logit' is not defined",
     "traceback": [
      "\u001b[0;31m---------------------------------------------------------------------------\u001b[0m",
      "\u001b[0;31mNameError\u001b[0m                                 Traceback (most recent call last)",
      "\u001b[0;32m<ipython-input-77-1b3a493754f4>\u001b[0m in \u001b[0;36m<module>\u001b[0;34m\u001b[0m\n\u001b[1;32m      2\u001b[0m     \u001b[0;34m'Actual Threat'\u001b[0m\u001b[0;34m:\u001b[0m \u001b[0;34m[\u001b[0m\u001b[0mround\u001b[0m\u001b[0;34m(\u001b[0m\u001b[0;34m(\u001b[0m\u001b[0;34m(\u001b[0m\u001b[0mdf\u001b[0m\u001b[0;34m.\u001b[0m\u001b[0malleged_threat_lvl\u001b[0m \u001b[0;34m==\u001b[0m \u001b[0;36m1\u001b[0m\u001b[0;34m)\u001b[0m\u001b[0;34m.\u001b[0m\u001b[0mmean\u001b[0m\u001b[0;34m(\u001b[0m\u001b[0;34m)\u001b[0m\u001b[0;34m)\u001b[0m\u001b[0;34m*\u001b[0m\u001b[0;36m100\u001b[0m\u001b[0;34m,\u001b[0m \u001b[0;36m2\u001b[0m\u001b[0;34m)\u001b[0m\u001b[0;34m]\u001b[0m\u001b[0;34m,\u001b[0m\u001b[0;34m\u001b[0m\u001b[0;34m\u001b[0m\u001b[0m\n\u001b[1;32m      3\u001b[0m     \u001b[0;34m'Baseline Adoption Accuracy'\u001b[0m\u001b[0;34m:\u001b[0m \u001b[0;34m[\u001b[0m\u001b[0mround\u001b[0m\u001b[0;34m(\u001b[0m\u001b[0;34m(\u001b[0m\u001b[0;34m(\u001b[0m\u001b[0mtrain\u001b[0m\u001b[0;34m.\u001b[0m\u001b[0malleged_threat_lvl\u001b[0m \u001b[0;34m==\u001b[0m \u001b[0;36m1\u001b[0m\u001b[0;34m)\u001b[0m\u001b[0;34m.\u001b[0m\u001b[0mmean\u001b[0m\u001b[0;34m(\u001b[0m\u001b[0;34m)\u001b[0m\u001b[0;34m)\u001b[0m\u001b[0;34m*\u001b[0m\u001b[0;36m100\u001b[0m\u001b[0;34m,\u001b[0m \u001b[0;36m2\u001b[0m\u001b[0;34m)\u001b[0m\u001b[0;34m]\u001b[0m\u001b[0;34m,\u001b[0m\u001b[0;34m\u001b[0m\u001b[0;34m\u001b[0m\u001b[0m\n\u001b[0;32m----> 4\u001b[0;31m     \u001b[0;34m'Logit Model Adoption Accuracy'\u001b[0m\u001b[0;34m:\u001b[0m \u001b[0;34m[\u001b[0m\u001b[0mround\u001b[0m\u001b[0;34m(\u001b[0m\u001b[0;34m(\u001b[0m\u001b[0mlogit\u001b[0m\u001b[0;34m.\u001b[0m\u001b[0mscore\u001b[0m\u001b[0;34m(\u001b[0m\u001b[0mX_test\u001b[0m\u001b[0;34m[\u001b[0m\u001b[0mcombo_feats\u001b[0m\u001b[0;34m]\u001b[0m\u001b[0;34m,\u001b[0m \u001b[0my_test\u001b[0m\u001b[0;34m)\u001b[0m\u001b[0;34m)\u001b[0m\u001b[0;34m*\u001b[0m\u001b[0;36m100\u001b[0m\u001b[0;34m,\u001b[0m \u001b[0;36m2\u001b[0m\u001b[0;34m)\u001b[0m\u001b[0;34m]\u001b[0m\u001b[0;34m\u001b[0m\u001b[0;34m\u001b[0m\u001b[0m\n\u001b[0m\u001b[1;32m      5\u001b[0m })\n\u001b[1;32m      6\u001b[0m \u001b[0maccuracies_df\u001b[0m\u001b[0;34m\u001b[0m\u001b[0;34m\u001b[0m\u001b[0m\n",
      "\u001b[0;31mNameError\u001b[0m: name 'logit' is not defined"
     ]
    }
   ],
   "execution_count": null
  },
  {
   "cell_type": "code",
   "source": "",
   "metadata": {
    "tags": [],
    "cell_id": "00093-2bf93836-b3d1-4cdb-98a4-7ee4966d3d59",
    "deepnote_cell_type": "code"
   },
   "outputs": [],
   "execution_count": null
  },
  {
   "cell_type": "markdown",
   "source": "<a style='text-decoration:none;line-height:16px;display:flex;color:#5B5B62;padding:10px;justify-content:end;' href='https://deepnote.com?utm_source=created-in-deepnote-cell&projectId=258e71fc-cf2b-48c3-8461-70ecd9787aa1' target=\"_blank\">\n<img alt='Created in deepnote.com' style='display:inline;max-height:16px;margin:0px;margin-right:7.5px;' src='data:image/svg+xml;base64,PD94bWwgdmVyc2lvbj0iMS4wIiBlbmNvZGluZz0iVVRGLTgiPz4KPHN2ZyB3aWR0aD0iODBweCIgaGVpZ2h0PSI4MHB4IiB2aWV3Qm94PSIwIDAgODAgODAiIHZlcnNpb249IjEuMSIgeG1sbnM9Imh0dHA6Ly93d3cudzMub3JnLzIwMDAvc3ZnIiB4bWxuczp4bGluaz0iaHR0cDovL3d3dy53My5vcmcvMTk5OS94bGluayI+CiAgICA8IS0tIEdlbmVyYXRvcjogU2tldGNoIDU0LjEgKDc2NDkwKSAtIGh0dHBzOi8vc2tldGNoYXBwLmNvbSAtLT4KICAgIDx0aXRsZT5Hcm91cCAzPC90aXRsZT4KICAgIDxkZXNjPkNyZWF0ZWQgd2l0aCBTa2V0Y2guPC9kZXNjPgogICAgPGcgaWQ9IkxhbmRpbmciIHN0cm9rZT0ibm9uZSIgc3Ryb2tlLXdpZHRoPSIxIiBmaWxsPSJub25lIiBmaWxsLXJ1bGU9ImV2ZW5vZGQiPgogICAgICAgIDxnIGlkPSJBcnRib2FyZCIgdHJhbnNmb3JtPSJ0cmFuc2xhdGUoLTEyMzUuMDAwMDAwLCAtNzkuMDAwMDAwKSI+CiAgICAgICAgICAgIDxnIGlkPSJHcm91cC0zIiB0cmFuc2Zvcm09InRyYW5zbGF0ZSgxMjM1LjAwMDAwMCwgNzkuMDAwMDAwKSI+CiAgICAgICAgICAgICAgICA8cG9seWdvbiBpZD0iUGF0aC0yMCIgZmlsbD0iIzAyNjVCNCIgcG9pbnRzPSIyLjM3NjIzNzYyIDgwIDM4LjA0NzY2NjcgODAgNTcuODIxNzgyMiA3My44MDU3NTkyIDU3LjgyMTc4MjIgMzIuNzU5MjczOSAzOS4xNDAyMjc4IDMxLjY4MzE2ODMiPjwvcG9seWdvbj4KICAgICAgICAgICAgICAgIDxwYXRoIGQ9Ik0zNS4wMDc3MTgsODAgQzQyLjkwNjIwMDcsNzYuNDU0OTM1OCA0Ny41NjQ5MTY3LDcxLjU0MjI2NzEgNDguOTgzODY2LDY1LjI2MTk5MzkgQzUxLjExMjI4OTksNTUuODQxNTg0MiA0MS42NzcxNzk1LDQ5LjIxMjIyODQgMjUuNjIzOTg0Niw0OS4yMTIyMjg0IEMyNS40ODQ5Mjg5LDQ5LjEyNjg0NDggMjkuODI2MTI5Niw0My4yODM4MjQ4IDM4LjY0NzU4NjksMzEuNjgzMTY4MyBMNzIuODcxMjg3MSwzMi41NTQ0MjUgTDY1LjI4MDk3Myw2Ny42NzYzNDIxIEw1MS4xMTIyODk5LDc3LjM3NjE0NCBMMzUuMDA3NzE4LDgwIFoiIGlkPSJQYXRoLTIyIiBmaWxsPSIjMDAyODY4Ij48L3BhdGg+CiAgICAgICAgICAgICAgICA8cGF0aCBkPSJNMCwzNy43MzA0NDA1IEwyNy4xMTQ1MzcsMC4yNTcxMTE0MzYgQzYyLjM3MTUxMjMsLTEuOTkwNzE3MDEgODAsMTAuNTAwMzkyNyA4MCwzNy43MzA0NDA1IEM4MCw2NC45NjA0ODgyIDY0Ljc3NjUwMzgsNzkuMDUwMzQxNCAzNC4zMjk1MTEzLDgwIEM0Ny4wNTUzNDg5LDc3LjU2NzA4MDggNTMuNDE4MjY3Nyw3MC4zMTM2MTAzIDUzLjQxODI2NzcsNTguMjM5NTg4NSBDNTMuNDE4MjY3Nyw0MC4xMjg1NTU3IDM2LjMwMzk1NDQsMzcuNzMwNDQwNSAyNS4yMjc0MTcsMzcuNzMwNDQwNSBDMTcuODQzMDU4NiwzNy43MzA0NDA1IDkuNDMzOTE5NjYsMzcuNzMwNDQwNSAwLDM3LjczMDQ0MDUgWiIgaWQ9IlBhdGgtMTkiIGZpbGw9IiMzNzkzRUYiPjwvcGF0aD4KICAgICAgICAgICAgPC9nPgogICAgICAgIDwvZz4KICAgIDwvZz4KPC9zdmc+' > </img>\nCreated in <span style='font-weight:600;margin-left:4px;'>Deepnote</span></a>",
   "metadata": {
    "tags": [],
    "created_in_deepnote_cell": true,
    "deepnote_cell_type": "markdown"
   }
  }
 ],
 "nbformat": 4,
 "nbformat_minor": 2,
 "metadata": {
  "orig_nbformat": 2,
  "deepnote": {
   "is_reactive": false
  },
  "deepnote_notebook_id": "c28ac7c7-1a3d-42fa-80a0-9dc2aa810e12",
  "deepnote_execution_queue": []
 }
}