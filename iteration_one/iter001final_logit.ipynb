{
 "cells": [
  {
   "cell_type": "markdown",
   "metadata": {
    "cell_id": "00000-57fb00d0-2a11-42b1-afad-a9c44ff090c7",
    "deepnote_cell_type": "markdown"
   },
   "source": [
    "# Project Description and Goals\n",
    "Across the United States, there are altercations that result in killings by police officers, whether on-duty or off-duty. Each case is considered as a person dying from being shot, beaten, restrained, intentionally hit by a police vehicle, pepper sprayed, tasered, or otherwise harmed by police. \n",
    "\n",
    "For our capstone, we are addressing the issue of police violence that has become a heated topic throughout the country in the recent years. As a team, we will be attempting to help law enforcement agencies spot risk factors so they may step in before risk transforms into actual harm.  \n",
    "\n",
    "The open-sourced dataset we acquired from [Mapping Police Violence](https://mappingpoliceviolence.org/aboutthedata) has gathered over 9000 police killings from January 2013 to May 2021. Top drivers of civilian fatalities identified will shed light on changes to be made to save more lives. Then, we will use the features to apply to our classification models predicting the threat level of the victim (attacker or not).\n",
    "\n",
    "### Objectives for this project include:\n",
    "- Identifying the drivers of civilian fatalities. \n",
    "- Documenting the process and analysis throughout the data science pipeline.\n",
    "- Constructing a classification model that can predict what the victim's threat level is, given the features of the dataset.\n",
    "- Deliverables:\n",
    "    - README.md file containing overall project information. \n",
    "    - A well-documented jupyter notebook detailing the data science pipeline process.\n",
    "    - Python modules that automate the data acquisition, preparation, and exploration process.\n",
    "\n",
    "### Initial Hypotheses:\n",
    "- Does gender make a difference in alleged threat level?\n",
    "- How does mental illness affect each gender?\n",
    "- Do symptoms of mental illness play a role in threat level?\n",
    "- Is race a factor for alleged threat level?\n",
    "- Does the police officer having a bodycam make a difference in alleged threat level?\n",
    "- Is cause of death and alleged threat level independent of one another?\n",
    "- What are the fatalities by state: % killings vs pop\n",
    "- Where and what areas result in more killings?"
   ]
  },
  {
   "cell_type": "markdown",
   "metadata": {
    "cell_id": "00001-c6affe2f-6374-43e2-b4c1-e9b83b05643f",
    "deepnote_cell_type": "markdown"
   },
   "source": [
    "___\n",
    "# Imports \n",
    "Import all necessary libraries and functions. "
   ]
  },
  {
   "cell_type": "code",
   "execution_count": 1,
   "metadata": {
    "cell_id": "00002-f3089ea1-de6a-4f83-b349-d25e7c6814a7",
    "deepnote_cell_type": "code",
    "deepnote_to_be_reexecuted": false,
    "execution_millis": 2995,
    "execution_start": 1622252230586,
    "source_hash": "cfefdd55"
   },
   "outputs": [],
   "source": [
    "import pandas as pd\n",
    "import numpy as np\n",
    "\n",
    "# Helper Functions\n",
    "import wrangle as w \n",
    "import explore as exp\n",
    "from explore import rfe, split, select_kbest\n",
    "\n",
    "# Visualizations\n",
    "import seaborn as sns\n",
    "import matplotlib.pyplot as plt\n",
    "\n",
    "# Ignore warnings\n",
    "import warnings\n",
    "warnings.filterwarnings(\"ignore\")\n",
    "\n",
    "# Hypothesis tests\n",
    "from scipy import stats\n",
    "from scipy.stats import chi2_contingency\n",
    "from scipy.stats import ttest_1samp\n",
    "from scipy.stats import ttest_ind\n",
    "\n",
    "# Split data\n",
    "from sklearn.model_selection import train_test_split\n",
    "\n",
    "#Feature Engineering\n",
    "from sklearn.feature_selection import SelectKBest, f_regression, chi2\n",
    "from sklearn.feature_selection import RFE\n",
    "\n",
    "# Evaluate models\n",
    "from sklearn.metrics import classification_report\n",
    "from sklearn.metrics import accuracy_score\n",
    "\n",
    "# Create models for classification ML:\n",
    "# Decision Tree  \n",
    "from sklearn.tree import DecisionTreeClassifier\n",
    "from sklearn.tree import export_graphviz\n",
    "\n",
    "# Random Forest\n",
    "from sklearn.ensemble import RandomForestClassifier\n",
    "\n",
    "# K-Nearest Neighbor(KNN)  \n",
    "from sklearn.neighbors import KNeighborsClassifier\n",
    "\n",
    "# Logistic Regression\n",
    "from sklearn.linear_model import LogisticRegression\n",
    "\n",
    "# Evaluate models\n",
    "from sklearn.metrics import confusion_matrix\n",
    "from sklearn.metrics import classification_report\n",
    "from sklearn.metrics import accuracy_score\n",
    "from sklearn.metrics import precision_score\n",
    "from sklearn.metrics import recall_score\n",
    "from sklearn.metrics import f1_score\n",
    "from sklearn.metrics import precision_recall_fscore_support "
   ]
  },
  {
   "cell_type": "markdown",
   "metadata": {
    "cell_id": "00003-269c5652-39a3-44a3-9b9c-766177e9ef15",
    "deepnote_cell_type": "markdown"
   },
   "source": [
    "\n",
    "___\n",
    "# Acquire Data"
   ]
  },
  {
   "cell_type": "code",
   "execution_count": 2,
   "metadata": {
    "cell_id": "00004-c9dbcf7a-ada8-4c13-98bb-a963de5e6f36",
    "deepnote_cell_type": "code",
    "deepnote_to_be_reexecuted": false,
    "execution_millis": 735,
    "execution_start": 1622252233587,
    "source_hash": "bb51ee53",
    "tags": []
   },
   "outputs": [
    {
     "data": {
      "text/html": [
       "<div>\n",
       "<style scoped>\n",
       "    .dataframe tbody tr th:only-of-type {\n",
       "        vertical-align: middle;\n",
       "    }\n",
       "\n",
       "    .dataframe tbody tr th {\n",
       "        vertical-align: top;\n",
       "    }\n",
       "\n",
       "    .dataframe thead th {\n",
       "        text-align: right;\n",
       "    }\n",
       "</style>\n",
       "<table border=\"1\" class=\"dataframe\">\n",
       "  <thead>\n",
       "    <tr style=\"text-align: right;\">\n",
       "      <th></th>\n",
       "      <th>Victim's name</th>\n",
       "      <th>Victim's age</th>\n",
       "      <th>Victim's gender</th>\n",
       "      <th>Victim's race</th>\n",
       "      <th>URL of image of victim</th>\n",
       "      <th>Date of Incident (month/day/year)</th>\n",
       "      <th>Street Address of Incident</th>\n",
       "      <th>City</th>\n",
       "      <th>State</th>\n",
       "      <th>Zipcode</th>\n",
       "      <th>...</th>\n",
       "      <th>Off-Duty Killing?</th>\n",
       "      <th>Geography (via Trulia methodology based on zipcode population density: http://jedkolko.com/wp-content/uploads/2015/05/full-ZCTA-urban-suburban-rural-classification.xlsx )</th>\n",
       "      <th>MPV ID</th>\n",
       "      <th>Fatal Encounters ID</th>\n",
       "      <th>Encounter Type (DRAFT)</th>\n",
       "      <th>Initial Reported Reason for Encounter (DRAFT)</th>\n",
       "      <th>Names of Officers Involved (DRAFT)</th>\n",
       "      <th>Race of Officers Involved (DRAFT)</th>\n",
       "      <th>Known Past Shootings of Officer(s) (DRAFT)</th>\n",
       "      <th>Call for Service? (DRAFT)</th>\n",
       "    </tr>\n",
       "  </thead>\n",
       "  <tbody>\n",
       "    <tr>\n",
       "      <th>0</th>\n",
       "      <td>Jacob Wood</td>\n",
       "      <td>28</td>\n",
       "      <td>Male</td>\n",
       "      <td>Native American</td>\n",
       "      <td>https://fatalencounters.org/wp-content/uploads...</td>\n",
       "      <td>2021-04-14</td>\n",
       "      <td>Scovil Street</td>\n",
       "      <td>Mars Hill</td>\n",
       "      <td>ME</td>\n",
       "      <td>4758.0</td>\n",
       "      <td>...</td>\n",
       "      <td>NaN</td>\n",
       "      <td>Rural</td>\n",
       "      <td>9105.0</td>\n",
       "      <td>30036.0</td>\n",
       "      <td>None/Unknown</td>\n",
       "      <td>unknown</td>\n",
       "      <td>Isaac Ward</td>\n",
       "      <td>NaN</td>\n",
       "      <td>NaN</td>\n",
       "      <td>Yes</td>\n",
       "    </tr>\n",
       "    <tr>\n",
       "      <th>1</th>\n",
       "      <td>Rodney Applewhite</td>\n",
       "      <td>25</td>\n",
       "      <td>Male</td>\n",
       "      <td>Black</td>\n",
       "      <td>https://fatalencounters.org/wp-content/uploads...</td>\n",
       "      <td>2020-11-19</td>\n",
       "      <td>Manzano Expressway</td>\n",
       "      <td>Los Lunas</td>\n",
       "      <td>NM</td>\n",
       "      <td>87031.0</td>\n",
       "      <td>...</td>\n",
       "      <td>NaN</td>\n",
       "      <td>Rural</td>\n",
       "      <td>8631.0</td>\n",
       "      <td>29233.0</td>\n",
       "      <td>Traffic Stop</td>\n",
       "      <td>Traffic violation</td>\n",
       "      <td>Gene Gonzales</td>\n",
       "      <td>NaN</td>\n",
       "      <td>NaN</td>\n",
       "      <td>No</td>\n",
       "    </tr>\n",
       "    <tr>\n",
       "      <th>2</th>\n",
       "      <td>Bennie Biby</td>\n",
       "      <td>44</td>\n",
       "      <td>Male</td>\n",
       "      <td>White</td>\n",
       "      <td>https://fatalencounters.org/wp-content/uploads...</td>\n",
       "      <td>2020-10-28</td>\n",
       "      <td>295 Forest Circle</td>\n",
       "      <td>Cadiz</td>\n",
       "      <td>KY</td>\n",
       "      <td>42211.0</td>\n",
       "      <td>...</td>\n",
       "      <td>NaN</td>\n",
       "      <td>Rural</td>\n",
       "      <td>8568.0</td>\n",
       "      <td>29037.0</td>\n",
       "      <td>Mental Health/Welfare Check</td>\n",
       "      <td>Erratic behavior</td>\n",
       "      <td>Aaron Acree</td>\n",
       "      <td>NaN</td>\n",
       "      <td>NaN</td>\n",
       "      <td>Yes</td>\n",
       "    </tr>\n",
       "    <tr>\n",
       "      <th>3</th>\n",
       "      <td>Joey Hoffman</td>\n",
       "      <td>40</td>\n",
       "      <td>Male</td>\n",
       "      <td>Unknown Race</td>\n",
       "      <td>NaN</td>\n",
       "      <td>2020-10-19</td>\n",
       "      <td>Lehigh Street and W 7th St</td>\n",
       "      <td>Jim Thorpe</td>\n",
       "      <td>PA</td>\n",
       "      <td>18229.0</td>\n",
       "      <td>...</td>\n",
       "      <td>NaN</td>\n",
       "      <td>Rural</td>\n",
       "      <td>8532.0</td>\n",
       "      <td>28983.0</td>\n",
       "      <td>Domestic Disturbance</td>\n",
       "      <td>Domestic Disturbance-intimate partner (married)</td>\n",
       "      <td>NaN</td>\n",
       "      <td>NaN</td>\n",
       "      <td>NaN</td>\n",
       "      <td>Yes</td>\n",
       "    </tr>\n",
       "    <tr>\n",
       "      <th>4</th>\n",
       "      <td>Paul Bailey</td>\n",
       "      <td>21</td>\n",
       "      <td>Male</td>\n",
       "      <td>White</td>\n",
       "      <td>https://fatalencounters.org/wp-content/uploads...</td>\n",
       "      <td>2020-10-17</td>\n",
       "      <td>2423 Stillwell Rd</td>\n",
       "      <td>Davisville</td>\n",
       "      <td>WV</td>\n",
       "      <td>26142.0</td>\n",
       "      <td>...</td>\n",
       "      <td>NaN</td>\n",
       "      <td>Rural</td>\n",
       "      <td>8521.0</td>\n",
       "      <td>28975.0</td>\n",
       "      <td>Mental Health/Welfare Check</td>\n",
       "      <td>Noise complaint/Erratic behavior</td>\n",
       "      <td>Allen</td>\n",
       "      <td>NaN</td>\n",
       "      <td>NaN</td>\n",
       "      <td>Yes</td>\n",
       "    </tr>\n",
       "  </tbody>\n",
       "</table>\n",
       "<p>5 rows × 35 columns</p>\n",
       "</div>"
      ],
      "text/plain": [
       "       Victim's name Victim's age Victim's gender    Victim's race  \\\n",
       "0         Jacob Wood           28            Male  Native American   \n",
       "1  Rodney Applewhite           25            Male            Black   \n",
       "2        Bennie Biby           44            Male            White   \n",
       "3       Joey Hoffman           40            Male     Unknown Race   \n",
       "4        Paul Bailey           21            Male            White   \n",
       "\n",
       "                              URL of image of victim  \\\n",
       "0  https://fatalencounters.org/wp-content/uploads...   \n",
       "1  https://fatalencounters.org/wp-content/uploads...   \n",
       "2  https://fatalencounters.org/wp-content/uploads...   \n",
       "3                                                NaN   \n",
       "4  https://fatalencounters.org/wp-content/uploads...   \n",
       "\n",
       "  Date of Incident (month/day/year)  Street Address of Incident        City  \\\n",
       "0                        2021-04-14               Scovil Street   Mars Hill   \n",
       "1                        2020-11-19          Manzano Expressway   Los Lunas   \n",
       "2                        2020-10-28           295 Forest Circle       Cadiz   \n",
       "3                        2020-10-19  Lehigh Street and W 7th St  Jim Thorpe   \n",
       "4                        2020-10-17           2423 Stillwell Rd  Davisville   \n",
       "\n",
       "  State  Zipcode  ... Off-Duty Killing?  \\\n",
       "0    ME   4758.0  ...               NaN   \n",
       "1    NM  87031.0  ...               NaN   \n",
       "2    KY  42211.0  ...               NaN   \n",
       "3    PA  18229.0  ...               NaN   \n",
       "4    WV  26142.0  ...               NaN   \n",
       "\n",
       "  Geography (via Trulia methodology based on zipcode population density: http://jedkolko.com/wp-content/uploads/2015/05/full-ZCTA-urban-suburban-rural-classification.xlsx )  \\\n",
       "0                                              Rural                                                                                                                           \n",
       "1                                              Rural                                                                                                                           \n",
       "2                                              Rural                                                                                                                           \n",
       "3                                              Rural                                                                                                                           \n",
       "4                                              Rural                                                                                                                           \n",
       "\n",
       "   MPV ID Fatal Encounters ID       Encounter Type (DRAFT)  \\\n",
       "0  9105.0             30036.0                 None/Unknown   \n",
       "1  8631.0             29233.0                 Traffic Stop   \n",
       "2  8568.0             29037.0  Mental Health/Welfare Check   \n",
       "3  8532.0             28983.0         Domestic Disturbance   \n",
       "4  8521.0             28975.0  Mental Health/Welfare Check   \n",
       "\n",
       "     Initial Reported Reason for Encounter (DRAFT)  \\\n",
       "0                                          unknown   \n",
       "1                                Traffic violation   \n",
       "2                                 Erratic behavior   \n",
       "3  Domestic Disturbance-intimate partner (married)   \n",
       "4                 Noise complaint/Erratic behavior   \n",
       "\n",
       "  Names of Officers Involved (DRAFT) Race of Officers Involved (DRAFT)  \\\n",
       "0                         Isaac Ward                               NaN   \n",
       "1                      Gene Gonzales                               NaN   \n",
       "2                        Aaron Acree                               NaN   \n",
       "3                                NaN                               NaN   \n",
       "4                              Allen                               NaN   \n",
       "\n",
       "  Known Past Shootings of Officer(s) (DRAFT) Call for Service? (DRAFT)  \n",
       "0                                        NaN                       Yes  \n",
       "1                                        NaN                        No  \n",
       "2                                        NaN                       Yes  \n",
       "3                                        NaN                       Yes  \n",
       "4                                        NaN                       Yes  \n",
       "\n",
       "[5 rows x 35 columns]"
      ]
     },
     "execution_count": 2,
     "metadata": {},
     "output_type": "execute_result"
    }
   ],
   "source": [
    "# reads data from MPV website's downloaded dataset\n",
    "df = pd.read_excel('data.xlsx')\n",
    "df.head()"
   ]
  },
  {
   "cell_type": "markdown",
   "metadata": {
    "cell_id": "00005-c2be99bc-51e5-4ac6-9fd0-2bd2f81eafb1",
    "deepnote_cell_type": "markdown",
    "tags": []
   },
   "source": [
    "\n",
    "### Initial Data Summarization"
   ]
  },
  {
   "cell_type": "code",
   "execution_count": 3,
   "metadata": {
    "cell_id": "00006-83f1878e-542b-4213-a93e-6bae09a754c6",
    "deepnote_cell_type": "code",
    "deepnote_to_be_reexecuted": true,
    "execution_millis": 12,
    "execution_start": 1622221389204,
    "source_hash": "cbfec6c2",
    "tags": []
   },
   "outputs": [
    {
     "data": {
      "text/plain": [
       "(9147, 35)"
      ]
     },
     "execution_count": 3,
     "metadata": {},
     "output_type": "execute_result"
    }
   ],
   "source": [
    "# rows and columns\n",
    "df.shape"
   ]
  },
  {
   "cell_type": "code",
   "execution_count": 4,
   "metadata": {
    "cell_id": "00007-55deb0cc-6912-4572-8d6b-fa115d7e2224",
    "deepnote_cell_type": "code",
    "deepnote_to_be_reexecuted": true,
    "execution_millis": 26,
    "execution_start": 1622221389231,
    "source_hash": "5451bed5",
    "tags": []
   },
   "outputs": [
    {
     "name": "stdout",
     "output_type": "stream",
     "text": [
      "<class 'pandas.core.frame.DataFrame'>\n",
      "RangeIndex: 9147 entries, 0 to 9146\n",
      "Data columns (total 35 columns):\n",
      " #   Column                                                                                                                                                                      Non-Null Count  Dtype         \n",
      "---  ------                                                                                                                                                                      --------------  -----         \n",
      " 0   Victim's name                                                                                                                                                               9147 non-null   object        \n",
      " 1   Victim's age                                                                                                                                                                9138 non-null   object        \n",
      " 2   Victim's gender                                                                                                                                                             9137 non-null   object        \n",
      " 3   Victim's race                                                                                                                                                               9147 non-null   object        \n",
      " 4   URL of image of victim                                                                                                                                                      4882 non-null   object        \n",
      " 5   Date of Incident (month/day/year)                                                                                                                                           9147 non-null   datetime64[ns]\n",
      " 6   Street Address of Incident                                                                                                                                                  9042 non-null   object        \n",
      " 7   City                                                                                                                                                                        9138 non-null   object        \n",
      " 8   State                                                                                                                                                                       9147 non-null   object        \n",
      " 9   Zipcode                                                                                                                                                                     9099 non-null   float64       \n",
      " 10  County                                                                                                                                                                      9130 non-null   object        \n",
      " 11  Agency responsible for death                                                                                                                                                9143 non-null   object        \n",
      " 12  ORI Agency Identifier (if available)                                                                                                                                        9144 non-null   object        \n",
      " 13  Cause of death                                                                                                                                                              9147 non-null   object        \n",
      " 14  A brief description of the circumstances surrounding the death                                                                                                              9131 non-null   object        \n",
      " 15  Official disposition of death (justified or other)                                                                                                                          9136 non-null   object        \n",
      " 16  Criminal Charges?                                                                                                                                                           9147 non-null   object        \n",
      " 17  Link to news article or photo of official document                                                                                                                          9147 non-null   object        \n",
      " 18  Symptoms of mental illness?                                                                                                                                                 9086 non-null   object        \n",
      " 19  Armed/Unarmed Status                                                                                                                                                        9147 non-null   object        \n",
      " 20  Alleged Weapon (Source: WaPo and Review of Cases Not Included in WaPo Database)                                                                                             9147 non-null   object        \n",
      " 21  Attack                                                                                                                                                                      7387 non-null   object        \n",
      " 22  Fleeing (Source: WaPo)                                                                                                                                                      6612 non-null   object        \n",
      " 23  Body Camera (Source: WaPo)                                                                                                                                                  6078 non-null   object        \n",
      " 24  WaPo ID (If included in WaPo database)                                                                                                                                      6048 non-null   float64       \n",
      " 25  Off-Duty Killing?                                                                                                                                                           248 non-null    object        \n",
      " 26  Geography (via Trulia methodology based on zipcode population density: http://jedkolko.com/wp-content/uploads/2015/05/full-ZCTA-urban-suburban-rural-classification.xlsx )  9122 non-null   object        \n",
      " 27  MPV ID                                                                                                                                                                      9068 non-null   float64       \n",
      " 28  Fatal Encounters ID                                                                                                                                                         9016 non-null   float64       \n",
      " 29  Encounter Type (DRAFT)                                                                                                                                                      4839 non-null   object        \n",
      " 30  Initial Reported Reason for Encounter (DRAFT)                                                                                                                               4839 non-null   object        \n",
      " 31  Names of Officers Involved (DRAFT)                                                                                                                                          1394 non-null   object        \n",
      " 32  Race of Officers Involved (DRAFT)                                                                                                                                           341 non-null    object        \n",
      " 33  Known Past Shootings of Officer(s) (DRAFT)                                                                                                                                  74 non-null     object        \n",
      " 34  Call for Service? (DRAFT)                                                                                                                                                   3616 non-null   object        \n",
      "dtypes: datetime64[ns](1), float64(4), object(30)\n",
      "memory usage: 2.4+ MB\n"
     ]
    }
   ],
   "source": [
    "# list of column names and data types with information\n",
    "df.info()"
   ]
  },
  {
   "cell_type": "code",
   "execution_count": 5,
   "metadata": {
    "cell_id": "00008-629e173f-11ab-44bf-8985-0e0d1c00e56d",
    "deepnote_cell_type": "code",
    "deepnote_to_be_reexecuted": true,
    "execution_millis": 16,
    "execution_start": 1622221389271,
    "source_hash": "f099b8f5",
    "tags": []
   },
   "outputs": [
    {
     "data": {
      "text/plain": [
       "Victim's name                                                                                                                                                                    0\n",
       "Victim's age                                                                                                                                                                     9\n",
       "Victim's gender                                                                                                                                                                 10\n",
       "Victim's race                                                                                                                                                                    0\n",
       "URL of image of victim                                                                                                                                                        4265\n",
       "Date of Incident (month/day/year)                                                                                                                                                0\n",
       "Street Address of Incident                                                                                                                                                     105\n",
       "City                                                                                                                                                                             9\n",
       "State                                                                                                                                                                            0\n",
       "Zipcode                                                                                                                                                                         48\n",
       "County                                                                                                                                                                          17\n",
       "Agency responsible for death                                                                                                                                                     4\n",
       "ORI Agency Identifier (if available)                                                                                                                                             3\n",
       "Cause of death                                                                                                                                                                   0\n",
       "A brief description of the circumstances surrounding the death                                                                                                                  16\n",
       "Official disposition of death (justified or other)                                                                                                                              11\n",
       "Criminal Charges?                                                                                                                                                                0\n",
       "Link to news article or photo of official document                                                                                                                               0\n",
       "Symptoms of mental illness?                                                                                                                                                     61\n",
       "Armed/Unarmed Status                                                                                                                                                             0\n",
       "Alleged Weapon (Source: WaPo and Review of Cases Not Included in WaPo Database)                                                                                                  0\n",
       "Attack                                                                                                                                                                        1760\n",
       "Fleeing (Source: WaPo)                                                                                                                                                        2535\n",
       "Body Camera (Source: WaPo)                                                                                                                                                    3069\n",
       "WaPo ID (If included in WaPo database)                                                                                                                                        3099\n",
       "Off-Duty Killing?                                                                                                                                                             8899\n",
       "Geography (via Trulia methodology based on zipcode population density: http://jedkolko.com/wp-content/uploads/2015/05/full-ZCTA-urban-suburban-rural-classification.xlsx )      25\n",
       "MPV ID                                                                                                                                                                          79\n",
       "Fatal Encounters ID                                                                                                                                                            131\n",
       "Encounter Type (DRAFT)                                                                                                                                                        4308\n",
       "Initial Reported Reason for Encounter (DRAFT)                                                                                                                                 4308\n",
       "Names of Officers Involved (DRAFT)                                                                                                                                            7753\n",
       "Race of Officers Involved (DRAFT)                                                                                                                                             8806\n",
       "Known Past Shootings of Officer(s) (DRAFT)                                                                                                                                    9073\n",
       "Call for Service? (DRAFT)                                                                                                                                                     5531\n",
       "dtype: int64"
      ]
     },
     "execution_count": 5,
     "metadata": {},
     "output_type": "execute_result"
    }
   ],
   "source": [
    "# check nulls\n",
    "df.isnull().sum()"
   ]
  },
  {
   "cell_type": "code",
   "execution_count": 6,
   "metadata": {
    "cell_id": "00009-bb87d9cb-c78d-4dbe-a4e2-9b9e7459c0e6",
    "deepnote_cell_type": "code",
    "deepnote_to_be_reexecuted": true,
    "execution_millis": 27,
    "execution_start": 1622221389338,
    "source_hash": "986d469e",
    "tags": []
   },
   "outputs": [
    {
     "name": "stdout",
     "output_type": "stream",
     "text": [
      "VICTIM'S AGE\n",
      "Unknown    330\n",
      "25         299\n",
      "27         294\n",
      "31         290\n",
      "28         289\n",
      "          ... \n",
      "107          1\n",
      "95           1\n",
      "88           1\n",
      "85           1\n",
      "40s          1\n",
      "Name: Victim's age, Length: 89, dtype: int64\n",
      "-------------------------------------\n",
      "VICTIM'S GENDER\n",
      "Male           8668\n",
      "Female          453\n",
      "Transgender       9\n",
      "Unknown           6\n",
      "Male              1\n",
      "Name: Victim's gender, dtype: int64\n",
      "-------------------------------------\n",
      "VICTIM'S RACE\n",
      "White                     3993\n",
      "Black                     2306\n",
      "Hispanic                  1631\n",
      "Unknown Race               896\n",
      "Asian                      135\n",
      "Native American            130\n",
      "Pacific Islander            52\n",
      "Unknown race                 2\n",
      "Hispanic                     1\n",
      "Asian/Pacific Islander       1\n",
      "Name: Victim's race, dtype: int64\n",
      "-------------------------------------\n",
      "CAUSE OF DEATH\n",
      "Gunshot                                    8434\n",
      "Gunshot, Taser                              273\n",
      "Taser                                       250\n",
      "Vehicle                                      48\n",
      "Physical Restraint                           33\n",
      "Beaten                                       31\n",
      "Tasered                                      21\n",
      "Physical restraint                            9\n",
      "Asphyxiated                                   9\n",
      "Other                                         6\n",
      "Gunshot, Police Dog                           5\n",
      "Gunshot, Pepper Spray                         4\n",
      "Pepper Spray                                  4\n",
      "Taser, Physical Restraint                     2\n",
      "Bean bag                                      2\n",
      "Gunshot, Unspecified Less Lethal Weapon       1\n",
      "Gunshot, Bean Bag Gun                         1\n",
      "Gunshot, Taser, Baton                         1\n",
      "Gunshot, Taser, Pepper spray                  1\n",
      "Taser, Beaten                                 1\n",
      "Bomb                                          1\n",
      "Chemical agent/Pepper spray                   1\n",
      "Taser, Pepper Spray, Beaten                   1\n",
      "Beaten/Bludgeoned with instrument             1\n",
      "Gunshot, Stabbed                              1\n",
      "Gunshot, Beanbag Gun                          1\n",
      "Gunshot, Taser, Beanbag Shotgun               1\n",
      "Taser, Pepper spray, beaten                   1\n",
      "Baton, Pepper Spray, Physical Restraint       1\n",
      "Gunshot, Vehicle                              1\n",
      "Taser, Baton                                  1\n",
      "Name: Cause of death, dtype: int64\n",
      "-------------------------------------\n",
      "OFFICIAL DISPOSITION OF DEATH (JUSTIFIED OR OTHER)\n",
      "Pending investigation/No Known Charges                                         4852\n",
      "Unreported                                                                     1223\n",
      "Pending investigation                                                          1087\n",
      "Justified                                                                       651\n",
      "Justified by District Attorney                                                  350\n",
      "                                                                               ... \n",
      "Pending investigation/No Known Charges                                            1\n",
      "Justified by Fifth Judicial Circuit Solicitor                                     1\n",
      "Murder/Suicide                                                                    1\n",
      "Charged with 2nd degreee murder                                                   1\n",
      "Charged, Convicted of voluntary manslaughter, Sentenced to 3 months in jail       1\n",
      "Name: Official disposition of death (justified or other), Length: 154, dtype: int64\n",
      "-------------------------------------\n",
      "CRIMINAL CHARGES?\n",
      "No known charges                                                                 8993\n",
      "Charged with a crime                                                               67\n",
      "Charged, Acquitted                                                                 32\n",
      "Charged, Charges Dropped                                                            7\n",
      "Charged, Mistrial                                                                   6\n",
      "Charged, Convicted                                                                  5\n",
      "Charged, Convicted, Sentenced to 10 years in prison                                 2\n",
      "Charged, Convicted, Sentenced to 30 years in prison                                 2\n",
      "Charged, Convicted, Sentenced to life in prison                                     2\n",
      "Charged, Convicted, Sentenced to 5 years probation.                                 2\n",
      "Charged, Convicted, Sentenced to 1 year in prison and 4 years probation             1\n",
      "Charged, Mistrial, Plead Guilty to Civil Rights Charges                             1\n",
      "Charged, Convicted, Sentenced to Life in Prison                                     1\n",
      "Charged, Convicted of assault                                                       1\n",
      "Charged, Convicted, Sentenced to 10 Years of Prison                                 1\n",
      "Charged, Convicted, Sentenced to 6 years                                            1\n",
      "Charged, Convicted, Sentenced to 5 years in prison                                  1\n",
      "Charged, Convicted, Sentenced to 3 months in jail                                   1\n",
      "Charged, Convicted, Sentenced to 1 year in prison                                   1\n",
      "Charged, Convicted, Sentenced to 25 years in prison                                 1\n",
      "Charged, Convicted, Sentenced to 50 years                                           1\n",
      "Charged, Convicted, Sentenced to 20 years in prison                                 1\n",
      "Charged, Convicted, Sentenced to 2.5 years in prison                                1\n",
      "Charged, Plead No Contest, Sentenced to 10 years probation                          1\n",
      "Charged, Convicted, Sentenced to 40 years to Life in prison                         1\n",
      "Charged, Convicted, Sentenced to 3 years probation                                  1\n",
      "Charged, Convicted, Sentenced to 14 years in prison                                 1\n",
      "Charged, Convicted, Sentenced to 18 months                                          1\n",
      "Charged, Mistrial, Plead Guilty to Manslaughter                                     1\n",
      "Charged, Convicted, Sentenced to 12 years in prison and 8 years in probation        1\n",
      "Charged, Plead Guilty to Manslaughter, Sentenced to 5 years in prison               1\n",
      "Charged, Convicted, Sentenced to 16 years in prison                                 1\n",
      "Charged, Convicted, Sentenced to 4 years                                            1\n",
      "Charged, Convicted, Sentenced to life in prison without parole, plus 16 years       1\n",
      "Charged, Convicted, Sentenced to 1 year in jail, 3 years suspended                  1\n",
      "Charged, Convicted, Sentenced to 7 years in prison                                  1\n",
      "Charged, Convicted of reckless homicide, sentenced to 1 year in prison              1\n",
      "Charged, Convicted, Sentenced to 40 years in prison                                 1\n",
      "Charged, Convicted, Sentenced to 6 years in prison                                  1\n",
      "Name: Criminal Charges?, dtype: int64\n",
      "-------------------------------------\n",
      "SYMPTOMS OF MENTAL ILLNESS?\n",
      "No                         5897\n",
      "Yes                        1678\n",
      "Unknown                    1178\n",
      "Drug or alcohol use         326\n",
      "Drug or Alcohol Use           2\n",
      "unknown                       1\n",
      "Unkown                        1\n",
      "no                            1\n",
      "Yes/Drug or alcohol use       1\n",
      "Unknown                       1\n",
      "Name: Symptoms of mental illness?, dtype: int64\n",
      "-------------------------------------\n",
      "ARMED/UNARMED STATUS\n",
      "Allegedly Armed                       6552\n",
      "Unarmed/Did Not Have Actual Weapon    1212\n",
      "Unclear                                764\n",
      "Vehicle                                594\n",
      "Allegedly armed                         24\n",
      "Unclear                                  1\n",
      "Name: Armed/Unarmed Status, dtype: int64\n",
      "-------------------------------------\n",
      "ALLEGED WEAPON (SOURCE: WAPO AND REVIEW OF CASES NOT INCLUDED IN WAPO DATABASE)\n",
      "gun                4814\n",
      "knife              1200\n",
      "no object           926\n",
      "undetermined        598\n",
      "vehicle             529\n",
      "                   ... \n",
      "tool                  1\n",
      "knife and bat         1\n",
      "cologne               1\n",
      "knife and rocks       1\n",
      "gun and sword         1\n",
      "Name: Alleged Weapon (Source: WaPo and Review of Cases Not Included in WaPo Database), Length: 176, dtype: int64\n",
      "-------------------------------------\n",
      "ATTACK\n",
      "attack           5070\n",
      "other            1486\n",
      "undetermined      382\n",
      "Attack            189\n",
      "no                180\n",
      "No                 55\n",
      "attack             10\n",
      "NO                  4\n",
      "undetemined         3\n",
      "attact              3\n",
      "undertermined       3\n",
      "attck               1\n",
      "Other               1\n",
      "Name: Attack, dtype: int64\n",
      "-------------------------------------\n",
      "FLEEING (SOURCE: WAPO)\n",
      "Not fleeing     3795\n",
      "Car              963\n",
      "Foot             752\n",
      "not fleeing      315\n",
      "no               293\n",
      "Other            181\n",
      "foot              94\n",
      "car               87\n",
      "Not Fleeing       47\n",
      "fleeing           26\n",
      "other             24\n",
      "undetermined      18\n",
      "yes                6\n",
      "not fleeing        3\n",
      "foot               2\n",
      "unclear            2\n",
      "unknown            2\n",
      " no                1\n",
      "car / foot         1\n",
      "Name: Fleeing (Source: WaPo), dtype: int64\n",
      "-------------------------------------\n",
      "BODY CAMERA (SOURCE: WAPO)\n",
      "No                    5043\n",
      "Yes                    615\n",
      "no                     355\n",
      "yes                     48\n",
      "Surveillance Video       5\n",
      "Bystander Video          4\n",
      "Dashcam Video            2\n",
      "Surveillance video       2\n",
      "dash video               1\n",
      "cell phone video         1\n",
      "Dashcam video            1\n",
      "surveillance video       1\n",
      "Name: Body Camera (Source: WaPo), dtype: int64\n",
      "-------------------------------------\n",
      "OFF-DUTY KILLING?\n",
      "Off-Duty    231\n",
      "Off-duty     14\n",
      "off-duty      3\n",
      "Name: Off-Duty Killing?, dtype: int64\n",
      "-------------------------------------\n",
      "GEOGRAPHY (VIA TRULIA METHODOLOGY BASED ON ZIPCODE POPULATION DENSITY: HTTP://JEDKOLKO.COM/WP-CONTENT/UPLOADS/2015/05/FULL-ZCTA-URBAN-SUBURBAN-RURAL-CLASSIFICATION.XLSX )\n",
      "Suburban        4550\n",
      "Urban           2448\n",
      "Rural           2043\n",
      "Undetermined      81\n",
      "Name: Geography (via Trulia methodology based on zipcode population density: http://jedkolko.com/wp-content/uploads/2015/05/full-ZCTA-urban-suburban-rural-classification.xlsx ), dtype: int64\n",
      "-------------------------------------\n",
      "ENCOUNTER TYPE (DRAFT)\n",
      "Part 1 Violent Crime                                                      1283\n",
      "Other Non-Violent Offense                                                  928\n",
      "Traffic Stop                                                               497\n",
      "Mental Health/Welfare Check                                                494\n",
      "Domestic Disturbance                                                       383\n",
      "                                                                          ... \n",
      "Person with a Weapon (bat)                                                   1\n",
      "Person with a gun                                                            1\n",
      "Person with a Weapon (edged weapon)                                          1\n",
      "Domestic Disturbance-Cohabitant                                              1\n",
      "Part 1 Violent Crime/Domestic Disturbance (intimate partner, familial)       1\n",
      "Name: Encounter Type (DRAFT), Length: 66, dtype: int64\n",
      "-------------------------------------\n",
      "INITIAL REPORTED REASON FOR ENCOUNTER (DRAFT)\n",
      "Traffic violation                           237\n",
      "Shooting                                    184\n",
      "domestic disturbance                        152\n",
      "Domestic Disturbance-no specific details    131\n",
      "domestic incident                            93\n",
      "                                           ... \n",
      "Warrant (robbery)                             1\n",
      "auto theft                                    1\n",
      "domestic violence incident, assault           1\n",
      "Stabbing and carjacking                       1\n",
      "domestic incident, suicidal person            1\n",
      "Name: Initial Reported Reason for Encounter (DRAFT), Length: 1475, dtype: int64\n",
      "-------------------------------------\n",
      "RACE OF OFFICERS INVOLVED (DRAFT)\n",
      "White                            148\n",
      "White, White                      47\n",
      "Hispanic                          24\n",
      "Black                             13\n",
      "White, White, White               13\n",
      "                                ... \n",
      "White, White, White, Hispanic      1\n",
      "White, White, Black                1\n",
      "white                              1\n",
      "White Unknown                      1\n",
      "Black, Black, White, Black         1\n",
      "Name: Race of Officers Involved (DRAFT), Length: 63, dtype: int64\n",
      "-------------------------------------\n",
      "KNOWN PAST SHOOTINGS OF OFFICER(S) (DRAFT)\n",
      "1       50\n",
      "2       11\n",
      "None     5\n",
      "3        5\n",
      "4        2\n",
      "No       1\n",
      "Name: Known Past Shootings of Officer(s) (DRAFT), dtype: int64\n",
      "-------------------------------------\n",
      "CALL FOR SERVICE? (DRAFT)\n",
      "Yes            2257\n",
      "No             1099\n",
      "Unavailable     203\n",
      "No               55\n",
      "yes               2\n",
      "Name: Call for Service? (DRAFT), dtype: int64\n",
      "-------------------------------------\n"
     ]
    }
   ],
   "source": [
    "# specify useless columns and what to exclude for counts\n",
    "useless_columns = df.columns[35:]\n",
    "exclusions = [\"Victim's name\", \n",
    "              \"URL of image of victim\", \n",
    "              \"Date of Incident (month/day/year)\", \n",
    "              \"Street Address of Incident\", \n",
    "              \"City\", \"State\", \"Zipcode\", \"County\", \n",
    "              \"Agency responsible for death\", \"ORI Agency Identifier (if available)\", \n",
    "              \"A brief description of the circumstances surrounding the death\", \n",
    "              \"Link to news article or photo of official document\", \n",
    "              \"Link to news article or photo of official document\", \n",
    "              \"WaPo ID (If included in WaPo database)\", \n",
    "              \"MPV ID\", \n",
    "              \"Fatal Encounters ID\", \n",
    "              \"Names of Officers Involved (DRAFT)\"]\n",
    "\n",
    "# getting value counts for specific columns\n",
    "for column in df.columns:\n",
    "    if column not in exclusions and column not in useless_columns:\n",
    "        print(column.upper())\n",
    "        print(df[column].value_counts())\n",
    "        print(\"-------------------------------------\")"
   ]
  },
  {
   "cell_type": "code",
   "execution_count": 7,
   "metadata": {
    "cell_id": "00010-9c25ad57-598c-4222-a646-cda60455a1db",
    "deepnote_cell_type": "code",
    "deepnote_to_be_reexecuted": true,
    "execution_millis": 2206,
    "execution_start": 1622221389422,
    "source_hash": "e1563a2a",
    "tags": []
   },
   "outputs": [
    {
     "name": "stdout",
     "output_type": "stream",
     "text": [
      "------------------------------------------------------\n",
      "------------------------------------------------------\n"
     ]
    },
    {
     "data": {
      "image/png": "[encoded data removed]",
      "text/plain": [
       "<Figure size 432x288 with 1 Axes>"
      ]
     },
     "metadata": {
      "needs_background": "light"
     },
     "output_type": "display_data"
    },
    {
     "name": "stdout",
     "output_type": "stream",
     "text": [
      "------------------------------------------------------\n",
      "------------------------------------------------------\n"
     ]
    },
    {
     "data": {
      "image/png": "[encoded data removed]",
      "text/plain": [
       "<Figure size 432x288 with 1 Axes>"
      ]
     },
     "metadata": {
      "needs_background": "light"
     },
     "output_type": "display_data"
    },
    {
     "name": "stdout",
     "output_type": "stream",
     "text": [
      "------------------------------------------------------\n",
      "------------------------------------------------------\n"
     ]
    },
    {
     "data": {
      "image/png": "[encoded data removed]",
      "text/plain": [
       "<Figure size 432x288 with 1 Axes>"
      ]
     },
     "metadata": {
      "needs_background": "light"
     },
     "output_type": "display_data"
    },
    {
     "name": "stdout",
     "output_type": "stream",
     "text": [
      "------------------------------------------------------\n",
      "------------------------------------------------------\n"
     ]
    },
    {
     "data": {
      "image/png": "[encoded data removed]",
      "text/plain": [
       "<Figure size 432x288 with 1 Axes>"
      ]
     },
     "metadata": {
      "needs_background": "light"
     },
     "output_type": "display_data"
    },
    {
     "name": "stdout",
     "output_type": "stream",
     "text": [
      "------------------------------------------------------\n",
      "------------------------------------------------------\n"
     ]
    },
    {
     "data": {
      "image/png": "[encoded data removed]",
      "text/plain": [
       "<Figure size 432x288 with 1 Axes>"
      ]
     },
     "metadata": {
      "needs_background": "light"
     },
     "output_type": "display_data"
    },
    {
     "name": "stdout",
     "output_type": "stream",
     "text": [
      "------------------------------------------------------\n",
      "------------------------------------------------------\n"
     ]
    },
    {
     "data": {
      "image/png": "[encoded data removed]",
      "text/plain": [
       "<Figure size 432x288 with 1 Axes>"
      ]
     },
     "metadata": {
      "needs_background": "light"
     },
     "output_type": "display_data"
    },
    {
     "name": "stdout",
     "output_type": "stream",
     "text": [
      "------------------------------------------------------\n",
      "------------------------------------------------------\n"
     ]
    },
    {
     "data": {
      "image/png": "[encoded data removed]",
      "text/plain": [
       "<Figure size 432x288 with 1 Axes>"
      ]
     },
     "metadata": {
      "needs_background": "light"
     },
     "output_type": "display_data"
    },
    {
     "name": "stdout",
     "output_type": "stream",
     "text": [
      "------------------------------------------------------\n",
      "------------------------------------------------------\n"
     ]
    },
    {
     "data": {
      "image/png": "[encoded data removed]",
      "text/plain": [
       "<Figure size 432x288 with 1 Axes>"
      ]
     },
     "metadata": {
      "needs_background": "light"
     },
     "output_type": "display_data"
    },
    {
     "name": "stdout",
     "output_type": "stream",
     "text": [
      "------------------------------------------------------\n",
      "------------------------------------------------------\n"
     ]
    },
    {
     "data": {
      "image/png": "[encoded data removed]",
      "text/plain": [
       "<Figure size 432x288 with 1 Axes>"
      ]
     },
     "metadata": {
      "needs_background": "light"
     },
     "output_type": "display_data"
    },
    {
     "name": "stdout",
     "output_type": "stream",
     "text": [
      "------------------------------------------------------\n",
      "------------------------------------------------------\n"
     ]
    },
    {
     "data": {
      "image/png": "[encoded data removed]",
      "text/plain": [
       "<Figure size 432x288 with 1 Axes>"
      ]
     },
     "metadata": {
      "needs_background": "light"
     },
     "output_type": "display_data"
    }
   ],
   "source": [
    "# specify more columns to exclude for univariate distributions\n",
    "more_exclusions = [\"Victim's age\", \n",
    "                   \"Cause of death\", \n",
    "                   \"Official disposition of death (justified or other)\", \n",
    "                   \"Alleged Weapon (Source: WaPo and Review of Cases Not Included in WaPo Database)\", \n",
    "                   \"Encounter Type (DRAFT)\", \n",
    "                   \"Initial Reported Reason for Encounter (DRAFT)\", \n",
    "                   \"Criminal Charges?\",\n",
    "                   \"Race of Officers Involved (DRAFT)\", \n",
    "                   \"Geography (via Trulia methodology based on zipcode population density: http://jedkolko.com/wp-content/uploads/2015/05/full-ZCTA-urban-suburban-rural-classification.xlsx )\"]\n",
    "\n",
    "# univariate distributions\n",
    "for column in df.columns:\n",
    "    if column not in exclusions and column not in useless_columns and column not in more_exclusions:\n",
    "        sns.countplot(x=df[column], data=df, palette = 'ocean_r')\n",
    "        print(\"------------------------------------------------------\")\n",
    "        print(\"------------------------------------------------------\")\n",
    "        plt.xticks(rotation=65)\n",
    "        plt.show()"
   ]
  },
  {
   "cell_type": "markdown",
   "metadata": {
    "cell_id": "00011-0dff2a89-7f96-4e3d-8ff3-2fce8d9d2904",
    "deepnote_cell_type": "markdown",
    "tags": []
   },
   "source": [
    "### Takeaways\n",
    "- There are a couple of unnecessary columns (begin with `Unnamed:`).\n",
    "- Messy column names need to be renamed for better readability.\n",
    "- A lot of columns are not needed due to nulls/unusable and will need to be dropped. \n",
    "- Most values in each column have a wide variety of text variation. These should be lowercased, stripped, and grouped. \n",
    "- Many nulls in dataset that need to be filled in or dropped.\n",
    "- Dummy variables and encoding needs to be done to pretty much all of the dataset in order to model/evaluate. \n",
    "- Possibly a good idea to create age bins.\n",
    "- Possible exploration with time series. Set `Date of Incident` as datetime index?\n"
   ]
  },
  {
   "cell_type": "markdown",
   "metadata": {
    "cell_id": "00012-c663e55e-279e-4d16-a7cb-03095c599a49",
    "deepnote_cell_type": "markdown"
   },
   "source": [
    "\n",
    "___\n",
    "# Prepare and Split Data"
   ]
  },
  {
   "cell_type": "code",
   "execution_count": 8,
   "metadata": {
    "cell_id": "00013-6a7cb8e6-79d9-4dcd-8e1f-e609a00b2f9c",
    "deepnote_cell_type": "code",
    "deepnote_to_be_reexecuted": false,
    "execution_millis": 9290,
    "execution_start": 1622252477990,
    "source_hash": "dc04ed44",
    "tags": []
   },
   "outputs": [],
   "source": [
    "#grab cleaned data frame from wrangle.py\n",
    "df = w.wrangle_data(cached=False)"
   ]
  },
  {
   "cell_type": "code",
   "execution_count": 9,
   "metadata": {
    "cell_id": "00014-b37d0d77-22a1-478d-9d0d-6937ecbdd177",
    "deepnote_cell_type": "code",
    "deepnote_to_be_reexecuted": false,
    "execution_millis": 37,
    "execution_start": 1622252487293,
    "source_hash": "14f60b8f",
    "tags": []
   },
   "outputs": [
    {
     "data": {
      "text/plain": [
       "(6875, 64)"
      ]
     },
     "execution_count": 9,
     "metadata": {},
     "output_type": "execute_result"
    }
   ],
   "source": [
    "df.shape"
   ]
  },
  {
   "cell_type": "code",
   "execution_count": 10,
   "metadata": {
    "cell_id": "00015-9036b1b6-fac3-40c3-a2c9-e2660fee45b5",
    "deepnote_cell_type": "code",
    "deepnote_to_be_reexecuted": false,
    "execution_millis": 10,
    "execution_start": 1622252487320,
    "source_hash": "7dff3e6b",
    "tags": []
   },
   "outputs": [
    {
     "data": {
      "text/plain": [
       "age       0\n",
       "gender    0\n",
       "race      0\n",
       "date      0\n",
       "city      0\n",
       "         ..\n",
       "25-34     0\n",
       "35-44     0\n",
       "45-54     0\n",
       "55-64     0\n",
       "65+       0\n",
       "Length: 64, dtype: int64"
      ]
     },
     "execution_count": 10,
     "metadata": {},
     "output_type": "execute_result"
    }
   ],
   "source": [
    "#double check no nulls\n",
    "df.isnull().sum()"
   ]
  },
  {
   "cell_type": "code",
   "execution_count": 11,
   "metadata": {
    "cell_id": "00016-e569c0e8-cf8f-4082-ba40-8096d6cc0b87",
    "deepnote_cell_type": "code",
    "deepnote_to_be_reexecuted": false,
    "execution_millis": 15,
    "execution_start": 1622252487327,
    "source_hash": "3edc948f",
    "tags": []
   },
   "outputs": [
    {
     "data": {
      "text/plain": [
       "age                int64\n",
       "gender            object\n",
       "race              object\n",
       "date      datetime64[ns]\n",
       "city              object\n",
       "               ...      \n",
       "25-34              uint8\n",
       "35-44              uint8\n",
       "45-54              uint8\n",
       "55-64              uint8\n",
       "65+                uint8\n",
       "Length: 64, dtype: object"
      ]
     },
     "execution_count": 11,
     "metadata": {},
     "output_type": "execute_result"
    }
   ],
   "source": [
    "#double check data types\n",
    "df.dtypes"
   ]
  },
  {
   "cell_type": "code",
   "execution_count": 12,
   "metadata": {
    "cell_id": "00017-26c66919-248d-4b4d-8324-473a22e1d8e7",
    "deepnote_cell_type": "code",
    "deepnote_to_be_reexecuted": false,
    "execution_millis": 196,
    "execution_start": 1622252487378,
    "source_hash": "be21ca7a",
    "tags": []
   },
   "outputs": [
    {
     "name": "stdout",
     "output_type": "stream",
     "text": [
      "overall shape of dataframe: (6875, 64)\n",
      "train: (3850, 64)\n",
      "validate: (1650, 64)\n",
      "test: (1375, 64)\n"
     ]
    },
    {
     "data": {
      "text/html": [
       "<div>\n",
       "<style scoped>\n",
       "    .dataframe tbody tr th:only-of-type {\n",
       "        vertical-align: middle;\n",
       "    }\n",
       "\n",
       "    .dataframe tbody tr th {\n",
       "        vertical-align: top;\n",
       "    }\n",
       "\n",
       "    .dataframe thead th {\n",
       "        text-align: right;\n",
       "    }\n",
       "</style>\n",
       "<table border=\"1\" class=\"dataframe\">\n",
       "  <thead>\n",
       "    <tr style=\"text-align: right;\">\n",
       "      <th></th>\n",
       "      <th>age</th>\n",
       "      <th>gender</th>\n",
       "      <th>race</th>\n",
       "      <th>date</th>\n",
       "      <th>city</th>\n",
       "      <th>state</th>\n",
       "      <th>zipcode</th>\n",
       "      <th>county</th>\n",
       "      <th>agency_responsible</th>\n",
       "      <th>cause_of_death</th>\n",
       "      <th>...</th>\n",
       "      <th>age_bins</th>\n",
       "      <th>unknown</th>\n",
       "      <th>under 12</th>\n",
       "      <th>12-17</th>\n",
       "      <th>18-24</th>\n",
       "      <th>25-34</th>\n",
       "      <th>35-44</th>\n",
       "      <th>45-54</th>\n",
       "      <th>55-64</th>\n",
       "      <th>65+</th>\n",
       "    </tr>\n",
       "  </thead>\n",
       "  <tbody>\n",
       "    <tr>\n",
       "      <th>1853</th>\n",
       "      <td>17</td>\n",
       "      <td>female</td>\n",
       "      <td>white</td>\n",
       "      <td>2019-07-05</td>\n",
       "      <td>anaheim</td>\n",
       "      <td>ca</td>\n",
       "      <td>92806.0</td>\n",
       "      <td>orange</td>\n",
       "      <td>fullerton police department</td>\n",
       "      <td>gunshot</td>\n",
       "      <td>...</td>\n",
       "      <td>12-17</td>\n",
       "      <td>0</td>\n",
       "      <td>0</td>\n",
       "      <td>1</td>\n",
       "      <td>0</td>\n",
       "      <td>0</td>\n",
       "      <td>0</td>\n",
       "      <td>0</td>\n",
       "      <td>0</td>\n",
       "      <td>0</td>\n",
       "    </tr>\n",
       "    <tr>\n",
       "      <th>5119</th>\n",
       "      <td>58</td>\n",
       "      <td>male</td>\n",
       "      <td>white</td>\n",
       "      <td>2013-08-18</td>\n",
       "      <td>bluff city</td>\n",
       "      <td>tn</td>\n",
       "      <td>37618.0</td>\n",
       "      <td>sullivan</td>\n",
       "      <td>sullivan county sheriff's office</td>\n",
       "      <td>gunshot</td>\n",
       "      <td>...</td>\n",
       "      <td>55-64</td>\n",
       "      <td>0</td>\n",
       "      <td>0</td>\n",
       "      <td>0</td>\n",
       "      <td>0</td>\n",
       "      <td>0</td>\n",
       "      <td>0</td>\n",
       "      <td>0</td>\n",
       "      <td>1</td>\n",
       "      <td>0</td>\n",
       "    </tr>\n",
       "    <tr>\n",
       "      <th>583</th>\n",
       "      <td>36</td>\n",
       "      <td>male</td>\n",
       "      <td>white</td>\n",
       "      <td>2018-01-12</td>\n",
       "      <td>cave junction</td>\n",
       "      <td>or</td>\n",
       "      <td>97523.0</td>\n",
       "      <td>josephine</td>\n",
       "      <td>josephine county sheriff's office, oregon stat...</td>\n",
       "      <td>gunshot</td>\n",
       "      <td>...</td>\n",
       "      <td>35-44</td>\n",
       "      <td>0</td>\n",
       "      <td>0</td>\n",
       "      <td>0</td>\n",
       "      <td>0</td>\n",
       "      <td>0</td>\n",
       "      <td>1</td>\n",
       "      <td>0</td>\n",
       "      <td>0</td>\n",
       "      <td>0</td>\n",
       "    </tr>\n",
       "    <tr>\n",
       "      <th>3674</th>\n",
       "      <td>65</td>\n",
       "      <td>male</td>\n",
       "      <td>unknown race</td>\n",
       "      <td>2020-03-08</td>\n",
       "      <td>montgomery</td>\n",
       "      <td>al</td>\n",
       "      <td>36117.0</td>\n",
       "      <td>montgomery</td>\n",
       "      <td>montgomery police department</td>\n",
       "      <td>gunshot</td>\n",
       "      <td>...</td>\n",
       "      <td>65+</td>\n",
       "      <td>0</td>\n",
       "      <td>0</td>\n",
       "      <td>0</td>\n",
       "      <td>0</td>\n",
       "      <td>0</td>\n",
       "      <td>0</td>\n",
       "      <td>0</td>\n",
       "      <td>0</td>\n",
       "      <td>1</td>\n",
       "    </tr>\n",
       "    <tr>\n",
       "      <th>2487</th>\n",
       "      <td>26</td>\n",
       "      <td>male</td>\n",
       "      <td>white</td>\n",
       "      <td>2017-08-18</td>\n",
       "      <td>fairchance</td>\n",
       "      <td>pa</td>\n",
       "      <td>15436.0</td>\n",
       "      <td>fayette</td>\n",
       "      <td>pennsylvania state police</td>\n",
       "      <td>gunshot</td>\n",
       "      <td>...</td>\n",
       "      <td>25-34</td>\n",
       "      <td>0</td>\n",
       "      <td>0</td>\n",
       "      <td>0</td>\n",
       "      <td>0</td>\n",
       "      <td>1</td>\n",
       "      <td>0</td>\n",
       "      <td>0</td>\n",
       "      <td>0</td>\n",
       "      <td>0</td>\n",
       "    </tr>\n",
       "  </tbody>\n",
       "</table>\n",
       "<p>5 rows × 64 columns</p>\n",
       "</div>"
      ],
      "text/plain": [
       "      age  gender          race       date           city state  zipcode  \\\n",
       "1853   17  female         white 2019-07-05        anaheim    ca  92806.0   \n",
       "5119   58    male         white 2013-08-18     bluff city    tn  37618.0   \n",
       "583    36    male         white 2018-01-12  cave junction    or  97523.0   \n",
       "3674   65    male  unknown race 2020-03-08     montgomery    al  36117.0   \n",
       "2487   26    male         white 2017-08-18     fairchance    pa  15436.0   \n",
       "\n",
       "          county                                 agency_responsible  \\\n",
       "1853      orange                        fullerton police department   \n",
       "5119    sullivan                   sullivan county sheriff's office   \n",
       "583    josephine  josephine county sheriff's office, oregon stat...   \n",
       "3674  montgomery                       montgomery police department   \n",
       "2487     fayette                          pennsylvania state police   \n",
       "\n",
       "     cause_of_death  ... age_bins unknown under 12 12-17 18-24 25-34  35-44  \\\n",
       "1853        gunshot  ...    12-17       0        0     1     0     0      0   \n",
       "5119        gunshot  ...    55-64       0        0     0     0     0      0   \n",
       "583         gunshot  ...    35-44       0        0     0     0     0      1   \n",
       "3674        gunshot  ...      65+       0        0     0     0     0      0   \n",
       "2487        gunshot  ...    25-34       0        0     0     0     1      0   \n",
       "\n",
       "     45-54  55-64 65+  \n",
       "1853     0      0   0  \n",
       "5119     0      1   0  \n",
       "583      0      0   0  \n",
       "3674     0      0   1  \n",
       "2487     0      0   0  \n",
       "\n",
       "[5 rows x 64 columns]"
      ]
     },
     "execution_count": 12,
     "metadata": {},
     "output_type": "execute_result"
    }
   ],
   "source": [
    "#split the data using the split function in explore.py\n",
    "train, validate, test = split(df, stratify_by=\"alleged_threat_lvl\")\n",
    "\n",
    "#check split datasets\n",
    "print('overall shape of dataframe:', df.shape)\n",
    "print('train:', train.shape)\n",
    "print('validate:', validate.shape)\n",
    "print('test:', test.shape)\n",
    "\n",
    "#work w/ training data\n",
    "train.head()"
   ]
  },
  {
   "cell_type": "markdown",
   "metadata": {
    "cell_id": "00018-e7b4483a-873b-4d96-85ec-f4afa334a175",
    "deepnote_cell_type": "markdown",
    "tags": []
   },
   "source": [
    "### Takeaway\n",
    "- Data is prepped/split and ready to be explored, modeled, and evaluated."
   ]
  },
  {
   "cell_type": "markdown",
   "metadata": {
    "cell_id": "00019-39f3ff0b-afcf-43e8-9150-b17f255a94f8",
    "deepnote_cell_type": "markdown"
   },
   "source": [
    "\n",
    "___\n",
    "# Explore Data\n",
    "#### Address questions posed in planning\n",
    "- Does gender make a difference in alleged threat level?\n",
    "- How does mental illness affect each gender?\n",
    "- Do symptoms of mental illness play a role in threat level?\n",
    "- Is race a factor for alleged threat level?\n",
    "- Does bodycam make a difference in alleged threat level?\n",
    "- Is cause of death and alleged threat level independent of one another?\n",
    "- What areas in geography are resulting in more killings?\n",
    "- What are the fatalities by state: % killings vs pop\n",
    "\n",
    "## • Visualizations"
   ]
  },
  {
   "cell_type": "code",
   "execution_count": 13,
   "metadata": {
    "cell_id": "00020-7f9ccc1e-5ce8-4932-bd41-f1e7beca689e",
    "deepnote_cell_type": "code",
    "deepnote_to_be_reexecuted": false,
    "execution_millis": 292,
    "execution_start": 1622252487606,
    "source_hash": "bebc8bdb"
   },
   "outputs": [
    {
     "data": {
      "image/png": "[encoded data removed]",
      "text/plain": [
       "<Figure size 576x432 with 1 Axes>"
      ]
     },
     "metadata": {
      "needs_background": "light"
     },
     "output_type": "display_data"
    },
    {
     "data": {
      "text/html": [
       "<div>\n",
       "<style scoped>\n",
       "    .dataframe tbody tr th:only-of-type {\n",
       "        vertical-align: middle;\n",
       "    }\n",
       "\n",
       "    .dataframe tbody tr th {\n",
       "        vertical-align: top;\n",
       "    }\n",
       "\n",
       "    .dataframe thead th {\n",
       "        text-align: right;\n",
       "    }\n",
       "</style>\n",
       "<table border=\"1\" class=\"dataframe\">\n",
       "  <thead>\n",
       "    <tr style=\"text-align: right;\">\n",
       "      <th>alleged_threat_lvl</th>\n",
       "      <th>0.0</th>\n",
       "      <th>1.0</th>\n",
       "    </tr>\n",
       "    <tr>\n",
       "      <th>gender</th>\n",
       "      <th></th>\n",
       "      <th></th>\n",
       "    </tr>\n",
       "  </thead>\n",
       "  <tbody>\n",
       "    <tr>\n",
       "      <th>female</th>\n",
       "      <td>0.331522</td>\n",
       "      <td>0.668478</td>\n",
       "    </tr>\n",
       "    <tr>\n",
       "      <th>male</th>\n",
       "      <td>0.246452</td>\n",
       "      <td>0.753548</td>\n",
       "    </tr>\n",
       "    <tr>\n",
       "      <th>transgender</th>\n",
       "      <td>0.500000</td>\n",
       "      <td>0.500000</td>\n",
       "    </tr>\n",
       "  </tbody>\n",
       "</table>\n",
       "</div>"
      ],
      "text/plain": [
       "alleged_threat_lvl       0.0       1.0\n",
       "gender                                \n",
       "female              0.331522  0.668478\n",
       "male                0.246452  0.753548\n",
       "transgender         0.500000  0.500000"
      ]
     },
     "execution_count": 13,
     "metadata": {},
     "output_type": "execute_result"
    }
   ],
   "source": [
    "#visualize gender vs alleged threat level\n",
    "ax = pd.crosstab(train.gender, train.alleged_threat_lvl, normalize ='index').plot.barh(figsize=(8, 6), cmap=plt.cm.get_cmap('Blues'), ec=\"black\")\n",
    "\n",
    "#customize legend\n",
    "legend_labels, _= ax.get_legend_handles_labels()\n",
    "ax.legend(legend_labels, ['Non-Attack', 'Attack'], \n",
    "          bbox_to_anchor=(1,1), \n",
    "          title='Threat Level')\n",
    "\n",
    "#customize chart\n",
    "plt.title(\"Does Gender Make a Difference in Alleged Threat Level?\", fontsize = 15)\n",
    "plt.ylabel(\"Gender\", fontsize = 12)\n",
    "plt.xlabel('Percentage', fontsize = 12)\n",
    "ax.tick_params(labelsize=10)\n",
    "plt.xlim([0.0, 1.0])\n",
    "plt.show()\n",
    "\n",
    "#get percentages df\n",
    "percentages = pd.crosstab(train.gender, train.alleged_threat_lvl, normalize = 'index')\n",
    "percentages"
   ]
  },
  {
   "cell_type": "code",
   "execution_count": 14,
   "metadata": {},
   "outputs": [
    {
     "data": {
      "image/png": "[encoded data removed]",
      "text/plain": [
       "<Figure size 576x432 with 1 Axes>"
      ]
     },
     "metadata": {
      "needs_background": "light"
     },
     "output_type": "display_data"
    },
    {
     "data": {
      "text/html": [
       "<div>\n",
       "<style scoped>\n",
       "    .dataframe tbody tr th:only-of-type {\n",
       "        vertical-align: middle;\n",
       "    }\n",
       "\n",
       "    .dataframe tbody tr th {\n",
       "        vertical-align: top;\n",
       "    }\n",
       "\n",
       "    .dataframe thead th {\n",
       "        text-align: right;\n",
       "    }\n",
       "</style>\n",
       "<table border=\"1\" class=\"dataframe\">\n",
       "  <thead>\n",
       "    <tr style=\"text-align: right;\">\n",
       "      <th>alleged_threat_lvl</th>\n",
       "      <th>0.0</th>\n",
       "      <th>1.0</th>\n",
       "    </tr>\n",
       "    <tr>\n",
       "      <th>gender</th>\n",
       "      <th></th>\n",
       "      <th></th>\n",
       "    </tr>\n",
       "  </thead>\n",
       "  <tbody>\n",
       "    <tr>\n",
       "      <th>female</th>\n",
       "      <td>0.015844</td>\n",
       "      <td>0.031948</td>\n",
       "    </tr>\n",
       "    <tr>\n",
       "      <th>male</th>\n",
       "      <td>0.234545</td>\n",
       "      <td>0.717143</td>\n",
       "    </tr>\n",
       "    <tr>\n",
       "      <th>transgender</th>\n",
       "      <td>0.000260</td>\n",
       "      <td>0.000260</td>\n",
       "    </tr>\n",
       "  </tbody>\n",
       "</table>\n",
       "</div>"
      ],
      "text/plain": [
       "alleged_threat_lvl       0.0       1.0\n",
       "gender                                \n",
       "female              0.015844  0.031948\n",
       "male                0.234545  0.717143\n",
       "transgender         0.000260  0.000260"
      ]
     },
     "execution_count": 14,
     "metadata": {},
     "output_type": "execute_result"
    }
   ],
   "source": [
    "#visualize gender vs alleged threat level\n",
    "ax = pd.crosstab(train.gender, train.alleged_threat_lvl, normalize =True).plot.barh(figsize=(8, 6), cmap=plt.cm.get_cmap('Blues'), ec=\"black\")\n",
    "\n",
    "#customize legend\n",
    "legend_labels, _= ax.get_legend_handles_labels()\n",
    "ax.legend(legend_labels, ['Non-Attack', 'Attack'], \n",
    "          bbox_to_anchor=(1,1), \n",
    "          title='Threat Level')\n",
    "\n",
    "#customize chart\n",
    "plt.title(\"Does Gender Make a Difference in Alleged Threat Level?\", fontsize = 15)\n",
    "plt.ylabel(\"Gender\", fontsize = 12)\n",
    "plt.xlabel('Percentage', fontsize = 12)\n",
    "ax.tick_params(labelsize=10)\n",
    "plt.xlim([0.0, 1.0])\n",
    "plt.show()\n",
    "\n",
    "#get percentages df\n",
    "percentages = pd.crosstab(train.gender, train.alleged_threat_lvl, normalize = True)\n",
    "percentages"
   ]
  },
  {
   "cell_type": "code",
   "execution_count": 26,
   "metadata": {},
   "outputs": [
    {
     "data": {
      "image/png": "[encoded data removed]",
      "text/plain": [
       "<Figure size 576x432 with 1 Axes>"
      ]
     },
     "metadata": {
      "needs_background": "light"
     },
     "output_type": "display_data"
    },
    {
     "data": {
      "text/html": [
       "<div>\n",
       "<style scoped>\n",
       "    .dataframe tbody tr th:only-of-type {\n",
       "        vertical-align: middle;\n",
       "    }\n",
       "\n",
       "    .dataframe tbody tr th {\n",
       "        vertical-align: top;\n",
       "    }\n",
       "\n",
       "    .dataframe thead th {\n",
       "        text-align: right;\n",
       "    }\n",
       "</style>\n",
       "<table border=\"1\" class=\"dataframe\">\n",
       "  <thead>\n",
       "    <tr style=\"text-align: right;\">\n",
       "      <th>gender</th>\n",
       "      <th>female</th>\n",
       "      <th>male</th>\n",
       "      <th>transgender</th>\n",
       "    </tr>\n",
       "    <tr>\n",
       "      <th>alleged_threat_lvl</th>\n",
       "      <th></th>\n",
       "      <th></th>\n",
       "      <th></th>\n",
       "    </tr>\n",
       "  </thead>\n",
       "  <tbody>\n",
       "    <tr>\n",
       "      <th>0.0</th>\n",
       "      <td>0.331522</td>\n",
       "      <td>0.246452</td>\n",
       "      <td>0.5</td>\n",
       "    </tr>\n",
       "    <tr>\n",
       "      <th>1.0</th>\n",
       "      <td>0.668478</td>\n",
       "      <td>0.753548</td>\n",
       "      <td>0.5</td>\n",
       "    </tr>\n",
       "  </tbody>\n",
       "</table>\n",
       "</div>"
      ],
      "text/plain": [
       "gender                female      male  transgender\n",
       "alleged_threat_lvl                                 \n",
       "0.0                 0.331522  0.246452          0.5\n",
       "1.0                 0.668478  0.753548          0.5"
      ]
     },
     "execution_count": 26,
     "metadata": {},
     "output_type": "execute_result"
    }
   ],
   "source": [
    "#visualize gender vs alleged threat level\n",
    "ax = pd.crosstab(train.alleged_threat_lvl, train.gender, normalize ='columns').plot.barh(figsize=(8, 6), cmap=plt.cm.get_cmap('Blues'), ec=\"black\")\n",
    "\n",
    "#customize legend\n",
    "#legend_labels, _= ax.get_legend_handles_labels()\n",
    "#ax.legend(legend_labels, ['Non-Attack', 'Attack'], \n",
    "#          bbox_to_anchor=(1,1), \n",
    "#          title='Threat Level')\n",
    "\n",
    "#customize chart\n",
    "plt.title(\"More Males are Alleged Attackers & More\", fontsize = 15)\n",
    "plt.ylabel(\"Threat Status\", fontsize = 12)\n",
    "plt.xlabel('Percentage', fontsize = 12)\n",
    "ax.tick_params(labelsize=10)\n",
    "plt.xlim([0.0, 1.0])\n",
    "plt.show()\n",
    "\n",
    "#get percentages df\n",
    "percentages = pd.crosstab(train.alleged_threat_lvl, train.gender, normalize = 'columns')\n",
    "percentages"
   ]
  },
  {
   "cell_type": "code",
   "execution_count": 22,
   "metadata": {},
   "outputs": [
    {
     "data": {
      "text/html": [
       "<div>\n",
       "<style scoped>\n",
       "    .dataframe tbody tr th:only-of-type {\n",
       "        vertical-align: middle;\n",
       "    }\n",
       "\n",
       "    .dataframe tbody tr th {\n",
       "        vertical-align: top;\n",
       "    }\n",
       "\n",
       "    .dataframe thead th {\n",
       "        text-align: right;\n",
       "    }\n",
       "</style>\n",
       "<table border=\"1\" class=\"dataframe\">\n",
       "  <thead>\n",
       "    <tr style=\"text-align: right;\">\n",
       "      <th>alleged_threat_lvl</th>\n",
       "      <th>0.0</th>\n",
       "      <th>1.0</th>\n",
       "    </tr>\n",
       "    <tr>\n",
       "      <th>gender</th>\n",
       "      <th></th>\n",
       "      <th></th>\n",
       "    </tr>\n",
       "  </thead>\n",
       "  <tbody>\n",
       "    <tr>\n",
       "      <th>female</th>\n",
       "      <td>110</td>\n",
       "      <td>223</td>\n",
       "    </tr>\n",
       "    <tr>\n",
       "      <th>male</th>\n",
       "      <td>1607</td>\n",
       "      <td>4926</td>\n",
       "    </tr>\n",
       "    <tr>\n",
       "      <th>transgender</th>\n",
       "      <td>5</td>\n",
       "      <td>4</td>\n",
       "    </tr>\n",
       "  </tbody>\n",
       "</table>\n",
       "</div>"
      ],
      "text/plain": [
       "alleged_threat_lvl   0.0   1.0\n",
       "gender                        \n",
       "female               110   223\n",
       "male                1607  4926\n",
       "transgender            5     4"
      ]
     },
     "execution_count": 22,
     "metadata": {},
     "output_type": "execute_result"
    }
   ],
   "source": [
    "pd.crosstab(df.gender, df.alleged_threat_lvl, normalize = False)"
   ]
  },
  {
   "cell_type": "markdown",
   "metadata": {
    "cell_id": "00021-247c996a-1d68-4507-a4e5-251adb5a738a",
    "deepnote_cell_type": "markdown"
   },
   "source": [
    "### Takeaways\n",
    "- Highest percentage of non-attacks are transgender. Second highest is female.\n",
    "- Highest percentage of attacks are male. Second highest is female.\n",
    "- Males are almost equally likely to be an attack or non-attack threat level."
   ]
  },
  {
   "cell_type": "code",
   "execution_count": 10,
   "metadata": {
    "cell_id": "00022-ef3abcd7-a57e-4f08-8ccf-8f652ba72773",
    "deepnote_cell_type": "code",
    "deepnote_to_be_reexecuted": false,
    "execution_millis": 305,
    "execution_start": 1622252487946,
    "source_hash": "119e49bb"
   },
   "outputs": [
    {
     "data": {
      "image/png": "[encoded data removed]",
      "text/plain": [
       "<Figure size 576x432 with 1 Axes>"
      ]
     },
     "metadata": {
      "image/png": {
       "height": 392,
       "width": 553
      },
      "needs_background": "light"
     },
     "output_type": "display_data"
    },
    {
     "data": {
      "application/vnd.deepnote.dataframe.v2+json": {
       "column_count": 4,
       "columns": [
        {
         "dtype": "float64",
         "name": "drug or alcohol use",
         "stats": {
          "histogram": [
           {
            "bin_end": 0.002987750224081267,
            "bin_start": 0,
            "count": 1
           },
           {
            "bin_end": 0.005975500448162534,
            "bin_start": 0.002987750224081267,
            "count": 0
           },
           {
            "bin_end": 0.008963250672243801,
            "bin_start": 0.005975500448162534,
            "count": 0
           },
           {
            "bin_end": 0.011951000896325068,
            "bin_start": 0.008963250672243801,
            "count": 0
           },
           {
            "bin_end": 0.014938751120406334,
            "bin_start": 0.011951000896325068,
            "count": 1
           },
           {
            "bin_end": 0.017926501344487603,
            "bin_start": 0.014938751120406334,
            "count": 0
           },
           {
            "bin_end": 0.020914251568568867,
            "bin_start": 0.017926501344487603,
            "count": 0
           },
           {
            "bin_end": 0.023902001792650136,
            "bin_start": 0.020914251568568867,
            "count": 0
           },
           {
            "bin_end": 0.026889752016731404,
            "bin_start": 0.023902001792650136,
            "count": 0
           },
           {
            "bin_end": 0.02987750224081267,
            "bin_start": 0.026889752016731404,
            "count": 1
           }
          ],
          "max": "0.02987750224081267",
          "min": "0.0",
          "nan_count": 0,
          "unique_count": 3
         }
        },
        {
         "dtype": "float64",
         "name": "no",
         "stats": {
          "histogram": [
           {
            "bin_end": 0.5166865850014939,
            "bin_start": 0.5,
            "count": 1
           },
           {
            "bin_end": 0.5333731700029878,
            "bin_start": 0.5166865850014939,
            "count": 0
           },
           {
            "bin_end": 0.5500597550044816,
            "bin_start": 0.5333731700029878,
            "count": 0
           },
           {
            "bin_end": 0.5667463400059755,
            "bin_start": 0.5500597550044816,
            "count": 0
           },
           {
            "bin_end": 0.5834329250074693,
            "bin_start": 0.5667463400059755,
            "count": 0
           },
           {
            "bin_end": 0.6001195100089632,
            "bin_start": 0.5834329250074693,
            "count": 1
           },
           {
            "bin_end": 0.6168060950104571,
            "bin_start": 0.6001195100089632,
            "count": 0
           },
           {
            "bin_end": 0.6334926800119509,
            "bin_start": 0.6168060950104571,
            "count": 0
           },
           {
            "bin_end": 0.6501792650134448,
            "bin_start": 0.6334926800119509,
            "count": 0
           },
           {
            "bin_end": 0.6668658500149387,
            "bin_start": 0.6501792650134448,
            "count": 1
           }
          ],
          "max": "0.6668658500149387",
          "min": "0.5",
          "nan_count": 0,
          "unique_count": 3
         }
        },
        {
         "dtype": "float64",
         "name": "unknown",
         "stats": {
          "histogram": [
           {
            "bin_end": 0.012101910828025478,
            "bin_start": 0,
            "count": 1
           },
           {
            "bin_end": 0.024203821656050957,
            "bin_start": 0.012101910828025478,
            "count": 0
           },
           {
            "bin_end": 0.03630573248407644,
            "bin_start": 0.024203821656050957,
            "count": 0
           },
           {
            "bin_end": 0.048407643312101914,
            "bin_start": 0.03630573248407644,
            "count": 0
           },
           {
            "bin_end": 0.06050955414012739,
            "bin_start": 0.048407643312101914,
            "count": 0
           },
           {
            "bin_end": 0.07261146496815288,
            "bin_start": 0.06050955414012739,
            "count": 0
           },
           {
            "bin_end": 0.08471337579617835,
            "bin_start": 0.07261146496815288,
            "count": 0
           },
           {
            "bin_end": 0.09681528662420383,
            "bin_start": 0.08471337579617835,
            "count": 0
           },
           {
            "bin_end": 0.1089171974522293,
            "bin_start": 0.09681528662420383,
            "count": 1
           },
           {
            "bin_end": 0.12101910828025478,
            "bin_start": 0.1089171974522293,
            "count": 1
           }
          ],
          "max": "0.12101910828025478",
          "min": "0.0",
          "nan_count": 0,
          "unique_count": 3
         }
        },
        {
         "dtype": "float64",
         "name": "yes",
         "stats": {
          "histogram": [
           {
            "bin_end": 0.22908574843143115,
            "bin_start": 0.19898416492381238,
            "count": 1
           },
           {
            "bin_end": 0.2591873319390499,
            "bin_start": 0.22908574843143115,
            "count": 0
           },
           {
            "bin_end": 0.2892889154466687,
            "bin_start": 0.2591873319390499,
            "count": 1
           },
           {
            "bin_end": 0.3193904989542874,
            "bin_start": 0.2892889154466687,
            "count": 0
           },
           {
            "bin_end": 0.3494920824619062,
            "bin_start": 0.3193904989542874,
            "count": 0
           },
           {
            "bin_end": 0.37959366596952493,
            "bin_start": 0.3494920824619062,
            "count": 0
           },
           {
            "bin_end": 0.4096952494771437,
            "bin_start": 0.37959366596952493,
            "count": 0
           },
           {
            "bin_end": 0.43979683298476246,
            "bin_start": 0.4096952494771437,
            "count": 0
           },
           {
            "bin_end": 0.46989841649238123,
            "bin_start": 0.43979683298476246,
            "count": 0
           },
           {
            "bin_end": 0.5,
            "bin_start": 0.46989841649238123,
            "count": 1
           }
          ],
          "max": "0.5",
          "min": "0.19898416492381238",
          "nan_count": 0,
          "unique_count": 3
         }
        },
        {
         "dtype": "object",
         "name": "_deepnote_index_column"
        }
       ],
       "row_count": 3,
       "rows_bottom": null,
       "rows_top": [
        {
         "_deepnote_index_column": "female",
         "drug or alcohol use": 0.012738853503184714,
         "no": 0.5923566878980892,
         "unknown": 0.12101910828025478,
         "yes": 0.27388535031847133
        },
        {
         "_deepnote_index_column": "male",
         "drug or alcohol use": 0.02987750224081267,
         "no": 0.6668658500149387,
         "unknown": 0.1042724828204362,
         "yes": 0.19898416492381238
        },
        {
         "_deepnote_index_column": "transgender",
         "drug or alcohol use": 0,
         "no": 0.5,
         "unknown": 0,
         "yes": 0.5
        }
       ]
      },
      "text/html": [
       "<div>\n",
       "<style scoped>\n",
       "    .dataframe tbody tr th:only-of-type {\n",
       "        vertical-align: middle;\n",
       "    }\n",
       "\n",
       "    .dataframe tbody tr th {\n",
       "        vertical-align: top;\n",
       "    }\n",
       "\n",
       "    .dataframe thead th {\n",
       "        text-align: right;\n",
       "    }\n",
       "</style>\n",
       "<table border=\"1\" class=\"dataframe\">\n",
       "  <thead>\n",
       "    <tr style=\"text-align: right;\">\n",
       "      <th>mental_illness</th>\n",
       "      <th>drug or alcohol use</th>\n",
       "      <th>no</th>\n",
       "      <th>unknown</th>\n",
       "      <th>yes</th>\n",
       "    </tr>\n",
       "    <tr>\n",
       "      <th>gender</th>\n",
       "      <th></th>\n",
       "      <th></th>\n",
       "      <th></th>\n",
       "      <th></th>\n",
       "    </tr>\n",
       "  </thead>\n",
       "  <tbody>\n",
       "    <tr>\n",
       "      <th>female</th>\n",
       "      <td>0.012739</td>\n",
       "      <td>0.592357</td>\n",
       "      <td>0.121019</td>\n",
       "      <td>0.273885</td>\n",
       "    </tr>\n",
       "    <tr>\n",
       "      <th>male</th>\n",
       "      <td>0.029878</td>\n",
       "      <td>0.666866</td>\n",
       "      <td>0.104272</td>\n",
       "      <td>0.198984</td>\n",
       "    </tr>\n",
       "    <tr>\n",
       "      <th>transgender</th>\n",
       "      <td>0.000000</td>\n",
       "      <td>0.500000</td>\n",
       "      <td>0.000000</td>\n",
       "      <td>0.500000</td>\n",
       "    </tr>\n",
       "  </tbody>\n",
       "</table>\n",
       "</div>"
      ],
      "text/plain": [
       "mental_illness  drug or alcohol use        no   unknown       yes\n",
       "gender                                                           \n",
       "female                     0.012739  0.592357  0.121019  0.273885\n",
       "male                       0.029878  0.666866  0.104272  0.198984\n",
       "transgender                0.000000  0.500000  0.000000  0.500000"
      ]
     },
     "execution_count": 10,
     "metadata": {},
     "output_type": "execute_result"
    }
   ],
   "source": [
    "#visualize mental illness per gender\n",
    "ax = pd.crosstab(train.gender, train.mental_illness, normalize ='index').plot.barh(figsize=(8, 6), cmap=plt.cm.get_cmap('Blues'), ec=\"black\")\n",
    "\n",
    "#customize legend\n",
    "legend_labels, _= ax.get_legend_handles_labels()\n",
    "ax.legend(legend_labels, ['Drug / Alcohol Use', 'No', 'Unknown', 'Yes'], \n",
    "          bbox_to_anchor=(1,1), \n",
    "          title='Mental Illness')\n",
    "\n",
    "#customize chart\n",
    "plt.title(\"How Does Mental Illness Affect Each Gender?\", fontsize = 15)\n",
    "plt.ylabel(\"Gender\", fontsize = 12)\n",
    "plt.xlabel('Percentage', fontsize = 12)\n",
    "ax.tick_params(labelsize=10)\n",
    "plt.xlim([0.0, 1.0])\n",
    "plt.show()\n",
    "\n",
    "#get percentages df\n",
    "percentages = pd.crosstab(train.gender, train.mental_illness, normalize = 'index')\n",
    "percentages"
   ]
  },
  {
   "cell_type": "markdown",
   "metadata": {
    "cell_id": "00023-f18b6f3f-063b-4d99-bf58-3331ef1036ac",
    "deepnote_cell_type": "markdown"
   },
   "source": [
    "### Takeaways\n",
    "- Males are most often categorized as not having a mental illness, however, they have a high threat level (according to previous visual). \n",
    "- All genders have higher percentages of no mental illness. Could this be related to limited mental health awareness/support across the country?\n",
    "- Males have the highest percentage of drug / alcohol use instances.\n",
    "- Unknown mental status is almost equal across genders."
   ]
  },
  {
   "cell_type": "code",
   "execution_count": 11,
   "metadata": {
    "cell_id": "00024-559ecb35-b96e-4ef0-a7e5-1bddfd11fe8b",
    "deepnote_cell_type": "code",
    "deepnote_to_be_reexecuted": false,
    "execution_millis": 387,
    "execution_start": 1622252488247,
    "source_hash": "2df2b67",
    "tags": []
   },
   "outputs": [
    {
     "data": {
      "image/png": "[encoded data removed]",
      "text/plain": [
       "<Figure size 576x432 with 1 Axes>"
      ]
     },
     "metadata": {
      "image/png": {
       "height": 392,
       "width": 500
      },
      "needs_background": "light"
     },
     "output_type": "display_data"
    },
    {
     "data": {
      "application/vnd.deepnote.dataframe.v2+json": {
       "column_count": 2,
       "columns": [
        {
         "dtype": "float64",
         "name": 0,
         "stats": {
          "histogram": [
           {
            "bin_end": 0.3112637663574239,
            "bin_start": 0.3055436183927804,
            "count": 1
           },
           {
            "bin_end": 0.31698391432206746,
            "bin_start": 0.3112637663574239,
            "count": 0
           },
           {
            "bin_end": 0.32270406228671095,
            "bin_start": 0.31698391432206746,
            "count": 0
           },
           {
            "bin_end": 0.3284242102513545,
            "bin_start": 0.32270406228671095,
            "count": 0
           },
           {
            "bin_end": 0.334144358215998,
            "bin_start": 0.3284242102513545,
            "count": 0
           },
           {
            "bin_end": 0.33986450618064157,
            "bin_start": 0.334144358215998,
            "count": 0
           },
           {
            "bin_end": 0.3455846541452851,
            "bin_start": 0.33986450618064157,
            "count": 1
           },
           {
            "bin_end": 0.3513048021099286,
            "bin_start": 0.3455846541452851,
            "count": 0
           },
           {
            "bin_end": 0.35702495007457213,
            "bin_start": 0.3513048021099286,
            "count": 0
           },
           {
            "bin_end": 0.3627450980392157,
            "bin_start": 0.35702495007457213,
            "count": 2
           }
          ],
          "max": "0.3627450980392157",
          "min": "0.3055436183927804",
          "nan_count": 0,
          "unique_count": 4
         }
        },
        {
         "dtype": "float64",
         "name": 1,
         "stats": {
          "histogram": [
           {
            "bin_end": 0.6429750499254278,
            "bin_start": 0.6372549019607843,
            "count": 2
           },
           {
            "bin_end": 0.6486951978900714,
            "bin_start": 0.6429750499254278,
            "count": 0
           },
           {
            "bin_end": 0.6544153458547148,
            "bin_start": 0.6486951978900714,
            "count": 0
           },
           {
            "bin_end": 0.6601354938193584,
            "bin_start": 0.6544153458547148,
            "count": 1
           },
           {
            "bin_end": 0.6658556417840019,
            "bin_start": 0.6601354938193584,
            "count": 0
           },
           {
            "bin_end": 0.6715757897486454,
            "bin_start": 0.6658556417840019,
            "count": 0
           },
           {
            "bin_end": 0.677295937713289,
            "bin_start": 0.6715757897486454,
            "count": 0
           },
           {
            "bin_end": 0.6830160856779325,
            "bin_start": 0.677295937713289,
            "count": 0
           },
           {
            "bin_end": 0.6887362336425761,
            "bin_start": 0.6830160856779325,
            "count": 0
           },
           {
            "bin_end": 0.6944563816072196,
            "bin_start": 0.6887362336425761,
            "count": 1
           }
          ],
          "max": "0.6944563816072196",
          "min": "0.6372549019607843",
          "nan_count": 0,
          "unique_count": 4
         }
        },
        {
         "dtype": "object",
         "name": "_deepnote_index_column"
        }
       ],
       "row_count": 4,
       "rows_bottom": null,
       "rows_top": [
        {
         "0.0": 0.3627450980392157,
         "1.0": 0.6372549019607843,
         "_deepnote_index_column": "drug or alcohol use"
        },
        {
         "0.0": 0.3055436183927804,
         "1.0": 0.6944563816072196,
         "_deepnote_index_column": "no"
        },
        {
         "0.0": 0.3451086956521739,
         "1.0": 0.654891304347826,
         "_deepnote_index_column": "unknown"
        },
        {
         "0.0": 0.36146272855133615,
         "1.0": 0.6385372714486639,
         "_deepnote_index_column": "yes"
        }
       ]
      },
      "text/html": [
       "<div>\n",
       "<style scoped>\n",
       "    .dataframe tbody tr th:only-of-type {\n",
       "        vertical-align: middle;\n",
       "    }\n",
       "\n",
       "    .dataframe tbody tr th {\n",
       "        vertical-align: top;\n",
       "    }\n",
       "\n",
       "    .dataframe thead th {\n",
       "        text-align: right;\n",
       "    }\n",
       "</style>\n",
       "<table border=\"1\" class=\"dataframe\">\n",
       "  <thead>\n",
       "    <tr style=\"text-align: right;\">\n",
       "      <th>alleged_threat_lvl</th>\n",
       "      <th>0.0</th>\n",
       "      <th>1.0</th>\n",
       "    </tr>\n",
       "    <tr>\n",
       "      <th>mental_illness</th>\n",
       "      <th></th>\n",
       "      <th></th>\n",
       "    </tr>\n",
       "  </thead>\n",
       "  <tbody>\n",
       "    <tr>\n",
       "      <th>drug or alcohol use</th>\n",
       "      <td>0.362745</td>\n",
       "      <td>0.637255</td>\n",
       "    </tr>\n",
       "    <tr>\n",
       "      <th>no</th>\n",
       "      <td>0.305544</td>\n",
       "      <td>0.694456</td>\n",
       "    </tr>\n",
       "    <tr>\n",
       "      <th>unknown</th>\n",
       "      <td>0.345109</td>\n",
       "      <td>0.654891</td>\n",
       "    </tr>\n",
       "    <tr>\n",
       "      <th>yes</th>\n",
       "      <td>0.361463</td>\n",
       "      <td>0.638537</td>\n",
       "    </tr>\n",
       "  </tbody>\n",
       "</table>\n",
       "</div>"
      ],
      "text/plain": [
       "alleged_threat_lvl        0.0       1.0\n",
       "mental_illness                         \n",
       "drug or alcohol use  0.362745  0.637255\n",
       "no                   0.305544  0.694456\n",
       "unknown              0.345109  0.654891\n",
       "yes                  0.361463  0.638537"
      ]
     },
     "execution_count": 11,
     "metadata": {},
     "output_type": "execute_result"
    }
   ],
   "source": [
    "#visualize mental illness vs threat level\n",
    "ax = pd.crosstab(train.mental_illness, train.alleged_threat_lvl, normalize ='index').plot.bar(figsize=(8, 6), cmap=plt.cm.get_cmap('Blues'), ec=\"black\")\n",
    "\n",
    "#customize legend\n",
    "legend_labels, _= ax.get_legend_handles_labels()\n",
    "ax.legend(legend_labels, ['Non-Attack', 'Attack'], \n",
    "          bbox_to_anchor=(1,1), \n",
    "          title='Threat Level')\n",
    "\n",
    "#customize chart\n",
    "plt.title(\"Does Mental Illness Play a Role in Threat Level?\", fontsize = 15)\n",
    "plt.ylabel(\"Percentage\", fontsize = 12)\n",
    "plt.xlabel('Mental Illness', fontsize = 12)\n",
    "ax.tick_params(labelsize=10)\n",
    "plt.ylim([0.0, 1.0])\n",
    "plt.xticks(rotation=0)\n",
    "plt.show()\n",
    "\n",
    "#get percentages df\n",
    "percentages = pd.crosstab(train.mental_illness, train.alleged_threat_lvl, normalize = 'index')\n",
    "percentages"
   ]
  },
  {
   "cell_type": "markdown",
   "metadata": {
    "cell_id": "00025-d548f350-e44c-4c76-9194-fc1b81271996",
    "deepnote_cell_type": "markdown",
    "tags": []
   },
   "source": [
    "### Takeaways\n",
    "- People with no mental illness have been characterized as having an 'attack' threat level more often than not being attackers, but not by much. \n",
    "- Same for people with mental illness (more likely to be attacks than non-attacks, but not by much).\n",
    "- Highest percentage of non-attacks are people under the influence of drugs/alcohol or people with unknown mental status. "
   ]
  },
  {
   "cell_type": "code",
   "execution_count": 12,
   "metadata": {
    "cell_id": "00026-530992a2-6b1c-40bf-96ed-6f3b0b726cf4",
    "deepnote_cell_type": "code",
    "deepnote_to_be_reexecuted": false,
    "execution_millis": 0,
    "execution_start": 1622252488670,
    "source_hash": "662f7a6",
    "tags": []
   },
   "outputs": [],
   "source": [
    "#ax = sns.countplot(data=train, x='mental_illness', hue='alleged_threat_lvl', palette = 'ocean_r')\n",
    "#ax = pd.crosstab(train.mental_illness, train.alleged_threat_lvl, normalize ='index').plot(kind = 'bar', figsize=(15, 10), cmap=plt.cm.get_cmap('ocean_r'), ec=\"black\")\n",
    "\n",
    "#x, y, hue = \"mental_illness\", \"percent\", \"alleged_threat_lvl\"\n",
    "#hue_order = [\"Non-Attack\", \"Attack\"]\n",
    "\n",
    "#ax = (train[x]\n",
    "# .groupby(train[hue])\n",
    "# .value_counts(normalize='index')\n",
    "# .rename(y)\n",
    "# .reset_index()\n",
    "# .pipe((sns.barplot, \"data\"), x=x, y=y, hue=hue, palette = \"ocean_r\"))\n",
    "\n",
    "\n",
    "#customize legend\n",
    "#legend_labels, _= ax.get_legend_handles_labels()\n",
    "#ax.legend(legend_labels, ['Non-Attack','Attack'], \n",
    "#          bbox_to_anchor=(1,1), \n",
    "#          title='Threat Level')\n",
    "\n",
    "#customize chart\n",
    "#plt.title('Does Mental Illness Play a Role in Threat Level?')\n",
    "#plt.xlabel('Mental Illness')\n",
    "#plt.ylabel('Percentage')\n",
    "#plt.ylim([0.0, 1.0])\n",
    "#plt.show()\n",
    "\n",
    "#get percentages df\n",
    "#percentages = pd.crosstab(train.mental_illness, train.alleged_threat_lvl, normalize = 'index')\n",
    "#percentages.plot.bar(cmap='Blues', ec='black', )\n",
    "#percentages"
   ]
  },
  {
   "cell_type": "code",
   "execution_count": 13,
   "metadata": {
    "cell_id": "00027-e43c4d21-f2eb-40a0-9dd0-8e64fa6bf9de",
    "deepnote_cell_type": "code",
    "deepnote_to_be_reexecuted": false,
    "execution_millis": 378,
    "execution_start": 1622252488671,
    "source_hash": "867bdf02",
    "tags": []
   },
   "outputs": [
    {
     "data": {
      "image/png": "[encoded data removed]",
      "text/plain": [
       "<Figure size 576x432 with 1 Axes>"
      ]
     },
     "metadata": {
      "image/png": {
       "height": 392,
       "width": 598
      },
      "needs_background": "light"
     },
     "output_type": "display_data"
    },
    {
     "data": {
      "application/vnd.deepnote.dataframe.v2+json": {
       "column_count": 2,
       "columns": [
        {
         "dtype": "float64",
         "name": 0,
         "stats": {
          "histogram": [
           {
            "bin_end": 0.3085605095541401,
            "bin_start": 0.2961783439490446,
            "count": 1
           },
           {
            "bin_end": 0.32094267515923564,
            "bin_start": 0.3085605095541401,
            "count": 2
           },
           {
            "bin_end": 0.3333248407643312,
            "bin_start": 0.32094267515923564,
            "count": 0
           },
           {
            "bin_end": 0.34570700636942675,
            "bin_start": 0.3333248407643312,
            "count": 0
           },
           {
            "bin_end": 0.3580891719745223,
            "bin_start": 0.34570700636942675,
            "count": 1
           },
           {
            "bin_end": 0.3704713375796178,
            "bin_start": 0.3580891719745223,
            "count": 0
           },
           {
            "bin_end": 0.38285350318471334,
            "bin_start": 0.3704713375796178,
            "count": 0
           },
           {
            "bin_end": 0.39523566878980887,
            "bin_start": 0.38285350318471334,
            "count": 1
           },
           {
            "bin_end": 0.40761783439490445,
            "bin_start": 0.39523566878980887,
            "count": 0
           },
           {
            "bin_end": 0.42,
            "bin_start": 0.40761783439490445,
            "count": 1
           }
          ],
          "max": "0.42",
          "min": "0.2961783439490446",
          "nan_count": 0,
          "unique_count": 6
         }
        },
        {
         "dtype": "float64",
         "name": 1,
         "stats": {
          "histogram": [
           {
            "bin_end": 0.5923821656050955,
            "bin_start": 0.58,
            "count": 1
           },
           {
            "bin_end": 0.604764331210191,
            "bin_start": 0.5923821656050955,
            "count": 0
           },
           {
            "bin_end": 0.6171464968152865,
            "bin_start": 0.604764331210191,
            "count": 1
           },
           {
            "bin_end": 0.6295286624203821,
            "bin_start": 0.6171464968152865,
            "count": 0
           },
           {
            "bin_end": 0.6419108280254777,
            "bin_start": 0.6295286624203821,
            "count": 0
           },
           {
            "bin_end": 0.6542929936305732,
            "bin_start": 0.6419108280254777,
            "count": 1
           },
           {
            "bin_end": 0.6666751592356688,
            "bin_start": 0.6542929936305732,
            "count": 0
           },
           {
            "bin_end": 0.6790573248407643,
            "bin_start": 0.6666751592356688,
            "count": 0
           },
           {
            "bin_end": 0.6914394904458598,
            "bin_start": 0.6790573248407643,
            "count": 2
           },
           {
            "bin_end": 0.7038216560509554,
            "bin_start": 0.6914394904458598,
            "count": 1
           }
          ],
          "max": "0.7038216560509554",
          "min": "0.58",
          "nan_count": 0,
          "unique_count": 6
         }
        },
        {
         "dtype": "object",
         "name": "_deepnote_index_column"
        }
       ],
       "row_count": 6,
       "rows_bottom": null,
       "rows_top": [
        {
         "0.0": 0.35135135135135137,
         "1.0": 0.6486486486486487,
         "_deepnote_index_column": "asian/pacific islander"
        },
        {
         "0.0": 0.314878892733564,
         "1.0": 0.6851211072664359,
         "_deepnote_index_column": "black"
        },
        {
         "0.0": 0.3894899536321484,
         "1.0": 0.6105100463678517,
         "_deepnote_index_column": "hispanic"
        },
        {
         "0.0": 0.42,
         "1.0": 0.58,
         "_deepnote_index_column": "native american"
        },
        {
         "0.0": 0.31666666666666665,
         "1.0": 0.6833333333333333,
         "_deepnote_index_column": "unknown race"
        },
        {
         "0.0": 0.2961783439490446,
         "1.0": 0.7038216560509554,
         "_deepnote_index_column": "white"
        }
       ]
      },
      "text/html": [
       "<div>\n",
       "<style scoped>\n",
       "    .dataframe tbody tr th:only-of-type {\n",
       "        vertical-align: middle;\n",
       "    }\n",
       "\n",
       "    .dataframe tbody tr th {\n",
       "        vertical-align: top;\n",
       "    }\n",
       "\n",
       "    .dataframe thead th {\n",
       "        text-align: right;\n",
       "    }\n",
       "</style>\n",
       "<table border=\"1\" class=\"dataframe\">\n",
       "  <thead>\n",
       "    <tr style=\"text-align: right;\">\n",
       "      <th>alleged_threat_lvl</th>\n",
       "      <th>0.0</th>\n",
       "      <th>1.0</th>\n",
       "    </tr>\n",
       "    <tr>\n",
       "      <th>race</th>\n",
       "      <th></th>\n",
       "      <th></th>\n",
       "    </tr>\n",
       "  </thead>\n",
       "  <tbody>\n",
       "    <tr>\n",
       "      <th>asian/pacific islander</th>\n",
       "      <td>0.351351</td>\n",
       "      <td>0.648649</td>\n",
       "    </tr>\n",
       "    <tr>\n",
       "      <th>black</th>\n",
       "      <td>0.314879</td>\n",
       "      <td>0.685121</td>\n",
       "    </tr>\n",
       "    <tr>\n",
       "      <th>hispanic</th>\n",
       "      <td>0.389490</td>\n",
       "      <td>0.610510</td>\n",
       "    </tr>\n",
       "    <tr>\n",
       "      <th>native american</th>\n",
       "      <td>0.420000</td>\n",
       "      <td>0.580000</td>\n",
       "    </tr>\n",
       "    <tr>\n",
       "      <th>unknown race</th>\n",
       "      <td>0.316667</td>\n",
       "      <td>0.683333</td>\n",
       "    </tr>\n",
       "    <tr>\n",
       "      <th>white</th>\n",
       "      <td>0.296178</td>\n",
       "      <td>0.703822</td>\n",
       "    </tr>\n",
       "  </tbody>\n",
       "</table>\n",
       "</div>"
      ],
      "text/plain": [
       "alleged_threat_lvl           0.0       1.0\n",
       "race                                      \n",
       "asian/pacific islander  0.351351  0.648649\n",
       "black                   0.314879  0.685121\n",
       "hispanic                0.389490  0.610510\n",
       "native american         0.420000  0.580000\n",
       "unknown race            0.316667  0.683333\n",
       "white                   0.296178  0.703822"
      ]
     },
     "execution_count": 13,
     "metadata": {},
     "output_type": "execute_result"
    }
   ],
   "source": [
    "#visualize race vs alleged threat level\n",
    "ax = pd.crosstab(train.race, train.alleged_threat_lvl, normalize ='index').plot.barh(figsize=(8, 6), cmap=plt.cm.get_cmap('Blues'), ec=\"black\")\n",
    "\n",
    "#customize legend\n",
    "legend_labels, _= ax.get_legend_handles_labels()\n",
    "ax.legend(legend_labels, ['Non-Attack', 'Attack'], \n",
    "          bbox_to_anchor=(1,1), \n",
    "          title='Threat Level')\n",
    "\n",
    "#customize chart\n",
    "plt.title(\"Is Race a Factor in Threat Level?\", fontsize = 15)\n",
    "plt.ylabel(\"Race\", fontsize = 12)\n",
    "plt.xlabel('Percentage', fontsize = 12)\n",
    "ax.tick_params(labelsize=10)\n",
    "plt.xlim([0.0, 1.0])\n",
    "plt.show()\n",
    "\n",
    "#get percentages df\n",
    "percentages = pd.crosstab(train.race, train.alleged_threat_lvl, normalize = 'index')\n",
    "percentages"
   ]
  },
  {
   "cell_type": "markdown",
   "metadata": {
    "cell_id": "00028-6ef88511-3950-42ac-b616-4944cc1bdebc",
    "deepnote_cell_type": "markdown",
    "tags": []
   },
   "source": [
    "### Takeaways\n",
    "- The highest occurrence of non-attacks are seen in Native Americans. Second highest is Hispanics.\n",
    "- The highest occurrence of attacks are seen in White races. Second highest appears to be Asians/Pacific Islanders. \n",
    "- Black races are almost equally likely to result in attack/non-attack threat levels.\n",
    "- There is a lot of unknown races in the data. Why?"
   ]
  },
  {
   "cell_type": "code",
   "execution_count": 14,
   "metadata": {
    "cell_id": "00029-eb229989-7fcd-4c7f-841f-0b0999ecbd6f",
    "deepnote_cell_type": "code",
    "deepnote_to_be_reexecuted": false,
    "execution_millis": 300,
    "execution_start": 1622252489056,
    "source_hash": "704749a3"
   },
   "outputs": [
    {
     "data": {
      "image/png": "[encoded data removed]",
      "text/plain": [
       "<Figure size 576x432 with 1 Axes>"
      ]
     },
     "metadata": {
      "image/png": {
       "height": 397,
       "width": 500
      },
      "needs_background": "light"
     },
     "output_type": "display_data"
    },
    {
     "data": {
      "application/vnd.deepnote.dataframe.v2+json": {
       "column_count": 2,
       "columns": [
        {
         "dtype": "float64",
         "name": 0,
         "stats": {
          "histogram": [
           {
            "bin_end": 0.32244124204763247,
            "bin_start": 0.3166772756206238,
            "count": 1
           },
           {
            "bin_end": 0.32820520847464113,
            "bin_start": 0.32244124204763247,
            "count": 0
           },
           {
            "bin_end": 0.3339691749016498,
            "bin_start": 0.32820520847464113,
            "count": 0
           },
           {
            "bin_end": 0.33973314132865845,
            "bin_start": 0.3339691749016498,
            "count": 0
           },
           {
            "bin_end": 0.3454971077556671,
            "bin_start": 0.33973314132865845,
            "count": 0
           },
           {
            "bin_end": 0.35126107418267577,
            "bin_start": 0.3454971077556671,
            "count": 0
           },
           {
            "bin_end": 0.35702504060968443,
            "bin_start": 0.35126107418267577,
            "count": 0
           },
           {
            "bin_end": 0.3627890070366931,
            "bin_start": 0.35702504060968443,
            "count": 0
           },
           {
            "bin_end": 0.36855297346370175,
            "bin_start": 0.3627890070366931,
            "count": 0
           },
           {
            "bin_end": 0.3743169398907104,
            "bin_start": 0.36855297346370175,
            "count": 1
           }
          ],
          "max": "0.3743169398907104",
          "min": "0.3166772756206238",
          "nan_count": 0,
          "unique_count": 2
         }
        },
        {
         "dtype": "float64",
         "name": 1,
         "stats": {
          "histogram": [
           {
            "bin_end": 0.6314470265362984,
            "bin_start": 0.6256830601092896,
            "count": 1
           },
           {
            "bin_end": 0.637210992963307,
            "bin_start": 0.6314470265362984,
            "count": 0
           },
           {
            "bin_end": 0.6429749593903156,
            "bin_start": 0.637210992963307,
            "count": 0
           },
           {
            "bin_end": 0.6487389258173243,
            "bin_start": 0.6429749593903156,
            "count": 0
           },
           {
            "bin_end": 0.654502892244333,
            "bin_start": 0.6487389258173243,
            "count": 0
           },
           {
            "bin_end": 0.6602668586713416,
            "bin_start": 0.654502892244333,
            "count": 0
           },
           {
            "bin_end": 0.6660308250983502,
            "bin_start": 0.6602668586713416,
            "count": 0
           },
           {
            "bin_end": 0.6717947915253589,
            "bin_start": 0.6660308250983502,
            "count": 0
           },
           {
            "bin_end": 0.6775587579523676,
            "bin_start": 0.6717947915253589,
            "count": 0
           },
           {
            "bin_end": 0.6833227243793762,
            "bin_start": 0.6775587579523676,
            "count": 1
           }
          ],
          "max": "0.6833227243793762",
          "min": "0.6256830601092896",
          "nan_count": 0,
          "unique_count": 2
         }
        },
        {
         "dtype": "float64",
         "name": "_deepnote_index_column"
        }
       ],
       "row_count": 2,
       "rows_bottom": null,
       "rows_top": [
        {
         "0.0": 0.3166772756206238,
         "1.0": 0.6833227243793762,
         "_deepnote_index_column": 0
        },
        {
         "0.0": 0.3743169398907104,
         "1.0": 0.6256830601092896,
         "_deepnote_index_column": 1
        }
       ]
      },
      "text/html": [
       "<div>\n",
       "<style scoped>\n",
       "    .dataframe tbody tr th:only-of-type {\n",
       "        vertical-align: middle;\n",
       "    }\n",
       "\n",
       "    .dataframe tbody tr th {\n",
       "        vertical-align: top;\n",
       "    }\n",
       "\n",
       "    .dataframe thead th {\n",
       "        text-align: right;\n",
       "    }\n",
       "</style>\n",
       "<table border=\"1\" class=\"dataframe\">\n",
       "  <thead>\n",
       "    <tr style=\"text-align: right;\">\n",
       "      <th>alleged_threat_lvl</th>\n",
       "      <th>0.0</th>\n",
       "      <th>1.0</th>\n",
       "    </tr>\n",
       "    <tr>\n",
       "      <th>body_camera</th>\n",
       "      <th></th>\n",
       "      <th></th>\n",
       "    </tr>\n",
       "  </thead>\n",
       "  <tbody>\n",
       "    <tr>\n",
       "      <th>0.0</th>\n",
       "      <td>0.316677</td>\n",
       "      <td>0.683323</td>\n",
       "    </tr>\n",
       "    <tr>\n",
       "      <th>1.0</th>\n",
       "      <td>0.374317</td>\n",
       "      <td>0.625683</td>\n",
       "    </tr>\n",
       "  </tbody>\n",
       "</table>\n",
       "</div>"
      ],
      "text/plain": [
       "alleged_threat_lvl       0.0       1.0\n",
       "body_camera                           \n",
       "0.0                 0.316677  0.683323\n",
       "1.0                 0.374317  0.625683"
      ]
     },
     "execution_count": 14,
     "metadata": {},
     "output_type": "execute_result"
    }
   ],
   "source": [
    "#visualize body camera vs alleged threat level\n",
    "ax = pd.crosstab(train.body_camera, train.alleged_threat_lvl, normalize ='index').plot.bar(figsize=(8, 6), cmap=plt.cm.get_cmap('Blues'), ec=\"black\")\n",
    "\n",
    "#customize legend\n",
    "legend_labels, _= ax.get_legend_handles_labels()\n",
    "ax.legend(legend_labels, ['Non-Attack', 'Attack'], \n",
    "          bbox_to_anchor=(1,1), \n",
    "          title='Threat Level')\n",
    "\n",
    "#customize chart\n",
    "plt.title(\"Does Bodycam Make a Difference in Alleged Threat Level?\", fontsize = 15)\n",
    "plt.ylabel(\"Percentage\", fontsize = 12)\n",
    "plt.xlabel('Body Camera', fontsize = 12)\n",
    "ax.tick_params(labelsize=10)\n",
    "x_labels = ['Off', 'On']\n",
    "ax.set_xticklabels(x_labels)\n",
    "\n",
    "plt.ylim([0.0, 1.0])\n",
    "plt.show()\n",
    "\n",
    "#get percentages df\n",
    "percentages = pd.crosstab(train.body_camera, train.alleged_threat_lvl, normalize = 'index')\n",
    "percentages"
   ]
  },
  {
   "cell_type": "markdown",
   "metadata": {
    "cell_id": "00030-2080dfea-f96b-41b6-97a1-e7c549ee4c47",
    "deepnote_cell_type": "markdown"
   },
   "source": [
    "### Takeaways\n",
    "- When bodycam is off, there seems to be more non-attacks than attacks. Why is there non-attack threat levels resulting in these fatalities?\n",
    "- When bodycam is on, there is a higher chance of an attack than a non-attack."
   ]
  },
  {
   "cell_type": "code",
   "execution_count": 15,
   "metadata": {
    "cell_id": "00031-cd80b0f2-a6db-46be-a109-eec5ce1cf4fc",
    "deepnote_cell_type": "code",
    "deepnote_to_be_reexecuted": false,
    "execution_millis": 198,
    "execution_start": 1622252489394,
    "source_hash": "6ccbc52",
    "tags": []
   },
   "outputs": [
    {
     "data": {
      "image/png": "[encoded data removed]",
      "text/plain": [
       "<Figure size 432x288 with 1 Axes>"
      ]
     },
     "metadata": {
      "image/png": {
       "height": 278,
       "width": 395
      },
      "needs_background": "light"
     },
     "output_type": "display_data"
    }
   ],
   "source": [
    "#visualize what areas in geography are resulting in more killings?\n",
    "sns.countplot(data=df, x='geography', palette='Blues')\n",
    "plt.title(\"Fatal Incidents are Occurring in Our Backyards\")\n",
    "plt.ylabel('Number of Fatalities')\n",
    "plt.show()"
   ]
  },
  {
   "cell_type": "markdown",
   "metadata": {
    "cell_id": "00032-cdd26bfc-3fd1-4db2-8014-4137d325be8b",
    "deepnote_cell_type": "markdown",
    "tags": []
   },
   "source": [
    "### Takeaways\n",
    "- Suburban neighborhoods have the highest number of fatalities. \n",
    "- Rural areas have the least amount of fatal incidents. "
   ]
  },
  {
   "cell_type": "code",
   "execution_count": 16,
   "metadata": {
    "cell_id": "00033-7860afa4-8a2f-4e73-aed9-8c1b2b73f14e",
    "deepnote_cell_type": "code",
    "deepnote_to_be_reexecuted": false,
    "execution_millis": 261,
    "execution_start": 1622252489630,
    "source_hash": "b6f024c0",
    "tags": []
   },
   "outputs": [
    {
     "data": {
      "image/png": "[encoded data removed]",
      "text/plain": [
       "<Figure size 576x432 with 1 Axes>"
      ]
     },
     "metadata": {
      "image/png": {
       "height": 429,
       "width": 504
      },
      "needs_background": "light"
     },
     "output_type": "display_data"
    },
    {
     "data": {
      "application/vnd.deepnote.dataframe.v2+json": {
       "column_count": 2,
       "columns": [
        {
         "dtype": "float64",
         "name": 0,
         "stats": {
          "histogram": [
           {
            "bin_end": 0.30283613074324967,
            "bin_start": 0.29848866498740556,
            "count": 1
           },
           {
            "bin_end": 0.3071835964990938,
            "bin_start": 0.30283613074324967,
            "count": 0
           },
           {
            "bin_end": 0.31153106225493793,
            "bin_start": 0.3071835964990938,
            "count": 0
           },
           {
            "bin_end": 0.3158785280107821,
            "bin_start": 0.31153106225493793,
            "count": 0
           },
           {
            "bin_end": 0.3202259937666262,
            "bin_start": 0.3158785280107821,
            "count": 0
           },
           {
            "bin_end": 0.3245734595224703,
            "bin_start": 0.3202259937666262,
            "count": 1
           },
           {
            "bin_end": 0.32892092527831446,
            "bin_start": 0.3245734595224703,
            "count": 0
           },
           {
            "bin_end": 0.33326839103415856,
            "bin_start": 0.32892092527831446,
            "count": 0
           },
           {
            "bin_end": 0.3376158567900027,
            "bin_start": 0.33326839103415856,
            "count": 0
           },
           {
            "bin_end": 0.3419633225458468,
            "bin_start": 0.3376158567900027,
            "count": 1
           }
          ],
          "max": "0.3419633225458468",
          "min": "0.29848866498740556",
          "nan_count": 0,
          "unique_count": 3
         }
        },
        {
         "dtype": "float64",
         "name": 1,
         "stats": {
          "histogram": [
           {
            "bin_end": 0.6623841432099973,
            "bin_start": 0.6580366774541532,
            "count": 1
           },
           {
            "bin_end": 0.6667316089658414,
            "bin_start": 0.6623841432099973,
            "count": 0
           },
           {
            "bin_end": 0.6710790747216856,
            "bin_start": 0.6667316089658414,
            "count": 0
           },
           {
            "bin_end": 0.6754265404775297,
            "bin_start": 0.6710790747216856,
            "count": 0
           },
           {
            "bin_end": 0.6797740062333738,
            "bin_start": 0.6754265404775297,
            "count": 1
           },
           {
            "bin_end": 0.6841214719892179,
            "bin_start": 0.6797740062333738,
            "count": 0
           },
           {
            "bin_end": 0.688468937745062,
            "bin_start": 0.6841214719892179,
            "count": 0
           },
           {
            "bin_end": 0.6928164035009062,
            "bin_start": 0.688468937745062,
            "count": 0
           },
           {
            "bin_end": 0.6971638692567503,
            "bin_start": 0.6928164035009062,
            "count": 0
           },
           {
            "bin_end": 0.7015113350125944,
            "bin_start": 0.6971638692567503,
            "count": 1
           }
          ],
          "max": "0.7015113350125944",
          "min": "0.6580366774541532",
          "nan_count": 0,
          "unique_count": 3
         }
        },
        {
         "dtype": "object",
         "name": "_deepnote_index_column"
        }
       ],
       "row_count": 3,
       "rows_bottom": null,
       "rows_top": [
        {
         "0.0": 0.29848866498740556,
         "1.0": 0.7015113350125944,
         "_deepnote_index_column": "rural"
        },
        {
         "0.0": 0.323447118074986,
         "1.0": 0.676552881925014,
         "_deepnote_index_column": "suburban"
        },
        {
         "0.0": 0.3419633225458468,
         "1.0": 0.6580366774541532,
         "_deepnote_index_column": "urban"
        }
       ]
      },
      "text/html": [
       "<div>\n",
       "<style scoped>\n",
       "    .dataframe tbody tr th:only-of-type {\n",
       "        vertical-align: middle;\n",
       "    }\n",
       "\n",
       "    .dataframe tbody tr th {\n",
       "        vertical-align: top;\n",
       "    }\n",
       "\n",
       "    .dataframe thead th {\n",
       "        text-align: right;\n",
       "    }\n",
       "</style>\n",
       "<table border=\"1\" class=\"dataframe\">\n",
       "  <thead>\n",
       "    <tr style=\"text-align: right;\">\n",
       "      <th>alleged_threat_lvl</th>\n",
       "      <th>0.0</th>\n",
       "      <th>1.0</th>\n",
       "    </tr>\n",
       "    <tr>\n",
       "      <th>geography</th>\n",
       "      <th></th>\n",
       "      <th></th>\n",
       "    </tr>\n",
       "  </thead>\n",
       "  <tbody>\n",
       "    <tr>\n",
       "      <th>rural</th>\n",
       "      <td>0.298489</td>\n",
       "      <td>0.701511</td>\n",
       "    </tr>\n",
       "    <tr>\n",
       "      <th>suburban</th>\n",
       "      <td>0.323447</td>\n",
       "      <td>0.676553</td>\n",
       "    </tr>\n",
       "    <tr>\n",
       "      <th>urban</th>\n",
       "      <td>0.341963</td>\n",
       "      <td>0.658037</td>\n",
       "    </tr>\n",
       "  </tbody>\n",
       "</table>\n",
       "</div>"
      ],
      "text/plain": [
       "alleged_threat_lvl       0.0       1.0\n",
       "geography                             \n",
       "rural               0.298489  0.701511\n",
       "suburban            0.323447  0.676553\n",
       "urban               0.341963  0.658037"
      ]
     },
     "execution_count": 16,
     "metadata": {},
     "output_type": "execute_result"
    }
   ],
   "source": [
    "#visualize geography vs alleged threat level\n",
    "ax = pd.crosstab(train.geography, train.alleged_threat_lvl, normalize ='index').plot.bar(figsize=(8, 6), cmap=plt.cm.get_cmap('Blues'), ec=\"black\")\n",
    "\n",
    "#customize legend\n",
    "legend_labels, _= ax.get_legend_handles_labels()\n",
    "ax.legend(legend_labels, ['Non-Attack', 'Attack'], \n",
    "          bbox_to_anchor=(1,1), \n",
    "          title='Threat Level')\n",
    "\n",
    "#customize chart\n",
    "plt.title(\"Does Geography Make a Difference in Alleged Threat Level?\", fontsize = 15)\n",
    "plt.ylabel(\"Percentage\", fontsize = 12)\n",
    "plt.xlabel('Geography', fontsize = 12)\n",
    "ax.tick_params(labelsize=10)\n",
    "#x_labels = ['Off', 'On']\n",
    "#ax.set_xticklabels(x_labels)\n",
    "\n",
    "plt.ylim([0.0, 1.0])\n",
    "plt.show()\n",
    "\n",
    "#get percentages df\n",
    "percentages = pd.crosstab(train.geography, train.alleged_threat_lvl, normalize = 'index')\n",
    "percentages"
   ]
  },
  {
   "cell_type": "markdown",
   "metadata": {
    "cell_id": "00034-a6249868-09e4-440b-994f-1e8dc5b373c0",
    "deepnote_cell_type": "markdown",
    "tags": []
   },
   "source": [
    "### Takeaways\n",
    "- Not much variation, but there is a higher percentage of attack threat level happening in rural areas.\n",
    "- Highest percentage of non-attack threat levels are happening in urban areas. \n",
    "- Suburban areas are almost equally likely to be attack/non-attacks. Slightly higher percentage for non-attacks. "
   ]
  },
  {
   "cell_type": "markdown",
   "metadata": {
    "cell_id": "00035-41eb1b62-3626-475e-83dc-b75acefe428a",
    "deepnote_cell_type": "markdown"
   },
   "source": [
    "\n",
    "___\n",
    "\n",
    "## • Hypothesis Testing"
   ]
  },
  {
   "cell_type": "code",
   "execution_count": 17,
   "metadata": {
    "cell_id": "00036-e14fe909-622e-4932-9458-c8fc3a000a79",
    "deepnote_cell_type": "code",
    "deepnote_to_be_reexecuted": false,
    "execution_millis": 8,
    "execution_start": 1622252489934,
    "source_hash": "a2898aa8"
   },
   "outputs": [
    {
     "name": "stdout",
     "output_type": "stream",
     "text": [
      "2.5985965696595774 0.009399773051373846\n",
      "We reject the null hypothesis.\n",
      "We can move forward with alternative hypothesis: Attacker status for males & total population are different.\n"
     ]
    }
   ],
   "source": [
    "#t-test for gender vs threat level\n",
    "female = train[train.gender == 'female']\n",
    "male = train[train.gender == 'male']\n",
    "transg = train[train.gender == 'transgender']\n",
    "not_male = train[train.gender != 'male']\n",
    "\n",
    "male_att = male.alleged_threat_lvl\n",
    "non_male_att = not_male.alleged_threat_lvl\n",
    "\n",
    "null_hypothesis = \"There is not a difference between male attackers and the remaining population.\"\n",
    "alternative_hypothesis = \"Attacker status for males & total population are different.\"\n",
    "confidence_level = .95\n",
    "a = 1 - confidence_level\n",
    "\n",
    "t, p = stats.ttest_ind(male_att, non_male_att)\n",
    "print(t, p)\n",
    "\n",
    "if p < a:\n",
    "    print(\"We reject the null hypothesis.\")\n",
    "    print(f\"We can move forward with alternative hypothesis: {alternative_hypothesis}\")\n",
    "else:\n",
    "    print(\"We fail to reject the null hypothesis\")\n",
    "    print(f\"Not enough evidence to support the claim: {null_hypothesis}\")"
   ]
  },
  {
   "cell_type": "code",
   "execution_count": 18,
   "metadata": {
    "cell_id": "00037-2dd83620-802a-46be-9f4b-f1f3afb58393",
    "deepnote_cell_type": "code",
    "deepnote_to_be_reexecuted": false,
    "execution_millis": 7,
    "execution_start": 1622252489935,
    "source_hash": "61ecaf9b",
    "tags": []
   },
   "outputs": [
    {
     "name": "stdout",
     "output_type": "stream",
     "text": [
      "Observed\n",
      "\n",
      "[[  37   65]\n",
      " [ 711 1616]\n",
      " [ 127  241]\n",
      " [ 257  454]]\n",
      "---\n",
      "Expected\n",
      "\n",
      "[[  32.91448119   69.08551881]\n",
      " [ 750.90193843 1576.09806157]\n",
      " [ 118.75028506  249.24971494]\n",
      " [ 229.43329532  481.56670468]]\n",
      "---\n",
      "\n",
      "chi^2 = 9.6156\n",
      "p     = 0.0221\n",
      "\n",
      "Because the p-value: 0.0221 is less than alpha: 0.05, we can reject the null hypothesis\n"
     ]
    }
   ],
   "source": [
    "#chi2 test for mental illness vs alleged threat level\n",
    "exp.chi2_matts(train, 'mental_illness', 'alleged_threat_lvl', alpha=0.05)"
   ]
  },
  {
   "cell_type": "code",
   "execution_count": 19,
   "metadata": {
    "cell_id": "00038-50a4b200-91f7-46d1-942f-06561bad91d1",
    "deepnote_cell_type": "code",
    "deepnote_to_be_reexecuted": false,
    "execution_millis": 18,
    "execution_start": 1622252489978,
    "source_hash": "b256267b",
    "tags": []
   },
   "outputs": [
    {
     "name": "stdout",
     "output_type": "stream",
     "text": [
      "Observed\n",
      "\n",
      "[[  26   48]\n",
      " [ 273  594]\n",
      " [ 252  395]\n",
      " [  21   29]\n",
      " [  95  205]\n",
      " [ 465 1105]]\n",
      "---\n",
      "Expected\n",
      "\n",
      "[[  23.87913341   50.12086659]\n",
      " [ 279.77309008  587.22690992]\n",
      " [ 208.78107184  438.21892816]\n",
      " [  16.1345496    33.8654504 ]\n",
      " [  96.80729761  203.19270239]\n",
      " [ 506.62485747 1063.37514253]]\n",
      "---\n",
      "\n",
      "chi^2 = 20.9946\n",
      "p     = 0.0008\n",
      "\n",
      "Because the p-value: 0.0008 is less than alpha: 0.05, we can reject the null hypothesis\n"
     ]
    }
   ],
   "source": [
    "#chi2 test for race vs alleged threat level\n",
    "exp.chi2_matts(train, 'race', 'alleged_threat_lvl', alpha=0.05)"
   ]
  },
  {
   "cell_type": "code",
   "execution_count": 20,
   "metadata": {
    "cell_id": "00039-706d4b79-932c-4f84-b7ea-b1359bb2014a",
    "deepnote_cell_type": "code",
    "deepnote_to_be_reexecuted": false,
    "execution_millis": 17,
    "execution_start": 1622252489979,
    "source_hash": "cecd4fd8"
   },
   "outputs": [
    {
     "name": "stdout",
     "output_type": "stream",
     "text": [
      "Observed\n",
      "\n",
      "[[ 995 2147]\n",
      " [ 137  229]]\n",
      "---\n",
      "Expected\n",
      "\n",
      "[[1013.89509692 2128.10490308]\n",
      " [ 118.10490308  247.89509692]]\n",
      "---\n",
      "\n",
      "chi^2 = 4.7228\n",
      "p     = 0.0298\n",
      "\n",
      "Because the p-value: 0.0298 is less than alpha: 0.05, we can reject the null hypothesis\n"
     ]
    }
   ],
   "source": [
    "#chi2 test for bodycam vs alleged threat level\n",
    "exp.chi2_matts(train, 'body_camera', 'alleged_threat_lvl', alpha=0.05)"
   ]
  },
  {
   "cell_type": "markdown",
   "metadata": {
    "cell_id": "00040-95ae3704-db1e-494f-b144-8d2f44d9e6d2",
    "deepnote_cell_type": "markdown"
   },
   "source": [
    "### Takeaways\n",
    "- All four statistical tests rejected the null hypothesis.\n",
    "    - T-test demonstrates there is a difference between male attackers and the remaining population.\n",
    "    - 1st Chi^2 test demonstrates that mental status is dependent on alleged threat level.\n",
    "    - 2nd Chi^2 test demonstrates that race is dependent on alleged threat level.\n",
    "    - 3rd Chi^2 test demonstrates that bodycam is dependent on alleged threat level."
   ]
  },
  {
   "cell_type": "markdown",
   "metadata": {
    "cell_id": "00041-bbaa40ab-070f-4092-875b-f676e326d46f",
    "deepnote_cell_type": "markdown"
   },
   "source": [
    "\n",
    "___\n",
    "# Modeling"
   ]
  },
  {
   "cell_type": "code",
   "execution_count": 21,
   "metadata": {
    "cell_id": "00042-524081e4-7d12-4e0b-af1a-b4e7fa68070a",
    "deepnote_cell_type": "code",
    "deepnote_to_be_reexecuted": false,
    "execution_millis": 0,
    "execution_start": 1622252490035,
    "source_hash": "9a2eb543"
   },
   "outputs": [],
   "source": [
    "#set up X inputs and y target variable for each split\n",
    "X_train = train.drop(columns=['alleged_threat_lvl'])\n",
    "y_train = train.alleged_threat_lvl\n",
    "\n",
    "X_validate = validate.drop(columns=['alleged_threat_lvl'])\n",
    "y_validate = validate.alleged_threat_lvl\n",
    "\n",
    "X_test = test.drop(columns=['alleged_threat_lvl'])\n",
    "y_test = test.alleged_threat_lvl"
   ]
  },
  {
   "cell_type": "code",
   "execution_count": 22,
   "metadata": {
    "cell_id": "00043-7d6be0e8-ce34-4e51-ad2f-397c0966dbca",
    "deepnote_cell_type": "code",
    "deepnote_to_be_reexecuted": false,
    "execution_millis": 0,
    "execution_start": 1622252490036,
    "source_hash": "1dcf78a4"
   },
   "outputs": [],
   "source": [
    "# dropping columns that are not numeric datatypes\n",
    "dropcols = ['date', \n",
    "            'gender',\n",
    "            'race',\n",
    "            'city',\n",
    "            'state',\n",
    "            'zipcode',\n",
    "            'county',\n",
    "            'agency_responsible',\n",
    "            'cause_of_death',\n",
    "            'description_of_circumstances',\n",
    "            'official_disposition',\n",
    "            'criminal_charges_filed',\n",
    "            'mental_illness',\n",
    "            'armed_unarmed_status',\n",
    "            'alleged_threat_lvl',\n",
    "            'alleged_weapon',\n",
    "            'fleeing',\n",
    "            'geography',\n",
    "            'encounter_type_draft',\n",
    "            'initial_reported_reason_for_encounter_draft',\n",
    "            'known_past_shootings_of_officer_draft',\n",
    "            'age_bins']\n",
    "\n",
    "X_train = train.drop(columns=dropcols)\n",
    "X_validate = validate.drop(columns=dropcols)\n",
    "X_test = test.drop(columns=dropcols)"
   ]
  },
  {
   "cell_type": "markdown",
   "metadata": {
    "cell_id": "00044-37aed605-2a1d-467e-a320-3d77e944bac1",
    "deepnote_cell_type": "markdown"
   },
   "source": [
    "\n",
    "___\n",
    "## • Feature Importance"
   ]
  },
  {
   "cell_type": "markdown",
   "metadata": {
    "cell_id": "00045-3c733cb7-bd2b-481f-aace-cbc4ed8ebf6e",
    "deepnote_cell_type": "markdown"
   },
   "source": [
    "#### Select K Best\n",
    "- Uses statistical tests to determine each feature's usefulness in predicting the target variable. \n",
    "- Ranks the features and then select the K best features."
   ]
  },
  {
   "cell_type": "code",
   "execution_count": 23,
   "metadata": {
    "cell_id": "00046-ce04b4f7-39ca-40bb-8e6c-d12093fb3f23",
    "deepnote_cell_type": "code",
    "deepnote_to_be_reexecuted": false,
    "execution_millis": 58,
    "execution_start": 1622252490036,
    "source_hash": "dd7ebbdf"
   },
   "outputs": [
    {
     "data": {
      "text/plain": [
       "['age',\n",
       " 'body_camera',\n",
       " 'is_female',\n",
       " 'was_allegedly_armed',\n",
       " 'was_unarmed',\n",
       " 'was_vehicle',\n",
       " 'was_mental_health_welfare_check',\n",
       " 'was_person_with_a_weapon',\n",
       " 'was_violent_crime_part_1',\n",
       " 'is_hispanic',\n",
       " 'is_white',\n",
       " 'mntlill_no',\n",
       " 'mntlill_yes',\n",
       " 'under 12',\n",
       " '65+']"
      ]
     },
     "execution_count": 23,
     "metadata": {},
     "output_type": "execute_result"
    }
   ],
   "source": [
    "f_features = select_kbest(X_train, y_train, 15)\n",
    "f_features"
   ]
  },
  {
   "cell_type": "markdown",
   "metadata": {
    "cell_id": "00047-c15bdf78-ab08-4446-b5e6-5851c75219b8",
    "deepnote_cell_type": "markdown"
   },
   "source": [
    "#### Recursive Feature Elimination (RFE)\n",
    "- Recursively removes attributes to meet the number of required features and then builds a model on those attributes that remain to see if you can you match or improve performance with a smaller subset."
   ]
  },
  {
   "cell_type": "code",
   "execution_count": 24,
   "metadata": {
    "cell_id": "00048-bdfe9216-39d7-4014-a2b0-dc4a55b7ff1e",
    "deepnote_cell_type": "code",
    "deepnote_to_be_reexecuted": false,
    "execution_millis": 4605,
    "execution_start": 1622252490079,
    "source_hash": "509f8fd5"
   },
   "outputs": [
    {
     "data": {
      "text/plain": [
       "['body_camera',\n",
       " 'is_male',\n",
       " 'is_transgender',\n",
       " 'was_allegedly_armed',\n",
       " 'was_unarmed',\n",
       " 'was_vehicle',\n",
       " 'was_person_with_a_weapon',\n",
       " 'was_violent_crime_part_1',\n",
       " 'is_asian/pacific islander',\n",
       " 'is_hispanic',\n",
       " 'is_native american',\n",
       " 'mntlill_no',\n",
       " 'cod_lethal',\n",
       " 'under 12',\n",
       " '65+']"
      ]
     },
     "execution_count": 24,
     "metadata": {},
     "output_type": "execute_result"
    }
   ],
   "source": [
    "rfe_features = rfe(X_train, y_train, 15)\n",
    "rfe_features"
   ]
  },
  {
   "cell_type": "code",
   "execution_count": 25,
   "metadata": {
    "cell_id": "00049-94abc85d-bf40-48c5-8229-f4dcf15f4746",
    "deepnote_cell_type": "code",
    "deepnote_to_be_reexecuted": false,
    "execution_millis": 62,
    "execution_start": 1622252494718,
    "source_hash": "31ee34a3"
   },
   "outputs": [
    {
     "name": "stdout",
     "output_type": "stream",
     "text": [
      "20\n"
     ]
    },
    {
     "data": {
      "text/plain": [
       "['cod_lethal',\n",
       " 'was_mental_health_welfare_check',\n",
       " 'was_allegedly_armed',\n",
       " 'is_female',\n",
       " 'mntlill_yes',\n",
       " 'was_person_with_a_weapon',\n",
       " '65+',\n",
       " 'mntlill_no',\n",
       " 'is_hispanic',\n",
       " 'is_male',\n",
       " 'is_asian/pacific islander',\n",
       " 'under 12',\n",
       " 'is_white',\n",
       " 'is_native american',\n",
       " 'is_transgender',\n",
       " 'was_unarmed',\n",
       " 'was_vehicle',\n",
       " 'body_camera',\n",
       " 'was_violent_crime_part_1',\n",
       " 'age']"
      ]
     },
     "execution_count": 25,
     "metadata": {},
     "output_type": "execute_result"
    }
   ],
   "source": [
    "combo_feats = list(set(f_features + rfe_features))\n",
    "print(len(combo_feats))\n",
    "combo_feats"
   ]
  },
  {
   "cell_type": "code",
   "execution_count": 26,
   "metadata": {
    "cell_id": "00050-abe1a7cc-de44-411c-b266-42985e65f0c0",
    "deepnote_cell_type": "code",
    "deepnote_to_be_reexecuted": false,
    "execution_millis": 0,
    "execution_start": 1622252494769,
    "source_hash": "10a14d49"
   },
   "outputs": [
    {
     "name": "stdout",
     "output_type": "stream",
     "text": [
      "19\n"
     ]
    }
   ],
   "source": [
    "#specify combined features that reduces multicollinearity\n",
    "combo_feats = ['55-64',\n",
    "               'is_native american',\n",
    "               'mntlill_no',\n",
    "               'under 12',\n",
    "               'was_traffic_stop',\n",
    "               'body_camera',\n",
    "               'age',\n",
    "               'was_allegedly_armed',\n",
    "               'is_black',\n",
    "               'was_domestic_disturbance',\n",
    "               'was_fleeing',\n",
    "               'cod_lethal',\n",
    "               'was_mental_health_welfare_check',\n",
    "               'is_white',\n",
    "               'was_violent_crime_part_1',\n",
    "               'was_vehicle',\n",
    "               'mntlill_drug or alcohol use',\n",
    "               'is_transgender',\n",
    "               'is_female']\n",
    " \n",
    "print(len(combo_feats))"
   ]
  },
  {
   "cell_type": "markdown",
   "metadata": {
    "cell_id": "00051-02058f39-9d14-469d-a724-2e05a9491bc7",
    "deepnote_cell_type": "markdown"
   },
   "source": [
    "\n",
    "___\n",
    "## • Identify Baseline"
   ]
  },
  {
   "cell_type": "code",
   "execution_count": 27,
   "metadata": {
    "cell_id": "00052-ff77479e-cd9a-4dcd-8394-8d4ed49bcb23",
    "deepnote_cell_type": "code",
    "deepnote_to_be_reexecuted": false,
    "execution_millis": 2,
    "execution_start": 1622252494770,
    "source_hash": "276ef1c0"
   },
   "outputs": [],
   "source": [
    "#baseline prediction: the most prevalent class in training dataset(the mode)\n",
    "train.alleged_threat_lvl.value_counts()"
   ]
  },
  {
   "cell_type": "code",
   "execution_count": 28,
   "metadata": {
    "cell_id": "00053-b597aef8-0187-4647-8062-2a4a2b9d8b68",
    "deepnote_cell_type": "code",
    "deepnote_to_be_reexecuted": false,
    "execution_millis": 9,
    "execution_start": 1622252494771,
    "source_hash": "ce3bb3a3"
   },
   "outputs": [
    {
     "name": "stdout",
     "output_type": "stream",
     "text": [
      "baseline accuracy:  0.6773\n"
     ]
    }
   ],
   "source": [
    "#baseline model would be to predict 0 since it is most prevalant\n",
    "#baseline accuracy:\n",
    "baseline_accuracy = (train.alleged_threat_lvl == 1).mean()\n",
    "\n",
    "print(f'baseline accuracy: {baseline_accuracy: .4}')"
   ]
  },
  {
   "cell_type": "markdown",
   "metadata": {
    "cell_id": "00054-4ba1f94c-8065-437e-97bb-6817e41e016f",
    "deepnote_cell_type": "markdown"
   },
   "source": [
    "\n",
    "___\n",
    "## • Model on Train"
   ]
  },
  {
   "cell_type": "markdown",
   "metadata": {
    "cell_id": "00055-be7727ea-3799-4723-bc72-2d95dddbc2e7",
    "deepnote_cell_type": "markdown"
   },
   "source": [
    "### Decision Tree"
   ]
  },
  {
   "cell_type": "code",
   "execution_count": 29,
   "metadata": {
    "cell_id": "00056-58b5e603-2c3a-48f5-89aa-08a017d94f6a",
    "deepnote_cell_type": "code",
    "deepnote_to_be_reexecuted": false,
    "execution_millis": 10,
    "execution_start": 1622252494870,
    "source_hash": "7a2ba196",
    "tags": []
   },
   "outputs": [
    {
     "name": "stdout",
     "output_type": "stream",
     "text": [
      "Baseline is 0.6773\n",
      "----------------\n",
      "Accuracy of Decision Tree classifier on combo_feats (max_depth = 3): 0.6927\n"
     ]
    }
   ],
   "source": [
    "#create Decision Tree model (specifying max_depth argument and combo_feats)\n",
    "dt = DecisionTreeClassifier(max_depth=3, random_state=123)\n",
    "\n",
    "#fit model on combo_feats\n",
    "dt.fit(X_train[combo_feats], y_train)\n",
    "\n",
    "#get predictions from model\n",
    "y_pred = dt.predict(X_train[combo_feats])\n",
    "\n",
    "#compute accuracy\n",
    "dt_train_acc = round(dt.score(X_train[combo_feats], y_train), 4)\n",
    "\n",
    "#compare to baseline\n",
    "print(\"Baseline is\", round(baseline_accuracy, 4))\n",
    "print(\"----------------\")\n",
    "print('Accuracy of Decision Tree classifier on combo_feats (max_depth = 3): {:.4f}'\n",
    "     .format(dt.score(X_train[combo_feats], y_train)))"
   ]
  },
  {
   "cell_type": "markdown",
   "metadata": {
    "cell_id": "00057-7812b041-a826-444e-99ca-8ee87c9b4a38",
    "deepnote_cell_type": "markdown",
    "tags": []
   },
   "source": [
    "### Random Forest"
   ]
  },
  {
   "cell_type": "code",
   "execution_count": 30,
   "metadata": {
    "cell_id": "00058-f9a76185-57c9-424c-9b89-c72528cdf505",
    "deepnote_cell_type": "code",
    "deepnote_to_be_reexecuted": false,
    "execution_millis": 473,
    "execution_start": 1622252494871,
    "source_hash": "ea36678",
    "tags": []
   },
   "outputs": [
    {
     "name": "stdout",
     "output_type": "stream",
     "text": [
      "Baseline is 0.6773\n",
      "----------------\n",
      "Accuracy of Random Forest classifier on combo_feats (max_depth = 5, min_samples_leaf = 3): 0.6936\n"
     ]
    }
   ],
   "source": [
    "#create Random Forest model (specifying max_depth/min_samples_leaf arguments and combo_feats)\n",
    "rf = RandomForestClassifier(max_depth=5, min_samples_leaf=3, random_state=123)\n",
    "\n",
    "#fit model on combo_feats\n",
    "rf.fit(X_train[combo_feats], y_train)\n",
    "\n",
    "#get predictions from model\n",
    "y_pred = rf.predict(X_train[combo_feats])\n",
    "\n",
    "#compute accuracy\n",
    "rf_train_acc = round(rf.score(X_train[combo_feats], y_train), 4)\n",
    "\n",
    "#compare to baseline\n",
    "print(\"Baseline is\", round(baseline_accuracy, 4))\n",
    "print(\"----------------\")\n",
    "print('Accuracy of Random Forest classifier on combo_feats (max_depth = 5, min_samples_leaf = 3): {:.4f}'\n",
    "     .format(rf.score(X_train[combo_feats], y_train)))"
   ]
  },
  {
   "cell_type": "markdown",
   "metadata": {
    "cell_id": "00059-fcb8561c-31e4-4145-af92-6ff8c07e4596",
    "deepnote_cell_type": "markdown",
    "tags": []
   },
   "source": [
    "### K-Nearest Neighbor (KNN)"
   ]
  },
  {
   "cell_type": "code",
   "execution_count": 31,
   "metadata": {
    "cell_id": "00060-172dbb9b-eb81-488d-a141-b1a955ff8239",
    "deepnote_cell_type": "code",
    "deepnote_to_be_reexecuted": false,
    "execution_millis": 1738,
    "execution_start": 1622252495305,
    "source_hash": "1a11e850",
    "tags": []
   },
   "outputs": [
    {
     "name": "stdout",
     "output_type": "stream",
     "text": [
      "Baseline is 0.68\n",
      "----------------\n",
      "Accuracy of KNN classifier on combo_feats (n_neighbors = 20): 0.692417\n"
     ]
    }
   ],
   "source": [
    "#create KNN model (specifying n_neighbors argument and combo_feats)\n",
    "knn = KNeighborsClassifier(n_neighbors=20)\n",
    "\n",
    "#fit model on combo_feats\n",
    "knn.fit(X_train[combo_feats], y_train)\n",
    "\n",
    "#get predictions from model\n",
    "y_pred = knn.predict(X_train[combo_feats])\n",
    "\n",
    "#compute accuracy\n",
    "knn_train_acc = round(knn.score(X_train[combo_feats], y_train), 4)\n",
    "\n",
    "#compare to baseline\n",
    "print(\"Baseline is\", round(baseline_accuracy, 2))\n",
    "print(\"----------------\")\n",
    "print('Accuracy of KNN classifier on combo_feats (n_neighbors = 20): {:4f}'\n",
    "     .format(knn.score(X_train[combo_feats], y_train)))"
   ]
  },
  {
   "cell_type": "markdown",
   "metadata": {
    "cell_id": "00061-cfb3f443-793e-46c0-a763-1e4587da096e",
    "deepnote_cell_type": "markdown",
    "tags": []
   },
   "source": [
    "### Logistic Regression"
   ]
  },
  {
   "cell_type": "code",
   "execution_count": 32,
   "metadata": {
    "cell_id": "00062-0181e8be-8c50-4743-b213-189706cf728f",
    "deepnote_cell_type": "code",
    "deepnote_to_be_reexecuted": false,
    "execution_millis": 303,
    "execution_start": 1622252497052,
    "source_hash": "96cd3704",
    "tags": []
   },
   "outputs": [
    {
     "name": "stdout",
     "output_type": "stream",
     "text": [
      "Baseline is 0.6773\n",
      "----------------\n",
      "Accuracy of Logistic Regression classifier on combo_feats (default parameters): 0.6893\n"
     ]
    }
   ],
   "source": [
    "#create Logistic Regression model (default parameters, specifying combo_feats)\n",
    "logit = LogisticRegression(random_state=123)\n",
    "\n",
    "#fit model on combo_feats\n",
    "logit.fit(X_train[combo_feats], y_train)\n",
    "\n",
    "#get predictions from model\n",
    "y_pred = logit.predict(X_train[combo_feats])\n",
    "\n",
    "#compute accuracy\n",
    "logit_train_acc = round(logit.score(X_train[combo_feats], y_train), 4)\n",
    "\n",
    "#compare to baseline\n",
    "print(\"Baseline is\", round(baseline_accuracy, 4))\n",
    "print(\"----------------\")\n",
    "print('Accuracy of Logistic Regression classifier on combo_feats (default parameters): {:.4f}'\n",
    "     .format(logit.score(X_train[combo_feats], y_train)))"
   ]
  },
  {
   "cell_type": "markdown",
   "metadata": {
    "cell_id": "00063-6a07437e-2f33-4f66-b5dc-04f14ffeda18",
    "deepnote_cell_type": "markdown",
    "tags": []
   },
   "source": [
    "### Takeways:\n",
    "- **Decision Tree** model (dt) specifying max_depth argument of 3 and using combo_feats:\n",
    "    - Score of 71% accuracy\n",
    "    \n",
    "    \n",
    "    \n",
    "- **Random Forest** model (rf) specifying max_depth argument of 5, min_samples_leaf argument of 3 and using combo_feats:\n",
    "    - Score of 72% accuracy\n",
    "    \n",
    "    \n",
    "    \n",
    "- **K-Nearest Neighbor** model (knn) specifying n_neighbors argument of 20 and using combo_feats:\n",
    "    - Score of 70% accuracy\n",
    "    \n",
    "    \n",
    "    \n",
    "- **Logistic Regression** model (logit) using default parameters and combo_feats:\n",
    "    - Score of 70% accuracy\n",
    "\n",
    "Next, compare scores to validate (out-of-sample data)."
   ]
  },
  {
   "cell_type": "markdown",
   "metadata": {
    "cell_id": "00064-cefb3abb-cb07-4c37-bd09-d992e34cd265",
    "deepnote_cell_type": "markdown"
   },
   "source": [
    "\n",
    "___\n",
    "## • Model on Validate"
   ]
  },
  {
   "cell_type": "code",
   "execution_count": 33,
   "metadata": {
    "cell_id": "00065-d6503237-f492-458e-8b25-c37b20e42ca7",
    "deepnote_cell_type": "code",
    "deepnote_to_be_reexecuted": false,
    "execution_millis": 102,
    "execution_start": 1622252497351,
    "source_hash": "37a4cb55",
    "tags": []
   },
   "outputs": [
    {
     "name": "stdout",
     "output_type": "stream",
     "text": [
      "Accuracy of Decision Tree classifier on train set: 0.6927\n",
      "--------------------------------------------------------------\n",
      "Decision Tree classifier on validate set:\n",
      "              precision    recall  f1-score   support\n",
      "\n",
      "         0.0       0.55      0.17      0.26       486\n",
      "         1.0       0.70      0.94      0.80      1018\n",
      "\n",
      "    accuracy                           0.69      1504\n",
      "   macro avg       0.63      0.55      0.53      1504\n",
      "weighted avg       0.65      0.69      0.63      1504\n",
      "\n"
     ]
    }
   ],
   "source": [
    "#dt's metrics on validate\n",
    "\n",
    "#evaluate on validate sample\n",
    "y_pred = dt.predict(X_validate[combo_feats])\n",
    "\n",
    "#compute accuracy\n",
    "dt_val_acc = round(dt.score(X_validate[combo_feats], y_validate), 4)\n",
    "\n",
    "#compare train to validate\n",
    "print('Accuracy of Decision Tree classifier on train set: {:.4f}'\n",
    "     .format(dt.score(X_train[combo_feats], y_train)))\n",
    "print(\"--------------------------------------------------------------\")\n",
    "print(\"Decision Tree classifier on validate set:\")\n",
    "print(classification_report(y_validate, y_pred))"
   ]
  },
  {
   "cell_type": "code",
   "execution_count": 34,
   "metadata": {
    "cell_id": "00066-5bf183f3-52d0-46cb-94ad-d775e616b470",
    "deepnote_cell_type": "code",
    "deepnote_to_be_reexecuted": false,
    "execution_millis": 202,
    "execution_start": 1622252497448,
    "source_hash": "88ecc93c",
    "tags": []
   },
   "outputs": [
    {
     "name": "stdout",
     "output_type": "stream",
     "text": [
      "Accuracy of Random Forest classifier on train set: 0.6936\n",
      "--------------------------------------------------------------\n",
      "Random Forest classifier on validate set:\n",
      "              precision    recall  f1-score   support\n",
      "\n",
      "         0.0       0.68      0.04      0.08       486\n",
      "         1.0       0.68      0.99      0.81      1018\n",
      "\n",
      "    accuracy                           0.68      1504\n",
      "   macro avg       0.68      0.52      0.45      1504\n",
      "weighted avg       0.68      0.68      0.57      1504\n",
      "\n"
     ]
    }
   ],
   "source": [
    "#rf's metrics on validate\n",
    "\n",
    "#evaluate on validate sample\n",
    "y_pred = rf.predict(X_validate[combo_feats])\n",
    "\n",
    "#compute accuracy\n",
    "rf_val_acc = round(rf.score(X_validate[combo_feats], y_validate), 4)\n",
    "\n",
    "#compare train to validate\n",
    "print('Accuracy of Random Forest classifier on train set: {:.4f}'\n",
    "     .format(rf.score(X_train[combo_feats], y_train)))\n",
    "print(\"--------------------------------------------------------------\")\n",
    "print(\"Random Forest classifier on validate set:\")\n",
    "print(classification_report(y_validate, y_pred))"
   ]
  },
  {
   "cell_type": "code",
   "execution_count": 35,
   "metadata": {
    "cell_id": "00067-80dba047-afbc-444a-8d48-94045eb8bcd3",
    "deepnote_cell_type": "code",
    "deepnote_to_be_reexecuted": false,
    "execution_millis": 1221,
    "execution_start": 1622252497656,
    "source_hash": "60fdbfcd",
    "tags": []
   },
   "outputs": [
    {
     "name": "stdout",
     "output_type": "stream",
     "text": [
      "Accuracy of KNN classifier on train set: 0.6924\n",
      "--------------------------------------------------------------\n",
      "KNN classifier on validate set:\n",
      "              precision    recall  f1-score   support\n",
      "\n",
      "         0.0       0.41      0.08      0.13       486\n",
      "         1.0       0.68      0.95      0.79      1018\n",
      "\n",
      "    accuracy                           0.67      1504\n",
      "   macro avg       0.55      0.51      0.46      1504\n",
      "weighted avg       0.59      0.67      0.58      1504\n",
      "\n"
     ]
    }
   ],
   "source": [
    "#knn's metrics on validate\n",
    "\n",
    "#evaluate on validate sample\n",
    "y_pred = knn.predict(X_validate[combo_feats])\n",
    "\n",
    "#compute accuracy\n",
    "knn_val_acc = round(knn.score(X_validate[combo_feats], y_validate), 4)\n",
    "\n",
    "#compare train to validate\n",
    "print('Accuracy of KNN classifier on train set: {:.4f}'\n",
    "     .format(knn.score(X_train[combo_feats], y_train)))\n",
    "print(\"--------------------------------------------------------------\")\n",
    "print(\"KNN classifier on validate set:\")\n",
    "print(classification_report(y_validate, y_pred))"
   ]
  },
  {
   "cell_type": "code",
   "execution_count": 36,
   "metadata": {
    "cell_id": "00068-7c9b1c1f-275e-45d5-bc2a-26148203d8ff",
    "deepnote_cell_type": "code",
    "deepnote_to_be_reexecuted": false,
    "execution_millis": 16,
    "execution_start": 1622252498889,
    "source_hash": "ae1971ef"
   },
   "outputs": [],
   "source": [
    "#logit's metrics on validate\n",
    "\n",
    "#evaluate on validate sample\n",
    "y_pred = logit.predict(X_validate[combo_feats])\n",
    "\n",
    "#compute accuracy\n",
    "logit_val_acc = round(logit.score(X_validate[combo_feats], y_validate), 4)\n",
    "\n",
    "#compare train to validate\n",
    "print('Accuracy of Logistic Regression classifier on train set: {:.4f}'\n",
    "     .format(logit.score(X_train[combo_feats], y_train)))\n",
    "print(\"--------------------------------------------------------------\")\n",
    "print(\"Logistic Regression classifier on validate set:\")\n",
    "print(classification_report(y_validate, y_pred))"
   ]
  },
  {
   "cell_type": "code",
   "execution_count": 37,
   "metadata": {
    "cell_id": "00069-51cc46e6-4833-404c-ad4b-bdd8cf62cce3",
    "deepnote_cell_type": "code",
    "deepnote_to_be_reexecuted": false,
    "execution_millis": 8,
    "execution_start": 1622252499033,
    "source_hash": "f5565531"
   },
   "outputs": [
    {
     "data": {
      "application/vnd.deepnote.dataframe.v2+json": {
       "column_count": 4,
       "columns": [
        {
         "dtype": "object",
         "name": "Model",
         "stats": {
          "categories": [
           {
            "count": 1,
            "name": "Decision Tree"
           },
           {
            "count": 1,
            "name": "Random Forest"
           },
           {
            "count": 2,
            "name": "2 others"
           }
          ],
          "nan_count": 0,
          "unique_count": 4
         }
        },
        {
         "dtype": "float64",
         "name": "Baseline",
         "stats": {
          "histogram": [
           {
            "bin_end": 0.2773,
            "bin_start": 0.1773,
            "count": 0
           },
           {
            "bin_end": 0.3773,
            "bin_start": 0.2773,
            "count": 0
           },
           {
            "bin_end": 0.47730000000000006,
            "bin_start": 0.3773,
            "count": 0
           },
           {
            "bin_end": 0.5773,
            "bin_start": 0.47730000000000006,
            "count": 0
           },
           {
            "bin_end": 0.6773,
            "bin_start": 0.5773,
            "count": 0
           },
           {
            "bin_end": 0.7773000000000001,
            "bin_start": 0.6773,
            "count": 4
           },
           {
            "bin_end": 0.8773000000000001,
            "bin_start": 0.7773000000000001,
            "count": 0
           },
           {
            "bin_end": 0.9773000000000001,
            "bin_start": 0.8773000000000001,
            "count": 0
           },
           {
            "bin_end": 1.0773000000000001,
            "bin_start": 0.9773000000000001,
            "count": 0
           },
           {
            "bin_end": 1.1773,
            "bin_start": 1.0773000000000001,
            "count": 0
           }
          ],
          "max": "0.6773",
          "min": "0.6773",
          "nan_count": 0,
          "unique_count": 1
         }
        },
        {
         "dtype": "float64",
         "name": "Train Accuracy",
         "stats": {
          "histogram": [
           {
            "bin_end": 0.6897300000000001,
            "bin_start": 0.6893,
            "count": 1
           },
           {
            "bin_end": 0.69016,
            "bin_start": 0.6897300000000001,
            "count": 0
           },
           {
            "bin_end": 0.69059,
            "bin_start": 0.69016,
            "count": 0
           },
           {
            "bin_end": 0.69102,
            "bin_start": 0.69059,
            "count": 0
           },
           {
            "bin_end": 0.69145,
            "bin_start": 0.69102,
            "count": 0
           },
           {
            "bin_end": 0.69188,
            "bin_start": 0.69145,
            "count": 0
           },
           {
            "bin_end": 0.69231,
            "bin_start": 0.69188,
            "count": 0
           },
           {
            "bin_end": 0.69274,
            "bin_start": 0.69231,
            "count": 2
           },
           {
            "bin_end": 0.69317,
            "bin_start": 0.69274,
            "count": 0
           },
           {
            "bin_end": 0.6936,
            "bin_start": 0.69317,
            "count": 1
           }
          ],
          "max": "0.6936",
          "min": "0.6893",
          "nan_count": 0,
          "unique_count": 4
         }
        },
        {
         "dtype": "float64",
         "name": "Validate Accuracy",
         "stats": {
          "histogram": [
           {
            "bin_end": 0.66806,
            "bin_start": 0.6656,
            "count": 1
           },
           {
            "bin_end": 0.67052,
            "bin_start": 0.66806,
            "count": 0
           },
           {
            "bin_end": 0.67298,
            "bin_start": 0.67052,
            "count": 0
           },
           {
            "bin_end": 0.67544,
            "bin_start": 0.67298,
            "count": 0
           },
           {
            "bin_end": 0.6779,
            "bin_start": 0.67544,
            "count": 0
           },
           {
            "bin_end": 0.68036,
            "bin_start": 0.6779,
            "count": 0
           },
           {
            "bin_end": 0.68282,
            "bin_start": 0.68036,
            "count": 0
           },
           {
            "bin_end": 0.68528,
            "bin_start": 0.68282,
            "count": 1
           },
           {
            "bin_end": 0.68774,
            "bin_start": 0.68528,
            "count": 1
           },
           {
            "bin_end": 0.6902,
            "bin_start": 0.68774,
            "count": 1
           }
          ],
          "max": "0.6902",
          "min": "0.6656",
          "nan_count": 0,
          "unique_count": 4
         }
        },
        {
         "dtype": "int64",
         "name": "_deepnote_index_column"
        }
       ],
       "row_count": 4,
       "rows_bottom": null,
       "rows_top": [
        {
         "Baseline": 0.6773,
         "Model": "Decision Tree",
         "Train Accuracy": 0.6927,
         "Validate Accuracy": 0.6875,
         "_deepnote_index_column": 0
        },
        {
         "Baseline": 0.6773,
         "Model": "Random Forest",
         "Train Accuracy": 0.6936,
         "Validate Accuracy": 0.6842,
         "_deepnote_index_column": 1
        },
        {
         "Baseline": 0.6773,
         "Model": "K-Nearest Neighbor",
         "Train Accuracy": 0.6924,
         "Validate Accuracy": 0.6656,
         "_deepnote_index_column": 2
        },
        {
         "Baseline": 0.6773,
         "Model": "Logistic Regression",
         "Train Accuracy": 0.6893,
         "Validate Accuracy": 0.6902,
         "_deepnote_index_column": 3
        }
       ]
      },
      "text/html": [
       "<div>\n",
       "<style scoped>\n",
       "    .dataframe tbody tr th:only-of-type {\n",
       "        vertical-align: middle;\n",
       "    }\n",
       "\n",
       "    .dataframe tbody tr th {\n",
       "        vertical-align: top;\n",
       "    }\n",
       "\n",
       "    .dataframe thead th {\n",
       "        text-align: right;\n",
       "    }\n",
       "</style>\n",
       "<table border=\"1\" class=\"dataframe\">\n",
       "  <thead>\n",
       "    <tr style=\"text-align: right;\">\n",
       "      <th></th>\n",
       "      <th>Model</th>\n",
       "      <th>Baseline</th>\n",
       "      <th>Train Accuracy</th>\n",
       "      <th>Validate Accuracy</th>\n",
       "    </tr>\n",
       "  </thead>\n",
       "  <tbody>\n",
       "    <tr>\n",
       "      <th>0</th>\n",
       "      <td>Decision Tree</td>\n",
       "      <td>0.6773</td>\n",
       "      <td>0.6927</td>\n",
       "      <td>0.6875</td>\n",
       "    </tr>\n",
       "    <tr>\n",
       "      <th>1</th>\n",
       "      <td>Random Forest</td>\n",
       "      <td>0.6773</td>\n",
       "      <td>0.6936</td>\n",
       "      <td>0.6842</td>\n",
       "    </tr>\n",
       "    <tr>\n",
       "      <th>2</th>\n",
       "      <td>K-Nearest Neighbor</td>\n",
       "      <td>0.6773</td>\n",
       "      <td>0.6924</td>\n",
       "      <td>0.6656</td>\n",
       "    </tr>\n",
       "    <tr>\n",
       "      <th>3</th>\n",
       "      <td>Logistic Regression</td>\n",
       "      <td>0.6773</td>\n",
       "      <td>0.6893</td>\n",
       "      <td>0.6902</td>\n",
       "    </tr>\n",
       "  </tbody>\n",
       "</table>\n",
       "</div>"
      ],
      "text/plain": [
       "                 Model  Baseline  Train Accuracy  Validate Accuracy\n",
       "0        Decision Tree    0.6773          0.6927             0.6875\n",
       "1        Random Forest    0.6773          0.6936             0.6842\n",
       "2   K-Nearest Neighbor    0.6773          0.6924             0.6656\n",
       "3  Logistic Regression    0.6773          0.6893             0.6902"
      ]
     },
     "execution_count": 37,
     "metadata": {},
     "output_type": "execute_result"
    }
   ],
   "source": [
    "# Build dataframe to record accuracy (starting with decision tree)\n",
    "metric_df = pd.DataFrame(data=[{\n",
    "    'Model': 'Decision Tree', \n",
    "    'Baseline': round(baseline_accuracy, 4),\n",
    "    'Train Accuracy': round(dt_train_acc, 4),\n",
    "    'Validate Accuracy': round(dt_val_acc, 4)}])\n",
    "\n",
    "# append dataframe to record accuracy on random forest\n",
    "metric_df = metric_df.append({\n",
    "    'Model': 'Random Forest', \n",
    "    'Baseline': round(baseline_accuracy, 4),\n",
    "    'Train Accuracy': round(rf_train_acc, 4),\n",
    "    'Validate Accuracy':round(rf_val_acc, 4)}, ignore_index=True)\n",
    "\n",
    "# append dataframe to record accuracy on knn\n",
    "metric_df = metric_df.append({\n",
    "    'Model': 'K-Nearest Neighbor', \n",
    "    'Baseline': round(baseline_accuracy, 4),\n",
    "    'Train Accuracy': round(knn_train_acc, 4),\n",
    "    'Validate Accuracy':round(knn_val_acc, 4)}, ignore_index=True)\n",
    "\n",
    "# append dataframe to record accuracy on logistic regression\n",
    "metric_df = metric_df.append({\n",
    "    'Model': 'Logistic Regression', \n",
    "    'Baseline': round(baseline_accuracy, 4),\n",
    "    'Train Accuracy': round(logit_train_acc, 4),\n",
    "    'Validate Accuracy':round(logit_val_acc, 4)}, ignore_index=True)\n",
    "\n",
    "\n",
    "metric_df"
   ]
  },
  {
   "cell_type": "code",
   "execution_count": 38,
   "metadata": {
    "cell_id": "00070-1d267832-89e4-4c32-a171-5252a56e134a",
    "deepnote_cell_type": "code",
    "deepnote_to_be_reexecuted": false,
    "execution_millis": 41,
    "execution_start": 1622252499054,
    "source_hash": "1670c0b5",
    "tags": []
   },
   "outputs": [
    {
     "data": {
      "application/vnd.deepnote.dataframe.v2+json": {
       "column_count": 4,
       "columns": [
        {
         "dtype": "object",
         "name": "Model",
         "stats": {
          "categories": [
           {
            "count": 1,
            "name": "Decision Tree"
           },
           {
            "count": 1,
            "name": "Random Forest"
           },
           {
            "count": 2,
            "name": "2 others"
           }
          ],
          "nan_count": 0,
          "unique_count": 4
         }
        },
        {
         "dtype": "float64",
         "name": "Baseline",
         "stats": {
          "histogram": [
           {
            "bin_end": 0.2773,
            "bin_start": 0.1773,
            "count": 0
           },
           {
            "bin_end": 0.3773,
            "bin_start": 0.2773,
            "count": 0
           },
           {
            "bin_end": 0.47730000000000006,
            "bin_start": 0.3773,
            "count": 0
           },
           {
            "bin_end": 0.5773,
            "bin_start": 0.47730000000000006,
            "count": 0
           },
           {
            "bin_end": 0.6773,
            "bin_start": 0.5773,
            "count": 0
           },
           {
            "bin_end": 0.7773000000000001,
            "bin_start": 0.6773,
            "count": 4
           },
           {
            "bin_end": 0.8773000000000001,
            "bin_start": 0.7773000000000001,
            "count": 0
           },
           {
            "bin_end": 0.9773000000000001,
            "bin_start": 0.8773000000000001,
            "count": 0
           },
           {
            "bin_end": 1.0773000000000001,
            "bin_start": 0.9773000000000001,
            "count": 0
           },
           {
            "bin_end": 1.1773,
            "bin_start": 1.0773000000000001,
            "count": 0
           }
          ],
          "max": "0.6773",
          "min": "0.6773",
          "nan_count": 0,
          "unique_count": 1
         }
        },
        {
         "dtype": "float64",
         "name": "Train Accuracy",
         "stats": {
          "histogram": [
           {
            "bin_end": 0.6897300000000001,
            "bin_start": 0.6893,
            "count": 1
           },
           {
            "bin_end": 0.69016,
            "bin_start": 0.6897300000000001,
            "count": 0
           },
           {
            "bin_end": 0.69059,
            "bin_start": 0.69016,
            "count": 0
           },
           {
            "bin_end": 0.69102,
            "bin_start": 0.69059,
            "count": 0
           },
           {
            "bin_end": 0.69145,
            "bin_start": 0.69102,
            "count": 0
           },
           {
            "bin_end": 0.69188,
            "bin_start": 0.69145,
            "count": 0
           },
           {
            "bin_end": 0.69231,
            "bin_start": 0.69188,
            "count": 0
           },
           {
            "bin_end": 0.69274,
            "bin_start": 0.69231,
            "count": 2
           },
           {
            "bin_end": 0.69317,
            "bin_start": 0.69274,
            "count": 0
           },
           {
            "bin_end": 0.6936,
            "bin_start": 0.69317,
            "count": 1
           }
          ],
          "max": "0.6936",
          "min": "0.6893",
          "nan_count": 0,
          "unique_count": 4
         }
        },
        {
         "dtype": "float64",
         "name": "Validate Accuracy",
         "stats": {
          "histogram": [
           {
            "bin_end": 0.66806,
            "bin_start": 0.6656,
            "count": 1
           },
           {
            "bin_end": 0.67052,
            "bin_start": 0.66806,
            "count": 0
           },
           {
            "bin_end": 0.67298,
            "bin_start": 0.67052,
            "count": 0
           },
           {
            "bin_end": 0.67544,
            "bin_start": 0.67298,
            "count": 0
           },
           {
            "bin_end": 0.6779,
            "bin_start": 0.67544,
            "count": 0
           },
           {
            "bin_end": 0.68036,
            "bin_start": 0.6779,
            "count": 0
           },
           {
            "bin_end": 0.68282,
            "bin_start": 0.68036,
            "count": 0
           },
           {
            "bin_end": 0.68528,
            "bin_start": 0.68282,
            "count": 1
           },
           {
            "bin_end": 0.68774,
            "bin_start": 0.68528,
            "count": 1
           },
           {
            "bin_end": 0.6902,
            "bin_start": 0.68774,
            "count": 1
           }
          ],
          "max": "0.6902",
          "min": "0.6656",
          "nan_count": 0,
          "unique_count": 4
         }
        },
        {
         "dtype": "int64",
         "name": "_deepnote_index_column"
        }
       ],
       "row_count": 4,
       "rows_bottom": null,
       "rows_top": [
        {
         "Baseline": 0.6773,
         "Model": "Decision Tree",
         "Train Accuracy": 0.6927,
         "Validate Accuracy": 0.6875,
         "_deepnote_index_column": 0
        },
        {
         "Baseline": 0.6773,
         "Model": "Random Forest",
         "Train Accuracy": 0.6936,
         "Validate Accuracy": 0.6842,
         "_deepnote_index_column": 1
        },
        {
         "Baseline": 0.6773,
         "Model": "K-Nearest Neighbor",
         "Train Accuracy": 0.6924,
         "Validate Accuracy": 0.6656,
         "_deepnote_index_column": 2
        },
        {
         "Baseline": 0.6773,
         "Model": "Logistic Regression",
         "Train Accuracy": 0.6893,
         "Validate Accuracy": 0.6902,
         "_deepnote_index_column": 3
        }
       ]
      },
      "text/html": [
       "<div>\n",
       "<style scoped>\n",
       "    .dataframe tbody tr th:only-of-type {\n",
       "        vertical-align: middle;\n",
       "    }\n",
       "\n",
       "    .dataframe tbody tr th {\n",
       "        vertical-align: top;\n",
       "    }\n",
       "\n",
       "    .dataframe thead th {\n",
       "        text-align: right;\n",
       "    }\n",
       "</style>\n",
       "<table border=\"1\" class=\"dataframe\">\n",
       "  <thead>\n",
       "    <tr style=\"text-align: right;\">\n",
       "      <th></th>\n",
       "      <th>Model</th>\n",
       "      <th>Baseline</th>\n",
       "      <th>Train Accuracy</th>\n",
       "      <th>Validate Accuracy</th>\n",
       "    </tr>\n",
       "  </thead>\n",
       "  <tbody>\n",
       "    <tr>\n",
       "      <th>0</th>\n",
       "      <td>Decision Tree</td>\n",
       "      <td>0.6773</td>\n",
       "      <td>0.6927</td>\n",
       "      <td>0.6875</td>\n",
       "    </tr>\n",
       "    <tr>\n",
       "      <th>1</th>\n",
       "      <td>Random Forest</td>\n",
       "      <td>0.6773</td>\n",
       "      <td>0.6936</td>\n",
       "      <td>0.6842</td>\n",
       "    </tr>\n",
       "    <tr>\n",
       "      <th>2</th>\n",
       "      <td>K-Nearest Neighbor</td>\n",
       "      <td>0.6773</td>\n",
       "      <td>0.6924</td>\n",
       "      <td>0.6656</td>\n",
       "    </tr>\n",
       "    <tr>\n",
       "      <th>3</th>\n",
       "      <td>Logistic Regression</td>\n",
       "      <td>0.6773</td>\n",
       "      <td>0.6893</td>\n",
       "      <td>0.6902</td>\n",
       "    </tr>\n",
       "  </tbody>\n",
       "</table>\n",
       "</div>"
      ],
      "text/plain": [
       "                 Model  Baseline  Train Accuracy  Validate Accuracy\n",
       "0        Decision Tree    0.6773          0.6927             0.6875\n",
       "1        Random Forest    0.6773          0.6936             0.6842\n",
       "2   K-Nearest Neighbor    0.6773          0.6924             0.6656\n",
       "3  Logistic Regression    0.6773          0.6893             0.6902"
      ]
     },
     "execution_count": 38,
     "metadata": {},
     "output_type": "execute_result"
    }
   ],
   "source": [
    "4# Build dataframe to record accuracy (starting with decision tree)\n",
    "metric_df = pd.DataFrame(data=[{\n",
    "    'Model': 'Decision Tree', \n",
    "    'Baseline': round(baseline_accuracy, 4),\n",
    "    'Train Accuracy': round(dt_train_acc, 4),\n",
    "    'Validate Accuracy': round(dt_val_acc, 4)}])\n",
    "\n",
    "# append dataframe to record accuracy on random forest\n",
    "metric_df = metric_df.append({\n",
    "    'Model': 'Random Forest', \n",
    "    'Baseline': round(baseline_accuracy, 4),\n",
    "    'Train Accuracy': round(rf_train_acc, 4),\n",
    "    'Validate Accuracy':round(rf_val_acc, 4)}, ignore_index=True)\n",
    "\n",
    "# append dataframe to record accuracy on knn\n",
    "metric_df = metric_df.append({\n",
    "    'Model': 'K-Nearest Neighbor', \n",
    "    'Baseline': round(baseline_accuracy, 4),\n",
    "    'Train Accuracy': round(knn_train_acc, 4),\n",
    "    'Validate Accuracy':round(knn_val_acc, 4)}, ignore_index=True)\n",
    "\n",
    "# append dataframe to record accuracy on logistic regression\n",
    "metric_df = metric_df.append({\n",
    "    'Model': 'Logistic Regression', \n",
    "    'Baseline': round(baseline_accuracy, 4),\n",
    "    'Train Accuracy': round(logit_train_acc,4),\n",
    "    'Validate Accuracy':round(logit_val_acc, 4)}, ignore_index=True)\n",
    "\n",
    "\n",
    "metric_df"
   ]
  },
  {
   "cell_type": "markdown",
   "metadata": {
    "cell_id": "00071-0156f621-dcb1-402b-bd2f-ff8272b2e697",
    "deepnote_cell_type": "markdown",
    "tags": []
   },
   "source": [
    "### Takeaways\n",
    "\n",
    "**Random Forest** is the best-performing model and will be evaluated on test data.\n"
   ]
  },
  {
   "cell_type": "markdown",
   "metadata": {
    "cell_id": "00072-ab31f6d0-f108-40d7-ae0d-4ba196e1f206",
    "deepnote_cell_type": "markdown"
   },
   "source": [
    "\n",
    "___\n",
    "## • Model on Test"
   ]
  },
  {
   "cell_type": "code",
   "execution_count": 39,
   "metadata": {
    "cell_id": "00073-831b7109-4304-446b-b292-5a353fafd61e",
    "deepnote_cell_type": "code",
    "deepnote_to_be_reexecuted": false,
    "execution_millis": 1,
    "execution_start": 1622252499134,
    "source_hash": "d85efdea"
   },
   "outputs": [],
   "source": [
    "##evaluate on test sample \n",
    "#y_pred_test = rf.predict(X_test[combo_feats])\n",
    "#\n",
    "##compute accuracy\n",
    "#rf_test_acc = round(rf.score(X_test[combo_feats], y_test), 4)\n",
    "#\n",
    "#print(\"Random Forest Model:\")\n",
    "#print(classification_report(y_test, y_pred_test))"
   ]
  },
  {
   "cell_type": "code",
   "execution_count": 40,
   "metadata": {
    "cell_id": "00074-92c7d077-3e60-4c12-8d85-46f1c6021d33",
    "deepnote_cell_type": "code",
    "deepnote_to_be_reexecuted": false,
    "execution_millis": 0,
    "execution_start": 1622252499135,
    "source_hash": "3cf1bb2c",
    "tags": []
   },
   "outputs": [],
   "source": [
    "# FEEL FREE TO DELETE\n",
    "def get_metrics(mod, X, y):\n",
    "    \"\"\"\n",
    "    get_metrics returns the baseline accuracy score \n",
    "    along with the current model's accuracy score for comparison \n",
    "    along with a table of precision/recall/f1-score/support percentages of the model\n",
    "    \"\"\"\n",
    "    baseline_accuracy = (train.alleged_threat_lvl == 1).mean()\n",
    "    y_pred = mod.predict(X)\n",
    "    accuracy = mod.score(X, y)\n",
    "    conf = confusion_matrix(y, y_pred)\n",
    "    prfs = pd.DataFrame(precision_recall_fscore_support(y, y_pred), index=['precision', 'recall', 'f1-score', 'support'])\n",
    "    \n",
    "    print(f'''\n",
    "    BASELINE accuracy is: {baseline_accuracy:.2%}\n",
    "    The accuracy for our model is: {accuracy:.5%} \n",
    "    ''')\n",
    "    return conf, prfs"
   ]
  },
  {
   "cell_type": "code",
   "execution_count": 41,
   "metadata": {
    "cell_id": "00075-7411e5c6-76a5-41a0-b740-86ad47ba2f70",
    "deepnote_cell_type": "code",
    "deepnote_to_be_reexecuted": false,
    "execution_millis": 55,
    "execution_start": 1622252499136,
    "source_hash": "78ec8788",
    "tags": []
   },
   "outputs": [
    {
     "name": "stdout",
     "output_type": "stream",
     "text": [
      "Logistic Regression Model:\n",
      "              precision    recall  f1-score   support\n",
      "\n",
      "         0.0       0.55      0.14      0.23       405\n",
      "         1.0       0.70      0.94      0.80       848\n",
      "\n",
      "    accuracy                           0.69      1253\n",
      "   macro avg       0.63      0.54      0.52      1253\n",
      "weighted avg       0.65      0.69      0.62      1253\n",
      "\n"
     ]
    }
   ],
   "source": [
    "#evaluate on test sample \n",
    "y_pred_test = logit.predict(X_test[combo_feats])\n",
    "\n",
    "#compute accuracy\n",
    "logit_test_acc = round(logit.score(X_test[combo_feats], y_test), 4)\n",
    "\n",
    "print(\"Logistic Regression Model:\")\n",
    "print(classification_report(y_test, y_pred_test))"
   ]
  },
  {
   "cell_type": "code",
   "execution_count": 42,
   "metadata": {
    "cell_id": "00076-e2c809ba-b2d8-467e-9c28-84af6e1e237c",
    "deepnote_cell_type": "code",
    "deepnote_to_be_reexecuted": false,
    "execution_millis": 64,
    "execution_start": 1622252499181,
    "source_hash": "ac9a94a",
    "tags": []
   },
   "outputs": [
    {
     "name": "stdout",
     "output_type": "stream",
     "text": [
      "\n",
      "    BASELINE accuracy is: 67.73%\n",
      "    The accuracy for our model is: 68.55547% \n",
      "    \n"
     ]
    },
    {
     "data": {
      "text/plain": [
       "(array([[ 58, 347],\n",
       "        [ 47, 801]]),\n",
       "                     0           1\n",
       " precision    0.552381    0.697735\n",
       " recall       0.143210    0.944575\n",
       " f1-score     0.227451    0.802605\n",
       " support    405.000000  848.000000)"
      ]
     },
     "execution_count": 42,
     "metadata": {},
     "output_type": "execute_result"
    }
   ],
   "source": [
    "# WANTED TO SEE MORE DECIMAL PTS\n",
    "get_metrics(logit, X_test[combo_feats], y_test)"
   ]
  },
  {
   "cell_type": "markdown",
   "metadata": {
    "cell_id": "00077-01e57b3b-6239-493a-b541-677a3fe55a58",
    "deepnote_cell_type": "markdown",
    "tags": []
   },
   "source": [
    "### What is ROC?\n",
    "\n",
    "ROC curves describe the **trade-off between the true positive rate (TPR) and false positive (FPR) rate along different probability thresholds** for a classifier. True positive rate is also known as recall and sometimes Sensitivity — it’s a measure of how well you can find the needle in a haystack.\n",
    "\n",
    "**The receiver operating characteristic (ROC) curve has become the p-value of machine learning classification** — it’s very frequently used, misused, misinterpreted, and mis-maligned.\n",
    "\n",
    "However, ROC curves (like p-values) are useful when used right. By that, I mean they are **useful when not used as a rote score**, but when they form part of a nuanced description of a model’s ability to help solve the problem at hand (e.g. in the case of minority class identification, do they perform better than a random guess or assuming all instances are in the majority class).\n",
    "\n",
    "### What is AUC?\n",
    "\n",
    "Area Under the Curve gives the rate of successful classification by the model. The AUC makes it easy to compare the ROC curve of one model to another.\n",
    "\n",
    "\n"
   ]
  },
  {
   "cell_type": "code",
   "execution_count": 43,
   "metadata": {
    "cell_id": "00078-c24427ed-1bba-420c-af97-18df774d391e",
    "deepnote_cell_type": "code",
    "deepnote_to_be_reexecuted": false,
    "execution_millis": 384,
    "execution_start": 1622252499240,
    "source_hash": "162934d9",
    "tags": []
   },
   "outputs": [
    {
     "data": {
      "image/png": "[encoded data removed]",
      "text/plain": [
       "<Figure size 720x432 with 1 Axes>"
      ]
     },
     "metadata": {
      "image/png": {
       "height": 378,
       "width": 621
      },
      "needs_background": "light"
     },
     "output_type": "display_data"
    }
   ],
   "source": [
    "from sklearn.metrics import auc, roc_curve, roc_auc_score, precision_recall_curve\n",
    "\n",
    "plt.figure(figsize=(10,6))\n",
    "\n",
    "y_pred = logit.predict_proba(X_test[combo_feats])[:,1]\n",
    "fpr, tpr, thresholds = roc_curve(y_test, y_pred)\n",
    "plt.plot(fpr, tpr, color='red', lw=2, label=f'Logistic Regression (area = %0.4f)' % auc(fpr, tpr))\n",
    "\n",
    "plt.plot([0, 1], [0, 1], color='navy', lw=2, linestyle= '-', label = 'Random Classifier')\n",
    "plt.xlim([0.0, 1.0])\n",
    "plt.ylim([0.0, 1.0])\n",
    "plt.xlabel('False Positive Rate', fontsize=13)\n",
    "plt.ylabel('True Positive Rate', fontsize=14)\n",
    "plt.title('', fontsize=17)\n",
    "plt.legend(loc='lower right', fontsize=13)\n",
    "plt.show()"
   ]
  },
  {
   "cell_type": "code",
   "execution_count": 57,
   "metadata": {
    "cell_id": "00079-29f89f12-2002-4dfe-b857-f256043b9f2e",
    "deepnote_cell_type": "code",
    "deepnote_to_be_reexecuted": false,
    "execution_millis": 26,
    "execution_start": 1622253128352,
    "source_hash": "5c52859d",
    "tags": []
   },
   "outputs": [
    {
     "data": {
      "text/plain": [
       "0.62449190542744"
      ]
     },
     "execution_count": 57,
     "metadata": {},
     "output_type": "execute_result"
    }
   ],
   "source": [
    "roc_auc_score(y_test, y_pred)"
   ]
  },
  {
   "cell_type": "code",
   "execution_count": 59,
   "metadata": {
    "cell_id": "00079-98058f5a-c59b-4082-83a0-9f60a25f4446",
    "deepnote_cell_type": "code",
    "deepnote_to_be_reexecuted": false,
    "execution_millis": 916,
    "execution_start": 1622253291616,
    "source_hash": "1bc2299e",
    "tags": []
   },
   "outputs": [
    {
     "data": {
      "image/png": "[encoded data removed]",
      "text/plain": [
       "<Figure size 576x396 with 1 Axes>"
      ]
     },
     "metadata": {
      "image/png": {
       "height": 360,
       "width": 505
      }
     },
     "output_type": "display_data"
    },
    {
     "data": {
      "text/plain": [
       "<AxesSubplot:title={'center':'ROC Curves for LogisticRegression'}, xlabel='False Positive Rate', ylabel='True Positive Rate'>"
      ]
     },
     "execution_count": 59,
     "metadata": {},
     "output_type": "execute_result"
    }
   ],
   "source": [
    "from yellowbrick.classifier import ROCAUC\n",
    "\n",
    "# Instaniate the classification model and visualizer\n",
    "visualizer = ROCAUC(LogisticRegression(), classes=[\"threat\", \"no_threat\"],\n",
    "micro=False, macro=False, per_class=False \n",
    ")\n",
    "\n",
    "visualizer.fit(X_train[combo_feats], y_train)        # Fit the training data to the visualizer\n",
    "visualizer.score(X_test[combo_feats], y_test)        # Evaluate the model on the test data\n",
    "visualizer.show() "
   ]
  },
  {
   "cell_type": "code",
   "execution_count": 45,
   "metadata": {
    "cell_id": "00079-a43e69d4-e6d4-4d7c-92e1-d2d27d4348b6",
    "deepnote_cell_type": "code",
    "deepnote_to_be_reexecuted": false,
    "execution_millis": 21,
    "execution_start": 1622252500030,
    "source_hash": "6d25118a",
    "tags": []
   },
   "outputs": [
    {
     "data": {
      "text/plain": [
       "['55-64',\n",
       " 'is_native american',\n",
       " 'mntlill_no',\n",
       " 'under 12',\n",
       " 'was_traffic_stop',\n",
       " 'body_camera',\n",
       " 'age',\n",
       " 'was_allegedly_armed',\n",
       " 'is_black',\n",
       " 'was_domestic_disturbance',\n",
       " 'was_fleeing',\n",
       " 'cod_lethal',\n",
       " 'was_mental_health_welfare_check',\n",
       " 'is_white',\n",
       " 'was_violent_crime_part_1',\n",
       " 'was_vehicle',\n",
       " 'mntlill_drug or alcohol use',\n",
       " 'is_transgender',\n",
       " 'is_female']"
      ]
     },
     "execution_count": 45,
     "metadata": {},
     "output_type": "execute_result"
    }
   ],
   "source": [
    "combo_feats\n"
   ]
  },
  {
   "cell_type": "code",
   "execution_count": 46,
   "metadata": {
    "cell_id": "00085-104ae804-9aec-41e1-94c9-26beec7b8afb",
    "deepnote_cell_type": "code",
    "deepnote_to_be_reexecuted": false,
    "execution_millis": 22,
    "execution_start": 1622252500038,
    "source_hash": "95bfc383",
    "tags": []
   },
   "outputs": [
    {
     "data": {
      "text/plain": [
       "array([ 0.00733221, -0.25064511,  0.24886715, -0.14590091,  0.18850977,\n",
       "       -0.19887589,  0.00587571,  0.85867156,  0.26382441, -0.07928682,\n",
       "        0.02365777,  0.56907119, -0.00445867,  0.31366317,  0.25630889,\n",
       "        0.42281635,  0.12316029, -0.12695661, -0.33273042])"
      ]
     },
     "execution_count": 46,
     "metadata": {},
     "output_type": "execute_result"
    }
   ],
   "source": [
    "logit.coef_[0]"
   ]
  },
  {
   "cell_type": "code",
   "execution_count": 47,
   "metadata": {
    "cell_id": "00086-67bc67a3-e6dc-412e-801d-8e51d1cf16f8",
    "deepnote_cell_type": "code",
    "deepnote_to_be_reexecuted": false,
    "execution_millis": 13,
    "execution_start": 1622252500047,
    "source_hash": "2a8c56",
    "tags": []
   },
   "outputs": [
    {
     "data": {
      "text/plain": [
       "Index(['55-64', 'is_native american', 'mntlill_no', 'under 12',\n",
       "       'was_traffic_stop', 'body_camera', 'age', 'was_allegedly_armed',\n",
       "       'is_black', 'was_domestic_disturbance', 'was_fleeing', 'cod_lethal',\n",
       "       'was_mental_health_welfare_check', 'is_white',\n",
       "       'was_violent_crime_part_1', 'was_vehicle',\n",
       "       'mntlill_drug or alcohol use', 'is_transgender', 'is_female'],\n",
       "      dtype='object')"
      ]
     },
     "execution_count": 47,
     "metadata": {},
     "output_type": "execute_result"
    }
   ],
   "source": [
    "X_train[combo_feats].columns"
   ]
  },
  {
   "cell_type": "code",
   "execution_count": 48,
   "metadata": {
    "cell_id": "00087-fb7fbd1d-d0a3-4a63-98d2-42bce5d95371",
    "deepnote_cell_type": "code",
    "deepnote_to_be_reexecuted": false,
    "execution_millis": 1,
    "execution_start": 1622252500098,
    "source_hash": "5beee98d",
    "tags": []
   },
   "outputs": [],
   "source": [
    "lr_fe_df = pd.DataFrame(logit.coef_[0], index = X_train[combo_feats].columns,\n",
    "                          columns = ['coeffs']).sort_values(by = 'coeffs', ascending = False)"
   ]
  },
  {
   "cell_type": "code",
   "execution_count": 49,
   "metadata": {
    "cell_id": "00088-06871da0-648e-49ab-9de8-85f0182b898a",
    "deepnote_cell_type": "code",
    "deepnote_to_be_reexecuted": false,
    "execution_millis": 0,
    "execution_start": 1622252500099,
    "source_hash": "41ac3212",
    "tags": []
   },
   "outputs": [],
   "source": [
    "lr_fe_df['coeffs']= round(lr_fe_df.coeffs*100, 2)"
   ]
  },
  {
   "cell_type": "code",
   "execution_count": 50,
   "metadata": {
    "cell_id": "00089-b97df1da-a31a-40aa-a08b-c7f0158eaa09",
    "deepnote_cell_type": "code",
    "deepnote_to_be_reexecuted": false,
    "execution_millis": 679,
    "execution_start": 1622252500100,
    "source_hash": "62df7479",
    "tags": []
   },
   "outputs": [
    {
     "name": "stderr",
     "output_type": "stream",
     "text": [
      "findfont: Font family ['sans-serif'] not found. Falling back to DejaVu Sans.\n",
      "findfont: Generic family 'sans-serif' not found because none of the following families were found: Arial, Liberation Sans, Bitstream Vera Sans, sans-serif\n",
      "findfont: Font family ['sans-serif'] not found. Falling back to DejaVu Sans.\n",
      "findfont: Generic family 'sans-serif' not found because none of the following families were found: Arial, Liberation Sans, Bitstream Vera Sans, sans-serif\n"
     ]
    },
    {
     "data": {
      "image/png": "[encoded data removed]",
      "text/plain": [
       "<Figure size 2160x1440 with 1 Axes>"
      ]
     },
     "metadata": {
      "image/png": {
       "height": 1189,
       "width": 1900
      }
     },
     "output_type": "display_data"
    }
   ],
   "source": [
    "plt.figure(figsize=(30, 20))\n",
    "sns.barplot(data=lr_fe_df, x='coeffs', y=lr_fe_df.index, palette='PuBu_r')\n",
    "plt.title('Which Attributes Affect Likelihood of Threat Status?', fontsize=50)\n",
    "plt.xlim([-30, 100])\n",
    "plt.xlabel('Percent of Importance', fontsize=20)\n",
    "plt.ylabel('Attribute', fontsize=20)\n",
    "plt.show()"
   ]
  },
  {
   "cell_type": "code",
   "execution_count": 51,
   "metadata": {
    "cell_id": "00085-629d4a55-06d4-4a82-8a0d-7b03f2ae91ee",
    "deepnote_cell_type": "code",
    "deepnote_to_be_reexecuted": false,
    "execution_millis": 12,
    "execution_start": 1622252500788,
    "source_hash": "6a4cb837",
    "tags": []
   },
   "outputs": [
    {
     "data": {
      "text/plain": [
       "0.6855546687948922"
      ]
     },
     "execution_count": 51,
     "metadata": {},
     "output_type": "execute_result"
    }
   ],
   "source": [
    "logit.score(X_test[combo_feats], y_test)"
   ]
  },
  {
   "cell_type": "code",
   "execution_count": 52,
   "metadata": {
    "cell_id": "00085-230e093c-31f9-4bc1-8f64-5414a0e4edd6",
    "deepnote_cell_type": "code",
    "deepnote_to_be_reexecuted": false,
    "execution_millis": 42,
    "execution_start": 1622252500813,
    "source_hash": "bf04d98f",
    "tags": []
   },
   "outputs": [
    {
     "data": {
      "application/vnd.deepnote.dataframe.v2+json": {
       "column_count": 1,
       "columns": [
        {
         "dtype": "float64",
         "name": 0,
         "stats": {
          "histogram": [
           {
            "bin_end": 67.79499999999999,
            "bin_start": 67.71,
            "count": 2
           },
           {
            "bin_end": 67.88,
            "bin_start": 67.79499999999999,
            "count": 0
           },
           {
            "bin_end": 67.965,
            "bin_start": 67.88,
            "count": 0
           },
           {
            "bin_end": 68.05,
            "bin_start": 67.965,
            "count": 0
           },
           {
            "bin_end": 68.13499999999999,
            "bin_start": 68.05,
            "count": 0
           },
           {
            "bin_end": 68.22,
            "bin_start": 68.13499999999999,
            "count": 0
           },
           {
            "bin_end": 68.305,
            "bin_start": 68.22,
            "count": 0
           },
           {
            "bin_end": 68.39,
            "bin_start": 68.305,
            "count": 0
           },
           {
            "bin_end": 68.475,
            "bin_start": 68.39,
            "count": 0
           },
           {
            "bin_end": 68.56,
            "bin_start": 68.475,
            "count": 1
           }
          ],
          "max": "68.56",
          "min": "67.71",
          "nan_count": 0,
          "unique_count": 3
         }
        },
        {
         "dtype": "object",
         "name": "_deepnote_index_column"
        }
       ],
       "row_count": 3,
       "rows_bottom": null,
       "rows_top": [
        {
         "0": 67.71,
         "_deepnote_index_column": "Actual Threat"
        },
        {
         "0": 67.73,
         "_deepnote_index_column": "Baseline Threat Accuracy"
        },
        {
         "0": 68.56,
         "_deepnote_index_column": "Logit Model Threat Accuracy"
        }
       ]
      },
      "text/html": [
       "<div>\n",
       "<style scoped>\n",
       "    .dataframe tbody tr th:only-of-type {\n",
       "        vertical-align: middle;\n",
       "    }\n",
       "\n",
       "    .dataframe tbody tr th {\n",
       "        vertical-align: top;\n",
       "    }\n",
       "\n",
       "    .dataframe thead th {\n",
       "        text-align: right;\n",
       "    }\n",
       "</style>\n",
       "<table border=\"1\" class=\"dataframe\">\n",
       "  <thead>\n",
       "    <tr style=\"text-align: right;\">\n",
       "      <th></th>\n",
       "      <th>0</th>\n",
       "    </tr>\n",
       "  </thead>\n",
       "  <tbody>\n",
       "    <tr>\n",
       "      <th>Actual Threat</th>\n",
       "      <td>67.71</td>\n",
       "    </tr>\n",
       "    <tr>\n",
       "      <th>Baseline Threat Accuracy</th>\n",
       "      <td>67.73</td>\n",
       "    </tr>\n",
       "    <tr>\n",
       "      <th>Logit Model Threat Accuracy</th>\n",
       "      <td>68.56</td>\n",
       "    </tr>\n",
       "  </tbody>\n",
       "</table>\n",
       "</div>"
      ],
      "text/plain": [
       "                                 0\n",
       "Actual Threat                67.71\n",
       "Baseline Threat Accuracy     67.73\n",
       "Logit Model Threat Accuracy  68.56"
      ]
     },
     "execution_count": 52,
     "metadata": {},
     "output_type": "execute_result"
    }
   ],
   "source": [
    "pd.DataFrame({\n",
    "    'Actual Threat': [round(((df.alleged_threat_lvl == 1).mean())*100, 2)], \n",
    "    'Baseline Threat Accuracy': [round(((train.alleged_threat_lvl == 1).mean())*100, 2)], \n",
    "    'Logit Model Threat Accuracy': [round((logit.score(X_test[combo_feats], y_test))*100, 2)]\n",
    "}).T"
   ]
  },
  {
   "cell_type": "code",
   "execution_count": 53,
   "metadata": {
    "cell_id": "00087-feda4f8f-d333-48f2-9b8b-98fc3e731137",
    "deepnote_cell_type": "code",
    "deepnote_to_be_reexecuted": false,
    "execution_millis": 13,
    "execution_start": 1622252500849,
    "source_hash": "3d336684",
    "tags": []
   },
   "outputs": [],
   "source": [
    "iter1_acc = pd.DataFrame({\n",
    "\n",
    "    'titles':['Actual Threat', 'Baseline Threat Accuracy', 'Logit Model Threat Accuracy'],\n",
    "    'pct':[round(((df.alleged_threat_lvl == 1).mean())*100, 2), round(((train.alleged_threat_lvl == 1).mean())*100, 2), round((logit.score(X_test[combo_feats], y_test))*100, 2)]\n",
    "})"
   ]
  },
  {
   "cell_type": "code",
   "execution_count": 54,
   "metadata": {
    "cell_id": "00088-642ec413-bd02-4908-b6b5-5d35086a9882",
    "deepnote_cell_type": "code",
    "deepnote_to_be_reexecuted": false,
    "execution_millis": 289,
    "execution_start": 1622252500926,
    "source_hash": "d6451dff",
    "tags": []
   },
   "outputs": [
    {
     "name": "stderr",
     "output_type": "stream",
     "text": [
      "findfont: Font family ['sans-serif'] not found. Falling back to DejaVu Sans.\n",
      "findfont: Generic family 'sans-serif' not found because none of the following families were found: Arial, Liberation Sans, Bitstream Vera Sans, sans-serif\n",
      "findfont: Font family ['sans-serif'] not found. Falling back to DejaVu Sans.\n",
      "findfont: Generic family 'sans-serif' not found because none of the following families were found: Arial, Liberation Sans, Bitstream Vera Sans, sans-serif\n"
     ]
    },
    {
     "data": {
      "image/png": "[encoded data removed]",
      "text/plain": [
       "<Figure size 590.4x504 with 1 Axes>"
      ]
     },
     "metadata": {
      "image/png": {
       "height": 432,
       "width": 511
      }
     },
     "output_type": "display_data"
    }
   ],
   "source": [
    "f, ax = plt.subplots(figsize=(8.2, 7)) \n",
    "#plt.figure(figsize=(8.2,7))\n",
    "sns.barplot(data=iter1_acc, x='titles', y='pct', palette='ocean_r')\n",
    "\n",
    "ax.text(1.9, 63, '69%', style='italic', size='xx-large', color='white')\n",
    "ax.text(0.88, 62, '67.73%', style='italic', size='large', color='white')\n",
    "ax.text(-0.13, 62, '67.71%', style='italic', size='large', color='white')\n",
    "\n",
    "plt.title('First Iteration Accuracy Levels', fontsize=20)\n",
    "plt.ylim([0, 100])\n",
    "plt.xlabel('', fontsize=10)\n",
    "plt.ylabel('Accuracy Percentage (%)', fontsize=10)\n",
    "plt.show()"
   ]
  },
  {
   "cell_type": "markdown",
   "metadata": {
    "cell_id": "00088-1853209e-44be-4fdf-8437-2b8e3ce9a8b9",
    "deepnote_cell_type": "markdown"
   },
   "source": [
    "\n",
    "___\n",
    "# Conclusion\n",
    "\n",
    "### Takeaways\n",
    "- All models had roughly the same score for train and validate sets.\n",
    "- K-Nearest neighbor model performed the worst on out-of-sample data.\n",
    "- The best performing model uses a Random Forest algorithm and combined features from Select K Best and Recursive Feature Elimination lists.\n",
    "- Our final Random Forest model increased by 21% from a baseline accuracy of 51% to 72% accuracy on out-of-sample data.\n",
    "\n",
    "\n",
    "### Drivers\n",
    "- The top drivers of predicting a victim's threat level were encounter type of incident, gender, race, armed/unarmed status, mental illness, age, geography, fleeing events, and body camera reports.\n",
    "- These drivers can be used to shed light on changes to be made in law enforcement and to help law enforcement agencies spot risk factors, so they may step in before risk transforms into actual harm.\n",
    "\n",
    "\n",
    "### Next Steps\n",
    "- Fill in missing values manually as best as possible based on the description column in the dataset (large amount of data missing). \n",
    "- Natural language processing exploration on description of incident. "
   ]
  },
  {
   "cell_type": "markdown",
   "metadata": {
    "cell_id": "00089-2ef5c14e-e685-4979-9f97-9d43a8c78d59",
    "deepnote_cell_type": "markdown",
    "tags": []
   },
   "source": [
    "\n",
    "#### Report containing summarization of notebook can be found [here](link to presentation)."
   ]
  },
  {
   "cell_type": "markdown",
   "metadata": {
    "cell_id": "00090-03e10453-7a10-4d77-bf0f-14f0240e4fa5",
    "deepnote_cell_type": "markdown",
    "tags": []
   },
   "source": []
  },
  {
   "cell_type": "code",
   "execution_count": 55,
   "metadata": {
    "cell_id": "00091-9e7b4e1b-ecc3-4139-b2af-1b58ce93c4ba",
    "deepnote_cell_type": "code",
    "deepnote_to_be_reexecuted": false,
    "execution_millis": 40,
    "execution_start": 1622252501220,
    "source_hash": "620026b4",
    "tags": []
   },
   "outputs": [
    {
     "data": {
      "application/vnd.deepnote.dataframe.v2+json": {
       "column_count": 3,
       "columns": [
        {
         "dtype": "float64",
         "name": "Actual Threat",
         "stats": {
          "histogram": [
           {
            "bin_end": 67.30999999999999,
            "bin_start": 67.21,
            "count": 0
           },
           {
            "bin_end": 67.41,
            "bin_start": 67.30999999999999,
            "count": 0
           },
           {
            "bin_end": 67.50999999999999,
            "bin_start": 67.41,
            "count": 0
           },
           {
            "bin_end": 67.61,
            "bin_start": 67.50999999999999,
            "count": 0
           },
           {
            "bin_end": 67.71,
            "bin_start": 67.61,
            "count": 0
           },
           {
            "bin_end": 67.80999999999999,
            "bin_start": 67.71,
            "count": 1
           },
           {
            "bin_end": 67.91,
            "bin_start": 67.80999999999999,
            "count": 0
           },
           {
            "bin_end": 68.00999999999999,
            "bin_start": 67.91,
            "count": 0
           },
           {
            "bin_end": 68.11,
            "bin_start": 68.00999999999999,
            "count": 0
           },
           {
            "bin_end": 68.21,
            "bin_start": 68.11,
            "count": 0
           }
          ],
          "max": "67.71",
          "min": "67.71",
          "nan_count": 0,
          "unique_count": 1
         }
        },
        {
         "dtype": "float64",
         "name": "Baseline Adoption Accuracy",
         "stats": {
          "histogram": [
           {
            "bin_end": 67.33,
            "bin_start": 67.23,
            "count": 0
           },
           {
            "bin_end": 67.43,
            "bin_start": 67.33,
            "count": 0
           },
           {
            "bin_end": 67.53,
            "bin_start": 67.43,
            "count": 0
           },
           {
            "bin_end": 67.63000000000001,
            "bin_start": 67.53,
            "count": 0
           },
           {
            "bin_end": 67.73,
            "bin_start": 67.63000000000001,
            "count": 0
           },
           {
            "bin_end": 67.83,
            "bin_start": 67.73,
            "count": 1
           },
           {
            "bin_end": 67.93,
            "bin_start": 67.83,
            "count": 0
           },
           {
            "bin_end": 68.03,
            "bin_start": 67.93,
            "count": 0
           },
           {
            "bin_end": 68.13000000000001,
            "bin_start": 68.03,
            "count": 0
           },
           {
            "bin_end": 68.23,
            "bin_start": 68.13000000000001,
            "count": 0
           }
          ],
          "max": "67.73",
          "min": "67.73",
          "nan_count": 0,
          "unique_count": 1
         }
        },
        {
         "dtype": "float64",
         "name": "Logit Model Adoption Accuracy",
         "stats": {
          "histogram": [
           {
            "bin_end": 68.16,
            "bin_start": 68.06,
            "count": 0
           },
           {
            "bin_end": 68.26,
            "bin_start": 68.16,
            "count": 0
           },
           {
            "bin_end": 68.36,
            "bin_start": 68.26,
            "count": 0
           },
           {
            "bin_end": 68.46000000000001,
            "bin_start": 68.36,
            "count": 0
           },
           {
            "bin_end": 68.56,
            "bin_start": 68.46000000000001,
            "count": 0
           },
           {
            "bin_end": 68.66,
            "bin_start": 68.56,
            "count": 1
           },
           {
            "bin_end": 68.76,
            "bin_start": 68.66,
            "count": 0
           },
           {
            "bin_end": 68.86,
            "bin_start": 68.76,
            "count": 0
           },
           {
            "bin_end": 68.96000000000001,
            "bin_start": 68.86,
            "count": 0
           },
           {
            "bin_end": 69.06,
            "bin_start": 68.96000000000001,
            "count": 0
           }
          ],
          "max": "68.56",
          "min": "68.56",
          "nan_count": 0,
          "unique_count": 1
         }
        },
        {
         "dtype": "int64",
         "name": "_deepnote_index_column"
        }
       ],
       "row_count": 1,
       "rows_bottom": null,
       "rows_top": [
        {
         "Actual Threat": 67.71,
         "Baseline Adoption Accuracy": 67.73,
         "Logit Model Adoption Accuracy": 68.56,
         "_deepnote_index_column": 0
        }
       ]
      },
      "text/html": [
       "<div>\n",
       "<style scoped>\n",
       "    .dataframe tbody tr th:only-of-type {\n",
       "        vertical-align: middle;\n",
       "    }\n",
       "\n",
       "    .dataframe tbody tr th {\n",
       "        vertical-align: top;\n",
       "    }\n",
       "\n",
       "    .dataframe thead th {\n",
       "        text-align: right;\n",
       "    }\n",
       "</style>\n",
       "<table border=\"1\" class=\"dataframe\">\n",
       "  <thead>\n",
       "    <tr style=\"text-align: right;\">\n",
       "      <th></th>\n",
       "      <th>Actual Threat</th>\n",
       "      <th>Baseline Adoption Accuracy</th>\n",
       "      <th>Logit Model Adoption Accuracy</th>\n",
       "    </tr>\n",
       "  </thead>\n",
       "  <tbody>\n",
       "    <tr>\n",
       "      <th>0</th>\n",
       "      <td>67.71</td>\n",
       "      <td>67.73</td>\n",
       "      <td>68.56</td>\n",
       "    </tr>\n",
       "  </tbody>\n",
       "</table>\n",
       "</div>"
      ],
      "text/plain": [
       "   Actual Threat  Baseline Adoption Accuracy  Logit Model Adoption Accuracy\n",
       "0          67.71                       67.73                          68.56"
      ]
     },
     "execution_count": 55,
     "metadata": {},
     "output_type": "execute_result"
    }
   ],
   "source": [
    "accuracies_df = pd.DataFrame({\n",
    "    'Actual Threat': [round(((df.alleged_threat_lvl == 1).mean())*100, 2)], \n",
    "    'Baseline Adoption Accuracy': [round(((train.alleged_threat_lvl == 1).mean())*100, 2)], \n",
    "    'Logit Model Adoption Accuracy': [round((logit.score(X_test[combo_feats], y_test))*100, 2)]\n",
    "})\n",
    "accuracies_df"
   ]
  },
  {
   "cell_type": "code",
   "execution_count": 55,
   "metadata": {
    "cell_id": "00092-2d053a0c-1caa-4846-8fe9-8b431e6b0174",
    "deepnote_cell_type": "code",
    "deepnote_to_be_reexecuted": false,
    "execution_start": 1622252501253,
    "source_hash": "b623e53d",
    "tags": []
   },
   "outputs": [],
   "source": []
  },
  {
   "cell_type": "markdown",
   "metadata": {
    "created_in_deepnote_cell": true,
    "deepnote_cell_type": "markdown",
    "tags": []
   },
   "source": [
    "<a style='text-decoration:none;line-height:16px;display:flex;color:#5B5B62;padding:10px;justify-content:end;' href='https://deepnote.com?utm_source=created-in-deepnote-cell&projectId=258e71fc-cf2b-48c3-8461-70ecd9787aa1' target=\"_blank\">\n",
    "<img alt='Created in deepnote.com' style='display:inline;max-height:16px;margin:0px;margin-right:7.5px;' src='data:image/svg+xml;base64,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' > </img>\n",
    "Created in <span style='font-weight:600;margin-left:4px;'>Deepnote</span></a>"
   ]
  }
 ],
 "metadata": {
  "deepnote": {},
  "deepnote_execution_queue": [],
  "deepnote_notebook_id": "28546b49-2096-40dd-ad3b-d3519cad20ba",
  "kernelspec": {
   "display_name": "Python 3",
   "language": "python",
   "name": "python3"
  },
  "language_info": {
   "codemirror_mode": {
    "name": "ipython",
    "version": 3
   },
   "file_extension": ".py",
   "mimetype": "text/x-python",
   "name": "python",
   "nbconvert_exporter": "python",
   "pygments_lexer": "ipython3",
   "version": "3.8.5"
  }
 },
 "nbformat": 4,
 "nbformat_minor": 4
}
