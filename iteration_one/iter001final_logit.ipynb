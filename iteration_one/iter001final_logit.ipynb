{
 "cells": [
  {
   "cell_type": "markdown",
   "source": "# Project Description and Goals\nAcross the United States, there are altercations that result in killings by police officers, whether on-duty or off-duty. Each case is considered as a person dying from being shot, beaten, restrained, intentionally hit by a police vehicle, pepper sprayed, tasered, or otherwise harmed by police. \n\nFor our capstone, we are addressing the issue of police violence that has become a heated topic throughout the country in the recent years. As a team, we will be attempting to help law enforcement agencies spot risk factors so they may step in before risk transforms into actual harm.  \n\nThe open-sourced dataset we acquired from [Mapping Police Violence](https://mappingpoliceviolence.org/aboutthedata) has gathered over 9000 police killings from January 2013 to May 2021. Top drivers of civilian fatalities identified will shed light on changes to be made to save more lives. Then, we will use the features to apply to our classification models predicting the threat level of the victim (attacker or not).\n\n### Objectives for this project include:\n- Identifying the drivers of civilian fatalities. \n- Documenting the process and analysis throughout the data science pipeline.\n- Constructing a classification model that can predict what the victim's threat level is, given the features of the dataset.\n- Deliverables:\n    - README.md file containing overall project information. \n    - A well-documented jupyter notebook detailing the data science pipeline process.\n    - Python modules that automate the data acquisition, preparation, and exploration process.\n\n### Initial Hypotheses:\n- Does gender make a difference in alleged threat level?\n- How does mental illness affect each gender?\n- Do symptoms of mental illness play a role in threat level?\n- Is race a factor for alleged threat level?\n- Does the police officer having a bodycam make a difference in alleged threat level?\n- Is cause of death and alleged threat level independent of one another?\n- What are the fatalities by state: % killings vs pop\n- Where and what areas result in more killings?",
   "metadata": {
    "cell_id": "00000-57fb00d0-2a11-42b1-afad-a9c44ff090c7",
    "deepnote_cell_type": "markdown"
   }
  },
  {
   "cell_type": "markdown",
   "source": "___\n# Imports \nImport all necessary libraries and functions. ",
   "metadata": {
    "cell_id": "00001-c6affe2f-6374-43e2-b4c1-e9b83b05643f",
    "deepnote_cell_type": "markdown"
   }
  },
  {
   "cell_type": "code",
   "metadata": {
    "deepnote_to_be_reexecuted": false,
    "source_hash": "cfefdd55",
    "execution_start": 1622221377733,
    "execution_millis": 2452,
    "cell_id": "00002-f3089ea1-de6a-4f83-b349-d25e7c6814a7",
    "deepnote_cell_type": "code"
   },
   "source": "import pandas as pd\nimport numpy as np\n\n# Helper Functions\nimport wrangle as w \nimport explore as exp\nfrom explore import rfe, split, select_kbest\n\n# Visualizations\nimport seaborn as sns\nimport matplotlib.pyplot as plt\n\n# Ignore warnings\nimport warnings\nwarnings.filterwarnings(\"ignore\")\n\n# Hypothesis tests\nfrom scipy import stats\nfrom scipy.stats import chi2_contingency\nfrom scipy.stats import ttest_1samp\nfrom scipy.stats import ttest_ind\n\n# Split data\nfrom sklearn.model_selection import train_test_split\n\n#Feature Engineering\nfrom sklearn.feature_selection import SelectKBest, f_regression, chi2\nfrom sklearn.feature_selection import RFE\n\n# Evaluate models\nfrom sklearn.metrics import classification_report\nfrom sklearn.metrics import accuracy_score\n\n# Create models for classification ML:\n# Decision Tree  \nfrom sklearn.tree import DecisionTreeClassifier\nfrom sklearn.tree import export_graphviz\n\n# Random Forest\nfrom sklearn.ensemble import RandomForestClassifier\n\n# K-Nearest Neighbor(KNN)  \nfrom sklearn.neighbors import KNeighborsClassifier\n\n# Logistic Regression\nfrom sklearn.linear_model import LogisticRegression\n\n# Evaluate models\nfrom sklearn.metrics import confusion_matrix\nfrom sklearn.metrics import classification_report\nfrom sklearn.metrics import accuracy_score\nfrom sklearn.metrics import precision_score\nfrom sklearn.metrics import recall_score\nfrom sklearn.metrics import f1_score\nfrom sklearn.metrics import precision_recall_fscore_support ",
   "outputs": [],
   "execution_count": null
  },
  {
   "cell_type": "markdown",
   "source": "\n___\n# Acquire Data",
   "metadata": {
    "cell_id": "00003-269c5652-39a3-44a3-9b9c-766177e9ef15",
    "deepnote_cell_type": "markdown"
   }
  },
  {
   "cell_type": "code",
   "metadata": {
    "deepnote_to_be_reexecuted": false,
    "execution_millis": 9017,
    "execution_start": 1622221380190,
    "source_hash": "bb51ee53",
    "tags": [],
    "cell_id": "00004-c9dbcf7a-ada8-4c13-98bb-a963de5e6f36",
    "deepnote_cell_type": "code"
   },
   "source": "# reads data from MPV website's downloaded dataset\ndf = pd.read_excel('data.xlsx')\ndf.head()",
   "outputs": [
    {
     "output_type": "execute_result",
     "execution_count": 2,
     "data": {
      "application/vnd.deepnote.dataframe.v2+json": {
       "row_count": 5,
       "column_count": 49,
       "columns": [
        {
         "name": "Victim's name",
         "dtype": "object",
         "stats": {
          "unique_count": 5,
          "nan_count": 0,
          "categories": [
           {
            "name": "Kalon Horton",
            "count": 1
           },
           {
            "name": "Name withheld by police",
            "count": 1
           },
           {
            "name": "3 others",
            "count": 3
           }
          ]
         }
        },
        {
         "name": "Victim's age",
         "dtype": "object",
         "stats": {
          "unique_count": 4,
          "nan_count": 1,
          "categories": [
           {
            "name": "29.0",
            "count": 1
           },
           {
            "name": "3 others",
            "count": 3
           },
           {
            "name": "Missing",
            "count": 1
           }
          ]
         }
        },
        {
         "name": "Victim's gender",
         "dtype": "object",
         "stats": {
          "unique_count": 1,
          "nan_count": 0,
          "categories": [
           {
            "name": "Male",
            "count": 5
           }
          ]
         }
        },
        {
         "name": "Victim's race",
         "dtype": "object",
         "stats": {
          "unique_count": 3,
          "nan_count": 0,
          "categories": [
           {
            "name": "Unknown Race",
            "count": 3
           },
           {
            "name": "Black",
            "count": 1
           },
           {
            "name": "Hispanic",
            "count": 1
           }
          ]
         }
        },
        {
         "name": "URL of image of victim",
         "dtype": "object",
         "stats": {
          "unique_count": 0,
          "nan_count": 5,
          "categories": [
           {
            "name": "Missing",
            "count": 5
           }
          ]
         }
        },
        {
         "name": "Date of Incident (month/day/year)",
         "dtype": "datetime64[ns]",
         "stats": {
          "unique_count": 2,
          "nan_count": 0,
          "min": "2021-05-08 00:00:00",
          "max": "2021-05-09 00:00:00",
          "histogram": [
           {
            "bin_start": 1620432000000000000,
            "bin_end": 1620440640000000000,
            "count": 2
           },
           {
            "bin_start": 1620440640000000000,
            "bin_end": 1620449280000000000,
            "count": 0
           },
           {
            "bin_start": 1620449280000000000,
            "bin_end": 1620457920000000000,
            "count": 0
           },
           {
            "bin_start": 1620457920000000000,
            "bin_end": 1620466560000000000,
            "count": 0
           },
           {
            "bin_start": 1620466560000000000,
            "bin_end": 1620475200000000000,
            "count": 0
           },
           {
            "bin_start": 1620475200000000000,
            "bin_end": 1620483840000000000,
            "count": 0
           },
           {
            "bin_start": 1620483840000000000,
            "bin_end": 1620492480000000000,
            "count": 0
           },
           {
            "bin_start": 1620492480000000000,
            "bin_end": 1620501120000000000,
            "count": 0
           },
           {
            "bin_start": 1620501120000000000,
            "bin_end": 1620509760000000000,
            "count": 0
           },
           {
            "bin_start": 1620509760000000000,
            "bin_end": 1620518400000000000,
            "count": 3
           }
          ]
         }
        },
        {
         "name": "Street Address of Incident",
         "dtype": "object",
         "stats": {
          "unique_count": 1,
          "nan_count": 4,
          "categories": [
           {
            "name": "90 S. Main St.",
            "count": 1
           },
           {
            "name": "Missing",
            "count": 4
           }
          ]
         }
        },
        {
         "name": "City",
         "dtype": "object",
         "stats": {
          "unique_count": 5,
          "nan_count": 0,
          "categories": [
           {
            "name": "Lancaster",
            "count": 1
           },
           {
            "name": "Leicester",
            "count": 1
           },
           {
            "name": "3 others",
            "count": 3
           }
          ]
         }
        },
        {
         "name": "State",
         "dtype": "object",
         "stats": {
          "unique_count": 5,
          "nan_count": 0,
          "categories": [
           {
            "name": "TX",
            "count": 1
           },
           {
            "name": "MA",
            "count": 1
           },
           {
            "name": "3 others",
            "count": 3
           }
          ]
         }
        },
        {
         "name": "Zipcode",
         "dtype": "float64",
         "stats": {
          "unique_count": 1,
          "nan_count": 4,
          "min": "1524.0",
          "max": "1524.0",
          "histogram": [
           {
            "bin_start": 1523.5,
            "bin_end": 1523.6,
            "count": 0
           },
           {
            "bin_start": 1523.6,
            "bin_end": 1523.7,
            "count": 0
           },
           {
            "bin_start": 1523.7,
            "bin_end": 1523.8,
            "count": 0
           },
           {
            "bin_start": 1523.8,
            "bin_end": 1523.9,
            "count": 0
           },
           {
            "bin_start": 1523.9,
            "bin_end": 1524,
            "count": 0
           },
           {
            "bin_start": 1524,
            "bin_end": 1524.1,
            "count": 1
           },
           {
            "bin_start": 1524.1,
            "bin_end": 1524.2,
            "count": 0
           },
           {
            "bin_start": 1524.2,
            "bin_end": 1524.3,
            "count": 0
           },
           {
            "bin_start": 1524.3,
            "bin_end": 1524.4,
            "count": 0
           },
           {
            "bin_start": 1524.4,
            "bin_end": 1524.5,
            "count": 0
           }
          ]
         }
        },
        {
         "name": "County",
         "dtype": "object",
         "stats": {
          "unique_count": 2,
          "nan_count": 3,
          "categories": [
           {
            "name": "Worcester",
            "count": 1
           },
           {
            "name": "Riverside",
            "count": 1
           },
           {
            "name": "Missing",
            "count": 3
           }
          ]
         }
        },
        {
         "name": "Agency responsible for death",
         "dtype": "object",
         "stats": {
          "unique_count": 5,
          "nan_count": 0,
          "categories": [
           {
            "name": "Lancaster Police Department",
            "count": 1
           },
           {
            "name": "Leicester Police Department",
            "count": 1
           },
           {
            "name": "3 others",
            "count": 3
           }
          ]
         }
        },
        {
         "name": "ORI Agency Identifier (if available)",
         "dtype": "object",
         "stats": {
          "unique_count": 5,
          "nan_count": 0,
          "categories": [
           {
            "name": "TX0571700",
            "count": 1
           },
           {
            "name": "MA0142400",
            "count": 1
           },
           {
            "name": "3 others",
            "count": 3
           }
          ]
         }
        },
        {
         "name": "Cause of death",
         "dtype": "object",
         "stats": {
          "unique_count": 1,
          "nan_count": 0,
          "categories": [
           {
            "name": "Gunshot",
            "count": 5
           }
          ]
         }
        },
        {
         "name": "A brief description of the circumstances surrounding the death",
         "dtype": "object",
         "stats": {
          "unique_count": 5,
          "nan_count": 0,
          "categories": [
           {
            "name": "Police responded to a call of a man firing shots within an apartment complex. Officers went to Horton's apartment and forced their way in. Police claim Horton was armed, and they shot and killed him.",
            "count": 1
           },
           {
            "name": "A man allegedly crashed an SUV into the Leicester Police Station, repeatedly ramming his vehicle into the front doors until he gained entry into the building. Responding officers saw the SUV in the front door and encountered the man. Police claim the man placed a rifle on his shoulder and aimed it at the officers. The police officers shot and killed him.",
            "count": 1
           },
           {
            "name": "3 others",
            "count": 3
           }
          ]
         }
        },
        {
         "name": "Official disposition of death (justified or other)",
         "dtype": "object",
         "stats": {
          "unique_count": 1,
          "nan_count": 0,
          "categories": [
           {
            "name": "Pending investigation",
            "count": 5
           }
          ]
         }
        },
        {
         "name": "Criminal Charges?",
         "dtype": "object",
         "stats": {
          "unique_count": 1,
          "nan_count": 0,
          "categories": [
           {
            "name": "No known charges",
            "count": 5
           }
          ]
         }
        },
        {
         "name": "Link to news article or photo of official document",
         "dtype": "object",
         "stats": {
          "unique_count": 5,
          "nan_count": 0,
          "categories": [
           {
            "name": "https://www.fox4news.com/news/lancaster-police-officers-involved-in-shooting",
            "count": 1
           },
           {
            "name": "https://www.wcvb.com/article/leicester-police-station-shooting-car-crash-massachusetts/36374400",
            "count": 1
           },
           {
            "name": "3 others",
            "count": 3
           }
          ]
         }
        },
        {
         "name": "Symptoms of mental illness?",
         "dtype": "object",
         "stats": {
          "unique_count": 2,
          "nan_count": 0,
          "categories": [
           {
            "name": "No",
            "count": 4
           },
           {
            "name": "Yes",
            "count": 1
           }
          ]
         }
        },
        {
         "name": "Armed/Unarmed Status",
         "dtype": "object",
         "stats": {
          "unique_count": 1,
          "nan_count": 0,
          "categories": [
           {
            "name": "Allegedly Armed",
            "count": 5
           }
          ]
         }
        },
        {
         "name": "Alleged Weapon (Source: WaPo and Review of Cases Not Included in WaPo Database)",
         "dtype": "object",
         "stats": {
          "unique_count": 1,
          "nan_count": 0,
          "categories": [
           {
            "name": "gun",
            "count": 5
           }
          ]
         }
        },
        {
         "name": "Alleged Threat Level (Source: WaPo)",
         "dtype": "object",
         "stats": {
          "unique_count": 1,
          "nan_count": 0,
          "categories": [
           {
            "name": "attack",
            "count": 5
           }
          ]
         }
        },
        {
         "name": "Fleeing (Source: WaPo)",
         "dtype": "object",
         "stats": {
          "unique_count": 1,
          "nan_count": 1,
          "categories": [
           {
            "name": "not fleeing",
            "count": 4
           },
           {
            "name": "Missing",
            "count": 1
           }
          ]
         }
        },
        {
         "name": "Body Camera (Source: WaPo)",
         "dtype": "object",
         "stats": {
          "unique_count": 1,
          "nan_count": 0,
          "categories": [
           {
            "name": "no",
            "count": 5
           }
          ]
         }
        },
        {
         "name": "WaPo ID (If included in WaPo database)",
         "dtype": "float64",
         "stats": {
          "unique_count": 5,
          "nan_count": 0,
          "min": "6841.0",
          "max": "6846.0",
          "histogram": [
           {
            "bin_start": 6841,
            "bin_end": 6841.5,
            "count": 1
           },
           {
            "bin_start": 6841.5,
            "bin_end": 6842,
            "count": 0
           },
           {
            "bin_start": 6842,
            "bin_end": 6842.5,
            "count": 1
           },
           {
            "bin_start": 6842.5,
            "bin_end": 6843,
            "count": 0
           },
           {
            "bin_start": 6843,
            "bin_end": 6843.5,
            "count": 0
           },
           {
            "bin_start": 6843.5,
            "bin_end": 6844,
            "count": 0
           },
           {
            "bin_start": 6844,
            "bin_end": 6844.5,
            "count": 1
           },
           {
            "bin_start": 6844.5,
            "bin_end": 6845,
            "count": 0
           },
           {
            "bin_start": 6845,
            "bin_end": 6845.5,
            "count": 1
           },
           {
            "bin_start": 6845.5,
            "bin_end": 6846,
            "count": 1
           }
          ]
         }
        },
        {
         "name": "Off-Duty Killing?",
         "dtype": "object",
         "stats": {
          "unique_count": 0,
          "nan_count": 5,
          "categories": [
           {
            "name": "Missing",
            "count": 5
           }
          ]
         }
        },
        {
         "name": "Geography (via Trulia methodology based on zipcode population density: http://jedkolko.com/wp-content/uploads/2015/05/full-ZCTA-urban-suburban-rural-classification.xlsx )",
         "dtype": "object",
         "stats": {
          "unique_count": 1,
          "nan_count": 4,
          "categories": [
           {
            "name": "Suburban",
            "count": 1
           },
           {
            "name": "Missing",
            "count": 4
           }
          ]
         }
        },
        {
         "name": "MPV ID",
         "dtype": "float64",
         "stats": {
          "unique_count": 0,
          "nan_count": 5,
          "min": null,
          "max": null,
          "histogram": [
           {
            "bin_start": 0,
            "bin_end": 0.1,
            "count": 0
           },
           {
            "bin_start": 0.1,
            "bin_end": 0.2,
            "count": 0
           },
           {
            "bin_start": 0.2,
            "bin_end": 0.30000000000000004,
            "count": 0
           },
           {
            "bin_start": 0.30000000000000004,
            "bin_end": 0.4,
            "count": 0
           },
           {
            "bin_start": 0.4,
            "bin_end": 0.5,
            "count": 0
           },
           {
            "bin_start": 0.5,
            "bin_end": 0.6000000000000001,
            "count": 0
           },
           {
            "bin_start": 0.6000000000000001,
            "bin_end": 0.7000000000000001,
            "count": 0
           },
           {
            "bin_start": 0.7000000000000001,
            "bin_end": 0.8,
            "count": 0
           },
           {
            "bin_start": 0.8,
            "bin_end": 0.9,
            "count": 0
           },
           {
            "bin_start": 0.9,
            "bin_end": 1,
            "count": 0
           }
          ]
         }
        },
        {
         "name": "Fatal Encounters ID",
         "dtype": "float64",
         "stats": {
          "unique_count": 0,
          "nan_count": 5,
          "min": null,
          "max": null,
          "histogram": [
           {
            "bin_start": 0,
            "bin_end": 0.1,
            "count": 0
           },
           {
            "bin_start": 0.1,
            "bin_end": 0.2,
            "count": 0
           },
           {
            "bin_start": 0.2,
            "bin_end": 0.30000000000000004,
            "count": 0
           },
           {
            "bin_start": 0.30000000000000004,
            "bin_end": 0.4,
            "count": 0
           },
           {
            "bin_start": 0.4,
            "bin_end": 0.5,
            "count": 0
           },
           {
            "bin_start": 0.5,
            "bin_end": 0.6000000000000001,
            "count": 0
           },
           {
            "bin_start": 0.6000000000000001,
            "bin_end": 0.7000000000000001,
            "count": 0
           },
           {
            "bin_start": 0.7000000000000001,
            "bin_end": 0.8,
            "count": 0
           },
           {
            "bin_start": 0.8,
            "bin_end": 0.9,
            "count": 0
           },
           {
            "bin_start": 0.9,
            "bin_end": 1,
            "count": 0
           }
          ]
         }
        },
        {
         "name": "Encounter Type (DRAFT)",
         "dtype": "object",
         "stats": {
          "unique_count": 3,
          "nan_count": 0,
          "categories": [
           {
            "name": "Part 1 Violent Crime",
            "count": 3
           },
           {
            "name": "Other",
            "count": 1
           },
           {
            "name": "Person with a gun",
            "count": 1
           }
          ]
         }
        },
        {
         "name": "Initial Reported Reason for Encounter (DRAFT)",
         "dtype": "object",
         "stats": {
          "unique_count": 4,
          "nan_count": 0,
          "categories": [
           {
            "name": "murder",
            "count": 2
           },
           {
            "name": "gunshots",
            "count": 1
           },
           {
            "name": "2 others",
            "count": 2
           }
          ]
         }
        },
        {
         "name": "Names of Officers Involved (DRAFT)",
         "dtype": "object",
         "stats": {
          "unique_count": 0,
          "nan_count": 5,
          "categories": [
           {
            "name": "Missing",
            "count": 5
           }
          ]
         }
        },
        {
         "name": "Race of Officers Involved (DRAFT)",
         "dtype": "object",
         "stats": {
          "unique_count": 0,
          "nan_count": 5,
          "categories": [
           {
            "name": "Missing",
            "count": 5
           }
          ]
         }
        },
        {
         "name": "Known Past Shootings of Officer(s) (DRAFT)",
         "dtype": "object",
         "stats": {
          "unique_count": 0,
          "nan_count": 5,
          "categories": [
           {
            "name": "Missing",
            "count": 5
           }
          ]
         }
        },
        {
         "name": "Call for Service? (DRAFT)",
         "dtype": "object",
         "stats": {
          "unique_count": 2,
          "nan_count": 0,
          "categories": [
           {
            "name": "Yes",
            "count": 4
           },
           {
            "name": "No",
            "count": 1
           }
          ]
         }
        },
        {
         "name": "Unnamed: 35",
         "dtype": "float64",
         "stats": {
          "unique_count": 0,
          "nan_count": 5,
          "min": null,
          "max": null,
          "histogram": [
           {
            "bin_start": 0,
            "bin_end": 0.1,
            "count": 0
           },
           {
            "bin_start": 0.1,
            "bin_end": 0.2,
            "count": 0
           },
           {
            "bin_start": 0.2,
            "bin_end": 0.30000000000000004,
            "count": 0
           },
           {
            "bin_start": 0.30000000000000004,
            "bin_end": 0.4,
            "count": 0
           },
           {
            "bin_start": 0.4,
            "bin_end": 0.5,
            "count": 0
           },
           {
            "bin_start": 0.5,
            "bin_end": 0.6000000000000001,
            "count": 0
           },
           {
            "bin_start": 0.6000000000000001,
            "bin_end": 0.7000000000000001,
            "count": 0
           },
           {
            "bin_start": 0.7000000000000001,
            "bin_end": 0.8,
            "count": 0
           },
           {
            "bin_start": 0.8,
            "bin_end": 0.9,
            "count": 0
           },
           {
            "bin_start": 0.9,
            "bin_end": 1,
            "count": 0
           }
          ]
         }
        },
        {
         "name": "Unnamed: 36",
         "dtype": "float64",
         "stats": {
          "unique_count": 0,
          "nan_count": 5,
          "min": null,
          "max": null,
          "histogram": [
           {
            "bin_start": 0,
            "bin_end": 0.1,
            "count": 0
           },
           {
            "bin_start": 0.1,
            "bin_end": 0.2,
            "count": 0
           },
           {
            "bin_start": 0.2,
            "bin_end": 0.30000000000000004,
            "count": 0
           },
           {
            "bin_start": 0.30000000000000004,
            "bin_end": 0.4,
            "count": 0
           },
           {
            "bin_start": 0.4,
            "bin_end": 0.5,
            "count": 0
           },
           {
            "bin_start": 0.5,
            "bin_end": 0.6000000000000001,
            "count": 0
           },
           {
            "bin_start": 0.6000000000000001,
            "bin_end": 0.7000000000000001,
            "count": 0
           },
           {
            "bin_start": 0.7000000000000001,
            "bin_end": 0.8,
            "count": 0
           },
           {
            "bin_start": 0.8,
            "bin_end": 0.9,
            "count": 0
           },
           {
            "bin_start": 0.9,
            "bin_end": 1,
            "count": 0
           }
          ]
         }
        },
        {
         "name": "Unnamed: 37",
         "dtype": "float64",
         "stats": {
          "unique_count": 0,
          "nan_count": 5,
          "min": null,
          "max": null,
          "histogram": [
           {
            "bin_start": 0,
            "bin_end": 0.1,
            "count": 0
           },
           {
            "bin_start": 0.1,
            "bin_end": 0.2,
            "count": 0
           },
           {
            "bin_start": 0.2,
            "bin_end": 0.30000000000000004,
            "count": 0
           },
           {
            "bin_start": 0.30000000000000004,
            "bin_end": 0.4,
            "count": 0
           },
           {
            "bin_start": 0.4,
            "bin_end": 0.5,
            "count": 0
           },
           {
            "bin_start": 0.5,
            "bin_end": 0.6000000000000001,
            "count": 0
           },
           {
            "bin_start": 0.6000000000000001,
            "bin_end": 0.7000000000000001,
            "count": 0
           },
           {
            "bin_start": 0.7000000000000001,
            "bin_end": 0.8,
            "count": 0
           },
           {
            "bin_start": 0.8,
            "bin_end": 0.9,
            "count": 0
           },
           {
            "bin_start": 0.9,
            "bin_end": 1,
            "count": 0
           }
          ]
         }
        },
        {
         "name": "Unnamed: 38",
         "dtype": "float64",
         "stats": {
          "unique_count": 0,
          "nan_count": 5,
          "min": null,
          "max": null,
          "histogram": [
           {
            "bin_start": 0,
            "bin_end": 0.1,
            "count": 0
           },
           {
            "bin_start": 0.1,
            "bin_end": 0.2,
            "count": 0
           },
           {
            "bin_start": 0.2,
            "bin_end": 0.30000000000000004,
            "count": 0
           },
           {
            "bin_start": 0.30000000000000004,
            "bin_end": 0.4,
            "count": 0
           },
           {
            "bin_start": 0.4,
            "bin_end": 0.5,
            "count": 0
           },
           {
            "bin_start": 0.5,
            "bin_end": 0.6000000000000001,
            "count": 0
           },
           {
            "bin_start": 0.6000000000000001,
            "bin_end": 0.7000000000000001,
            "count": 0
           },
           {
            "bin_start": 0.7000000000000001,
            "bin_end": 0.8,
            "count": 0
           },
           {
            "bin_start": 0.8,
            "bin_end": 0.9,
            "count": 0
           },
           {
            "bin_start": 0.9,
            "bin_end": 1,
            "count": 0
           }
          ]
         }
        },
        {
         "name": "Unnamed: 39",
         "dtype": "float64",
         "stats": {
          "unique_count": 0,
          "nan_count": 5,
          "min": null,
          "max": null,
          "histogram": [
           {
            "bin_start": 0,
            "bin_end": 0.1,
            "count": 0
           },
           {
            "bin_start": 0.1,
            "bin_end": 0.2,
            "count": 0
           },
           {
            "bin_start": 0.2,
            "bin_end": 0.30000000000000004,
            "count": 0
           },
           {
            "bin_start": 0.30000000000000004,
            "bin_end": 0.4,
            "count": 0
           },
           {
            "bin_start": 0.4,
            "bin_end": 0.5,
            "count": 0
           },
           {
            "bin_start": 0.5,
            "bin_end": 0.6000000000000001,
            "count": 0
           },
           {
            "bin_start": 0.6000000000000001,
            "bin_end": 0.7000000000000001,
            "count": 0
           },
           {
            "bin_start": 0.7000000000000001,
            "bin_end": 0.8,
            "count": 0
           },
           {
            "bin_start": 0.8,
            "bin_end": 0.9,
            "count": 0
           },
           {
            "bin_start": 0.9,
            "bin_end": 1,
            "count": 0
           }
          ]
         }
        },
        {
         "name": "Unnamed: 40",
         "dtype": "float64",
         "stats": {
          "unique_count": 0,
          "nan_count": 5,
          "min": null,
          "max": null,
          "histogram": [
           {
            "bin_start": 0,
            "bin_end": 0.1,
            "count": 0
           },
           {
            "bin_start": 0.1,
            "bin_end": 0.2,
            "count": 0
           },
           {
            "bin_start": 0.2,
            "bin_end": 0.30000000000000004,
            "count": 0
           },
           {
            "bin_start": 0.30000000000000004,
            "bin_end": 0.4,
            "count": 0
           },
           {
            "bin_start": 0.4,
            "bin_end": 0.5,
            "count": 0
           },
           {
            "bin_start": 0.5,
            "bin_end": 0.6000000000000001,
            "count": 0
           },
           {
            "bin_start": 0.6000000000000001,
            "bin_end": 0.7000000000000001,
            "count": 0
           },
           {
            "bin_start": 0.7000000000000001,
            "bin_end": 0.8,
            "count": 0
           },
           {
            "bin_start": 0.8,
            "bin_end": 0.9,
            "count": 0
           },
           {
            "bin_start": 0.9,
            "bin_end": 1,
            "count": 0
           }
          ]
         }
        },
        {
         "name": "Unnamed: 41",
         "dtype": "float64",
         "stats": {
          "unique_count": 0,
          "nan_count": 5,
          "min": null,
          "max": null,
          "histogram": [
           {
            "bin_start": 0,
            "bin_end": 0.1,
            "count": 0
           },
           {
            "bin_start": 0.1,
            "bin_end": 0.2,
            "count": 0
           },
           {
            "bin_start": 0.2,
            "bin_end": 0.30000000000000004,
            "count": 0
           },
           {
            "bin_start": 0.30000000000000004,
            "bin_end": 0.4,
            "count": 0
           },
           {
            "bin_start": 0.4,
            "bin_end": 0.5,
            "count": 0
           },
           {
            "bin_start": 0.5,
            "bin_end": 0.6000000000000001,
            "count": 0
           },
           {
            "bin_start": 0.6000000000000001,
            "bin_end": 0.7000000000000001,
            "count": 0
           },
           {
            "bin_start": 0.7000000000000001,
            "bin_end": 0.8,
            "count": 0
           },
           {
            "bin_start": 0.8,
            "bin_end": 0.9,
            "count": 0
           },
           {
            "bin_start": 0.9,
            "bin_end": 1,
            "count": 0
           }
          ]
         }
        },
        {
         "name": "Unnamed: 42",
         "dtype": "float64",
         "stats": {
          "unique_count": 0,
          "nan_count": 5,
          "min": null,
          "max": null,
          "histogram": [
           {
            "bin_start": 0,
            "bin_end": 0.1,
            "count": 0
           },
           {
            "bin_start": 0.1,
            "bin_end": 0.2,
            "count": 0
           },
           {
            "bin_start": 0.2,
            "bin_end": 0.30000000000000004,
            "count": 0
           },
           {
            "bin_start": 0.30000000000000004,
            "bin_end": 0.4,
            "count": 0
           },
           {
            "bin_start": 0.4,
            "bin_end": 0.5,
            "count": 0
           },
           {
            "bin_start": 0.5,
            "bin_end": 0.6000000000000001,
            "count": 0
           },
           {
            "bin_start": 0.6000000000000001,
            "bin_end": 0.7000000000000001,
            "count": 0
           },
           {
            "bin_start": 0.7000000000000001,
            "bin_end": 0.8,
            "count": 0
           },
           {
            "bin_start": 0.8,
            "bin_end": 0.9,
            "count": 0
           },
           {
            "bin_start": 0.9,
            "bin_end": 1,
            "count": 0
           }
          ]
         }
        },
        {
         "name": "Unnamed: 43",
         "dtype": "float64",
         "stats": {
          "unique_count": 0,
          "nan_count": 5,
          "min": null,
          "max": null,
          "histogram": [
           {
            "bin_start": 0,
            "bin_end": 0.1,
            "count": 0
           },
           {
            "bin_start": 0.1,
            "bin_end": 0.2,
            "count": 0
           },
           {
            "bin_start": 0.2,
            "bin_end": 0.30000000000000004,
            "count": 0
           },
           {
            "bin_start": 0.30000000000000004,
            "bin_end": 0.4,
            "count": 0
           },
           {
            "bin_start": 0.4,
            "bin_end": 0.5,
            "count": 0
           },
           {
            "bin_start": 0.5,
            "bin_end": 0.6000000000000001,
            "count": 0
           },
           {
            "bin_start": 0.6000000000000001,
            "bin_end": 0.7000000000000001,
            "count": 0
           },
           {
            "bin_start": 0.7000000000000001,
            "bin_end": 0.8,
            "count": 0
           },
           {
            "bin_start": 0.8,
            "bin_end": 0.9,
            "count": 0
           },
           {
            "bin_start": 0.9,
            "bin_end": 1,
            "count": 0
           }
          ]
         }
        },
        {
         "name": "Unnamed: 44",
         "dtype": "float64",
         "stats": {
          "unique_count": 0,
          "nan_count": 5,
          "min": null,
          "max": null,
          "histogram": [
           {
            "bin_start": 0,
            "bin_end": 0.1,
            "count": 0
           },
           {
            "bin_start": 0.1,
            "bin_end": 0.2,
            "count": 0
           },
           {
            "bin_start": 0.2,
            "bin_end": 0.30000000000000004,
            "count": 0
           },
           {
            "bin_start": 0.30000000000000004,
            "bin_end": 0.4,
            "count": 0
           },
           {
            "bin_start": 0.4,
            "bin_end": 0.5,
            "count": 0
           },
           {
            "bin_start": 0.5,
            "bin_end": 0.6000000000000001,
            "count": 0
           },
           {
            "bin_start": 0.6000000000000001,
            "bin_end": 0.7000000000000001,
            "count": 0
           },
           {
            "bin_start": 0.7000000000000001,
            "bin_end": 0.8,
            "count": 0
           },
           {
            "bin_start": 0.8,
            "bin_end": 0.9,
            "count": 0
           },
           {
            "bin_start": 0.9,
            "bin_end": 1,
            "count": 0
           }
          ]
         }
        },
        {
         "name": "Unnamed: 45",
         "dtype": "float64",
         "stats": {
          "unique_count": 0,
          "nan_count": 5,
          "min": null,
          "max": null,
          "histogram": [
           {
            "bin_start": 0,
            "bin_end": 0.1,
            "count": 0
           },
           {
            "bin_start": 0.1,
            "bin_end": 0.2,
            "count": 0
           },
           {
            "bin_start": 0.2,
            "bin_end": 0.30000000000000004,
            "count": 0
           },
           {
            "bin_start": 0.30000000000000004,
            "bin_end": 0.4,
            "count": 0
           },
           {
            "bin_start": 0.4,
            "bin_end": 0.5,
            "count": 0
           },
           {
            "bin_start": 0.5,
            "bin_end": 0.6000000000000001,
            "count": 0
           },
           {
            "bin_start": 0.6000000000000001,
            "bin_end": 0.7000000000000001,
            "count": 0
           },
           {
            "bin_start": 0.7000000000000001,
            "bin_end": 0.8,
            "count": 0
           },
           {
            "bin_start": 0.8,
            "bin_end": 0.9,
            "count": 0
           },
           {
            "bin_start": 0.9,
            "bin_end": 1,
            "count": 0
           }
          ]
         }
        },
        {
         "name": "Unnamed: 46",
         "dtype": "float64",
         "stats": {
          "unique_count": 0,
          "nan_count": 5,
          "min": null,
          "max": null,
          "histogram": [
           {
            "bin_start": 0,
            "bin_end": 0.1,
            "count": 0
           },
           {
            "bin_start": 0.1,
            "bin_end": 0.2,
            "count": 0
           },
           {
            "bin_start": 0.2,
            "bin_end": 0.30000000000000004,
            "count": 0
           },
           {
            "bin_start": 0.30000000000000004,
            "bin_end": 0.4,
            "count": 0
           },
           {
            "bin_start": 0.4,
            "bin_end": 0.5,
            "count": 0
           },
           {
            "bin_start": 0.5,
            "bin_end": 0.6000000000000001,
            "count": 0
           },
           {
            "bin_start": 0.6000000000000001,
            "bin_end": 0.7000000000000001,
            "count": 0
           },
           {
            "bin_start": 0.7000000000000001,
            "bin_end": 0.8,
            "count": 0
           },
           {
            "bin_start": 0.8,
            "bin_end": 0.9,
            "count": 0
           },
           {
            "bin_start": 0.9,
            "bin_end": 1,
            "count": 0
           }
          ]
         }
        },
        {
         "name": "Unnamed: 47",
         "dtype": "float64",
         "stats": {
          "unique_count": 0,
          "nan_count": 5,
          "min": null,
          "max": null,
          "histogram": [
           {
            "bin_start": 0,
            "bin_end": 0.1,
            "count": 0
           },
           {
            "bin_start": 0.1,
            "bin_end": 0.2,
            "count": 0
           },
           {
            "bin_start": 0.2,
            "bin_end": 0.30000000000000004,
            "count": 0
           },
           {
            "bin_start": 0.30000000000000004,
            "bin_end": 0.4,
            "count": 0
           },
           {
            "bin_start": 0.4,
            "bin_end": 0.5,
            "count": 0
           },
           {
            "bin_start": 0.5,
            "bin_end": 0.6000000000000001,
            "count": 0
           },
           {
            "bin_start": 0.6000000000000001,
            "bin_end": 0.7000000000000001,
            "count": 0
           },
           {
            "bin_start": 0.7000000000000001,
            "bin_end": 0.8,
            "count": 0
           },
           {
            "bin_start": 0.8,
            "bin_end": 0.9,
            "count": 0
           },
           {
            "bin_start": 0.9,
            "bin_end": 1,
            "count": 0
           }
          ]
         }
        },
        {
         "name": "Unnamed: 48",
         "dtype": "float64",
         "stats": {
          "unique_count": 0,
          "nan_count": 5,
          "min": null,
          "max": null,
          "histogram": [
           {
            "bin_start": 0,
            "bin_end": 0.1,
            "count": 0
           },
           {
            "bin_start": 0.1,
            "bin_end": 0.2,
            "count": 0
           },
           {
            "bin_start": 0.2,
            "bin_end": 0.30000000000000004,
            "count": 0
           },
           {
            "bin_start": 0.30000000000000004,
            "bin_end": 0.4,
            "count": 0
           },
           {
            "bin_start": 0.4,
            "bin_end": 0.5,
            "count": 0
           },
           {
            "bin_start": 0.5,
            "bin_end": 0.6000000000000001,
            "count": 0
           },
           {
            "bin_start": 0.6000000000000001,
            "bin_end": 0.7000000000000001,
            "count": 0
           },
           {
            "bin_start": 0.7000000000000001,
            "bin_end": 0.8,
            "count": 0
           },
           {
            "bin_start": 0.8,
            "bin_end": 0.9,
            "count": 0
           },
           {
            "bin_start": 0.9,
            "bin_end": 1,
            "count": 0
           }
          ]
         }
        },
        {
         "name": "_deepnote_index_column",
         "dtype": "int64"
        }
       ],
       "rows_top": [
        {
         "Victim's name": "Kalon Horton",
         "Victim's age": "29",
         "Victim's gender": "Male",
         "Victim's race": "Black",
         "URL of image of victim": "nan",
         "Date of Incident (month/day/year)": "2021-05-09T00:00:00.000000",
         "Street Address of Incident": "nan",
         "City": "Lancaster",
         "State": "TX",
         "Zipcode": "nan",
         "County": "nan",
         "Agency responsible for death": "Lancaster Police Department",
         "ORI Agency Identifier (if available)": "TX0571700",
         "Cause of death": "Gunshot",
         "A brief description of the circumstances surrounding the death": "Police responded to a call of a man firing shots within an apartment complex. Officers went to Hort…",
         "Official disposition of death (justified or other)": "Pending investigation",
         "Criminal Charges?": "No known charges",
         "Link to news article or photo of official document": "https://www.fox4news.com/news/lancaster-police-officers-involved-in-shooting",
         "Symptoms of mental illness?": "No",
         "Armed/Unarmed Status": "Allegedly Armed",
         "Alleged Weapon (Source: WaPo and Review of Cases Not Included in WaPo Database)": "gun",
         "Alleged Threat Level (Source: WaPo)": "attack",
         "Fleeing (Source: WaPo)": "nan",
         "Body Camera (Source: WaPo)": "no",
         "WaPo ID (If included in WaPo database)": 6842,
         "Off-Duty Killing?": "nan",
         "Geography (via Trulia methodology based on zipcode population density: http://jedkolko.com/wp-content/uploads/2015/05/full-ZCTA-urban-suburban-rural-classification.xlsx )": "nan",
         "MPV ID": "nan",
         "Fatal Encounters ID": "nan",
         "Encounter Type (DRAFT)": "Part 1 Violent Crime",
         "Initial Reported Reason for Encounter (DRAFT)": "gunshots",
         "Names of Officers Involved (DRAFT)": "nan",
         "Race of Officers Involved (DRAFT)": "nan",
         "Known Past Shootings of Officer(s) (DRAFT)": "nan",
         "Call for Service? (DRAFT)": "Yes",
         "Unnamed: 35": "nan",
         "Unnamed: 36": "nan",
         "Unnamed: 37": "nan",
         "Unnamed: 38": "nan",
         "Unnamed: 39": "nan",
         "Unnamed: 40": "nan",
         "Unnamed: 41": "nan",
         "Unnamed: 42": "nan",
         "Unnamed: 43": "nan",
         "Unnamed: 44": "nan",
         "Unnamed: 45": "nan",
         "Unnamed: 46": "nan",
         "Unnamed: 47": "nan",
         "Unnamed: 48": "nan",
         "_deepnote_index_column": 0
        },
        {
         "Victim's name": "Name withheld by police",
         "Victim's age": "nan",
         "Victim's gender": "Male",
         "Victim's race": "Unknown Race",
         "URL of image of victim": "nan",
         "Date of Incident (month/day/year)": "2021-05-09T00:00:00.000000",
         "Street Address of Incident": "90 S. Main St.",
         "City": "Leicester",
         "State": "MA",
         "Zipcode": 1524,
         "County": "Worcester",
         "Agency responsible for death": "Leicester Police Department",
         "ORI Agency Identifier (if available)": "MA0142400",
         "Cause of death": "Gunshot",
         "A brief description of the circumstances surrounding the death": "A man allegedly crashed an SUV into the Leicester Police Station, repeatedly ramming his vehicle in…",
         "Official disposition of death (justified or other)": "Pending investigation",
         "Criminal Charges?": "No known charges",
         "Link to news article or photo of official document": "https://www.wcvb.com/article/leicester-police-station-shooting-car-crash-massachusetts/36374400",
         "Symptoms of mental illness?": "No",
         "Armed/Unarmed Status": "Allegedly Armed",
         "Alleged Weapon (Source: WaPo and Review of Cases Not Included in WaPo Database)": "gun",
         "Alleged Threat Level (Source: WaPo)": "attack",
         "Fleeing (Source: WaPo)": "not fleeing",
         "Body Camera (Source: WaPo)": "no",
         "WaPo ID (If included in WaPo database)": 6844,
         "Off-Duty Killing?": "nan",
         "Geography (via Trulia methodology based on zipcode population density: http://jedkolko.com/wp-content/uploads/2015/05/full-ZCTA-urban-suburban-rural-classification.xlsx )": "Suburban",
         "MPV ID": "nan",
         "Fatal Encounters ID": "nan",
         "Encounter Type (DRAFT)": "Other",
         "Initial Reported Reason for Encounter (DRAFT)": "deliberate car crash",
         "Names of Officers Involved (DRAFT)": "nan",
         "Race of Officers Involved (DRAFT)": "nan",
         "Known Past Shootings of Officer(s) (DRAFT)": "nan",
         "Call for Service? (DRAFT)": "Yes",
         "Unnamed: 35": "nan",
         "Unnamed: 36": "nan",
         "Unnamed: 37": "nan",
         "Unnamed: 38": "nan",
         "Unnamed: 39": "nan",
         "Unnamed: 40": "nan",
         "Unnamed: 41": "nan",
         "Unnamed: 42": "nan",
         "Unnamed: 43": "nan",
         "Unnamed: 44": "nan",
         "Unnamed: 45": "nan",
         "Unnamed: 46": "nan",
         "Unnamed: 47": "nan",
         "Unnamed: 48": "nan",
         "_deepnote_index_column": 1
        },
        {
         "Victim's name": "Jeffrey Mark Murray",
         "Victim's age": "62",
         "Victim's gender": "Male",
         "Victim's race": "Unknown Race",
         "URL of image of victim": "nan",
         "Date of Incident (month/day/year)": "2021-05-09T00:00:00.000000",
         "Street Address of Incident": "nan",
         "City": "Greenville",
         "State": "SC",
         "Zipcode": "nan",
         "County": "nan",
         "Agency responsible for death": "Greenville Police Department",
         "ORI Agency Identifier (if available)": "SC0230000",
         "Cause of death": "Gunshot",
         "A brief description of the circumstances surrounding the death": "Murray allegedly shot and killed David Oliver while Oliver was on the phone with the police. Police…",
         "Official disposition of death (justified or other)": "Pending investigation",
         "Criminal Charges?": "No known charges",
         "Link to news article or photo of official document": "https://www.seattletimes.com/nation-world/nation/cyclist-killed-in-dispute-shooter-dies-in-police-g…",
         "Symptoms of mental illness?": "No",
         "Armed/Unarmed Status": "Allegedly Armed",
         "Alleged Weapon (Source: WaPo and Review of Cases Not Included in WaPo Database)": "gun",
         "Alleged Threat Level (Source: WaPo)": "attack",
         "Fleeing (Source: WaPo)": "not fleeing",
         "Body Camera (Source: WaPo)": "no",
         "WaPo ID (If included in WaPo database)": 6841,
         "Off-Duty Killing?": "nan",
         "Geography (via Trulia methodology based on zipcode population density: http://jedkolko.com/wp-content/uploads/2015/05/full-ZCTA-urban-suburban-rural-classification.xlsx )": "nan",
         "MPV ID": "nan",
         "Fatal Encounters ID": "nan",
         "Encounter Type (DRAFT)": "Part 1 Violent Crime",
         "Initial Reported Reason for Encounter (DRAFT)": "murder",
         "Names of Officers Involved (DRAFT)": "nan",
         "Race of Officers Involved (DRAFT)": "nan",
         "Known Past Shootings of Officer(s) (DRAFT)": "nan",
         "Call for Service? (DRAFT)": "Yes",
         "Unnamed: 35": "nan",
         "Unnamed: 36": "nan",
         "Unnamed: 37": "nan",
         "Unnamed: 38": "nan",
         "Unnamed: 39": "nan",
         "Unnamed: 40": "nan",
         "Unnamed: 41": "nan",
         "Unnamed: 42": "nan",
         "Unnamed: 43": "nan",
         "Unnamed: 44": "nan",
         "Unnamed: 45": "nan",
         "Unnamed: 46": "nan",
         "Unnamed: 47": "nan",
         "Unnamed: 48": "nan",
         "_deepnote_index_column": 2
        },
        {
         "Victim's name": "Everton Brown",
         "Victim's age": "56",
         "Victim's gender": "Male",
         "Victim's race": "Unknown Race",
         "URL of image of victim": "nan",
         "Date of Incident (month/day/year)": "2021-05-08T00:00:00.000000",
         "Street Address of Incident": "nan",
         "City": "Baltimore",
         "State": "MD",
         "Zipcode": "nan",
         "County": "nan",
         "Agency responsible for death": "Baltimore County Police Department",
         "ORI Agency Identifier (if available)": "MD0030000",
         "Cause of death": "Gunshot",
         "A brief description of the circumstances surrounding the death": "Brown allegedly shot and killed two neighbors, and injured another. Police responded to the scene a…",
         "Official disposition of death (justified or other)": "Pending investigation",
         "Criminal Charges?": "No known charges",
         "Link to news article or photo of official document": "https://abcnews.go.com/US/wireStory/police-maryland-man-killed-neighbors-set-house-ablaze-77591766",
         "Symptoms of mental illness?": "Yes",
         "Armed/Unarmed Status": "Allegedly Armed",
         "Alleged Weapon (Source: WaPo and Review of Cases Not Included in WaPo Database)": "gun",
         "Alleged Threat Level (Source: WaPo)": "attack",
         "Fleeing (Source: WaPo)": "not fleeing",
         "Body Camera (Source: WaPo)": "no",
         "WaPo ID (If included in WaPo database)": 6846,
         "Off-Duty Killing?": "nan",
         "Geography (via Trulia methodology based on zipcode population density: http://jedkolko.com/wp-content/uploads/2015/05/full-ZCTA-urban-suburban-rural-classification.xlsx )": "nan",
         "MPV ID": "nan",
         "Fatal Encounters ID": "nan",
         "Encounter Type (DRAFT)": "Part 1 Violent Crime",
         "Initial Reported Reason for Encounter (DRAFT)": "murder",
         "Names of Officers Involved (DRAFT)": "nan",
         "Race of Officers Involved (DRAFT)": "nan",
         "Known Past Shootings of Officer(s) (DRAFT)": "nan",
         "Call for Service? (DRAFT)": "Yes",
         "Unnamed: 35": "nan",
         "Unnamed: 36": "nan",
         "Unnamed: 37": "nan",
         "Unnamed: 38": "nan",
         "Unnamed: 39": "nan",
         "Unnamed: 40": "nan",
         "Unnamed: 41": "nan",
         "Unnamed: 42": "nan",
         "Unnamed: 43": "nan",
         "Unnamed: 44": "nan",
         "Unnamed: 45": "nan",
         "Unnamed: 46": "nan",
         "Unnamed: 47": "nan",
         "Unnamed: 48": "nan",
         "_deepnote_index_column": 3
        },
        {
         "Victim's name": "Felix Jerry Marquez",
         "Victim's age": "34",
         "Victim's gender": "Male",
         "Victim's race": "Hispanic",
         "URL of image of victim": "nan",
         "Date of Incident (month/day/year)": "2021-05-08T00:00:00.000000",
         "Street Address of Incident": "nan",
         "City": "Riverside",
         "State": "CA",
         "Zipcode": "nan",
         "County": "Riverside",
         "Agency responsible for death": "Riverside Police Department",
         "ORI Agency Identifier (if available)": "CA0331300",
         "Cause of death": "Gunshot",
         "A brief description of the circumstances surrounding the death": "Officers who were part of a homeless outreach unit encountered Marquez and claim he pulled a handgu…",
         "Official disposition of death (justified or other)": "Pending investigation",
         "Criminal Charges?": "No known charges",
         "Link to news article or photo of official document": "https://www.avpress.com/news/police-shoot-man-who-pulled-gun/article_cd0b7314-b138-11eb-a877-6f0ab8…",
         "Symptoms of mental illness?": "No",
         "Armed/Unarmed Status": "Allegedly Armed",
         "Alleged Weapon (Source: WaPo and Review of Cases Not Included in WaPo Database)": "gun",
         "Alleged Threat Level (Source: WaPo)": "attack",
         "Fleeing (Source: WaPo)": "not fleeing",
         "Body Camera (Source: WaPo)": "no",
         "WaPo ID (If included in WaPo database)": 6845,
         "Off-Duty Killing?": "nan",
         "Geography (via Trulia methodology based on zipcode population density: http://jedkolko.com/wp-content/uploads/2015/05/full-ZCTA-urban-suburban-rural-classification.xlsx )": "nan",
         "MPV ID": "nan",
         "Fatal Encounters ID": "nan",
         "Encounter Type (DRAFT)": "Person with a gun",
         "Initial Reported Reason for Encounter (DRAFT)": "person with a gun",
         "Names of Officers Involved (DRAFT)": "nan",
         "Race of Officers Involved (DRAFT)": "nan",
         "Known Past Shootings of Officer(s) (DRAFT)": "nan",
         "Call for Service? (DRAFT)": "No",
         "Unnamed: 35": "nan",
         "Unnamed: 36": "nan",
         "Unnamed: 37": "nan",
         "Unnamed: 38": "nan",
         "Unnamed: 39": "nan",
         "Unnamed: 40": "nan",
         "Unnamed: 41": "nan",
         "Unnamed: 42": "nan",
         "Unnamed: 43": "nan",
         "Unnamed: 44": "nan",
         "Unnamed: 45": "nan",
         "Unnamed: 46": "nan",
         "Unnamed: 47": "nan",
         "Unnamed: 48": "nan",
         "_deepnote_index_column": 4
        }
       ],
       "rows_bottom": null
      },
      "text/plain": "             Victim's name Victim's age Victim's gender Victim's race  \\\n0             Kalon Horton           29            Male         Black   \n1  Name withheld by police          NaN            Male  Unknown Race   \n2      Jeffrey Mark Murray           62            Male  Unknown Race   \n3            Everton Brown           56            Male  Unknown Race   \n4      Felix Jerry Marquez           34            Male      Hispanic   \n\n  URL of image of victim Date of Incident (month/day/year)  \\\n0                    NaN                        2021-05-09   \n1                    NaN                        2021-05-09   \n2                    NaN                        2021-05-09   \n3                    NaN                        2021-05-08   \n4                    NaN                        2021-05-08   \n\n  Street Address of Incident        City State  Zipcode  ... Unnamed: 39  \\\n0                        NaN   Lancaster    TX      NaN  ...         NaN   \n1             90 S. Main St.   Leicester    MA   1524.0  ...         NaN   \n2                        NaN  Greenville    SC      NaN  ...         NaN   \n3                        NaN   Baltimore    MD      NaN  ...         NaN   \n4                        NaN   Riverside    CA      NaN  ...         NaN   \n\n  Unnamed: 40 Unnamed: 41 Unnamed: 42 Unnamed: 43 Unnamed: 44 Unnamed: 45  \\\n0         NaN         NaN         NaN         NaN         NaN         NaN   \n1         NaN         NaN         NaN         NaN         NaN         NaN   \n2         NaN         NaN         NaN         NaN         NaN         NaN   \n3         NaN         NaN         NaN         NaN         NaN         NaN   \n4         NaN         NaN         NaN         NaN         NaN         NaN   \n\n  Unnamed: 46 Unnamed: 47 Unnamed: 48  \n0         NaN         NaN         NaN  \n1         NaN         NaN         NaN  \n2         NaN         NaN         NaN  \n3         NaN         NaN         NaN  \n4         NaN         NaN         NaN  \n\n[5 rows x 49 columns]",
      "text/html": "<div>\n<style scoped>\n    .dataframe tbody tr th:only-of-type {\n        vertical-align: middle;\n    }\n\n    .dataframe tbody tr th {\n        vertical-align: top;\n    }\n\n    .dataframe thead th {\n        text-align: right;\n    }\n</style>\n<table border=\"1\" class=\"dataframe\">\n  <thead>\n    <tr style=\"text-align: right;\">\n      <th></th>\n      <th>Victim's name</th>\n      <th>Victim's age</th>\n      <th>Victim's gender</th>\n      <th>Victim's race</th>\n      <th>URL of image of victim</th>\n      <th>Date of Incident (month/day/year)</th>\n      <th>Street Address of Incident</th>\n      <th>City</th>\n      <th>State</th>\n      <th>Zipcode</th>\n      <th>...</th>\n      <th>Unnamed: 39</th>\n      <th>Unnamed: 40</th>\n      <th>Unnamed: 41</th>\n      <th>Unnamed: 42</th>\n      <th>Unnamed: 43</th>\n      <th>Unnamed: 44</th>\n      <th>Unnamed: 45</th>\n      <th>Unnamed: 46</th>\n      <th>Unnamed: 47</th>\n      <th>Unnamed: 48</th>\n    </tr>\n  </thead>\n  <tbody>\n    <tr>\n      <th>0</th>\n      <td>Kalon Horton</td>\n      <td>29</td>\n      <td>Male</td>\n      <td>Black</td>\n      <td>NaN</td>\n      <td>2021-05-09</td>\n      <td>NaN</td>\n      <td>Lancaster</td>\n      <td>TX</td>\n      <td>NaN</td>\n      <td>...</td>\n      <td>NaN</td>\n      <td>NaN</td>\n      <td>NaN</td>\n      <td>NaN</td>\n      <td>NaN</td>\n      <td>NaN</td>\n      <td>NaN</td>\n      <td>NaN</td>\n      <td>NaN</td>\n      <td>NaN</td>\n    </tr>\n    <tr>\n      <th>1</th>\n      <td>Name withheld by police</td>\n      <td>NaN</td>\n      <td>Male</td>\n      <td>Unknown Race</td>\n      <td>NaN</td>\n      <td>2021-05-09</td>\n      <td>90 S. Main St.</td>\n      <td>Leicester</td>\n      <td>MA</td>\n      <td>1524.0</td>\n      <td>...</td>\n      <td>NaN</td>\n      <td>NaN</td>\n      <td>NaN</td>\n      <td>NaN</td>\n      <td>NaN</td>\n      <td>NaN</td>\n      <td>NaN</td>\n      <td>NaN</td>\n      <td>NaN</td>\n      <td>NaN</td>\n    </tr>\n    <tr>\n      <th>2</th>\n      <td>Jeffrey Mark Murray</td>\n      <td>62</td>\n      <td>Male</td>\n      <td>Unknown Race</td>\n      <td>NaN</td>\n      <td>2021-05-09</td>\n      <td>NaN</td>\n      <td>Greenville</td>\n      <td>SC</td>\n      <td>NaN</td>\n      <td>...</td>\n      <td>NaN</td>\n      <td>NaN</td>\n      <td>NaN</td>\n      <td>NaN</td>\n      <td>NaN</td>\n      <td>NaN</td>\n      <td>NaN</td>\n      <td>NaN</td>\n      <td>NaN</td>\n      <td>NaN</td>\n    </tr>\n    <tr>\n      <th>3</th>\n      <td>Everton Brown</td>\n      <td>56</td>\n      <td>Male</td>\n      <td>Unknown Race</td>\n      <td>NaN</td>\n      <td>2021-05-08</td>\n      <td>NaN</td>\n      <td>Baltimore</td>\n      <td>MD</td>\n      <td>NaN</td>\n      <td>...</td>\n      <td>NaN</td>\n      <td>NaN</td>\n      <td>NaN</td>\n      <td>NaN</td>\n      <td>NaN</td>\n      <td>NaN</td>\n      <td>NaN</td>\n      <td>NaN</td>\n      <td>NaN</td>\n      <td>NaN</td>\n    </tr>\n    <tr>\n      <th>4</th>\n      <td>Felix Jerry Marquez</td>\n      <td>34</td>\n      <td>Male</td>\n      <td>Hispanic</td>\n      <td>NaN</td>\n      <td>2021-05-08</td>\n      <td>NaN</td>\n      <td>Riverside</td>\n      <td>CA</td>\n      <td>NaN</td>\n      <td>...</td>\n      <td>NaN</td>\n      <td>NaN</td>\n      <td>NaN</td>\n      <td>NaN</td>\n      <td>NaN</td>\n      <td>NaN</td>\n      <td>NaN</td>\n      <td>NaN</td>\n      <td>NaN</td>\n      <td>NaN</td>\n    </tr>\n  </tbody>\n</table>\n<p>5 rows × 49 columns</p>\n</div>"
     },
     "metadata": {}
    }
   ],
   "execution_count": null
  },
  {
   "cell_type": "markdown",
   "source": "\n### Initial Data Summarization",
   "metadata": {
    "tags": [],
    "cell_id": "00005-c2be99bc-51e5-4ac6-9fd0-2bd2f81eafb1",
    "deepnote_cell_type": "markdown"
   }
  },
  {
   "cell_type": "code",
   "metadata": {
    "deepnote_to_be_reexecuted": false,
    "execution_millis": 12,
    "execution_start": 1622221389204,
    "source_hash": "cbfec6c2",
    "tags": [],
    "cell_id": "00006-83f1878e-542b-4213-a93e-6bae09a754c6",
    "deepnote_cell_type": "code"
   },
   "source": "# rows and columns\ndf.shape",
   "outputs": [
    {
     "output_type": "execute_result",
     "execution_count": 3,
     "data": {
      "text/plain": "(9147, 49)"
     },
     "metadata": {}
    }
   ],
   "execution_count": null
  },
  {
   "cell_type": "code",
   "metadata": {
    "deepnote_to_be_reexecuted": false,
    "execution_millis": 26,
    "execution_start": 1622221389231,
    "source_hash": "5451bed5",
    "tags": [],
    "cell_id": "00007-55deb0cc-6912-4572-8d6b-fa115d7e2224",
    "deepnote_cell_type": "code"
   },
   "source": "# list of column names and data types with information\ndf.info()",
   "outputs": [
    {
     "name": "stdout",
     "text": "<class 'pandas.core.frame.DataFrame'>\nRangeIndex: 9147 entries, 0 to 9146\nData columns (total 49 columns):\n #   Column                                                                                                                                                                      Non-Null Count  Dtype         \n---  ------                                                                                                                                                                      --------------  -----         \n 0   Victim's name                                                                                                                                                               9147 non-null   object        \n 1   Victim's age                                                                                                                                                                9138 non-null   object        \n 2   Victim's gender                                                                                                                                                             9137 non-null   object        \n 3   Victim's race                                                                                                                                                               9147 non-null   object        \n 4   URL of image of victim                                                                                                                                                      4882 non-null   object        \n 5   Date of Incident (month/day/year)                                                                                                                                           9147 non-null   datetime64[ns]\n 6   Street Address of Incident                                                                                                                                                  9042 non-null   object        \n 7   City                                                                                                                                                                        9138 non-null   object        \n 8   State                                                                                                                                                                       9147 non-null   object        \n 9   Zipcode                                                                                                                                                                     9099 non-null   float64       \n 10  County                                                                                                                                                                      9130 non-null   object        \n 11  Agency responsible for death                                                                                                                                                9143 non-null   object        \n 12  ORI Agency Identifier (if available)                                                                                                                                        9144 non-null   object        \n 13  Cause of death                                                                                                                                                              9147 non-null   object        \n 14  A brief description of the circumstances surrounding the death                                                                                                              9132 non-null   object        \n 15  Official disposition of death (justified or other)                                                                                                                          9136 non-null   object        \n 16  Criminal Charges?                                                                                                                                                           9147 non-null   object        \n 17  Link to news article or photo of official document                                                                                                                          9147 non-null   object        \n 18  Symptoms of mental illness?                                                                                                                                                 9086 non-null   object        \n 19  Armed/Unarmed Status                                                                                                                                                        9147 non-null   object        \n 20  Alleged Weapon (Source: WaPo and Review of Cases Not Included in WaPo Database)                                                                                             9147 non-null   object        \n 21  Alleged Threat Level (Source: WaPo)                                                                                                                                         6750 non-null   object        \n 22  Fleeing (Source: WaPo)                                                                                                                                                      6056 non-null   object        \n 23  Body Camera (Source: WaPo)                                                                                                                                                  5982 non-null   object        \n 24  WaPo ID (If included in WaPo database)                                                                                                                                      6048 non-null   float64       \n 25  Off-Duty Killing?                                                                                                                                                           248 non-null    object        \n 26  Geography (via Trulia methodology based on zipcode population density: http://jedkolko.com/wp-content/uploads/2015/05/full-ZCTA-urban-suburban-rural-classification.xlsx )  9122 non-null   object        \n 27  MPV ID                                                                                                                                                                      9068 non-null   float64       \n 28  Fatal Encounters ID                                                                                                                                                         9016 non-null   float64       \n 29  Encounter Type (DRAFT)                                                                                                                                                      4839 non-null   object        \n 30  Initial Reported Reason for Encounter (DRAFT)                                                                                                                               4839 non-null   object        \n 31  Names of Officers Involved (DRAFT)                                                                                                                                          1394 non-null   object        \n 32  Race of Officers Involved (DRAFT)                                                                                                                                           341 non-null    object        \n 33  Known Past Shootings of Officer(s) (DRAFT)                                                                                                                                  74 non-null     object        \n 34  Call for Service? (DRAFT)                                                                                                                                                   3616 non-null   object        \n 35  Unnamed: 35                                                                                                                                                                 0 non-null      float64       \n 36  Unnamed: 36                                                                                                                                                                 0 non-null      float64       \n 37  Unnamed: 37                                                                                                                                                                 0 non-null      float64       \n 38  Unnamed: 38                                                                                                                                                                 0 non-null      float64       \n 39  Unnamed: 39                                                                                                                                                                 0 non-null      float64       \n 40  Unnamed: 40                                                                                                                                                                 0 non-null      float64       \n 41  Unnamed: 41                                                                                                                                                                 0 non-null      float64       \n 42  Unnamed: 42                                                                                                                                                                 0 non-null      float64       \n 43  Unnamed: 43                                                                                                                                                                 0 non-null      float64       \n 44  Unnamed: 44                                                                                                                                                                 0 non-null      float64       \n 45  Unnamed: 45                                                                                                                                                                 0 non-null      float64       \n 46  Unnamed: 46                                                                                                                                                                 0 non-null      float64       \n 47  Unnamed: 47                                                                                                                                                                 0 non-null      float64       \n 48  Unnamed: 48                                                                                                                                                                 0 non-null      float64       \ndtypes: datetime64[ns](1), float64(18), object(30)\nmemory usage: 3.4+ MB\n",
     "output_type": "stream"
    }
   ],
   "execution_count": null
  },
  {
   "cell_type": "code",
   "metadata": {
    "deepnote_to_be_reexecuted": false,
    "execution_millis": 16,
    "execution_start": 1622221389271,
    "source_hash": "f099b8f5",
    "tags": [],
    "cell_id": "00008-629e173f-11ab-44bf-8985-0e0d1c00e56d",
    "deepnote_cell_type": "code"
   },
   "source": "# check nulls\ndf.isnull().sum()",
   "outputs": [
    {
     "output_type": "execute_result",
     "execution_count": 5,
     "data": {
      "text/plain": "Victim's name                                                                                                                                                                    0\nVictim's age                                                                                                                                                                     9\nVictim's gender                                                                                                                                                                 10\nVictim's race                                                                                                                                                                    0\nURL of image of victim                                                                                                                                                        4265\nDate of Incident (month/day/year)                                                                                                                                                0\nStreet Address of Incident                                                                                                                                                     105\nCity                                                                                                                                                                             9\nState                                                                                                                                                                            0\nZipcode                                                                                                                                                                         48\nCounty                                                                                                                                                                          17\nAgency responsible for death                                                                                                                                                     4\nORI Agency Identifier (if available)                                                                                                                                             3\nCause of death                                                                                                                                                                   0\nA brief description of the circumstances surrounding the death                                                                                                                  15\nOfficial disposition of death (justified or other)                                                                                                                              11\nCriminal Charges?                                                                                                                                                                0\nLink to news article or photo of official document                                                                                                                               0\nSymptoms of mental illness?                                                                                                                                                     61\nArmed/Unarmed Status                                                                                                                                                             0\nAlleged Weapon (Source: WaPo and Review of Cases Not Included in WaPo Database)                                                                                                  0\nAlleged Threat Level (Source: WaPo)                                                                                                                                           2397\nFleeing (Source: WaPo)                                                                                                                                                        3091\nBody Camera (Source: WaPo)                                                                                                                                                    3165\nWaPo ID (If included in WaPo database)                                                                                                                                        3099\nOff-Duty Killing?                                                                                                                                                             8899\nGeography (via Trulia methodology based on zipcode population density: http://jedkolko.com/wp-content/uploads/2015/05/full-ZCTA-urban-suburban-rural-classification.xlsx )      25\nMPV ID                                                                                                                                                                          79\nFatal Encounters ID                                                                                                                                                            131\nEncounter Type (DRAFT)                                                                                                                                                        4308\nInitial Reported Reason for Encounter (DRAFT)                                                                                                                                 4308\nNames of Officers Involved (DRAFT)                                                                                                                                            7753\nRace of Officers Involved (DRAFT)                                                                                                                                             8806\nKnown Past Shootings of Officer(s) (DRAFT)                                                                                                                                    9073\nCall for Service? (DRAFT)                                                                                                                                                     5531\nUnnamed: 35                                                                                                                                                                   9147\nUnnamed: 36                                                                                                                                                                   9147\nUnnamed: 37                                                                                                                                                                   9147\nUnnamed: 38                                                                                                                                                                   9147\nUnnamed: 39                                                                                                                                                                   9147\nUnnamed: 40                                                                                                                                                                   9147\nUnnamed: 41                                                                                                                                                                   9147\nUnnamed: 42                                                                                                                                                                   9147\nUnnamed: 43                                                                                                                                                                   9147\nUnnamed: 44                                                                                                                                                                   9147\nUnnamed: 45                                                                                                                                                                   9147\nUnnamed: 46                                                                                                                                                                   9147\nUnnamed: 47                                                                                                                                                                   9147\nUnnamed: 48                                                                                                                                                                   9147\ndtype: int64"
     },
     "metadata": {}
    }
   ],
   "execution_count": null
  },
  {
   "cell_type": "code",
   "metadata": {
    "deepnote_to_be_reexecuted": false,
    "execution_millis": 27,
    "execution_start": 1622221389338,
    "source_hash": "986d469e",
    "tags": [],
    "cell_id": "00009-bb87d9cb-c78d-4dbe-a4e2-9b9e7459c0e6",
    "deepnote_cell_type": "code"
   },
   "source": "# specify useless columns and what to exclude for counts\nuseless_columns = df.columns[35:]\nexclusions = [\"Victim's name\", \n              \"URL of image of victim\", \n              \"Date of Incident (month/day/year)\", \n              \"Street Address of Incident\", \n              \"City\", \"State\", \"Zipcode\", \"County\", \n              \"Agency responsible for death\", \"ORI Agency Identifier (if available)\", \n              \"A brief description of the circumstances surrounding the death\", \n              \"Link to news article or photo of official document\", \n              \"Link to news article or photo of official document\", \n              \"WaPo ID (If included in WaPo database)\", \n              \"MPV ID\", \n              \"Fatal Encounters ID\", \n              \"Names of Officers Involved (DRAFT)\"]\n\n# getting value counts for specific columns\nfor column in df.columns:\n    if column not in exclusions and column not in useless_columns:\n        print(column.upper())\n        print(df[column].value_counts())\n        print(\"-------------------------------------\")",
   "outputs": [
    {
     "name": "stdout",
     "text": "VICTIM'S AGE\nUnknown    331\n25         299\n27         294\n31         290\n28         289\n          ... \n88           1\n93           1\n95           1\n107          1\n40s          1\nName: Victim's age, Length: 89, dtype: int64\n-------------------------------------\nVICTIM'S GENDER\nMale           8668\nFemale          453\nTransgender       9\nUnknown           6\nMale              1\nName: Victim's gender, dtype: int64\n-------------------------------------\nVICTIM'S RACE\nWhite                     3993\nBlack                     2306\nHispanic                  1631\nUnknown Race               896\nAsian                      135\nNative American            130\nPacific Islander            52\nUnknown race                 2\nAsian/Pacific Islander       1\nHispanic                     1\nName: Victim's race, dtype: int64\n-------------------------------------\nCAUSE OF DEATH\nGunshot                                    8434\nGunshot, Taser                              273\nTaser                                       250\nVehicle                                      48\nPhysical Restraint                           33\nBeaten                                       31\nTasered                                      21\nPhysical restraint                            9\nAsphyxiated                                   9\nOther                                         6\nGunshot, Police Dog                           5\nPepper Spray                                  4\nGunshot, Pepper Spray                         4\nTaser, Physical Restraint                     2\nBean bag                                      2\nTaser, Pepper Spray, Beaten                   1\nGunshot, Taser, Pepper spray                  1\nGunshot, Vehicle                              1\nGunshot, Stabbed                              1\nBeaten/Bludgeoned with instrument             1\nGunshot, Unspecified Less Lethal Weapon       1\nTaser, Baton                                  1\nTaser, Pepper spray, beaten                   1\nGunshot, Taser, Beanbag Shotgun               1\nBomb                                          1\nGunshot, Bean Bag Gun                         1\nGunshot, Beanbag Gun                          1\nChemical agent/Pepper spray                   1\nBaton, Pepper Spray, Physical Restraint       1\nTaser, Beaten                                 1\nGunshot, Taser, Baton                         1\nName: Cause of death, dtype: int64\n-------------------------------------\nOFFICIAL DISPOSITION OF DEATH (JUSTIFIED OR OTHER)\nPending investigation/No Known Charges                                4852\nUnreported                                                            1223\nPending investigation                                                 1087\nJustified                                                              651\nJustified by District Attorney                                         350\n                                                                      ... \nCharged with involuntary manslaughter, Acquitted                         1\nCharged, Convicted of Third Degree Murder                                1\nCharged with criminal homicide, assault, and reckless endangerment       1\nCharged with homicide and felony firearm charges, Acquitted              1\nCharged with assault                                                     1\nName: Official disposition of death (justified or other), Length: 154, dtype: int64\n-------------------------------------\nCRIMINAL CHARGES?\nNo known charges                                                                 8993\nCharged with a crime                                                               67\nCharged, Acquitted                                                                 32\nCharged, Charges Dropped                                                            7\nCharged, Mistrial                                                                   6\nCharged, Convicted                                                                  5\nCharged, Convicted, Sentenced to 30 years in prison                                 2\nCharged, Convicted, Sentenced to life in prison                                     2\nCharged, Convicted, Sentenced to 5 years probation.                                 2\nCharged, Convicted, Sentenced to 10 years in prison                                 2\nCharged, Convicted, Sentenced to 3 years probation                                  1\nCharged, Plead Guilty to Manslaughter, Sentenced to 5 years in prison               1\nCharged, Convicted, Sentenced to 50 years                                           1\nCharged, Convicted, Sentenced to 40 years in prison                                 1\nCharged, Convicted, Sentenced to Life in Prison                                     1\nCharged, Mistrial, Plead Guilty to Manslaughter                                     1\nCharged, Convicted, Sentenced to 10 Years of Prison                                 1\nCharged, Convicted, Sentenced to 1 year in jail, 3 years suspended                  1\nCharged, Convicted, Sentenced to 14 years in prison                                 1\nCharged, Convicted, Sentenced to 16 years in prison                                 1\nCharged, Convicted, Sentenced to 12 years in prison and 8 years in probation        1\nCharged, Convicted, Sentenced to 1 year in prison and 4 years probation             1\nCharged, Convicted, Sentenced to 6 years                                            1\nCharged, Convicted, Sentenced to 20 years in prison                                 1\nCharged, Convicted, Sentenced to 7 years in prison                                  1\nCharged, Convicted, Sentenced to 2.5 years in prison                                1\nCharged, Mistrial, Plead Guilty to Civil Rights Charges                             1\nCharged, Convicted, Sentenced to 18 months                                          1\nCharged, Convicted, Sentenced to 4 years                                            1\nCharged, Convicted, Sentenced to 1 year in prison                                   1\nCharged, Convicted, Sentenced to 6 years in prison                                  1\nCharged, Convicted, Sentenced to 3 months in jail                                   1\nCharged, Convicted of reckless homicide, sentenced to 1 year in prison              1\nCharged, Convicted of assault                                                       1\nCharged, Convicted, Sentenced to life in prison without parole, plus 16 years       1\nCharged, Convicted, Sentenced to 40 years to Life in prison                         1\nCharged, Convicted, Sentenced to 5 years in prison                                  1\nCharged, Plead No Contest, Sentenced to 10 years probation                          1\nCharged, Convicted, Sentenced to 25 years in prison                                 1\nName: Criminal Charges?, dtype: int64\n-------------------------------------\nSYMPTOMS OF MENTAL ILLNESS?\nNo                         5897\nYes                        1678\nUnknown                    1179\nDrug or alcohol use         326\nDrug or Alcohol Use           2\nunknown                       1\nUnknown                       1\nYes/Drug or alcohol use       1\nUnkown                        1\nName: Symptoms of mental illness?, dtype: int64\n-------------------------------------\nARMED/UNARMED STATUS\nAllegedly Armed                       6552\nUnarmed/Did Not Have Actual Weapon    1212\nUnclear                                764\nVehicle                                594\nAllegedly armed                         24\nUnclear                                  1\nName: Armed/Unarmed Status, dtype: int64\n-------------------------------------\nALLEGED WEAPON (SOURCE: WAPO AND REVIEW OF CASES NOT INCLUDED IN WAPO DATABASE)\ngun                  4814\nknife                1200\nno object             926\nundetermined          598\nvehicle               529\n                     ... \nmachete and pipe        1\nprobe                   1\nfireworks and gun       1\nwalking stick           1\nlighter                 1\nName: Alleged Weapon (Source: WaPo and Review of Cases Not Included in WaPo Database), Length: 176, dtype: int64\n-------------------------------------\nALLEGED THREAT LEVEL (SOURCE: WAPO)\nattack          4332\nother           2052\nundetermined     363\nOther              1\nnone               1\nNone               1\nName: Alleged Threat Level (Source: WaPo), dtype: int64\n-------------------------------------\nFLEEING (SOURCE: WAPO)\nNot fleeing     3794\nCar              963\nFoot             752\nOther            181\nnot fleeing      176\nfoot              65\ncar               51\nNot Fleeing       47\nother             24\nnot fleeing        3\nName: Fleeing (Source: WaPo), dtype: int64\n-------------------------------------\nBODY CAMERA (SOURCE: WAPO)\nNo                    5044\nYes                    615\nno                     261\nyes                     46\nSurveillance Video       5\nBystander Video          4\nDashcam Video            2\nSurveillance video       2\ncell phone video         1\nsurveillance video       1\nDashcam video            1\nName: Body Camera (Source: WaPo), dtype: int64\n-------------------------------------\nOFF-DUTY KILLING?\nOff-Duty    231\nOff-duty     14\noff-duty      3\nName: Off-Duty Killing?, dtype: int64\n-------------------------------------\nGEOGRAPHY (VIA TRULIA METHODOLOGY BASED ON ZIPCODE POPULATION DENSITY: HTTP://JEDKOLKO.COM/WP-CONTENT/UPLOADS/2015/05/FULL-ZCTA-URBAN-SUBURBAN-RURAL-CLASSIFICATION.XLSX )\nSuburban        4550\nUrban           2448\nRural           2043\nUndetermined      81\nName: Geography (via Trulia methodology based on zipcode population density: http://jedkolko.com/wp-content/uploads/2015/05/full-ZCTA-urban-suburban-rural-classification.xlsx ), dtype: int64\n-------------------------------------\nENCOUNTER TYPE (DRAFT)\nPart 1 Violent Crime                                                        1283\nOther Non-Violent Offense                                                    928\nTraffic Stop                                                                 497\nMental Health/Welfare Check                                                  494\nDomestic Disturbance                                                         383\n                                                                            ... \nDomestic Disturbance-intimate partner and family (married and immediate)       1\nPerson with a Weapon (bat)                                                     1\nPerson with a Weapon (gun and knife)/Other Non-Violent Offense                 1\nPerson with a Weapon (knife, explosive)                                        1\nDomestic Disturbance-familiy (immediate)                                       1\nName: Encounter Type (DRAFT), Length: 66, dtype: int64\n-------------------------------------\nINITIAL REPORTED REASON FOR ENCOUNTER (DRAFT)\nTraffic violation                                        237\nShooting                                                 184\ndomestic disturbance                                     152\nDomestic Disturbance-no specific details                 131\ndomestic incident                                         93\n                                                        ... \nshoplifting                                                1\nTransient                                                  1\nwarrant (controlled substances)                            1\nno details                                                 1\ndomestic situation - cop and victim engaged in affair      1\nName: Initial Reported Reason for Encounter (DRAFT), Length: 1475, dtype: int64\n-------------------------------------\nRACE OF OFFICERS INVOLVED (DRAFT)\nWhite                                                                 148\nWhite, White                                                           47\nHispanic                                                               24\nWhite, White, White                                                    13\nBlack                                                                  13\n                                                                     ... \nUnknown, Unknown, Unknown, Unknown, Unknown, White, White, Unknown      1\nWhite, White, White, Hispanic                                           1\nWhite, White, White, Unknown, White, White, White, White                1\nWhite, White, White, Black, White                                       1\nWhite, White, White, Black, Black, Unknown                              1\nName: Race of Officers Involved (DRAFT), Length: 63, dtype: int64\n-------------------------------------\nKNOWN PAST SHOOTINGS OF OFFICER(S) (DRAFT)\n1       50\n2       11\n3        5\nNone     5\n4        2\nNo       1\nName: Known Past Shootings of Officer(s) (DRAFT), dtype: int64\n-------------------------------------\nCALL FOR SERVICE? (DRAFT)\nYes            2257\nNo             1099\nUnavailable     203\nNo               55\nyes               2\nName: Call for Service? (DRAFT), dtype: int64\n-------------------------------------\n",
     "output_type": "stream"
    }
   ],
   "execution_count": null
  },
  {
   "cell_type": "code",
   "metadata": {
    "deepnote_to_be_reexecuted": false,
    "execution_millis": 2206,
    "execution_start": 1622221389422,
    "source_hash": "e1563a2a",
    "tags": [],
    "cell_id": "00010-9c25ad57-598c-4222-a646-cda60455a1db",
    "deepnote_cell_type": "code"
   },
   "source": "# specify more columns to exclude for univariate distributions\nmore_exclusions = [\"Victim's age\", \n                   \"Cause of death\", \n                   \"Official disposition of death (justified or other)\", \n                   \"Alleged Weapon (Source: WaPo and Review of Cases Not Included in WaPo Database)\", \n                   \"Encounter Type (DRAFT)\", \n                   \"Initial Reported Reason for Encounter (DRAFT)\", \n                   \"Criminal Charges?\",\n                   \"Race of Officers Involved (DRAFT)\", \n                   \"Geography (via Trulia methodology based on zipcode population density: http://jedkolko.com/wp-content/uploads/2015/05/full-ZCTA-urban-suburban-rural-classification.xlsx )\"]\n\n# univariate distributions\nfor column in df.columns:\n    if column not in exclusions and column not in useless_columns and column not in more_exclusions:\n        sns.countplot(x=df[column], data=df, palette = 'ocean_r')\n        print(\"------------------------------------------------------\")\n        print(\"------------------------------------------------------\")\n        plt.xticks(rotation=65)\n        plt.show()",
   "outputs": [
    {
     "name": "stdout",
     "text": "------------------------------------------------------\n------------------------------------------------------\n",
     "output_type": "stream"
    },
    {
     "data": {
      "text/plain": "<Figure size 432x288 with 1 Axes>",
      "image/png": "[encoded data removed]"
     },
     "metadata": {
      "needs_background": "light",
      "image/png": {
       "width": 395,
       "height": 313
      }
     },
     "output_type": "display_data"
    },
    {
     "name": "stdout",
     "text": "------------------------------------------------------\n------------------------------------------------------\n",
     "output_type": "stream"
    },
    {
     "data": {
      "text/plain": "<Figure size 432x288 with 1 Axes>",
      "image/png": "[encoded data removed]"
     },
     "metadata": {
      "needs_background": "light",
      "image/png": {
       "width": 395,
       "height": 353
      }
     },
     "output_type": "display_data"
    },
    {
     "name": "stdout",
     "text": "------------------------------------------------------\n------------------------------------------------------\n",
     "output_type": "stream"
    },
    {
     "data": {
      "text/plain": "<Figure size 432x288 with 1 Axes>",
      "image/png": "[encoded data removed]"
     },
     "metadata": {
      "needs_background": "light",
      "image/png": {
       "width": 395,
       "height": 363
      }
     },
     "output_type": "display_data"
    },
    {
     "name": "stdout",
     "text": "------------------------------------------------------\n------------------------------------------------------\n",
     "output_type": "stream"
    },
    {
     "data": {
      "text/plain": "<Figure size 432x288 with 1 Axes>",
      "image/png": "[encoded data removed]"
     },
     "metadata": {
      "needs_background": "light",
      "image/png": {
       "width": 395,
       "height": 432
      }
     },
     "output_type": "display_data"
    },
    {
     "name": "stdout",
     "text": "------------------------------------------------------\n------------------------------------------------------\n",
     "output_type": "stream"
    },
    {
     "data": {
      "text/plain": "<Figure size 432x288 with 1 Axes>",
      "image/png": "[encoded data removed]"
     },
     "metadata": {
      "needs_background": "light",
      "image/png": {
       "width": 395,
       "height": 321
      }
     },
     "output_type": "display_data"
    },
    {
     "name": "stdout",
     "text": "------------------------------------------------------\n------------------------------------------------------\n",
     "output_type": "stream"
    },
    {
     "data": {
      "text/plain": "<Figure size 432x288 with 1 Axes>",
      "image/png": "[encoded data removed]"
     },
     "metadata": {
      "needs_background": "light",
      "image/png": {
       "width": 395,
       "height": 308
      }
     },
     "output_type": "display_data"
    },
    {
     "name": "stdout",
     "text": "------------------------------------------------------\n------------------------------------------------------\n",
     "output_type": "stream"
    },
    {
     "data": {
      "text/plain": "<Figure size 432x288 with 1 Axes>",
      "image/png": "[encoded data removed]"
     },
     "metadata": {
      "needs_background": "light",
      "image/png": {
       "width": 400,
       "height": 341
      }
     },
     "output_type": "display_data"
    },
    {
     "name": "stdout",
     "text": "------------------------------------------------------\n------------------------------------------------------\n",
     "output_type": "stream"
    },
    {
     "data": {
      "text/plain": "<Figure size 432x288 with 1 Axes>",
      "image/png": "[encoded data removed]"
     },
     "metadata": {
      "needs_background": "light",
      "image/png": {
       "width": 389,
       "height": 295
      }
     },
     "output_type": "display_data"
    },
    {
     "name": "stdout",
     "text": "------------------------------------------------------\n------------------------------------------------------\n",
     "output_type": "stream"
    },
    {
     "data": {
      "text/plain": "<Figure size 432x288 with 1 Axes>",
      "image/png": "[encoded data removed]"
     },
     "metadata": {
      "needs_background": "light",
      "image/png": {
       "width": 382,
       "height": 280
      }
     },
     "output_type": "display_data"
    },
    {
     "name": "stdout",
     "text": "------------------------------------------------------\n------------------------------------------------------\n",
     "output_type": "stream"
    },
    {
     "data": {
      "text/plain": "<Figure size 432x288 with 1 Axes>",
      "image/png": "[encoded data removed]"
     },
     "metadata": {
      "needs_background": "light",
      "image/png": {
       "width": 395,
       "height": 310
      }
     },
     "output_type": "display_data"
    }
   ],
   "execution_count": null
  },
  {
   "cell_type": "markdown",
   "source": "### Takeaways\n- There are a couple of unnecessary columns (begin with `Unnamed:`).\n- Messy column names need to be renamed for better readability.\n- A lot of columns are not needed due to nulls/unusable and will need to be dropped. \n- Most values in each column have a wide variety of text variation. These should be lowercased, stripped, and grouped. \n- Many nulls in dataset that need to be filled in or dropped.\n- Dummy variables and encoding needs to be done to pretty much all of the dataset in order to model/evaluate. \n- Possibly a good idea to create age bins.\n- Possible exploration with time series. Set `Date of Incident` as datetime index?\n",
   "metadata": {
    "tags": [],
    "cell_id": "00011-0dff2a89-7f96-4e3d-8ff3-2fce8d9d2904",
    "deepnote_cell_type": "markdown"
   }
  },
  {
   "cell_type": "markdown",
   "source": "\n___\n# Prepare and Split Data",
   "metadata": {
    "cell_id": "00012-c663e55e-279e-4d16-a7cb-03095c599a49",
    "deepnote_cell_type": "markdown"
   }
  },
  {
   "cell_type": "code",
   "metadata": {
    "deepnote_to_be_reexecuted": false,
    "execution_millis": 9646,
    "execution_start": 1622221391631,
    "source_hash": "dc04ed44",
    "tags": [],
    "cell_id": "00013-6a7cb8e6-79d9-4dcd-8e1f-e609a00b2f9c",
    "deepnote_cell_type": "code"
   },
   "source": "#grab cleaned data frame from wrangle.py\ndf = w.wrangle_data(cached=False)",
   "outputs": [],
   "execution_count": null
  },
  {
   "cell_type": "code",
   "metadata": {
    "tags": [],
    "deepnote_to_be_reexecuted": false,
    "source_hash": "14f60b8f",
    "execution_start": 1622221401285,
    "execution_millis": 11,
    "cell_id": "00014-b37d0d77-22a1-478d-9d0d-6937ecbdd177",
    "deepnote_cell_type": "code"
   },
   "source": "df.shape",
   "outputs": [
    {
     "output_type": "execute_result",
     "execution_count": 9,
     "data": {
      "text/plain": "(6265, 60)"
     },
     "metadata": {}
    }
   ],
   "execution_count": null
  },
  {
   "cell_type": "code",
   "metadata": {
    "deepnote_to_be_reexecuted": false,
    "execution_millis": 42,
    "execution_start": 1622221401302,
    "source_hash": "7dff3e6b",
    "tags": [],
    "cell_id": "00015-9036b1b6-fac3-40c3-a2c9-e2660fee45b5",
    "deepnote_cell_type": "code"
   },
   "source": "#double check no nulls\ndf.isnull().sum()",
   "outputs": [
    {
     "output_type": "execute_result",
     "execution_count": 10,
     "data": {
      "text/plain": "age                                            0\ngender                                         0\nrace                                           0\ndate                                           0\ncity                                           0\nstate                                          0\nzipcode                                        0\ncounty                                         0\nagency_responsible                             0\ncause_of_death                                 0\ndescription_of_circumstances                   0\nofficial_disposition                           0\ncriminal_charges_filed                         0\nmental_illness                                 0\narmed_unarmed_status                           0\nalleged_weapon                                 0\nalleged_threat_lvl                             0\nfleeing                                        0\nbody_camera                                    0\ngeography                                      0\nencounter_type_draft                           0\ninitial_reported_reason_for_encounter_draft    0\nknown_past_shootings_of_officer_draft          0\nis_female                                      0\nis_male                                        0\nis_transgender                                 0\nwas_fleeing                                    0\nwas_not fleeing                                0\nwas_allegedly_armed                            0\nwas_unarmed                                    0\nwas_vehicle                                    0\nwas_domestic_disturbance                       0\nwas_mental_health_welfare_check                0\nwas_person_with_a_weapon                       0\nwas_traffic_stop                               0\nwas_violent_crime_part_1                       0\nis_asian/pacific islander                      0\nis_black                                       0\nis_hispanic                                    0\nis_native american                             0\nis_unknown race                                0\nis_white                                       0\nmntlill_drug or alcohol use                    0\nmntlill_no                                     0\nmntlill_unknown                                0\nmntlill_yes                                    0\nrural                                          0\nsuburban                                       0\nurban                                          0\ncod_lethal                                     0\nage_bins                                       0\nunknown                                        0\nunder 12                                       0\n12-17                                          0\n18-24                                          0\n25-34                                          0\n35-44                                          0\n45-54                                          0\n55-64                                          0\n65+                                            0\ndtype: int64"
     },
     "metadata": {}
    }
   ],
   "execution_count": null
  },
  {
   "cell_type": "code",
   "metadata": {
    "deepnote_to_be_reexecuted": false,
    "execution_millis": 1,
    "execution_start": 1622221401353,
    "source_hash": "3edc948f",
    "tags": [],
    "cell_id": "00016-e569c0e8-cf8f-4082-ba40-8096d6cc0b87",
    "deepnote_cell_type": "code"
   },
   "source": "#double check data types\ndf.dtypes",
   "outputs": [
    {
     "output_type": "execute_result",
     "execution_count": 11,
     "data": {
      "text/plain": "age                                                     int64\ngender                                                 object\nrace                                                   object\ndate                                           datetime64[ns]\ncity                                                   object\nstate                                                  object\nzipcode                                               float64\ncounty                                                 object\nagency_responsible                                     object\ncause_of_death                                         object\ndescription_of_circumstances                           object\nofficial_disposition                                   object\ncriminal_charges_filed                                 object\nmental_illness                                         object\narmed_unarmed_status                                   object\nalleged_weapon                                         object\nalleged_threat_lvl                                    float64\nfleeing                                                object\nbody_camera                                           float64\ngeography                                              object\nencounter_type_draft                                   object\ninitial_reported_reason_for_encounter_draft            object\nknown_past_shootings_of_officer_draft                  object\nis_female                                               uint8\nis_male                                                 uint8\nis_transgender                                          uint8\nwas_fleeing                                           float64\nwas_not fleeing                                       float64\nwas_allegedly_armed                                   float64\nwas_unarmed                                           float64\nwas_vehicle                                           float64\nwas_domestic_disturbance                                uint8\nwas_mental_health_welfare_check                         uint8\nwas_person_with_a_weapon                                uint8\nwas_traffic_stop                                        uint8\nwas_violent_crime_part_1                                uint8\nis_asian/pacific islander                               uint8\nis_black                                                uint8\nis_hispanic                                             uint8\nis_native american                                      uint8\nis_unknown race                                         uint8\nis_white                                                uint8\nmntlill_drug or alcohol use                             uint8\nmntlill_no                                              uint8\nmntlill_unknown                                         uint8\nmntlill_yes                                             uint8\nrural                                                 float64\nsuburban                                              float64\nurban                                                 float64\ncod_lethal                                              int64\nage_bins                                             category\nunknown                                                 uint8\nunder 12                                                uint8\n12-17                                                   uint8\n18-24                                                   uint8\n25-34                                                   uint8\n35-44                                                   uint8\n45-54                                                   uint8\n55-64                                                   uint8\n65+                                                     uint8\ndtype: object"
     },
     "metadata": {}
    }
   ],
   "execution_count": null
  },
  {
   "cell_type": "code",
   "metadata": {
    "deepnote_to_be_reexecuted": false,
    "execution_millis": 263,
    "execution_start": 1622221401403,
    "source_hash": "be21ca7a",
    "tags": [],
    "cell_id": "00017-26c66919-248d-4b4d-8324-473a22e1d8e7",
    "deepnote_cell_type": "code"
   },
   "source": "#split the data using the split function in explore.py\ntrain, validate, test = split(df, stratify_by=\"alleged_threat_lvl\")\n\n#check split datasets\nprint('overall shape of dataframe:', df.shape)\nprint('train:', train.shape)\nprint('validate:', validate.shape)\nprint('test:', test.shape)\n\n#work w/ training data\ntrain.head()",
   "outputs": [
    {
     "name": "stdout",
     "text": "overall shape of dataframe: (6265, 60)\ntrain: (3508, 60)\nvalidate: (1504, 60)\ntest: (1253, 60)\n",
     "output_type": "stream"
    },
    {
     "output_type": "execute_result",
     "execution_count": 12,
     "data": {
      "application/vnd.deepnote.dataframe.v2+json": {
       "row_count": 5,
       "column_count": 60,
       "columns": [
        {
         "name": "age",
         "dtype": "int64",
         "stats": {
          "unique_count": 5,
          "nan_count": 0,
          "min": "20",
          "max": "39",
          "histogram": [
           {
            "bin_start": 20,
            "bin_end": 21.9,
            "count": 1
           },
           {
            "bin_start": 21.9,
            "bin_end": 23.8,
            "count": 1
           },
           {
            "bin_start": 23.8,
            "bin_end": 25.7,
            "count": 0
           },
           {
            "bin_start": 25.7,
            "bin_end": 27.6,
            "count": 1
           },
           {
            "bin_start": 27.6,
            "bin_end": 29.5,
            "count": 0
           },
           {
            "bin_start": 29.5,
            "bin_end": 31.4,
            "count": 1
           },
           {
            "bin_start": 31.4,
            "bin_end": 33.3,
            "count": 0
           },
           {
            "bin_start": 33.3,
            "bin_end": 35.2,
            "count": 0
           },
           {
            "bin_start": 35.2,
            "bin_end": 37.099999999999994,
            "count": 0
           },
           {
            "bin_start": 37.099999999999994,
            "bin_end": 39,
            "count": 1
           }
          ]
         }
        },
        {
         "name": "gender",
         "dtype": "object",
         "stats": {
          "unique_count": 1,
          "nan_count": 0,
          "categories": [
           {
            "name": "male",
            "count": 5
           }
          ]
         }
        },
        {
         "name": "race",
         "dtype": "object",
         "stats": {
          "unique_count": 3,
          "nan_count": 0,
          "categories": [
           {
            "name": "black",
            "count": 2
           },
           {
            "name": "unknown race",
            "count": 2
           },
           {
            "name": "white",
            "count": 1
           }
          ]
         }
        },
        {
         "name": "date",
         "dtype": "datetime64[ns]",
         "stats": {
          "unique_count": 5,
          "nan_count": 0,
          "min": "2018-06-04 00:00:00",
          "max": "2020-11-12 00:00:00",
          "histogram": [
           {
            "bin_start": 1528070400000000000,
            "bin_end": 1535777280000000000,
            "count": 1
           },
           {
            "bin_start": 1535777280000000000,
            "bin_end": 1543484160000000000,
            "count": 0
           },
           {
            "bin_start": 1543484160000000000,
            "bin_end": 1551191040000000000,
            "count": 0
           },
           {
            "bin_start": 1551191040000000000,
            "bin_end": 1558897920000000000,
            "count": 1
           },
           {
            "bin_start": 1558897920000000000,
            "bin_end": 1566604800000000000,
            "count": 1
           },
           {
            "bin_start": 1566604800000000000,
            "bin_end": 1574311680000000000,
            "count": 0
           },
           {
            "bin_start": 1574311680000000000,
            "bin_end": 1582018560000000000,
            "count": 1
           },
           {
            "bin_start": 1582018560000000000,
            "bin_end": 1589725440000000000,
            "count": 0
           },
           {
            "bin_start": 1589725440000000000,
            "bin_end": 1597432320000000000,
            "count": 0
           },
           {
            "bin_start": 1597432320000000000,
            "bin_end": 1605139200000000000,
            "count": 1
           }
          ]
         }
        },
        {
         "name": "city",
         "dtype": "object",
         "stats": {
          "unique_count": 5,
          "nan_count": 0,
          "categories": [
           {
            "name": "moss point",
            "count": 1
           },
           {
            "name": "ogden",
            "count": 1
           },
           {
            "name": "3 others",
            "count": 3
           }
          ]
         }
        },
        {
         "name": "state",
         "dtype": "object",
         "stats": {
          "unique_count": 4,
          "nan_count": 0,
          "categories": [
           {
            "name": "nc",
            "count": 2
           },
           {
            "name": "ms",
            "count": 1
           },
           {
            "name": "2 others",
            "count": 2
           }
          ]
         }
        },
        {
         "name": "zipcode",
         "dtype": "float64",
         "stats": {
          "unique_count": 5,
          "nan_count": 0,
          "min": "19111.0",
          "max": "80014.0",
          "histogram": [
           {
            "bin_start": 19111,
            "bin_end": 25201.3,
            "count": 1
           },
           {
            "bin_start": 25201.3,
            "bin_end": 31291.6,
            "count": 2
           },
           {
            "bin_start": 31291.6,
            "bin_end": 37381.9,
            "count": 0
           },
           {
            "bin_start": 37381.9,
            "bin_end": 43472.2,
            "count": 1
           },
           {
            "bin_start": 43472.2,
            "bin_end": 49562.5,
            "count": 0
           },
           {
            "bin_start": 49562.5,
            "bin_end": 55652.8,
            "count": 0
           },
           {
            "bin_start": 55652.8,
            "bin_end": 61743.1,
            "count": 0
           },
           {
            "bin_start": 61743.1,
            "bin_end": 67833.4,
            "count": 0
           },
           {
            "bin_start": 67833.4,
            "bin_end": 73923.70000000001,
            "count": 0
           },
           {
            "bin_start": 73923.70000000001,
            "bin_end": 80014,
            "count": 1
           }
          ]
         }
        },
        {
         "name": "county",
         "dtype": "object",
         "stats": {
          "unique_count": 5,
          "nan_count": 0,
          "categories": [
           {
            "name": "jackson",
            "count": 1
           },
           {
            "name": "new hanover",
            "count": 1
           },
           {
            "name": "3 others",
            "count": 3
           }
          ]
         }
        },
        {
         "name": "agency_responsible",
         "dtype": "object",
         "stats": {
          "unique_count": 5,
          "nan_count": 0,
          "categories": [
           {
            "name": "moss point police department",
            "count": 1
           },
           {
            "name": "new hanover county sheriff's office",
            "count": 1
           },
           {
            "name": "3 others",
            "count": 3
           }
          ]
         }
        },
        {
         "name": "cause_of_death",
         "dtype": "object",
         "stats": {
          "unique_count": 1,
          "nan_count": 0,
          "categories": [
           {
            "name": "gunshot",
            "count": 5
           }
          ]
         }
        },
        {
         "name": "description_of_circumstances",
         "dtype": "object",
         "stats": {
          "unique_count": 5,
          "nan_count": 0,
          "categories": [
           {
            "name": "following a vehicle chase, then a foot pursuit, toussaint sims reportedly displayed a firearm in a threatening manner, and police shot and killed him. sims reportedly was wanted on multiple felony warrants.",
            "count": 1
           },
           {
            "name": "deputies responded to a home after 8 p.m. in reference to a suicidal person. josh nash bryant had barricaded himself in his father's home when he was shot and killed by police after allegedly coming out with a gun and threatening deputies.",
            "count": 1
           },
           {
            "name": "3 others",
            "count": 3
           }
          ]
         }
        },
        {
         "name": "official_disposition",
         "dtype": "object",
         "stats": {
          "unique_count": 4,
          "nan_count": 0,
          "categories": [
           {
            "name": "pending investigation/no known charges",
            "count": 2
           },
           {
            "name": "grand jury/no bill or cleared",
            "count": 1
           },
           {
            "name": "2 others",
            "count": 2
           }
          ]
         }
        },
        {
         "name": "criminal_charges_filed",
         "dtype": "object",
         "stats": {
          "unique_count": 1,
          "nan_count": 0,
          "categories": [
           {
            "name": "no known charges",
            "count": 5
           }
          ]
         }
        },
        {
         "name": "mental_illness",
         "dtype": "object",
         "stats": {
          "unique_count": 2,
          "nan_count": 0,
          "categories": [
           {
            "name": "no",
            "count": 4
           },
           {
            "name": "yes",
            "count": 1
           }
          ]
         }
        },
        {
         "name": "armed_unarmed_status",
         "dtype": "object",
         "stats": {
          "unique_count": 1,
          "nan_count": 0,
          "categories": [
           {
            "name": "allegedly_armed",
            "count": 5
           }
          ]
         }
        },
        {
         "name": "alleged_weapon",
         "dtype": "object",
         "stats": {
          "unique_count": 1,
          "nan_count": 0,
          "categories": [
           {
            "name": "gun",
            "count": 5
           }
          ]
         }
        },
        {
         "name": "alleged_threat_lvl",
         "dtype": "float64",
         "stats": {
          "unique_count": 2,
          "nan_count": 0,
          "min": "0.0",
          "max": "1.0",
          "histogram": [
           {
            "bin_start": 0,
            "bin_end": 0.1,
            "count": 1
           },
           {
            "bin_start": 0.1,
            "bin_end": 0.2,
            "count": 0
           },
           {
            "bin_start": 0.2,
            "bin_end": 0.30000000000000004,
            "count": 0
           },
           {
            "bin_start": 0.30000000000000004,
            "bin_end": 0.4,
            "count": 0
           },
           {
            "bin_start": 0.4,
            "bin_end": 0.5,
            "count": 0
           },
           {
            "bin_start": 0.5,
            "bin_end": 0.6000000000000001,
            "count": 0
           },
           {
            "bin_start": 0.6000000000000001,
            "bin_end": 0.7000000000000001,
            "count": 0
           },
           {
            "bin_start": 0.7000000000000001,
            "bin_end": 0.8,
            "count": 0
           },
           {
            "bin_start": 0.8,
            "bin_end": 0.9,
            "count": 0
           },
           {
            "bin_start": 0.9,
            "bin_end": 1,
            "count": 4
           }
          ]
         }
        },
        {
         "name": "fleeing",
         "dtype": "object",
         "stats": {
          "unique_count": 2,
          "nan_count": 0,
          "categories": [
           {
            "name": "fleeing",
            "count": 3
           },
           {
            "name": "not fleeing",
            "count": 2
           }
          ]
         }
        },
        {
         "name": "body_camera",
         "dtype": "float64",
         "stats": {
          "unique_count": 2,
          "nan_count": 0,
          "min": "0.0",
          "max": "1.0",
          "histogram": [
           {
            "bin_start": 0,
            "bin_end": 0.1,
            "count": 2
           },
           {
            "bin_start": 0.1,
            "bin_end": 0.2,
            "count": 0
           },
           {
            "bin_start": 0.2,
            "bin_end": 0.30000000000000004,
            "count": 0
           },
           {
            "bin_start": 0.30000000000000004,
            "bin_end": 0.4,
            "count": 0
           },
           {
            "bin_start": 0.4,
            "bin_end": 0.5,
            "count": 0
           },
           {
            "bin_start": 0.5,
            "bin_end": 0.6000000000000001,
            "count": 0
           },
           {
            "bin_start": 0.6000000000000001,
            "bin_end": 0.7000000000000001,
            "count": 0
           },
           {
            "bin_start": 0.7000000000000001,
            "bin_end": 0.8,
            "count": 0
           },
           {
            "bin_start": 0.8,
            "bin_end": 0.9,
            "count": 0
           },
           {
            "bin_start": 0.9,
            "bin_end": 1,
            "count": 3
           }
          ]
         }
        },
        {
         "name": "geography",
         "dtype": "object",
         "stats": {
          "unique_count": 2,
          "nan_count": 0,
          "categories": [
           {
            "name": "suburban",
            "count": 3
           },
           {
            "name": "urban",
            "count": 2
           }
          ]
         }
        },
        {
         "name": "encounter_type_draft",
         "dtype": "object",
         "stats": {
          "unique_count": 5,
          "nan_count": 0,
          "categories": [
           {
            "name": "other",
            "count": 1
           },
           {
            "name": "mental_health_welfare_check",
            "count": 1
           },
           {
            "name": "3 others",
            "count": 3
           }
          ]
         }
        },
        {
         "name": "initial_reported_reason_for_encounter_draft",
         "dtype": "object",
         "stats": {
          "unique_count": 5,
          "nan_count": 0,
          "categories": [
           {
            "name": "warrant",
            "count": 1
           },
           {
            "name": "suicidal",
            "count": 1
           },
           {
            "name": "3 others",
            "count": 3
           }
          ]
         }
        },
        {
         "name": "known_past_shootings_of_officer_draft",
         "dtype": "object",
         "stats": {
          "unique_count": 1,
          "nan_count": 0,
          "categories": [
           {
            "name": "0",
            "count": 5
           }
          ]
         }
        },
        {
         "name": "is_female",
         "dtype": "uint8",
         "stats": {
          "unique_count": 1,
          "nan_count": 0,
          "min": "0",
          "max": "0",
          "histogram": [
           {
            "bin_start": -0.5,
            "bin_end": -0.4,
            "count": 0
           },
           {
            "bin_start": -0.4,
            "bin_end": -0.3,
            "count": 0
           },
           {
            "bin_start": -0.3,
            "bin_end": -0.19999999999999996,
            "count": 0
           },
           {
            "bin_start": -0.19999999999999996,
            "bin_end": -0.09999999999999998,
            "count": 0
           },
           {
            "bin_start": -0.09999999999999998,
            "bin_end": 0,
            "count": 0
           },
           {
            "bin_start": 0,
            "bin_end": 0.10000000000000009,
            "count": 5
           },
           {
            "bin_start": 0.10000000000000009,
            "bin_end": 0.20000000000000007,
            "count": 0
           },
           {
            "bin_start": 0.20000000000000007,
            "bin_end": 0.30000000000000004,
            "count": 0
           },
           {
            "bin_start": 0.30000000000000004,
            "bin_end": 0.4,
            "count": 0
           },
           {
            "bin_start": 0.4,
            "bin_end": 0.5,
            "count": 0
           }
          ]
         }
        },
        {
         "name": "is_male",
         "dtype": "uint8",
         "stats": {
          "unique_count": 1,
          "nan_count": 0,
          "min": "1",
          "max": "1",
          "histogram": [
           {
            "bin_start": 0.5,
            "bin_end": 0.6,
            "count": 0
           },
           {
            "bin_start": 0.6,
            "bin_end": 0.7,
            "count": 0
           },
           {
            "bin_start": 0.7,
            "bin_end": 0.8,
            "count": 0
           },
           {
            "bin_start": 0.8,
            "bin_end": 0.9,
            "count": 0
           },
           {
            "bin_start": 0.9,
            "bin_end": 1,
            "count": 0
           },
           {
            "bin_start": 1,
            "bin_end": 1.1,
            "count": 5
           },
           {
            "bin_start": 1.1,
            "bin_end": 1.2000000000000002,
            "count": 0
           },
           {
            "bin_start": 1.2000000000000002,
            "bin_end": 1.3,
            "count": 0
           },
           {
            "bin_start": 1.3,
            "bin_end": 1.4,
            "count": 0
           },
           {
            "bin_start": 1.4,
            "bin_end": 1.5,
            "count": 0
           }
          ]
         }
        },
        {
         "name": "is_transgender",
         "dtype": "uint8",
         "stats": {
          "unique_count": 1,
          "nan_count": 0,
          "min": "0",
          "max": "0",
          "histogram": [
           {
            "bin_start": -0.5,
            "bin_end": -0.4,
            "count": 0
           },
           {
            "bin_start": -0.4,
            "bin_end": -0.3,
            "count": 0
           },
           {
            "bin_start": -0.3,
            "bin_end": -0.19999999999999996,
            "count": 0
           },
           {
            "bin_start": -0.19999999999999996,
            "bin_end": -0.09999999999999998,
            "count": 0
           },
           {
            "bin_start": -0.09999999999999998,
            "bin_end": 0,
            "count": 0
           },
           {
            "bin_start": 0,
            "bin_end": 0.10000000000000009,
            "count": 5
           },
           {
            "bin_start": 0.10000000000000009,
            "bin_end": 0.20000000000000007,
            "count": 0
           },
           {
            "bin_start": 0.20000000000000007,
            "bin_end": 0.30000000000000004,
            "count": 0
           },
           {
            "bin_start": 0.30000000000000004,
            "bin_end": 0.4,
            "count": 0
           },
           {
            "bin_start": 0.4,
            "bin_end": 0.5,
            "count": 0
           }
          ]
         }
        },
        {
         "name": "was_fleeing",
         "dtype": "float64",
         "stats": {
          "unique_count": 2,
          "nan_count": 0,
          "min": "0.0",
          "max": "1.0",
          "histogram": [
           {
            "bin_start": 0,
            "bin_end": 0.1,
            "count": 2
           },
           {
            "bin_start": 0.1,
            "bin_end": 0.2,
            "count": 0
           },
           {
            "bin_start": 0.2,
            "bin_end": 0.30000000000000004,
            "count": 0
           },
           {
            "bin_start": 0.30000000000000004,
            "bin_end": 0.4,
            "count": 0
           },
           {
            "bin_start": 0.4,
            "bin_end": 0.5,
            "count": 0
           },
           {
            "bin_start": 0.5,
            "bin_end": 0.6000000000000001,
            "count": 0
           },
           {
            "bin_start": 0.6000000000000001,
            "bin_end": 0.7000000000000001,
            "count": 0
           },
           {
            "bin_start": 0.7000000000000001,
            "bin_end": 0.8,
            "count": 0
           },
           {
            "bin_start": 0.8,
            "bin_end": 0.9,
            "count": 0
           },
           {
            "bin_start": 0.9,
            "bin_end": 1,
            "count": 3
           }
          ]
         }
        },
        {
         "name": "was_not fleeing ",
         "dtype": "float64",
         "stats": {
          "unique_count": 1,
          "nan_count": 0,
          "min": "0.0",
          "max": "0.0",
          "histogram": [
           {
            "bin_start": -0.5,
            "bin_end": -0.4,
            "count": 0
           },
           {
            "bin_start": -0.4,
            "bin_end": -0.3,
            "count": 0
           },
           {
            "bin_start": -0.3,
            "bin_end": -0.19999999999999996,
            "count": 0
           },
           {
            "bin_start": -0.19999999999999996,
            "bin_end": -0.09999999999999998,
            "count": 0
           },
           {
            "bin_start": -0.09999999999999998,
            "bin_end": 0,
            "count": 0
           },
           {
            "bin_start": 0,
            "bin_end": 0.10000000000000009,
            "count": 5
           },
           {
            "bin_start": 0.10000000000000009,
            "bin_end": 0.20000000000000007,
            "count": 0
           },
           {
            "bin_start": 0.20000000000000007,
            "bin_end": 0.30000000000000004,
            "count": 0
           },
           {
            "bin_start": 0.30000000000000004,
            "bin_end": 0.4,
            "count": 0
           },
           {
            "bin_start": 0.4,
            "bin_end": 0.5,
            "count": 0
           }
          ]
         }
        },
        {
         "name": "was_allegedly_armed",
         "dtype": "float64",
         "stats": {
          "unique_count": 1,
          "nan_count": 0,
          "min": "1.0",
          "max": "1.0",
          "histogram": [
           {
            "bin_start": 0.5,
            "bin_end": 0.6,
            "count": 0
           },
           {
            "bin_start": 0.6,
            "bin_end": 0.7,
            "count": 0
           },
           {
            "bin_start": 0.7,
            "bin_end": 0.8,
            "count": 0
           },
           {
            "bin_start": 0.8,
            "bin_end": 0.9,
            "count": 0
           },
           {
            "bin_start": 0.9,
            "bin_end": 1,
            "count": 0
           },
           {
            "bin_start": 1,
            "bin_end": 1.1,
            "count": 5
           },
           {
            "bin_start": 1.1,
            "bin_end": 1.2000000000000002,
            "count": 0
           },
           {
            "bin_start": 1.2000000000000002,
            "bin_end": 1.3,
            "count": 0
           },
           {
            "bin_start": 1.3,
            "bin_end": 1.4,
            "count": 0
           },
           {
            "bin_start": 1.4,
            "bin_end": 1.5,
            "count": 0
           }
          ]
         }
        },
        {
         "name": "was_unarmed",
         "dtype": "float64",
         "stats": {
          "unique_count": 1,
          "nan_count": 0,
          "min": "0.0",
          "max": "0.0",
          "histogram": [
           {
            "bin_start": -0.5,
            "bin_end": -0.4,
            "count": 0
           },
           {
            "bin_start": -0.4,
            "bin_end": -0.3,
            "count": 0
           },
           {
            "bin_start": -0.3,
            "bin_end": -0.19999999999999996,
            "count": 0
           },
           {
            "bin_start": -0.19999999999999996,
            "bin_end": -0.09999999999999998,
            "count": 0
           },
           {
            "bin_start": -0.09999999999999998,
            "bin_end": 0,
            "count": 0
           },
           {
            "bin_start": 0,
            "bin_end": 0.10000000000000009,
            "count": 5
           },
           {
            "bin_start": 0.10000000000000009,
            "bin_end": 0.20000000000000007,
            "count": 0
           },
           {
            "bin_start": 0.20000000000000007,
            "bin_end": 0.30000000000000004,
            "count": 0
           },
           {
            "bin_start": 0.30000000000000004,
            "bin_end": 0.4,
            "count": 0
           },
           {
            "bin_start": 0.4,
            "bin_end": 0.5,
            "count": 0
           }
          ]
         }
        },
        {
         "name": "was_vehicle",
         "dtype": "float64",
         "stats": {
          "unique_count": 1,
          "nan_count": 0,
          "min": "0.0",
          "max": "0.0",
          "histogram": [
           {
            "bin_start": -0.5,
            "bin_end": -0.4,
            "count": 0
           },
           {
            "bin_start": -0.4,
            "bin_end": -0.3,
            "count": 0
           },
           {
            "bin_start": -0.3,
            "bin_end": -0.19999999999999996,
            "count": 0
           },
           {
            "bin_start": -0.19999999999999996,
            "bin_end": -0.09999999999999998,
            "count": 0
           },
           {
            "bin_start": -0.09999999999999998,
            "bin_end": 0,
            "count": 0
           },
           {
            "bin_start": 0,
            "bin_end": 0.10000000000000009,
            "count": 5
           },
           {
            "bin_start": 0.10000000000000009,
            "bin_end": 0.20000000000000007,
            "count": 0
           },
           {
            "bin_start": 0.20000000000000007,
            "bin_end": 0.30000000000000004,
            "count": 0
           },
           {
            "bin_start": 0.30000000000000004,
            "bin_end": 0.4,
            "count": 0
           },
           {
            "bin_start": 0.4,
            "bin_end": 0.5,
            "count": 0
           }
          ]
         }
        },
        {
         "name": "was_domestic_disturbance",
         "dtype": "uint8",
         "stats": {
          "unique_count": 2,
          "nan_count": 0,
          "min": "0",
          "max": "1",
          "histogram": [
           {
            "bin_start": 0,
            "bin_end": 0.1,
            "count": 4
           },
           {
            "bin_start": 0.1,
            "bin_end": 0.2,
            "count": 0
           },
           {
            "bin_start": 0.2,
            "bin_end": 0.30000000000000004,
            "count": 0
           },
           {
            "bin_start": 0.30000000000000004,
            "bin_end": 0.4,
            "count": 0
           },
           {
            "bin_start": 0.4,
            "bin_end": 0.5,
            "count": 0
           },
           {
            "bin_start": 0.5,
            "bin_end": 0.6000000000000001,
            "count": 0
           },
           {
            "bin_start": 0.6000000000000001,
            "bin_end": 0.7000000000000001,
            "count": 0
           },
           {
            "bin_start": 0.7000000000000001,
            "bin_end": 0.8,
            "count": 0
           },
           {
            "bin_start": 0.8,
            "bin_end": 0.9,
            "count": 0
           },
           {
            "bin_start": 0.9,
            "bin_end": 1,
            "count": 1
           }
          ]
         }
        },
        {
         "name": "was_mental_health_welfare_check",
         "dtype": "uint8",
         "stats": {
          "unique_count": 2,
          "nan_count": 0,
          "min": "0",
          "max": "1",
          "histogram": [
           {
            "bin_start": 0,
            "bin_end": 0.1,
            "count": 4
           },
           {
            "bin_start": 0.1,
            "bin_end": 0.2,
            "count": 0
           },
           {
            "bin_start": 0.2,
            "bin_end": 0.30000000000000004,
            "count": 0
           },
           {
            "bin_start": 0.30000000000000004,
            "bin_end": 0.4,
            "count": 0
           },
           {
            "bin_start": 0.4,
            "bin_end": 0.5,
            "count": 0
           },
           {
            "bin_start": 0.5,
            "bin_end": 0.6000000000000001,
            "count": 0
           },
           {
            "bin_start": 0.6000000000000001,
            "bin_end": 0.7000000000000001,
            "count": 0
           },
           {
            "bin_start": 0.7000000000000001,
            "bin_end": 0.8,
            "count": 0
           },
           {
            "bin_start": 0.8,
            "bin_end": 0.9,
            "count": 0
           },
           {
            "bin_start": 0.9,
            "bin_end": 1,
            "count": 1
           }
          ]
         }
        },
        {
         "name": "was_person_with_a_weapon",
         "dtype": "uint8",
         "stats": {
          "unique_count": 2,
          "nan_count": 0,
          "min": "0",
          "max": "1",
          "histogram": [
           {
            "bin_start": 0,
            "bin_end": 0.1,
            "count": 4
           },
           {
            "bin_start": 0.1,
            "bin_end": 0.2,
            "count": 0
           },
           {
            "bin_start": 0.2,
            "bin_end": 0.30000000000000004,
            "count": 0
           },
           {
            "bin_start": 0.30000000000000004,
            "bin_end": 0.4,
            "count": 0
           },
           {
            "bin_start": 0.4,
            "bin_end": 0.5,
            "count": 0
           },
           {
            "bin_start": 0.5,
            "bin_end": 0.6000000000000001,
            "count": 0
           },
           {
            "bin_start": 0.6000000000000001,
            "bin_end": 0.7000000000000001,
            "count": 0
           },
           {
            "bin_start": 0.7000000000000001,
            "bin_end": 0.8,
            "count": 0
           },
           {
            "bin_start": 0.8,
            "bin_end": 0.9,
            "count": 0
           },
           {
            "bin_start": 0.9,
            "bin_end": 1,
            "count": 1
           }
          ]
         }
        },
        {
         "name": "was_traffic_stop",
         "dtype": "uint8",
         "stats": {
          "unique_count": 2,
          "nan_count": 0,
          "min": "0",
          "max": "1",
          "histogram": [
           {
            "bin_start": 0,
            "bin_end": 0.1,
            "count": 4
           },
           {
            "bin_start": 0.1,
            "bin_end": 0.2,
            "count": 0
           },
           {
            "bin_start": 0.2,
            "bin_end": 0.30000000000000004,
            "count": 0
           },
           {
            "bin_start": 0.30000000000000004,
            "bin_end": 0.4,
            "count": 0
           },
           {
            "bin_start": 0.4,
            "bin_end": 0.5,
            "count": 0
           },
           {
            "bin_start": 0.5,
            "bin_end": 0.6000000000000001,
            "count": 0
           },
           {
            "bin_start": 0.6000000000000001,
            "bin_end": 0.7000000000000001,
            "count": 0
           },
           {
            "bin_start": 0.7000000000000001,
            "bin_end": 0.8,
            "count": 0
           },
           {
            "bin_start": 0.8,
            "bin_end": 0.9,
            "count": 0
           },
           {
            "bin_start": 0.9,
            "bin_end": 1,
            "count": 1
           }
          ]
         }
        },
        {
         "name": "was_violent_crime_part_1",
         "dtype": "uint8",
         "stats": {
          "unique_count": 1,
          "nan_count": 0,
          "min": "0",
          "max": "0",
          "histogram": [
           {
            "bin_start": -0.5,
            "bin_end": -0.4,
            "count": 0
           },
           {
            "bin_start": -0.4,
            "bin_end": -0.3,
            "count": 0
           },
           {
            "bin_start": -0.3,
            "bin_end": -0.19999999999999996,
            "count": 0
           },
           {
            "bin_start": -0.19999999999999996,
            "bin_end": -0.09999999999999998,
            "count": 0
           },
           {
            "bin_start": -0.09999999999999998,
            "bin_end": 0,
            "count": 0
           },
           {
            "bin_start": 0,
            "bin_end": 0.10000000000000009,
            "count": 5
           },
           {
            "bin_start": 0.10000000000000009,
            "bin_end": 0.20000000000000007,
            "count": 0
           },
           {
            "bin_start": 0.20000000000000007,
            "bin_end": 0.30000000000000004,
            "count": 0
           },
           {
            "bin_start": 0.30000000000000004,
            "bin_end": 0.4,
            "count": 0
           },
           {
            "bin_start": 0.4,
            "bin_end": 0.5,
            "count": 0
           }
          ]
         }
        },
        {
         "name": "is_asian/pacific islander",
         "dtype": "uint8",
         "stats": {
          "unique_count": 1,
          "nan_count": 0,
          "min": "0",
          "max": "0",
          "histogram": [
           {
            "bin_start": -0.5,
            "bin_end": -0.4,
            "count": 0
           },
           {
            "bin_start": -0.4,
            "bin_end": -0.3,
            "count": 0
           },
           {
            "bin_start": -0.3,
            "bin_end": -0.19999999999999996,
            "count": 0
           },
           {
            "bin_start": -0.19999999999999996,
            "bin_end": -0.09999999999999998,
            "count": 0
           },
           {
            "bin_start": -0.09999999999999998,
            "bin_end": 0,
            "count": 0
           },
           {
            "bin_start": 0,
            "bin_end": 0.10000000000000009,
            "count": 5
           },
           {
            "bin_start": 0.10000000000000009,
            "bin_end": 0.20000000000000007,
            "count": 0
           },
           {
            "bin_start": 0.20000000000000007,
            "bin_end": 0.30000000000000004,
            "count": 0
           },
           {
            "bin_start": 0.30000000000000004,
            "bin_end": 0.4,
            "count": 0
           },
           {
            "bin_start": 0.4,
            "bin_end": 0.5,
            "count": 0
           }
          ]
         }
        },
        {
         "name": "is_black",
         "dtype": "uint8",
         "stats": {
          "unique_count": 2,
          "nan_count": 0,
          "min": "0",
          "max": "1",
          "histogram": [
           {
            "bin_start": 0,
            "bin_end": 0.1,
            "count": 3
           },
           {
            "bin_start": 0.1,
            "bin_end": 0.2,
            "count": 0
           },
           {
            "bin_start": 0.2,
            "bin_end": 0.30000000000000004,
            "count": 0
           },
           {
            "bin_start": 0.30000000000000004,
            "bin_end": 0.4,
            "count": 0
           },
           {
            "bin_start": 0.4,
            "bin_end": 0.5,
            "count": 0
           },
           {
            "bin_start": 0.5,
            "bin_end": 0.6000000000000001,
            "count": 0
           },
           {
            "bin_start": 0.6000000000000001,
            "bin_end": 0.7000000000000001,
            "count": 0
           },
           {
            "bin_start": 0.7000000000000001,
            "bin_end": 0.8,
            "count": 0
           },
           {
            "bin_start": 0.8,
            "bin_end": 0.9,
            "count": 0
           },
           {
            "bin_start": 0.9,
            "bin_end": 1,
            "count": 2
           }
          ]
         }
        },
        {
         "name": "is_hispanic",
         "dtype": "uint8",
         "stats": {
          "unique_count": 1,
          "nan_count": 0,
          "min": "0",
          "max": "0",
          "histogram": [
           {
            "bin_start": -0.5,
            "bin_end": -0.4,
            "count": 0
           },
           {
            "bin_start": -0.4,
            "bin_end": -0.3,
            "count": 0
           },
           {
            "bin_start": -0.3,
            "bin_end": -0.19999999999999996,
            "count": 0
           },
           {
            "bin_start": -0.19999999999999996,
            "bin_end": -0.09999999999999998,
            "count": 0
           },
           {
            "bin_start": -0.09999999999999998,
            "bin_end": 0,
            "count": 0
           },
           {
            "bin_start": 0,
            "bin_end": 0.10000000000000009,
            "count": 5
           },
           {
            "bin_start": 0.10000000000000009,
            "bin_end": 0.20000000000000007,
            "count": 0
           },
           {
            "bin_start": 0.20000000000000007,
            "bin_end": 0.30000000000000004,
            "count": 0
           },
           {
            "bin_start": 0.30000000000000004,
            "bin_end": 0.4,
            "count": 0
           },
           {
            "bin_start": 0.4,
            "bin_end": 0.5,
            "count": 0
           }
          ]
         }
        },
        {
         "name": "is_native american",
         "dtype": "uint8",
         "stats": {
          "unique_count": 1,
          "nan_count": 0,
          "min": "0",
          "max": "0",
          "histogram": [
           {
            "bin_start": -0.5,
            "bin_end": -0.4,
            "count": 0
           },
           {
            "bin_start": -0.4,
            "bin_end": -0.3,
            "count": 0
           },
           {
            "bin_start": -0.3,
            "bin_end": -0.19999999999999996,
            "count": 0
           },
           {
            "bin_start": -0.19999999999999996,
            "bin_end": -0.09999999999999998,
            "count": 0
           },
           {
            "bin_start": -0.09999999999999998,
            "bin_end": 0,
            "count": 0
           },
           {
            "bin_start": 0,
            "bin_end": 0.10000000000000009,
            "count": 5
           },
           {
            "bin_start": 0.10000000000000009,
            "bin_end": 0.20000000000000007,
            "count": 0
           },
           {
            "bin_start": 0.20000000000000007,
            "bin_end": 0.30000000000000004,
            "count": 0
           },
           {
            "bin_start": 0.30000000000000004,
            "bin_end": 0.4,
            "count": 0
           },
           {
            "bin_start": 0.4,
            "bin_end": 0.5,
            "count": 0
           }
          ]
         }
        },
        {
         "name": "is_unknown race",
         "dtype": "uint8",
         "stats": {
          "unique_count": 2,
          "nan_count": 0,
          "min": "0",
          "max": "1",
          "histogram": [
           {
            "bin_start": 0,
            "bin_end": 0.1,
            "count": 3
           },
           {
            "bin_start": 0.1,
            "bin_end": 0.2,
            "count": 0
           },
           {
            "bin_start": 0.2,
            "bin_end": 0.30000000000000004,
            "count": 0
           },
           {
            "bin_start": 0.30000000000000004,
            "bin_end": 0.4,
            "count": 0
           },
           {
            "bin_start": 0.4,
            "bin_end": 0.5,
            "count": 0
           },
           {
            "bin_start": 0.5,
            "bin_end": 0.6000000000000001,
            "count": 0
           },
           {
            "bin_start": 0.6000000000000001,
            "bin_end": 0.7000000000000001,
            "count": 0
           },
           {
            "bin_start": 0.7000000000000001,
            "bin_end": 0.8,
            "count": 0
           },
           {
            "bin_start": 0.8,
            "bin_end": 0.9,
            "count": 0
           },
           {
            "bin_start": 0.9,
            "bin_end": 1,
            "count": 2
           }
          ]
         }
        },
        {
         "name": "is_white",
         "dtype": "uint8",
         "stats": {
          "unique_count": 2,
          "nan_count": 0,
          "min": "0",
          "max": "1",
          "histogram": [
           {
            "bin_start": 0,
            "bin_end": 0.1,
            "count": 4
           },
           {
            "bin_start": 0.1,
            "bin_end": 0.2,
            "count": 0
           },
           {
            "bin_start": 0.2,
            "bin_end": 0.30000000000000004,
            "count": 0
           },
           {
            "bin_start": 0.30000000000000004,
            "bin_end": 0.4,
            "count": 0
           },
           {
            "bin_start": 0.4,
            "bin_end": 0.5,
            "count": 0
           },
           {
            "bin_start": 0.5,
            "bin_end": 0.6000000000000001,
            "count": 0
           },
           {
            "bin_start": 0.6000000000000001,
            "bin_end": 0.7000000000000001,
            "count": 0
           },
           {
            "bin_start": 0.7000000000000001,
            "bin_end": 0.8,
            "count": 0
           },
           {
            "bin_start": 0.8,
            "bin_end": 0.9,
            "count": 0
           },
           {
            "bin_start": 0.9,
            "bin_end": 1,
            "count": 1
           }
          ]
         }
        },
        {
         "name": "mntlill_drug or alcohol use",
         "dtype": "uint8",
         "stats": {
          "unique_count": 1,
          "nan_count": 0,
          "min": "0",
          "max": "0",
          "histogram": [
           {
            "bin_start": -0.5,
            "bin_end": -0.4,
            "count": 0
           },
           {
            "bin_start": -0.4,
            "bin_end": -0.3,
            "count": 0
           },
           {
            "bin_start": -0.3,
            "bin_end": -0.19999999999999996,
            "count": 0
           },
           {
            "bin_start": -0.19999999999999996,
            "bin_end": -0.09999999999999998,
            "count": 0
           },
           {
            "bin_start": -0.09999999999999998,
            "bin_end": 0,
            "count": 0
           },
           {
            "bin_start": 0,
            "bin_end": 0.10000000000000009,
            "count": 5
           },
           {
            "bin_start": 0.10000000000000009,
            "bin_end": 0.20000000000000007,
            "count": 0
           },
           {
            "bin_start": 0.20000000000000007,
            "bin_end": 0.30000000000000004,
            "count": 0
           },
           {
            "bin_start": 0.30000000000000004,
            "bin_end": 0.4,
            "count": 0
           },
           {
            "bin_start": 0.4,
            "bin_end": 0.5,
            "count": 0
           }
          ]
         }
        },
        {
         "name": "mntlill_no",
         "dtype": "uint8",
         "stats": {
          "unique_count": 2,
          "nan_count": 0,
          "min": "0",
          "max": "1",
          "histogram": [
           {
            "bin_start": 0,
            "bin_end": 0.1,
            "count": 1
           },
           {
            "bin_start": 0.1,
            "bin_end": 0.2,
            "count": 0
           },
           {
            "bin_start": 0.2,
            "bin_end": 0.30000000000000004,
            "count": 0
           },
           {
            "bin_start": 0.30000000000000004,
            "bin_end": 0.4,
            "count": 0
           },
           {
            "bin_start": 0.4,
            "bin_end": 0.5,
            "count": 0
           },
           {
            "bin_start": 0.5,
            "bin_end": 0.6000000000000001,
            "count": 0
           },
           {
            "bin_start": 0.6000000000000001,
            "bin_end": 0.7000000000000001,
            "count": 0
           },
           {
            "bin_start": 0.7000000000000001,
            "bin_end": 0.8,
            "count": 0
           },
           {
            "bin_start": 0.8,
            "bin_end": 0.9,
            "count": 0
           },
           {
            "bin_start": 0.9,
            "bin_end": 1,
            "count": 4
           }
          ]
         }
        },
        {
         "name": "mntlill_unknown",
         "dtype": "uint8",
         "stats": {
          "unique_count": 1,
          "nan_count": 0,
          "min": "0",
          "max": "0",
          "histogram": [
           {
            "bin_start": -0.5,
            "bin_end": -0.4,
            "count": 0
           },
           {
            "bin_start": -0.4,
            "bin_end": -0.3,
            "count": 0
           },
           {
            "bin_start": -0.3,
            "bin_end": -0.19999999999999996,
            "count": 0
           },
           {
            "bin_start": -0.19999999999999996,
            "bin_end": -0.09999999999999998,
            "count": 0
           },
           {
            "bin_start": -0.09999999999999998,
            "bin_end": 0,
            "count": 0
           },
           {
            "bin_start": 0,
            "bin_end": 0.10000000000000009,
            "count": 5
           },
           {
            "bin_start": 0.10000000000000009,
            "bin_end": 0.20000000000000007,
            "count": 0
           },
           {
            "bin_start": 0.20000000000000007,
            "bin_end": 0.30000000000000004,
            "count": 0
           },
           {
            "bin_start": 0.30000000000000004,
            "bin_end": 0.4,
            "count": 0
           },
           {
            "bin_start": 0.4,
            "bin_end": 0.5,
            "count": 0
           }
          ]
         }
        },
        {
         "name": "mntlill_yes",
         "dtype": "uint8",
         "stats": {
          "unique_count": 2,
          "nan_count": 0,
          "min": "0",
          "max": "1",
          "histogram": [
           {
            "bin_start": 0,
            "bin_end": 0.1,
            "count": 4
           },
           {
            "bin_start": 0.1,
            "bin_end": 0.2,
            "count": 0
           },
           {
            "bin_start": 0.2,
            "bin_end": 0.30000000000000004,
            "count": 0
           },
           {
            "bin_start": 0.30000000000000004,
            "bin_end": 0.4,
            "count": 0
           },
           {
            "bin_start": 0.4,
            "bin_end": 0.5,
            "count": 0
           },
           {
            "bin_start": 0.5,
            "bin_end": 0.6000000000000001,
            "count": 0
           },
           {
            "bin_start": 0.6000000000000001,
            "bin_end": 0.7000000000000001,
            "count": 0
           },
           {
            "bin_start": 0.7000000000000001,
            "bin_end": 0.8,
            "count": 0
           },
           {
            "bin_start": 0.8,
            "bin_end": 0.9,
            "count": 0
           },
           {
            "bin_start": 0.9,
            "bin_end": 1,
            "count": 1
           }
          ]
         }
        },
        {
         "name": "rural",
         "dtype": "float64",
         "stats": {
          "unique_count": 1,
          "nan_count": 0,
          "min": "0.0",
          "max": "0.0",
          "histogram": [
           {
            "bin_start": -0.5,
            "bin_end": -0.4,
            "count": 0
           },
           {
            "bin_start": -0.4,
            "bin_end": -0.3,
            "count": 0
           },
           {
            "bin_start": -0.3,
            "bin_end": -0.19999999999999996,
            "count": 0
           },
           {
            "bin_start": -0.19999999999999996,
            "bin_end": -0.09999999999999998,
            "count": 0
           },
           {
            "bin_start": -0.09999999999999998,
            "bin_end": 0,
            "count": 0
           },
           {
            "bin_start": 0,
            "bin_end": 0.10000000000000009,
            "count": 5
           },
           {
            "bin_start": 0.10000000000000009,
            "bin_end": 0.20000000000000007,
            "count": 0
           },
           {
            "bin_start": 0.20000000000000007,
            "bin_end": 0.30000000000000004,
            "count": 0
           },
           {
            "bin_start": 0.30000000000000004,
            "bin_end": 0.4,
            "count": 0
           },
           {
            "bin_start": 0.4,
            "bin_end": 0.5,
            "count": 0
           }
          ]
         }
        },
        {
         "name": "suburban",
         "dtype": "float64",
         "stats": {
          "unique_count": 2,
          "nan_count": 0,
          "min": "0.0",
          "max": "1.0",
          "histogram": [
           {
            "bin_start": 0,
            "bin_end": 0.1,
            "count": 2
           },
           {
            "bin_start": 0.1,
            "bin_end": 0.2,
            "count": 0
           },
           {
            "bin_start": 0.2,
            "bin_end": 0.30000000000000004,
            "count": 0
           },
           {
            "bin_start": 0.30000000000000004,
            "bin_end": 0.4,
            "count": 0
           },
           {
            "bin_start": 0.4,
            "bin_end": 0.5,
            "count": 0
           },
           {
            "bin_start": 0.5,
            "bin_end": 0.6000000000000001,
            "count": 0
           },
           {
            "bin_start": 0.6000000000000001,
            "bin_end": 0.7000000000000001,
            "count": 0
           },
           {
            "bin_start": 0.7000000000000001,
            "bin_end": 0.8,
            "count": 0
           },
           {
            "bin_start": 0.8,
            "bin_end": 0.9,
            "count": 0
           },
           {
            "bin_start": 0.9,
            "bin_end": 1,
            "count": 3
           }
          ]
         }
        },
        {
         "name": "urban",
         "dtype": "float64",
         "stats": {
          "unique_count": 2,
          "nan_count": 0,
          "min": "0.0",
          "max": "1.0",
          "histogram": [
           {
            "bin_start": 0,
            "bin_end": 0.1,
            "count": 3
           },
           {
            "bin_start": 0.1,
            "bin_end": 0.2,
            "count": 0
           },
           {
            "bin_start": 0.2,
            "bin_end": 0.30000000000000004,
            "count": 0
           },
           {
            "bin_start": 0.30000000000000004,
            "bin_end": 0.4,
            "count": 0
           },
           {
            "bin_start": 0.4,
            "bin_end": 0.5,
            "count": 0
           },
           {
            "bin_start": 0.5,
            "bin_end": 0.6000000000000001,
            "count": 0
           },
           {
            "bin_start": 0.6000000000000001,
            "bin_end": 0.7000000000000001,
            "count": 0
           },
           {
            "bin_start": 0.7000000000000001,
            "bin_end": 0.8,
            "count": 0
           },
           {
            "bin_start": 0.8,
            "bin_end": 0.9,
            "count": 0
           },
           {
            "bin_start": 0.9,
            "bin_end": 1,
            "count": 2
           }
          ]
         }
        },
        {
         "name": "cod_lethal",
         "dtype": "int64",
         "stats": {
          "unique_count": 1,
          "nan_count": 0,
          "min": "1",
          "max": "1",
          "histogram": [
           {
            "bin_start": 0.5,
            "bin_end": 0.6,
            "count": 0
           },
           {
            "bin_start": 0.6,
            "bin_end": 0.7,
            "count": 0
           },
           {
            "bin_start": 0.7,
            "bin_end": 0.8,
            "count": 0
           },
           {
            "bin_start": 0.8,
            "bin_end": 0.9,
            "count": 0
           },
           {
            "bin_start": 0.9,
            "bin_end": 1,
            "count": 0
           },
           {
            "bin_start": 1,
            "bin_end": 1.1,
            "count": 5
           },
           {
            "bin_start": 1.1,
            "bin_end": 1.2000000000000002,
            "count": 0
           },
           {
            "bin_start": 1.2000000000000002,
            "bin_end": 1.3,
            "count": 0
           },
           {
            "bin_start": 1.3,
            "bin_end": 1.4,
            "count": 0
           },
           {
            "bin_start": 1.4,
            "bin_end": 1.5,
            "count": 0
           }
          ]
         }
        },
        {
         "name": "age_bins",
         "dtype": "category",
         "stats": {
          "unique_count": 3,
          "nan_count": 0,
          "categories": [
           {
            "name": "25-34",
            "count": 2
           },
           {
            "name": "18-24",
            "count": 2
           },
           {
            "name": "35-44",
            "count": 1
           }
          ]
         }
        },
        {
         "name": "unknown",
         "dtype": "uint8",
         "stats": {
          "unique_count": 1,
          "nan_count": 0,
          "min": "0",
          "max": "0",
          "histogram": [
           {
            "bin_start": -0.5,
            "bin_end": -0.4,
            "count": 0
           },
           {
            "bin_start": -0.4,
            "bin_end": -0.3,
            "count": 0
           },
           {
            "bin_start": -0.3,
            "bin_end": -0.19999999999999996,
            "count": 0
           },
           {
            "bin_start": -0.19999999999999996,
            "bin_end": -0.09999999999999998,
            "count": 0
           },
           {
            "bin_start": -0.09999999999999998,
            "bin_end": 0,
            "count": 0
           },
           {
            "bin_start": 0,
            "bin_end": 0.10000000000000009,
            "count": 5
           },
           {
            "bin_start": 0.10000000000000009,
            "bin_end": 0.20000000000000007,
            "count": 0
           },
           {
            "bin_start": 0.20000000000000007,
            "bin_end": 0.30000000000000004,
            "count": 0
           },
           {
            "bin_start": 0.30000000000000004,
            "bin_end": 0.4,
            "count": 0
           },
           {
            "bin_start": 0.4,
            "bin_end": 0.5,
            "count": 0
           }
          ]
         }
        },
        {
         "name": "under 12",
         "dtype": "uint8",
         "stats": {
          "unique_count": 1,
          "nan_count": 0,
          "min": "0",
          "max": "0",
          "histogram": [
           {
            "bin_start": -0.5,
            "bin_end": -0.4,
            "count": 0
           },
           {
            "bin_start": -0.4,
            "bin_end": -0.3,
            "count": 0
           },
           {
            "bin_start": -0.3,
            "bin_end": -0.19999999999999996,
            "count": 0
           },
           {
            "bin_start": -0.19999999999999996,
            "bin_end": -0.09999999999999998,
            "count": 0
           },
           {
            "bin_start": -0.09999999999999998,
            "bin_end": 0,
            "count": 0
           },
           {
            "bin_start": 0,
            "bin_end": 0.10000000000000009,
            "count": 5
           },
           {
            "bin_start": 0.10000000000000009,
            "bin_end": 0.20000000000000007,
            "count": 0
           },
           {
            "bin_start": 0.20000000000000007,
            "bin_end": 0.30000000000000004,
            "count": 0
           },
           {
            "bin_start": 0.30000000000000004,
            "bin_end": 0.4,
            "count": 0
           },
           {
            "bin_start": 0.4,
            "bin_end": 0.5,
            "count": 0
           }
          ]
         }
        },
        {
         "name": "12-17",
         "dtype": "uint8",
         "stats": {
          "unique_count": 1,
          "nan_count": 0,
          "min": "0",
          "max": "0",
          "histogram": [
           {
            "bin_start": -0.5,
            "bin_end": -0.4,
            "count": 0
           },
           {
            "bin_start": -0.4,
            "bin_end": -0.3,
            "count": 0
           },
           {
            "bin_start": -0.3,
            "bin_end": -0.19999999999999996,
            "count": 0
           },
           {
            "bin_start": -0.19999999999999996,
            "bin_end": -0.09999999999999998,
            "count": 0
           },
           {
            "bin_start": -0.09999999999999998,
            "bin_end": 0,
            "count": 0
           },
           {
            "bin_start": 0,
            "bin_end": 0.10000000000000009,
            "count": 5
           },
           {
            "bin_start": 0.10000000000000009,
            "bin_end": 0.20000000000000007,
            "count": 0
           },
           {
            "bin_start": 0.20000000000000007,
            "bin_end": 0.30000000000000004,
            "count": 0
           },
           {
            "bin_start": 0.30000000000000004,
            "bin_end": 0.4,
            "count": 0
           },
           {
            "bin_start": 0.4,
            "bin_end": 0.5,
            "count": 0
           }
          ]
         }
        },
        {
         "name": "18-24",
         "dtype": "uint8",
         "stats": {
          "unique_count": 2,
          "nan_count": 0,
          "min": "0",
          "max": "1",
          "histogram": [
           {
            "bin_start": 0,
            "bin_end": 0.1,
            "count": 3
           },
           {
            "bin_start": 0.1,
            "bin_end": 0.2,
            "count": 0
           },
           {
            "bin_start": 0.2,
            "bin_end": 0.30000000000000004,
            "count": 0
           },
           {
            "bin_start": 0.30000000000000004,
            "bin_end": 0.4,
            "count": 0
           },
           {
            "bin_start": 0.4,
            "bin_end": 0.5,
            "count": 0
           },
           {
            "bin_start": 0.5,
            "bin_end": 0.6000000000000001,
            "count": 0
           },
           {
            "bin_start": 0.6000000000000001,
            "bin_end": 0.7000000000000001,
            "count": 0
           },
           {
            "bin_start": 0.7000000000000001,
            "bin_end": 0.8,
            "count": 0
           },
           {
            "bin_start": 0.8,
            "bin_end": 0.9,
            "count": 0
           },
           {
            "bin_start": 0.9,
            "bin_end": 1,
            "count": 2
           }
          ]
         }
        },
        {
         "name": "25-34",
         "dtype": "uint8",
         "stats": {
          "unique_count": 2,
          "nan_count": 0,
          "min": "0",
          "max": "1",
          "histogram": [
           {
            "bin_start": 0,
            "bin_end": 0.1,
            "count": 3
           },
           {
            "bin_start": 0.1,
            "bin_end": 0.2,
            "count": 0
           },
           {
            "bin_start": 0.2,
            "bin_end": 0.30000000000000004,
            "count": 0
           },
           {
            "bin_start": 0.30000000000000004,
            "bin_end": 0.4,
            "count": 0
           },
           {
            "bin_start": 0.4,
            "bin_end": 0.5,
            "count": 0
           },
           {
            "bin_start": 0.5,
            "bin_end": 0.6000000000000001,
            "count": 0
           },
           {
            "bin_start": 0.6000000000000001,
            "bin_end": 0.7000000000000001,
            "count": 0
           },
           {
            "bin_start": 0.7000000000000001,
            "bin_end": 0.8,
            "count": 0
           },
           {
            "bin_start": 0.8,
            "bin_end": 0.9,
            "count": 0
           },
           {
            "bin_start": 0.9,
            "bin_end": 1,
            "count": 2
           }
          ]
         }
        },
        {
         "name": "35-44",
         "dtype": "uint8",
         "stats": {
          "unique_count": 2,
          "nan_count": 0,
          "min": "0",
          "max": "1",
          "histogram": [
           {
            "bin_start": 0,
            "bin_end": 0.1,
            "count": 4
           },
           {
            "bin_start": 0.1,
            "bin_end": 0.2,
            "count": 0
           },
           {
            "bin_start": 0.2,
            "bin_end": 0.30000000000000004,
            "count": 0
           },
           {
            "bin_start": 0.30000000000000004,
            "bin_end": 0.4,
            "count": 0
           },
           {
            "bin_start": 0.4,
            "bin_end": 0.5,
            "count": 0
           },
           {
            "bin_start": 0.5,
            "bin_end": 0.6000000000000001,
            "count": 0
           },
           {
            "bin_start": 0.6000000000000001,
            "bin_end": 0.7000000000000001,
            "count": 0
           },
           {
            "bin_start": 0.7000000000000001,
            "bin_end": 0.8,
            "count": 0
           },
           {
            "bin_start": 0.8,
            "bin_end": 0.9,
            "count": 0
           },
           {
            "bin_start": 0.9,
            "bin_end": 1,
            "count": 1
           }
          ]
         }
        },
        {
         "name": "45-54",
         "dtype": "uint8",
         "stats": {
          "unique_count": 1,
          "nan_count": 0,
          "min": "0",
          "max": "0",
          "histogram": [
           {
            "bin_start": -0.5,
            "bin_end": -0.4,
            "count": 0
           },
           {
            "bin_start": -0.4,
            "bin_end": -0.3,
            "count": 0
           },
           {
            "bin_start": -0.3,
            "bin_end": -0.19999999999999996,
            "count": 0
           },
           {
            "bin_start": -0.19999999999999996,
            "bin_end": -0.09999999999999998,
            "count": 0
           },
           {
            "bin_start": -0.09999999999999998,
            "bin_end": 0,
            "count": 0
           },
           {
            "bin_start": 0,
            "bin_end": 0.10000000000000009,
            "count": 5
           },
           {
            "bin_start": 0.10000000000000009,
            "bin_end": 0.20000000000000007,
            "count": 0
           },
           {
            "bin_start": 0.20000000000000007,
            "bin_end": 0.30000000000000004,
            "count": 0
           },
           {
            "bin_start": 0.30000000000000004,
            "bin_end": 0.4,
            "count": 0
           },
           {
            "bin_start": 0.4,
            "bin_end": 0.5,
            "count": 0
           }
          ]
         }
        },
        {
         "name": "55-64",
         "dtype": "uint8",
         "stats": {
          "unique_count": 1,
          "nan_count": 0,
          "min": "0",
          "max": "0",
          "histogram": [
           {
            "bin_start": -0.5,
            "bin_end": -0.4,
            "count": 0
           },
           {
            "bin_start": -0.4,
            "bin_end": -0.3,
            "count": 0
           },
           {
            "bin_start": -0.3,
            "bin_end": -0.19999999999999996,
            "count": 0
           },
           {
            "bin_start": -0.19999999999999996,
            "bin_end": -0.09999999999999998,
            "count": 0
           },
           {
            "bin_start": -0.09999999999999998,
            "bin_end": 0,
            "count": 0
           },
           {
            "bin_start": 0,
            "bin_end": 0.10000000000000009,
            "count": 5
           },
           {
            "bin_start": 0.10000000000000009,
            "bin_end": 0.20000000000000007,
            "count": 0
           },
           {
            "bin_start": 0.20000000000000007,
            "bin_end": 0.30000000000000004,
            "count": 0
           },
           {
            "bin_start": 0.30000000000000004,
            "bin_end": 0.4,
            "count": 0
           },
           {
            "bin_start": 0.4,
            "bin_end": 0.5,
            "count": 0
           }
          ]
         }
        },
        {
         "name": "65+",
         "dtype": "uint8",
         "stats": {
          "unique_count": 1,
          "nan_count": 0,
          "min": "0",
          "max": "0",
          "histogram": [
           {
            "bin_start": -0.5,
            "bin_end": -0.4,
            "count": 0
           },
           {
            "bin_start": -0.4,
            "bin_end": -0.3,
            "count": 0
           },
           {
            "bin_start": -0.3,
            "bin_end": -0.19999999999999996,
            "count": 0
           },
           {
            "bin_start": -0.19999999999999996,
            "bin_end": -0.09999999999999998,
            "count": 0
           },
           {
            "bin_start": -0.09999999999999998,
            "bin_end": 0,
            "count": 0
           },
           {
            "bin_start": 0,
            "bin_end": 0.10000000000000009,
            "count": 5
           },
           {
            "bin_start": 0.10000000000000009,
            "bin_end": 0.20000000000000007,
            "count": 0
           },
           {
            "bin_start": 0.20000000000000007,
            "bin_end": 0.30000000000000004,
            "count": 0
           },
           {
            "bin_start": 0.30000000000000004,
            "bin_end": 0.4,
            "count": 0
           },
           {
            "bin_start": 0.4,
            "bin_end": 0.5,
            "count": 0
           }
          ]
         }
        },
        {
         "name": "_deepnote_index_column",
         "dtype": "int64"
        }
       ],
       "rows_top": [
        {
         "age": 27,
         "gender": "male",
         "race": "black",
         "date": "2019-08-08T00:00:00.000000",
         "city": "moss point",
         "state": "ms",
         "zipcode": 39563,
         "county": "jackson",
         "agency_responsible": "moss point police department",
         "cause_of_death": "gunshot",
         "description_of_circumstances": "following a vehicle chase, then a foot pursuit, toussaint sims reportedly displayed a firearm in a …",
         "official_disposition": "grand jury/no bill or cleared",
         "criminal_charges_filed": "no known charges",
         "mental_illness": "no",
         "armed_unarmed_status": "allegedly_armed",
         "alleged_weapon": "gun",
         "alleged_threat_lvl": 1,
         "fleeing": "fleeing",
         "body_camera": 1,
         "geography": "suburban",
         "encounter_type_draft": "other",
         "initial_reported_reason_for_encounter_draft": "warrant",
         "known_past_shootings_of_officer_draft": "0",
         "is_female": 0,
         "is_male": 1,
         "is_transgender": 0,
         "was_fleeing": 1,
         "was_not fleeing ": 0,
         "was_allegedly_armed": 1,
         "was_unarmed": 0,
         "was_vehicle": 0,
         "was_domestic_disturbance": 0,
         "was_mental_health_welfare_check": 0,
         "was_person_with_a_weapon": 0,
         "was_traffic_stop": 0,
         "was_violent_crime_part_1": 0,
         "is_asian/pacific islander": 0,
         "is_black": 1,
         "is_hispanic": 0,
         "is_native american": 0,
         "is_unknown race": 0,
         "is_white": 0,
         "mntlill_drug or alcohol use": 0,
         "mntlill_no": 1,
         "mntlill_unknown": 0,
         "mntlill_yes": 0,
         "rural": 0,
         "suburban": 1,
         "urban": 0,
         "cod_lethal": 1,
         "age_bins": "25-34",
         "unknown": 0,
         "under 12": 0,
         "12-17": 0,
         "18-24": 0,
         "25-34": 1,
         "35-44": 0,
         "45-54": 0,
         "55-64": 0,
         "65+": 0,
         "_deepnote_index_column": 1953
        },
        {
         "age": 20,
         "gender": "male",
         "race": "white",
         "date": "2018-06-04T00:00:00.000000",
         "city": "ogden",
         "state": "nc",
         "zipcode": 28411,
         "county": "new hanover",
         "agency_responsible": "new hanover county sheriff's office",
         "cause_of_death": "gunshot",
         "description_of_circumstances": "deputies responded to a home after 8 p.m. in reference to a suicidal person. josh nash bryant had b…",
         "official_disposition": "pending investigation/no known charges",
         "criminal_charges_filed": "no known charges",
         "mental_illness": "yes",
         "armed_unarmed_status": "allegedly_armed",
         "alleged_weapon": "gun",
         "alleged_threat_lvl": 0,
         "fleeing": "not fleeing",
         "body_camera": 0,
         "geography": "suburban",
         "encounter_type_draft": "mental_health_welfare_check",
         "initial_reported_reason_for_encounter_draft": "suicidal",
         "known_past_shootings_of_officer_draft": "0",
         "is_female": 0,
         "is_male": 1,
         "is_transgender": 0,
         "was_fleeing": 0,
         "was_not fleeing ": 0,
         "was_allegedly_armed": 1,
         "was_unarmed": 0,
         "was_vehicle": 0,
         "was_domestic_disturbance": 0,
         "was_mental_health_welfare_check": 1,
         "was_person_with_a_weapon": 0,
         "was_traffic_stop": 0,
         "was_violent_crime_part_1": 0,
         "is_asian/pacific islander": 0,
         "is_black": 0,
         "is_hispanic": 0,
         "is_native american": 0,
         "is_unknown race": 0,
         "is_white": 1,
         "mntlill_drug or alcohol use": 0,
         "mntlill_no": 0,
         "mntlill_unknown": 0,
         "mntlill_yes": 1,
         "rural": 0,
         "suburban": 1,
         "urban": 0,
         "cod_lethal": 1,
         "age_bins": "18-24",
         "unknown": 0,
         "under 12": 0,
         "12-17": 0,
         "18-24": 1,
         "25-34": 0,
         "35-44": 0,
         "45-54": 0,
         "55-64": 0,
         "65+": 0,
         "_deepnote_index_column": 3237
        },
        {
         "age": 39,
         "gender": "male",
         "race": "unknown race",
         "date": "2020-11-12T00:00:00.000000",
         "city": "philadelphia",
         "state": "pa",
         "zipcode": 19111,
         "county": "philadelphia",
         "agency_responsible": "philadelphia police department",
         "cause_of_death": "gunshot",
         "description_of_circumstances": "a 39-year-old man allegedly fired at least two rounds during a foot chase with police. an officer s…",
         "official_disposition": "pending investigation",
         "criminal_charges_filed": "no known charges",
         "mental_illness": "no",
         "armed_unarmed_status": "allegedly_armed",
         "alleged_weapon": "gun",
         "alleged_threat_lvl": 1,
         "fleeing": "not fleeing",
         "body_camera": 1,
         "geography": "urban",
         "encounter_type_draft": "person_with_a_weapon",
         "initial_reported_reason_for_encounter_draft": "traffic violation",
         "known_past_shootings_of_officer_draft": "0",
         "is_female": 0,
         "is_male": 1,
         "is_transgender": 0,
         "was_fleeing": 0,
         "was_not fleeing ": 0,
         "was_allegedly_armed": 1,
         "was_unarmed": 0,
         "was_vehicle": 0,
         "was_domestic_disturbance": 0,
         "was_mental_health_welfare_check": 0,
         "was_person_with_a_weapon": 1,
         "was_traffic_stop": 0,
         "was_violent_crime_part_1": 0,
         "is_asian/pacific islander": 0,
         "is_black": 0,
         "is_hispanic": 0,
         "is_native american": 0,
         "is_unknown race": 1,
         "is_white": 0,
         "mntlill_drug or alcohol use": 0,
         "mntlill_no": 1,
         "mntlill_unknown": 0,
         "mntlill_yes": 0,
         "rural": 0,
         "suburban": 0,
         "urban": 1,
         "cod_lethal": 1,
         "age_bins": "35-44",
         "unknown": 0,
         "under 12": 0,
         "12-17": 0,
         "18-24": 0,
         "25-34": 0,
         "35-44": 1,
         "45-54": 0,
         "55-64": 0,
         "65+": 0,
         "_deepnote_index_column": 529
        },
        {
         "age": 30,
         "gender": "male",
         "race": "black",
         "date": "2019-03-30T00:00:00.000000",
         "city": "durham",
         "state": "nc",
         "zipcode": 27704,
         "county": "durham",
         "agency_responsible": "durham police department",
         "cause_of_death": "gunshot",
         "description_of_circumstances": "around 5 a.m., police responded to a domestic incident at a home. police said they found a man and …",
         "official_disposition": "pending investigation/no known charges",
         "criminal_charges_filed": "no known charges",
         "mental_illness": "no",
         "armed_unarmed_status": "allegedly_armed",
         "alleged_weapon": "gun",
         "alleged_threat_lvl": 1,
         "fleeing": "fleeing",
         "body_camera": 1,
         "geography": "suburban",
         "encounter_type_draft": "domestic_disturbance",
         "initial_reported_reason_for_encounter_draft": "domestic disturbance",
         "known_past_shootings_of_officer_draft": "0",
         "is_female": 0,
         "is_male": 1,
         "is_transgender": 0,
         "was_fleeing": 1,
         "was_not fleeing ": 0,
         "was_allegedly_armed": 1,
         "was_unarmed": 0,
         "was_vehicle": 0,
         "was_domestic_disturbance": 1,
         "was_mental_health_welfare_check": 0,
         "was_person_with_a_weapon": 0,
         "was_traffic_stop": 0,
         "was_violent_crime_part_1": 0,
         "is_asian/pacific islander": 0,
         "is_black": 1,
         "is_hispanic": 0,
         "is_native american": 0,
         "is_unknown race": 0,
         "is_white": 0,
         "mntlill_drug or alcohol use": 0,
         "mntlill_no": 1,
         "mntlill_unknown": 0,
         "mntlill_yes": 0,
         "rural": 0,
         "suburban": 1,
         "urban": 0,
         "cod_lethal": 1,
         "age_bins": "25-34",
         "unknown": 0,
         "under 12": 0,
         "12-17": 0,
         "18-24": 0,
         "25-34": 1,
         "35-44": 0,
         "45-54": 0,
         "55-64": 0,
         "65+": 0,
         "_deepnote_index_column": 2333
        },
        {
         "age": 23,
         "gender": "male",
         "race": "unknown race",
         "date": "2020-01-06T00:00:00.000000",
         "city": "aurora",
         "state": "co",
         "zipcode": 80014,
         "county": "arapahoe",
         "agency_responsible": "denver police department",
         "cause_of_death": "gunshot",
         "description_of_circumstances": "after an apparent traffic stop, pursuit, and stop, police shot and killed a man. details as to what…",
         "official_disposition": "justified by district attorney",
         "criminal_charges_filed": "no known charges",
         "mental_illness": "no",
         "armed_unarmed_status": "allegedly_armed",
         "alleged_weapon": "gun",
         "alleged_threat_lvl": 1,
         "fleeing": "fleeing",
         "body_camera": 0,
         "geography": "urban",
         "encounter_type_draft": "traffic_stop",
         "initial_reported_reason_for_encounter_draft": "theft",
         "known_past_shootings_of_officer_draft": "0",
         "is_female": 0,
         "is_male": 1,
         "is_transgender": 0,
         "was_fleeing": 1,
         "was_not fleeing ": 0,
         "was_allegedly_armed": 1,
         "was_unarmed": 0,
         "was_vehicle": 0,
         "was_domestic_disturbance": 0,
         "was_mental_health_welfare_check": 0,
         "was_person_with_a_weapon": 0,
         "was_traffic_stop": 1,
         "was_violent_crime_part_1": 0,
         "is_asian/pacific islander": 0,
         "is_black": 0,
         "is_hispanic": 0,
         "is_native american": 0,
         "is_unknown race": 1,
         "is_white": 0,
         "mntlill_drug or alcohol use": 0,
         "mntlill_no": 1,
         "mntlill_unknown": 0,
         "mntlill_yes": 0,
         "rural": 0,
         "suburban": 0,
         "urban": 1,
         "cod_lethal": 1,
         "age_bins": "18-24",
         "unknown": 0,
         "under 12": 0,
         "12-17": 0,
         "18-24": 1,
         "25-34": 0,
         "35-44": 0,
         "45-54": 0,
         "55-64": 0,
         "65+": 0,
         "_deepnote_index_column": 1490
        }
       ],
       "rows_bottom": null
      },
      "text/plain": "      age gender          race       date          city state  zipcode  \\\n1953   27   male         black 2019-08-08    moss point    ms  39563.0   \n3237   20   male         white 2018-06-04         ogden    nc  28411.0   \n529    39   male  unknown race 2020-11-12  philadelphia    pa  19111.0   \n2333   30   male         black 2019-03-30        durham    nc  27704.0   \n1490   23   male  unknown race 2020-01-06        aurora    co  80014.0   \n\n            county                   agency_responsible cause_of_death  ...  \\\n1953       jackson         moss point police department        gunshot  ...   \n3237   new hanover  new hanover county sheriff's office        gunshot  ...   \n529   philadelphia       philadelphia police department        gunshot  ...   \n2333        durham             durham police department        gunshot  ...   \n1490      arapahoe             denver police department        gunshot  ...   \n\n     age_bins unknown under 12 12-17 18-24 25-34  35-44 45-54  55-64 65+  \n1953    25-34       0        0     0     0     1      0     0      0   0  \n3237    18-24       0        0     0     1     0      0     0      0   0  \n529     35-44       0        0     0     0     0      1     0      0   0  \n2333    25-34       0        0     0     0     1      0     0      0   0  \n1490    18-24       0        0     0     1     0      0     0      0   0  \n\n[5 rows x 60 columns]",
      "text/html": "<div>\n<style scoped>\n    .dataframe tbody tr th:only-of-type {\n        vertical-align: middle;\n    }\n\n    .dataframe tbody tr th {\n        vertical-align: top;\n    }\n\n    .dataframe thead th {\n        text-align: right;\n    }\n</style>\n<table border=\"1\" class=\"dataframe\">\n  <thead>\n    <tr style=\"text-align: right;\">\n      <th></th>\n      <th>age</th>\n      <th>gender</th>\n      <th>race</th>\n      <th>date</th>\n      <th>city</th>\n      <th>state</th>\n      <th>zipcode</th>\n      <th>county</th>\n      <th>agency_responsible</th>\n      <th>cause_of_death</th>\n      <th>...</th>\n      <th>age_bins</th>\n      <th>unknown</th>\n      <th>under 12</th>\n      <th>12-17</th>\n      <th>18-24</th>\n      <th>25-34</th>\n      <th>35-44</th>\n      <th>45-54</th>\n      <th>55-64</th>\n      <th>65+</th>\n    </tr>\n  </thead>\n  <tbody>\n    <tr>\n      <th>1953</th>\n      <td>27</td>\n      <td>male</td>\n      <td>black</td>\n      <td>2019-08-08</td>\n      <td>moss point</td>\n      <td>ms</td>\n      <td>39563.0</td>\n      <td>jackson</td>\n      <td>moss point police department</td>\n      <td>gunshot</td>\n      <td>...</td>\n      <td>25-34</td>\n      <td>0</td>\n      <td>0</td>\n      <td>0</td>\n      <td>0</td>\n      <td>1</td>\n      <td>0</td>\n      <td>0</td>\n      <td>0</td>\n      <td>0</td>\n    </tr>\n    <tr>\n      <th>3237</th>\n      <td>20</td>\n      <td>male</td>\n      <td>white</td>\n      <td>2018-06-04</td>\n      <td>ogden</td>\n      <td>nc</td>\n      <td>28411.0</td>\n      <td>new hanover</td>\n      <td>new hanover county sheriff's office</td>\n      <td>gunshot</td>\n      <td>...</td>\n      <td>18-24</td>\n      <td>0</td>\n      <td>0</td>\n      <td>0</td>\n      <td>1</td>\n      <td>0</td>\n      <td>0</td>\n      <td>0</td>\n      <td>0</td>\n      <td>0</td>\n    </tr>\n    <tr>\n      <th>529</th>\n      <td>39</td>\n      <td>male</td>\n      <td>unknown race</td>\n      <td>2020-11-12</td>\n      <td>philadelphia</td>\n      <td>pa</td>\n      <td>19111.0</td>\n      <td>philadelphia</td>\n      <td>philadelphia police department</td>\n      <td>gunshot</td>\n      <td>...</td>\n      <td>35-44</td>\n      <td>0</td>\n      <td>0</td>\n      <td>0</td>\n      <td>0</td>\n      <td>0</td>\n      <td>1</td>\n      <td>0</td>\n      <td>0</td>\n      <td>0</td>\n    </tr>\n    <tr>\n      <th>2333</th>\n      <td>30</td>\n      <td>male</td>\n      <td>black</td>\n      <td>2019-03-30</td>\n      <td>durham</td>\n      <td>nc</td>\n      <td>27704.0</td>\n      <td>durham</td>\n      <td>durham police department</td>\n      <td>gunshot</td>\n      <td>...</td>\n      <td>25-34</td>\n      <td>0</td>\n      <td>0</td>\n      <td>0</td>\n      <td>0</td>\n      <td>1</td>\n      <td>0</td>\n      <td>0</td>\n      <td>0</td>\n      <td>0</td>\n    </tr>\n    <tr>\n      <th>1490</th>\n      <td>23</td>\n      <td>male</td>\n      <td>unknown race</td>\n      <td>2020-01-06</td>\n      <td>aurora</td>\n      <td>co</td>\n      <td>80014.0</td>\n      <td>arapahoe</td>\n      <td>denver police department</td>\n      <td>gunshot</td>\n      <td>...</td>\n      <td>18-24</td>\n      <td>0</td>\n      <td>0</td>\n      <td>0</td>\n      <td>1</td>\n      <td>0</td>\n      <td>0</td>\n      <td>0</td>\n      <td>0</td>\n      <td>0</td>\n    </tr>\n  </tbody>\n</table>\n<p>5 rows × 60 columns</p>\n</div>"
     },
     "metadata": {}
    }
   ],
   "execution_count": null
  },
  {
   "cell_type": "markdown",
   "source": "### Takeaway\n- Data is prepped/split and ready to be explored, modeled, and evaluated.",
   "metadata": {
    "tags": [],
    "cell_id": "00018-e7b4483a-873b-4d96-85ec-f4afa334a175",
    "deepnote_cell_type": "markdown"
   }
  },
  {
   "cell_type": "markdown",
   "source": "\n___\n# Explore Data\n#### Address questions posed in planning\n- Does gender make a difference in alleged threat level?\n- How does mental illness affect each gender?\n- Do symptoms of mental illness play a role in threat level?\n- Is race a factor for alleged threat level?\n- Does bodycam make a difference in alleged threat level?\n- Is cause of death and alleged threat level independent of one another?\n- What areas in geography are resulting in more killings?\n- What are the fatalities by state: % killings vs pop\n\n## • Visualizations",
   "metadata": {
    "cell_id": "00019-39f3ff0b-afcf-43e8-9150-b17f255a94f8",
    "deepnote_cell_type": "markdown"
   }
  },
  {
   "cell_type": "code",
   "metadata": {
    "deepnote_to_be_reexecuted": false,
    "source_hash": "bebc8bdb",
    "execution_start": 1622221401729,
    "execution_millis": 385,
    "cell_id": "00020-7f9ccc1e-5ce8-4932-bd41-f1e7beca689e",
    "deepnote_cell_type": "code"
   },
   "source": "#visualize gender vs alleged threat level\nax = pd.crosstab(train.gender, train.alleged_threat_lvl, normalize ='index').plot.barh(figsize=(8, 6), cmap=plt.cm.get_cmap('Blues'), ec=\"black\")\n\n#customize legend\nlegend_labels, _= ax.get_legend_handles_labels()\nax.legend(legend_labels, ['Non-Attack', 'Attack'], \n          bbox_to_anchor=(1,1), \n          title='Threat Level')\n\n#customize chart\nplt.title(\"Does Gender Make a Difference in Alleged Threat Level?\", fontsize = 15)\nplt.ylabel(\"Gender\", fontsize = 12)\nplt.xlabel('Percentage', fontsize = 12)\nax.tick_params(labelsize=10)\nplt.xlim([0.0, 1.0])\nplt.show()\n\n#get percentages df\npercentages = pd.crosstab(train.gender, train.alleged_threat_lvl, normalize = 'index')\npercentages",
   "outputs": [
    {
     "data": {
      "text/plain": "<Figure size 576x432 with 1 Axes>",
      "image/png": "[encoded data removed]"
     },
     "metadata": {
      "needs_background": "light",
      "image/png": {
       "width": 553,
       "height": 392
      }
     },
     "output_type": "display_data"
    },
    {
     "output_type": "execute_result",
     "execution_count": 13,
     "data": {
      "application/vnd.deepnote.dataframe.v2+json": {
       "row_count": 3,
       "column_count": 2,
       "columns": [
        {
         "name": 0,
         "dtype": "float64",
         "stats": {
          "unique_count": 3,
          "nan_count": 0,
          "min": "0.3181953988646549",
          "max": "0.5",
          "histogram": [
           {
            "bin_start": 0.3181953988646549,
            "bin_end": 0.33637585897818945,
            "count": 1
           },
           {
            "bin_start": 0.33637585897818945,
            "bin_end": 0.3545563190917239,
            "count": 0
           },
           {
            "bin_start": 0.3545563190917239,
            "bin_end": 0.37273677920525844,
            "count": 0
           },
           {
            "bin_start": 0.37273677920525844,
            "bin_end": 0.39091723931879296,
            "count": 0
           },
           {
            "bin_start": 0.39091723931879296,
            "bin_end": 0.40909769943232743,
            "count": 0
           },
           {
            "bin_start": 0.40909769943232743,
            "bin_end": 0.42727815954586196,
            "count": 1
           },
           {
            "bin_start": 0.42727815954586196,
            "bin_end": 0.4454586196593965,
            "count": 0
           },
           {
            "bin_start": 0.4454586196593965,
            "bin_end": 0.46363907977293095,
            "count": 0
           },
           {
            "bin_start": 0.46363907977293095,
            "bin_end": 0.4818195398864655,
            "count": 0
           },
           {
            "bin_start": 0.4818195398864655,
            "bin_end": 0.5,
            "count": 1
           }
          ]
         }
        },
        {
         "name": 1,
         "dtype": "float64",
         "stats": {
          "unique_count": 3,
          "nan_count": 0,
          "min": "0.5",
          "max": "0.6818046011353451",
          "histogram": [
           {
            "bin_start": 0.5,
            "bin_end": 0.5181804601135345,
            "count": 1
           },
           {
            "bin_start": 0.5181804601135345,
            "bin_end": 0.536360920227069,
            "count": 0
           },
           {
            "bin_start": 0.536360920227069,
            "bin_end": 0.5545413803406035,
            "count": 0
           },
           {
            "bin_start": 0.5545413803406035,
            "bin_end": 0.5727218404541381,
            "count": 0
           },
           {
            "bin_start": 0.5727218404541381,
            "bin_end": 0.5909023005676726,
            "count": 1
           },
           {
            "bin_start": 0.5909023005676726,
            "bin_end": 0.609082760681207,
            "count": 0
           },
           {
            "bin_start": 0.609082760681207,
            "bin_end": 0.6272632207947416,
            "count": 0
           },
           {
            "bin_start": 0.6272632207947416,
            "bin_end": 0.6454436809082761,
            "count": 0
           },
           {
            "bin_start": 0.6454436809082761,
            "bin_end": 0.6636241410218107,
            "count": 0
           },
           {
            "bin_start": 0.6636241410218107,
            "bin_end": 0.6818046011353451,
            "count": 1
           }
          ]
         }
        },
        {
         "name": "_deepnote_index_column",
         "dtype": "object"
        }
       ],
       "rows_top": [
        {
         "0.0": 0.4140127388535032,
         "1.0": 0.5859872611464968,
         "_deepnote_index_column": "female"
        },
        {
         "0.0": 0.3181953988646549,
         "1.0": 0.6818046011353451,
         "_deepnote_index_column": "male"
        },
        {
         "0.0": 0.5,
         "1.0": 0.5,
         "_deepnote_index_column": "transgender"
        }
       ],
       "rows_bottom": null
      },
      "text/plain": "alleged_threat_lvl       0.0       1.0\ngender                                \nfemale              0.414013  0.585987\nmale                0.318195  0.681805\ntransgender         0.500000  0.500000",
      "text/html": "<div>\n<style scoped>\n    .dataframe tbody tr th:only-of-type {\n        vertical-align: middle;\n    }\n\n    .dataframe tbody tr th {\n        vertical-align: top;\n    }\n\n    .dataframe thead th {\n        text-align: right;\n    }\n</style>\n<table border=\"1\" class=\"dataframe\">\n  <thead>\n    <tr style=\"text-align: right;\">\n      <th>alleged_threat_lvl</th>\n      <th>0.0</th>\n      <th>1.0</th>\n    </tr>\n    <tr>\n      <th>gender</th>\n      <th></th>\n      <th></th>\n    </tr>\n  </thead>\n  <tbody>\n    <tr>\n      <th>female</th>\n      <td>0.414013</td>\n      <td>0.585987</td>\n    </tr>\n    <tr>\n      <th>male</th>\n      <td>0.318195</td>\n      <td>0.681805</td>\n    </tr>\n    <tr>\n      <th>transgender</th>\n      <td>0.500000</td>\n      <td>0.500000</td>\n    </tr>\n  </tbody>\n</table>\n</div>"
     },
     "metadata": {}
    }
   ],
   "execution_count": null
  },
  {
   "cell_type": "markdown",
   "source": "### Takeaways\n- Highest percentage of non-attacks are transgender. Second highest is female.\n- Highest percentage of attacks are male. Second highest is female.\n- Males are almost equally likely to be an attack or non-attack threat level.",
   "metadata": {
    "cell_id": "00021-247c996a-1d68-4507-a4e5-251adb5a738a",
    "deepnote_cell_type": "markdown"
   }
  },
  {
   "cell_type": "code",
   "metadata": {
    "deepnote_to_be_reexecuted": false,
    "source_hash": "119e49bb",
    "execution_start": 1622221402120,
    "execution_millis": 344,
    "cell_id": "00022-ef3abcd7-a57e-4f08-8ccf-8f652ba72773",
    "deepnote_cell_type": "code"
   },
   "source": "#visualize mental illness per gender\nax = pd.crosstab(train.gender, train.mental_illness, normalize ='index').plot.barh(figsize=(8, 6), cmap=plt.cm.get_cmap('Blues'), ec=\"black\")\n\n#customize legend\nlegend_labels, _= ax.get_legend_handles_labels()\nax.legend(legend_labels, ['Drug / Alcohol Use', 'No', 'Unknown', 'Yes'], \n          bbox_to_anchor=(1,1), \n          title='Mental Illness')\n\n#customize chart\nplt.title(\"How Does Mental Illness Affect Each Gender?\", fontsize = 15)\nplt.ylabel(\"Gender\", fontsize = 12)\nplt.xlabel('Percentage', fontsize = 12)\nax.tick_params(labelsize=10)\nplt.xlim([0.0, 1.0])\nplt.show()\n\n#get percentages df\npercentages = pd.crosstab(train.gender, train.mental_illness, normalize = 'index')\npercentages",
   "outputs": [
    {
     "data": {
      "text/plain": "<Figure size 576x432 with 1 Axes>",
      "image/png": "[encoded data removed]"
     },
     "metadata": {
      "needs_background": "light",
      "image/png": {
       "width": 553,
       "height": 392
      }
     },
     "output_type": "display_data"
    },
    {
     "output_type": "execute_result",
     "execution_count": 14,
     "data": {
      "application/vnd.deepnote.dataframe.v2+json": {
       "row_count": 3,
       "column_count": 4,
       "columns": [
        {
         "name": "drug or alcohol use",
         "dtype": "float64",
         "stats": {
          "unique_count": 3,
          "nan_count": 0,
          "min": "0.0",
          "max": "0.02987750224081267",
          "histogram": [
           {
            "bin_start": 0,
            "bin_end": 0.002987750224081267,
            "count": 1
           },
           {
            "bin_start": 0.002987750224081267,
            "bin_end": 0.005975500448162534,
            "count": 0
           },
           {
            "bin_start": 0.005975500448162534,
            "bin_end": 0.008963250672243801,
            "count": 0
           },
           {
            "bin_start": 0.008963250672243801,
            "bin_end": 0.011951000896325068,
            "count": 0
           },
           {
            "bin_start": 0.011951000896325068,
            "bin_end": 0.014938751120406334,
            "count": 1
           },
           {
            "bin_start": 0.014938751120406334,
            "bin_end": 0.017926501344487603,
            "count": 0
           },
           {
            "bin_start": 0.017926501344487603,
            "bin_end": 0.020914251568568867,
            "count": 0
           },
           {
            "bin_start": 0.020914251568568867,
            "bin_end": 0.023902001792650136,
            "count": 0
           },
           {
            "bin_start": 0.023902001792650136,
            "bin_end": 0.026889752016731404,
            "count": 0
           },
           {
            "bin_start": 0.026889752016731404,
            "bin_end": 0.02987750224081267,
            "count": 1
           }
          ]
         }
        },
        {
         "name": "no",
         "dtype": "float64",
         "stats": {
          "unique_count": 3,
          "nan_count": 0,
          "min": "0.5",
          "max": "0.6668658500149387",
          "histogram": [
           {
            "bin_start": 0.5,
            "bin_end": 0.5166865850014939,
            "count": 1
           },
           {
            "bin_start": 0.5166865850014939,
            "bin_end": 0.5333731700029878,
            "count": 0
           },
           {
            "bin_start": 0.5333731700029878,
            "bin_end": 0.5500597550044816,
            "count": 0
           },
           {
            "bin_start": 0.5500597550044816,
            "bin_end": 0.5667463400059755,
            "count": 0
           },
           {
            "bin_start": 0.5667463400059755,
            "bin_end": 0.5834329250074693,
            "count": 0
           },
           {
            "bin_start": 0.5834329250074693,
            "bin_end": 0.6001195100089632,
            "count": 1
           },
           {
            "bin_start": 0.6001195100089632,
            "bin_end": 0.6168060950104571,
            "count": 0
           },
           {
            "bin_start": 0.6168060950104571,
            "bin_end": 0.6334926800119509,
            "count": 0
           },
           {
            "bin_start": 0.6334926800119509,
            "bin_end": 0.6501792650134448,
            "count": 0
           },
           {
            "bin_start": 0.6501792650134448,
            "bin_end": 0.6668658500149387,
            "count": 1
           }
          ]
         }
        },
        {
         "name": "unknown",
         "dtype": "float64",
         "stats": {
          "unique_count": 3,
          "nan_count": 0,
          "min": "0.0",
          "max": "0.12101910828025478",
          "histogram": [
           {
            "bin_start": 0,
            "bin_end": 0.012101910828025478,
            "count": 1
           },
           {
            "bin_start": 0.012101910828025478,
            "bin_end": 0.024203821656050957,
            "count": 0
           },
           {
            "bin_start": 0.024203821656050957,
            "bin_end": 0.03630573248407644,
            "count": 0
           },
           {
            "bin_start": 0.03630573248407644,
            "bin_end": 0.048407643312101914,
            "count": 0
           },
           {
            "bin_start": 0.048407643312101914,
            "bin_end": 0.06050955414012739,
            "count": 0
           },
           {
            "bin_start": 0.06050955414012739,
            "bin_end": 0.07261146496815288,
            "count": 0
           },
           {
            "bin_start": 0.07261146496815288,
            "bin_end": 0.08471337579617835,
            "count": 0
           },
           {
            "bin_start": 0.08471337579617835,
            "bin_end": 0.09681528662420383,
            "count": 0
           },
           {
            "bin_start": 0.09681528662420383,
            "bin_end": 0.1089171974522293,
            "count": 1
           },
           {
            "bin_start": 0.1089171974522293,
            "bin_end": 0.12101910828025478,
            "count": 1
           }
          ]
         }
        },
        {
         "name": "yes",
         "dtype": "float64",
         "stats": {
          "unique_count": 3,
          "nan_count": 0,
          "min": "0.19898416492381238",
          "max": "0.5",
          "histogram": [
           {
            "bin_start": 0.19898416492381238,
            "bin_end": 0.22908574843143115,
            "count": 1
           },
           {
            "bin_start": 0.22908574843143115,
            "bin_end": 0.2591873319390499,
            "count": 0
           },
           {
            "bin_start": 0.2591873319390499,
            "bin_end": 0.2892889154466687,
            "count": 1
           },
           {
            "bin_start": 0.2892889154466687,
            "bin_end": 0.3193904989542874,
            "count": 0
           },
           {
            "bin_start": 0.3193904989542874,
            "bin_end": 0.3494920824619062,
            "count": 0
           },
           {
            "bin_start": 0.3494920824619062,
            "bin_end": 0.37959366596952493,
            "count": 0
           },
           {
            "bin_start": 0.37959366596952493,
            "bin_end": 0.4096952494771437,
            "count": 0
           },
           {
            "bin_start": 0.4096952494771437,
            "bin_end": 0.43979683298476246,
            "count": 0
           },
           {
            "bin_start": 0.43979683298476246,
            "bin_end": 0.46989841649238123,
            "count": 0
           },
           {
            "bin_start": 0.46989841649238123,
            "bin_end": 0.5,
            "count": 1
           }
          ]
         }
        },
        {
         "name": "_deepnote_index_column",
         "dtype": "object"
        }
       ],
       "rows_top": [
        {
         "drug or alcohol use": 0.012738853503184714,
         "no": 0.5923566878980892,
         "unknown": 0.12101910828025478,
         "yes": 0.27388535031847133,
         "_deepnote_index_column": "female"
        },
        {
         "drug or alcohol use": 0.02987750224081267,
         "no": 0.6668658500149387,
         "unknown": 0.1042724828204362,
         "yes": 0.19898416492381238,
         "_deepnote_index_column": "male"
        },
        {
         "drug or alcohol use": 0,
         "no": 0.5,
         "unknown": 0,
         "yes": 0.5,
         "_deepnote_index_column": "transgender"
        }
       ],
       "rows_bottom": null
      },
      "text/plain": "mental_illness  drug or alcohol use        no   unknown       yes\ngender                                                           \nfemale                     0.012739  0.592357  0.121019  0.273885\nmale                       0.029878  0.666866  0.104272  0.198984\ntransgender                0.000000  0.500000  0.000000  0.500000",
      "text/html": "<div>\n<style scoped>\n    .dataframe tbody tr th:only-of-type {\n        vertical-align: middle;\n    }\n\n    .dataframe tbody tr th {\n        vertical-align: top;\n    }\n\n    .dataframe thead th {\n        text-align: right;\n    }\n</style>\n<table border=\"1\" class=\"dataframe\">\n  <thead>\n    <tr style=\"text-align: right;\">\n      <th>mental_illness</th>\n      <th>drug or alcohol use</th>\n      <th>no</th>\n      <th>unknown</th>\n      <th>yes</th>\n    </tr>\n    <tr>\n      <th>gender</th>\n      <th></th>\n      <th></th>\n      <th></th>\n      <th></th>\n    </tr>\n  </thead>\n  <tbody>\n    <tr>\n      <th>female</th>\n      <td>0.012739</td>\n      <td>0.592357</td>\n      <td>0.121019</td>\n      <td>0.273885</td>\n    </tr>\n    <tr>\n      <th>male</th>\n      <td>0.029878</td>\n      <td>0.666866</td>\n      <td>0.104272</td>\n      <td>0.198984</td>\n    </tr>\n    <tr>\n      <th>transgender</th>\n      <td>0.000000</td>\n      <td>0.500000</td>\n      <td>0.000000</td>\n      <td>0.500000</td>\n    </tr>\n  </tbody>\n</table>\n</div>"
     },
     "metadata": {}
    }
   ],
   "execution_count": null
  },
  {
   "cell_type": "markdown",
   "source": "### Takeaways\n- Males are most often categorized as not having a mental illness, however, they have a high threat level (according to previous visual). \n- All genders have higher percentages of no mental illness. Could this be related to limited mental health awareness/support across the country?\n- Males have the highest percentage of drug / alcohol use instances.\n- Unknown mental status is almost equal across genders.",
   "metadata": {
    "cell_id": "00023-f18b6f3f-063b-4d99-bf58-3331ef1036ac",
    "deepnote_cell_type": "markdown"
   }
  },
  {
   "cell_type": "code",
   "metadata": {
    "deepnote_to_be_reexecuted": false,
    "execution_millis": 390,
    "execution_start": 1622221402475,
    "source_hash": "2df2b67",
    "tags": [],
    "cell_id": "00024-559ecb35-b96e-4ef0-a7e5-1bddfd11fe8b",
    "deepnote_cell_type": "code"
   },
   "source": "#visualize mental illness vs threat level\nax = pd.crosstab(train.mental_illness, train.alleged_threat_lvl, normalize ='index').plot.bar(figsize=(8, 6), cmap=plt.cm.get_cmap('Blues'), ec=\"black\")\n\n#customize legend\nlegend_labels, _= ax.get_legend_handles_labels()\nax.legend(legend_labels, ['Non-Attack', 'Attack'], \n          bbox_to_anchor=(1,1), \n          title='Threat Level')\n\n#customize chart\nplt.title(\"Does Mental Illness Play a Role in Threat Level?\", fontsize = 15)\nplt.ylabel(\"Percentage\", fontsize = 12)\nplt.xlabel('Mental Illness', fontsize = 12)\nax.tick_params(labelsize=10)\nplt.ylim([0.0, 1.0])\nplt.xticks(rotation=0)\nplt.show()\n\n#get percentages df\npercentages = pd.crosstab(train.mental_illness, train.alleged_threat_lvl, normalize = 'index')\npercentages",
   "outputs": [
    {
     "data": {
      "text/plain": "<Figure size 576x432 with 1 Axes>",
      "image/png": "[encoded data removed]"
     },
     "metadata": {
      "needs_background": "light",
      "image/png": {
       "width": 500,
       "height": 392
      }
     },
     "output_type": "display_data"
    },
    {
     "output_type": "execute_result",
     "execution_count": 15,
     "data": {
      "application/vnd.deepnote.dataframe.v2+json": {
       "row_count": 4,
       "column_count": 2,
       "columns": [
        {
         "name": 0,
         "dtype": "float64",
         "stats": {
          "unique_count": 4,
          "nan_count": 0,
          "min": "0.3055436183927804",
          "max": "0.3627450980392157",
          "histogram": [
           {
            "bin_start": 0.3055436183927804,
            "bin_end": 0.3112637663574239,
            "count": 1
           },
           {
            "bin_start": 0.3112637663574239,
            "bin_end": 0.31698391432206746,
            "count": 0
           },
           {
            "bin_start": 0.31698391432206746,
            "bin_end": 0.32270406228671095,
            "count": 0
           },
           {
            "bin_start": 0.32270406228671095,
            "bin_end": 0.3284242102513545,
            "count": 0
           },
           {
            "bin_start": 0.3284242102513545,
            "bin_end": 0.334144358215998,
            "count": 0
           },
           {
            "bin_start": 0.334144358215998,
            "bin_end": 0.33986450618064157,
            "count": 0
           },
           {
            "bin_start": 0.33986450618064157,
            "bin_end": 0.3455846541452851,
            "count": 1
           },
           {
            "bin_start": 0.3455846541452851,
            "bin_end": 0.3513048021099286,
            "count": 0
           },
           {
            "bin_start": 0.3513048021099286,
            "bin_end": 0.35702495007457213,
            "count": 0
           },
           {
            "bin_start": 0.35702495007457213,
            "bin_end": 0.3627450980392157,
            "count": 2
           }
          ]
         }
        },
        {
         "name": 1,
         "dtype": "float64",
         "stats": {
          "unique_count": 4,
          "nan_count": 0,
          "min": "0.6372549019607843",
          "max": "0.6944563816072196",
          "histogram": [
           {
            "bin_start": 0.6372549019607843,
            "bin_end": 0.6429750499254278,
            "count": 2
           },
           {
            "bin_start": 0.6429750499254278,
            "bin_end": 0.6486951978900714,
            "count": 0
           },
           {
            "bin_start": 0.6486951978900714,
            "bin_end": 0.6544153458547148,
            "count": 0
           },
           {
            "bin_start": 0.6544153458547148,
            "bin_end": 0.6601354938193584,
            "count": 1
           },
           {
            "bin_start": 0.6601354938193584,
            "bin_end": 0.6658556417840019,
            "count": 0
           },
           {
            "bin_start": 0.6658556417840019,
            "bin_end": 0.6715757897486454,
            "count": 0
           },
           {
            "bin_start": 0.6715757897486454,
            "bin_end": 0.677295937713289,
            "count": 0
           },
           {
            "bin_start": 0.677295937713289,
            "bin_end": 0.6830160856779325,
            "count": 0
           },
           {
            "bin_start": 0.6830160856779325,
            "bin_end": 0.6887362336425761,
            "count": 0
           },
           {
            "bin_start": 0.6887362336425761,
            "bin_end": 0.6944563816072196,
            "count": 1
           }
          ]
         }
        },
        {
         "name": "_deepnote_index_column",
         "dtype": "object"
        }
       ],
       "rows_top": [
        {
         "0.0": 0.3627450980392157,
         "1.0": 0.6372549019607843,
         "_deepnote_index_column": "drug or alcohol use"
        },
        {
         "0.0": 0.3055436183927804,
         "1.0": 0.6944563816072196,
         "_deepnote_index_column": "no"
        },
        {
         "0.0": 0.3451086956521739,
         "1.0": 0.654891304347826,
         "_deepnote_index_column": "unknown"
        },
        {
         "0.0": 0.36146272855133615,
         "1.0": 0.6385372714486639,
         "_deepnote_index_column": "yes"
        }
       ],
       "rows_bottom": null
      },
      "text/plain": "alleged_threat_lvl        0.0       1.0\nmental_illness                         \ndrug or alcohol use  0.362745  0.637255\nno                   0.305544  0.694456\nunknown              0.345109  0.654891\nyes                  0.361463  0.638537",
      "text/html": "<div>\n<style scoped>\n    .dataframe tbody tr th:only-of-type {\n        vertical-align: middle;\n    }\n\n    .dataframe tbody tr th {\n        vertical-align: top;\n    }\n\n    .dataframe thead th {\n        text-align: right;\n    }\n</style>\n<table border=\"1\" class=\"dataframe\">\n  <thead>\n    <tr style=\"text-align: right;\">\n      <th>alleged_threat_lvl</th>\n      <th>0.0</th>\n      <th>1.0</th>\n    </tr>\n    <tr>\n      <th>mental_illness</th>\n      <th></th>\n      <th></th>\n    </tr>\n  </thead>\n  <tbody>\n    <tr>\n      <th>drug or alcohol use</th>\n      <td>0.362745</td>\n      <td>0.637255</td>\n    </tr>\n    <tr>\n      <th>no</th>\n      <td>0.305544</td>\n      <td>0.694456</td>\n    </tr>\n    <tr>\n      <th>unknown</th>\n      <td>0.345109</td>\n      <td>0.654891</td>\n    </tr>\n    <tr>\n      <th>yes</th>\n      <td>0.361463</td>\n      <td>0.638537</td>\n    </tr>\n  </tbody>\n</table>\n</div>"
     },
     "metadata": {}
    }
   ],
   "execution_count": null
  },
  {
   "cell_type": "markdown",
   "source": "### Takeaways\n- People with no mental illness have been characterized as having an 'attack' threat level more often than not being attackers, but not by much. \n- Same for people with mental illness (more likely to be attacks than non-attacks, but not by much).\n- Highest percentage of non-attacks are people under the influence of drugs/alcohol or people with unknown mental status. ",
   "metadata": {
    "tags": [],
    "cell_id": "00025-d548f350-e44c-4c76-9194-fc1b81271996",
    "deepnote_cell_type": "markdown"
   }
  },
  {
   "cell_type": "code",
   "metadata": {
    "deepnote_to_be_reexecuted": false,
    "execution_millis": 0,
    "execution_start": 1622221402868,
    "source_hash": "662f7a6",
    "tags": [],
    "cell_id": "00026-530992a2-6b1c-40bf-96ed-6f3b0b726cf4",
    "deepnote_cell_type": "code"
   },
   "source": "#ax = sns.countplot(data=train, x='mental_illness', hue='alleged_threat_lvl', palette = 'ocean_r')\n#ax = pd.crosstab(train.mental_illness, train.alleged_threat_lvl, normalize ='index').plot(kind = 'bar', figsize=(15, 10), cmap=plt.cm.get_cmap('ocean_r'), ec=\"black\")\n\n#x, y, hue = \"mental_illness\", \"percent\", \"alleged_threat_lvl\"\n#hue_order = [\"Non-Attack\", \"Attack\"]\n\n#ax = (train[x]\n# .groupby(train[hue])\n# .value_counts(normalize='index')\n# .rename(y)\n# .reset_index()\n# .pipe((sns.barplot, \"data\"), x=x, y=y, hue=hue, palette = \"ocean_r\"))\n\n\n#customize legend\n#legend_labels, _= ax.get_legend_handles_labels()\n#ax.legend(legend_labels, ['Non-Attack','Attack'], \n#          bbox_to_anchor=(1,1), \n#          title='Threat Level')\n\n#customize chart\n#plt.title('Does Mental Illness Play a Role in Threat Level?')\n#plt.xlabel('Mental Illness')\n#plt.ylabel('Percentage')\n#plt.ylim([0.0, 1.0])\n#plt.show()\n\n#get percentages df\n#percentages = pd.crosstab(train.mental_illness, train.alleged_threat_lvl, normalize = 'index')\n#percentages.plot.bar(cmap='Blues', ec='black', )\n#percentages",
   "outputs": [],
   "execution_count": null
  },
  {
   "cell_type": "code",
   "metadata": {
    "deepnote_to_be_reexecuted": false,
    "execution_millis": 322,
    "execution_start": 1622221402878,
    "source_hash": "867bdf02",
    "tags": [],
    "cell_id": "00027-e43c4d21-f2eb-40a0-9dd0-8e64fa6bf9de",
    "deepnote_cell_type": "code"
   },
   "source": "#visualize race vs alleged threat level\nax = pd.crosstab(train.race, train.alleged_threat_lvl, normalize ='index').plot.barh(figsize=(8, 6), cmap=plt.cm.get_cmap('Blues'), ec=\"black\")\n\n#customize legend\nlegend_labels, _= ax.get_legend_handles_labels()\nax.legend(legend_labels, ['Non-Attack', 'Attack'], \n          bbox_to_anchor=(1,1), \n          title='Threat Level')\n\n#customize chart\nplt.title(\"Is Race a Factor in Threat Level?\", fontsize = 15)\nplt.ylabel(\"Race\", fontsize = 12)\nplt.xlabel('Percentage', fontsize = 12)\nax.tick_params(labelsize=10)\nplt.xlim([0.0, 1.0])\nplt.show()\n\n#get percentages df\npercentages = pd.crosstab(train.race, train.alleged_threat_lvl, normalize = 'index')\npercentages",
   "outputs": [
    {
     "data": {
      "text/plain": "<Figure size 576x432 with 1 Axes>",
      "image/png": "[encoded data removed]"
     },
     "metadata": {
      "needs_background": "light",
      "image/png": {
       "width": 598,
       "height": 392
      }
     },
     "output_type": "display_data"
    },
    {
     "output_type": "execute_result",
     "execution_count": 17,
     "data": {
      "application/vnd.deepnote.dataframe.v2+json": {
       "row_count": 6,
       "column_count": 2,
       "columns": [
        {
         "name": 0,
         "dtype": "float64",
         "stats": {
          "unique_count": 6,
          "nan_count": 0,
          "min": "0.2961783439490446",
          "max": "0.42",
          "histogram": [
           {
            "bin_start": 0.2961783439490446,
            "bin_end": 0.3085605095541401,
            "count": 1
           },
           {
            "bin_start": 0.3085605095541401,
            "bin_end": 0.32094267515923564,
            "count": 2
           },
           {
            "bin_start": 0.32094267515923564,
            "bin_end": 0.3333248407643312,
            "count": 0
           },
           {
            "bin_start": 0.3333248407643312,
            "bin_end": 0.34570700636942675,
            "count": 0
           },
           {
            "bin_start": 0.34570700636942675,
            "bin_end": 0.3580891719745223,
            "count": 1
           },
           {
            "bin_start": 0.3580891719745223,
            "bin_end": 0.3704713375796178,
            "count": 0
           },
           {
            "bin_start": 0.3704713375796178,
            "bin_end": 0.38285350318471334,
            "count": 0
           },
           {
            "bin_start": 0.38285350318471334,
            "bin_end": 0.39523566878980887,
            "count": 1
           },
           {
            "bin_start": 0.39523566878980887,
            "bin_end": 0.40761783439490445,
            "count": 0
           },
           {
            "bin_start": 0.40761783439490445,
            "bin_end": 0.42,
            "count": 1
           }
          ]
         }
        },
        {
         "name": 1,
         "dtype": "float64",
         "stats": {
          "unique_count": 6,
          "nan_count": 0,
          "min": "0.58",
          "max": "0.7038216560509554",
          "histogram": [
           {
            "bin_start": 0.58,
            "bin_end": 0.5923821656050955,
            "count": 1
           },
           {
            "bin_start": 0.5923821656050955,
            "bin_end": 0.604764331210191,
            "count": 0
           },
           {
            "bin_start": 0.604764331210191,
            "bin_end": 0.6171464968152865,
            "count": 1
           },
           {
            "bin_start": 0.6171464968152865,
            "bin_end": 0.6295286624203821,
            "count": 0
           },
           {
            "bin_start": 0.6295286624203821,
            "bin_end": 0.6419108280254777,
            "count": 0
           },
           {
            "bin_start": 0.6419108280254777,
            "bin_end": 0.6542929936305732,
            "count": 1
           },
           {
            "bin_start": 0.6542929936305732,
            "bin_end": 0.6666751592356688,
            "count": 0
           },
           {
            "bin_start": 0.6666751592356688,
            "bin_end": 0.6790573248407643,
            "count": 0
           },
           {
            "bin_start": 0.6790573248407643,
            "bin_end": 0.6914394904458598,
            "count": 2
           },
           {
            "bin_start": 0.6914394904458598,
            "bin_end": 0.7038216560509554,
            "count": 1
           }
          ]
         }
        },
        {
         "name": "_deepnote_index_column",
         "dtype": "object"
        }
       ],
       "rows_top": [
        {
         "0.0": 0.35135135135135137,
         "1.0": 0.6486486486486487,
         "_deepnote_index_column": "asian/pacific islander"
        },
        {
         "0.0": 0.314878892733564,
         "1.0": 0.6851211072664359,
         "_deepnote_index_column": "black"
        },
        {
         "0.0": 0.3894899536321484,
         "1.0": 0.6105100463678517,
         "_deepnote_index_column": "hispanic"
        },
        {
         "0.0": 0.42,
         "1.0": 0.58,
         "_deepnote_index_column": "native american"
        },
        {
         "0.0": 0.31666666666666665,
         "1.0": 0.6833333333333333,
         "_deepnote_index_column": "unknown race"
        },
        {
         "0.0": 0.2961783439490446,
         "1.0": 0.7038216560509554,
         "_deepnote_index_column": "white"
        }
       ],
       "rows_bottom": null
      },
      "text/plain": "alleged_threat_lvl           0.0       1.0\nrace                                      \nasian/pacific islander  0.351351  0.648649\nblack                   0.314879  0.685121\nhispanic                0.389490  0.610510\nnative american         0.420000  0.580000\nunknown race            0.316667  0.683333\nwhite                   0.296178  0.703822",
      "text/html": "<div>\n<style scoped>\n    .dataframe tbody tr th:only-of-type {\n        vertical-align: middle;\n    }\n\n    .dataframe tbody tr th {\n        vertical-align: top;\n    }\n\n    .dataframe thead th {\n        text-align: right;\n    }\n</style>\n<table border=\"1\" class=\"dataframe\">\n  <thead>\n    <tr style=\"text-align: right;\">\n      <th>alleged_threat_lvl</th>\n      <th>0.0</th>\n      <th>1.0</th>\n    </tr>\n    <tr>\n      <th>race</th>\n      <th></th>\n      <th></th>\n    </tr>\n  </thead>\n  <tbody>\n    <tr>\n      <th>asian/pacific islander</th>\n      <td>0.351351</td>\n      <td>0.648649</td>\n    </tr>\n    <tr>\n      <th>black</th>\n      <td>0.314879</td>\n      <td>0.685121</td>\n    </tr>\n    <tr>\n      <th>hispanic</th>\n      <td>0.389490</td>\n      <td>0.610510</td>\n    </tr>\n    <tr>\n      <th>native american</th>\n      <td>0.420000</td>\n      <td>0.580000</td>\n    </tr>\n    <tr>\n      <th>unknown race</th>\n      <td>0.316667</td>\n      <td>0.683333</td>\n    </tr>\n    <tr>\n      <th>white</th>\n      <td>0.296178</td>\n      <td>0.703822</td>\n    </tr>\n  </tbody>\n</table>\n</div>"
     },
     "metadata": {}
    }
   ],
   "execution_count": null
  },
  {
   "cell_type": "markdown",
   "source": "### Takeaways\n- The highest occurrence of non-attacks are seen in Native Americans. Second highest is Hispanics.\n- The highest occurrence of attacks are seen in White races. Second highest appears to be Asians/Pacific Islanders. \n- Black races are almost equally likely to result in attack/non-attack threat levels.\n- There is a lot of unknown races in the data. Why?",
   "metadata": {
    "tags": [],
    "cell_id": "00028-6ef88511-3950-42ac-b616-4944cc1bdebc",
    "deepnote_cell_type": "markdown"
   }
  },
  {
   "cell_type": "code",
   "metadata": {
    "deepnote_to_be_reexecuted": false,
    "source_hash": "704749a3",
    "execution_start": 1622221403206,
    "execution_millis": 293,
    "cell_id": "00029-eb229989-7fcd-4c7f-841f-0b0999ecbd6f",
    "deepnote_cell_type": "code"
   },
   "source": "#visualize body camera vs alleged threat level\nax = pd.crosstab(train.body_camera, train.alleged_threat_lvl, normalize ='index').plot.bar(figsize=(8, 6), cmap=plt.cm.get_cmap('Blues'), ec=\"black\")\n\n#customize legend\nlegend_labels, _= ax.get_legend_handles_labels()\nax.legend(legend_labels, ['Non-Attack', 'Attack'], \n          bbox_to_anchor=(1,1), \n          title='Threat Level')\n\n#customize chart\nplt.title(\"Does Bodycam Make a Difference in Alleged Threat Level?\", fontsize = 15)\nplt.ylabel(\"Percentage\", fontsize = 12)\nplt.xlabel('Body Camera', fontsize = 12)\nax.tick_params(labelsize=10)\nx_labels = ['Off', 'On']\nax.set_xticklabels(x_labels)\n\nplt.ylim([0.0, 1.0])\nplt.show()\n\n#get percentages df\npercentages = pd.crosstab(train.body_camera, train.alleged_threat_lvl, normalize = 'index')\npercentages",
   "outputs": [
    {
     "data": {
      "text/plain": "<Figure size 576x432 with 1 Axes>",
      "image/png": "[encoded data removed]"
     },
     "metadata": {
      "needs_background": "light",
      "image/png": {
       "width": 500,
       "height": 397
      }
     },
     "output_type": "display_data"
    },
    {
     "output_type": "execute_result",
     "execution_count": 18,
     "data": {
      "application/vnd.deepnote.dataframe.v2+json": {
       "row_count": 2,
       "column_count": 2,
       "columns": [
        {
         "name": 0,
         "dtype": "float64",
         "stats": {
          "unique_count": 2,
          "nan_count": 0,
          "min": "0.3166772756206238",
          "max": "0.3743169398907104",
          "histogram": [
           {
            "bin_start": 0.3166772756206238,
            "bin_end": 0.32244124204763247,
            "count": 1
           },
           {
            "bin_start": 0.32244124204763247,
            "bin_end": 0.32820520847464113,
            "count": 0
           },
           {
            "bin_start": 0.32820520847464113,
            "bin_end": 0.3339691749016498,
            "count": 0
           },
           {
            "bin_start": 0.3339691749016498,
            "bin_end": 0.33973314132865845,
            "count": 0
           },
           {
            "bin_start": 0.33973314132865845,
            "bin_end": 0.3454971077556671,
            "count": 0
           },
           {
            "bin_start": 0.3454971077556671,
            "bin_end": 0.35126107418267577,
            "count": 0
           },
           {
            "bin_start": 0.35126107418267577,
            "bin_end": 0.35702504060968443,
            "count": 0
           },
           {
            "bin_start": 0.35702504060968443,
            "bin_end": 0.3627890070366931,
            "count": 0
           },
           {
            "bin_start": 0.3627890070366931,
            "bin_end": 0.36855297346370175,
            "count": 0
           },
           {
            "bin_start": 0.36855297346370175,
            "bin_end": 0.3743169398907104,
            "count": 1
           }
          ]
         }
        },
        {
         "name": 1,
         "dtype": "float64",
         "stats": {
          "unique_count": 2,
          "nan_count": 0,
          "min": "0.6256830601092896",
          "max": "0.6833227243793762",
          "histogram": [
           {
            "bin_start": 0.6256830601092896,
            "bin_end": 0.6314470265362984,
            "count": 1
           },
           {
            "bin_start": 0.6314470265362984,
            "bin_end": 0.637210992963307,
            "count": 0
           },
           {
            "bin_start": 0.637210992963307,
            "bin_end": 0.6429749593903156,
            "count": 0
           },
           {
            "bin_start": 0.6429749593903156,
            "bin_end": 0.6487389258173243,
            "count": 0
           },
           {
            "bin_start": 0.6487389258173243,
            "bin_end": 0.654502892244333,
            "count": 0
           },
           {
            "bin_start": 0.654502892244333,
            "bin_end": 0.6602668586713416,
            "count": 0
           },
           {
            "bin_start": 0.6602668586713416,
            "bin_end": 0.6660308250983502,
            "count": 0
           },
           {
            "bin_start": 0.6660308250983502,
            "bin_end": 0.6717947915253589,
            "count": 0
           },
           {
            "bin_start": 0.6717947915253589,
            "bin_end": 0.6775587579523676,
            "count": 0
           },
           {
            "bin_start": 0.6775587579523676,
            "bin_end": 0.6833227243793762,
            "count": 1
           }
          ]
         }
        },
        {
         "name": "_deepnote_index_column",
         "dtype": "float64"
        }
       ],
       "rows_top": [
        {
         "0.0": 0.3166772756206238,
         "1.0": 0.6833227243793762,
         "_deepnote_index_column": 0
        },
        {
         "0.0": 0.3743169398907104,
         "1.0": 0.6256830601092896,
         "_deepnote_index_column": 1
        }
       ],
       "rows_bottom": null
      },
      "text/plain": "alleged_threat_lvl       0.0       1.0\nbody_camera                           \n0.0                 0.316677  0.683323\n1.0                 0.374317  0.625683",
      "text/html": "<div>\n<style scoped>\n    .dataframe tbody tr th:only-of-type {\n        vertical-align: middle;\n    }\n\n    .dataframe tbody tr th {\n        vertical-align: top;\n    }\n\n    .dataframe thead th {\n        text-align: right;\n    }\n</style>\n<table border=\"1\" class=\"dataframe\">\n  <thead>\n    <tr style=\"text-align: right;\">\n      <th>alleged_threat_lvl</th>\n      <th>0.0</th>\n      <th>1.0</th>\n    </tr>\n    <tr>\n      <th>body_camera</th>\n      <th></th>\n      <th></th>\n    </tr>\n  </thead>\n  <tbody>\n    <tr>\n      <th>0.0</th>\n      <td>0.316677</td>\n      <td>0.683323</td>\n    </tr>\n    <tr>\n      <th>1.0</th>\n      <td>0.374317</td>\n      <td>0.625683</td>\n    </tr>\n  </tbody>\n</table>\n</div>"
     },
     "metadata": {}
    }
   ],
   "execution_count": null
  },
  {
   "cell_type": "markdown",
   "source": "### Takeaways\n- When bodycam is off, there seems to be more non-attacks than attacks. Why is there non-attack threat levels resulting in these fatalities?\n- When bodycam is on, there is a higher chance of an attack than a non-attack.",
   "metadata": {
    "cell_id": "00030-2080dfea-f96b-41b6-97a1-e7c549ee4c47",
    "deepnote_cell_type": "markdown"
   }
  },
  {
   "cell_type": "code",
   "metadata": {
    "tags": [],
    "deepnote_to_be_reexecuted": false,
    "source_hash": "6ccbc52",
    "execution_start": 1622221403493,
    "execution_millis": 196,
    "cell_id": "00031-cd80b0f2-a6db-46be-a109-eec5ce1cf4fc",
    "deepnote_cell_type": "code"
   },
   "source": "#visualize what areas in geography are resulting in more killings?\nsns.countplot(data=df, x='geography', palette='Blues')\nplt.title(\"Fatal Incidents are Occurring in Our Backyards\")\nplt.ylabel('Number of Fatalities')\nplt.show()",
   "outputs": [
    {
     "data": {
      "text/plain": "<Figure size 432x288 with 1 Axes>",
      "image/png": "[encoded data removed]"
     },
     "metadata": {
      "needs_background": "light",
      "image/png": {
       "width": 395,
       "height": 278
      }
     },
     "output_type": "display_data"
    }
   ],
   "execution_count": null
  },
  {
   "cell_type": "markdown",
   "source": "### Takeaways\n- Suburban neighborhoods have the highest number of fatalities. \n- Rural areas have the least amount of fatal incidents. ",
   "metadata": {
    "tags": [],
    "cell_id": "00032-cdd26bfc-3fd1-4db2-8014-4137d325be8b",
    "deepnote_cell_type": "markdown"
   }
  },
  {
   "cell_type": "code",
   "metadata": {
    "tags": [],
    "deepnote_to_be_reexecuted": false,
    "source_hash": "b6f024c0",
    "execution_start": 1622221403691,
    "execution_millis": 313,
    "cell_id": "00033-7860afa4-8a2f-4e73-aed9-8c1b2b73f14e",
    "deepnote_cell_type": "code"
   },
   "source": "#visualize geography vs alleged threat level\nax = pd.crosstab(train.geography, train.alleged_threat_lvl, normalize ='index').plot.bar(figsize=(8, 6), cmap=plt.cm.get_cmap('Blues'), ec=\"black\")\n\n#customize legend\nlegend_labels, _= ax.get_legend_handles_labels()\nax.legend(legend_labels, ['Non-Attack', 'Attack'], \n          bbox_to_anchor=(1,1), \n          title='Threat Level')\n\n#customize chart\nplt.title(\"Does Geography Make a Difference in Alleged Threat Level?\", fontsize = 15)\nplt.ylabel(\"Percentage\", fontsize = 12)\nplt.xlabel('Geography', fontsize = 12)\nax.tick_params(labelsize=10)\n#x_labels = ['Off', 'On']\n#ax.set_xticklabels(x_labels)\n\nplt.ylim([0.0, 1.0])\nplt.show()\n\n#get percentages df\npercentages = pd.crosstab(train.geography, train.alleged_threat_lvl, normalize = 'index')\npercentages",
   "outputs": [
    {
     "data": {
      "text/plain": "<Figure size 576x432 with 1 Axes>",
      "image/png": "[encoded data removed]"
     },
     "metadata": {
      "needs_background": "light",
      "image/png": {
       "width": 504,
       "height": 429
      }
     },
     "output_type": "display_data"
    },
    {
     "output_type": "execute_result",
     "execution_count": 20,
     "data": {
      "application/vnd.deepnote.dataframe.v2+json": {
       "row_count": 3,
       "column_count": 2,
       "columns": [
        {
         "name": 0,
         "dtype": "float64",
         "stats": {
          "unique_count": 3,
          "nan_count": 0,
          "min": "0.29848866498740556",
          "max": "0.3419633225458468",
          "histogram": [
           {
            "bin_start": 0.29848866498740556,
            "bin_end": 0.30283613074324967,
            "count": 1
           },
           {
            "bin_start": 0.30283613074324967,
            "bin_end": 0.3071835964990938,
            "count": 0
           },
           {
            "bin_start": 0.3071835964990938,
            "bin_end": 0.31153106225493793,
            "count": 0
           },
           {
            "bin_start": 0.31153106225493793,
            "bin_end": 0.3158785280107821,
            "count": 0
           },
           {
            "bin_start": 0.3158785280107821,
            "bin_end": 0.3202259937666262,
            "count": 0
           },
           {
            "bin_start": 0.3202259937666262,
            "bin_end": 0.3245734595224703,
            "count": 1
           },
           {
            "bin_start": 0.3245734595224703,
            "bin_end": 0.32892092527831446,
            "count": 0
           },
           {
            "bin_start": 0.32892092527831446,
            "bin_end": 0.33326839103415856,
            "count": 0
           },
           {
            "bin_start": 0.33326839103415856,
            "bin_end": 0.3376158567900027,
            "count": 0
           },
           {
            "bin_start": 0.3376158567900027,
            "bin_end": 0.3419633225458468,
            "count": 1
           }
          ]
         }
        },
        {
         "name": 1,
         "dtype": "float64",
         "stats": {
          "unique_count": 3,
          "nan_count": 0,
          "min": "0.6580366774541532",
          "max": "0.7015113350125944",
          "histogram": [
           {
            "bin_start": 0.6580366774541532,
            "bin_end": 0.6623841432099973,
            "count": 1
           },
           {
            "bin_start": 0.6623841432099973,
            "bin_end": 0.6667316089658414,
            "count": 0
           },
           {
            "bin_start": 0.6667316089658414,
            "bin_end": 0.6710790747216856,
            "count": 0
           },
           {
            "bin_start": 0.6710790747216856,
            "bin_end": 0.6754265404775297,
            "count": 0
           },
           {
            "bin_start": 0.6754265404775297,
            "bin_end": 0.6797740062333738,
            "count": 1
           },
           {
            "bin_start": 0.6797740062333738,
            "bin_end": 0.6841214719892179,
            "count": 0
           },
           {
            "bin_start": 0.6841214719892179,
            "bin_end": 0.688468937745062,
            "count": 0
           },
           {
            "bin_start": 0.688468937745062,
            "bin_end": 0.6928164035009062,
            "count": 0
           },
           {
            "bin_start": 0.6928164035009062,
            "bin_end": 0.6971638692567503,
            "count": 0
           },
           {
            "bin_start": 0.6971638692567503,
            "bin_end": 0.7015113350125944,
            "count": 1
           }
          ]
         }
        },
        {
         "name": "_deepnote_index_column",
         "dtype": "object"
        }
       ],
       "rows_top": [
        {
         "0.0": 0.29848866498740556,
         "1.0": 0.7015113350125944,
         "_deepnote_index_column": "rural"
        },
        {
         "0.0": 0.323447118074986,
         "1.0": 0.676552881925014,
         "_deepnote_index_column": "suburban"
        },
        {
         "0.0": 0.3419633225458468,
         "1.0": 0.6580366774541532,
         "_deepnote_index_column": "urban"
        }
       ],
       "rows_bottom": null
      },
      "text/plain": "alleged_threat_lvl       0.0       1.0\ngeography                             \nrural               0.298489  0.701511\nsuburban            0.323447  0.676553\nurban               0.341963  0.658037",
      "text/html": "<div>\n<style scoped>\n    .dataframe tbody tr th:only-of-type {\n        vertical-align: middle;\n    }\n\n    .dataframe tbody tr th {\n        vertical-align: top;\n    }\n\n    .dataframe thead th {\n        text-align: right;\n    }\n</style>\n<table border=\"1\" class=\"dataframe\">\n  <thead>\n    <tr style=\"text-align: right;\">\n      <th>alleged_threat_lvl</th>\n      <th>0.0</th>\n      <th>1.0</th>\n    </tr>\n    <tr>\n      <th>geography</th>\n      <th></th>\n      <th></th>\n    </tr>\n  </thead>\n  <tbody>\n    <tr>\n      <th>rural</th>\n      <td>0.298489</td>\n      <td>0.701511</td>\n    </tr>\n    <tr>\n      <th>suburban</th>\n      <td>0.323447</td>\n      <td>0.676553</td>\n    </tr>\n    <tr>\n      <th>urban</th>\n      <td>0.341963</td>\n      <td>0.658037</td>\n    </tr>\n  </tbody>\n</table>\n</div>"
     },
     "metadata": {}
    }
   ],
   "execution_count": null
  },
  {
   "cell_type": "markdown",
   "source": "### Takeaways\n- Not much variation, but there is a higher percentage of attack threat level happening in rural areas.\n- Highest percentage of non-attack threat levels are happening in urban areas. \n- Suburban areas are almost equally likely to be attack/non-attacks. Slightly higher percentage for non-attacks. ",
   "metadata": {
    "tags": [],
    "cell_id": "00034-a6249868-09e4-440b-994f-1e8dc5b373c0",
    "deepnote_cell_type": "markdown"
   }
  },
  {
   "cell_type": "markdown",
   "source": "\n___\n\n## • Hypothesis Testing",
   "metadata": {
    "cell_id": "00035-41eb1b62-3626-475e-83dc-b75acefe428a",
    "deepnote_cell_type": "markdown"
   }
  },
  {
   "cell_type": "code",
   "metadata": {
    "deepnote_to_be_reexecuted": false,
    "source_hash": "a2898aa8",
    "execution_start": 1622221403995,
    "execution_millis": 20,
    "cell_id": "00036-e14fe909-622e-4932-9458-c8fc3a000a79",
    "deepnote_cell_type": "code"
   },
   "source": "#t-test for gender vs threat level\nfemale = train[train.gender == 'female']\nmale = train[train.gender == 'male']\ntransg = train[train.gender == 'transgender']\nnot_male = train[train.gender != 'male']\n\nmale_att = male.alleged_threat_lvl\nnon_male_att = not_male.alleged_threat_lvl\n\nnull_hypothesis = \"There is not a difference between male attackers and the remaining population.\"\nalternative_hypothesis = \"Attacker status for males & total population are different.\"\nconfidence_level = .95\na = 1 - confidence_level\n\nt, p = stats.ttest_ind(male_att, non_male_att)\nprint(t, p)\n\nif p < a:\n    print(\"We reject the null hypothesis.\")\n    print(f\"We can move forward with alternative hypothesis: {alternative_hypothesis}\")\nelse:\n    print(\"We fail to reject the null hypothesis\")\n    print(f\"Not enough evidence to support the claim: {null_hypothesis}\")",
   "outputs": [
    {
     "name": "stdout",
     "text": "2.5985965696595774 0.009399773051373846\nWe reject the null hypothesis.\nWe can move forward with alternative hypothesis: Attacker status for males & total population are different.\n",
     "output_type": "stream"
    }
   ],
   "execution_count": null
  },
  {
   "cell_type": "code",
   "metadata": {
    "deepnote_to_be_reexecuted": false,
    "execution_millis": 32,
    "execution_start": 1622221404016,
    "source_hash": "61ecaf9b",
    "tags": [],
    "cell_id": "00037-2dd83620-802a-46be-9f4b-f1f3afb58393",
    "deepnote_cell_type": "code"
   },
   "source": "#chi2 test for mental illness vs alleged threat level\nexp.chi2_matts(train, 'mental_illness', 'alleged_threat_lvl', alpha=0.05)",
   "outputs": [
    {
     "name": "stdout",
     "text": "Observed\n\n[[  37   65]\n [ 711 1616]\n [ 127  241]\n [ 257  454]]\n---\nExpected\n\n[[  32.91448119   69.08551881]\n [ 750.90193843 1576.09806157]\n [ 118.75028506  249.24971494]\n [ 229.43329532  481.56670468]]\n---\n\nchi^2 = 9.6156\np     = 0.0221\n\nBecause the p-value: 0.0221 is less than alpha: 0.05, we can reject the null hypothesis\n",
     "output_type": "stream"
    }
   ],
   "execution_count": null
  },
  {
   "cell_type": "code",
   "metadata": {
    "deepnote_to_be_reexecuted": false,
    "execution_millis": 72,
    "execution_start": 1622221404043,
    "source_hash": "b256267b",
    "tags": [],
    "cell_id": "00038-50a4b200-91f7-46d1-942f-06561bad91d1",
    "deepnote_cell_type": "code"
   },
   "source": "#chi2 test for race vs alleged threat level\nexp.chi2_matts(train, 'race', 'alleged_threat_lvl', alpha=0.05)",
   "outputs": [
    {
     "name": "stdout",
     "text": "Observed\n\n[[  26   48]\n [ 273  594]\n [ 252  395]\n [  21   29]\n [  95  205]\n [ 465 1105]]\n---\nExpected\n\n[[  23.87913341   50.12086659]\n [ 279.77309008  587.22690992]\n [ 208.78107184  438.21892816]\n [  16.1345496    33.8654504 ]\n [  96.80729761  203.19270239]\n [ 506.62485747 1063.37514253]]\n---\n\nchi^2 = 20.9946\np     = 0.0008\n\nBecause the p-value: 0.0008 is less than alpha: 0.05, we can reject the null hypothesis\n",
     "output_type": "stream"
    }
   ],
   "execution_count": null
  },
  {
   "cell_type": "code",
   "metadata": {
    "deepnote_to_be_reexecuted": false,
    "source_hash": "cecd4fd8",
    "execution_start": 1622221404103,
    "execution_millis": 12,
    "cell_id": "00039-706d4b79-932c-4f84-b7ea-b1359bb2014a",
    "deepnote_cell_type": "code"
   },
   "source": "#chi2 test for bodycam vs alleged threat level\nexp.chi2_matts(train, 'body_camera', 'alleged_threat_lvl', alpha=0.05)",
   "outputs": [
    {
     "name": "stdout",
     "text": "Observed\n\n[[ 995 2147]\n [ 137  229]]\n---\nExpected\n\n[[1013.89509692 2128.10490308]\n [ 118.10490308  247.89509692]]\n---\n\nchi^2 = 4.7228\np     = 0.0298\n\nBecause the p-value: 0.0298 is less than alpha: 0.05, we can reject the null hypothesis\n",
     "output_type": "stream"
    }
   ],
   "execution_count": null
  },
  {
   "cell_type": "markdown",
   "source": "### Takeaways\n- All four statistical tests rejected the null hypothesis.\n    - T-test demonstrates there is a difference between male attackers and the remaining population.\n    - 1st Chi^2 test demonstrates that mental status is dependent on alleged threat level.\n    - 2nd Chi^2 test demonstrates that race is dependent on alleged threat level.\n    - 3rd Chi^2 test demonstrates that bodycam is dependent on alleged threat level.",
   "metadata": {
    "cell_id": "00040-95ae3704-db1e-494f-b144-8d2f44d9e6d2",
    "deepnote_cell_type": "markdown"
   }
  },
  {
   "cell_type": "markdown",
   "source": "\n___\n# Modeling",
   "metadata": {
    "cell_id": "00041-bbaa40ab-070f-4092-875b-f676e326d46f",
    "deepnote_cell_type": "markdown"
   }
  },
  {
   "cell_type": "code",
   "metadata": {
    "deepnote_to_be_reexecuted": false,
    "source_hash": "9a2eb543",
    "execution_start": 1622221404150,
    "execution_millis": 1,
    "cell_id": "00042-524081e4-7d12-4e0b-af1a-b4e7fa68070a",
    "deepnote_cell_type": "code"
   },
   "source": "#set up X inputs and y target variable for each split\nX_train = train.drop(columns=['alleged_threat_lvl'])\ny_train = train.alleged_threat_lvl\n\nX_validate = validate.drop(columns=['alleged_threat_lvl'])\ny_validate = validate.alleged_threat_lvl\n\nX_test = test.drop(columns=['alleged_threat_lvl'])\ny_test = test.alleged_threat_lvl",
   "outputs": [],
   "execution_count": null
  },
  {
   "cell_type": "code",
   "metadata": {
    "deepnote_to_be_reexecuted": false,
    "source_hash": "1dcf78a4",
    "execution_start": 1622221404151,
    "execution_millis": 0,
    "cell_id": "00043-7d6be0e8-ce34-4e51-ad2f-397c0966dbca",
    "deepnote_cell_type": "code"
   },
   "source": "# dropping columns that are not numeric datatypes\ndropcols = ['date', \n            'gender',\n            'race',\n            'city',\n            'state',\n            'zipcode',\n            'county',\n            'agency_responsible',\n            'cause_of_death',\n            'description_of_circumstances',\n            'official_disposition',\n            'criminal_charges_filed',\n            'mental_illness',\n            'armed_unarmed_status',\n            'alleged_threat_lvl',\n            'alleged_weapon',\n            'fleeing',\n            'geography',\n            'encounter_type_draft',\n            'initial_reported_reason_for_encounter_draft',\n            'known_past_shootings_of_officer_draft',\n            'age_bins']\n\nX_train = train.drop(columns=dropcols)\nX_validate = validate.drop(columns=dropcols)\nX_test = test.drop(columns=dropcols)",
   "outputs": [],
   "execution_count": null
  },
  {
   "cell_type": "markdown",
   "source": "\n___\n## • Feature Importance",
   "metadata": {
    "cell_id": "00044-37aed605-2a1d-467e-a320-3d77e944bac1",
    "deepnote_cell_type": "markdown"
   }
  },
  {
   "cell_type": "markdown",
   "source": "#### Select K Best\n- Uses statistical tests to determine each feature's usefulness in predicting the target variable. \n- Ranks the features and then select the K best features.",
   "metadata": {
    "cell_id": "00045-3c733cb7-bd2b-481f-aace-cbc4ed8ebf6e",
    "deepnote_cell_type": "markdown"
   }
  },
  {
   "cell_type": "code",
   "metadata": {
    "deepnote_to_be_reexecuted": false,
    "source_hash": "dd7ebbdf",
    "execution_start": 1622221404152,
    "execution_millis": 51,
    "cell_id": "00046-ce04b4f7-39ca-40bb-8e6c-d12093fb3f23",
    "deepnote_cell_type": "code"
   },
   "source": "f_features = select_kbest(X_train, y_train, 15)\nf_features",
   "outputs": [
    {
     "output_type": "execute_result",
     "execution_count": 27,
     "data": {
      "text/plain": "['age',\n 'body_camera',\n 'is_female',\n 'was_allegedly_armed',\n 'was_unarmed',\n 'was_vehicle',\n 'was_mental_health_welfare_check',\n 'was_person_with_a_weapon',\n 'was_violent_crime_part_1',\n 'is_hispanic',\n 'is_white',\n 'mntlill_no',\n 'mntlill_yes',\n 'under 12',\n '65+']"
     },
     "metadata": {}
    }
   ],
   "execution_count": null
  },
  {
   "cell_type": "markdown",
   "source": "#### Recursive Feature Elimination (RFE)\n- Recursively removes attributes to meet the number of required features and then builds a model on those attributes that remain to see if you can you match or improve performance with a smaller subset.",
   "metadata": {
    "cell_id": "00047-c15bdf78-ab08-4446-b5e6-5851c75219b8",
    "deepnote_cell_type": "markdown"
   }
  },
  {
   "cell_type": "code",
   "metadata": {
    "deepnote_to_be_reexecuted": false,
    "source_hash": "509f8fd5",
    "execution_start": 1622221404192,
    "execution_millis": 4378,
    "cell_id": "00048-bdfe9216-39d7-4014-a2b0-dc4a55b7ff1e",
    "deepnote_cell_type": "code"
   },
   "source": "rfe_features = rfe(X_train, y_train, 15)\nrfe_features",
   "outputs": [
    {
     "output_type": "execute_result",
     "execution_count": 28,
     "data": {
      "text/plain": "['body_camera',\n 'is_male',\n 'is_transgender',\n 'was_allegedly_armed',\n 'was_unarmed',\n 'was_vehicle',\n 'was_person_with_a_weapon',\n 'was_violent_crime_part_1',\n 'is_asian/pacific islander',\n 'is_hispanic',\n 'is_native american',\n 'mntlill_no',\n 'cod_lethal',\n 'under 12',\n '65+']"
     },
     "metadata": {}
    }
   ],
   "execution_count": null
  },
  {
   "cell_type": "code",
   "metadata": {
    "deepnote_to_be_reexecuted": false,
    "source_hash": "31ee34a3",
    "execution_start": 1622221408565,
    "execution_millis": 98,
    "cell_id": "00049-94abc85d-bf40-48c5-8229-f4dcf15f4746",
    "deepnote_cell_type": "code"
   },
   "source": "combo_feats = list(set(f_features + rfe_features))\nprint(len(combo_feats))\ncombo_feats",
   "outputs": [
    {
     "name": "stdout",
     "text": "20\n",
     "output_type": "stream"
    },
    {
     "output_type": "execute_result",
     "execution_count": 29,
     "data": {
      "text/plain": "['was_unarmed',\n 'under 12',\n 'was_allegedly_armed',\n 'cod_lethal',\n 'was_vehicle',\n 'is_female',\n 'is_hispanic',\n 'mntlill_yes',\n 'is_white',\n 'was_mental_health_welfare_check',\n 'age',\n 'is_native american',\n '65+',\n 'body_camera',\n 'mntlill_no',\n 'is_male',\n 'was_person_with_a_weapon',\n 'was_violent_crime_part_1',\n 'is_transgender',\n 'is_asian/pacific islander']"
     },
     "metadata": {}
    }
   ],
   "execution_count": null
  },
  {
   "cell_type": "code",
   "metadata": {
    "deepnote_to_be_reexecuted": false,
    "source_hash": "10a14d49",
    "execution_start": 1622221408653,
    "execution_millis": 0,
    "cell_id": "00050-abe1a7cc-de44-411c-b266-42985e65f0c0",
    "deepnote_cell_type": "code"
   },
   "source": "#specify combined features that reduces multicollinearity\ncombo_feats = ['55-64',\n               'is_native american',\n               'mntlill_no',\n               'under 12',\n               'was_traffic_stop',\n               'body_camera',\n               'age',\n               'was_allegedly_armed',\n               'is_black',\n               'was_domestic_disturbance',\n               'was_fleeing',\n               'cod_lethal',\n               'was_mental_health_welfare_check',\n               'is_white',\n               'was_violent_crime_part_1',\n               'was_vehicle',\n               'mntlill_drug or alcohol use',\n               'is_transgender',\n               'is_female']\n \nprint(len(combo_feats))",
   "outputs": [
    {
     "name": "stdout",
     "text": "19\n",
     "output_type": "stream"
    }
   ],
   "execution_count": null
  },
  {
   "cell_type": "markdown",
   "source": "\n___\n## • Identify Baseline",
   "metadata": {
    "cell_id": "00051-02058f39-9d14-469d-a724-2e05a9491bc7",
    "deepnote_cell_type": "markdown"
   }
  },
  {
   "cell_type": "code",
   "metadata": {
    "deepnote_to_be_reexecuted": false,
    "source_hash": "276ef1c0",
    "execution_start": 1622221408671,
    "execution_millis": 1411703,
    "cell_id": "00052-ff77479e-cd9a-4dcd-8394-8d4ed49bcb23",
    "deepnote_cell_type": "code"
   },
   "source": "#baseline prediction: the most prevalent class in training dataset(the mode)\ntrain.alleged_threat_lvl.value_counts()",
   "outputs": [
    {
     "output_type": "execute_result",
     "execution_count": 31,
     "data": {
      "text/plain": "1.0    2376\n0.0    1132\nName: alleged_threat_lvl, dtype: int64"
     },
     "metadata": {}
    }
   ],
   "execution_count": null
  },
  {
   "cell_type": "code",
   "metadata": {
    "deepnote_to_be_reexecuted": false,
    "source_hash": "ce3bb3a3",
    "execution_start": 1622221408718,
    "execution_millis": 1,
    "cell_id": "00053-b597aef8-0187-4647-8062-2a4a2b9d8b68",
    "deepnote_cell_type": "code"
   },
   "source": "#baseline model would be to predict 0 since it is most prevalant\n#baseline accuracy:\nbaseline_accuracy = (train.alleged_threat_lvl == 1).mean()\n\nprint(f'baseline accuracy: {baseline_accuracy: .4}')",
   "outputs": [
    {
     "name": "stdout",
     "text": "baseline accuracy:  0.6773\n",
     "output_type": "stream"
    }
   ],
   "execution_count": null
  },
  {
   "cell_type": "markdown",
   "source": "\n___\n## • Model on Train",
   "metadata": {
    "cell_id": "00054-4ba1f94c-8065-437e-97bb-6817e41e016f",
    "deepnote_cell_type": "markdown"
   }
  },
  {
   "cell_type": "markdown",
   "source": "### Decision Tree",
   "metadata": {
    "cell_id": "00055-be7727ea-3799-4723-bc72-2d95dddbc2e7",
    "deepnote_cell_type": "markdown"
   }
  },
  {
   "cell_type": "code",
   "metadata": {
    "deepnote_to_be_reexecuted": false,
    "execution_millis": 9,
    "execution_start": 1622221408762,
    "source_hash": "7a2ba196",
    "tags": [],
    "cell_id": "00056-58b5e603-2c3a-48f5-89aa-08a017d94f6a",
    "deepnote_cell_type": "code"
   },
   "source": "#create Decision Tree model (specifying max_depth argument and combo_feats)\ndt = DecisionTreeClassifier(max_depth=3, random_state=123)\n\n#fit model on combo_feats\ndt.fit(X_train[combo_feats], y_train)\n\n#get predictions from model\ny_pred = dt.predict(X_train[combo_feats])\n\n#compute accuracy\ndt_train_acc = round(dt.score(X_train[combo_feats], y_train), 4)\n\n#compare to baseline\nprint(\"Baseline is\", round(baseline_accuracy, 4))\nprint(\"----------------\")\nprint('Accuracy of Decision Tree classifier on combo_feats (max_depth = 3): {:.4f}'\n     .format(dt.score(X_train[combo_feats], y_train)))",
   "outputs": [
    {
     "name": "stdout",
     "text": "Baseline is 0.6773\n----------------\nAccuracy of Decision Tree classifier on combo_feats (max_depth = 3): 0.6927\n",
     "output_type": "stream"
    }
   ],
   "execution_count": null
  },
  {
   "cell_type": "markdown",
   "source": "### Random Forest",
   "metadata": {
    "tags": [],
    "cell_id": "00057-7812b041-a826-444e-99ca-8ee87c9b4a38",
    "deepnote_cell_type": "markdown"
   }
  },
  {
   "cell_type": "code",
   "metadata": {
    "deepnote_to_be_reexecuted": false,
    "execution_millis": 374,
    "execution_start": 1622221408807,
    "source_hash": "ea36678",
    "tags": [],
    "cell_id": "00058-f9a76185-57c9-424c-9b89-c72528cdf505",
    "deepnote_cell_type": "code"
   },
   "source": "#create Random Forest model (specifying max_depth/min_samples_leaf arguments and combo_feats)\nrf = RandomForestClassifier(max_depth=5, min_samples_leaf=3, random_state=123)\n\n#fit model on combo_feats\nrf.fit(X_train[combo_feats], y_train)\n\n#get predictions from model\ny_pred = rf.predict(X_train[combo_feats])\n\n#compute accuracy\nrf_train_acc = round(rf.score(X_train[combo_feats], y_train), 4)\n\n#compare to baseline\nprint(\"Baseline is\", round(baseline_accuracy, 4))\nprint(\"----------------\")\nprint('Accuracy of Random Forest classifier on combo_feats (max_depth = 5, min_samples_leaf = 3): {:.4f}'\n     .format(rf.score(X_train[combo_feats], y_train)))",
   "outputs": [
    {
     "name": "stdout",
     "text": "Baseline is 0.6773\n----------------\nAccuracy of Random Forest classifier on combo_feats (max_depth = 5, min_samples_leaf = 3): 0.6936\n",
     "output_type": "stream"
    }
   ],
   "execution_count": null
  },
  {
   "cell_type": "markdown",
   "source": "### K-Nearest Neighbor (KNN)",
   "metadata": {
    "tags": [],
    "cell_id": "00059-fcb8561c-31e4-4145-af92-6ff8c07e4596",
    "deepnote_cell_type": "markdown"
   }
  },
  {
   "cell_type": "code",
   "metadata": {
    "deepnote_to_be_reexecuted": false,
    "execution_millis": 1789,
    "execution_start": 1622221409174,
    "source_hash": "1a11e850",
    "tags": [],
    "cell_id": "00060-172dbb9b-eb81-488d-a141-b1a955ff8239",
    "deepnote_cell_type": "code"
   },
   "source": "#create KNN model (specifying n_neighbors argument and combo_feats)\nknn = KNeighborsClassifier(n_neighbors=20)\n\n#fit model on combo_feats\nknn.fit(X_train[combo_feats], y_train)\n\n#get predictions from model\ny_pred = knn.predict(X_train[combo_feats])\n\n#compute accuracy\nknn_train_acc = round(knn.score(X_train[combo_feats], y_train), 4)\n\n#compare to baseline\nprint(\"Baseline is\", round(baseline_accuracy, 2))\nprint(\"----------------\")\nprint('Accuracy of KNN classifier on combo_feats (n_neighbors = 20): {:4f}'\n     .format(knn.score(X_train[combo_feats], y_train)))",
   "outputs": [
    {
     "name": "stdout",
     "text": "Baseline is 0.68\n----------------\nAccuracy of KNN classifier on combo_feats (n_neighbors = 20): 0.692417\n",
     "output_type": "stream"
    }
   ],
   "execution_count": null
  },
  {
   "cell_type": "markdown",
   "source": "### Logistic Regression",
   "metadata": {
    "tags": [],
    "cell_id": "00061-cfb3f443-793e-46c0-a763-1e4587da096e",
    "deepnote_cell_type": "markdown"
   }
  },
  {
   "cell_type": "code",
   "metadata": {
    "deepnote_to_be_reexecuted": false,
    "execution_millis": 291,
    "execution_start": 1622221410963,
    "source_hash": "96cd3704",
    "tags": [],
    "cell_id": "00062-0181e8be-8c50-4743-b213-189706cf728f",
    "deepnote_cell_type": "code"
   },
   "source": "#create Logistic Regression model (default parameters, specifying combo_feats)\nlogit = LogisticRegression(random_state=123)\n\n#fit model on combo_feats\nlogit.fit(X_train[combo_feats], y_train)\n\n#get predictions from model\ny_pred = logit.predict(X_train[combo_feats])\n\n#compute accuracy\nlogit_train_acc = round(logit.score(X_train[combo_feats], y_train), 4)\n\n#compare to baseline\nprint(\"Baseline is\", round(baseline_accuracy, 4))\nprint(\"----------------\")\nprint('Accuracy of Logistic Regression classifier on combo_feats (default parameters): {:.4f}'\n     .format(logit.score(X_train[combo_feats], y_train)))",
   "outputs": [
    {
     "name": "stdout",
     "text": "Baseline is 0.6773\n----------------\nAccuracy of Logistic Regression classifier on combo_feats (default parameters): 0.6893\n",
     "output_type": "stream"
    }
   ],
   "execution_count": null
  },
  {
   "cell_type": "markdown",
   "source": "### Takeways:\n- **Decision Tree** model (dt) specifying max_depth argument of 3 and using combo_feats:\n    - Score of 71% accuracy\n    \n    \n    \n- **Random Forest** model (rf) specifying max_depth argument of 5, min_samples_leaf argument of 3 and using combo_feats:\n    - Score of 72% accuracy\n    \n    \n    \n- **K-Nearest Neighbor** model (knn) specifying n_neighbors argument of 20 and using combo_feats:\n    - Score of 70% accuracy\n    \n    \n    \n- **Logistic Regression** model (logit) using default parameters and combo_feats:\n    - Score of 70% accuracy\n\nNext, compare scores to validate (out-of-sample data).",
   "metadata": {
    "tags": [],
    "cell_id": "00063-6a07437e-2f33-4f66-b5dc-04f14ffeda18",
    "deepnote_cell_type": "markdown"
   }
  },
  {
   "cell_type": "markdown",
   "source": "\n___\n## • Model on Validate",
   "metadata": {
    "cell_id": "00064-cefb3abb-cb07-4c37-bd09-d992e34cd265",
    "deepnote_cell_type": "markdown"
   }
  },
  {
   "cell_type": "code",
   "metadata": {
    "deepnote_to_be_reexecuted": false,
    "execution_millis": 117,
    "execution_start": 1622221411244,
    "source_hash": "37a4cb55",
    "tags": [],
    "cell_id": "00065-d6503237-f492-458e-8b25-c37b20e42ca7",
    "deepnote_cell_type": "code"
   },
   "source": "#dt's metrics on validate\n\n#evaluate on validate sample\ny_pred = dt.predict(X_validate[combo_feats])\n\n#compute accuracy\ndt_val_acc = round(dt.score(X_validate[combo_feats], y_validate), 4)\n\n#compare train to validate\nprint('Accuracy of Decision Tree classifier on train set: {:.4f}'\n     .format(dt.score(X_train[combo_feats], y_train)))\nprint(\"--------------------------------------------------------------\")\nprint(\"Decision Tree classifier on validate set:\")\nprint(classification_report(y_validate, y_pred))",
   "outputs": [
    {
     "name": "stdout",
     "text": "Accuracy of Decision Tree classifier on train set: 0.6927\n--------------------------------------------------------------\nDecision Tree classifier on validate set:\n              precision    recall  f1-score   support\n\n         0.0       0.55      0.17      0.26       486\n         1.0       0.70      0.94      0.80      1018\n\n    accuracy                           0.69      1504\n   macro avg       0.63      0.55      0.53      1504\nweighted avg       0.65      0.69      0.63      1504\n\n",
     "output_type": "stream"
    }
   ],
   "execution_count": null
  },
  {
   "cell_type": "code",
   "metadata": {
    "deepnote_to_be_reexecuted": false,
    "execution_millis": 144,
    "execution_start": 1622221411352,
    "source_hash": "88ecc93c",
    "tags": [],
    "cell_id": "00066-5bf183f3-52d0-46cb-94ad-d775e616b470",
    "deepnote_cell_type": "code"
   },
   "source": "#rf's metrics on validate\n\n#evaluate on validate sample\ny_pred = rf.predict(X_validate[combo_feats])\n\n#compute accuracy\nrf_val_acc = round(rf.score(X_validate[combo_feats], y_validate), 4)\n\n#compare train to validate\nprint('Accuracy of Random Forest classifier on train set: {:.4f}'\n     .format(rf.score(X_train[combo_feats], y_train)))\nprint(\"--------------------------------------------------------------\")\nprint(\"Random Forest classifier on validate set:\")\nprint(classification_report(y_validate, y_pred))",
   "outputs": [
    {
     "name": "stdout",
     "text": "Accuracy of Random Forest classifier on train set: 0.6936\n--------------------------------------------------------------\nRandom Forest classifier on validate set:\n              precision    recall  f1-score   support\n\n         0.0       0.68      0.04      0.08       486\n         1.0       0.68      0.99      0.81      1018\n\n    accuracy                           0.68      1504\n   macro avg       0.68      0.52      0.45      1504\nweighted avg       0.68      0.68      0.57      1504\n\n",
     "output_type": "stream"
    }
   ],
   "execution_count": null
  },
  {
   "cell_type": "code",
   "metadata": {
    "deepnote_to_be_reexecuted": false,
    "execution_millis": 1213,
    "execution_start": 1622221411503,
    "source_hash": "60fdbfcd",
    "tags": [],
    "cell_id": "00067-80dba047-afbc-444a-8d48-94045eb8bcd3",
    "deepnote_cell_type": "code"
   },
   "source": "#knn's metrics on validate\n\n#evaluate on validate sample\ny_pred = knn.predict(X_validate[combo_feats])\n\n#compute accuracy\nknn_val_acc = round(knn.score(X_validate[combo_feats], y_validate), 4)\n\n#compare train to validate\nprint('Accuracy of KNN classifier on train set: {:.4f}'\n     .format(knn.score(X_train[combo_feats], y_train)))\nprint(\"--------------------------------------------------------------\")\nprint(\"KNN classifier on validate set:\")\nprint(classification_report(y_validate, y_pred))",
   "outputs": [
    {
     "name": "stdout",
     "text": "Accuracy of KNN classifier on train set: 0.6924\n--------------------------------------------------------------\nKNN classifier on validate set:\n              precision    recall  f1-score   support\n\n         0.0       0.41      0.08      0.13       486\n         1.0       0.68      0.95      0.79      1018\n\n    accuracy                           0.67      1504\n   macro avg       0.55      0.51      0.46      1504\nweighted avg       0.59      0.67      0.58      1504\n\n",
     "output_type": "stream"
    }
   ],
   "execution_count": null
  },
  {
   "cell_type": "code",
   "metadata": {
    "deepnote_to_be_reexecuted": false,
    "source_hash": "ae1971ef",
    "execution_start": 1622221412707,
    "execution_millis": 38,
    "cell_id": "00068-7c9b1c1f-275e-45d5-bc2a-26148203d8ff",
    "deepnote_cell_type": "code"
   },
   "source": "#logit's metrics on validate\n\n#evaluate on validate sample\ny_pred = logit.predict(X_validate[combo_feats])\n\n#compute accuracy\nlogit_val_acc = round(logit.score(X_validate[combo_feats], y_validate), 4)\n\n#compare train to validate\nprint('Accuracy of Logistic Regression classifier on train set: {:.4f}'\n     .format(logit.score(X_train[combo_feats], y_train)))\nprint(\"--------------------------------------------------------------\")\nprint(\"Logistic Regression classifier on validate set:\")\nprint(classification_report(y_validate, y_pred))",
   "outputs": [
    {
     "name": "stdout",
     "text": "Accuracy of Logistic Regression classifier on train set: 0.6893\n--------------------------------------------------------------\nLogistic Regression classifier on validate set:\n              precision    recall  f1-score   support\n\n         0.0       0.58      0.15      0.24       486\n         1.0       0.70      0.95      0.81      1018\n\n    accuracy                           0.69      1504\n   macro avg       0.64      0.55      0.52      1504\nweighted avg       0.66      0.69      0.62      1504\n\n",
     "output_type": "stream"
    }
   ],
   "execution_count": null
  },
  {
   "cell_type": "code",
   "metadata": {
    "deepnote_to_be_reexecuted": false,
    "source_hash": "f5565531",
    "execution_start": 1622221412742,
    "execution_millis": 139,
    "cell_id": "00069-51cc46e6-4833-404c-ad4b-bdd8cf62cce3",
    "deepnote_cell_type": "code"
   },
   "source": "# Build dataframe to record accuracy (starting with decision tree)\nmetric_df = pd.DataFrame(data=[{\n    'Model': 'Decision Tree', \n    'Baseline': round(baseline_accuracy, 4),\n    'Train Accuracy': round(dt_train_acc, 4),\n    'Validate Accuracy': round(dt_val_acc, 4)}])\n\n# append dataframe to record accuracy on random forest\nmetric_df = metric_df.append({\n    'Model': 'Random Forest', \n    'Baseline': round(baseline_accuracy, 4),\n    'Train Accuracy': round(rf_train_acc, 4),\n    'Validate Accuracy':round(rf_val_acc, 4)}, ignore_index=True)\n\n# append dataframe to record accuracy on knn\nmetric_df = metric_df.append({\n    'Model': 'K-Nearest Neighbor', \n    'Baseline': round(baseline_accuracy, 4),\n    'Train Accuracy': round(knn_train_acc, 4),\n    'Validate Accuracy':round(knn_val_acc, 4)}, ignore_index=True)\n\n# append dataframe to record accuracy on logistic regression\nmetric_df = metric_df.append({\n    'Model': 'Logistic Regression', \n    'Baseline': round(baseline_accuracy, 4),\n    'Train Accuracy': round(logit_train_acc, 4),\n    'Validate Accuracy':round(logit_val_acc, 4)}, ignore_index=True)\n\n\nmetric_df",
   "outputs": [
    {
     "output_type": "execute_result",
     "execution_count": 41,
     "data": {
      "application/vnd.deepnote.dataframe.v2+json": {
       "row_count": 4,
       "column_count": 4,
       "columns": [
        {
         "name": "Model",
         "dtype": "object",
         "stats": {
          "unique_count": 4,
          "nan_count": 0,
          "categories": [
           {
            "name": "Decision Tree",
            "count": 1
           },
           {
            "name": "Random Forest",
            "count": 1
           },
           {
            "name": "2 others",
            "count": 2
           }
          ]
         }
        },
        {
         "name": "Baseline",
         "dtype": "float64",
         "stats": {
          "unique_count": 1,
          "nan_count": 0,
          "min": "0.6773",
          "max": "0.6773",
          "histogram": [
           {
            "bin_start": 0.1773,
            "bin_end": 0.2773,
            "count": 0
           },
           {
            "bin_start": 0.2773,
            "bin_end": 0.3773,
            "count": 0
           },
           {
            "bin_start": 0.3773,
            "bin_end": 0.47730000000000006,
            "count": 0
           },
           {
            "bin_start": 0.47730000000000006,
            "bin_end": 0.5773,
            "count": 0
           },
           {
            "bin_start": 0.5773,
            "bin_end": 0.6773,
            "count": 0
           },
           {
            "bin_start": 0.6773,
            "bin_end": 0.7773000000000001,
            "count": 4
           },
           {
            "bin_start": 0.7773000000000001,
            "bin_end": 0.8773000000000001,
            "count": 0
           },
           {
            "bin_start": 0.8773000000000001,
            "bin_end": 0.9773000000000001,
            "count": 0
           },
           {
            "bin_start": 0.9773000000000001,
            "bin_end": 1.0773000000000001,
            "count": 0
           },
           {
            "bin_start": 1.0773000000000001,
            "bin_end": 1.1773,
            "count": 0
           }
          ]
         }
        },
        {
         "name": "Train Accuracy",
         "dtype": "float64",
         "stats": {
          "unique_count": 4,
          "nan_count": 0,
          "min": "0.6893",
          "max": "0.6936",
          "histogram": [
           {
            "bin_start": 0.6893,
            "bin_end": 0.6897300000000001,
            "count": 1
           },
           {
            "bin_start": 0.6897300000000001,
            "bin_end": 0.69016,
            "count": 0
           },
           {
            "bin_start": 0.69016,
            "bin_end": 0.69059,
            "count": 0
           },
           {
            "bin_start": 0.69059,
            "bin_end": 0.69102,
            "count": 0
           },
           {
            "bin_start": 0.69102,
            "bin_end": 0.69145,
            "count": 0
           },
           {
            "bin_start": 0.69145,
            "bin_end": 0.69188,
            "count": 0
           },
           {
            "bin_start": 0.69188,
            "bin_end": 0.69231,
            "count": 0
           },
           {
            "bin_start": 0.69231,
            "bin_end": 0.69274,
            "count": 2
           },
           {
            "bin_start": 0.69274,
            "bin_end": 0.69317,
            "count": 0
           },
           {
            "bin_start": 0.69317,
            "bin_end": 0.6936,
            "count": 1
           }
          ]
         }
        },
        {
         "name": "Validate Accuracy",
         "dtype": "float64",
         "stats": {
          "unique_count": 4,
          "nan_count": 0,
          "min": "0.6656",
          "max": "0.6902",
          "histogram": [
           {
            "bin_start": 0.6656,
            "bin_end": 0.66806,
            "count": 1
           },
           {
            "bin_start": 0.66806,
            "bin_end": 0.67052,
            "count": 0
           },
           {
            "bin_start": 0.67052,
            "bin_end": 0.67298,
            "count": 0
           },
           {
            "bin_start": 0.67298,
            "bin_end": 0.67544,
            "count": 0
           },
           {
            "bin_start": 0.67544,
            "bin_end": 0.6779,
            "count": 0
           },
           {
            "bin_start": 0.6779,
            "bin_end": 0.68036,
            "count": 0
           },
           {
            "bin_start": 0.68036,
            "bin_end": 0.68282,
            "count": 0
           },
           {
            "bin_start": 0.68282,
            "bin_end": 0.68528,
            "count": 1
           },
           {
            "bin_start": 0.68528,
            "bin_end": 0.68774,
            "count": 1
           },
           {
            "bin_start": 0.68774,
            "bin_end": 0.6902,
            "count": 1
           }
          ]
         }
        },
        {
         "name": "_deepnote_index_column",
         "dtype": "int64"
        }
       ],
       "rows_top": [
        {
         "Model": "Decision Tree",
         "Baseline": 0.6773,
         "Train Accuracy": 0.6927,
         "Validate Accuracy": 0.6875,
         "_deepnote_index_column": 0
        },
        {
         "Model": "Random Forest",
         "Baseline": 0.6773,
         "Train Accuracy": 0.6936,
         "Validate Accuracy": 0.6842,
         "_deepnote_index_column": 1
        },
        {
         "Model": "K-Nearest Neighbor",
         "Baseline": 0.6773,
         "Train Accuracy": 0.6924,
         "Validate Accuracy": 0.6656,
         "_deepnote_index_column": 2
        },
        {
         "Model": "Logistic Regression",
         "Baseline": 0.6773,
         "Train Accuracy": 0.6893,
         "Validate Accuracy": 0.6902,
         "_deepnote_index_column": 3
        }
       ],
       "rows_bottom": null
      },
      "text/plain": "                 Model  Baseline  Train Accuracy  Validate Accuracy\n0        Decision Tree    0.6773          0.6927             0.6875\n1        Random Forest    0.6773          0.6936             0.6842\n2   K-Nearest Neighbor    0.6773          0.6924             0.6656\n3  Logistic Regression    0.6773          0.6893             0.6902",
      "text/html": "<div>\n<style scoped>\n    .dataframe tbody tr th:only-of-type {\n        vertical-align: middle;\n    }\n\n    .dataframe tbody tr th {\n        vertical-align: top;\n    }\n\n    .dataframe thead th {\n        text-align: right;\n    }\n</style>\n<table border=\"1\" class=\"dataframe\">\n  <thead>\n    <tr style=\"text-align: right;\">\n      <th></th>\n      <th>Model</th>\n      <th>Baseline</th>\n      <th>Train Accuracy</th>\n      <th>Validate Accuracy</th>\n    </tr>\n  </thead>\n  <tbody>\n    <tr>\n      <th>0</th>\n      <td>Decision Tree</td>\n      <td>0.6773</td>\n      <td>0.6927</td>\n      <td>0.6875</td>\n    </tr>\n    <tr>\n      <th>1</th>\n      <td>Random Forest</td>\n      <td>0.6773</td>\n      <td>0.6936</td>\n      <td>0.6842</td>\n    </tr>\n    <tr>\n      <th>2</th>\n      <td>K-Nearest Neighbor</td>\n      <td>0.6773</td>\n      <td>0.6924</td>\n      <td>0.6656</td>\n    </tr>\n    <tr>\n      <th>3</th>\n      <td>Logistic Regression</td>\n      <td>0.6773</td>\n      <td>0.6893</td>\n      <td>0.6902</td>\n    </tr>\n  </tbody>\n</table>\n</div>"
     },
     "metadata": {}
    }
   ],
   "execution_count": null
  },
  {
   "cell_type": "code",
   "metadata": {
    "tags": [],
    "deepnote_to_be_reexecuted": false,
    "source_hash": "1670c0b5",
    "execution_start": 1622221412882,
    "execution_millis": 57,
    "cell_id": "00070-1d267832-89e4-4c32-a171-5252a56e134a",
    "deepnote_cell_type": "code"
   },
   "source": "4# Build dataframe to record accuracy (starting with decision tree)\nmetric_df = pd.DataFrame(data=[{\n    'Model': 'Decision Tree', \n    'Baseline': round(baseline_accuracy, 4),\n    'Train Accuracy': round(dt_train_acc, 4),\n    'Validate Accuracy': round(dt_val_acc, 4)}])\n\n# append dataframe to record accuracy on random forest\nmetric_df = metric_df.append({\n    'Model': 'Random Forest', \n    'Baseline': round(baseline_accuracy, 4),\n    'Train Accuracy': round(rf_train_acc, 4),\n    'Validate Accuracy':round(rf_val_acc, 4)}, ignore_index=True)\n\n# append dataframe to record accuracy on knn\nmetric_df = metric_df.append({\n    'Model': 'K-Nearest Neighbor', \n    'Baseline': round(baseline_accuracy, 4),\n    'Train Accuracy': round(knn_train_acc, 4),\n    'Validate Accuracy':round(knn_val_acc, 4)}, ignore_index=True)\n\n# append dataframe to record accuracy on logistic regression\nmetric_df = metric_df.append({\n    'Model': 'Logistic Regression', \n    'Baseline': round(baseline_accuracy, 4),\n    'Train Accuracy': round(logit_train_acc,4),\n    'Validate Accuracy':round(logit_val_acc, 4)}, ignore_index=True)\n\n\nmetric_df",
   "outputs": [
    {
     "output_type": "execute_result",
     "execution_count": 42,
     "data": {
      "application/vnd.deepnote.dataframe.v2+json": {
       "row_count": 4,
       "column_count": 4,
       "columns": [
        {
         "name": "Model",
         "dtype": "object",
         "stats": {
          "unique_count": 4,
          "nan_count": 0,
          "categories": [
           {
            "name": "Decision Tree",
            "count": 1
           },
           {
            "name": "Random Forest",
            "count": 1
           },
           {
            "name": "2 others",
            "count": 2
           }
          ]
         }
        },
        {
         "name": "Baseline",
         "dtype": "float64",
         "stats": {
          "unique_count": 1,
          "nan_count": 0,
          "min": "0.6773",
          "max": "0.6773",
          "histogram": [
           {
            "bin_start": 0.1773,
            "bin_end": 0.2773,
            "count": 0
           },
           {
            "bin_start": 0.2773,
            "bin_end": 0.3773,
            "count": 0
           },
           {
            "bin_start": 0.3773,
            "bin_end": 0.47730000000000006,
            "count": 0
           },
           {
            "bin_start": 0.47730000000000006,
            "bin_end": 0.5773,
            "count": 0
           },
           {
            "bin_start": 0.5773,
            "bin_end": 0.6773,
            "count": 0
           },
           {
            "bin_start": 0.6773,
            "bin_end": 0.7773000000000001,
            "count": 4
           },
           {
            "bin_start": 0.7773000000000001,
            "bin_end": 0.8773000000000001,
            "count": 0
           },
           {
            "bin_start": 0.8773000000000001,
            "bin_end": 0.9773000000000001,
            "count": 0
           },
           {
            "bin_start": 0.9773000000000001,
            "bin_end": 1.0773000000000001,
            "count": 0
           },
           {
            "bin_start": 1.0773000000000001,
            "bin_end": 1.1773,
            "count": 0
           }
          ]
         }
        },
        {
         "name": "Train Accuracy",
         "dtype": "float64",
         "stats": {
          "unique_count": 4,
          "nan_count": 0,
          "min": "0.6893",
          "max": "0.6936",
          "histogram": [
           {
            "bin_start": 0.6893,
            "bin_end": 0.6897300000000001,
            "count": 1
           },
           {
            "bin_start": 0.6897300000000001,
            "bin_end": 0.69016,
            "count": 0
           },
           {
            "bin_start": 0.69016,
            "bin_end": 0.69059,
            "count": 0
           },
           {
            "bin_start": 0.69059,
            "bin_end": 0.69102,
            "count": 0
           },
           {
            "bin_start": 0.69102,
            "bin_end": 0.69145,
            "count": 0
           },
           {
            "bin_start": 0.69145,
            "bin_end": 0.69188,
            "count": 0
           },
           {
            "bin_start": 0.69188,
            "bin_end": 0.69231,
            "count": 0
           },
           {
            "bin_start": 0.69231,
            "bin_end": 0.69274,
            "count": 2
           },
           {
            "bin_start": 0.69274,
            "bin_end": 0.69317,
            "count": 0
           },
           {
            "bin_start": 0.69317,
            "bin_end": 0.6936,
            "count": 1
           }
          ]
         }
        },
        {
         "name": "Validate Accuracy",
         "dtype": "float64",
         "stats": {
          "unique_count": 4,
          "nan_count": 0,
          "min": "0.6656",
          "max": "0.6902",
          "histogram": [
           {
            "bin_start": 0.6656,
            "bin_end": 0.66806,
            "count": 1
           },
           {
            "bin_start": 0.66806,
            "bin_end": 0.67052,
            "count": 0
           },
           {
            "bin_start": 0.67052,
            "bin_end": 0.67298,
            "count": 0
           },
           {
            "bin_start": 0.67298,
            "bin_end": 0.67544,
            "count": 0
           },
           {
            "bin_start": 0.67544,
            "bin_end": 0.6779,
            "count": 0
           },
           {
            "bin_start": 0.6779,
            "bin_end": 0.68036,
            "count": 0
           },
           {
            "bin_start": 0.68036,
            "bin_end": 0.68282,
            "count": 0
           },
           {
            "bin_start": 0.68282,
            "bin_end": 0.68528,
            "count": 1
           },
           {
            "bin_start": 0.68528,
            "bin_end": 0.68774,
            "count": 1
           },
           {
            "bin_start": 0.68774,
            "bin_end": 0.6902,
            "count": 1
           }
          ]
         }
        },
        {
         "name": "_deepnote_index_column",
         "dtype": "int64"
        }
       ],
       "rows_top": [
        {
         "Model": "Decision Tree",
         "Baseline": 0.6773,
         "Train Accuracy": 0.6927,
         "Validate Accuracy": 0.6875,
         "_deepnote_index_column": 0
        },
        {
         "Model": "Random Forest",
         "Baseline": 0.6773,
         "Train Accuracy": 0.6936,
         "Validate Accuracy": 0.6842,
         "_deepnote_index_column": 1
        },
        {
         "Model": "K-Nearest Neighbor",
         "Baseline": 0.6773,
         "Train Accuracy": 0.6924,
         "Validate Accuracy": 0.6656,
         "_deepnote_index_column": 2
        },
        {
         "Model": "Logistic Regression",
         "Baseline": 0.6773,
         "Train Accuracy": 0.6893,
         "Validate Accuracy": 0.6902,
         "_deepnote_index_column": 3
        }
       ],
       "rows_bottom": null
      },
      "text/plain": "                 Model  Baseline  Train Accuracy  Validate Accuracy\n0        Decision Tree    0.6773          0.6927             0.6875\n1        Random Forest    0.6773          0.6936             0.6842\n2   K-Nearest Neighbor    0.6773          0.6924             0.6656\n3  Logistic Regression    0.6773          0.6893             0.6902",
      "text/html": "<div>\n<style scoped>\n    .dataframe tbody tr th:only-of-type {\n        vertical-align: middle;\n    }\n\n    .dataframe tbody tr th {\n        vertical-align: top;\n    }\n\n    .dataframe thead th {\n        text-align: right;\n    }\n</style>\n<table border=\"1\" class=\"dataframe\">\n  <thead>\n    <tr style=\"text-align: right;\">\n      <th></th>\n      <th>Model</th>\n      <th>Baseline</th>\n      <th>Train Accuracy</th>\n      <th>Validate Accuracy</th>\n    </tr>\n  </thead>\n  <tbody>\n    <tr>\n      <th>0</th>\n      <td>Decision Tree</td>\n      <td>0.6773</td>\n      <td>0.6927</td>\n      <td>0.6875</td>\n    </tr>\n    <tr>\n      <th>1</th>\n      <td>Random Forest</td>\n      <td>0.6773</td>\n      <td>0.6936</td>\n      <td>0.6842</td>\n    </tr>\n    <tr>\n      <th>2</th>\n      <td>K-Nearest Neighbor</td>\n      <td>0.6773</td>\n      <td>0.6924</td>\n      <td>0.6656</td>\n    </tr>\n    <tr>\n      <th>3</th>\n      <td>Logistic Regression</td>\n      <td>0.6773</td>\n      <td>0.6893</td>\n      <td>0.6902</td>\n    </tr>\n  </tbody>\n</table>\n</div>"
     },
     "metadata": {}
    }
   ],
   "execution_count": null
  },
  {
   "cell_type": "markdown",
   "source": "### Takeaways\n\n**Random Forest** is the best-performing model and will be evaluated on test data.\n",
   "metadata": {
    "tags": [],
    "cell_id": "00071-0156f621-dcb1-402b-bd2f-ff8272b2e697",
    "deepnote_cell_type": "markdown"
   }
  },
  {
   "cell_type": "markdown",
   "source": "\n___\n## • Model on Test",
   "metadata": {
    "cell_id": "00072-ab31f6d0-f108-40d7-ae0d-4ba196e1f206",
    "deepnote_cell_type": "markdown"
   }
  },
  {
   "cell_type": "code",
   "metadata": {
    "deepnote_to_be_reexecuted": false,
    "source_hash": "d85efdea",
    "execution_start": 1622221412917,
    "execution_millis": 0,
    "cell_id": "00073-831b7109-4304-446b-b292-5a353fafd61e",
    "deepnote_cell_type": "code"
   },
   "source": "##evaluate on test sample \n#y_pred_test = rf.predict(X_test[combo_feats])\n#\n##compute accuracy\n#rf_test_acc = round(rf.score(X_test[combo_feats], y_test), 4)\n#\n#print(\"Random Forest Model:\")\n#print(classification_report(y_test, y_pred_test))",
   "outputs": [],
   "execution_count": null
  },
  {
   "cell_type": "code",
   "metadata": {
    "tags": [],
    "deepnote_to_be_reexecuted": false,
    "source_hash": "3cf1bb2c",
    "execution_start": 1622221412926,
    "execution_millis": 5,
    "cell_id": "00074-92c7d077-3e60-4c12-8d85-46f1c6021d33",
    "deepnote_cell_type": "code"
   },
   "source": "# FEEL FREE TO DELETE\ndef get_metrics(mod, X, y):\n    \"\"\"\n    get_metrics returns the baseline accuracy score \n    along with the current model's accuracy score for comparison \n    along with a table of precision/recall/f1-score/support percentages of the model\n    \"\"\"\n    baseline_accuracy = (train.alleged_threat_lvl == 1).mean()\n    y_pred = mod.predict(X)\n    accuracy = mod.score(X, y)\n    conf = confusion_matrix(y, y_pred)\n    prfs = pd.DataFrame(precision_recall_fscore_support(y, y_pred), index=['precision', 'recall', 'f1-score', 'support'])\n    \n    print(f'''\n    BASELINE accuracy is: {baseline_accuracy:.2%}\n    The accuracy for our model is: {accuracy:.5%} \n    ''')\n    return conf, prfs",
   "outputs": [],
   "execution_count": null
  },
  {
   "cell_type": "code",
   "metadata": {
    "tags": [],
    "deepnote_to_be_reexecuted": false,
    "source_hash": "78ec8788",
    "execution_start": 1622221412945,
    "execution_millis": 30,
    "cell_id": "00075-7411e5c6-76a5-41a0-b740-86ad47ba2f70",
    "deepnote_cell_type": "code"
   },
   "source": "#evaluate on test sample \ny_pred_test = logit.predict(X_test[combo_feats])\n\n#compute accuracy\nlogit_test_acc = round(logit.score(X_test[combo_feats], y_test), 4)\n\nprint(\"Logistic Regression Model:\")\nprint(classification_report(y_test, y_pred_test))",
   "outputs": [
    {
     "name": "stdout",
     "text": "Logistic Regression Model:\n              precision    recall  f1-score   support\n\n         0.0       0.55      0.14      0.23       405\n         1.0       0.70      0.94      0.80       848\n\n    accuracy                           0.69      1253\n   macro avg       0.63      0.54      0.52      1253\nweighted avg       0.65      0.69      0.62      1253\n\n",
     "output_type": "stream"
    }
   ],
   "execution_count": null
  },
  {
   "cell_type": "code",
   "metadata": {
    "tags": [],
    "deepnote_to_be_reexecuted": false,
    "source_hash": "ac9a94a",
    "execution_start": 1622221413033,
    "execution_millis": 58,
    "cell_id": "00076-e2c809ba-b2d8-467e-9c28-84af6e1e237c",
    "deepnote_cell_type": "code"
   },
   "source": "# WANTED TO SEE MORE DECIMAL PTS\nget_metrics(logit, X_test[combo_feats], y_test)",
   "outputs": [
    {
     "name": "stdout",
     "text": "\n    BASELINE accuracy is: 67.73%\n    The accuracy for our model is: 68.55547% \n    \n",
     "output_type": "stream"
    },
    {
     "output_type": "execute_result",
     "execution_count": 46,
     "data": {
      "text/plain": "(array([[ 58, 347],\n        [ 47, 801]]),\n                     0           1\n precision    0.552381    0.697735\n recall       0.143210    0.944575\n f1-score     0.227451    0.802605\n support    405.000000  848.000000)"
     },
     "metadata": {}
    }
   ],
   "execution_count": null
  },
  {
   "cell_type": "markdown",
   "source": "### What is ROC?\n\nROC curves describe the **trade-off between the true positive rate (TPR) and false positive (FPR) rate along different probability thresholds** for a classifier. True positive rate is also known as recall and sometimes Sensitivity — it’s a measure of how well you can find the needle in a haystack.\n\n**The receiver operating characteristic (ROC) curve has become the p-value of machine learning classification** — it’s very frequently used, misused, misinterpreted, and mis-maligned.\n\nHowever, ROC curves (like p-values) are useful when used right. By that, I mean they are **useful when not used as a rote score**, but when they form part of a nuanced description of a model’s ability to help solve the problem at hand (e.g. in the case of minority class identification, do they perform better than a random guess or assuming all instances are in the majority class).\n\n### What is AUC?\n\nArea Under the Curve gives the rate of successful classification by the model. The AUC makes it easy to compare the ROC curve of one model to another.\n\n\n",
   "metadata": {
    "tags": [],
    "cell_id": "00077-01e57b3b-6239-493a-b541-677a3fe55a58",
    "deepnote_cell_type": "markdown"
   }
  },
  {
   "cell_type": "code",
   "metadata": {
    "tags": [],
    "cell_id": "00078-c24427ed-1bba-420c-af97-18df774d391e",
    "deepnote_to_be_reexecuted": false,
    "source_hash": "162934d9",
    "execution_start": 1622221413076,
    "execution_millis": 397,
    "deepnote_cell_type": "code"
   },
   "source": "from sklearn.metrics import auc, roc_curve, roc_auc_score, precision_recall_curve\n\nplt.figure(figsize=(10,6))\n\ny_pred = logit.predict_proba(X_test[combo_feats])[:,1]\nfpr, tpr, thresholds = roc_curve(y_test, y_pred)\nplt.plot(fpr, tpr, color='red', lw=2, label=f'Logistic Regression (area = %0.4f)' % auc(fpr, tpr))\n\nplt.plot([0, 1], [0, 1], color='navy', lw=2, linestyle= '-', label = 'Random Classifier')\nplt.xlim([0.0, 1.0])\nplt.ylim([0.0, 1.0])\nplt.xlabel('False Positive Rate', fontsize=13)\nplt.ylabel('True Positive Rate', fontsize=14)\nplt.title('', fontsize=17)\nplt.legend(loc='lower right', fontsize=13)\nplt.show()",
   "outputs": [
    {
     "data": {
      "text/plain": "<Figure size 720x432 with 1 Axes>",
      "image/png": "[encoded data removed]"
     },
     "metadata": {
      "needs_background": "light",
      "image/png": {
       "width": 621,
       "height": 378
      }
     },
     "output_type": "display_data"
    }
   ],
   "execution_count": null
  },
  {
   "cell_type": "code",
   "metadata": {
    "tags": [],
    "deepnote_to_be_reexecuted": false,
    "source_hash": "6d25118a",
    "execution_start": 1622221413462,
    "execution_millis": 32,
    "cell_id": "00079-a43e69d4-e6d4-4d7c-92e1-d2d27d4348b6",
    "deepnote_cell_type": "code"
   },
   "source": "combo_feats\n",
   "outputs": [
    {
     "output_type": "execute_result",
     "execution_count": 48,
     "data": {
      "text/plain": "['55-64',\n 'is_native american',\n 'mntlill_no',\n 'under 12',\n 'was_traffic_stop',\n 'body_camera',\n 'age',\n 'was_allegedly_armed',\n 'is_black',\n 'was_domestic_disturbance',\n 'was_fleeing',\n 'cod_lethal',\n 'was_mental_health_welfare_check',\n 'is_white',\n 'was_violent_crime_part_1',\n 'was_vehicle',\n 'mntlill_drug or alcohol use',\n 'is_transgender',\n 'is_female']"
     },
     "metadata": {}
    }
   ],
   "execution_count": null
  },
  {
   "cell_type": "code",
   "source": "logit.coef_[0]",
   "metadata": {
    "tags": [],
    "cell_id": "00085-104ae804-9aec-41e1-94c9-26beec7b8afb",
    "deepnote_to_be_reexecuted": false,
    "source_hash": "95bfc383",
    "execution_start": 1622222920890,
    "execution_millis": 9,
    "deepnote_cell_type": "code"
   },
   "outputs": [
    {
     "output_type": "execute_result",
     "execution_count": 65,
     "data": {
      "text/plain": "array([ 0.00733221, -0.25064511,  0.24886715, -0.14590091,  0.18850977,\n       -0.19887589,  0.00587571,  0.85867156,  0.26382441, -0.07928682,\n        0.02365777,  0.56907119, -0.00445867,  0.31366317,  0.25630889,\n        0.42281635,  0.12316029, -0.12695661, -0.33273042])"
     },
     "metadata": {}
    }
   ],
   "execution_count": null
  },
  {
   "cell_type": "code",
   "source": "X_train[combo_feats].columns",
   "metadata": {
    "tags": [],
    "cell_id": "00086-67bc67a3-e6dc-412e-801d-8e51d1cf16f8",
    "deepnote_to_be_reexecuted": false,
    "source_hash": "2a8c56",
    "execution_start": 1622221455374,
    "execution_millis": 18,
    "deepnote_cell_type": "code"
   },
   "outputs": [
    {
     "output_type": "execute_result",
     "execution_count": 58,
     "data": {
      "text/plain": "Index(['55-64', 'is_native american', 'mntlill_no', 'under 12',\n       'was_traffic_stop', 'body_camera', 'age', 'was_allegedly_armed',\n       'is_black', 'was_domestic_disturbance', 'was_fleeing', 'cod_lethal',\n       'was_mental_health_welfare_check', 'is_white',\n       'was_violent_crime_part_1', 'was_vehicle',\n       'mntlill_drug or alcohol use', 'is_transgender', 'is_female'],\n      dtype='object')"
     },
     "metadata": {}
    }
   ],
   "execution_count": null
  },
  {
   "cell_type": "code",
   "source": "lr_fe_df = pd.DataFrame(logit.coef_[0], index = X_train[combo_feats].columns,\n                          columns = ['coeffs']).sort_values(by = 'coeffs', ascending = False)",
   "metadata": {
    "tags": [],
    "cell_id": "00087-fb7fbd1d-d0a3-4a63-98d2-42bce5d95371",
    "deepnote_to_be_reexecuted": false,
    "source_hash": "5beee98d",
    "execution_start": 1622223444349,
    "execution_millis": 7,
    "deepnote_cell_type": "code"
   },
   "outputs": [],
   "execution_count": null
  },
  {
   "cell_type": "code",
   "source": "lr_fe_df['coeffs']= round(lr_fe_df.coeffs*100, 2)",
   "metadata": {
    "tags": [],
    "cell_id": "00088-06871da0-648e-49ab-9de8-85f0182b898a",
    "deepnote_to_be_reexecuted": false,
    "source_hash": "41ac3212",
    "execution_start": 1622223617997,
    "execution_millis": 1,
    "deepnote_cell_type": "code"
   },
   "outputs": [],
   "execution_count": null
  },
  {
   "cell_type": "code",
   "source": "plt.figure(figsize=(30, 20))\nsns.barplot(data=lr_fe_df, x='coeffs', y=lr_fe_df.index, palette='PuBu_r')\nplt.title('Which Attributes Affect Likelihood of Threat Status?', fontsize=50)\nplt.xlim([-30, 100])\nplt.xlabel('Percent of Importance', fontsize=20)\nplt.ylabel('Attribute', fontsize=20)\nplt.show()",
   "metadata": {
    "tags": [],
    "cell_id": "00089-b97df1da-a31a-40aa-a08b-c7f0158eaa09",
    "deepnote_to_be_reexecuted": false,
    "source_hash": "cd912f7b",
    "execution_start": 1622225329094,
    "execution_millis": 682,
    "deepnote_cell_type": "code"
   },
   "outputs": [
    {
     "data": {
      "text/plain": "<Figure size 2160x1440 with 1 Axes>",
      "image/png": "[encoded data removed]"
     },
     "metadata": {
      "needs_background": "light",
      "image/png": {
       "width": 1900,
       "height": 1189
      }
     },
     "output_type": "display_data"
    }
   ],
   "execution_count": null
  },
  {
   "cell_type": "code",
   "source": "logit.score(X_test[combo_feats], y_test)",
   "metadata": {
    "tags": [],
    "cell_id": "00085-629d4a55-06d4-4a82-8a0d-7b03f2ae91ee",
    "deepnote_to_be_reexecuted": false,
    "source_hash": "6a4cb837",
    "execution_start": 1622225597198,
    "execution_millis": 9,
    "deepnote_cell_type": "code"
   },
   "outputs": [
    {
     "output_type": "execute_result",
     "execution_count": 113,
     "data": {
      "text/plain": "0.6855546687948922"
     },
     "metadata": {}
    }
   ],
   "execution_count": null
  },
  {
   "cell_type": "code",
   "source": "pd.DataFrame({\n    'Actual Threat': [round(((df.alleged_threat_lvl == 1).mean())*100, 2)], \n    'Baseline Threat Accuracy': [round(((train.alleged_threat_lvl == 1).mean())*100, 2)], \n    'Logit Model Threat Accuracy': [round((logit.score(X_test[combo_feats], y_test))*100, 2)]\n}).T",
   "metadata": {
    "tags": [],
    "cell_id": "00085-230e093c-31f9-4bc1-8f64-5414a0e4edd6",
    "deepnote_to_be_reexecuted": false,
    "source_hash": "bf04d98f",
    "execution_start": 1622226356773,
    "execution_millis": 69,
    "deepnote_cell_type": "code"
   },
   "outputs": [
    {
     "output_type": "execute_result",
     "execution_count": 116,
     "data": {
      "application/vnd.deepnote.dataframe.v2+json": {
       "row_count": 3,
       "column_count": 1,
       "columns": [
        {
         "name": 0,
         "dtype": "float64",
         "stats": {
          "unique_count": 3,
          "nan_count": 0,
          "min": "67.71",
          "max": "68.56",
          "histogram": [
           {
            "bin_start": 67.71,
            "bin_end": 67.79499999999999,
            "count": 2
           },
           {
            "bin_start": 67.79499999999999,
            "bin_end": 67.88,
            "count": 0
           },
           {
            "bin_start": 67.88,
            "bin_end": 67.965,
            "count": 0
           },
           {
            "bin_start": 67.965,
            "bin_end": 68.05,
            "count": 0
           },
           {
            "bin_start": 68.05,
            "bin_end": 68.13499999999999,
            "count": 0
           },
           {
            "bin_start": 68.13499999999999,
            "bin_end": 68.22,
            "count": 0
           },
           {
            "bin_start": 68.22,
            "bin_end": 68.305,
            "count": 0
           },
           {
            "bin_start": 68.305,
            "bin_end": 68.39,
            "count": 0
           },
           {
            "bin_start": 68.39,
            "bin_end": 68.475,
            "count": 0
           },
           {
            "bin_start": 68.475,
            "bin_end": 68.56,
            "count": 1
           }
          ]
         }
        },
        {
         "name": "_deepnote_index_column",
         "dtype": "object"
        }
       ],
       "rows_top": [
        {
         "0": 67.71,
         "_deepnote_index_column": "Actual Threat"
        },
        {
         "0": 67.73,
         "_deepnote_index_column": "Baseline Threat Accuracy"
        },
        {
         "0": 68.56,
         "_deepnote_index_column": "Logit Model Threat Accuracy"
        }
       ],
       "rows_bottom": null
      },
      "text/plain": "                                 0\nActual Threat                67.71\nBaseline Threat Accuracy     67.73\nLogit Model Threat Accuracy  68.56",
      "text/html": "<div>\n<style scoped>\n    .dataframe tbody tr th:only-of-type {\n        vertical-align: middle;\n    }\n\n    .dataframe tbody tr th {\n        vertical-align: top;\n    }\n\n    .dataframe thead th {\n        text-align: right;\n    }\n</style>\n<table border=\"1\" class=\"dataframe\">\n  <thead>\n    <tr style=\"text-align: right;\">\n      <th></th>\n      <th>0</th>\n    </tr>\n  </thead>\n  <tbody>\n    <tr>\n      <th>Actual Threat</th>\n      <td>67.71</td>\n    </tr>\n    <tr>\n      <th>Baseline Threat Accuracy</th>\n      <td>67.73</td>\n    </tr>\n    <tr>\n      <th>Logit Model Threat Accuracy</th>\n      <td>68.56</td>\n    </tr>\n  </tbody>\n</table>\n</div>"
     },
     "metadata": {}
    }
   ],
   "execution_count": null
  },
  {
   "cell_type": "code",
   "source": "iter1_acc = pd.DataFrame({\n\n    'titles':['Actual Threat', 'Baseline Threat Accuracy', 'Logit Model Threat Accuracy'],\n    'pct':[round(((df.alleged_threat_lvl == 1).mean())*100, 2), round(((train.alleged_threat_lvl == 1).mean())*100, 2), round((logit.score(X_test[combo_feats], y_test))*100, 2)]\n})",
   "metadata": {
    "tags": [],
    "cell_id": "00087-feda4f8f-d333-48f2-9b8b-98fc3e731137",
    "deepnote_to_be_reexecuted": false,
    "source_hash": "3d336684",
    "execution_start": 1622226686536,
    "execution_millis": 14,
    "deepnote_cell_type": "code"
   },
   "outputs": [],
   "execution_count": null
  },
  {
   "cell_type": "code",
   "source": "f, ax = plt.subplots(figsize=(8.2, 7)) \n#plt.figure(figsize=(8.2,7))\nsns.barplot(data=iter1_acc, x='titles', y='pct', palette='ocean_r')\n\nax.text(1.9, 63, '69%', style='italic', size='xx-large', color='white')\nax.text(0.88, 62, '67.73%', style='italic', size='large', color='white')\nax.text(-0.13, 62, '67.71%', style='italic', size='large', color='white')\n\nplt.title('First Iteration Accuracy Levels', fontsize=20)\nplt.ylim([0, 100])\nplt.xlabel('', fontsize=10)\nplt.ylabel('Accuracy Percentage (%)', fontsize=10)\nplt.show()",
   "metadata": {
    "tags": [],
    "cell_id": "00088-642ec413-bd02-4908-b6b5-5d35086a9882",
    "deepnote_to_be_reexecuted": false,
    "source_hash": "d6451dff",
    "execution_start": 1622228114163,
    "execution_millis": 214,
    "deepnote_cell_type": "code"
   },
   "outputs": [
    {
     "data": {
      "text/plain": "<Figure size 590.4x504 with 1 Axes>",
      "image/png": "[encoded data removed]"
     },
     "metadata": {
      "needs_background": "light",
      "image/png": {
       "width": 511,
       "height": 432
      }
     },
     "output_type": "display_data"
    }
   ],
   "execution_count": null
  },
  {
   "cell_type": "markdown",
   "source": "\n___\n# Conclusion\n\n### Takeaways\n- All models had roughly the same score for train and validate sets.\n- K-Nearest neighbor model performed the worst on out-of-sample data.\n- The best performing model uses a Random Forest algorithm and combined features from Select K Best and Recursive Feature Elimination lists.\n- Our final Random Forest model increased by 21% from a baseline accuracy of 51% to 72% accuracy on out-of-sample data.\n\n\n### Drivers\n- The top drivers of predicting a victim's threat level were encounter type of incident, gender, race, armed/unarmed status, mental illness, age, geography, fleeing events, and body camera reports.\n- These drivers can be used to shed light on changes to be made in law enforcement and to help law enforcement agencies spot risk factors, so they may step in before risk transforms into actual harm.\n\n\n### Next Steps\n- Fill in missing values manually as best as possible based on the description column in the dataset (large amount of data missing). \n- Natural language processing exploration on description of incident. ",
   "metadata": {
    "cell_id": "00088-1853209e-44be-4fdf-8437-2b8e3ce9a8b9",
    "deepnote_cell_type": "markdown"
   }
  },
  {
   "cell_type": "markdown",
   "source": "\n#### Report containing summarization of notebook can be found [here](link to presentation).",
   "metadata": {
    "tags": [],
    "cell_id": "00089-2ef5c14e-e685-4979-9f97-9d43a8c78d59",
    "deepnote_cell_type": "markdown"
   }
  },
  {
   "cell_type": "markdown",
   "source": "",
   "metadata": {
    "tags": [],
    "cell_id": "00090-03e10453-7a10-4d77-bf0f-14f0240e4fa5",
    "deepnote_cell_type": "markdown"
   }
  },
  {
   "cell_type": "code",
   "metadata": {
    "tags": [],
    "cell_id": "00091-9e7b4e1b-ecc3-4139-b2af-1b58ce93c4ba",
    "deepnote_to_be_reexecuted": true,
    "source_hash": "620026b4",
    "execution_start": 1622219959311,
    "execution_millis": 140,
    "deepnote_cell_type": "code"
   },
   "source": "accuracies_df = pd.DataFrame({\n    'Actual Threat': [round(((df.alleged_threat_lvl == 1).mean())*100, 2)], \n    'Baseline Adoption Accuracy': [round(((train.alleged_threat_lvl == 1).mean())*100, 2)], \n    'Logit Model Adoption Accuracy': [round((logit.score(X_test[combo_feats], y_test))*100, 2)]\n})\naccuracies_df",
   "execution_count": null,
   "outputs": [
    {
     "output_type": "error",
     "ename": "NameError",
     "evalue": "name 'pd' is not defined",
     "traceback": [
      "\u001b[0;31m---------------------------------------------------------------------------\u001b[0m",
      "\u001b[0;31mNameError\u001b[0m                                 Traceback (most recent call last)",
      "\u001b[0;32m<ipython-input-1-1b3a493754f4>\u001b[0m in \u001b[0;36m<module>\u001b[0;34m\u001b[0m\n\u001b[0;32m----> 1\u001b[0;31m accuracies_df = pd.DataFrame({\n\u001b[0m\u001b[1;32m      2\u001b[0m     \u001b[0;34m'Actual Threat'\u001b[0m\u001b[0;34m:\u001b[0m \u001b[0;34m[\u001b[0m\u001b[0mround\u001b[0m\u001b[0;34m(\u001b[0m\u001b[0;34m(\u001b[0m\u001b[0;34m(\u001b[0m\u001b[0mdf\u001b[0m\u001b[0;34m.\u001b[0m\u001b[0malleged_threat_lvl\u001b[0m \u001b[0;34m==\u001b[0m \u001b[0;36m1\u001b[0m\u001b[0;34m)\u001b[0m\u001b[0;34m.\u001b[0m\u001b[0mmean\u001b[0m\u001b[0;34m(\u001b[0m\u001b[0;34m)\u001b[0m\u001b[0;34m)\u001b[0m\u001b[0;34m*\u001b[0m\u001b[0;36m100\u001b[0m\u001b[0;34m,\u001b[0m \u001b[0;36m2\u001b[0m\u001b[0;34m)\u001b[0m\u001b[0;34m]\u001b[0m\u001b[0;34m,\u001b[0m\u001b[0;34m\u001b[0m\u001b[0;34m\u001b[0m\u001b[0m\n\u001b[1;32m      3\u001b[0m     \u001b[0;34m'Baseline Adoption Accuracy'\u001b[0m\u001b[0;34m:\u001b[0m \u001b[0;34m[\u001b[0m\u001b[0mround\u001b[0m\u001b[0;34m(\u001b[0m\u001b[0;34m(\u001b[0m\u001b[0;34m(\u001b[0m\u001b[0mtrain\u001b[0m\u001b[0;34m.\u001b[0m\u001b[0malleged_threat_lvl\u001b[0m \u001b[0;34m==\u001b[0m \u001b[0;36m1\u001b[0m\u001b[0;34m)\u001b[0m\u001b[0;34m.\u001b[0m\u001b[0mmean\u001b[0m\u001b[0;34m(\u001b[0m\u001b[0;34m)\u001b[0m\u001b[0;34m)\u001b[0m\u001b[0;34m*\u001b[0m\u001b[0;36m100\u001b[0m\u001b[0;34m,\u001b[0m \u001b[0;36m2\u001b[0m\u001b[0;34m)\u001b[0m\u001b[0;34m]\u001b[0m\u001b[0;34m,\u001b[0m\u001b[0;34m\u001b[0m\u001b[0;34m\u001b[0m\u001b[0m\n\u001b[1;32m      4\u001b[0m     \u001b[0;34m'Logit Model Adoption Accuracy'\u001b[0m\u001b[0;34m:\u001b[0m \u001b[0;34m[\u001b[0m\u001b[0mround\u001b[0m\u001b[0;34m(\u001b[0m\u001b[0;34m(\u001b[0m\u001b[0mlogit\u001b[0m\u001b[0;34m.\u001b[0m\u001b[0mscore\u001b[0m\u001b[0;34m(\u001b[0m\u001b[0mX_test\u001b[0m\u001b[0;34m[\u001b[0m\u001b[0mcombo_feats\u001b[0m\u001b[0;34m]\u001b[0m\u001b[0;34m,\u001b[0m \u001b[0my_test\u001b[0m\u001b[0;34m)\u001b[0m\u001b[0;34m)\u001b[0m\u001b[0;34m*\u001b[0m\u001b[0;36m100\u001b[0m\u001b[0;34m,\u001b[0m \u001b[0;36m2\u001b[0m\u001b[0;34m)\u001b[0m\u001b[0;34m]\u001b[0m\u001b[0;34m\u001b[0m\u001b[0;34m\u001b[0m\u001b[0m\n\u001b[1;32m      5\u001b[0m })\n",
      "\u001b[0;31mNameError\u001b[0m: name 'pd' is not defined"
     ]
    }
   ]
  },
  {
   "cell_type": "code",
   "metadata": {
    "tags": [],
    "cell_id": "00092-2d053a0c-1caa-4846-8fe9-8b431e6b0174",
    "deepnote_to_be_reexecuted": true,
    "source_hash": "b623e53d",
    "deepnote_cell_type": "code"
   },
   "source": "",
   "execution_count": null,
   "outputs": []
  },
  {
   "cell_type": "markdown",
   "source": "<a style='text-decoration:none;line-height:16px;display:flex;color:#5B5B62;padding:10px;justify-content:end;' href='https://deepnote.com?utm_source=created-in-deepnote-cell&projectId=258e71fc-cf2b-48c3-8461-70ecd9787aa1' target=\"_blank\">\n<img alt='Created in deepnote.com' style='display:inline;max-height:16px;margin:0px;margin-right:7.5px;' src='data:image/svg+xml;base64,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' > </img>\nCreated in <span style='font-weight:600;margin-left:4px;'>Deepnote</span></a>",
   "metadata": {
    "tags": [],
    "created_in_deepnote_cell": true,
    "deepnote_cell_type": "markdown"
   }
  }
 ],
 "nbformat": 4,
 "nbformat_minor": 4,
 "metadata": {
  "kernelspec": {
   "display_name": "Python 3",
   "language": "python",
   "name": "python3"
  },
  "language_info": {
   "codemirror_mode": {
    "name": "ipython",
    "version": 3
   },
   "file_extension": ".py",
   "mimetype": "text/x-python",
   "name": "python",
   "nbconvert_exporter": "python",
   "pygments_lexer": "ipython3",
   "version": "3.8.5"
  },
  "deepnote_notebook_id": "28546b49-2096-40dd-ad3b-d3519cad20ba",
  "deepnote": {},
  "deepnote_execution_queue": []
 }
}