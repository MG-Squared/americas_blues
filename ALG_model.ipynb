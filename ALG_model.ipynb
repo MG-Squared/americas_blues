{
 "cells": [
  {
   "cell_type": "code",
   "metadata": {
    "tags": [],
    "deepnote_to_be_reexecuted": false,
    "source_hash": "864c6ca2",
    "execution_start": 1621912319115,
    "execution_millis": 2826,
    "cell_id": "00000-ca0fb07f-9de0-4127-a343-a47d69e54ff4",
    "deepnote_cell_type": "code"
   },
   "source": "import pandas as pd\nimport numpy as np\n\n# Helper Functions\nimport wrangle as w \nimport explore as exp\nfrom explore import rfe, split, select_kbest\n\n# Visualizations\nimport seaborn as sns\nimport matplotlib.pyplot as plt\n\n# Hypothesis tests\nfrom scipy import stats\nfrom scipy.stats import chi2_contingency\nfrom scipy.stats import ttest_1samp\nfrom scipy.stats import ttest_ind\n\n#Feature Engineering\nfrom sklearn.feature_selection import SelectKBest, f_regression, chi2\nfrom sklearn.linear_model import LogisticRegression, SGDClassifier\nfrom sklearn.feature_selection import RFE\nfrom scipy import stats\n\n# Split data\nfrom sklearn.model_selection import train_test_split\n\n# Evaluate models\nfrom sklearn.metrics import confusion_matrix\nfrom sklearn.metrics import classification_report\nfrom sklearn.metrics import accuracy_score\nfrom sklearn.metrics import precision_score\nfrom sklearn.metrics import recall_score\nfrom sklearn.metrics import f1_score\nfrom sklearn.metrics import precision_recall_fscore_support \n\n# Create models for classification ML:\n# Decision Tree  \nfrom sklearn.tree import DecisionTreeClassifier\nfrom sklearn.tree import export_graphviz\n\n# Random Forest\nfrom sklearn.ensemble import RandomForestClassifier\n\n# K-Nearest Neighbor(KNN)  \nfrom sklearn.neighbors import KNeighborsClassifier\n\n# Logistic Regression\nfrom sklearn.linear_model import LogisticRegression",
   "execution_count": 2,
   "outputs": []
  },
  {
   "cell_type": "code",
   "metadata": {
    "tags": [],
    "deepnote_to_be_reexecuted": false,
    "source_hash": "d93c6998",
    "execution_start": 1621912321946,
    "execution_millis": 10430,
    "cell_id": "00001-d345b413-e470-4b33-abb7-7462c4a58719",
    "deepnote_cell_type": "code"
   },
   "source": "df = w.wrangle_data(cached=False)",
   "execution_count": 3,
   "outputs": []
  },
  {
   "cell_type": "code",
   "metadata": {
    "tags": [],
    "deepnote_to_be_reexecuted": false,
    "source_hash": "f3dd26da",
    "execution_start": 1621912332381,
    "execution_millis": 22,
    "cell_id": "00002-1e4381f0-96d8-4ea9-a854-0d0e74369488",
    "deepnote_cell_type": "code"
   },
   "source": "df.isnull().sum()",
   "execution_count": 4,
   "outputs": [
    {
     "output_type": "execute_result",
     "execution_count": 4,
     "data": {
      "text/plain": "age                                            0\ngender                                         0\nrace                                           0\ndate                                           0\ncity                                           0\nstate                                          0\nzipcode                                        0\ncounty                                         0\nagency_responsible                             0\ncause_of_death                                 0\ndescription_of_circumstances                   0\nofficial_disposition                           0\ncriminal_charges_filed                         0\nmental_illness                                 0\narmed_unarmed_status                           0\nalleged_weapon                                 0\nalleged_threat_lvl                             0\nfleeing                                        0\nbody_camera                                    0\ngeography                                      0\nencounter_type_draft                           0\ninitial_reported_reason_for_encounter_draft    0\nknown_past_shootings_of_officer_draft          0\nis_female                                      0\nis_male                                        0\nis_transgender                                 0\nwas_fleeing                                    0\nwas_not fleeing                                0\nwas_allegedly_armed                            0\nwas_unarmed                                    0\nwas_vehicle                                    0\nwas_domestic_disturbance                       0\nwas_mental_health_welfare_check                0\nwas_person_with_a_weapon                       0\nwas_traffic_stop                               0\nwas_violent_crime_part_1                       0\nis_asian/pacific islander                      0\nis_black                                       0\nis_hispanic                                    0\nis_native american                             0\nis_unknown race                                0\nis_white                                       0\nmntlill_drug or alcohol use                    0\nmntlill_no                                     0\nmntlill_unknown                                0\nmntlill_yes                                    0\nrural                                          0\nsuburban                                       0\nurban                                          0\ncod_lethal                                     0\nage_bins                                       0\nunknown                                        0\nunder 12                                       0\n12-17                                          0\n18-24                                          0\n25-34                                          0\n35-44                                          0\n45-54                                          0\n55-64                                          0\n65+                                            0\ndtype: int64"
     },
     "metadata": {}
    }
   ]
  },
  {
   "cell_type": "code",
   "metadata": {
    "tags": [],
    "deepnote_to_be_reexecuted": false,
    "source_hash": "2a21e0e6",
    "execution_start": 1621912332401,
    "execution_millis": 14,
    "cell_id": "00003-a26f7eef-6b8e-40c2-a48e-dd5d047209b9",
    "deepnote_cell_type": "code"
   },
   "source": "df.age.value_counts()",
   "execution_count": 5,
   "outputs": [
    {
     "output_type": "execute_result",
     "execution_count": 5,
     "data": {
      "text/plain": "25     280\n0      279\n27     275\n28     275\n31     275\n      ... \n88       1\n93       1\n85       1\n107      1\n95       1\nName: age, Length: 88, dtype: int64"
     },
     "metadata": {}
    }
   ]
  },
  {
   "cell_type": "code",
   "metadata": {
    "tags": [],
    "deepnote_to_be_reexecuted": false,
    "source_hash": "48919f60",
    "execution_start": 1621912332411,
    "execution_millis": 50,
    "cell_id": "00004-dcd9de0a-8632-4aad-af4a-cece182dd7d3",
    "deepnote_cell_type": "code"
   },
   "source": "df.age_bins.value_counts()",
   "execution_count": 6,
   "outputs": [
    {
     "output_type": "execute_result",
     "execution_count": 6,
     "data": {
      "text/plain": "25-34       2697\n35-44       2005\n18-24       1289\n45-54       1278\n55-64        652\nunknown      279\n65+          267\n12-17        155\nunder 12      12\nName: age_bins, dtype: int64"
     },
     "metadata": {}
    }
   ]
  },
  {
   "cell_type": "code",
   "metadata": {
    "tags": [],
    "deepnote_to_be_reexecuted": false,
    "source_hash": "25d43fa0",
    "execution_start": 1621912332455,
    "execution_millis": 6,
    "cell_id": "00005-fff6aeeb-efe7-42da-8b2e-a6f40120262e",
    "deepnote_cell_type": "code"
   },
   "source": "df.columns",
   "execution_count": 7,
   "outputs": [
    {
     "output_type": "execute_result",
     "execution_count": 7,
     "data": {
      "text/plain": "Index(['age', 'gender', 'race', 'date', 'city', 'state', 'zipcode', 'county',\n       'agency_responsible', 'cause_of_death', 'description_of_circumstances',\n       'official_disposition', 'criminal_charges_filed', 'mental_illness',\n       'armed_unarmed_status', 'alleged_weapon', 'alleged_threat_lvl',\n       'fleeing', 'body_camera', 'geography', 'encounter_type_draft',\n       'initial_reported_reason_for_encounter_draft',\n       'known_past_shootings_of_officer_draft', 'is_female', 'is_male',\n       'is_transgender', 'was_fleeing', 'was_not fleeing ',\n       'was_allegedly_armed', 'was_unarmed', 'was_vehicle',\n       'was_domestic_disturbance', 'was_mental_health_welfare_check',\n       'was_person_with_a_weapon', 'was_traffic_stop',\n       'was_violent_crime_part_1', 'is_asian/pacific islander', 'is_black',\n       'is_hispanic', 'is_native american', 'is_unknown race', 'is_white',\n       'mntlill_drug or alcohol use', 'mntlill_no', 'mntlill_unknown',\n       'mntlill_yes', 'rural', 'suburban', 'urban', 'cod_lethal', 'age_bins',\n       'unknown', 'under 12', '12-17', '18-24', '25-34', '35-44', '45-54',\n       '55-64', '65+'],\n      dtype='object')"
     },
     "metadata": {}
    }
   ]
  },
  {
   "cell_type": "code",
   "metadata": {
    "tags": [],
    "deepnote_to_be_reexecuted": false,
    "source_hash": "fb9b34ba",
    "execution_start": 1621912332498,
    "execution_millis": 0,
    "cell_id": "00006-e504add4-6501-463c-b279-cd20cbc367a5",
    "deepnote_cell_type": "code"
   },
   "source": "from explore import rfe, split, select_kbest",
   "execution_count": 8,
   "outputs": []
  },
  {
   "cell_type": "code",
   "metadata": {
    "tags": [],
    "deepnote_to_be_reexecuted": false,
    "source_hash": "61bca6e2",
    "execution_start": 1621912332499,
    "execution_millis": 7,
    "cell_id": "00007-c3c59e61-7a1b-4526-8f95-0313fa01d373",
    "deepnote_cell_type": "code"
   },
   "source": "train, validate, test = split(df, stratify_by='alleged_threat_lvl')",
   "execution_count": 9,
   "outputs": []
  },
  {
   "cell_type": "code",
   "metadata": {
    "tags": [],
    "deepnote_to_be_reexecuted": false,
    "source_hash": "68e62203",
    "execution_start": 1621912332513,
    "execution_millis": 3,
    "cell_id": "00008-83599b50-8693-42a9-9a3d-7476133dd466",
    "deepnote_cell_type": "code"
   },
   "source": "\ndef split_df(df, target, seed):\n    '''\n    split_df will take one argument(df) and \n    then split our data into 20/80, \n    then split the 80% into 30/70\n    performs a train, validate, test split\n    splits each of the 3 samples into a dataframe with independent variables\n    and a series with the dependent, or target variable. \n    The function returns 6 dataframes and 3 series:\n    train, validate, test split, X_train (df) & y_train (series), X_validate & y_validate, X_test & y_test. \n    '''\n    # Train, Validate, and test\n    train_and_validate, test = train_test_split(df, test_size=0.2, random_state=seed)\n    train, validate = train_test_split(train_and_validate, test_size=0.3, random_state=seed)\n    # Split with X and y\n    X_train = train.drop(columns=[target])\n    y_train = train[target]\n    X_validate = validate.drop(columns=[target])\n    y_validate = validate[target]\n    X_test = test.drop(columns=[target])\n    y_test = test[target]\n    return train, validate, test, X_train, y_train, X_validate, y_validate, X_test, y_test ",
   "execution_count": 10,
   "outputs": []
  },
  {
   "cell_type": "code",
   "metadata": {
    "tags": [],
    "deepnote_to_be_reexecuted": false,
    "source_hash": "4ca76457",
    "execution_start": 1621912332518,
    "execution_millis": 90,
    "cell_id": "00009-6ed7f350-2cb6-4c10-8e66-bad83b18590e",
    "deepnote_cell_type": "code"
   },
   "source": "\ntrain, validate, test, X_train, y_train, X_validate, y_validate, X_test, y_test = split_df(df, 'alleged_threat_lvl', 42)",
   "execution_count": 11,
   "outputs": []
  },
  {
   "cell_type": "code",
   "metadata": {
    "tags": [],
    "deepnote_to_be_reexecuted": false,
    "source_hash": "89d68b10",
    "execution_start": 1621912332609,
    "execution_millis": 0,
    "cell_id": "00010-35249c4b-2d35-4a1b-92aa-820c88f374a5",
    "deepnote_cell_type": "code"
   },
   "source": "#y_",
   "execution_count": 12,
   "outputs": []
  },
  {
   "cell_type": "code",
   "metadata": {
    "tags": [],
    "deepnote_to_be_reexecuted": false,
    "source_hash": "3ca3de2b",
    "execution_start": 1621912332609,
    "execution_millis": 28,
    "cell_id": "00011-27697b83-487a-4b21-ba78-a507f07f691c",
    "deepnote_cell_type": "code"
   },
   "source": "X_train.info()",
   "execution_count": 13,
   "outputs": [
    {
     "name": "stdout",
     "text": "<class 'pandas.core.frame.DataFrame'>\nInt64Index: 4834 entries, 5595 to 5633\nData columns (total 59 columns):\n #   Column                                       Non-Null Count  Dtype         \n---  ------                                       --------------  -----         \n 0   age                                          4834 non-null   int64         \n 1   gender                                       4834 non-null   object        \n 2   race                                         4834 non-null   object        \n 3   date                                         4834 non-null   datetime64[ns]\n 4   city                                         4834 non-null   object        \n 5   state                                        4834 non-null   object        \n 6   zipcode                                      4834 non-null   float64       \n 7   county                                       4834 non-null   object        \n 8   agency_responsible                           4834 non-null   object        \n 9   cause_of_death                               4834 non-null   object        \n 10  description_of_circumstances                 4834 non-null   object        \n 11  official_disposition                         4834 non-null   object        \n 12  criminal_charges_filed                       4834 non-null   object        \n 13  mental_illness                               4834 non-null   object        \n 14  armed_unarmed_status                         4834 non-null   object        \n 15  alleged_weapon                               4834 non-null   object        \n 16  fleeing                                      4834 non-null   object        \n 17  body_camera                                  4834 non-null   float64       \n 18  geography                                    4834 non-null   object        \n 19  encounter_type_draft                         4834 non-null   object        \n 20  initial_reported_reason_for_encounter_draft  4834 non-null   object        \n 21  known_past_shootings_of_officer_draft        4834 non-null   object        \n 22  is_female                                    4834 non-null   uint8         \n 23  is_male                                      4834 non-null   uint8         \n 24  is_transgender                               4834 non-null   uint8         \n 25  was_fleeing                                  4834 non-null   float64       \n 26  was_not fleeing                              4834 non-null   float64       \n 27  was_allegedly_armed                          4834 non-null   float64       \n 28  was_unarmed                                  4834 non-null   float64       \n 29  was_vehicle                                  4834 non-null   float64       \n 30  was_domestic_disturbance                     4834 non-null   uint8         \n 31  was_mental_health_welfare_check              4834 non-null   uint8         \n 32  was_person_with_a_weapon                     4834 non-null   uint8         \n 33  was_traffic_stop                             4834 non-null   uint8         \n 34  was_violent_crime_part_1                     4834 non-null   uint8         \n 35  is_asian/pacific islander                    4834 non-null   uint8         \n 36  is_black                                     4834 non-null   uint8         \n 37  is_hispanic                                  4834 non-null   uint8         \n 38  is_native american                           4834 non-null   uint8         \n 39  is_unknown race                              4834 non-null   uint8         \n 40  is_white                                     4834 non-null   uint8         \n 41  mntlill_drug or alcohol use                  4834 non-null   uint8         \n 42  mntlill_no                                   4834 non-null   uint8         \n 43  mntlill_unknown                              4834 non-null   uint8         \n 44  mntlill_yes                                  4834 non-null   uint8         \n 45  rural                                        4834 non-null   float64       \n 46  suburban                                     4834 non-null   float64       \n 47  urban                                        4834 non-null   float64       \n 48  cod_lethal                                   4834 non-null   int64         \n 49  age_bins                                     4834 non-null   category      \n 50  unknown                                      4834 non-null   uint8         \n 51  under 12                                     4834 non-null   uint8         \n 52  12-17                                        4834 non-null   uint8         \n 53  18-24                                        4834 non-null   uint8         \n 54  25-34                                        4834 non-null   uint8         \n 55  35-44                                        4834 non-null   uint8         \n 56  45-54                                        4834 non-null   uint8         \n 57  55-64                                        4834 non-null   uint8         \n 58  65+                                          4834 non-null   uint8         \ndtypes: category(1), datetime64[ns](1), float64(10), int64(2), object(18), uint8(27)\nmemory usage: 1.3+ MB\n",
     "output_type": "stream"
    }
   ]
  },
  {
   "cell_type": "code",
   "metadata": {
    "tags": [],
    "deepnote_to_be_reexecuted": false,
    "source_hash": "576f2697",
    "execution_start": 1621912332629,
    "execution_millis": 1,
    "cell_id": "00012-cedd0909-f06b-48ee-9370-798665f4bb05",
    "deepnote_cell_type": "code"
   },
   "source": "from sklearn.feature_selection import f_regression, RFE, SelectKBest",
   "execution_count": 14,
   "outputs": []
  },
  {
   "cell_type": "code",
   "metadata": {
    "tags": [],
    "deepnote_to_be_reexecuted": false,
    "source_hash": "1039a82",
    "execution_start": 1621912332630,
    "execution_millis": 7,
    "cell_id": "00013-e5b409d3-a56b-4e8d-85a6-cd805832ae08",
    "deepnote_cell_type": "code"
   },
   "source": "list(df.columns)",
   "execution_count": 15,
   "outputs": [
    {
     "output_type": "execute_result",
     "execution_count": 15,
     "data": {
      "text/plain": "['age',\n 'gender',\n 'race',\n 'date',\n 'city',\n 'state',\n 'zipcode',\n 'county',\n 'agency_responsible',\n 'cause_of_death',\n 'description_of_circumstances',\n 'official_disposition',\n 'criminal_charges_filed',\n 'mental_illness',\n 'armed_unarmed_status',\n 'alleged_weapon',\n 'alleged_threat_lvl',\n 'fleeing',\n 'body_camera',\n 'geography',\n 'encounter_type_draft',\n 'initial_reported_reason_for_encounter_draft',\n 'known_past_shootings_of_officer_draft',\n 'is_female',\n 'is_male',\n 'is_transgender',\n 'was_fleeing',\n 'was_not fleeing ',\n 'was_allegedly_armed',\n 'was_unarmed',\n 'was_vehicle',\n 'was_domestic_disturbance',\n 'was_mental_health_welfare_check',\n 'was_person_with_a_weapon',\n 'was_traffic_stop',\n 'was_violent_crime_part_1',\n 'is_asian/pacific islander',\n 'is_black',\n 'is_hispanic',\n 'is_native american',\n 'is_unknown race',\n 'is_white',\n 'mntlill_drug or alcohol use',\n 'mntlill_no',\n 'mntlill_unknown',\n 'mntlill_yes',\n 'rural',\n 'suburban',\n 'urban',\n 'cod_lethal',\n 'age_bins',\n 'unknown',\n 'under 12',\n '12-17',\n '18-24',\n '25-34',\n '35-44',\n '45-54',\n '55-64',\n '65+']"
     },
     "metadata": {}
    }
   ]
  },
  {
   "cell_type": "code",
   "metadata": {
    "tags": [],
    "deepnote_to_be_reexecuted": false,
    "source_hash": "368ac104",
    "execution_start": 1621912332670,
    "execution_millis": 1,
    "cell_id": "00014-3c810d71-c5f6-4a13-afcf-0c1b1966533e",
    "deepnote_cell_type": "code"
   },
   "source": "dropcols = ['date',\n 'gender',\n 'race',\n 'city',\n 'state',\n 'zipcode',\n 'county',\n 'agency_responsible',\n 'cause_of_death',\n 'description_of_circumstances',\n 'official_disposition',\n 'criminal_charges_filed',\n 'mental_illness',\n 'armed_unarmed_status',\n 'alleged_threat_lvl',\n 'alleged_weapon',\n 'fleeing',\n 'geography',\n 'encounter_type_draft',\n 'initial_reported_reason_for_encounter_draft',\n 'known_past_shootings_of_officer_draft',\n 'age_bins']\n",
   "execution_count": 16,
   "outputs": []
  },
  {
   "cell_type": "code",
   "metadata": {
    "tags": [],
    "deepnote_to_be_reexecuted": false,
    "source_hash": "d330f65b",
    "execution_start": 1621912332678,
    "execution_millis": 2,
    "cell_id": "00015-7b7dd39a-fdb6-4ca0-b17c-de01945d5596",
    "deepnote_cell_type": "code"
   },
   "source": "train2 = train.drop(columns=dropcols)\nvalidate2 = validate.drop(columns=dropcols)\ntest2 = test.drop(columns=dropcols)",
   "execution_count": 17,
   "outputs": []
  },
  {
   "cell_type": "code",
   "metadata": {
    "tags": [],
    "deepnote_to_be_reexecuted": false,
    "source_hash": "569ea54a",
    "execution_start": 1621912332707,
    "execution_millis": 7,
    "cell_id": "00016-2680470a-0ba2-4a1f-9028-355337b25e8b",
    "deepnote_cell_type": "code"
   },
   "source": "train2.info()",
   "execution_count": 18,
   "outputs": [
    {
     "name": "stdout",
     "text": "<class 'pandas.core.frame.DataFrame'>\nInt64Index: 4834 entries, 5595 to 5633\nData columns (total 38 columns):\n #   Column                           Non-Null Count  Dtype  \n---  ------                           --------------  -----  \n 0   age                              4834 non-null   int64  \n 1   body_camera                      4834 non-null   float64\n 2   is_female                        4834 non-null   uint8  \n 3   is_male                          4834 non-null   uint8  \n 4   is_transgender                   4834 non-null   uint8  \n 5   was_fleeing                      4834 non-null   float64\n 6   was_not fleeing                  4834 non-null   float64\n 7   was_allegedly_armed              4834 non-null   float64\n 8   was_unarmed                      4834 non-null   float64\n 9   was_vehicle                      4834 non-null   float64\n 10  was_domestic_disturbance         4834 non-null   uint8  \n 11  was_mental_health_welfare_check  4834 non-null   uint8  \n 12  was_person_with_a_weapon         4834 non-null   uint8  \n 13  was_traffic_stop                 4834 non-null   uint8  \n 14  was_violent_crime_part_1         4834 non-null   uint8  \n 15  is_asian/pacific islander        4834 non-null   uint8  \n 16  is_black                         4834 non-null   uint8  \n 17  is_hispanic                      4834 non-null   uint8  \n 18  is_native american               4834 non-null   uint8  \n 19  is_unknown race                  4834 non-null   uint8  \n 20  is_white                         4834 non-null   uint8  \n 21  mntlill_drug or alcohol use      4834 non-null   uint8  \n 22  mntlill_no                       4834 non-null   uint8  \n 23  mntlill_unknown                  4834 non-null   uint8  \n 24  mntlill_yes                      4834 non-null   uint8  \n 25  rural                            4834 non-null   float64\n 26  suburban                         4834 non-null   float64\n 27  urban                            4834 non-null   float64\n 28  cod_lethal                       4834 non-null   int64  \n 29  unknown                          4834 non-null   uint8  \n 30  under 12                         4834 non-null   uint8  \n 31  12-17                            4834 non-null   uint8  \n 32  18-24                            4834 non-null   uint8  \n 33  25-34                            4834 non-null   uint8  \n 34  35-44                            4834 non-null   uint8  \n 35  45-54                            4834 non-null   uint8  \n 36  55-64                            4834 non-null   uint8  \n 37  65+                              4834 non-null   uint8  \ndtypes: float64(9), int64(2), uint8(27)\nmemory usage: 580.6 KB\n",
     "output_type": "stream"
    }
   ]
  },
  {
   "cell_type": "code",
   "metadata": {
    "tags": [],
    "deepnote_to_be_reexecuted": false,
    "source_hash": "b18318e7",
    "execution_start": 1621912332708,
    "execution_millis": 6,
    "cell_id": "00017-1fd0f1c7-cd24-4b1c-bbb9-c327a3b88995",
    "deepnote_cell_type": "code"
   },
   "source": "train2.columns",
   "execution_count": 19,
   "outputs": [
    {
     "output_type": "execute_result",
     "execution_count": 19,
     "data": {
      "text/plain": "Index(['age', 'body_camera', 'is_female', 'is_male', 'is_transgender',\n       'was_fleeing', 'was_not fleeing ', 'was_allegedly_armed', 'was_unarmed',\n       'was_vehicle', 'was_domestic_disturbance',\n       'was_mental_health_welfare_check', 'was_person_with_a_weapon',\n       'was_traffic_stop', 'was_violent_crime_part_1',\n       'is_asian/pacific islander', 'is_black', 'is_hispanic',\n       'is_native american', 'is_unknown race', 'is_white',\n       'mntlill_drug or alcohol use', 'mntlill_no', 'mntlill_unknown',\n       'mntlill_yes', 'rural', 'suburban', 'urban', 'cod_lethal', 'unknown',\n       'under 12', '12-17', '18-24', '25-34', '35-44', '45-54', '55-64',\n       '65+'],\n      dtype='object')"
     },
     "metadata": {}
    }
   ]
  },
  {
   "cell_type": "code",
   "metadata": {
    "tags": [],
    "deepnote_to_be_reexecuted": false,
    "source_hash": "c5522482",
    "execution_start": 1621912332711,
    "execution_millis": 13,
    "cell_id": "00018-18932d81-84ed-48a9-baba-536dd89519d4",
    "deepnote_cell_type": "code"
   },
   "source": "f_feature = select_kbest(train2, y_train, 15)\nf_feature",
   "execution_count": 20,
   "outputs": [
    {
     "output_type": "execute_result",
     "execution_count": 20,
     "data": {
      "text/plain": "['age',\n 'body_camera',\n 'is_female',\n 'was_fleeing',\n 'was_allegedly_armed',\n 'was_unarmed',\n 'was_domestic_disturbance',\n 'was_mental_health_welfare_check',\n 'was_person_with_a_weapon',\n 'was_traffic_stop',\n 'was_violent_crime_part_1',\n 'mntlill_drug or alcohol use',\n 'mntlill_no',\n 'mntlill_unknown',\n '55-64']"
     },
     "metadata": {}
    }
   ]
  },
  {
   "cell_type": "code",
   "metadata": {
    "tags": [],
    "deepnote_to_be_reexecuted": false,
    "source_hash": "ac440bf0",
    "execution_start": 1621912332770,
    "execution_millis": 13040,
    "cell_id": "00019-ea7896a9-0aec-43ce-841b-0080ffa25035",
    "deepnote_cell_type": "code"
   },
   "source": "rfe_list = rfe(train2, y_train, 15)",
   "execution_count": 21,
   "outputs": [
    {
     "name": "stderr",
     "text": "/shared-libs/python3.7/py/lib/python3.7/site-packages/sklearn/utils/validation.py:72: FutureWarning: Pass n_features_to_select=15 as keyword args. From version 1.0 (renaming of 0.25) passing these as positional arguments will result in an error\n  \"will result in an error\", FutureWarning)\n/shared-libs/python3.7/py/lib/python3.7/site-packages/sklearn/linear_model/_logistic.py:765: ConvergenceWarning: lbfgs failed to converge (status=1):\nSTOP: TOTAL NO. of ITERATIONS REACHED LIMIT.\n\nIncrease the number of iterations (max_iter) or scale the data as shown in:\n    https://scikit-learn.org/stable/modules/preprocessing.html\nPlease also refer to the documentation for alternative solver options:\n    https://scikit-learn.org/stable/modules/linear_model.html#logistic-regression\n  extra_warning_msg=_LOGISTIC_SOLVER_CONVERGENCE_MSG)\n/shared-libs/python3.7/py/lib/python3.7/site-packages/sklearn/linear_model/_logistic.py:765: ConvergenceWarning: lbfgs failed to converge (status=1):\nSTOP: TOTAL NO. of ITERATIONS REACHED LIMIT.\n\nIncrease the number of iterations (max_iter) or scale the data as shown in:\n    https://scikit-learn.org/stable/modules/preprocessing.html\nPlease also refer to the documentation for alternative solver options:\n    https://scikit-learn.org/stable/modules/linear_model.html#logistic-regression\n  extra_warning_msg=_LOGISTIC_SOLVER_CONVERGENCE_MSG)\n/shared-libs/python3.7/py/lib/python3.7/site-packages/sklearn/linear_model/_logistic.py:765: ConvergenceWarning: lbfgs failed to converge (status=1):\nSTOP: TOTAL NO. of ITERATIONS REACHED LIMIT.\n\nIncrease the number of iterations (max_iter) or scale the data as shown in:\n    https://scikit-learn.org/stable/modules/preprocessing.html\nPlease also refer to the documentation for alternative solver options:\n    https://scikit-learn.org/stable/modules/linear_model.html#logistic-regression\n  extra_warning_msg=_LOGISTIC_SOLVER_CONVERGENCE_MSG)\n/shared-libs/python3.7/py/lib/python3.7/site-packages/sklearn/linear_model/_logistic.py:765: ConvergenceWarning: lbfgs failed to converge (status=1):\nSTOP: TOTAL NO. of ITERATIONS REACHED LIMIT.\n\nIncrease the number of iterations (max_iter) or scale the data as shown in:\n    https://scikit-learn.org/stable/modules/preprocessing.html\nPlease also refer to the documentation for alternative solver options:\n    https://scikit-learn.org/stable/modules/linear_model.html#logistic-regression\n  extra_warning_msg=_LOGISTIC_SOLVER_CONVERGENCE_MSG)\n/shared-libs/python3.7/py/lib/python3.7/site-packages/sklearn/linear_model/_logistic.py:765: ConvergenceWarning: lbfgs failed to converge (status=1):\nSTOP: TOTAL NO. of ITERATIONS REACHED LIMIT.\n\nIncrease the number of iterations (max_iter) or scale the data as shown in:\n    https://scikit-learn.org/stable/modules/preprocessing.html\nPlease also refer to the documentation for alternative solver options:\n    https://scikit-learn.org/stable/modules/linear_model.html#logistic-regression\n  extra_warning_msg=_LOGISTIC_SOLVER_CONVERGENCE_MSG)\n/shared-libs/python3.7/py/lib/python3.7/site-packages/sklearn/linear_model/_logistic.py:765: ConvergenceWarning: lbfgs failed to converge (status=1):\nSTOP: TOTAL NO. of ITERATIONS REACHED LIMIT.\n\nIncrease the number of iterations (max_iter) or scale the data as shown in:\n    https://scikit-learn.org/stable/modules/preprocessing.html\nPlease also refer to the documentation for alternative solver options:\n    https://scikit-learn.org/stable/modules/linear_model.html#logistic-regression\n  extra_warning_msg=_LOGISTIC_SOLVER_CONVERGENCE_MSG)\n/shared-libs/python3.7/py/lib/python3.7/site-packages/sklearn/linear_model/_logistic.py:765: ConvergenceWarning: lbfgs failed to converge (status=1):\nSTOP: TOTAL NO. of ITERATIONS REACHED LIMIT.\n\nIncrease the number of iterations (max_iter) or scale the data as shown in:\n    https://scikit-learn.org/stable/modules/preprocessing.html\nPlease also refer to the documentation for alternative solver options:\n    https://scikit-learn.org/stable/modules/linear_model.html#logistic-regression\n  extra_warning_msg=_LOGISTIC_SOLVER_CONVERGENCE_MSG)\n/shared-libs/python3.7/py/lib/python3.7/site-packages/sklearn/linear_model/_logistic.py:765: ConvergenceWarning: lbfgs failed to converge (status=1):\nSTOP: TOTAL NO. of ITERATIONS REACHED LIMIT.\n\nIncrease the number of iterations (max_iter) or scale the data as shown in:\n    https://scikit-learn.org/stable/modules/preprocessing.html\nPlease also refer to the documentation for alternative solver options:\n    https://scikit-learn.org/stable/modules/linear_model.html#logistic-regression\n  extra_warning_msg=_LOGISTIC_SOLVER_CONVERGENCE_MSG)\n",
     "output_type": "stream"
    }
   ]
  },
  {
   "cell_type": "code",
   "metadata": {
    "tags": [],
    "deepnote_to_be_reexecuted": false,
    "source_hash": "adde19a5",
    "execution_start": 1621912345815,
    "execution_millis": 73,
    "cell_id": "00020-d8d739d8-0bd5-4d44-8827-11b681a2c777",
    "deepnote_cell_type": "code"
   },
   "source": "f_feature",
   "execution_count": 22,
   "outputs": [
    {
     "output_type": "execute_result",
     "execution_count": 22,
     "data": {
      "text/plain": "['age',\n 'body_camera',\n 'is_female',\n 'was_fleeing',\n 'was_allegedly_armed',\n 'was_unarmed',\n 'was_domestic_disturbance',\n 'was_mental_health_welfare_check',\n 'was_person_with_a_weapon',\n 'was_traffic_stop',\n 'was_violent_crime_part_1',\n 'mntlill_drug or alcohol use',\n 'mntlill_no',\n 'mntlill_unknown',\n '55-64']"
     },
     "metadata": {}
    }
   ]
  },
  {
   "cell_type": "code",
   "metadata": {
    "tags": [],
    "deepnote_to_be_reexecuted": false,
    "source_hash": "9d8423df",
    "execution_start": 1621912345884,
    "execution_millis": 22,
    "cell_id": "00021-0f7f8626-e6bb-4be6-93b6-6ed0bea04e80",
    "deepnote_cell_type": "code"
   },
   "source": "rfe_list",
   "execution_count": 23,
   "outputs": [
    {
     "output_type": "execute_result",
     "execution_count": 23,
     "data": {
      "text/plain": "['is_male',\n 'is_transgender',\n 'was_fleeing',\n 'was_allegedly_armed',\n 'was_unarmed',\n 'was_vehicle',\n 'was_traffic_stop',\n 'was_violent_crime_part_1',\n 'is_black',\n 'is_native american',\n 'is_white',\n 'mntlill_drug or alcohol use',\n 'mntlill_no',\n 'cod_lethal',\n 'under 12']"
     },
     "metadata": {}
    }
   ]
  },
  {
   "cell_type": "code",
   "metadata": {
    "tags": [],
    "deepnote_to_be_reexecuted": false,
    "source_hash": "75be0d0c",
    "execution_start": 1621912345899,
    "execution_millis": 324093,
    "cell_id": "00022-373fde5e-c306-4c66-89ca-d8031e9de8b3",
    "deepnote_cell_type": "code"
   },
   "source": "combo_feats = list(set(f_feature + rfe_list))",
   "execution_count": 24,
   "outputs": []
  },
  {
   "cell_type": "code",
   "metadata": {
    "tags": [],
    "deepnote_to_be_reexecuted": false,
    "source_hash": "d038553",
    "execution_start": 1621912345947,
    "execution_millis": 0,
    "cell_id": "00023-58b01ef5-78a8-4321-adfd-55275ed3a6c2",
    "deepnote_cell_type": "code"
   },
   "source": "len(combo_feats)",
   "execution_count": 25,
   "outputs": [
    {
     "output_type": "execute_result",
     "execution_count": 25,
     "data": {
      "text/plain": "23"
     },
     "metadata": {}
    }
   ]
  },
  {
   "cell_type": "code",
   "metadata": {
    "tags": [],
    "deepnote_to_be_reexecuted": false,
    "source_hash": "8d90ad63",
    "execution_start": 1621912345948,
    "execution_millis": 8,
    "cell_id": "00024-e836b7a6-98da-4edc-9dc9-87f56bc8db9e",
    "deepnote_cell_type": "code"
   },
   "source": "combo_feats",
   "execution_count": 26,
   "outputs": [
    {
     "output_type": "execute_result",
     "execution_count": 26,
     "data": {
      "text/plain": "['is_female',\n 'was_mental_health_welfare_check',\n 'body_camera',\n 'under 12',\n 'was_violent_crime_part_1',\n 'was_fleeing',\n 'is_native american',\n 'is_male',\n 'is_transgender',\n 'is_black',\n 'was_vehicle',\n 'cod_lethal',\n 'mntlill_drug or alcohol use',\n 'age',\n 'is_white',\n 'was_allegedly_armed',\n '55-64',\n 'mntlill_unknown',\n 'was_domestic_disturbance',\n 'was_traffic_stop',\n 'mntlill_no',\n 'was_unarmed',\n 'was_person_with_a_weapon']"
     },
     "metadata": {}
    }
   ]
  },
  {
   "cell_type": "markdown",
   "source": "# KNN\n## Train\n",
   "metadata": {
    "tags": [],
    "cell_id": "00026-260ef3b7-da2d-499f-985f-a0cf187398e6",
    "deepnote_cell_type": "markdown"
   }
  },
  {
   "cell_type": "code",
   "source": "df.alleged_threat_lvl.value_counts()",
   "metadata": {
    "tags": [],
    "cell_id": "00026-bc554847-7d76-4e00-b5e8-60564c9b13bc",
    "deepnote_to_be_reexecuted": false,
    "source_hash": "bb2235ce",
    "execution_start": 1621912491072,
    "execution_millis": 7,
    "deepnote_cell_type": "code"
   },
   "outputs": [
    {
     "output_type": "execute_result",
     "execution_count": 30,
     "data": {
      "text/plain": "0.0    4392\n1.0    4242\nName: alleged_threat_lvl, dtype: int64"
     },
     "metadata": {}
    }
   ],
   "execution_count": 30
  },
  {
   "cell_type": "code",
   "source": "(train.alleged_threat_lvl == 0).mean()",
   "metadata": {
    "tags": [],
    "cell_id": "00027-eeb97c54-321f-4c1f-97c8-27df1460a7fd",
    "deepnote_to_be_reexecuted": false,
    "source_hash": "988dc88d",
    "execution_start": 1621913220509,
    "execution_millis": 41,
    "deepnote_cell_type": "code"
   },
   "outputs": [
    {
     "output_type": "execute_result",
     "execution_count": 32,
     "data": {
      "text/plain": "0.5101365328920149"
     },
     "metadata": {}
    }
   ],
   "execution_count": 32
  },
  {
   "cell_type": "code",
   "source": "def get_metrics(mod, X, y):\n    \"\"\"\n    get_metrics returns the baseline accuracy score \n    along with the current model's accuracy score for comparison \n    along with a table of precision/recall/f1-score/support percentages of the model\n    \"\"\"\n    baseline_accuracy = (train.alleged_threat_lvl == 0).mean()\n    y_pred = mod.predict(X)\n    accuracy = mod.score(X, y)\n    conf = confusion_matrix(y, y_pred)\n    prfs = pd.DataFrame(precision_recall_fscore_support(y, y_pred), index=['precision', 'recall', 'f1-score', 'support'])\n    \n    print(f'''\n    BASELINE accuracy is: {baseline_accuracy:.2%}\n    The accuracy for our model is: {accuracy:.5%} \n    ''')\n    return prfs, conf",
   "metadata": {
    "tags": [],
    "cell_id": "00027-0dc3290c-92a3-4fcf-a4e5-5c9fd216bacf",
    "deepnote_to_be_reexecuted": false,
    "source_hash": "bbcd8d51",
    "execution_start": 1621913234897,
    "execution_millis": 1,
    "deepnote_cell_type": "code"
   },
   "outputs": [],
   "execution_count": 33
  },
  {
   "cell_type": "code",
   "source": "train2[f_feature]",
   "metadata": {
    "tags": [],
    "cell_id": "00028-39a7449e-4599-47ec-ae19-9babc5189f1a",
    "deepnote_to_be_reexecuted": false,
    "source_hash": "ada4e53",
    "execution_start": 1621912795389,
    "execution_millis": 148,
    "deepnote_cell_type": "code"
   },
   "outputs": [
    {
     "output_type": "execute_result",
     "execution_count": 31,
     "data": {
      "application/vnd.deepnote.dataframe.v2+json": {
       "row_count": 4834,
       "column_count": 15,
       "columns": [
        {
         "name": "age",
         "dtype": "int64",
         "stats": {
          "unique_count": 82,
          "nan_count": 0,
          "min": "0",
          "max": "107",
          "histogram": [
           {
            "bin_start": 0,
            "bin_end": 10.7,
            "count": 156
           },
           {
            "bin_start": 10.7,
            "bin_end": 21.4,
            "count": 431
           },
           {
            "bin_start": 21.4,
            "bin_end": 32.099999999999994,
            "count": 1594
           },
           {
            "bin_start": 32.099999999999994,
            "bin_end": 42.8,
            "count": 1239
           },
           {
            "bin_start": 42.8,
            "bin_end": 53.5,
            "count": 844
           },
           {
            "bin_start": 53.5,
            "bin_end": 64.19999999999999,
            "count": 410
           },
           {
            "bin_start": 64.19999999999999,
            "bin_end": 74.89999999999999,
            "count": 122
           },
           {
            "bin_start": 74.89999999999999,
            "bin_end": 85.6,
            "count": 33
           },
           {
            "bin_start": 85.6,
            "bin_end": 96.3,
            "count": 4
           },
           {
            "bin_start": 96.3,
            "bin_end": 107,
            "count": 1
           }
          ]
         }
        },
        {
         "name": "body_camera",
         "dtype": "float64",
         "stats": {
          "unique_count": 2,
          "nan_count": 0,
          "min": "0.0",
          "max": "1.0",
          "histogram": [
           {
            "bin_start": 0,
            "bin_end": 0.1,
            "count": 4480
           },
           {
            "bin_start": 0.1,
            "bin_end": 0.2,
            "count": 0
           },
           {
            "bin_start": 0.2,
            "bin_end": 0.30000000000000004,
            "count": 0
           },
           {
            "bin_start": 0.30000000000000004,
            "bin_end": 0.4,
            "count": 0
           },
           {
            "bin_start": 0.4,
            "bin_end": 0.5,
            "count": 0
           },
           {
            "bin_start": 0.5,
            "bin_end": 0.6000000000000001,
            "count": 0
           },
           {
            "bin_start": 0.6000000000000001,
            "bin_end": 0.7000000000000001,
            "count": 0
           },
           {
            "bin_start": 0.7000000000000001,
            "bin_end": 0.8,
            "count": 0
           },
           {
            "bin_start": 0.8,
            "bin_end": 0.9,
            "count": 0
           },
           {
            "bin_start": 0.9,
            "bin_end": 1,
            "count": 354
           }
          ]
         }
        },
        {
         "name": "is_female",
         "dtype": "uint8",
         "stats": {
          "unique_count": 2,
          "nan_count": 0,
          "min": "0",
          "max": "1",
          "histogram": [
           {
            "bin_start": 0,
            "bin_end": 0.1,
            "count": 4598
           },
           {
            "bin_start": 0.1,
            "bin_end": 0.2,
            "count": 0
           },
           {
            "bin_start": 0.2,
            "bin_end": 0.30000000000000004,
            "count": 0
           },
           {
            "bin_start": 0.30000000000000004,
            "bin_end": 0.4,
            "count": 0
           },
           {
            "bin_start": 0.4,
            "bin_end": 0.5,
            "count": 0
           },
           {
            "bin_start": 0.5,
            "bin_end": 0.6000000000000001,
            "count": 0
           },
           {
            "bin_start": 0.6000000000000001,
            "bin_end": 0.7000000000000001,
            "count": 0
           },
           {
            "bin_start": 0.7000000000000001,
            "bin_end": 0.8,
            "count": 0
           },
           {
            "bin_start": 0.8,
            "bin_end": 0.9,
            "count": 0
           },
           {
            "bin_start": 0.9,
            "bin_end": 1,
            "count": 236
           }
          ]
         }
        },
        {
         "name": "was_fleeing",
         "dtype": "float64",
         "stats": {
          "unique_count": 2,
          "nan_count": 0,
          "min": "0.0",
          "max": "1.0",
          "histogram": [
           {
            "bin_start": 0,
            "bin_end": 0.1,
            "count": 2235
           },
           {
            "bin_start": 0.1,
            "bin_end": 0.2,
            "count": 0
           },
           {
            "bin_start": 0.2,
            "bin_end": 0.30000000000000004,
            "count": 0
           },
           {
            "bin_start": 0.30000000000000004,
            "bin_end": 0.4,
            "count": 0
           },
           {
            "bin_start": 0.4,
            "bin_end": 0.5,
            "count": 0
           },
           {
            "bin_start": 0.5,
            "bin_end": 0.6000000000000001,
            "count": 0
           },
           {
            "bin_start": 0.6000000000000001,
            "bin_end": 0.7000000000000001,
            "count": 0
           },
           {
            "bin_start": 0.7000000000000001,
            "bin_end": 0.8,
            "count": 0
           },
           {
            "bin_start": 0.8,
            "bin_end": 0.9,
            "count": 0
           },
           {
            "bin_start": 0.9,
            "bin_end": 1,
            "count": 2599
           }
          ]
         }
        },
        {
         "name": "was_allegedly_armed",
         "dtype": "float64",
         "stats": {
          "unique_count": 2,
          "nan_count": 0,
          "min": "0.0",
          "max": "1.0",
          "histogram": [
           {
            "bin_start": 0,
            "bin_end": 0.1,
            "count": 1284
           },
           {
            "bin_start": 0.1,
            "bin_end": 0.2,
            "count": 0
           },
           {
            "bin_start": 0.2,
            "bin_end": 0.30000000000000004,
            "count": 0
           },
           {
            "bin_start": 0.30000000000000004,
            "bin_end": 0.4,
            "count": 0
           },
           {
            "bin_start": 0.4,
            "bin_end": 0.5,
            "count": 0
           },
           {
            "bin_start": 0.5,
            "bin_end": 0.6000000000000001,
            "count": 0
           },
           {
            "bin_start": 0.6000000000000001,
            "bin_end": 0.7000000000000001,
            "count": 0
           },
           {
            "bin_start": 0.7000000000000001,
            "bin_end": 0.8,
            "count": 0
           },
           {
            "bin_start": 0.8,
            "bin_end": 0.9,
            "count": 0
           },
           {
            "bin_start": 0.9,
            "bin_end": 1,
            "count": 3550
           }
          ]
         }
        },
        {
         "name": "was_unarmed",
         "dtype": "float64",
         "stats": {
          "unique_count": 2,
          "nan_count": 0,
          "min": "0.0",
          "max": "1.0",
          "histogram": [
           {
            "bin_start": 0,
            "bin_end": 0.1,
            "count": 4204
           },
           {
            "bin_start": 0.1,
            "bin_end": 0.2,
            "count": 0
           },
           {
            "bin_start": 0.2,
            "bin_end": 0.30000000000000004,
            "count": 0
           },
           {
            "bin_start": 0.30000000000000004,
            "bin_end": 0.4,
            "count": 0
           },
           {
            "bin_start": 0.4,
            "bin_end": 0.5,
            "count": 0
           },
           {
            "bin_start": 0.5,
            "bin_end": 0.6000000000000001,
            "count": 0
           },
           {
            "bin_start": 0.6000000000000001,
            "bin_end": 0.7000000000000001,
            "count": 0
           },
           {
            "bin_start": 0.7000000000000001,
            "bin_end": 0.8,
            "count": 0
           },
           {
            "bin_start": 0.8,
            "bin_end": 0.9,
            "count": 0
           },
           {
            "bin_start": 0.9,
            "bin_end": 1,
            "count": 630
           }
          ]
         }
        },
        {
         "name": "was_domestic_disturbance",
         "dtype": "uint8",
         "stats": {
          "unique_count": 2,
          "nan_count": 0,
          "min": "0",
          "max": "1",
          "histogram": [
           {
            "bin_start": 0,
            "bin_end": 0.1,
            "count": 4514
           },
           {
            "bin_start": 0.1,
            "bin_end": 0.2,
            "count": 0
           },
           {
            "bin_start": 0.2,
            "bin_end": 0.30000000000000004,
            "count": 0
           },
           {
            "bin_start": 0.30000000000000004,
            "bin_end": 0.4,
            "count": 0
           },
           {
            "bin_start": 0.4,
            "bin_end": 0.5,
            "count": 0
           },
           {
            "bin_start": 0.5,
            "bin_end": 0.6000000000000001,
            "count": 0
           },
           {
            "bin_start": 0.6000000000000001,
            "bin_end": 0.7000000000000001,
            "count": 0
           },
           {
            "bin_start": 0.7000000000000001,
            "bin_end": 0.8,
            "count": 0
           },
           {
            "bin_start": 0.8,
            "bin_end": 0.9,
            "count": 0
           },
           {
            "bin_start": 0.9,
            "bin_end": 1,
            "count": 320
           }
          ]
         }
        },
        {
         "name": "was_mental_health_welfare_check",
         "dtype": "uint8",
         "stats": {
          "unique_count": 2,
          "nan_count": 0,
          "min": "0",
          "max": "1",
          "histogram": [
           {
            "bin_start": 0,
            "bin_end": 0.1,
            "count": 4585
           },
           {
            "bin_start": 0.1,
            "bin_end": 0.2,
            "count": 0
           },
           {
            "bin_start": 0.2,
            "bin_end": 0.30000000000000004,
            "count": 0
           },
           {
            "bin_start": 0.30000000000000004,
            "bin_end": 0.4,
            "count": 0
           },
           {
            "bin_start": 0.4,
            "bin_end": 0.5,
            "count": 0
           },
           {
            "bin_start": 0.5,
            "bin_end": 0.6000000000000001,
            "count": 0
           },
           {
            "bin_start": 0.6000000000000001,
            "bin_end": 0.7000000000000001,
            "count": 0
           },
           {
            "bin_start": 0.7000000000000001,
            "bin_end": 0.8,
            "count": 0
           },
           {
            "bin_start": 0.8,
            "bin_end": 0.9,
            "count": 0
           },
           {
            "bin_start": 0.9,
            "bin_end": 1,
            "count": 249
           }
          ]
         }
        },
        {
         "name": "was_person_with_a_weapon",
         "dtype": "uint8",
         "stats": {
          "unique_count": 2,
          "nan_count": 0,
          "min": "0",
          "max": "1",
          "histogram": [
           {
            "bin_start": 0,
            "bin_end": 0.1,
            "count": 4664
           },
           {
            "bin_start": 0.1,
            "bin_end": 0.2,
            "count": 0
           },
           {
            "bin_start": 0.2,
            "bin_end": 0.30000000000000004,
            "count": 0
           },
           {
            "bin_start": 0.30000000000000004,
            "bin_end": 0.4,
            "count": 0
           },
           {
            "bin_start": 0.4,
            "bin_end": 0.5,
            "count": 0
           },
           {
            "bin_start": 0.5,
            "bin_end": 0.6000000000000001,
            "count": 0
           },
           {
            "bin_start": 0.6000000000000001,
            "bin_end": 0.7000000000000001,
            "count": 0
           },
           {
            "bin_start": 0.7000000000000001,
            "bin_end": 0.8,
            "count": 0
           },
           {
            "bin_start": 0.8,
            "bin_end": 0.9,
            "count": 0
           },
           {
            "bin_start": 0.9,
            "bin_end": 1,
            "count": 170
           }
          ]
         }
        },
        {
         "name": "was_traffic_stop",
         "dtype": "uint8",
         "stats": {
          "unique_count": 2,
          "nan_count": 0,
          "min": "0",
          "max": "1",
          "histogram": [
           {
            "bin_start": 0,
            "bin_end": 0.1,
            "count": 4558
           },
           {
            "bin_start": 0.1,
            "bin_end": 0.2,
            "count": 0
           },
           {
            "bin_start": 0.2,
            "bin_end": 0.30000000000000004,
            "count": 0
           },
           {
            "bin_start": 0.30000000000000004,
            "bin_end": 0.4,
            "count": 0
           },
           {
            "bin_start": 0.4,
            "bin_end": 0.5,
            "count": 0
           },
           {
            "bin_start": 0.5,
            "bin_end": 0.6000000000000001,
            "count": 0
           },
           {
            "bin_start": 0.6000000000000001,
            "bin_end": 0.7000000000000001,
            "count": 0
           },
           {
            "bin_start": 0.7000000000000001,
            "bin_end": 0.8,
            "count": 0
           },
           {
            "bin_start": 0.8,
            "bin_end": 0.9,
            "count": 0
           },
           {
            "bin_start": 0.9,
            "bin_end": 1,
            "count": 276
           }
          ]
         }
        },
        {
         "name": "was_violent_crime_part_1",
         "dtype": "uint8",
         "stats": {
          "unique_count": 2,
          "nan_count": 0,
          "min": "0",
          "max": "1",
          "histogram": [
           {
            "bin_start": 0,
            "bin_end": 0.1,
            "count": 1766
           },
           {
            "bin_start": 0.1,
            "bin_end": 0.2,
            "count": 0
           },
           {
            "bin_start": 0.2,
            "bin_end": 0.30000000000000004,
            "count": 0
           },
           {
            "bin_start": 0.30000000000000004,
            "bin_end": 0.4,
            "count": 0
           },
           {
            "bin_start": 0.4,
            "bin_end": 0.5,
            "count": 0
           },
           {
            "bin_start": 0.5,
            "bin_end": 0.6000000000000001,
            "count": 0
           },
           {
            "bin_start": 0.6000000000000001,
            "bin_end": 0.7000000000000001,
            "count": 0
           },
           {
            "bin_start": 0.7000000000000001,
            "bin_end": 0.8,
            "count": 0
           },
           {
            "bin_start": 0.8,
            "bin_end": 0.9,
            "count": 0
           },
           {
            "bin_start": 0.9,
            "bin_end": 1,
            "count": 3068
           }
          ]
         }
        },
        {
         "name": "mntlill_drug or alcohol use",
         "dtype": "uint8",
         "stats": {
          "unique_count": 2,
          "nan_count": 0,
          "min": "0",
          "max": "1",
          "histogram": [
           {
            "bin_start": 0,
            "bin_end": 0.1,
            "count": 4648
           },
           {
            "bin_start": 0.1,
            "bin_end": 0.2,
            "count": 0
           },
           {
            "bin_start": 0.2,
            "bin_end": 0.30000000000000004,
            "count": 0
           },
           {
            "bin_start": 0.30000000000000004,
            "bin_end": 0.4,
            "count": 0
           },
           {
            "bin_start": 0.4,
            "bin_end": 0.5,
            "count": 0
           },
           {
            "bin_start": 0.5,
            "bin_end": 0.6000000000000001,
            "count": 0
           },
           {
            "bin_start": 0.6000000000000001,
            "bin_end": 0.7000000000000001,
            "count": 0
           },
           {
            "bin_start": 0.7000000000000001,
            "bin_end": 0.8,
            "count": 0
           },
           {
            "bin_start": 0.8,
            "bin_end": 0.9,
            "count": 0
           },
           {
            "bin_start": 0.9,
            "bin_end": 1,
            "count": 186
           }
          ]
         }
        },
        {
         "name": "mntlill_no",
         "dtype": "uint8",
         "stats": {
          "unique_count": 2,
          "nan_count": 0,
          "min": "0",
          "max": "1",
          "histogram": [
           {
            "bin_start": 0,
            "bin_end": 0.1,
            "count": 1695
           },
           {
            "bin_start": 0.1,
            "bin_end": 0.2,
            "count": 0
           },
           {
            "bin_start": 0.2,
            "bin_end": 0.30000000000000004,
            "count": 0
           },
           {
            "bin_start": 0.30000000000000004,
            "bin_end": 0.4,
            "count": 0
           },
           {
            "bin_start": 0.4,
            "bin_end": 0.5,
            "count": 0
           },
           {
            "bin_start": 0.5,
            "bin_end": 0.6000000000000001,
            "count": 0
           },
           {
            "bin_start": 0.6000000000000001,
            "bin_end": 0.7000000000000001,
            "count": 0
           },
           {
            "bin_start": 0.7000000000000001,
            "bin_end": 0.8,
            "count": 0
           },
           {
            "bin_start": 0.8,
            "bin_end": 0.9,
            "count": 0
           },
           {
            "bin_start": 0.9,
            "bin_end": 1,
            "count": 3139
           }
          ]
         }
        },
        {
         "name": "mntlill_unknown",
         "dtype": "uint8",
         "stats": {
          "unique_count": 2,
          "nan_count": 0,
          "min": "0",
          "max": "1",
          "histogram": [
           {
            "bin_start": 0,
            "bin_end": 0.1,
            "count": 4229
           },
           {
            "bin_start": 0.1,
            "bin_end": 0.2,
            "count": 0
           },
           {
            "bin_start": 0.2,
            "bin_end": 0.30000000000000004,
            "count": 0
           },
           {
            "bin_start": 0.30000000000000004,
            "bin_end": 0.4,
            "count": 0
           },
           {
            "bin_start": 0.4,
            "bin_end": 0.5,
            "count": 0
           },
           {
            "bin_start": 0.5,
            "bin_end": 0.6000000000000001,
            "count": 0
           },
           {
            "bin_start": 0.6000000000000001,
            "bin_end": 0.7000000000000001,
            "count": 0
           },
           {
            "bin_start": 0.7000000000000001,
            "bin_end": 0.8,
            "count": 0
           },
           {
            "bin_start": 0.8,
            "bin_end": 0.9,
            "count": 0
           },
           {
            "bin_start": 0.9,
            "bin_end": 1,
            "count": 605
           }
          ]
         }
        },
        {
         "name": "55-64",
         "dtype": "uint8",
         "stats": {
          "unique_count": 2,
          "nan_count": 0,
          "min": "0",
          "max": "1",
          "histogram": [
           {
            "bin_start": 0,
            "bin_end": 0.1,
            "count": 4470
           },
           {
            "bin_start": 0.1,
            "bin_end": 0.2,
            "count": 0
           },
           {
            "bin_start": 0.2,
            "bin_end": 0.30000000000000004,
            "count": 0
           },
           {
            "bin_start": 0.30000000000000004,
            "bin_end": 0.4,
            "count": 0
           },
           {
            "bin_start": 0.4,
            "bin_end": 0.5,
            "count": 0
           },
           {
            "bin_start": 0.5,
            "bin_end": 0.6000000000000001,
            "count": 0
           },
           {
            "bin_start": 0.6000000000000001,
            "bin_end": 0.7000000000000001,
            "count": 0
           },
           {
            "bin_start": 0.7000000000000001,
            "bin_end": 0.8,
            "count": 0
           },
           {
            "bin_start": 0.8,
            "bin_end": 0.9,
            "count": 0
           },
           {
            "bin_start": 0.9,
            "bin_end": 1,
            "count": 364
           }
          ]
         }
        },
        {
         "name": "_deepnote_index_column",
         "dtype": "int64"
        }
       ],
       "rows_top": [
        {
         "age": 26,
         "body_camera": 0,
         "is_female": 0,
         "was_fleeing": 1,
         "was_allegedly_armed": 1,
         "was_unarmed": 0,
         "was_domestic_disturbance": 0,
         "was_mental_health_welfare_check": 0,
         "was_person_with_a_weapon": 0,
         "was_traffic_stop": 0,
         "was_violent_crime_part_1": 1,
         "mntlill_drug or alcohol use": 0,
         "mntlill_no": 1,
         "mntlill_unknown": 0,
         "55-64": 0,
         "_deepnote_index_column": 5595
        },
        {
         "age": 49,
         "body_camera": 0,
         "is_female": 0,
         "was_fleeing": 1,
         "was_allegedly_armed": 1,
         "was_unarmed": 0,
         "was_domestic_disturbance": 0,
         "was_mental_health_welfare_check": 0,
         "was_person_with_a_weapon": 0,
         "was_traffic_stop": 0,
         "was_violent_crime_part_1": 1,
         "mntlill_drug or alcohol use": 1,
         "mntlill_no": 0,
         "mntlill_unknown": 0,
         "55-64": 0,
         "_deepnote_index_column": 8091
        },
        {
         "age": 18,
         "body_camera": 0,
         "is_female": 0,
         "was_fleeing": 1,
         "was_allegedly_armed": 1,
         "was_unarmed": 0,
         "was_domestic_disturbance": 0,
         "was_mental_health_welfare_check": 0,
         "was_person_with_a_weapon": 0,
         "was_traffic_stop": 0,
         "was_violent_crime_part_1": 1,
         "mntlill_drug or alcohol use": 0,
         "mntlill_no": 0,
         "mntlill_unknown": 1,
         "55-64": 0,
         "_deepnote_index_column": 6372
        },
        {
         "age": 31,
         "body_camera": 0,
         "is_female": 0,
         "was_fleeing": 1,
         "was_allegedly_armed": 1,
         "was_unarmed": 0,
         "was_domestic_disturbance": 0,
         "was_mental_health_welfare_check": 0,
         "was_person_with_a_weapon": 0,
         "was_traffic_stop": 0,
         "was_violent_crime_part_1": 1,
         "mntlill_drug or alcohol use": 0,
         "mntlill_no": 0,
         "mntlill_unknown": 0,
         "55-64": 0,
         "_deepnote_index_column": 7886
        },
        {
         "age": 51,
         "body_camera": 1,
         "is_female": 0,
         "was_fleeing": 0,
         "was_allegedly_armed": 1,
         "was_unarmed": 0,
         "was_domestic_disturbance": 0,
         "was_mental_health_welfare_check": 1,
         "was_person_with_a_weapon": 0,
         "was_traffic_stop": 0,
         "was_violent_crime_part_1": 0,
         "mntlill_drug or alcohol use": 0,
         "mntlill_no": 0,
         "mntlill_unknown": 0,
         "55-64": 0,
         "_deepnote_index_column": 858
        },
        {
         "age": 75,
         "body_camera": 0,
         "is_female": 0,
         "was_fleeing": 1,
         "was_allegedly_armed": 1,
         "was_unarmed": 0,
         "was_domestic_disturbance": 0,
         "was_mental_health_welfare_check": 0,
         "was_person_with_a_weapon": 0,
         "was_traffic_stop": 0,
         "was_violent_crime_part_1": 1,
         "mntlill_drug or alcohol use": 0,
         "mntlill_no": 0,
         "mntlill_unknown": 1,
         "55-64": 0,
         "_deepnote_index_column": 7229
        },
        {
         "age": 0,
         "body_camera": 0,
         "is_female": 0,
         "was_fleeing": 1,
         "was_allegedly_armed": 1,
         "was_unarmed": 0,
         "was_domestic_disturbance": 0,
         "was_mental_health_welfare_check": 1,
         "was_person_with_a_weapon": 0,
         "was_traffic_stop": 0,
         "was_violent_crime_part_1": 0,
         "mntlill_drug or alcohol use": 1,
         "mntlill_no": 0,
         "mntlill_unknown": 0,
         "55-64": 0,
         "_deepnote_index_column": 3437
        },
        {
         "age": 23,
         "body_camera": 0,
         "is_female": 0,
         "was_fleeing": 1,
         "was_allegedly_armed": 1,
         "was_unarmed": 0,
         "was_domestic_disturbance": 0,
         "was_mental_health_welfare_check": 0,
         "was_person_with_a_weapon": 0,
         "was_traffic_stop": 0,
         "was_violent_crime_part_1": 1,
         "mntlill_drug or alcohol use": 0,
         "mntlill_no": 0,
         "mntlill_unknown": 0,
         "55-64": 0,
         "_deepnote_index_column": 7592
        },
        {
         "age": 33,
         "body_camera": 0,
         "is_female": 0,
         "was_fleeing": 1,
         "was_allegedly_armed": 1,
         "was_unarmed": 0,
         "was_domestic_disturbance": 0,
         "was_mental_health_welfare_check": 0,
         "was_person_with_a_weapon": 0,
         "was_traffic_stop": 0,
         "was_violent_crime_part_1": 1,
         "mntlill_drug or alcohol use": 0,
         "mntlill_no": 1,
         "mntlill_unknown": 0,
         "55-64": 0,
         "_deepnote_index_column": 7484
        },
        {
         "age": 43,
         "body_camera": 0,
         "is_female": 0,
         "was_fleeing": 0,
         "was_allegedly_armed": 1,
         "was_unarmed": 0,
         "was_domestic_disturbance": 0,
         "was_mental_health_welfare_check": 0,
         "was_person_with_a_weapon": 0,
         "was_traffic_stop": 0,
         "was_violent_crime_part_1": 1,
         "mntlill_drug or alcohol use": 0,
         "mntlill_no": 0,
         "mntlill_unknown": 0,
         "55-64": 0,
         "_deepnote_index_column": 5204
        },
        {
         "age": 24,
         "body_camera": 0,
         "is_female": 0,
         "was_fleeing": 1,
         "was_allegedly_armed": 1,
         "was_unarmed": 0,
         "was_domestic_disturbance": 0,
         "was_mental_health_welfare_check": 0,
         "was_person_with_a_weapon": 0,
         "was_traffic_stop": 1,
         "was_violent_crime_part_1": 0,
         "mntlill_drug or alcohol use": 0,
         "mntlill_no": 1,
         "mntlill_unknown": 0,
         "55-64": 0,
         "_deepnote_index_column": 2643
        },
        {
         "age": 48,
         "body_camera": 0,
         "is_female": 1,
         "was_fleeing": 1,
         "was_allegedly_armed": 1,
         "was_unarmed": 0,
         "was_domestic_disturbance": 0,
         "was_mental_health_welfare_check": 0,
         "was_person_with_a_weapon": 0,
         "was_traffic_stop": 0,
         "was_violent_crime_part_1": 1,
         "mntlill_drug or alcohol use": 0,
         "mntlill_no": 0,
         "mntlill_unknown": 0,
         "55-64": 0,
         "_deepnote_index_column": 7894
        },
        {
         "age": 52,
         "body_camera": 0,
         "is_female": 0,
         "was_fleeing": 0,
         "was_allegedly_armed": 1,
         "was_unarmed": 0,
         "was_domestic_disturbance": 0,
         "was_mental_health_welfare_check": 0,
         "was_person_with_a_weapon": 0,
         "was_traffic_stop": 0,
         "was_violent_crime_part_1": 1,
         "mntlill_drug or alcohol use": 0,
         "mntlill_no": 1,
         "mntlill_unknown": 0,
         "55-64": 0,
         "_deepnote_index_column": 6604
        },
        {
         "age": 47,
         "body_camera": 0,
         "is_female": 0,
         "was_fleeing": 1,
         "was_allegedly_armed": 0,
         "was_unarmed": 0,
         "was_domestic_disturbance": 0,
         "was_mental_health_welfare_check": 0,
         "was_person_with_a_weapon": 1,
         "was_traffic_stop": 0,
         "was_violent_crime_part_1": 0,
         "mntlill_drug or alcohol use": 0,
         "mntlill_no": 1,
         "mntlill_unknown": 0,
         "55-64": 0,
         "_deepnote_index_column": 1298
        },
        {
         "age": 26,
         "body_camera": 0,
         "is_female": 0,
         "was_fleeing": 0,
         "was_allegedly_armed": 1,
         "was_unarmed": 0,
         "was_domestic_disturbance": 0,
         "was_mental_health_welfare_check": 0,
         "was_person_with_a_weapon": 1,
         "was_traffic_stop": 0,
         "was_violent_crime_part_1": 0,
         "mntlill_drug or alcohol use": 0,
         "mntlill_no": 0,
         "mntlill_unknown": 0,
         "55-64": 0,
         "_deepnote_index_column": 63
        },
        {
         "age": 35,
         "body_camera": 0,
         "is_female": 0,
         "was_fleeing": 0,
         "was_allegedly_armed": 1,
         "was_unarmed": 0,
         "was_domestic_disturbance": 0,
         "was_mental_health_welfare_check": 0,
         "was_person_with_a_weapon": 0,
         "was_traffic_stop": 0,
         "was_violent_crime_part_1": 1,
         "mntlill_drug or alcohol use": 0,
         "mntlill_no": 0,
         "mntlill_unknown": 1,
         "55-64": 0,
         "_deepnote_index_column": 6073
        },
        {
         "age": 26,
         "body_camera": 0,
         "is_female": 0,
         "was_fleeing": 0,
         "was_allegedly_armed": 1,
         "was_unarmed": 0,
         "was_domestic_disturbance": 0,
         "was_mental_health_welfare_check": 0,
         "was_person_with_a_weapon": 0,
         "was_traffic_stop": 0,
         "was_violent_crime_part_1": 0,
         "mntlill_drug or alcohol use": 0,
         "mntlill_no": 1,
         "mntlill_unknown": 0,
         "55-64": 0,
         "_deepnote_index_column": 1060
        },
        {
         "age": 30,
         "body_camera": 0,
         "is_female": 0,
         "was_fleeing": 1,
         "was_allegedly_armed": 0,
         "was_unarmed": 0,
         "was_domestic_disturbance": 0,
         "was_mental_health_welfare_check": 0,
         "was_person_with_a_weapon": 0,
         "was_traffic_stop": 0,
         "was_violent_crime_part_1": 1,
         "mntlill_drug or alcohol use": 0,
         "mntlill_no": 1,
         "mntlill_unknown": 0,
         "55-64": 0,
         "_deepnote_index_column": 8787
        },
        {
         "age": 15,
         "body_camera": 0,
         "is_female": 0,
         "was_fleeing": 0,
         "was_allegedly_armed": 1,
         "was_unarmed": 0,
         "was_domestic_disturbance": 0,
         "was_mental_health_welfare_check": 0,
         "was_person_with_a_weapon": 0,
         "was_traffic_stop": 1,
         "was_violent_crime_part_1": 0,
         "mntlill_drug or alcohol use": 0,
         "mntlill_no": 1,
         "mntlill_unknown": 0,
         "55-64": 0,
         "_deepnote_index_column": 3002
        },
        {
         "age": 34,
         "body_camera": 1,
         "is_female": 0,
         "was_fleeing": 1,
         "was_allegedly_armed": 1,
         "was_unarmed": 0,
         "was_domestic_disturbance": 0,
         "was_mental_health_welfare_check": 0,
         "was_person_with_a_weapon": 0,
         "was_traffic_stop": 0,
         "was_violent_crime_part_1": 1,
         "mntlill_drug or alcohol use": 0,
         "mntlill_no": 0,
         "mntlill_unknown": 0,
         "55-64": 0,
         "_deepnote_index_column": 6610
        },
        {
         "age": 27,
         "body_camera": 0,
         "is_female": 1,
         "was_fleeing": 1,
         "was_allegedly_armed": 1,
         "was_unarmed": 0,
         "was_domestic_disturbance": 0,
         "was_mental_health_welfare_check": 0,
         "was_person_with_a_weapon": 0,
         "was_traffic_stop": 0,
         "was_violent_crime_part_1": 1,
         "mntlill_drug or alcohol use": 0,
         "mntlill_no": 1,
         "mntlill_unknown": 0,
         "55-64": 0,
         "_deepnote_index_column": 7740
        },
        {
         "age": 49,
         "body_camera": 0,
         "is_female": 0,
         "was_fleeing": 1,
         "was_allegedly_armed": 1,
         "was_unarmed": 0,
         "was_domestic_disturbance": 1,
         "was_mental_health_welfare_check": 0,
         "was_person_with_a_weapon": 0,
         "was_traffic_stop": 0,
         "was_violent_crime_part_1": 0,
         "mntlill_drug or alcohol use": 0,
         "mntlill_no": 1,
         "mntlill_unknown": 0,
         "55-64": 0,
         "_deepnote_index_column": 2902
        },
        {
         "age": 24,
         "body_camera": 0,
         "is_female": 0,
         "was_fleeing": 0,
         "was_allegedly_armed": 1,
         "was_unarmed": 0,
         "was_domestic_disturbance": 1,
         "was_mental_health_welfare_check": 0,
         "was_person_with_a_weapon": 0,
         "was_traffic_stop": 0,
         "was_violent_crime_part_1": 0,
         "mntlill_drug or alcohol use": 0,
         "mntlill_no": 1,
         "mntlill_unknown": 0,
         "55-64": 0,
         "_deepnote_index_column": 2330
        },
        {
         "age": 28,
         "body_camera": 0,
         "is_female": 0,
         "was_fleeing": 0,
         "was_allegedly_armed": 1,
         "was_unarmed": 0,
         "was_domestic_disturbance": 0,
         "was_mental_health_welfare_check": 0,
         "was_person_with_a_weapon": 0,
         "was_traffic_stop": 0,
         "was_violent_crime_part_1": 0,
         "mntlill_drug or alcohol use": 0,
         "mntlill_no": 0,
         "mntlill_unknown": 0,
         "55-64": 0,
         "_deepnote_index_column": 3535
        },
        {
         "age": 30,
         "body_camera": 0,
         "is_female": 0,
         "was_fleeing": 1,
         "was_allegedly_armed": 1,
         "was_unarmed": 0,
         "was_domestic_disturbance": 0,
         "was_mental_health_welfare_check": 0,
         "was_person_with_a_weapon": 0,
         "was_traffic_stop": 0,
         "was_violent_crime_part_1": 1,
         "mntlill_drug or alcohol use": 0,
         "mntlill_no": 1,
         "mntlill_unknown": 0,
         "55-64": 0,
         "_deepnote_index_column": 8742
        },
        {
         "age": 31,
         "body_camera": 0,
         "is_female": 0,
         "was_fleeing": 1,
         "was_allegedly_armed": 1,
         "was_unarmed": 0,
         "was_domestic_disturbance": 1,
         "was_mental_health_welfare_check": 0,
         "was_person_with_a_weapon": 0,
         "was_traffic_stop": 0,
         "was_violent_crime_part_1": 0,
         "mntlill_drug or alcohol use": 0,
         "mntlill_no": 1,
         "mntlill_unknown": 0,
         "55-64": 0,
         "_deepnote_index_column": 1586
        },
        {
         "age": 51,
         "body_camera": 0,
         "is_female": 0,
         "was_fleeing": 0,
         "was_allegedly_armed": 1,
         "was_unarmed": 0,
         "was_domestic_disturbance": 0,
         "was_mental_health_welfare_check": 0,
         "was_person_with_a_weapon": 0,
         "was_traffic_stop": 0,
         "was_violent_crime_part_1": 1,
         "mntlill_drug or alcohol use": 0,
         "mntlill_no": 1,
         "mntlill_unknown": 0,
         "55-64": 0,
         "_deepnote_index_column": 2426
        },
        {
         "age": 39,
         "body_camera": 0,
         "is_female": 0,
         "was_fleeing": 0,
         "was_allegedly_armed": 1,
         "was_unarmed": 0,
         "was_domestic_disturbance": 0,
         "was_mental_health_welfare_check": 0,
         "was_person_with_a_weapon": 0,
         "was_traffic_stop": 0,
         "was_violent_crime_part_1": 0,
         "mntlill_drug or alcohol use": 0,
         "mntlill_no": 1,
         "mntlill_unknown": 0,
         "55-64": 0,
         "_deepnote_index_column": 2225
        },
        {
         "age": 45,
         "body_camera": 1,
         "is_female": 0,
         "was_fleeing": 0,
         "was_allegedly_armed": 0,
         "was_unarmed": 0,
         "was_domestic_disturbance": 0,
         "was_mental_health_welfare_check": 0,
         "was_person_with_a_weapon": 0,
         "was_traffic_stop": 0,
         "was_violent_crime_part_1": 0,
         "mntlill_drug or alcohol use": 0,
         "mntlill_no": 0,
         "mntlill_unknown": 1,
         "55-64": 0,
         "_deepnote_index_column": 1708
        },
        {
         "age": 65,
         "body_camera": 0,
         "is_female": 0,
         "was_fleeing": 0,
         "was_allegedly_armed": 1,
         "was_unarmed": 0,
         "was_domestic_disturbance": 1,
         "was_mental_health_welfare_check": 0,
         "was_person_with_a_weapon": 0,
         "was_traffic_stop": 0,
         "was_violent_crime_part_1": 0,
         "mntlill_drug or alcohol use": 0,
         "mntlill_no": 1,
         "mntlill_unknown": 0,
         "55-64": 0,
         "_deepnote_index_column": 3191
        },
        {
         "age": 17,
         "body_camera": 0,
         "is_female": 0,
         "was_fleeing": 0,
         "was_allegedly_armed": 1,
         "was_unarmed": 0,
         "was_domestic_disturbance": 0,
         "was_mental_health_welfare_check": 0,
         "was_person_with_a_weapon": 0,
         "was_traffic_stop": 0,
         "was_violent_crime_part_1": 1,
         "mntlill_drug or alcohol use": 0,
         "mntlill_no": 1,
         "mntlill_unknown": 0,
         "55-64": 0,
         "_deepnote_index_column": 6927
        },
        {
         "age": 25,
         "body_camera": 0,
         "is_female": 0,
         "was_fleeing": 0,
         "was_allegedly_armed": 0,
         "was_unarmed": 1,
         "was_domestic_disturbance": 0,
         "was_mental_health_welfare_check": 0,
         "was_person_with_a_weapon": 0,
         "was_traffic_stop": 0,
         "was_violent_crime_part_1": 1,
         "mntlill_drug or alcohol use": 0,
         "mntlill_no": 0,
         "mntlill_unknown": 0,
         "55-64": 0,
         "_deepnote_index_column": 5657
        },
        {
         "age": 22,
         "body_camera": 0,
         "is_female": 0,
         "was_fleeing": 1,
         "was_allegedly_armed": 0,
         "was_unarmed": 1,
         "was_domestic_disturbance": 0,
         "was_mental_health_welfare_check": 0,
         "was_person_with_a_weapon": 0,
         "was_traffic_stop": 0,
         "was_violent_crime_part_1": 1,
         "mntlill_drug or alcohol use": 0,
         "mntlill_no": 0,
         "mntlill_unknown": 1,
         "55-64": 0,
         "_deepnote_index_column": 8727
        }
       ],
       "rows_bottom": [
        {
         "age": 28,
         "body_camera": 0,
         "is_female": 0,
         "was_fleeing": 0,
         "was_allegedly_armed": 1,
         "was_unarmed": 0,
         "was_domestic_disturbance": 0,
         "was_mental_health_welfare_check": 0,
         "was_person_with_a_weapon": 0,
         "was_traffic_stop": 0,
         "was_violent_crime_part_1": 1,
         "mntlill_drug or alcohol use": 0,
         "mntlill_no": 1,
         "mntlill_unknown": 0,
         "55-64": 0,
         "_deepnote_index_column": 2152
        },
        {
         "age": 25,
         "body_camera": 1,
         "is_female": 0,
         "was_fleeing": 0,
         "was_allegedly_armed": 1,
         "was_unarmed": 0,
         "was_domestic_disturbance": 0,
         "was_mental_health_welfare_check": 0,
         "was_person_with_a_weapon": 0,
         "was_traffic_stop": 0,
         "was_violent_crime_part_1": 1,
         "mntlill_drug or alcohol use": 0,
         "mntlill_no": 0,
         "mntlill_unknown": 0,
         "55-64": 0,
         "_deepnote_index_column": 6661
        },
        {
         "age": 55,
         "body_camera": 0,
         "is_female": 0,
         "was_fleeing": 1,
         "was_allegedly_armed": 0,
         "was_unarmed": 0,
         "was_domestic_disturbance": 0,
         "was_mental_health_welfare_check": 0,
         "was_person_with_a_weapon": 0,
         "was_traffic_stop": 0,
         "was_violent_crime_part_1": 1,
         "mntlill_drug or alcohol use": 0,
         "mntlill_no": 1,
         "mntlill_unknown": 0,
         "55-64": 1,
         "_deepnote_index_column": 5875
        },
        {
         "age": 40,
         "body_camera": 0,
         "is_female": 0,
         "was_fleeing": 0,
         "was_allegedly_armed": 0,
         "was_unarmed": 1,
         "was_domestic_disturbance": 1,
         "was_mental_health_welfare_check": 0,
         "was_person_with_a_weapon": 0,
         "was_traffic_stop": 0,
         "was_violent_crime_part_1": 0,
         "mntlill_drug or alcohol use": 1,
         "mntlill_no": 0,
         "mntlill_unknown": 0,
         "55-64": 0,
         "_deepnote_index_column": 4064
        },
        {
         "age": 35,
         "body_camera": 0,
         "is_female": 0,
         "was_fleeing": 0,
         "was_allegedly_armed": 1,
         "was_unarmed": 0,
         "was_domestic_disturbance": 0,
         "was_mental_health_welfare_check": 0,
         "was_person_with_a_weapon": 0,
         "was_traffic_stop": 0,
         "was_violent_crime_part_1": 0,
         "mntlill_drug or alcohol use": 0,
         "mntlill_no": 1,
         "mntlill_unknown": 0,
         "55-64": 0,
         "_deepnote_index_column": 3914
        },
        {
         "age": 43,
         "body_camera": 0,
         "is_female": 0,
         "was_fleeing": 0,
         "was_allegedly_armed": 1,
         "was_unarmed": 0,
         "was_domestic_disturbance": 0,
         "was_mental_health_welfare_check": 0,
         "was_person_with_a_weapon": 0,
         "was_traffic_stop": 0,
         "was_violent_crime_part_1": 0,
         "mntlill_drug or alcohol use": 0,
         "mntlill_no": 1,
         "mntlill_unknown": 0,
         "55-64": 0,
         "_deepnote_index_column": 2049
        },
        {
         "age": 55,
         "body_camera": 0,
         "is_female": 0,
         "was_fleeing": 1,
         "was_allegedly_armed": 1,
         "was_unarmed": 0,
         "was_domestic_disturbance": 1,
         "was_mental_health_welfare_check": 0,
         "was_person_with_a_weapon": 0,
         "was_traffic_stop": 0,
         "was_violent_crime_part_1": 0,
         "mntlill_drug or alcohol use": 0,
         "mntlill_no": 0,
         "mntlill_unknown": 0,
         "55-64": 1,
         "_deepnote_index_column": 3145
        },
        {
         "age": 29,
         "body_camera": 0,
         "is_female": 0,
         "was_fleeing": 1,
         "was_allegedly_armed": 1,
         "was_unarmed": 0,
         "was_domestic_disturbance": 0,
         "was_mental_health_welfare_check": 0,
         "was_person_with_a_weapon": 0,
         "was_traffic_stop": 0,
         "was_violent_crime_part_1": 1,
         "mntlill_drug or alcohol use": 0,
         "mntlill_no": 1,
         "mntlill_unknown": 0,
         "55-64": 0,
         "_deepnote_index_column": 5674
        },
        {
         "age": 14,
         "body_camera": 1,
         "is_female": 0,
         "was_fleeing": 1,
         "was_allegedly_armed": 1,
         "was_unarmed": 0,
         "was_domestic_disturbance": 0,
         "was_mental_health_welfare_check": 0,
         "was_person_with_a_weapon": 0,
         "was_traffic_stop": 0,
         "was_violent_crime_part_1": 1,
         "mntlill_drug or alcohol use": 0,
         "mntlill_no": 1,
         "mntlill_unknown": 0,
         "55-64": 0,
         "_deepnote_index_column": 5247
        },
        {
         "age": 43,
         "body_camera": 0,
         "is_female": 0,
         "was_fleeing": 1,
         "was_allegedly_armed": 1,
         "was_unarmed": 0,
         "was_domestic_disturbance": 0,
         "was_mental_health_welfare_check": 0,
         "was_person_with_a_weapon": 0,
         "was_traffic_stop": 0,
         "was_violent_crime_part_1": 1,
         "mntlill_drug or alcohol use": 0,
         "mntlill_no": 0,
         "mntlill_unknown": 0,
         "55-64": 0,
         "_deepnote_index_column": 319
        },
        {
         "age": 30,
         "body_camera": 0,
         "is_female": 0,
         "was_fleeing": 0,
         "was_allegedly_armed": 0,
         "was_unarmed": 1,
         "was_domestic_disturbance": 0,
         "was_mental_health_welfare_check": 0,
         "was_person_with_a_weapon": 0,
         "was_traffic_stop": 0,
         "was_violent_crime_part_1": 1,
         "mntlill_drug or alcohol use": 0,
         "mntlill_no": 0,
         "mntlill_unknown": 1,
         "55-64": 0,
         "_deepnote_index_column": 5501
        },
        {
         "age": 34,
         "body_camera": 0,
         "is_female": 0,
         "was_fleeing": 1,
         "was_allegedly_armed": 0,
         "was_unarmed": 1,
         "was_domestic_disturbance": 0,
         "was_mental_health_welfare_check": 0,
         "was_person_with_a_weapon": 0,
         "was_traffic_stop": 0,
         "was_violent_crime_part_1": 1,
         "mntlill_drug or alcohol use": 0,
         "mntlill_no": 1,
         "mntlill_unknown": 0,
         "55-64": 0,
         "_deepnote_index_column": 7491
        },
        {
         "age": 28,
         "body_camera": 0,
         "is_female": 0,
         "was_fleeing": 0,
         "was_allegedly_armed": 1,
         "was_unarmed": 0,
         "was_domestic_disturbance": 0,
         "was_mental_health_welfare_check": 0,
         "was_person_with_a_weapon": 0,
         "was_traffic_stop": 1,
         "was_violent_crime_part_1": 0,
         "mntlill_drug or alcohol use": 0,
         "mntlill_no": 1,
         "mntlill_unknown": 0,
         "55-64": 0,
         "_deepnote_index_column": 2294
        },
        {
         "age": 29,
         "body_camera": 0,
         "is_female": 0,
         "was_fleeing": 0,
         "was_allegedly_armed": 1,
         "was_unarmed": 0,
         "was_domestic_disturbance": 0,
         "was_mental_health_welfare_check": 0,
         "was_person_with_a_weapon": 0,
         "was_traffic_stop": 0,
         "was_violent_crime_part_1": 1,
         "mntlill_drug or alcohol use": 0,
         "mntlill_no": 0,
         "mntlill_unknown": 0,
         "55-64": 0,
         "_deepnote_index_column": 5572
        },
        {
         "age": 48,
         "body_camera": 0,
         "is_female": 0,
         "was_fleeing": 0,
         "was_allegedly_armed": 1,
         "was_unarmed": 0,
         "was_domestic_disturbance": 0,
         "was_mental_health_welfare_check": 0,
         "was_person_with_a_weapon": 0,
         "was_traffic_stop": 0,
         "was_violent_crime_part_1": 1,
         "mntlill_drug or alcohol use": 0,
         "mntlill_no": 1,
         "mntlill_unknown": 0,
         "55-64": 0,
         "_deepnote_index_column": 734
        },
        {
         "age": 67,
         "body_camera": 0,
         "is_female": 0,
         "was_fleeing": 0,
         "was_allegedly_armed": 1,
         "was_unarmed": 0,
         "was_domestic_disturbance": 0,
         "was_mental_health_welfare_check": 0,
         "was_person_with_a_weapon": 0,
         "was_traffic_stop": 0,
         "was_violent_crime_part_1": 1,
         "mntlill_drug or alcohol use": 0,
         "mntlill_no": 0,
         "mntlill_unknown": 1,
         "55-64": 0,
         "_deepnote_index_column": 4009
        },
        {
         "age": 32,
         "body_camera": 0,
         "is_female": 0,
         "was_fleeing": 1,
         "was_allegedly_armed": 0,
         "was_unarmed": 1,
         "was_domestic_disturbance": 0,
         "was_mental_health_welfare_check": 0,
         "was_person_with_a_weapon": 0,
         "was_traffic_stop": 0,
         "was_violent_crime_part_1": 1,
         "mntlill_drug or alcohol use": 0,
         "mntlill_no": 1,
         "mntlill_unknown": 0,
         "55-64": 0,
         "_deepnote_index_column": 5294
        },
        {
         "age": 17,
         "body_camera": 0,
         "is_female": 0,
         "was_fleeing": 0,
         "was_allegedly_armed": 1,
         "was_unarmed": 0,
         "was_domestic_disturbance": 0,
         "was_mental_health_welfare_check": 0,
         "was_person_with_a_weapon": 0,
         "was_traffic_stop": 1,
         "was_violent_crime_part_1": 0,
         "mntlill_drug or alcohol use": 0,
         "mntlill_no": 1,
         "mntlill_unknown": 0,
         "55-64": 0,
         "_deepnote_index_column": 3720
        },
        {
         "age": 40,
         "body_camera": 0,
         "is_female": 0,
         "was_fleeing": 1,
         "was_allegedly_armed": 1,
         "was_unarmed": 0,
         "was_domestic_disturbance": 0,
         "was_mental_health_welfare_check": 0,
         "was_person_with_a_weapon": 0,
         "was_traffic_stop": 0,
         "was_violent_crime_part_1": 1,
         "mntlill_drug or alcohol use": 1,
         "mntlill_no": 0,
         "mntlill_unknown": 0,
         "55-64": 0,
         "_deepnote_index_column": 8549
        },
        {
         "age": 22,
         "body_camera": 0,
         "is_female": 0,
         "was_fleeing": 1,
         "was_allegedly_armed": 1,
         "was_unarmed": 0,
         "was_domestic_disturbance": 0,
         "was_mental_health_welfare_check": 0,
         "was_person_with_a_weapon": 0,
         "was_traffic_stop": 0,
         "was_violent_crime_part_1": 1,
         "mntlill_drug or alcohol use": 0,
         "mntlill_no": 0,
         "mntlill_unknown": 1,
         "55-64": 0,
         "_deepnote_index_column": 8131
        },
        {
         "age": 32,
         "body_camera": 0,
         "is_female": 0,
         "was_fleeing": 1,
         "was_allegedly_armed": 1,
         "was_unarmed": 0,
         "was_domestic_disturbance": 0,
         "was_mental_health_welfare_check": 0,
         "was_person_with_a_weapon": 0,
         "was_traffic_stop": 0,
         "was_violent_crime_part_1": 1,
         "mntlill_drug or alcohol use": 0,
         "mntlill_no": 1,
         "mntlill_unknown": 0,
         "55-64": 0,
         "_deepnote_index_column": 1824
        },
        {
         "age": 0,
         "body_camera": 0,
         "is_female": 0,
         "was_fleeing": 0,
         "was_allegedly_armed": 1,
         "was_unarmed": 0,
         "was_domestic_disturbance": 0,
         "was_mental_health_welfare_check": 0,
         "was_person_with_a_weapon": 1,
         "was_traffic_stop": 0,
         "was_violent_crime_part_1": 0,
         "mntlill_drug or alcohol use": 0,
         "mntlill_no": 0,
         "mntlill_unknown": 0,
         "55-64": 0,
         "_deepnote_index_column": 3774
        },
        {
         "age": 33,
         "body_camera": 1,
         "is_female": 0,
         "was_fleeing": 0,
         "was_allegedly_armed": 1,
         "was_unarmed": 0,
         "was_domestic_disturbance": 1,
         "was_mental_health_welfare_check": 0,
         "was_person_with_a_weapon": 0,
         "was_traffic_stop": 0,
         "was_violent_crime_part_1": 0,
         "mntlill_drug or alcohol use": 1,
         "mntlill_no": 0,
         "mntlill_unknown": 0,
         "55-64": 0,
         "_deepnote_index_column": 3832
        },
        {
         "age": 25,
         "body_camera": 0,
         "is_female": 0,
         "was_fleeing": 1,
         "was_allegedly_armed": 1,
         "was_unarmed": 0,
         "was_domestic_disturbance": 0,
         "was_mental_health_welfare_check": 0,
         "was_person_with_a_weapon": 0,
         "was_traffic_stop": 0,
         "was_violent_crime_part_1": 1,
         "mntlill_drug or alcohol use": 0,
         "mntlill_no": 1,
         "mntlill_unknown": 0,
         "55-64": 0,
         "_deepnote_index_column": 60
        },
        {
         "age": 66,
         "body_camera": 0,
         "is_female": 0,
         "was_fleeing": 0,
         "was_allegedly_armed": 1,
         "was_unarmed": 0,
         "was_domestic_disturbance": 0,
         "was_mental_health_welfare_check": 0,
         "was_person_with_a_weapon": 0,
         "was_traffic_stop": 0,
         "was_violent_crime_part_1": 1,
         "mntlill_drug or alcohol use": 0,
         "mntlill_no": 1,
         "mntlill_unknown": 0,
         "55-64": 0,
         "_deepnote_index_column": 508
        },
        {
         "age": 55,
         "body_camera": 0,
         "is_female": 1,
         "was_fleeing": 0,
         "was_allegedly_armed": 1,
         "was_unarmed": 0,
         "was_domestic_disturbance": 0,
         "was_mental_health_welfare_check": 0,
         "was_person_with_a_weapon": 0,
         "was_traffic_stop": 0,
         "was_violent_crime_part_1": 1,
         "mntlill_drug or alcohol use": 0,
         "mntlill_no": 0,
         "mntlill_unknown": 0,
         "55-64": 1,
         "_deepnote_index_column": 6185
        },
        {
         "age": 31,
         "body_camera": 0,
         "is_female": 0,
         "was_fleeing": 1,
         "was_allegedly_armed": 1,
         "was_unarmed": 0,
         "was_domestic_disturbance": 0,
         "was_mental_health_welfare_check": 0,
         "was_person_with_a_weapon": 0,
         "was_traffic_stop": 0,
         "was_violent_crime_part_1": 1,
         "mntlill_drug or alcohol use": 0,
         "mntlill_no": 1,
         "mntlill_unknown": 0,
         "55-64": 0,
         "_deepnote_index_column": 960
        },
        {
         "age": 38,
         "body_camera": 0,
         "is_female": 0,
         "was_fleeing": 1,
         "was_allegedly_armed": 1,
         "was_unarmed": 0,
         "was_domestic_disturbance": 0,
         "was_mental_health_welfare_check": 0,
         "was_person_with_a_weapon": 0,
         "was_traffic_stop": 0,
         "was_violent_crime_part_1": 1,
         "mntlill_drug or alcohol use": 0,
         "mntlill_no": 1,
         "mntlill_unknown": 0,
         "55-64": 0,
         "_deepnote_index_column": 5579
        },
        {
         "age": 37,
         "body_camera": 0,
         "is_female": 0,
         "was_fleeing": 0,
         "was_allegedly_armed": 0,
         "was_unarmed": 0,
         "was_domestic_disturbance": 1,
         "was_mental_health_welfare_check": 0,
         "was_person_with_a_weapon": 0,
         "was_traffic_stop": 0,
         "was_violent_crime_part_1": 0,
         "mntlill_drug or alcohol use": 0,
         "mntlill_no": 0,
         "mntlill_unknown": 1,
         "55-64": 0,
         "_deepnote_index_column": 707
        },
        {
         "age": 45,
         "body_camera": 1,
         "is_female": 0,
         "was_fleeing": 0,
         "was_allegedly_armed": 1,
         "was_unarmed": 0,
         "was_domestic_disturbance": 0,
         "was_mental_health_welfare_check": 0,
         "was_person_with_a_weapon": 0,
         "was_traffic_stop": 0,
         "was_violent_crime_part_1": 1,
         "mntlill_drug or alcohol use": 0,
         "mntlill_no": 0,
         "mntlill_unknown": 0,
         "55-64": 0,
         "_deepnote_index_column": 5555
        },
        {
         "age": 25,
         "body_camera": 0,
         "is_female": 0,
         "was_fleeing": 0,
         "was_allegedly_armed": 1,
         "was_unarmed": 0,
         "was_domestic_disturbance": 0,
         "was_mental_health_welfare_check": 0,
         "was_person_with_a_weapon": 1,
         "was_traffic_stop": 0,
         "was_violent_crime_part_1": 0,
         "mntlill_drug or alcohol use": 0,
         "mntlill_no": 0,
         "mntlill_unknown": 1,
         "55-64": 0,
         "_deepnote_index_column": 4419
        },
        {
         "age": 39,
         "body_camera": 0,
         "is_female": 0,
         "was_fleeing": 0,
         "was_allegedly_armed": 1,
         "was_unarmed": 0,
         "was_domestic_disturbance": 0,
         "was_mental_health_welfare_check": 0,
         "was_person_with_a_weapon": 0,
         "was_traffic_stop": 0,
         "was_violent_crime_part_1": 0,
         "mntlill_drug or alcohol use": 0,
         "mntlill_no": 1,
         "mntlill_unknown": 0,
         "55-64": 0,
         "_deepnote_index_column": 1709
        },
        {
         "age": 50,
         "body_camera": 0,
         "is_female": 1,
         "was_fleeing": 0,
         "was_allegedly_armed": 1,
         "was_unarmed": 0,
         "was_domestic_disturbance": 0,
         "was_mental_health_welfare_check": 0,
         "was_person_with_a_weapon": 0,
         "was_traffic_stop": 0,
         "was_violent_crime_part_1": 1,
         "mntlill_drug or alcohol use": 0,
         "mntlill_no": 0,
         "mntlill_unknown": 0,
         "55-64": 0,
         "_deepnote_index_column": 5633
        }
       ]
      },
      "text/plain": "      age  body_camera  is_female  was_fleeing  was_allegedly_armed  \\\n5595   26          0.0          0          1.0                  1.0   \n8091   49          0.0          0          1.0                  1.0   \n6372   18          0.0          0          1.0                  1.0   \n7886   31          0.0          0          1.0                  1.0   \n858    51          1.0          0          0.0                  1.0   \n...   ...          ...        ...          ...                  ...   \n707    37          0.0          0          0.0                  0.0   \n5555   45          1.0          0          0.0                  1.0   \n4419   25          0.0          0          0.0                  1.0   \n1709   39          0.0          0          0.0                  1.0   \n5633   50          0.0          1          0.0                  1.0   \n\n      was_unarmed  was_domestic_disturbance  was_mental_health_welfare_check  \\\n5595          0.0                         0                                0   \n8091          0.0                         0                                0   \n6372          0.0                         0                                0   \n7886          0.0                         0                                0   \n858           0.0                         0                                1   \n...           ...                       ...                              ...   \n707           0.0                         1                                0   \n5555          0.0                         0                                0   \n4419          0.0                         0                                0   \n1709          0.0                         0                                0   \n5633          0.0                         0                                0   \n\n      was_person_with_a_weapon  was_traffic_stop  was_violent_crime_part_1  \\\n5595                         0                 0                         1   \n8091                         0                 0                         1   \n6372                         0                 0                         1   \n7886                         0                 0                         1   \n858                          0                 0                         0   \n...                        ...               ...                       ...   \n707                          0                 0                         0   \n5555                         0                 0                         1   \n4419                         1                 0                         0   \n1709                         0                 0                         0   \n5633                         0                 0                         1   \n\n      mntlill_drug or alcohol use  mntlill_no  mntlill_unknown  55-64  \n5595                            0           1                0      0  \n8091                            1           0                0      0  \n6372                            0           0                1      0  \n7886                            0           0                0      0  \n858                             0           0                0      0  \n...                           ...         ...              ...    ...  \n707                             0           0                1      0  \n5555                            0           0                0      0  \n4419                            0           0                1      0  \n1709                            0           1                0      0  \n5633                            0           0                0      0  \n\n[4834 rows x 15 columns]",
      "text/html": "<div>\n<style scoped>\n    .dataframe tbody tr th:only-of-type {\n        vertical-align: middle;\n    }\n\n    .dataframe tbody tr th {\n        vertical-align: top;\n    }\n\n    .dataframe thead th {\n        text-align: right;\n    }\n</style>\n<table border=\"1\" class=\"dataframe\">\n  <thead>\n    <tr style=\"text-align: right;\">\n      <th></th>\n      <th>age</th>\n      <th>body_camera</th>\n      <th>is_female</th>\n      <th>was_fleeing</th>\n      <th>was_allegedly_armed</th>\n      <th>was_unarmed</th>\n      <th>was_domestic_disturbance</th>\n      <th>was_mental_health_welfare_check</th>\n      <th>was_person_with_a_weapon</th>\n      <th>was_traffic_stop</th>\n      <th>was_violent_crime_part_1</th>\n      <th>mntlill_drug or alcohol use</th>\n      <th>mntlill_no</th>\n      <th>mntlill_unknown</th>\n      <th>55-64</th>\n    </tr>\n  </thead>\n  <tbody>\n    <tr>\n      <th>5595</th>\n      <td>26</td>\n      <td>0.0</td>\n      <td>0</td>\n      <td>1.0</td>\n      <td>1.0</td>\n      <td>0.0</td>\n      <td>0</td>\n      <td>0</td>\n      <td>0</td>\n      <td>0</td>\n      <td>1</td>\n      <td>0</td>\n      <td>1</td>\n      <td>0</td>\n      <td>0</td>\n    </tr>\n    <tr>\n      <th>8091</th>\n      <td>49</td>\n      <td>0.0</td>\n      <td>0</td>\n      <td>1.0</td>\n      <td>1.0</td>\n      <td>0.0</td>\n      <td>0</td>\n      <td>0</td>\n      <td>0</td>\n      <td>0</td>\n      <td>1</td>\n      <td>1</td>\n      <td>0</td>\n      <td>0</td>\n      <td>0</td>\n    </tr>\n    <tr>\n      <th>6372</th>\n      <td>18</td>\n      <td>0.0</td>\n      <td>0</td>\n      <td>1.0</td>\n      <td>1.0</td>\n      <td>0.0</td>\n      <td>0</td>\n      <td>0</td>\n      <td>0</td>\n      <td>0</td>\n      <td>1</td>\n      <td>0</td>\n      <td>0</td>\n      <td>1</td>\n      <td>0</td>\n    </tr>\n    <tr>\n      <th>7886</th>\n      <td>31</td>\n      <td>0.0</td>\n      <td>0</td>\n      <td>1.0</td>\n      <td>1.0</td>\n      <td>0.0</td>\n      <td>0</td>\n      <td>0</td>\n      <td>0</td>\n      <td>0</td>\n      <td>1</td>\n      <td>0</td>\n      <td>0</td>\n      <td>0</td>\n      <td>0</td>\n    </tr>\n    <tr>\n      <th>858</th>\n      <td>51</td>\n      <td>1.0</td>\n      <td>0</td>\n      <td>0.0</td>\n      <td>1.0</td>\n      <td>0.0</td>\n      <td>0</td>\n      <td>1</td>\n      <td>0</td>\n      <td>0</td>\n      <td>0</td>\n      <td>0</td>\n      <td>0</td>\n      <td>0</td>\n      <td>0</td>\n    </tr>\n    <tr>\n      <th>...</th>\n      <td>...</td>\n      <td>...</td>\n      <td>...</td>\n      <td>...</td>\n      <td>...</td>\n      <td>...</td>\n      <td>...</td>\n      <td>...</td>\n      <td>...</td>\n      <td>...</td>\n      <td>...</td>\n      <td>...</td>\n      <td>...</td>\n      <td>...</td>\n      <td>...</td>\n    </tr>\n    <tr>\n      <th>707</th>\n      <td>37</td>\n      <td>0.0</td>\n      <td>0</td>\n      <td>0.0</td>\n      <td>0.0</td>\n      <td>0.0</td>\n      <td>1</td>\n      <td>0</td>\n      <td>0</td>\n      <td>0</td>\n      <td>0</td>\n      <td>0</td>\n      <td>0</td>\n      <td>1</td>\n      <td>0</td>\n    </tr>\n    <tr>\n      <th>5555</th>\n      <td>45</td>\n      <td>1.0</td>\n      <td>0</td>\n      <td>0.0</td>\n      <td>1.0</td>\n      <td>0.0</td>\n      <td>0</td>\n      <td>0</td>\n      <td>0</td>\n      <td>0</td>\n      <td>1</td>\n      <td>0</td>\n      <td>0</td>\n      <td>0</td>\n      <td>0</td>\n    </tr>\n    <tr>\n      <th>4419</th>\n      <td>25</td>\n      <td>0.0</td>\n      <td>0</td>\n      <td>0.0</td>\n      <td>1.0</td>\n      <td>0.0</td>\n      <td>0</td>\n      <td>0</td>\n      <td>1</td>\n      <td>0</td>\n      <td>0</td>\n      <td>0</td>\n      <td>0</td>\n      <td>1</td>\n      <td>0</td>\n    </tr>\n    <tr>\n      <th>1709</th>\n      <td>39</td>\n      <td>0.0</td>\n      <td>0</td>\n      <td>0.0</td>\n      <td>1.0</td>\n      <td>0.0</td>\n      <td>0</td>\n      <td>0</td>\n      <td>0</td>\n      <td>0</td>\n      <td>0</td>\n      <td>0</td>\n      <td>1</td>\n      <td>0</td>\n      <td>0</td>\n    </tr>\n    <tr>\n      <th>5633</th>\n      <td>50</td>\n      <td>0.0</td>\n      <td>1</td>\n      <td>0.0</td>\n      <td>1.0</td>\n      <td>0.0</td>\n      <td>0</td>\n      <td>0</td>\n      <td>0</td>\n      <td>0</td>\n      <td>1</td>\n      <td>0</td>\n      <td>0</td>\n      <td>0</td>\n      <td>0</td>\n    </tr>\n  </tbody>\n</table>\n<p>4834 rows × 15 columns</p>\n</div>"
     },
     "metadata": {}
    }
   ],
   "execution_count": 31
  },
  {
   "cell_type": "code",
   "source": "# Create KNN object (thing)\n# weights = ['uniform', 'density']\nknn = KNeighborsClassifier(n_neighbors=5, weights='uniform')",
   "metadata": {
    "tags": [],
    "cell_id": "00028-aa323faf-f504-4482-9ede-3324036a4baf",
    "deepnote_to_be_reexecuted": false,
    "source_hash": "e8704815",
    "execution_start": 1621913281644,
    "execution_millis": 3,
    "deepnote_cell_type": "code"
   },
   "outputs": [],
   "execution_count": 37
  },
  {
   "cell_type": "code",
   "source": "# fit the model (thing)\nknn.fit(train2[f_feature], y_train)",
   "metadata": {
    "tags": [],
    "cell_id": "00029-8314a30d-d2a4-4858-bfc8-369b0fa4cfae",
    "deepnote_to_be_reexecuted": false,
    "source_hash": "760a87c8",
    "execution_start": 1621913281979,
    "execution_millis": 26,
    "deepnote_cell_type": "code"
   },
   "outputs": [
    {
     "output_type": "execute_result",
     "execution_count": 38,
     "data": {
      "text/plain": "KNeighborsClassifier()"
     },
     "metadata": {}
    }
   ],
   "execution_count": 38
  },
  {
   "cell_type": "code",
   "source": "# Use the model (thing)\n# Select k Best features\nget_metrics(knn, train[f_feature], y_train)",
   "metadata": {
    "tags": [],
    "cell_id": "00030-95a27823-1b51-4ed0-90e4-24e510355733",
    "deepnote_to_be_reexecuted": false,
    "source_hash": "c6cb09d",
    "execution_start": 1621913431094,
    "execution_millis": 821,
    "deepnote_cell_type": "code"
   },
   "outputs": [
    {
     "name": "stdout",
     "text": "\n    BASELINE accuracy is: 51.01%\n    The accuracy for our model is: 74.18287% \n    \n",
     "output_type": "stream"
    },
    {
     "output_type": "execute_result",
     "execution_count": 42,
     "data": {
      "text/plain": "(                     0            1\n precision     0.761598     0.723464\n recall        0.718978     0.765625\n f1-score      0.739675     0.743947\n support    2466.000000  2368.000000,\n array([[1773,  693],\n        [ 555, 1813]]))"
     },
     "metadata": {}
    }
   ],
   "execution_count": 42
  },
  {
   "cell_type": "code",
   "source": "# Use the model (thing)\n# Select k Best features\nget_metrics(knn, train[rfe_list], y_train)",
   "metadata": {
    "tags": [],
    "cell_id": "00029-b2603416-7d07-4649-a0a5-68f944b914c6",
    "deepnote_to_be_reexecuted": false,
    "source_hash": "ceb27fc7",
    "execution_start": 1621913439430,
    "execution_millis": 848,
    "deepnote_cell_type": "code"
   },
   "outputs": [
    {
     "name": "stdout",
     "text": "\n    BASELINE accuracy is: 51.01%\n    The accuracy for our model is: 48.28300% \n    \n",
     "output_type": "stream"
    },
    {
     "output_type": "execute_result",
     "execution_count": 43,
     "data": {
      "text/plain": "(                     0            1\n precision     0.496113     0.356522\n recall        0.879968     0.069257\n f1-score      0.634503     0.115983\n support    2466.000000  2368.000000,\n array([[2170,  296],\n        [2204,  164]]))"
     },
     "metadata": {}
    }
   ],
   "execution_count": 43
  },
  {
   "cell_type": "markdown",
   "source": "## Validate",
   "metadata": {
    "tags": [],
    "cell_id": "00034-a3db0725-6416-4961-b6c8-bd35a35100d1",
    "deepnote_cell_type": "markdown"
   }
  },
  {
   "cell_type": "code",
   "source": "# Use the model (thing)\n# Select k Best features\nget_metrics(knn, validate[f_feature], y_validate)",
   "metadata": {
    "tags": [],
    "cell_id": "00031-99b28b0f-ba29-407f-9680-df91ab53a171",
    "deepnote_to_be_reexecuted": false,
    "source_hash": "a576bb5c",
    "execution_start": 1621913464113,
    "execution_millis": 392,
    "deepnote_cell_type": "code"
   },
   "outputs": [
    {
     "name": "stdout",
     "text": "\n    BASELINE accuracy is: 51.01%\n    The accuracy for our model is: 65.60540% \n    \n",
     "output_type": "stream"
    },
    {
     "output_type": "execute_result",
     "execution_count": 45,
     "data": {
      "text/plain": "(                     0            1\n precision     0.665370     0.646890\n recall        0.649573     0.662745\n f1-score      0.657376     0.654722\n support    1053.000000  1020.000000,\n array([[684, 369],\n        [344, 676]]))"
     },
     "metadata": {}
    }
   ],
   "execution_count": 45
  },
  {
   "cell_type": "code",
   "source": "# Use the model (thing)\n# Select k Best features\nget_metrics(knn, validate[rfe_list], y_validate)",
   "metadata": {
    "tags": [],
    "cell_id": "00033-66db8a23-2fbe-4205-82f6-22e987c4d43e",
    "deepnote_to_be_reexecuted": false,
    "source_hash": "b8f27c5c",
    "execution_start": 1621913480919,
    "execution_millis": 379,
    "deepnote_cell_type": "code"
   },
   "outputs": [
    {
     "name": "stdout",
     "text": "\n    BASELINE accuracy is: 51.01%\n    The accuracy for our model is: 48.67342% \n    \n",
     "output_type": "stream"
    },
    {
     "output_type": "execute_result",
     "execution_count": 46,
     "data": {
      "text/plain": "(                     0            1\n precision     0.497104     0.373563\n recall        0.896486     0.063725\n f1-score      0.639566     0.108878\n support    1053.000000  1020.000000,\n array([[944, 109],\n        [955,  65]]))"
     },
     "metadata": {}
    }
   ],
   "execution_count": 46
  },
  {
   "cell_type": "markdown",
   "source": "Modeling\n\nCreate a Baseline Model:",
   "metadata": {
    "tags": [],
    "deepnote_to_be_reexecuted": false,
    "source_hash": "897280cf",
    "execution_start": 1621898463294,
    "execution_millis": 13,
    "cell_id": "00025-2bba09a5-5607-465e-98d9-c5a3eb5e88e2",
    "deepnote_cell_type": "markdown"
   }
  },
  {
   "cell_type": "code",
   "metadata": {
    "tags": [],
    "deepnote_to_be_reexecuted": false,
    "source_hash": "fa46ff5a",
    "execution_start": 1621912021898,
    "execution_millis": 7,
    "cell_id": "00026-a050b572-fc89-4430-b21d-9fbc3d06dd1b",
    "deepnote_cell_type": "code"
   },
   "source": "y_train = pd.DataFrame(y_train)\n\ny_train.alleged_threat_lvl.value_counts()\n",
   "execution_count": 26,
   "outputs": [
    {
     "output_type": "execute_result",
     "execution_count": 26,
     "data": {
      "text/plain": "0.0    2466\n1.0    2368\nName: alleged_threat_lvl, dtype: int64"
     },
     "metadata": {}
    }
   ]
  },
  {
   "cell_type": "code",
   "metadata": {
    "tags": [],
    "deepnote_to_be_reexecuted": false,
    "source_hash": "71519740",
    "execution_start": 1621912021898,
    "execution_millis": 8,
    "cell_id": "00027-88f4d7c8-d014-4bca-b369-731cf1af624e",
    "deepnote_cell_type": "code"
   },
   "source": "baseline = 0\nbaseline_accuracy = round((y_train.alleged_threat_lvl == baseline).mean(),4)\nbaseline_accuracy\nprint(f'Baseline accuracy is {baseline_accuracy}')",
   "execution_count": 27,
   "outputs": [
    {
     "name": "stdout",
     "text": "Baseline accuracy is 0.5101\n",
     "output_type": "stream"
    }
   ]
  },
  {
   "cell_type": "markdown",
   "source": "\n\n\nRandom Forest ",
   "metadata": {
    "tags": [],
    "cell_id": "00028-7f754c81-a5e8-4025-92d1-d132840121ef",
    "deepnote_cell_type": "markdown"
   }
  },
  {
   "cell_type": "code",
   "metadata": {
    "tags": [],
    "deepnote_to_be_reexecuted": false,
    "source_hash": "5fe20fb4",
    "execution_start": 1621912021899,
    "execution_millis": 0,
    "cell_id": "00029-10955e2a-f79a-4ff8-8ab2-87eab64f5c18",
    "deepnote_cell_type": "code"
   },
   "source": "from sklearn.ensemble import RandomForestClassifier\nfrom sklearn.metrics import classification_report\nfrom sklearn.metrics import confusion_matrix\n\n# create the model \nrf = RandomForestClassifier(bootstrap=True, \n                            class_weight=None, \n                            criterion='gini',\n                            min_samples_leaf=3,\n                            n_estimators=100,\n                            max_depth=3, \n                            random_state=123)\n\n",
   "execution_count": 28,
   "outputs": []
  },
  {
   "cell_type": "code",
   "metadata": {
    "tags": [],
    "deepnote_to_be_reexecuted": false,
    "source_hash": "35f21c7",
    "execution_start": 1621912021942,
    "execution_millis": 330,
    "cell_id": "00030-26624120-5f1f-4106-a4e6-29afaa563836",
    "deepnote_cell_type": "code"
   },
   "source": "# fit the model\nrf.fit(train2, y_train)\n\n\n# Find feature importance\nprint(rf.feature_importances_)\n\n",
   "execution_count": 29,
   "outputs": [
    {
     "name": "stderr",
     "text": "/shared-libs/python3.7/py-core/lib/python3.7/site-packages/ipykernel_launcher.py:2: DataConversionWarning: A column-vector y was passed when a 1d array was expected. Please change the shape of y to (n_samples,), for example using ravel().\n  \n[1.96071945e-02 1.22853569e-02 4.84143166e-03 3.34139627e-03\n 2.47178718e-04 3.00992294e-01 0.00000000e+00 1.89830391e-01\n 6.81534886e-02 3.20080971e-03 4.36342151e-02 4.60627880e-03\n 3.30915386e-03 4.74121724e-02 1.56020790e-01 5.80675719e-04\n 1.10264299e-03 1.59446520e-03 1.91198224e-03 5.62825441e-03\n 6.78772459e-03 1.31126551e-02 1.26119560e-02 1.62446707e-02\n 5.37994907e-03 3.70477680e-03 1.74979101e-03 4.47276838e-03\n 5.93582050e-02 1.21445742e-03 0.00000000e+00 5.01111614e-04\n 1.63743177e-03 1.62864183e-03 8.47045404e-04 3.65413333e-04\n 1.29021195e-03 7.93018439e-04]\n",
     "output_type": "stream"
    }
   ]
  },
  {
   "cell_type": "code",
   "metadata": {
    "tags": [],
    "deepnote_to_be_reexecuted": false,
    "source_hash": "b18318e7",
    "execution_start": 1621912022271,
    "execution_millis": 6,
    "cell_id": "00031-89797a61-993b-47ef-8be3-931d415825a8",
    "deepnote_cell_type": "code"
   },
   "source": "train2.columns",
   "execution_count": 30,
   "outputs": [
    {
     "output_type": "execute_result",
     "execution_count": 30,
     "data": {
      "text/plain": "Index(['age', 'body_camera', 'is_female', 'is_male', 'is_transgender',\n       'was_fleeing', 'was_not fleeing ', 'was_allegedly_armed', 'was_unarmed',\n       'was_vehicle', 'was_domestic_disturbance',\n       'was_mental_health_welfare_check', 'was_person_with_a_weapon',\n       'was_traffic_stop', 'was_violent_crime_part_1',\n       'is_asian/pacific islander', 'is_black', 'is_hispanic',\n       'is_native american', 'is_unknown race', 'is_white',\n       'mntlill_drug or alcohol use', 'mntlill_no', 'mntlill_unknown',\n       'mntlill_yes', 'rural', 'suburban', 'urban', 'cod_lethal', 'unknown',\n       'under 12', '12-17', '18-24', '25-34', '35-44', '45-54', '55-64',\n       '65+'],\n      dtype='object')"
     },
     "metadata": {}
    }
   ]
  },
  {
   "cell_type": "code",
   "metadata": {
    "tags": [],
    "deepnote_to_be_reexecuted": false,
    "source_hash": "9330a7f8",
    "execution_start": 1621912022315,
    "execution_millis": 130,
    "cell_id": "00032-1a33962a-4b36-4666-b31b-32f0aea26fd0",
    "deepnote_cell_type": "code"
   },
   "source": "# make predictions\ny_pred = rf.predict(train2)\n\n# estimate probability\ny_pred_proba = rf.predict_proba(train2)\n\n\n#Compute accuracy\ntrain_accuracy = round(rf.score(train2, y_train),2)\nprint('Accuracy of random forest classifier on training set: {:.2f}'\n     .format(rf.score(train2, y_train)))\n",
   "execution_count": 31,
   "outputs": [
    {
     "name": "stdout",
     "text": "Accuracy of random forest classifier on training set: 0.70\n",
     "output_type": "stream"
    }
   ]
  },
  {
   "cell_type": "code",
   "metadata": {
    "tags": [],
    "deepnote_to_be_reexecuted": false,
    "source_hash": "571ca5f9",
    "execution_start": 1621912022476,
    "execution_millis": 75,
    "cell_id": "00033-512ace69-d497-42d2-9e54-1b26c1fb5623",
    "deepnote_cell_type": "code"
   },
   "source": "# run classification report\nprint(classification_report(y_train, y_pred))",
   "execution_count": 32,
   "outputs": [
    {
     "name": "stdout",
     "text": "              precision    recall  f1-score   support\n\n         0.0       0.71      0.70      0.71      2466\n         1.0       0.70      0.70      0.70      2368\n\n    accuracy                           0.70      4834\n   macro avg       0.70      0.70      0.70      4834\nweighted avg       0.70      0.70      0.70      4834\n\n",
     "output_type": "stream"
    }
   ]
  },
  {
   "cell_type": "code",
   "metadata": {
    "tags": [],
    "deepnote_to_be_reexecuted": false,
    "source_hash": "3a14f657",
    "execution_start": 1621912022545,
    "execution_millis": 580,
    "cell_id": "00034-e62f2db6-7a95-447d-95e9-a05dd285a58a",
    "deepnote_cell_type": "code"
   },
   "source": "# fit the model on validate\nrf.fit(validate2, y_validate)\n\n# make predictions\ny_pred_val = rf.predict(validate2)\n\n# estimate probability\ny_pred_val_proba = rf.predict_proba(validate2)\n\n#Compute accuracy\nvalidate_accuracy = round(rf.score(validate2, y_validate),2)\nprint('Accuracy of random forest classifier on validate set: {:.2f}'\n     .format(rf.score(validate2, y_validate)))\n",
   "execution_count": 33,
   "outputs": [
    {
     "name": "stdout",
     "text": "Accuracy of random forest classifier on validate set: 0.72\n",
     "output_type": "stream"
    }
   ]
  },
  {
   "cell_type": "code",
   "metadata": {
    "tags": [],
    "deepnote_to_be_reexecuted": false,
    "source_hash": "bb080a19",
    "execution_start": 1621912023120,
    "execution_millis": 23,
    "cell_id": "00035-412126f1-8802-452c-8d22-464545e303eb",
    "deepnote_cell_type": "code"
   },
   "source": "# run classification report on validate\nprint(classification_report(y_validate, y_pred_val))",
   "execution_count": 34,
   "outputs": [
    {
     "name": "stdout",
     "text": "              precision    recall  f1-score   support\n\n         0.0       0.72      0.72      0.72      1053\n         1.0       0.71      0.71      0.71      1020\n\n    accuracy                           0.72      2073\n   macro avg       0.72      0.72      0.72      2073\nweighted avg       0.72      0.72      0.72      2073\n\n",
     "output_type": "stream"
    }
   ]
  },
  {
   "cell_type": "code",
   "metadata": {
    "tags": [],
    "deepnote_to_be_reexecuted": false,
    "source_hash": "a5201d0f",
    "execution_start": 1621912023175,
    "execution_millis": 5,
    "cell_id": "00036-6afcc622-102e-4c74-87c0-74db0607f186",
    "deepnote_cell_type": "code"
   },
   "source": "def get_metrics_bin(clf, X, y):\n    '''\n    get_metrics_bin will take in a sklearn classifier model, an X and a y variable and utilize\n    the model to make a prediction and then gather accuracy, class report evaluations\n\n    return:  a classification report as a pandas DataFrame\n    '''\n    y_pred = clf.predict(X)\n    accuracy = clf.score(X, y)\n    conf = confusion_matrix(y, y_pred)\n    class_report = pd.DataFrame(classification_report(y, y_pred, output_dict=True)).T\n    tpr = conf[1][1] / conf[1].sum()\n    fpr = conf[0][1] / conf[0].sum()\n    tnr = conf[0][0] / conf[0].sum()\n    fnr = conf[1][0] / conf[1].sum()\n    print(f'''\n    The accuracy for our model is {accuracy:.4}\n    The True Positive Rate is {tpr:.3}, The False Positive Rate is {fpr:.3},\n    The True Negative Rate is {tnr:.3}, and the False Negative Rate is {fnr:.3}\n    ''')\n    return class_report",
   "execution_count": 35,
   "outputs": []
  },
  {
   "cell_type": "code",
   "metadata": {
    "tags": [],
    "deepnote_to_be_reexecuted": false,
    "source_hash": "c1f85ee1",
    "execution_start": 1621912023183,
    "execution_millis": 2,
    "cell_id": "00037-526e2563-b4a3-4245-a13e-a61dd55c123d",
    "deepnote_cell_type": "code"
   },
   "source": "# X = validate2\n# clf = RandomForestClassifier\n# print('Model #1: min samples 3, max depth 3')\n# class_report_val = get_metrics_bin(clf, validate2, y_validate)\n# # print('-------------------------------------------\\n Model #2: min samples 3, max_depth 3\\n')\n# # class_report_val1 = get_metrics_bin(clf1, X_val, y_val)",
   "execution_count": 36,
   "outputs": []
  },
  {
   "cell_type": "markdown",
   "source": "### Takeaways on Random Forest Classifier Model (max depth 3):\n\nBaseline accuracy = 51% <br>\nAccuracy on Train = 70% <br>\nAccuracy on Validate = 72%",
   "metadata": {
    "tags": [],
    "deepnote_to_be_reexecuted": false,
    "source_hash": "bb95de7",
    "execution_start": 1621894512751,
    "execution_millis": 11,
    "cell_id": "00038-41af8be3-b038-4893-8047-668874701a25",
    "deepnote_cell_type": "markdown"
   }
  },
  {
   "cell_type": "code",
   "metadata": {
    "tags": [],
    "deepnote_to_be_reexecuted": false,
    "source_hash": "2e7e6100",
    "execution_start": 1621912023188,
    "execution_millis": 74,
    "cell_id": "00039-76217e26-3ef8-4b2a-b0a6-41f5daa55926",
    "deepnote_cell_type": "code"
   },
   "source": "\n#begin building a dataframe to record accuracy\nmetric_df = pd.DataFrame(data=[{\n    'model': 'random forest', \n    'baseline_accuracy': round(baseline_accuracy,2),\n    'train_accuracy': round(train_accuracy, 2),\n    'validate_accuracy': round(validate_accuracy, 2)}])\nmetric_df",
   "execution_count": 37,
   "outputs": [
    {
     "output_type": "execute_result",
     "execution_count": 37,
     "data": {
      "application/vnd.deepnote.dataframe.v2+json": {
       "row_count": 1,
       "column_count": 4,
       "columns": [
        {
         "name": "model",
         "dtype": "object",
         "stats": {
          "unique_count": 1,
          "nan_count": 0,
          "categories": [
           {
            "name": "random forest",
            "count": 1
           }
          ]
         }
        },
        {
         "name": "baseline_accuracy",
         "dtype": "float64",
         "stats": {
          "unique_count": 1,
          "nan_count": 0,
          "min": "0.51",
          "max": "0.51",
          "histogram": [
           {
            "bin_start": 0.010000000000000009,
            "bin_end": 0.11000000000000001,
            "count": 0
           },
           {
            "bin_start": 0.11000000000000001,
            "bin_end": 0.21000000000000002,
            "count": 0
           },
           {
            "bin_start": 0.21000000000000002,
            "bin_end": 0.31000000000000005,
            "count": 0
           },
           {
            "bin_start": 0.31000000000000005,
            "bin_end": 0.41000000000000003,
            "count": 0
           },
           {
            "bin_start": 0.41000000000000003,
            "bin_end": 0.51,
            "count": 0
           },
           {
            "bin_start": 0.51,
            "bin_end": 0.6100000000000001,
            "count": 1
           },
           {
            "bin_start": 0.6100000000000001,
            "bin_end": 0.7100000000000001,
            "count": 0
           },
           {
            "bin_start": 0.7100000000000001,
            "bin_end": 0.81,
            "count": 0
           },
           {
            "bin_start": 0.81,
            "bin_end": 0.91,
            "count": 0
           },
           {
            "bin_start": 0.91,
            "bin_end": 1.01,
            "count": 0
           }
          ]
         }
        },
        {
         "name": "train_accuracy",
         "dtype": "float64",
         "stats": {
          "unique_count": 1,
          "nan_count": 0,
          "min": "0.7",
          "max": "0.7",
          "histogram": [
           {
            "bin_start": 0.19999999999999996,
            "bin_end": 0.29999999999999993,
            "count": 0
           },
           {
            "bin_start": 0.29999999999999993,
            "bin_end": 0.39999999999999997,
            "count": 0
           },
           {
            "bin_start": 0.39999999999999997,
            "bin_end": 0.5,
            "count": 0
           },
           {
            "bin_start": 0.5,
            "bin_end": 0.6,
            "count": 0
           },
           {
            "bin_start": 0.6,
            "bin_end": 0.7,
            "count": 0
           },
           {
            "bin_start": 0.7,
            "bin_end": 0.8,
            "count": 1
           },
           {
            "bin_start": 0.8,
            "bin_end": 0.9,
            "count": 0
           },
           {
            "bin_start": 0.9,
            "bin_end": 1,
            "count": 0
           },
           {
            "bin_start": 1,
            "bin_end": 1.1,
            "count": 0
           },
           {
            "bin_start": 1.1,
            "bin_end": 1.2,
            "count": 0
           }
          ]
         }
        },
        {
         "name": "validate_accuracy",
         "dtype": "float64",
         "stats": {
          "unique_count": 1,
          "nan_count": 0,
          "min": "0.72",
          "max": "0.72",
          "histogram": [
           {
            "bin_start": 0.21999999999999997,
            "bin_end": 0.31999999999999995,
            "count": 0
           },
           {
            "bin_start": 0.31999999999999995,
            "bin_end": 0.42,
            "count": 0
           },
           {
            "bin_start": 0.42,
            "bin_end": 0.52,
            "count": 0
           },
           {
            "bin_start": 0.52,
            "bin_end": 0.62,
            "count": 0
           },
           {
            "bin_start": 0.62,
            "bin_end": 0.72,
            "count": 0
           },
           {
            "bin_start": 0.72,
            "bin_end": 0.8200000000000001,
            "count": 1
           },
           {
            "bin_start": 0.8200000000000001,
            "bin_end": 0.92,
            "count": 0
           },
           {
            "bin_start": 0.92,
            "bin_end": 1.02,
            "count": 0
           },
           {
            "bin_start": 1.02,
            "bin_end": 1.12,
            "count": 0
           },
           {
            "bin_start": 1.12,
            "bin_end": 1.22,
            "count": 0
           }
          ]
         }
        },
        {
         "name": "_deepnote_index_column",
         "dtype": "int64"
        }
       ],
       "rows_top": [
        {
         "model": "random forest",
         "baseline_accuracy": 0.51,
         "train_accuracy": 0.7,
         "validate_accuracy": 0.72,
         "_deepnote_index_column": 0
        }
       ],
       "rows_bottom": null
      },
      "text/plain": "           model  baseline_accuracy  train_accuracy  validate_accuracy\n0  random forest               0.51             0.7               0.72",
      "text/html": "<div>\n<style scoped>\n    .dataframe tbody tr th:only-of-type {\n        vertical-align: middle;\n    }\n\n    .dataframe tbody tr th {\n        vertical-align: top;\n    }\n\n    .dataframe thead th {\n        text-align: right;\n    }\n</style>\n<table border=\"1\" class=\"dataframe\">\n  <thead>\n    <tr style=\"text-align: right;\">\n      <th></th>\n      <th>model</th>\n      <th>baseline_accuracy</th>\n      <th>train_accuracy</th>\n      <th>validate_accuracy</th>\n    </tr>\n  </thead>\n  <tbody>\n    <tr>\n      <th>0</th>\n      <td>random forest</td>\n      <td>0.51</td>\n      <td>0.7</td>\n      <td>0.72</td>\n    </tr>\n  </tbody>\n</table>\n</div>"
     },
     "metadata": {}
    }
   ]
  },
  {
   "cell_type": "code",
   "source": "",
   "metadata": {
    "deepnote_to_be_reexecuted": false,
    "source_hash": "b623e53d",
    "execution_start": 1621912023255,
    "execution_millis": 1,
    "cell_id": "00040-b4806d13-ea2b-43a3-bd36-76f75f2718c6",
    "deepnote_cell_type": "visualization"
   },
   "execution_count": 37,
   "outputs": []
  },
  {
   "cell_type": "markdown",
   "source": "### Naive Bayes\nNaïve Bayes Classifier is one of the simple and most effective Classification algorithms which helps in building fast machine learning models that can make quick predictions. It is a probabilistic classifier, which means it predicts on the basis of the probability of an object. It's biggest limitation is that it implicitly assumes that all the attributes are mutually independent. (In real life, it's almost impossible that we get a set of predictors that are completely independent or one another.)",
   "metadata": {
    "tags": [],
    "deepnote_to_be_reexecuted": false,
    "source_hash": "99d3384f",
    "execution_start": 1621900322718,
    "execution_millis": 7,
    "cell_id": "00041-d4b0a8da-50b0-4f10-8aeb-a29f89f098b7",
    "deepnote_cell_type": "markdown"
   }
  },
  {
   "cell_type": "code",
   "metadata": {
    "tags": [],
    "deepnote_to_be_reexecuted": false,
    "source_hash": "fe51bc76",
    "execution_start": 1621912023256,
    "execution_millis": 51,
    "cell_id": "00042-f6a7a786-96a9-4c8f-a366-cf4b51b1418f",
    "deepnote_cell_type": "code"
   },
   "source": "from sklearn.naive_bayes import CategoricalNB\n\n# make the model\nclassifier = CategoricalNB()\n\n# fit the model\nclassifier.fit(train2, y_train)",
   "execution_count": 38,
   "outputs": [
    {
     "name": "stderr",
     "text": "/shared-libs/python3.7/py/lib/python3.7/site-packages/sklearn/utils/validation.py:63: DataConversionWarning: A column-vector y was passed when a 1d array was expected. Please change the shape of y to (n_samples, ), for example using ravel().\n  return f(*args, **kwargs)\n",
     "output_type": "stream"
    },
    {
     "output_type": "execute_result",
     "execution_count": 38,
     "data": {
      "text/plain": "CategoricalNB()"
     },
     "metadata": {}
    }
   ]
  },
  {
   "cell_type": "code",
   "metadata": {
    "tags": [],
    "deepnote_to_be_reexecuted": false,
    "source_hash": "dad90cf1",
    "execution_start": 1621912023346,
    "execution_millis": 1,
    "cell_id": "00043-b32ad41a-bed7-4a41-80ba-4046157b692f",
    "deepnote_cell_type": "code"
   },
   "source": "# make predictions on train\nnb_y_pred  =  classifier.predict(train2)\n\n# make predictions on validate\nnb_y_val_pred  =  classifier.predict(validate2)",
   "execution_count": 39,
   "outputs": []
  },
  {
   "cell_type": "code",
   "metadata": {
    "tags": [],
    "deepnote_to_be_reexecuted": false,
    "source_hash": "20ca0f84",
    "execution_start": 1621912023347,
    "execution_millis": 1,
    "cell_id": "00044-8a63ff16-8ff2-4982-b445-4e8927c9411a",
    "deepnote_cell_type": "code"
   },
   "source": "# evaluate model on train\nfrom sklearn.metrics import confusion_matrix,accuracy_score\ncm_train = confusion_matrix(y_train, nb_y_pred)\nac_train = accuracy_score(y_train,nb_y_pred)",
   "execution_count": 40,
   "outputs": []
  },
  {
   "cell_type": "code",
   "metadata": {
    "tags": [],
    "deepnote_to_be_reexecuted": false,
    "source_hash": "85adb028",
    "execution_start": 1621912023348,
    "execution_millis": 43,
    "cell_id": "00045-88cebdb3-4ebb-425a-9d38-6fcaed2dd1b5",
    "deepnote_cell_type": "code"
   },
   "source": "# evaluate model on validate\ncm_validate = confusion_matrix(y_validate, nb_y_val_pred)\nac_validate = accuracy_score(y_validate,nb_y_val_pred)",
   "execution_count": 41,
   "outputs": []
  },
  {
   "cell_type": "code",
   "metadata": {
    "tags": [],
    "deepnote_to_be_reexecuted": false,
    "source_hash": "98109a86",
    "execution_start": 1621912023391,
    "execution_millis": 9,
    "cell_id": "00046-eb03a713-a501-4cf3-b489-07e5fa0fd4c4",
    "deepnote_cell_type": "code"
   },
   "source": "print('Accuracy of Naive Bayes Gaussian Classifier on train set: {:.2f}'.format(ac_train))\nprint('Accuracy of Naive Bayes Gaussian Classifier on validate set: {:.2f}'.format(ac_validate))",
   "execution_count": 42,
   "outputs": [
    {
     "name": "stdout",
     "text": "Accuracy of Naive Bayes Gaussian Classifier on train set: 0.70\nAccuracy of Naive Bayes Gaussian Classifier on validate set: 0.68\n",
     "output_type": "stream"
    }
   ]
  },
  {
   "cell_type": "markdown",
   "source": "### Takeaways on Naive Bayes Model:\nBaseline accuracy = 51% <br>\nAccuracy on Train = 70% <br>\nAccuracy on Validate = 68%",
   "metadata": {
    "tags": [],
    "deepnote_to_be_reexecuted": false,
    "source_hash": "94e0f3ab",
    "execution_start": 1621902072354,
    "execution_millis": 7,
    "cell_id": "00047-da806f9f-3c41-4c69-a32a-528f3c4e4ff9",
    "deepnote_cell_type": "markdown"
   }
  },
  {
   "cell_type": "markdown",
   "source": "### Dataframe Summarizing Models",
   "metadata": {
    "tags": [],
    "cell_id": "00048-cd67932f-0b1e-4d59-a31f-7c38a45b2e07",
    "deepnote_cell_type": "markdown"
   }
  },
  {
   "cell_type": "code",
   "metadata": {
    "tags": [],
    "deepnote_to_be_reexecuted": false,
    "source_hash": "bce38aaf",
    "execution_start": 1621912023396,
    "execution_millis": 73,
    "cell_id": "00049-190e8d14-d4aa-4316-a53c-db466db2d4a9",
    "deepnote_cell_type": "code"
   },
   "source": "# append dataframe to record accuracy on Naive Bayes\nmetric_df = metric_df.append({\n    'model': 'naive bayes', \n    'baseline_accuracy': round(baseline_accuracy,2),\n    'train_accuracy': round(ac_train, 2),\n    'validate_accuracy':round(ac_validate,2)}, ignore_index=True)\n  \n\n\nmetric_df",
   "execution_count": 43,
   "outputs": [
    {
     "output_type": "execute_result",
     "execution_count": 43,
     "data": {
      "application/vnd.deepnote.dataframe.v2+json": {
       "row_count": 2,
       "column_count": 4,
       "columns": [
        {
         "name": "model",
         "dtype": "object",
         "stats": {
          "unique_count": 2,
          "nan_count": 0,
          "categories": [
           {
            "name": "random forest",
            "count": 1
           },
           {
            "name": "naive bayes",
            "count": 1
           }
          ]
         }
        },
        {
         "name": "baseline_accuracy",
         "dtype": "float64",
         "stats": {
          "unique_count": 1,
          "nan_count": 0,
          "min": "0.51",
          "max": "0.51",
          "histogram": [
           {
            "bin_start": 0.010000000000000009,
            "bin_end": 0.11000000000000001,
            "count": 0
           },
           {
            "bin_start": 0.11000000000000001,
            "bin_end": 0.21000000000000002,
            "count": 0
           },
           {
            "bin_start": 0.21000000000000002,
            "bin_end": 0.31000000000000005,
            "count": 0
           },
           {
            "bin_start": 0.31000000000000005,
            "bin_end": 0.41000000000000003,
            "count": 0
           },
           {
            "bin_start": 0.41000000000000003,
            "bin_end": 0.51,
            "count": 0
           },
           {
            "bin_start": 0.51,
            "bin_end": 0.6100000000000001,
            "count": 2
           },
           {
            "bin_start": 0.6100000000000001,
            "bin_end": 0.7100000000000001,
            "count": 0
           },
           {
            "bin_start": 0.7100000000000001,
            "bin_end": 0.81,
            "count": 0
           },
           {
            "bin_start": 0.81,
            "bin_end": 0.91,
            "count": 0
           },
           {
            "bin_start": 0.91,
            "bin_end": 1.01,
            "count": 0
           }
          ]
         }
        },
        {
         "name": "train_accuracy",
         "dtype": "float64",
         "stats": {
          "unique_count": 1,
          "nan_count": 0,
          "min": "0.7",
          "max": "0.7",
          "histogram": [
           {
            "bin_start": 0.19999999999999996,
            "bin_end": 0.29999999999999993,
            "count": 0
           },
           {
            "bin_start": 0.29999999999999993,
            "bin_end": 0.39999999999999997,
            "count": 0
           },
           {
            "bin_start": 0.39999999999999997,
            "bin_end": 0.5,
            "count": 0
           },
           {
            "bin_start": 0.5,
            "bin_end": 0.6,
            "count": 0
           },
           {
            "bin_start": 0.6,
            "bin_end": 0.7,
            "count": 0
           },
           {
            "bin_start": 0.7,
            "bin_end": 0.8,
            "count": 2
           },
           {
            "bin_start": 0.8,
            "bin_end": 0.9,
            "count": 0
           },
           {
            "bin_start": 0.9,
            "bin_end": 1,
            "count": 0
           },
           {
            "bin_start": 1,
            "bin_end": 1.1,
            "count": 0
           },
           {
            "bin_start": 1.1,
            "bin_end": 1.2,
            "count": 0
           }
          ]
         }
        },
        {
         "name": "validate_accuracy",
         "dtype": "float64",
         "stats": {
          "unique_count": 2,
          "nan_count": 0,
          "min": "0.68",
          "max": "0.72",
          "histogram": [
           {
            "bin_start": 0.68,
            "bin_end": 0.684,
            "count": 1
           },
           {
            "bin_start": 0.684,
            "bin_end": 0.6880000000000001,
            "count": 0
           },
           {
            "bin_start": 0.6880000000000001,
            "bin_end": 0.6920000000000001,
            "count": 0
           },
           {
            "bin_start": 0.6920000000000001,
            "bin_end": 0.6960000000000001,
            "count": 0
           },
           {
            "bin_start": 0.6960000000000001,
            "bin_end": 0.7,
            "count": 0
           },
           {
            "bin_start": 0.7,
            "bin_end": 0.704,
            "count": 0
           },
           {
            "bin_start": 0.704,
            "bin_end": 0.708,
            "count": 0
           },
           {
            "bin_start": 0.708,
            "bin_end": 0.712,
            "count": 0
           },
           {
            "bin_start": 0.712,
            "bin_end": 0.716,
            "count": 0
           },
           {
            "bin_start": 0.716,
            "bin_end": 0.72,
            "count": 1
           }
          ]
         }
        },
        {
         "name": "_deepnote_index_column",
         "dtype": "int64"
        }
       ],
       "rows_top": [
        {
         "model": "random forest",
         "baseline_accuracy": 0.51,
         "train_accuracy": 0.7,
         "validate_accuracy": 0.72,
         "_deepnote_index_column": 0
        },
        {
         "model": "naive bayes",
         "baseline_accuracy": 0.51,
         "train_accuracy": 0.7,
         "validate_accuracy": 0.68,
         "_deepnote_index_column": 1
        }
       ],
       "rows_bottom": null
      },
      "text/plain": "           model  baseline_accuracy  train_accuracy  validate_accuracy\n0  random forest               0.51             0.7               0.72\n1    naive bayes               0.51             0.7               0.68",
      "text/html": "<div>\n<style scoped>\n    .dataframe tbody tr th:only-of-type {\n        vertical-align: middle;\n    }\n\n    .dataframe tbody tr th {\n        vertical-align: top;\n    }\n\n    .dataframe thead th {\n        text-align: right;\n    }\n</style>\n<table border=\"1\" class=\"dataframe\">\n  <thead>\n    <tr style=\"text-align: right;\">\n      <th></th>\n      <th>model</th>\n      <th>baseline_accuracy</th>\n      <th>train_accuracy</th>\n      <th>validate_accuracy</th>\n    </tr>\n  </thead>\n  <tbody>\n    <tr>\n      <th>0</th>\n      <td>random forest</td>\n      <td>0.51</td>\n      <td>0.7</td>\n      <td>0.72</td>\n    </tr>\n    <tr>\n      <th>1</th>\n      <td>naive bayes</td>\n      <td>0.51</td>\n      <td>0.7</td>\n      <td>0.68</td>\n    </tr>\n  </tbody>\n</table>\n</div>"
     },
     "metadata": {}
    }
   ]
  },
  {
   "cell_type": "markdown",
   "source": "",
   "metadata": {
    "tags": [],
    "cell_id": "00050-22fd67cc-04a4-44a9-9175-90d0d452f03e",
    "deepnote_cell_type": "markdown"
   }
  },
  {
   "cell_type": "markdown",
   "source": "### GridSearchCV",
   "metadata": {
    "tags": [],
    "cell_id": "00051-6fedd8f8-d956-4a42-b143-d18f5125ebe3",
    "deepnote_cell_type": "markdown"
   }
  },
  {
   "cell_type": "code",
   "metadata": {
    "tags": [],
    "deepnote_to_be_reexecuted": false,
    "source_hash": "2264946b",
    "execution_start": 1621912023463,
    "execution_millis": 0,
    "cell_id": "00052-bd7fdfc2-fcf6-4483-91d1-87bc041849e6",
    "deepnote_cell_type": "code"
   },
   "source": "# ignore warnings\nimport warnings\nwarnings.filterwarnings(\"ignore\")\nfrom sklearn.model_selection import RandomizedSearchCV, GridSearchCV\nfrom scipy.stats import uniform",
   "execution_count": 44,
   "outputs": []
  },
  {
   "cell_type": "code",
   "metadata": {
    "tags": [],
    "deepnote_to_be_reexecuted": false,
    "source_hash": "cd3ac985",
    "execution_start": 1621912023463,
    "execution_millis": 55235,
    "is_output_hidden": true,
    "cell_id": "00053-dcf2e61e-301a-44f6-ba95-c9059ec30b58",
    "deepnote_cell_type": "code"
   },
   "source": "# Create a parameter dictionary for the model, {'parameter': [list of settings]}\nparameters = [\n    {\n    'alpha': [0.0001, 0.001, 0.01, 0.1, 1],\n    'shuffle': [True, False],\n    'verbose': [0, 1, 5, 10],\n    'class_weight': [None, 'balanced'],\n    },\n]\n# Created variable model which holds the KNN model\nmodel = SGDClassifier()\n# Create grid_search model, looking at recall\ngrid_search = GridSearchCV(model,\n                           param_grid=parameters,\n                           scoring='accuracy',\n                           )\n# Create variable r that hold the FIT grid_search\nr = grid_search.fit(X_train[f_feature], y_train)\nscores = r.cv_results_\nlm = r.best_estimator_",
   "execution_count": null,
   "outputs": [
    {
     "name": "stdout",
     "text": "-- Epoch 114\nNorm: 25.14, NNZs: 15, Bias: 4.755873, T: 440952, Avg. loss: 7.582408\nTotal training time: 0.20 seconds.\n-- Epoch 115\nNorm: 24.78, NNZs: 15, Bias: 4.666370, T: 444820, Avg. loss: 7.668852\nTotal training time: 0.20 seconds.\n-- Epoch 116\nNorm: 24.67, NNZs: 15, Bias: 4.578093, T: 448688, Avg. loss: 7.918417\nTotal training time: 0.20 seconds.\n-- Epoch 117\nNorm: 24.51, NNZs: 15, Bias: 4.512160, T: 452556, Avg. loss: 7.537594\nTotal training time: 0.20 seconds.\n-- Epoch 118\nNorm: 24.22, NNZs: 15, Bias: 4.424804, T: 456424, Avg. loss: 7.682013\nTotal training time: 0.20 seconds.\n-- Epoch 119\nNorm: 24.19, NNZs: 15, Bias: 3.967908, T: 460292, Avg. loss: 7.404308\nTotal training time: 0.20 seconds.\n-- Epoch 120\nNorm: 24.02, NNZs: 15, Bias: 4.227963, T: 464160, Avg. loss: 7.314393\nTotal training time: 0.20 seconds.\n-- Epoch 121\nNorm: 24.03, NNZs: 15, Bias: 4.292951, T: 468028, Avg. loss: 7.688267\nTotal training time: 0.20 seconds.\n-- Epoch 122\nNorm: 23.33, NNZs: 15, Bias: 4.336365, T: 471896, Avg. loss: 7.254902\nTotal training time: 0.20 seconds.\n-- Epoch 123\nNorm: 22.92, NNZs: 15, Bias: 4.210203, T: 475764, Avg. loss: 7.058324\nTotal training time: 0.20 seconds.\n-- Epoch 124\nNorm: 22.92, NNZs: 15, Bias: 3.939009, T: 479632, Avg. loss: 7.265468\nTotal training time: 0.20 seconds.\n-- Epoch 125\nNorm: 22.90, NNZs: 15, Bias: 3.959659, T: 483500, Avg. loss: 7.302362\nTotal training time: 0.20 seconds.\n-- Epoch 126\nNorm: 22.60, NNZs: 15, Bias: 4.001123, T: 487368, Avg. loss: 7.155104\nTotal training time: 0.20 seconds.\n-- Epoch 127\nNorm: 22.27, NNZs: 15, Bias: 3.980584, T: 491236, Avg. loss: 7.001479\nTotal training time: 0.21 seconds.\n-- Epoch 128\nNorm: 22.25, NNZs: 15, Bias: 3.737600, T: 495104, Avg. loss: 6.688326\nTotal training time: 0.21 seconds.\n-- Epoch 129\nNorm: 22.17, NNZs: 15, Bias: 3.657304, T: 498972, Avg. loss: 7.084716\nTotal training time: 0.21 seconds.\n-- Epoch 130\nNorm: 22.02, NNZs: 15, Bias: 3.378686, T: 502840, Avg. loss: 6.667867\nTotal training time: 0.21 seconds.\n-- Epoch 131\nNorm: 21.72, NNZs: 15, Bias: 3.694619, T: 506708, Avg. loss: 6.868713\nTotal training time: 0.21 seconds.\n-- Epoch 132\nNorm: 21.73, NNZs: 15, Bias: 3.479582, T: 510576, Avg. loss: 6.833516\nTotal training time: 0.21 seconds.\n-- Epoch 133\nNorm: 21.51, NNZs: 15, Bias: 3.518805, T: 514444, Avg. loss: 6.948344\nTotal training time: 0.21 seconds.\n-- Epoch 134\nNorm: 21.40, NNZs: 15, Bias: 3.499238, T: 518312, Avg. loss: 6.547916\nTotal training time: 0.21 seconds.\n-- Epoch 135\nNorm: 21.15, NNZs: 15, Bias: 3.614714, T: 522180, Avg. loss: 6.629035\nTotal training time: 0.21 seconds.\n-- Epoch 136\nNorm: 21.19, NNZs: 15, Bias: 3.595406, T: 526048, Avg. loss: 6.666859\nTotal training time: 0.21 seconds.\n-- Epoch 137\nNorm: 21.24, NNZs: 15, Bias: 3.198263, T: 529916, Avg. loss: 6.488263\nTotal training time: 0.21 seconds.\n-- Epoch 138\nNorm: 20.89, NNZs: 15, Bias: 3.161005, T: 533784, Avg. loss: 6.448185\nTotal training time: 0.21 seconds.\n-- Epoch 139\nNorm: 20.82, NNZs: 15, Bias: 2.844478, T: 537652, Avg. loss: 6.303892\nTotal training time: 0.21 seconds.\n-- Epoch 140\nNorm: 20.51, NNZs: 15, Bias: 2.955435, T: 541520, Avg. loss: 6.521613\nTotal training time: 0.21 seconds.\n-- Epoch 141\nNorm: 20.37, NNZs: 15, Bias: 2.991349, T: 545388, Avg. loss: 6.439381\nTotal training time: 0.21 seconds.\n-- Epoch 142\nNorm: 20.51, NNZs: 15, Bias: 3.100940, T: 549256, Avg. loss: 6.427844\nTotal training time: 0.21 seconds.\n-- Epoch 143\nNorm: 20.49, NNZs: 15, Bias: 2.992244, T: 553124, Avg. loss: 6.312329\nTotal training time: 0.21 seconds.\n-- Epoch 144\nNorm: 20.20, NNZs: 15, Bias: 2.883357, T: 556992, Avg. loss: 6.067058\nTotal training time: 0.22 seconds.\n-- Epoch 145\nNorm: 20.03, NNZs: 15, Bias: 2.776969, T: 560860, Avg. loss: 6.173831\nTotal training time: 0.22 seconds.\n-- Epoch 146\nNorm: 19.76, NNZs: 15, Bias: 3.006727, T: 564728, Avg. loss: 6.119497\nTotal training time: 0.22 seconds.\n-- Epoch 147\nNorm: 19.20, NNZs: 15, Bias: 2.918893, T: 568596, Avg. loss: 6.247060\nTotal training time: 0.22 seconds.\n-- Epoch 148\nNorm: 19.04, NNZs: 15, Bias: 2.727083, T: 572464, Avg. loss: 6.186019\nTotal training time: 0.22 seconds.\n-- Epoch 149\nNorm: 19.11, NNZs: 15, Bias: 2.571555, T: 576332, Avg. loss: 6.293069\nTotal training time: 0.22 seconds.\nConvergence after 149 epochs took 0.22 seconds\n-- Epoch 1\nNorm: 629.78, NNZs: 15, Bias: -6.544535, T: 3867, Avg. loss: 1428.706214\nTotal training time: 0.00 seconds.\n-- Epoch 2\nNorm: 531.53, NNZs: 15, Bias: 28.985669, T: 7734, Avg. loss: 478.432495\nTotal training time: 0.05 seconds.\n-- Epoch 3\nNorm: 466.58, NNZs: 15, Bias: 35.392627, T: 11601, Avg. loss: 298.093565\nTotal training time: 0.05 seconds.\n-- Epoch 4\nNorm: 419.76, NNZs: 15, Bias: 36.129886, T: 15468, Avg. loss: 220.924244\nTotal training time: 0.05 seconds.\n-- Epoch 5\nNorm: 369.65, NNZs: 15, Bias: 37.359519, T: 19335, Avg. loss: 172.482379\nTotal training time: 0.05 seconds.\n-- Epoch 6\nNorm: 326.93, NNZs: 15, Bias: 32.938846, T: 23202, Avg. loss: 142.482692\nTotal training time: 0.06 seconds.\n-- Epoch 7\nNorm: 292.31, NNZs: 15, Bias: 35.960561, T: 27069, Avg. loss: 125.940674\nTotal training time: 0.06 seconds.\n-- Epoch 8\nNorm: 263.62, NNZs: 15, Bias: 35.797661, T: 30936, Avg. loss: 105.971060\nTotal training time: 0.06 seconds.\n-- Epoch 9\nNorm: 243.58, NNZs: 15, Bias: 31.866457, T: 34803, Avg. loss: 93.561582\nTotal training time: 0.06 seconds.\n-- Epoch 10\nNorm: 222.04, NNZs: 15, Bias: 32.555596, T: 38670, Avg. loss: 83.425897\nTotal training time: 0.06 seconds.\n-- Epoch 11\nNorm: 206.38, NNZs: 15, Bias: 33.082092, T: 42537, Avg. loss: 77.279365\nTotal training time: 0.06 seconds.\n-- Epoch 12\nNorm: 191.46, NNZs: 15, Bias: 31.277175, T: 46404, Avg. loss: 70.300805\nTotal training time: 0.06 seconds.\n-- Epoch 13\nNorm: 180.54, NNZs: 15, Bias: 30.449806, T: 50271, Avg. loss: 64.633408\nTotal training time: 0.06 seconds.\n-- Epoch 14\nNorm: 168.45, NNZs: 15, Bias: 32.115789, T: 54138, Avg. loss: 59.247968\nTotal training time: 0.07 seconds.\n-- Epoch 15\nNorm: 157.86, NNZs: 15, Bias: 29.876103, T: 58005, Avg. loss: 55.538470\nTotal training time: 0.07 seconds.\n-- Epoch 16\nNorm: 148.98, NNZs: 15, Bias: 30.703227, T: 61872, Avg. loss: 52.810445\nTotal training time: 0.07 seconds.\n-- Epoch 17\nNorm: 141.27, NNZs: 15, Bias: 28.568488, T: 65739, Avg. loss: 47.154779\nTotal training time: 0.07 seconds.\n-- Epoch 18\nNorm: 134.04, NNZs: 15, Bias: 29.143062, T: 69606, Avg. loss: 47.775195\nTotal training time: 0.07 seconds.\n-- Epoch 19\nNorm: 125.88, NNZs: 15, Bias: 27.217032, T: 73473, Avg. loss: 42.314358\nTotal training time: 0.07 seconds.\n-- Epoch 20\nNorm: 122.05, NNZs: 15, Bias: 24.894308, T: 77340, Avg. loss: 41.787725\nTotal training time: 0.07 seconds.\n-- Epoch 21\nNorm: 117.05, NNZs: 15, Bias: 24.873577, T: 81207, Avg. loss: 40.709741\nTotal training time: 0.07 seconds.\n-- Epoch 22\nNorm: 114.35, NNZs: 15, Bias: 23.347836, T: 85074, Avg. loss: 39.424874\nTotal training time: 0.07 seconds.\n-- Epoch 23\nNorm: 108.87, NNZs: 15, Bias: 22.677730, T: 88941, Avg. loss: 36.866084\nTotal training time: 0.08 seconds.\n-- Epoch 24\nNorm: 102.55, NNZs: 15, Bias: 21.846063, T: 92808, Avg. loss: 34.758162\nTotal training time: 0.08 seconds.\n-- Epoch 25\nNorm: 96.73, NNZs: 15, Bias: 20.601948, T: 96675, Avg. loss: 33.231105\nTotal training time: 0.08 seconds.\n-- Epoch 26\nNorm: 94.18, NNZs: 15, Bias: 19.903418, T: 100542, Avg. loss: 32.097584\nTotal training time: 0.08 seconds.\n-- Epoch 27\nNorm: 89.90, NNZs: 15, Bias: 20.843841, T: 104409, Avg. loss: 31.500522\nTotal training time: 0.08 seconds.\n-- Epoch 28\nNorm: 87.46, NNZs: 15, Bias: 20.273488, T: 108276, Avg. loss: 30.962343\nTotal training time: 0.08 seconds.\n-- Epoch 29\nNorm: 83.14, NNZs: 15, Bias: 20.891564, T: 112143, Avg. loss: 28.128137\nTotal training time: 0.08 seconds.\n-- Epoch 30\nNorm: 80.83, NNZs: 15, Bias: 18.905442, T: 116010, Avg. loss: 28.000029\nTotal training time: 0.08 seconds.\n-- Epoch 31\nNorm: 78.33, NNZs: 15, Bias: 18.134161, T: 119877, Avg. loss: 26.644380\nTotal training time: 0.09 seconds.\n-- Epoch 32\nNorm: 75.96, NNZs: 15, Bias: 17.980488, T: 123744, Avg. loss: 26.048908\nTotal training time: 0.09 seconds.\n-- Epoch 33\nNorm: 72.94, NNZs: 15, Bias: 16.953312, T: 127611, Avg. loss: 25.154579\nTotal training time: 0.09 seconds.\n-- Epoch 34\nNorm: 71.79, NNZs: 15, Bias: 17.405426, T: 131478, Avg. loss: 24.422589\nTotal training time: 0.09 seconds.\n-- Epoch 35\nNorm: 69.46, NNZs: 15, Bias: 17.397148, T: 135345, Avg. loss: 24.235420\nTotal training time: 0.09 seconds.\n-- Epoch 36\nNorm: 68.33, NNZs: 15, Bias: 17.471061, T: 139212, Avg. loss: 24.291582\nTotal training time: 0.09 seconds.\n-- Epoch 37\nNorm: 67.20, NNZs: 15, Bias: 17.400833, T: 143079, Avg. loss: 23.034296\nTotal training time: 0.09 seconds.\n-- Epoch 38\nNorm: 64.96, NNZs: 15, Bias: 16.860481, T: 146946, Avg. loss: 22.883740\nTotal training time: 0.09 seconds.\n-- Epoch 39\nNorm: 64.05, NNZs: 15, Bias: 16.793782, T: 150813, Avg. loss: 22.023990\nTotal training time: 0.09 seconds.\n-- Epoch 40\nNorm: 60.94, NNZs: 15, Bias: 16.208872, T: 154680, Avg. loss: 20.909739\nTotal training time: 0.09 seconds.\n-- Epoch 41\nNorm: 61.51, NNZs: 15, Bias: 15.906850, T: 158547, Avg. loss: 20.461656\nTotal training time: 0.09 seconds.\n-- Epoch 42\nNorm: 59.98, NNZs: 15, Bias: 15.403299, T: 162414, Avg. loss: 19.571433\nTotal training time: 0.10 seconds.\n-- Epoch 43\nNorm: 58.49, NNZs: 15, Bias: 15.521488, T: 166281, Avg. loss: 19.580418\nTotal training time: 0.10 seconds.\n-- Epoch 44\nNorm: 57.33, NNZs: 15, Bias: 14.577906, T: 170148, Avg. loss: 18.965130\nTotal training time: 0.10 seconds.\n-- Epoch 45\nNorm: 56.14, NNZs: 15, Bias: 14.288934, T: 174015, Avg. loss: 19.575931\nTotal training time: 0.10 seconds.\n-- Epoch 46\nNorm: 54.76, NNZs: 15, Bias: 13.334599, T: 177882, Avg. loss: 18.841242\nTotal training time: 0.10 seconds.\n-- Epoch 47\nNorm: 53.87, NNZs: 15, Bias: 13.448757, T: 181749, Avg. loss: 18.519034\nTotal training time: 0.10 seconds.\n-- Epoch 48\nNorm: 51.74, NNZs: 15, Bias: 13.550551, T: 185616, Avg. loss: 17.416453\nTotal training time: 0.10 seconds.\n-- Epoch 49\nNorm: 52.25, NNZs: 15, Bias: 12.494917, T: 189483, Avg. loss: 17.304673\nTotal training time: 0.10 seconds.\n-- Epoch 50\nNorm: 50.25, NNZs: 15, Bias: 12.598099, T: 193350, Avg. loss: 17.005415\nTotal training time: 0.10 seconds.\n-- Epoch 51\nNorm: 49.77, NNZs: 15, Bias: 12.498901, T: 197217, Avg. loss: 16.561953\nTotal training time: 0.10 seconds.\n-- Epoch 52\nNorm: 48.96, NNZs: 15, Bias: 12.202068, T: 201084, Avg. loss: 16.596263\nTotal training time: 0.10 seconds.\n-- Epoch 53\nNorm: 48.80, NNZs: 15, Bias: 12.249059, T: 204951, Avg. loss: 16.271474\nTotal training time: 0.10 seconds.\n-- Epoch 54\nNorm: 49.10, NNZs: 15, Bias: 11.236533, T: 208818, Avg. loss: 15.723893\nTotal training time: 0.10 seconds.\n-- Epoch 55\nNorm: 47.51, NNZs: 15, Bias: 12.134999, T: 212685, Avg. loss: 15.792356\nTotal training time: 0.15 seconds.\n-- Epoch 56\nNorm: 46.41, NNZs: 15, Bias: 11.853058, T: 216552, Avg. loss: 15.824656\nTotal training time: 0.15 seconds.\n-- Epoch 57\nNorm: 45.19, NNZs: 15, Bias: 11.216045, T: 220419, Avg. loss: 15.292508\nTotal training time: 0.15 seconds.\n-- Epoch 58\nNorm: 43.64, NNZs: 15, Bias: 11.216114, T: 224286, Avg. loss: 14.658741\nTotal training time: 0.15 seconds.\n-- Epoch 59\nNorm: 42.73, NNZs: 15, Bias: 10.686864, T: 228153, Avg. loss: 14.483056\nTotal training time: 0.15 seconds.\n-- Epoch 60\nNorm: 42.06, NNZs: 15, Bias: 10.906255, T: 232020, Avg. loss: 14.278572\nTotal training time: 0.16 seconds.\n-- Epoch 61\nNorm: 41.97, NNZs: 15, Bias: 10.181137, T: 235887, Avg. loss: 13.959230\nTotal training time: 0.16 seconds.\n-- Epoch 62\nNorm: 40.90, NNZs: 15, Bias: 10.179947, T: 239754, Avg. loss: 13.647686\nTotal training time: 0.16 seconds.\n-- Epoch 63\nNorm: 40.64, NNZs: 15, Bias: 10.010375, T: 243621, Avg. loss: 14.096510\nTotal training time: 0.16 seconds.\n-- Epoch 64\nNorm: 40.37, NNZs: 15, Bias: 10.096222, T: 247488, Avg. loss: 13.710144\nTotal training time: 0.16 seconds.\n-- Epoch 65\nNorm: 39.98, NNZs: 15, Bias: 10.135837, T: 251355, Avg. loss: 12.903715\nTotal training time: 0.16 seconds.\n-- Epoch 66\nNorm: 39.06, NNZs: 15, Bias: 9.506809, T: 255222, Avg. loss: 12.755800\nTotal training time: 0.16 seconds.\n-- Epoch 67\nNorm: 39.12, NNZs: 15, Bias: 9.505230, T: 259089, Avg. loss: 12.899781\nTotal training time: 0.16 seconds.\n-- Epoch 68\nNorm: 38.38, NNZs: 15, Bias: 9.126274, T: 262956, Avg. loss: 12.613583\nTotal training time: 0.16 seconds.\n-- Epoch 69\nNorm: 37.33, NNZs: 15, Bias: 9.052137, T: 266823, Avg. loss: 12.429490\nTotal training time: 0.16 seconds.\n-- Epoch 70\nNorm: 36.33, NNZs: 15, Bias: 8.900794, T: 270690, Avg. loss: 12.368755\nTotal training time: 0.16 seconds.\n-- Epoch 71\nNorm: 35.94, NNZs: 15, Bias: 8.387774, T: 274557, Avg. loss: 12.029581\nTotal training time: 0.16 seconds.\n-- Epoch 72\nNorm: 35.79, NNZs: 15, Bias: 8.244889, T: 278424, Avg. loss: 11.899437\nTotal training time: 0.16 seconds.\n-- Epoch 73\nNorm: 35.64, NNZs: 15, Bias: 7.891420, T: 282291, Avg. loss: 11.737837\nTotal training time: 0.16 seconds.\n-- Epoch 74\nNorm: 35.48, NNZs: 15, Bias: 7.293272, T: 286158, Avg. loss: 12.110530\nTotal training time: 0.16 seconds.\n-- Epoch 75\nNorm: 34.32, NNZs: 15, Bias: 7.431298, T: 290025, Avg. loss: 11.569896\nTotal training time: 0.16 seconds.\n-- Epoch 76\nNorm: 34.39, NNZs: 15, Bias: 7.876611, T: 293892, Avg. loss: 11.421958\nTotal training time: 0.16 seconds.\n-- Epoch 77\nNorm: 33.01, NNZs: 15, Bias: 7.843614, T: 297759, Avg. loss: 11.281672\nTotal training time: 0.17 seconds.\n-- Epoch 78\nNorm: 32.24, NNZs: 15, Bias: 7.510972, T: 301626, Avg. loss: 10.891640\nTotal training time: 0.17 seconds.\n-- Epoch 79\nNorm: 32.56, NNZs: 15, Bias: 7.148703, T: 305493, Avg. loss: 10.997016\nTotal training time: 0.17 seconds.\n-- Epoch 80\nNorm: 32.58, NNZs: 15, Bias: 7.048461, T: 309360, Avg. loss: 11.092603\nTotal training time: 0.17 seconds.\n-- Epoch 81\nNorm: 32.65, NNZs: 15, Bias: 7.016691, T: 313227, Avg. loss: 10.849743\nTotal training time: 0.17 seconds.\n-- Epoch 82\nNorm: 31.93, NNZs: 15, Bias: 7.241607, T: 317094, Avg. loss: 10.616671\nTotal training time: 0.17 seconds.\n-- Epoch 83\nNorm: 32.35, NNZs: 15, Bias: 7.051706, T: 320961, Avg. loss: 10.608587\nTotal training time: 0.17 seconds.\n-- Epoch 84\nNorm: 31.64, NNZs: 15, Bias: 7.234239, T: 324828, Avg. loss: 10.321133\nTotal training time: 0.17 seconds.\n-- Epoch 85\nNorm: 31.40, NNZs: 15, Bias: 7.203981, T: 328695, Avg. loss: 10.549727\nTotal training time: 0.17 seconds.\n-- Epoch 86\nNorm: 30.57, NNZs: 15, Bias: 6.991135, T: 332562, Avg. loss: 10.523032\nTotal training time: 0.17 seconds.\n-- Epoch 87\nNorm: 30.59, NNZs: 15, Bias: 7.261261, T: 336429, Avg. loss: 9.852685\nTotal training time: 0.17 seconds.\n-- Epoch 88\nNorm: 30.44, NNZs: 15, Bias: 6.761869, T: 340296, Avg. loss: 10.440024\nTotal training time: 0.17 seconds.\n-- Epoch 89\nNorm: 30.41, NNZs: 15, Bias: 6.817318, T: 344163, Avg. loss: 9.364189\nTotal training time: 0.17 seconds.\n-- Epoch 90\nNorm: 29.85, NNZs: 15, Bias: 6.498262, T: 348030, Avg. loss: 10.025039\nTotal training time: 0.17 seconds.\n-- Epoch 91\nNorm: 28.94, NNZs: 15, Bias: 6.326834, T: 351897, Avg. loss: 9.637057\nTotal training time: 0.17 seconds.\n-- Epoch 92\nNorm: 28.31, NNZs: 15, Bias: 6.495016, T: 355764, Avg. loss: 9.329120\nTotal training time: 0.17 seconds.\n-- Epoch 93\nNorm: 28.46, NNZs: 15, Bias: 6.159439, T: 359631, Avg. loss: 9.218309\nTotal training time: 0.18 seconds.\n-- Epoch 94\nNorm: 28.12, NNZs: 15, Bias: 6.049526, T: 363498, Avg. loss: 9.060003\nTotal training time: 0.18 seconds.\n-- Epoch 95\nNorm: 27.93, NNZs: 15, Bias: 6.023227, T: 367365, Avg. loss: 9.508205\nTotal training time: 0.18 seconds.\n-- Epoch 96\nNorm: 28.27, NNZs: 15, Bias: 6.051103, T: 371232, Avg. loss: 8.877468\nTotal training time: 0.18 seconds.\n-- Epoch 97\nNorm: 28.12, NNZs: 15, Bias: 5.919757, T: 375099, Avg. loss: 9.034181\nTotal training time: 0.18 seconds.\n-- Epoch 98\nNorm: 27.44, NNZs: 15, Bias: 6.024902, T: 378966, Avg. loss: 8.945597\nTotal training time: 0.18 seconds.\n-- Epoch 99\nNorm: 26.69, NNZs: 15, Bias: 6.104020, T: 382833, Avg. loss: 8.703634\nTotal training time: 0.18 seconds.\n-- Epoch 100\nNorm: 27.00, NNZs: 15, Bias: 5.793399, T: 386700, Avg. loss: 8.888218\nTotal training time: 0.18 seconds.\n-- Epoch 101\nNorm: 26.20, NNZs: 15, Bias: 5.971490, T: 390567, Avg. loss: 8.983201\nTotal training time: 0.18 seconds.\n-- Epoch 102\nNorm: 25.79, NNZs: 15, Bias: 5.514088, T: 394434, Avg. loss: 8.657846\nTotal training time: 0.18 seconds.\n-- Epoch 103\nNorm: 25.68, NNZs: 15, Bias: 5.616089, T: 398301, Avg. loss: 8.799152\nTotal training time: 0.18 seconds.\n-- Epoch 104\nNorm: 25.42, NNZs: 15, Bias: 6.088573, T: 402168, Avg. loss: 8.242811\nTotal training time: 0.18 seconds.\n-- Epoch 105\nNorm: 24.83, NNZs: 15, Bias: 5.815485, T: 406035, Avg. loss: 8.662568\nTotal training time: 0.18 seconds.\n-- Epoch 106\nNorm: 24.51, NNZs: 15, Bias: 5.498645, T: 409902, Avg. loss: 8.670824\nTotal training time: 0.18 seconds.\n-- Epoch 107\nNorm: 24.66, NNZs: 15, Bias: 5.596959, T: 413769, Avg. loss: 8.365450\nTotal training time: 0.18 seconds.\n-- Epoch 108\nNorm: 24.59, NNZs: 15, Bias: 5.524007, T: 417636, Avg. loss: 7.960230\nTotal training time: 0.18 seconds.\n-- Epoch 109\nNorm: 24.48, NNZs: 15, Bias: 5.476459, T: 421503, Avg. loss: 8.217746\nTotal training time: 0.18 seconds.\n-- Epoch 110\nNorm: 24.45, NNZs: 15, Bias: 5.383569, T: 425370, Avg. loss: 7.905062\nTotal training time: 0.18 seconds.\n-- Epoch 111\nNorm: 24.69, NNZs: 15, Bias: 5.430021, T: 429237, Avg. loss: 8.024252\nTotal training time: 0.19 seconds.\n-- Epoch 112\nNorm: 23.72, NNZs: 15, Bias: 5.360470, T: 433104, Avg. loss: 7.878596\nTotal training time: 0.19 seconds.\n-- Epoch 113\nNorm: 23.57, NNZs: 15, Bias: 4.878620, T: 436971, Avg. loss: 7.867747\nTotal training time: 0.19 seconds.\n-- Epoch 114\nNorm: 23.39, NNZs: 15, Bias: 4.969994, T: 440838, Avg. loss: 7.973584\nTotal training time: 0.19 seconds.\n-- Epoch 115\nNorm: 23.34, NNZs: 15, Bias: 5.014598, T: 444705, Avg. loss: 7.704944\nTotal training time: 0.19 seconds.\n-- Epoch 116\nNorm: 23.09, NNZs: 15, Bias: 5.038158, T: 448572, Avg. loss: 7.498689\nTotal training time: 0.19 seconds.\n-- Epoch 117\nNorm: 23.18, NNZs: 15, Bias: 4.883252, T: 452439, Avg. loss: 7.564176\nTotal training time: 0.19 seconds.\n-- Epoch 118\nNorm: 22.88, NNZs: 15, Bias: 5.079363, T: 456306, Avg. loss: 7.568939\nTotal training time: 0.19 seconds.\n-- Epoch 119\nNorm: 22.79, NNZs: 15, Bias: 4.992260, T: 460173, Avg. loss: 7.765071\nTotal training time: 0.19 seconds.\n-- Epoch 120\nNorm: 22.85, NNZs: 15, Bias: 4.950220, T: 464040, Avg. loss: 7.534772\nTotal training time: 0.19 seconds.\n-- Epoch 121\nNorm: 23.19, NNZs: 15, Bias: 4.694286, T: 467907, Avg. loss: 7.425220\nTotal training time: 0.19 seconds.\n-- Epoch 122\nNorm: 22.98, NNZs: 15, Bias: 4.671251, T: 471774, Avg. loss: 7.564130\nTotal training time: 0.19 seconds.\n-- Epoch 123\nNorm: 22.33, NNZs: 15, Bias: 4.755210, T: 475641, Avg. loss: 7.359495\nTotal training time: 0.19 seconds.\n-- Epoch 124\nNorm: 22.15, NNZs: 15, Bias: 4.358454, T: 479508, Avg. loss: 7.162865\nTotal training time: 0.19 seconds.\n-- Epoch 125\nNorm: 21.92, NNZs: 15, Bias: 4.627631, T: 483375, Avg. loss: 7.230471\nTotal training time: 0.19 seconds.\n-- Epoch 126\nNorm: 21.49, NNZs: 15, Bias: 4.730419, T: 487242, Avg. loss: 7.274185\nTotal training time: 0.19 seconds.\n-- Epoch 127\nNorm: 21.48, NNZs: 15, Bias: 4.626749, T: 491109, Avg. loss: 7.072937\nTotal training time: 0.19 seconds.\n-- Epoch 128\nNorm: 21.34, NNZs: 15, Bias: 4.505691, T: 494976, Avg. loss: 7.043075\nTotal training time: 0.19 seconds.\n-- Epoch 129\nNorm: 21.51, NNZs: 15, Bias: 4.324639, T: 498843, Avg. loss: 7.139235\nTotal training time: 0.20 seconds.\n-- Epoch 130\nNorm: 21.39, NNZs: 15, Bias: 4.424818, T: 502710, Avg. loss: 6.935878\nTotal training time: 0.20 seconds.\n-- Epoch 131\nNorm: 20.98, NNZs: 15, Bias: 4.603941, T: 506577, Avg. loss: 6.874010\nTotal training time: 0.20 seconds.\n-- Epoch 132\nNorm: 20.95, NNZs: 15, Bias: 4.269790, T: 510444, Avg. loss: 6.950563\nTotal training time: 0.20 seconds.\n-- Epoch 133\nNorm: 20.66, NNZs: 15, Bias: 4.484836, T: 514311, Avg. loss: 6.804405\nTotal training time: 0.20 seconds.\n-- Epoch 134\nNorm: 20.44, NNZs: 15, Bias: 4.291422, T: 518178, Avg. loss: 6.915615\nTotal training time: 0.20 seconds.\n-- Epoch 135\nNorm: 20.19, NNZs: 15, Bias: 4.253222, T: 522045, Avg. loss: 6.539976\nTotal training time: 0.20 seconds.\n-- Epoch 136\nNorm: 20.34, NNZs: 15, Bias: 4.252951, T: 525912, Avg. loss: 6.459105\nTotal training time: 0.20 seconds.\n-- Epoch 137\nNorm: 20.30, NNZs: 15, Bias: 4.310583, T: 529779, Avg. loss: 6.695864\nTotal training time: 0.20 seconds.\n-- Epoch 138\nNorm: 20.32, NNZs: 15, Bias: 4.273011, T: 533646, Avg. loss: 6.679069\nTotal training time: 0.20 seconds.\n-- Epoch 139\nNorm: 19.66, NNZs: 15, Bias: 4.514380, T: 537513, Avg. loss: 6.559641\nTotal training time: 0.20 seconds.\n-- Epoch 140\nNorm: 19.44, NNZs: 15, Bias: 4.458251, T: 541380, Avg. loss: 6.380082\nTotal training time: 0.20 seconds.\n-- Epoch 141\nNorm: 19.74, NNZs: 15, Bias: 4.347591, T: 545247, Avg. loss: 6.527895\nTotal training time: 0.20 seconds.\n-- Epoch 142\nNorm: 19.81, NNZs: 15, Bias: 4.384381, T: 549114, Avg. loss: 6.459206\nTotal training time: 0.20 seconds.\n-- Epoch 143\nNorm: 20.27, NNZs: 15, Bias: 4.203403, T: 552981, Avg. loss: 6.516330\nTotal training time: 0.20 seconds.\n-- Epoch 144\nNorm: 19.89, NNZs: 15, Bias: 4.275141, T: 556848, Avg. loss: 6.204768\nTotal training time: 0.20 seconds.\n-- Epoch 145\nNorm: 19.76, NNZs: 15, Bias: 4.026147, T: 560715, Avg. loss: 6.415768\nTotal training time: 0.20 seconds.\n-- Epoch 146\nNorm: 19.81, NNZs: 15, Bias: 4.061621, T: 564582, Avg. loss: 6.025749\nTotal training time: 0.20 seconds.\n-- Epoch 147\nNorm: 19.54, NNZs: 15, Bias: 4.114860, T: 568449, Avg. loss: 6.215087\nTotal training time: 0.21 seconds.\n-- Epoch 148\nNorm: 19.26, NNZs: 15, Bias: 4.132647, T: 572316, Avg. loss: 6.293904\nTotal training time: 0.21 seconds.\n-- Epoch 149\nNorm: 19.02, NNZs: 15, Bias: 4.132396, T: 576183, Avg. loss: 6.263747\nTotal training time: 0.25 seconds.\n-- Epoch 150\nNorm: 18.83, NNZs: 15, Bias: 4.218743, T: 580050, Avg. loss: 6.138796\nTotal training time: 0.25 seconds.\n-- Epoch 151\nNorm: 18.41, NNZs: 15, Bias: 4.132876, T: 583917, Avg. loss: 6.172828\nTotal training time: 0.25 seconds.\nConvergence after 151 epochs took 0.25 seconds\n-- Epoch 1\nNorm: 665.53, NNZs: 15, Bias: -0.041381, T: 3867, Avg. loss: 1444.554198\nTotal training time: 0.00 seconds.\n-- Epoch 2\nNorm: 580.27, NNZs: 15, Bias: 15.974651, T: 7734, Avg. loss: 476.877037\nTotal training time: 0.00 seconds.\n-- Epoch 3\nNorm: 498.10, NNZs: 15, Bias: 43.166966, T: 11601, Avg. loss: 306.183718\nTotal training time: 0.00 seconds.\n-- Epoch 4\nNorm: 416.41, NNZs: 15, Bias: 53.469113, T: 15468, Avg. loss: 219.025380\nTotal training time: 0.00 seconds.\n-- Epoch 5\nNorm: 372.46, NNZs: 15, Bias: 57.750907, T: 19335, Avg. loss: 169.555459\nTotal training time: 0.00 seconds.\n-- Epoch 6\nNorm: 324.08, NNZs: 15, Bias: 60.543264, T: 23202, Avg. loss: 141.867366\nTotal training time: 0.00 seconds.\n-- Epoch 7\nNorm: 283.15, NNZs: 15, Bias: 61.283064, T: 27069, Avg. loss: 121.010568\nTotal training time: 0.01 seconds.\n-- Epoch 8\nNorm: 255.38, NNZs: 15, Bias: 55.215423, T: 30936, Avg. loss: 102.171954\nTotal training time: 0.01 seconds.\n-- Epoch 9\nNorm: 232.24, NNZs: 15, Bias: 54.037616, T: 34803, Avg. loss: 89.926425\nTotal training time: 0.01 seconds.\n-- Epoch 10\nNorm: 220.24, NNZs: 15, Bias: 53.106402, T: 38670, Avg. loss: 82.142416\nTotal training time: 0.01 seconds.\n-- Epoch 11\nNorm: 206.41, NNZs: 15, Bias: 51.208974, T: 42537, Avg. loss: 74.039676\nTotal training time: 0.01 seconds.\n-- Epoch 12\nNorm: 191.13, NNZs: 15, Bias: 49.180532, T: 46404, Avg. loss: 69.211060\nTotal training time: 0.01 seconds.\n-- Epoch 13\nNorm: 177.46, NNZs: 15, Bias: 48.727744, T: 50271, Avg. loss: 65.126189\nTotal training time: 0.01 seconds.\n-- Epoch 14\nNorm: 167.51, NNZs: 15, Bias: 46.980677, T: 54138, Avg. loss: 59.933898\nTotal training time: 0.02 seconds.\n-- Epoch 15\nNorm: 156.01, NNZs: 15, Bias: 44.671863, T: 58005, Avg. loss: 54.958239\nTotal training time: 0.02 seconds.\n-- Epoch 16\nNorm: 148.57, NNZs: 15, Bias: 45.045241, T: 61872, Avg. loss: 52.651062\nTotal training time: 0.02 seconds.\n-- Epoch 17\nNorm: 137.51, NNZs: 15, Bias: 42.878439, T: 65739, Avg. loss: 48.788178\nTotal training time: 0.02 seconds.\n-- Epoch 18\nNorm: 131.37, NNZs: 15, Bias: 37.805658, T: 69606, Avg. loss: 45.600956\nTotal training time: 0.02 seconds.\n-- Epoch 19\nNorm: 127.50, NNZs: 15, Bias: 35.330666, T: 73473, Avg. loss: 42.169288\nTotal training time: 0.02 seconds.\n-- Epoch 20\nNorm: 120.89, NNZs: 15, Bias: 35.475503, T: 77340, Avg. loss: 40.346055\nTotal training time: 0.02 seconds.\n-- Epoch 21\nNorm: 114.54, NNZs: 15, Bias: 34.199894, T: 81207, Avg. loss: 41.766476\nTotal training time: 0.02 seconds.\n-- Epoch 22\nNorm: 106.50, NNZs: 15, Bias: 32.631305, T: 85074, Avg. loss: 36.646436\nTotal training time: 0.02 seconds.\n-- Epoch 23\nNorm: 103.32, NNZs: 15, Bias: 30.611260, T: 88941, Avg. loss: 35.951080\nTotal training time: 0.08 seconds.\n-- Epoch 24\nNorm: 100.56, NNZs: 15, Bias: 30.172303, T: 92808, Avg. loss: 34.257581\nTotal training time: 0.08 seconds.\n-- Epoch 25\nNorm: 95.82, NNZs: 15, Bias: 30.025494, T: 96675, Avg. loss: 32.616176\nTotal training time: 0.08 seconds.\n-- Epoch 26\nNorm: 94.20, NNZs: 15, Bias: 28.028802, T: 100542, Avg. loss: 32.315924\nTotal training time: 0.08 seconds.\n-- Epoch 27\nNorm: 90.22, NNZs: 15, Bias: 28.778016, T: 104409, Avg. loss: 30.411294\nTotal training time: 0.08 seconds.\n-- Epoch 28\nNorm: 86.36, NNZs: 15, Bias: 26.550778, T: 108276, Avg. loss: 29.492494\nTotal training time: 0.08 seconds.\n-- Epoch 29\nNorm: 84.10, NNZs: 15, Bias: 25.273295, T: 112143, Avg. loss: 30.519443\nTotal training time: 0.08 seconds.\n-- Epoch 30\nNorm: 80.72, NNZs: 15, Bias: 23.966528, T: 116010, Avg. loss: 26.322764\nTotal training time: 0.08 seconds.\n-- Epoch 31\nNorm: 79.36, NNZs: 15, Bias: 22.356110, T: 119877, Avg. loss: 26.766198\nTotal training time: 0.08 seconds.\n-- Epoch 32\nNorm: 76.53, NNZs: 15, Bias: 22.367890, T: 123744, Avg. loss: 25.007855\nTotal training time: 0.08 seconds.\n-- Epoch 33\nNorm: 73.06, NNZs: 15, Bias: 22.145926, T: 127611, Avg. loss: 24.453142\nTotal training time: 0.09 seconds.\n-- Epoch 34\nNorm: 70.80, NNZs: 15, Bias: 22.218949, T: 131478, Avg. loss: 24.890226\nTotal training time: 0.09 seconds.\n-- Epoch 35\nNorm: 71.17, NNZs: 15, Bias: 20.591804, T: 135345, Avg. loss: 25.497819\nTotal training time: 0.09 seconds.\n-- Epoch 36\nNorm: 68.75, NNZs: 15, Bias: 20.513190, T: 139212, Avg. loss: 22.980254\nTotal training time: 0.09 seconds.\n-- Epoch 37\nNorm: 68.29, NNZs: 15, Bias: 19.681297, T: 143079, Avg. loss: 21.452097\nTotal training time: 0.09 seconds.\n-- Epoch 38\nNorm: 66.74, NNZs: 15, Bias: 18.932372, T: 146946, Avg. loss: 21.618434\nTotal training time: 0.09 seconds.\n-- Epoch 39\nNorm: 64.80, NNZs: 15, Bias: 19.457462, T: 150813, Avg. loss: 21.021663\nTotal training time: 0.09 seconds.\n-- Epoch 40\nNorm: 63.37, NNZs: 15, Bias: 18.414248, T: 154680, Avg. loss: 20.550714\nTotal training time: 0.09 seconds.\n-- Epoch 41\nNorm: 62.72, NNZs: 15, Bias: 17.594487, T: 158547, Avg. loss: 20.367090\nTotal training time: 0.09 seconds.\n-- Epoch 42\nNorm: 60.81, NNZs: 15, Bias: 16.542539, T: 162414, Avg. loss: 19.241546\nTotal training time: 0.09 seconds.\n-- Epoch 43\nNorm: 58.78, NNZs: 15, Bias: 15.999623, T: 166281, Avg. loss: 19.146926\nTotal training time: 0.09 seconds.\n-- Epoch 44\nNorm: 56.91, NNZs: 15, Bias: 15.529061, T: 170148, Avg. loss: 18.523613\nTotal training time: 0.09 seconds.\n-- Epoch 45\nNorm: 55.38, NNZs: 15, Bias: 15.067394, T: 174015, Avg. loss: 17.972051\nTotal training time: 0.09 seconds.\n-- Epoch 46\nNorm: 56.04, NNZs: 15, Bias: 13.719273, T: 177882, Avg. loss: 17.559626\nTotal training time: 0.10 seconds.\n-- Epoch 47\nNorm: 55.44, NNZs: 15, Bias: 13.336807, T: 181749, Avg. loss: 17.779919\nTotal training time: 0.10 seconds.\n-- Epoch 48\nNorm: 54.14, NNZs: 15, Bias: 13.559273, T: 185616, Avg. loss: 18.306009\nTotal training time: 0.10 seconds.\n-- Epoch 49\nNorm: 53.73, NNZs: 15, Bias: 14.037399, T: 189483, Avg. loss: 17.024273\nTotal training time: 0.10 seconds.\n-- Epoch 50\nNorm: 53.70, NNZs: 15, Bias: 13.003303, T: 193350, Avg. loss: 16.890798\nTotal training time: 0.10 seconds.\n-- Epoch 51\nNorm: 51.53, NNZs: 15, Bias: 12.700086, T: 197217, Avg. loss: 16.661211\nTotal training time: 0.10 seconds.\n-- Epoch 52\nNorm: 50.88, NNZs: 15, Bias: 12.750813, T: 201084, Avg. loss: 16.396984\nTotal training time: 0.10 seconds.\n-- Epoch 53\nNorm: 48.97, NNZs: 15, Bias: 12.550502, T: 204951, Avg. loss: 15.550279\nTotal training time: 0.10 seconds.\n-- Epoch 54\nNorm: 48.22, NNZs: 15, Bias: 11.299277, T: 208818, Avg. loss: 15.920416\nTotal training time: 0.10 seconds.\n-- Epoch 55\nNorm: 47.68, NNZs: 15, Bias: 11.157606, T: 212685, Avg. loss: 15.254893\nTotal training time: 0.10 seconds.\n-- Epoch 56\nNorm: 46.80, NNZs: 15, Bias: 10.372233, T: 216552, Avg. loss: 14.599765\nTotal training time: 0.10 seconds.\n-- Epoch 57\nNorm: 45.61, NNZs: 15, Bias: 10.689565, T: 220419, Avg. loss: 15.028653\nTotal training time: 0.10 seconds.\n-- Epoch 58\nNorm: 45.38, NNZs: 15, Bias: 10.824617, T: 224286, Avg. loss: 13.999693\nTotal training time: 0.10 seconds.\n-- Epoch 59\nNorm: 43.73, NNZs: 15, Bias: 11.044660, T: 228153, Avg. loss: 14.293825\nTotal training time: 0.10 seconds.\n-- Epoch 60\nNorm: 43.73, NNZs: 15, Bias: 10.742076, T: 232020, Avg. loss: 14.245902\nTotal training time: 0.10 seconds.\n-- Epoch 61\nNorm: 42.43, NNZs: 15, Bias: 11.082975, T: 235887, Avg. loss: 13.918168\nTotal training time: 0.10 seconds.\n-- Epoch 62\nNorm: 41.80, NNZs: 15, Bias: 10.789677, T: 239754, Avg. loss: 13.471944\nTotal training time: 0.11 seconds.\n-- Epoch 63\nNorm: 41.73, NNZs: 15, Bias: 10.135655, T: 243621, Avg. loss: 13.767744\nTotal training time: 0.11 seconds.\n-- Epoch 64\nNorm: 40.74, NNZs: 15, Bias: 10.339873, T: 247488, Avg. loss: 12.802763\nTotal training time: 0.11 seconds.\n-- Epoch 65\nNorm: 40.64, NNZs: 15, Bias: 9.740451, T: 251355, Avg. loss: 12.885896\nTotal training time: 0.11 seconds.\n-- Epoch 66\nNorm: 40.31, NNZs: 15, Bias: 10.331484, T: 255222, Avg. loss: 13.200076\nTotal training time: 0.11 seconds.\n-- Epoch 67\nNorm: 39.42, NNZs: 15, Bias: 9.981401, T: 259089, Avg. loss: 12.504986\nTotal training time: 0.11 seconds.\n-- Epoch 68\nNorm: 38.63, NNZs: 15, Bias: 9.711180, T: 262956, Avg. loss: 12.664294\nTotal training time: 0.11 seconds.\n-- Epoch 69\nNorm: 38.43, NNZs: 15, Bias: 9.674230, T: 266823, Avg. loss: 12.905736\nTotal training time: 0.11 seconds.\n-- Epoch 70\nNorm: 37.54, NNZs: 15, Bias: 9.307072, T: 270690, Avg. loss: 12.197534\nTotal training time: 0.11 seconds.\n-- Epoch 71\nNorm: 37.42, NNZs: 15, Bias: 9.597337, T: 274557, Avg. loss: 12.192247\nTotal training time: 0.11 seconds.\n-- Epoch 72\nNorm: 37.36, NNZs: 15, Bias: 9.745024, T: 278424, Avg. loss: 11.629752\nTotal training time: 0.11 seconds.\n-- Epoch 73\nNorm: 36.71, NNZs: 15, Bias: 9.317413, T: 282291, Avg. loss: 11.974592\nTotal training time: 0.11 seconds.\n-- Epoch 74\nNorm: 36.07, NNZs: 15, Bias: 9.070861, T: 286158, Avg. loss: 11.855555\nTotal training time: 0.11 seconds.\n-- Epoch 75\nNorm: 35.65, NNZs: 15, Bias: 8.761480, T: 290025, Avg. loss: 11.458793\nTotal training time: 0.11 seconds.\n-- Epoch 76\nNorm: 35.20, NNZs: 15, Bias: 8.793462, T: 293892, Avg. loss: 11.149402\nTotal training time: 0.12 seconds.\n-- Epoch 77\nNorm: 34.51, NNZs: 15, Bias: 8.789747, T: 297759, Avg. loss: 10.954574\nTotal training time: 0.12 seconds.\n-- Epoch 78\nNorm: 34.29, NNZs: 15, Bias: 8.556161, T: 301626, Avg. loss: 10.797367\nTotal training time: 0.12 seconds.\n-- Epoch 79\nNorm: 34.17, NNZs: 15, Bias: 8.653217, T: 305493, Avg. loss: 10.469773\nTotal training time: 0.12 seconds.\n-- Epoch 80\nNorm: 34.18, NNZs: 15, Bias: 8.590988, T: 309360, Avg. loss: 10.548938\nTotal training time: 0.12 seconds.\n-- Epoch 81\nNorm: 33.28, NNZs: 15, Bias: 8.431549, T: 313227, Avg. loss: 10.665617\nTotal training time: 0.12 seconds.\n-- Epoch 82\nNorm: 33.28, NNZs: 15, Bias: 7.703879, T: 317094, Avg. loss: 10.367461\nTotal training time: 0.12 seconds.\n-- Epoch 83\nNorm: 32.07, NNZs: 15, Bias: 7.674727, T: 320961, Avg. loss: 10.606770\nTotal training time: 0.12 seconds.\n-- Epoch 84\nNorm: 31.81, NNZs: 15, Bias: 7.552684, T: 324828, Avg. loss: 10.347253\nTotal training time: 0.12 seconds.\n-- Epoch 85\nNorm: 31.76, NNZs: 15, Bias: 7.400172, T: 328695, Avg. loss: 9.928102\nTotal training time: 0.12 seconds.\n-- Epoch 86\nNorm: 31.25, NNZs: 15, Bias: 7.397236, T: 332562, Avg. loss: 10.027474\nTotal training time: 0.12 seconds.\n-- Epoch 87\nNorm: 30.99, NNZs: 15, Bias: 7.308104, T: 336429, Avg. loss: 10.070267\nTotal training time: 0.12 seconds.\n-- Epoch 88\nNorm: 30.35, NNZs: 15, Bias: 6.894578, T: 340296, Avg. loss: 9.718711\nTotal training time: 0.12 seconds.\n-- Epoch 89\nNorm: 29.31, NNZs: 15, Bias: 7.563480, T: 344163, Avg. loss: 9.992913\nTotal training time: 0.12 seconds.\n-- Epoch 90\nNorm: 28.99, NNZs: 15, Bias: 7.709153, T: 348030, Avg. loss: 9.767975\nTotal training time: 0.13 seconds.\n-- Epoch 91\nNorm: 29.01, NNZs: 15, Bias: 7.537286, T: 351897, Avg. loss: 9.600787\nTotal training time: 0.13 seconds.\n-- Epoch 92\nNorm: 29.03, NNZs: 15, Bias: 7.425730, T: 355764, Avg. loss: 9.339969\nTotal training time: 0.13 seconds.\n-- Epoch 93\nNorm: 28.76, NNZs: 15, Bias: 7.399138, T: 359631, Avg. loss: 8.939186\nTotal training time: 0.13 seconds.\n-- Epoch 94\nNorm: 28.82, NNZs: 15, Bias: 7.373525, T: 363498, Avg. loss: 9.227957\nTotal training time: 0.13 seconds.\n-- Epoch 95\nNorm: 28.61, NNZs: 15, Bias: 7.102726, T: 367365, Avg. loss: 9.400991\nTotal training time: 0.13 seconds.\n-- Epoch 96\nNorm: 28.08, NNZs: 15, Bias: 7.263771, T: 371232, Avg. loss: 9.114524\nTotal training time: 0.13 seconds.\n-- Epoch 97\nNorm: 27.72, NNZs: 15, Bias: 7.102794, T: 375099, Avg. loss: 8.824615\nTotal training time: 0.13 seconds.\n-- Epoch 98\nNorm: 27.97, NNZs: 15, Bias: 6.865379, T: 378966, Avg. loss: 9.007888\nTotal training time: 0.13 seconds.\n-- Epoch 99\nNorm: 27.21, NNZs: 15, Bias: 7.177995, T: 382833, Avg. loss: 9.141151\nTotal training time: 0.13 seconds.\n-- Epoch 100\nNorm: 26.88, NNZs: 15, Bias: 7.021510, T: 386700, Avg. loss: 8.746937\nTotal training time: 0.13 seconds.\n-- Epoch 101\nNorm: 26.75, NNZs: 15, Bias: 6.842489, T: 390567, Avg. loss: 8.750508\nTotal training time: 0.13 seconds.\n-- Epoch 102\nNorm: 26.04, NNZs: 15, Bias: 6.789845, T: 394434, Avg. loss: 8.486807\nTotal training time: 0.18 seconds.\n-- Epoch 103\nNorm: 25.88, NNZs: 15, Bias: 6.814514, T: 398301, Avg. loss: 8.499485\nTotal training time: 0.18 seconds.\n-- Epoch 104\nNorm: 25.95, NNZs: 15, Bias: 6.314844, T: 402168, Avg. loss: 8.620555\nTotal training time: 0.18 seconds.\n-- Epoch 105\nNorm: 26.11, NNZs: 15, Bias: 5.919300, T: 406035, Avg. loss: 8.259754\nTotal training time: 0.18 seconds.\n-- Epoch 106\nNorm: 25.95, NNZs: 15, Bias: 6.018363, T: 409902, Avg. loss: 8.404870\nTotal training time: 0.18 seconds.\n-- Epoch 107\nNorm: 26.04, NNZs: 15, Bias: 6.163066, T: 413769, Avg. loss: 8.041241\nTotal training time: 0.18 seconds.\n-- Epoch 108\nNorm: 25.86, NNZs: 15, Bias: 5.923742, T: 417636, Avg. loss: 8.099773\nTotal training time: 0.18 seconds.\n-- Epoch 109\nNorm: 25.67, NNZs: 15, Bias: 5.950166, T: 421503, Avg. loss: 8.161484\nTotal training time: 0.19 seconds.\n-- Epoch 110\nNorm: 25.13, NNZs: 15, Bias: 6.162585, T: 425370, Avg. loss: 7.857958\nTotal training time: 0.19 seconds.\n-- Epoch 111\nNorm: 24.53, NNZs: 15, Bias: 5.789396, T: 429237, Avg. loss: 7.981653\nTotal training time: 0.19 seconds.\n-- Epoch 112\nNorm: 24.61, NNZs: 15, Bias: 5.859462, T: 433104, Avg. loss: 7.647232\nTotal training time: 0.19 seconds.\n-- Epoch 113\nNorm: 24.14, NNZs: 15, Bias: 5.995362, T: 436971, Avg. loss: 7.697465\nTotal training time: 0.19 seconds.\n-- Epoch 114\nNorm: 24.46, NNZs: 15, Bias: 5.721216, T: 440838, Avg. loss: 7.552327\nTotal training time: 0.19 seconds.\n-- Epoch 115\nNorm: 24.08, NNZs: 15, Bias: 5.608617, T: 444705, Avg. loss: 7.509556\nTotal training time: 0.19 seconds.\n-- Epoch 116\nNorm: 24.18, NNZs: 15, Bias: 5.497007, T: 448572, Avg. loss: 7.863597\nTotal training time: 0.19 seconds.\n-- Epoch 117\nNorm: 23.43, NNZs: 15, Bias: 5.473910, T: 452439, Avg. loss: 7.357484\nTotal training time: 0.19 seconds.\n-- Epoch 118\nNorm: 23.01, NNZs: 15, Bias: 5.342027, T: 456306, Avg. loss: 7.455958\nTotal training time: 0.19 seconds.\n-- Epoch 119\nNorm: 22.53, NNZs: 15, Bias: 5.189401, T: 460173, Avg. loss: 7.580256\nTotal training time: 0.19 seconds.\n-- Epoch 120\nNorm: 22.26, NNZs: 15, Bias: 4.908864, T: 464040, Avg. loss: 7.527554\nTotal training time: 0.20 seconds.\n-- Epoch 121\nNorm: 22.14, NNZs: 15, Bias: 4.993826, T: 467907, Avg. loss: 7.333100\nTotal training time: 0.20 seconds.\n-- Epoch 122\nNorm: 21.89, NNZs: 15, Bias: 4.547593, T: 471774, Avg. loss: 7.246769\nTotal training time: 0.20 seconds.\n-- Epoch 123\nNorm: 21.52, NNZs: 15, Bias: 4.189792, T: 475641, Avg. loss: 7.302508\nTotal training time: 0.20 seconds.\n-- Epoch 124\nNorm: 21.35, NNZs: 15, Bias: 4.211381, T: 479508, Avg. loss: 7.315447\nTotal training time: 0.20 seconds.\n-- Epoch 125\nNorm: 21.16, NNZs: 15, Bias: 4.232378, T: 483375, Avg. loss: 7.175716\nTotal training time: 0.20 seconds.\n-- Epoch 126\nNorm: 20.88, NNZs: 15, Bias: 4.314061, T: 487242, Avg. loss: 6.841529\nTotal training time: 0.20 seconds.\n-- Epoch 127\nNorm: 20.70, NNZs: 15, Bias: 4.721930, T: 491109, Avg. loss: 6.909099\nTotal training time: 0.20 seconds.\n-- Epoch 128\nNorm: 20.93, NNZs: 15, Bias: 4.296070, T: 494976, Avg. loss: 6.882647\nTotal training time: 0.20 seconds.\n-- Epoch 129\nNorm: 20.69, NNZs: 15, Bias: 4.375656, T: 498843, Avg. loss: 6.821404\nTotal training time: 0.20 seconds.\n-- Epoch 130\nNorm: 21.08, NNZs: 15, Bias: 4.177774, T: 502710, Avg. loss: 6.949877\nTotal training time: 0.20 seconds.\n-- Epoch 131\nNorm: 21.36, NNZs: 15, Bias: 4.020288, T: 506577, Avg. loss: 6.559823\nTotal training time: 0.20 seconds.\n-- Epoch 132\nNorm: 21.29, NNZs: 15, Bias: 4.001040, T: 510444, Avg. loss: 6.785796\nTotal training time: 0.20 seconds.\n-- Epoch 133\nNorm: 20.76, NNZs: 15, Bias: 4.215613, T: 514311, Avg. loss: 6.722535\nTotal training time: 0.20 seconds.\n-- Epoch 134\nNorm: 20.22, NNZs: 15, Bias: 4.118751, T: 518178, Avg. loss: 6.702419\nTotal training time: 0.20 seconds.\n-- Epoch 135\nNorm: 20.07, NNZs: 15, Bias: 4.233950, T: 522045, Avg. loss: 6.725426\nTotal training time: 0.20 seconds.\n-- Epoch 136\nNorm: 20.28, NNZs: 15, Bias: 4.157861, T: 525912, Avg. loss: 6.440187\nTotal training time: 0.21 seconds.\n-- Epoch 137\nNorm: 19.72, NNZs: 15, Bias: 4.345748, T: 529779, Avg. loss: 6.592263\nTotal training time: 0.21 seconds.\n-- Epoch 138\nNorm: 19.84, NNZs: 15, Bias: 4.195344, T: 533646, Avg. loss: 6.187826\nTotal training time: 0.21 seconds.\n-- Epoch 139\nNorm: 19.52, NNZs: 15, Bias: 4.325127, T: 537513, Avg. loss: 6.401283\nTotal training time: 0.21 seconds.\n-- Epoch 140\nNorm: 19.20, NNZs: 15, Bias: 4.434010, T: 541380, Avg. loss: 6.411040\nTotal training time: 0.21 seconds.\n-- Epoch 141\nNorm: 19.49, NNZs: 15, Bias: 4.157848, T: 545247, Avg. loss: 6.380214\nTotal training time: 0.21 seconds.\n-- Epoch 142\nNorm: 19.07, NNZs: 15, Bias: 3.956602, T: 549114, Avg. loss: 6.162692\nTotal training time: 0.21 seconds.\n-- Epoch 143\nNorm: 18.86, NNZs: 15, Bias: 3.810614, T: 552981, Avg. loss: 6.161106\nTotal training time: 0.21 seconds.\n-- Epoch 144\nNorm: 18.60, NNZs: 15, Bias: 3.864506, T: 556848, Avg. loss: 6.085806\nTotal training time: 0.21 seconds.\n-- Epoch 145\nNorm: 18.44, NNZs: 15, Bias: 3.668207, T: 560715, Avg. loss: 5.991328\nTotal training time: 0.21 seconds.\n-- Epoch 146\n",
     "output_type": "stream"
    }
   ]
  },
  {
   "cell_type": "code",
   "metadata": {
    "tags": [],
    "deepnote_to_be_reexecuted": true,
    "source_hash": "32c9439c",
    "execution_start": 1621909115239,
    "execution_millis": 19,
    "cell_id": "00054-3f014b93-f3fb-41c6-90f7-9d45cf834a0e",
    "deepnote_cell_type": "code"
   },
   "source": "# Returns max value of the mean test score \nmax(scores['mean_test_score'])",
   "execution_count": null,
   "outputs": [
    {
     "output_type": "execute_result",
     "execution_count": 87,
     "data": {
      "text/plain": "0.6892799869824284"
     },
     "metadata": {}
    }
   ]
  },
  {
   "cell_type": "code",
   "metadata": {
    "tags": [],
    "deepnote_to_be_reexecuted": true,
    "source_hash": "46f0d3fb",
    "execution_start": 1621909115255,
    "execution_millis": 20,
    "is_output_hidden": true,
    "cell_id": "00055-926ab0c6-923f-448f-9d31-9c589046b472",
    "deepnote_cell_type": "code"
   },
   "source": "# loop that runs all of the possible parameter configurations from the parameter dictionary above\nfor mean_score, params in sorted(list(zip(scores[\"mean_test_score\"], scores[\"params\"])),key = lambda x: x[0]):\n     print(f'Best parameters for SGD Classifier are {params} with a score of {mean_score}')",
   "execution_count": null,
   "outputs": [
    {
     "name": "stdout",
     "text": "Best parameters for SGD Classifier are {'alpha': 1, 'class_weight': 'balanced', 'shuffle': False, 'verbose': 0} with a score of 0.502272936511505\nBest parameters for SGD Classifier are {'alpha': 1, 'class_weight': 'balanced', 'shuffle': False, 'verbose': 1} with a score of 0.502272936511505\nBest parameters for SGD Classifier are {'alpha': 1, 'class_weight': 'balanced', 'shuffle': False, 'verbose': 5} with a score of 0.502272936511505\nBest parameters for SGD Classifier are {'alpha': 1, 'class_weight': 'balanced', 'shuffle': False, 'verbose': 10} with a score of 0.502272936511505\nBest parameters for SGD Classifier are {'alpha': 1, 'class_weight': None, 'shuffle': True, 'verbose': 0} with a score of 0.5161302271009569\nBest parameters for SGD Classifier are {'alpha': 1, 'class_weight': None, 'shuffle': False, 'verbose': 0} with a score of 0.5208872074525597\nBest parameters for SGD Classifier are {'alpha': 1, 'class_weight': None, 'shuffle': False, 'verbose': 1} with a score of 0.5208872074525597\nBest parameters for SGD Classifier are {'alpha': 1, 'class_weight': None, 'shuffle': False, 'verbose': 5} with a score of 0.5208872074525597\nBest parameters for SGD Classifier are {'alpha': 1, 'class_weight': None, 'shuffle': False, 'verbose': 10} with a score of 0.5208872074525597\nBest parameters for SGD Classifier are {'alpha': 1, 'class_weight': None, 'shuffle': True, 'verbose': 10} with a score of 0.5219448851434823\nBest parameters for SGD Classifier are {'alpha': 1, 'class_weight': 'balanced', 'shuffle': True, 'verbose': 5} with a score of 0.5248211689693638\nBest parameters for SGD Classifier are {'alpha': 0.0001, 'class_weight': None, 'shuffle': True, 'verbose': 10} with a score of 0.5252346053299248\nBest parameters for SGD Classifier are {'alpha': 1, 'class_weight': None, 'shuffle': True, 'verbose': 5} with a score of 0.5252348194347205\nBest parameters for SGD Classifier are {'alpha': 0.0001, 'class_weight': None, 'shuffle': False, 'verbose': 0} with a score of 0.5262689455981124\nBest parameters for SGD Classifier are {'alpha': 0.0001, 'class_weight': None, 'shuffle': False, 'verbose': 1} with a score of 0.5262689455981124\nBest parameters for SGD Classifier are {'alpha': 0.0001, 'class_weight': None, 'shuffle': False, 'verbose': 5} with a score of 0.5262689455981124\nBest parameters for SGD Classifier are {'alpha': 0.0001, 'class_weight': None, 'shuffle': False, 'verbose': 10} with a score of 0.5262689455981124\nBest parameters for SGD Classifier are {'alpha': 1, 'class_weight': 'balanced', 'shuffle': True, 'verbose': 1} with a score of 0.5289533915270168\nBest parameters for SGD Classifier are {'alpha': 1, 'class_weight': 'balanced', 'shuffle': True, 'verbose': 10} with a score of 0.5343428374452159\nBest parameters for SGD Classifier are {'alpha': 1, 'class_weight': 'balanced', 'shuffle': True, 'verbose': 0} with a score of 0.5380704019389331\nBest parameters for SGD Classifier are {'alpha': 1, 'class_weight': None, 'shuffle': True, 'verbose': 1} with a score of 0.5397125857222076\nBest parameters for SGD Classifier are {'alpha': 0.0001, 'class_weight': 'balanced', 'shuffle': True, 'verbose': 10} with a score of 0.5502679521518602\nBest parameters for SGD Classifier are {'alpha': 0.0001, 'class_weight': 'balanced', 'shuffle': True, 'verbose': 5} with a score of 0.5537762733347465\nBest parameters for SGD Classifier are {'alpha': 0.0001, 'class_weight': 'balanced', 'shuffle': True, 'verbose': 1} with a score of 0.5603938243612718\nBest parameters for SGD Classifier are {'alpha': 0.0001, 'class_weight': 'balanced', 'shuffle': True, 'verbose': 0} with a score of 0.5670265768282944\nBest parameters for SGD Classifier are {'alpha': 0.0001, 'class_weight': 'balanced', 'shuffle': False, 'verbose': 0} with a score of 0.5796298556291363\nBest parameters for SGD Classifier are {'alpha': 0.0001, 'class_weight': 'balanced', 'shuffle': False, 'verbose': 1} with a score of 0.5796298556291363\nBest parameters for SGD Classifier are {'alpha': 0.0001, 'class_weight': 'balanced', 'shuffle': False, 'verbose': 5} with a score of 0.5796298556291363\nBest parameters for SGD Classifier are {'alpha': 0.0001, 'class_weight': 'balanced', 'shuffle': False, 'verbose': 10} with a score of 0.5796298556291363\nBest parameters for SGD Classifier are {'alpha': 0.001, 'class_weight': None, 'shuffle': True, 'verbose': 0} with a score of 0.5994981383588011\nBest parameters for SGD Classifier are {'alpha': 0.0001, 'class_weight': None, 'shuffle': True, 'verbose': 1} with a score of 0.5998991566412096\nBest parameters for SGD Classifier are {'alpha': 0.01, 'class_weight': 'balanced', 'shuffle': False, 'verbose': 0} with a score of 0.6005207028632233\nBest parameters for SGD Classifier are {'alpha': 0.01, 'class_weight': 'balanced', 'shuffle': False, 'verbose': 1} with a score of 0.6005207028632233\nBest parameters for SGD Classifier are {'alpha': 0.01, 'class_weight': 'balanced', 'shuffle': False, 'verbose': 5} with a score of 0.6005207028632233\nBest parameters for SGD Classifier are {'alpha': 0.01, 'class_weight': 'balanced', 'shuffle': False, 'verbose': 10} with a score of 0.6005207028632233\nBest parameters for SGD Classifier are {'alpha': 0.0001, 'class_weight': None, 'shuffle': True, 'verbose': 5} with a score of 0.6011576646305301\nBest parameters for SGD Classifier are {'alpha': 0.01, 'class_weight': None, 'shuffle': False, 'verbose': 0} with a score of 0.607965126610871\nBest parameters for SGD Classifier are {'alpha': 0.01, 'class_weight': None, 'shuffle': False, 'verbose': 1} with a score of 0.607965126610871\nBest parameters for SGD Classifier are {'alpha': 0.01, 'class_weight': None, 'shuffle': False, 'verbose': 5} with a score of 0.607965126610871\nBest parameters for SGD Classifier are {'alpha': 0.01, 'class_weight': None, 'shuffle': False, 'verbose': 10} with a score of 0.607965126610871\nBest parameters for SGD Classifier are {'alpha': 0.001, 'class_weight': 'balanced', 'shuffle': True, 'verbose': 10} with a score of 0.6115158405433123\nBest parameters for SGD Classifier are {'alpha': 0.001, 'class_weight': None, 'shuffle': True, 'verbose': 10} with a score of 0.6144088245432608\nBest parameters for SGD Classifier are {'alpha': 0.001, 'class_weight': None, 'shuffle': True, 'verbose': 5} with a score of 0.6185427599392799\nBest parameters for SGD Classifier are {'alpha': 0.001, 'class_weight': None, 'shuffle': True, 'verbose': 1} with a score of 0.6212250648202269\nBest parameters for SGD Classifier are {'alpha': 0.001, 'class_weight': 'balanced', 'shuffle': True, 'verbose': 0} with a score of 0.6259625616354181\nBest parameters for SGD Classifier are {'alpha': 0.001, 'class_weight': 'balanced', 'shuffle': False, 'verbose': 0} with a score of 0.6300952124026626\nBest parameters for SGD Classifier are {'alpha': 0.001, 'class_weight': 'balanced', 'shuffle': False, 'verbose': 1} with a score of 0.6300952124026626\nBest parameters for SGD Classifier are {'alpha': 0.001, 'class_weight': 'balanced', 'shuffle': False, 'verbose': 5} with a score of 0.6300952124026626\nBest parameters for SGD Classifier are {'alpha': 0.001, 'class_weight': 'balanced', 'shuffle': False, 'verbose': 10} with a score of 0.6300952124026626\nBest parameters for SGD Classifier are {'alpha': 0.0001, 'class_weight': None, 'shuffle': True, 'verbose': 0} with a score of 0.6301296832747756\nBest parameters for SGD Classifier are {'alpha': 0.001, 'class_weight': 'balanced', 'shuffle': True, 'verbose': 5} with a score of 0.637365568951379\nBest parameters for SGD Classifier are {'alpha': 0.001, 'class_weight': 'balanced', 'shuffle': True, 'verbose': 1} with a score of 0.6398508974202514\nBest parameters for SGD Classifier are {'alpha': 0.1, 'class_weight': 'balanced', 'shuffle': True, 'verbose': 10} with a score of 0.6443991255960142\nBest parameters for SGD Classifier are {'alpha': 0.01, 'class_weight': 'balanced', 'shuffle': True, 'verbose': 1} with a score of 0.644608734191037\nBest parameters for SGD Classifier are {'alpha': 0.01, 'class_weight': 'balanced', 'shuffle': True, 'verbose': 10} with a score of 0.646049231256731\nBest parameters for SGD Classifier are {'alpha': 0.001, 'class_weight': None, 'shuffle': False, 'verbose': 0} with a score of 0.6588434915353669\nBest parameters for SGD Classifier are {'alpha': 0.001, 'class_weight': None, 'shuffle': False, 'verbose': 1} with a score of 0.6588434915353669\nBest parameters for SGD Classifier are {'alpha': 0.001, 'class_weight': None, 'shuffle': False, 'verbose': 5} with a score of 0.6588434915353669\nBest parameters for SGD Classifier are {'alpha': 0.001, 'class_weight': None, 'shuffle': False, 'verbose': 10} with a score of 0.6588434915353669\nBest parameters for SGD Classifier are {'alpha': 0.01, 'class_weight': None, 'shuffle': True, 'verbose': 1} with a score of 0.6598868242049754\nBest parameters for SGD Classifier are {'alpha': 0.01, 'class_weight': None, 'shuffle': True, 'verbose': 10} with a score of 0.660947713467834\nBest parameters for SGD Classifier are {'alpha': 0.1, 'class_weight': None, 'shuffle': False, 'verbose': 0} with a score of 0.6615549146685337\nBest parameters for SGD Classifier are {'alpha': 0.1, 'class_weight': None, 'shuffle': False, 'verbose': 1} with a score of 0.6615549146685337\nBest parameters for SGD Classifier are {'alpha': 0.1, 'class_weight': None, 'shuffle': False, 'verbose': 5} with a score of 0.6615549146685337\nBest parameters for SGD Classifier are {'alpha': 0.1, 'class_weight': None, 'shuffle': False, 'verbose': 10} with a score of 0.6615549146685337\nBest parameters for SGD Classifier are {'alpha': 0.01, 'class_weight': 'balanced', 'shuffle': True, 'verbose': 5} with a score of 0.6615662622227075\nBest parameters for SGD Classifier are {'alpha': 0.01, 'class_weight': 'balanced', 'shuffle': True, 'verbose': 0} with a score of 0.666928088622257\nBest parameters for SGD Classifier are {'alpha': 0.1, 'class_weight': 'balanced', 'shuffle': False, 'verbose': 0} with a score of 0.6671394100556458\nBest parameters for SGD Classifier are {'alpha': 0.1, 'class_weight': 'balanced', 'shuffle': False, 'verbose': 1} with a score of 0.6671394100556458\nBest parameters for SGD Classifier are {'alpha': 0.1, 'class_weight': 'balanced', 'shuffle': False, 'verbose': 5} with a score of 0.6671394100556458\nBest parameters for SGD Classifier are {'alpha': 0.1, 'class_weight': 'balanced', 'shuffle': False, 'verbose': 10} with a score of 0.6671394100556458\nBest parameters for SGD Classifier are {'alpha': 0.1, 'class_weight': None, 'shuffle': True, 'verbose': 5} with a score of 0.6673488045458731\nBest parameters for SGD Classifier are {'alpha': 0.01, 'class_weight': None, 'shuffle': True, 'verbose': 0} with a score of 0.6679787008549204\nBest parameters for SGD Classifier are {'alpha': 0.1, 'class_weight': None, 'shuffle': True, 'verbose': 1} with a score of 0.6685993906577513\nBest parameters for SGD Classifier are {'alpha': 0.1, 'class_weight': 'balanced', 'shuffle': True, 'verbose': 0} with a score of 0.6750028368885435\nBest parameters for SGD Classifier are {'alpha': 0.1, 'class_weight': None, 'shuffle': True, 'verbose': 0} with a score of 0.6772847658014692\nBest parameters for SGD Classifier are {'alpha': 0.1, 'class_weight': None, 'shuffle': True, 'verbose': 10} with a score of 0.6824526132560844\nBest parameters for SGD Classifier are {'alpha': 0.1, 'class_weight': 'balanced', 'shuffle': True, 'verbose': 1} with a score of 0.6824571094567947\nBest parameters for SGD Classifier are {'alpha': 0.1, 'class_weight': 'balanced', 'shuffle': True, 'verbose': 5} with a score of 0.6828666919310326\nBest parameters for SGD Classifier are {'alpha': 0.01, 'class_weight': None, 'shuffle': True, 'verbose': 5} with a score of 0.6892799869824284\n",
     "output_type": "stream"
    }
   ]
  },
  {
   "cell_type": "markdown",
   "source": "Best parameters for SGD Classifier are {'alpha': 0.01, 'class_weight': None, 'shuffle': True, 'verbose': 5} using f_feature from Select K Best\n",
   "metadata": {
    "tags": [],
    "cell_id": "00056-e8ab4ca1-4204-42a9-b4a4-56698b136ae9",
    "deepnote_cell_type": "markdown"
   }
  },
  {
   "cell_type": "code",
   "metadata": {
    "tags": [],
    "deepnote_to_be_reexecuted": true,
    "source_hash": "6f44e136",
    "is_output_hidden": true,
    "allow_embed": false,
    "execution_start": 1621909141548,
    "execution_millis": 26365,
    "cell_id": "00057-53c9d4dc-703a-4637-8a85-e503a2985dcf",
    "deepnote_cell_type": "code"
   },
   "source": "# Create a parameter dictionary for the model, {'parameter': [list of settings]}\nparameters = [\n    {\n    'alpha': [0.0001, 0.001, 0.01, 0.1, 1],\n    'shuffle': [True, False],\n    'verbose': [0, 1, 5, 10],\n    'class_weight': [None, 'balanced'],\n    },\n]\n# Created variable model which holds the KNN model\nmodel = SGDClassifier()\n# Create grid_search model, looking at recall\ngrid_search = GridSearchCV(model,\n                           param_grid=parameters,\n                           scoring='accuracy',\n                           )\n# Create variable r that hold the FIT grid_search\nr = grid_search.fit(X_train[rfe_list], y_train)\nscores = r.cv_results_\nlm = r.best_estimator_",
   "execution_count": null,
   "outputs": [
    {
     "name": "stdout",
     "text": "Total training time: 0.01 seconds.\n-- Epoch 7\nNorm: 0.23, NNZs: 15, Bias: -0.012585, T: 27069, Avg. loss: 0.945377\nTotal training time: 0.01 seconds.\nConvergence after 7 epochs took 0.01 seconds\n-- Epoch 1\nNorm: 0.24, NNZs: 15, Bias: 0.028819, T: 3868, Avg. loss: 0.948445\nTotal training time: 0.00 seconds.\n-- Epoch 2\nNorm: 0.24, NNZs: 15, Bias: 0.013260, T: 7736, Avg. loss: 0.944546\nTotal training time: 0.00 seconds.\n-- Epoch 3\nNorm: 0.24, NNZs: 15, Bias: 0.004584, T: 11604, Avg. loss: 0.944139\nTotal training time: 0.01 seconds.\n-- Epoch 4\nNorm: 0.24, NNZs: 15, Bias: -0.001461, T: 15472, Avg. loss: 0.943921\nTotal training time: 0.01 seconds.\n-- Epoch 5\nNorm: 0.24, NNZs: 15, Bias: -0.006104, T: 19340, Avg. loss: 0.943775\nTotal training time: 0.01 seconds.\n-- Epoch 6\nNorm: 0.24, NNZs: 15, Bias: -0.009876, T: 23208, Avg. loss: 0.943666\nTotal training time: 0.01 seconds.\n-- Epoch 7\nNorm: 0.24, NNZs: 15, Bias: -0.013052, T: 27076, Avg. loss: 0.943579\nTotal training time: 0.02 seconds.\nConvergence after 7 epochs took 0.02 seconds\n-- Epoch 1\nNorm: 0.20, NNZs: 15, Bias: -0.759855, T: 3867, Avg. loss: 0.939707\nTotal training time: 0.00 seconds.\n-- Epoch 2\nNorm: 0.20, NNZs: 15, Bias: -0.760235, T: 7734, Avg. loss: 0.939062\nTotal training time: 0.00 seconds.\n-- Epoch 3\nNorm: 0.20, NNZs: 15, Bias: -0.760101, T: 11601, Avg. loss: 0.939003\nTotal training time: 0.01 seconds.\n-- Epoch 4\nNorm: 0.20, NNZs: 15, Bias: -0.760030, T: 15468, Avg. loss: 0.938976\nTotal training time: 0.01 seconds.\n-- Epoch 5\nNorm: 0.20, NNZs: 15, Bias: -0.759891, T: 19335, Avg. loss: 0.938968\nTotal training time: 0.01 seconds.\n-- Epoch 6\nNorm: 0.20, NNZs: 15, Bias: -0.759812, T: 23202, Avg. loss: 0.938962\nTotal training time: 0.02 seconds.\nConvergence after 6 epochs took 0.02 seconds\n-- Epoch 1\nNorm: 0.23, NNZs: 15, Bias: 0.027397, T: 3867, Avg. loss: 0.947323\nTotal training time: 0.00 seconds.\n-- Epoch 2\nNorm: 0.24, NNZs: 15, Bias: 0.011667, T: 7734, Avg. loss: 0.944687\nTotal training time: 0.01 seconds.\n-- Epoch 3\nNorm: 0.24, NNZs: 15, Bias: 0.002891, T: 11601, Avg. loss: 0.944488\nTotal training time: 0.01 seconds.\n-- Epoch 4\nNorm: 0.24, NNZs: 15, Bias: -0.003225, T: 15468, Avg. loss: 0.944357\nTotal training time: 0.01 seconds.\n-- Epoch 5\nNorm: 0.24, NNZs: 15, Bias: -0.007925, T: 19335, Avg. loss: 0.944257\nTotal training time: 0.01 seconds.\n-- Epoch 6\nNorm: 0.24, NNZs: 15, Bias: -0.011743, T: 23202, Avg. loss: 0.944177\nTotal training time: 0.01 seconds.\n-- Epoch 7\nNorm: 0.24, NNZs: 15, Bias: -0.014958, T: 27069, Avg. loss: 0.944110\nTotal training time: 0.01 seconds.\nConvergence after 7 epochs took 0.01 seconds\n-- Epoch 1\nNorm: 0.23, NNZs: 15, Bias: 0.029448, T: 3867, Avg. loss: 0.951113\nTotal training time: 0.00 seconds.\n-- Epoch 2\nNorm: 0.23, NNZs: 15, Bias: 0.013861, T: 7734, Avg. loss: 0.948007\nTotal training time: 0.00 seconds.\n-- Epoch 3\nNorm: 0.23, NNZs: 15, Bias: 0.005133, T: 11601, Avg. loss: 0.947681\nTotal training time: 0.00 seconds.\n-- Epoch 4\nNorm: 0.23, NNZs: 15, Bias: -0.000960, T: 15468, Avg. loss: 0.947495\nTotal training time: 0.00 seconds.\n-- Epoch 5\nNorm: 0.23, NNZs: 15, Bias: -0.005646, T: 19335, Avg. loss: 0.947366\nTotal training time: 0.00 seconds.\n-- Epoch 6\nNorm: 0.23, NNZs: 15, Bias: -0.009455, T: 23202, Avg. loss: 0.947266\nTotal training time: 0.01 seconds.\n-- Epoch 7\nNorm: 0.23, NNZs: 15, Bias: -0.012663, T: 27069, Avg. loss: 0.947186\nTotal training time: 0.01 seconds.\nConvergence after 7 epochs took 0.01 seconds\n-- Epoch 1\nNorm: 0.23, NNZs: 15, Bias: 0.028962, T: 3867, Avg. loss: 0.949495\nTotal training time: 0.00 seconds.\n-- Epoch 2\nNorm: 0.23, NNZs: 15, Bias: 0.013492, T: 7734, Avg. loss: 0.946165\nTotal training time: 0.00 seconds.\n-- Epoch 3\nNorm: 0.23, NNZs: 15, Bias: 0.004883, T: 11601, Avg. loss: 0.945848\nTotal training time: 0.00 seconds.\n-- Epoch 4\nNorm: 0.23, NNZs: 15, Bias: -0.001108, T: 15468, Avg. loss: 0.945670\nTotal training time: 0.01 seconds.\n-- Epoch 5\nNorm: 0.23, NNZs: 15, Bias: -0.005708, T: 19335, Avg. loss: 0.945547\nTotal training time: 0.01 seconds.\n-- Epoch 6\nNorm: 0.23, NNZs: 15, Bias: -0.009442, T: 23202, Avg. loss: 0.945453\nTotal training time: 0.01 seconds.\n-- Epoch 7\nNorm: 0.23, NNZs: 15, Bias: -0.012585, T: 27069, Avg. loss: 0.945377\nTotal training time: 0.01 seconds.\nConvergence after 7 epochs took 0.01 seconds\n-- Epoch 1\nNorm: 0.24, NNZs: 15, Bias: 0.028819, T: 3868, Avg. loss: 0.948445\nTotal training time: 0.00 seconds.\n-- Epoch 2\nNorm: 0.24, NNZs: 15, Bias: 0.013260, T: 7736, Avg. loss: 0.944546\nTotal training time: 0.00 seconds.\n-- Epoch 3\nNorm: 0.24, NNZs: 15, Bias: 0.004584, T: 11604, Avg. loss: 0.944139\nTotal training time: 0.00 seconds.\n-- Epoch 4\nNorm: 0.24, NNZs: 15, Bias: -0.001461, T: 15472, Avg. loss: 0.943921\nTotal training time: 0.00 seconds.\n-- Epoch 5\nNorm: 0.24, NNZs: 15, Bias: -0.006104, T: 19340, Avg. loss: 0.943775\nTotal training time: 0.00 seconds.\n-- Epoch 6\nNorm: 0.24, NNZs: 15, Bias: -0.009876, T: 23208, Avg. loss: 0.943666\nTotal training time: 0.00 seconds.\n-- Epoch 7\nNorm: 0.24, NNZs: 15, Bias: -0.013052, T: 27076, Avg. loss: 0.943579\nTotal training time: 0.01 seconds.\nConvergence after 7 epochs took 0.01 seconds\n-- Epoch 1\nNorm: 0.22, NNZs: 15, Bias: 0.636835, T: 3867, Avg. loss: 0.964332\nTotal training time: 0.00 seconds.\n-- Epoch 2\nNorm: 0.22, NNZs: 15, Bias: 0.638614, T: 7734, Avg. loss: 0.963472\nTotal training time: 0.00 seconds.\n-- Epoch 3\nNorm: 0.22, NNZs: 15, Bias: 0.638740, T: 11601, Avg. loss: 0.962514\nTotal training time: 0.00 seconds.\n-- Epoch 4\nNorm: 0.22, NNZs: 15, Bias: 0.638532, T: 15468, Avg. loss: 0.961997\nTotal training time: 0.03 seconds.\n-- Epoch 5\nNorm: 0.22, NNZs: 15, Bias: 0.638775, T: 19335, Avg. loss: 0.962302\nTotal training time: 0.03 seconds.\n-- Epoch 6\nNorm: 0.22, NNZs: 15, Bias: 0.638911, T: 23202, Avg. loss: 0.962358\nTotal training time: 0.03 seconds.\nConvergence after 6 epochs took 0.03 seconds\n-- Epoch 1\nNorm: 0.23, NNZs: 15, Bias: 0.059704, T: 3867, Avg. loss: 0.952497\nTotal training time: 0.00 seconds.\n-- Epoch 2\nNorm: 0.23, NNZs: 15, Bias: 0.061529, T: 7734, Avg. loss: 0.949640\nTotal training time: 0.00 seconds.\n-- Epoch 3\nNorm: 0.23, NNZs: 15, Bias: 0.061660, T: 11601, Avg. loss: 0.948496\nTotal training time: 0.00 seconds.\n-- Epoch 4\nNorm: 0.23, NNZs: 15, Bias: 0.061359, T: 15468, Avg. loss: 0.948018\nTotal training time: 0.00 seconds.\n-- Epoch 5\nNorm: 0.23, NNZs: 15, Bias: 0.061104, T: 19335, Avg. loss: 0.948180\nTotal training time: 0.00 seconds.\n-- Epoch 6\nNorm: 0.23, NNZs: 15, Bias: 0.060975, T: 23202, Avg. loss: 0.948016\nTotal training time: 0.01 seconds.\n-- Epoch 7\nNorm: 0.23, NNZs: 15, Bias: 0.060757, T: 27069, Avg. loss: 0.947894\nTotal training time: 0.01 seconds.\n-- Epoch 8\nNorm: 0.23, NNZs: 15, Bias: 0.060857, T: 30936, Avg. loss: 0.948239\nTotal training time: 0.01 seconds.\nConvergence after 8 epochs took 0.01 seconds\n-- Epoch 1\nNorm: 0.22, NNZs: 15, Bias: 0.737084, T: 3867, Avg. loss: 0.969545\nTotal training time: 0.00 seconds.\n-- Epoch 2\nNorm: 0.22, NNZs: 15, Bias: 0.739135, T: 7734, Avg. loss: 0.965427\nTotal training time: 0.00 seconds.\n-- Epoch 3\nNorm: 0.22, NNZs: 15, Bias: 0.739268, T: 11601, Avg. loss: 0.964859\nTotal training time: 0.00 seconds.\n-- Epoch 4\nNorm: 0.22, NNZs: 15, Bias: 0.738717, T: 15468, Avg. loss: 0.964495\nTotal training time: 0.00 seconds.\n-- Epoch 5\nNorm: 0.22, NNZs: 15, Bias: 0.738909, T: 19335, Avg. loss: 0.964934\nTotal training time: 0.01 seconds.\n-- Epoch 6\nNorm: 0.22, NNZs: 15, Bias: 0.738935, T: 23202, Avg. loss: 0.964700\nTotal training time: 0.01 seconds.\n-- Epoch 7\nNorm: 0.22, NNZs: 15, Bias: 0.738797, T: 27069, Avg. loss: 0.964561\nTotal training time: 0.01 seconds.\nConvergence after 7 epochs took 0.01 seconds\n-- Epoch 1\nNorm: 0.23, NNZs: 15, Bias: -0.455414, T: 3867, Avg. loss: 0.943528\nTotal training time: 0.00 seconds.\n-- Epoch 2\nNorm: 0.23, NNZs: 15, Bias: -0.455830, T: 7734, Avg. loss: 0.938878\nTotal training time: 0.02 seconds.\n-- Epoch 3\nNorm: 0.23, NNZs: 15, Bias: -0.455926, T: 11601, Avg. loss: 0.938436\nTotal training time: 0.03 seconds.\n-- Epoch 4\nNorm: 0.23, NNZs: 15, Bias: -0.455782, T: 15468, Avg. loss: 0.938810\nTotal training time: 0.03 seconds.\n-- Epoch 5\nNorm: 0.23, NNZs: 15, Bias: -0.455717, T: 19335, Avg. loss: 0.938656\nTotal training time: 0.03 seconds.\n-- Epoch 6\nNorm: 0.23, NNZs: 15, Bias: -0.455772, T: 23202, Avg. loss: 0.938544\nTotal training time: 0.03 seconds.\n-- Epoch 7\nNorm: 0.23, NNZs: 15, Bias: -0.455720, T: 27069, Avg. loss: 0.938445\nTotal training time: 0.03 seconds.\nConvergence after 7 epochs took 0.03 seconds\n-- Epoch 1\nNorm: 0.23, NNZs: 15, Bias: 0.315999, T: 3868, Avg. loss: 0.956235\nTotal training time: 0.00 seconds.\n-- Epoch 2\nNorm: 0.23, NNZs: 15, Bias: 0.319792, T: 7736, Avg. loss: 0.953913\nTotal training time: 0.00 seconds.\n-- Epoch 3\nNorm: 0.23, NNZs: 15, Bias: 0.320995, T: 11604, Avg. loss: 0.952845\nTotal training time: 0.00 seconds.\n-- Epoch 4\nNorm: 0.23, NNZs: 15, Bias: 0.320593, T: 15472, Avg. loss: 0.952315\nTotal training time: 0.00 seconds.\n-- Epoch 5\nNorm: 0.23, NNZs: 15, Bias: 0.320673, T: 19340, Avg. loss: 0.952605\nTotal training time: 0.00 seconds.\n-- Epoch 6\nNorm: 0.23, NNZs: 15, Bias: 0.320734, T: 23208, Avg. loss: 0.952407\nTotal training time: 0.00 seconds.\n-- Epoch 7\nNorm: 0.23, NNZs: 15, Bias: 0.320813, T: 27076, Avg. loss: 0.952414\nTotal training time: 0.01 seconds.\n-- Epoch 8\nNorm: 0.23, NNZs: 15, Bias: 0.320896, T: 30944, Avg. loss: 0.952426\nTotal training time: 0.01 seconds.\nConvergence after 8 epochs took 0.01 seconds\n-- Epoch 1\nNorm: 0.22, NNZs: 15, Bias: 0.499618, T: 3867, Avg. loss: 0.967524\nTotal training time: 0.00 seconds.\n-- Epoch 2\nNorm: 0.22, NNZs: 15, Bias: 0.497841, T: 7734, Avg. loss: 0.958994\nTotal training time: 0.00 seconds.\n-- Epoch 3\nNorm: 0.22, NNZs: 15, Bias: 0.497710, T: 11601, Avg. loss: 0.958871\nTotal training time: 0.00 seconds.\n-- Epoch 4\nNorm: 0.22, NNZs: 15, Bias: 0.497887, T: 15468, Avg. loss: 0.959150\nTotal training time: 0.01 seconds.\n-- Epoch 5\nNorm: 0.22, NNZs: 15, Bias: 0.497759, T: 19335, Avg. loss: 0.959045\nTotal training time: 0.01 seconds.\n-- Epoch 6\nNorm: 0.22, NNZs: 15, Bias: 0.497685, T: 23202, Avg. loss: 0.959271\nTotal training time: 0.01 seconds.\n-- Epoch 7\nNorm: 0.22, NNZs: 15, Bias: 0.497633, T: 27069, Avg. loss: 0.959248\nTotal training time: 0.01 seconds.\nConvergence after 7 epochs took 0.01 seconds\n-- Epoch 1\nNorm: 0.23, NNZs: 15, Bias: 0.470896, T: 3867, Avg. loss: 0.959935\nTotal training time: 0.00 seconds.\n-- Epoch 2\nNorm: 0.23, NNZs: 15, Bias: 0.471962, T: 7734, Avg. loss: 0.956446\nTotal training time: 0.00 seconds.\n-- Epoch 3\nNorm: 0.23, NNZs: 15, Bias: 0.471358, T: 11601, Avg. loss: 0.956138\nTotal training time: 0.00 seconds.\n-- Epoch 4\nNorm: 0.23, NNZs: 15, Bias: 0.471178, T: 15468, Avg. loss: 0.956415\nTotal training time: 0.01 seconds.\n-- Epoch 5\nNorm: 0.23, NNZs: 15, Bias: 0.471438, T: 19335, Avg. loss: 0.956769\nTotal training time: 0.01 seconds.\n-- Epoch 6\nNorm: 0.23, NNZs: 15, Bias: 0.471562, T: 23202, Avg. loss: 0.956556\nTotal training time: 0.01 seconds.\n-- Epoch 7\nNorm: 0.23, NNZs: 15, Bias: 0.471382, T: 27069, Avg. loss: 0.956259\nTotal training time: 0.01 seconds.\nConvergence after 7 epochs took 0.02 seconds\n-- Epoch 1\nNorm: 0.22, NNZs: 15, Bias: 0.382343, T: 3867, Avg. loss: 0.966728\nTotal training time: 0.00 seconds.\n-- Epoch 2\nNorm: 0.22, NNZs: 15, Bias: 0.381844, T: 7734, Avg. loss: 0.957523\nTotal training time: 0.01 seconds.\n-- Epoch 3\nNorm: 0.22, NNZs: 15, Bias: 0.380999, T: 11601, Avg. loss: 0.957804\nTotal training time: 0.01 seconds.\n-- Epoch 4\nNorm: 0.22, NNZs: 15, Bias: 0.380646, T: 15468, Avg. loss: 0.957303\nTotal training time: 0.01 seconds.\n-- Epoch 5\nNorm: 0.22, NNZs: 15, Bias: 0.380892, T: 19335, Avg. loss: 0.957789\nTotal training time: 0.01 seconds.\n-- Epoch 6\nNorm: 0.22, NNZs: 15, Bias: 0.380994, T: 23202, Avg. loss: 0.957535\nTotal training time: 0.02 seconds.\n-- Epoch 7\nNorm: 0.22, NNZs: 15, Bias: 0.381226, T: 27069, Avg. loss: 0.957671\nTotal training time: 0.02 seconds.\nConvergence after 7 epochs took 0.02 seconds\n-- Epoch 1\nNorm: 0.23, NNZs: 15, Bias: 0.496964, T: 3867, Avg. loss: 0.962861\nTotal training time: 0.00 seconds.\n-- Epoch 2\nNorm: 0.23, NNZs: 15, Bias: 0.494818, T: 7734, Avg. loss: 0.957562\nTotal training time: 0.01 seconds.\n-- Epoch 3\nNorm: 0.23, NNZs: 15, Bias: 0.494653, T: 11601, Avg. loss: 0.958050\nTotal training time: 0.01 seconds.\n-- Epoch 4\nNorm: 0.23, NNZs: 15, Bias: 0.494985, T: 15468, Avg. loss: 0.957509\nTotal training time: 0.02 seconds.\n-- Epoch 5\nNorm: 0.23, NNZs: 15, Bias: 0.495207, T: 19335, Avg. loss: 0.957436\nTotal training time: 0.02 seconds.\n-- Epoch 6\nNorm: 0.23, NNZs: 15, Bias: 0.495271, T: 23202, Avg. loss: 0.957477\nTotal training time: 0.02 seconds.\n-- Epoch 7\nNorm: 0.23, NNZs: 15, Bias: 0.495088, T: 27069, Avg. loss: 0.957366\nTotal training time: 0.02 seconds.\nConvergence after 7 epochs took 0.02 seconds\n-- Epoch 1\nNorm: 0.23, NNZs: 15, Bias: -0.179270, T: 3868, Avg. loss: 0.946252\nTotal training time: 0.00 seconds.\n-- Epoch 2\nNorm: 0.23, NNZs: 15, Bias: -0.177405, T: 7736, Avg. loss: 0.942485\nTotal training time: 0.00 seconds.\n-- Epoch 3\nNorm: 0.23, NNZs: 15, Bias: -0.176609, T: 11604, Avg. loss: 0.942973\nTotal training time: 0.00 seconds.\n-- Epoch 4\nNorm: 0.23, NNZs: 15, Bias: -0.177046, T: 15472, Avg. loss: 0.942424\nTotal training time: 0.00 seconds.\n-- Epoch 5\nNorm: 0.23, NNZs: 15, Bias: -0.176860, T: 19340, Avg. loss: 0.942560\nTotal training time: 0.01 seconds.\n-- Epoch 6\nNorm: 0.23, NNZs: 15, Bias: -0.176776, T: 23208, Avg. loss: 0.942304\nTotal training time: 0.01 seconds.\n-- Epoch 7\nNorm: 0.23, NNZs: 15, Bias: -0.176682, T: 27076, Avg. loss: 0.942484\nTotal training time: 0.01 seconds.\nConvergence after 7 epochs took 0.01 seconds\n-- Epoch 1\nNorm: 0.22, NNZs: 15, Bias: 0.197497, T: 3867, Avg. loss: 0.959922\nTotal training time: 0.00 seconds.\n-- Epoch 2\nNorm: 0.22, NNZs: 15, Bias: 0.197390, T: 7734, Avg. loss: 0.953638\nTotal training time: 0.00 seconds.\n-- Epoch 3\nNorm: 0.22, NNZs: 15, Bias: 0.196564, T: 11601, Avg. loss: 0.953455\nTotal training time: 0.01 seconds.\n-- Epoch 4\nNorm: 0.22, NNZs: 15, Bias: 0.197106, T: 15468, Avg. loss: 0.953474\nTotal training time: 0.01 seconds.\n-- Epoch 5\nNorm: 0.22, NNZs: 15, Bias: 0.196869, T: 19335, Avg. loss: 0.952971\nTotal training time: 0.01 seconds.\n-- Epoch 6\nNorm: 0.22, NNZs: 15, Bias: 0.196945, T: 23202, Avg. loss: 0.953258\nTotal training time: 0.01 seconds.\n-- Epoch 7\nNorm: 0.22, NNZs: 15, Bias: 0.196835, T: 27069, Avg. loss: 0.953066\nTotal training time: 0.01 seconds.\nConvergence after 7 epochs took 0.01 seconds\n-- Epoch 1\nNorm: 0.23, NNZs: 15, Bias: -0.437443, T: 3867, Avg. loss: 0.944034\nTotal training time: 0.00 seconds.\n-- Epoch 2\nNorm: 0.23, NNZs: 15, Bias: -0.435416, T: 7734, Avg. loss: 0.938310\nTotal training time: 0.00 seconds.\n-- Epoch 3\nNorm: 0.23, NNZs: 15, Bias: -0.434628, T: 11601, Avg. loss: 0.938458\nTotal training time: 0.03 seconds.\n-- Epoch 4\nNorm: 0.23, NNZs: 15, Bias: -0.434123, T: 15468, Avg. loss: 0.938351\nTotal training time: 0.03 seconds.\n-- Epoch 5\nNorm: 0.23, NNZs: 15, Bias: -0.433994, T: 19335, Avg. loss: 0.938103\nTotal training time: 0.03 seconds.\n-- Epoch 6\nNorm: 0.23, NNZs: 15, Bias: -0.433878, T: 23202, Avg. loss: 0.938282\nTotal training time: 0.03 seconds.\n-- Epoch 7\nNorm: 0.23, NNZs: 15, Bias: -0.433968, T: 27069, Avg. loss: 0.937883\nTotal training time: 0.03 seconds.\nConvergence after 7 epochs took 0.03 seconds\n-- Epoch 1\nNorm: 0.22, NNZs: 15, Bias: 0.012653, T: 3867, Avg. loss: 0.955441\nTotal training time: 0.00 seconds.\n-- Epoch 2\nNorm: 0.22, NNZs: 15, Bias: 0.012253, T: 7734, Avg. loss: 0.950351\nTotal training time: 0.00 seconds.\n-- Epoch 3\nNorm: 0.22, NNZs: 15, Bias: 0.012151, T: 11601, Avg. loss: 0.950199\nTotal training time: 0.00 seconds.\n-- Epoch 4\nNorm: 0.22, NNZs: 15, Bias: 0.012218, T: 15468, Avg. loss: 0.950005\nTotal training time: 0.00 seconds.\n-- Epoch 5\nNorm: 0.22, NNZs: 15, Bias: 0.012076, T: 19335, Avg. loss: 0.949911\nTotal training time: 0.00 seconds.\n-- Epoch 6\nNorm: 0.22, NNZs: 15, Bias: 0.012282, T: 23202, Avg. loss: 0.950181\nTotal training time: 0.00 seconds.\n-- Epoch 7\nNorm: 0.22, NNZs: 15, Bias: 0.012277, T: 27069, Avg. loss: 0.949999\nTotal training time: 0.01 seconds.\nConvergence after 7 epochs took 0.01 seconds\n-- Epoch 1\nNorm: 0.23, NNZs: 15, Bias: 0.633363, T: 3867, Avg. loss: 0.958975\nTotal training time: 0.00 seconds.\n-- Epoch 2\nNorm: 0.23, NNZs: 15, Bias: 0.634165, T: 7734, Avg. loss: 0.961207\nTotal training time: 0.00 seconds.\n-- Epoch 3\nNorm: 0.23, NNZs: 15, Bias: 0.633937, T: 11601, Avg. loss: 0.960525\nTotal training time: 0.00 seconds.\n-- Epoch 4\nNorm: 0.23, NNZs: 15, Bias: 0.634113, T: 15468, Avg. loss: 0.960552\nTotal training time: 0.00 seconds.\n-- Epoch 5\nNorm: 0.23, NNZs: 15, Bias: 0.634135, T: 19335, Avg. loss: 0.960319\nTotal training time: 0.01 seconds.\n-- Epoch 6\nNorm: 0.23, NNZs: 15, Bias: 0.634185, T: 23202, Avg. loss: 0.960405\nTotal training time: 0.01 seconds.\nConvergence after 6 epochs took 0.01 seconds\n-- Epoch 1\nNorm: 0.23, NNZs: 15, Bias: 0.060119, T: 3868, Avg. loss: 0.943906\nTotal training time: 0.00 seconds.\n-- Epoch 2\nNorm: 0.23, NNZs: 15, Bias: 0.066677, T: 7736, Avg. loss: 0.948665\nTotal training time: 0.00 seconds.\n-- Epoch 3\nNorm: 0.23, NNZs: 15, Bias: 0.067272, T: 11604, Avg. loss: 0.947426\nTotal training time: 0.00 seconds.\n-- Epoch 4\nNorm: 0.23, NNZs: 15, Bias: 0.067058, T: 15472, Avg. loss: 0.947127\nTotal training time: 0.00 seconds.\n-- Epoch 5\nNorm: 0.23, NNZs: 15, Bias: 0.067487, T: 19340, Avg. loss: 0.947560\nTotal training time: 0.00 seconds.\n-- Epoch 6\nNorm: 0.23, NNZs: 15, Bias: 0.067560, T: 23208, Avg. loss: 0.947245\nTotal training time: 0.00 seconds.\nConvergence after 6 epochs took 0.01 seconds\n-- Epoch 1\nNorm: 0.22, NNZs: 15, Bias: -0.686357, T: 3867, Avg. loss: 0.938113\nTotal training time: 0.00 seconds.\n-- Epoch 2\nNorm: 0.22, NNZs: 15, Bias: -0.687095, T: 7734, Avg. loss: 0.935787\nTotal training time: 0.01 seconds.\n-- Epoch 3\nNorm: 0.22, NNZs: 15, Bias: -0.687238, T: 11601, Avg. loss: 0.935483\nTotal training time: 0.01 seconds.\n-- Epoch 4\nNorm: 0.22, NNZs: 15, Bias: -0.687264, T: 15468, Avg. loss: 0.935366\nTotal training time: 0.01 seconds.\n-- Epoch 5\nNorm: 0.22, NNZs: 15, Bias: -0.687202, T: 19335, Avg. loss: 0.935303\nTotal training time: 0.01 seconds.\n-- Epoch 6\nNorm: 0.22, NNZs: 15, Bias: -0.687182, T: 23202, Avg. loss: 0.935273\nTotal training time: 0.01 seconds.\n-- Epoch 7\nNorm: 0.22, NNZs: 15, Bias: -0.687155, T: 27069, Avg. loss: 0.935245\nTotal training time: 0.01 seconds.\nConvergence after 7 epochs took 0.01 seconds\n-- Epoch 1\nNorm: 0.23, NNZs: 15, Bias: 0.068531, T: 3867, Avg. loss: 0.948325\nTotal training time: 0.00 seconds.\n-- Epoch 2\nNorm: 0.23, NNZs: 15, Bias: 0.066960, T: 7734, Avg. loss: 0.947785\nTotal training time: 0.00 seconds.\n-- Epoch 3\nNorm: 0.23, NNZs: 15, Bias: 0.066467, T: 11601, Avg. loss: 0.947867\nTotal training time: 0.00 seconds.\n-- Epoch 4\nNorm: 0.23, NNZs: 15, Bias: 0.066228, T: 15468, Avg. loss: 0.947903\nTotal training time: 0.00 seconds.\n-- Epoch 5\nNorm: 0.23, NNZs: 15, Bias: 0.066086, T: 19335, Avg. loss: 0.947923\nTotal training time: 0.00 seconds.\n-- Epoch 6\nNorm: 0.23, NNZs: 15, Bias: 0.065993, T: 23202, Avg. loss: 0.947935\nTotal training time: 0.00 seconds.\nConvergence after 6 epochs took 0.00 seconds\n-- Epoch 1\nNorm: 0.22, NNZs: 15, Bias: 0.070583, T: 3867, Avg. loss: 0.952059\nTotal training time: 0.00 seconds.\n-- Epoch 2\nNorm: 0.22, NNZs: 15, Bias: 0.069155, T: 7734, Avg. loss: 0.951020\nTotal training time: 0.01 seconds.\n-- Epoch 3\nNorm: 0.22, NNZs: 15, Bias: 0.068710, T: 11601, Avg. loss: 0.950973\nTotal training time: 0.01 seconds.\n-- Epoch 4\nNorm: 0.22, NNZs: 15, Bias: 0.068494, T: 15468, Avg. loss: 0.950953\nTotal training time: 0.01 seconds.\n-- Epoch 5\nNorm: 0.22, NNZs: 15, Bias: 0.068366, T: 19335, Avg. loss: 0.950942\nTotal training time: 0.01 seconds.\n-- Epoch 6\nNorm: 0.22, NNZs: 15, Bias: 0.068282, T: 23202, Avg. loss: 0.950935\nTotal training time: 0.02 seconds.\n-- Epoch 7\nNorm: 0.22, NNZs: 15, Bias: 0.068222, T: 27069, Avg. loss: 0.950930\nTotal training time: 0.02 seconds.\nConvergence after 7 epochs took 0.02 seconds\n-- Epoch 1\nNorm: 0.23, NNZs: 15, Bias: 0.065962, T: 3867, Avg. loss: 0.950180\nTotal training time: 0.00 seconds.\n-- Epoch 2\nNorm: 0.23, NNZs: 15, Bias: 0.064292, T: 7734, Avg. loss: 0.948885\nTotal training time: 0.00 seconds.\n-- Epoch 3\nNorm: 0.23, NNZs: 15, Bias: 0.063756, T: 11601, Avg. loss: 0.948837\nTotal training time: 0.00 seconds.\n-- Epoch 4\nNorm: 0.23, NNZs: 15, Bias: 0.063493, T: 15468, Avg. loss: 0.948819\nTotal training time: 0.00 seconds.\n-- Epoch 5\nNorm: 0.23, NNZs: 15, Bias: 0.063336, T: 19335, Avg. loss: 0.948810\nTotal training time: 0.00 seconds.\n-- Epoch 6\nNorm: 0.23, NNZs: 15, Bias: 0.063233, T: 23202, Avg. loss: 0.948805\nTotal training time: 0.00 seconds.\n-- Epoch 7\nNorm: 0.23, NNZs: 15, Bias: 0.063159, T: 27069, Avg. loss: 0.948801\nTotal training time: 0.01 seconds.\nConvergence after 7 epochs took 0.01 seconds\n-- Epoch 1\nNorm: 0.23, NNZs: 15, Bias: 0.067849, T: 3868, Avg. loss: 0.949250\nTotal training time: 0.00 seconds.\n-- Epoch 2\nNorm: 0.23, NNZs: 15, Bias: 0.066266, T: 7736, Avg. loss: 0.947401\nTotal training time: 0.00 seconds.\n-- Epoch 3\nNorm: 0.23, NNZs: 15, Bias: 0.065766, T: 11604, Avg. loss: 0.947267\nTotal training time: 0.00 seconds.\n-- Epoch 4\nNorm: 0.23, NNZs: 15, Bias: 0.065523, T: 15472, Avg. loss: 0.947213\nTotal training time: 0.00 seconds.\n-- Epoch 5\nNorm: 0.23, NNZs: 15, Bias: 0.065379, T: 19340, Avg. loss: 0.947183\nTotal training time: 0.00 seconds.\n-- Epoch 6\nNorm: 0.23, NNZs: 15, Bias: 0.065283, T: 23208, Avg. loss: 0.947164\nTotal training time: 0.01 seconds.\n-- Epoch 7\nNorm: 0.23, NNZs: 15, Bias: 0.065216, T: 27076, Avg. loss: 0.947151\nTotal training time: 0.01 seconds.\nConvergence after 7 epochs took 0.01 seconds\n-- Epoch 1\nNorm: 0.22, NNZs: 15, Bias: -0.686357, T: 3867, Avg. loss: 0.938113\nTotal training time: 0.00 seconds.\n-- Epoch 2\nNorm: 0.22, NNZs: 15, Bias: -0.687095, T: 7734, Avg. loss: 0.935787\nTotal training time: 0.00 seconds.\n-- Epoch 3\nNorm: 0.22, NNZs: 15, Bias: -0.687238, T: 11601, Avg. loss: 0.935483\nTotal training time: 0.00 seconds.\n-- Epoch 4\nNorm: 0.22, NNZs: 15, Bias: -0.687264, T: 15468, Avg. loss: 0.935366\nTotal training time: 0.00 seconds.\n-- Epoch 5\nNorm: 0.22, NNZs: 15, Bias: -0.687202, T: 19335, Avg. loss: 0.935303\nTotal training time: 0.00 seconds.\n-- Epoch 6\nNorm: 0.22, NNZs: 15, Bias: -0.687182, T: 23202, Avg. loss: 0.935273\nTotal training time: 0.01 seconds.\n-- Epoch 7\nNorm: 0.22, NNZs: 15, Bias: -0.687155, T: 27069, Avg. loss: 0.935245\nTotal training time: 0.02 seconds.\nConvergence after 7 epochs took 0.02 seconds\n-- Epoch 1\nNorm: 0.23, NNZs: 15, Bias: 0.068531, T: 3867, Avg. loss: 0.948325\nTotal training time: 0.00 seconds.\n-- Epoch 2\nNorm: 0.23, NNZs: 15, Bias: 0.066960, T: 7734, Avg. loss: 0.947785\nTotal training time: 0.00 seconds.\n-- Epoch 3\nNorm: 0.23, NNZs: 15, Bias: 0.066467, T: 11601, Avg. loss: 0.947867\nTotal training time: 0.00 seconds.\n-- Epoch 4\nNorm: 0.23, NNZs: 15, Bias: 0.066228, T: 15468, Avg. loss: 0.947903\nTotal training time: 0.00 seconds.\n-- Epoch 5\nNorm: 0.23, NNZs: 15, Bias: 0.066086, T: 19335, Avg. loss: 0.947923\nTotal training time: 0.00 seconds.\n-- Epoch 6\nNorm: 0.23, NNZs: 15, Bias: 0.065993, T: 23202, Avg. loss: 0.947935\nTotal training time: 0.01 seconds.\nConvergence after 6 epochs took 0.01 seconds\n-- Epoch 1\nNorm: 0.22, NNZs: 15, Bias: 0.070583, T: 3867, Avg. loss: 0.952059\nTotal training time: 0.00 seconds.\n-- Epoch 2\nNorm: 0.22, NNZs: 15, Bias: 0.069155, T: 7734, Avg. loss: 0.951020\nTotal training time: 0.00 seconds.\n-- Epoch 3\nNorm: 0.22, NNZs: 15, Bias: 0.068710, T: 11601, Avg. loss: 0.950973\nTotal training time: 0.00 seconds.\n-- Epoch 4\nNorm: 0.22, NNZs: 15, Bias: 0.068494, T: 15468, Avg. loss: 0.950953\nTotal training time: 0.00 seconds.\n-- Epoch 5\nNorm: 0.22, NNZs: 15, Bias: 0.068366, T: 19335, Avg. loss: 0.950942\nTotal training time: 0.00 seconds.\n-- Epoch 6\nNorm: 0.22, NNZs: 15, Bias: 0.068282, T: 23202, Avg. loss: 0.950935\nTotal training time: 0.00 seconds.\n-- Epoch 7\nNorm: 0.22, NNZs: 15, Bias: 0.068222, T: 27069, Avg. loss: 0.950930\nTotal training time: 0.01 seconds.\nConvergence after 7 epochs took 0.01 seconds\n-- Epoch 1\nNorm: 0.23, NNZs: 15, Bias: 0.065962, T: 3867, Avg. loss: 0.950180\nTotal training time: 0.00 seconds.\n-- Epoch 2\nNorm: 0.23, NNZs: 15, Bias: 0.064292, T: 7734, Avg. loss: 0.948885\nTotal training time: 0.00 seconds.\n-- Epoch 3\nNorm: 0.23, NNZs: 15, Bias: 0.063756, T: 11601, Avg. loss: 0.948837\nTotal training time: 0.00 seconds.\n-- Epoch 4\nNorm: 0.23, NNZs: 15, Bias: 0.063493, T: 15468, Avg. loss: 0.948819\nTotal training time: 0.00 seconds.\n-- Epoch 5\nNorm: 0.23, NNZs: 15, Bias: 0.063336, T: 19335, Avg. loss: 0.948810\nTotal training time: 0.00 seconds.\n-- Epoch 6\nNorm: 0.23, NNZs: 15, Bias: 0.063233, T: 23202, Avg. loss: 0.948805\nTotal training time: 0.00 seconds.\n-- Epoch 7\nNorm: 0.23, NNZs: 15, Bias: 0.063159, T: 27069, Avg. loss: 0.948801\nTotal training time: 0.01 seconds.\nConvergence after 7 epochs took 0.01 seconds\n-- Epoch 1\nNorm: 0.23, NNZs: 15, Bias: 0.067849, T: 3868, Avg. loss: 0.949250\nTotal training time: 0.00 seconds.\n-- Epoch 2\nNorm: 0.23, NNZs: 15, Bias: 0.066266, T: 7736, Avg. loss: 0.947401\nTotal training time: 0.00 seconds.\n-- Epoch 3\nNorm: 0.23, NNZs: 15, Bias: 0.065766, T: 11604, Avg. loss: 0.947267\nTotal training time: 0.00 seconds.\n-- Epoch 4\nNorm: 0.23, NNZs: 15, Bias: 0.065523, T: 15472, Avg. loss: 0.947213\nTotal training time: 0.00 seconds.\n-- Epoch 5\nNorm: 0.23, NNZs: 15, Bias: 0.065379, T: 19340, Avg. loss: 0.947183\nTotal training time: 0.00 seconds.\n-- Epoch 6\nNorm: 0.23, NNZs: 15, Bias: 0.065283, T: 23208, Avg. loss: 0.947164\nTotal training time: 0.01 seconds.\n-- Epoch 7\nNorm: 0.23, NNZs: 15, Bias: 0.065216, T: 27076, Avg. loss: 0.947151\nTotal training time: 0.01 seconds.\nConvergence after 7 epochs took 0.01 seconds\n-- Epoch 1\nNorm: 0.22, NNZs: 15, Bias: -0.686357, T: 3867, Avg. loss: 0.938113\nTotal training time: 0.00 seconds.\n-- Epoch 2\nNorm: 0.22, NNZs: 15, Bias: -0.687095, T: 7734, Avg. loss: 0.935787\nTotal training time: 0.00 seconds.\n-- Epoch 3\nNorm: 0.22, NNZs: 15, Bias: -0.687238, T: 11601, Avg. loss: 0.935483\nTotal training time: 0.00 seconds.\n-- Epoch 4\nNorm: 0.22, NNZs: 15, Bias: -0.687264, T: 15468, Avg. loss: 0.935366\nTotal training time: 0.00 seconds.\n-- Epoch 5\nNorm: 0.22, NNZs: 15, Bias: -0.687202, T: 19335, Avg. loss: 0.935303\nTotal training time: 0.01 seconds.\n-- Epoch 6\nNorm: 0.22, NNZs: 15, Bias: -0.687182, T: 23202, Avg. loss: 0.935273\nTotal training time: 0.01 seconds.\n-- Epoch 7\nNorm: 0.22, NNZs: 15, Bias: -0.687155, T: 27069, Avg. loss: 0.935245\nTotal training time: 0.01 seconds.\nConvergence after 7 epochs took 0.01 seconds\n-- Epoch 1\nNorm: 0.23, NNZs: 15, Bias: 0.068531, T: 3867, Avg. loss: 0.948325\nTotal training time: 0.00 seconds.\n-- Epoch 2\nNorm: 0.23, NNZs: 15, Bias: 0.066960, T: 7734, Avg. loss: 0.947785\nTotal training time: 0.00 seconds.\n-- Epoch 3\nNorm: 0.23, NNZs: 15, Bias: 0.066467, T: 11601, Avg. loss: 0.947867\nTotal training time: 0.00 seconds.\n-- Epoch 4\nNorm: 0.23, NNZs: 15, Bias: 0.066228, T: 15468, Avg. loss: 0.947903\nTotal training time: 0.00 seconds.\n-- Epoch 5\nNorm: 0.23, NNZs: 15, Bias: 0.066086, T: 19335, Avg. loss: 0.947923\nTotal training time: 0.00 seconds.\n-- Epoch 6\nNorm: 0.23, NNZs: 15, Bias: 0.065993, T: 23202, Avg. loss: 0.947935\nTotal training time: 0.00 seconds.\nConvergence after 6 epochs took 0.00 seconds\n-- Epoch 1\nNorm: 0.22, NNZs: 15, Bias: 0.070583, T: 3867, Avg. loss: 0.952059\nTotal training time: 0.00 seconds.\n-- Epoch 2\nNorm: 0.22, NNZs: 15, Bias: 0.069155, T: 7734, Avg. loss: 0.951020\nTotal training time: 0.00 seconds.\n-- Epoch 3\nNorm: 0.22, NNZs: 15, Bias: 0.068710, T: 11601, Avg. loss: 0.950973\nTotal training time: 0.00 seconds.\n-- Epoch 4\nNorm: 0.22, NNZs: 15, Bias: 0.068494, T: 15468, Avg. loss: 0.950953\nTotal training time: 0.00 seconds.\n-- Epoch 5\nNorm: 0.22, NNZs: 15, Bias: 0.068366, T: 19335, Avg. loss: 0.950942\nTotal training time: 0.00 seconds.\n-- Epoch 6\nNorm: 0.22, NNZs: 15, Bias: 0.068282, T: 23202, Avg. loss: 0.950935\nTotal training time: 0.01 seconds.\n-- Epoch 7\nNorm: 0.22, NNZs: 15, Bias: 0.068222, T: 27069, Avg. loss: 0.950930\nTotal training time: 0.01 seconds.\nConvergence after 7 epochs took 0.01 seconds\n-- Epoch 1\nNorm: 0.23, NNZs: 15, Bias: 0.065962, T: 3867, Avg. loss: 0.950180\nTotal training time: 0.00 seconds.\n-- Epoch 2\nNorm: 0.23, NNZs: 15, Bias: 0.064292, T: 7734, Avg. loss: 0.948885\nTotal training time: 0.00 seconds.\n-- Epoch 3\nNorm: 0.23, NNZs: 15, Bias: 0.063756, T: 11601, Avg. loss: 0.948837\nTotal training time: 0.00 seconds.\n-- Epoch 4\nNorm: 0.23, NNZs: 15, Bias: 0.063493, T: 15468, Avg. loss: 0.948819\nTotal training time: 0.00 seconds.\n-- Epoch 5\nNorm: 0.23, NNZs: 15, Bias: 0.063336, T: 19335, Avg. loss: 0.948810\nTotal training time: 0.01 seconds.\n-- Epoch 6\nNorm: 0.23, NNZs: 15, Bias: 0.063233, T: 23202, Avg. loss: 0.948805\nTotal training time: 0.01 seconds.\n-- Epoch 7\nNorm: 0.23, NNZs: 15, Bias: 0.063159, T: 27069, Avg. loss: 0.948801\nTotal training time: 0.01 seconds.\nConvergence after 7 epochs took 0.01 seconds\n-- Epoch 1\nNorm: 0.23, NNZs: 15, Bias: 0.067849, T: 3868, Avg. loss: 0.949250\nTotal training time: 0.00 seconds.\n-- Epoch 2\nNorm: 0.23, NNZs: 15, Bias: 0.066266, T: 7736, Avg. loss: 0.947401\nTotal training time: 0.01 seconds.\n-- Epoch 3\nNorm: 0.23, NNZs: 15, Bias: 0.065766, T: 11604, Avg. loss: 0.947267\nTotal training time: 0.01 seconds.\n-- Epoch 4\nNorm: 0.23, NNZs: 15, Bias: 0.065523, T: 15472, Avg. loss: 0.947213\nTotal training time: 0.01 seconds.\n-- Epoch 5\nNorm: 0.23, NNZs: 15, Bias: 0.065379, T: 19340, Avg. loss: 0.947183\nTotal training time: 0.01 seconds.\n-- Epoch 6\nNorm: 0.23, NNZs: 15, Bias: 0.065283, T: 23208, Avg. loss: 0.947164\nTotal training time: 0.01 seconds.\n-- Epoch 7\nNorm: 0.23, NNZs: 15, Bias: 0.065216, T: 27076, Avg. loss: 0.947151\nTotal training time: 0.01 seconds.\nConvergence after 7 epochs took 0.01 seconds\n-- Epoch 1\nNorm: 22.41, NNZs: 15, Bias: -12.322759, T: 4834, Avg. loss: 5.428138\nTotal training time: 0.00 seconds.\n-- Epoch 2\nNorm: 11.54, NNZs: 15, Bias: -6.809244, T: 9668, Avg. loss: 2.249223\nTotal training time: 0.00 seconds.\n-- Epoch 3\nNorm: 8.50, NNZs: 15, Bias: -2.411777, T: 14502, Avg. loss: 1.669622\nTotal training time: 0.01 seconds.\n-- Epoch 4\nNorm: 7.60, NNZs: 15, Bias: -3.653883, T: 19336, Avg. loss: 1.410815\nTotal training time: 0.01 seconds.\n-- Epoch 5\nNorm: 5.92, NNZs: 15, Bias: -3.557178, T: 24170, Avg. loss: 1.245135\nTotal training time: 0.01 seconds.\n-- Epoch 6\nNorm: 5.13, NNZs: 15, Bias: -3.624255, T: 29004, Avg. loss: 1.125119\nTotal training time: 0.01 seconds.\n-- Epoch 7\nNorm: 5.17, NNZs: 15, Bias: -3.302463, T: 33838, Avg. loss: 1.070980\nTotal training time: 0.01 seconds.\n-- Epoch 8\nNorm: 5.48, NNZs: 15, Bias: -2.883837, T: 38672, Avg. loss: 1.016585\nTotal training time: 0.01 seconds.\n-- Epoch 9\nNorm: 5.37, NNZs: 15, Bias: -2.518356, T: 43506, Avg. loss: 0.980750\nTotal training time: 0.01 seconds.\n-- Epoch 10\nNorm: 4.66, NNZs: 15, Bias: -2.977559, T: 48340, Avg. loss: 0.944404\nTotal training time: 0.01 seconds.\n-- Epoch 11\nNorm: 4.69, NNZs: 15, Bias: -1.725383, T: 53174, Avg. loss: 0.907599\nTotal training time: 0.01 seconds.\n-- Epoch 12\nNorm: 4.90, NNZs: 15, Bias: -2.186481, T: 58008, Avg. loss: 0.901472\nTotal training time: 0.02 seconds.\n-- Epoch 13\nNorm: 4.64, NNZs: 15, Bias: -1.879070, T: 62842, Avg. loss: 0.887243\nTotal training time: 0.02 seconds.\n-- Epoch 14\nNorm: 4.41, NNZs: 15, Bias: -2.004472, T: 67676, Avg. loss: 0.868756\nTotal training time: 0.02 seconds.\n-- Epoch 15\nNorm: 4.08, NNZs: 15, Bias: -1.738849, T: 72510, Avg. loss: 0.862628\nTotal training time: 0.02 seconds.\n-- Epoch 16\nNorm: 3.87, NNZs: 15, Bias: -2.127357, T: 77344, Avg. loss: 0.845252\nTotal training time: 0.02 seconds.\n-- Epoch 17\nNorm: 4.07, NNZs: 15, Bias: -1.907798, T: 82178, Avg. loss: 0.838834\nTotal training time: 0.02 seconds.\n-- Epoch 18\nNorm: 4.41, NNZs: 15, Bias: -1.683212, T: 87012, Avg. loss: 0.827170\nTotal training time: 0.02 seconds.\n-- Epoch 19\nNorm: 3.99, NNZs: 15, Bias: -1.816716, T: 91846, Avg. loss: 0.816539\nTotal training time: 0.02 seconds.\n-- Epoch 20\nNorm: 4.15, NNZs: 15, Bias: -1.752213, T: 96680, Avg. loss: 0.812192\nTotal training time: 0.02 seconds.\n-- Epoch 21\nNorm: 4.04, NNZs: 15, Bias: -2.052219, T: 101514, Avg. loss: 0.795656\nTotal training time: 0.03 seconds.\n-- Epoch 22\nNorm: 3.85, NNZs: 15, Bias: -1.758133, T: 106348, Avg. loss: 0.804647\nTotal training time: 0.03 seconds.\n-- Epoch 23\nNorm: 3.88, NNZs: 15, Bias: -1.318502, T: 111182, Avg. loss: 0.792654\nTotal training time: 0.03 seconds.\n-- Epoch 24\nNorm: 4.21, NNZs: 15, Bias: -2.009863, T: 116016, Avg. loss: 0.780648\nTotal training time: 0.03 seconds.\n-- Epoch 25\nNorm: 3.86, NNZs: 15, Bias: -1.691004, T: 120850, Avg. loss: 0.781813\nTotal training time: 0.03 seconds.\n-- Epoch 26\nNorm: 3.77, NNZs: 15, Bias: -1.726731, T: 125684, Avg. loss: 0.780190\nTotal training time: 0.04 seconds.\n-- Epoch 27\nNorm: 4.13, NNZs: 15, Bias: -1.324923, T: 130518, Avg. loss: 0.766968\nTotal training time: 0.04 seconds.\n-- Epoch 28\nNorm: 4.30, NNZs: 15, Bias: -1.226470, T: 135352, Avg. loss: 0.777066\nTotal training time: 0.04 seconds.\n-- Epoch 29\nNorm: 3.88, NNZs: 15, Bias: -1.623913, T: 140186, Avg. loss: 0.765220\nTotal training time: 0.04 seconds.\n-- Epoch 30\nNorm: 4.07, NNZs: 15, Bias: -1.530964, T: 145020, Avg. loss: 0.765523\nTotal training time: 0.04 seconds.\n-- Epoch 31\nNorm: 3.99, NNZs: 15, Bias: -1.455402, T: 149854, Avg. loss: 0.761807\nTotal training time: 0.04 seconds.\n-- Epoch 32\nNorm: 3.85, NNZs: 15, Bias: -1.448455, T: 154688, Avg. loss: 0.757325\nTotal training time: 0.04 seconds.\n-- Epoch 33\nNorm: 3.56, NNZs: 15, Bias: -1.700552, T: 159522, Avg. loss: 0.753127\nTotal training time: 0.05 seconds.\n-- Epoch 34\nNorm: 3.75, NNZs: 15, Bias: -1.648220, T: 164356, Avg. loss: 0.753574\nTotal training time: 0.05 seconds.\n-- Epoch 35\nNorm: 3.95, NNZs: 15, Bias: -1.478790, T: 169190, Avg. loss: 0.750656\nTotal training time: 0.06 seconds.\n-- Epoch 36\nNorm: 3.86, NNZs: 15, Bias: -1.286705, T: 174024, Avg. loss: 0.745604\nTotal training time: 0.06 seconds.\n-- Epoch 37\nNorm: 3.74, NNZs: 15, Bias: -1.321265, T: 178858, Avg. loss: 0.743622\nTotal training time: 0.06 seconds.\n-- Epoch 38\nNorm: 3.75, NNZs: 15, Bias: -1.351143, T: 183692, Avg. loss: 0.739678\nTotal training time: 0.06 seconds.\n-- Epoch 39\nNorm: 3.68, NNZs: 15, Bias: -1.471451, T: 188526, Avg. loss: 0.739704\nTotal training time: 0.06 seconds.\n-- Epoch 40\nNorm: 3.84, NNZs: 15, Bias: -1.508697, T: 193360, Avg. loss: 0.740054\nTotal training time: 0.06 seconds.\n-- Epoch 41\nNorm: 3.83, NNZs: 15, Bias: -1.420734, T: 198194, Avg. loss: 0.734670\nTotal training time: 0.06 seconds.\n-- Epoch 42\nNorm: 3.79, NNZs: 15, Bias: -1.354832, T: 203028, Avg. loss: 0.738827\nTotal training time: 0.06 seconds.\n-- Epoch 43\nNorm: 3.87, NNZs: 15, Bias: -1.163521, T: 207862, Avg. loss: 0.731614\nTotal training time: 0.06 seconds.\n-- Epoch 44\nNorm: 3.53, NNZs: 15, Bias: -1.631045, T: 212696, Avg. loss: 0.733656\nTotal training time: 0.09 seconds.\n-- Epoch 45\nNorm: 3.65, NNZs: 15, Bias: -1.510963, T: 217530, Avg. loss: 0.732784\nTotal training time: 0.09 seconds.\n-- Epoch 46\nNorm: 3.79, NNZs: 15, Bias: -1.394455, T: 222364, Avg. loss: 0.729818\nTotal training time: 0.09 seconds.\n-- Epoch 47\nNorm: 3.84, NNZs: 15, Bias: -1.122797, T: 227198, Avg. loss: 0.726595\nTotal training time: 0.10 seconds.\n-- Epoch 48\nNorm: 3.66, NNZs: 15, Bias: -1.462246, T: 232032, Avg. loss: 0.725415\nTotal training time: 0.10 seconds.\n-- Epoch 49\nNorm: 3.71, NNZs: 15, Bias: -1.527017, T: 236866, Avg. loss: 0.723491\nTotal training time: 0.10 seconds.\n-- Epoch 50\nNorm: 3.82, NNZs: 15, Bias: -1.668077, T: 241700, Avg. loss: 0.720537\nTotal training time: 0.10 seconds.\n-- Epoch 51\nNorm: 3.88, NNZs: 15, Bias: -1.324231, T: 246534, Avg. loss: 0.722854\nTotal training time: 0.10 seconds.\n-- Epoch 52\nNorm: 3.81, NNZs: 15, Bias: -1.439941, T: 251368, Avg. loss: 0.716561\nTotal training time: 0.10 seconds.\n-- Epoch 53\nNorm: 3.89, NNZs: 15, Bias: -1.306387, T: 256202, Avg. loss: 0.717043\nTotal training time: 0.10 seconds.\n-- Epoch 54\nNorm: 3.69, NNZs: 15, Bias: -1.362634, T: 261036, Avg. loss: 0.721160\nTotal training time: 0.11 seconds.\n-- Epoch 55\nNorm: 3.89, NNZs: 15, Bias: -1.180991, T: 265870, Avg. loss: 0.716983\nTotal training time: 0.11 seconds.\n-- Epoch 56\nNorm: 3.82, NNZs: 15, Bias: -1.240532, T: 270704, Avg. loss: 0.714387\nTotal training time: 0.11 seconds.\n-- Epoch 57\nNorm: 3.76, NNZs: 15, Bias: -1.396504, T: 275538, Avg. loss: 0.715265\nTotal training time: 0.11 seconds.\n-- Epoch 58\nNorm: 3.84, NNZs: 15, Bias: -1.233014, T: 280372, Avg. loss: 0.711991\nTotal training time: 0.11 seconds.\n-- Epoch 59\nNorm: 3.71, NNZs: 15, Bias: -1.255905, T: 285206, Avg. loss: 0.711300\nTotal training time: 0.11 seconds.\n-- Epoch 60\nNorm: 3.64, NNZs: 15, Bias: -1.341905, T: 290040, Avg. loss: 0.710023\nTotal training time: 0.11 seconds.\n-- Epoch 61\nNorm: 3.55, NNZs: 15, Bias: -1.392838, T: 294874, Avg. loss: 0.709435\nTotal training time: 0.11 seconds.\n-- Epoch 62\nNorm: 3.87, NNZs: 15, Bias: -1.241526, T: 299708, Avg. loss: 0.711661\nTotal training time: 0.11 seconds.\n-- Epoch 63\nNorm: 3.77, NNZs: 15, Bias: -1.191083, T: 304542, Avg. loss: 0.708443\nTotal training time: 0.12 seconds.\n-- Epoch 64\nNorm: 3.77, NNZs: 15, Bias: -1.265370, T: 309376, Avg. loss: 0.706281\nTotal training time: 0.12 seconds.\n-- Epoch 65\nNorm: 3.76, NNZs: 15, Bias: -1.232794, T: 314210, Avg. loss: 0.709724\nTotal training time: 0.12 seconds.\n-- Epoch 66\nNorm: 3.97, NNZs: 15, Bias: -1.133670, T: 319044, Avg. loss: 0.705398\nTotal training time: 0.12 seconds.\n-- Epoch 67\nNorm: 3.87, NNZs: 15, Bias: -1.118651, T: 323878, Avg. loss: 0.704393\nTotal training time: 0.12 seconds.\n-- Epoch 68\nNorm: 3.85, NNZs: 15, Bias: -1.274542, T: 328712, Avg. loss: 0.704503\nTotal training time: 0.12 seconds.\n-- Epoch 69\nNorm: 3.69, NNZs: 15, Bias: -1.200718, T: 333546, Avg. loss: 0.703432\nTotal training time: 0.12 seconds.\n-- Epoch 70\nNorm: 3.63, NNZs: 15, Bias: -1.296268, T: 338380, Avg. loss: 0.702455\nTotal training time: 0.12 seconds.\n-- Epoch 71\nNorm: 3.87, NNZs: 15, Bias: -1.109471, T: 343214, Avg. loss: 0.702919\nTotal training time: 0.12 seconds.\n-- Epoch 72\nNorm: 3.81, NNZs: 15, Bias: -1.197464, T: 348048, Avg. loss: 0.703017\nTotal training time: 0.12 seconds.\nConvergence after 72 epochs took 0.12 seconds\n",
     "output_type": "stream"
    }
   ]
  },
  {
   "cell_type": "code",
   "metadata": {
    "tags": [],
    "deepnote_to_be_reexecuted": true,
    "source_hash": "32c9439c",
    "allow_embed": false,
    "execution_start": 1621909167920,
    "execution_millis": 17,
    "cell_id": "00058-990bf545-9548-4080-a5b3-ae2d76a94a52",
    "deepnote_cell_type": "code"
   },
   "source": "# Returns max value of the mean test score \nmax(scores['mean_test_score'])",
   "execution_count": null,
   "outputs": [
    {
     "output_type": "execute_result",
     "execution_count": 90,
     "data": {
      "text/plain": "0.6998340687833068"
     },
     "metadata": {}
    }
   ]
  },
  {
   "cell_type": "code",
   "metadata": {
    "tags": [],
    "deepnote_to_be_reexecuted": true,
    "source_hash": "46f0d3fb",
    "allow_embed": false,
    "execution_start": 1621909167940,
    "execution_millis": 31,
    "is_output_hidden": true,
    "cell_id": "00059-986a2937-08d8-4765-b2d5-8eec2cb9a031",
    "deepnote_cell_type": "code"
   },
   "source": "# loop that runs all of the possible parameter configurations from the parameter dictionary above\nfor mean_score, params in sorted(list(zip(scores[\"mean_test_score\"], scores[\"params\"])),key = lambda x: x[0]):\n     print(f'Best parameters for SGD Classifier are {params} with a score of {mean_score}')",
   "execution_count": null,
   "outputs": [
    {
     "name": "stdout",
     "text": "Best parameters for SGD Classifier are {'alpha': 1, 'class_weight': 'balanced', 'shuffle': True, 'verbose': 5} with a score of 0.49669572068744766\nBest parameters for SGD Classifier are {'alpha': 1, 'class_weight': None, 'shuffle': True, 'verbose': 0} with a score of 0.5275098969941828\nBest parameters for SGD Classifier are {'alpha': 1, 'class_weight': 'balanced', 'shuffle': True, 'verbose': 1} with a score of 0.5351585767169599\nBest parameters for SGD Classifier are {'alpha': 1, 'class_weight': 'balanced', 'shuffle': True, 'verbose': 0} with a score of 0.5442584587452174\nBest parameters for SGD Classifier are {'alpha': 1, 'class_weight': None, 'shuffle': True, 'verbose': 1} with a score of 0.5484067391625504\nBest parameters for SGD Classifier are {'alpha': 1, 'class_weight': None, 'shuffle': False, 'verbose': 0} with a score of 0.5550304992281522\nBest parameters for SGD Classifier are {'alpha': 1, 'class_weight': None, 'shuffle': False, 'verbose': 1} with a score of 0.5550304992281522\nBest parameters for SGD Classifier are {'alpha': 1, 'class_weight': None, 'shuffle': False, 'verbose': 5} with a score of 0.5550304992281522\nBest parameters for SGD Classifier are {'alpha': 1, 'class_weight': None, 'shuffle': False, 'verbose': 10} with a score of 0.5550304992281522\nBest parameters for SGD Classifier are {'alpha': 1, 'class_weight': None, 'shuffle': True, 'verbose': 5} with a score of 0.5694954192278953\nBest parameters for SGD Classifier are {'alpha': 1, 'class_weight': None, 'shuffle': True, 'verbose': 10} with a score of 0.5866888907444638\nBest parameters for SGD Classifier are {'alpha': 1, 'class_weight': 'balanced', 'shuffle': True, 'verbose': 10} with a score of 0.5904213796484828\nBest parameters for SGD Classifier are {'alpha': 1, 'class_weight': 'balanced', 'shuffle': False, 'verbose': 0} with a score of 0.6642579877146668\nBest parameters for SGD Classifier are {'alpha': 1, 'class_weight': 'balanced', 'shuffle': False, 'verbose': 1} with a score of 0.6642579877146668\nBest parameters for SGD Classifier are {'alpha': 1, 'class_weight': 'balanced', 'shuffle': False, 'verbose': 5} with a score of 0.6642579877146668\nBest parameters for SGD Classifier are {'alpha': 1, 'class_weight': 'balanced', 'shuffle': False, 'verbose': 10} with a score of 0.6642579877146668\nBest parameters for SGD Classifier are {'alpha': 0.0001, 'class_weight': 'balanced', 'shuffle': True, 'verbose': 5} with a score of 0.6677714474126506\nBest parameters for SGD Classifier are {'alpha': 0.0001, 'class_weight': None, 'shuffle': True, 'verbose': 10} with a score of 0.6708569116239634\nBest parameters for SGD Classifier are {'alpha': 0.01, 'class_weight': None, 'shuffle': True, 'verbose': 0} with a score of 0.6708699720165032\nBest parameters for SGD Classifier are {'alpha': 0.01, 'class_weight': None, 'shuffle': True, 'verbose': 1} with a score of 0.6708699720165032\nBest parameters for SGD Classifier are {'alpha': 0.01, 'class_weight': None, 'shuffle': True, 'verbose': 5} with a score of 0.6708699720165032\nBest parameters for SGD Classifier are {'alpha': 0.01, 'class_weight': None, 'shuffle': False, 'verbose': 0} with a score of 0.6708699720165032\nBest parameters for SGD Classifier are {'alpha': 0.01, 'class_weight': None, 'shuffle': False, 'verbose': 1} with a score of 0.6708699720165032\nBest parameters for SGD Classifier are {'alpha': 0.01, 'class_weight': None, 'shuffle': False, 'verbose': 5} with a score of 0.6708699720165032\nBest parameters for SGD Classifier are {'alpha': 0.01, 'class_weight': None, 'shuffle': False, 'verbose': 10} with a score of 0.6708699720165032\nBest parameters for SGD Classifier are {'alpha': 0.01, 'class_weight': None, 'shuffle': True, 'verbose': 10} with a score of 0.6710767972491816\nBest parameters for SGD Classifier are {'alpha': 0.01, 'class_weight': 'balanced', 'shuffle': True, 'verbose': 1} with a score of 0.6737685227411409\nBest parameters for SGD Classifier are {'alpha': 0.01, 'class_weight': 'balanced', 'shuffle': True, 'verbose': 5} with a score of 0.6737685227411409\nBest parameters for SGD Classifier are {'alpha': 0.0001, 'class_weight': 'balanced', 'shuffle': True, 'verbose': 10} with a score of 0.6745981788246075\nBest parameters for SGD Classifier are {'alpha': 0.1, 'class_weight': None, 'shuffle': True, 'verbose': 5} with a score of 0.6748002937517799\nBest parameters for SGD Classifier are {'alpha': 0.1, 'class_weight': None, 'shuffle': True, 'verbose': 10} with a score of 0.6762489267997114\nBest parameters for SGD Classifier are {'alpha': 0.01, 'class_weight': 'balanced', 'shuffle': True, 'verbose': 10} with a score of 0.676250853742873\nBest parameters for SGD Classifier are {'alpha': 0.1, 'class_weight': None, 'shuffle': True, 'verbose': 0} with a score of 0.6766632195794553\nBest parameters for SGD Classifier are {'alpha': 0.01, 'class_weight': 'balanced', 'shuffle': True, 'verbose': 0} with a score of 0.6766645042082298\nBest parameters for SGD Classifier are {'alpha': 0.1, 'class_weight': None, 'shuffle': True, 'verbose': 1} with a score of 0.6781103538938169\nBest parameters for SGD Classifier are {'alpha': 0.1, 'class_weight': None, 'shuffle': False, 'verbose': 0} with a score of 0.6791444800572088\nBest parameters for SGD Classifier are {'alpha': 0.1, 'class_weight': None, 'shuffle': False, 'verbose': 1} with a score of 0.6791444800572088\nBest parameters for SGD Classifier are {'alpha': 0.1, 'class_weight': None, 'shuffle': False, 'verbose': 5} with a score of 0.6791444800572088\nBest parameters for SGD Classifier are {'alpha': 0.1, 'class_weight': None, 'shuffle': False, 'verbose': 10} with a score of 0.6791444800572088\nBest parameters for SGD Classifier are {'alpha': 0.1, 'class_weight': 'balanced', 'shuffle': True, 'verbose': 0} with a score of 0.6791446941620045\nBest parameters for SGD Classifier are {'alpha': 0.1, 'class_weight': 'balanced', 'shuffle': True, 'verbose': 10} with a score of 0.6803854314532791\nBest parameters for SGD Classifier are {'alpha': 0.1, 'class_weight': 'balanced', 'shuffle': True, 'verbose': 1} with a score of 0.6805920425811618\nBest parameters for SGD Classifier are {'alpha': 0.1, 'class_weight': 'balanced', 'shuffle': True, 'verbose': 5} with a score of 0.6822472867569761\nBest parameters for SGD Classifier are {'alpha': 0.1, 'class_weight': 'balanced', 'shuffle': False, 'verbose': 0} with a score of 0.6828675483502156\nBest parameters for SGD Classifier are {'alpha': 0.1, 'class_weight': 'balanced', 'shuffle': False, 'verbose': 1} with a score of 0.6828675483502156\nBest parameters for SGD Classifier are {'alpha': 0.1, 'class_weight': 'balanced', 'shuffle': False, 'verbose': 5} with a score of 0.6828675483502156\nBest parameters for SGD Classifier are {'alpha': 0.1, 'class_weight': 'balanced', 'shuffle': False, 'verbose': 10} with a score of 0.6828675483502156\nBest parameters for SGD Classifier are {'alpha': 0.001, 'class_weight': None, 'shuffle': True, 'verbose': 0} with a score of 0.6832826975491424\nBest parameters for SGD Classifier are {'alpha': 0.001, 'class_weight': 'balanced', 'shuffle': True, 'verbose': 10} with a score of 0.6832826975491424\nBest parameters for SGD Classifier are {'alpha': 0.01, 'class_weight': 'balanced', 'shuffle': False, 'verbose': 0} with a score of 0.6832826975491424\nBest parameters for SGD Classifier are {'alpha': 0.01, 'class_weight': 'balanced', 'shuffle': False, 'verbose': 1} with a score of 0.6832826975491424\nBest parameters for SGD Classifier are {'alpha': 0.01, 'class_weight': 'balanced', 'shuffle': False, 'verbose': 5} with a score of 0.6832826975491424\nBest parameters for SGD Classifier are {'alpha': 0.01, 'class_weight': 'balanced', 'shuffle': False, 'verbose': 10} with a score of 0.6832826975491424\nBest parameters for SGD Classifier are {'alpha': 0.001, 'class_weight': None, 'shuffle': True, 'verbose': 10} with a score of 0.6834895227818208\nBest parameters for SGD Classifier are {'alpha': 0.001, 'class_weight': 'balanced', 'shuffle': True, 'verbose': 0} with a score of 0.6834895227818208\nBest parameters for SGD Classifier are {'alpha': 0.001, 'class_weight': 'balanced', 'shuffle': True, 'verbose': 1} with a score of 0.6834895227818208\nBest parameters for SGD Classifier are {'alpha': 0.001, 'class_weight': 'balanced', 'shuffle': True, 'verbose': 5} with a score of 0.6834895227818208\nBest parameters for SGD Classifier are {'alpha': 0.001, 'class_weight': 'balanced', 'shuffle': False, 'verbose': 0} with a score of 0.6834895227818208\nBest parameters for SGD Classifier are {'alpha': 0.001, 'class_weight': 'balanced', 'shuffle': False, 'verbose': 1} with a score of 0.6834895227818208\nBest parameters for SGD Classifier are {'alpha': 0.001, 'class_weight': 'balanced', 'shuffle': False, 'verbose': 5} with a score of 0.6834895227818208\nBest parameters for SGD Classifier are {'alpha': 0.001, 'class_weight': 'balanced', 'shuffle': False, 'verbose': 10} with a score of 0.6834895227818208\nBest parameters for SGD Classifier are {'alpha': 0.001, 'class_weight': None, 'shuffle': True, 'verbose': 1} with a score of 0.6836963480144992\nBest parameters for SGD Classifier are {'alpha': 0.001, 'class_weight': None, 'shuffle': True, 'verbose': 5} with a score of 0.6836963480144992\nBest parameters for SGD Classifier are {'alpha': 0.001, 'class_weight': None, 'shuffle': False, 'verbose': 0} with a score of 0.6839031732471776\nBest parameters for SGD Classifier are {'alpha': 0.001, 'class_weight': None, 'shuffle': False, 'verbose': 1} with a score of 0.6839031732471776\nBest parameters for SGD Classifier are {'alpha': 0.001, 'class_weight': None, 'shuffle': False, 'verbose': 5} with a score of 0.6839031732471776\nBest parameters for SGD Classifier are {'alpha': 0.001, 'class_weight': None, 'shuffle': False, 'verbose': 10} with a score of 0.6839031732471776\nBest parameters for SGD Classifier are {'alpha': 0.0001, 'class_weight': None, 'shuffle': True, 'verbose': 1} with a score of 0.6874213432506675\nBest parameters for SGD Classifier are {'alpha': 0.0001, 'class_weight': None, 'shuffle': True, 'verbose': 5} with a score of 0.6880401061103367\nBest parameters for SGD Classifier are {'alpha': 0.0001, 'class_weight': None, 'shuffle': True, 'verbose': 0} with a score of 0.6888678352506419\nBest parameters for SGD Classifier are {'alpha': 0.0001, 'class_weight': None, 'shuffle': False, 'verbose': 0} with a score of 0.6892812716112029\nBest parameters for SGD Classifier are {'alpha': 0.0001, 'class_weight': None, 'shuffle': False, 'verbose': 1} with a score of 0.6892812716112029\nBest parameters for SGD Classifier are {'alpha': 0.0001, 'class_weight': None, 'shuffle': False, 'verbose': 5} with a score of 0.6892812716112029\nBest parameters for SGD Classifier are {'alpha': 0.0001, 'class_weight': None, 'shuffle': False, 'verbose': 10} with a score of 0.6892812716112029\nBest parameters for SGD Classifier are {'alpha': 0.0001, 'class_weight': 'balanced', 'shuffle': False, 'verbose': 0} with a score of 0.6927973005667354\nBest parameters for SGD Classifier are {'alpha': 0.0001, 'class_weight': 'balanced', 'shuffle': False, 'verbose': 1} with a score of 0.6927973005667354\nBest parameters for SGD Classifier are {'alpha': 0.0001, 'class_weight': 'balanced', 'shuffle': False, 'verbose': 5} with a score of 0.6927973005667354\nBest parameters for SGD Classifier are {'alpha': 0.0001, 'class_weight': 'balanced', 'shuffle': False, 'verbose': 10} with a score of 0.6927973005667354\nBest parameters for SGD Classifier are {'alpha': 0.0001, 'class_weight': 'balanced', 'shuffle': True, 'verbose': 0} with a score of 0.6994206324227457\nBest parameters for SGD Classifier are {'alpha': 0.0001, 'class_weight': 'balanced', 'shuffle': True, 'verbose': 1} with a score of 0.6998340687833068\n",
     "output_type": "stream"
    }
   ]
  },
  {
   "cell_type": "markdown",
   "source": "Best parameters for SGD Classifier are {'alpha': 0.0001, 'class_weight': 'balanced', 'shuffle': True, 'verbose': 1} using rfe_list froms RFE\n",
   "metadata": {
    "tags": [],
    "cell_id": "00060-ca9bad71-661e-44cc-bdb8-23fdde6c6f30",
    "deepnote_cell_type": "markdown"
   }
  },
  {
   "cell_type": "code",
   "metadata": {
    "tags": [],
    "deepnote_to_be_reexecuted": true,
    "source_hash": "99ef0b23",
    "execution_start": 1621911332346,
    "execution_millis": 442,
    "is_output_hidden": true,
    "cell_id": "00061-b59ed1fe-1399-44f8-a9ec-f214aa09ac36",
    "deepnote_cell_type": "code"
   },
   "source": "# Build 2 models using Select K Best features for one and RFE Features for the other\nsgd_skb = SGDClassifier(alpha=0.01, shuffle=True, verbose=5, class_weight=None)\nsgd_rfe = SGDClassifier(alpha=0.0001, class_weight='balanced', shuffle=True, verbose=1)\n\n# fitting the SGD Classifiers with the X_train with the corresponding features\nsgd_skb.fit(X_train[f_feature], y_train)\nsgd_rfe.fit(X_train[rfe_list], y_train)\n\n# Model SKB predictions\ny_pred_sgd_skb = sgd_skb.predict(X_train[f_feature])\ny_pred_val_sgd_skb = sgd_skb.predict(X_validate[f_feature])\n\n# Model RFE predictions\ny_pred_sgd_rfe = sgd_rfe.predict(X_train[rfe_list])\ny_pred_val_sgd_rfe = sgd_rfe.predict(X_validate[rfe_list])\n\n# Measure accuracy of the select k best feature model\naccuracy_train_sgd_skb = sgd_skb.score(X_train[f_feature], y_train)\naccuracy_val_sgd_skb = sgd_skb.score(X_validate[f_feature], y_validate)\n\n# Measure accuracy of the RFE feature model\naccuracy_train_sgd_rfe = sgd_rfe.score(X_train[rfe_list], y_train)\naccuracy_val_sgd_rfe = sgd_rfe.score(X_validate[rfe_list], y_validate)",
   "execution_count": null,
   "outputs": [
    {
     "name": "stdout",
     "text": "-- Epoch 1\nNorm: 8.28, NNZs: 15, Bias: -2.358298, T: 4834, Avg. loss: 37.365591\nTotal training time: 0.00 seconds.\n-- Epoch 2\nNorm: 6.03, NNZs: 15, Bias: -1.461340, T: 9668, Avg. loss: 5.087795\nTotal training time: 0.00 seconds.\n-- Epoch 3\nNorm: 5.44, NNZs: 15, Bias: -1.065081, T: 14502, Avg. loss: 3.369127\nTotal training time: 0.00 seconds.\n-- Epoch 4\nNorm: 4.68, NNZs: 15, Bias: -0.736281, T: 19336, Avg. loss: 2.580900\nTotal training time: 0.01 seconds.\n-- Epoch 5\nNorm: 4.32, NNZs: 15, Bias: -0.497432, T: 24170, Avg. loss: 2.085193\nTotal training time: 0.01 seconds.\n-- Epoch 6\nNorm: 3.89, NNZs: 15, Bias: -0.315186, T: 29004, Avg. loss: 1.869400\nTotal training time: 0.01 seconds.\n-- Epoch 7\nNorm: 3.55, NNZs: 15, Bias: -0.242906, T: 33838, Avg. loss: 1.622763\nTotal training time: 0.01 seconds.\n-- Epoch 8\nNorm: 3.32, NNZs: 15, Bias: -0.150791, T: 38672, Avg. loss: 1.542882\nTotal training time: 0.01 seconds.\n-- Epoch 9\nNorm: 3.14, NNZs: 15, Bias: -0.099004, T: 43506, Avg. loss: 1.423115\nTotal training time: 0.01 seconds.\n-- Epoch 10\nNorm: 2.99, NNZs: 15, Bias: -0.056139, T: 48340, Avg. loss: 1.341298\nTotal training time: 0.01 seconds.\n-- Epoch 11\nNorm: 2.89, NNZs: 15, Bias: 0.016698, T: 53174, Avg. loss: 1.277088\nTotal training time: 0.01 seconds.\n-- Epoch 12\nNorm: 2.76, NNZs: 15, Bias: 0.062470, T: 58008, Avg. loss: 1.224715\nTotal training time: 0.01 seconds.\n-- Epoch 13\nNorm: 2.71, NNZs: 15, Bias: 0.088368, T: 62842, Avg. loss: 1.167284\nTotal training time: 0.02 seconds.\n-- Epoch 14\nNorm: 2.67, NNZs: 15, Bias: 0.103474, T: 67676, Avg. loss: 1.150357\nTotal training time: 0.02 seconds.\n-- Epoch 15\nNorm: 2.61, NNZs: 15, Bias: 0.115039, T: 72510, Avg. loss: 1.112482\nTotal training time: 0.02 seconds.\n-- Epoch 16\nNorm: 2.56, NNZs: 15, Bias: 0.145788, T: 77344, Avg. loss: 1.100065\nTotal training time: 0.03 seconds.\n-- Epoch 17\nNorm: 2.50, NNZs: 15, Bias: 0.158247, T: 82178, Avg. loss: 1.055317\nTotal training time: 0.03 seconds.\n-- Epoch 18\nNorm: 2.46, NNZs: 15, Bias: 0.190404, T: 87012, Avg. loss: 1.043480\nTotal training time: 0.03 seconds.\n-- Epoch 19\nNorm: 2.41, NNZs: 15, Bias: 0.186912, T: 91846, Avg. loss: 1.026246\nTotal training time: 0.04 seconds.\n-- Epoch 20\nNorm: 2.37, NNZs: 15, Bias: 0.202652, T: 96680, Avg. loss: 1.016625\nTotal training time: 0.04 seconds.\n-- Epoch 21\nNorm: 2.36, NNZs: 15, Bias: 0.221305, T: 101514, Avg. loss: 0.988938\nTotal training time: 0.05 seconds.\n-- Epoch 22\nNorm: 2.35, NNZs: 15, Bias: 0.238666, T: 106348, Avg. loss: 0.986588\nTotal training time: 0.05 seconds.\n-- Epoch 23\nNorm: 2.32, NNZs: 15, Bias: 0.247696, T: 111182, Avg. loss: 0.966365\nTotal training time: 0.05 seconds.\n-- Epoch 24\nNorm: 2.30, NNZs: 15, Bias: 0.252404, T: 116016, Avg. loss: 0.951495\nTotal training time: 0.05 seconds.\n-- Epoch 25\nNorm: 2.29, NNZs: 15, Bias: 0.250954, T: 120850, Avg. loss: 0.937534\nTotal training time: 0.05 seconds.\n-- Epoch 26\nNorm: 2.27, NNZs: 15, Bias: 0.264916, T: 125684, Avg. loss: 0.945384\nTotal training time: 0.06 seconds.\n-- Epoch 27\nNorm: 2.25, NNZs: 15, Bias: 0.268324, T: 130518, Avg. loss: 0.922859\nTotal training time: 0.06 seconds.\n-- Epoch 28\nNorm: 2.22, NNZs: 15, Bias: 0.278707, T: 135352, Avg. loss: 0.914228\nTotal training time: 0.06 seconds.\n-- Epoch 29\nNorm: 2.22, NNZs: 15, Bias: 0.287467, T: 140186, Avg. loss: 0.902184\nTotal training time: 0.06 seconds.\n-- Epoch 30\nNorm: 2.21, NNZs: 15, Bias: 0.293677, T: 145020, Avg. loss: 0.904454\nTotal training time: 0.06 seconds.\n-- Epoch 31\nNorm: 2.18, NNZs: 15, Bias: 0.304041, T: 149854, Avg. loss: 0.888929\nTotal training time: 0.06 seconds.\n-- Epoch 32\nNorm: 2.17, NNZs: 15, Bias: 0.307412, T: 154688, Avg. loss: 0.891228\nTotal training time: 0.06 seconds.\n-- Epoch 33\nNorm: 2.15, NNZs: 15, Bias: 0.310622, T: 159522, Avg. loss: 0.901067\nTotal training time: 0.07 seconds.\n-- Epoch 34\nNorm: 2.14, NNZs: 15, Bias: 0.325991, T: 164356, Avg. loss: 0.878442\nTotal training time: 0.07 seconds.\n-- Epoch 35\nNorm: 2.12, NNZs: 15, Bias: 0.326243, T: 169190, Avg. loss: 0.869876\nTotal training time: 0.07 seconds.\n-- Epoch 36\nNorm: 2.12, NNZs: 15, Bias: 0.340303, T: 174024, Avg. loss: 0.867053\nTotal training time: 0.07 seconds.\n-- Epoch 37\nNorm: 2.12, NNZs: 15, Bias: 0.343077, T: 178858, Avg. loss: 0.864754\nTotal training time: 0.07 seconds.\n-- Epoch 38\nNorm: 2.11, NNZs: 15, Bias: 0.345851, T: 183692, Avg. loss: 0.858040\nTotal training time: 0.07 seconds.\n-- Epoch 39\nNorm: 2.11, NNZs: 15, Bias: 0.342185, T: 188526, Avg. loss: 0.850898\nTotal training time: 0.07 seconds.\n-- Epoch 40\nNorm: 2.10, NNZs: 15, Bias: 0.348005, T: 193360, Avg. loss: 0.853175\nTotal training time: 0.07 seconds.\n-- Epoch 41\nNorm: 2.09, NNZs: 15, Bias: 0.351093, T: 198194, Avg. loss: 0.853115\nTotal training time: 0.07 seconds.\n-- Epoch 42\nNorm: 2.08, NNZs: 15, Bias: 0.362018, T: 203028, Avg. loss: 0.843930\nTotal training time: 0.08 seconds.\n-- Epoch 43\nNorm: 2.07, NNZs: 15, Bias: 0.368839, T: 207862, Avg. loss: 0.831487\nTotal training time: 0.08 seconds.\n-- Epoch 44\nNorm: 2.07, NNZs: 15, Bias: 0.370398, T: 212696, Avg. loss: 0.835556\nTotal training time: 0.08 seconds.\n-- Epoch 45\nNorm: 2.06, NNZs: 15, Bias: 0.367607, T: 217530, Avg. loss: 0.836835\nTotal training time: 0.08 seconds.\n-- Epoch 46\nNorm: 2.06, NNZs: 15, Bias: 0.369407, T: 222364, Avg. loss: 0.836051\nTotal training time: 0.08 seconds.\n-- Epoch 47\nNorm: 2.05, NNZs: 15, Bias: 0.376589, T: 227198, Avg. loss: 0.821546\nTotal training time: 0.08 seconds.\n-- Epoch 48\nNorm: 2.04, NNZs: 15, Bias: 0.380078, T: 232032, Avg. loss: 0.819308\nTotal training time: 0.09 seconds.\n-- Epoch 49\nNorm: 2.04, NNZs: 15, Bias: 0.382178, T: 236866, Avg. loss: 0.821788\nTotal training time: 0.09 seconds.\n-- Epoch 50\nNorm: 2.02, NNZs: 15, Bias: 0.391370, T: 241700, Avg. loss: 0.818931\nTotal training time: 0.09 seconds.\n-- Epoch 51\nNorm: 2.02, NNZs: 15, Bias: 0.395819, T: 246534, Avg. loss: 0.813867\nTotal training time: 0.09 seconds.\n-- Epoch 52\nNorm: 2.02, NNZs: 15, Bias: 0.395868, T: 251368, Avg. loss: 0.818338\nTotal training time: 0.09 seconds.\n-- Epoch 53\nNorm: 2.02, NNZs: 15, Bias: 0.395462, T: 256202, Avg. loss: 0.804605\nTotal training time: 0.09 seconds.\n-- Epoch 54\nNorm: 2.01, NNZs: 15, Bias: 0.398205, T: 261036, Avg. loss: 0.804541\nTotal training time: 0.09 seconds.\n-- Epoch 55\nNorm: 2.01, NNZs: 15, Bias: 0.397856, T: 265870, Avg. loss: 0.801689\nTotal training time: 0.09 seconds.\n-- Epoch 56\nNorm: 2.01, NNZs: 15, Bias: 0.396022, T: 270704, Avg. loss: 0.802736\nTotal training time: 0.10 seconds.\n-- Epoch 57\nNorm: 2.01, NNZs: 15, Bias: 0.396020, T: 275538, Avg. loss: 0.794877\nTotal training time: 0.10 seconds.\n-- Epoch 58\nNorm: 2.00, NNZs: 15, Bias: 0.401053, T: 280372, Avg. loss: 0.792110\nTotal training time: 0.10 seconds.\n-- Epoch 59\nNorm: 2.00, NNZs: 15, Bias: 0.403517, T: 285206, Avg. loss: 0.793581\nTotal training time: 0.10 seconds.\n-- Epoch 60\nNorm: 2.00, NNZs: 15, Bias: 0.406980, T: 290040, Avg. loss: 0.802158\nTotal training time: 0.10 seconds.\n-- Epoch 61\nNorm: 2.00, NNZs: 15, Bias: 0.409022, T: 294874, Avg. loss: 0.794172\nTotal training time: 0.10 seconds.\n-- Epoch 62\nNorm: 1.99, NNZs: 15, Bias: 0.412733, T: 299708, Avg. loss: 0.794577\nTotal training time: 0.10 seconds.\n-- Epoch 63\nNorm: 2.00, NNZs: 15, Bias: 0.413095, T: 304542, Avg. loss: 0.796418\nTotal training time: 0.10 seconds.\nConvergence after 63 epochs took 0.10 seconds\n-- Epoch 1\nNorm: 16.75, NNZs: 15, Bias: -12.966224, T: 4834, Avg. loss: 5.305105\nTotal training time: 0.00 seconds.\n-- Epoch 2\nNorm: 11.05, NNZs: 15, Bias: -3.167106, T: 9668, Avg. loss: 2.324710\nTotal training time: 0.00 seconds.\n-- Epoch 3\nNorm: 8.85, NNZs: 15, Bias: -2.942432, T: 14502, Avg. loss: 1.625766\nTotal training time: 0.01 seconds.\n-- Epoch 4\nNorm: 6.60, NNZs: 15, Bias: -3.721862, T: 19336, Avg. loss: 1.387350\nTotal training time: 0.01 seconds.\n-- Epoch 5\nNorm: 7.34, NNZs: 15, Bias: -1.568709, T: 24170, Avg. loss: 1.235955\nTotal training time: 0.01 seconds.\n-- Epoch 6\nNorm: 5.75, NNZs: 15, Bias: -2.717080, T: 29004, Avg. loss: 1.144443\nTotal training time: 0.01 seconds.\n-- Epoch 7\nNorm: 5.61, NNZs: 15, Bias: -2.663869, T: 33838, Avg. loss: 1.060822\nTotal training time: 0.02 seconds.\n-- Epoch 8\nNorm: 5.31, NNZs: 15, Bias: -2.312652, T: 38672, Avg. loss: 1.017411\nTotal training time: 0.02 seconds.\n-- Epoch 9\nNorm: 4.59, NNZs: 15, Bias: -1.714153, T: 43506, Avg. loss: 0.972657\nTotal training time: 0.02 seconds.\n-- Epoch 10\nNorm: 5.14, NNZs: 15, Bias: -1.332526, T: 48340, Avg. loss: 0.945446\nTotal training time: 0.02 seconds.\n-- Epoch 11\nNorm: 4.62, NNZs: 15, Bias: -1.722258, T: 53174, Avg. loss: 0.932039\nTotal training time: 0.02 seconds.\n-- Epoch 12\nNorm: 4.17, NNZs: 15, Bias: -2.330905, T: 58008, Avg. loss: 0.888865\nTotal training time: 0.02 seconds.\n-- Epoch 13\nNorm: 3.90, NNZs: 15, Bias: -2.237946, T: 62842, Avg. loss: 0.879998\nTotal training time: 0.02 seconds.\n-- Epoch 14\nNorm: 4.42, NNZs: 15, Bias: -2.074354, T: 67676, Avg. loss: 0.877598\nTotal training time: 0.02 seconds.\n-- Epoch 15\nNorm: 4.06, NNZs: 15, Bias: -1.825696, T: 72510, Avg. loss: 0.861438\nTotal training time: 0.03 seconds.\n-- Epoch 16\nNorm: 4.42, NNZs: 15, Bias: -1.785831, T: 77344, Avg. loss: 0.844309\nTotal training time: 0.03 seconds.\n-- Epoch 17\nNorm: 4.55, NNZs: 15, Bias: -1.613939, T: 82178, Avg. loss: 0.834769\nTotal training time: 0.03 seconds.\n-- Epoch 18\nNorm: 4.16, NNZs: 15, Bias: -1.740715, T: 87012, Avg. loss: 0.832236\nTotal training time: 0.03 seconds.\n-- Epoch 19\nNorm: 3.95, NNZs: 15, Bias: -2.203216, T: 91846, Avg. loss: 0.813945\nTotal training time: 0.03 seconds.\n-- Epoch 20\nNorm: 4.28, NNZs: 15, Bias: -1.969743, T: 96680, Avg. loss: 0.806268\nTotal training time: 0.03 seconds.\n-- Epoch 21\nNorm: 4.46, NNZs: 15, Bias: -1.478118, T: 101514, Avg. loss: 0.811143\nTotal training time: 0.03 seconds.\n-- Epoch 22\nNorm: 4.09, NNZs: 15, Bias: -1.707476, T: 106348, Avg. loss: 0.785879\nTotal training time: 0.03 seconds.\n-- Epoch 23\nNorm: 4.13, NNZs: 15, Bias: -1.482069, T: 111182, Avg. loss: 0.787725\nTotal training time: 0.04 seconds.\n-- Epoch 24\nNorm: 4.19, NNZs: 15, Bias: -1.589293, T: 116016, Avg. loss: 0.781884\nTotal training time: 0.04 seconds.\n-- Epoch 25\nNorm: 4.28, NNZs: 15, Bias: -1.030456, T: 120850, Avg. loss: 0.777363\nTotal training time: 0.04 seconds.\n-- Epoch 26\nNorm: 4.00, NNZs: 15, Bias: -1.305972, T: 125684, Avg. loss: 0.783567\nTotal training time: 0.04 seconds.\n-- Epoch 27\nNorm: 3.87, NNZs: 15, Bias: -1.682617, T: 130518, Avg. loss: 0.780471\nTotal training time: 0.04 seconds.\n-- Epoch 28\nNorm: 3.73, NNZs: 15, Bias: -1.482173, T: 135352, Avg. loss: 0.770307\nTotal training time: 0.04 seconds.\n-- Epoch 29\nNorm: 4.04, NNZs: 15, Bias: -1.758329, T: 140186, Avg. loss: 0.765473\nTotal training time: 0.04 seconds.\n-- Epoch 30\nNorm: 4.08, NNZs: 15, Bias: -1.278100, T: 145020, Avg. loss: 0.764084\nTotal training time: 0.04 seconds.\n-- Epoch 31\nNorm: 3.80, NNZs: 15, Bias: -1.548160, T: 149854, Avg. loss: 0.760590\nTotal training time: 0.04 seconds.\n-- Epoch 32\nNorm: 3.94, NNZs: 15, Bias: -1.469945, T: 154688, Avg. loss: 0.754740\nTotal training time: 0.05 seconds.\n-- Epoch 33\nNorm: 3.58, NNZs: 15, Bias: -1.627223, T: 159522, Avg. loss: 0.747720\nTotal training time: 0.05 seconds.\n-- Epoch 34\nNorm: 4.02, NNZs: 15, Bias: -1.395485, T: 164356, Avg. loss: 0.751340\nTotal training time: 0.05 seconds.\n-- Epoch 35\nNorm: 3.75, NNZs: 15, Bias: -1.455651, T: 169190, Avg. loss: 0.746777\nTotal training time: 0.05 seconds.\n-- Epoch 36\nNorm: 3.72, NNZs: 15, Bias: -1.523595, T: 174024, Avg. loss: 0.749843\nTotal training time: 0.05 seconds.\n-- Epoch 37\nNorm: 4.02, NNZs: 15, Bias: -1.302058, T: 178858, Avg. loss: 0.744429\nTotal training time: 0.05 seconds.\n-- Epoch 38\nNorm: 3.88, NNZs: 15, Bias: -1.487820, T: 183692, Avg. loss: 0.741891\nTotal training time: 0.05 seconds.\n-- Epoch 39\nNorm: 3.99, NNZs: 15, Bias: -1.655784, T: 188526, Avg. loss: 0.737269\nTotal training time: 0.05 seconds.\n-- Epoch 40\nNorm: 4.02, NNZs: 15, Bias: -1.372959, T: 193360, Avg. loss: 0.734390\nTotal training time: 0.06 seconds.\n-- Epoch 41\nNorm: 3.71, NNZs: 15, Bias: -1.725609, T: 198194, Avg. loss: 0.740174\nTotal training time: 0.06 seconds.\n-- Epoch 42\nNorm: 3.82, NNZs: 15, Bias: -1.479794, T: 203028, Avg. loss: 0.733561\nTotal training time: 0.06 seconds.\n-- Epoch 43\nNorm: 3.77, NNZs: 15, Bias: -1.576546, T: 207862, Avg. loss: 0.733102\nTotal training time: 0.06 seconds.\n-- Epoch 44\nNorm: 3.82, NNZs: 15, Bias: -1.429793, T: 212696, Avg. loss: 0.731417\nTotal training time: 0.06 seconds.\n-- Epoch 45\nNorm: 3.56, NNZs: 15, Bias: -1.528998, T: 217530, Avg. loss: 0.729386\nTotal training time: 0.06 seconds.\n-- Epoch 46\nNorm: 3.82, NNZs: 15, Bias: -1.491497, T: 222364, Avg. loss: 0.730889\nTotal training time: 0.06 seconds.\n-- Epoch 47\nNorm: 3.58, NNZs: 15, Bias: -1.447356, T: 227198, Avg. loss: 0.727314\nTotal training time: 0.06 seconds.\n-- Epoch 48\nNorm: 3.51, NNZs: 15, Bias: -1.443933, T: 232032, Avg. loss: 0.723670\nTotal training time: 0.07 seconds.\n-- Epoch 49\nNorm: 3.69, NNZs: 15, Bias: -1.565672, T: 236866, Avg. loss: 0.728181\nTotal training time: 0.07 seconds.\n-- Epoch 50\nNorm: 3.77, NNZs: 15, Bias: -1.329225, T: 241700, Avg. loss: 0.725624\nTotal training time: 0.07 seconds.\n-- Epoch 51\nNorm: 3.68, NNZs: 15, Bias: -1.390075, T: 246534, Avg. loss: 0.723600\nTotal training time: 0.07 seconds.\n-- Epoch 52\nNorm: 3.82, NNZs: 15, Bias: -1.282398, T: 251368, Avg. loss: 0.720716\nTotal training time: 0.07 seconds.\n-- Epoch 53\nNorm: 3.87, NNZs: 15, Bias: -1.134645, T: 256202, Avg. loss: 0.721390\nTotal training time: 0.07 seconds.\n-- Epoch 54\nNorm: 3.98, NNZs: 15, Bias: -1.115636, T: 261036, Avg. loss: 0.715359\nTotal training time: 0.07 seconds.\n-- Epoch 55\nNorm: 3.69, NNZs: 15, Bias: -1.148455, T: 265870, Avg. loss: 0.717927\nTotal training time: 0.08 seconds.\n-- Epoch 56\nNorm: 3.99, NNZs: 15, Bias: -1.101617, T: 270704, Avg. loss: 0.716960\nTotal training time: 0.08 seconds.\n-- Epoch 57\nNorm: 3.97, NNZs: 15, Bias: -1.191608, T: 275538, Avg. loss: 0.714028\nTotal training time: 0.08 seconds.\n-- Epoch 58\nNorm: 3.89, NNZs: 15, Bias: -1.073193, T: 280372, Avg. loss: 0.712565\nTotal training time: 0.08 seconds.\n-- Epoch 59\nNorm: 3.77, NNZs: 15, Bias: -1.237434, T: 285206, Avg. loss: 0.710703\nTotal training time: 0.08 seconds.\n-- Epoch 60\nNorm: 3.72, NNZs: 15, Bias: -1.250205, T: 290040, Avg. loss: 0.711964\nTotal training time: 0.09 seconds.\n-- Epoch 61\nNorm: 3.65, NNZs: 15, Bias: -1.361191, T: 294874, Avg. loss: 0.710894\nTotal training time: 0.12 seconds.\n-- Epoch 62\nNorm: 3.83, NNZs: 15, Bias: -1.222968, T: 299708, Avg. loss: 0.710375\nTotal training time: 0.12 seconds.\n-- Epoch 63\nNorm: 3.77, NNZs: 15, Bias: -1.291597, T: 304542, Avg. loss: 0.711302\nTotal training time: 0.12 seconds.\n-- Epoch 64\nNorm: 3.66, NNZs: 15, Bias: -1.336981, T: 309376, Avg. loss: 0.707193\nTotal training time: 0.13 seconds.\n-- Epoch 65\nNorm: 3.52, NNZs: 15, Bias: -1.382470, T: 314210, Avg. loss: 0.706594\nTotal training time: 0.13 seconds.\n-- Epoch 66\nNorm: 3.69, NNZs: 15, Bias: -1.220870, T: 319044, Avg. loss: 0.706077\nTotal training time: 0.13 seconds.\n-- Epoch 67\nNorm: 3.74, NNZs: 15, Bias: -1.226884, T: 323878, Avg. loss: 0.703031\nTotal training time: 0.13 seconds.\n-- Epoch 68\nNorm: 3.75, NNZs: 15, Bias: -1.163988, T: 328712, Avg. loss: 0.707523\nTotal training time: 0.13 seconds.\n-- Epoch 69\nNorm: 3.94, NNZs: 15, Bias: -1.244243, T: 333546, Avg. loss: 0.703404\nTotal training time: 0.13 seconds.\n-- Epoch 70\nNorm: 3.54, NNZs: 15, Bias: -1.340780, T: 338380, Avg. loss: 0.699010\nTotal training time: 0.13 seconds.\n-- Epoch 71\nNorm: 3.77, NNZs: 15, Bias: -1.123516, T: 343214, Avg. loss: 0.704042\nTotal training time: 0.14 seconds.\n-- Epoch 72\nNorm: 3.73, NNZs: 15, Bias: -1.129991, T: 348048, Avg. loss: 0.701137\nTotal training time: 0.14 seconds.\n-- Epoch 73\nNorm: 3.78, NNZs: 15, Bias: -1.155791, T: 352882, Avg. loss: 0.700987\nTotal training time: 0.14 seconds.\n-- Epoch 74\nNorm: 3.72, NNZs: 15, Bias: -1.077366, T: 357716, Avg. loss: 0.700386\nTotal training time: 0.14 seconds.\n-- Epoch 75\nNorm: 3.70, NNZs: 15, Bias: -1.133011, T: 362550, Avg. loss: 0.700021\nTotal training time: 0.14 seconds.\nConvergence after 75 epochs took 0.14 seconds\n",
     "output_type": "stream"
    }
   ]
  },
  {
   "cell_type": "code",
   "metadata": {
    "tags": [],
    "deepnote_to_be_reexecuted": true,
    "source_hash": "962e44ec",
    "execution_start": 1621909837581,
    "execution_millis": 93,
    "output_cleared": true,
    "cell_id": "00062-a25254f5-90a9-43f5-9c38-0e7021b3025a",
    "deepnote_cell_type": "code"
   },
   "source": "# Add accuracy of the SKB model to the metric_df\nmetric_df = metric_df.append({\n    'model': 'SGD Classifier SKB Features', \n    'baseline_accuracy': round(baseline_accuracy,2),\n    'train_accuracy': round(accuracy_train_sgd_skb, 2),\n    'validate_accuracy':round(accuracy_val_sgd_skb,2)}, ignore_index=True)\n",
   "execution_count": null,
   "outputs": []
  },
  {
   "cell_type": "code",
   "metadata": {
    "tags": [],
    "deepnote_to_be_reexecuted": true,
    "source_hash": "cb4e0fa5",
    "execution_start": 1621909971706,
    "execution_millis": 21,
    "cell_id": "00063-fb2908b7-00ce-451a-896a-af6473fc07ef",
    "deepnote_cell_type": "code"
   },
   "source": "# Add accuracy of the RFE model to the metric_df\nmetric_df = metric_df.append({\n    'model': 'SGD Classifier RFE Features', \n    'baseline_accuracy': round(baseline_accuracy,2),\n    'train_accuracy': round(accuracy_train_sgd_rfe, 2),\n    'validate_accuracy':round(accuracy_val_sgd_rfe,2)}, ignore_index=True)",
   "execution_count": null,
   "outputs": []
  },
  {
   "cell_type": "code",
   "metadata": {
    "tags": [],
    "deepnote_to_be_reexecuted": true,
    "source_hash": "400c35cf",
    "execution_start": 1621910507280,
    "execution_millis": 25,
    "cell_id": "00064-440a8bf3-481c-4caf-8a13-151e144adb08",
    "deepnote_cell_type": "code"
   },
   "source": "metric_df",
   "execution_count": null,
   "outputs": [
    {
     "output_type": "execute_result",
     "execution_count": 110,
     "data": {
      "application/vnd.deepnote.dataframe.v2+json": {
       "row_count": 5,
       "column_count": 4,
       "columns": [
        {
         "name": "model",
         "dtype": "object",
         "stats": {
          "unique_count": 4,
          "nan_count": 0,
          "categories": [
           {
            "name": "naive bayes",
            "count": 2
           },
           {
            "name": "random forest",
            "count": 1
           },
           {
            "name": "2 others",
            "count": 2
           }
          ]
         }
        },
        {
         "name": "baseline_accuracy",
         "dtype": "float64",
         "stats": {
          "unique_count": 1,
          "nan_count": 0,
          "min": "0.51",
          "max": "0.51",
          "histogram": [
           {
            "bin_start": 0.010000000000000009,
            "bin_end": 0.11000000000000001,
            "count": 0
           },
           {
            "bin_start": 0.11000000000000001,
            "bin_end": 0.21000000000000002,
            "count": 0
           },
           {
            "bin_start": 0.21000000000000002,
            "bin_end": 0.31000000000000005,
            "count": 0
           },
           {
            "bin_start": 0.31000000000000005,
            "bin_end": 0.41000000000000003,
            "count": 0
           },
           {
            "bin_start": 0.41000000000000003,
            "bin_end": 0.51,
            "count": 0
           },
           {
            "bin_start": 0.51,
            "bin_end": 0.6100000000000001,
            "count": 5
           },
           {
            "bin_start": 0.6100000000000001,
            "bin_end": 0.7100000000000001,
            "count": 0
           },
           {
            "bin_start": 0.7100000000000001,
            "bin_end": 0.81,
            "count": 0
           },
           {
            "bin_start": 0.81,
            "bin_end": 0.91,
            "count": 0
           },
           {
            "bin_start": 0.91,
            "bin_end": 1.01,
            "count": 0
           }
          ]
         }
        },
        {
         "name": "train_accuracy",
         "dtype": "float64",
         "stats": {
          "unique_count": 4,
          "nan_count": 0,
          "min": "0.53",
          "max": "0.7",
          "histogram": [
           {
            "bin_start": 0.53,
            "bin_end": 0.547,
            "count": 1
           },
           {
            "bin_start": 0.547,
            "bin_end": 0.5640000000000001,
            "count": 0
           },
           {
            "bin_start": 0.5640000000000001,
            "bin_end": 0.581,
            "count": 0
           },
           {
            "bin_start": 0.581,
            "bin_end": 0.598,
            "count": 0
           },
           {
            "bin_start": 0.598,
            "bin_end": 0.615,
            "count": 1
           },
           {
            "bin_start": 0.615,
            "bin_end": 0.632,
            "count": 0
           },
           {
            "bin_start": 0.632,
            "bin_end": 0.649,
            "count": 0
           },
           {
            "bin_start": 0.649,
            "bin_end": 0.6659999999999999,
            "count": 0
           },
           {
            "bin_start": 0.6659999999999999,
            "bin_end": 0.6829999999999999,
            "count": 0
           },
           {
            "bin_start": 0.6829999999999999,
            "bin_end": 0.7,
            "count": 3
           }
          ]
         }
        },
        {
         "name": "validate_accuracy",
         "dtype": "float64",
         "stats": {
          "unique_count": 5,
          "nan_count": 0,
          "min": "0.53",
          "max": "0.72",
          "histogram": [
           {
            "bin_start": 0.53,
            "bin_end": 0.549,
            "count": 1
           },
           {
            "bin_start": 0.549,
            "bin_end": 0.5680000000000001,
            "count": 0
           },
           {
            "bin_start": 0.5680000000000001,
            "bin_end": 0.587,
            "count": 0
           },
           {
            "bin_start": 0.587,
            "bin_end": 0.606,
            "count": 1
           },
           {
            "bin_start": 0.606,
            "bin_end": 0.625,
            "count": 0
           },
           {
            "bin_start": 0.625,
            "bin_end": 0.644,
            "count": 0
           },
           {
            "bin_start": 0.644,
            "bin_end": 0.663,
            "count": 0
           },
           {
            "bin_start": 0.663,
            "bin_end": 0.6819999999999999,
            "count": 1
           },
           {
            "bin_start": 0.6819999999999999,
            "bin_end": 0.701,
            "count": 1
           },
           {
            "bin_start": 0.701,
            "bin_end": 0.72,
            "count": 1
           }
          ]
         }
        },
        {
         "name": "_deepnote_index_column",
         "dtype": "int64"
        }
       ],
       "rows_top": [
        {
         "model": "random forest",
         "baseline_accuracy": 0.51,
         "train_accuracy": 0.7,
         "validate_accuracy": 0.72,
         "_deepnote_index_column": 0
        },
        {
         "model": "naive bayes",
         "baseline_accuracy": 0.51,
         "train_accuracy": 0.61,
         "validate_accuracy": 0.6,
         "_deepnote_index_column": 1
        },
        {
         "model": "naive bayes",
         "baseline_accuracy": 0.51,
         "train_accuracy": 0.7,
         "validate_accuracy": 0.68,
         "_deepnote_index_column": 2
        },
        {
         "model": "SGD Classifier SKB Features",
         "baseline_accuracy": 0.51,
         "train_accuracy": 0.53,
         "validate_accuracy": 0.53,
         "_deepnote_index_column": 3
        },
        {
         "model": "SGD Classifier RFE Features",
         "baseline_accuracy": 0.51,
         "train_accuracy": 0.69,
         "validate_accuracy": 0.69,
         "_deepnote_index_column": 5
        }
       ],
       "rows_bottom": null
      },
      "text/plain": "                         model  baseline_accuracy  train_accuracy  \\\n0                random forest               0.51            0.70   \n1                  naive bayes               0.51            0.61   \n2                  naive bayes               0.51            0.70   \n3  SGD Classifier SKB Features               0.51            0.53   \n5  SGD Classifier RFE Features               0.51            0.69   \n\n   validate_accuracy  \n0               0.72  \n1               0.60  \n2               0.68  \n3               0.53  \n5               0.69  ",
      "text/html": "<div>\n<style scoped>\n    .dataframe tbody tr th:only-of-type {\n        vertical-align: middle;\n    }\n\n    .dataframe tbody tr th {\n        vertical-align: top;\n    }\n\n    .dataframe thead th {\n        text-align: right;\n    }\n</style>\n<table border=\"1\" class=\"dataframe\">\n  <thead>\n    <tr style=\"text-align: right;\">\n      <th></th>\n      <th>model</th>\n      <th>baseline_accuracy</th>\n      <th>train_accuracy</th>\n      <th>validate_accuracy</th>\n    </tr>\n  </thead>\n  <tbody>\n    <tr>\n      <th>0</th>\n      <td>random forest</td>\n      <td>0.51</td>\n      <td>0.70</td>\n      <td>0.72</td>\n    </tr>\n    <tr>\n      <th>1</th>\n      <td>naive bayes</td>\n      <td>0.51</td>\n      <td>0.61</td>\n      <td>0.60</td>\n    </tr>\n    <tr>\n      <th>2</th>\n      <td>naive bayes</td>\n      <td>0.51</td>\n      <td>0.70</td>\n      <td>0.68</td>\n    </tr>\n    <tr>\n      <th>3</th>\n      <td>SGD Classifier SKB Features</td>\n      <td>0.51</td>\n      <td>0.53</td>\n      <td>0.53</td>\n    </tr>\n    <tr>\n      <th>5</th>\n      <td>SGD Classifier RFE Features</td>\n      <td>0.51</td>\n      <td>0.69</td>\n      <td>0.69</td>\n    </tr>\n  </tbody>\n</table>\n</div>"
     },
     "metadata": {}
    }
   ]
  },
  {
   "cell_type": "code",
   "metadata": {
    "tags": [],
    "deepnote_to_be_reexecuted": true,
    "source_hash": "b623e53d",
    "cell_id": "00065-2af85717-3415-453a-91a0-7148cf725294",
    "deepnote_cell_type": "code"
   },
   "source": "",
   "execution_count": null,
   "outputs": []
  },
  {
   "cell_type": "markdown",
   "source": "# KNN \n## Train",
   "metadata": {
    "tags": [],
    "cell_id": "00066-308346c0-b8b4-4d09-8202-8300ee8e80b1",
    "deepnote_cell_type": "markdown"
   }
  },
  {
   "cell_type": "code",
   "metadata": {
    "tags": [],
    "deepnote_to_be_reexecuted": true,
    "source_hash": "2a29daa2",
    "execution_start": 1621911941535,
    "execution_millis": 20,
    "cell_id": "00067-7fd29290-0e86-43e8-b52d-ecef78cbd29b",
    "deepnote_cell_type": "code"
   },
   "source": "# Baseline\ndf.alleged_threat_lvl.describe()",
   "execution_count": null,
   "outputs": [
    {
     "output_type": "execute_result",
     "execution_count": 124,
     "data": {
      "text/plain": "count    8634.000000\nmean        0.491313\nstd         0.499953\nmin         0.000000\n25%         0.000000\n50%         0.000000\n75%         1.000000\nmax         1.000000\nName: alleged_threat_lvl, dtype: float64"
     },
     "metadata": {}
    }
   ]
  },
  {
   "cell_type": "code",
   "metadata": {
    "tags": [],
    "deepnote_to_be_reexecuted": true,
    "source_hash": "de1e323c",
    "execution_start": 1621911987270,
    "execution_millis": 15,
    "cell_id": "00068-f2497ed6-f0ce-4bf2-805f-321b0e5b88bc",
    "deepnote_cell_type": "code"
   },
   "source": "df.info()",
   "execution_count": null,
   "outputs": [
    {
     "name": "stdout",
     "text": "<class 'pandas.core.frame.DataFrame'>\nInt64Index: 8634 entries, 7 to 9146\nData columns (total 60 columns):\n #   Column                                       Non-Null Count  Dtype         \n---  ------                                       --------------  -----         \n 0   age                                          8634 non-null   int64         \n 1   gender                                       8634 non-null   object        \n 2   race                                         8634 non-null   object        \n 3   date                                         8634 non-null   datetime64[ns]\n 4   city                                         8634 non-null   object        \n 5   state                                        8634 non-null   object        \n 6   zipcode                                      8634 non-null   float64       \n 7   county                                       8634 non-null   object        \n 8   agency_responsible                           8634 non-null   object        \n 9   cause_of_death                               8634 non-null   object        \n 10  description_of_circumstances                 8634 non-null   object        \n 11  official_disposition                         8634 non-null   object        \n 12  criminal_charges_filed                       8634 non-null   object        \n 13  mental_illness                               8634 non-null   object        \n 14  armed_unarmed_status                         8634 non-null   object        \n 15  alleged_weapon                               8634 non-null   object        \n 16  alleged_threat_lvl                           8634 non-null   float64       \n 17  fleeing                                      8634 non-null   object        \n 18  body_camera                                  8634 non-null   float64       \n 19  geography                                    8634 non-null   object        \n 20  encounter_type_draft                         8634 non-null   object        \n 21  initial_reported_reason_for_encounter_draft  8634 non-null   object        \n 22  known_past_shootings_of_officer_draft        8634 non-null   object        \n 23  is_female                                    8634 non-null   uint8         \n 24  is_male                                      8634 non-null   uint8         \n 25  is_transgender                               8634 non-null   uint8         \n 26  was_fleeing                                  8634 non-null   float64       \n 27  was_not fleeing                              8634 non-null   float64       \n 28  was_allegedly_armed                          8634 non-null   float64       \n 29  was_unarmed                                  8634 non-null   float64       \n 30  was_vehicle                                  8634 non-null   float64       \n 31  was_domestic_disturbance                     8634 non-null   uint8         \n 32  was_mental_health_welfare_check              8634 non-null   uint8         \n 33  was_person_with_a_weapon                     8634 non-null   uint8         \n 34  was_traffic_stop                             8634 non-null   uint8         \n 35  was_violent_crime_part_1                     8634 non-null   uint8         \n 36  is_asian/pacific islander                    8634 non-null   uint8         \n 37  is_black                                     8634 non-null   uint8         \n 38  is_hispanic                                  8634 non-null   uint8         \n 39  is_native american                           8634 non-null   uint8         \n 40  is_unknown race                              8634 non-null   uint8         \n 41  is_white                                     8634 non-null   uint8         \n 42  mntlill_drug or alcohol use                  8634 non-null   uint8         \n 43  mntlill_no                                   8634 non-null   uint8         \n 44  mntlill_unknown                              8634 non-null   uint8         \n 45  mntlill_yes                                  8634 non-null   uint8         \n 46  rural                                        8634 non-null   float64       \n 47  suburban                                     8634 non-null   float64       \n 48  urban                                        8634 non-null   float64       \n 49  cod_lethal                                   8634 non-null   int64         \n 50  age_bins                                     8634 non-null   category      \n 51  unknown                                      8634 non-null   uint8         \n 52  under 12                                     8634 non-null   uint8         \n 53  12-17                                        8634 non-null   uint8         \n 54  18-24                                        8634 non-null   uint8         \n 55  25-34                                        8634 non-null   uint8         \n 56  35-44                                        8634 non-null   uint8         \n 57  45-54                                        8634 non-null   uint8         \n 58  55-64                                        8634 non-null   uint8         \n 59  65+                                          8634 non-null   uint8         \ndtypes: category(1), datetime64[ns](1), float64(11), int64(2), object(18), uint8(27)\nmemory usage: 2.7+ MB\n",
     "output_type": "stream"
    }
   ]
  },
  {
   "cell_type": "code",
   "metadata": {
    "tags": [],
    "deepnote_to_be_reexecuted": true,
    "source_hash": "b623e53d",
    "execution_start": 1621911987272,
    "execution_millis": 4,
    "cell_id": "00069-6c8d1eca-2804-4a94-b9c9-690bb183bf5e",
    "deepnote_cell_type": "code"
   },
   "source": "",
   "execution_count": null,
   "outputs": []
  },
  {
   "cell_type": "markdown",
   "source": "<a style='text-decoration:none;line-height:16px;display:flex;color:#5B5B62;padding:10px;justify-content:end;' href='https://deepnote.com?utm_source=created-in-deepnote-cell&projectId=258e71fc-cf2b-48c3-8461-70ecd9787aa1' target=\"_blank\">\n<img alt='Created in deepnote.com' style='display:inline;max-height:16px;margin:0px;margin-right:7.5px;' src='data:image/svg+xml;base64,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' > </img>\nCreated in <span style='font-weight:600;margin-left:4px;'>Deepnote</span></a>",
   "metadata": {
    "tags": [],
    "created_in_deepnote_cell": true,
    "deepnote_cell_type": "markdown"
   }
  }
 ],
 "nbformat": 4,
 "nbformat_minor": 2,
 "metadata": {
  "orig_nbformat": 2,
  "deepnote": {
   "is_reactive": false
  },
  "deepnote_notebook_id": "c28ac7c7-1a3d-42fa-80a0-9dc2aa810e12",
  "deepnote_execution_queue": []
 }
}