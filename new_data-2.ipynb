{
 "cells": [
  {
   "cell_type": "code",
   "metadata": {
    "tags": [],
    "deepnote_to_be_reexecuted": false,
    "source_hash": "bae5820a",
    "execution_start": 1622133801988,
    "execution_millis": 12,
    "cell_id": "00000-7f33eff2-0923-4d8b-9917-8e703e9ab798",
    "deepnote_cell_type": "code"
   },
   "source": "import pandas as pd\nimport numpy as np\n\nimport wrangle as w",
   "execution_count": 1,
   "outputs": []
  },
  {
   "cell_type": "code",
   "metadata": {
    "tags": [],
    "deepnote_to_be_reexecuted": false,
    "source_hash": "2bdfa3b5",
    "execution_start": 1622133802007,
    "execution_millis": 3,
    "cell_id": "00001-a2e40676-7c8b-44b1-817c-5dc2d7bdbf2c",
    "deepnote_cell_type": "code"
   },
   "source": "# df = pd.read_excel('new_data.xlsx')",
   "execution_count": 2,
   "outputs": []
  },
  {
   "cell_type": "code",
   "metadata": {
    "tags": [],
    "deepnote_to_be_reexecuted": false,
    "source_hash": "b623e53d",
    "execution_start": 1622133802020,
    "execution_millis": 10,
    "cell_id": "00002-c2392ada-65fd-48c8-a87b-83b26b426c6f",
    "deepnote_cell_type": "code"
   },
   "source": "",
   "execution_count": 2,
   "outputs": []
  },
  {
   "cell_type": "code",
   "metadata": {
    "tags": [],
    "deepnote_to_be_reexecuted": false,
    "source_hash": "34926de1",
    "execution_start": 1622133802038,
    "execution_millis": 4,
    "cell_id": "00003-01bf604d-19e3-4c4f-85d4-2791247dce71",
    "deepnote_cell_type": "code"
   },
   "source": "# df = df.drop(columns=list(df.columns)[32:])",
   "execution_count": 3,
   "outputs": []
  },
  {
   "cell_type": "code",
   "metadata": {
    "tags": [],
    "deepnote_to_be_reexecuted": false,
    "source_hash": "828d9728",
    "execution_start": 1622133802045,
    "execution_millis": 2,
    "cell_id": "00004-7db39bcc-3941-4508-a3ab-33aeccd5af9c",
    "deepnote_cell_type": "code"
   },
   "source": "# df.columns = df.columns.str.lower().str.replace(' ', '_').str.replace('/',\"_\").str.replace('(','').str.replace(')','')",
   "execution_count": 4,
   "outputs": []
  },
  {
   "cell_type": "code",
   "metadata": {
    "tags": [],
    "deepnote_to_be_reexecuted": false,
    "source_hash": "8a2b312e",
    "execution_start": 1622133802053,
    "execution_millis": 1,
    "cell_id": "00005-f65a83ad-e2f0-4ef1-a3e5-ba87801ec53a",
    "deepnote_cell_type": "code"
   },
   "source": "# df.columns",
   "execution_count": 5,
   "outputs": []
  },
  {
   "cell_type": "code",
   "metadata": {
    "tags": [],
    "deepnote_to_be_reexecuted": false,
    "source_hash": "a473ab54",
    "execution_start": 1622133802061,
    "execution_millis": 1,
    "cell_id": "00006-851c575a-2904-437d-b25c-b17da5030977",
    "deepnote_cell_type": "code"
   },
   "source": "# df.isnull().sum()",
   "execution_count": 6,
   "outputs": []
  },
  {
   "cell_type": "code",
   "metadata": {
    "tags": [],
    "deepnote_to_be_reexecuted": false,
    "source_hash": "d6969d0b",
    "execution_start": 1622133802079,
    "execution_millis": 3,
    "cell_id": "00007-3c5405d0-f8cb-45b3-b672-aaa91ec45492",
    "deepnote_cell_type": "code"
   },
   "source": "# dropcols=['url_of_image_pls_no_hotlinks', 'uid_temporary', 'name_temporary', 'description_temp', 'url_temp', 'supporting_document_link', 'dispositions_exclusions_internal_use,_not_for_analysis', 'foreknowledge_of_mental_illness?_internal_use,_not_for_analysis']",
   "execution_count": 7,
   "outputs": []
  },
  {
   "cell_type": "code",
   "metadata": {
    "tags": [],
    "deepnote_to_be_reexecuted": false,
    "source_hash": "fc92ca0c",
    "execution_start": 1622133802092,
    "execution_millis": 1,
    "cell_id": "00008-00921afc-4ca3-4e7a-b1e8-2f7905c198ab",
    "deepnote_cell_type": "code"
   },
   "source": "# df.drop(columns=dropcols, inplace=True)",
   "execution_count": 8,
   "outputs": []
  },
  {
   "cell_type": "code",
   "metadata": {
    "tags": [],
    "deepnote_to_be_reexecuted": false,
    "source_hash": "a5a9c280",
    "execution_start": 1622133802100,
    "execution_millis": 4,
    "cell_id": "00009-034c7ea3-6c40-43be-a82a-9e456c360497",
    "deepnote_cell_type": "code"
   },
   "source": "# df.head(1)",
   "execution_count": 9,
   "outputs": []
  },
  {
   "cell_type": "code",
   "metadata": {
    "tags": [],
    "deepnote_to_be_reexecuted": false,
    "source_hash": "78d4ffb5",
    "execution_start": 1622133802111,
    "execution_millis": 5,
    "cell_id": "00010-ebc45c62-a832-4870-9da0-a81dc936d493",
    "deepnote_cell_type": "code"
   },
   "source": "# df.info()",
   "execution_count": 10,
   "outputs": []
  },
  {
   "cell_type": "code",
   "metadata": {
    "tags": [],
    "deepnote_to_be_reexecuted": false,
    "source_hash": "c48725b7",
    "execution_start": 1622133802122,
    "execution_millis": 49215,
    "cell_id": "00011-0583a204-acb1-4d92-865d-92e2ba217c9d",
    "deepnote_cell_type": "code"
   },
   "source": "# df.intended_use_of_force_developing.value_counts()",
   "execution_count": 11,
   "outputs": []
  },
  {
   "cell_type": "code",
   "source": "",
   "metadata": {
    "deepnote_to_be_reexecuted": false,
    "source_hash": "b623e53d",
    "execution_start": 1622133802132,
    "execution_millis": 49221,
    "cell_id": "00012-1e210d44-57be-4e84-881b-3827be05b5b1",
    "deepnote_cell_type": "visualization"
   },
   "execution_count": 11,
   "outputs": []
  },
  {
   "cell_type": "code",
   "metadata": {
    "tags": [],
    "deepnote_to_be_reexecuted": false,
    "source_hash": "cbf303ac",
    "execution_start": 1622133802140,
    "execution_millis": 49205,
    "cell_id": "00013-3b5da425-fbcb-4947-aabf-f726fb107d51",
    "deepnote_cell_type": "code"
   },
   "source": "# df.set_index('unique_id', inplace=True)",
   "execution_count": 12,
   "outputs": []
  },
  {
   "cell_type": "code",
   "metadata": {
    "tags": [],
    "deepnote_to_be_reexecuted": false,
    "source_hash": "a473ab54",
    "execution_start": 1622133802152,
    "execution_millis": 49215,
    "cell_id": "00014-434d4822-f5d1-48ba-b56a-b2a6644d396b",
    "deepnote_cell_type": "code"
   },
   "source": "# df.isnull().sum()",
   "execution_count": 13,
   "outputs": []
  },
  {
   "cell_type": "code",
   "metadata": {
    "tags": [],
    "deepnote_to_be_reexecuted": false,
    "source_hash": "738e0b55",
    "execution_start": 1622133802163,
    "execution_millis": 49217,
    "cell_id": "00015-f29d0a4d-fa4e-4404-951d-c2fc4f4140d5",
    "deepnote_cell_type": "code"
   },
   "source": "# df.dropna(inplace=True)",
   "execution_count": 14,
   "outputs": []
  },
  {
   "cell_type": "code",
   "metadata": {
    "tags": [],
    "deepnote_to_be_reexecuted": false,
    "source_hash": "709ba71f",
    "execution_start": 1622133802166,
    "execution_millis": 49223,
    "cell_id": "00016-d2f0067f-2ae9-45e1-a250-848d4d0c9162",
    "deepnote_cell_type": "code"
   },
   "source": "# df.shape",
   "execution_count": 15,
   "outputs": []
  },
  {
   "cell_type": "code",
   "metadata": {
    "tags": [],
    "deepnote_to_be_reexecuted": false,
    "source_hash": "840d5352",
    "execution_start": 1622133802173,
    "execution_millis": 49227,
    "cell_id": "00017-a34db2a4-950e-466b-960a-3a72364b9994",
    "deepnote_cell_type": "code"
   },
   "source": "# df.aggressive_physical_movement.value_counts()",
   "execution_count": 16,
   "outputs": []
  },
  {
   "cell_type": "code",
   "metadata": {
    "tags": [],
    "deepnote_to_be_reexecuted": false,
    "source_hash": "fdb7a9e0",
    "execution_start": 1622133802195,
    "execution_millis": 155,
    "cell_id": "00018-087e64cc-6111-4e30-8e27-815547e6143c",
    "deepnote_cell_type": "code"
   },
   "source": "df = w.wrangle_new_data(cached=True)",
   "execution_count": 17,
   "outputs": []
  },
  {
   "cell_type": "code",
   "metadata": {
    "tags": [],
    "deepnote_to_be_reexecuted": false,
    "source_hash": "14f60b8f",
    "execution_start": 1622133802367,
    "execution_millis": 34,
    "cell_id": "00019-5a5fadbc-3090-416b-afd2-afe20c70c56f",
    "deepnote_cell_type": "code"
   },
   "source": "df.shape",
   "execution_count": 18,
   "outputs": [
    {
     "output_type": "execute_result",
     "execution_count": 18,
     "data": {
      "text/plain": "(13125, 25)"
     },
     "metadata": {}
    }
   ]
  },
  {
   "cell_type": "code",
   "metadata": {
    "tags": [],
    "deepnote_to_be_reexecuted": false,
    "source_hash": "460f028f",
    "execution_start": 1622133802398,
    "execution_millis": 92,
    "cell_id": "00020-7c9a1f39-4a7e-4005-bd30-9c78d3df4e36",
    "deepnote_cell_type": "code"
   },
   "source": "df.head(1)",
   "execution_count": 19,
   "outputs": [
    {
     "output_type": "execute_result",
     "execution_count": 19,
     "data": {
      "application/vnd.deepnote.dataframe.v2+json": {
       "row_count": 1,
       "column_count": 25,
       "columns": [
        {
         "name": "Unnamed: 0",
         "dtype": "int64",
         "stats": {
          "unique_count": 1,
          "nan_count": 0,
          "min": "7446",
          "max": "7446",
          "histogram": [
           {
            "bin_start": 7445.5,
            "bin_end": 7445.6,
            "count": 0
           },
           {
            "bin_start": 7445.6,
            "bin_end": 7445.7,
            "count": 0
           },
           {
            "bin_start": 7445.7,
            "bin_end": 7445.8,
            "count": 0
           },
           {
            "bin_start": 7445.8,
            "bin_end": 7445.9,
            "count": 0
           },
           {
            "bin_start": 7445.9,
            "bin_end": 7446,
            "count": 0
           },
           {
            "bin_start": 7446,
            "bin_end": 7446.1,
            "count": 1
           },
           {
            "bin_start": 7446.1,
            "bin_end": 7446.2,
            "count": 0
           },
           {
            "bin_start": 7446.2,
            "bin_end": 7446.3,
            "count": 0
           },
           {
            "bin_start": 7446.3,
            "bin_end": 7446.4,
            "count": 0
           },
           {
            "bin_start": 7446.4,
            "bin_end": 7446.5,
            "count": 0
           }
          ]
         }
        },
        {
         "name": "unique_id",
         "dtype": "float64",
         "stats": {
          "unique_count": 1,
          "nan_count": 0,
          "min": "14050.0",
          "max": "14050.0",
          "histogram": [
           {
            "bin_start": 14049.5,
            "bin_end": 14049.6,
            "count": 0
           },
           {
            "bin_start": 14049.6,
            "bin_end": 14049.7,
            "count": 0
           },
           {
            "bin_start": 14049.7,
            "bin_end": 14049.8,
            "count": 0
           },
           {
            "bin_start": 14049.8,
            "bin_end": 14049.9,
            "count": 0
           },
           {
            "bin_start": 14049.9,
            "bin_end": 14050,
            "count": 0
           },
           {
            "bin_start": 14050,
            "bin_end": 14050.1,
            "count": 1
           },
           {
            "bin_start": 14050.1,
            "bin_end": 14050.2,
            "count": 0
           },
           {
            "bin_start": 14050.2,
            "bin_end": 14050.3,
            "count": 0
           },
           {
            "bin_start": 14050.3,
            "bin_end": 14050.4,
            "count": 0
           },
           {
            "bin_start": 14050.4,
            "bin_end": 14050.5,
            "count": 0
           }
          ]
         }
        },
        {
         "name": "name",
         "dtype": "object",
         "stats": {
          "unique_count": 1,
          "nan_count": 0,
          "categories": [
           {
            "name": "Robert Ventry",
            "count": 1
           }
          ]
         }
        },
        {
         "name": "age",
         "dtype": "float64",
         "stats": {
          "unique_count": 1,
          "nan_count": 0,
          "min": "20.0",
          "max": "20.0",
          "histogram": [
           {
            "bin_start": 19.5,
            "bin_end": 19.6,
            "count": 0
           },
           {
            "bin_start": 19.6,
            "bin_end": 19.7,
            "count": 0
           },
           {
            "bin_start": 19.7,
            "bin_end": 19.8,
            "count": 0
           },
           {
            "bin_start": 19.8,
            "bin_end": 19.9,
            "count": 0
           },
           {
            "bin_start": 19.9,
            "bin_end": 20,
            "count": 0
           },
           {
            "bin_start": 20,
            "bin_end": 20.1,
            "count": 1
           },
           {
            "bin_start": 20.1,
            "bin_end": 20.2,
            "count": 0
           },
           {
            "bin_start": 20.2,
            "bin_end": 20.3,
            "count": 0
           },
           {
            "bin_start": 20.3,
            "bin_end": 20.4,
            "count": 0
           },
           {
            "bin_start": 20.4,
            "bin_end": 20.5,
            "count": 0
           }
          ]
         }
        },
        {
         "name": "gender",
         "dtype": "object",
         "stats": {
          "unique_count": 1,
          "nan_count": 0,
          "categories": [
           {
            "name": "Male",
            "count": 1
           }
          ]
         }
        },
        {
         "name": "race",
         "dtype": "object",
         "stats": {
          "unique_count": 1,
          "nan_count": 0,
          "categories": [
           {
            "name": "African-American/Black",
            "count": 1
           }
          ]
         }
        },
        {
         "name": "race_with_imputations",
         "dtype": "object",
         "stats": {
          "unique_count": 1,
          "nan_count": 0,
          "categories": [
           {
            "name": "African-American/Black",
            "count": 1
           }
          ]
         }
        },
        {
         "name": "imputation_probability",
         "dtype": "object",
         "stats": {
          "unique_count": 1,
          "nan_count": 0,
          "categories": [
           {
            "name": "Not imputed",
            "count": 1
           }
          ]
         }
        },
        {
         "name": "date_of_injury_resulting_in_death_month_day_year",
         "dtype": "object",
         "stats": {
          "unique_count": 1,
          "nan_count": 0,
          "categories": [
           {
            "name": "2007-02-07",
            "count": 1
           }
          ]
         }
        },
        {
         "name": "location_of_injury_address",
         "dtype": "object",
         "stats": {
          "unique_count": 1,
          "nan_count": 0,
          "categories": [
           {
            "name": "4131 Camden Ave",
            "count": 1
           }
          ]
         }
        },
        {
         "name": "location_of_death_city",
         "dtype": "object",
         "stats": {
          "unique_count": 1,
          "nan_count": 0,
          "categories": [
           {
            "name": "Omaha",
            "count": 1
           }
          ]
         }
        },
        {
         "name": "state",
         "dtype": "object",
         "stats": {
          "unique_count": 1,
          "nan_count": 0,
          "categories": [
           {
            "name": "NE",
            "count": 1
           }
          ]
         }
        },
        {
         "name": "location_of_death_zip_code",
         "dtype": "float64",
         "stats": {
          "unique_count": 1,
          "nan_count": 0,
          "min": "68111.0",
          "max": "68111.0",
          "histogram": [
           {
            "bin_start": 68110.5,
            "bin_end": 68110.6,
            "count": 0
           },
           {
            "bin_start": 68110.6,
            "bin_end": 68110.7,
            "count": 0
           },
           {
            "bin_start": 68110.7,
            "bin_end": 68110.8,
            "count": 0
           },
           {
            "bin_start": 68110.8,
            "bin_end": 68110.9,
            "count": 0
           },
           {
            "bin_start": 68110.9,
            "bin_end": 68111,
            "count": 0
           },
           {
            "bin_start": 68111,
            "bin_end": 68111.1,
            "count": 1
           },
           {
            "bin_start": 68111.1,
            "bin_end": 68111.2,
            "count": 0
           },
           {
            "bin_start": 68111.2,
            "bin_end": 68111.3,
            "count": 0
           },
           {
            "bin_start": 68111.3,
            "bin_end": 68111.4,
            "count": 0
           },
           {
            "bin_start": 68111.4,
            "bin_end": 68111.5,
            "count": 0
           }
          ]
         }
        },
        {
         "name": "location_of_death_county",
         "dtype": "object",
         "stats": {
          "unique_count": 1,
          "nan_count": 0,
          "categories": [
           {
            "name": "Douglas",
            "count": 1
           }
          ]
         }
        },
        {
         "name": "full_address",
         "dtype": "object",
         "stats": {
          "unique_count": 1,
          "nan_count": 0,
          "categories": [
           {
            "name": "4131 Camden Ave Omaha NE 68111 Douglas",
            "count": 1
           }
          ]
         }
        },
        {
         "name": "latitude",
         "dtype": "object",
         "stats": {
          "unique_count": 1,
          "nan_count": 0,
          "categories": [
           {
            "name": "41.3056314",
            "count": 1
           }
          ]
         }
        },
        {
         "name": "longitude",
         "dtype": "float64",
         "stats": {
          "unique_count": 1,
          "nan_count": 0,
          "min": "-95.9753473",
          "max": "-95.9753473",
          "histogram": [
           {
            "bin_start": -96.4753473,
            "bin_end": -96.3753473,
            "count": 0
           },
           {
            "bin_start": -96.3753473,
            "bin_end": -96.27534729999999,
            "count": 0
           },
           {
            "bin_start": -96.27534729999999,
            "bin_end": -96.1753473,
            "count": 0
           },
           {
            "bin_start": -96.1753473,
            "bin_end": -96.07534729999999,
            "count": 0
           },
           {
            "bin_start": -96.07534729999999,
            "bin_end": -95.9753473,
            "count": 0
           },
           {
            "bin_start": -95.9753473,
            "bin_end": -95.8753473,
            "count": 1
           },
           {
            "bin_start": -95.8753473,
            "bin_end": -95.77534729999999,
            "count": 0
           },
           {
            "bin_start": -95.77534729999999,
            "bin_end": -95.6753473,
            "count": 0
           },
           {
            "bin_start": -95.6753473,
            "bin_end": -95.57534729999999,
            "count": 0
           },
           {
            "bin_start": -95.57534729999999,
            "bin_end": -95.4753473,
            "count": 0
           }
          ]
         }
        },
        {
         "name": "agency_or_agencies_involved",
         "dtype": "object",
         "stats": {
          "unique_count": 1,
          "nan_count": 0,
          "categories": [
           {
            "name": "Omaha Police Department",
            "count": 1
           }
          ]
         }
        },
        {
         "name": "highest_level_of_force",
         "dtype": "object",
         "stats": {
          "unique_count": 1,
          "nan_count": 0,
          "categories": [
           {
            "name": "Gunshot",
            "count": 1
           }
          ]
         }
        },
        {
         "name": "armed_unarmed",
         "dtype": "object",
         "stats": {
          "unique_count": 1,
          "nan_count": 0,
          "categories": [
           {
            "name": "Armed",
            "count": 1
           }
          ]
         }
        },
        {
         "name": "alleged_weapon",
         "dtype": "object",
         "stats": {
          "unique_count": 1,
          "nan_count": 0,
          "categories": [
           {
            "name": "Edged weapon/Knife",
            "count": 1
           }
          ]
         }
        },
        {
         "name": "aggressive_physical_movement",
         "dtype": "object",
         "stats": {
          "unique_count": 1,
          "nan_count": 0,
          "categories": [
           {
            "name": "Brandished weapon",
            "count": 1
           }
          ]
         }
        },
        {
         "name": "fleeing_not_fleeing",
         "dtype": "object",
         "stats": {
          "unique_count": 1,
          "nan_count": 0,
          "categories": [
           {
            "name": "Not fleeing",
            "count": 1
           }
          ]
         }
        },
        {
         "name": "brief_description",
         "dtype": "object",
         "stats": {
          "unique_count": 1,
          "nan_count": 0,
          "categories": [
           {
            "name": "Police called to scene found Ventry lunging with a knife at a woman. Vetnry continued fighting after being shot by Officer Jerry Kassen and tasered by another officer.",
            "count": 1
           }
          ]
         }
        },
        {
         "name": "intended_use_of_force_developing",
         "dtype": "object",
         "stats": {
          "unique_count": 1,
          "nan_count": 0,
          "categories": [
           {
            "name": "Deadly force",
            "count": 1
           }
          ]
         }
        },
        {
         "name": "_deepnote_index_column",
         "dtype": "int64"
        }
       ],
       "rows_top": [
        {
         "Unnamed: 0": 7446,
         "unique_id": 14050,
         "name": "Robert Ventry",
         "age": 20,
         "gender": "Male",
         "race": "African-American/Black",
         "race_with_imputations": "African-American/Black",
         "imputation_probability": "Not imputed",
         "date_of_injury_resulting_in_death_month_day_year": "2007-02-07",
         "location_of_injury_address": "4131 Camden Ave",
         "location_of_death_city": "Omaha",
         "state": "NE",
         "location_of_death_zip_code": 68111,
         "location_of_death_county": "Douglas",
         "full_address": "4131 Camden Ave Omaha NE 68111 Douglas",
         "latitude": "41.3056314",
         "longitude": -95.9753473,
         "agency_or_agencies_involved": "Omaha Police Department",
         "highest_level_of_force": "Gunshot",
         "armed_unarmed": "Armed",
         "alleged_weapon": "Edged weapon/Knife",
         "aggressive_physical_movement": "Brandished weapon",
         "fleeing_not_fleeing": "Not fleeing",
         "brief_description": "Police called to scene found Ventry lunging with a knife at a woman. Vetnry continued fighting after being shot by Officer Jerry Kassen and tasered by another officer.",
         "intended_use_of_force_developing": "Deadly force",
         "_deepnote_index_column": 0
        }
       ],
       "rows_bottom": null
      },
      "text/plain": "   Unnamed: 0  unique_id           name   age gender                    race  \\\n0        7446    14050.0  Robert Ventry  20.0   Male  African-American/Black   \n\n    race_with_imputations imputation_probability  \\\n0  African-American/Black            Not imputed   \n\n  date_of_injury_resulting_in_death_month_day_year location_of_injury_address  \\\n0                                       2007-02-07            4131 Camden Ave   \n\n   ...    latitude  longitude  agency_or_agencies_involved  \\\n0  ...  41.3056314 -95.975347      Omaha Police Department   \n\n  highest_level_of_force armed_unarmed      alleged_weapon  \\\n0                Gunshot         Armed  Edged weapon/Knife   \n\n   aggressive_physical_movement fleeing_not_fleeing  \\\n0             Brandished weapon         Not fleeing   \n\n                                   brief_description  \\\n0  Police called to scene found Ventry lunging wi...   \n\n  intended_use_of_force_developing  \n0                     Deadly force  \n\n[1 rows x 25 columns]",
      "text/html": "<div>\n<style scoped>\n    .dataframe tbody tr th:only-of-type {\n        vertical-align: middle;\n    }\n\n    .dataframe tbody tr th {\n        vertical-align: top;\n    }\n\n    .dataframe thead th {\n        text-align: right;\n    }\n</style>\n<table border=\"1\" class=\"dataframe\">\n  <thead>\n    <tr style=\"text-align: right;\">\n      <th></th>\n      <th>Unnamed: 0</th>\n      <th>unique_id</th>\n      <th>name</th>\n      <th>age</th>\n      <th>gender</th>\n      <th>race</th>\n      <th>race_with_imputations</th>\n      <th>imputation_probability</th>\n      <th>date_of_injury_resulting_in_death_month_day_year</th>\n      <th>location_of_injury_address</th>\n      <th>...</th>\n      <th>latitude</th>\n      <th>longitude</th>\n      <th>agency_or_agencies_involved</th>\n      <th>highest_level_of_force</th>\n      <th>armed_unarmed</th>\n      <th>alleged_weapon</th>\n      <th>aggressive_physical_movement</th>\n      <th>fleeing_not_fleeing</th>\n      <th>brief_description</th>\n      <th>intended_use_of_force_developing</th>\n    </tr>\n  </thead>\n  <tbody>\n    <tr>\n      <th>0</th>\n      <td>7446</td>\n      <td>14050.0</td>\n      <td>Robert Ventry</td>\n      <td>20.0</td>\n      <td>Male</td>\n      <td>African-American/Black</td>\n      <td>African-American/Black</td>\n      <td>Not imputed</td>\n      <td>2007-02-07</td>\n      <td>4131 Camden Ave</td>\n      <td>...</td>\n      <td>41.3056314</td>\n      <td>-95.975347</td>\n      <td>Omaha Police Department</td>\n      <td>Gunshot</td>\n      <td>Armed</td>\n      <td>Edged weapon/Knife</td>\n      <td>Brandished weapon</td>\n      <td>Not fleeing</td>\n      <td>Police called to scene found Ventry lunging wi...</td>\n      <td>Deadly force</td>\n    </tr>\n  </tbody>\n</table>\n<p>1 rows × 25 columns</p>\n</div>"
     },
     "metadata": {}
    }
   ]
  },
  {
   "cell_type": "code",
   "metadata": {
    "tags": [],
    "deepnote_to_be_reexecuted": false,
    "source_hash": "65ec2f2",
    "execution_start": 1622133802484,
    "execution_millis": 1,
    "cell_id": "00021-458e8e80-f833-4ad5-86b0-d1b252aeb763",
    "deepnote_cell_type": "code"
   },
   "source": "df.age = df.age.astype('float64')",
   "execution_count": 20,
   "outputs": []
  },
  {
   "cell_type": "code",
   "metadata": {
    "tags": [],
    "deepnote_to_be_reexecuted": false,
    "source_hash": "c45df463",
    "execution_start": 1622133802505,
    "execution_millis": 8,
    "cell_id": "00022-201a3acd-ad7a-4c65-8573-7b25bdb5af6b",
    "deepnote_cell_type": "code"
   },
   "source": "df.latitude.str.replace(', ', '')",
   "execution_count": 21,
   "outputs": [
    {
     "output_type": "execute_result",
     "execution_count": 21,
     "data": {
      "text/plain": "0        41.3056314\n1         32.257805\n2        27.3666409\n3        44.1659029\n4        46.2508616\n            ...    \n13120    35.7371865\n13121     39.711286\n13122    35.6845271\n13123    41.7595877\n13124    42.4676278\nName: latitude, Length: 13125, dtype: object"
     },
     "metadata": {}
    }
   ]
  },
  {
   "cell_type": "code",
   "metadata": {
    "tags": [],
    "cell_id": "00024-1980ff67-d3e8-4eab-bc1a-7081f8f37cd5",
    "deepnote_to_be_reexecuted": false,
    "source_hash": "6cd8acfd",
    "execution_start": 1622133802570,
    "execution_millis": 59,
    "deepnote_cell_type": "code"
   },
   "source": "df.head(2)",
   "execution_count": 22,
   "outputs": [
    {
     "output_type": "execute_result",
     "execution_count": 22,
     "data": {
      "application/vnd.deepnote.dataframe.v2+json": {
       "row_count": 2,
       "column_count": 25,
       "columns": [
        {
         "name": "Unnamed: 0",
         "dtype": "int64",
         "stats": {
          "unique_count": 2,
          "nan_count": 0,
          "min": "7446",
          "max": "14054",
          "histogram": [
           {
            "bin_start": 7446,
            "bin_end": 8106.8,
            "count": 1
           },
           {
            "bin_start": 8106.8,
            "bin_end": 8767.6,
            "count": 0
           },
           {
            "bin_start": 8767.6,
            "bin_end": 9428.4,
            "count": 0
           },
           {
            "bin_start": 9428.4,
            "bin_end": 10089.2,
            "count": 0
           },
           {
            "bin_start": 10089.2,
            "bin_end": 10750,
            "count": 0
           },
           {
            "bin_start": 10750,
            "bin_end": 11410.8,
            "count": 0
           },
           {
            "bin_start": 11410.8,
            "bin_end": 12071.599999999999,
            "count": 0
           },
           {
            "bin_start": 12071.599999999999,
            "bin_end": 12732.4,
            "count": 0
           },
           {
            "bin_start": 12732.4,
            "bin_end": 13393.2,
            "count": 0
           },
           {
            "bin_start": 13393.2,
            "bin_end": 14054,
            "count": 1
           }
          ]
         }
        },
        {
         "name": "unique_id",
         "dtype": "float64",
         "stats": {
          "unique_count": 2,
          "nan_count": 0,
          "min": "14050.0",
          "max": "23449.0",
          "histogram": [
           {
            "bin_start": 14050,
            "bin_end": 14989.9,
            "count": 1
           },
           {
            "bin_start": 14989.9,
            "bin_end": 15929.8,
            "count": 0
           },
           {
            "bin_start": 15929.8,
            "bin_end": 16869.7,
            "count": 0
           },
           {
            "bin_start": 16869.7,
            "bin_end": 17809.6,
            "count": 0
           },
           {
            "bin_start": 17809.6,
            "bin_end": 18749.5,
            "count": 0
           },
           {
            "bin_start": 18749.5,
            "bin_end": 19689.4,
            "count": 0
           },
           {
            "bin_start": 19689.4,
            "bin_end": 20629.3,
            "count": 0
           },
           {
            "bin_start": 20629.3,
            "bin_end": 21569.2,
            "count": 0
           },
           {
            "bin_start": 21569.2,
            "bin_end": 22509.1,
            "count": 0
           },
           {
            "bin_start": 22509.1,
            "bin_end": 23449,
            "count": 1
           }
          ]
         }
        },
        {
         "name": "name",
         "dtype": "object",
         "stats": {
          "unique_count": 2,
          "nan_count": 0,
          "categories": [
           {
            "name": "Robert Ventry",
            "count": 1
           },
           {
            "name": "Name withheld by police (Dupe)",
            "count": 1
           }
          ]
         }
        },
        {
         "name": "age",
         "dtype": "float64",
         "stats": {
          "unique_count": 2,
          "nan_count": 0,
          "min": "20.0",
          "max": "32.0",
          "histogram": [
           {
            "bin_start": 20,
            "bin_end": 21.2,
            "count": 1
           },
           {
            "bin_start": 21.2,
            "bin_end": 22.4,
            "count": 0
           },
           {
            "bin_start": 22.4,
            "bin_end": 23.6,
            "count": 0
           },
           {
            "bin_start": 23.6,
            "bin_end": 24.8,
            "count": 0
           },
           {
            "bin_start": 24.8,
            "bin_end": 26,
            "count": 0
           },
           {
            "bin_start": 26,
            "bin_end": 27.2,
            "count": 0
           },
           {
            "bin_start": 27.2,
            "bin_end": 28.4,
            "count": 0
           },
           {
            "bin_start": 28.4,
            "bin_end": 29.6,
            "count": 0
           },
           {
            "bin_start": 29.6,
            "bin_end": 30.799999999999997,
            "count": 0
           },
           {
            "bin_start": 30.799999999999997,
            "bin_end": 32,
            "count": 1
           }
          ]
         }
        },
        {
         "name": "gender",
         "dtype": "object",
         "stats": {
          "unique_count": 1,
          "nan_count": 0,
          "categories": [
           {
            "name": "Male",
            "count": 2
           }
          ]
         }
        },
        {
         "name": "race",
         "dtype": "object",
         "stats": {
          "unique_count": 2,
          "nan_count": 0,
          "categories": [
           {
            "name": "African-American/Black",
            "count": 1
           },
           {
            "name": "European-American/White",
            "count": 1
           }
          ]
         }
        },
        {
         "name": "race_with_imputations",
         "dtype": "object",
         "stats": {
          "unique_count": 2,
          "nan_count": 0,
          "categories": [
           {
            "name": "African-American/Black",
            "count": 1
           },
           {
            "name": "European-American/White",
            "count": 1
           }
          ]
         }
        },
        {
         "name": "imputation_probability",
         "dtype": "object",
         "stats": {
          "unique_count": 1,
          "nan_count": 0,
          "categories": [
           {
            "name": "Not imputed",
            "count": 2
           }
          ]
         }
        },
        {
         "name": "date_of_injury_resulting_in_death_month_day_year",
         "dtype": "object",
         "stats": {
          "unique_count": 2,
          "nan_count": 0,
          "categories": [
           {
            "name": "2007-02-07",
            "count": 1
           },
           {
            "name": "2012-03-23",
            "count": 1
           }
          ]
         }
        },
        {
         "name": "location_of_injury_address",
         "dtype": "object",
         "stats": {
          "unique_count": 2,
          "nan_count": 0,
          "categories": [
           {
            "name": "4131 Camden Ave",
            "count": 1
           },
           {
            "name": "1719 E Glenn St",
            "count": 1
           }
          ]
         }
        },
        {
         "name": "location_of_death_city",
         "dtype": "object",
         "stats": {
          "unique_count": 2,
          "nan_count": 0,
          "categories": [
           {
            "name": "Omaha",
            "count": 1
           },
           {
            "name": "Tucson",
            "count": 1
           }
          ]
         }
        },
        {
         "name": "state",
         "dtype": "object",
         "stats": {
          "unique_count": 2,
          "nan_count": 0,
          "categories": [
           {
            "name": "NE",
            "count": 1
           },
           {
            "name": "AZ",
            "count": 1
           }
          ]
         }
        },
        {
         "name": "location_of_death_zip_code",
         "dtype": "float64",
         "stats": {
          "unique_count": 2,
          "nan_count": 0,
          "min": "68111.0",
          "max": "85719.0",
          "histogram": [
           {
            "bin_start": 68111,
            "bin_end": 69871.8,
            "count": 1
           },
           {
            "bin_start": 69871.8,
            "bin_end": 71632.6,
            "count": 0
           },
           {
            "bin_start": 71632.6,
            "bin_end": 73393.4,
            "count": 0
           },
           {
            "bin_start": 73393.4,
            "bin_end": 75154.2,
            "count": 0
           },
           {
            "bin_start": 75154.2,
            "bin_end": 76915,
            "count": 0
           },
           {
            "bin_start": 76915,
            "bin_end": 78675.8,
            "count": 0
           },
           {
            "bin_start": 78675.8,
            "bin_end": 80436.6,
            "count": 0
           },
           {
            "bin_start": 80436.6,
            "bin_end": 82197.4,
            "count": 0
           },
           {
            "bin_start": 82197.4,
            "bin_end": 83958.2,
            "count": 0
           },
           {
            "bin_start": 83958.2,
            "bin_end": 85719,
            "count": 1
           }
          ]
         }
        },
        {
         "name": "location_of_death_county",
         "dtype": "object",
         "stats": {
          "unique_count": 2,
          "nan_count": 0,
          "categories": [
           {
            "name": "Douglas",
            "count": 1
           },
           {
            "name": "Pima",
            "count": 1
           }
          ]
         }
        },
        {
         "name": "full_address",
         "dtype": "object",
         "stats": {
          "unique_count": 2,
          "nan_count": 0,
          "categories": [
           {
            "name": "4131 Camden Ave Omaha NE 68111 Douglas",
            "count": 1
           },
           {
            "name": "1719 E Glenn St Tucson AZ 85719 Pima",
            "count": 1
           }
          ]
         }
        },
        {
         "name": "latitude",
         "dtype": "object",
         "stats": {
          "unique_count": 2,
          "nan_count": 0,
          "categories": [
           {
            "name": "41.3056314",
            "count": 1
           },
           {
            "name": "32.257805",
            "count": 1
           }
          ]
         }
        },
        {
         "name": "longitude",
         "dtype": "float64",
         "stats": {
          "unique_count": 2,
          "nan_count": 0,
          "min": "-110.946129",
          "max": "-95.9753473",
          "histogram": [
           {
            "bin_start": -110.946129,
            "bin_end": -109.44905083,
            "count": 1
           },
           {
            "bin_start": -109.44905083,
            "bin_end": -107.95197266,
            "count": 0
           },
           {
            "bin_start": -107.95197266,
            "bin_end": -106.45489449,
            "count": 0
           },
           {
            "bin_start": -106.45489449,
            "bin_end": -104.95781631999999,
            "count": 0
           },
           {
            "bin_start": -104.95781631999999,
            "bin_end": -103.46073815,
            "count": 0
           },
           {
            "bin_start": -103.46073815,
            "bin_end": -101.96365997999999,
            "count": 0
           },
           {
            "bin_start": -101.96365997999999,
            "bin_end": -100.46658181,
            "count": 0
           },
           {
            "bin_start": -100.46658181,
            "bin_end": -98.96950364,
            "count": 0
           },
           {
            "bin_start": -98.96950364,
            "bin_end": -97.47242546999999,
            "count": 0
           },
           {
            "bin_start": -97.47242546999999,
            "bin_end": -95.9753473,
            "count": 1
           }
          ]
         }
        },
        {
         "name": "agency_or_agencies_involved",
         "dtype": "object",
         "stats": {
          "unique_count": 2,
          "nan_count": 0,
          "categories": [
           {
            "name": "Omaha Police Department",
            "count": 1
           },
           {
            "name": "Tucson Police Department",
            "count": 1
           }
          ]
         }
        },
        {
         "name": "highest_level_of_force",
         "dtype": "object",
         "stats": {
          "unique_count": 1,
          "nan_count": 0,
          "categories": [
           {
            "name": "Gunshot",
            "count": 2
           }
          ]
         }
        },
        {
         "name": "armed_unarmed",
         "dtype": "object",
         "stats": {
          "unique_count": 1,
          "nan_count": 0,
          "categories": [
           {
            "name": "Armed",
            "count": 2
           }
          ]
         }
        },
        {
         "name": "alleged_weapon",
         "dtype": "object",
         "stats": {
          "unique_count": 2,
          "nan_count": 0,
          "categories": [
           {
            "name": "Edged weapon/Knife",
            "count": 1
           },
           {
            "name": "Firearm/Rifle",
            "count": 1
           }
          ]
         }
        },
        {
         "name": "aggressive_physical_movement",
         "dtype": "object",
         "stats": {
          "unique_count": 2,
          "nan_count": 0,
          "categories": [
           {
            "name": "Brandished weapon",
            "count": 1
           },
           {
            "name": "Uncertain",
            "count": 1
           }
          ]
         }
        },
        {
         "name": "fleeing_not_fleeing",
         "dtype": "object",
         "stats": {
          "unique_count": 2,
          "nan_count": 0,
          "categories": [
           {
            "name": "Not fleeing",
            "count": 1
           },
           {
            "name": "Uncertain",
            "count": 1
           }
          ]
         }
        },
        {
         "name": "brief_description",
         "dtype": "object",
         "stats": {
          "unique_count": 2,
          "nan_count": 0,
          "categories": [
           {
            "name": "Police called to scene found Ventry lunging with a knife at a woman. Vetnry continued fighting after being shot by Officer Jerry Kassen and tasered by another officer.",
            "count": 1
           },
           {
            "name": "An unidentified person was shot and killed by a Tucson officer. No news reports are available for this death. The person was allegedly armed with a rifle.",
            "count": 1
           }
          ]
         }
        },
        {
         "name": "intended_use_of_force_developing",
         "dtype": "object",
         "stats": {
          "unique_count": 1,
          "nan_count": 0,
          "categories": [
           {
            "name": "Deadly force",
            "count": 2
           }
          ]
         }
        },
        {
         "name": "_deepnote_index_column",
         "dtype": "int64"
        }
       ],
       "rows_top": [
        {
         "Unnamed: 0": 7446,
         "unique_id": 14050,
         "name": "Robert Ventry",
         "age": 20,
         "gender": "Male",
         "race": "African-American/Black",
         "race_with_imputations": "African-American/Black",
         "imputation_probability": "Not imputed",
         "date_of_injury_resulting_in_death_month_day_year": "2007-02-07",
         "location_of_injury_address": "4131 Camden Ave",
         "location_of_death_city": "Omaha",
         "state": "NE",
         "location_of_death_zip_code": 68111,
         "location_of_death_county": "Douglas",
         "full_address": "4131 Camden Ave Omaha NE 68111 Douglas",
         "latitude": "41.3056314",
         "longitude": -95.9753473,
         "agency_or_agencies_involved": "Omaha Police Department",
         "highest_level_of_force": "Gunshot",
         "armed_unarmed": "Armed",
         "alleged_weapon": "Edged weapon/Knife",
         "aggressive_physical_movement": "Brandished weapon",
         "fleeing_not_fleeing": "Not fleeing",
         "brief_description": "Police called to scene found Ventry lunging with a knife at a woman. Vetnry continued fighting after being shot by Officer Jerry Kassen and tasered by another officer.",
         "intended_use_of_force_developing": "Deadly force",
         "_deepnote_index_column": 0
        },
        {
         "Unnamed: 0": 14054,
         "unique_id": 23449,
         "name": "Name withheld by police (Dupe)",
         "age": 32,
         "gender": "Male",
         "race": "European-American/White",
         "race_with_imputations": "European-American/White",
         "imputation_probability": "Not imputed",
         "date_of_injury_resulting_in_death_month_day_year": "2012-03-23",
         "location_of_injury_address": "1719 E Glenn St",
         "location_of_death_city": "Tucson",
         "state": "AZ",
         "location_of_death_zip_code": 85719,
         "location_of_death_county": "Pima",
         "full_address": "1719 E Glenn St Tucson AZ 85719 Pima",
         "latitude": "32.257805",
         "longitude": -110.946129,
         "agency_or_agencies_involved": "Tucson Police Department",
         "highest_level_of_force": "Gunshot",
         "armed_unarmed": "Armed",
         "alleged_weapon": "Firearm/Rifle",
         "aggressive_physical_movement": "Uncertain",
         "fleeing_not_fleeing": "Uncertain",
         "brief_description": "An unidentified person was shot and killed by a Tucson officer. No news reports are available for this death. The person was allegedly armed with a rifle.",
         "intended_use_of_force_developing": "Deadly force",
         "_deepnote_index_column": 1
        }
       ],
       "rows_bottom": null
      },
      "text/plain": "   Unnamed: 0  unique_id                            name   age gender  \\\n0        7446    14050.0                   Robert Ventry  20.0   Male   \n1       14054    23449.0  Name withheld by police (Dupe)  32.0   Male   \n\n                      race    race_with_imputations imputation_probability  \\\n0   African-American/Black   African-American/Black            Not imputed   \n1  European-American/White  European-American/White            Not imputed   \n\n  date_of_injury_resulting_in_death_month_day_year location_of_injury_address  \\\n0                                       2007-02-07            4131 Camden Ave   \n1                                       2012-03-23            1719 E Glenn St   \n\n   ...    latitude   longitude  agency_or_agencies_involved  \\\n0  ...  41.3056314  -95.975347      Omaha Police Department   \n1  ...   32.257805 -110.946129     Tucson Police Department   \n\n  highest_level_of_force armed_unarmed      alleged_weapon  \\\n0                Gunshot         Armed  Edged weapon/Knife   \n1                Gunshot         Armed       Firearm/Rifle   \n\n   aggressive_physical_movement fleeing_not_fleeing  \\\n0             Brandished weapon         Not fleeing   \n1                     Uncertain           Uncertain   \n\n                                   brief_description  \\\n0  Police called to scene found Ventry lunging wi...   \n1  An unidentified person was shot and killed by ...   \n\n  intended_use_of_force_developing  \n0                     Deadly force  \n1                     Deadly force  \n\n[2 rows x 25 columns]",
      "text/html": "<div>\n<style scoped>\n    .dataframe tbody tr th:only-of-type {\n        vertical-align: middle;\n    }\n\n    .dataframe tbody tr th {\n        vertical-align: top;\n    }\n\n    .dataframe thead th {\n        text-align: right;\n    }\n</style>\n<table border=\"1\" class=\"dataframe\">\n  <thead>\n    <tr style=\"text-align: right;\">\n      <th></th>\n      <th>Unnamed: 0</th>\n      <th>unique_id</th>\n      <th>name</th>\n      <th>age</th>\n      <th>gender</th>\n      <th>race</th>\n      <th>race_with_imputations</th>\n      <th>imputation_probability</th>\n      <th>date_of_injury_resulting_in_death_month_day_year</th>\n      <th>location_of_injury_address</th>\n      <th>...</th>\n      <th>latitude</th>\n      <th>longitude</th>\n      <th>agency_or_agencies_involved</th>\n      <th>highest_level_of_force</th>\n      <th>armed_unarmed</th>\n      <th>alleged_weapon</th>\n      <th>aggressive_physical_movement</th>\n      <th>fleeing_not_fleeing</th>\n      <th>brief_description</th>\n      <th>intended_use_of_force_developing</th>\n    </tr>\n  </thead>\n  <tbody>\n    <tr>\n      <th>0</th>\n      <td>7446</td>\n      <td>14050.0</td>\n      <td>Robert Ventry</td>\n      <td>20.0</td>\n      <td>Male</td>\n      <td>African-American/Black</td>\n      <td>African-American/Black</td>\n      <td>Not imputed</td>\n      <td>2007-02-07</td>\n      <td>4131 Camden Ave</td>\n      <td>...</td>\n      <td>41.3056314</td>\n      <td>-95.975347</td>\n      <td>Omaha Police Department</td>\n      <td>Gunshot</td>\n      <td>Armed</td>\n      <td>Edged weapon/Knife</td>\n      <td>Brandished weapon</td>\n      <td>Not fleeing</td>\n      <td>Police called to scene found Ventry lunging wi...</td>\n      <td>Deadly force</td>\n    </tr>\n    <tr>\n      <th>1</th>\n      <td>14054</td>\n      <td>23449.0</td>\n      <td>Name withheld by police (Dupe)</td>\n      <td>32.0</td>\n      <td>Male</td>\n      <td>European-American/White</td>\n      <td>European-American/White</td>\n      <td>Not imputed</td>\n      <td>2012-03-23</td>\n      <td>1719 E Glenn St</td>\n      <td>...</td>\n      <td>32.257805</td>\n      <td>-110.946129</td>\n      <td>Tucson Police Department</td>\n      <td>Gunshot</td>\n      <td>Armed</td>\n      <td>Firearm/Rifle</td>\n      <td>Uncertain</td>\n      <td>Uncertain</td>\n      <td>An unidentified person was shot and killed by ...</td>\n      <td>Deadly force</td>\n    </tr>\n  </tbody>\n</table>\n<p>2 rows × 25 columns</p>\n</div>"
     },
     "metadata": {}
    }
   ]
  },
  {
   "cell_type": "code",
   "source": "df.info()",
   "metadata": {
    "tags": [],
    "cell_id": "00024-bfc5a045-63db-4adf-bdfd-102d0e5b12f1",
    "deepnote_to_be_reexecuted": false,
    "source_hash": "de1e323c",
    "execution_start": 1622133829850,
    "execution_millis": 20,
    "deepnote_cell_type": "code"
   },
   "outputs": [
    {
     "name": "stdout",
     "text": "<class 'pandas.core.frame.DataFrame'>\nRangeIndex: 13125 entries, 0 to 13124\nData columns (total 25 columns):\n #   Column                                            Non-Null Count  Dtype  \n---  ------                                            --------------  -----  \n 0   Unnamed: 0                                        13125 non-null  int64  \n 1   unique_id                                         13125 non-null  float64\n 2   name                                              13125 non-null  object \n 3   age                                               13125 non-null  float64\n 4   gender                                            13125 non-null  object \n 5   race                                              13125 non-null  object \n 6   race_with_imputations                             13125 non-null  object \n 7   imputation_probability                            13125 non-null  object \n 8   date_of_injury_resulting_in_death_month_day_year  13125 non-null  object \n 9   location_of_injury_address                        13125 non-null  object \n 10  location_of_death_city                            13125 non-null  object \n 11  state                                             13125 non-null  object \n 12  location_of_death_zip_code                        13125 non-null  float64\n 13  location_of_death_county                          13125 non-null  object \n 14  full_address                                      13125 non-null  object \n 15  latitude                                          13125 non-null  object \n 16  longitude                                         13125 non-null  float64\n 17  agency_or_agencies_involved                       13125 non-null  object \n 18  highest_level_of_force                            13125 non-null  object \n 19  armed_unarmed                                     13125 non-null  object \n 20  alleged_weapon                                    13125 non-null  object \n 21  aggressive_physical_movement                      13125 non-null  object \n 22  fleeing_not_fleeing                               13125 non-null  object \n 23  brief_description                                 13125 non-null  object \n 24  intended_use_of_force_developing                  13125 non-null  object \ndtypes: float64(4), int64(1), object(20)\nmemory usage: 2.5+ MB\n",
     "output_type": "stream"
    }
   ],
   "execution_count": 23
  },
  {
   "cell_type": "code",
   "source": "df.gender.value_counts()",
   "metadata": {
    "tags": [],
    "cell_id": "00025-0fecc8c7-c9d1-4a86-9210-f22d1f93921c",
    "deepnote_to_be_reexecuted": false,
    "source_hash": "277063e4",
    "execution_start": 1622133880411,
    "execution_millis": 6,
    "deepnote_cell_type": "code"
   },
   "outputs": [
    {
     "output_type": "execute_result",
     "execution_count": 24,
     "data": {
      "text/plain": "Male           11826\nFemale          1284\nTransgender       15\nName: gender, dtype: int64"
     },
     "metadata": {}
    }
   ],
   "execution_count": 24
  },
  {
   "cell_type": "code",
   "source": "df",
   "metadata": {
    "tags": [],
    "cell_id": "00026-92e08a5e-0ef8-4185-88c5-15004eb25978",
    "deepnote_cell_type": "code"
   },
   "outputs": [],
   "execution_count": null
  },
  {
   "cell_type": "markdown",
   "source": "<a style='text-decoration:none;line-height:16px;display:flex;color:#5B5B62;padding:10px;justify-content:end;' href='https://deepnote.com?utm_source=created-in-deepnote-cell&projectId=258e71fc-cf2b-48c3-8461-70ecd9787aa1' target=\"_blank\">\n<img alt='Created in deepnote.com' style='display:inline;max-height:16px;margin:0px;margin-right:7.5px;' src='data:image/svg+xml;base64,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' > </img>\nCreated in <span style='font-weight:600;margin-left:4px;'>Deepnote</span></a>",
   "metadata": {
    "tags": [],
    "created_in_deepnote_cell": true,
    "deepnote_cell_type": "markdown"
   }
  }
 ],
 "nbformat": 4,
 "nbformat_minor": 2,
 "metadata": {
  "orig_nbformat": 2,
  "deepnote": {
   "is_reactive": false
  },
  "deepnote_notebook_id": "427ca2d3-8820-4879-8100-41fd16034776",
  "deepnote_execution_queue": []
 }
}