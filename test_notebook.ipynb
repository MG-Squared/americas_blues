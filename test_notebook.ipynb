{
 "cells": [
  {
   "cell_type": "code",
   "metadata": {
    "tags": [],
    "cell_id": "00000-afe51ce7-bf2f-4535-a76c-beeeecb0f248",
    "deepnote_to_be_reexecuted": false,
    "source_hash": "864c6ca2",
    "execution_start": 1621911998686,
    "execution_millis": 2638,
    "deepnote_cell_type": "code"
   },
   "source": "import pandas as pd\nimport numpy as np\n\n# Helper Functions\nimport wrangle as w \nimport explore as exp\nfrom explore import rfe, split, select_kbest\n\n# Visualizations\nimport seaborn as sns\nimport matplotlib.pyplot as plt\n\n# Hypothesis tests\nfrom scipy import stats\nfrom scipy.stats import chi2_contingency\nfrom scipy.stats import ttest_1samp\nfrom scipy.stats import ttest_ind\n\n#Feature Engineering\nfrom sklearn.feature_selection import SelectKBest, f_regression, chi2\nfrom sklearn.linear_model import LogisticRegression, SGDClassifier\nfrom sklearn.feature_selection import RFE\nfrom scipy import stats\n\n# Split data\nfrom sklearn.model_selection import train_test_split\n\n# Evaluate models\nfrom sklearn.metrics import confusion_matrix\nfrom sklearn.metrics import classification_report\nfrom sklearn.metrics import accuracy_score\nfrom sklearn.metrics import precision_score\nfrom sklearn.metrics import recall_score\nfrom sklearn.metrics import f1_score\nfrom sklearn.metrics import precision_recall_fscore_support \n\n# Create models for classification ML:\n# Decision Tree  \nfrom sklearn.tree import DecisionTreeClassifier\nfrom sklearn.tree import export_graphviz\n\n# Random Forest\nfrom sklearn.ensemble import RandomForestClassifier\n\n# K-Nearest Neighbor(KNN)  \nfrom sklearn.neighbors import KNeighborsClassifier\n\n# Logistic Regression\nfrom sklearn.linear_model import LogisticRegression",
   "execution_count": 1,
   "outputs": []
  },
  {
   "cell_type": "code",
   "source": "df = w.wrangle_data(cached=False)",
   "metadata": {
    "tags": [],
    "cell_id": "00001-25082157-824e-43c1-a14e-c6627b655cef",
    "deepnote_to_be_reexecuted": false,
    "source_hash": "d93c6998",
    "execution_start": 1621912001325,
    "execution_millis": 10117,
    "deepnote_cell_type": "code"
   },
   "outputs": [],
   "execution_count": 2
  },
  {
   "cell_type": "code",
   "source": "df.isnull().sum()",
   "metadata": {
    "tags": [],
    "cell_id": "00002-6bfd7d89-37a8-403c-9b22-989d8c76e850",
    "deepnote_to_be_reexecuted": false,
    "source_hash": "f3dd26da",
    "execution_start": 1621912011473,
    "execution_millis": 58,
    "deepnote_cell_type": "code"
   },
   "outputs": [
    {
     "output_type": "execute_result",
     "execution_count": 3,
     "data": {
      "text/plain": "age                                            0\ngender                                         0\nrace                                           0\ndate                                           0\ncity                                           0\nstate                                          0\nzipcode                                        0\ncounty                                         0\nagency_responsible                             0\ncause_of_death                                 0\ndescription_of_circumstances                   0\nofficial_disposition                           0\ncriminal_charges_filed                         0\nmental_illness                                 0\narmed_unarmed_status                           0\nalleged_weapon                                 0\nalleged_threat_lvl                             0\nfleeing                                        0\nbody_camera                                    0\ngeography                                      0\nencounter_type_draft                           0\ninitial_reported_reason_for_encounter_draft    0\nknown_past_shootings_of_officer_draft          0\nis_female                                      0\nis_male                                        0\nis_transgender                                 0\nwas_fleeing                                    0\nwas_not fleeing                                0\nwas_allegedly_armed                            0\nwas_unarmed                                    0\nwas_vehicle                                    0\nwas_domestic_disturbance                       0\nwas_mental_health_welfare_check                0\nwas_person_with_a_weapon                       0\nwas_traffic_stop                               0\nwas_violent_crime_part_1                       0\nis_asian/pacific islander                      0\nis_black                                       0\nis_hispanic                                    0\nis_native american                             0\nis_unknown race                                0\nis_white                                       0\nmntlill_drug or alcohol use                    0\nmntlill_no                                     0\nmntlill_unknown                                0\nmntlill_yes                                    0\nrural                                          0\nsuburban                                       0\nurban                                          0\ncod_lethal                                     0\nage_bins                                       0\nunknown                                        0\nunder 12                                       0\n12-17                                          0\n18-24                                          0\n25-34                                          0\n35-44                                          0\n45-54                                          0\n55-64                                          0\n65+                                            0\ndtype: int64"
     },
     "metadata": {}
    }
   ],
   "execution_count": 3
  },
  {
   "cell_type": "code",
   "source": "df.age.value_counts()",
   "metadata": {
    "tags": [],
    "cell_id": "00003-861c6add-03ca-4dbf-b4a3-9eead71c3e7e",
    "deepnote_to_be_reexecuted": false,
    "source_hash": "2a21e0e6",
    "execution_start": 1621912011491,
    "execution_millis": 48,
    "deepnote_cell_type": "code"
   },
   "outputs": [
    {
     "output_type": "execute_result",
     "execution_count": 4,
     "data": {
      "text/plain": "25     280\n0      279\n27     275\n28     275\n31     275\n      ... \n88       1\n93       1\n85       1\n107      1\n95       1\nName: age, Length: 88, dtype: int64"
     },
     "metadata": {}
    }
   ],
   "execution_count": 4
  },
  {
   "cell_type": "code",
   "source": "df.age_bins.value_counts()",
   "metadata": {
    "tags": [],
    "cell_id": "00007-4cfb6dc6-6394-45e7-93d9-ddea660ec5be",
    "deepnote_to_be_reexecuted": false,
    "source_hash": "48919f60",
    "execution_start": 1621912011506,
    "execution_millis": 34,
    "deepnote_cell_type": "code"
   },
   "outputs": [
    {
     "output_type": "execute_result",
     "execution_count": 5,
     "data": {
      "text/plain": "25-34       2697\n35-44       2005\n18-24       1289\n45-54       1278\n55-64        652\nunknown      279\n65+          267\n12-17        155\nunder 12      12\nName: age_bins, dtype: int64"
     },
     "metadata": {}
    }
   ],
   "execution_count": 5
  },
  {
   "cell_type": "code",
   "source": "df.columns",
   "metadata": {
    "tags": [],
    "cell_id": "00006-d103c388-047e-4fd7-bd41-a3af5340dce3",
    "deepnote_to_be_reexecuted": false,
    "source_hash": "25d43fa0",
    "execution_start": 1621912011551,
    "execution_millis": 7,
    "deepnote_cell_type": "code"
   },
   "outputs": [
    {
     "output_type": "execute_result",
     "execution_count": 6,
     "data": {
      "text/plain": "Index(['age', 'gender', 'race', 'date', 'city', 'state', 'zipcode', 'county',\n       'agency_responsible', 'cause_of_death', 'description_of_circumstances',\n       'official_disposition', 'criminal_charges_filed', 'mental_illness',\n       'armed_unarmed_status', 'alleged_weapon', 'alleged_threat_lvl',\n       'fleeing', 'body_camera', 'geography', 'encounter_type_draft',\n       'initial_reported_reason_for_encounter_draft',\n       'known_past_shootings_of_officer_draft', 'is_female', 'is_male',\n       'is_transgender', 'was_fleeing', 'was_not fleeing ',\n       'was_allegedly_armed', 'was_unarmed', 'was_vehicle',\n       'was_domestic_disturbance', 'was_mental_health_welfare_check',\n       'was_person_with_a_weapon', 'was_traffic_stop',\n       'was_violent_crime_part_1', 'is_asian/pacific islander', 'is_black',\n       'is_hispanic', 'is_native american', 'is_unknown race', 'is_white',\n       'mntlill_drug or alcohol use', 'mntlill_no', 'mntlill_unknown',\n       'mntlill_yes', 'rural', 'suburban', 'urban', 'cod_lethal', 'age_bins',\n       'unknown', 'under 12', '12-17', '18-24', '25-34', '35-44', '45-54',\n       '55-64', '65+'],\n      dtype='object')"
     },
     "metadata": {}
    }
   ],
   "execution_count": 6
  },
  {
   "cell_type": "code",
   "source": "from explore import rfe, split, select_kbest",
   "metadata": {
    "tags": [],
    "cell_id": "00006-919db769-656a-4eab-bb10-d9c631e9331c",
    "deepnote_to_be_reexecuted": false,
    "source_hash": "fb9b34ba",
    "execution_start": 1621912011552,
    "execution_millis": 0,
    "deepnote_cell_type": "code"
   },
   "outputs": [],
   "execution_count": 7
  },
  {
   "cell_type": "code",
   "source": "train, validate, test = split(df, stratify_by='alleged_threat_lvl')",
   "metadata": {
    "tags": [],
    "cell_id": "00007-2b4cf507-9fcb-46d5-99ad-3871b80180d8",
    "deepnote_to_be_reexecuted": false,
    "source_hash": "61bca6e2",
    "execution_start": 1621912011552,
    "execution_millis": 42,
    "deepnote_cell_type": "code"
   },
   "outputs": [],
   "execution_count": 8
  },
  {
   "cell_type": "code",
   "source": "\ndef split_df(df, target, seed):\n    '''\n    split_df will take one argument(df) and \n    then split our data into 20/80, \n    then split the 80% into 30/70\n    performs a train, validate, test split\n    splits each of the 3 samples into a dataframe with independent variables\n    and a series with the dependent, or target variable. \n    The function returns 6 dataframes and 3 series:\n    train, validate, test split, X_train (df) & y_train (series), X_validate & y_validate, X_test & y_test. \n    '''\n    # Train, Validate, and test\n    train_and_validate, test = train_test_split(df, test_size=0.2, random_state=seed)\n    train, validate = train_test_split(train_and_validate, test_size=0.3, random_state=seed)\n    # Split with X and y\n    X_train = train.drop(columns=[target])\n    y_train = train[target]\n    X_validate = validate.drop(columns=[target])\n    y_validate = validate[target]\n    X_test = test.drop(columns=[target])\n    y_test = test[target]\n    return train, validate, test, X_train, y_train, X_validate, y_validate, X_test, y_test ",
   "metadata": {
    "tags": [],
    "cell_id": "00008-dfce7d04-b461-49d8-8573-075ffde11aed",
    "deepnote_to_be_reexecuted": false,
    "source_hash": "68e62203",
    "execution_start": 1621912011639,
    "execution_millis": 0,
    "deepnote_cell_type": "code"
   },
   "outputs": [],
   "execution_count": 9
  },
  {
   "cell_type": "code",
   "source": "\ntrain, validate, test, X_train, y_train, X_validate, y_validate, X_test, y_test = split_df(df, 'alleged_threat_lvl', 42)",
   "metadata": {
    "tags": [],
    "cell_id": "00009-ab50d1b3-ba5d-40ca-92ea-25209c4247ce",
    "deepnote_to_be_reexecuted": false,
    "source_hash": "4ca76457",
    "execution_start": 1621912011640,
    "execution_millis": 0,
    "deepnote_cell_type": "code"
   },
   "outputs": [],
   "execution_count": 10
  },
  {
   "cell_type": "code",
   "source": "#y_",
   "metadata": {
    "tags": [],
    "cell_id": "00010-3d397d72-f255-46c4-90ee-f665b09d8778",
    "deepnote_to_be_reexecuted": false,
    "source_hash": "89d68b10",
    "execution_start": 1621912011640,
    "execution_millis": 0,
    "deepnote_cell_type": "code"
   },
   "outputs": [],
   "execution_count": 11
  },
  {
   "cell_type": "code",
   "source": "X_train.info()",
   "metadata": {
    "tags": [],
    "cell_id": "00010-a4c560cb-74e2-44a1-9b39-e5de15e68b7b",
    "deepnote_to_be_reexecuted": false,
    "source_hash": "3ca3de2b",
    "execution_start": 1621912011683,
    "execution_millis": 37,
    "deepnote_cell_type": "code"
   },
   "outputs": [
    {
     "name": "stdout",
     "text": "<class 'pandas.core.frame.DataFrame'>\nInt64Index: 4834 entries, 5595 to 5633\nData columns (total 59 columns):\n #   Column                                       Non-Null Count  Dtype         \n---  ------                                       --------------  -----         \n 0   age                                          4834 non-null   int64         \n 1   gender                                       4834 non-null   object        \n 2   race                                         4834 non-null   object        \n 3   date                                         4834 non-null   datetime64[ns]\n 4   city                                         4834 non-null   object        \n 5   state                                        4834 non-null   object        \n 6   zipcode                                      4834 non-null   float64       \n 7   county                                       4834 non-null   object        \n 8   agency_responsible                           4834 non-null   object        \n 9   cause_of_death                               4834 non-null   object        \n 10  description_of_circumstances                 4834 non-null   object        \n 11  official_disposition                         4834 non-null   object        \n 12  criminal_charges_filed                       4834 non-null   object        \n 13  mental_illness                               4834 non-null   object        \n 14  armed_unarmed_status                         4834 non-null   object        \n 15  alleged_weapon                               4834 non-null   object        \n 16  fleeing                                      4834 non-null   object        \n 17  body_camera                                  4834 non-null   float64       \n 18  geography                                    4834 non-null   object        \n 19  encounter_type_draft                         4834 non-null   object        \n 20  initial_reported_reason_for_encounter_draft  4834 non-null   object        \n 21  known_past_shootings_of_officer_draft        4834 non-null   object        \n 22  is_female                                    4834 non-null   uint8         \n 23  is_male                                      4834 non-null   uint8         \n 24  is_transgender                               4834 non-null   uint8         \n 25  was_fleeing                                  4834 non-null   float64       \n 26  was_not fleeing                              4834 non-null   float64       \n 27  was_allegedly_armed                          4834 non-null   float64       \n 28  was_unarmed                                  4834 non-null   float64       \n 29  was_vehicle                                  4834 non-null   float64       \n 30  was_domestic_disturbance                     4834 non-null   uint8         \n 31  was_mental_health_welfare_check              4834 non-null   uint8         \n 32  was_person_with_a_weapon                     4834 non-null   uint8         \n 33  was_traffic_stop                             4834 non-null   uint8         \n 34  was_violent_crime_part_1                     4834 non-null   uint8         \n 35  is_asian/pacific islander                    4834 non-null   uint8         \n 36  is_black                                     4834 non-null   uint8         \n 37  is_hispanic                                  4834 non-null   uint8         \n 38  is_native american                           4834 non-null   uint8         \n 39  is_unknown race                              4834 non-null   uint8         \n 40  is_white                                     4834 non-null   uint8         \n 41  mntlill_drug or alcohol use                  4834 non-null   uint8         \n 42  mntlill_no                                   4834 non-null   uint8         \n 43  mntlill_unknown                              4834 non-null   uint8         \n 44  mntlill_yes                                  4834 non-null   uint8         \n 45  rural                                        4834 non-null   float64       \n 46  suburban                                     4834 non-null   float64       \n 47  urban                                        4834 non-null   float64       \n 48  cod_lethal                                   4834 non-null   int64         \n 49  age_bins                                     4834 non-null   category      \n 50  unknown                                      4834 non-null   uint8         \n 51  under 12                                     4834 non-null   uint8         \n 52  12-17                                        4834 non-null   uint8         \n 53  18-24                                        4834 non-null   uint8         \n 54  25-34                                        4834 non-null   uint8         \n 55  35-44                                        4834 non-null   uint8         \n 56  45-54                                        4834 non-null   uint8         \n 57  55-64                                        4834 non-null   uint8         \n 58  65+                                          4834 non-null   uint8         \ndtypes: category(1), datetime64[ns](1), float64(10), int64(2), object(18), uint8(27)\nmemory usage: 1.3+ MB\n",
     "output_type": "stream"
    }
   ],
   "execution_count": 12
  },
  {
   "cell_type": "code",
   "source": "from sklearn.feature_selection import f_regression, RFE, SelectKBest",
   "metadata": {
    "tags": [],
    "cell_id": "00010-a3624a05-3055-40b0-bd52-769edb43f3aa",
    "deepnote_to_be_reexecuted": false,
    "source_hash": "576f2697",
    "execution_start": 1621912011706,
    "execution_millis": 6,
    "deepnote_cell_type": "code"
   },
   "outputs": [],
   "execution_count": 13
  },
  {
   "cell_type": "code",
   "source": "list(df.columns)",
   "metadata": {
    "tags": [],
    "cell_id": "00011-d305c63a-99ca-4dd8-ba9c-c544bdd68c9b",
    "deepnote_to_be_reexecuted": false,
    "source_hash": "1039a82",
    "execution_start": 1621912011715,
    "execution_millis": 47,
    "deepnote_cell_type": "code"
   },
   "outputs": [
    {
     "output_type": "execute_result",
     "execution_count": 14,
     "data": {
      "text/plain": "['age',\n 'gender',\n 'race',\n 'date',\n 'city',\n 'state',\n 'zipcode',\n 'county',\n 'agency_responsible',\n 'cause_of_death',\n 'description_of_circumstances',\n 'official_disposition',\n 'criminal_charges_filed',\n 'mental_illness',\n 'armed_unarmed_status',\n 'alleged_weapon',\n 'alleged_threat_lvl',\n 'fleeing',\n 'body_camera',\n 'geography',\n 'encounter_type_draft',\n 'initial_reported_reason_for_encounter_draft',\n 'known_past_shootings_of_officer_draft',\n 'is_female',\n 'is_male',\n 'is_transgender',\n 'was_fleeing',\n 'was_not fleeing ',\n 'was_allegedly_armed',\n 'was_unarmed',\n 'was_vehicle',\n 'was_domestic_disturbance',\n 'was_mental_health_welfare_check',\n 'was_person_with_a_weapon',\n 'was_traffic_stop',\n 'was_violent_crime_part_1',\n 'is_asian/pacific islander',\n 'is_black',\n 'is_hispanic',\n 'is_native american',\n 'is_unknown race',\n 'is_white',\n 'mntlill_drug or alcohol use',\n 'mntlill_no',\n 'mntlill_unknown',\n 'mntlill_yes',\n 'rural',\n 'suburban',\n 'urban',\n 'cod_lethal',\n 'age_bins',\n 'unknown',\n 'under 12',\n '12-17',\n '18-24',\n '25-34',\n '35-44',\n '45-54',\n '55-64',\n '65+']"
     },
     "metadata": {}
    }
   ],
   "execution_count": 14
  },
  {
   "cell_type": "code",
   "source": "dropcols = ['date',\n 'gender',\n 'race',\n 'city',\n 'state',\n 'zipcode',\n 'county',\n 'agency_responsible',\n 'cause_of_death',\n 'description_of_circumstances',\n 'official_disposition',\n 'criminal_charges_filed',\n 'mental_illness',\n 'armed_unarmed_status',\n 'alleged_threat_lvl',\n 'alleged_weapon',\n 'fleeing',\n 'geography',\n 'encounter_type_draft',\n 'initial_reported_reason_for_encounter_draft',\n 'known_past_shootings_of_officer_draft',\n 'age_bins']\n",
   "metadata": {
    "tags": [],
    "cell_id": "00012-775bc13b-cecb-4bf7-81eb-31f4c4d288c9",
    "deepnote_to_be_reexecuted": false,
    "source_hash": "368ac104",
    "execution_start": 1621912011763,
    "execution_millis": 0,
    "deepnote_cell_type": "code"
   },
   "outputs": [],
   "execution_count": 15
  },
  {
   "cell_type": "code",
   "source": "train2 = train.drop(columns=dropcols)\nvalidate2 = validate.drop(columns=dropcols)\ntest2 = test.drop(columns=dropcols)",
   "metadata": {
    "tags": [],
    "cell_id": "00014-06b8fccd-5774-4439-a81a-007dec60dc95",
    "deepnote_to_be_reexecuted": false,
    "source_hash": "d330f65b",
    "execution_start": 1621912011763,
    "execution_millis": 1,
    "deepnote_cell_type": "code"
   },
   "outputs": [],
   "execution_count": 16
  },
  {
   "cell_type": "code",
   "source": "train2.info()",
   "metadata": {
    "tags": [],
    "cell_id": "00014-3c66ed67-6a30-474b-8c08-cfb4ca02b97e",
    "deepnote_to_be_reexecuted": false,
    "source_hash": "569ea54a",
    "execution_start": 1621912011764,
    "execution_millis": 47,
    "deepnote_cell_type": "code"
   },
   "outputs": [
    {
     "name": "stdout",
     "text": "<class 'pandas.core.frame.DataFrame'>\nInt64Index: 4834 entries, 5595 to 5633\nData columns (total 38 columns):\n #   Column                           Non-Null Count  Dtype  \n---  ------                           --------------  -----  \n 0   age                              4834 non-null   int64  \n 1   body_camera                      4834 non-null   float64\n 2   is_female                        4834 non-null   uint8  \n 3   is_male                          4834 non-null   uint8  \n 4   is_transgender                   4834 non-null   uint8  \n 5   was_fleeing                      4834 non-null   float64\n 6   was_not fleeing                  4834 non-null   float64\n 7   was_allegedly_armed              4834 non-null   float64\n 8   was_unarmed                      4834 non-null   float64\n 9   was_vehicle                      4834 non-null   float64\n 10  was_domestic_disturbance         4834 non-null   uint8  \n 11  was_mental_health_welfare_check  4834 non-null   uint8  \n 12  was_person_with_a_weapon         4834 non-null   uint8  \n 13  was_traffic_stop                 4834 non-null   uint8  \n 14  was_violent_crime_part_1         4834 non-null   uint8  \n 15  is_asian/pacific islander        4834 non-null   uint8  \n 16  is_black                         4834 non-null   uint8  \n 17  is_hispanic                      4834 non-null   uint8  \n 18  is_native american               4834 non-null   uint8  \n 19  is_unknown race                  4834 non-null   uint8  \n 20  is_white                         4834 non-null   uint8  \n 21  mntlill_drug or alcohol use      4834 non-null   uint8  \n 22  mntlill_no                       4834 non-null   uint8  \n 23  mntlill_unknown                  4834 non-null   uint8  \n 24  mntlill_yes                      4834 non-null   uint8  \n 25  rural                            4834 non-null   float64\n 26  suburban                         4834 non-null   float64\n 27  urban                            4834 non-null   float64\n 28  cod_lethal                       4834 non-null   int64  \n 29  unknown                          4834 non-null   uint8  \n 30  under 12                         4834 non-null   uint8  \n 31  12-17                            4834 non-null   uint8  \n 32  18-24                            4834 non-null   uint8  \n 33  25-34                            4834 non-null   uint8  \n 34  35-44                            4834 non-null   uint8  \n 35  45-54                            4834 non-null   uint8  \n 36  55-64                            4834 non-null   uint8  \n 37  65+                              4834 non-null   uint8  \ndtypes: float64(9), int64(2), uint8(27)\nmemory usage: 580.6 KB\n",
     "output_type": "stream"
    }
   ],
   "execution_count": 17
  },
  {
   "cell_type": "code",
   "source": "train2.columns",
   "metadata": {
    "tags": [],
    "cell_id": "00014-73c67511-909b-4b82-ae40-277da93d8f6c",
    "deepnote_to_be_reexecuted": false,
    "source_hash": "b18318e7",
    "execution_start": 1621912011805,
    "execution_millis": 7,
    "deepnote_cell_type": "code"
   },
   "outputs": [
    {
     "output_type": "execute_result",
     "execution_count": 18,
     "data": {
      "text/plain": "Index(['age', 'body_camera', 'is_female', 'is_male', 'is_transgender',\n       'was_fleeing', 'was_not fleeing ', 'was_allegedly_armed', 'was_unarmed',\n       'was_vehicle', 'was_domestic_disturbance',\n       'was_mental_health_welfare_check', 'was_person_with_a_weapon',\n       'was_traffic_stop', 'was_violent_crime_part_1',\n       'is_asian/pacific islander', 'is_black', 'is_hispanic',\n       'is_native american', 'is_unknown race', 'is_white',\n       'mntlill_drug or alcohol use', 'mntlill_no', 'mntlill_unknown',\n       'mntlill_yes', 'rural', 'suburban', 'urban', 'cod_lethal', 'unknown',\n       'under 12', '12-17', '18-24', '25-34', '35-44', '45-54', '55-64',\n       '65+'],\n      dtype='object')"
     },
     "metadata": {}
    }
   ],
   "execution_count": 18
  },
  {
   "cell_type": "code",
   "source": "f_feature = select_kbest(train2, y_train, 15)\nf_feature",
   "metadata": {
    "tags": [],
    "cell_id": "00020-3592d1b1-6e38-4bcb-9bb8-7be199f59179",
    "deepnote_to_be_reexecuted": false,
    "source_hash": "c5522482",
    "execution_start": 1621912011807,
    "execution_millis": 33,
    "deepnote_cell_type": "code"
   },
   "outputs": [
    {
     "output_type": "execute_result",
     "execution_count": 19,
     "data": {
      "text/plain": "['age',\n 'body_camera',\n 'is_female',\n 'was_fleeing',\n 'was_allegedly_armed',\n 'was_unarmed',\n 'was_domestic_disturbance',\n 'was_mental_health_welfare_check',\n 'was_person_with_a_weapon',\n 'was_traffic_stop',\n 'was_violent_crime_part_1',\n 'mntlill_drug or alcohol use',\n 'mntlill_no',\n 'mntlill_unknown',\n '55-64']"
     },
     "metadata": {}
    }
   ],
   "execution_count": 19
  },
  {
   "cell_type": "code",
   "source": "rfe_list = rfe(train2, y_train, 15)",
   "metadata": {
    "tags": [],
    "cell_id": "00019-4661cbe5-93ba-4a7a-bde8-3405d202bee7",
    "deepnote_to_be_reexecuted": false,
    "source_hash": "ac440bf0",
    "execution_start": 1621912011878,
    "execution_millis": 9824,
    "deepnote_cell_type": "code"
   },
   "outputs": [
    {
     "name": "stderr",
     "text": "/shared-libs/python3.7/py/lib/python3.7/site-packages/sklearn/utils/validation.py:72: FutureWarning: Pass n_features_to_select=15 as keyword args. From version 1.0 (renaming of 0.25) passing these as positional arguments will result in an error\n  \"will result in an error\", FutureWarning)\n/shared-libs/python3.7/py/lib/python3.7/site-packages/sklearn/linear_model/_logistic.py:765: ConvergenceWarning: lbfgs failed to converge (status=1):\nSTOP: TOTAL NO. of ITERATIONS REACHED LIMIT.\n\nIncrease the number of iterations (max_iter) or scale the data as shown in:\n    https://scikit-learn.org/stable/modules/preprocessing.html\nPlease also refer to the documentation for alternative solver options:\n    https://scikit-learn.org/stable/modules/linear_model.html#logistic-regression\n  extra_warning_msg=_LOGISTIC_SOLVER_CONVERGENCE_MSG)\n/shared-libs/python3.7/py/lib/python3.7/site-packages/sklearn/linear_model/_logistic.py:765: ConvergenceWarning: lbfgs failed to converge (status=1):\nSTOP: TOTAL NO. of ITERATIONS REACHED LIMIT.\n\nIncrease the number of iterations (max_iter) or scale the data as shown in:\n    https://scikit-learn.org/stable/modules/preprocessing.html\nPlease also refer to the documentation for alternative solver options:\n    https://scikit-learn.org/stable/modules/linear_model.html#logistic-regression\n  extra_warning_msg=_LOGISTIC_SOLVER_CONVERGENCE_MSG)\n/shared-libs/python3.7/py/lib/python3.7/site-packages/sklearn/linear_model/_logistic.py:765: ConvergenceWarning: lbfgs failed to converge (status=1):\nSTOP: TOTAL NO. of ITERATIONS REACHED LIMIT.\n\nIncrease the number of iterations (max_iter) or scale the data as shown in:\n    https://scikit-learn.org/stable/modules/preprocessing.html\nPlease also refer to the documentation for alternative solver options:\n    https://scikit-learn.org/stable/modules/linear_model.html#logistic-regression\n  extra_warning_msg=_LOGISTIC_SOLVER_CONVERGENCE_MSG)\n/shared-libs/python3.7/py/lib/python3.7/site-packages/sklearn/linear_model/_logistic.py:765: ConvergenceWarning: lbfgs failed to converge (status=1):\nSTOP: TOTAL NO. of ITERATIONS REACHED LIMIT.\n\nIncrease the number of iterations (max_iter) or scale the data as shown in:\n    https://scikit-learn.org/stable/modules/preprocessing.html\nPlease also refer to the documentation for alternative solver options:\n    https://scikit-learn.org/stable/modules/linear_model.html#logistic-regression\n  extra_warning_msg=_LOGISTIC_SOLVER_CONVERGENCE_MSG)\n/shared-libs/python3.7/py/lib/python3.7/site-packages/sklearn/linear_model/_logistic.py:765: ConvergenceWarning: lbfgs failed to converge (status=1):\nSTOP: TOTAL NO. of ITERATIONS REACHED LIMIT.\n\nIncrease the number of iterations (max_iter) or scale the data as shown in:\n    https://scikit-learn.org/stable/modules/preprocessing.html\nPlease also refer to the documentation for alternative solver options:\n    https://scikit-learn.org/stable/modules/linear_model.html#logistic-regression\n  extra_warning_msg=_LOGISTIC_SOLVER_CONVERGENCE_MSG)\n/shared-libs/python3.7/py/lib/python3.7/site-packages/sklearn/linear_model/_logistic.py:765: ConvergenceWarning: lbfgs failed to converge (status=1):\nSTOP: TOTAL NO. of ITERATIONS REACHED LIMIT.\n\nIncrease the number of iterations (max_iter) or scale the data as shown in:\n    https://scikit-learn.org/stable/modules/preprocessing.html\nPlease also refer to the documentation for alternative solver options:\n    https://scikit-learn.org/stable/modules/linear_model.html#logistic-regression\n  extra_warning_msg=_LOGISTIC_SOLVER_CONVERGENCE_MSG)\n/shared-libs/python3.7/py/lib/python3.7/site-packages/sklearn/linear_model/_logistic.py:765: ConvergenceWarning: lbfgs failed to converge (status=1):\nSTOP: TOTAL NO. of ITERATIONS REACHED LIMIT.\n\nIncrease the number of iterations (max_iter) or scale the data as shown in:\n    https://scikit-learn.org/stable/modules/preprocessing.html\nPlease also refer to the documentation for alternative solver options:\n    https://scikit-learn.org/stable/modules/linear_model.html#logistic-regression\n  extra_warning_msg=_LOGISTIC_SOLVER_CONVERGENCE_MSG)\n/shared-libs/python3.7/py/lib/python3.7/site-packages/sklearn/linear_model/_logistic.py:765: ConvergenceWarning: lbfgs failed to converge (status=1):\nSTOP: TOTAL NO. of ITERATIONS REACHED LIMIT.\n\nIncrease the number of iterations (max_iter) or scale the data as shown in:\n    https://scikit-learn.org/stable/modules/preprocessing.html\nPlease also refer to the documentation for alternative solver options:\n    https://scikit-learn.org/stable/modules/linear_model.html#logistic-regression\n  extra_warning_msg=_LOGISTIC_SOLVER_CONVERGENCE_MSG)\n",
     "output_type": "stream"
    }
   ],
   "execution_count": 20
  },
  {
   "cell_type": "code",
   "source": "f_feature",
   "metadata": {
    "tags": [],
    "cell_id": "00016-e2445307-8f76-4d09-babb-b3623dcc6320",
    "deepnote_to_be_reexecuted": false,
    "source_hash": "adde19a5",
    "execution_start": 1621912021708,
    "execution_millis": 19,
    "deepnote_cell_type": "code"
   },
   "outputs": [
    {
     "output_type": "execute_result",
     "execution_count": 21,
     "data": {
      "text/plain": "['age',\n 'body_camera',\n 'is_female',\n 'was_fleeing',\n 'was_allegedly_armed',\n 'was_unarmed',\n 'was_domestic_disturbance',\n 'was_mental_health_welfare_check',\n 'was_person_with_a_weapon',\n 'was_traffic_stop',\n 'was_violent_crime_part_1',\n 'mntlill_drug or alcohol use',\n 'mntlill_no',\n 'mntlill_unknown',\n '55-64']"
     },
     "metadata": {}
    }
   ],
   "execution_count": 21
  },
  {
   "cell_type": "code",
   "source": "rfe_list",
   "metadata": {
    "tags": [],
    "cell_id": "00020-db7d45f2-f0ce-4cf3-aec3-a33672cbb6b3",
    "deepnote_to_be_reexecuted": false,
    "source_hash": "9d8423df",
    "execution_start": 1621912021785,
    "execution_millis": 31,
    "deepnote_cell_type": "code"
   },
   "outputs": [
    {
     "output_type": "execute_result",
     "execution_count": 22,
     "data": {
      "text/plain": "['is_male',\n 'is_transgender',\n 'was_fleeing',\n 'was_allegedly_armed',\n 'was_unarmed',\n 'was_vehicle',\n 'was_traffic_stop',\n 'was_violent_crime_part_1',\n 'is_black',\n 'is_native american',\n 'is_white',\n 'mntlill_drug or alcohol use',\n 'mntlill_no',\n 'cod_lethal',\n 'under 12']"
     },
     "metadata": {}
    }
   ],
   "execution_count": 22
  },
  {
   "cell_type": "code",
   "source": "combo_feats = list(set(f_feature + rfe_list))",
   "metadata": {
    "tags": [],
    "cell_id": "00022-efcf72a8-2116-43ac-beb5-357156da745f",
    "deepnote_to_be_reexecuted": false,
    "source_hash": "75be0d0c",
    "execution_start": 1621912021804,
    "execution_millis": 4,
    "deepnote_cell_type": "code"
   },
   "outputs": [],
   "execution_count": 23
  },
  {
   "cell_type": "code",
   "source": "len(combo_feats)",
   "metadata": {
    "tags": [],
    "cell_id": "00023-aadd07c2-a6f8-4997-a1b4-9c81e1d91266",
    "deepnote_to_be_reexecuted": false,
    "source_hash": "d038553",
    "execution_start": 1621912021811,
    "execution_millis": 10,
    "deepnote_cell_type": "code"
   },
   "outputs": [
    {
     "output_type": "execute_result",
     "execution_count": 24,
     "data": {
      "text/plain": "23"
     },
     "metadata": {}
    }
   ],
   "execution_count": 24
  },
  {
   "cell_type": "code",
   "source": "combo_feats",
   "metadata": {
    "tags": [],
    "cell_id": "00024-c41b01d4-a2ee-41e7-b811-24a9d990b932",
    "deepnote_to_be_reexecuted": false,
    "source_hash": "8d90ad63",
    "execution_start": 1621912021859,
    "execution_millis": 5,
    "deepnote_cell_type": "code"
   },
   "outputs": [
    {
     "output_type": "execute_result",
     "execution_count": 25,
     "data": {
      "text/plain": "['55-64',\n 'is_native american',\n 'mntlill_no',\n 'under 12',\n 'was_traffic_stop',\n 'body_camera',\n 'age',\n 'was_allegedly_armed',\n 'mntlill_unknown',\n 'was_person_with_a_weapon',\n 'is_black',\n 'was_domestic_disturbance',\n 'was_unarmed',\n 'was_fleeing',\n 'is_male',\n 'cod_lethal',\n 'was_mental_health_welfare_check',\n 'is_white',\n 'was_violent_crime_part_1',\n 'was_vehicle',\n 'mntlill_drug or alcohol use',\n 'is_transgender',\n 'is_female']"
     },
     "metadata": {}
    }
   ],
   "execution_count": 25
  },
  {
   "cell_type": "markdown",
   "source": "Modeling\n\nCreate a Baseline Model:",
   "metadata": {
    "tags": [],
    "cell_id": "00023-078ed2ec-d202-41f2-ae33-d35bd29d9685",
    "deepnote_to_be_reexecuted": false,
    "source_hash": "897280cf",
    "execution_start": 1621898463294,
    "execution_millis": 13,
    "deepnote_cell_type": "markdown"
   },
   "outputs": [],
   "execution_count": 23
  },
  {
   "cell_type": "code",
   "source": "y_train = pd.DataFrame(y_train)\n\ny_train.alleged_threat_lvl.value_counts()\n",
   "metadata": {
    "tags": [],
    "cell_id": "00023-5a407d56-0fcb-48e8-ac40-8c34a89e797f",
    "deepnote_to_be_reexecuted": false,
    "source_hash": "fa46ff5a",
    "execution_start": 1621912021898,
    "execution_millis": 7,
    "deepnote_cell_type": "code"
   },
   "outputs": [
    {
     "output_type": "execute_result",
     "execution_count": 26,
     "data": {
      "text/plain": "0.0    2466\n1.0    2368\nName: alleged_threat_lvl, dtype: int64"
     },
     "metadata": {}
    }
   ],
   "execution_count": 26
  },
  {
   "cell_type": "code",
   "source": "baseline = 0\nbaseline_accuracy = round((y_train.alleged_threat_lvl == baseline).mean(),4)\nbaseline_accuracy\nprint(f'Baseline accuracy is {baseline_accuracy}')",
   "metadata": {
    "tags": [],
    "cell_id": "00023-ee3157ba-14d0-4f4c-add3-3525628778f2",
    "deepnote_to_be_reexecuted": false,
    "source_hash": "71519740",
    "execution_start": 1621912021898,
    "execution_millis": 8,
    "deepnote_cell_type": "code"
   },
   "outputs": [
    {
     "name": "stdout",
     "text": "Baseline accuracy is 0.5101\n",
     "output_type": "stream"
    }
   ],
   "execution_count": 27
  },
  {
   "cell_type": "markdown",
   "source": "\n\n\nRandom Forest ",
   "metadata": {
    "tags": [],
    "cell_id": "00023-515ba470-8d61-4094-b604-b79976dbf9f0",
    "deepnote_cell_type": "markdown"
   }
  },
  {
   "cell_type": "code",
   "source": "from sklearn.ensemble import RandomForestClassifier\nfrom sklearn.metrics import classification_report\nfrom sklearn.metrics import confusion_matrix\n\n# create the model \nrf = RandomForestClassifier(bootstrap=True, \n                            class_weight=None, \n                            criterion='gini',\n                            min_samples_leaf=3,\n                            n_estimators=100,\n                            max_depth=3, \n                            random_state=123)\n\n",
   "metadata": {
    "tags": [],
    "cell_id": "00024-d3ef19db-34d5-418f-ada7-9aad1834afac",
    "deepnote_to_be_reexecuted": false,
    "source_hash": "5fe20fb4",
    "execution_start": 1621912021899,
    "execution_millis": 0,
    "deepnote_cell_type": "code"
   },
   "outputs": [],
   "execution_count": 28
  },
  {
   "cell_type": "code",
   "source": "# fit the model\nrf.fit(train2, y_train)\n\n\n# Find feature importance\nprint(rf.feature_importances_)\n\n",
   "metadata": {
    "tags": [],
    "cell_id": "00025-f804edfc-1bef-44b2-bbcf-46ada16d5e0a",
    "deepnote_to_be_reexecuted": false,
    "source_hash": "35f21c7",
    "execution_start": 1621912021942,
    "execution_millis": 330,
    "deepnote_cell_type": "code"
   },
   "outputs": [
    {
     "name": "stderr",
     "text": "/shared-libs/python3.7/py-core/lib/python3.7/site-packages/ipykernel_launcher.py:2: DataConversionWarning: A column-vector y was passed when a 1d array was expected. Please change the shape of y to (n_samples,), for example using ravel().\n  \n[1.96071945e-02 1.22853569e-02 4.84143166e-03 3.34139627e-03\n 2.47178718e-04 3.00992294e-01 0.00000000e+00 1.89830391e-01\n 6.81534886e-02 3.20080971e-03 4.36342151e-02 4.60627880e-03\n 3.30915386e-03 4.74121724e-02 1.56020790e-01 5.80675719e-04\n 1.10264299e-03 1.59446520e-03 1.91198224e-03 5.62825441e-03\n 6.78772459e-03 1.31126551e-02 1.26119560e-02 1.62446707e-02\n 5.37994907e-03 3.70477680e-03 1.74979101e-03 4.47276838e-03\n 5.93582050e-02 1.21445742e-03 0.00000000e+00 5.01111614e-04\n 1.63743177e-03 1.62864183e-03 8.47045404e-04 3.65413333e-04\n 1.29021195e-03 7.93018439e-04]\n",
     "output_type": "stream"
    }
   ],
   "execution_count": 29
  },
  {
   "cell_type": "markdown",
   "source": "### Random Forest generated list of feature importances",
   "metadata": {
    "tags": [],
    "cell_id": "00031-3c145fb2-efd7-41f2-bda6-9dbe91c38e86",
    "deepnote_cell_type": "markdown"
   },
   "outputs": [],
   "execution_count": null
  },
  {
   "cell_type": "code",
   "source": "feature_names = list(train2.columns)\n\nplt.figure(figsize=(12, 11))\nplt.barh(feature_names, rf.feature_importances_)\n\n",
   "metadata": {
    "tags": [],
    "cell_id": "00031-9166225f-f78f-41b3-85c5-f2309d845c2f",
    "deepnote_to_be_reexecuted": false,
    "source_hash": "d09a482e",
    "execution_start": 1621913862843,
    "execution_millis": 904,
    "deepnote_cell_type": "code"
   },
   "outputs": [
    {
     "output_type": "execute_result",
     "execution_count": 68,
     "data": {
      "text/plain": "<BarContainer object of 38 artists>"
     },
     "metadata": {}
    },
    {
     "data": {
      "text/plain": "<Figure size 864x792 with 1 Axes>",
      "image/png": "[encoded data removed]"
     },
     "metadata": {
      "needs_background": "light",
      "image/png": {
       "width": 863,
       "height": 629
      }
     },
     "output_type": "display_data"
    }
   ],
   "execution_count": 68
  },
  {
   "cell_type": "markdown",
   "source": "### Top Features according to Random Forest: (ordered greatest to least)\nwas_fleeing<br>\nwas_allegedly_armed<br>\nwas_violent_crime<br>\nwas_unarmed<br>\nage\n",
   "metadata": {
    "tags": [],
    "cell_id": "00033-cef110d8-e52d-4feb-9815-1809a71b4f18",
    "deepnote_cell_type": "markdown"
   }
  },
  {
   "cell_type": "code",
   "source": "train2.columns",
   "metadata": {
    "tags": [],
    "cell_id": "00026-ca4a9c6e-9836-498a-ae28-c6186e40a41f",
    "deepnote_to_be_reexecuted": false,
    "source_hash": "b18318e7",
    "execution_start": 1621912022271,
    "execution_millis": 6,
    "deepnote_cell_type": "code"
   },
   "outputs": [
    {
     "output_type": "execute_result",
     "execution_count": 30,
     "data": {
      "text/plain": "Index(['age', 'body_camera', 'is_female', 'is_male', 'is_transgender',\n       'was_fleeing', 'was_not fleeing ', 'was_allegedly_armed', 'was_unarmed',\n       'was_vehicle', 'was_domestic_disturbance',\n       'was_mental_health_welfare_check', 'was_person_with_a_weapon',\n       'was_traffic_stop', 'was_violent_crime_part_1',\n       'is_asian/pacific islander', 'is_black', 'is_hispanic',\n       'is_native american', 'is_unknown race', 'is_white',\n       'mntlill_drug or alcohol use', 'mntlill_no', 'mntlill_unknown',\n       'mntlill_yes', 'rural', 'suburban', 'urban', 'cod_lethal', 'unknown',\n       'under 12', '12-17', '18-24', '25-34', '35-44', '45-54', '55-64',\n       '65+'],\n      dtype='object')"
     },
     "metadata": {}
    }
   ],
   "execution_count": 30
  },
  {
   "cell_type": "code",
   "source": "# make predictions\ny_pred = rf.predict(train2)\n\n# estimate probability\ny_pred_proba = rf.predict_proba(train2)\n\n\n#Compute accuracy\ntrain_accuracy = round(rf.score(train2, y_train),2)\nprint('Accuracy of random forest classifier on training set: {:.2f}'\n     .format(rf.score(train2, y_train)))\n",
   "metadata": {
    "tags": [],
    "cell_id": "00027-d3f95a7f-fd59-45c6-a522-728d8e97850e",
    "deepnote_to_be_reexecuted": false,
    "source_hash": "9330a7f8",
    "execution_start": 1621912022315,
    "execution_millis": 130,
    "deepnote_cell_type": "code"
   },
   "outputs": [
    {
     "name": "stdout",
     "text": "Accuracy of random forest classifier on training set: 0.70\n",
     "output_type": "stream"
    }
   ],
   "execution_count": 31
  },
  {
   "cell_type": "code",
   "source": "# run classification report\nprint(classification_report(y_train, y_pred))",
   "metadata": {
    "tags": [],
    "cell_id": "00028-55ef49e9-e134-4cba-b91b-a01bb25a1347",
    "deepnote_to_be_reexecuted": false,
    "source_hash": "571ca5f9",
    "execution_start": 1621912022476,
    "execution_millis": 75,
    "deepnote_cell_type": "code"
   },
   "outputs": [
    {
     "name": "stdout",
     "text": "              precision    recall  f1-score   support\n\n         0.0       0.71      0.70      0.71      2466\n         1.0       0.70      0.70      0.70      2368\n\n    accuracy                           0.70      4834\n   macro avg       0.70      0.70      0.70      4834\nweighted avg       0.70      0.70      0.70      4834\n\n",
     "output_type": "stream"
    }
   ],
   "execution_count": 32
  },
  {
   "cell_type": "code",
   "source": "# fit the model on validate\nrf.fit(validate2, y_validate)\n\n# make predictions\ny_pred_val = rf.predict(validate2)\n\n# estimate probability\ny_pred_val_proba = rf.predict_proba(validate2)\n\n#Compute accuracy\nvalidate_accuracy = round(rf.score(validate2, y_validate),2)\nprint('Accuracy of random forest classifier on validate set: {:.2f}'\n     .format(rf.score(validate2, y_validate)))\n",
   "metadata": {
    "tags": [],
    "cell_id": "00032-8cf1818c-8672-4d06-a947-445812a92a61",
    "deepnote_to_be_reexecuted": false,
    "source_hash": "3a14f657",
    "execution_start": 1621912022545,
    "execution_millis": 580,
    "deepnote_cell_type": "code"
   },
   "outputs": [
    {
     "name": "stdout",
     "text": "Accuracy of random forest classifier on validate set: 0.72\n",
     "output_type": "stream"
    }
   ],
   "execution_count": 33
  },
  {
   "cell_type": "code",
   "source": "# run classification report on validate\nprint(classification_report(y_validate, y_pred_val))",
   "metadata": {
    "tags": [],
    "cell_id": "00032-af4eb133-581a-4f99-9bfc-ec69559453c0",
    "deepnote_to_be_reexecuted": false,
    "source_hash": "bb080a19",
    "execution_start": 1621912023120,
    "execution_millis": 23,
    "deepnote_cell_type": "code"
   },
   "outputs": [
    {
     "name": "stdout",
     "text": "              precision    recall  f1-score   support\n\n         0.0       0.72      0.72      0.72      1053\n         1.0       0.71      0.71      0.71      1020\n\n    accuracy                           0.72      2073\n   macro avg       0.72      0.72      0.72      2073\nweighted avg       0.72      0.72      0.72      2073\n\n",
     "output_type": "stream"
    }
   ],
   "execution_count": 34
  },
  {
   "cell_type": "code",
   "source": "def get_metrics_bin(clf, X, y):\n    '''\n    get_metrics_bin will take in a sklearn classifier model, an X and a y variable and utilize\n    the model to make a prediction and then gather accuracy, class report evaluations\n\n    return:  a classification report as a pandas DataFrame\n    '''\n    y_pred = clf.predict(X)\n    accuracy = clf.score(X, y)\n    conf = confusion_matrix(y, y_pred)\n    class_report = pd.DataFrame(classification_report(y, y_pred, output_dict=True)).T\n    tpr = conf[1][1] / conf[1].sum()\n    fpr = conf[0][1] / conf[0].sum()\n    tnr = conf[0][0] / conf[0].sum()\n    fnr = conf[1][0] / conf[1].sum()\n    print(f'''\n    The accuracy for our model is {accuracy:.4}\n    The True Positive Rate is {tpr:.3}, The False Positive Rate is {fpr:.3},\n    The True Negative Rate is {tnr:.3}, and the False Negative Rate is {fnr:.3}\n    ''')\n    return class_report",
   "metadata": {
    "tags": [],
    "cell_id": "00034-3c2f89f9-ae98-4ab6-9f40-5f87b1e4df6b",
    "deepnote_to_be_reexecuted": false,
    "source_hash": "a5201d0f",
    "execution_start": 1621912023175,
    "execution_millis": 5,
    "deepnote_cell_type": "code"
   },
   "outputs": [],
   "execution_count": 35
  },
  {
   "cell_type": "code",
   "source": "# X = validate2\n# clf = RandomForestClassifier\n# print('Model #1: min samples 3, max depth 3')\n# class_report_val = get_metrics_bin(clf, validate2, y_validate)\n# # print('-------------------------------------------\\n Model #2: min samples 3, max_depth 3\\n')\n# # class_report_val1 = get_metrics_bin(clf1, X_val, y_val)",
   "metadata": {
    "tags": [],
    "cell_id": "00034-21f54af0-6d73-4293-bb45-c42cc0a79e49",
    "deepnote_to_be_reexecuted": false,
    "source_hash": "c1f85ee1",
    "execution_start": 1621912023183,
    "execution_millis": 2,
    "deepnote_cell_type": "code"
   },
   "outputs": [],
   "execution_count": 36
  },
  {
   "cell_type": "markdown",
   "source": "### Takeaways on Random Forest Classifier Model (max depth 3):\n\nBaseline accuracy = 51% <br>\nAccuracy on Train = 70% <br>\nAccuracy on Validate = 72%",
   "metadata": {
    "tags": [],
    "cell_id": "00029-b74715f9-548b-430d-8ce6-cbba70590e45",
    "deepnote_to_be_reexecuted": false,
    "source_hash": "bb95de7",
    "execution_start": 1621894512751,
    "execution_millis": 11,
    "deepnote_cell_type": "markdown"
   },
   "outputs": [],
   "execution_count": 56
  },
  {
   "cell_type": "code",
   "source": "\n#begin building a dataframe to record accuracy\nmetric_df = pd.DataFrame(data=[{\n    'model': 'random forest', \n    'baseline_accuracy': round(baseline_accuracy,2),\n    'train_accuracy': round(train_accuracy, 2),\n    'validate_accuracy': round(validate_accuracy, 2)}])\nmetric_df",
   "metadata": {
    "tags": [],
    "cell_id": "00032-2b00238d-061d-4bec-ae1a-bb5677d827a1",
    "deepnote_to_be_reexecuted": false,
    "source_hash": "2e7e6100",
    "execution_start": 1621912023188,
    "execution_millis": 74,
    "deepnote_cell_type": "code"
   },
   "outputs": [
    {
     "output_type": "execute_result",
     "execution_count": 37,
     "data": {
      "application/vnd.deepnote.dataframe.v2+json": {
       "row_count": 1,
       "column_count": 4,
       "columns": [
        {
         "name": "model",
         "dtype": "object",
         "stats": {
          "unique_count": 1,
          "nan_count": 0,
          "categories": [
           {
            "name": "random forest",
            "count": 1
           }
          ]
         }
        },
        {
         "name": "baseline_accuracy",
         "dtype": "float64",
         "stats": {
          "unique_count": 1,
          "nan_count": 0,
          "min": "0.51",
          "max": "0.51",
          "histogram": [
           {
            "bin_start": 0.010000000000000009,
            "bin_end": 0.11000000000000001,
            "count": 0
           },
           {
            "bin_start": 0.11000000000000001,
            "bin_end": 0.21000000000000002,
            "count": 0
           },
           {
            "bin_start": 0.21000000000000002,
            "bin_end": 0.31000000000000005,
            "count": 0
           },
           {
            "bin_start": 0.31000000000000005,
            "bin_end": 0.41000000000000003,
            "count": 0
           },
           {
            "bin_start": 0.41000000000000003,
            "bin_end": 0.51,
            "count": 0
           },
           {
            "bin_start": 0.51,
            "bin_end": 0.6100000000000001,
            "count": 1
           },
           {
            "bin_start": 0.6100000000000001,
            "bin_end": 0.7100000000000001,
            "count": 0
           },
           {
            "bin_start": 0.7100000000000001,
            "bin_end": 0.81,
            "count": 0
           },
           {
            "bin_start": 0.81,
            "bin_end": 0.91,
            "count": 0
           },
           {
            "bin_start": 0.91,
            "bin_end": 1.01,
            "count": 0
           }
          ]
         }
        },
        {
         "name": "train_accuracy",
         "dtype": "float64",
         "stats": {
          "unique_count": 1,
          "nan_count": 0,
          "min": "0.7",
          "max": "0.7",
          "histogram": [
           {
            "bin_start": 0.19999999999999996,
            "bin_end": 0.29999999999999993,
            "count": 0
           },
           {
            "bin_start": 0.29999999999999993,
            "bin_end": 0.39999999999999997,
            "count": 0
           },
           {
            "bin_start": 0.39999999999999997,
            "bin_end": 0.5,
            "count": 0
           },
           {
            "bin_start": 0.5,
            "bin_end": 0.6,
            "count": 0
           },
           {
            "bin_start": 0.6,
            "bin_end": 0.7,
            "count": 0
           },
           {
            "bin_start": 0.7,
            "bin_end": 0.8,
            "count": 1
           },
           {
            "bin_start": 0.8,
            "bin_end": 0.9,
            "count": 0
           },
           {
            "bin_start": 0.9,
            "bin_end": 1,
            "count": 0
           },
           {
            "bin_start": 1,
            "bin_end": 1.1,
            "count": 0
           },
           {
            "bin_start": 1.1,
            "bin_end": 1.2,
            "count": 0
           }
          ]
         }
        },
        {
         "name": "validate_accuracy",
         "dtype": "float64",
         "stats": {
          "unique_count": 1,
          "nan_count": 0,
          "min": "0.72",
          "max": "0.72",
          "histogram": [
           {
            "bin_start": 0.21999999999999997,
            "bin_end": 0.31999999999999995,
            "count": 0
           },
           {
            "bin_start": 0.31999999999999995,
            "bin_end": 0.42,
            "count": 0
           },
           {
            "bin_start": 0.42,
            "bin_end": 0.52,
            "count": 0
           },
           {
            "bin_start": 0.52,
            "bin_end": 0.62,
            "count": 0
           },
           {
            "bin_start": 0.62,
            "bin_end": 0.72,
            "count": 0
           },
           {
            "bin_start": 0.72,
            "bin_end": 0.8200000000000001,
            "count": 1
           },
           {
            "bin_start": 0.8200000000000001,
            "bin_end": 0.92,
            "count": 0
           },
           {
            "bin_start": 0.92,
            "bin_end": 1.02,
            "count": 0
           },
           {
            "bin_start": 1.02,
            "bin_end": 1.12,
            "count": 0
           },
           {
            "bin_start": 1.12,
            "bin_end": 1.22,
            "count": 0
           }
          ]
         }
        },
        {
         "name": "_deepnote_index_column",
         "dtype": "int64"
        }
       ],
       "rows_top": [
        {
         "model": "random forest",
         "baseline_accuracy": 0.51,
         "train_accuracy": 0.7,
         "validate_accuracy": 0.72,
         "_deepnote_index_column": 0
        }
       ],
       "rows_bottom": null
      },
      "text/plain": "           model  baseline_accuracy  train_accuracy  validate_accuracy\n0  random forest               0.51             0.7               0.72",
      "text/html": "<div>\n<style scoped>\n    .dataframe tbody tr th:only-of-type {\n        vertical-align: middle;\n    }\n\n    .dataframe tbody tr th {\n        vertical-align: top;\n    }\n\n    .dataframe thead th {\n        text-align: right;\n    }\n</style>\n<table border=\"1\" class=\"dataframe\">\n  <thead>\n    <tr style=\"text-align: right;\">\n      <th></th>\n      <th>model</th>\n      <th>baseline_accuracy</th>\n      <th>train_accuracy</th>\n      <th>validate_accuracy</th>\n    </tr>\n  </thead>\n  <tbody>\n    <tr>\n      <th>0</th>\n      <td>random forest</td>\n      <td>0.51</td>\n      <td>0.7</td>\n      <td>0.72</td>\n    </tr>\n  </tbody>\n</table>\n</div>"
     },
     "metadata": {}
    }
   ],
   "execution_count": 37
  },
  {
   "cell_type": "code",
   "source": "",
   "metadata": {
    "cell_id": "00037-c7741957-35d0-43c9-b5e6-fff0faebc2a6",
    "deepnote_to_be_reexecuted": false,
    "source_hash": "b623e53d",
    "execution_start": 1621912023255,
    "execution_millis": 1,
    "deepnote_cell_type": "visualization"
   },
   "outputs": [],
   "execution_count": 37
  },
  {
   "cell_type": "markdown",
   "source": "### Naive Bayes\nNaïve Bayes Classifier is one of the simple and most effective Classification algorithms which helps in building fast machine learning models that can make quick predictions. It is a probabilistic classifier, which means it predicts on the basis of the probability of an object. It's biggest limitation is that it implicitly assumes that all the attributes are mutually independent. (In real life, it's almost impossible that we get a set of predictors that are completely independent or one another.)",
   "metadata": {
    "tags": [],
    "cell_id": "00036-bc2283cf-5389-4db5-b928-2d9743c2a13b",
    "deepnote_to_be_reexecuted": false,
    "source_hash": "99d3384f",
    "execution_start": 1621900322718,
    "execution_millis": 7,
    "deepnote_cell_type": "markdown"
   },
   "outputs": [],
   "execution_count": 33
  },
  {
   "outputs": [
    {
     "name": "stderr",
     "text": "/shared-libs/python3.7/py/lib/python3.7/site-packages/sklearn/utils/validation.py:63: DataConversionWarning: A column-vector y was passed when a 1d array was expected. Please change the shape of y to (n_samples, ), for example using ravel().\n  return f(*args, **kwargs)\n",
     "output_type": "stream"
    },
    {
     "output_type": "execute_result",
     "execution_count": 38,
     "data": {
      "text/plain": "CategoricalNB()"
     },
     "metadata": {}
    }
   ],
   "cell_type": "code",
   "source": "from sklearn.naive_bayes import CategoricalNB\n\n# make the model\nclassifier = CategoricalNB()\n\n# fit the model\nclassifier.fit(train2, y_train)",
   "metadata": {
    "tags": [],
    "cell_id": "00038-bf577518-5ce8-4a7c-b12c-ad63c5c4e317",
    "deepnote_to_be_reexecuted": false,
    "source_hash": "fe51bc76",
    "execution_start": 1621912023256,
    "execution_millis": 51,
    "deepnote_cell_type": "code"
   },
   "execution_count": 38
  },
  {
   "cell_type": "code",
   "source": "# make predictions on train\nnb_y_pred  =  classifier.predict(train2)\n\n# make predictions on validate\nnb_y_val_pred  =  classifier.predict(validate2)",
   "metadata": {
    "tags": [],
    "cell_id": "00039-f8de9f52-1243-4ab5-99f1-55dad9c3156b",
    "deepnote_to_be_reexecuted": false,
    "source_hash": "dad90cf1",
    "execution_start": 1621912023346,
    "execution_millis": 1,
    "deepnote_cell_type": "code"
   },
   "outputs": [],
   "execution_count": 39
  },
  {
   "cell_type": "code",
   "source": "# evaluate model on train\nfrom sklearn.metrics import confusion_matrix,accuracy_score\ncm_train = confusion_matrix(y_train, nb_y_pred)\nac_train = accuracy_score(y_train,nb_y_pred)",
   "metadata": {
    "tags": [],
    "cell_id": "00040-8012050f-8a4d-4414-b974-95543fe6cd30",
    "deepnote_to_be_reexecuted": false,
    "source_hash": "20ca0f84",
    "execution_start": 1621912023347,
    "execution_millis": 1,
    "deepnote_cell_type": "code"
   },
   "outputs": [],
   "execution_count": 40
  },
  {
   "cell_type": "code",
   "source": "# evaluate model on validate\ncm_validate = confusion_matrix(y_validate, nb_y_val_pred)\nac_validate = accuracy_score(y_validate,nb_y_val_pred)",
   "metadata": {
    "tags": [],
    "cell_id": "00041-00cf078f-1b1f-486a-84f1-724cb86ded7a",
    "deepnote_to_be_reexecuted": false,
    "source_hash": "85adb028",
    "execution_start": 1621912023348,
    "execution_millis": 43,
    "deepnote_cell_type": "code"
   },
   "outputs": [],
   "execution_count": 41
  },
  {
   "cell_type": "code",
   "source": "print('Accuracy of Naive Bayes Gaussian Classifier on train set: {:.2f}'.format(ac_train))\nprint('Accuracy of Naive Bayes Gaussian Classifier on validate set: {:.2f}'.format(ac_validate))",
   "metadata": {
    "tags": [],
    "cell_id": "00042-307e743c-b4e2-46dd-9a4e-be45fb381299",
    "deepnote_to_be_reexecuted": false,
    "source_hash": "98109a86",
    "execution_start": 1621912023391,
    "execution_millis": 9,
    "deepnote_cell_type": "code"
   },
   "outputs": [
    {
     "name": "stdout",
     "text": "Accuracy of Naive Bayes Gaussian Classifier on train set: 0.70\nAccuracy of Naive Bayes Gaussian Classifier on validate set: 0.68\n",
     "output_type": "stream"
    }
   ],
   "execution_count": 42
  },
  {
   "cell_type": "markdown",
   "source": "### Takeaways on Naive Bayes Model:\nBaseline accuracy = 51% <br>\nAccuracy on Train = 70% <br>\nAccuracy on Validate = 68%",
   "metadata": {
    "tags": [],
    "cell_id": "00045-9732d597-06db-4357-a678-493f3cbeec4c",
    "deepnote_to_be_reexecuted": false,
    "source_hash": "94e0f3ab",
    "execution_start": 1621902072354,
    "execution_millis": 7,
    "deepnote_cell_type": "markdown"
   },
   "outputs": [],
   "execution_count": 40
  },
  {
   "cell_type": "markdown",
   "source": "### Dataframe Summarizing Models",
   "metadata": {
    "tags": [],
    "cell_id": "00035-1f82fffe-df47-4cc4-a31c-a9432e509979",
    "deepnote_cell_type": "markdown"
   }
  },
  {
   "cell_type": "code",
   "source": "# append dataframe to record accuracy on Naive Bayes\nmetric_df = metric_df.append({\n    'model': 'naive bayes', \n    'baseline_accuracy': round(baseline_accuracy,2),\n    'train_accuracy': round(ac_train, 2),\n    'validate_accuracy':round(ac_validate,2)}, ignore_index=True)\n  \n\n\nmetric_df",
   "metadata": {
    "tags": [],
    "cell_id": "00043-c8dcda21-b9ad-414d-b940-a027a05dced4",
    "deepnote_to_be_reexecuted": false,
    "source_hash": "bce38aaf",
    "execution_start": 1621912023396,
    "execution_millis": 73,
    "deepnote_cell_type": "code"
   },
   "outputs": [
    {
     "output_type": "execute_result",
     "execution_count": 43,
     "data": {
      "application/vnd.deepnote.dataframe.v2+json": {
       "row_count": 2,
       "column_count": 4,
       "columns": [
        {
         "name": "model",
         "dtype": "object",
         "stats": {
          "unique_count": 2,
          "nan_count": 0,
          "categories": [
           {
            "name": "random forest",
            "count": 1
           },
           {
            "name": "naive bayes",
            "count": 1
           }
          ]
         }
        },
        {
         "name": "baseline_accuracy",
         "dtype": "float64",
         "stats": {
          "unique_count": 1,
          "nan_count": 0,
          "min": "0.51",
          "max": "0.51",
          "histogram": [
           {
            "bin_start": 0.010000000000000009,
            "bin_end": 0.11000000000000001,
            "count": 0
           },
           {
            "bin_start": 0.11000000000000001,
            "bin_end": 0.21000000000000002,
            "count": 0
           },
           {
            "bin_start": 0.21000000000000002,
            "bin_end": 0.31000000000000005,
            "count": 0
           },
           {
            "bin_start": 0.31000000000000005,
            "bin_end": 0.41000000000000003,
            "count": 0
           },
           {
            "bin_start": 0.41000000000000003,
            "bin_end": 0.51,
            "count": 0
           },
           {
            "bin_start": 0.51,
            "bin_end": 0.6100000000000001,
            "count": 2
           },
           {
            "bin_start": 0.6100000000000001,
            "bin_end": 0.7100000000000001,
            "count": 0
           },
           {
            "bin_start": 0.7100000000000001,
            "bin_end": 0.81,
            "count": 0
           },
           {
            "bin_start": 0.81,
            "bin_end": 0.91,
            "count": 0
           },
           {
            "bin_start": 0.91,
            "bin_end": 1.01,
            "count": 0
           }
          ]
         }
        },
        {
         "name": "train_accuracy",
         "dtype": "float64",
         "stats": {
          "unique_count": 1,
          "nan_count": 0,
          "min": "0.7",
          "max": "0.7",
          "histogram": [
           {
            "bin_start": 0.19999999999999996,
            "bin_end": 0.29999999999999993,
            "count": 0
           },
           {
            "bin_start": 0.29999999999999993,
            "bin_end": 0.39999999999999997,
            "count": 0
           },
           {
            "bin_start": 0.39999999999999997,
            "bin_end": 0.5,
            "count": 0
           },
           {
            "bin_start": 0.5,
            "bin_end": 0.6,
            "count": 0
           },
           {
            "bin_start": 0.6,
            "bin_end": 0.7,
            "count": 0
           },
           {
            "bin_start": 0.7,
            "bin_end": 0.8,
            "count": 2
           },
           {
            "bin_start": 0.8,
            "bin_end": 0.9,
            "count": 0
           },
           {
            "bin_start": 0.9,
            "bin_end": 1,
            "count": 0
           },
           {
            "bin_start": 1,
            "bin_end": 1.1,
            "count": 0
           },
           {
            "bin_start": 1.1,
            "bin_end": 1.2,
            "count": 0
           }
          ]
         }
        },
        {
         "name": "validate_accuracy",
         "dtype": "float64",
         "stats": {
          "unique_count": 2,
          "nan_count": 0,
          "min": "0.68",
          "max": "0.72",
          "histogram": [
           {
            "bin_start": 0.68,
            "bin_end": 0.684,
            "count": 1
           },
           {
            "bin_start": 0.684,
            "bin_end": 0.6880000000000001,
            "count": 0
           },
           {
            "bin_start": 0.6880000000000001,
            "bin_end": 0.6920000000000001,
            "count": 0
           },
           {
            "bin_start": 0.6920000000000001,
            "bin_end": 0.6960000000000001,
            "count": 0
           },
           {
            "bin_start": 0.6960000000000001,
            "bin_end": 0.7,
            "count": 0
           },
           {
            "bin_start": 0.7,
            "bin_end": 0.704,
            "count": 0
           },
           {
            "bin_start": 0.704,
            "bin_end": 0.708,
            "count": 0
           },
           {
            "bin_start": 0.708,
            "bin_end": 0.712,
            "count": 0
           },
           {
            "bin_start": 0.712,
            "bin_end": 0.716,
            "count": 0
           },
           {
            "bin_start": 0.716,
            "bin_end": 0.72,
            "count": 1
           }
          ]
         }
        },
        {
         "name": "_deepnote_index_column",
         "dtype": "int64"
        }
       ],
       "rows_top": [
        {
         "model": "random forest",
         "baseline_accuracy": 0.51,
         "train_accuracy": 0.7,
         "validate_accuracy": 0.72,
         "_deepnote_index_column": 0
        },
        {
         "model": "naive bayes",
         "baseline_accuracy": 0.51,
         "train_accuracy": 0.7,
         "validate_accuracy": 0.68,
         "_deepnote_index_column": 1
        }
       ],
       "rows_bottom": null
      },
      "text/plain": "           model  baseline_accuracy  train_accuracy  validate_accuracy\n0  random forest               0.51             0.7               0.72\n1    naive bayes               0.51             0.7               0.68",
      "text/html": "<div>\n<style scoped>\n    .dataframe tbody tr th:only-of-type {\n        vertical-align: middle;\n    }\n\n    .dataframe tbody tr th {\n        vertical-align: top;\n    }\n\n    .dataframe thead th {\n        text-align: right;\n    }\n</style>\n<table border=\"1\" class=\"dataframe\">\n  <thead>\n    <tr style=\"text-align: right;\">\n      <th></th>\n      <th>model</th>\n      <th>baseline_accuracy</th>\n      <th>train_accuracy</th>\n      <th>validate_accuracy</th>\n    </tr>\n  </thead>\n  <tbody>\n    <tr>\n      <th>0</th>\n      <td>random forest</td>\n      <td>0.51</td>\n      <td>0.7</td>\n      <td>0.72</td>\n    </tr>\n    <tr>\n      <th>1</th>\n      <td>naive bayes</td>\n      <td>0.51</td>\n      <td>0.7</td>\n      <td>0.68</td>\n    </tr>\n  </tbody>\n</table>\n</div>"
     },
     "metadata": {}
    }
   ],
   "execution_count": 43
  },
  {
   "cell_type": "markdown",
   "source": "",
   "metadata": {
    "tags": [],
    "cell_id": "00046-8a5b83a8-30e3-483a-b5ca-c5cc36802154",
    "deepnote_cell_type": "markdown"
   }
  },
  {
   "cell_type": "markdown",
   "source": "### GridSearchCV",
   "metadata": {
    "tags": [],
    "cell_id": "00046-217bb1dc-a743-42a8-ab02-21847598bdbc",
    "deepnote_cell_type": "markdown"
   },
   "outputs": [],
   "execution_count": null
  },
  {
   "cell_type": "code",
   "source": "# ignore warnings\nimport warnings\nwarnings.filterwarnings(\"ignore\")\nfrom sklearn.model_selection import RandomizedSearchCV, GridSearchCV\nfrom scipy.stats import uniform",
   "metadata": {
    "tags": [],
    "cell_id": "00047-35748be9-71e7-4d9e-bddb-b1cf454b54f1",
    "deepnote_to_be_reexecuted": false,
    "source_hash": "2264946b",
    "execution_start": 1621912023463,
    "execution_millis": 0,
    "deepnote_cell_type": "code"
   },
   "outputs": [],
   "execution_count": 44
  },
  {
   "cell_type": "code",
   "source": "# Create a parameter dictionary for the model, {'parameter': [list of settings]}\nparameters = [\n    {\n    'alpha': [0.0001, 0.001, 0.01, 0.1, 1],\n    'shuffle': [True, False],\n    'verbose': [0, 1, 5, 10],\n    'class_weight': [None, 'balanced'],\n    },\n]\n# Created variable model which holds the KNN model\nmodel = SGDClassifier()\n# Create grid_search model, looking at recall\ngrid_search = GridSearchCV(model,\n                           param_grid=parameters,\n                           scoring='accuracy',\n                           )\n# Create variable r that hold the FIT grid_search\nr = grid_search.fit(X_train[f_feature], y_train)\nscores = r.cv_results_\nlm = r.best_estimator_",
   "metadata": {
    "tags": [],
    "cell_id": "00048-22ef8f8c-abdc-423c-83c9-d63f8767c7d9",
    "deepnote_to_be_reexecuted": false,
    "source_hash": "cd3ac985",
    "execution_start": 1621912023463,
    "execution_millis": 68146,
    "is_output_hidden": true,
    "deepnote_cell_type": "code"
   },
   "outputs": [
    {
     "name": "stdout",
     "text": "Norm: 0.21, NNZs: 15, Bias: 0.670990, T: 34803, Avg. loss: 0.967760\nTotal training time: 0.08 seconds.\n-- Epoch 10\nNorm: 0.21, NNZs: 15, Bias: 0.669549, T: 38670, Avg. loss: 0.963642\nTotal training time: 0.08 seconds.\n-- Epoch 11\nNorm: 0.21, NNZs: 15, Bias: 0.668289, T: 42537, Avg. loss: 0.972609\nTotal training time: 0.08 seconds.\n-- Epoch 12\nNorm: 0.21, NNZs: 15, Bias: 0.666853, T: 46404, Avg. loss: 0.965811\nTotal training time: 0.08 seconds.\n-- Epoch 13\nNorm: 0.22, NNZs: 15, Bias: 0.666050, T: 50271, Avg. loss: 0.962365\nTotal training time: 0.08 seconds.\nConvergence after 13 epochs took 0.08 seconds\n-- Epoch 1\nNorm: 0.17, NNZs: 15, Bias: 0.373963, T: 3867, Avg. loss: 1.878961\nTotal training time: 0.06 seconds.\n-- Epoch 2\nNorm: 0.19, NNZs: 15, Bias: 0.361835, T: 7734, Avg. loss: 1.009328\nTotal training time: 0.07 seconds.\n-- Epoch 3\nNorm: 0.19, NNZs: 15, Bias: 0.355566, T: 11601, Avg. loss: 0.985802\nTotal training time: 0.07 seconds.\n-- Epoch 4\nNorm: 0.20, NNZs: 15, Bias: 0.352021, T: 15468, Avg. loss: 0.962991\nTotal training time: 0.07 seconds.\n-- Epoch 5\nNorm: 0.20, NNZs: 15, Bias: 0.348807, T: 19335, Avg. loss: 0.974611\nTotal training time: 0.07 seconds.\n-- Epoch 6\nNorm: 0.20, NNZs: 15, Bias: 0.346624, T: 23202, Avg. loss: 0.954404\nTotal training time: 0.07 seconds.\n-- Epoch 7\nNorm: 0.20, NNZs: 15, Bias: 0.344848, T: 27069, Avg. loss: 0.956608\nTotal training time: 0.08 seconds.\n-- Epoch 8\nNorm: 0.20, NNZs: 15, Bias: 0.343489, T: 30936, Avg. loss: 0.974782\nTotal training time: 0.08 seconds.\n-- Epoch 9\nNorm: 0.21, NNZs: 15, Bias: 0.342344, T: 34803, Avg. loss: 0.962757\nTotal training time: 0.08 seconds.\n-- Epoch 10\nNorm: 0.21, NNZs: 15, Bias: 0.340977, T: 38670, Avg. loss: 0.967899\nTotal training time: 0.08 seconds.\n-- Epoch 11\nNorm: 0.21, NNZs: 15, Bias: 0.340091, T: 42537, Avg. loss: 0.959733\nTotal training time: 0.08 seconds.\nConvergence after 11 epochs took 0.08 seconds\n-- Epoch 1\nNorm: 0.16, NNZs: 15, Bias: -0.881378, T: 3867, Avg. loss: 1.814180\nTotal training time: 0.00 seconds.\n-- Epoch 2\nNorm: 0.17, NNZs: 15, Bias: -0.875609, T: 7734, Avg. loss: 0.983006\nTotal training time: 0.05 seconds.\n-- Epoch 3\nNorm: 0.18, NNZs: 15, Bias: -0.872265, T: 11601, Avg. loss: 0.967106\nTotal training time: 0.05 seconds.\n-- Epoch 4\nNorm: 0.18, NNZs: 15, Bias: -0.872158, T: 15468, Avg. loss: 0.969757\nTotal training time: 0.05 seconds.\n-- Epoch 5\nNorm: 0.19, NNZs: 15, Bias: -0.870940, T: 19335, Avg. loss: 0.957647\nTotal training time: 0.05 seconds.\n-- Epoch 6\nNorm: 0.19, NNZs: 15, Bias: -0.870712, T: 23202, Avg. loss: 0.956990\nTotal training time: 0.06 seconds.\n-- Epoch 7\nNorm: 0.19, NNZs: 15, Bias: -0.870049, T: 27069, Avg. loss: 0.937149\nTotal training time: 0.06 seconds.\n-- Epoch 8\nNorm: 0.19, NNZs: 15, Bias: -0.869758, T: 30936, Avg. loss: 0.952216\nTotal training time: 0.06 seconds.\n-- Epoch 9\nNorm: 0.20, NNZs: 15, Bias: -0.869063, T: 34803, Avg. loss: 0.932712\nTotal training time: 0.06 seconds.\n-- Epoch 10\nNorm: 0.20, NNZs: 15, Bias: -0.868796, T: 38670, Avg. loss: 0.945794\nTotal training time: 0.06 seconds.\n-- Epoch 11\nNorm: 0.20, NNZs: 15, Bias: -0.869251, T: 42537, Avg. loss: 0.951766\nTotal training time: 0.06 seconds.\n-- Epoch 12\nNorm: 0.20, NNZs: 15, Bias: -0.869584, T: 46404, Avg. loss: 0.952732\nTotal training time: 0.07 seconds.\n-- Epoch 13\nNorm: 0.20, NNZs: 15, Bias: -0.869872, T: 50271, Avg. loss: 0.952377\nTotal training time: 0.07 seconds.\n-- Epoch 14\nNorm: 0.20, NNZs: 15, Bias: -0.869364, T: 54138, Avg. loss: 0.942346\nTotal training time: 0.07 seconds.\nConvergence after 14 epochs took 0.07 seconds\n-- Epoch 1\nNorm: 0.17, NNZs: 15, Bias: -0.641842, T: 3868, Avg. loss: 2.231883\nTotal training time: 0.00 seconds.\n-- Epoch 2\nNorm: 0.19, NNZs: 15, Bias: -0.642285, T: 7736, Avg. loss: 0.985503\nTotal training time: 0.00 seconds.\n-- Epoch 3\nNorm: 0.19, NNZs: 15, Bias: -0.643930, T: 11604, Avg. loss: 0.965169\nTotal training time: 0.00 seconds.\n-- Epoch 4\nNorm: 0.20, NNZs: 15, Bias: -0.645608, T: 15472, Avg. loss: 0.950641\nTotal training time: 0.00 seconds.\n-- Epoch 5\nNorm: 0.20, NNZs: 15, Bias: -0.646411, T: 19340, Avg. loss: 0.945769\nTotal training time: 0.00 seconds.\n-- Epoch 6\nNorm: 0.20, NNZs: 15, Bias: -0.647612, T: 23208, Avg. loss: 0.946204\nTotal training time: 0.00 seconds.\n-- Epoch 7\nNorm: 0.20, NNZs: 15, Bias: -0.649629, T: 27076, Avg. loss: 0.947394\nTotal training time: 0.00 seconds.\n-- Epoch 8\nNorm: 0.21, NNZs: 15, Bias: -0.650213, T: 30944, Avg. loss: 0.948897\nTotal training time: 0.01 seconds.\n-- Epoch 9\nNorm: 0.21, NNZs: 15, Bias: -0.650782, T: 34812, Avg. loss: 0.935941\nTotal training time: 0.01 seconds.\n-- Epoch 10\nNorm: 0.21, NNZs: 15, Bias: -0.651964, T: 38680, Avg. loss: 0.950432\nTotal training time: 0.01 seconds.\n-- Epoch 11\nNorm: 0.21, NNZs: 15, Bias: -0.652336, T: 42548, Avg. loss: 0.938615\nTotal training time: 0.01 seconds.\n-- Epoch 12\nNorm: 0.21, NNZs: 15, Bias: -0.653641, T: 46416, Avg. loss: 0.948324\nTotal training time: 0.01 seconds.\n-- Epoch 13\nNorm: 0.21, NNZs: 15, Bias: -0.654212, T: 50284, Avg. loss: 0.943093\nTotal training time: 0.06 seconds.\n-- Epoch 14\nNorm: 0.21, NNZs: 15, Bias: -0.654674, T: 54152, Avg. loss: 0.937805\nTotal training time: 0.06 seconds.\nConvergence after 14 epochs took 0.06 seconds\n-- Epoch 1\nNorm: 0.17, NNZs: 15, Bias: -0.005917, T: 3867, Avg. loss: 1.748108\nTotal training time: 0.00 seconds.\n-- Epoch 2\nNorm: 0.18, NNZs: 15, Bias: -0.016761, T: 7734, Avg. loss: 0.997668\nTotal training time: 0.00 seconds.\n-- Epoch 3\nNorm: 0.19, NNZs: 15, Bias: -0.020854, T: 11601, Avg. loss: 0.971825\nTotal training time: 0.00 seconds.\n-- Epoch 4\nNorm: 0.19, NNZs: 15, Bias: -0.024313, T: 15468, Avg. loss: 0.949810\nTotal training time: 0.01 seconds.\n-- Epoch 5\nNorm: 0.20, NNZs: 15, Bias: -0.027230, T: 19335, Avg. loss: 0.957376\nTotal training time: 0.01 seconds.\n-- Epoch 6\nNorm: 0.20, NNZs: 15, Bias: -0.029226, T: 23202, Avg. loss: 0.960360\nTotal training time: 0.01 seconds.\n-- Epoch 7\nNorm: 0.20, NNZs: 15, Bias: -0.030790, T: 27069, Avg. loss: 0.960079\nTotal training time: 0.01 seconds.\n-- Epoch 8\nNorm: 0.20, NNZs: 15, Bias: -0.032401, T: 30936, Avg. loss: 0.956107\nTotal training time: 0.01 seconds.\n-- Epoch 9\nNorm: 0.21, NNZs: 15, Bias: -0.033643, T: 34803, Avg. loss: 0.960541\nTotal training time: 0.01 seconds.\nConvergence after 9 epochs took 0.01 seconds\n-- Epoch 1\nNorm: 0.16, NNZs: 15, Bias: -0.662787, T: 3867, Avg. loss: 1.974541\nTotal training time: 0.00 seconds.\n-- Epoch 2\nNorm: 0.18, NNZs: 15, Bias: -0.662820, T: 7734, Avg. loss: 0.990280\nTotal training time: 0.00 seconds.\n-- Epoch 3\nNorm: 0.19, NNZs: 15, Bias: -0.664055, T: 11601, Avg. loss: 0.966560\nTotal training time: 0.01 seconds.\n-- Epoch 4\nNorm: 0.19, NNZs: 15, Bias: -0.665478, T: 15468, Avg. loss: 0.959379\nTotal training time: 0.01 seconds.\n-- Epoch 5\nNorm: 0.19, NNZs: 15, Bias: -0.666261, T: 19335, Avg. loss: 0.942237\nTotal training time: 0.01 seconds.\n-- Epoch 6\nNorm: 0.20, NNZs: 15, Bias: -0.666454, T: 23202, Avg. loss: 0.946307\nTotal training time: 0.01 seconds.\n-- Epoch 7\nNorm: 0.20, NNZs: 15, Bias: -0.668210, T: 27069, Avg. loss: 0.949514\nTotal training time: 0.01 seconds.\n-- Epoch 8\nNorm: 0.20, NNZs: 15, Bias: -0.668594, T: 30936, Avg. loss: 0.952187\nTotal training time: 0.01 seconds.\n-- Epoch 9\nNorm: 0.21, NNZs: 15, Bias: -0.669772, T: 34803, Avg. loss: 0.946988\nTotal training time: 0.01 seconds.\n-- Epoch 10\nNorm: 0.21, NNZs: 15, Bias: -0.670211, T: 38670, Avg. loss: 0.942739\nTotal training time: 0.02 seconds.\nConvergence after 10 epochs took 0.02 seconds\n-- Epoch 1\nNorm: 0.17, NNZs: 15, Bias: -0.724979, T: 3867, Avg. loss: 1.765278\nTotal training time: 0.01 seconds.\n-- Epoch 2\nNorm: 0.18, NNZs: 15, Bias: -0.725052, T: 7734, Avg. loss: 0.982045\nTotal training time: 0.01 seconds.\n-- Epoch 3\nNorm: 0.18, NNZs: 15, Bias: -0.725493, T: 11601, Avg. loss: 0.963005\nTotal training time: 0.01 seconds.\n-- Epoch 4\nNorm: 0.19, NNZs: 15, Bias: -0.726975, T: 15468, Avg. loss: 0.960379\nTotal training time: 0.01 seconds.\n-- Epoch 5\nNorm: 0.19, NNZs: 15, Bias: -0.728440, T: 19335, Avg. loss: 0.959635\nTotal training time: 0.01 seconds.\n-- Epoch 6\nNorm: 0.19, NNZs: 15, Bias: -0.729356, T: 23202, Avg. loss: 0.943839\nTotal training time: 0.02 seconds.\n-- Epoch 7\nNorm: 0.20, NNZs: 15, Bias: -0.729688, T: 27069, Avg. loss: 0.950941\nTotal training time: 0.02 seconds.\n-- Epoch 8\nNorm: 0.20, NNZs: 15, Bias: -0.730754, T: 30936, Avg. loss: 0.942371\nTotal training time: 0.02 seconds.\n-- Epoch 9\nNorm: 0.20, NNZs: 15, Bias: -0.731150, T: 34803, Avg. loss: 0.953713\nTotal training time: 0.02 seconds.\n-- Epoch 10\nNorm: 0.20, NNZs: 15, Bias: -0.732314, T: 38670, Avg. loss: 0.945578\nTotal training time: 0.02 seconds.\n-- Epoch 11\nNorm: 0.20, NNZs: 15, Bias: -0.732930, T: 42537, Avg. loss: 0.951020\nTotal training time: 0.02 seconds.\n-- Epoch 12\nNorm: 0.20, NNZs: 15, Bias: -0.733587, T: 46404, Avg. loss: 0.947831\nTotal training time: 0.02 seconds.\n-- Epoch 13\nNorm: 0.21, NNZs: 15, Bias: -0.734082, T: 50271, Avg. loss: 0.950121\nTotal training time: 0.02 seconds.\nConvergence after 13 epochs took 0.02 seconds\n-- Epoch 1\nNorm: 0.17, NNZs: 15, Bias: -0.538480, T: 3867, Avg. loss: 1.957030\nTotal training time: 0.00 seconds.\n-- Epoch 2\nNorm: 0.18, NNZs: 15, Bias: -0.539549, T: 7734, Avg. loss: 0.987959\nTotal training time: 0.00 seconds.\n-- Epoch 3\nNorm: 0.19, NNZs: 15, Bias: -0.540429, T: 11601, Avg. loss: 0.966030\nTotal training time: 0.05 seconds.\n-- Epoch 4\nNorm: 0.19, NNZs: 15, Bias: -0.541900, T: 15468, Avg. loss: 0.963653\nTotal training time: 0.05 seconds.\n-- Epoch 5\nNorm: 0.20, NNZs: 15, Bias: -0.542903, T: 19335, Avg. loss: 0.946981\nTotal training time: 0.06 seconds.\n-- Epoch 6\nNorm: 0.20, NNZs: 15, Bias: -0.543919, T: 23202, Avg. loss: 0.959673\nTotal training time: 0.06 seconds.\n-- Epoch 7\nNorm: 0.20, NNZs: 15, Bias: -0.544898, T: 27069, Avg. loss: 0.956130\nTotal training time: 0.06 seconds.\n-- Epoch 8\nNorm: 0.20, NNZs: 15, Bias: -0.545889, T: 30936, Avg. loss: 0.953096\nTotal training time: 0.06 seconds.\n-- Epoch 9\nNorm: 0.21, NNZs: 15, Bias: -0.546576, T: 34803, Avg. loss: 0.957630\nTotal training time: 0.06 seconds.\n-- Epoch 10\nNorm: 0.21, NNZs: 15, Bias: -0.547400, T: 38670, Avg. loss: 0.953290\nTotal training time: 0.06 seconds.\nConvergence after 10 epochs took 0.06 seconds\n-- Epoch 1\nNorm: 0.19, NNZs: 15, Bias: 0.648843, T: 3868, Avg. loss: 1.658248\nTotal training time: 0.00 seconds.\n-- Epoch 2\nNorm: 0.20, NNZs: 15, Bias: 0.636023, T: 7736, Avg. loss: 1.003839\nTotal training time: 0.00 seconds.\n-- Epoch 3\nNorm: 0.20, NNZs: 15, Bias: 0.628902, T: 11604, Avg. loss: 0.986642\nTotal training time: 0.00 seconds.\n-- Epoch 4\nNorm: 0.21, NNZs: 15, Bias: 0.623813, T: 15472, Avg. loss: 0.970981\nTotal training time: 0.00 seconds.\n-- Epoch 5\nNorm: 0.21, NNZs: 15, Bias: 0.621161, T: 19340, Avg. loss: 0.961437\nTotal training time: 0.01 seconds.\n-- Epoch 6\nNorm: 0.21, NNZs: 15, Bias: 0.618698, T: 23208, Avg. loss: 0.964750\nTotal training time: 0.01 seconds.\n-- Epoch 7\nNorm: 0.21, NNZs: 15, Bias: 0.616791, T: 27076, Avg. loss: 0.963186\nTotal training time: 0.01 seconds.\n-- Epoch 8\nNorm: 0.21, NNZs: 15, Bias: 0.614639, T: 30944, Avg. loss: 0.969012\nTotal training time: 0.01 seconds.\n-- Epoch 9\nNorm: 0.21, NNZs: 15, Bias: 0.613492, T: 34812, Avg. loss: 0.965248\nTotal training time: 0.01 seconds.\n-- Epoch 10\nNorm: 0.21, NNZs: 15, Bias: 0.611990, T: 38680, Avg. loss: 0.964658\nTotal training time: 0.07 seconds.\nConvergence after 10 epochs took 0.07 seconds\n-- Epoch 1\nNorm: 0.15, NNZs: 15, Bias: -0.905223, T: 3867, Avg. loss: 1.311422\nTotal training time: 0.00 seconds.\n-- Epoch 2\nNorm: 0.17, NNZs: 15, Bias: -0.899070, T: 7734, Avg. loss: 0.969841\nTotal training time: 0.00 seconds.\n-- Epoch 3\nNorm: 0.18, NNZs: 15, Bias: -0.896748, T: 11601, Avg. loss: 0.955577\nTotal training time: 0.00 seconds.\n-- Epoch 4\nNorm: 0.18, NNZs: 15, Bias: -0.895927, T: 15468, Avg. loss: 0.951618\nTotal training time: 0.01 seconds.\n-- Epoch 5\nNorm: 0.19, NNZs: 15, Bias: -0.895591, T: 19335, Avg. loss: 0.951667\nTotal training time: 0.01 seconds.\n-- Epoch 6\nNorm: 0.19, NNZs: 15, Bias: -0.895173, T: 23202, Avg. loss: 0.953631\nTotal training time: 0.01 seconds.\n-- Epoch 7\nNorm: 0.19, NNZs: 15, Bias: -0.894876, T: 27069, Avg. loss: 0.952417\nTotal training time: 0.01 seconds.\n-- Epoch 8\nNorm: 0.19, NNZs: 15, Bias: -0.894745, T: 30936, Avg. loss: 0.951819\nTotal training time: 0.01 seconds.\n-- Epoch 9\nNorm: 0.20, NNZs: 15, Bias: -0.894743, T: 34803, Avg. loss: 0.951205\nTotal training time: 0.01 seconds.\nConvergence after 9 epochs took 0.01 seconds\n-- Epoch 1\nNorm: 0.18, NNZs: 15, Bias: 0.815444, T: 3867, Avg. loss: 1.914033\nTotal training time: 0.00 seconds.\n-- Epoch 2\nNorm: 0.19, NNZs: 15, Bias: 0.798935, T: 7734, Avg. loss: 0.988788\nTotal training time: 0.00 seconds.\n-- Epoch 3\nNorm: 0.19, NNZs: 15, Bias: 0.790798, T: 11601, Avg. loss: 0.981051\nTotal training time: 0.06 seconds.\n-- Epoch 4\nNorm: 0.20, NNZs: 15, Bias: 0.785476, T: 15468, Avg. loss: 0.979066\nTotal training time: 0.06 seconds.\n-- Epoch 5\nNorm: 0.20, NNZs: 15, Bias: 0.781827, T: 19335, Avg. loss: 0.979000\nTotal training time: 0.06 seconds.\n-- Epoch 6\nNorm: 0.21, NNZs: 15, Bias: 0.779156, T: 23202, Avg. loss: 0.977237\nTotal training time: 0.06 seconds.\n-- Epoch 7\nNorm: 0.21, NNZs: 15, Bias: 0.776993, T: 27069, Avg. loss: 0.975920\nTotal training time: 0.06 seconds.\n-- Epoch 8\nNorm: 0.21, NNZs: 15, Bias: 0.775123, T: 30936, Avg. loss: 0.974840\nTotal training time: 0.07 seconds.\n-- Epoch 9\nNorm: 0.21, NNZs: 15, Bias: 0.773477, T: 34803, Avg. loss: 0.974083\nTotal training time: 0.07 seconds.\n-- Epoch 10\nNorm: 0.21, NNZs: 15, Bias: 0.772039, T: 38670, Avg. loss: 0.973455\nTotal training time: 0.07 seconds.\n-- Epoch 11\nNorm: 0.22, NNZs: 15, Bias: 0.770766, T: 42537, Avg. loss: 0.972627\nTotal training time: 0.07 seconds.\n-- Epoch 12\nNorm: 0.22, NNZs: 15, Bias: 0.769606, T: 46404, Avg. loss: 0.972288\nTotal training time: 0.07 seconds.\n-- Epoch 13\nNorm: 0.22, NNZs: 15, Bias: 0.768561, T: 50271, Avg. loss: 0.971908\nTotal training time: 0.07 seconds.\nConvergence after 13 epochs took 0.07 seconds\n-- Epoch 1\nNorm: 0.17, NNZs: 15, Bias: 0.819444, T: 3867, Avg. loss: 1.904986\nTotal training time: 0.00 seconds.\n-- Epoch 2\nNorm: 0.18, NNZs: 15, Bias: 0.802018, T: 7734, Avg. loss: 0.988963\nTotal training time: 0.01 seconds.\n-- Epoch 3\nNorm: 0.19, NNZs: 15, Bias: 0.793577, T: 11601, Avg. loss: 0.982172\nTotal training time: 0.01 seconds.\n-- Epoch 4\nNorm: 0.19, NNZs: 15, Bias: 0.788233, T: 15468, Avg. loss: 0.980840\nTotal training time: 0.01 seconds.\n-- Epoch 5\nNorm: 0.20, NNZs: 15, Bias: 0.784628, T: 19335, Avg. loss: 0.978594\nTotal training time: 0.06 seconds.\n-- Epoch 6\nNorm: 0.20, NNZs: 15, Bias: 0.781852, T: 23202, Avg. loss: 0.977853\nTotal training time: 0.06 seconds.\n-- Epoch 7\nNorm: 0.20, NNZs: 15, Bias: 0.779564, T: 27069, Avg. loss: 0.978034\nTotal training time: 0.07 seconds.\n-- Epoch 8\nNorm: 0.21, NNZs: 15, Bias: 0.777692, T: 30936, Avg. loss: 0.977911\nTotal training time: 0.07 seconds.\n-- Epoch 9\nNorm: 0.21, NNZs: 15, Bias: 0.776139, T: 34803, Avg. loss: 0.977588\nTotal training time: 0.07 seconds.\n-- Epoch 10\nNorm: 0.21, NNZs: 15, Bias: 0.774755, T: 38670, Avg. loss: 0.976957\nTotal training time: 0.07 seconds.\nConvergence after 10 epochs took 0.07 seconds\n-- Epoch 1\nNorm: 0.17, NNZs: 15, Bias: 0.825833, T: 3867, Avg. loss: 1.906355\nTotal training time: 0.00 seconds.\n-- Epoch 2\nNorm: 0.19, NNZs: 15, Bias: 0.811119, T: 7734, Avg. loss: 0.987736\nTotal training time: 0.00 seconds.\n-- Epoch 3\nNorm: 0.19, NNZs: 15, Bias: 0.804096, T: 11601, Avg. loss: 0.979527\nTotal training time: 0.01 seconds.\n-- Epoch 4\nNorm: 0.20, NNZs: 15, Bias: 0.799536, T: 15468, Avg. loss: 0.977853\nTotal training time: 0.01 seconds.\n-- Epoch 5\nNorm: 0.20, NNZs: 15, Bias: 0.796495, T: 19335, Avg. loss: 0.976248\nTotal training time: 0.01 seconds.\n-- Epoch 6\nNorm: 0.21, NNZs: 15, Bias: 0.794229, T: 23202, Avg. loss: 0.976284\nTotal training time: 0.01 seconds.\n-- Epoch 7\nNorm: 0.21, NNZs: 15, Bias: 0.792378, T: 27069, Avg. loss: 0.976439\nTotal training time: 0.01 seconds.\n-- Epoch 8\nNorm: 0.21, NNZs: 15, Bias: 0.790919, T: 30936, Avg. loss: 0.976025\nTotal training time: 0.01 seconds.\n-- Epoch 9\nNorm: 0.21, NNZs: 15, Bias: 0.789638, T: 34803, Avg. loss: 0.974615\nTotal training time: 0.01 seconds.\n-- Epoch 10\nNorm: 0.21, NNZs: 15, Bias: 0.788497, T: 38670, Avg. loss: 0.974499\nTotal training time: 0.02 seconds.\n-- Epoch 11\nNorm: 0.21, NNZs: 15, Bias: 0.787519, T: 42537, Avg. loss: 0.973500\nTotal training time: 0.02 seconds.\n-- Epoch 12\nNorm: 0.21, NNZs: 15, Bias: 0.786606, T: 46404, Avg. loss: 0.972892\nTotal training time: 0.02 seconds.\n-- Epoch 13\nNorm: 0.22, NNZs: 15, Bias: 0.785811, T: 50271, Avg. loss: 0.972570\nTotal training time: 0.02 seconds.\n-- Epoch 14\nNorm: 0.22, NNZs: 15, Bias: 0.785076, T: 54138, Avg. loss: 0.971945\nTotal training time: 0.02 seconds.\nConvergence after 14 epochs took 0.02 seconds\n-- Epoch 1\nNorm: 0.19, NNZs: 15, Bias: 0.818384, T: 3868, Avg. loss: 1.920305\nTotal training time: 0.01 seconds.\n-- Epoch 2\nNorm: 0.20, NNZs: 15, Bias: 0.801938, T: 7736, Avg. loss: 0.988807\nTotal training time: 0.01 seconds.\n-- Epoch 3\nNorm: 0.20, NNZs: 15, Bias: 0.794142, T: 11604, Avg. loss: 0.981883\nTotal training time: 0.01 seconds.\n-- Epoch 4\nNorm: 0.21, NNZs: 15, Bias: 0.789297, T: 15472, Avg. loss: 0.980771\nTotal training time: 0.01 seconds.\n-- Epoch 5\nNorm: 0.21, NNZs: 15, Bias: 0.785937, T: 19340, Avg. loss: 0.978860\nTotal training time: 0.02 seconds.\n-- Epoch 6\nNorm: 0.21, NNZs: 15, Bias: 0.783290, T: 23208, Avg. loss: 0.977811\nTotal training time: 0.02 seconds.\n-- Epoch 7\nNorm: 0.21, NNZs: 15, Bias: 0.781096, T: 27076, Avg. loss: 0.976609\nTotal training time: 0.02 seconds.\n-- Epoch 8\nNorm: 0.21, NNZs: 15, Bias: 0.779229, T: 30944, Avg. loss: 0.974711\nTotal training time: 0.02 seconds.\n-- Epoch 9\nNorm: 0.22, NNZs: 15, Bias: 0.777613, T: 34812, Avg. loss: 0.973673\nTotal training time: 0.02 seconds.\n-- Epoch 10\nNorm: 0.22, NNZs: 15, Bias: 0.776112, T: 38680, Avg. loss: 0.972546\nTotal training time: 0.02 seconds.\n-- Epoch 11\nNorm: 0.22, NNZs: 15, Bias: 0.774780, T: 42548, Avg. loss: 0.971769\nTotal training time: 0.02 seconds.\n-- Epoch 12\nNorm: 0.22, NNZs: 15, Bias: 0.773587, T: 46416, Avg. loss: 0.971313\nTotal training time: 0.02 seconds.\n-- Epoch 13\nNorm: 0.22, NNZs: 15, Bias: 0.772512, T: 50284, Avg. loss: 0.970911\nTotal training time: 0.03 seconds.\n-- Epoch 14\nNorm: 0.22, NNZs: 15, Bias: 0.771554, T: 54152, Avg. loss: 0.970199\nTotal training time: 0.03 seconds.\n-- Epoch 15\nNorm: 0.22, NNZs: 15, Bias: 0.770644, T: 58020, Avg. loss: 0.969567\nTotal training time: 0.03 seconds.\nConvergence after 15 epochs took 0.03 seconds\n-- Epoch 1\nNorm: 0.15, NNZs: 15, Bias: -0.905223, T: 3867, Avg. loss: 1.311422\nTotal training time: 0.00 seconds.\n-- Epoch 2\nNorm: 0.17, NNZs: 15, Bias: -0.899070, T: 7734, Avg. loss: 0.969841\nTotal training time: 0.00 seconds.\n-- Epoch 3\nNorm: 0.18, NNZs: 15, Bias: -0.896748, T: 11601, Avg. loss: 0.955577\nTotal training time: 0.00 seconds.\n-- Epoch 4\nNorm: 0.18, NNZs: 15, Bias: -0.895927, T: 15468, Avg. loss: 0.951618\nTotal training time: 0.00 seconds.\n-- Epoch 5\nNorm: 0.19, NNZs: 15, Bias: -0.895591, T: 19335, Avg. loss: 0.951667\nTotal training time: 0.01 seconds.\n-- Epoch 6\nNorm: 0.19, NNZs: 15, Bias: -0.895173, T: 23202, Avg. loss: 0.953631\nTotal training time: 0.01 seconds.\n-- Epoch 7\nNorm: 0.19, NNZs: 15, Bias: -0.894876, T: 27069, Avg. loss: 0.952417\nTotal training time: 0.01 seconds.\n-- Epoch 8\nNorm: 0.19, NNZs: 15, Bias: -0.894745, T: 30936, Avg. loss: 0.951819\nTotal training time: 0.01 seconds.\n-- Epoch 9\nNorm: 0.20, NNZs: 15, Bias: -0.894743, T: 34803, Avg. loss: 0.951205\nTotal training time: 0.01 seconds.\nConvergence after 9 epochs took 0.01 seconds\n-- Epoch 1\nNorm: 0.18, NNZs: 15, Bias: 0.815444, T: 3867, Avg. loss: 1.914033\nTotal training time: 0.00 seconds.\n-- Epoch 2\nNorm: 0.19, NNZs: 15, Bias: 0.798935, T: 7734, Avg. loss: 0.988788\nTotal training time: 0.00 seconds.\n-- Epoch 3\nNorm: 0.19, NNZs: 15, Bias: 0.790798, T: 11601, Avg. loss: 0.981051\nTotal training time: 0.00 seconds.\n-- Epoch 4\nNorm: 0.20, NNZs: 15, Bias: 0.785476, T: 15468, Avg. loss: 0.979066\nTotal training time: 0.01 seconds.\n-- Epoch 5\nNorm: 0.20, NNZs: 15, Bias: 0.781827, T: 19335, Avg. loss: 0.979000\nTotal training time: 0.01 seconds.\n-- Epoch 6\nNorm: 0.21, NNZs: 15, Bias: 0.779156, T: 23202, Avg. loss: 0.977237\nTotal training time: 0.01 seconds.\n-- Epoch 7\nNorm: 0.21, NNZs: 15, Bias: 0.776993, T: 27069, Avg. loss: 0.975920\nTotal training time: 0.01 seconds.\n-- Epoch 8\nNorm: 0.21, NNZs: 15, Bias: 0.775123, T: 30936, Avg. loss: 0.974840\nTotal training time: 0.01 seconds.\n-- Epoch 9\nNorm: 0.21, NNZs: 15, Bias: 0.773477, T: 34803, Avg. loss: 0.974083\nTotal training time: 0.01 seconds.\n-- Epoch 10\nNorm: 0.21, NNZs: 15, Bias: 0.772039, T: 38670, Avg. loss: 0.973455\nTotal training time: 0.02 seconds.\n-- Epoch 11\nNorm: 0.22, NNZs: 15, Bias: 0.770766, T: 42537, Avg. loss: 0.972627\nTotal training time: 0.02 seconds.\n-- Epoch 12\nNorm: 0.22, NNZs: 15, Bias: 0.769606, T: 46404, Avg. loss: 0.972288\nTotal training time: 0.02 seconds.\n-- Epoch 13\nNorm: 0.22, NNZs: 15, Bias: 0.768561, T: 50271, Avg. loss: 0.971908\nTotal training time: 0.02 seconds.\nConvergence after 13 epochs took 0.02 seconds\n-- Epoch 1\nNorm: 0.17, NNZs: 15, Bias: 0.819444, T: 3867, Avg. loss: 1.904986\nTotal training time: 0.00 seconds.\n-- Epoch 2\nNorm: 0.18, NNZs: 15, Bias: 0.802018, T: 7734, Avg. loss: 0.988963\nTotal training time: 0.00 seconds.\n-- Epoch 3\nNorm: 0.19, NNZs: 15, Bias: 0.793577, T: 11601, Avg. loss: 0.982172\nTotal training time: 0.00 seconds.\n-- Epoch 4\nNorm: 0.19, NNZs: 15, Bias: 0.788233, T: 15468, Avg. loss: 0.980840\nTotal training time: 0.05 seconds.\n-- Epoch 5\nNorm: 0.20, NNZs: 15, Bias: 0.784628, T: 19335, Avg. loss: 0.978594\nTotal training time: 0.05 seconds.\n-- Epoch 6\nNorm: 0.20, NNZs: 15, Bias: 0.781852, T: 23202, Avg. loss: 0.977853\nTotal training time: 0.05 seconds.\n-- Epoch 7\nNorm: 0.20, NNZs: 15, Bias: 0.779564, T: 27069, Avg. loss: 0.978034\nTotal training time: 0.05 seconds.\n-- Epoch 8\nNorm: 0.21, NNZs: 15, Bias: 0.777692, T: 30936, Avg. loss: 0.977911\nTotal training time: 0.05 seconds.\n-- Epoch 9\nNorm: 0.21, NNZs: 15, Bias: 0.776139, T: 34803, Avg. loss: 0.977588\nTotal training time: 0.05 seconds.\n-- Epoch 10\nNorm: 0.21, NNZs: 15, Bias: 0.774755, T: 38670, Avg. loss: 0.976957\nTotal training time: 0.05 seconds.\nConvergence after 10 epochs took 0.05 seconds\n-- Epoch 1\nNorm: 0.17, NNZs: 15, Bias: 0.825833, T: 3867, Avg. loss: 1.906355\nTotal training time: 0.00 seconds.\n-- Epoch 2\nNorm: 0.19, NNZs: 15, Bias: 0.811119, T: 7734, Avg. loss: 0.987736\nTotal training time: 0.01 seconds.\n-- Epoch 3\nNorm: 0.19, NNZs: 15, Bias: 0.804096, T: 11601, Avg. loss: 0.979527\nTotal training time: 0.01 seconds.\n-- Epoch 4\nNorm: 0.20, NNZs: 15, Bias: 0.799536, T: 15468, Avg. loss: 0.977853\nTotal training time: 0.01 seconds.\n-- Epoch 5\nNorm: 0.20, NNZs: 15, Bias: 0.796495, T: 19335, Avg. loss: 0.976248\nTotal training time: 0.01 seconds.\n-- Epoch 6\nNorm: 0.21, NNZs: 15, Bias: 0.794229, T: 23202, Avg. loss: 0.976284\nTotal training time: 0.01 seconds.\n-- Epoch 7\nNorm: 0.21, NNZs: 15, Bias: 0.792378, T: 27069, Avg. loss: 0.976439\nTotal training time: 0.01 seconds.\n-- Epoch 8\nNorm: 0.21, NNZs: 15, Bias: 0.790919, T: 30936, Avg. loss: 0.976025\nTotal training time: 0.01 seconds.\n-- Epoch 9\nNorm: 0.21, NNZs: 15, Bias: 0.789638, T: 34803, Avg. loss: 0.974615\nTotal training time: 0.01 seconds.\n-- Epoch 10\nNorm: 0.21, NNZs: 15, Bias: 0.788497, T: 38670, Avg. loss: 0.974499\nTotal training time: 0.02 seconds.\n-- Epoch 11\nNorm: 0.21, NNZs: 15, Bias: 0.787519, T: 42537, Avg. loss: 0.973500\nTotal training time: 0.02 seconds.\n-- Epoch 12\nNorm: 0.21, NNZs: 15, Bias: 0.786606, T: 46404, Avg. loss: 0.972892\nTotal training time: 0.07 seconds.\n-- Epoch 13\nNorm: 0.22, NNZs: 15, Bias: 0.785811, T: 50271, Avg. loss: 0.972570\nTotal training time: 0.07 seconds.\n-- Epoch 14\nNorm: 0.22, NNZs: 15, Bias: 0.785076, T: 54138, Avg. loss: 0.971945\nTotal training time: 0.07 seconds.\nConvergence after 14 epochs took 0.07 seconds\n-- Epoch 1\nNorm: 0.19, NNZs: 15, Bias: 0.818384, T: 3868, Avg. loss: 1.920305\nTotal training time: 0.00 seconds.\n-- Epoch 2\nNorm: 0.20, NNZs: 15, Bias: 0.801938, T: 7736, Avg. loss: 0.988807\nTotal training time: 0.00 seconds.\n-- Epoch 3\nNorm: 0.20, NNZs: 15, Bias: 0.794142, T: 11604, Avg. loss: 0.981883\nTotal training time: 0.01 seconds.\n-- Epoch 4\nNorm: 0.21, NNZs: 15, Bias: 0.789297, T: 15472, Avg. loss: 0.980771\nTotal training time: 0.01 seconds.\n-- Epoch 5\nNorm: 0.21, NNZs: 15, Bias: 0.785937, T: 19340, Avg. loss: 0.978860\nTotal training time: 0.01 seconds.\n-- Epoch 6\nNorm: 0.21, NNZs: 15, Bias: 0.783290, T: 23208, Avg. loss: 0.977811\nTotal training time: 0.02 seconds.\n-- Epoch 7\nNorm: 0.21, NNZs: 15, Bias: 0.781096, T: 27076, Avg. loss: 0.976609\nTotal training time: 0.02 seconds.\n-- Epoch 8\nNorm: 0.21, NNZs: 15, Bias: 0.779229, T: 30944, Avg. loss: 0.974711\nTotal training time: 0.02 seconds.\n-- Epoch 9\nNorm: 0.22, NNZs: 15, Bias: 0.777613, T: 34812, Avg. loss: 0.973673\nTotal training time: 0.02 seconds.\n-- Epoch 10\nNorm: 0.22, NNZs: 15, Bias: 0.776112, T: 38680, Avg. loss: 0.972546\nTotal training time: 0.02 seconds.\n-- Epoch 11\nNorm: 0.22, NNZs: 15, Bias: 0.774780, T: 42548, Avg. loss: 0.971769\nTotal training time: 0.03 seconds.\n-- Epoch 12\nNorm: 0.22, NNZs: 15, Bias: 0.773587, T: 46416, Avg. loss: 0.971313\nTotal training time: 0.03 seconds.\n-- Epoch 13\nNorm: 0.22, NNZs: 15, Bias: 0.772512, T: 50284, Avg. loss: 0.970911\nTotal training time: 0.03 seconds.\n-- Epoch 14\nNorm: 0.22, NNZs: 15, Bias: 0.771554, T: 54152, Avg. loss: 0.970199\nTotal training time: 0.03 seconds.\n-- Epoch 15\nNorm: 0.22, NNZs: 15, Bias: 0.770644, T: 58020, Avg. loss: 0.969567\nTotal training time: 0.03 seconds.\nConvergence after 15 epochs took 0.03 seconds\n-- Epoch 1\nNorm: 0.15, NNZs: 15, Bias: -0.905223, T: 3867, Avg. loss: 1.311422\nTotal training time: 0.00 seconds.\n-- Epoch 2\nNorm: 0.17, NNZs: 15, Bias: -0.899070, T: 7734, Avg. loss: 0.969841\nTotal training time: 0.00 seconds.\n-- Epoch 3\nNorm: 0.18, NNZs: 15, Bias: -0.896748, T: 11601, Avg. loss: 0.955577\nTotal training time: 0.01 seconds.\n-- Epoch 4\nNorm: 0.18, NNZs: 15, Bias: -0.895927, T: 15468, Avg. loss: 0.951618\nTotal training time: 0.01 seconds.\n-- Epoch 5\nNorm: 0.19, NNZs: 15, Bias: -0.895591, T: 19335, Avg. loss: 0.951667\nTotal training time: 0.01 seconds.\n-- Epoch 6\nNorm: 0.19, NNZs: 15, Bias: -0.895173, T: 23202, Avg. loss: 0.953631\nTotal training time: 0.01 seconds.\n-- Epoch 7\nNorm: 0.19, NNZs: 15, Bias: -0.894876, T: 27069, Avg. loss: 0.952417\nTotal training time: 0.01 seconds.\n-- Epoch 8\nNorm: 0.19, NNZs: 15, Bias: -0.894745, T: 30936, Avg. loss: 0.951819\nTotal training time: 0.01 seconds.\n-- Epoch 9\nNorm: 0.20, NNZs: 15, Bias: -0.894743, T: 34803, Avg. loss: 0.951205\nTotal training time: 0.02 seconds.\nConvergence after 9 epochs took 0.02 seconds\n-- Epoch 1\nNorm: 0.18, NNZs: 15, Bias: 0.815444, T: 3867, Avg. loss: 1.914033\nTotal training time: 0.00 seconds.\n-- Epoch 2\nNorm: 0.19, NNZs: 15, Bias: 0.798935, T: 7734, Avg. loss: 0.988788\nTotal training time: 0.01 seconds.\n-- Epoch 3\nNorm: 0.19, NNZs: 15, Bias: 0.790798, T: 11601, Avg. loss: 0.981051\nTotal training time: 0.01 seconds.\n-- Epoch 4\nNorm: 0.20, NNZs: 15, Bias: 0.785476, T: 15468, Avg. loss: 0.979066\nTotal training time: 0.01 seconds.\n-- Epoch 5\nNorm: 0.20, NNZs: 15, Bias: 0.781827, T: 19335, Avg. loss: 0.979000\nTotal training time: 0.01 seconds.\n-- Epoch 6\nNorm: 0.21, NNZs: 15, Bias: 0.779156, T: 23202, Avg. loss: 0.977237\nTotal training time: 0.01 seconds.\n-- Epoch 7\nNorm: 0.21, NNZs: 15, Bias: 0.776993, T: 27069, Avg. loss: 0.975920\nTotal training time: 0.01 seconds.\n-- Epoch 8\nNorm: 0.21, NNZs: 15, Bias: 0.775123, T: 30936, Avg. loss: 0.974840\nTotal training time: 0.02 seconds.\n-- Epoch 9\nNorm: 0.21, NNZs: 15, Bias: 0.773477, T: 34803, Avg. loss: 0.974083\nTotal training time: 0.02 seconds.\n-- Epoch 10\nNorm: 0.21, NNZs: 15, Bias: 0.772039, T: 38670, Avg. loss: 0.973455\nTotal training time: 0.02 seconds.\n-- Epoch 11\nNorm: 0.22, NNZs: 15, Bias: 0.770766, T: 42537, Avg. loss: 0.972627\nTotal training time: 0.02 seconds.\n-- Epoch 12\nNorm: 0.22, NNZs: 15, Bias: 0.769606, T: 46404, Avg. loss: 0.972288\nTotal training time: 0.02 seconds.\n-- Epoch 13\nNorm: 0.22, NNZs: 15, Bias: 0.768561, T: 50271, Avg. loss: 0.971908\nTotal training time: 0.02 seconds.\nConvergence after 13 epochs took 0.02 seconds\n-- Epoch 1\nNorm: 0.17, NNZs: 15, Bias: 0.819444, T: 3867, Avg. loss: 1.904986\nTotal training time: 0.00 seconds.\n-- Epoch 2\nNorm: 0.18, NNZs: 15, Bias: 0.802018, T: 7734, Avg. loss: 0.988963\nTotal training time: 0.01 seconds.\n-- Epoch 3\nNorm: 0.19, NNZs: 15, Bias: 0.793577, T: 11601, Avg. loss: 0.982172\nTotal training time: 0.01 seconds.\n-- Epoch 4\nNorm: 0.19, NNZs: 15, Bias: 0.788233, T: 15468, Avg. loss: 0.980840\nTotal training time: 0.01 seconds.\n-- Epoch 5\nNorm: 0.20, NNZs: 15, Bias: 0.784628, T: 19335, Avg. loss: 0.978594\nTotal training time: 0.01 seconds.\n-- Epoch 6\nNorm: 0.20, NNZs: 15, Bias: 0.781852, T: 23202, Avg. loss: 0.977853\nTotal training time: 0.01 seconds.\n-- Epoch 7\nNorm: 0.20, NNZs: 15, Bias: 0.779564, T: 27069, Avg. loss: 0.978034\nTotal training time: 0.01 seconds.\n-- Epoch 8\nNorm: 0.21, NNZs: 15, Bias: 0.777692, T: 30936, Avg. loss: 0.977911\nTotal training time: 0.02 seconds.\n-- Epoch 9\nNorm: 0.21, NNZs: 15, Bias: 0.776139, T: 34803, Avg. loss: 0.977588\nTotal training time: 0.02 seconds.\n-- Epoch 10\nNorm: 0.21, NNZs: 15, Bias: 0.774755, T: 38670, Avg. loss: 0.976957\nTotal training time: 0.02 seconds.\nConvergence after 10 epochs took 0.02 seconds\n-- Epoch 1\nNorm: 0.17, NNZs: 15, Bias: 0.825833, T: 3867, Avg. loss: 1.906355\nTotal training time: 0.01 seconds.\n-- Epoch 2\nNorm: 0.19, NNZs: 15, Bias: 0.811119, T: 7734, Avg. loss: 0.987736\nTotal training time: 0.01 seconds.\n-- Epoch 3\nNorm: 0.19, NNZs: 15, Bias: 0.804096, T: 11601, Avg. loss: 0.979527\nTotal training time: 0.01 seconds.\n-- Epoch 4\nNorm: 0.20, NNZs: 15, Bias: 0.799536, T: 15468, Avg. loss: 0.977853\nTotal training time: 0.01 seconds.\n-- Epoch 5\nNorm: 0.20, NNZs: 15, Bias: 0.796495, T: 19335, Avg. loss: 0.976248\nTotal training time: 0.01 seconds.\n-- Epoch 6\nNorm: 0.21, NNZs: 15, Bias: 0.794229, T: 23202, Avg. loss: 0.976284\nTotal training time: 0.01 seconds.\n-- Epoch 7\nNorm: 0.21, NNZs: 15, Bias: 0.792378, T: 27069, Avg. loss: 0.976439\nTotal training time: 0.01 seconds.\n-- Epoch 8\nNorm: 0.21, NNZs: 15, Bias: 0.790919, T: 30936, Avg. loss: 0.976025\nTotal training time: 0.01 seconds.\n-- Epoch 9\nNorm: 0.21, NNZs: 15, Bias: 0.789638, T: 34803, Avg. loss: 0.974615\nTotal training time: 0.01 seconds.\n-- Epoch 10\nNorm: 0.21, NNZs: 15, Bias: 0.788497, T: 38670, Avg. loss: 0.974499\nTotal training time: 0.01 seconds.\n-- Epoch 11\nNorm: 0.21, NNZs: 15, Bias: 0.787519, T: 42537, Avg. loss: 0.973500\nTotal training time: 0.01 seconds.\n-- Epoch 12\nNorm: 0.21, NNZs: 15, Bias: 0.786606, T: 46404, Avg. loss: 0.972892\nTotal training time: 0.01 seconds.\n-- Epoch 13\nNorm: 0.22, NNZs: 15, Bias: 0.785811, T: 50271, Avg. loss: 0.972570\nTotal training time: 0.01 seconds.\n-- Epoch 14\nNorm: 0.22, NNZs: 15, Bias: 0.785076, T: 54138, Avg. loss: 0.971945\nTotal training time: 0.01 seconds.\nConvergence after 14 epochs took 0.07 seconds\n-- Epoch 1\nNorm: 0.19, NNZs: 15, Bias: 0.818384, T: 3868, Avg. loss: 1.920305\nTotal training time: 0.01 seconds.\n-- Epoch 2\nNorm: 0.20, NNZs: 15, Bias: 0.801938, T: 7736, Avg. loss: 0.988807\nTotal training time: 0.01 seconds.\n-- Epoch 3\nNorm: 0.20, NNZs: 15, Bias: 0.794142, T: 11604, Avg. loss: 0.981883\nTotal training time: 0.01 seconds.\n-- Epoch 4\nNorm: 0.21, NNZs: 15, Bias: 0.789297, T: 15472, Avg. loss: 0.980771\nTotal training time: 0.01 seconds.\n-- Epoch 5\nNorm: 0.21, NNZs: 15, Bias: 0.785937, T: 19340, Avg. loss: 0.978860\nTotal training time: 0.01 seconds.\n-- Epoch 6\nNorm: 0.21, NNZs: 15, Bias: 0.783290, T: 23208, Avg. loss: 0.977811\nTotal training time: 0.02 seconds.\n-- Epoch 7\nNorm: 0.21, NNZs: 15, Bias: 0.781096, T: 27076, Avg. loss: 0.976609\nTotal training time: 0.02 seconds.\n-- Epoch 8\nNorm: 0.21, NNZs: 15, Bias: 0.779229, T: 30944, Avg. loss: 0.974711\nTotal training time: 0.02 seconds.\n-- Epoch 9\nNorm: 0.22, NNZs: 15, Bias: 0.777613, T: 34812, Avg. loss: 0.973673\nTotal training time: 0.02 seconds.\n-- Epoch 10\nNorm: 0.22, NNZs: 15, Bias: 0.776112, T: 38680, Avg. loss: 0.972546\nTotal training time: 0.02 seconds.\n-- Epoch 11\nNorm: 0.22, NNZs: 15, Bias: 0.774780, T: 42548, Avg. loss: 0.971769\nTotal training time: 0.02 seconds.\n-- Epoch 12\nNorm: 0.22, NNZs: 15, Bias: 0.773587, T: 46416, Avg. loss: 0.971313\nTotal training time: 0.02 seconds.\n-- Epoch 13\nNorm: 0.22, NNZs: 15, Bias: 0.772512, T: 50284, Avg. loss: 0.970911\nTotal training time: 0.03 seconds.\n-- Epoch 14\nNorm: 0.22, NNZs: 15, Bias: 0.771554, T: 54152, Avg. loss: 0.970199\nTotal training time: 0.03 seconds.\n-- Epoch 15\nNorm: 0.22, NNZs: 15, Bias: 0.770644, T: 58020, Avg. loss: 0.969567\nTotal training time: 0.03 seconds.\nConvergence after 15 epochs took 0.03 seconds\n-- Epoch 1\nNorm: 1.11, NNZs: 15, Bias: 0.019871, T: 4834, Avg. loss: 6.014201\nTotal training time: 0.00 seconds.\n-- Epoch 2\nNorm: 1.03, NNZs: 15, Bias: 0.020404, T: 9668, Avg. loss: 1.198498\nTotal training time: 0.01 seconds.\n-- Epoch 3\nNorm: 1.02, NNZs: 15, Bias: 0.014265, T: 14502, Avg. loss: 1.030282\nTotal training time: 0.01 seconds.\n-- Epoch 4\nNorm: 1.02, NNZs: 15, Bias: 0.023150, T: 19336, Avg. loss: 0.943762\nTotal training time: 0.01 seconds.\n-- Epoch 5\nNorm: 1.02, NNZs: 15, Bias: 0.030179, T: 24170, Avg. loss: 0.908791\nTotal training time: 0.01 seconds.\n-- Epoch 6\nNorm: 1.03, NNZs: 15, Bias: 0.035684, T: 29004, Avg. loss: 0.877015\nTotal training time: 0.01 seconds.\n-- Epoch 7\nNorm: 1.04, NNZs: 15, Bias: 0.042560, T: 33838, Avg. loss: 0.869210\nTotal training time: 0.02 seconds.\n-- Epoch 8\nNorm: 1.04, NNZs: 15, Bias: 0.049882, T: 38672, Avg. loss: 0.850944\nTotal training time: 0.02 seconds.\n-- Epoch 9\nNorm: 1.04, NNZs: 15, Bias: 0.056536, T: 43506, Avg. loss: 0.836509\nTotal training time: 0.02 seconds.\n-- Epoch 10\nNorm: 1.05, NNZs: 15, Bias: 0.058507, T: 48340, Avg. loss: 0.827531\nTotal training time: 0.02 seconds.\n-- Epoch 11\nNorm: 1.05, NNZs: 15, Bias: 0.062474, T: 53174, Avg. loss: 0.818130\nTotal training time: 0.02 seconds.\n-- Epoch 12\nNorm: 1.06, NNZs: 15, Bias: 0.065324, T: 58008, Avg. loss: 0.811875\nTotal training time: 0.02 seconds.\n-- Epoch 13\nNorm: 1.07, NNZs: 15, Bias: 0.065398, T: 62842, Avg. loss: 0.810904\nTotal training time: 0.02 seconds.\n-- Epoch 14\nNorm: 1.08, NNZs: 15, Bias: 0.068031, T: 67676, Avg. loss: 0.809033\nTotal training time: 0.08 seconds.\n-- Epoch 15\nNorm: 1.09, NNZs: 15, Bias: 0.069559, T: 72510, Avg. loss: 0.800743\nTotal training time: 0.08 seconds.\n-- Epoch 16\nNorm: 1.09, NNZs: 15, Bias: 0.071747, T: 77344, Avg. loss: 0.799784\nTotal training time: 0.08 seconds.\n-- Epoch 17\nNorm: 1.10, NNZs: 15, Bias: 0.073549, T: 82178, Avg. loss: 0.796682\nTotal training time: 0.09 seconds.\n-- Epoch 18\nNorm: 1.10, NNZs: 15, Bias: 0.075060, T: 87012, Avg. loss: 0.789486\nTotal training time: 0.09 seconds.\n-- Epoch 19\nNorm: 1.11, NNZs: 15, Bias: 0.077647, T: 91846, Avg. loss: 0.794129\nTotal training time: 0.09 seconds.\n-- Epoch 20\nNorm: 1.11, NNZs: 15, Bias: 0.080043, T: 96680, Avg. loss: 0.788409\nTotal training time: 0.09 seconds.\n-- Epoch 21\nNorm: 1.12, NNZs: 15, Bias: 0.081683, T: 101514, Avg. loss: 0.789960\nTotal training time: 0.09 seconds.\n-- Epoch 22\nNorm: 1.12, NNZs: 15, Bias: 0.082820, T: 106348, Avg. loss: 0.783684\nTotal training time: 0.09 seconds.\n-- Epoch 23\nNorm: 1.13, NNZs: 15, Bias: 0.085492, T: 111182, Avg. loss: 0.785745\nTotal training time: 0.09 seconds.\n-- Epoch 24\nNorm: 1.13, NNZs: 15, Bias: 0.086726, T: 116016, Avg. loss: 0.779155\nTotal training time: 0.09 seconds.\n-- Epoch 25\nNorm: 1.13, NNZs: 15, Bias: 0.088560, T: 120850, Avg. loss: 0.779076\nTotal training time: 0.09 seconds.\n-- Epoch 26\nNorm: 1.14, NNZs: 15, Bias: 0.089376, T: 125684, Avg. loss: 0.777072\nTotal training time: 0.09 seconds.\n-- Epoch 27\nNorm: 1.14, NNZs: 15, Bias: 0.090647, T: 130518, Avg. loss: 0.772325\nTotal training time: 0.09 seconds.\n-- Epoch 28\nNorm: 1.14, NNZs: 15, Bias: 0.092788, T: 135352, Avg. loss: 0.774052\nTotal training time: 0.09 seconds.\n-- Epoch 29\nNorm: 1.15, NNZs: 15, Bias: 0.094870, T: 140186, Avg. loss: 0.772869\nTotal training time: 0.09 seconds.\n-- Epoch 30\nNorm: 1.15, NNZs: 15, Bias: 0.096427, T: 145020, Avg. loss: 0.769870\nTotal training time: 0.10 seconds.\n-- Epoch 31\nNorm: 1.15, NNZs: 15, Bias: 0.098023, T: 149854, Avg. loss: 0.769185\nTotal training time: 0.10 seconds.\n-- Epoch 32\nNorm: 1.15, NNZs: 15, Bias: 0.099395, T: 154688, Avg. loss: 0.768112\nTotal training time: 0.10 seconds.\n-- Epoch 33\nNorm: 1.15, NNZs: 15, Bias: 0.100479, T: 159522, Avg. loss: 0.770724\nTotal training time: 0.10 seconds.\n-- Epoch 34\nNorm: 1.16, NNZs: 15, Bias: 0.102644, T: 164356, Avg. loss: 0.769578\nTotal training time: 0.10 seconds.\n-- Epoch 35\nNorm: 1.16, NNZs: 15, Bias: 0.104263, T: 169190, Avg. loss: 0.764992\nTotal training time: 0.10 seconds.\n-- Epoch 36\nNorm: 1.16, NNZs: 15, Bias: 0.105651, T: 174024, Avg. loss: 0.768550\nTotal training time: 0.10 seconds.\n-- Epoch 37\nNorm: 1.16, NNZs: 15, Bias: 0.106794, T: 178858, Avg. loss: 0.765801\nTotal training time: 0.10 seconds.\n-- Epoch 38\nNorm: 1.16, NNZs: 15, Bias: 0.108611, T: 183692, Avg. loss: 0.762649\nTotal training time: 0.10 seconds.\n-- Epoch 39\nNorm: 1.17, NNZs: 15, Bias: 0.109369, T: 188526, Avg. loss: 0.761601\nTotal training time: 0.10 seconds.\n-- Epoch 40\nNorm: 1.17, NNZs: 15, Bias: 0.111091, T: 193360, Avg. loss: 0.763727\nTotal training time: 0.10 seconds.\n-- Epoch 41\nNorm: 1.17, NNZs: 15, Bias: 0.111907, T: 198194, Avg. loss: 0.759102\nTotal training time: 0.10 seconds.\n-- Epoch 42\nNorm: 1.17, NNZs: 15, Bias: 0.113103, T: 203028, Avg. loss: 0.762030\nTotal training time: 0.10 seconds.\n-- Epoch 43\nNorm: 1.17, NNZs: 15, Bias: 0.114232, T: 207862, Avg. loss: 0.758962\nTotal training time: 0.10 seconds.\n-- Epoch 44\nNorm: 1.17, NNZs: 15, Bias: 0.115642, T: 212696, Avg. loss: 0.758096\nTotal training time: 0.10 seconds.\n-- Epoch 45\nNorm: 1.17, NNZs: 15, Bias: 0.116432, T: 217530, Avg. loss: 0.757585\nTotal training time: 0.11 seconds.\n-- Epoch 46\nNorm: 1.18, NNZs: 15, Bias: 0.117385, T: 222364, Avg. loss: 0.758240\nTotal training time: 0.11 seconds.\nConvergence after 46 epochs took 0.11 seconds\n",
     "output_type": "stream"
    }
   ],
   "execution_count": 45
  },
  {
   "cell_type": "code",
   "source": "# Returns max value of the mean test score \nmax(scores['mean_test_score'])",
   "metadata": {
    "tags": [],
    "cell_id": "00049-17ec2782-a3dc-4b89-a678-94576b39c441",
    "deepnote_to_be_reexecuted": false,
    "source_hash": "32c9439c",
    "execution_start": 1621912091612,
    "execution_millis": 13,
    "deepnote_cell_type": "code"
   },
   "outputs": [
    {
     "output_type": "execute_result",
     "execution_count": 46,
     "data": {
      "text/plain": "0.6814191294070796"
     },
     "metadata": {}
    }
   ],
   "execution_count": 46
  },
  {
   "cell_type": "code",
   "source": "# loop that runs all of the possible parameter configurations from the parameter dictionary above\nfor mean_score, params in sorted(list(zip(scores[\"mean_test_score\"], scores[\"params\"])),key = lambda x: x[0]):\n     print(f'Best parameters for SGD Classifier are {params} with a score of {mean_score}')",
   "metadata": {
    "tags": [],
    "cell_id": "00050-9c7659bd-9c73-4b11-8197-2001238ca999",
    "deepnote_to_be_reexecuted": false,
    "source_hash": "46f0d3fb",
    "execution_start": 1621912091622,
    "execution_millis": 57,
    "is_output_hidden": true,
    "deepnote_cell_type": "code"
   },
   "outputs": [
    {
     "name": "stdout",
     "text": "Best parameters for SGD Classifier are {'alpha': 1, 'class_weight': 'balanced', 'shuffle': False, 'verbose': 0} with a score of 0.502272936511505\nBest parameters for SGD Classifier are {'alpha': 1, 'class_weight': 'balanced', 'shuffle': False, 'verbose': 1} with a score of 0.502272936511505\nBest parameters for SGD Classifier are {'alpha': 1, 'class_weight': 'balanced', 'shuffle': False, 'verbose': 5} with a score of 0.502272936511505\nBest parameters for SGD Classifier are {'alpha': 1, 'class_weight': 'balanced', 'shuffle': False, 'verbose': 10} with a score of 0.502272936511505\nBest parameters for SGD Classifier are {'alpha': 1, 'class_weight': None, 'shuffle': True, 'verbose': 5} with a score of 0.515718931788353\nBest parameters for SGD Classifier are {'alpha': 1, 'class_weight': None, 'shuffle': False, 'verbose': 0} with a score of 0.5208872074525597\nBest parameters for SGD Classifier are {'alpha': 1, 'class_weight': None, 'shuffle': False, 'verbose': 1} with a score of 0.5208872074525597\nBest parameters for SGD Classifier are {'alpha': 1, 'class_weight': None, 'shuffle': False, 'verbose': 5} with a score of 0.5208872074525597\nBest parameters for SGD Classifier are {'alpha': 1, 'class_weight': None, 'shuffle': False, 'verbose': 10} with a score of 0.5208872074525597\nBest parameters for SGD Classifier are {'alpha': 1, 'class_weight': None, 'shuffle': True, 'verbose': 10} with a score of 0.5209073333033587\nBest parameters for SGD Classifier are {'alpha': 0.0001, 'class_weight': None, 'shuffle': False, 'verbose': 0} with a score of 0.5262689455981124\nBest parameters for SGD Classifier are {'alpha': 0.0001, 'class_weight': None, 'shuffle': False, 'verbose': 1} with a score of 0.5262689455981124\nBest parameters for SGD Classifier are {'alpha': 0.0001, 'class_weight': None, 'shuffle': False, 'verbose': 5} with a score of 0.5262689455981124\nBest parameters for SGD Classifier are {'alpha': 0.0001, 'class_weight': None, 'shuffle': False, 'verbose': 10} with a score of 0.5262689455981124\nBest parameters for SGD Classifier are {'alpha': 1, 'class_weight': 'balanced', 'shuffle': True, 'verbose': 0} with a score of 0.5262695879124997\nBest parameters for SGD Classifier are {'alpha': 1, 'class_weight': 'balanced', 'shuffle': True, 'verbose': 10} with a score of 0.5355724412871123\nBest parameters for SGD Classifier are {'alpha': 1, 'class_weight': 'balanced', 'shuffle': True, 'verbose': 5} with a score of 0.5407599863829351\nBest parameters for SGD Classifier are {'alpha': 1, 'class_weight': None, 'shuffle': True, 'verbose': 1} with a score of 0.544262740841132\nBest parameters for SGD Classifier are {'alpha': 1, 'class_weight': None, 'shuffle': True, 'verbose': 0} with a score of 0.5442736601857145\nBest parameters for SGD Classifier are {'alpha': 1, 'class_weight': 'balanced', 'shuffle': True, 'verbose': 1} with a score of 0.5482056947593569\nBest parameters for SGD Classifier are {'alpha': 0.0001, 'class_weight': 'balanced', 'shuffle': True, 'verbose': 1} with a score of 0.5614292351534382\nBest parameters for SGD Classifier are {'alpha': 0.0001, 'class_weight': 'balanced', 'shuffle': True, 'verbose': 10} with a score of 0.5717946906292755\nBest parameters for SGD Classifier are {'alpha': 0.0001, 'class_weight': 'balanced', 'shuffle': False, 'verbose': 0} with a score of 0.5796298556291363\nBest parameters for SGD Classifier are {'alpha': 0.0001, 'class_weight': 'balanced', 'shuffle': False, 'verbose': 1} with a score of 0.5796298556291363\nBest parameters for SGD Classifier are {'alpha': 0.0001, 'class_weight': 'balanced', 'shuffle': False, 'verbose': 5} with a score of 0.5796298556291363\nBest parameters for SGD Classifier are {'alpha': 0.0001, 'class_weight': 'balanced', 'shuffle': False, 'verbose': 10} with a score of 0.5796298556291363\nBest parameters for SGD Classifier are {'alpha': 0.001, 'class_weight': None, 'shuffle': True, 'verbose': 5} with a score of 0.5796456993840204\nBest parameters for SGD Classifier are {'alpha': 0.001, 'class_weight': None, 'shuffle': True, 'verbose': 0} with a score of 0.587292452163636\nBest parameters for SGD Classifier are {'alpha': 0.0001, 'class_weight': None, 'shuffle': True, 'verbose': 1} with a score of 0.5902104864246854\nBest parameters for SGD Classifier are {'alpha': 0.0001, 'class_weight': 'balanced', 'shuffle': True, 'verbose': 0} with a score of 0.5982454111989655\nBest parameters for SGD Classifier are {'alpha': 0.001, 'class_weight': 'balanced', 'shuffle': True, 'verbose': 10} with a score of 0.5982730307176151\nBest parameters for SGD Classifier are {'alpha': 0.01, 'class_weight': 'balanced', 'shuffle': False, 'verbose': 0} with a score of 0.6005207028632233\nBest parameters for SGD Classifier are {'alpha': 0.01, 'class_weight': 'balanced', 'shuffle': False, 'verbose': 1} with a score of 0.6005207028632233\nBest parameters for SGD Classifier are {'alpha': 0.01, 'class_weight': 'balanced', 'shuffle': False, 'verbose': 5} with a score of 0.6005207028632233\nBest parameters for SGD Classifier are {'alpha': 0.01, 'class_weight': 'balanced', 'shuffle': False, 'verbose': 10} with a score of 0.6005207028632233\nBest parameters for SGD Classifier are {'alpha': 0.001, 'class_weight': 'balanced', 'shuffle': True, 'verbose': 5} with a score of 0.6009360661669462\nBest parameters for SGD Classifier are {'alpha': 0.0001, 'class_weight': None, 'shuffle': True, 'verbose': 0} with a score of 0.6009645421047786\nBest parameters for SGD Classifier are {'alpha': 0.01, 'class_weight': None, 'shuffle': False, 'verbose': 0} with a score of 0.607965126610871\nBest parameters for SGD Classifier are {'alpha': 0.01, 'class_weight': None, 'shuffle': False, 'verbose': 1} with a score of 0.607965126610871\nBest parameters for SGD Classifier are {'alpha': 0.01, 'class_weight': None, 'shuffle': False, 'verbose': 5} with a score of 0.607965126610871\nBest parameters for SGD Classifier are {'alpha': 0.01, 'class_weight': None, 'shuffle': False, 'verbose': 10} with a score of 0.607965126610871\nBest parameters for SGD Classifier are {'alpha': 0.0001, 'class_weight': 'balanced', 'shuffle': True, 'verbose': 5} with a score of 0.6081794455114\nBest parameters for SGD Classifier are {'alpha': 0.0001, 'class_weight': None, 'shuffle': True, 'verbose': 10} with a score of 0.6206127251044297\nBest parameters for SGD Classifier are {'alpha': 0.01, 'class_weight': None, 'shuffle': True, 'verbose': 1} with a score of 0.6232806849640624\nBest parameters for SGD Classifier are {'alpha': 0.0001, 'class_weight': None, 'shuffle': True, 'verbose': 5} with a score of 0.6247280333832197\nBest parameters for SGD Classifier are {'alpha': 0.001, 'class_weight': None, 'shuffle': True, 'verbose': 10} with a score of 0.6261892986140997\nBest parameters for SGD Classifier are {'alpha': 0.001, 'class_weight': 'balanced', 'shuffle': False, 'verbose': 0} with a score of 0.6300952124026626\nBest parameters for SGD Classifier are {'alpha': 0.001, 'class_weight': 'balanced', 'shuffle': False, 'verbose': 1} with a score of 0.6300952124026626\nBest parameters for SGD Classifier are {'alpha': 0.001, 'class_weight': 'balanced', 'shuffle': False, 'verbose': 5} with a score of 0.6300952124026626\nBest parameters for SGD Classifier are {'alpha': 0.001, 'class_weight': 'balanced', 'shuffle': False, 'verbose': 10} with a score of 0.6300952124026626\nBest parameters for SGD Classifier are {'alpha': 0.01, 'class_weight': 'balanced', 'shuffle': True, 'verbose': 0} with a score of 0.6319696998893078\nBest parameters for SGD Classifier are {'alpha': 0.001, 'class_weight': None, 'shuffle': True, 'verbose': 1} with a score of 0.6319926091024513\nBest parameters for SGD Classifier are {'alpha': 0.01, 'class_weight': None, 'shuffle': True, 'verbose': 5} with a score of 0.6441916580489486\nBest parameters for SGD Classifier are {'alpha': 0.001, 'class_weight': 'balanced', 'shuffle': True, 'verbose': 0} with a score of 0.6559684923382598\nBest parameters for SGD Classifier are {'alpha': 0.01, 'class_weight': None, 'shuffle': True, 'verbose': 10} with a score of 0.6576228800948913\nBest parameters for SGD Classifier are {'alpha': 0.01, 'class_weight': 'balanced', 'shuffle': True, 'verbose': 1} with a score of 0.6586610742494021\nBest parameters for SGD Classifier are {'alpha': 0.001, 'class_weight': None, 'shuffle': False, 'verbose': 0} with a score of 0.6588434915353669\nBest parameters for SGD Classifier are {'alpha': 0.001, 'class_weight': None, 'shuffle': False, 'verbose': 1} with a score of 0.6588434915353669\nBest parameters for SGD Classifier are {'alpha': 0.001, 'class_weight': None, 'shuffle': False, 'verbose': 5} with a score of 0.6588434915353669\nBest parameters for SGD Classifier are {'alpha': 0.001, 'class_weight': None, 'shuffle': False, 'verbose': 10} with a score of 0.6588434915353669\nBest parameters for SGD Classifier are {'alpha': 0.1, 'class_weight': None, 'shuffle': True, 'verbose': 1} with a score of 0.6590721554572101\nBest parameters for SGD Classifier are {'alpha': 0.1, 'class_weight': 'balanced', 'shuffle': True, 'verbose': 1} with a score of 0.6592875448817178\nBest parameters for SGD Classifier are {'alpha': 0.01, 'class_weight': 'balanced', 'shuffle': True, 'verbose': 5} with a score of 0.6601201984323247\nBest parameters for SGD Classifier are {'alpha': 0.01, 'class_weight': None, 'shuffle': True, 'verbose': 0} with a score of 0.6603270236650031\nBest parameters for SGD Classifier are {'alpha': 0.01, 'class_weight': 'balanced', 'shuffle': True, 'verbose': 10} with a score of 0.6613455201783065\nBest parameters for SGD Classifier are {'alpha': 0.1, 'class_weight': None, 'shuffle': False, 'verbose': 0} with a score of 0.6615549146685337\nBest parameters for SGD Classifier are {'alpha': 0.1, 'class_weight': None, 'shuffle': False, 'verbose': 1} with a score of 0.6615549146685337\nBest parameters for SGD Classifier are {'alpha': 0.1, 'class_weight': None, 'shuffle': False, 'verbose': 5} with a score of 0.6615549146685337\nBest parameters for SGD Classifier are {'alpha': 0.1, 'class_weight': None, 'shuffle': False, 'verbose': 10} with a score of 0.6615549146685337\nBest parameters for SGD Classifier are {'alpha': 0.1, 'class_weight': None, 'shuffle': True, 'verbose': 0} with a score of 0.664037887984653\nBest parameters for SGD Classifier are {'alpha': 0.1, 'class_weight': None, 'shuffle': True, 'verbose': 10} with a score of 0.6648660453345494\nBest parameters for SGD Classifier are {'alpha': 0.1, 'class_weight': 'balanced', 'shuffle': False, 'verbose': 0} with a score of 0.6671394100556458\nBest parameters for SGD Classifier are {'alpha': 0.1, 'class_weight': 'balanced', 'shuffle': False, 'verbose': 1} with a score of 0.6671394100556458\nBest parameters for SGD Classifier are {'alpha': 0.1, 'class_weight': 'balanced', 'shuffle': False, 'verbose': 5} with a score of 0.6671394100556458\nBest parameters for SGD Classifier are {'alpha': 0.1, 'class_weight': 'balanced', 'shuffle': False, 'verbose': 10} with a score of 0.6671394100556458\nBest parameters for SGD Classifier are {'alpha': 0.1, 'class_weight': 'balanced', 'shuffle': True, 'verbose': 10} with a score of 0.6683854999668137\nBest parameters for SGD Classifier are {'alpha': 0.1, 'class_weight': 'balanced', 'shuffle': True, 'verbose': 0} with a score of 0.6739717081922918\nBest parameters for SGD Classifier are {'alpha': 0.1, 'class_weight': 'balanced', 'shuffle': True, 'verbose': 5} with a score of 0.6766587233787449\nBest parameters for SGD Classifier are {'alpha': 0.001, 'class_weight': 'balanced', 'shuffle': True, 'verbose': 1} with a score of 0.6793408141548963\nBest parameters for SGD Classifier are {'alpha': 0.1, 'class_weight': None, 'shuffle': True, 'verbose': 5} with a score of 0.6814191294070796\n",
     "output_type": "stream"
    }
   ],
   "execution_count": 47
  },
  {
   "cell_type": "markdown",
   "source": "Best parameters for SGD Classifier are {'alpha': 0.01, 'class_weight': None, 'shuffle': True, 'verbose': 5} using f_feature from Select K Best\n",
   "metadata": {
    "tags": [],
    "cell_id": "00051-c3636cb1-861e-4d20-ac55-4f50c27ad9cc",
    "deepnote_cell_type": "markdown"
   },
   "outputs": [],
   "execution_count": null
  },
  {
   "cell_type": "code",
   "source": "# Create a parameter dictionary for the model, {'parameter': [list of settings]}\nparameters = [\n    {\n    'alpha': [0.0001, 0.001, 0.01, 0.1, 1],\n    'shuffle': [True, False],\n    'verbose': [0, 1, 5, 10],\n    'class_weight': [None, 'balanced'],\n    },\n]\n# Created variable model which holds the KNN model\nmodel = SGDClassifier()\n# Create grid_search model, looking at recall\ngrid_search = GridSearchCV(model,\n                           param_grid=parameters,\n                           scoring='accuracy',\n                           )\n# Create variable r that hold the FIT grid_search\nr = grid_search.fit(X_train[rfe_list], y_train)\nscores = r.cv_results_\nlm = r.best_estimator_",
   "metadata": {
    "tags": [],
    "cell_id": "00049-3e3bd1e4-f867-4c2a-aa7d-34e78b11a543",
    "deepnote_to_be_reexecuted": false,
    "source_hash": "6f44e136",
    "is_output_hidden": true,
    "allow_embed": false,
    "execution_start": 1621912091688,
    "execution_millis": 35889,
    "deepnote_cell_type": "code"
   },
   "outputs": [
    {
     "name": "stdout",
     "text": "Total training time: 0.01 seconds.\n-- Epoch 6\nNorm: 0.23, NNZs: 15, Bias: -0.009442, T: 23202, Avg. loss: 0.945453\nTotal training time: 0.01 seconds.\n-- Epoch 7\nNorm: 0.23, NNZs: 15, Bias: -0.012585, T: 27069, Avg. loss: 0.945377\nTotal training time: 0.02 seconds.\nConvergence after 7 epochs took 0.02 seconds\n-- Epoch 1\nNorm: 0.24, NNZs: 15, Bias: 0.028819, T: 3868, Avg. loss: 0.948445\nTotal training time: 0.02 seconds.\n-- Epoch 2\nNorm: 0.24, NNZs: 15, Bias: 0.013260, T: 7736, Avg. loss: 0.944546\nTotal training time: 0.02 seconds.\n-- Epoch 3\nNorm: 0.24, NNZs: 15, Bias: 0.004584, T: 11604, Avg. loss: 0.944139\nTotal training time: 0.03 seconds.\n-- Epoch 4\nNorm: 0.24, NNZs: 15, Bias: -0.001461, T: 15472, Avg. loss: 0.943921\nTotal training time: 0.03 seconds.\n-- Epoch 5\nNorm: 0.24, NNZs: 15, Bias: -0.006104, T: 19340, Avg. loss: 0.943775\nTotal training time: 0.03 seconds.\n-- Epoch 6\nNorm: 0.24, NNZs: 15, Bias: -0.009876, T: 23208, Avg. loss: 0.943666\nTotal training time: 0.03 seconds.\n-- Epoch 7\nNorm: 0.24, NNZs: 15, Bias: -0.013052, T: 27076, Avg. loss: 0.943579\nTotal training time: 0.03 seconds.\nConvergence after 7 epochs took 0.03 seconds\n-- Epoch 1\nNorm: 0.20, NNZs: 15, Bias: -0.759855, T: 3867, Avg. loss: 0.939707\nTotal training time: 0.00 seconds.\n-- Epoch 2\nNorm: 0.20, NNZs: 15, Bias: -0.760235, T: 7734, Avg. loss: 0.939062\nTotal training time: 0.00 seconds.\n-- Epoch 3\nNorm: 0.20, NNZs: 15, Bias: -0.760101, T: 11601, Avg. loss: 0.939003\nTotal training time: 0.00 seconds.\n-- Epoch 4\nNorm: 0.20, NNZs: 15, Bias: -0.760030, T: 15468, Avg. loss: 0.938976\nTotal training time: 0.00 seconds.\n-- Epoch 5\nNorm: 0.20, NNZs: 15, Bias: -0.759891, T: 19335, Avg. loss: 0.938968\nTotal training time: 0.00 seconds.\n-- Epoch 6\nNorm: 0.20, NNZs: 15, Bias: -0.759812, T: 23202, Avg. loss: 0.938962\nTotal training time: 0.00 seconds.\nConvergence after 6 epochs took 0.00 seconds\n-- Epoch 1\nNorm: 0.23, NNZs: 15, Bias: 0.027397, T: 3867, Avg. loss: 0.947323\nTotal training time: 0.00 seconds.\n-- Epoch 2\nNorm: 0.24, NNZs: 15, Bias: 0.011667, T: 7734, Avg. loss: 0.944687\nTotal training time: 0.01 seconds.\n-- Epoch 3\nNorm: 0.24, NNZs: 15, Bias: 0.002891, T: 11601, Avg. loss: 0.944488\nTotal training time: 0.01 seconds.\n-- Epoch 4\nNorm: 0.24, NNZs: 15, Bias: -0.003225, T: 15468, Avg. loss: 0.944357\nTotal training time: 0.01 seconds.\n-- Epoch 5\nNorm: 0.24, NNZs: 15, Bias: -0.007925, T: 19335, Avg. loss: 0.944257\nTotal training time: 0.01 seconds.\n-- Epoch 6\nNorm: 0.24, NNZs: 15, Bias: -0.011743, T: 23202, Avg. loss: 0.944177\nTotal training time: 0.01 seconds.\n-- Epoch 7\nNorm: 0.24, NNZs: 15, Bias: -0.014958, T: 27069, Avg. loss: 0.944110\nTotal training time: 0.01 seconds.\nConvergence after 7 epochs took 0.01 seconds\n-- Epoch 1\nNorm: 0.23, NNZs: 15, Bias: 0.029448, T: 3867, Avg. loss: 0.951113\nTotal training time: 0.00 seconds.\n-- Epoch 2\nNorm: 0.23, NNZs: 15, Bias: 0.013861, T: 7734, Avg. loss: 0.948007\nTotal training time: 0.00 seconds.\n-- Epoch 3\nNorm: 0.23, NNZs: 15, Bias: 0.005133, T: 11601, Avg. loss: 0.947681\nTotal training time: 0.01 seconds.\n-- Epoch 4\nNorm: 0.23, NNZs: 15, Bias: -0.000960, T: 15468, Avg. loss: 0.947495\nTotal training time: 0.01 seconds.\n-- Epoch 5\nNorm: 0.23, NNZs: 15, Bias: -0.005646, T: 19335, Avg. loss: 0.947366\nTotal training time: 0.01 seconds.\n-- Epoch 6\nNorm: 0.23, NNZs: 15, Bias: -0.009455, T: 23202, Avg. loss: 0.947266\nTotal training time: 0.01 seconds.\n-- Epoch 7\nNorm: 0.23, NNZs: 15, Bias: -0.012663, T: 27069, Avg. loss: 0.947186\nTotal training time: 0.01 seconds.\nConvergence after 7 epochs took 0.01 seconds\n-- Epoch 1\nNorm: 0.23, NNZs: 15, Bias: 0.028962, T: 3867, Avg. loss: 0.949495\nTotal training time: 0.00 seconds.\n-- Epoch 2\nNorm: 0.23, NNZs: 15, Bias: 0.013492, T: 7734, Avg. loss: 0.946165\nTotal training time: 0.00 seconds.\n-- Epoch 3\nNorm: 0.23, NNZs: 15, Bias: 0.004883, T: 11601, Avg. loss: 0.945848\nTotal training time: 0.01 seconds.\n-- Epoch 4\nNorm: 0.23, NNZs: 15, Bias: -0.001108, T: 15468, Avg. loss: 0.945670\nTotal training time: 0.01 seconds.\n-- Epoch 5\nNorm: 0.23, NNZs: 15, Bias: -0.005708, T: 19335, Avg. loss: 0.945547\nTotal training time: 0.01 seconds.\n-- Epoch 6\nNorm: 0.23, NNZs: 15, Bias: -0.009442, T: 23202, Avg. loss: 0.945453\nTotal training time: 0.01 seconds.\n-- Epoch 7\nNorm: 0.23, NNZs: 15, Bias: -0.012585, T: 27069, Avg. loss: 0.945377\nTotal training time: 0.01 seconds.\nConvergence after 7 epochs took 0.01 seconds\n-- Epoch 1\nNorm: 0.24, NNZs: 15, Bias: 0.028819, T: 3868, Avg. loss: 0.948445\nTotal training time: 0.00 seconds.\n-- Epoch 2\nNorm: 0.24, NNZs: 15, Bias: 0.013260, T: 7736, Avg. loss: 0.944546\nTotal training time: 0.00 seconds.\n-- Epoch 3\nNorm: 0.24, NNZs: 15, Bias: 0.004584, T: 11604, Avg. loss: 0.944139\nTotal training time: 0.01 seconds.\n-- Epoch 4\nNorm: 0.24, NNZs: 15, Bias: -0.001461, T: 15472, Avg. loss: 0.943921\nTotal training time: 0.01 seconds.\n-- Epoch 5\nNorm: 0.24, NNZs: 15, Bias: -0.006104, T: 19340, Avg. loss: 0.943775\nTotal training time: 0.01 seconds.\n-- Epoch 6\nNorm: 0.24, NNZs: 15, Bias: -0.009876, T: 23208, Avg. loss: 0.943666\nTotal training time: 0.01 seconds.\n-- Epoch 7\nNorm: 0.24, NNZs: 15, Bias: -0.013052, T: 27076, Avg. loss: 0.943579\nTotal training time: 0.01 seconds.\nConvergence after 7 epochs took 0.01 seconds\n-- Epoch 1\nNorm: 0.22, NNZs: 15, Bias: 0.122388, T: 3867, Avg. loss: 0.955317\nTotal training time: 0.00 seconds.\n-- Epoch 2\nNorm: 0.22, NNZs: 15, Bias: 0.119822, T: 7734, Avg. loss: 0.951329\nTotal training time: 0.01 seconds.\n-- Epoch 3\nNorm: 0.22, NNZs: 15, Bias: 0.120178, T: 11601, Avg. loss: 0.951953\nTotal training time: 0.01 seconds.\n-- Epoch 4\nNorm: 0.22, NNZs: 15, Bias: 0.119923, T: 15468, Avg. loss: 0.951753\nTotal training time: 0.01 seconds.\n-- Epoch 5\nNorm: 0.22, NNZs: 15, Bias: 0.120193, T: 19335, Avg. loss: 0.951914\nTotal training time: 0.01 seconds.\n-- Epoch 6\nNorm: 0.22, NNZs: 15, Bias: 0.120089, T: 23202, Avg. loss: 0.951371\nTotal training time: 0.01 seconds.\n-- Epoch 7\nNorm: 0.22, NNZs: 15, Bias: 0.119822, T: 27069, Avg. loss: 0.951202\nTotal training time: 0.01 seconds.\nConvergence after 7 epochs took 0.01 seconds\n-- Epoch 1\nNorm: 0.23, NNZs: 15, Bias: -0.498774, T: 3867, Avg. loss: 0.939296\nTotal training time: 0.01 seconds.\n-- Epoch 2\nNorm: 0.23, NNZs: 15, Bias: -0.498142, T: 7734, Avg. loss: 0.937181\nTotal training time: 0.01 seconds.\n-- Epoch 3\nNorm: 0.23, NNZs: 15, Bias: -0.497976, T: 11601, Avg. loss: 0.937253\nTotal training time: 0.01 seconds.\n-- Epoch 4\nNorm: 0.23, NNZs: 15, Bias: -0.497918, T: 15468, Avg. loss: 0.936665\nTotal training time: 0.01 seconds.\n-- Epoch 5\nNorm: 0.23, NNZs: 15, Bias: -0.497863, T: 19335, Avg. loss: 0.936882\nTotal training time: 0.01 seconds.\n-- Epoch 6\nNorm: 0.23, NNZs: 15, Bias: -0.498001, T: 23202, Avg. loss: 0.936451\nTotal training time: 0.02 seconds.\n-- Epoch 7\nNorm: 0.23, NNZs: 15, Bias: -0.498100, T: 27069, Avg. loss: 0.936508\nTotal training time: 0.02 seconds.\nConvergence after 7 epochs took 0.02 seconds\n-- Epoch 1\nNorm: 0.22, NNZs: 15, Bias: 0.694582, T: 3867, Avg. loss: 0.967544\nTotal training time: 0.01 seconds.\n-- Epoch 2\nNorm: 0.22, NNZs: 15, Bias: 0.698203, T: 7734, Avg. loss: 0.964751\nTotal training time: 0.01 seconds.\n-- Epoch 3\nNorm: 0.22, NNZs: 15, Bias: 0.699435, T: 11601, Avg. loss: 0.964342\nTotal training time: 0.01 seconds.\n-- Epoch 4\nNorm: 0.22, NNZs: 15, Bias: 0.699666, T: 15468, Avg. loss: 0.964105\nTotal training time: 0.01 seconds.\n-- Epoch 5\nNorm: 0.22, NNZs: 15, Bias: 0.699530, T: 19335, Avg. loss: 0.963825\nTotal training time: 0.01 seconds.\n-- Epoch 6\nNorm: 0.22, NNZs: 15, Bias: 0.699497, T: 23202, Avg. loss: 0.964012\nTotal training time: 0.02 seconds.\n-- Epoch 7\nNorm: 0.22, NNZs: 15, Bias: 0.699538, T: 27069, Avg. loss: 0.963896\nTotal training time: 0.02 seconds.\nConvergence after 7 epochs took 0.02 seconds\n-- Epoch 1\nNorm: 0.22, NNZs: 15, Bias: -0.624330, T: 3867, Avg. loss: 0.943264\nTotal training time: 0.00 seconds.\n-- Epoch 2\nNorm: 0.23, NNZs: 15, Bias: -0.619776, T: 7734, Avg. loss: 0.937304\nTotal training time: 0.01 seconds.\n-- Epoch 3\nNorm: 0.23, NNZs: 15, Bias: -0.621014, T: 11601, Avg. loss: 0.935584\nTotal training time: 0.01 seconds.\n-- Epoch 4\nNorm: 0.23, NNZs: 15, Bias: -0.620713, T: 15468, Avg. loss: 0.936056\nTotal training time: 0.01 seconds.\n-- Epoch 5\nNorm: 0.23, NNZs: 15, Bias: -0.620929, T: 19335, Avg. loss: 0.935510\nTotal training time: 0.01 seconds.\n-- Epoch 6\nNorm: 0.23, NNZs: 15, Bias: -0.621084, T: 23202, Avg. loss: 0.935408\nTotal training time: 0.01 seconds.\n-- Epoch 7\nNorm: 0.23, NNZs: 15, Bias: -0.621036, T: 27069, Avg. loss: 0.935419\nTotal training time: 0.02 seconds.\n-- Epoch 8\nNorm: 0.23, NNZs: 15, Bias: -0.620906, T: 30936, Avg. loss: 0.935669\nTotal training time: 0.02 seconds.\nConvergence after 8 epochs took 0.02 seconds\n-- Epoch 1\nNorm: 0.23, NNZs: 15, Bias: 0.679568, T: 3868, Avg. loss: 0.963989\nTotal training time: 0.00 seconds.\n-- Epoch 2\nNorm: 0.23, NNZs: 15, Bias: 0.678081, T: 7736, Avg. loss: 0.960489\nTotal training time: 0.00 seconds.\n-- Epoch 3\nNorm: 0.23, NNZs: 15, Bias: 0.679125, T: 11604, Avg. loss: 0.960317\nTotal training time: 0.01 seconds.\n-- Epoch 4\nNorm: 0.23, NNZs: 15, Bias: 0.678574, T: 15472, Avg. loss: 0.959455\nTotal training time: 0.01 seconds.\n-- Epoch 5\nNorm: 0.23, NNZs: 15, Bias: 0.678592, T: 19340, Avg. loss: 0.959530\nTotal training time: 0.01 seconds.\n-- Epoch 6\nNorm: 0.23, NNZs: 15, Bias: 0.678773, T: 23208, Avg. loss: 0.959705\nTotal training time: 0.01 seconds.\n-- Epoch 7\nNorm: 0.23, NNZs: 15, Bias: 0.678582, T: 27076, Avg. loss: 0.959383\nTotal training time: 0.05 seconds.\nConvergence after 7 epochs took 0.05 seconds\n-- Epoch 1\nNorm: 0.22, NNZs: 15, Bias: 0.606391, T: 3867, Avg. loss: 0.963010\nTotal training time: 0.00 seconds.\n-- Epoch 2\nNorm: 0.22, NNZs: 15, Bias: 0.609550, T: 7734, Avg. loss: 0.961821\nTotal training time: 0.01 seconds.\n-- Epoch 3\nNorm: 0.22, NNZs: 15, Bias: 0.609422, T: 11601, Avg. loss: 0.961936\nTotal training time: 0.01 seconds.\n-- Epoch 4\nNorm: 0.22, NNZs: 15, Bias: 0.608769, T: 15468, Avg. loss: 0.961499\nTotal training time: 0.01 seconds.\n-- Epoch 5\nNorm: 0.22, NNZs: 15, Bias: 0.608899, T: 19335, Avg. loss: 0.961711\nTotal training time: 0.01 seconds.\n-- Epoch 6\nNorm: 0.22, NNZs: 15, Bias: 0.608864, T: 23202, Avg. loss: 0.961350\nTotal training time: 0.01 seconds.\n-- Epoch 7\nNorm: 0.22, NNZs: 15, Bias: 0.608769, T: 27069, Avg. loss: 0.961500\nTotal training time: 0.01 seconds.\nConvergence after 7 epochs took 0.02 seconds\n-- Epoch 1\nNorm: 0.23, NNZs: 15, Bias: -0.100033, T: 3867, Avg. loss: 0.950048\nTotal training time: 0.01 seconds.\n-- Epoch 2\nNorm: 0.23, NNZs: 15, Bias: -0.096897, T: 7734, Avg. loss: 0.945596\nTotal training time: 0.01 seconds.\n-- Epoch 3\nNorm: 0.23, NNZs: 15, Bias: -0.097036, T: 11601, Avg. loss: 0.944972\nTotal training time: 0.01 seconds.\n-- Epoch 4\nNorm: 0.23, NNZs: 15, Bias: -0.096993, T: 15468, Avg. loss: 0.944964\nTotal training time: 0.02 seconds.\n-- Epoch 5\nNorm: 0.23, NNZs: 15, Bias: -0.096497, T: 19335, Avg. loss: 0.945068\nTotal training time: 0.02 seconds.\n-- Epoch 6\nNorm: 0.23, NNZs: 15, Bias: -0.096485, T: 23202, Avg. loss: 0.944774\nTotal training time: 0.02 seconds.\n-- Epoch 7\nNorm: 0.23, NNZs: 15, Bias: -0.096233, T: 27069, Avg. loss: 0.944979\nTotal training time: 0.02 seconds.\nConvergence after 7 epochs took 0.02 seconds\n-- Epoch 1\nNorm: 0.22, NNZs: 15, Bias: 0.741758, T: 3867, Avg. loss: 0.967837\nTotal training time: 0.00 seconds.\n-- Epoch 2\nNorm: 0.22, NNZs: 15, Bias: 0.739567, T: 7734, Avg. loss: 0.964672\nTotal training time: 0.00 seconds.\n-- Epoch 3\nNorm: 0.22, NNZs: 15, Bias: 0.740140, T: 11601, Avg. loss: 0.964920\nTotal training time: 0.01 seconds.\n-- Epoch 4\nNorm: 0.22, NNZs: 15, Bias: 0.739901, T: 15468, Avg. loss: 0.964738\nTotal training time: 0.01 seconds.\n-- Epoch 5\nNorm: 0.22, NNZs: 15, Bias: 0.739510, T: 19335, Avg. loss: 0.964361\nTotal training time: 0.01 seconds.\n-- Epoch 6\nNorm: 0.22, NNZs: 15, Bias: 0.739858, T: 23202, Avg. loss: 0.965067\nTotal training time: 0.01 seconds.\n-- Epoch 7\nNorm: 0.22, NNZs: 15, Bias: 0.739897, T: 27069, Avg. loss: 0.964832\nTotal training time: 0.01 seconds.\nConvergence after 7 epochs took 0.01 seconds\n-- Epoch 1\nNorm: 0.23, NNZs: 15, Bias: 0.178515, T: 3867, Avg. loss: 0.956475\nTotal training time: 0.01 seconds.\n-- Epoch 2\nNorm: 0.23, NNZs: 15, Bias: 0.175110, T: 7734, Avg. loss: 0.951280\nTotal training time: 0.01 seconds.\n-- Epoch 3\nNorm: 0.23, NNZs: 15, Bias: 0.173747, T: 11601, Avg. loss: 0.950779\nTotal training time: 0.01 seconds.\n-- Epoch 4\nNorm: 0.23, NNZs: 15, Bias: 0.173613, T: 15468, Avg. loss: 0.951201\nTotal training time: 0.01 seconds.\n-- Epoch 5\nNorm: 0.23, NNZs: 15, Bias: 0.173460, T: 19335, Avg. loss: 0.951107\nTotal training time: 0.02 seconds.\n-- Epoch 6\nNorm: 0.23, NNZs: 15, Bias: 0.173173, T: 23202, Avg. loss: 0.951034\nTotal training time: 0.02 seconds.\n-- Epoch 7\nNorm: 0.23, NNZs: 15, Bias: 0.173254, T: 27069, Avg. loss: 0.951226\nTotal training time: 0.02 seconds.\nConvergence after 7 epochs took 0.02 seconds\n-- Epoch 1\nNorm: 0.23, NNZs: 15, Bias: 0.363291, T: 3868, Avg. loss: 0.956965\nTotal training time: 0.00 seconds.\n-- Epoch 2\nNorm: 0.23, NNZs: 15, Bias: 0.361659, T: 7736, Avg. loss: 0.953347\nTotal training time: 0.01 seconds.\n-- Epoch 3\nNorm: 0.23, NNZs: 15, Bias: 0.363291, T: 11604, Avg. loss: 0.954054\nTotal training time: 0.01 seconds.\n-- Epoch 4\nNorm: 0.23, NNZs: 15, Bias: 0.362514, T: 15472, Avg. loss: 0.952932\nTotal training time: 0.01 seconds.\n-- Epoch 5\nNorm: 0.23, NNZs: 15, Bias: 0.362556, T: 19340, Avg. loss: 0.953187\nTotal training time: 0.01 seconds.\n-- Epoch 6\nNorm: 0.23, NNZs: 15, Bias: 0.362516, T: 23208, Avg. loss: 0.953271\nTotal training time: 0.01 seconds.\n-- Epoch 7\nNorm: 0.23, NNZs: 15, Bias: 0.362627, T: 27076, Avg. loss: 0.953294\nTotal training time: 0.02 seconds.\nConvergence after 7 epochs took 0.02 seconds\n-- Epoch 1\nNorm: 0.22, NNZs: 15, Bias: -0.564169, T: 3867, Avg. loss: 0.941991\nTotal training time: 0.00 seconds.\n-- Epoch 2\nNorm: 0.22, NNZs: 15, Bias: -0.566183, T: 7734, Avg. loss: 0.938540\nTotal training time: 0.01 seconds.\n-- Epoch 3\nNorm: 0.22, NNZs: 15, Bias: -0.565965, T: 11601, Avg. loss: 0.938200\nTotal training time: 0.02 seconds.\n-- Epoch 4\nNorm: 0.22, NNZs: 15, Bias: -0.565515, T: 15468, Avg. loss: 0.938141\nTotal training time: 0.02 seconds.\n-- Epoch 5\nNorm: 0.22, NNZs: 15, Bias: -0.565590, T: 19335, Avg. loss: 0.937774\nTotal training time: 0.02 seconds.\n-- Epoch 6\nNorm: 0.22, NNZs: 15, Bias: -0.565578, T: 23202, Avg. loss: 0.937624\nTotal training time: 0.03 seconds.\n-- Epoch 7\nNorm: 0.22, NNZs: 15, Bias: -0.565598, T: 27069, Avg. loss: 0.937710\nTotal training time: 0.03 seconds.\nConvergence after 7 epochs took 0.03 seconds\n-- Epoch 1\nNorm: 0.22, NNZs: 15, Bias: -0.675545, T: 3867, Avg. loss: 0.940005\nTotal training time: 0.00 seconds.\n-- Epoch 2\nNorm: 0.22, NNZs: 15, Bias: -0.679590, T: 7734, Avg. loss: 0.935474\nTotal training time: 0.00 seconds.\n-- Epoch 3\nNorm: 0.23, NNZs: 15, Bias: -0.679886, T: 11601, Avg. loss: 0.934802\nTotal training time: 0.00 seconds.\n-- Epoch 4\nNorm: 0.23, NNZs: 15, Bias: -0.679178, T: 15468, Avg. loss: 0.934601\nTotal training time: 0.00 seconds.\n-- Epoch 5\nNorm: 0.23, NNZs: 15, Bias: -0.679243, T: 19335, Avg. loss: 0.933873\nTotal training time: 0.01 seconds.\n-- Epoch 6\nNorm: 0.23, NNZs: 15, Bias: -0.679268, T: 23202, Avg. loss: 0.933606\nTotal training time: 0.01 seconds.\n-- Epoch 7\nNorm: 0.23, NNZs: 15, Bias: -0.679156, T: 27069, Avg. loss: 0.933669\nTotal training time: 0.01 seconds.\nConvergence after 7 epochs took 0.01 seconds\n-- Epoch 1\nNorm: 0.22, NNZs: 15, Bias: -0.652469, T: 3867, Avg. loss: 0.944472\nTotal training time: 0.00 seconds.\n-- Epoch 2\nNorm: 0.22, NNZs: 15, Bias: -0.649521, T: 7734, Avg. loss: 0.938489\nTotal training time: 0.00 seconds.\n-- Epoch 3\nNorm: 0.22, NNZs: 15, Bias: -0.648911, T: 11601, Avg. loss: 0.938361\nTotal training time: 0.00 seconds.\n-- Epoch 4\nNorm: 0.22, NNZs: 15, Bias: -0.649210, T: 15468, Avg. loss: 0.937152\nTotal training time: 0.00 seconds.\n-- Epoch 5\nNorm: 0.22, NNZs: 15, Bias: -0.649011, T: 19335, Avg. loss: 0.937080\nTotal training time: 0.01 seconds.\n-- Epoch 6\nNorm: 0.22, NNZs: 15, Bias: -0.648994, T: 23202, Avg. loss: 0.936818\nTotal training time: 0.01 seconds.\n-- Epoch 7\nNorm: 0.22, NNZs: 15, Bias: -0.649172, T: 27069, Avg. loss: 0.936710\nTotal training time: 0.01 seconds.\n-- Epoch 8\nNorm: 0.22, NNZs: 15, Bias: -0.649143, T: 30936, Avg. loss: 0.936830\nTotal training time: 0.01 seconds.\n-- Epoch 9\nNorm: 0.22, NNZs: 15, Bias: -0.649054, T: 34803, Avg. loss: 0.936764\nTotal training time: 0.01 seconds.\nConvergence after 9 epochs took 0.01 seconds\n-- Epoch 1\nNorm: 0.23, NNZs: 15, Bias: -0.417322, T: 3867, Avg. loss: 0.944387\nTotal training time: 0.00 seconds.\n-- Epoch 2\nNorm: 0.23, NNZs: 15, Bias: -0.413247, T: 7734, Avg. loss: 0.940752\nTotal training time: 0.00 seconds.\n-- Epoch 3\nNorm: 0.23, NNZs: 15, Bias: -0.413040, T: 11601, Avg. loss: 0.939722\nTotal training time: 0.00 seconds.\n-- Epoch 4\nNorm: 0.23, NNZs: 15, Bias: -0.414708, T: 15468, Avg. loss: 0.939065\nTotal training time: 0.00 seconds.\n-- Epoch 5\nNorm: 0.23, NNZs: 15, Bias: -0.414968, T: 19335, Avg. loss: 0.939251\nTotal training time: 0.01 seconds.\n-- Epoch 6\nNorm: 0.23, NNZs: 15, Bias: -0.414982, T: 23202, Avg. loss: 0.939571\nTotal training time: 0.01 seconds.\n-- Epoch 7\nNorm: 0.23, NNZs: 15, Bias: -0.414955, T: 27069, Avg. loss: 0.939436\nTotal training time: 0.01 seconds.\n-- Epoch 8\nNorm: 0.23, NNZs: 15, Bias: -0.414935, T: 30936, Avg. loss: 0.939483\nTotal training time: 0.01 seconds.\nConvergence after 8 epochs took 0.01 seconds\n-- Epoch 1\nNorm: 0.23, NNZs: 15, Bias: 0.597947, T: 3868, Avg. loss: 0.963219\nTotal training time: 0.00 seconds.\n-- Epoch 2\nNorm: 0.23, NNZs: 15, Bias: 0.599231, T: 7736, Avg. loss: 0.958255\nTotal training time: 0.00 seconds.\n-- Epoch 3\nNorm: 0.23, NNZs: 15, Bias: 0.598356, T: 11604, Avg. loss: 0.957834\nTotal training time: 0.00 seconds.\n-- Epoch 4\nNorm: 0.23, NNZs: 15, Bias: 0.598154, T: 15472, Avg. loss: 0.957765\nTotal training time: 0.00 seconds.\n-- Epoch 5\nNorm: 0.23, NNZs: 15, Bias: 0.598214, T: 19340, Avg. loss: 0.958126\nTotal training time: 0.00 seconds.\n-- Epoch 6\nNorm: 0.23, NNZs: 15, Bias: 0.598150, T: 23208, Avg. loss: 0.957926\nTotal training time: 0.00 seconds.\n-- Epoch 7\nNorm: 0.23, NNZs: 15, Bias: 0.598024, T: 27076, Avg. loss: 0.957969\nTotal training time: 0.00 seconds.\nConvergence after 7 epochs took 0.00 seconds\n-- Epoch 1\nNorm: 0.22, NNZs: 15, Bias: -0.686357, T: 3867, Avg. loss: 0.938113\nTotal training time: 0.00 seconds.\n-- Epoch 2\nNorm: 0.22, NNZs: 15, Bias: -0.687095, T: 7734, Avg. loss: 0.935787\nTotal training time: 0.05 seconds.\n-- Epoch 3\nNorm: 0.22, NNZs: 15, Bias: -0.687238, T: 11601, Avg. loss: 0.935483\nTotal training time: 0.05 seconds.\n-- Epoch 4\nNorm: 0.22, NNZs: 15, Bias: -0.687264, T: 15468, Avg. loss: 0.935366\nTotal training time: 0.05 seconds.\n-- Epoch 5\nNorm: 0.22, NNZs: 15, Bias: -0.687202, T: 19335, Avg. loss: 0.935303\nTotal training time: 0.06 seconds.\n-- Epoch 6\nNorm: 0.22, NNZs: 15, Bias: -0.687182, T: 23202, Avg. loss: 0.935273\nTotal training time: 0.06 seconds.\n-- Epoch 7\nNorm: 0.22, NNZs: 15, Bias: -0.687155, T: 27069, Avg. loss: 0.935245\nTotal training time: 0.06 seconds.\nConvergence after 7 epochs took 0.06 seconds\n-- Epoch 1\nNorm: 0.23, NNZs: 15, Bias: 0.068531, T: 3867, Avg. loss: 0.948325\nTotal training time: 0.00 seconds.\n-- Epoch 2\nNorm: 0.23, NNZs: 15, Bias: 0.066960, T: 7734, Avg. loss: 0.947785\nTotal training time: 0.00 seconds.\n-- Epoch 3\nNorm: 0.23, NNZs: 15, Bias: 0.066467, T: 11601, Avg. loss: 0.947867\nTotal training time: 0.00 seconds.\n-- Epoch 4\nNorm: 0.23, NNZs: 15, Bias: 0.066228, T: 15468, Avg. loss: 0.947903\nTotal training time: 0.00 seconds.\n-- Epoch 5\nNorm: 0.23, NNZs: 15, Bias: 0.066086, T: 19335, Avg. loss: 0.947923\nTotal training time: 0.00 seconds.\n-- Epoch 6\nNorm: 0.23, NNZs: 15, Bias: 0.065993, T: 23202, Avg. loss: 0.947935\nTotal training time: 0.01 seconds.\nConvergence after 6 epochs took 0.01 seconds\n-- Epoch 1\nNorm: 0.22, NNZs: 15, Bias: 0.070583, T: 3867, Avg. loss: 0.952059\nTotal training time: 0.00 seconds.\n-- Epoch 2\nNorm: 0.22, NNZs: 15, Bias: 0.069155, T: 7734, Avg. loss: 0.951020\nTotal training time: 0.00 seconds.\n-- Epoch 3\nNorm: 0.22, NNZs: 15, Bias: 0.068710, T: 11601, Avg. loss: 0.950973\nTotal training time: 0.00 seconds.\n-- Epoch 4\nNorm: 0.22, NNZs: 15, Bias: 0.068494, T: 15468, Avg. loss: 0.950953\nTotal training time: 0.00 seconds.\n-- Epoch 5\nNorm: 0.22, NNZs: 15, Bias: 0.068366, T: 19335, Avg. loss: 0.950942\nTotal training time: 0.00 seconds.\n-- Epoch 6\nNorm: 0.22, NNZs: 15, Bias: 0.068282, T: 23202, Avg. loss: 0.950935\nTotal training time: 0.01 seconds.\n-- Epoch 7\nNorm: 0.22, NNZs: 15, Bias: 0.068222, T: 27069, Avg. loss: 0.950930\nTotal training time: 0.01 seconds.\nConvergence after 7 epochs took 0.01 seconds\n-- Epoch 1\nNorm: 0.23, NNZs: 15, Bias: 0.065962, T: 3867, Avg. loss: 0.950180\nTotal training time: 0.00 seconds.\n-- Epoch 2\nNorm: 0.23, NNZs: 15, Bias: 0.064292, T: 7734, Avg. loss: 0.948885\nTotal training time: 0.00 seconds.\n-- Epoch 3\nNorm: 0.23, NNZs: 15, Bias: 0.063756, T: 11601, Avg. loss: 0.948837\nTotal training time: 0.00 seconds.\n-- Epoch 4\nNorm: 0.23, NNZs: 15, Bias: 0.063493, T: 15468, Avg. loss: 0.948819\nTotal training time: 0.00 seconds.\n-- Epoch 5\nNorm: 0.23, NNZs: 15, Bias: 0.063336, T: 19335, Avg. loss: 0.948810\nTotal training time: 0.01 seconds.\n-- Epoch 6\nNorm: 0.23, NNZs: 15, Bias: 0.063233, T: 23202, Avg. loss: 0.948805\nTotal training time: 0.01 seconds.\n-- Epoch 7\nNorm: 0.23, NNZs: 15, Bias: 0.063159, T: 27069, Avg. loss: 0.948801\nTotal training time: 0.01 seconds.\nConvergence after 7 epochs took 0.01 seconds\n-- Epoch 1\nNorm: 0.23, NNZs: 15, Bias: 0.067849, T: 3868, Avg. loss: 0.949250\nTotal training time: 0.00 seconds.\n-- Epoch 2\nNorm: 0.23, NNZs: 15, Bias: 0.066266, T: 7736, Avg. loss: 0.947401\nTotal training time: 0.00 seconds.\n-- Epoch 3\nNorm: 0.23, NNZs: 15, Bias: 0.065766, T: 11604, Avg. loss: 0.947267\nTotal training time: 0.00 seconds.\n-- Epoch 4\nNorm: 0.23, NNZs: 15, Bias: 0.065523, T: 15472, Avg. loss: 0.947213\nTotal training time: 0.00 seconds.\n-- Epoch 5\nNorm: 0.23, NNZs: 15, Bias: 0.065379, T: 19340, Avg. loss: 0.947183\nTotal training time: 0.00 seconds.\n-- Epoch 6\nNorm: 0.23, NNZs: 15, Bias: 0.065283, T: 23208, Avg. loss: 0.947164\nTotal training time: 0.01 seconds.\n-- Epoch 7\nNorm: 0.23, NNZs: 15, Bias: 0.065216, T: 27076, Avg. loss: 0.947151\nTotal training time: 0.01 seconds.\nConvergence after 7 epochs took 0.01 seconds\n-- Epoch 1\nNorm: 0.22, NNZs: 15, Bias: -0.686357, T: 3867, Avg. loss: 0.938113\nTotal training time: 0.00 seconds.\n-- Epoch 2\nNorm: 0.22, NNZs: 15, Bias: -0.687095, T: 7734, Avg. loss: 0.935787\nTotal training time: 0.00 seconds.\n-- Epoch 3\nNorm: 0.22, NNZs: 15, Bias: -0.687238, T: 11601, Avg. loss: 0.935483\nTotal training time: 0.00 seconds.\n-- Epoch 4\nNorm: 0.22, NNZs: 15, Bias: -0.687264, T: 15468, Avg. loss: 0.935366\nTotal training time: 0.06 seconds.\n-- Epoch 5\nNorm: 0.22, NNZs: 15, Bias: -0.687202, T: 19335, Avg. loss: 0.935303\nTotal training time: 0.06 seconds.\n-- Epoch 6\nNorm: 0.22, NNZs: 15, Bias: -0.687182, T: 23202, Avg. loss: 0.935273\nTotal training time: 0.06 seconds.\n-- Epoch 7\nNorm: 0.22, NNZs: 15, Bias: -0.687155, T: 27069, Avg. loss: 0.935245\nTotal training time: 0.06 seconds.\nConvergence after 7 epochs took 0.06 seconds\n-- Epoch 1\nNorm: 0.23, NNZs: 15, Bias: 0.068531, T: 3867, Avg. loss: 0.948325\nTotal training time: 0.00 seconds.\n-- Epoch 2\nNorm: 0.23, NNZs: 15, Bias: 0.066960, T: 7734, Avg. loss: 0.947785\nTotal training time: 0.00 seconds.\n-- Epoch 3\nNorm: 0.23, NNZs: 15, Bias: 0.066467, T: 11601, Avg. loss: 0.947867\nTotal training time: 0.00 seconds.\n-- Epoch 4\nNorm: 0.23, NNZs: 15, Bias: 0.066228, T: 15468, Avg. loss: 0.947903\nTotal training time: 0.00 seconds.\n-- Epoch 5\nNorm: 0.23, NNZs: 15, Bias: 0.066086, T: 19335, Avg. loss: 0.947923\nTotal training time: 0.00 seconds.\n-- Epoch 6\nNorm: 0.23, NNZs: 15, Bias: 0.065993, T: 23202, Avg. loss: 0.947935\nTotal training time: 0.01 seconds.\nConvergence after 6 epochs took 0.01 seconds\n-- Epoch 1\nNorm: 0.22, NNZs: 15, Bias: 0.070583, T: 3867, Avg. loss: 0.952059\nTotal training time: 0.00 seconds.\n-- Epoch 2\nNorm: 0.22, NNZs: 15, Bias: 0.069155, T: 7734, Avg. loss: 0.951020\nTotal training time: 0.00 seconds.\n-- Epoch 3\nNorm: 0.22, NNZs: 15, Bias: 0.068710, T: 11601, Avg. loss: 0.950973\nTotal training time: 0.00 seconds.\n-- Epoch 4\nNorm: 0.22, NNZs: 15, Bias: 0.068494, T: 15468, Avg. loss: 0.950953\nTotal training time: 0.00 seconds.\n-- Epoch 5\nNorm: 0.22, NNZs: 15, Bias: 0.068366, T: 19335, Avg. loss: 0.950942\nTotal training time: 0.00 seconds.\n-- Epoch 6\nNorm: 0.22, NNZs: 15, Bias: 0.068282, T: 23202, Avg. loss: 0.950935\nTotal training time: 0.01 seconds.\n-- Epoch 7\nNorm: 0.22, NNZs: 15, Bias: 0.068222, T: 27069, Avg. loss: 0.950930\nTotal training time: 0.01 seconds.\nConvergence after 7 epochs took 0.01 seconds\n-- Epoch 1\nNorm: 0.23, NNZs: 15, Bias: 0.065962, T: 3867, Avg. loss: 0.950180\nTotal training time: 0.00 seconds.\n-- Epoch 2\nNorm: 0.23, NNZs: 15, Bias: 0.064292, T: 7734, Avg. loss: 0.948885\nTotal training time: 0.00 seconds.\n-- Epoch 3\nNorm: 0.23, NNZs: 15, Bias: 0.063756, T: 11601, Avg. loss: 0.948837\nTotal training time: 0.00 seconds.\n-- Epoch 4\nNorm: 0.23, NNZs: 15, Bias: 0.063493, T: 15468, Avg. loss: 0.948819\nTotal training time: 0.00 seconds.\n-- Epoch 5\nNorm: 0.23, NNZs: 15, Bias: 0.063336, T: 19335, Avg. loss: 0.948810\nTotal training time: 0.00 seconds.\n-- Epoch 6\nNorm: 0.23, NNZs: 15, Bias: 0.063233, T: 23202, Avg. loss: 0.948805\nTotal training time: 0.01 seconds.\n-- Epoch 7\nNorm: 0.23, NNZs: 15, Bias: 0.063159, T: 27069, Avg. loss: 0.948801\nTotal training time: 0.01 seconds.\nConvergence after 7 epochs took 0.01 seconds\n-- Epoch 1\nNorm: 0.23, NNZs: 15, Bias: 0.067849, T: 3868, Avg. loss: 0.949250\nTotal training time: 0.00 seconds.\n-- Epoch 2\nNorm: 0.23, NNZs: 15, Bias: 0.066266, T: 7736, Avg. loss: 0.947401\nTotal training time: 0.00 seconds.\n-- Epoch 3\nNorm: 0.23, NNZs: 15, Bias: 0.065766, T: 11604, Avg. loss: 0.947267\nTotal training time: 0.00 seconds.\n-- Epoch 4\nNorm: 0.23, NNZs: 15, Bias: 0.065523, T: 15472, Avg. loss: 0.947213\nTotal training time: 0.00 seconds.\n-- Epoch 5\nNorm: 0.23, NNZs: 15, Bias: 0.065379, T: 19340, Avg. loss: 0.947183\nTotal training time: 0.01 seconds.\n-- Epoch 6\nNorm: 0.23, NNZs: 15, Bias: 0.065283, T: 23208, Avg. loss: 0.947164\nTotal training time: 0.01 seconds.\n-- Epoch 7\nNorm: 0.23, NNZs: 15, Bias: 0.065216, T: 27076, Avg. loss: 0.947151\nTotal training time: 0.01 seconds.\nConvergence after 7 epochs took 0.01 seconds\n-- Epoch 1\nNorm: 0.22, NNZs: 15, Bias: -0.686357, T: 3867, Avg. loss: 0.938113\nTotal training time: 0.00 seconds.\n-- Epoch 2\nNorm: 0.22, NNZs: 15, Bias: -0.687095, T: 7734, Avg. loss: 0.935787\nTotal training time: 0.00 seconds.\n-- Epoch 3\nNorm: 0.22, NNZs: 15, Bias: -0.687238, T: 11601, Avg. loss: 0.935483\nTotal training time: 0.00 seconds.\n-- Epoch 4\nNorm: 0.22, NNZs: 15, Bias: -0.687264, T: 15468, Avg. loss: 0.935366\nTotal training time: 0.00 seconds.\n-- Epoch 5\nNorm: 0.22, NNZs: 15, Bias: -0.687202, T: 19335, Avg. loss: 0.935303\nTotal training time: 0.00 seconds.\n-- Epoch 6\nNorm: 0.22, NNZs: 15, Bias: -0.687182, T: 23202, Avg. loss: 0.935273\nTotal training time: 0.01 seconds.\n-- Epoch 7\nNorm: 0.22, NNZs: 15, Bias: -0.687155, T: 27069, Avg. loss: 0.935245\nTotal training time: 0.01 seconds.\nConvergence after 7 epochs took 0.01 seconds\n-- Epoch 1\nNorm: 0.23, NNZs: 15, Bias: 0.068531, T: 3867, Avg. loss: 0.948325\nTotal training time: 0.00 seconds.\n-- Epoch 2\nNorm: 0.23, NNZs: 15, Bias: 0.066960, T: 7734, Avg. loss: 0.947785\nTotal training time: 0.00 seconds.\n-- Epoch 3\nNorm: 0.23, NNZs: 15, Bias: 0.066467, T: 11601, Avg. loss: 0.947867\nTotal training time: 0.00 seconds.\n-- Epoch 4\nNorm: 0.23, NNZs: 15, Bias: 0.066228, T: 15468, Avg. loss: 0.947903\nTotal training time: 0.00 seconds.\n-- Epoch 5\nNorm: 0.23, NNZs: 15, Bias: 0.066086, T: 19335, Avg. loss: 0.947923\nTotal training time: 0.00 seconds.\n-- Epoch 6\nNorm: 0.23, NNZs: 15, Bias: 0.065993, T: 23202, Avg. loss: 0.947935\nTotal training time: 0.01 seconds.\nConvergence after 6 epochs took 0.01 seconds\n-- Epoch 1\nNorm: 0.22, NNZs: 15, Bias: 0.070583, T: 3867, Avg. loss: 0.952059\nTotal training time: 0.00 seconds.\n-- Epoch 2\nNorm: 0.22, NNZs: 15, Bias: 0.069155, T: 7734, Avg. loss: 0.951020\nTotal training time: 0.00 seconds.\n-- Epoch 3\nNorm: 0.22, NNZs: 15, Bias: 0.068710, T: 11601, Avg. loss: 0.950973\nTotal training time: 0.00 seconds.\n-- Epoch 4\nNorm: 0.22, NNZs: 15, Bias: 0.068494, T: 15468, Avg. loss: 0.950953\nTotal training time: 0.00 seconds.\n-- Epoch 5\nNorm: 0.22, NNZs: 15, Bias: 0.068366, T: 19335, Avg. loss: 0.950942\nTotal training time: 0.00 seconds.\n-- Epoch 6\nNorm: 0.22, NNZs: 15, Bias: 0.068282, T: 23202, Avg. loss: 0.950935\nTotal training time: 0.01 seconds.\n-- Epoch 7\nNorm: 0.22, NNZs: 15, Bias: 0.068222, T: 27069, Avg. loss: 0.950930\nTotal training time: 0.01 seconds.\nConvergence after 7 epochs took 0.01 seconds\n-- Epoch 1\nNorm: 0.23, NNZs: 15, Bias: 0.065962, T: 3867, Avg. loss: 0.950180\nTotal training time: 0.05 seconds.\n-- Epoch 2\nNorm: 0.23, NNZs: 15, Bias: 0.064292, T: 7734, Avg. loss: 0.948885\nTotal training time: 0.05 seconds.\n-- Epoch 3\nNorm: 0.23, NNZs: 15, Bias: 0.063756, T: 11601, Avg. loss: 0.948837\nTotal training time: 0.05 seconds.\n-- Epoch 4\nNorm: 0.23, NNZs: 15, Bias: 0.063493, T: 15468, Avg. loss: 0.948819\nTotal training time: 0.05 seconds.\n-- Epoch 5\nNorm: 0.23, NNZs: 15, Bias: 0.063336, T: 19335, Avg. loss: 0.948810\nTotal training time: 0.05 seconds.\n-- Epoch 6\nNorm: 0.23, NNZs: 15, Bias: 0.063233, T: 23202, Avg. loss: 0.948805\nTotal training time: 0.06 seconds.\n-- Epoch 7\nNorm: 0.23, NNZs: 15, Bias: 0.063159, T: 27069, Avg. loss: 0.948801\nTotal training time: 0.06 seconds.\nConvergence after 7 epochs took 0.06 seconds\n-- Epoch 1\nNorm: 0.23, NNZs: 15, Bias: 0.067849, T: 3868, Avg. loss: 0.949250\nTotal training time: 0.00 seconds.\n-- Epoch 2\nNorm: 0.23, NNZs: 15, Bias: 0.066266, T: 7736, Avg. loss: 0.947401\nTotal training time: 0.00 seconds.\n-- Epoch 3\nNorm: 0.23, NNZs: 15, Bias: 0.065766, T: 11604, Avg. loss: 0.947267\nTotal training time: 0.00 seconds.\n-- Epoch 4\nNorm: 0.23, NNZs: 15, Bias: 0.065523, T: 15472, Avg. loss: 0.947213\nTotal training time: 0.00 seconds.\n-- Epoch 5\nNorm: 0.23, NNZs: 15, Bias: 0.065379, T: 19340, Avg. loss: 0.947183\nTotal training time: 0.00 seconds.\n-- Epoch 6\nNorm: 0.23, NNZs: 15, Bias: 0.065283, T: 23208, Avg. loss: 0.947164\nTotal training time: 0.01 seconds.\n-- Epoch 7\nNorm: 0.23, NNZs: 15, Bias: 0.065216, T: 27076, Avg. loss: 0.947151\nTotal training time: 0.01 seconds.\nConvergence after 7 epochs took 0.01 seconds\n-- Epoch 1\nNorm: 15.62, NNZs: 15, Bias: -8.147595, T: 4834, Avg. loss: 5.383493\nTotal training time: 0.00 seconds.\n-- Epoch 2\nNorm: 10.01, NNZs: 15, Bias: -2.561451, T: 9668, Avg. loss: 2.221061\nTotal training time: 0.00 seconds.\n-- Epoch 3\nNorm: 8.03, NNZs: 15, Bias: -3.201248, T: 14502, Avg. loss: 1.666656\nTotal training time: 0.00 seconds.\n-- Epoch 4\nNorm: 7.51, NNZs: 15, Bias: -2.723784, T: 19336, Avg. loss: 1.392539\nTotal training time: 0.00 seconds.\n-- Epoch 5\nNorm: 6.71, NNZs: 15, Bias: -3.532382, T: 24170, Avg. loss: 1.236106\nTotal training time: 0.01 seconds.\n-- Epoch 6\nNorm: 6.80, NNZs: 15, Bias: -2.432774, T: 29004, Avg. loss: 1.112793\nTotal training time: 0.01 seconds.\n-- Epoch 7\nNorm: 5.85, NNZs: 15, Bias: -3.309568, T: 33838, Avg. loss: 1.055287\nTotal training time: 0.01 seconds.\n-- Epoch 8\nNorm: 5.35, NNZs: 15, Bias: -2.474488, T: 38672, Avg. loss: 1.014271\nTotal training time: 0.01 seconds.\n-- Epoch 9\nNorm: 4.93, NNZs: 15, Bias: -2.657505, T: 43506, Avg. loss: 0.984603\nTotal training time: 0.01 seconds.\n-- Epoch 10\nNorm: 4.74, NNZs: 15, Bias: -2.597478, T: 48340, Avg. loss: 0.952840\nTotal training time: 0.01 seconds.\n-- Epoch 11\nNorm: 4.41, NNZs: 15, Bias: -2.182854, T: 53174, Avg. loss: 0.923530\nTotal training time: 0.01 seconds.\n-- Epoch 12\nNorm: 4.67, NNZs: 15, Bias: -2.169762, T: 58008, Avg. loss: 0.901541\nTotal training time: 0.01 seconds.\n-- Epoch 13\nNorm: 4.60, NNZs: 15, Bias: -1.535209, T: 62842, Avg. loss: 0.883443\nTotal training time: 0.01 seconds.\n-- Epoch 14\nNorm: 4.74, NNZs: 15, Bias: -2.439280, T: 67676, Avg. loss: 0.866083\nTotal training time: 0.01 seconds.\n-- Epoch 15\nNorm: 4.51, NNZs: 15, Bias: -1.599616, T: 72510, Avg. loss: 0.852857\nTotal training time: 0.01 seconds.\n-- Epoch 16\nNorm: 4.46, NNZs: 15, Bias: -1.608264, T: 77344, Avg. loss: 0.848144\nTotal training time: 0.01 seconds.\n-- Epoch 17\nNorm: 4.23, NNZs: 15, Bias: -1.621969, T: 82178, Avg. loss: 0.826732\nTotal training time: 0.01 seconds.\n-- Epoch 18\nNorm: 4.11, NNZs: 15, Bias: -1.980723, T: 87012, Avg. loss: 0.824608\nTotal training time: 0.01 seconds.\n-- Epoch 19\nNorm: 3.91, NNZs: 15, Bias: -2.290761, T: 91846, Avg. loss: 0.817145\nTotal training time: 0.01 seconds.\n-- Epoch 20\nNorm: 4.29, NNZs: 15, Bias: -1.657709, T: 96680, Avg. loss: 0.814339\nTotal training time: 0.06 seconds.\n-- Epoch 21\nNorm: 4.42, NNZs: 15, Bias: -1.562265, T: 101514, Avg. loss: 0.809580\nTotal training time: 0.07 seconds.\n-- Epoch 22\nNorm: 3.89, NNZs: 15, Bias: -1.560710, T: 106348, Avg. loss: 0.804572\nTotal training time: 0.07 seconds.\n-- Epoch 23\nNorm: 3.92, NNZs: 15, Bias: -1.296686, T: 111182, Avg. loss: 0.791779\nTotal training time: 0.07 seconds.\n-- Epoch 24\nNorm: 3.55, NNZs: 15, Bias: -1.902648, T: 116016, Avg. loss: 0.785222\nTotal training time: 0.07 seconds.\n-- Epoch 25\nNorm: 3.69, NNZs: 15, Bias: -1.486106, T: 120850, Avg. loss: 0.782945\nTotal training time: 0.07 seconds.\n-- Epoch 26\nNorm: 4.04, NNZs: 15, Bias: -1.405494, T: 125684, Avg. loss: 0.776591\nTotal training time: 0.07 seconds.\n-- Epoch 27\nNorm: 3.82, NNZs: 15, Bias: -1.404785, T: 130518, Avg. loss: 0.774861\nTotal training time: 0.07 seconds.\n-- Epoch 28\nNorm: 3.91, NNZs: 15, Bias: -1.771321, T: 135352, Avg. loss: 0.775450\nTotal training time: 0.07 seconds.\n-- Epoch 29\nNorm: 3.84, NNZs: 15, Bias: -1.410036, T: 140186, Avg. loss: 0.762125\nTotal training time: 0.07 seconds.\n-- Epoch 30\nNorm: 3.90, NNZs: 15, Bias: -1.685188, T: 145020, Avg. loss: 0.761541\nTotal training time: 0.08 seconds.\n-- Epoch 31\nNorm: 3.86, NNZs: 15, Bias: -1.478583, T: 149854, Avg. loss: 0.758081\nTotal training time: 0.08 seconds.\n-- Epoch 32\nNorm: 3.69, NNZs: 15, Bias: -1.609259, T: 154688, Avg. loss: 0.758085\nTotal training time: 0.08 seconds.\n-- Epoch 33\nNorm: 3.88, NNZs: 15, Bias: -1.670273, T: 159522, Avg. loss: 0.755765\nTotal training time: 0.08 seconds.\n-- Epoch 34\nNorm: 3.61, NNZs: 15, Bias: -1.723807, T: 164356, Avg. loss: 0.749486\nTotal training time: 0.08 seconds.\n-- Epoch 35\nNorm: 3.85, NNZs: 15, Bias: -1.367147, T: 169190, Avg. loss: 0.746491\nTotal training time: 0.08 seconds.\n-- Epoch 36\nNorm: 3.71, NNZs: 15, Bias: -1.365556, T: 174024, Avg. loss: 0.744252\nTotal training time: 0.08 seconds.\n-- Epoch 37\nNorm: 3.76, NNZs: 15, Bias: -1.587212, T: 178858, Avg. loss: 0.745636\nTotal training time: 0.09 seconds.\n-- Epoch 38\nNorm: 3.86, NNZs: 15, Bias: -1.473591, T: 183692, Avg. loss: 0.746209\nTotal training time: 0.09 seconds.\n-- Epoch 39\nNorm: 3.90, NNZs: 15, Bias: -1.313022, T: 188526, Avg. loss: 0.741365\nTotal training time: 0.09 seconds.\n-- Epoch 40\nNorm: 3.91, NNZs: 15, Bias: -1.215720, T: 193360, Avg. loss: 0.736840\nTotal training time: 0.09 seconds.\n-- Epoch 41\nNorm: 3.75, NNZs: 15, Bias: -1.419474, T: 198194, Avg. loss: 0.731982\nTotal training time: 0.09 seconds.\n-- Epoch 42\nNorm: 3.73, NNZs: 15, Bias: -1.663209, T: 203028, Avg. loss: 0.730549\nTotal training time: 0.09 seconds.\n-- Epoch 43\nNorm: 3.48, NNZs: 15, Bias: -1.851780, T: 207862, Avg. loss: 0.729322\nTotal training time: 0.09 seconds.\n-- Epoch 44\nNorm: 3.77, NNZs: 15, Bias: -1.423913, T: 212696, Avg. loss: 0.733440\nTotal training time: 0.09 seconds.\n-- Epoch 45\nNorm: 3.83, NNZs: 15, Bias: -1.424214, T: 217530, Avg. loss: 0.731511\nTotal training time: 0.10 seconds.\n-- Epoch 46\nNorm: 3.86, NNZs: 15, Bias: -1.379609, T: 222364, Avg. loss: 0.724090\nTotal training time: 0.10 seconds.\n-- Epoch 47\nNorm: 4.05, NNZs: 15, Bias: -1.205873, T: 227198, Avg. loss: 0.733416\nTotal training time: 0.10 seconds.\n-- Epoch 48\nNorm: 3.69, NNZs: 15, Bias: -1.424443, T: 232032, Avg. loss: 0.722074\nTotal training time: 0.10 seconds.\n-- Epoch 49\nNorm: 3.85, NNZs: 15, Bias: -1.338418, T: 236866, Avg. loss: 0.725218\nTotal training time: 0.10 seconds.\n-- Epoch 50\nNorm: 3.68, NNZs: 15, Bias: -1.545871, T: 241700, Avg. loss: 0.720950\nTotal training time: 0.10 seconds.\n-- Epoch 51\nNorm: 3.77, NNZs: 15, Bias: -1.501729, T: 246534, Avg. loss: 0.721808\nTotal training time: 0.10 seconds.\n-- Epoch 52\nNorm: 3.72, NNZs: 15, Bias: -1.381630, T: 251368, Avg. loss: 0.720257\nTotal training time: 0.10 seconds.\n-- Epoch 53\nNorm: 3.89, NNZs: 15, Bias: -1.419820, T: 256202, Avg. loss: 0.719152\nTotal training time: 0.10 seconds.\n-- Epoch 54\nNorm: 4.06, NNZs: 15, Bias: -1.457171, T: 261036, Avg. loss: 0.719004\nTotal training time: 0.11 seconds.\n-- Epoch 55\nNorm: 3.87, NNZs: 15, Bias: -1.568504, T: 265870, Avg. loss: 0.713580\nTotal training time: 0.11 seconds.\n-- Epoch 56\nNorm: 3.97, NNZs: 15, Bias: -1.382716, T: 270704, Avg. loss: 0.716819\nTotal training time: 0.11 seconds.\n-- Epoch 57\nNorm: 3.84, NNZs: 15, Bias: -1.310591, T: 275538, Avg. loss: 0.714661\nTotal training time: 0.11 seconds.\n-- Epoch 58\nNorm: 3.77, NNZs: 15, Bias: -1.525219, T: 280372, Avg. loss: 0.709247\nTotal training time: 0.11 seconds.\n-- Epoch 59\nNorm: 3.79, NNZs: 15, Bias: -1.349230, T: 285206, Avg. loss: 0.714194\nTotal training time: 0.11 seconds.\n-- Epoch 60\nNorm: 3.66, NNZs: 15, Bias: -1.314940, T: 290040, Avg. loss: 0.710891\nTotal training time: 0.11 seconds.\n-- Epoch 61\nNorm: 3.64, NNZs: 15, Bias: -1.484259, T: 294874, Avg. loss: 0.705516\nTotal training time: 0.11 seconds.\n-- Epoch 62\nNorm: 3.71, NNZs: 15, Bias: -1.381760, T: 299708, Avg. loss: 0.710125\nTotal training time: 0.11 seconds.\n-- Epoch 63\nNorm: 3.74, NNZs: 15, Bias: -1.249816, T: 304542, Avg. loss: 0.709285\nTotal training time: 0.11 seconds.\n-- Epoch 64\nNorm: 3.82, NNZs: 15, Bias: -1.347366, T: 309376, Avg. loss: 0.708640\nTotal training time: 0.12 seconds.\n-- Epoch 65\nNorm: 3.74, NNZs: 15, Bias: -1.441402, T: 314210, Avg. loss: 0.706498\nTotal training time: 0.12 seconds.\n-- Epoch 66\nNorm: 3.76, NNZs: 15, Bias: -1.251406, T: 319044, Avg. loss: 0.707650\nTotal training time: 0.12 seconds.\nConvergence after 66 epochs took 0.12 seconds\n",
     "output_type": "stream"
    }
   ],
   "execution_count": 48
  },
  {
   "cell_type": "code",
   "source": "# Returns max value of the mean test score \nmax(scores['mean_test_score'])",
   "metadata": {
    "tags": [],
    "cell_id": "00050-a8e1d628-6041-48d2-b19f-cd87e24f5871",
    "deepnote_to_be_reexecuted": false,
    "source_hash": "32c9439c",
    "allow_embed": false,
    "execution_start": 1621912127582,
    "execution_millis": 12,
    "deepnote_cell_type": "code"
   },
   "outputs": [
    {
     "output_type": "execute_result",
     "execution_count": 49,
     "data": {
      "text/plain": "0.7000376824440491"
     },
     "metadata": {}
    }
   ],
   "execution_count": 49
  },
  {
   "cell_type": "code",
   "source": "# loop that runs all of the possible parameter configurations from the parameter dictionary above\nfor mean_score, params in sorted(list(zip(scores[\"mean_test_score\"], scores[\"params\"])),key = lambda x: x[0]):\n     print(f'Best parameters for SGD Classifier are {params} with a score of {mean_score}')",
   "metadata": {
    "tags": [],
    "cell_id": "00051-fb51c8a0-61ba-4267-9fae-aad236819c5c",
    "deepnote_to_be_reexecuted": false,
    "source_hash": "46f0d3fb",
    "allow_embed": false,
    "execution_start": 1621912127591,
    "execution_millis": 22,
    "is_output_hidden": true,
    "deepnote_cell_type": "code"
   },
   "outputs": [
    {
     "name": "stdout",
     "text": "Best parameters for SGD Classifier are {'alpha': 1, 'class_weight': 'balanced', 'shuffle': True, 'verbose': 0} with a score of 0.5020661112788265\nBest parameters for SGD Classifier are {'alpha': 1, 'class_weight': None, 'shuffle': True, 'verbose': 5} with a score of 0.5055821402343591\nBest parameters for SGD Classifier are {'alpha': 1, 'class_weight': 'balanced', 'shuffle': True, 'verbose': 10} with a score of 0.5059957906997159\nBest parameters for SGD Classifier are {'alpha': 1, 'class_weight': None, 'shuffle': True, 'verbose': 1} with a score of 0.5101365774491983\nBest parameters for SGD Classifier are {'alpha': 1, 'class_weight': 'balanced', 'shuffle': True, 'verbose': 5} with a score of 0.5196462560564894\nBest parameters for SGD Classifier are {'alpha': 1, 'class_weight': 'balanced', 'shuffle': True, 'verbose': 1} with a score of 0.5293670419923736\nBest parameters for SGD Classifier are {'alpha': 1, 'class_weight': None, 'shuffle': True, 'verbose': 10} with a score of 0.5326944446228652\nBest parameters for SGD Classifier are {'alpha': 1, 'class_weight': None, 'shuffle': True, 'verbose': 0} with a score of 0.5413671875836348\nBest parameters for SGD Classifier are {'alpha': 1, 'class_weight': None, 'shuffle': False, 'verbose': 0} with a score of 0.5550304992281522\nBest parameters for SGD Classifier are {'alpha': 1, 'class_weight': None, 'shuffle': False, 'verbose': 1} with a score of 0.5550304992281522\nBest parameters for SGD Classifier are {'alpha': 1, 'class_weight': None, 'shuffle': False, 'verbose': 5} with a score of 0.5550304992281522\nBest parameters for SGD Classifier are {'alpha': 1, 'class_weight': None, 'shuffle': False, 'verbose': 10} with a score of 0.5550304992281522\nBest parameters for SGD Classifier are {'alpha': 1, 'class_weight': 'balanced', 'shuffle': False, 'verbose': 0} with a score of 0.6642579877146668\nBest parameters for SGD Classifier are {'alpha': 1, 'class_weight': 'balanced', 'shuffle': False, 'verbose': 1} with a score of 0.6642579877146668\nBest parameters for SGD Classifier are {'alpha': 1, 'class_weight': 'balanced', 'shuffle': False, 'verbose': 5} with a score of 0.6642579877146668\nBest parameters for SGD Classifier are {'alpha': 1, 'class_weight': 'balanced', 'shuffle': False, 'verbose': 10} with a score of 0.6642579877146668\nBest parameters for SGD Classifier are {'alpha': 0.01, 'class_weight': None, 'shuffle': True, 'verbose': 0} with a score of 0.6708699720165032\nBest parameters for SGD Classifier are {'alpha': 0.01, 'class_weight': None, 'shuffle': True, 'verbose': 1} with a score of 0.6708699720165032\nBest parameters for SGD Classifier are {'alpha': 0.01, 'class_weight': None, 'shuffle': True, 'verbose': 5} with a score of 0.6708699720165032\nBest parameters for SGD Classifier are {'alpha': 0.01, 'class_weight': None, 'shuffle': True, 'verbose': 10} with a score of 0.6708699720165032\nBest parameters for SGD Classifier are {'alpha': 0.01, 'class_weight': None, 'shuffle': False, 'verbose': 0} with a score of 0.6708699720165032\nBest parameters for SGD Classifier are {'alpha': 0.01, 'class_weight': None, 'shuffle': False, 'verbose': 1} with a score of 0.6708699720165032\nBest parameters for SGD Classifier are {'alpha': 0.01, 'class_weight': None, 'shuffle': False, 'verbose': 5} with a score of 0.6708699720165032\nBest parameters for SGD Classifier are {'alpha': 0.01, 'class_weight': None, 'shuffle': False, 'verbose': 10} with a score of 0.6708699720165032\nBest parameters for SGD Classifier are {'alpha': 0.01, 'class_weight': 'balanced', 'shuffle': True, 'verbose': 5} with a score of 0.6735606269844838\nBest parameters for SGD Classifier are {'alpha': 0.1, 'class_weight': None, 'shuffle': True, 'verbose': 10} with a score of 0.6741791757393574\nBest parameters for SGD Classifier are {'alpha': 0.01, 'class_weight': 'balanced', 'shuffle': True, 'verbose': 10} with a score of 0.6741826014160891\nBest parameters for SGD Classifier are {'alpha': 0.1, 'class_weight': None, 'shuffle': True, 'verbose': 0} with a score of 0.6752139442171365\nBest parameters for SGD Classifier are {'alpha': 0.1, 'class_weight': None, 'shuffle': True, 'verbose': 5} with a score of 0.6752145865315237\nBest parameters for SGD Classifier are {'alpha': 0.01, 'class_weight': 'balanced', 'shuffle': True, 'verbose': 1} with a score of 0.6764581071851429\nBest parameters for SGD Classifier are {'alpha': 0.1, 'class_weight': 'balanced', 'shuffle': True, 'verbose': 0} with a score of 0.6770764418352206\nBest parameters for SGD Classifier are {'alpha': 0.1, 'class_weight': 'balanced', 'shuffle': True, 'verbose': 10} with a score of 0.677281768334329\nBest parameters for SGD Classifier are {'alpha': 0.1, 'class_weight': None, 'shuffle': True, 'verbose': 1} with a score of 0.6776954187996858\nBest parameters for SGD Classifier are {'alpha': 0.1, 'class_weight': 'balanced', 'shuffle': True, 'verbose': 1} with a score of 0.6779033145563428\nBest parameters for SGD Classifier are {'alpha': 0.01, 'class_weight': 'balanced', 'shuffle': True, 'verbose': 0} with a score of 0.6779050273947086\nBest parameters for SGD Classifier are {'alpha': 0.1, 'class_weight': 'balanced', 'shuffle': True, 'verbose': 5} with a score of 0.6785237902543779\nBest parameters for SGD Classifier are {'alpha': 0.1, 'class_weight': None, 'shuffle': False, 'verbose': 0} with a score of 0.6791444800572088\nBest parameters for SGD Classifier are {'alpha': 0.1, 'class_weight': None, 'shuffle': False, 'verbose': 1} with a score of 0.6791444800572088\nBest parameters for SGD Classifier are {'alpha': 0.1, 'class_weight': None, 'shuffle': False, 'verbose': 5} with a score of 0.6791444800572088\nBest parameters for SGD Classifier are {'alpha': 0.1, 'class_weight': None, 'shuffle': False, 'verbose': 10} with a score of 0.6791444800572088\nBest parameters for SGD Classifier are {'alpha': 0.1, 'class_weight': 'balanced', 'shuffle': False, 'verbose': 0} with a score of 0.6828675483502156\nBest parameters for SGD Classifier are {'alpha': 0.1, 'class_weight': 'balanced', 'shuffle': False, 'verbose': 1} with a score of 0.6828675483502156\nBest parameters for SGD Classifier are {'alpha': 0.1, 'class_weight': 'balanced', 'shuffle': False, 'verbose': 5} with a score of 0.6828675483502156\nBest parameters for SGD Classifier are {'alpha': 0.1, 'class_weight': 'balanced', 'shuffle': False, 'verbose': 10} with a score of 0.6828675483502156\nBest parameters for SGD Classifier are {'alpha': 0.001, 'class_weight': None, 'shuffle': True, 'verbose': 1} with a score of 0.683075872316464\nBest parameters for SGD Classifier are {'alpha': 0.001, 'class_weight': 'balanced', 'shuffle': True, 'verbose': 1} with a score of 0.683075872316464\nBest parameters for SGD Classifier are {'alpha': 0.001, 'class_weight': None, 'shuffle': True, 'verbose': 5} with a score of 0.6832826975491424\nBest parameters for SGD Classifier are {'alpha': 0.001, 'class_weight': 'balanced', 'shuffle': True, 'verbose': 0} with a score of 0.6832826975491424\nBest parameters for SGD Classifier are {'alpha': 0.001, 'class_weight': 'balanced', 'shuffle': True, 'verbose': 5} with a score of 0.6832826975491424\nBest parameters for SGD Classifier are {'alpha': 0.001, 'class_weight': 'balanced', 'shuffle': True, 'verbose': 10} with a score of 0.6832826975491424\nBest parameters for SGD Classifier are {'alpha': 0.01, 'class_weight': 'balanced', 'shuffle': False, 'verbose': 0} with a score of 0.6832826975491424\nBest parameters for SGD Classifier are {'alpha': 0.01, 'class_weight': 'balanced', 'shuffle': False, 'verbose': 1} with a score of 0.6832826975491424\nBest parameters for SGD Classifier are {'alpha': 0.01, 'class_weight': 'balanced', 'shuffle': False, 'verbose': 5} with a score of 0.6832826975491424\nBest parameters for SGD Classifier are {'alpha': 0.01, 'class_weight': 'balanced', 'shuffle': False, 'verbose': 10} with a score of 0.6832826975491424\nBest parameters for SGD Classifier are {'alpha': 0.001, 'class_weight': None, 'shuffle': True, 'verbose': 0} with a score of 0.6834895227818208\nBest parameters for SGD Classifier are {'alpha': 0.001, 'class_weight': 'balanced', 'shuffle': False, 'verbose': 0} with a score of 0.6834895227818208\nBest parameters for SGD Classifier are {'alpha': 0.001, 'class_weight': 'balanced', 'shuffle': False, 'verbose': 1} with a score of 0.6834895227818208\nBest parameters for SGD Classifier are {'alpha': 0.001, 'class_weight': 'balanced', 'shuffle': False, 'verbose': 5} with a score of 0.6834895227818208\nBest parameters for SGD Classifier are {'alpha': 0.001, 'class_weight': 'balanced', 'shuffle': False, 'verbose': 10} with a score of 0.6834895227818208\nBest parameters for SGD Classifier are {'alpha': 0.0001, 'class_weight': 'balanced', 'shuffle': True, 'verbose': 1} with a score of 0.6834912356201868\nBest parameters for SGD Classifier are {'alpha': 0.001, 'class_weight': None, 'shuffle': True, 'verbose': 10} with a score of 0.6839031732471776\nBest parameters for SGD Classifier are {'alpha': 0.001, 'class_weight': None, 'shuffle': False, 'verbose': 0} with a score of 0.6839031732471776\nBest parameters for SGD Classifier are {'alpha': 0.001, 'class_weight': None, 'shuffle': False, 'verbose': 1} with a score of 0.6839031732471776\nBest parameters for SGD Classifier are {'alpha': 0.001, 'class_weight': None, 'shuffle': False, 'verbose': 5} with a score of 0.6839031732471776\nBest parameters for SGD Classifier are {'alpha': 0.001, 'class_weight': None, 'shuffle': False, 'verbose': 10} with a score of 0.6839031732471776\nBest parameters for SGD Classifier are {'alpha': 0.0001, 'class_weight': None, 'shuffle': False, 'verbose': 0} with a score of 0.6892812716112029\nBest parameters for SGD Classifier are {'alpha': 0.0001, 'class_weight': None, 'shuffle': False, 'verbose': 1} with a score of 0.6892812716112029\nBest parameters for SGD Classifier are {'alpha': 0.0001, 'class_weight': None, 'shuffle': False, 'verbose': 5} with a score of 0.6892812716112029\nBest parameters for SGD Classifier are {'alpha': 0.0001, 'class_weight': None, 'shuffle': False, 'verbose': 10} with a score of 0.6892812716112029\nBest parameters for SGD Classifier are {'alpha': 0.0001, 'class_weight': None, 'shuffle': True, 'verbose': 0} with a score of 0.6899023896236252\nBest parameters for SGD Classifier are {'alpha': 0.0001, 'class_weight': None, 'shuffle': True, 'verbose': 10} with a score of 0.6903156118793905\nBest parameters for SGD Classifier are {'alpha': 0.0001, 'class_weight': 'balanced', 'shuffle': True, 'verbose': 0} with a score of 0.6907296905543387\nBest parameters for SGD Classifier are {'alpha': 0.0001, 'class_weight': 'balanced', 'shuffle': True, 'verbose': 5} with a score of 0.6915567773802566\nBest parameters for SGD Classifier are {'alpha': 0.0001, 'class_weight': 'balanced', 'shuffle': False, 'verbose': 0} with a score of 0.6927973005667354\nBest parameters for SGD Classifier are {'alpha': 0.0001, 'class_weight': 'balanced', 'shuffle': False, 'verbose': 1} with a score of 0.6927973005667354\nBest parameters for SGD Classifier are {'alpha': 0.0001, 'class_weight': 'balanced', 'shuffle': False, 'verbose': 5} with a score of 0.6927973005667354\nBest parameters for SGD Classifier are {'alpha': 0.0001, 'class_weight': 'balanced', 'shuffle': False, 'verbose': 10} with a score of 0.6927973005667354\nBest parameters for SGD Classifier are {'alpha': 0.0001, 'class_weight': None, 'shuffle': True, 'verbose': 1} with a score of 0.6944521165329582\nBest parameters for SGD Classifier are {'alpha': 0.0001, 'class_weight': 'balanced', 'shuffle': True, 'verbose': 10} with a score of 0.6961107863855043\nBest parameters for SGD Classifier are {'alpha': 0.0001, 'class_weight': None, 'shuffle': True, 'verbose': 5} with a score of 0.7000376824440491\n",
     "output_type": "stream"
    }
   ],
   "execution_count": 50
  },
  {
   "cell_type": "markdown",
   "source": "Best parameters for SGD Classifier are {'alpha': 0.0001, 'class_weight': 'balanced', 'shuffle': True, 'verbose': 1} using rfe_list froms RFE\n",
   "metadata": {
    "tags": [],
    "cell_id": "00052-6260c188-07db-413d-b166-cdb4d0a8303e",
    "deepnote_cell_type": "markdown"
   }
  },
  {
   "cell_type": "code",
   "source": "# Build 2 models using Select K Best features for one and RFE Features for the other\nsgd_skb = SGDClassifier(alpha=0.01, shuffle=True, verbose=5, class_weight=None)\nsgd_rfe = SGDClassifier(alpha=0.0001, class_weight='balanced', shuffle=True, verbose=1)\n\n# fitting the SGD Classifiers with the X_train with the corresponding features\nsgd_skb.fit(X_train[f_feature], y_train)\nsgd_rfe.fit(X_train[rfe_list], y_train)\n\n# Model SKB predictions\ny_pred_sgd_skb = sgd_skb.predict(X_train[f_feature])\ny_pred_val_sgd_skb = sgd_skb.predict(X_validate[f_feature])\n\n# Model RFE predictions\ny_pred_sgd_rfe = sgd_rfe.predict(X_train[rfe_list])\ny_pred_val_sgd_rfe = sgd_rfe.predict(X_validate[rfe_list])\n\n# Measure accuracy of the select k best feature model\naccuracy_train_sgd_skb = sgd_skb.score(X_train[f_feature], y_train)\naccuracy_val_sgd_skb = sgd_skb.score(X_validate[f_feature], y_validate)\n\n# Measure accuracy of the RFE feature model\naccuracy_train_sgd_rfe = sgd_rfe.score(X_train[rfe_list], y_train)\naccuracy_val_sgd_rfe = sgd_rfe.score(X_validate[rfe_list], y_validate)",
   "metadata": {
    "tags": [],
    "cell_id": "00056-645ac43a-0c8d-47b9-9421-f62d19b649ad",
    "deepnote_to_be_reexecuted": false,
    "source_hash": "99ef0b23",
    "execution_start": 1621912127619,
    "execution_millis": 367,
    "is_output_hidden": true,
    "deepnote_cell_type": "code"
   },
   "outputs": [
    {
     "name": "stdout",
     "text": "-- Epoch 1\nNorm: 8.06, NNZs: 15, Bias: -0.499480, T: 4834, Avg. loss: 36.224043\nTotal training time: 0.00 seconds.\n-- Epoch 2\nNorm: 6.54, NNZs: 15, Bias: -0.249214, T: 9668, Avg. loss: 5.334911\nTotal training time: 0.00 seconds.\n-- Epoch 3\nNorm: 5.49, NNZs: 15, Bias: -0.042633, T: 14502, Avg. loss: 3.342724\nTotal training time: 0.00 seconds.\n-- Epoch 4\nNorm: 4.72, NNZs: 15, Bias: 0.222257, T: 19336, Avg. loss: 2.540189\nTotal training time: 0.00 seconds.\n-- Epoch 5\nNorm: 4.27, NNZs: 15, Bias: 0.288737, T: 24170, Avg. loss: 2.080017\nTotal training time: 0.00 seconds.\n-- Epoch 6\nNorm: 3.88, NNZs: 15, Bias: 0.306309, T: 29004, Avg. loss: 1.799878\nTotal training time: 0.01 seconds.\n-- Epoch 7\nNorm: 3.65, NNZs: 15, Bias: 0.348118, T: 33838, Avg. loss: 1.627230\nTotal training time: 0.01 seconds.\n-- Epoch 8\nNorm: 3.41, NNZs: 15, Bias: 0.326501, T: 38672, Avg. loss: 1.533574\nTotal training time: 0.01 seconds.\n-- Epoch 9\nNorm: 3.18, NNZs: 15, Bias: 0.331764, T: 43506, Avg. loss: 1.418154\nTotal training time: 0.01 seconds.\n-- Epoch 10\nNorm: 3.01, NNZs: 15, Bias: 0.358890, T: 48340, Avg. loss: 1.364591\nTotal training time: 0.01 seconds.\n-- Epoch 11\nNorm: 2.88, NNZs: 15, Bias: 0.393317, T: 53174, Avg. loss: 1.286213\nTotal training time: 0.01 seconds.\n-- Epoch 12\nNorm: 2.79, NNZs: 15, Bias: 0.395280, T: 58008, Avg. loss: 1.221282\nTotal training time: 0.01 seconds.\n-- Epoch 13\nNorm: 2.71, NNZs: 15, Bias: 0.385627, T: 62842, Avg. loss: 1.189232\nTotal training time: 0.01 seconds.\n-- Epoch 14\nNorm: 2.64, NNZs: 15, Bias: 0.394755, T: 67676, Avg. loss: 1.156966\nTotal training time: 0.01 seconds.\n-- Epoch 15\nNorm: 2.62, NNZs: 15, Bias: 0.391855, T: 72510, Avg. loss: 1.115341\nTotal training time: 0.05 seconds.\n-- Epoch 16\nNorm: 2.53, NNZs: 15, Bias: 0.398672, T: 77344, Avg. loss: 1.107463\nTotal training time: 0.05 seconds.\n-- Epoch 17\nNorm: 2.47, NNZs: 15, Bias: 0.399116, T: 82178, Avg. loss: 1.075548\nTotal training time: 0.05 seconds.\n-- Epoch 18\nNorm: 2.42, NNZs: 15, Bias: 0.412292, T: 87012, Avg. loss: 1.049735\nTotal training time: 0.05 seconds.\n-- Epoch 19\nNorm: 2.39, NNZs: 15, Bias: 0.413450, T: 91846, Avg. loss: 1.021044\nTotal training time: 0.05 seconds.\n-- Epoch 20\nNorm: 2.38, NNZs: 15, Bias: 0.424813, T: 96680, Avg. loss: 1.001889\nTotal training time: 0.05 seconds.\n-- Epoch 21\nNorm: 2.34, NNZs: 15, Bias: 0.417393, T: 101514, Avg. loss: 1.003272\nTotal training time: 0.05 seconds.\n-- Epoch 22\nNorm: 2.33, NNZs: 15, Bias: 0.408697, T: 106348, Avg. loss: 0.981115\nTotal training time: 0.05 seconds.\n-- Epoch 23\nNorm: 2.29, NNZs: 15, Bias: 0.420650, T: 111182, Avg. loss: 0.972613\nTotal training time: 0.06 seconds.\n-- Epoch 24\nNorm: 2.26, NNZs: 15, Bias: 0.424777, T: 116016, Avg. loss: 0.960448\nTotal training time: 0.06 seconds.\n-- Epoch 25\nNorm: 2.25, NNZs: 15, Bias: 0.419807, T: 120850, Avg. loss: 0.938008\nTotal training time: 0.06 seconds.\n-- Epoch 26\nNorm: 2.22, NNZs: 15, Bias: 0.423987, T: 125684, Avg. loss: 0.935312\nTotal training time: 0.06 seconds.\n-- Epoch 27\nNorm: 2.21, NNZs: 15, Bias: 0.426353, T: 130518, Avg. loss: 0.933185\nTotal training time: 0.06 seconds.\n-- Epoch 28\nNorm: 2.20, NNZs: 15, Bias: 0.420320, T: 135352, Avg. loss: 0.914815\nTotal training time: 0.06 seconds.\n-- Epoch 29\nNorm: 2.19, NNZs: 15, Bias: 0.439066, T: 140186, Avg. loss: 0.910549\nTotal training time: 0.06 seconds.\n-- Epoch 30\nNorm: 2.18, NNZs: 15, Bias: 0.432780, T: 145020, Avg. loss: 0.914325\nTotal training time: 0.06 seconds.\n-- Epoch 31\nNorm: 2.17, NNZs: 15, Bias: 0.433410, T: 149854, Avg. loss: 0.893990\nTotal training time: 0.06 seconds.\n-- Epoch 32\nNorm: 2.16, NNZs: 15, Bias: 0.432736, T: 154688, Avg. loss: 0.882150\nTotal training time: 0.06 seconds.\n-- Epoch 33\nNorm: 2.16, NNZs: 15, Bias: 0.436044, T: 159522, Avg. loss: 0.882136\nTotal training time: 0.07 seconds.\n-- Epoch 34\nNorm: 2.15, NNZs: 15, Bias: 0.444086, T: 164356, Avg. loss: 0.887186\nTotal training time: 0.07 seconds.\n-- Epoch 35\nNorm: 2.13, NNZs: 15, Bias: 0.443416, T: 169190, Avg. loss: 0.877436\nTotal training time: 0.07 seconds.\n-- Epoch 36\nNorm: 2.12, NNZs: 15, Bias: 0.444929, T: 174024, Avg. loss: 0.863832\nTotal training time: 0.07 seconds.\n-- Epoch 37\nNorm: 2.11, NNZs: 15, Bias: 0.442033, T: 178858, Avg. loss: 0.866341\nTotal training time: 0.07 seconds.\n-- Epoch 38\nNorm: 2.11, NNZs: 15, Bias: 0.437565, T: 183692, Avg. loss: 0.853518\nTotal training time: 0.07 seconds.\n-- Epoch 39\nNorm: 2.11, NNZs: 15, Bias: 0.435995, T: 188526, Avg. loss: 0.857841\nTotal training time: 0.07 seconds.\n-- Epoch 40\nNorm: 2.10, NNZs: 15, Bias: 0.433211, T: 193360, Avg. loss: 0.849555\nTotal training time: 0.07 seconds.\n-- Epoch 41\nNorm: 2.09, NNZs: 15, Bias: 0.434272, T: 198194, Avg. loss: 0.849480\nTotal training time: 0.07 seconds.\n-- Epoch 42\nNorm: 2.09, NNZs: 15, Bias: 0.428310, T: 203028, Avg. loss: 0.841834\nTotal training time: 0.07 seconds.\n-- Epoch 43\nNorm: 2.07, NNZs: 15, Bias: 0.432748, T: 207862, Avg. loss: 0.825018\nTotal training time: 0.08 seconds.\n-- Epoch 44\nNorm: 2.06, NNZs: 15, Bias: 0.435615, T: 212696, Avg. loss: 0.834902\nTotal training time: 0.08 seconds.\n-- Epoch 45\nNorm: 2.06, NNZs: 15, Bias: 0.440680, T: 217530, Avg. loss: 0.836861\nTotal training time: 0.08 seconds.\n-- Epoch 46\nNorm: 2.05, NNZs: 15, Bias: 0.446114, T: 222364, Avg. loss: 0.827963\nTotal training time: 0.08 seconds.\n-- Epoch 47\nNorm: 2.05, NNZs: 15, Bias: 0.443916, T: 227198, Avg. loss: 0.823156\nTotal training time: 0.08 seconds.\n-- Epoch 48\nNorm: 2.04, NNZs: 15, Bias: 0.451162, T: 232032, Avg. loss: 0.821521\nTotal training time: 0.08 seconds.\n-- Epoch 49\nNorm: 2.04, NNZs: 15, Bias: 0.447785, T: 236866, Avg. loss: 0.809510\nTotal training time: 0.08 seconds.\n-- Epoch 50\nNorm: 2.03, NNZs: 15, Bias: 0.447816, T: 241700, Avg. loss: 0.821443\nTotal training time: 0.08 seconds.\n-- Epoch 51\nNorm: 2.02, NNZs: 15, Bias: 0.444132, T: 246534, Avg. loss: 0.809823\nTotal training time: 0.08 seconds.\n-- Epoch 52\nNorm: 2.01, NNZs: 15, Bias: 0.444520, T: 251368, Avg. loss: 0.806347\nTotal training time: 0.08 seconds.\n-- Epoch 53\nNorm: 2.00, NNZs: 15, Bias: 0.451615, T: 256202, Avg. loss: 0.799027\nTotal training time: 0.08 seconds.\n-- Epoch 54\nNorm: 2.01, NNZs: 15, Bias: 0.451679, T: 261036, Avg. loss: 0.816016\nTotal training time: 0.08 seconds.\n-- Epoch 55\nNorm: 2.00, NNZs: 15, Bias: 0.453967, T: 265870, Avg. loss: 0.813816\nTotal training time: 0.08 seconds.\n-- Epoch 56\nNorm: 2.00, NNZs: 15, Bias: 0.452907, T: 270704, Avg. loss: 0.803485\nTotal training time: 0.09 seconds.\n-- Epoch 57\nNorm: 1.99, NNZs: 15, Bias: 0.456554, T: 275538, Avg. loss: 0.806248\nTotal training time: 0.09 seconds.\n-- Epoch 58\nNorm: 1.99, NNZs: 15, Bias: 0.460162, T: 280372, Avg. loss: 0.799290\nTotal training time: 0.09 seconds.\nConvergence after 58 epochs took 0.09 seconds\n-- Epoch 1\nNorm: 16.01, NNZs: 15, Bias: -5.163952, T: 4834, Avg. loss: 5.336774\nTotal training time: 0.00 seconds.\n-- Epoch 2\nNorm: 12.32, NNZs: 15, Bias: -5.095906, T: 9668, Avg. loss: 2.267960\nTotal training time: 0.00 seconds.\n-- Epoch 3\nNorm: 9.63, NNZs: 15, Bias: -4.279806, T: 14502, Avg. loss: 1.649126\nTotal training time: 0.00 seconds.\n-- Epoch 4\nNorm: 8.13, NNZs: 15, Bias: -2.764420, T: 19336, Avg. loss: 1.400662\nTotal training time: 0.00 seconds.\n-- Epoch 5\nNorm: 7.20, NNZs: 15, Bias: -2.816372, T: 24170, Avg. loss: 1.209694\nTotal training time: 0.00 seconds.\n-- Epoch 6\nNorm: 6.91, NNZs: 15, Bias: -2.302846, T: 29004, Avg. loss: 1.142781\nTotal training time: 0.00 seconds.\n-- Epoch 7\nNorm: 5.35, NNZs: 15, Bias: -2.444476, T: 33838, Avg. loss: 1.058446\nTotal training time: 0.01 seconds.\n-- Epoch 8\nNorm: 6.06, NNZs: 15, Bias: -2.042282, T: 38672, Avg. loss: 1.015089\nTotal training time: 0.01 seconds.\n-- Epoch 9\nNorm: 5.75, NNZs: 15, Bias: -2.661825, T: 43506, Avg. loss: 0.984120\nTotal training time: 0.01 seconds.\n-- Epoch 10\nNorm: 4.81, NNZs: 15, Bias: -1.962432, T: 48340, Avg. loss: 0.959299\nTotal training time: 0.01 seconds.\n-- Epoch 11\nNorm: 5.21, NNZs: 15, Bias: -2.169456, T: 53174, Avg. loss: 0.924180\nTotal training time: 0.01 seconds.\n-- Epoch 12\nNorm: 4.76, NNZs: 15, Bias: -2.321338, T: 58008, Avg. loss: 0.903990\nTotal training time: 0.01 seconds.\n-- Epoch 13\nNorm: 4.66, NNZs: 15, Bias: -2.081054, T: 62842, Avg. loss: 0.878748\nTotal training time: 0.01 seconds.\n-- Epoch 14\nNorm: 4.65, NNZs: 15, Bias: -1.578835, T: 67676, Avg. loss: 0.872239\nTotal training time: 0.01 seconds.\n-- Epoch 15\nNorm: 4.57, NNZs: 15, Bias: -1.479632, T: 72510, Avg. loss: 0.858717\nTotal training time: 0.01 seconds.\n-- Epoch 16\nNorm: 4.70, NNZs: 15, Bias: -2.194872, T: 77344, Avg. loss: 0.849511\nTotal training time: 0.01 seconds.\n-- Epoch 17\nNorm: 4.14, NNZs: 15, Bias: -1.340202, T: 82178, Avg. loss: 0.835503\nTotal training time: 0.01 seconds.\n-- Epoch 18\nNorm: 4.12, NNZs: 15, Bias: -2.001894, T: 87012, Avg. loss: 0.832315\nTotal training time: 0.05 seconds.\n-- Epoch 19\nNorm: 3.93, NNZs: 15, Bias: -1.757897, T: 91846, Avg. loss: 0.822381\nTotal training time: 0.05 seconds.\n-- Epoch 20\nNorm: 4.21, NNZs: 15, Bias: -1.505937, T: 96680, Avg. loss: 0.811775\nTotal training time: 0.06 seconds.\n-- Epoch 21\nNorm: 4.27, NNZs: 15, Bias: -1.723185, T: 101514, Avg. loss: 0.794209\nTotal training time: 0.06 seconds.\n-- Epoch 22\nNorm: 4.23, NNZs: 15, Bias: -1.842347, T: 106348, Avg. loss: 0.797940\nTotal training time: 0.06 seconds.\n-- Epoch 23\nNorm: 3.99, NNZs: 15, Bias: -1.936920, T: 111182, Avg. loss: 0.793793\nTotal training time: 0.06 seconds.\n-- Epoch 24\nNorm: 4.39, NNZs: 15, Bias: -1.600956, T: 116016, Avg. loss: 0.795163\nTotal training time: 0.06 seconds.\n-- Epoch 25\nNorm: 3.69, NNZs: 15, Bias: -2.019025, T: 120850, Avg. loss: 0.783553\nTotal training time: 0.06 seconds.\n-- Epoch 26\nNorm: 3.98, NNZs: 15, Bias: -1.691928, T: 125684, Avg. loss: 0.783910\nTotal training time: 0.06 seconds.\n-- Epoch 27\nNorm: 3.67, NNZs: 15, Bias: -1.747688, T: 130518, Avg. loss: 0.771473\nTotal training time: 0.06 seconds.\n-- Epoch 28\nNorm: 4.10, NNZs: 15, Bias: -1.202422, T: 135352, Avg. loss: 0.775124\nTotal training time: 0.06 seconds.\n-- Epoch 29\nNorm: 3.81, NNZs: 15, Bias: -1.643139, T: 140186, Avg. loss: 0.768790\nTotal training time: 0.06 seconds.\n-- Epoch 30\nNorm: 3.99, NNZs: 15, Bias: -1.642285, T: 145020, Avg. loss: 0.760593\nTotal training time: 0.06 seconds.\n-- Epoch 31\nNorm: 4.02, NNZs: 15, Bias: -1.609702, T: 149854, Avg. loss: 0.765527\nTotal training time: 0.06 seconds.\n-- Epoch 32\nNorm: 3.71, NNZs: 15, Bias: -1.695788, T: 154688, Avg. loss: 0.752137\nTotal training time: 0.06 seconds.\n-- Epoch 33\nNorm: 3.71, NNZs: 15, Bias: -1.408974, T: 159522, Avg. loss: 0.758558\nTotal training time: 0.07 seconds.\n-- Epoch 34\nNorm: 4.12, NNZs: 15, Bias: -1.410470, T: 164356, Avg. loss: 0.753404\nTotal training time: 0.07 seconds.\n-- Epoch 35\nNorm: 3.74, NNZs: 15, Bias: -1.568618, T: 169190, Avg. loss: 0.751326\nTotal training time: 0.07 seconds.\n-- Epoch 36\nNorm: 3.89, NNZs: 15, Bias: -1.521670, T: 174024, Avg. loss: 0.747644\nTotal training time: 0.07 seconds.\n-- Epoch 37\nNorm: 3.92, NNZs: 15, Bias: -1.605538, T: 178858, Avg. loss: 0.741991\nTotal training time: 0.07 seconds.\n-- Epoch 38\nNorm: 3.90, NNZs: 15, Bias: -1.459817, T: 183692, Avg. loss: 0.742452\nTotal training time: 0.07 seconds.\n-- Epoch 39\nNorm: 3.89, NNZs: 15, Bias: -1.314942, T: 188526, Avg. loss: 0.739921\nTotal training time: 0.07 seconds.\n-- Epoch 40\nNorm: 3.75, NNZs: 15, Bias: -1.462198, T: 193360, Avg. loss: 0.743083\nTotal training time: 0.07 seconds.\n-- Epoch 41\nNorm: 3.69, NNZs: 15, Bias: -1.376639, T: 198194, Avg. loss: 0.734858\nTotal training time: 0.07 seconds.\n-- Epoch 42\nNorm: 4.01, NNZs: 15, Bias: -1.398723, T: 203028, Avg. loss: 0.736219\nTotal training time: 0.07 seconds.\n-- Epoch 43\nNorm: 3.84, NNZs: 15, Bias: -1.683080, T: 207862, Avg. loss: 0.734350\nTotal training time: 0.07 seconds.\n-- Epoch 44\nNorm: 3.80, NNZs: 15, Bias: -1.485475, T: 212696, Avg. loss: 0.733031\nTotal training time: 0.07 seconds.\n-- Epoch 45\nNorm: 3.91, NNZs: 15, Bias: -1.190690, T: 217530, Avg. loss: 0.732075\nTotal training time: 0.08 seconds.\n-- Epoch 46\nNorm: 3.74, NNZs: 15, Bias: -1.499295, T: 222364, Avg. loss: 0.728134\nTotal training time: 0.08 seconds.\n-- Epoch 47\nNorm: 3.69, NNZs: 15, Bias: -1.262596, T: 227198, Avg. loss: 0.728866\nTotal training time: 0.08 seconds.\n-- Epoch 48\nNorm: 3.86, NNZs: 15, Bias: -1.115686, T: 232032, Avg. loss: 0.724402\nTotal training time: 0.08 seconds.\n-- Epoch 49\nNorm: 3.71, NNZs: 15, Bias: -1.393419, T: 236866, Avg. loss: 0.726039\nTotal training time: 0.08 seconds.\n-- Epoch 50\nNorm: 3.60, NNZs: 15, Bias: -1.432530, T: 241700, Avg. loss: 0.719960\nTotal training time: 0.08 seconds.\n-- Epoch 51\nNorm: 3.86, NNZs: 15, Bias: -1.237008, T: 246534, Avg. loss: 0.722108\nTotal training time: 0.08 seconds.\n-- Epoch 52\nNorm: 3.79, NNZs: 15, Bias: -1.288623, T: 251368, Avg. loss: 0.724287\nTotal training time: 0.08 seconds.\n-- Epoch 53\nNorm: 3.62, NNZs: 15, Bias: -1.322491, T: 256202, Avg. loss: 0.717592\nTotal training time: 0.08 seconds.\n-- Epoch 54\nNorm: 3.66, NNZs: 15, Bias: -1.194510, T: 261036, Avg. loss: 0.715051\nTotal training time: 0.08 seconds.\n-- Epoch 55\nNorm: 3.85, NNZs: 15, Bias: -1.221203, T: 265870, Avg. loss: 0.721690\nTotal training time: 0.08 seconds.\n-- Epoch 56\nNorm: 3.79, NNZs: 15, Bias: -1.346289, T: 270704, Avg. loss: 0.716556\nTotal training time: 0.09 seconds.\n-- Epoch 57\nNorm: 3.67, NNZs: 15, Bias: -1.436328, T: 275538, Avg. loss: 0.714652\nTotal training time: 0.09 seconds.\n-- Epoch 58\nNorm: 3.77, NNZs: 15, Bias: -1.363232, T: 280372, Avg. loss: 0.716272\nTotal training time: 0.09 seconds.\n-- Epoch 59\nNorm: 3.82, NNZs: 15, Bias: -1.268008, T: 285206, Avg. loss: 0.711837\nTotal training time: 0.09 seconds.\n-- Epoch 60\nNorm: 3.67, NNZs: 15, Bias: -1.225546, T: 290040, Avg. loss: 0.710097\nTotal training time: 0.09 seconds.\n-- Epoch 61\nNorm: 3.84, NNZs: 15, Bias: -1.285278, T: 294874, Avg. loss: 0.712310\nTotal training time: 0.09 seconds.\n-- Epoch 62\nNorm: 3.84, NNZs: 15, Bias: -1.325589, T: 299708, Avg. loss: 0.709296\nTotal training time: 0.09 seconds.\n-- Epoch 63\nNorm: 3.86, NNZs: 15, Bias: -1.237526, T: 304542, Avg. loss: 0.707818\nTotal training time: 0.09 seconds.\n-- Epoch 64\nNorm: 3.80, NNZs: 15, Bias: -1.270377, T: 309376, Avg. loss: 0.711337\nTotal training time: 0.09 seconds.\n-- Epoch 65\nNorm: 3.81, NNZs: 15, Bias: -1.026856, T: 314210, Avg. loss: 0.706161\nTotal training time: 0.09 seconds.\n-- Epoch 66\nNorm: 3.73, NNZs: 15, Bias: -1.283565, T: 319044, Avg. loss: 0.706624\nTotal training time: 0.09 seconds.\n-- Epoch 67\nNorm: 3.78, NNZs: 15, Bias: -1.192172, T: 323878, Avg. loss: 0.705647\nTotal training time: 0.09 seconds.\n-- Epoch 68\nNorm: 3.72, NNZs: 15, Bias: -1.143017, T: 328712, Avg. loss: 0.704046\nTotal training time: 0.10 seconds.\n-- Epoch 69\nNorm: 3.73, NNZs: 15, Bias: -1.080305, T: 333546, Avg. loss: 0.706405\nTotal training time: 0.10 seconds.\n-- Epoch 70\nNorm: 3.76, NNZs: 15, Bias: -1.171076, T: 338380, Avg. loss: 0.702652\nTotal training time: 0.10 seconds.\n-- Epoch 71\nNorm: 3.70, NNZs: 15, Bias: -1.042241, T: 343214, Avg. loss: 0.699747\nTotal training time: 0.10 seconds.\n-- Epoch 72\nNorm: 3.79, NNZs: 15, Bias: -1.156385, T: 348048, Avg. loss: 0.699579\nTotal training time: 0.10 seconds.\n-- Epoch 73\nNorm: 3.75, NNZs: 15, Bias: -1.080540, T: 352882, Avg. loss: 0.699991\nTotal training time: 0.10 seconds.\n-- Epoch 74\nNorm: 3.84, NNZs: 15, Bias: -1.103800, T: 357716, Avg. loss: 0.700564\nTotal training time: 0.10 seconds.\n-- Epoch 75\nNorm: 3.69, NNZs: 15, Bias: -1.259355, T: 362550, Avg. loss: 0.696196\nTotal training time: 0.10 seconds.\n-- Epoch 76\nNorm: 3.68, NNZs: 15, Bias: -1.176336, T: 367384, Avg. loss: 0.700319\nTotal training time: 0.10 seconds.\n-- Epoch 77\nNorm: 3.74, NNZs: 15, Bias: -1.170793, T: 372218, Avg. loss: 0.699065\nTotal training time: 0.10 seconds.\n-- Epoch 78\nNorm: 3.82, NNZs: 15, Bias: -1.115222, T: 377052, Avg. loss: 0.697349\nTotal training time: 0.10 seconds.\n-- Epoch 79\nNorm: 3.78, NNZs: 15, Bias: -1.114837, T: 381886, Avg. loss: 0.698082\nTotal training time: 0.11 seconds.\n-- Epoch 80\nNorm: 3.89, NNZs: 15, Bias: -1.160435, T: 386720, Avg. loss: 0.695015\nTotal training time: 0.11 seconds.\n-- Epoch 81\nNorm: 3.85, NNZs: 15, Bias: -1.010997, T: 391554, Avg. loss: 0.696351\nTotal training time: 0.11 seconds.\n-- Epoch 82\nNorm: 3.78, NNZs: 15, Bias: -1.048262, T: 396388, Avg. loss: 0.691928\nTotal training time: 0.11 seconds.\n-- Epoch 83\nNorm: 3.81, NNZs: 15, Bias: -1.066757, T: 401222, Avg. loss: 0.695758\nTotal training time: 0.11 seconds.\n-- Epoch 84\nNorm: 3.88, NNZs: 15, Bias: -1.012305, T: 406056, Avg. loss: 0.694276\nTotal training time: 0.11 seconds.\n-- Epoch 85\nNorm: 3.77, NNZs: 15, Bias: -1.024730, T: 410890, Avg. loss: 0.690836\nTotal training time: 0.11 seconds.\n-- Epoch 86\nNorm: 3.75, NNZs: 15, Bias: -1.049911, T: 415724, Avg. loss: 0.692110\nTotal training time: 0.15 seconds.\n-- Epoch 87\nNorm: 3.83, NNZs: 15, Bias: -0.924695, T: 420558, Avg. loss: 0.693154\nTotal training time: 0.15 seconds.\n-- Epoch 88\nNorm: 3.85, NNZs: 15, Bias: -0.903313, T: 425392, Avg. loss: 0.689660\nTotal training time: 0.15 seconds.\n-- Epoch 89\nNorm: 3.82, NNZs: 15, Bias: -0.812156, T: 430226, Avg. loss: 0.692250\nTotal training time: 0.16 seconds.\n-- Epoch 90\nNorm: 3.75, NNZs: 15, Bias: -0.955840, T: 435060, Avg. loss: 0.689370\nTotal training time: 0.16 seconds.\n-- Epoch 91\nNorm: 3.80, NNZs: 15, Bias: -0.953070, T: 439894, Avg. loss: 0.689475\nTotal training time: 0.16 seconds.\n-- Epoch 92\nNorm: 3.72, NNZs: 15, Bias: -0.962432, T: 444728, Avg. loss: 0.686922\nTotal training time: 0.16 seconds.\n-- Epoch 93\nNorm: 3.80, NNZs: 15, Bias: -1.018196, T: 449562, Avg. loss: 0.690231\nTotal training time: 0.16 seconds.\n-- Epoch 94\nNorm: 3.86, NNZs: 15, Bias: -0.882968, T: 454396, Avg. loss: 0.688707\nTotal training time: 0.16 seconds.\n-- Epoch 95\nNorm: 3.84, NNZs: 15, Bias: -0.882363, T: 459230, Avg. loss: 0.688434\nTotal training time: 0.16 seconds.\n-- Epoch 96\nNorm: 3.72, NNZs: 15, Bias: -0.893741, T: 464064, Avg. loss: 0.685480\nTotal training time: 0.16 seconds.\n-- Epoch 97\nNorm: 3.75, NNZs: 15, Bias: -0.912268, T: 468898, Avg. loss: 0.687104\nTotal training time: 0.16 seconds.\n-- Epoch 98\nNorm: 3.72, NNZs: 15, Bias: -0.977719, T: 473732, Avg. loss: 0.685701\nTotal training time: 0.16 seconds.\n-- Epoch 99\nNorm: 3.76, NNZs: 15, Bias: -0.850463, T: 478566, Avg. loss: 0.686053\nTotal training time: 0.16 seconds.\n-- Epoch 100\nNorm: 3.75, NNZs: 15, Bias: -0.891465, T: 483400, Avg. loss: 0.685937\nTotal training time: 0.17 seconds.\n-- Epoch 101\nNorm: 3.97, NNZs: 15, Bias: -0.772950, T: 488234, Avg. loss: 0.685903\nTotal training time: 0.17 seconds.\nConvergence after 101 epochs took 0.17 seconds\n",
     "output_type": "stream"
    }
   ],
   "execution_count": 51
  },
  {
   "cell_type": "code",
   "source": "# Add accuracy of the SKB model to the metric_df\nmetric_df = metric_df.append({\n    'model': 'SGD Classifier SKB Features', \n    'baseline_accuracy': round(baseline_accuracy,2),\n    'train_accuracy': round(accuracy_train_sgd_skb, 2),\n    'validate_accuracy':round(accuracy_val_sgd_skb,2)}, ignore_index=True)\n",
   "metadata": {
    "tags": [],
    "cell_id": "00060-7e5fbb44-a8a8-4de8-bc0f-d384b3ab3b75",
    "deepnote_to_be_reexecuted": false,
    "source_hash": "962e44ec",
    "execution_start": 1621912127990,
    "execution_millis": 14,
    "output_cleared": true,
    "deepnote_cell_type": "code"
   },
   "outputs": [],
   "execution_count": 52
  },
  {
   "cell_type": "code",
   "source": "# Add accuracy of the RFE model to the metric_df\nmetric_df = metric_df.append({\n    'model': 'SGD Classifier RFE Features', \n    'baseline_accuracy': round(baseline_accuracy,2),\n    'train_accuracy': round(accuracy_train_sgd_rfe, 2),\n    'validate_accuracy':round(accuracy_val_sgd_rfe,2)}, ignore_index=True)",
   "metadata": {
    "tags": [],
    "cell_id": "00061-60b11f13-4225-4299-9769-853a128cda69",
    "deepnote_to_be_reexecuted": false,
    "source_hash": "cb4e0fa5",
    "execution_start": 1621912128008,
    "execution_millis": 12,
    "deepnote_cell_type": "code"
   },
   "outputs": [],
   "execution_count": 53
  },
  {
   "cell_type": "code",
   "source": "metric_df",
   "metadata": {
    "tags": [],
    "cell_id": "00063-738a4a78-840c-49b6-9eea-091156bab26a",
    "deepnote_to_be_reexecuted": false,
    "source_hash": "400c35cf",
    "execution_start": 1621912128024,
    "execution_millis": 85,
    "deepnote_cell_type": "code"
   },
   "outputs": [
    {
     "output_type": "execute_result",
     "execution_count": 54,
     "data": {
      "application/vnd.deepnote.dataframe.v2+json": {
       "row_count": 4,
       "column_count": 4,
       "columns": [
        {
         "name": "model",
         "dtype": "object",
         "stats": {
          "unique_count": 4,
          "nan_count": 0,
          "categories": [
           {
            "name": "random forest",
            "count": 1
           },
           {
            "name": "naive bayes",
            "count": 1
           },
           {
            "name": "2 others",
            "count": 2
           }
          ]
         }
        },
        {
         "name": "baseline_accuracy",
         "dtype": "float64",
         "stats": {
          "unique_count": 1,
          "nan_count": 0,
          "min": "0.51",
          "max": "0.51",
          "histogram": [
           {
            "bin_start": 0.010000000000000009,
            "bin_end": 0.11000000000000001,
            "count": 0
           },
           {
            "bin_start": 0.11000000000000001,
            "bin_end": 0.21000000000000002,
            "count": 0
           },
           {
            "bin_start": 0.21000000000000002,
            "bin_end": 0.31000000000000005,
            "count": 0
           },
           {
            "bin_start": 0.31000000000000005,
            "bin_end": 0.41000000000000003,
            "count": 0
           },
           {
            "bin_start": 0.41000000000000003,
            "bin_end": 0.51,
            "count": 0
           },
           {
            "bin_start": 0.51,
            "bin_end": 0.6100000000000001,
            "count": 4
           },
           {
            "bin_start": 0.6100000000000001,
            "bin_end": 0.7100000000000001,
            "count": 0
           },
           {
            "bin_start": 0.7100000000000001,
            "bin_end": 0.81,
            "count": 0
           },
           {
            "bin_start": 0.81,
            "bin_end": 0.91,
            "count": 0
           },
           {
            "bin_start": 0.91,
            "bin_end": 1.01,
            "count": 0
           }
          ]
         }
        },
        {
         "name": "train_accuracy",
         "dtype": "float64",
         "stats": {
          "unique_count": 2,
          "nan_count": 0,
          "min": "0.69",
          "max": "0.7",
          "histogram": [
           {
            "bin_start": 0.69,
            "bin_end": 0.691,
            "count": 1
           },
           {
            "bin_start": 0.691,
            "bin_end": 0.692,
            "count": 0
           },
           {
            "bin_start": 0.692,
            "bin_end": 0.693,
            "count": 0
           },
           {
            "bin_start": 0.693,
            "bin_end": 0.694,
            "count": 0
           },
           {
            "bin_start": 0.694,
            "bin_end": 0.695,
            "count": 0
           },
           {
            "bin_start": 0.695,
            "bin_end": 0.696,
            "count": 0
           },
           {
            "bin_start": 0.696,
            "bin_end": 0.697,
            "count": 0
           },
           {
            "bin_start": 0.697,
            "bin_end": 0.698,
            "count": 0
           },
           {
            "bin_start": 0.698,
            "bin_end": 0.699,
            "count": 0
           },
           {
            "bin_start": 0.699,
            "bin_end": 0.7,
            "count": 3
           }
          ]
         }
        },
        {
         "name": "validate_accuracy",
         "dtype": "float64",
         "stats": {
          "unique_count": 4,
          "nan_count": 0,
          "min": "0.68",
          "max": "0.72",
          "histogram": [
           {
            "bin_start": 0.68,
            "bin_end": 0.684,
            "count": 1
           },
           {
            "bin_start": 0.684,
            "bin_end": 0.6880000000000001,
            "count": 0
           },
           {
            "bin_start": 0.6880000000000001,
            "bin_end": 0.6920000000000001,
            "count": 1
           },
           {
            "bin_start": 0.6920000000000001,
            "bin_end": 0.6960000000000001,
            "count": 0
           },
           {
            "bin_start": 0.6960000000000001,
            "bin_end": 0.7,
            "count": 0
           },
           {
            "bin_start": 0.7,
            "bin_end": 0.704,
            "count": 0
           },
           {
            "bin_start": 0.704,
            "bin_end": 0.708,
            "count": 0
           },
           {
            "bin_start": 0.708,
            "bin_end": 0.712,
            "count": 1
           },
           {
            "bin_start": 0.712,
            "bin_end": 0.716,
            "count": 0
           },
           {
            "bin_start": 0.716,
            "bin_end": 0.72,
            "count": 1
           }
          ]
         }
        },
        {
         "name": "_deepnote_index_column",
         "dtype": "int64"
        }
       ],
       "rows_top": [
        {
         "model": "random forest",
         "baseline_accuracy": 0.51,
         "train_accuracy": 0.7,
         "validate_accuracy": 0.72,
         "_deepnote_index_column": 0
        },
        {
         "model": "naive bayes",
         "baseline_accuracy": 0.51,
         "train_accuracy": 0.7,
         "validate_accuracy": 0.68,
         "_deepnote_index_column": 1
        },
        {
         "model": "SGD Classifier SKB Features",
         "baseline_accuracy": 0.51,
         "train_accuracy": 0.7,
         "validate_accuracy": 0.71,
         "_deepnote_index_column": 2
        },
        {
         "model": "SGD Classifier RFE Features",
         "baseline_accuracy": 0.51,
         "train_accuracy": 0.69,
         "validate_accuracy": 0.69,
         "_deepnote_index_column": 3
        }
       ],
       "rows_bottom": null
      },
      "text/plain": "                         model  baseline_accuracy  train_accuracy  \\\n0                random forest               0.51            0.70   \n1                  naive bayes               0.51            0.70   \n2  SGD Classifier SKB Features               0.51            0.70   \n3  SGD Classifier RFE Features               0.51            0.69   \n\n   validate_accuracy  \n0               0.72  \n1               0.68  \n2               0.71  \n3               0.69  ",
      "text/html": "<div>\n<style scoped>\n    .dataframe tbody tr th:only-of-type {\n        vertical-align: middle;\n    }\n\n    .dataframe tbody tr th {\n        vertical-align: top;\n    }\n\n    .dataframe thead th {\n        text-align: right;\n    }\n</style>\n<table border=\"1\" class=\"dataframe\">\n  <thead>\n    <tr style=\"text-align: right;\">\n      <th></th>\n      <th>model</th>\n      <th>baseline_accuracy</th>\n      <th>train_accuracy</th>\n      <th>validate_accuracy</th>\n    </tr>\n  </thead>\n  <tbody>\n    <tr>\n      <th>0</th>\n      <td>random forest</td>\n      <td>0.51</td>\n      <td>0.70</td>\n      <td>0.72</td>\n    </tr>\n    <tr>\n      <th>1</th>\n      <td>naive bayes</td>\n      <td>0.51</td>\n      <td>0.70</td>\n      <td>0.68</td>\n    </tr>\n    <tr>\n      <th>2</th>\n      <td>SGD Classifier SKB Features</td>\n      <td>0.51</td>\n      <td>0.70</td>\n      <td>0.71</td>\n    </tr>\n    <tr>\n      <th>3</th>\n      <td>SGD Classifier RFE Features</td>\n      <td>0.51</td>\n      <td>0.69</td>\n      <td>0.69</td>\n    </tr>\n  </tbody>\n</table>\n</div>"
     },
     "metadata": {}
    }
   ],
   "execution_count": 54
  },
  {
   "cell_type": "code",
   "source": "",
   "metadata": {
    "tags": [],
    "cell_id": "00065-d5f8f66d-380d-4c58-ac52-5d214c7846dd",
    "deepnote_to_be_reexecuted": false,
    "source_hash": "b623e53d",
    "execution_start": 1621912128102,
    "execution_millis": 1,
    "deepnote_cell_type": "code"
   },
   "outputs": [],
   "execution_count": 54
  },
  {
   "cell_type": "markdown",
   "source": "___\n# KNN \n## Train",
   "metadata": {
    "tags": [],
    "cell_id": "00066-5c562e23-abbc-415c-a7e1-f93c4e0f290b",
    "deepnote_cell_type": "markdown"
   }
  },
  {
   "cell_type": "code",
   "source": "def get_metrics(mod, X, y):\n    \"\"\"\n    get_metrics returns the baseline accuracy score \n    along with the current model's accuracy score for comparison \n    along with a table of precision/recall/f1-score/support percentages of the model\n    \"\"\"\n    baseline_accuracy = (train.alleged_threat_lvl == 0).mean()\n    y_pred = mod.predict(X)\n    accuracy = mod.score(X, y)\n    conf = confusion_matrix(y, y_pred)\n    prfs = pd.DataFrame(precision_recall_fscore_support(y, y_pred), index=['precision', 'recall', 'f1-score', 'support'])\n    \n    print(f'''\n    BASELINE accuracy is: {baseline_accuracy:.2%}\n    The accuracy for our model is: {accuracy:.5%} \n    ''')\n    return prfs, conf",
   "metadata": {
    "tags": [],
    "cell_id": "00069-ccaeab24-85c5-4c80-be63-036ad728bd92",
    "deepnote_to_be_reexecuted": false,
    "source_hash": "bbcd8d51",
    "execution_start": 1621913863748,
    "execution_millis": 4,
    "deepnote_cell_type": "code"
   },
   "outputs": [],
   "execution_count": 69
  },
  {
   "cell_type": "code",
   "source": "# Create KNN object (thing)\nknn = KNeighborsClassifier(n_neighbors=5, weights='uniform')\n# fit the model (thing)\nknn.fit(train[f_feature], y_train)",
   "metadata": {
    "tags": [],
    "cell_id": "00071-16dd3d22-80a0-4e0c-aa88-06c9b829ece7",
    "deepnote_to_be_reexecuted": false,
    "source_hash": "1fd2a00e",
    "execution_start": 1621913864631,
    "execution_millis": 35,
    "deepnote_cell_type": "code"
   },
   "outputs": [
    {
     "output_type": "execute_result",
     "execution_count": 70,
     "data": {
      "text/plain": "KNeighborsClassifier()"
     },
     "metadata": {}
    }
   ],
   "execution_count": 70
  },
  {
   "cell_type": "code",
   "source": "# Use the model (thing)\n# Select k Best features\nget_metrics(knn, train[f_feature], y_train)",
   "metadata": {
    "tags": [],
    "cell_id": "00072-d0c66d9b-66bd-4379-b697-322c7f2fa99a",
    "deepnote_to_be_reexecuted": false,
    "source_hash": "c6cb09d",
    "execution_start": 1621913866162,
    "execution_millis": 889,
    "deepnote_cell_type": "code"
   },
   "outputs": [
    {
     "name": "stdout",
     "text": "\n    BASELINE accuracy is: 51.01%\n    The accuracy for our model is: 74.18287% \n    \n",
     "output_type": "stream"
    },
    {
     "output_type": "execute_result",
     "execution_count": 71,
     "data": {
      "text/plain": "(                     0            1\n precision     0.761598     0.723464\n recall        0.718978     0.765625\n f1-score      0.739675     0.743947\n support    2466.000000  2368.000000,\n array([[1773,  693],\n        [ 555, 1813]]))"
     },
     "metadata": {}
    }
   ],
   "execution_count": 71
  },
  {
   "cell_type": "code",
   "source": "# Use the model (thing)\n# RFE features\nget_metrics(knn, train[rfe_list], y_train)",
   "metadata": {
    "tags": [],
    "cell_id": "00073-cc52a515-248f-47d1-b97d-58ac9d1f5815",
    "deepnote_to_be_reexecuted": false,
    "source_hash": "15d2c431",
    "execution_start": 1621913871542,
    "execution_millis": 789,
    "deepnote_cell_type": "code"
   },
   "outputs": [
    {
     "name": "stdout",
     "text": "\n    BASELINE accuracy is: 51.01%\n    The accuracy for our model is: 48.28300% \n    \n",
     "output_type": "stream"
    },
    {
     "output_type": "execute_result",
     "execution_count": 72,
     "data": {
      "text/plain": "(                     0            1\n precision     0.496113     0.356522\n recall        0.879968     0.069257\n f1-score      0.634503     0.115983\n support    2466.000000  2368.000000,\n array([[2170,  296],\n        [2204,  164]]))"
     },
     "metadata": {}
    }
   ],
   "execution_count": 72
  },
  {
   "cell_type": "markdown",
   "source": "## Validate",
   "metadata": {
    "tags": [],
    "cell_id": "00074-1b8d4992-af34-4e73-8ecc-ba6ed8d40a27",
    "deepnote_cell_type": "markdown"
   }
  },
  {
   "cell_type": "code",
   "source": "# Use the model (thing)\n# Select k Best features\nget_metrics(knn, validate[f_feature], y_validate)",
   "metadata": {
    "tags": [],
    "cell_id": "00074-45cf7421-6669-4ed5-9fee-eccbc121696d",
    "deepnote_to_be_reexecuted": false,
    "source_hash": "a576bb5c",
    "execution_start": 1621913877342,
    "execution_millis": 374,
    "deepnote_cell_type": "code"
   },
   "outputs": [
    {
     "name": "stdout",
     "text": "\n    BASELINE accuracy is: 51.01%\n    The accuracy for our model is: 65.60540% \n    \n",
     "output_type": "stream"
    },
    {
     "output_type": "execute_result",
     "execution_count": 73,
     "data": {
      "text/plain": "(                     0            1\n precision     0.665370     0.646890\n recall        0.649573     0.662745\n f1-score      0.657376     0.654722\n support    1053.000000  1020.000000,\n array([[684, 369],\n        [344, 676]]))"
     },
     "metadata": {}
    }
   ],
   "execution_count": 73
  },
  {
   "cell_type": "code",
   "source": "# Use the model (thing)\n# RFE features\nget_metrics(knn, validate[rfe_list], y_validate)",
   "metadata": {
    "tags": [],
    "cell_id": "00076-450d3381-593b-4304-acf5-8af16e153ad8",
    "deepnote_to_be_reexecuted": false,
    "source_hash": "ef609b5",
    "execution_start": 1621913880458,
    "execution_millis": 360,
    "deepnote_cell_type": "code"
   },
   "outputs": [
    {
     "name": "stdout",
     "text": "\n    BASELINE accuracy is: 51.01%\n    The accuracy for our model is: 48.67342% \n    \n",
     "output_type": "stream"
    },
    {
     "output_type": "execute_result",
     "execution_count": 74,
     "data": {
      "text/plain": "(                     0            1\n precision     0.497104     0.373563\n recall        0.896486     0.063725\n f1-score      0.639566     0.108878\n support    1053.000000  1020.000000,\n array([[944, 109],\n        [955,  65]]))"
     },
     "metadata": {}
    }
   ],
   "execution_count": 74
  },
  {
   "cell_type": "markdown",
   "source": "**KNN using Select K best is running best with Train=74% & Validate=66%**",
   "metadata": {
    "tags": [],
    "cell_id": "00078-b65913b2-3915-412e-b88c-516009f16f49",
    "deepnote_cell_type": "markdown"
   }
  },
  {
   "cell_type": "markdown",
   "source": "",
   "metadata": {
    "tags": [],
    "cell_id": "00078-aaec10f9-5b16-42ff-a504-f059ce7fd950",
    "deepnote_cell_type": "markdown"
   }
  },
  {
   "cell_type": "markdown",
   "source": "<a style='text-decoration:none;line-height:16px;display:flex;color:#5B5B62;padding:10px;justify-content:end;' href='https://deepnote.com?utm_source=created-in-deepnote-cell&projectId=258e71fc-cf2b-48c3-8461-70ecd9787aa1' target=\"_blank\">\n<img alt='Created in deepnote.com' style='display:inline;max-height:16px;margin:0px;margin-right:7.5px;' src='data:image/svg+xml;base64,PD94bWwgdmVyc2lvbj0iMS4wIiBlbmNvZGluZz0iVVRGLTgiPz4KPHN2ZyB3aWR0aD0iODBweCIgaGVpZ2h0PSI4MHB4IiB2aWV3Qm94PSIwIDAgODAgODAiIHZlcnNpb249IjEuMSIgeG1sbnM9Imh0dHA6Ly93d3cudzMub3JnLzIwMDAvc3ZnIiB4bWxuczp4bGluaz0iaHR0cDovL3d3dy53My5vcmcvMTk5OS94bGluayI+CiAgICA8IS0tIEdlbmVyYXRvcjogU2tldGNoIDU0LjEgKDc2NDkwKSAtIGh0dHBzOi8vc2tldGNoYXBwLmNvbSAtLT4KICAgIDx0aXRsZT5Hcm91cCAzPC90aXRsZT4KICAgIDxkZXNjPkNyZWF0ZWQgd2l0aCBTa2V0Y2guPC9kZXNjPgogICAgPGcgaWQ9IkxhbmRpbmciIHN0cm9rZT0ibm9uZSIgc3Ryb2tlLXdpZHRoPSIxIiBmaWxsPSJub25lIiBmaWxsLXJ1bGU9ImV2ZW5vZGQiPgogICAgICAgIDxnIGlkPSJBcnRib2FyZCIgdHJhbnNmb3JtPSJ0cmFuc2xhdGUoLTEyMzUuMDAwMDAwLCAtNzkuMDAwMDAwKSI+CiAgICAgICAgICAgIDxnIGlkPSJHcm91cC0zIiB0cmFuc2Zvcm09InRyYW5zbGF0ZSgxMjM1LjAwMDAwMCwgNzkuMDAwMDAwKSI+CiAgICAgICAgICAgICAgICA8cG9seWdvbiBpZD0iUGF0aC0yMCIgZmlsbD0iIzAyNjVCNCIgcG9pbnRzPSIyLjM3NjIzNzYyIDgwIDM4LjA0NzY2NjcgODAgNTcuODIxNzgyMiA3My44MDU3NTkyIDU3LjgyMTc4MjIgMzIuNzU5MjczOSAzOS4xNDAyMjc4IDMxLjY4MzE2ODMiPjwvcG9seWdvbj4KICAgICAgICAgICAgICAgIDxwYXRoIGQ9Ik0zNS4wMDc3MTgsODAgQzQyLjkwNjIwMDcsNzYuNDU0OTM1OCA0Ny41NjQ5MTY3LDcxLjU0MjI2NzEgNDguOTgzODY2LDY1LjI2MTk5MzkgQzUxLjExMjI4OTksNTUuODQxNTg0MiA0MS42NzcxNzk1LDQ5LjIxMjIyODQgMjUuNjIzOTg0Niw0OS4yMTIyMjg0IEMyNS40ODQ5Mjg5LDQ5LjEyNjg0NDggMjkuODI2MTI5Niw0My4yODM4MjQ4IDM4LjY0NzU4NjksMzEuNjgzMTY4MyBMNzIuODcxMjg3MSwzMi41NTQ0MjUgTDY1LjI4MDk3Myw2Ny42NzYzNDIxIEw1MS4xMTIyODk5LDc3LjM3NjE0NCBMMzUuMDA3NzE4LDgwIFoiIGlkPSJQYXRoLTIyIiBmaWxsPSIjMDAyODY4Ij48L3BhdGg+CiAgICAgICAgICAgICAgICA8cGF0aCBkPSJNMCwzNy43MzA0NDA1IEwyNy4xMTQ1MzcsMC4yNTcxMTE0MzYgQzYyLjM3MTUxMjMsLTEuOTkwNzE3MDEgODAsMTAuNTAwMzkyNyA4MCwzNy43MzA0NDA1IEM4MCw2NC45NjA0ODgyIDY0Ljc3NjUwMzgsNzkuMDUwMzQxNCAzNC4zMjk1MTEzLDgwIEM0Ny4wNTUzNDg5LDc3LjU2NzA4MDggNTMuNDE4MjY3Nyw3MC4zMTM2MTAzIDUzLjQxODI2NzcsNTguMjM5NTg4NSBDNTMuNDE4MjY3Nyw0MC4xMjg1NTU3IDM2LjMwMzk1NDQsMzcuNzMwNDQwNSAyNS4yMjc0MTcsMzcuNzMwNDQwNSBDMTcuODQzMDU4NiwzNy43MzA0NDA1IDkuNDMzOTE5NjYsMzcuNzMwNDQwNSAwLDM3LjczMDQ0MDUgWiIgaWQ9IlBhdGgtMTkiIGZpbGw9IiMzNzkzRUYiPjwvcGF0aD4KICAgICAgICAgICAgPC9nPgogICAgICAgIDwvZz4KICAgIDwvZz4KPC9zdmc+' > </img>\nCreated in <span style='font-weight:600;margin-left:4px;'>Deepnote</span></a>",
   "metadata": {
    "tags": [],
    "created_in_deepnote_cell": true,
    "deepnote_cell_type": "markdown"
   }
  }
 ],
 "nbformat": 4,
 "nbformat_minor": 2,
 "metadata": {
  "orig_nbformat": 2,
  "deepnote": {
   "is_reactive": false
  },
  "deepnote_notebook_id": "898de622-f47c-4fb6-afc3-512715d2b613",
  "deepnote_execution_queue": []
 }
}