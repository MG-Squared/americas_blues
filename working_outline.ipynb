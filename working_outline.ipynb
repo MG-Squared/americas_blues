{
 "cells": [
  {
   "cell_type": "markdown",
   "source": "# Project Description and Goals\nAcross the United States, there are altercations that result in killings by police officers, whether on-duty or off-duty. Each case is considered as a person dying from being shot, beaten, restrained, intentionally hit by a police vehicle, pepper sprayed, tasered, or otherwise harmed by police. \n\nFor our capstone, we are addressing the issue of police violence that has become a heated topic throughout the country in the recent years. As a team, we will be attempting to help law enforcement agencies spot risk factors so they may step in before risk transforms into actual harm.  \n\nThe open-sourced dataset we acquired from [Mapping Police Violence](https://mappingpoliceviolence.org/aboutthedata) has gathered over 9000 police killings from January 2013 to May 2021. Top drivers of civilian fatalities identified will shed light on changes to be made to save more lives. Then, we will use the features to apply to our classification models predicting the threat level of the victim (attacker or not).\n\n### Objectives for this project include:\n- Identifying the drivers of civilian fatalities. \n- Documenting the process and analysis throughout the data science pipeline.\n- Constructing a classification model that can predict what the victim's threat level is, given the features of the dataset.\n- Deliverables:\n    - README.md file containing overall project information. \n    - A well-documented jupyter notebook detailing the data science pipeline process.\n    - Python modules that automate the data acquisition, preparation, and exploration process.\n\n### Pipeline Process:\n1. Acquire\n2. Prepare\n3. Explore\n4. Model/Evaluate\n5. Deliver\n\n### Initial Hypotheses:\n- How many fatalities happened as a result of an attack by the civilian? (alleged threat level)\n- What are the fatalities by state: % killings vs pop\n- Is race a factor?\n- Does the police officer having a bodycam make a difference?\n- Where and what areas result in more killings?\n- What is happening in suburban fatalities?\n- Do symptoms of mental illness play a role in threat level?\n\n\n***\n### Project Imports",
   "metadata": {
    "tags": [],
    "cell_id": "00001-175e0db8-db11-4814-ba04-c454597c5f28",
    "deepnote_cell_type": "markdown"
   }
  },
  {
   "cell_type": "code",
   "metadata": {
    "tags": [],
    "cell_id": "00000-f0efd4ff-a3e1-40b5-9b13-c6d4643d5937",
    "deepnote_to_be_reexecuted": false,
    "source_hash": "3f5cbffb",
    "execution_start": 1621887333910,
    "execution_millis": 893,
    "deepnote_cell_type": "code"
   },
   "source": "import pandas as pd\nimport numpy as np\n\n# Helper Functions\nimport wrangle as w \n\n# Visualizations\nimport seaborn as sns\nimport matplotlib.pyplot as plt\n\n# Hypothesis tests\nfrom scipy import stats\nfrom scipy.stats import chi2_contingency\nfrom scipy.stats import ttest_1samp\nfrom scipy.stats import ttest_ind\n\n# Split data\nfrom sklearn.model_selection import train_test_split\n\n# Evaluate models\nfrom sklearn.metrics import confusion_matrix\nfrom sklearn.metrics import classification_report\nfrom sklearn.metrics import accuracy_score\nfrom sklearn.metrics import precision_score\nfrom sklearn.metrics import recall_score\nfrom sklearn.metrics import f1_score\nfrom sklearn.metrics import precision_recall_fscore_support \n\n# Create models for classification ML:\n# Decision Tree  \nfrom sklearn.tree import DecisionTreeClassifier\nfrom sklearn.tree import export_graphviz\n\n# Random Forest\nfrom sklearn.ensemble import RandomForestClassifier\n\n# K-Nearest Neighbor(KNN)  \nfrom sklearn.neighbors import KNeighborsClassifier\n\n# Logistic Regression\nfrom sklearn.linear_model import LogisticRegression",
   "execution_count": 1,
   "outputs": []
  },
  {
   "cell_type": "markdown",
   "source": "***\n# Data Acquisition\n",
   "metadata": {
    "tags": [],
    "cell_id": "00002-3b8a9627-eab9-4d3f-aae4-07e8985feb34",
    "deepnote_cell_type": "markdown"
   }
  },
  {
   "cell_type": "code",
   "source": "# acquire data from MPV website's downloaded dataset\ndf = pd.read_excel('data.xlsx')\ndf.head()",
   "metadata": {
    "tags": [],
    "cell_id": "00003-481c5eca-c8fc-4dc5-9877-fececec8d529",
    "deepnote_to_be_reexecuted": false,
    "source_hash": "738fdb1c",
    "execution_start": 1621887334808,
    "execution_millis": 5379,
    "deepnote_cell_type": "code"
   },
   "outputs": [
    {
     "output_type": "execute_result",
     "execution_count": 2,
     "data": {
      "application/vnd.deepnote.dataframe.v2+json": {
       "row_count": 5,
       "column_count": 49,
       "columns": [
        {
         "name": "Victim's name",
         "dtype": "object",
         "stats": {
          "unique_count": 5,
          "nan_count": 0,
          "categories": [
           {
            "name": "Kalon Horton",
            "count": 1
           },
           {
            "name": "Name withheld by police",
            "count": 1
           },
           {
            "name": "3 others",
            "count": 3
           }
          ]
         }
        },
        {
         "name": "Victim's age",
         "dtype": "object",
         "stats": {
          "unique_count": 4,
          "nan_count": 1,
          "categories": [
           {
            "name": "29.0",
            "count": 1
           },
           {
            "name": "3 others",
            "count": 3
           },
           {
            "name": "Missing",
            "count": 1
           }
          ]
         }
        },
        {
         "name": "Victim's gender",
         "dtype": "object",
         "stats": {
          "unique_count": 1,
          "nan_count": 0,
          "categories": [
           {
            "name": "Male",
            "count": 5
           }
          ]
         }
        },
        {
         "name": "Victim's race",
         "dtype": "object",
         "stats": {
          "unique_count": 3,
          "nan_count": 0,
          "categories": [
           {
            "name": "Unknown Race",
            "count": 3
           },
           {
            "name": "Black",
            "count": 1
           },
           {
            "name": "Hispanic",
            "count": 1
           }
          ]
         }
        },
        {
         "name": "URL of image of victim",
         "dtype": "object",
         "stats": {
          "unique_count": 0,
          "nan_count": 5,
          "categories": [
           {
            "name": "Missing",
            "count": 5
           }
          ]
         }
        },
        {
         "name": "Date of Incident (month/day/year)",
         "dtype": "datetime64[ns]",
         "stats": {
          "unique_count": 2,
          "nan_count": 0,
          "min": "2021-05-08 00:00:00",
          "max": "2021-05-09 00:00:00",
          "histogram": [
           {
            "bin_start": 1620432000000000000,
            "bin_end": 1620440640000000000,
            "count": 2
           },
           {
            "bin_start": 1620440640000000000,
            "bin_end": 1620449280000000000,
            "count": 0
           },
           {
            "bin_start": 1620449280000000000,
            "bin_end": 1620457920000000000,
            "count": 0
           },
           {
            "bin_start": 1620457920000000000,
            "bin_end": 1620466560000000000,
            "count": 0
           },
           {
            "bin_start": 1620466560000000000,
            "bin_end": 1620475200000000000,
            "count": 0
           },
           {
            "bin_start": 1620475200000000000,
            "bin_end": 1620483840000000000,
            "count": 0
           },
           {
            "bin_start": 1620483840000000000,
            "bin_end": 1620492480000000000,
            "count": 0
           },
           {
            "bin_start": 1620492480000000000,
            "bin_end": 1620501120000000000,
            "count": 0
           },
           {
            "bin_start": 1620501120000000000,
            "bin_end": 1620509760000000000,
            "count": 0
           },
           {
            "bin_start": 1620509760000000000,
            "bin_end": 1620518400000000000,
            "count": 3
           }
          ]
         }
        },
        {
         "name": "Street Address of Incident",
         "dtype": "object",
         "stats": {
          "unique_count": 1,
          "nan_count": 4,
          "categories": [
           {
            "name": "90 S. Main St.",
            "count": 1
           },
           {
            "name": "Missing",
            "count": 4
           }
          ]
         }
        },
        {
         "name": "City",
         "dtype": "object",
         "stats": {
          "unique_count": 5,
          "nan_count": 0,
          "categories": [
           {
            "name": "Lancaster",
            "count": 1
           },
           {
            "name": "Leicester",
            "count": 1
           },
           {
            "name": "3 others",
            "count": 3
           }
          ]
         }
        },
        {
         "name": "State",
         "dtype": "object",
         "stats": {
          "unique_count": 5,
          "nan_count": 0,
          "categories": [
           {
            "name": "TX",
            "count": 1
           },
           {
            "name": "MA",
            "count": 1
           },
           {
            "name": "3 others",
            "count": 3
           }
          ]
         }
        },
        {
         "name": "Zipcode",
         "dtype": "float64",
         "stats": {
          "unique_count": 1,
          "nan_count": 4,
          "min": "1524.0",
          "max": "1524.0",
          "histogram": [
           {
            "bin_start": 1523.5,
            "bin_end": 1523.6,
            "count": 0
           },
           {
            "bin_start": 1523.6,
            "bin_end": 1523.7,
            "count": 0
           },
           {
            "bin_start": 1523.7,
            "bin_end": 1523.8,
            "count": 0
           },
           {
            "bin_start": 1523.8,
            "bin_end": 1523.9,
            "count": 0
           },
           {
            "bin_start": 1523.9,
            "bin_end": 1524,
            "count": 0
           },
           {
            "bin_start": 1524,
            "bin_end": 1524.1,
            "count": 1
           },
           {
            "bin_start": 1524.1,
            "bin_end": 1524.2,
            "count": 0
           },
           {
            "bin_start": 1524.2,
            "bin_end": 1524.3,
            "count": 0
           },
           {
            "bin_start": 1524.3,
            "bin_end": 1524.4,
            "count": 0
           },
           {
            "bin_start": 1524.4,
            "bin_end": 1524.5,
            "count": 0
           }
          ]
         }
        },
        {
         "name": "County",
         "dtype": "object",
         "stats": {
          "unique_count": 2,
          "nan_count": 3,
          "categories": [
           {
            "name": "Worcester",
            "count": 1
           },
           {
            "name": "Riverside",
            "count": 1
           },
           {
            "name": "Missing",
            "count": 3
           }
          ]
         }
        },
        {
         "name": "Agency responsible for death",
         "dtype": "object",
         "stats": {
          "unique_count": 5,
          "nan_count": 0,
          "categories": [
           {
            "name": "Lancaster Police Department",
            "count": 1
           },
           {
            "name": "Leicester Police Department",
            "count": 1
           },
           {
            "name": "3 others",
            "count": 3
           }
          ]
         }
        },
        {
         "name": "ORI Agency Identifier (if available)",
         "dtype": "object",
         "stats": {
          "unique_count": 5,
          "nan_count": 0,
          "categories": [
           {
            "name": "TX0571700",
            "count": 1
           },
           {
            "name": "MA0142400",
            "count": 1
           },
           {
            "name": "3 others",
            "count": 3
           }
          ]
         }
        },
        {
         "name": "Cause of death",
         "dtype": "object",
         "stats": {
          "unique_count": 1,
          "nan_count": 0,
          "categories": [
           {
            "name": "Gunshot",
            "count": 5
           }
          ]
         }
        },
        {
         "name": "A brief description of the circumstances surrounding the death",
         "dtype": "object",
         "stats": {
          "unique_count": 5,
          "nan_count": 0,
          "categories": [
           {
            "name": "Police responded to a call of a man firing shots within an apartment complex. Officers went to Horton's apartment and forced their way in. Police claim Horton was armed, and they shot and killed him.",
            "count": 1
           },
           {
            "name": "A man allegedly crashed an SUV into the Leicester Police Station, repeatedly ramming his vehicle into the front doors until he gained entry into the building. Responding officers saw the SUV in the front door and encountered the man. Police claim the man placed a rifle on his shoulder and aimed it at the officers. The police officers shot and killed him.",
            "count": 1
           },
           {
            "name": "3 others",
            "count": 3
           }
          ]
         }
        },
        {
         "name": "Official disposition of death (justified or other)",
         "dtype": "object",
         "stats": {
          "unique_count": 1,
          "nan_count": 0,
          "categories": [
           {
            "name": "Pending investigation",
            "count": 5
           }
          ]
         }
        },
        {
         "name": "Criminal Charges?",
         "dtype": "object",
         "stats": {
          "unique_count": 1,
          "nan_count": 0,
          "categories": [
           {
            "name": "No known charges",
            "count": 5
           }
          ]
         }
        },
        {
         "name": "Link to news article or photo of official document",
         "dtype": "object",
         "stats": {
          "unique_count": 5,
          "nan_count": 0,
          "categories": [
           {
            "name": "https://www.fox4news.com/news/lancaster-police-officers-involved-in-shooting",
            "count": 1
           },
           {
            "name": "https://www.wcvb.com/article/leicester-police-station-shooting-car-crash-massachusetts/36374400",
            "count": 1
           },
           {
            "name": "3 others",
            "count": 3
           }
          ]
         }
        },
        {
         "name": "Symptoms of mental illness?",
         "dtype": "object",
         "stats": {
          "unique_count": 2,
          "nan_count": 0,
          "categories": [
           {
            "name": "No",
            "count": 4
           },
           {
            "name": "Yes",
            "count": 1
           }
          ]
         }
        },
        {
         "name": "Armed/Unarmed Status",
         "dtype": "object",
         "stats": {
          "unique_count": 1,
          "nan_count": 0,
          "categories": [
           {
            "name": "Allegedly Armed",
            "count": 5
           }
          ]
         }
        },
        {
         "name": "Alleged Weapon (Source: WaPo and Review of Cases Not Included in WaPo Database)",
         "dtype": "object",
         "stats": {
          "unique_count": 1,
          "nan_count": 0,
          "categories": [
           {
            "name": "gun",
            "count": 5
           }
          ]
         }
        },
        {
         "name": "Alleged Threat Level (Source: WaPo)",
         "dtype": "object",
         "stats": {
          "unique_count": 1,
          "nan_count": 0,
          "categories": [
           {
            "name": "attack",
            "count": 5
           }
          ]
         }
        },
        {
         "name": "Fleeing (Source: WaPo)",
         "dtype": "object",
         "stats": {
          "unique_count": 1,
          "nan_count": 1,
          "categories": [
           {
            "name": "not fleeing",
            "count": 4
           },
           {
            "name": "Missing",
            "count": 1
           }
          ]
         }
        },
        {
         "name": "Body Camera (Source: WaPo)",
         "dtype": "object",
         "stats": {
          "unique_count": 1,
          "nan_count": 0,
          "categories": [
           {
            "name": "no",
            "count": 5
           }
          ]
         }
        },
        {
         "name": "WaPo ID (If included in WaPo database)",
         "dtype": "float64",
         "stats": {
          "unique_count": 5,
          "nan_count": 0,
          "min": "6841.0",
          "max": "6846.0",
          "histogram": [
           {
            "bin_start": 6841,
            "bin_end": 6841.5,
            "count": 1
           },
           {
            "bin_start": 6841.5,
            "bin_end": 6842,
            "count": 0
           },
           {
            "bin_start": 6842,
            "bin_end": 6842.5,
            "count": 1
           },
           {
            "bin_start": 6842.5,
            "bin_end": 6843,
            "count": 0
           },
           {
            "bin_start": 6843,
            "bin_end": 6843.5,
            "count": 0
           },
           {
            "bin_start": 6843.5,
            "bin_end": 6844,
            "count": 0
           },
           {
            "bin_start": 6844,
            "bin_end": 6844.5,
            "count": 1
           },
           {
            "bin_start": 6844.5,
            "bin_end": 6845,
            "count": 0
           },
           {
            "bin_start": 6845,
            "bin_end": 6845.5,
            "count": 1
           },
           {
            "bin_start": 6845.5,
            "bin_end": 6846,
            "count": 1
           }
          ]
         }
        },
        {
         "name": "Off-Duty Killing?",
         "dtype": "object",
         "stats": {
          "unique_count": 0,
          "nan_count": 5,
          "categories": [
           {
            "name": "Missing",
            "count": 5
           }
          ]
         }
        },
        {
         "name": "Geography (via Trulia methodology based on zipcode population density: http://jedkolko.com/wp-content/uploads/2015/05/full-ZCTA-urban-suburban-rural-classification.xlsx )",
         "dtype": "object",
         "stats": {
          "unique_count": 1,
          "nan_count": 4,
          "categories": [
           {
            "name": "Suburban",
            "count": 1
           },
           {
            "name": "Missing",
            "count": 4
           }
          ]
         }
        },
        {
         "name": "MPV ID",
         "dtype": "float64",
         "stats": {
          "unique_count": 0,
          "nan_count": 5,
          "min": null,
          "max": null,
          "histogram": [
           {
            "bin_start": 0,
            "bin_end": 0.1,
            "count": 0
           },
           {
            "bin_start": 0.1,
            "bin_end": 0.2,
            "count": 0
           },
           {
            "bin_start": 0.2,
            "bin_end": 0.30000000000000004,
            "count": 0
           },
           {
            "bin_start": 0.30000000000000004,
            "bin_end": 0.4,
            "count": 0
           },
           {
            "bin_start": 0.4,
            "bin_end": 0.5,
            "count": 0
           },
           {
            "bin_start": 0.5,
            "bin_end": 0.6000000000000001,
            "count": 0
           },
           {
            "bin_start": 0.6000000000000001,
            "bin_end": 0.7000000000000001,
            "count": 0
           },
           {
            "bin_start": 0.7000000000000001,
            "bin_end": 0.8,
            "count": 0
           },
           {
            "bin_start": 0.8,
            "bin_end": 0.9,
            "count": 0
           },
           {
            "bin_start": 0.9,
            "bin_end": 1,
            "count": 0
           }
          ]
         }
        },
        {
         "name": "Fatal Encounters ID",
         "dtype": "float64",
         "stats": {
          "unique_count": 0,
          "nan_count": 5,
          "min": null,
          "max": null,
          "histogram": [
           {
            "bin_start": 0,
            "bin_end": 0.1,
            "count": 0
           },
           {
            "bin_start": 0.1,
            "bin_end": 0.2,
            "count": 0
           },
           {
            "bin_start": 0.2,
            "bin_end": 0.30000000000000004,
            "count": 0
           },
           {
            "bin_start": 0.30000000000000004,
            "bin_end": 0.4,
            "count": 0
           },
           {
            "bin_start": 0.4,
            "bin_end": 0.5,
            "count": 0
           },
           {
            "bin_start": 0.5,
            "bin_end": 0.6000000000000001,
            "count": 0
           },
           {
            "bin_start": 0.6000000000000001,
            "bin_end": 0.7000000000000001,
            "count": 0
           },
           {
            "bin_start": 0.7000000000000001,
            "bin_end": 0.8,
            "count": 0
           },
           {
            "bin_start": 0.8,
            "bin_end": 0.9,
            "count": 0
           },
           {
            "bin_start": 0.9,
            "bin_end": 1,
            "count": 0
           }
          ]
         }
        },
        {
         "name": "Encounter Type (DRAFT)",
         "dtype": "object",
         "stats": {
          "unique_count": 3,
          "nan_count": 0,
          "categories": [
           {
            "name": "Part 1 Violent Crime",
            "count": 3
           },
           {
            "name": "Other",
            "count": 1
           },
           {
            "name": "Person with a gun",
            "count": 1
           }
          ]
         }
        },
        {
         "name": "Initial Reported Reason for Encounter (DRAFT)",
         "dtype": "object",
         "stats": {
          "unique_count": 4,
          "nan_count": 0,
          "categories": [
           {
            "name": "murder",
            "count": 2
           },
           {
            "name": "gunshots",
            "count": 1
           },
           {
            "name": "2 others",
            "count": 2
           }
          ]
         }
        },
        {
         "name": "Names of Officers Involved (DRAFT)",
         "dtype": "object",
         "stats": {
          "unique_count": 0,
          "nan_count": 5,
          "categories": [
           {
            "name": "Missing",
            "count": 5
           }
          ]
         }
        },
        {
         "name": "Race of Officers Involved (DRAFT)",
         "dtype": "object",
         "stats": {
          "unique_count": 0,
          "nan_count": 5,
          "categories": [
           {
            "name": "Missing",
            "count": 5
           }
          ]
         }
        },
        {
         "name": "Known Past Shootings of Officer(s) (DRAFT)",
         "dtype": "object",
         "stats": {
          "unique_count": 0,
          "nan_count": 5,
          "categories": [
           {
            "name": "Missing",
            "count": 5
           }
          ]
         }
        },
        {
         "name": "Call for Service? (DRAFT)",
         "dtype": "object",
         "stats": {
          "unique_count": 2,
          "nan_count": 0,
          "categories": [
           {
            "name": "Yes",
            "count": 4
           },
           {
            "name": "No",
            "count": 1
           }
          ]
         }
        },
        {
         "name": "Unnamed: 35",
         "dtype": "float64",
         "stats": {
          "unique_count": 0,
          "nan_count": 5,
          "min": null,
          "max": null,
          "histogram": [
           {
            "bin_start": 0,
            "bin_end": 0.1,
            "count": 0
           },
           {
            "bin_start": 0.1,
            "bin_end": 0.2,
            "count": 0
           },
           {
            "bin_start": 0.2,
            "bin_end": 0.30000000000000004,
            "count": 0
           },
           {
            "bin_start": 0.30000000000000004,
            "bin_end": 0.4,
            "count": 0
           },
           {
            "bin_start": 0.4,
            "bin_end": 0.5,
            "count": 0
           },
           {
            "bin_start": 0.5,
            "bin_end": 0.6000000000000001,
            "count": 0
           },
           {
            "bin_start": 0.6000000000000001,
            "bin_end": 0.7000000000000001,
            "count": 0
           },
           {
            "bin_start": 0.7000000000000001,
            "bin_end": 0.8,
            "count": 0
           },
           {
            "bin_start": 0.8,
            "bin_end": 0.9,
            "count": 0
           },
           {
            "bin_start": 0.9,
            "bin_end": 1,
            "count": 0
           }
          ]
         }
        },
        {
         "name": "Unnamed: 36",
         "dtype": "float64",
         "stats": {
          "unique_count": 0,
          "nan_count": 5,
          "min": null,
          "max": null,
          "histogram": [
           {
            "bin_start": 0,
            "bin_end": 0.1,
            "count": 0
           },
           {
            "bin_start": 0.1,
            "bin_end": 0.2,
            "count": 0
           },
           {
            "bin_start": 0.2,
            "bin_end": 0.30000000000000004,
            "count": 0
           },
           {
            "bin_start": 0.30000000000000004,
            "bin_end": 0.4,
            "count": 0
           },
           {
            "bin_start": 0.4,
            "bin_end": 0.5,
            "count": 0
           },
           {
            "bin_start": 0.5,
            "bin_end": 0.6000000000000001,
            "count": 0
           },
           {
            "bin_start": 0.6000000000000001,
            "bin_end": 0.7000000000000001,
            "count": 0
           },
           {
            "bin_start": 0.7000000000000001,
            "bin_end": 0.8,
            "count": 0
           },
           {
            "bin_start": 0.8,
            "bin_end": 0.9,
            "count": 0
           },
           {
            "bin_start": 0.9,
            "bin_end": 1,
            "count": 0
           }
          ]
         }
        },
        {
         "name": "Unnamed: 37",
         "dtype": "float64",
         "stats": {
          "unique_count": 0,
          "nan_count": 5,
          "min": null,
          "max": null,
          "histogram": [
           {
            "bin_start": 0,
            "bin_end": 0.1,
            "count": 0
           },
           {
            "bin_start": 0.1,
            "bin_end": 0.2,
            "count": 0
           },
           {
            "bin_start": 0.2,
            "bin_end": 0.30000000000000004,
            "count": 0
           },
           {
            "bin_start": 0.30000000000000004,
            "bin_end": 0.4,
            "count": 0
           },
           {
            "bin_start": 0.4,
            "bin_end": 0.5,
            "count": 0
           },
           {
            "bin_start": 0.5,
            "bin_end": 0.6000000000000001,
            "count": 0
           },
           {
            "bin_start": 0.6000000000000001,
            "bin_end": 0.7000000000000001,
            "count": 0
           },
           {
            "bin_start": 0.7000000000000001,
            "bin_end": 0.8,
            "count": 0
           },
           {
            "bin_start": 0.8,
            "bin_end": 0.9,
            "count": 0
           },
           {
            "bin_start": 0.9,
            "bin_end": 1,
            "count": 0
           }
          ]
         }
        },
        {
         "name": "Unnamed: 38",
         "dtype": "float64",
         "stats": {
          "unique_count": 0,
          "nan_count": 5,
          "min": null,
          "max": null,
          "histogram": [
           {
            "bin_start": 0,
            "bin_end": 0.1,
            "count": 0
           },
           {
            "bin_start": 0.1,
            "bin_end": 0.2,
            "count": 0
           },
           {
            "bin_start": 0.2,
            "bin_end": 0.30000000000000004,
            "count": 0
           },
           {
            "bin_start": 0.30000000000000004,
            "bin_end": 0.4,
            "count": 0
           },
           {
            "bin_start": 0.4,
            "bin_end": 0.5,
            "count": 0
           },
           {
            "bin_start": 0.5,
            "bin_end": 0.6000000000000001,
            "count": 0
           },
           {
            "bin_start": 0.6000000000000001,
            "bin_end": 0.7000000000000001,
            "count": 0
           },
           {
            "bin_start": 0.7000000000000001,
            "bin_end": 0.8,
            "count": 0
           },
           {
            "bin_start": 0.8,
            "bin_end": 0.9,
            "count": 0
           },
           {
            "bin_start": 0.9,
            "bin_end": 1,
            "count": 0
           }
          ]
         }
        },
        {
         "name": "Unnamed: 39",
         "dtype": "float64",
         "stats": {
          "unique_count": 0,
          "nan_count": 5,
          "min": null,
          "max": null,
          "histogram": [
           {
            "bin_start": 0,
            "bin_end": 0.1,
            "count": 0
           },
           {
            "bin_start": 0.1,
            "bin_end": 0.2,
            "count": 0
           },
           {
            "bin_start": 0.2,
            "bin_end": 0.30000000000000004,
            "count": 0
           },
           {
            "bin_start": 0.30000000000000004,
            "bin_end": 0.4,
            "count": 0
           },
           {
            "bin_start": 0.4,
            "bin_end": 0.5,
            "count": 0
           },
           {
            "bin_start": 0.5,
            "bin_end": 0.6000000000000001,
            "count": 0
           },
           {
            "bin_start": 0.6000000000000001,
            "bin_end": 0.7000000000000001,
            "count": 0
           },
           {
            "bin_start": 0.7000000000000001,
            "bin_end": 0.8,
            "count": 0
           },
           {
            "bin_start": 0.8,
            "bin_end": 0.9,
            "count": 0
           },
           {
            "bin_start": 0.9,
            "bin_end": 1,
            "count": 0
           }
          ]
         }
        },
        {
         "name": "Unnamed: 40",
         "dtype": "float64",
         "stats": {
          "unique_count": 0,
          "nan_count": 5,
          "min": null,
          "max": null,
          "histogram": [
           {
            "bin_start": 0,
            "bin_end": 0.1,
            "count": 0
           },
           {
            "bin_start": 0.1,
            "bin_end": 0.2,
            "count": 0
           },
           {
            "bin_start": 0.2,
            "bin_end": 0.30000000000000004,
            "count": 0
           },
           {
            "bin_start": 0.30000000000000004,
            "bin_end": 0.4,
            "count": 0
           },
           {
            "bin_start": 0.4,
            "bin_end": 0.5,
            "count": 0
           },
           {
            "bin_start": 0.5,
            "bin_end": 0.6000000000000001,
            "count": 0
           },
           {
            "bin_start": 0.6000000000000001,
            "bin_end": 0.7000000000000001,
            "count": 0
           },
           {
            "bin_start": 0.7000000000000001,
            "bin_end": 0.8,
            "count": 0
           },
           {
            "bin_start": 0.8,
            "bin_end": 0.9,
            "count": 0
           },
           {
            "bin_start": 0.9,
            "bin_end": 1,
            "count": 0
           }
          ]
         }
        },
        {
         "name": "Unnamed: 41",
         "dtype": "float64",
         "stats": {
          "unique_count": 0,
          "nan_count": 5,
          "min": null,
          "max": null,
          "histogram": [
           {
            "bin_start": 0,
            "bin_end": 0.1,
            "count": 0
           },
           {
            "bin_start": 0.1,
            "bin_end": 0.2,
            "count": 0
           },
           {
            "bin_start": 0.2,
            "bin_end": 0.30000000000000004,
            "count": 0
           },
           {
            "bin_start": 0.30000000000000004,
            "bin_end": 0.4,
            "count": 0
           },
           {
            "bin_start": 0.4,
            "bin_end": 0.5,
            "count": 0
           },
           {
            "bin_start": 0.5,
            "bin_end": 0.6000000000000001,
            "count": 0
           },
           {
            "bin_start": 0.6000000000000001,
            "bin_end": 0.7000000000000001,
            "count": 0
           },
           {
            "bin_start": 0.7000000000000001,
            "bin_end": 0.8,
            "count": 0
           },
           {
            "bin_start": 0.8,
            "bin_end": 0.9,
            "count": 0
           },
           {
            "bin_start": 0.9,
            "bin_end": 1,
            "count": 0
           }
          ]
         }
        },
        {
         "name": "Unnamed: 42",
         "dtype": "float64",
         "stats": {
          "unique_count": 0,
          "nan_count": 5,
          "min": null,
          "max": null,
          "histogram": [
           {
            "bin_start": 0,
            "bin_end": 0.1,
            "count": 0
           },
           {
            "bin_start": 0.1,
            "bin_end": 0.2,
            "count": 0
           },
           {
            "bin_start": 0.2,
            "bin_end": 0.30000000000000004,
            "count": 0
           },
           {
            "bin_start": 0.30000000000000004,
            "bin_end": 0.4,
            "count": 0
           },
           {
            "bin_start": 0.4,
            "bin_end": 0.5,
            "count": 0
           },
           {
            "bin_start": 0.5,
            "bin_end": 0.6000000000000001,
            "count": 0
           },
           {
            "bin_start": 0.6000000000000001,
            "bin_end": 0.7000000000000001,
            "count": 0
           },
           {
            "bin_start": 0.7000000000000001,
            "bin_end": 0.8,
            "count": 0
           },
           {
            "bin_start": 0.8,
            "bin_end": 0.9,
            "count": 0
           },
           {
            "bin_start": 0.9,
            "bin_end": 1,
            "count": 0
           }
          ]
         }
        },
        {
         "name": "Unnamed: 43",
         "dtype": "float64",
         "stats": {
          "unique_count": 0,
          "nan_count": 5,
          "min": null,
          "max": null,
          "histogram": [
           {
            "bin_start": 0,
            "bin_end": 0.1,
            "count": 0
           },
           {
            "bin_start": 0.1,
            "bin_end": 0.2,
            "count": 0
           },
           {
            "bin_start": 0.2,
            "bin_end": 0.30000000000000004,
            "count": 0
           },
           {
            "bin_start": 0.30000000000000004,
            "bin_end": 0.4,
            "count": 0
           },
           {
            "bin_start": 0.4,
            "bin_end": 0.5,
            "count": 0
           },
           {
            "bin_start": 0.5,
            "bin_end": 0.6000000000000001,
            "count": 0
           },
           {
            "bin_start": 0.6000000000000001,
            "bin_end": 0.7000000000000001,
            "count": 0
           },
           {
            "bin_start": 0.7000000000000001,
            "bin_end": 0.8,
            "count": 0
           },
           {
            "bin_start": 0.8,
            "bin_end": 0.9,
            "count": 0
           },
           {
            "bin_start": 0.9,
            "bin_end": 1,
            "count": 0
           }
          ]
         }
        },
        {
         "name": "Unnamed: 44",
         "dtype": "float64",
         "stats": {
          "unique_count": 0,
          "nan_count": 5,
          "min": null,
          "max": null,
          "histogram": [
           {
            "bin_start": 0,
            "bin_end": 0.1,
            "count": 0
           },
           {
            "bin_start": 0.1,
            "bin_end": 0.2,
            "count": 0
           },
           {
            "bin_start": 0.2,
            "bin_end": 0.30000000000000004,
            "count": 0
           },
           {
            "bin_start": 0.30000000000000004,
            "bin_end": 0.4,
            "count": 0
           },
           {
            "bin_start": 0.4,
            "bin_end": 0.5,
            "count": 0
           },
           {
            "bin_start": 0.5,
            "bin_end": 0.6000000000000001,
            "count": 0
           },
           {
            "bin_start": 0.6000000000000001,
            "bin_end": 0.7000000000000001,
            "count": 0
           },
           {
            "bin_start": 0.7000000000000001,
            "bin_end": 0.8,
            "count": 0
           },
           {
            "bin_start": 0.8,
            "bin_end": 0.9,
            "count": 0
           },
           {
            "bin_start": 0.9,
            "bin_end": 1,
            "count": 0
           }
          ]
         }
        },
        {
         "name": "Unnamed: 45",
         "dtype": "float64",
         "stats": {
          "unique_count": 0,
          "nan_count": 5,
          "min": null,
          "max": null,
          "histogram": [
           {
            "bin_start": 0,
            "bin_end": 0.1,
            "count": 0
           },
           {
            "bin_start": 0.1,
            "bin_end": 0.2,
            "count": 0
           },
           {
            "bin_start": 0.2,
            "bin_end": 0.30000000000000004,
            "count": 0
           },
           {
            "bin_start": 0.30000000000000004,
            "bin_end": 0.4,
            "count": 0
           },
           {
            "bin_start": 0.4,
            "bin_end": 0.5,
            "count": 0
           },
           {
            "bin_start": 0.5,
            "bin_end": 0.6000000000000001,
            "count": 0
           },
           {
            "bin_start": 0.6000000000000001,
            "bin_end": 0.7000000000000001,
            "count": 0
           },
           {
            "bin_start": 0.7000000000000001,
            "bin_end": 0.8,
            "count": 0
           },
           {
            "bin_start": 0.8,
            "bin_end": 0.9,
            "count": 0
           },
           {
            "bin_start": 0.9,
            "bin_end": 1,
            "count": 0
           }
          ]
         }
        },
        {
         "name": "Unnamed: 46",
         "dtype": "float64",
         "stats": {
          "unique_count": 0,
          "nan_count": 5,
          "min": null,
          "max": null,
          "histogram": [
           {
            "bin_start": 0,
            "bin_end": 0.1,
            "count": 0
           },
           {
            "bin_start": 0.1,
            "bin_end": 0.2,
            "count": 0
           },
           {
            "bin_start": 0.2,
            "bin_end": 0.30000000000000004,
            "count": 0
           },
           {
            "bin_start": 0.30000000000000004,
            "bin_end": 0.4,
            "count": 0
           },
           {
            "bin_start": 0.4,
            "bin_end": 0.5,
            "count": 0
           },
           {
            "bin_start": 0.5,
            "bin_end": 0.6000000000000001,
            "count": 0
           },
           {
            "bin_start": 0.6000000000000001,
            "bin_end": 0.7000000000000001,
            "count": 0
           },
           {
            "bin_start": 0.7000000000000001,
            "bin_end": 0.8,
            "count": 0
           },
           {
            "bin_start": 0.8,
            "bin_end": 0.9,
            "count": 0
           },
           {
            "bin_start": 0.9,
            "bin_end": 1,
            "count": 0
           }
          ]
         }
        },
        {
         "name": "Unnamed: 47",
         "dtype": "float64",
         "stats": {
          "unique_count": 0,
          "nan_count": 5,
          "min": null,
          "max": null,
          "histogram": [
           {
            "bin_start": 0,
            "bin_end": 0.1,
            "count": 0
           },
           {
            "bin_start": 0.1,
            "bin_end": 0.2,
            "count": 0
           },
           {
            "bin_start": 0.2,
            "bin_end": 0.30000000000000004,
            "count": 0
           },
           {
            "bin_start": 0.30000000000000004,
            "bin_end": 0.4,
            "count": 0
           },
           {
            "bin_start": 0.4,
            "bin_end": 0.5,
            "count": 0
           },
           {
            "bin_start": 0.5,
            "bin_end": 0.6000000000000001,
            "count": 0
           },
           {
            "bin_start": 0.6000000000000001,
            "bin_end": 0.7000000000000001,
            "count": 0
           },
           {
            "bin_start": 0.7000000000000001,
            "bin_end": 0.8,
            "count": 0
           },
           {
            "bin_start": 0.8,
            "bin_end": 0.9,
            "count": 0
           },
           {
            "bin_start": 0.9,
            "bin_end": 1,
            "count": 0
           }
          ]
         }
        },
        {
         "name": "Unnamed: 48",
         "dtype": "float64",
         "stats": {
          "unique_count": 0,
          "nan_count": 5,
          "min": null,
          "max": null,
          "histogram": [
           {
            "bin_start": 0,
            "bin_end": 0.1,
            "count": 0
           },
           {
            "bin_start": 0.1,
            "bin_end": 0.2,
            "count": 0
           },
           {
            "bin_start": 0.2,
            "bin_end": 0.30000000000000004,
            "count": 0
           },
           {
            "bin_start": 0.30000000000000004,
            "bin_end": 0.4,
            "count": 0
           },
           {
            "bin_start": 0.4,
            "bin_end": 0.5,
            "count": 0
           },
           {
            "bin_start": 0.5,
            "bin_end": 0.6000000000000001,
            "count": 0
           },
           {
            "bin_start": 0.6000000000000001,
            "bin_end": 0.7000000000000001,
            "count": 0
           },
           {
            "bin_start": 0.7000000000000001,
            "bin_end": 0.8,
            "count": 0
           },
           {
            "bin_start": 0.8,
            "bin_end": 0.9,
            "count": 0
           },
           {
            "bin_start": 0.9,
            "bin_end": 1,
            "count": 0
           }
          ]
         }
        },
        {
         "name": "_deepnote_index_column",
         "dtype": "int64"
        }
       ],
       "rows_top": [
        {
         "Victim's name": "Kalon Horton",
         "Victim's age": "29",
         "Victim's gender": "Male",
         "Victim's race": "Black",
         "URL of image of victim": "nan",
         "Date of Incident (month/day/year)": "2021-05-09T00:00:00.000000",
         "Street Address of Incident": "nan",
         "City": "Lancaster",
         "State": "TX",
         "Zipcode": "nan",
         "County": "nan",
         "Agency responsible for death": "Lancaster Police Department",
         "ORI Agency Identifier (if available)": "TX0571700",
         "Cause of death": "Gunshot",
         "A brief description of the circumstances surrounding the death": "Police responded to a call of a man firing shots within an apartment complex. Officers went to Horton's apartment and forced their way in. Police claim Horton was armed, and they shot and killed him.",
         "Official disposition of death (justified or other)": "Pending investigation",
         "Criminal Charges?": "No known charges",
         "Link to news article or photo of official document": "https://www.fox4news.com/news/lancaster-police-officers-involved-in-shooting",
         "Symptoms of mental illness?": "No",
         "Armed/Unarmed Status": "Allegedly Armed",
         "Alleged Weapon (Source: WaPo and Review of Cases Not Included in WaPo Database)": "gun",
         "Alleged Threat Level (Source: WaPo)": "attack",
         "Fleeing (Source: WaPo)": "nan",
         "Body Camera (Source: WaPo)": "no",
         "WaPo ID (If included in WaPo database)": 6842,
         "Off-Duty Killing?": "nan",
         "Geography (via Trulia methodology based on zipcode population density: http://jedkolko.com/wp-content/uploads/2015/05/full-ZCTA-urban-suburban-rural-classification.xlsx )": "nan",
         "MPV ID": "nan",
         "Fatal Encounters ID": "nan",
         "Encounter Type (DRAFT)": "Part 1 Violent Crime",
         "Initial Reported Reason for Encounter (DRAFT)": "gunshots",
         "Names of Officers Involved (DRAFT)": "nan",
         "Race of Officers Involved (DRAFT)": "nan",
         "Known Past Shootings of Officer(s) (DRAFT)": "nan",
         "Call for Service? (DRAFT)": "Yes",
         "Unnamed: 35": "nan",
         "Unnamed: 36": "nan",
         "Unnamed: 37": "nan",
         "Unnamed: 38": "nan",
         "Unnamed: 39": "nan",
         "Unnamed: 40": "nan",
         "Unnamed: 41": "nan",
         "Unnamed: 42": "nan",
         "Unnamed: 43": "nan",
         "Unnamed: 44": "nan",
         "Unnamed: 45": "nan",
         "Unnamed: 46": "nan",
         "Unnamed: 47": "nan",
         "Unnamed: 48": "nan",
         "_deepnote_index_column": 0
        },
        {
         "Victim's name": "Name withheld by police",
         "Victim's age": "nan",
         "Victim's gender": "Male",
         "Victim's race": "Unknown Race",
         "URL of image of victim": "nan",
         "Date of Incident (month/day/year)": "2021-05-09T00:00:00.000000",
         "Street Address of Incident": "90 S. Main St.",
         "City": "Leicester",
         "State": "MA",
         "Zipcode": "1524.0",
         "County": "Worcester",
         "Agency responsible for death": "Leicester Police Department",
         "ORI Agency Identifier (if available)": "MA0142400",
         "Cause of death": "Gunshot",
         "A brief description of the circumstances surrounding the death": "A man allegedly crashed an SUV into the Leicester Police Station, repeatedly ramming his vehicle into the front doors until he gained entry into the building. Responding officers saw the SUV in the front door and encountered the man. Police claim the man placed a rifle on his shoulder and aimed it at the officers. The police officers shot and killed him.",
         "Official disposition of death (justified or other)": "Pending investigation",
         "Criminal Charges?": "No known charges",
         "Link to news article or photo of official document": "https://www.wcvb.com/article/leicester-police-station-shooting-car-crash-massachusetts/36374400",
         "Symptoms of mental illness?": "No",
         "Armed/Unarmed Status": "Allegedly Armed",
         "Alleged Weapon (Source: WaPo and Review of Cases Not Included in WaPo Database)": "gun",
         "Alleged Threat Level (Source: WaPo)": "attack",
         "Fleeing (Source: WaPo)": "not fleeing",
         "Body Camera (Source: WaPo)": "no",
         "WaPo ID (If included in WaPo database)": 6844,
         "Off-Duty Killing?": "nan",
         "Geography (via Trulia methodology based on zipcode population density: http://jedkolko.com/wp-content/uploads/2015/05/full-ZCTA-urban-suburban-rural-classification.xlsx )": "Suburban",
         "MPV ID": "nan",
         "Fatal Encounters ID": "nan",
         "Encounter Type (DRAFT)": "Other",
         "Initial Reported Reason for Encounter (DRAFT)": "deliberate car crash",
         "Names of Officers Involved (DRAFT)": "nan",
         "Race of Officers Involved (DRAFT)": "nan",
         "Known Past Shootings of Officer(s) (DRAFT)": "nan",
         "Call for Service? (DRAFT)": "Yes",
         "Unnamed: 35": "nan",
         "Unnamed: 36": "nan",
         "Unnamed: 37": "nan",
         "Unnamed: 38": "nan",
         "Unnamed: 39": "nan",
         "Unnamed: 40": "nan",
         "Unnamed: 41": "nan",
         "Unnamed: 42": "nan",
         "Unnamed: 43": "nan",
         "Unnamed: 44": "nan",
         "Unnamed: 45": "nan",
         "Unnamed: 46": "nan",
         "Unnamed: 47": "nan",
         "Unnamed: 48": "nan",
         "_deepnote_index_column": 1
        },
        {
         "Victim's name": "Jeffrey Mark Murray",
         "Victim's age": "62",
         "Victim's gender": "Male",
         "Victim's race": "Unknown Race",
         "URL of image of victim": "nan",
         "Date of Incident (month/day/year)": "2021-05-09T00:00:00.000000",
         "Street Address of Incident": "nan",
         "City": "Greenville",
         "State": "SC",
         "Zipcode": "nan",
         "County": "nan",
         "Agency responsible for death": "Greenville Police Department",
         "ORI Agency Identifier (if available)": "SC0230000",
         "Cause of death": "Gunshot",
         "A brief description of the circumstances surrounding the death": "Murray allegedly shot and killed David Oliver while Oliver was on the phone with the police. Police found Murray and killed him. ",
         "Official disposition of death (justified or other)": "Pending investigation",
         "Criminal Charges?": "No known charges",
         "Link to news article or photo of official document": "https://www.seattletimes.com/nation-world/nation/cyclist-killed-in-dispute-shooter-dies-in-police-gun-battle/",
         "Symptoms of mental illness?": "No",
         "Armed/Unarmed Status": "Allegedly Armed",
         "Alleged Weapon (Source: WaPo and Review of Cases Not Included in WaPo Database)": "gun",
         "Alleged Threat Level (Source: WaPo)": "attack",
         "Fleeing (Source: WaPo)": "not fleeing",
         "Body Camera (Source: WaPo)": "no",
         "WaPo ID (If included in WaPo database)": 6841,
         "Off-Duty Killing?": "nan",
         "Geography (via Trulia methodology based on zipcode population density: http://jedkolko.com/wp-content/uploads/2015/05/full-ZCTA-urban-suburban-rural-classification.xlsx )": "nan",
         "MPV ID": "nan",
         "Fatal Encounters ID": "nan",
         "Encounter Type (DRAFT)": "Part 1 Violent Crime",
         "Initial Reported Reason for Encounter (DRAFT)": "murder",
         "Names of Officers Involved (DRAFT)": "nan",
         "Race of Officers Involved (DRAFT)": "nan",
         "Known Past Shootings of Officer(s) (DRAFT)": "nan",
         "Call for Service? (DRAFT)": "Yes",
         "Unnamed: 35": "nan",
         "Unnamed: 36": "nan",
         "Unnamed: 37": "nan",
         "Unnamed: 38": "nan",
         "Unnamed: 39": "nan",
         "Unnamed: 40": "nan",
         "Unnamed: 41": "nan",
         "Unnamed: 42": "nan",
         "Unnamed: 43": "nan",
         "Unnamed: 44": "nan",
         "Unnamed: 45": "nan",
         "Unnamed: 46": "nan",
         "Unnamed: 47": "nan",
         "Unnamed: 48": "nan",
         "_deepnote_index_column": 2
        },
        {
         "Victim's name": "Everton Brown",
         "Victim's age": "56",
         "Victim's gender": "Male",
         "Victim's race": "Unknown Race",
         "URL of image of victim": "nan",
         "Date of Incident (month/day/year)": "2021-05-08T00:00:00.000000",
         "Street Address of Incident": "nan",
         "City": "Baltimore",
         "State": "MD",
         "Zipcode": "nan",
         "County": "nan",
         "Agency responsible for death": "Baltimore County Police Department",
         "ORI Agency Identifier (if available)": "MD0030000",
         "Cause of death": "Gunshot",
         "A brief description of the circumstances surrounding the death": "Brown allegedly shot and killed two neighbors, and injured another. Police responded to the scene and found Brown in a parking lot. Police allegedly commanded Brown to drop his gun and Brown refused. At least four officers shot at Brown, killing him. ",
         "Official disposition of death (justified or other)": "Pending investigation",
         "Criminal Charges?": "No known charges",
         "Link to news article or photo of official document": "https://abcnews.go.com/US/wireStory/police-maryland-man-killed-neighbors-set-house-ablaze-77591766",
         "Symptoms of mental illness?": "Yes",
         "Armed/Unarmed Status": "Allegedly Armed",
         "Alleged Weapon (Source: WaPo and Review of Cases Not Included in WaPo Database)": "gun",
         "Alleged Threat Level (Source: WaPo)": "attack",
         "Fleeing (Source: WaPo)": "not fleeing",
         "Body Camera (Source: WaPo)": "no",
         "WaPo ID (If included in WaPo database)": 6846,
         "Off-Duty Killing?": "nan",
         "Geography (via Trulia methodology based on zipcode population density: http://jedkolko.com/wp-content/uploads/2015/05/full-ZCTA-urban-suburban-rural-classification.xlsx )": "nan",
         "MPV ID": "nan",
         "Fatal Encounters ID": "nan",
         "Encounter Type (DRAFT)": "Part 1 Violent Crime",
         "Initial Reported Reason for Encounter (DRAFT)": "murder",
         "Names of Officers Involved (DRAFT)": "nan",
         "Race of Officers Involved (DRAFT)": "nan",
         "Known Past Shootings of Officer(s) (DRAFT)": "nan",
         "Call for Service? (DRAFT)": "Yes",
         "Unnamed: 35": "nan",
         "Unnamed: 36": "nan",
         "Unnamed: 37": "nan",
         "Unnamed: 38": "nan",
         "Unnamed: 39": "nan",
         "Unnamed: 40": "nan",
         "Unnamed: 41": "nan",
         "Unnamed: 42": "nan",
         "Unnamed: 43": "nan",
         "Unnamed: 44": "nan",
         "Unnamed: 45": "nan",
         "Unnamed: 46": "nan",
         "Unnamed: 47": "nan",
         "Unnamed: 48": "nan",
         "_deepnote_index_column": 3
        },
        {
         "Victim's name": "Felix Jerry Marquez",
         "Victim's age": "34",
         "Victim's gender": "Male",
         "Victim's race": "Hispanic",
         "URL of image of victim": "nan",
         "Date of Incident (month/day/year)": "2021-05-08T00:00:00.000000",
         "Street Address of Incident": "nan",
         "City": "Riverside",
         "State": "CA",
         "Zipcode": "nan",
         "County": "Riverside",
         "Agency responsible for death": "Riverside Police Department",
         "ORI Agency Identifier (if available)": "CA0331300",
         "Cause of death": "Gunshot",
         "A brief description of the circumstances surrounding the death": "Officers who were part of a homeless outreach unit encountered Marquez and claim he pulled a handgun, pointing it at them. The officers shot and killed Marquez. ",
         "Official disposition of death (justified or other)": "Pending investigation",
         "Criminal Charges?": "No known charges",
         "Link to news article or photo of official document": "https://www.avpress.com/news/police-shoot-man-who-pulled-gun/article_cd0b7314-b138-11eb-a877-6f0ab8fbc496.html",
         "Symptoms of mental illness?": "No",
         "Armed/Unarmed Status": "Allegedly Armed",
         "Alleged Weapon (Source: WaPo and Review of Cases Not Included in WaPo Database)": "gun",
         "Alleged Threat Level (Source: WaPo)": "attack",
         "Fleeing (Source: WaPo)": "not fleeing",
         "Body Camera (Source: WaPo)": "no",
         "WaPo ID (If included in WaPo database)": 6845,
         "Off-Duty Killing?": "nan",
         "Geography (via Trulia methodology based on zipcode population density: http://jedkolko.com/wp-content/uploads/2015/05/full-ZCTA-urban-suburban-rural-classification.xlsx )": "nan",
         "MPV ID": "nan",
         "Fatal Encounters ID": "nan",
         "Encounter Type (DRAFT)": "Person with a gun",
         "Initial Reported Reason for Encounter (DRAFT)": "person with a gun",
         "Names of Officers Involved (DRAFT)": "nan",
         "Race of Officers Involved (DRAFT)": "nan",
         "Known Past Shootings of Officer(s) (DRAFT)": "nan",
         "Call for Service? (DRAFT)": "No",
         "Unnamed: 35": "nan",
         "Unnamed: 36": "nan",
         "Unnamed: 37": "nan",
         "Unnamed: 38": "nan",
         "Unnamed: 39": "nan",
         "Unnamed: 40": "nan",
         "Unnamed: 41": "nan",
         "Unnamed: 42": "nan",
         "Unnamed: 43": "nan",
         "Unnamed: 44": "nan",
         "Unnamed: 45": "nan",
         "Unnamed: 46": "nan",
         "Unnamed: 47": "nan",
         "Unnamed: 48": "nan",
         "_deepnote_index_column": 4
        }
       ],
       "rows_bottom": null
      },
      "text/plain": "             Victim's name Victim's age Victim's gender Victim's race  \\\n0             Kalon Horton           29            Male         Black   \n1  Name withheld by police          NaN            Male  Unknown Race   \n2      Jeffrey Mark Murray           62            Male  Unknown Race   \n3            Everton Brown           56            Male  Unknown Race   \n4      Felix Jerry Marquez           34            Male      Hispanic   \n\n  URL of image of victim Date of Incident (month/day/year)  \\\n0                    NaN                        2021-05-09   \n1                    NaN                        2021-05-09   \n2                    NaN                        2021-05-09   \n3                    NaN                        2021-05-08   \n4                    NaN                        2021-05-08   \n\n  Street Address of Incident        City State  Zipcode  ... Unnamed: 39  \\\n0                        NaN   Lancaster    TX      NaN  ...         NaN   \n1             90 S. Main St.   Leicester    MA   1524.0  ...         NaN   \n2                        NaN  Greenville    SC      NaN  ...         NaN   \n3                        NaN   Baltimore    MD      NaN  ...         NaN   \n4                        NaN   Riverside    CA      NaN  ...         NaN   \n\n  Unnamed: 40 Unnamed: 41 Unnamed: 42 Unnamed: 43 Unnamed: 44 Unnamed: 45  \\\n0         NaN         NaN         NaN         NaN         NaN         NaN   \n1         NaN         NaN         NaN         NaN         NaN         NaN   \n2         NaN         NaN         NaN         NaN         NaN         NaN   \n3         NaN         NaN         NaN         NaN         NaN         NaN   \n4         NaN         NaN         NaN         NaN         NaN         NaN   \n\n  Unnamed: 46 Unnamed: 47 Unnamed: 48  \n0         NaN         NaN         NaN  \n1         NaN         NaN         NaN  \n2         NaN         NaN         NaN  \n3         NaN         NaN         NaN  \n4         NaN         NaN         NaN  \n\n[5 rows x 49 columns]",
      "text/html": "<div>\n<style scoped>\n    .dataframe tbody tr th:only-of-type {\n        vertical-align: middle;\n    }\n\n    .dataframe tbody tr th {\n        vertical-align: top;\n    }\n\n    .dataframe thead th {\n        text-align: right;\n    }\n</style>\n<table border=\"1\" class=\"dataframe\">\n  <thead>\n    <tr style=\"text-align: right;\">\n      <th></th>\n      <th>Victim's name</th>\n      <th>Victim's age</th>\n      <th>Victim's gender</th>\n      <th>Victim's race</th>\n      <th>URL of image of victim</th>\n      <th>Date of Incident (month/day/year)</th>\n      <th>Street Address of Incident</th>\n      <th>City</th>\n      <th>State</th>\n      <th>Zipcode</th>\n      <th>...</th>\n      <th>Unnamed: 39</th>\n      <th>Unnamed: 40</th>\n      <th>Unnamed: 41</th>\n      <th>Unnamed: 42</th>\n      <th>Unnamed: 43</th>\n      <th>Unnamed: 44</th>\n      <th>Unnamed: 45</th>\n      <th>Unnamed: 46</th>\n      <th>Unnamed: 47</th>\n      <th>Unnamed: 48</th>\n    </tr>\n  </thead>\n  <tbody>\n    <tr>\n      <th>0</th>\n      <td>Kalon Horton</td>\n      <td>29</td>\n      <td>Male</td>\n      <td>Black</td>\n      <td>NaN</td>\n      <td>2021-05-09</td>\n      <td>NaN</td>\n      <td>Lancaster</td>\n      <td>TX</td>\n      <td>NaN</td>\n      <td>...</td>\n      <td>NaN</td>\n      <td>NaN</td>\n      <td>NaN</td>\n      <td>NaN</td>\n      <td>NaN</td>\n      <td>NaN</td>\n      <td>NaN</td>\n      <td>NaN</td>\n      <td>NaN</td>\n      <td>NaN</td>\n    </tr>\n    <tr>\n      <th>1</th>\n      <td>Name withheld by police</td>\n      <td>NaN</td>\n      <td>Male</td>\n      <td>Unknown Race</td>\n      <td>NaN</td>\n      <td>2021-05-09</td>\n      <td>90 S. Main St.</td>\n      <td>Leicester</td>\n      <td>MA</td>\n      <td>1524.0</td>\n      <td>...</td>\n      <td>NaN</td>\n      <td>NaN</td>\n      <td>NaN</td>\n      <td>NaN</td>\n      <td>NaN</td>\n      <td>NaN</td>\n      <td>NaN</td>\n      <td>NaN</td>\n      <td>NaN</td>\n      <td>NaN</td>\n    </tr>\n    <tr>\n      <th>2</th>\n      <td>Jeffrey Mark Murray</td>\n      <td>62</td>\n      <td>Male</td>\n      <td>Unknown Race</td>\n      <td>NaN</td>\n      <td>2021-05-09</td>\n      <td>NaN</td>\n      <td>Greenville</td>\n      <td>SC</td>\n      <td>NaN</td>\n      <td>...</td>\n      <td>NaN</td>\n      <td>NaN</td>\n      <td>NaN</td>\n      <td>NaN</td>\n      <td>NaN</td>\n      <td>NaN</td>\n      <td>NaN</td>\n      <td>NaN</td>\n      <td>NaN</td>\n      <td>NaN</td>\n    </tr>\n    <tr>\n      <th>3</th>\n      <td>Everton Brown</td>\n      <td>56</td>\n      <td>Male</td>\n      <td>Unknown Race</td>\n      <td>NaN</td>\n      <td>2021-05-08</td>\n      <td>NaN</td>\n      <td>Baltimore</td>\n      <td>MD</td>\n      <td>NaN</td>\n      <td>...</td>\n      <td>NaN</td>\n      <td>NaN</td>\n      <td>NaN</td>\n      <td>NaN</td>\n      <td>NaN</td>\n      <td>NaN</td>\n      <td>NaN</td>\n      <td>NaN</td>\n      <td>NaN</td>\n      <td>NaN</td>\n    </tr>\n    <tr>\n      <th>4</th>\n      <td>Felix Jerry Marquez</td>\n      <td>34</td>\n      <td>Male</td>\n      <td>Hispanic</td>\n      <td>NaN</td>\n      <td>2021-05-08</td>\n      <td>NaN</td>\n      <td>Riverside</td>\n      <td>CA</td>\n      <td>NaN</td>\n      <td>...</td>\n      <td>NaN</td>\n      <td>NaN</td>\n      <td>NaN</td>\n      <td>NaN</td>\n      <td>NaN</td>\n      <td>NaN</td>\n      <td>NaN</td>\n      <td>NaN</td>\n      <td>NaN</td>\n      <td>NaN</td>\n    </tr>\n  </tbody>\n</table>\n<p>5 rows × 49 columns</p>\n</div>"
     },
     "metadata": {}
    }
   ],
   "execution_count": 2
  },
  {
   "cell_type": "markdown",
   "source": "\n### Initial Data Summarization",
   "metadata": {
    "tags": [],
    "cell_id": "00004-c993017c-3028-463a-8018-a24c6bc0f613",
    "deepnote_cell_type": "markdown"
   }
  },
  {
   "cell_type": "code",
   "source": "# rows and columns\ndf.shape",
   "metadata": {
    "tags": [],
    "cell_id": "00004-b98cbd7b-8c4a-4708-bbfe-115af61e67e1",
    "deepnote_to_be_reexecuted": false,
    "source_hash": "cbfec6c2",
    "execution_start": 1621887340158,
    "execution_millis": 29,
    "deepnote_cell_type": "code"
   },
   "outputs": [
    {
     "output_type": "execute_result",
     "execution_count": 3,
     "data": {
      "text/plain": "(9147, 49)"
     },
     "metadata": {}
    }
   ],
   "execution_count": 3
  },
  {
   "cell_type": "code",
   "source": "# list of column names and data types with information\ndf.info()",
   "metadata": {
    "tags": [],
    "cell_id": "00005-8df25032-7915-45e8-87c8-9060ab2c9c69",
    "deepnote_to_be_reexecuted": false,
    "source_hash": "5451bed5",
    "execution_start": 1621887340160,
    "execution_millis": 49,
    "deepnote_cell_type": "code"
   },
   "outputs": [
    {
     "name": "stdout",
     "text": "<class 'pandas.core.frame.DataFrame'>\nRangeIndex: 9147 entries, 0 to 9146\nData columns (total 49 columns):\n #   Column                                                                                                                                                                      Non-Null Count  Dtype         \n---  ------                                                                                                                                                                      --------------  -----         \n 0   Victim's name                                                                                                                                                               9147 non-null   object        \n 1   Victim's age                                                                                                                                                                9138 non-null   object        \n 2   Victim's gender                                                                                                                                                             9137 non-null   object        \n 3   Victim's race                                                                                                                                                               9147 non-null   object        \n 4   URL of image of victim                                                                                                                                                      4882 non-null   object        \n 5   Date of Incident (month/day/year)                                                                                                                                           9147 non-null   datetime64[ns]\n 6   Street Address of Incident                                                                                                                                                  9042 non-null   object        \n 7   City                                                                                                                                                                        9138 non-null   object        \n 8   State                                                                                                                                                                       9147 non-null   object        \n 9   Zipcode                                                                                                                                                                     9099 non-null   float64       \n 10  County                                                                                                                                                                      9130 non-null   object        \n 11  Agency responsible for death                                                                                                                                                9143 non-null   object        \n 12  ORI Agency Identifier (if available)                                                                                                                                        9144 non-null   object        \n 13  Cause of death                                                                                                                                                              9147 non-null   object        \n 14  A brief description of the circumstances surrounding the death                                                                                                              9132 non-null   object        \n 15  Official disposition of death (justified or other)                                                                                                                          9136 non-null   object        \n 16  Criminal Charges?                                                                                                                                                           9147 non-null   object        \n 17  Link to news article or photo of official document                                                                                                                          9147 non-null   object        \n 18  Symptoms of mental illness?                                                                                                                                                 9086 non-null   object        \n 19  Armed/Unarmed Status                                                                                                                                                        9147 non-null   object        \n 20  Alleged Weapon (Source: WaPo and Review of Cases Not Included in WaPo Database)                                                                                             9147 non-null   object        \n 21  Alleged Threat Level (Source: WaPo)                                                                                                                                         6750 non-null   object        \n 22  Fleeing (Source: WaPo)                                                                                                                                                      6056 non-null   object        \n 23  Body Camera (Source: WaPo)                                                                                                                                                  5982 non-null   object        \n 24  WaPo ID (If included in WaPo database)                                                                                                                                      6048 non-null   float64       \n 25  Off-Duty Killing?                                                                                                                                                           248 non-null    object        \n 26  Geography (via Trulia methodology based on zipcode population density: http://jedkolko.com/wp-content/uploads/2015/05/full-ZCTA-urban-suburban-rural-classification.xlsx )  9122 non-null   object        \n 27  MPV ID                                                                                                                                                                      9068 non-null   float64       \n 28  Fatal Encounters ID                                                                                                                                                         9016 non-null   float64       \n 29  Encounter Type (DRAFT)                                                                                                                                                      4839 non-null   object        \n 30  Initial Reported Reason for Encounter (DRAFT)                                                                                                                               4839 non-null   object        \n 31  Names of Officers Involved (DRAFT)                                                                                                                                          1394 non-null   object        \n 32  Race of Officers Involved (DRAFT)                                                                                                                                           341 non-null    object        \n 33  Known Past Shootings of Officer(s) (DRAFT)                                                                                                                                  74 non-null     object        \n 34  Call for Service? (DRAFT)                                                                                                                                                   3616 non-null   object        \n 35  Unnamed: 35                                                                                                                                                                 0 non-null      float64       \n 36  Unnamed: 36                                                                                                                                                                 0 non-null      float64       \n 37  Unnamed: 37                                                                                                                                                                 0 non-null      float64       \n 38  Unnamed: 38                                                                                                                                                                 0 non-null      float64       \n 39  Unnamed: 39                                                                                                                                                                 0 non-null      float64       \n 40  Unnamed: 40                                                                                                                                                                 0 non-null      float64       \n 41  Unnamed: 41                                                                                                                                                                 0 non-null      float64       \n 42  Unnamed: 42                                                                                                                                                                 0 non-null      float64       \n 43  Unnamed: 43                                                                                                                                                                 0 non-null      float64       \n 44  Unnamed: 44                                                                                                                                                                 0 non-null      float64       \n 45  Unnamed: 45                                                                                                                                                                 0 non-null      float64       \n 46  Unnamed: 46                                                                                                                                                                 0 non-null      float64       \n 47  Unnamed: 47                                                                                                                                                                 0 non-null      float64       \n 48  Unnamed: 48                                                                                                                                                                 0 non-null      float64       \ndtypes: datetime64[ns](1), float64(18), object(30)\nmemory usage: 3.4+ MB\n",
     "output_type": "stream"
    }
   ],
   "execution_count": 4
  },
  {
   "cell_type": "code",
   "source": "# check nulls\ndf.isnull().sum()",
   "metadata": {
    "tags": [],
    "cell_id": "00008-cede92f4-f3f8-4fed-8683-d304e3978e34",
    "deepnote_to_be_reexecuted": false,
    "source_hash": "f099b8f5",
    "execution_start": 1621887340200,
    "execution_millis": 9,
    "deepnote_cell_type": "code"
   },
   "outputs": [
    {
     "output_type": "execute_result",
     "execution_count": 5,
     "data": {
      "text/plain": "Victim's name                                                                                                                                                                    0\nVictim's age                                                                                                                                                                     9\nVictim's gender                                                                                                                                                                 10\nVictim's race                                                                                                                                                                    0\nURL of image of victim                                                                                                                                                        4265\nDate of Incident (month/day/year)                                                                                                                                                0\nStreet Address of Incident                                                                                                                                                     105\nCity                                                                                                                                                                             9\nState                                                                                                                                                                            0\nZipcode                                                                                                                                                                         48\nCounty                                                                                                                                                                          17\nAgency responsible for death                                                                                                                                                     4\nORI Agency Identifier (if available)                                                                                                                                             3\nCause of death                                                                                                                                                                   0\nA brief description of the circumstances surrounding the death                                                                                                                  15\nOfficial disposition of death (justified or other)                                                                                                                              11\nCriminal Charges?                                                                                                                                                                0\nLink to news article or photo of official document                                                                                                                               0\nSymptoms of mental illness?                                                                                                                                                     61\nArmed/Unarmed Status                                                                                                                                                             0\nAlleged Weapon (Source: WaPo and Review of Cases Not Included in WaPo Database)                                                                                                  0\nAlleged Threat Level (Source: WaPo)                                                                                                                                           2397\nFleeing (Source: WaPo)                                                                                                                                                        3091\nBody Camera (Source: WaPo)                                                                                                                                                    3165\nWaPo ID (If included in WaPo database)                                                                                                                                        3099\nOff-Duty Killing?                                                                                                                                                             8899\nGeography (via Trulia methodology based on zipcode population density: http://jedkolko.com/wp-content/uploads/2015/05/full-ZCTA-urban-suburban-rural-classification.xlsx )      25\nMPV ID                                                                                                                                                                          79\nFatal Encounters ID                                                                                                                                                            131\nEncounter Type (DRAFT)                                                                                                                                                        4308\nInitial Reported Reason for Encounter (DRAFT)                                                                                                                                 4308\nNames of Officers Involved (DRAFT)                                                                                                                                            7753\nRace of Officers Involved (DRAFT)                                                                                                                                             8806\nKnown Past Shootings of Officer(s) (DRAFT)                                                                                                                                    9073\nCall for Service? (DRAFT)                                                                                                                                                     5531\nUnnamed: 35                                                                                                                                                                   9147\nUnnamed: 36                                                                                                                                                                   9147\nUnnamed: 37                                                                                                                                                                   9147\nUnnamed: 38                                                                                                                                                                   9147\nUnnamed: 39                                                                                                                                                                   9147\nUnnamed: 40                                                                                                                                                                   9147\nUnnamed: 41                                                                                                                                                                   9147\nUnnamed: 42                                                                                                                                                                   9147\nUnnamed: 43                                                                                                                                                                   9147\nUnnamed: 44                                                                                                                                                                   9147\nUnnamed: 45                                                                                                                                                                   9147\nUnnamed: 46                                                                                                                                                                   9147\nUnnamed: 47                                                                                                                                                                   9147\nUnnamed: 48                                                                                                                                                                   9147\ndtype: int64"
     },
     "metadata": {}
    }
   ],
   "execution_count": 5
  },
  {
   "cell_type": "code",
   "source": "# specify useless columns and what to exclude for counts\nuseless_columns = df.columns[35:]\nexclusions = [\"Victim's name\", \n\"URL of image of victim\", \n\"Date of Incident (month/day/year)\", \n\"Street Address of Incident\", \n\"City\", \"State\", \"Zipcode\", \"County\", \n\"Agency responsible for death\", \"ORI Agency Identifier (if available)\", \n\"A brief description of the circumstances surrounding the death\", \n\"Link to news article or photo of official document\", \n\"Link to news article or photo of official document\", \n\"WaPo ID (If included in WaPo database)\", \n\"MPV ID\", \n\"Fatal Encounters ID\", \n\"Names of Officers Involved (DRAFT)\"]\n\n# getting value counts for specific columns\nfor column in df.columns:\n    if column not in exclusions and column not in useless_columns:\n        print(column.upper())\n        print(df[column].value_counts())\n        print(\"-------------------------------------\")",
   "metadata": {
    "tags": [],
    "cell_id": "00007-9498227c-7548-499d-847d-036c656990b1",
    "deepnote_to_be_reexecuted": false,
    "source_hash": "ea083deb",
    "execution_start": 1621887340209,
    "execution_millis": 38,
    "deepnote_cell_type": "code"
   },
   "outputs": [
    {
     "name": "stdout",
     "text": "VICTIM'S AGE\nUnknown    331\n25         299\n27         294\n31         290\n28         289\n          ... \n88           1\n93           1\n95           1\n107          1\n40s          1\nName: Victim's age, Length: 89, dtype: int64\n-------------------------------------\nVICTIM'S GENDER\nMale           8668\nFemale          453\nTransgender       9\nUnknown           6\nMale              1\nName: Victim's gender, dtype: int64\n-------------------------------------\nVICTIM'S RACE\nWhite                     3993\nBlack                     2306\nHispanic                  1631\nUnknown Race               896\nAsian                      135\nNative American            130\nPacific Islander            52\nUnknown race                 2\nHispanic                     1\nAsian/Pacific Islander       1\nName: Victim's race, dtype: int64\n-------------------------------------\nCAUSE OF DEATH\nGunshot                                    8434\nGunshot, Taser                              273\nTaser                                       250\nVehicle                                      48\nPhysical Restraint                           33\nBeaten                                       31\nTasered                                      21\nPhysical restraint                            9\nAsphyxiated                                   9\nOther                                         6\nGunshot, Police Dog                           5\nGunshot, Pepper Spray                         4\nPepper Spray                                  4\nBean bag                                      2\nTaser, Physical Restraint                     2\nGunshot, Bean Bag Gun                         1\nBeaten/Bludgeoned with instrument             1\nTaser, Pepper spray, beaten                   1\nChemical agent/Pepper spray                   1\nGunshot, Vehicle                              1\nBaton, Pepper Spray, Physical Restraint       1\nGunshot, Taser, Baton                         1\nGunshot, Taser, Pepper spray                  1\nTaser, Beaten                                 1\nTaser, Baton                                  1\nGunshot, Unspecified Less Lethal Weapon       1\nGunshot, Beanbag Gun                          1\nTaser, Pepper Spray, Beaten                   1\nGunshot, Taser, Beanbag Shotgun               1\nBomb                                          1\nGunshot, Stabbed                              1\nName: Cause of death, dtype: int64\n-------------------------------------\nOFFICIAL DISPOSITION OF DEATH (JUSTIFIED OR OTHER)\nPending investigation/No Known Charges                          4852\nUnreported                                                      1223\nPending investigation                                           1087\nJustified                                                        651\nJustified by District Attorney                                   350\n                                                                ... \nCharged with felony negligent homicide, Acquitted                  1\nCharged with 2nd degree murder or first degree manslaughter        1\nMurder/Suicide                                                     1\nCleared by coroner's inquest/Civil suit/Family awarded money       1\nUnjustified by internal review                                     1\nName: Official disposition of death (justified or other), Length: 154, dtype: int64\n-------------------------------------\nCRIMINAL CHARGES?\nNo known charges                                                                 8993\nCharged with a crime                                                               67\nCharged, Acquitted                                                                 32\nCharged, Charges Dropped                                                            7\nCharged, Mistrial                                                                   6\nCharged, Convicted                                                                  5\nCharged, Convicted, Sentenced to life in prison                                     2\nCharged, Convicted, Sentenced to 5 years probation.                                 2\nCharged, Convicted, Sentenced to 30 years in prison                                 2\nCharged, Convicted, Sentenced to 10 years in prison                                 2\nCharged, Convicted, Sentenced to 4 years                                            1\nCharged, Convicted, Sentenced to 1 year in prison and 4 years probation             1\nCharged, Convicted, Sentenced to 25 years in prison                                 1\nCharged, Convicted of assault                                                       1\nCharged, Convicted, Sentenced to 10 Years of Prison                                 1\nCharged, Convicted, Sentenced to 3 years probation                                  1\nCharged, Convicted, Sentenced to 2.5 years in prison                                1\nCharged, Convicted, Sentenced to life in prison without parole, plus 16 years       1\nCharged, Convicted, Sentenced to 40 years to Life in prison                         1\nCharged, Convicted, Sentenced to 3 months in jail                                   1\nCharged, Convicted, Sentenced to 7 years in prison                                  1\nCharged, Convicted, Sentenced to 12 years in prison and 8 years in probation        1\nCharged, Convicted, Sentenced to 18 months                                          1\nCharged, Plead Guilty to Manslaughter, Sentenced to 5 years in prison               1\nCharged, Mistrial, Plead Guilty to Manslaughter                                     1\nCharged, Plead No Contest, Sentenced to 10 years probation                          1\nCharged, Convicted, Sentenced to Life in Prison                                     1\nCharged, Convicted, Sentenced to 40 years in prison                                 1\nCharged, Mistrial, Plead Guilty to Civil Rights Charges                             1\nCharged, Convicted, Sentenced to 5 years in prison                                  1\nCharged, Convicted, Sentenced to 50 years                                           1\nCharged, Convicted, Sentenced to 1 year in jail, 3 years suspended                  1\nCharged, Convicted, Sentenced to 20 years in prison                                 1\nCharged, Convicted, Sentenced to 6 years                                            1\nCharged, Convicted, Sentenced to 1 year in prison                                   1\nCharged, Convicted, Sentenced to 6 years in prison                                  1\nCharged, Convicted, Sentenced to 14 years in prison                                 1\nCharged, Convicted of reckless homicide, sentenced to 1 year in prison              1\nCharged, Convicted, Sentenced to 16 years in prison                                 1\nName: Criminal Charges?, dtype: int64\n-------------------------------------\nSYMPTOMS OF MENTAL ILLNESS?\nNo                         5897\nYes                        1678\nUnknown                    1179\nDrug or alcohol use         326\nDrug or Alcohol Use           2\nunknown                       1\nUnkown                        1\nYes/Drug or alcohol use       1\nUnknown                       1\nName: Symptoms of mental illness?, dtype: int64\n-------------------------------------\nARMED/UNARMED STATUS\nAllegedly Armed                       6552\nUnarmed/Did Not Have Actual Weapon    1212\nUnclear                                764\nVehicle                                594\nAllegedly armed                         24\nUnclear                                  1\nName: Armed/Unarmed Status, dtype: int64\n-------------------------------------\nALLEGED WEAPON (SOURCE: WAPO AND REVIEW OF CASES NOT INCLUDED IN WAPO DATABASE)\ngun                    4814\nknife                  1200\nno object               926\nundetermined            598\nvehicle                 529\n                       ... \ntable leg                 1\nhammer and knife          1\nvehicle and machete       1\nknife, toy                1\nflag pole                 1\nName: Alleged Weapon (Source: WaPo and Review of Cases Not Included in WaPo Database), Length: 176, dtype: int64\n-------------------------------------\nALLEGED THREAT LEVEL (SOURCE: WAPO)\nattack          4332\nother           2052\nundetermined     363\nOther              1\nNone               1\nnone               1\nName: Alleged Threat Level (Source: WaPo), dtype: int64\n-------------------------------------\nFLEEING (SOURCE: WAPO)\nNot fleeing     3794\nCar              963\nFoot             752\nOther            181\nnot fleeing      176\nfoot              65\ncar               51\nNot Fleeing       47\nother             24\nnot fleeing        3\nName: Fleeing (Source: WaPo), dtype: int64\n-------------------------------------\nBODY CAMERA (SOURCE: WAPO)\nNo                    5044\nYes                    615\nno                     261\nyes                     46\nSurveillance Video       5\nBystander Video          4\nDashcam Video            2\nSurveillance video       2\nDashcam video            1\nsurveillance video       1\ncell phone video         1\nName: Body Camera (Source: WaPo), dtype: int64\n-------------------------------------\nOFF-DUTY KILLING?\nOff-Duty    231\nOff-duty     14\noff-duty      3\nName: Off-Duty Killing?, dtype: int64\n-------------------------------------\nGEOGRAPHY (VIA TRULIA METHODOLOGY BASED ON ZIPCODE POPULATION DENSITY: HTTP://JEDKOLKO.COM/WP-CONTENT/UPLOADS/2015/05/FULL-ZCTA-URBAN-SUBURBAN-RURAL-CLASSIFICATION.XLSX )\nSuburban        4550\nUrban           2448\nRural           2043\nUndetermined      81\nName: Geography (via Trulia methodology based on zipcode population density: http://jedkolko.com/wp-content/uploads/2015/05/full-ZCTA-urban-suburban-rural-classification.xlsx ), dtype: int64\n-------------------------------------\nENCOUNTER TYPE (DRAFT)\nPart 1 Violent Crime                                      1283\nOther Non-Violent Offense                                  928\nTraffic Stop                                               497\nMental Health/Welfare Check                                494\nDomestic Disturbance                                       383\n                                                          ... \nPart 1 Violent Crime/Mental Health/Welfare Check             1\nPerson with a Weapon/Mental Health/Welfare Check             1\nDomestic Disturbance-family (unspecified)                    1\nPerson with a Weapon (piece of wood)                         1\nDomestic Distubance-intimate partner (wife) and family       1\nName: Encounter Type (DRAFT), Length: 66, dtype: int64\n-------------------------------------\nINITIAL REPORTED REASON FOR ENCOUNTER (DRAFT)\nTraffic violation                                            237\nShooting                                                     184\ndomestic disturbance                                         152\nDomestic Disturbance-no specific details                     131\ndomestic incident                                             93\n                                                            ... \nWarrant (arrest-assault with deadly weapon)                    1\naggravated robbery                                             1\nrailway officer witnessed a disturbance                        1\nAggravated assault, Domestic Disturbance-intimate partner      1\nattempted to escape custody                                    1\nName: Initial Reported Reason for Encounter (DRAFT), Length: 1475, dtype: int64\n-------------------------------------\nRACE OF OFFICERS INVOLVED (DRAFT)\nWhite                                           148\nWhite, White                                     47\nHispanic                                         24\nBlack                                            13\nWhite, White, White                              13\n                                               ... \nHispanic, Black                                   1\nUnknown, Unknown, White, White                    1\nUnknown, Unknown, Unknown                         1\nUnknown, White, White                             1\nUnknown, Unknown, White, White, Asian, White      1\nName: Race of Officers Involved (DRAFT), Length: 63, dtype: int64\n-------------------------------------\nKNOWN PAST SHOOTINGS OF OFFICER(S) (DRAFT)\n1       50\n2       11\n3        5\nNone     5\n4        2\nNo       1\nName: Known Past Shootings of Officer(s) (DRAFT), dtype: int64\n-------------------------------------\nCALL FOR SERVICE? (DRAFT)\nYes            2257\nNo             1099\nUnavailable     203\nNo               55\nyes               2\nName: Call for Service? (DRAFT), dtype: int64\n-------------------------------------\n",
     "output_type": "stream"
    }
   ],
   "execution_count": 6
  },
  {
   "cell_type": "code",
   "source": "# specify more columns to exclude for univariate distributions\nmore_exclusions = [\"Victim's age\", \n\"Cause of death\", \n\"Official disposition of death (justified or other)\", \n\"Alleged Weapon (Source: WaPo and Review of Cases Not Included in WaPo Database)\", \n\"Encounter Type (DRAFT)\", \n\"Initial Reported Reason for Encounter (DRAFT)\", \n\"Criminal Charges?\",\n\"Race of Officers Involved (DRAFT)\"]\n\n# univariate distributions\nfor column in df.columns:\n    if column not in exclusions and column not in useless_columns and column not in more_exclusions:\n        sns.countplot(x=df[column], data=df, palette = 'dark')\n        plt.xticks(rotation='vertical')\n        plt.show()",
   "metadata": {
    "tags": [],
    "cell_id": "00010-104a0b47-cf17-46a3-b353-8e0a9637a137",
    "deepnote_to_be_reexecuted": false,
    "source_hash": "fb188924",
    "execution_start": 1621887340306,
    "execution_millis": 1708,
    "deepnote_cell_type": "code"
   },
   "outputs": [
    {
     "data": {
      "text/plain": "<Figure size 432x288 with 1 Axes>",
      "image/png": "[encoded data removed]"
     },
     "metadata": {
      "needs_background": "light",
      "image/png": {
       "width": 395,
       "height": 314
      }
     },
     "output_type": "display_data"
    },
    {
     "data": {
      "text/plain": "<Figure size 432x288 with 1 Axes>",
      "image/png": "[encoded data removed]"
     },
     "metadata": {
      "needs_background": "light",
      "image/png": {
       "width": 395,
       "height": 358
      }
     },
     "output_type": "display_data"
    },
    {
     "data": {
      "text/plain": "<Figure size 432x288 with 1 Axes>",
      "image/png": "[encoded data removed]"
     },
     "metadata": {
      "needs_background": "light",
      "image/png": {
       "width": 395,
       "height": 369
      }
     },
     "output_type": "display_data"
    },
    {
     "data": {
      "text/plain": "<Figure size 432x288 with 1 Axes>",
      "image/png": "[encoded data removed]"
     },
     "metadata": {
      "needs_background": "light",
      "image/png": {
       "width": 395,
       "height": 446
      }
     },
     "output_type": "display_data"
    },
    {
     "data": {
      "text/plain": "<Figure size 432x288 with 1 Axes>",
      "image/png": "[encoded data removed]"
     },
     "metadata": {
      "needs_background": "light",
      "image/png": {
       "width": 395,
       "height": 323
      }
     },
     "output_type": "display_data"
    },
    {
     "data": {
      "text/plain": "<Figure size 432x288 with 1 Axes>",
      "image/png": "[encoded data removed]"
     },
     "metadata": {
      "needs_background": "light",
      "image/png": {
       "width": 395,
       "height": 309
      }
     },
     "output_type": "display_data"
    },
    {
     "data": {
      "text/plain": "<Figure size 432x288 with 1 Axes>",
      "image/png": "[encoded data removed]"
     },
     "metadata": {
      "needs_background": "light",
      "image/png": {
       "width": 395,
       "height": 345
      }
     },
     "output_type": "display_data"
    },
    {
     "data": {
      "text/plain": "<Figure size 432x288 with 1 Axes>",
      "image/png": "[encoded data removed]"
     },
     "metadata": {
      "needs_background": "light",
      "image/png": {
       "width": 389,
       "height": 294
      }
     },
     "output_type": "display_data"
    },
    {
     "data": {
      "text/plain": "<Figure size 432x288 with 1 Axes>",
      "image/png": "[encoded data removed]"
     },
     "metadata": {
      "needs_background": "light",
      "image/png": {
       "width": 882,
       "height": 324
      }
     },
     "output_type": "display_data"
    },
    {
     "data": {
      "text/plain": "<Figure size 432x288 with 1 Axes>",
      "image/png": "[encoded data removed]"
     },
     "metadata": {
      "needs_background": "light",
      "image/png": {
       "width": 382,
       "height": 278
      }
     },
     "output_type": "display_data"
    },
    {
     "data": {
      "text/plain": "<Figure size 432x288 with 1 Axes>",
      "image/png": "[encoded data removed]"
     },
     "metadata": {
      "needs_background": "light",
      "image/png": {
       "width": 395,
       "height": 311
      }
     },
     "output_type": "display_data"
    }
   ],
   "execution_count": 7
  },
  {
   "cell_type": "markdown",
   "source": "### Takeaways\n- There are a couple of unnecessary columns (begin with `Unnamed:`).\n- Messy column names need to be renamed for better readability.\n- A lot of columns are not needed due to nulls/unusable and will need to be dropped. \n- Most values in each column have a wide variety of text variation. These should be lowercased, stripped, grouped. \n- Many nulls in dataset that need to be filled in or dropped.\n- Dummy variables and encoding needs to be done to pretty much all of the dataset in order to model/evaluate. \n- Possibly a good idea to create age bins.\n- Possible exploration with time series, so will be setting datetime index.\n",
   "metadata": {
    "tags": [],
    "cell_id": "00010-1aaa847d-4e04-4419-a1a1-f29e614ce4be",
    "deepnote_cell_type": "markdown"
   }
  },
  {
   "cell_type": "markdown",
   "source": "***\n# Data Preparation",
   "metadata": {
    "tags": [],
    "cell_id": "00011-d80a9551-aac5-413c-94c2-b7804d6a3f9e",
    "deepnote_cell_type": "markdown"
   }
  },
  {
   "cell_type": "markdown",
   "source": "<a style='text-decoration:none;line-height:16px;display:flex;color:#5B5B62;padding:10px;justify-content:end;' href='https://deepnote.com?utm_source=created-in-deepnote-cell&projectId=258e71fc-cf2b-48c3-8461-70ecd9787aa1' target=\"_blank\">\n<img alt='Created in deepnote.com' style='display:inline;max-height:16px;margin:0px;margin-right:7.5px;' src='data:image/svg+xml;base64,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' > </img>\nCreated in <span style='font-weight:600;margin-left:4px;'>Deepnote</span></a>",
   "metadata": {
    "tags": [],
    "created_in_deepnote_cell": true,
    "deepnote_cell_type": "markdown"
   }
  }
 ],
 "nbformat": 4,
 "nbformat_minor": 2,
 "metadata": {
  "orig_nbformat": 2,
  "deepnote": {
   "is_reactive": false
  },
  "deepnote_notebook_id": "55e3a4b4-9067-4764-ab0a-e03d7a3f0108",
  "deepnote_execution_queue": []
 }
}